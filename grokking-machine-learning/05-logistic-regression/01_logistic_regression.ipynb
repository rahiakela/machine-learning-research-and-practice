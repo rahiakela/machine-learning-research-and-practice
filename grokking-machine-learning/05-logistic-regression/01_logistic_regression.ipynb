{
  "nbformat": 4,
  "nbformat_minor": 0,
  "metadata": {
    "colab": {
      "name": "01-logistic-regression.ipynb",
      "provenance": [],
      "toc_visible": true,
      "authorship_tag": "ABX9TyOmHKDW8fRWLry3Y7Ta1cqD",
      "include_colab_link": true
    },
    "kernelspec": {
      "name": "python3",
      "display_name": "Python 3"
    },
    "language_info": {
      "name": "python"
    }
  },
  "cells": [
    {
      "cell_type": "markdown",
      "metadata": {
        "id": "view-in-github",
        "colab_type": "text"
      },
      "source": [
        "<a href=\"https://colab.research.google.com/github/rahiakela/machine-learning-research-and-practice/blob/main/grokking-machine-learning/05-logistic-regression/01_logistic_regression.ipynb\" target=\"_parent\"><img src=\"https://colab.research.google.com/assets/colab-badge.svg\" alt=\"Open In Colab\"/></a>"
      ]
    },
    {
      "cell_type": "markdown",
      "source": [
        "##Logistic Regression"
      ],
      "metadata": {
        "id": "R2qvSgZaw1fT"
      }
    },
    {
      "cell_type": "markdown",
      "source": [
        "Let's develop the Logistic Regression for our sentiment analysis application.\n",
        "\n",
        "First we’ll write the code from scratch to fit our original dataset,\n",
        "and then we’ll use Turi Create. \n",
        "\n",
        "In real life, we always use a package and have little need to code our\n",
        "own algorithms."
      ],
      "metadata": {
        "id": "aI-qMbrtxAJ4"
      }
    },
    {
      "cell_type": "markdown",
      "source": [
        "##Setup"
      ],
      "metadata": {
        "id": "tuYDtYyVy1Qo"
      }
    },
    {
      "cell_type": "code",
      "source": [
        "!pip -q install turicreate"
      ],
      "metadata": {
        "id": "E26OpbLs1K5H"
      },
      "execution_count": null,
      "outputs": []
    },
    {
      "cell_type": "code",
      "source": [
        "import pandas as pd\n",
        "import numpy as np\n",
        "import random\n",
        "import matplotlib.pyplot as plt\n",
        "\n",
        "import turicreate as tc\n",
        "\n",
        "random.seed(0)"
      ],
      "metadata": {
        "id": "idY6aIXsyx0f"
      },
      "execution_count": 2,
      "outputs": []
    },
    {
      "cell_type": "code",
      "source": [
        "# Some functions to plot our points and draw the lines\n",
        "def plot_points(features, labels):\n",
        "    X = np.array(features)\n",
        "    y = np.array(labels)\n",
        "    spam = X[np.argwhere(y==1)]\n",
        "    ham = X[np.argwhere(y==0)]\n",
        "    plt.scatter([s[0][0] for s in spam],\n",
        "                   [s[0][1] for s in spam],\n",
        "                   s = 100,\n",
        "                   color = 'cyan',\n",
        "                   edgecolor = 'k',\n",
        "                   marker = '^')\n",
        "    plt.scatter([s[0][0] for s in ham],\n",
        "                   [s[0][1] for s in ham],\n",
        "                   s = 100,\n",
        "                   color = 'red',\n",
        "                   edgecolor = 'k',\n",
        "                   marker = 's')\n",
        "    plt.xlabel('aack')\n",
        "    plt.ylabel('beep')\n",
        "    plt.legend(['happy','sad'])\n",
        "    \n",
        "def draw_line(a,b,c, starting=0, ending=3, **kwargs):\n",
        "    # Plotting the line ax + by + c = 0\n",
        "    x = np.linspace(starting, ending, 1000)\n",
        "    plt.plot(x, -c/b - a*x/b, **kwargs)"
      ],
      "metadata": {
        "id": "qR7fAlyufZr0"
      },
      "execution_count": 3,
      "outputs": []
    },
    {
      "cell_type": "markdown",
      "source": [
        "##Defining dataset"
      ],
      "metadata": {
        "id": "ytLwhBiHy3h6"
      }
    },
    {
      "cell_type": "markdown",
      "source": [
        "Let’s begin by defining our dataset as a NumPy array. The features correspond to two numbers\n",
        "corresponding to the appearances of aack and beep. \n",
        "\n",
        "The labels are 1 for the happy sentences and\n",
        "0 for the sad ones."
      ],
      "metadata": {
        "id": "BuLRuYg8y7Ym"
      }
    },
    {
      "cell_type": "code",
      "source": [
        "features = np.array([[1,0],[0,2],[1,1],[1,2],[1,3],[2,2],[2,3],[3,2]])\n",
        "labels = np.array([0,0,0,0,1,1,1,1])"
      ],
      "metadata": {
        "id": "D6b_Ssg3xxFD"
      },
      "execution_count": 4,
      "outputs": []
    },
    {
      "cell_type": "code",
      "source": [
        "# Plotting the points\n",
        "plot_points(features, labels)"
      ],
      "metadata": {
        "id": "majwWTVAyBej",
        "colab": {
          "base_uri": "https://localhost:8080/",
          "height": 279
        },
        "outputId": "ba5fac73-ae07-4a2d-97d7-b230f6a407fd"
      },
      "execution_count": 5,
      "outputs": [
        {
          "output_type": "display_data",
          "data": {
            "text/plain": [
              "<Figure size 432x288 with 1 Axes>"
            ],
            "image/png": "[encoded data removed]"
          },
          "metadata": {
            "needs_background": "light"
          }
        }
      ]
    },
    {
      "cell_type": "markdown",
      "source": [
        "##Logistic regression"
      ],
      "metadata": {
        "id": "WPSUrZrnzKUX"
      }
    },
    {
      "cell_type": "markdown",
      "source": [
        "We will use the logistic trick and the logistic regression algorithm by\n",
        "hand. More generally, we’ll code the logistic regression algorithm for a dataset with $n$ weights.\n",
        "\n",
        "* Features: $x_1, X_2, ..., x_n$\n",
        "* Label: $y$\n",
        "* Weights: $w_1, w_2, ..., w_n$\n",
        "* Bias: $b$\n",
        "\n",
        "The score for a particular sentence is the sigmoid of the sum of the weight of each word ($w_i$) times the number of times that appears ($x_i$), plus the bias ($b$).\n",
        "\n",
        "$$ \\sum_{i=1}^n a_i = a_1 + a_2 + ... + a_n $$\n",
        "\n",
        "* Prediction: $\\hat y = \\sigma(w_1x_1+w_2x_2+...+w_nx_n + b) = \\sigma(\\sum_{i=1}^n w_ix_i +b)$\n",
        "\n",
        "\n",
        "\n",
        "We start by coding the sigmoid function and the prediction.\n",
        "\n",
        "$$ \\sigma(x) = \\frac{1}{1+e^{-x}} $$"
      ],
      "metadata": {
        "id": "59dU_28Mq_HR"
      }
    },
    {
      "cell_type": "code",
      "source": [
        "def sigmoid(x):\n",
        "  return np.exp(x) / (1 + np.exp(x))"
      ],
      "metadata": {
        "id": "T-yyUdU8rSQb"
      },
      "execution_count": 6,
      "outputs": []
    },
    {
      "cell_type": "markdown",
      "source": [
        "For the score function, we use the dot product between the features and the weights."
      ],
      "metadata": {
        "id": "eO2kYr4frQuR"
      }
    },
    {
      "cell_type": "code",
      "source": [
        "def score(weights, bias, features):\n",
        "  return np.dot(weights, features) + bias"
      ],
      "metadata": {
        "id": "wVboOWRYrRoh"
      },
      "execution_count": 7,
      "outputs": []
    },
    {
      "cell_type": "markdown",
      "source": [
        "Finally, recall that the prediction is the sigmoid activation function applied to the score."
      ],
      "metadata": {
        "id": "69XF8lWfUDxB"
      }
    },
    {
      "cell_type": "code",
      "source": [
        "def prediction(weights, bias, features):\n",
        "  return sigmoid(score(weights, bias, features))"
      ],
      "metadata": {
        "id": "v_uYU0vUUHkD"
      },
      "execution_count": 8,
      "outputs": []
    },
    {
      "cell_type": "markdown",
      "source": [
        "Now that we have the prediction, we can proceed to the log loss.\n",
        "\n",
        "$$ log \\space loss = -y\\log(\\hat y)-(1-y) \\log(1-\\hat y)$$"
      ],
      "metadata": {
        "id": "ETmEyDgSrg2w"
      }
    },
    {
      "cell_type": "code",
      "source": [
        "def log_loss(weights, bias, features, label):\n",
        "  pred = 1.0 * prediction(weights, bias, features)\n",
        "  return -label * np.log(pred) - (1 - label) * np.log(1 - pred)"
      ],
      "metadata": {
        "id": "GiuHGT1fpesH"
      },
      "execution_count": 9,
      "outputs": []
    },
    {
      "cell_type": "markdown",
      "source": [
        "We need the log loss over the whole dataset."
      ],
      "metadata": {
        "id": "0o6M-gYwryf6"
      }
    },
    {
      "cell_type": "code",
      "source": [
        "def total_log_loss(weights, bias, features, labels):\n",
        "  total_error = 0\n",
        "  for i in range(len(features)):\n",
        "    total_error += log_loss(weights, bias, features[i], labels[i])\n",
        "  return total_error / len(features)"
      ],
      "metadata": {
        "id": "nAhuJE5iry8X"
      },
      "execution_count": 10,
      "outputs": []
    },
    {
      "cell_type": "markdown",
      "source": [
        "Now we are ready to code the logistic regression trick, and the logistic regression algorithm."
      ],
      "metadata": {
        "id": "tihQzqc-sL25"
      }
    },
    {
      "cell_type": "code",
      "source": [
        "def logistic_trick(weights, bias, features, label, learning_rate =0.01):\n",
        "  pred = prediction(weights, bias, features)\n",
        "  for i in range(len(weights)):\n",
        "    weights[i] += (label - pred) * features[i] * learning_rate\n",
        "    bias += (label - pred) * learning_rate\n",
        "  return weights, bias"
      ],
      "metadata": {
        "id": "-cbeMK2wr_AT"
      },
      "execution_count": 11,
      "outputs": []
    },
    {
      "cell_type": "code",
      "source": [
        "random.seed(0)\n",
        "\n",
        "def logistic_regression_algorithm(features, labels, learning_rate=0.01, epochs=1000):\n",
        "  plot_points(features, labels)\n",
        "\n",
        "  weights = [1.0 for i in range(len(features[0]))]\n",
        "  bias = 0.0\n",
        "  errors = []\n",
        "\n",
        "  for epoch in range(epochs):\n",
        "    #  remove the plots of all the classifiers\n",
        "    draw_line(weights[0], weights[1], bias, color='grey', linewidth=1.0, linestyle='dotted')\n",
        "\n",
        "    error = total_log_loss(weights, bias, features, labels)\n",
        "    errors.append(error)\n",
        "    i = random.randint(0, len(features) - 1)\n",
        "    weights, bias = logistic_trick(weights, bias, features[i], labels[i])\n",
        "\n",
        "  draw_line(weights[0], weights[1], bias)\n",
        "  plt.show()\n",
        "  plt.scatter(range(epochs), errors)\n",
        "  plt.xlabel(\"epochs\")\n",
        "  plt.ylabel(\"error\")\n",
        "  return weights, bias"
      ],
      "metadata": {
        "id": "a_IHbsIru4jA"
      },
      "execution_count": 13,
      "outputs": []
    },
    {
      "cell_type": "markdown",
      "source": [
        "Now we can run the logistic regression algorithm to build a logistic classifier."
      ],
      "metadata": {
        "id": "QjIqZ-JoxJZW"
      }
    },
    {
      "cell_type": "code",
      "source": [
        "logistic_regression_algorithm(features, labels)"
      ],
      "metadata": {
        "id": "dg6gbzHhxJ9b",
        "outputId": "f0327b01-2671-4096-faa8-d5ed22569849",
        "colab": {
          "base_uri": "https://localhost:8080/",
          "height": 558
        }
      },
      "execution_count": 14,
      "outputs": [
        {
          "output_type": "display_data",
          "data": {
            "text/plain": [
              "<Figure size 432x288 with 1 Axes>"
            ],
            "image/png": "[encoded data removed]"
          },
          "metadata": {
            "needs_background": "light"
          }
        },
        {
          "output_type": "execute_result",
          "data": {
            "text/plain": [
              "([1.1229291748186512, 0.6842119662568162], -2.349052503259141)"
            ]
          },
          "metadata": {},
          "execution_count": 14
        },
        {
          "output_type": "display_data",
          "data": {
            "text/plain": [
              "<Figure size 432x288 with 1 Axes>"
            ],
            "image/png": "[encoded data removed]"
          },
          "metadata": {
            "needs_background": "light"
          }
        }
      ]
    },
    {
      "cell_type": "markdown",
      "source": [
        "##Logistic regression using Turi Create"
      ],
      "metadata": {
        "id": "ydmm6l9BxhgD"
      }
    },
    {
      "cell_type": "markdown",
      "source": [
        "Let's create an SFrame with our data from a dictionary."
      ],
      "metadata": {
        "id": "YOmWP7IgzLib"
      }
    },
    {
      "cell_type": "code",
      "source": [
        "data_dict = {\n",
        "    \"x1\": features[:, 0],\n",
        "    \"x2\": features[:, 1],\n",
        "    \"y\": labels\n",
        "}\n",
        "\n",
        "data = tc.SFrame(data_dict)\n",
        "data"
      ],
      "metadata": {
        "id": "MJVvaMnJzhGA",
        "outputId": "68853ed6-b132-4f3c-dd8f-9ea4a951806b",
        "colab": {
          "base_uri": "https://localhost:8080/",
          "height": 211
        }
      },
      "execution_count": 15,
      "outputs": [
        {
          "output_type": "execute_result",
          "data": {
            "text/plain": [
              "Columns:\n",
              "\tx1\tint\n",
              "\tx2\tint\n",
              "\ty\tint\n",
              "\n",
              "Rows: 8\n",
              "\n",
              "Data:\n",
              "+----+----+---+\n",
              "| x1 | x2 | y |\n",
              "+----+----+---+\n",
              "| 1  | 0  | 0 |\n",
              "| 0  | 2  | 0 |\n",
              "| 1  | 1  | 0 |\n",
              "| 1  | 2  | 0 |\n",
              "| 1  | 3  | 1 |\n",
              "| 2  | 2  | 1 |\n",
              "| 2  | 3  | 1 |\n",
              "| 3  | 2  | 1 |\n",
              "+----+----+---+\n",
              "[8 rows x 3 columns]"
            ],
            "text/html": [
              "<div style=\"max-height:1000px;max-width:1500px;overflow:auto;\"><table frame=\"box\" rules=\"cols\">\n",
              "    <tr>\n",
              "        <th style=\"padding-left: 1em; padding-right: 1em; text-align: center\">x1</th>\n",
              "        <th style=\"padding-left: 1em; padding-right: 1em; text-align: center\">x2</th>\n",
              "        <th style=\"padding-left: 1em; padding-right: 1em; text-align: center\">y</th>\n",
              "    </tr>\n",
              "    <tr>\n",
              "        <td style=\"padding-left: 1em; padding-right: 1em; text-align: center; vertical-align: top\">1</td>\n",
              "        <td style=\"padding-left: 1em; padding-right: 1em; text-align: center; vertical-align: top\">0</td>\n",
              "        <td style=\"padding-left: 1em; padding-right: 1em; text-align: center; vertical-align: top\">0</td>\n",
              "    </tr>\n",
              "    <tr>\n",
              "        <td style=\"padding-left: 1em; padding-right: 1em; text-align: center; vertical-align: top\">0</td>\n",
              "        <td style=\"padding-left: 1em; padding-right: 1em; text-align: center; vertical-align: top\">2</td>\n",
              "        <td style=\"padding-left: 1em; padding-right: 1em; text-align: center; vertical-align: top\">0</td>\n",
              "    </tr>\n",
              "    <tr>\n",
              "        <td style=\"padding-left: 1em; padding-right: 1em; text-align: center; vertical-align: top\">1</td>\n",
              "        <td style=\"padding-left: 1em; padding-right: 1em; text-align: center; vertical-align: top\">1</td>\n",
              "        <td style=\"padding-left: 1em; padding-right: 1em; text-align: center; vertical-align: top\">0</td>\n",
              "    </tr>\n",
              "    <tr>\n",
              "        <td style=\"padding-left: 1em; padding-right: 1em; text-align: center; vertical-align: top\">1</td>\n",
              "        <td style=\"padding-left: 1em; padding-right: 1em; text-align: center; vertical-align: top\">2</td>\n",
              "        <td style=\"padding-left: 1em; padding-right: 1em; text-align: center; vertical-align: top\">0</td>\n",
              "    </tr>\n",
              "    <tr>\n",
              "        <td style=\"padding-left: 1em; padding-right: 1em; text-align: center; vertical-align: top\">1</td>\n",
              "        <td style=\"padding-left: 1em; padding-right: 1em; text-align: center; vertical-align: top\">3</td>\n",
              "        <td style=\"padding-left: 1em; padding-right: 1em; text-align: center; vertical-align: top\">1</td>\n",
              "    </tr>\n",
              "    <tr>\n",
              "        <td style=\"padding-left: 1em; padding-right: 1em; text-align: center; vertical-align: top\">2</td>\n",
              "        <td style=\"padding-left: 1em; padding-right: 1em; text-align: center; vertical-align: top\">2</td>\n",
              "        <td style=\"padding-left: 1em; padding-right: 1em; text-align: center; vertical-align: top\">1</td>\n",
              "    </tr>\n",
              "    <tr>\n",
              "        <td style=\"padding-left: 1em; padding-right: 1em; text-align: center; vertical-align: top\">2</td>\n",
              "        <td style=\"padding-left: 1em; padding-right: 1em; text-align: center; vertical-align: top\">3</td>\n",
              "        <td style=\"padding-left: 1em; padding-right: 1em; text-align: center; vertical-align: top\">1</td>\n",
              "    </tr>\n",
              "    <tr>\n",
              "        <td style=\"padding-left: 1em; padding-right: 1em; text-align: center; vertical-align: top\">3</td>\n",
              "        <td style=\"padding-left: 1em; padding-right: 1em; text-align: center; vertical-align: top\">2</td>\n",
              "        <td style=\"padding-left: 1em; padding-right: 1em; text-align: center; vertical-align: top\">1</td>\n",
              "    </tr>\n",
              "</table>\n",
              "[8 rows x 3 columns]<br/>\n",
              "</div>"
            ]
          },
          "metadata": {},
          "execution_count": 15
        }
      ]
    },
    {
      "cell_type": "markdown",
      "source": [
        "Next, we create and train our perceptron classifier, using the `logistic_classifier` object and\n",
        "the create method."
      ],
      "metadata": {
        "id": "qjE5Pb5-pKK6"
      }
    },
    {
      "cell_type": "code",
      "source": [
        "classifier = tc.logistic_classifier.create(data, \n",
        "                                           features=[\"x1\", \"x2\"],\n",
        "                                           target=\"y\",\n",
        "                                           validation_set=None)"
      ],
      "metadata": {
        "colab": {
          "base_uri": "https://localhost:8080/",
          "height": 329
        },
        "id": "oEcbjGHoz6_5",
        "outputId": "0e8c07fe-7f74-45fe-9b7b-2b38e1e3cd56"
      },
      "execution_count": 16,
      "outputs": [
        {
          "output_type": "display_data",
          "data": {
            "text/plain": [
              "Logistic regression:"
            ],
            "text/html": [
              "<pre>Logistic regression:</pre>"
            ]
          },
          "metadata": {}
        },
        {
          "output_type": "display_data",
          "data": {
            "text/plain": [
              "--------------------------------------------------------"
            ],
            "text/html": [
              "<pre>--------------------------------------------------------</pre>"
            ]
          },
          "metadata": {}
        },
        {
          "output_type": "display_data",
          "data": {
            "text/plain": [
              "Number of examples          : 8"
            ],
            "text/html": [
              "<pre>Number of examples          : 8</pre>"
            ]
          },
          "metadata": {}
        },
        {
          "output_type": "display_data",
          "data": {
            "text/plain": [
              "Number of classes           : 2"
            ],
            "text/html": [
              "<pre>Number of classes           : 2</pre>"
            ]
          },
          "metadata": {}
        },
        {
          "output_type": "display_data",
          "data": {
            "text/plain": [
              "Number of feature columns   : 2"
            ],
            "text/html": [
              "<pre>Number of feature columns   : 2</pre>"
            ]
          },
          "metadata": {}
        },
        {
          "output_type": "display_data",
          "data": {
            "text/plain": [
              "Number of unpacked features : 2"
            ],
            "text/html": [
              "<pre>Number of unpacked features : 2</pre>"
            ]
          },
          "metadata": {}
        },
        {
          "output_type": "display_data",
          "data": {
            "text/plain": [
              "Number of coefficients      : 3"
            ],
            "text/html": [
              "<pre>Number of coefficients      : 3</pre>"
            ]
          },
          "metadata": {}
        },
        {
          "output_type": "display_data",
          "data": {
            "text/plain": [
              "Starting Newton Method"
            ],
            "text/html": [
              "<pre>Starting Newton Method</pre>"
            ]
          },
          "metadata": {}
        },
        {
          "output_type": "display_data",
          "data": {
            "text/plain": [
              "--------------------------------------------------------"
            ],
            "text/html": [
              "<pre>--------------------------------------------------------</pre>"
            ]
          },
          "metadata": {}
        },
        {
          "output_type": "display_data",
          "data": {
            "text/plain": [
              "+-----------+----------+--------------+-------------------+"
            ],
            "text/html": [
              "<pre>+-----------+----------+--------------+-------------------+</pre>"
            ]
          },
          "metadata": {}
        },
        {
          "output_type": "display_data",
          "data": {
            "text/plain": [
              "| Iteration | Passes   | Elapsed Time | Training Accuracy |"
            ],
            "text/html": [
              "<pre>| Iteration | Passes   | Elapsed Time | Training Accuracy |</pre>"
            ]
          },
          "metadata": {}
        },
        {
          "output_type": "display_data",
          "data": {
            "text/plain": [
              "+-----------+----------+--------------+-------------------+"
            ],
            "text/html": [
              "<pre>+-----------+----------+--------------+-------------------+</pre>"
            ]
          },
          "metadata": {}
        },
        {
          "output_type": "display_data",
          "data": {
            "text/plain": [
              "| 1         | 2        | 1.001187     | 1.000000          |"
            ],
            "text/html": [
              "<pre>| 1         | 2        | 1.001187     | 1.000000          |</pre>"
            ]
          },
          "metadata": {}
        },
        {
          "output_type": "display_data",
          "data": {
            "text/plain": [
              "| 2         | 3        | 1.002018     | 1.000000          |"
            ],
            "text/html": [
              "<pre>| 2         | 3        | 1.002018     | 1.000000          |</pre>"
            ]
          },
          "metadata": {}
        },
        {
          "output_type": "display_data",
          "data": {
            "text/plain": [
              "| 3         | 4        | 1.002306     | 1.000000          |"
            ],
            "text/html": [
              "<pre>| 3         | 4        | 1.002306     | 1.000000          |</pre>"
            ]
          },
          "metadata": {}
        },
        {
          "output_type": "display_data",
          "data": {
            "text/plain": [
              "| 4         | 5        | 1.002519     | 1.000000          |"
            ],
            "text/html": [
              "<pre>| 4         | 5        | 1.002519     | 1.000000          |</pre>"
            ]
          },
          "metadata": {}
        },
        {
          "output_type": "display_data",
          "data": {
            "text/plain": [
              "+-----------+----------+--------------+-------------------+"
            ],
            "text/html": [
              "<pre>+-----------+----------+--------------+-------------------+</pre>"
            ]
          },
          "metadata": {}
        },
        {
          "output_type": "display_data",
          "data": {
            "text/plain": [
              "SUCCESS: Optimal solution found."
            ],
            "text/html": [
              "<pre>SUCCESS: Optimal solution found.</pre>"
            ]
          },
          "metadata": {}
        },
        {
          "output_type": "display_data",
          "data": {
            "text/plain": [
              ""
            ],
            "text/html": [
              "<pre></pre>"
            ]
          },
          "metadata": {}
        }
      ]
    },
    {
      "cell_type": "markdown",
      "source": [
        "Finally, we can look at the weights and bias of the model."
      ],
      "metadata": {
        "id": "_ZSzieMj3NY4"
      }
    },
    {
      "cell_type": "code",
      "source": [
        "classifier.coefficients"
      ],
      "metadata": {
        "id": "bzp-iALO1gwm",
        "outputId": "0b621610-2a3f-4823-8412-34e8233912d4",
        "colab": {
          "base_uri": "https://localhost:8080/",
          "height": 114
        }
      },
      "execution_count": 17,
      "outputs": [
        {
          "output_type": "execute_result",
          "data": {
            "text/plain": [
              "Columns:\n",
              "\tname\tstr\n",
              "\tindex\tstr\n",
              "\tclass\tint\n",
              "\tvalue\tfloat\n",
              "\tstderr\tfloat\n",
              "\n",
              "Rows: 3\n",
              "\n",
              "Data:\n",
              "+-------------+-------+-------+--------------------+--------------------+\n",
              "|     name    | index | class |       value        |       stderr       |\n",
              "+-------------+-------+-------+--------------------+--------------------+\n",
              "| (intercept) |  None |   1   | -8.959708265685023 | 6.844844514902371  |\n",
              "|      x1     |  None |   1   | 2.972553703911967  | 2.6977310191336046 |\n",
              "|      x2     |  None |   1   | 2.498635186535742  | 2.455296103059146  |\n",
              "+-------------+-------+-------+--------------------+--------------------+\n",
              "[3 rows x 5 columns]"
            ],
            "text/html": [
              "<div style=\"max-height:1000px;max-width:1500px;overflow:auto;\"><table frame=\"box\" rules=\"cols\">\n",
              "    <tr>\n",
              "        <th style=\"padding-left: 1em; padding-right: 1em; text-align: center\">name</th>\n",
              "        <th style=\"padding-left: 1em; padding-right: 1em; text-align: center\">index</th>\n",
              "        <th style=\"padding-left: 1em; padding-right: 1em; text-align: center\">class</th>\n",
              "        <th style=\"padding-left: 1em; padding-right: 1em; text-align: center\">value</th>\n",
              "        <th style=\"padding-left: 1em; padding-right: 1em; text-align: center\">stderr</th>\n",
              "    </tr>\n",
              "    <tr>\n",
              "        <td style=\"padding-left: 1em; padding-right: 1em; text-align: center; vertical-align: top\">(intercept)</td>\n",
              "        <td style=\"padding-left: 1em; padding-right: 1em; text-align: center; vertical-align: top\">None</td>\n",
              "        <td style=\"padding-left: 1em; padding-right: 1em; text-align: center; vertical-align: top\">1</td>\n",
              "        <td style=\"padding-left: 1em; padding-right: 1em; text-align: center; vertical-align: top\">-8.959708265685023</td>\n",
              "        <td style=\"padding-left: 1em; padding-right: 1em; text-align: center; vertical-align: top\">6.844844514902371</td>\n",
              "    </tr>\n",
              "    <tr>\n",
              "        <td style=\"padding-left: 1em; padding-right: 1em; text-align: center; vertical-align: top\">x1</td>\n",
              "        <td style=\"padding-left: 1em; padding-right: 1em; text-align: center; vertical-align: top\">None</td>\n",
              "        <td style=\"padding-left: 1em; padding-right: 1em; text-align: center; vertical-align: top\">1</td>\n",
              "        <td style=\"padding-left: 1em; padding-right: 1em; text-align: center; vertical-align: top\">2.972553703911967</td>\n",
              "        <td style=\"padding-left: 1em; padding-right: 1em; text-align: center; vertical-align: top\">2.6977310191336046</td>\n",
              "    </tr>\n",
              "    <tr>\n",
              "        <td style=\"padding-left: 1em; padding-right: 1em; text-align: center; vertical-align: top\">x2</td>\n",
              "        <td style=\"padding-left: 1em; padding-right: 1em; text-align: center; vertical-align: top\">None</td>\n",
              "        <td style=\"padding-left: 1em; padding-right: 1em; text-align: center; vertical-align: top\">1</td>\n",
              "        <td style=\"padding-left: 1em; padding-right: 1em; text-align: center; vertical-align: top\">2.498635186535742</td>\n",
              "        <td style=\"padding-left: 1em; padding-right: 1em; text-align: center; vertical-align: top\">2.455296103059146</td>\n",
              "    </tr>\n",
              "</table>\n",
              "[3 rows x 5 columns]<br/>\n",
              "</div>"
            ]
          },
          "metadata": {},
          "execution_count": 17
        }
      ]
    },
    {
      "cell_type": "markdown",
      "source": [
        "Let's draw the desision boundry."
      ],
      "metadata": {
        "id": "ljI8xgxCNRD3"
      }
    },
    {
      "cell_type": "code",
      "source": [
        "intercept, w1, w2 = classifier.coefficients[\"value\"]\n",
        "\n",
        "plot_points(features, labels)\n",
        "draw_line(w1, w2, intercept)"
      ],
      "metadata": {
        "id": "Fj2gBX-3Mpj8",
        "outputId": "d089c048-1070-4414-abde-6f49c6919978",
        "colab": {
          "base_uri": "https://localhost:8080/",
          "height": 279
        }
      },
      "execution_count": 20,
      "outputs": [
        {
          "output_type": "display_data",
          "data": {
            "text/plain": [
              "<Figure size 432x288 with 1 Axes>"
            ],
            "image/png": "[encoded data removed]"
          },
          "metadata": {
            "needs_background": "light"
          }
        }
      ]
    }
  ]
}