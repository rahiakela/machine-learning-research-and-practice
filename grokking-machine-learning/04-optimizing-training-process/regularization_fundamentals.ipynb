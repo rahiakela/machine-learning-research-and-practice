{
  "nbformat": 4,
  "nbformat_minor": 0,
  "metadata": {
    "colab": {
      "name": "regularization-fundamentals.ipynb",
      "provenance": [],
      "toc_visible": true,
      "authorship_tag": "ABX9TyOImZez03ktn/+6knNZu7KN",
      "include_colab_link": true
    },
    "kernelspec": {
      "name": "python3",
      "display_name": "Python 3"
    },
    "language_info": {
      "name": "python"
    }
  },
  "cells": [
    {
      "cell_type": "markdown",
      "metadata": {
        "id": "view-in-github",
        "colab_type": "text"
      },
      "source": [
        "<a href=\"https://colab.research.google.com/github/rahiakela/machine-learning-research-and-practice/blob/main/grokking-machine-learning/04-optimizing-training-process/regularization_fundamentals.ipynb\" target=\"_parent\"><img src=\"https://colab.research.google.com/assets/colab-badge.svg\" alt=\"Open In Colab\"/></a>"
      ]
    },
    {
      "cell_type": "markdown",
      "source": [
        "##Regularization Fundamentals"
      ],
      "metadata": {
        "id": "R2qvSgZaw1fT"
      }
    },
    {
      "cell_type": "markdown",
      "source": [
        "In this notebook, we see an example of polynomial regression with regularization in Turi Create.\n"
      ],
      "metadata": {
        "id": "aI-qMbrtxAJ4"
      }
    },
    {
      "cell_type": "markdown",
      "source": [
        "##Setup"
      ],
      "metadata": {
        "id": "tuYDtYyVy1Qo"
      }
    },
    {
      "cell_type": "code",
      "source": [
        "!pip -q install turicreate"
      ],
      "metadata": {
        "id": "E26OpbLs1K5H"
      },
      "execution_count": null,
      "outputs": []
    },
    {
      "cell_type": "code",
      "source": [
        "import pandas as pd\n",
        "import numpy as np\n",
        "import random\n",
        "import matplotlib.pyplot as plt\n",
        "\n",
        "import turicreate as tc\n",
        "\n",
        "random.seed(0)"
      ],
      "metadata": {
        "id": "idY6aIXsyx0f"
      },
      "execution_count": 13,
      "outputs": []
    },
    {
      "cell_type": "markdown",
      "source": [
        "##Polynomial function"
      ],
      "metadata": {
        "id": "ytLwhBiHy3h6"
      }
    },
    {
      "cell_type": "markdown",
      "source": [
        "\n",
        "First, let's define a polynomial function.\n",
        "\n",
        "$$ y = x^2 + x + 15$$"
      ],
      "metadata": {
        "id": "BuLRuYg8y7Ym"
      }
    },
    {
      "cell_type": "code",
      "source": [
        "coefs = [15, 1, -1]"
      ],
      "metadata": {
        "id": "D6b_Ssg3xxFD"
      },
      "execution_count": 1,
      "outputs": []
    },
    {
      "cell_type": "code",
      "source": [
        "def polynomial(coefs, x):\n",
        "  n = len(coefs)\n",
        "  return sum([coefs[i] * x ** i for i in range(n)])"
      ],
      "metadata": {
        "id": "majwWTVAyBej"
      },
      "execution_count": 2,
      "outputs": []
    },
    {
      "cell_type": "code",
      "source": [
        "def draw_polynomial(coefs):\n",
        "  n = len(coefs)\n",
        "  x = np.linspace(-5, 5, 1000)\n",
        "  plt.ylim(-20, 20)\n",
        "  plt.plot(x , sum([coefs[i] * x ** i for i in range(n)]), linestyle=\"-\", color=\"k\")"
      ],
      "metadata": {
        "id": "AJXEM1LByTpw"
      },
      "execution_count": 4,
      "outputs": []
    },
    {
      "cell_type": "code",
      "source": [
        "draw_polynomial(coefs)"
      ],
      "metadata": {
        "colab": {
          "base_uri": "https://localhost:8080/",
          "height": 269
        },
        "id": "MVx2_kwwy_wP",
        "outputId": "36970b83-f40b-41e4-d892-04c8dcb6c2bd"
      },
      "execution_count": 5,
      "outputs": [
        {
          "output_type": "display_data",
          "data": {
            "text/plain": [
              "<Figure size 432x288 with 1 Axes>"
            ],
            "image/png": "[encoded data removed]"
          },
          "metadata": {
            "needs_background": "light"
          }
        }
      ]
    },
    {
      "cell_type": "markdown",
      "source": [
        "##Dataset"
      ],
      "metadata": {
        "id": "WPSUrZrnzKUX"
      }
    },
    {
      "cell_type": "markdown",
      "source": [
        "We start with dataset that is a parabola that opens downward (a sad face).Therefore, it is not a problem we can solve with linear regression—we must use polynomial regression."
      ],
      "metadata": {
        "id": "YOmWP7IgzLib"
      }
    },
    {
      "cell_type": "code",
      "source": [
        "X, Y = [], []\n",
        "\n",
        "for i in range(40):\n",
        "  x = random.uniform(-5, 5)\n",
        "  y = polynomial(coefs, x) + random.gauss(0, 2)\n",
        "  X.append(x)\n",
        "  Y.append(y)"
      ],
      "metadata": {
        "id": "MJVvaMnJzhGA"
      },
      "execution_count": 9,
      "outputs": []
    },
    {
      "cell_type": "code",
      "source": [
        "plt.scatter(X, Y)"
      ],
      "metadata": {
        "colab": {
          "base_uri": "https://localhost:8080/",
          "height": 283
        },
        "id": "oEcbjGHoz6_5",
        "outputId": "d9e1582d-d592-476f-e086-9d76be65d6b6"
      },
      "execution_count": 10,
      "outputs": [
        {
          "output_type": "execute_result",
          "data": {
            "text/plain": [
              "<matplotlib.collections.PathCollection at 0x7fad8f777350>"
            ]
          },
          "metadata": {},
          "execution_count": 10
        },
        {
          "output_type": "display_data",
          "data": {
            "text/plain": [
              "<Figure size 432x288 with 1 Axes>"
            ],
            "image/png": "[encoded data removed]"
          },
          "metadata": {
            "needs_background": "light"
          }
        }
      ]
    },
    {
      "cell_type": "code",
      "source": [
        "data = tc.SFrame({\"x\": X, \"y\": Y})\n",
        "data.print_rows(5, 2)"
      ],
      "metadata": {
        "colab": {
          "base_uri": "https://localhost:8080/"
        },
        "id": "bzp-iALO1gwm",
        "outputId": "965d57ae-0774-4c43-a1a6-0c2d5ece6aaa"
      },
      "execution_count": 16,
      "outputs": [
        {
          "output_type": "stream",
          "name": "stdout",
          "text": [
            "+----------------------+---------------------+\n",
            "|          x           |          y          |\n",
            "+----------------------+---------------------+\n",
            "|  2.0528339985440622  |  12.252654244338753 |\n",
            "|  3.4948596518636705  |  9.887928796750838  |\n",
            "|  3.950389674266752   | -0.7886240883010993 |\n",
            "|  0.796950107456059   |  12.545900209788488 |\n",
            "| -0.49436893368844803 |  10.687314649720424 |\n",
            "+----------------------+---------------------+\n",
            "[40 rows x 2 columns]\n",
            "\n"
          ]
        }
      ]
    },
    {
      "cell_type": "markdown",
      "source": [
        "The way to do polynomial regression in Turi Create is to add many columns to our dataset, corresponding\n",
        "to the powers of the main feature, and to apply linear regression to this expanded\n",
        "dataset. \n",
        "\n",
        "If the main feature is, say, $x$, then we add columns with the values of $x^2, x^3, x^4$, and so on.\n",
        "Thus, our model is finding linear combinations of the powers of $x$, which are precisely polynomials\n",
        "in $x$.\n",
        "\n",
        "So, let's add columns to our dataset corresponding to $X^2, X^3,...,x^{200}$."
      ],
      "metadata": {
        "id": "w6yx0czX2GJj"
      }
    },
    {
      "cell_type": "code",
      "source": [
        "for i in range(2, 200):\n",
        "  strings = \"x^\" + str(i)\n",
        "  data[strings] = data[\"x\"].apply(lambda x: x ** i)"
      ],
      "metadata": {
        "id": "r7HA5dBR2IS0"
      },
      "execution_count": null,
      "outputs": []
    },
    {
      "cell_type": "code",
      "source": [
        "data.print_rows(5, 5)"
      ],
      "metadata": {
        "colab": {
          "base_uri": "https://localhost:8080/"
        },
        "id": "9bY6uWXa2_mG",
        "outputId": "ad7907f7-9727-4d66-ffe0-5562725adcc2"
      },
      "execution_count": 18,
      "outputs": [
        {
          "output_type": "stream",
          "name": "stdout",
          "text": [
            "+----------------------+---------------------+---------------------+\n",
            "|          x           |          y          |         x^2         |\n",
            "+----------------------+---------------------+---------------------+\n",
            "|  2.0528339985440622  |  12.252654244338753 |  4.214127425578403  |\n",
            "|  3.4948596518636705  |  9.887928796750838  |  12.214043986224656 |\n",
            "|  3.950389674266752   | -0.7886240883010993 |  15.605578578553375 |\n",
            "|  0.796950107456059   |  12.545900209788488 |  0.635129473774224  |\n",
            "| -0.49436893368844803 |  10.687314649720424 | 0.24440064259625313 |\n",
            "+----------------------+---------------------+---------------------+\n",
            "+----------------------+----------------------+-----+\n",
            "|         x^3          |         x^4          | ... |\n",
            "+----------------------+----------------------+-----+\n",
            "|  8.650904053424307   |  17.758869959012056  | ... |\n",
            "|  42.68636951354466   |  149.18287049743068  | ... |\n",
            "|  61.64811647767568   |   243.534082771404   | ... |\n",
            "|  0.506166502372878   | 0.40338944845672264  | ... |\n",
            "| -0.12082408507308115 | 0.059731674101461456 | ... |\n",
            "+----------------------+----------------------+-----+\n",
            "[40 rows x 200 columns]\n",
            "\n"
          ]
        }
      ]
    },
    {
      "cell_type": "markdown",
      "source": [
        "Before we train any models, we need to split the data into training and testing datasets."
      ],
      "metadata": {
        "id": "N5Zhp59v3MqI"
      }
    },
    {
      "cell_type": "code",
      "source": [
        "train, test = data.random_split(.8)"
      ],
      "metadata": {
        "id": "2eCeH1IS3NQk"
      },
      "execution_count": 19,
      "outputs": []
    },
    {
      "cell_type": "markdown",
      "source": [
        "##Regularization"
      ],
      "metadata": {
        "id": "9KzXZ73z3cXj"
      }
    },
    {
      "cell_type": "markdown",
      "source": [
        ""
      ],
      "metadata": {
        "id": "dg4ZVo9G3dv7"
      }
    }
  ]
}