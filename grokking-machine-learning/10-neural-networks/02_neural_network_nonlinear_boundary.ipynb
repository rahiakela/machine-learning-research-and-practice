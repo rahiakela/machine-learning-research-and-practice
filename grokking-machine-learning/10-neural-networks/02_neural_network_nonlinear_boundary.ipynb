{
  "nbformat": 4,
  "nbformat_minor": 0,
  "metadata": {
    "colab": {
      "name": "02-neural-network-nonlinear-boundary.ipynb",
      "provenance": [],
      "toc_visible": true,
      "authorship_tag": "ABX9TyPHO7lPwRgZT8EiNuzh7BE0",
      "include_colab_link": true
    },
    "kernelspec": {
      "name": "python3",
      "display_name": "Python 3"
    },
    "language_info": {
      "name": "python"
    }
  },
  "cells": [
    {
      "cell_type": "markdown",
      "metadata": {
        "id": "view-in-github",
        "colab_type": "text"
      },
      "source": [
        "<a href=\"https://colab.research.google.com/github/rahiakela/machine-learning-research-and-practice/blob/main/grokking-machine-learning/10-neural-networks/02_neural_network_nonlinear_boundary.ipynb\" target=\"_parent\"><img src=\"https://colab.research.google.com/assets/colab-badge.svg\" alt=\"Open In Colab\"/></a>"
      ]
    },
    {
      "cell_type": "markdown",
      "source": [
        "## The nonlinear boundary of a neural network"
      ],
      "metadata": {
        "id": "R2qvSgZaw1fT"
      }
    },
    {
      "cell_type": "markdown",
      "source": [
        "In this notebook, we’ll train a neural network in Keras on the dataset that contains two labels, 0 and 1. The points with label 0 are drawn as squares, and those with label 1 are drawn as triangles. \n",
        "\n",
        "Notice that the points with label 1 are located mostly at the center,\n",
        "whereas the points with label 0 are located on the sides. \n",
        "\n",
        "For this type of dataset, we need a classifier with a nonlinear boundary, which makes it a good example for a neural network.\n",
        "\n",
        "Neural networks are great for **nonlinearly separable sets**. \n",
        "\n",
        "To test this, we’ll train a neural network on this circular dataset."
      ],
      "metadata": {
        "id": "aI-qMbrtxAJ4"
      }
    },
    {
      "cell_type": "markdown",
      "source": [
        "##Setup"
      ],
      "metadata": {
        "id": "tuYDtYyVy1Qo"
      }
    },
    {
      "cell_type": "code",
      "source": [
        "!wget https://github.com/luisguiserrano/manning/raw/master/Chapter_10_Neural_Networks/utils.py\n",
        "!wget https://github.com/luisguiserrano/manning/raw/master/Chapter_10_Neural_Networks/one_circle.csv"
      ],
      "metadata": {
        "id": "vqTlbA3io9ol"
      },
      "execution_count": null,
      "outputs": []
    },
    {
      "cell_type": "code",
      "source": [
        "import pandas as pd\n",
        "import numpy as np\n",
        "import matplotlib.pyplot as plt\n",
        "\n",
        "import tensorflow as tf\n",
        "from tensorflow import keras\n",
        "from tensorflow.keras.models import Sequential\n",
        "from tensorflow.keras.layers import Dense, Dropout\n",
        "from tensorflow.keras.utils import to_categorical\n",
        "\n",
        "import utils\n",
        "\n",
        "import warnings\n",
        "warnings.simplefilter(\"ignore\", UserWarning)"
      ],
      "metadata": {
        "id": "idY6aIXsyx0f"
      },
      "execution_count": 2,
      "outputs": []
    },
    {
      "cell_type": "code",
      "source": [
        "# Setting random seeds to get reproducible results\n",
        "np.random.seed(0)\n",
        "tf.random.set_seed(1)"
      ],
      "metadata": {
        "id": "dQeZCHl3DXFH"
      },
      "execution_count": 3,
      "outputs": []
    },
    {
      "cell_type": "markdown",
      "source": [
        "##Dataset"
      ],
      "metadata": {
        "id": "4dqpwJZdaYsh"
      }
    },
    {
      "cell_type": "markdown",
      "source": [
        "Before we train the model, let’s look at some random rows in our data."
      ],
      "metadata": {
        "id": "WBuSmRHWaaXW"
      }
    },
    {
      "cell_type": "code",
      "source": [
        "# Loading the one_circle dataset\n",
        "dataset = pd.read_csv(\"one_circle.csv\", index_col=0)\n",
        "\n",
        "X = np.array(dataset[[\"x_1\", \"x_2\"]])\n",
        "y = np.array(dataset[\"y\"]).astype(int)"
      ],
      "metadata": {
        "id": "majwWTVAyBej"
      },
      "execution_count": 4,
      "outputs": []
    },
    {
      "cell_type": "code",
      "source": [
        "# let's plot the data points\n",
        "utils.plot_points(X, y)"
      ],
      "metadata": {
        "colab": {
          "base_uri": "https://localhost:8080/",
          "height": 280
        },
        "id": "KtWvUl20Ev-x",
        "outputId": "d210399f-d6bf-46ac-c949-8ab76304326e"
      },
      "execution_count": 5,
      "outputs": [
        {
          "output_type": "display_data",
          "data": {
            "text/plain": [
              "<Figure size 432x288 with 1 Axes>"
            ],
            "image/png": "[encoded data removed]"
          },
          "metadata": {
            "needs_background": "light"
          }
        }
      ]
    },
    {
      "cell_type": "code",
      "source": [
        "dataset.head(10)"
      ],
      "metadata": {
        "colab": {
          "base_uri": "https://localhost:8080/",
          "height": 363
        },
        "id": "1B1Plu_lFFfL",
        "outputId": "00869326-6b4d-4862-d1fd-c8654c445faf"
      },
      "execution_count": 6,
      "outputs": [
        {
          "output_type": "execute_result",
          "data": {
            "text/plain": [
              "        x_1       x_2  y\n",
              "0 -0.759416  2.753240  0\n",
              "1 -1.885278  1.629527  0\n",
              "2  2.463302 -1.023869  0\n",
              "3 -1.986004 -0.898810  0\n",
              "4  2.010834 -2.580117  0\n",
              "5  2.410188  2.370501  0\n",
              "6  1.599140 -0.862732  0\n",
              "7 -1.109856 -2.469697  0\n",
              "8  2.447342  2.811180  0\n",
              "9 -1.697732  2.539848  0"
            ],
            "text/html": [
              "\n",
              "  <div id=\"df-8a3755c8-6ef2-4d71-9df8-89d200de1df5\">\n",
              "    <div class=\"colab-df-container\">\n",
              "      <div>\n",
              "<style scoped>\n",
              "    .dataframe tbody tr th:only-of-type {\n",
              "        vertical-align: middle;\n",
              "    }\n",
              "\n",
              "    .dataframe tbody tr th {\n",
              "        vertical-align: top;\n",
              "    }\n",
              "\n",
              "    .dataframe thead th {\n",
              "        text-align: right;\n",
              "    }\n",
              "</style>\n",
              "<table border=\"1\" class=\"dataframe\">\n",
              "  <thead>\n",
              "    <tr style=\"text-align: right;\">\n",
              "      <th></th>\n",
              "      <th>x_1</th>\n",
              "      <th>x_2</th>\n",
              "      <th>y</th>\n",
              "    </tr>\n",
              "  </thead>\n",
              "  <tbody>\n",
              "    <tr>\n",
              "      <th>0</th>\n",
              "      <td>-0.759416</td>\n",
              "      <td>2.753240</td>\n",
              "      <td>0</td>\n",
              "    </tr>\n",
              "    <tr>\n",
              "      <th>1</th>\n",
              "      <td>-1.885278</td>\n",
              "      <td>1.629527</td>\n",
              "      <td>0</td>\n",
              "    </tr>\n",
              "    <tr>\n",
              "      <th>2</th>\n",
              "      <td>2.463302</td>\n",
              "      <td>-1.023869</td>\n",
              "      <td>0</td>\n",
              "    </tr>\n",
              "    <tr>\n",
              "      <th>3</th>\n",
              "      <td>-1.986004</td>\n",
              "      <td>-0.898810</td>\n",
              "      <td>0</td>\n",
              "    </tr>\n",
              "    <tr>\n",
              "      <th>4</th>\n",
              "      <td>2.010834</td>\n",
              "      <td>-2.580117</td>\n",
              "      <td>0</td>\n",
              "    </tr>\n",
              "    <tr>\n",
              "      <th>5</th>\n",
              "      <td>2.410188</td>\n",
              "      <td>2.370501</td>\n",
              "      <td>0</td>\n",
              "    </tr>\n",
              "    <tr>\n",
              "      <th>6</th>\n",
              "      <td>1.599140</td>\n",
              "      <td>-0.862732</td>\n",
              "      <td>0</td>\n",
              "    </tr>\n",
              "    <tr>\n",
              "      <th>7</th>\n",
              "      <td>-1.109856</td>\n",
              "      <td>-2.469697</td>\n",
              "      <td>0</td>\n",
              "    </tr>\n",
              "    <tr>\n",
              "      <th>8</th>\n",
              "      <td>2.447342</td>\n",
              "      <td>2.811180</td>\n",
              "      <td>0</td>\n",
              "    </tr>\n",
              "    <tr>\n",
              "      <th>9</th>\n",
              "      <td>-1.697732</td>\n",
              "      <td>2.539848</td>\n",
              "      <td>0</td>\n",
              "    </tr>\n",
              "  </tbody>\n",
              "</table>\n",
              "</div>\n",
              "      <button class=\"colab-df-convert\" onclick=\"convertToInteractive('df-8a3755c8-6ef2-4d71-9df8-89d200de1df5')\"\n",
              "              title=\"Convert this dataframe to an interactive table.\"\n",
              "              style=\"display:none;\">\n",
              "        \n",
              "  <svg xmlns=\"http://www.w3.org/2000/svg\" height=\"24px\"viewBox=\"0 0 24 24\"\n",
              "       width=\"24px\">\n",
              "    <path d=\"M0 0h24v24H0V0z\" fill=\"none\"/>\n",
              "    <path d=\"M18.56 5.44l.94 2.06.94-2.06 2.06-.94-2.06-.94-.94-2.06-.94 2.06-2.06.94zm-11 1L8.5 8.5l.94-2.06 2.06-.94-2.06-.94L8.5 2.5l-.94 2.06-2.06.94zm10 10l.94 2.06.94-2.06 2.06-.94-2.06-.94-.94-2.06-.94 2.06-2.06.94z\"/><path d=\"M17.41 7.96l-1.37-1.37c-.4-.4-.92-.59-1.43-.59-.52 0-1.04.2-1.43.59L10.3 9.45l-7.72 7.72c-.78.78-.78 2.05 0 2.83L4 21.41c.39.39.9.59 1.41.59.51 0 1.02-.2 1.41-.59l7.78-7.78 2.81-2.81c.8-.78.8-2.07 0-2.86zM5.41 20L4 18.59l7.72-7.72 1.47 1.35L5.41 20z\"/>\n",
              "  </svg>\n",
              "      </button>\n",
              "      \n",
              "  <style>\n",
              "    .colab-df-container {\n",
              "      display:flex;\n",
              "      flex-wrap:wrap;\n",
              "      gap: 12px;\n",
              "    }\n",
              "\n",
              "    .colab-df-convert {\n",
              "      background-color: #E8F0FE;\n",
              "      border: none;\n",
              "      border-radius: 50%;\n",
              "      cursor: pointer;\n",
              "      display: none;\n",
              "      fill: #1967D2;\n",
              "      height: 32px;\n",
              "      padding: 0 0 0 0;\n",
              "      width: 32px;\n",
              "    }\n",
              "\n",
              "    .colab-df-convert:hover {\n",
              "      background-color: #E2EBFA;\n",
              "      box-shadow: 0px 1px 2px rgba(60, 64, 67, 0.3), 0px 1px 3px 1px rgba(60, 64, 67, 0.15);\n",
              "      fill: #174EA6;\n",
              "    }\n",
              "\n",
              "    [theme=dark] .colab-df-convert {\n",
              "      background-color: #3B4455;\n",
              "      fill: #D2E3FC;\n",
              "    }\n",
              "\n",
              "    [theme=dark] .colab-df-convert:hover {\n",
              "      background-color: #434B5C;\n",
              "      box-shadow: 0px 1px 3px 1px rgba(0, 0, 0, 0.15);\n",
              "      filter: drop-shadow(0px 1px 2px rgba(0, 0, 0, 0.3));\n",
              "      fill: #FFFFFF;\n",
              "    }\n",
              "  </style>\n",
              "\n",
              "      <script>\n",
              "        const buttonEl =\n",
              "          document.querySelector('#df-8a3755c8-6ef2-4d71-9df8-89d200de1df5 button.colab-df-convert');\n",
              "        buttonEl.style.display =\n",
              "          google.colab.kernel.accessAllowed ? 'block' : 'none';\n",
              "\n",
              "        async function convertToInteractive(key) {\n",
              "          const element = document.querySelector('#df-8a3755c8-6ef2-4d71-9df8-89d200de1df5');\n",
              "          const dataTable =\n",
              "            await google.colab.kernel.invokeFunction('convertToInteractive',\n",
              "                                                     [key], {});\n",
              "          if (!dataTable) return;\n",
              "\n",
              "          const docLinkHtml = 'Like what you see? Visit the ' +\n",
              "            '<a target=\"_blank\" href=https://colab.research.google.com/notebooks/data_table.ipynb>data table notebook</a>'\n",
              "            + ' to learn more about interactive tables.';\n",
              "          element.innerHTML = '';\n",
              "          dataTable['output_type'] = 'display_data';\n",
              "          await google.colab.output.renderOutput(dataTable, element);\n",
              "          const docLink = document.createElement('div');\n",
              "          docLink.innerHTML = docLinkHtml;\n",
              "          element.appendChild(docLink);\n",
              "        }\n",
              "      </script>\n",
              "    </div>\n",
              "  </div>\n",
              "  "
            ]
          },
          "metadata": {},
          "execution_count": 6
        }
      ]
    },
    {
      "cell_type": "code",
      "source": [
        "X[:10]"
      ],
      "metadata": {
        "colab": {
          "base_uri": "https://localhost:8080/"
        },
        "id": "C3E_nAEzFMg1",
        "outputId": "7de90b2d-0812-47a9-9361-7b400cb07df3"
      },
      "execution_count": 7,
      "outputs": [
        {
          "output_type": "execute_result",
          "data": {
            "text/plain": [
              "array([[-0.759416  ,  2.7532401 ],\n",
              "       [-1.8852779 ,  1.62952654],\n",
              "       [ 2.46330243, -1.02386888],\n",
              "       [-1.98600415, -0.89880979],\n",
              "       [ 2.01083403, -2.58011745],\n",
              "       [ 2.41018752,  2.37050087],\n",
              "       [ 1.59914005, -0.86273162],\n",
              "       [-1.10985644, -2.46969746],\n",
              "       [ 2.4473419 ,  2.81117994],\n",
              "       [-1.69773161,  2.53984757]])"
            ]
          },
          "metadata": {},
          "execution_count": 7
        }
      ]
    },
    {
      "cell_type": "code",
      "source": [
        "y[:10]"
      ],
      "metadata": {
        "colab": {
          "base_uri": "https://localhost:8080/"
        },
        "id": "CsVmQlVhFOXb",
        "outputId": "b716de35-8aa6-4fd9-a759-1e40c884437e"
      },
      "execution_count": 8,
      "outputs": [
        {
          "output_type": "execute_result",
          "data": {
            "text/plain": [
              "array([0, 0, 0, 0, 0, 0, 0, 0, 0, 0])"
            ]
          },
          "metadata": {},
          "execution_count": 8
        }
      ]
    },
    {
      "cell_type": "markdown",
      "source": [
        "Before we build and train the neural networks, we must do some data preprocessing.\n",
        "\n",
        "In this dataset, the output is a number between 0 and 1, but it represents two classes. \n",
        "\n",
        "In Keras, it is recommended to categorize this type of output. \n",
        "\n",
        "This simply means that points with label 0 will\n",
        "now have a label `[1,0]`, and points with label 1 will now have a label `[0,1]`."
      ],
      "metadata": {
        "id": "GdsAHWc2FVly"
      }
    },
    {
      "cell_type": "code",
      "source": [
        "cat_y = np.array(to_categorical(y, 2))\n",
        "cat_y[:10]"
      ],
      "metadata": {
        "colab": {
          "base_uri": "https://localhost:8080/"
        },
        "id": "Jy4TiNtfF33y",
        "outputId": "121ad156-d37e-4cb5-b6af-590927f7940c"
      },
      "execution_count": 9,
      "outputs": [
        {
          "output_type": "execute_result",
          "data": {
            "text/plain": [
              "array([[1., 0.],\n",
              "       [1., 0.],\n",
              "       [1., 0.],\n",
              "       [1., 0.],\n",
              "       [1., 0.],\n",
              "       [1., 0.],\n",
              "       [1., 0.],\n",
              "       [1., 0.],\n",
              "       [1., 0.],\n",
              "       [1., 0.]], dtype=float32)"
            ]
          },
          "metadata": {},
          "execution_count": 9
        }
      ]
    },
    {
      "cell_type": "markdown",
      "source": [
        "##Neural network architecture"
      ],
      "metadata": {
        "id": "E7temNz5pRA9"
      }
    },
    {
      "cell_type": "code",
      "source": [
        "# Building the model\n",
        "model = Sequential()\n",
        "model.add(Dense(128, activation=\"relu\", input_shape=(2, )))\n",
        "model.add(Dropout(.2))\n",
        "model.add(Dense(64, activation=\"relu\"))\n",
        "model.add(Dropout(.2))\n",
        "model.add(Dense(2, activation=\"softmax\"))\n",
        "\n",
        "# Compiling the model\n",
        "model.compile(loss=\"categorical_crossentropy\", optimizer=\"adam\", metrics=[\"accuracy\"])\n",
        "model.summary()"
      ],
      "metadata": {
        "id": "iAU2zRArov99",
        "colab": {
          "base_uri": "https://localhost:8080/"
        },
        "outputId": "edcf64f0-7c65-4ee0-a5ab-c19eab72f77f"
      },
      "execution_count": 10,
      "outputs": [
        {
          "output_type": "stream",
          "name": "stdout",
          "text": [
            "Model: \"sequential\"\n",
            "_________________________________________________________________\n",
            " Layer (type)                Output Shape              Param #   \n",
            "=================================================================\n",
            " dense (Dense)               (None, 128)               384       \n",
            "                                                                 \n",
            " dropout (Dropout)           (None, 128)               0         \n",
            "                                                                 \n",
            " dense_1 (Dense)             (None, 64)                8256      \n",
            "                                                                 \n",
            " dropout_1 (Dropout)         (None, 64)                0         \n",
            "                                                                 \n",
            " dense_2 (Dense)             (None, 2)                 130       \n",
            "                                                                 \n",
            "=================================================================\n",
            "Total params: 8,770\n",
            "Trainable params: 8,770\n",
            "Non-trainable params: 0\n",
            "_________________________________________________________________\n"
          ]
        }
      ]
    },
    {
      "cell_type": "markdown",
      "source": [
        "##Training the neural network"
      ],
      "metadata": {
        "id": "8_N762UIJj9s"
      }
    },
    {
      "cell_type": "markdown",
      "source": [
        "Let's train the model."
      ],
      "metadata": {
        "id": "4UQM-rbfoatG"
      }
    },
    {
      "cell_type": "code",
      "source": [
        "model.fit(X, cat_y, epochs=100, batch_size=10)"
      ],
      "metadata": {
        "colab": {
          "base_uri": "https://localhost:8080/"
        },
        "id": "eqM-Wm9LonJq",
        "outputId": "50dc5b33-bc3d-43cb-9f59-f2e84ff39b89"
      },
      "execution_count": 11,
      "outputs": [
        {
          "output_type": "stream",
          "name": "stdout",
          "text": [
            "Epoch 1/100\n",
            "11/11 [==============================] - 1s 2ms/step - loss: 0.5473 - accuracy: 0.7182\n",
            "Epoch 2/100\n",
            "11/11 [==============================] - 0s 3ms/step - loss: 0.4621 - accuracy: 0.7636\n",
            "Epoch 3/100\n",
            "11/11 [==============================] - 0s 2ms/step - loss: 0.4521 - accuracy: 0.7636\n",
            "Epoch 4/100\n",
            "11/11 [==============================] - 0s 3ms/step - loss: 0.4379 - accuracy: 0.7636\n",
            "Epoch 5/100\n",
            "11/11 [==============================] - 0s 2ms/step - loss: 0.4411 - accuracy: 0.7636\n",
            "Epoch 6/100\n",
            "11/11 [==============================] - 0s 2ms/step - loss: 0.4207 - accuracy: 0.7636\n",
            "Epoch 7/100\n",
            "11/11 [==============================] - 0s 2ms/step - loss: 0.4428 - accuracy: 0.7636\n",
            "Epoch 8/100\n",
            "11/11 [==============================] - 0s 3ms/step - loss: 0.4345 - accuracy: 0.7636\n",
            "Epoch 9/100\n",
            "11/11 [==============================] - 0s 2ms/step - loss: 0.4311 - accuracy: 0.7636\n",
            "Epoch 10/100\n",
            "11/11 [==============================] - 0s 2ms/step - loss: 0.4182 - accuracy: 0.7636\n",
            "Epoch 11/100\n",
            "11/11 [==============================] - 0s 3ms/step - loss: 0.4099 - accuracy: 0.7636\n",
            "Epoch 12/100\n",
            "11/11 [==============================] - 0s 2ms/step - loss: 0.3991 - accuracy: 0.7636\n",
            "Epoch 13/100\n",
            "11/11 [==============================] - 0s 2ms/step - loss: 0.4048 - accuracy: 0.7636\n",
            "Epoch 14/100\n",
            "11/11 [==============================] - 0s 3ms/step - loss: 0.4144 - accuracy: 0.7636\n",
            "Epoch 15/100\n",
            "11/11 [==============================] - 0s 2ms/step - loss: 0.3885 - accuracy: 0.7727\n",
            "Epoch 16/100\n",
            "11/11 [==============================] - 0s 2ms/step - loss: 0.3942 - accuracy: 0.7818\n",
            "Epoch 17/100\n",
            "11/11 [==============================] - 0s 2ms/step - loss: 0.3835 - accuracy: 0.7818\n",
            "Epoch 18/100\n",
            "11/11 [==============================] - 0s 3ms/step - loss: 0.3834 - accuracy: 0.7909\n",
            "Epoch 19/100\n",
            "11/11 [==============================] - 0s 2ms/step - loss: 0.3845 - accuracy: 0.8000\n",
            "Epoch 20/100\n",
            "11/11 [==============================] - 0s 2ms/step - loss: 0.3775 - accuracy: 0.8091\n",
            "Epoch 21/100\n",
            "11/11 [==============================] - 0s 2ms/step - loss: 0.3699 - accuracy: 0.8000\n",
            "Epoch 22/100\n",
            "11/11 [==============================] - 0s 2ms/step - loss: 0.3533 - accuracy: 0.8182\n",
            "Epoch 23/100\n",
            "11/11 [==============================] - 0s 2ms/step - loss: 0.3696 - accuracy: 0.8091\n",
            "Epoch 24/100\n",
            "11/11 [==============================] - 0s 2ms/step - loss: 0.3713 - accuracy: 0.8364\n",
            "Epoch 25/100\n",
            "11/11 [==============================] - 0s 2ms/step - loss: 0.3525 - accuracy: 0.8182\n",
            "Epoch 26/100\n",
            "11/11 [==============================] - 0s 2ms/step - loss: 0.3361 - accuracy: 0.8636\n",
            "Epoch 27/100\n",
            "11/11 [==============================] - 0s 2ms/step - loss: 0.3723 - accuracy: 0.8455\n",
            "Epoch 28/100\n",
            "11/11 [==============================] - 0s 3ms/step - loss: 0.3350 - accuracy: 0.8636\n",
            "Epoch 29/100\n",
            "11/11 [==============================] - 0s 2ms/step - loss: 0.3405 - accuracy: 0.8545\n",
            "Epoch 30/100\n",
            "11/11 [==============================] - 0s 3ms/step - loss: 0.3255 - accuracy: 0.8636\n",
            "Epoch 31/100\n",
            "11/11 [==============================] - 0s 2ms/step - loss: 0.3232 - accuracy: 0.8636\n",
            "Epoch 32/100\n",
            "11/11 [==============================] - 0s 2ms/step - loss: 0.2936 - accuracy: 0.9000\n",
            "Epoch 33/100\n",
            "11/11 [==============================] - 0s 2ms/step - loss: 0.2992 - accuracy: 0.8818\n",
            "Epoch 34/100\n",
            "11/11 [==============================] - 0s 3ms/step - loss: 0.3303 - accuracy: 0.8818\n",
            "Epoch 35/100\n",
            "11/11 [==============================] - 0s 3ms/step - loss: 0.3193 - accuracy: 0.8727\n",
            "Epoch 36/100\n",
            "11/11 [==============================] - 0s 3ms/step - loss: 0.3153 - accuracy: 0.8818\n",
            "Epoch 37/100\n",
            "11/11 [==============================] - 0s 2ms/step - loss: 0.2988 - accuracy: 0.9182\n",
            "Epoch 38/100\n",
            "11/11 [==============================] - 0s 2ms/step - loss: 0.2960 - accuracy: 0.8909\n",
            "Epoch 39/100\n",
            "11/11 [==============================] - 0s 2ms/step - loss: 0.3078 - accuracy: 0.8909\n",
            "Epoch 40/100\n",
            "11/11 [==============================] - 0s 3ms/step - loss: 0.2856 - accuracy: 0.9000\n",
            "Epoch 41/100\n",
            "11/11 [==============================] - 0s 3ms/step - loss: 0.3193 - accuracy: 0.9000\n",
            "Epoch 42/100\n",
            "11/11 [==============================] - 0s 2ms/step - loss: 0.3021 - accuracy: 0.9000\n",
            "Epoch 43/100\n",
            "11/11 [==============================] - 0s 2ms/step - loss: 0.2905 - accuracy: 0.8818\n",
            "Epoch 44/100\n",
            "11/11 [==============================] - 0s 2ms/step - loss: 0.2607 - accuracy: 0.9455\n",
            "Epoch 45/100\n",
            "11/11 [==============================] - 0s 2ms/step - loss: 0.2814 - accuracy: 0.8818\n",
            "Epoch 46/100\n",
            "11/11 [==============================] - 0s 2ms/step - loss: 0.2761 - accuracy: 0.8909\n",
            "Epoch 47/100\n",
            "11/11 [==============================] - 0s 2ms/step - loss: 0.2864 - accuracy: 0.9000\n",
            "Epoch 48/100\n",
            "11/11 [==============================] - 0s 3ms/step - loss: 0.2983 - accuracy: 0.9000\n",
            "Epoch 49/100\n",
            "11/11 [==============================] - 0s 2ms/step - loss: 0.2940 - accuracy: 0.8727\n",
            "Epoch 50/100\n",
            "11/11 [==============================] - 0s 2ms/step - loss: 0.2607 - accuracy: 0.9091\n",
            "Epoch 51/100\n",
            "11/11 [==============================] - 0s 2ms/step - loss: 0.2982 - accuracy: 0.9091\n",
            "Epoch 52/100\n",
            "11/11 [==============================] - 0s 2ms/step - loss: 0.2846 - accuracy: 0.9091\n",
            "Epoch 53/100\n",
            "11/11 [==============================] - 0s 3ms/step - loss: 0.2499 - accuracy: 0.9091\n",
            "Epoch 54/100\n",
            "11/11 [==============================] - 0s 3ms/step - loss: 0.2575 - accuracy: 0.8909\n",
            "Epoch 55/100\n",
            "11/11 [==============================] - 0s 2ms/step - loss: 0.2647 - accuracy: 0.8909\n",
            "Epoch 56/100\n",
            "11/11 [==============================] - 0s 3ms/step - loss: 0.2918 - accuracy: 0.8818\n",
            "Epoch 57/100\n",
            "11/11 [==============================] - 0s 2ms/step - loss: 0.2560 - accuracy: 0.9091\n",
            "Epoch 58/100\n",
            "11/11 [==============================] - 0s 3ms/step - loss: 0.2359 - accuracy: 0.9273\n",
            "Epoch 59/100\n",
            "11/11 [==============================] - 0s 2ms/step - loss: 0.2852 - accuracy: 0.8909\n",
            "Epoch 60/100\n",
            "11/11 [==============================] - 0s 2ms/step - loss: 0.2460 - accuracy: 0.9273\n",
            "Epoch 61/100\n",
            "11/11 [==============================] - 0s 2ms/step - loss: 0.2545 - accuracy: 0.8909\n",
            "Epoch 62/100\n",
            "11/11 [==============================] - 0s 2ms/step - loss: 0.2640 - accuracy: 0.8909\n",
            "Epoch 63/100\n",
            "11/11 [==============================] - 0s 2ms/step - loss: 0.2701 - accuracy: 0.9091\n",
            "Epoch 64/100\n",
            "11/11 [==============================] - 0s 2ms/step - loss: 0.2574 - accuracy: 0.8818\n",
            "Epoch 65/100\n",
            "11/11 [==============================] - 0s 3ms/step - loss: 0.2504 - accuracy: 0.9091\n",
            "Epoch 66/100\n",
            "11/11 [==============================] - 0s 2ms/step - loss: 0.2388 - accuracy: 0.8909\n",
            "Epoch 67/100\n",
            "11/11 [==============================] - 0s 2ms/step - loss: 0.2721 - accuracy: 0.9091\n",
            "Epoch 68/100\n",
            "11/11 [==============================] - 0s 2ms/step - loss: 0.2674 - accuracy: 0.8727\n",
            "Epoch 69/100\n",
            "11/11 [==============================] - 0s 2ms/step - loss: 0.2709 - accuracy: 0.9182\n",
            "Epoch 70/100\n",
            "11/11 [==============================] - 0s 2ms/step - loss: 0.2548 - accuracy: 0.9182\n",
            "Epoch 71/100\n",
            "11/11 [==============================] - 0s 2ms/step - loss: 0.2035 - accuracy: 0.9273\n",
            "Epoch 72/100\n",
            "11/11 [==============================] - 0s 2ms/step - loss: 0.2588 - accuracy: 0.9091\n",
            "Epoch 73/100\n",
            "11/11 [==============================] - 0s 2ms/step - loss: 0.2465 - accuracy: 0.8818\n",
            "Epoch 74/100\n",
            "11/11 [==============================] - 0s 2ms/step - loss: 0.2741 - accuracy: 0.8909\n",
            "Epoch 75/100\n",
            "11/11 [==============================] - 0s 2ms/step - loss: 0.2446 - accuracy: 0.9000\n",
            "Epoch 76/100\n",
            "11/11 [==============================] - 0s 2ms/step - loss: 0.2308 - accuracy: 0.9182\n",
            "Epoch 77/100\n",
            "11/11 [==============================] - 0s 4ms/step - loss: 0.2535 - accuracy: 0.9000\n",
            "Epoch 78/100\n",
            "11/11 [==============================] - 0s 2ms/step - loss: 0.2736 - accuracy: 0.8455\n",
            "Epoch 79/100\n",
            "11/11 [==============================] - 0s 2ms/step - loss: 0.2279 - accuracy: 0.9091\n",
            "Epoch 80/100\n",
            "11/11 [==============================] - 0s 2ms/step - loss: 0.1964 - accuracy: 0.9455\n",
            "Epoch 81/100\n",
            "11/11 [==============================] - 0s 2ms/step - loss: 0.2493 - accuracy: 0.9091\n",
            "Epoch 82/100\n",
            "11/11 [==============================] - 0s 3ms/step - loss: 0.2541 - accuracy: 0.9091\n",
            "Epoch 83/100\n",
            "11/11 [==============================] - 0s 2ms/step - loss: 0.2380 - accuracy: 0.9091\n",
            "Epoch 84/100\n",
            "11/11 [==============================] - 0s 2ms/step - loss: 0.2462 - accuracy: 0.9182\n",
            "Epoch 85/100\n",
            "11/11 [==============================] - 0s 3ms/step - loss: 0.2254 - accuracy: 0.9273\n",
            "Epoch 86/100\n",
            "11/11 [==============================] - 0s 2ms/step - loss: 0.2648 - accuracy: 0.9000\n",
            "Epoch 87/100\n",
            "11/11 [==============================] - 0s 2ms/step - loss: 0.2347 - accuracy: 0.9091\n",
            "Epoch 88/100\n",
            "11/11 [==============================] - 0s 2ms/step - loss: 0.2449 - accuracy: 0.9091\n",
            "Epoch 89/100\n",
            "11/11 [==============================] - 0s 2ms/step - loss: 0.2565 - accuracy: 0.9091\n",
            "Epoch 90/100\n",
            "11/11 [==============================] - 0s 3ms/step - loss: 0.2497 - accuracy: 0.9000\n",
            "Epoch 91/100\n",
            "11/11 [==============================] - 0s 2ms/step - loss: 0.2420 - accuracy: 0.8818\n",
            "Epoch 92/100\n",
            "11/11 [==============================] - 0s 3ms/step - loss: 0.2299 - accuracy: 0.8909\n",
            "Epoch 93/100\n",
            "11/11 [==============================] - 0s 3ms/step - loss: 0.2243 - accuracy: 0.9182\n",
            "Epoch 94/100\n",
            "11/11 [==============================] - 0s 2ms/step - loss: 0.2346 - accuracy: 0.8909\n",
            "Epoch 95/100\n",
            "11/11 [==============================] - 0s 2ms/step - loss: 0.2573 - accuracy: 0.8909\n",
            "Epoch 96/100\n",
            "11/11 [==============================] - 0s 2ms/step - loss: 0.2499 - accuracy: 0.9091\n",
            "Epoch 97/100\n",
            "11/11 [==============================] - 0s 4ms/step - loss: 0.2246 - accuracy: 0.9000\n",
            "Epoch 98/100\n",
            "11/11 [==============================] - 0s 3ms/step - loss: 0.2593 - accuracy: 0.9000\n",
            "Epoch 99/100\n",
            "11/11 [==============================] - 0s 3ms/step - loss: 0.2130 - accuracy: 0.9182\n",
            "Epoch 100/100\n",
            "11/11 [==============================] - 0s 3ms/step - loss: 0.2110 - accuracy: 0.9000\n"
          ]
        },
        {
          "output_type": "execute_result",
          "data": {
            "text/plain": [
              "<keras.callbacks.History at 0x7f3a068e7690>"
            ]
          },
          "metadata": {},
          "execution_count": 11
        }
      ]
    },
    {
      "cell_type": "markdown",
      "source": [
        "The final accuracy of the model on the training is 0.9.\n",
        "\n",
        "Let's plot the boundary of of the neural network."
      ],
      "metadata": {
        "id": "n5K-9GyZ4ohR"
      }
    },
    {
      "cell_type": "code",
      "source": [
        "utils.plot_model(X, y, model)"
      ],
      "metadata": {
        "colab": {
          "base_uri": "https://localhost:8080/",
          "height": 280
        },
        "id": "NdSeKMuYrxb_",
        "outputId": "5663a2ff-0667-4674-d27b-749f6a14b1a5"
      },
      "execution_count": 12,
      "outputs": [
        {
          "output_type": "display_data",
          "data": {
            "text/plain": [
              "<Figure size 432x288 with 1 Axes>"
            ],
            "image/png": "[encoded data removed]"
          },
          "metadata": {
            "needs_background": "light"
          }
        }
      ]
    },
    {
      "cell_type": "markdown",
      "source": [
        "Note that the model managed to classify the data pretty well, encircling the triangles and leaving the squares outside. \n",
        "\n",
        "It made some mistakes, due to noisy data, but this is OK. \n",
        "\n",
        "The rigged boundary hints to small levels of overfitting, but in general it seems like a good model."
      ],
      "metadata": {
        "id": "eRvCUfg8s7Tj"
      }
    }
  ]
}