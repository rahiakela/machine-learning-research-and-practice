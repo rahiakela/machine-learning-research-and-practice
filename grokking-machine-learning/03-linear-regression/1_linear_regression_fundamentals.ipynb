{
  "nbformat": 4,
  "nbformat_minor": 0,
  "metadata": {
    "colab": {
      "name": "1-linear-regression-fundamentals.ipynb",
      "provenance": [],
      "toc_visible": true,
      "authorship_tag": "ABX9TyNkbCJDsH+gwK4eseDvp4Lq",
      "include_colab_link": true
    },
    "kernelspec": {
      "name": "python3",
      "display_name": "Python 3"
    },
    "language_info": {
      "name": "python"
    }
  },
  "cells": [
    {
      "cell_type": "markdown",
      "metadata": {
        "id": "view-in-github",
        "colab_type": "text"
      },
      "source": [
        "<a href=\"https://colab.research.google.com/github/rahiakela/machine-learning-research-and-practice/blob/main/grokking-machine-learning/03-linear-regression/1_linear_regression_fundamentals.ipynb\" target=\"_parent\"><img src=\"https://colab.research.google.com/assets/colab-badge.svg\" alt=\"Open In Colab\"/></a>"
      ]
    },
    {
      "cell_type": "markdown",
      "source": [
        "##Linear Regression Fundamentals"
      ],
      "metadata": {
        "id": "oCrCCtQW0Qyx"
      }
    },
    {
      "cell_type": "markdown",
      "source": [
        "Linear regression algorithm consists of repeating a step in which we move a line closer to a point. We can do this using rotations and translations of **Linear Algebra Transformation** techniques.\n"
      ],
      "metadata": {
        "id": "rweoOmDV2ChR"
      }
    },
    {
      "cell_type": "markdown",
      "source": [
        "##Setup"
      ],
      "metadata": {
        "id": "6SDshOBr2js1"
      }
    },
    {
      "cell_type": "code",
      "source": [
        "!wget https://github.com/luisguiserrano/manning/raw/master/Chapter_3_Linear_Regression/utils.py"
      ],
      "metadata": {
        "id": "7u8VJqo62ku5"
      },
      "execution_count": null,
      "outputs": []
    },
    {
      "cell_type": "code",
      "source": [
        "from matplotlib import pyplot as plt\n",
        "import numpy as np\n",
        "import random\n",
        "from utils import *"
      ],
      "metadata": {
        "id": "7tq18voo2s0U"
      },
      "execution_count": 2,
      "outputs": []
    },
    {
      "cell_type": "markdown",
      "source": [
        "##Synthetic dataset"
      ],
      "metadata": {
        "id": "nEUOF13P3-Qo"
      }
    },
    {
      "cell_type": "code",
      "source": [
        "features = np.array([1, 2, 3, 5, 6, 7])\n",
        "labels = np.array([155, 197, 244, 356,407,448])\n",
        "\n",
        "print(features)\n",
        "print(labels)"
      ],
      "metadata": {
        "colab": {
          "base_uri": "https://localhost:8080/"
        },
        "id": "M6jKemC_4AF1",
        "outputId": "235b1063-603a-4900-b3ce-e721b45e4420"
      },
      "execution_count": 3,
      "outputs": [
        {
          "output_type": "stream",
          "name": "stdout",
          "text": [
            "[1 2 3 5 6 7]\n",
            "[155 197 244 356 407 448]\n"
          ]
        }
      ]
    },
    {
      "cell_type": "code",
      "source": [
        "plot_points(features, labels)"
      ],
      "metadata": {
        "colab": {
          "base_uri": "https://localhost:8080/",
          "height": 279
        },
        "id": "X7wqUVgR4ShQ",
        "outputId": "91397025-ddf0-4962-f771-4d71d0d41f71"
      },
      "execution_count": 4,
      "outputs": [
        {
          "output_type": "display_data",
          "data": {
            "text/plain": [
              "<Figure size 432x288 with 1 Axes>"
            ],
            "image/png": "[encoded data removed]"
          },
          "metadata": {
            "needs_background": "light"
          }
        }
      ]
    },
    {
      "cell_type": "markdown",
      "source": [
        "We have to predict the price of house having rooms 4."
      ],
      "metadata": {
        "id": "UaIujYpq4b1d"
      }
    },
    {
      "cell_type": "markdown",
      "source": [
        "##The square trick"
      ],
      "metadata": {
        "id": "W4SjDV7L41ro"
      }
    },
    {
      "cell_type": "markdown",
      "source": [
        "It is a much more clever way of moving our line closer\n",
        "to one of the points.\n",
        "\n",
        "The square trick will bring these four cases down to one by finding\n",
        "values with the correct signs `(+ or –)` to add to the slope and the y-intercept for the line to always move closer to the point."
      ],
      "metadata": {
        "id": "DsewG9pW42Yd"
      }
    },
    {
      "cell_type": "code",
      "source": [
        "def square_trick(base_price, price_per_room, num_rooms, actual_price, learning_rate):\n",
        "  \"\"\"\n",
        "  b=base_price\n",
        "  m=price_per_room\n",
        "  x=num_rooms\n",
        "  \"\"\"\n",
        "  # Calculates the prediction\n",
        "  predicted_price = base_price + price_per_room * num_rooms\n",
        "  # Translates the line\n",
        "  base_price  += learning_rate * (actual_price - predicted_price)\n",
        "  # Rotates the line\n",
        "  price_per_room += learning_rate * num_rooms * (actual_price - predicted_price)\n",
        "  \n",
        "  return price_per_room, base_price"
      ],
      "metadata": {
        "id": "GBS2Zw0B5WUw"
      },
      "execution_count": 5,
      "outputs": []
    },
    {
      "cell_type": "markdown",
      "source": [
        "##The absolute trick"
      ],
      "metadata": {
        "id": "ZmrUdU0G9J1z"
      }
    },
    {
      "cell_type": "markdown",
      "source": [
        "It is another useful trick to move the line closer to the points.\n",
        "\n",
        "This is an intermediate between the simple and the square tricks."
      ],
      "metadata": {
        "id": "1qCyUOp19Kss"
      }
    },
    {
      "cell_type": "code",
      "source": [
        "def absolute_trick(base_price, price_per_room, num_rooms, actual_price, learning_rate):\n",
        "  \"\"\"\n",
        "  b=base_price\n",
        "  m=price_per_room\n",
        "  x=num_rooms\n",
        "  \"\"\"\n",
        "  # Calculates the prediction\n",
        "  predicted_price = base_price + price_per_room * num_rooms\n",
        "  if actual_price > predicted_price:\n",
        "    # Translates the line\n",
        "    price_per_room += learning_rate * num_rooms\n",
        "    base_price  += learning_rate\n",
        "  else:\n",
        "    # # Rotates the line\n",
        "    price_per_room -= learning_rate * num_rooms\n",
        "    base_price  -= learning_rate\n",
        "  \n",
        "  return price_per_room, base_price"
      ],
      "metadata": {
        "id": "obJTJj1V6fyT"
      },
      "execution_count": 6,
      "outputs": []
    },
    {
      "cell_type": "markdown",
      "source": [
        "##The linear regression algorithm"
      ],
      "metadata": {
        "id": "blhdZapk93Of"
      }
    },
    {
      "cell_type": "markdown",
      "source": [
        "**We will repeat the absolute or square trick\n",
        "many times to move the line closer to the points.**\n",
        "\n",
        "This algorithm takes as input a bunch of points and returns a line that fits them well. This algorithm\n",
        "consists of starting with random values for our slope and our y-intercept and then repeating\n",
        "the procedure of updating them many times using the absolute or the square trick.\n",
        "\n",
        "Each iteration of the loop is called an epoch, and we set this number at the beginning of our\n",
        "algorithm.\n",
        "\n",
        "In real life, we use the absolute or square trick, which works a lot better.\n",
        "In fact, although both are commonly used, the square trick is more popular.\n",
        "\n"
      ],
      "metadata": {
        "id": "TCiV6Fut94O1"
      }
    },
    {
      "cell_type": "code",
      "source": [
        "def linear_regression(features, labels, learning_rate=0.01, epochs=1000, progress=1):\n",
        "  # Generates random values for the slope and the y-intercept\n",
        "  price_per_room = random.random()\n",
        "  base_price = random.random()\n",
        "\n",
        "  for epoch in range(epochs):\n",
        "    if epoch == progress:\n",
        "      draw_line(price_per_room, base_price, starting=0, ending=8)\n",
        "    \n",
        "    # Picks a random point on our dataset\n",
        "    i = random.randint(0, len(features) - 1)\n",
        "    num_rooms = features[i]\n",
        "    actual_price = labels[i]\n",
        "\n",
        "    # Applies the square trick to move the line closer to our point\n",
        "    price_per_room, base_price = square_trick(base_price, price_per_room, num_rooms, actual_price, learning_rate=learning_rate)\n",
        "\n",
        "  draw_line(price_per_room, base_price, \"black\", starting=0, ending=8)\n",
        "  plot_points(features, labels)\n",
        "\n",
        "  print(f\"Price per room: {price_per_room}\")\n",
        "  print(f\"Base price: {base_price}\")\n",
        "\n",
        "  return price_per_room, base_price"
      ],
      "metadata": {
        "id": "3bmcqyx1U75c"
      },
      "execution_count": 13,
      "outputs": []
    },
    {
      "cell_type": "code",
      "source": [
        "plt.ylim(0, 500)\n",
        "\n",
        "linear_regression(features, labels, learning_rate=0.01, epochs=1000)"
      ],
      "metadata": {
        "id": "aJKC-gqBXQhZ",
        "outputId": "73389822-3e00-46b8-c2b4-d93dbf9a54e9",
        "colab": {
          "base_uri": "https://localhost:8080/",
          "height": 335
        }
      },
      "execution_count": 14,
      "outputs": [
        {
          "output_type": "stream",
          "name": "stdout",
          "text": [
            "Price per room: 53.00861258475944\n",
            "Base price: 89.33669193107285\n"
          ]
        },
        {
          "output_type": "execute_result",
          "data": {
            "text/plain": [
              "(53.00861258475944, 89.33669193107285)"
            ]
          },
          "metadata": {},
          "execution_count": 14
        },
        {
          "output_type": "display_data",
          "data": {
            "text/plain": [
              "<Figure size 432x288 with 1 Axes>"
            ],
            "image/png": "[encoded data removed]"
          },
          "metadata": {
            "needs_background": "light"
          }
        }
      ]
    },
    {
      "cell_type": "code",
      "source": [
        "linear_regression(features, labels, learning_rate=0.01, epochs=1000, progress=10)"
      ],
      "metadata": {
        "id": "l5blIdtuZL0F",
        "outputId": "78bfc9ca-3fcc-4239-f371-b4be6b4910ef",
        "colab": {
          "base_uri": "https://localhost:8080/",
          "height": 331
        }
      },
      "execution_count": 15,
      "outputs": [
        {
          "output_type": "stream",
          "name": "stdout",
          "text": [
            "Price per room: 52.76821839316407\n",
            "Base price: 89.08813424316719\n"
          ]
        },
        {
          "output_type": "execute_result",
          "data": {
            "text/plain": [
              "(52.76821839316407, 89.08813424316719)"
            ]
          },
          "metadata": {},
          "execution_count": 15
        },
        {
          "output_type": "display_data",
          "data": {
            "text/plain": [
              "<Figure size 432x288 with 1 Axes>"
            ],
            "image/png": "[encoded data removed]"
          },
          "metadata": {
            "needs_background": "light"
          }
        }
      ]
    },
    {
      "cell_type": "code",
      "source": [
        "linear_regression(features, labels, learning_rate=0.01, epochs=1000, progress=50)"
      ],
      "metadata": {
        "id": "A9XPWif9ZaHR",
        "outputId": "9eeda73c-2505-4af1-ef13-e9c3b77510a7",
        "colab": {
          "base_uri": "https://localhost:8080/",
          "height": 331
        }
      },
      "execution_count": 16,
      "outputs": [
        {
          "output_type": "stream",
          "name": "stdout",
          "text": [
            "Price per room: 52.848694194241894\n",
            "Base price: 90.11609542911779\n"
          ]
        },
        {
          "output_type": "execute_result",
          "data": {
            "text/plain": [
              "(52.848694194241894, 90.11609542911779)"
            ]
          },
          "metadata": {},
          "execution_count": 16
        },
        {
          "output_type": "display_data",
          "data": {
            "text/plain": [
              "<Figure size 432x288 with 1 Axes>"
            ],
            "image/png": "[encoded data removed]"
          },
          "metadata": {
            "needs_background": "light"
          }
        }
      ]
    },
    {
      "cell_type": "code",
      "source": [
        "linear_regression(features, labels, learning_rate=0.01, epochs=1000, progress=100)"
      ],
      "metadata": {
        "id": "FDodV052Zc_M",
        "outputId": "47e38b51-4eed-4c88-a6c2-635511bef2cc",
        "colab": {
          "base_uri": "https://localhost:8080/",
          "height": 331
        }
      },
      "execution_count": 17,
      "outputs": [
        {
          "output_type": "stream",
          "name": "stdout",
          "text": [
            "Price per room: 51.45259986645164\n",
            "Base price: 90.70622227875543\n"
          ]
        },
        {
          "output_type": "execute_result",
          "data": {
            "text/plain": [
              "(51.45259986645164, 90.70622227875543)"
            ]
          },
          "metadata": {},
          "execution_count": 17
        },
        {
          "output_type": "display_data",
          "data": {
            "text/plain": [
              "<Figure size 432x288 with 1 Axes>"
            ],
            "image/png": "[encoded data removed]"
          },
          "metadata": {
            "needs_background": "light"
          }
        }
      ]
    },
    {
      "cell_type": "code",
      "source": [
        "plt.ylim(0, 500)\n",
        "linear_regression(features, labels, learning_rate=0.01, epochs=1000, progress=1000)"
      ],
      "metadata": {
        "id": "cFWCZwafZj9G",
        "outputId": "c8ce4ce8-20f8-4626-bea9-e7ccf5cf7cb9",
        "colab": {
          "base_uri": "https://localhost:8080/",
          "height": 335
        }
      },
      "execution_count": 19,
      "outputs": [
        {
          "output_type": "stream",
          "name": "stdout",
          "text": [
            "Price per room: 52.24735065628506\n",
            "Base price: 88.61883759105858\n"
          ]
        },
        {
          "output_type": "execute_result",
          "data": {
            "text/plain": [
              "(52.24735065628506, 88.61883759105858)"
            ]
          },
          "metadata": {},
          "execution_count": 19
        },
        {
          "output_type": "display_data",
          "data": {
            "text/plain": [
              "<Figure size 432x288 with 1 Axes>"
            ],
            "image/png": "[encoded data removed]"
          },
          "metadata": {
            "needs_background": "light"
          }
        }
      ]
    },
    {
      "cell_type": "markdown",
      "source": [
        "##Using the model to make predictions"
      ],
      "metadata": {
        "id": "jhtcxia_aJvB"
      }
    },
    {
      "cell_type": "markdown",
      "source": [
        "Now that we have a shiny linear regression model, we can use it to make predictions!\n",
        "\n",
        "we ran the algorithm and obtained a slope (price per room) of 52.25 and a\n",
        "y-intercept (base price of the house) of 88.61. \n",
        "\n",
        "Thus, the equation follows:"
      ],
      "metadata": {
        "id": "Fv9qsSIcaKjz"
      }
    },
    {
      "cell_type": "code",
      "source": [
        "r = 4\n",
        "p = 52.24 * r + 88.61"
      ],
      "metadata": {
        "id": "GGhDmb22agT-"
      },
      "execution_count": 20,
      "outputs": []
    },
    {
      "cell_type": "markdown",
      "source": [
        "The prediction the model makes for a house with r = 4 rooms is"
      ],
      "metadata": {
        "id": "GitrGeXbawqW"
      }
    },
    {
      "cell_type": "code",
      "source": [
        "p"
      ],
      "metadata": {
        "id": "bYflb91kaxJg",
        "outputId": "b57b8107-c0e6-4eb7-b389-98c2dda8dc9f",
        "colab": {
          "base_uri": "https://localhost:8080/"
        }
      },
      "execution_count": 21,
      "outputs": [
        {
          "output_type": "execute_result",
          "data": {
            "text/plain": [
              "297.57"
            ]
          },
          "metadata": {},
          "execution_count": 21
        }
      ]
    },
    {
      "cell_type": "markdown",
      "source": [
        "Note that `$297.57` is not far from the `$300`."
      ],
      "metadata": {
        "id": "arrEW8d-a3Yk"
      }
    },
    {
      "cell_type": "markdown",
      "source": [
        "##The error function"
      ],
      "metadata": {
        "id": "lTjtPpREbGfr"
      }
    },
    {
      "cell_type": "markdown",
      "source": [
        ""
      ],
      "metadata": {
        "id": "OO3r02P-bHNn"
      }
    }
  ]
}