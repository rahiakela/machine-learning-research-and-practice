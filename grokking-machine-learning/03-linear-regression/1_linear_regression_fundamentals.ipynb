{
  "nbformat": 4,
  "nbformat_minor": 0,
  "metadata": {
    "colab": {
      "name": "1-linear-regression-fundamentals.ipynb",
      "provenance": [],
      "toc_visible": true,
      "authorship_tag": "ABX9TyNxX8HoRCmP83nyy8U2GZ/9",
      "include_colab_link": true
    },
    "kernelspec": {
      "name": "python3",
      "display_name": "Python 3"
    },
    "language_info": {
      "name": "python"
    }
  },
  "cells": [
    {
      "cell_type": "markdown",
      "metadata": {
        "id": "view-in-github",
        "colab_type": "text"
      },
      "source": [
        "<a href=\"https://colab.research.google.com/github/rahiakela/machine-learning-research-and-practice/blob/main/grokking-machine-learning/03-linear-regression/1_linear_regression_fundamentals.ipynb\" target=\"_parent\"><img src=\"https://colab.research.google.com/assets/colab-badge.svg\" alt=\"Open In Colab\"/></a>"
      ]
    },
    {
      "cell_type": "markdown",
      "source": [
        "##Linear Regression Fundamentals"
      ],
      "metadata": {
        "id": "oCrCCtQW0Qyx"
      }
    },
    {
      "cell_type": "markdown",
      "source": [
        "Linear regression algorithm consists of repeating a step in which we move a line closer to a point. We can do this using rotations and translations of **Linear Algebra Transformation** techniques.\n"
      ],
      "metadata": {
        "id": "rweoOmDV2ChR"
      }
    },
    {
      "cell_type": "markdown",
      "source": [
        "##Setup"
      ],
      "metadata": {
        "id": "6SDshOBr2js1"
      }
    },
    {
      "cell_type": "code",
      "source": [
        "!wget https://github.com/luisguiserrano/manning/raw/master/Chapter_3_Linear_Regression/utils.py"
      ],
      "metadata": {
        "id": "7u8VJqo62ku5"
      },
      "execution_count": null,
      "outputs": []
    },
    {
      "cell_type": "code",
      "source": [
        "from matplotlib import pyplot as plt\n",
        "import numpy as np\n",
        "import random\n",
        "from utils import *"
      ],
      "metadata": {
        "id": "7tq18voo2s0U"
      },
      "execution_count": 2,
      "outputs": []
    },
    {
      "cell_type": "markdown",
      "source": [
        "##Synthetic dataset"
      ],
      "metadata": {
        "id": "nEUOF13P3-Qo"
      }
    },
    {
      "cell_type": "code",
      "source": [
        "features = np.array([1, 2, 3, 5, 6, 7])\n",
        "labels = np.array([155, 197, 244, 356,407,448])\n",
        "\n",
        "print(features)\n",
        "print(labels)"
      ],
      "metadata": {
        "colab": {
          "base_uri": "https://localhost:8080/"
        },
        "id": "M6jKemC_4AF1",
        "outputId": "e986174b-c7bc-4de5-a235-93ad232343c6"
      },
      "execution_count": 3,
      "outputs": [
        {
          "output_type": "stream",
          "name": "stdout",
          "text": [
            "[1 2 3 5 6 7]\n",
            "[155 197 244 356 407 448]\n"
          ]
        }
      ]
    },
    {
      "cell_type": "code",
      "source": [
        "plot_points(features, labels)"
      ],
      "metadata": {
        "colab": {
          "base_uri": "https://localhost:8080/",
          "height": 279
        },
        "id": "X7wqUVgR4ShQ",
        "outputId": "359d5b4d-a2c5-45fb-843e-948904b305d7"
      },
      "execution_count": 4,
      "outputs": [
        {
          "output_type": "display_data",
          "data": {
            "image/png": "[encoded data removed]",
            "text/plain": [
              "<Figure size 432x288 with 1 Axes>"
            ]
          },
          "metadata": {
            "needs_background": "light"
          }
        }
      ]
    },
    {
      "cell_type": "markdown",
      "source": [
        "We have to predict the price of house having rooms 4."
      ],
      "metadata": {
        "id": "UaIujYpq4b1d"
      }
    },
    {
      "cell_type": "markdown",
      "source": [
        "##The square trick"
      ],
      "metadata": {
        "id": "W4SjDV7L41ro"
      }
    },
    {
      "cell_type": "markdown",
      "source": [
        "It is a much more clever way of moving our line closer\n",
        "to one of the points.\n",
        "\n",
        "The square trick will bring these four cases down to one by finding\n",
        "values with the correct signs `(+ or –)` to add to the slope and the y-intercept for the line to always move closer to the point."
      ],
      "metadata": {
        "id": "DsewG9pW42Yd"
      }
    },
    {
      "cell_type": "code",
      "source": [
        "def square_trick(base_price, price_per_room, num_rooms, actual_price, learning_rate):\n",
        "  \"\"\"\n",
        "  b=base_price\n",
        "  m=price_per_room\n",
        "  x=num_rooms\n",
        "  \"\"\"\n",
        "  # Calculates the prediction\n",
        "  predicted_price = base_price + price_per_room * num_rooms\n",
        "  # Translates the line\n",
        "  base_price  += learning_rate * (actual_price - predicted_price)\n",
        "  # Rotates the line\n",
        "  price_per_room += learning_rate * num_rooms * (actual_price - predicted_price)\n",
        "  \n",
        "  return price_per_room, base_price"
      ],
      "metadata": {
        "id": "GBS2Zw0B5WUw"
      },
      "execution_count": 5,
      "outputs": []
    },
    {
      "cell_type": "markdown",
      "source": [
        "##The absolute trick"
      ],
      "metadata": {
        "id": "ZmrUdU0G9J1z"
      }
    },
    {
      "cell_type": "markdown",
      "source": [
        "It is another useful trick to move the line closer to the points.\n",
        "\n",
        "This is an intermediate between the simple and the square tricks."
      ],
      "metadata": {
        "id": "1qCyUOp19Kss"
      }
    },
    {
      "cell_type": "code",
      "source": [
        "def absolute_trick(base_price, price_per_room, num_rooms, actual_price, learning_rate):\n",
        "  \"\"\"\n",
        "  b=base_price\n",
        "  m=price_per_room\n",
        "  x=num_rooms\n",
        "  \"\"\"\n",
        "  # Calculates the prediction\n",
        "  predicted_price = base_price + price_per_room * num_rooms\n",
        "  if actual_price > predicted_price:\n",
        "    # Translates the line\n",
        "    price_per_room += learning_rate * num_rooms\n",
        "    base_price  += learning_rate\n",
        "  else:\n",
        "    # # Rotates the line\n",
        "    price_per_room -= learning_rate * num_rooms\n",
        "    base_price  -= learning_rate\n",
        "  \n",
        "  return price_per_room, base_price"
      ],
      "metadata": {
        "id": "obJTJj1V6fyT"
      },
      "execution_count": 6,
      "outputs": []
    },
    {
      "cell_type": "markdown",
      "source": [
        "##The linear regression algorithm"
      ],
      "metadata": {
        "id": "blhdZapk93Of"
      }
    },
    {
      "cell_type": "markdown",
      "source": [
        "**We will repeat the absolute or square trick\n",
        "many times to move the line closer to the points.**\n",
        "\n"
      ],
      "metadata": {
        "id": "TCiV6Fut94O1"
      }
    }
  ]
}