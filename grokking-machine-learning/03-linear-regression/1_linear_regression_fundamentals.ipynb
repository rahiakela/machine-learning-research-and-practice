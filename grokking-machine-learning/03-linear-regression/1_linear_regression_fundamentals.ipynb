{
  "nbformat": 4,
  "nbformat_minor": 0,
  "metadata": {
    "colab": {
      "name": "1-linear-regression-fundamentals.ipynb",
      "provenance": [],
      "toc_visible": true,
      "authorship_tag": "ABX9TyNjHGXQVk5afAorkBsFZSUv",
      "include_colab_link": true
    },
    "kernelspec": {
      "name": "python3",
      "display_name": "Python 3"
    },
    "language_info": {
      "name": "python"
    }
  },
  "cells": [
    {
      "cell_type": "markdown",
      "metadata": {
        "id": "view-in-github",
        "colab_type": "text"
      },
      "source": [
        "<a href=\"https://colab.research.google.com/github/rahiakela/machine-learning-research-and-practice/blob/main/grokking-machine-learning/03-linear-regression/1_linear_regression_fundamentals.ipynb\" target=\"_parent\"><img src=\"https://colab.research.google.com/assets/colab-badge.svg\" alt=\"Open In Colab\"/></a>"
      ]
    },
    {
      "cell_type": "markdown",
      "source": [
        "##Linear Regression Fundamentals"
      ],
      "metadata": {
        "id": "oCrCCtQW0Qyx"
      }
    },
    {
      "cell_type": "markdown",
      "source": [
        "Linear regression algorithm consists of repeating a step in which we move a line closer to a point. We can do this using rotations and translations of **Linear Algebra Transformation** techniques.\n"
      ],
      "metadata": {
        "id": "rweoOmDV2ChR"
      }
    },
    {
      "cell_type": "markdown",
      "source": [
        "##Setup"
      ],
      "metadata": {
        "id": "6SDshOBr2js1"
      }
    },
    {
      "cell_type": "code",
      "source": [
        "!wget https://github.com/luisguiserrano/manning/raw/master/Chapter_3_Linear_Regression/utils.py"
      ],
      "metadata": {
        "id": "7u8VJqo62ku5",
        "outputId": "7cf632ba-5fb3-4d60-9062-7f3aa887d1fc",
        "colab": {
          "base_uri": "https://localhost:8080/"
        }
      },
      "execution_count": 1,
      "outputs": [
        {
          "output_type": "stream",
          "name": "stdout",
          "text": [
            "--2022-03-17 06:06:23--  https://github.com/luisguiserrano/manning/raw/master/Chapter_3_Linear_Regression/utils.py\n",
            "Resolving github.com (github.com)... 140.82.121.3\n",
            "Connecting to github.com (github.com)|140.82.121.3|:443... connected.\n",
            "HTTP request sent, awaiting response... 302 Found\n",
            "Location: https://raw.githubusercontent.com/luisguiserrano/manning/master/Chapter_3_Linear_Regression/utils.py [following]\n",
            "--2022-03-17 06:06:23--  https://raw.githubusercontent.com/luisguiserrano/manning/master/Chapter_3_Linear_Regression/utils.py\n",
            "Resolving raw.githubusercontent.com (raw.githubusercontent.com)... 185.199.111.133, 185.199.109.133, 185.199.110.133, ...\n",
            "Connecting to raw.githubusercontent.com (raw.githubusercontent.com)|185.199.111.133|:443... connected.\n",
            "HTTP request sent, awaiting response... 200 OK\n",
            "Length: 467 [text/plain]\n",
            "Saving to: ‘utils.py’\n",
            "\n",
            "utils.py            100%[===================>]     467  --.-KB/s    in 0s      \n",
            "\n",
            "2022-03-17 06:06:23 (31.2 MB/s) - ‘utils.py’ saved [467/467]\n",
            "\n"
          ]
        }
      ]
    },
    {
      "cell_type": "code",
      "source": [
        "from matplotlib import pyplot as plt\n",
        "import numpy as np\n",
        "import random\n",
        "from utils import *"
      ],
      "metadata": {
        "id": "7tq18voo2s0U"
      },
      "execution_count": 2,
      "outputs": []
    },
    {
      "cell_type": "markdown",
      "source": [
        "##Synthetic dataset"
      ],
      "metadata": {
        "id": "nEUOF13P3-Qo"
      }
    },
    {
      "cell_type": "code",
      "source": [
        "features = np.array([1, 2, 3, 5, 6, 7])\n",
        "labels = np.array([155, 197, 244, 356,407,448])\n",
        "\n",
        "print(features)\n",
        "print(labels)"
      ],
      "metadata": {
        "colab": {
          "base_uri": "https://localhost:8080/"
        },
        "id": "M6jKemC_4AF1",
        "outputId": "bf445d62-2538-47af-cdf1-1dade6bdd1b7"
      },
      "execution_count": 3,
      "outputs": [
        {
          "output_type": "stream",
          "name": "stdout",
          "text": [
            "[1 2 3 5 6 7]\n",
            "[155 197 244 356 407 448]\n"
          ]
        }
      ]
    },
    {
      "cell_type": "code",
      "source": [
        "plot_points(features, labels)"
      ],
      "metadata": {
        "colab": {
          "base_uri": "https://localhost:8080/",
          "height": 279
        },
        "id": "X7wqUVgR4ShQ",
        "outputId": "afaa8833-de99-4686-890c-370ad1bcf67e"
      },
      "execution_count": 4,
      "outputs": [
        {
          "output_type": "display_data",
          "data": {
            "text/plain": [
              "<Figure size 432x288 with 1 Axes>"
            ],
            "image/png": "[encoded data removed]"
          },
          "metadata": {
            "needs_background": "light"
          }
        }
      ]
    },
    {
      "cell_type": "markdown",
      "source": [
        "We have to predict the price of house having rooms 4."
      ],
      "metadata": {
        "id": "UaIujYpq4b1d"
      }
    },
    {
      "cell_type": "markdown",
      "source": [
        "##The square trick"
      ],
      "metadata": {
        "id": "W4SjDV7L41ro"
      }
    },
    {
      "cell_type": "markdown",
      "source": [
        "It is a much more clever way of moving our line closer\n",
        "to one of the points.\n",
        "\n",
        "The square trick will bring these four cases down to one by finding\n",
        "values with the correct signs `(+ or –)` to add to the slope and the y-intercept for the line to always move closer to the point."
      ],
      "metadata": {
        "id": "DsewG9pW42Yd"
      }
    },
    {
      "cell_type": "code",
      "source": [
        "def square_trick(base_price, price_per_room, num_rooms, actual_price, learning_rate):\n",
        "  \"\"\"\n",
        "  b=base_price\n",
        "  m=price_per_room\n",
        "  x=num_rooms\n",
        "  \"\"\"\n",
        "  # Calculates the prediction\n",
        "  predicted_price = base_price + price_per_room * num_rooms\n",
        "  # Translates the line\n",
        "  base_price  += learning_rate * (actual_price - predicted_price)\n",
        "  # Rotates the line\n",
        "  price_per_room += learning_rate * num_rooms * (actual_price - predicted_price)\n",
        "  \n",
        "  return price_per_room, base_price"
      ],
      "metadata": {
        "id": "GBS2Zw0B5WUw"
      },
      "execution_count": 5,
      "outputs": []
    },
    {
      "cell_type": "markdown",
      "source": [
        "##The absolute trick"
      ],
      "metadata": {
        "id": "ZmrUdU0G9J1z"
      }
    },
    {
      "cell_type": "markdown",
      "source": [
        "It is another useful trick to move the line closer to the points.\n",
        "\n",
        "This is an intermediate between the simple and the square tricks."
      ],
      "metadata": {
        "id": "1qCyUOp19Kss"
      }
    },
    {
      "cell_type": "code",
      "source": [
        "def absolute_trick(base_price, price_per_room, num_rooms, actual_price, learning_rate):\n",
        "  \"\"\"\n",
        "  b=base_price\n",
        "  m=price_per_room\n",
        "  x=num_rooms\n",
        "  \"\"\"\n",
        "  # Calculates the prediction\n",
        "  predicted_price = base_price + price_per_room * num_rooms\n",
        "  if actual_price > predicted_price:\n",
        "    # Translates the line\n",
        "    price_per_room += learning_rate * num_rooms\n",
        "    base_price  += learning_rate\n",
        "  else:\n",
        "    # # Rotates the line\n",
        "    price_per_room -= learning_rate * num_rooms\n",
        "    base_price  -= learning_rate\n",
        "  \n",
        "  return price_per_room, base_price"
      ],
      "metadata": {
        "id": "obJTJj1V6fyT"
      },
      "execution_count": 6,
      "outputs": []
    },
    {
      "cell_type": "markdown",
      "source": [
        "##The linear regression algorithm"
      ],
      "metadata": {
        "id": "blhdZapk93Of"
      }
    },
    {
      "cell_type": "markdown",
      "source": [
        "**We will repeat the absolute or square trick\n",
        "many times to move the line closer to the points.**\n",
        "\n",
        "This algorithm takes as input a bunch of points and returns a line that fits them well. This algorithm\n",
        "consists of starting with random values for our slope and our y-intercept and then repeating\n",
        "the procedure of updating them many times using the absolute or the square trick.\n",
        "\n",
        "Each iteration of the loop is called an epoch, and we set this number at the beginning of our\n",
        "algorithm.\n",
        "\n",
        "In real life, we use the absolute or square trick, which works a lot better.\n",
        "In fact, although both are commonly used, the square trick is more popular.\n",
        "\n"
      ],
      "metadata": {
        "id": "TCiV6Fut94O1"
      }
    },
    {
      "cell_type": "code",
      "source": [
        "def linear_regression(features, labels, learning_rate=0.01, epochs=1000, progress=1):\n",
        "  # Generates random values for the slope and the y-intercept\n",
        "  price_per_room = random.random()\n",
        "  base_price = random.random()\n",
        "\n",
        "  for epoch in range(epochs):\n",
        "    if epoch == progress:\n",
        "      draw_line(price_per_room, base_price, starting=0, ending=8)\n",
        "    \n",
        "    # Picks a random point on our dataset\n",
        "    i = random.randint(0, len(features) - 1)\n",
        "    num_rooms = features[i]\n",
        "    actual_price = labels[i]\n",
        "\n",
        "    # Applies the square trick to move the line closer to our point\n",
        "    price_per_room, base_price = square_trick(base_price, price_per_room, num_rooms, actual_price, learning_rate=learning_rate)\n",
        "\n",
        "  draw_line(price_per_room, base_price, \"black\", starting=0, ending=8)\n",
        "  plot_points(features, labels)\n",
        "\n",
        "  print(f\"Price per room: {price_per_room}\")\n",
        "  print(f\"Base price: {base_price}\")\n",
        "\n",
        "  return price_per_room, base_price"
      ],
      "metadata": {
        "id": "3bmcqyx1U75c"
      },
      "execution_count": 7,
      "outputs": []
    },
    {
      "cell_type": "code",
      "source": [
        "plt.ylim(0, 500)\n",
        "\n",
        "linear_regression(features, labels, learning_rate=0.01, epochs=1000)"
      ],
      "metadata": {
        "id": "aJKC-gqBXQhZ",
        "outputId": "d9961dea-c9bf-47f8-95fa-dc918f04bb8c",
        "colab": {
          "base_uri": "https://localhost:8080/",
          "height": 335
        }
      },
      "execution_count": 8,
      "outputs": [
        {
          "output_type": "stream",
          "name": "stdout",
          "text": [
            "Price per room: 51.141946679048566\n",
            "Base price: 92.48293754379947\n"
          ]
        },
        {
          "output_type": "execute_result",
          "data": {
            "text/plain": [
              "(51.141946679048566, 92.48293754379947)"
            ]
          },
          "metadata": {},
          "execution_count": 8
        },
        {
          "output_type": "display_data",
          "data": {
            "text/plain": [
              "<Figure size 432x288 with 1 Axes>"
            ],
            "image/png": "[encoded data removed]"
          },
          "metadata": {
            "needs_background": "light"
          }
        }
      ]
    },
    {
      "cell_type": "code",
      "source": [
        "linear_regression(features, labels, learning_rate=0.01, epochs=1000, progress=10)"
      ],
      "metadata": {
        "id": "l5blIdtuZL0F",
        "outputId": "74351890-21c1-4473-cfdb-80ea325e9f1e",
        "colab": {
          "base_uri": "https://localhost:8080/",
          "height": 331
        }
      },
      "execution_count": 9,
      "outputs": [
        {
          "output_type": "stream",
          "name": "stdout",
          "text": [
            "Price per room: 52.699522091898515\n",
            "Base price: 90.21109693670151\n"
          ]
        },
        {
          "output_type": "execute_result",
          "data": {
            "text/plain": [
              "(52.699522091898515, 90.21109693670151)"
            ]
          },
          "metadata": {},
          "execution_count": 9
        },
        {
          "output_type": "display_data",
          "data": {
            "text/plain": [
              "<Figure size 432x288 with 1 Axes>"
            ],
            "image/png": "[encoded data removed]"
          },
          "metadata": {
            "needs_background": "light"
          }
        }
      ]
    },
    {
      "cell_type": "code",
      "source": [
        "linear_regression(features, labels, learning_rate=0.01, epochs=1000, progress=50)"
      ],
      "metadata": {
        "id": "A9XPWif9ZaHR",
        "outputId": "9f125ca1-a497-49dc-963d-46c709f7c19b",
        "colab": {
          "base_uri": "https://localhost:8080/",
          "height": 331
        }
      },
      "execution_count": 10,
      "outputs": [
        {
          "output_type": "stream",
          "name": "stdout",
          "text": [
            "Price per room: 52.35975183179472\n",
            "Base price: 90.27656013268746\n"
          ]
        },
        {
          "output_type": "execute_result",
          "data": {
            "text/plain": [
              "(52.35975183179472, 90.27656013268746)"
            ]
          },
          "metadata": {},
          "execution_count": 10
        },
        {
          "output_type": "display_data",
          "data": {
            "text/plain": [
              "<Figure size 432x288 with 1 Axes>"
            ],
            "image/png": "[encoded data removed]"
          },
          "metadata": {
            "needs_background": "light"
          }
        }
      ]
    },
    {
      "cell_type": "code",
      "source": [
        "linear_regression(features, labels, learning_rate=0.01, epochs=1000, progress=100)"
      ],
      "metadata": {
        "id": "FDodV052Zc_M",
        "outputId": "0db0c358-958c-4645-f7b1-d0a31cdfcf70",
        "colab": {
          "base_uri": "https://localhost:8080/",
          "height": 331
        }
      },
      "execution_count": 11,
      "outputs": [
        {
          "output_type": "stream",
          "name": "stdout",
          "text": [
            "Price per room: 52.41542235425802\n",
            "Base price: 90.52091700133771\n"
          ]
        },
        {
          "output_type": "execute_result",
          "data": {
            "text/plain": [
              "(52.41542235425802, 90.52091700133771)"
            ]
          },
          "metadata": {},
          "execution_count": 11
        },
        {
          "output_type": "display_data",
          "data": {
            "text/plain": [
              "<Figure size 432x288 with 1 Axes>"
            ],
            "image/png": "[encoded data removed]"
          },
          "metadata": {
            "needs_background": "light"
          }
        }
      ]
    },
    {
      "cell_type": "code",
      "source": [
        "plt.ylim(0, 500)\n",
        "linear_regression(features, labels, learning_rate=0.01, epochs=1000, progress=1000)"
      ],
      "metadata": {
        "id": "cFWCZwafZj9G",
        "outputId": "669dece5-f958-4841-a299-d2073771e2cd",
        "colab": {
          "base_uri": "https://localhost:8080/",
          "height": 335
        }
      },
      "execution_count": 12,
      "outputs": [
        {
          "output_type": "stream",
          "name": "stdout",
          "text": [
            "Price per room: 52.8763593717025\n",
            "Base price: 89.68923639973791\n"
          ]
        },
        {
          "output_type": "execute_result",
          "data": {
            "text/plain": [
              "(52.8763593717025, 89.68923639973791)"
            ]
          },
          "metadata": {},
          "execution_count": 12
        },
        {
          "output_type": "display_data",
          "data": {
            "text/plain": [
              "<Figure size 432x288 with 1 Axes>"
            ],
            "image/png": "[encoded data removed]"
          },
          "metadata": {
            "needs_background": "light"
          }
        }
      ]
    },
    {
      "cell_type": "markdown",
      "source": [
        "##Using the model to make predictions"
      ],
      "metadata": {
        "id": "jhtcxia_aJvB"
      }
    },
    {
      "cell_type": "markdown",
      "source": [
        "Now that we have a shiny linear regression model, we can use it to make predictions!\n",
        "\n",
        "we ran the algorithm and obtained a slope (price per room) of 52.25 and a\n",
        "y-intercept (base price of the house) of 88.61. \n",
        "\n",
        "Thus, the equation follows:"
      ],
      "metadata": {
        "id": "Fv9qsSIcaKjz"
      }
    },
    {
      "cell_type": "code",
      "source": [
        "r = 4\n",
        "p = 52.24 * r + 88.61"
      ],
      "metadata": {
        "id": "GGhDmb22agT-"
      },
      "execution_count": 13,
      "outputs": []
    },
    {
      "cell_type": "markdown",
      "source": [
        "The prediction the model makes for a house with r = 4 rooms is"
      ],
      "metadata": {
        "id": "GitrGeXbawqW"
      }
    },
    {
      "cell_type": "code",
      "source": [
        "p"
      ],
      "metadata": {
        "id": "bYflb91kaxJg",
        "outputId": "f568e75f-ec85-444c-c125-d11ffcbf9c2f",
        "colab": {
          "base_uri": "https://localhost:8080/"
        }
      },
      "execution_count": 14,
      "outputs": [
        {
          "output_type": "execute_result",
          "data": {
            "text/plain": [
              "297.57"
            ]
          },
          "metadata": {},
          "execution_count": 14
        }
      ]
    },
    {
      "cell_type": "markdown",
      "source": [
        "Note that `$297.57` is not far from the `$300`."
      ],
      "metadata": {
        "id": "arrEW8d-a3Yk"
      }
    },
    {
      "cell_type": "markdown",
      "source": [
        "##The error function"
      ],
      "metadata": {
        "id": "lTjtPpREbGfr"
      }
    },
    {
      "cell_type": "markdown",
      "source": [
        "However, many times using a direct approach is difficult to solve problems in machine learning.\n",
        "\n",
        "A more indirect, yet more mechanical, way to do this is using error functions. An error function is a metric that tells us how our model is doing.\n",
        "\n",
        "Error functions are also sometimes called loss functions or cost\n",
        "functions on the literature.\n",
        "\n",
        "We\n",
        "have two common ways to do this called the absolute error and the square error. \n",
        "\n",
        "In short, the absolute error is the sum of vertical distances from the line to the points in the dataset, and the\n",
        "square error is the sum of the squares of these distances.\n",
        "\n",
        "**The absolute error: A metric that tells us how good our model is\n",
        "by adding distances**\n",
        "\n",
        "The absolute error is the sum of the distances between the data points and the line.\n",
        "\n",
        "To calculate each of the distances, we take the difference between the\n",
        "label and the predicted label. This difference can be positive or negative depending on whether\n",
        "the point is above or below the line. To turn this difference into a number that is always positive,\n",
        "we take its absolute value.\n",
        "\n",
        "**The square error: A metric that tells us how good our model\n",
        "is by adding squares of distances**\n",
        "\n",
        "The square error is very similar to the absolute error, except instead of taking the absolute value\n",
        "of the difference between the label and the predicted label, we take the square.\n",
        "\n",
        "This always turns\n",
        "the number into a positive number, because squaring a number always makes it positive.\n",
        "\n",
        "The square error is used more commonly in practice than the absolute\n",
        "error. Why? A square has a much nicer derivative than an absolute value, which comes in handy\n",
        "during the training process.\n",
        "\n",
        "**Mean absolute and (root) mean square errors are more common in real life**\n",
        "\n",
        "However, in\n",
        "practice, the mean absolute error and the mean square error are used much more commonly.\n",
        "These are defined in a similar way, except instead of calculating sums, we calculate averages.\n",
        "Thus, the mean absolute error is the average of the vertical distances from the points to the line,\n",
        "and the mean square error is the average of the squares of these same distances.\n",
        "\n",
        "Another error commonly used is the root mean square error, or RMSE\n",
        "for short. As the name implies, this is defined as the root of the mean square error. It is used to match\n",
        "the units in the problem and also to give us a better idea of how much error the model makes in a\n",
        "prediction.\n",
        "\n",
        "**Gradient descent: How to decrease an error function by slowly descending\n",
        "from a mountain**\n",
        "\n",
        "We are using `The square trick` and `The absolute trick` in the training\n",
        "process.\n",
        "\n",
        "Every time we “move a\n",
        "small amount in this direction,” we are calculating in the background a derivative of the error\n",
        "function and using it to give us a direction in which to move our line.\n",
        "\n",
        "We want to find the line that best fits our data. We have a metric called the error function, which\n",
        "tells us how far a line is from the data. Thus, if we could just reduce this number as much as possible,\n",
        "we would find the best line fit. This process, common in many areas in mathematics, is\n",
        "called minimizing functions, that is, finding the smallest possible value that a function can return.\n",
        "This is where gradient descent comes in: it is a great way to minimize a function.\n",
        "\n",
        "The code for calculating the RMSE follows:"
      ],
      "metadata": {
        "id": "OO3r02P-bHNn"
      }
    },
    {
      "cell_type": "code",
      "source": [
        "def rmse(labels, predictions):\n",
        "  n = len(labels)\n",
        "  differences = np.subtract(labels, predictions)\n",
        "  return np.sqrt(1.0 / n * (np.dot(differences, differences)))"
      ],
      "metadata": {
        "id": "jEmDL-cCh6Qa"
      },
      "execution_count": 15,
      "outputs": []
    },
    {
      "cell_type": "markdown",
      "source": [
        "> we used the dot product, which is an easy way\n",
        "to write a sum of products of corresponding terms in two vectors.\n",
        "\n"
      ],
      "metadata": {
        "id": "By68K1IMijZ0"
      }
    },
    {
      "cell_type": "markdown",
      "source": [
        "Let's plot the error function."
      ],
      "metadata": {
        "id": "sR1Idh_Li9pH"
      }
    },
    {
      "cell_type": "code",
      "source": [
        "def linear_regression(features, labels, learning_rate=0.01, epochs=1000):\n",
        "  # Generates random values for the slope and the y-intercept\n",
        "  price_per_room = random.random()\n",
        "  base_price = random.random()\n",
        "  errors = []\n",
        "\n",
        "  for epoch in range(epochs):\n",
        "    # make prediction\n",
        "    predictions = features[0] * price_per_room + base_price\n",
        "    # calculate error\n",
        "    errors.append(rmse(labels, predictions))\n",
        "    \n",
        "    # Picks a random point on our dataset\n",
        "    i = random.randint(0, len(features) - 1)\n",
        "    num_rooms = features[i]\n",
        "    actual_price = labels[i]\n",
        "\n",
        "    # Applies the square trick to move the line closer to our point\n",
        "    price_per_room, base_price = square_trick(base_price, \n",
        "                                              price_per_room, \n",
        "                                              num_rooms, \n",
        "                                              actual_price, \n",
        "                                              learning_rate=learning_rate)\n",
        "\n",
        "  draw_line(price_per_room, base_price, \"black\", starting=0, ending=9)\n",
        "  plot_points(features, labels)\n",
        "\n",
        "  print(f\"Price per room: {price_per_room}\")\n",
        "  print(f\"Base price: {base_price}\")\n",
        "  plt.show()\n",
        "  plt.scatter(range(len(errors)), errors)\n",
        "  plt.show()\n",
        "  \n",
        "  return price_per_room, base_price"
      ],
      "metadata": {
        "id": "AHhZL1tOjDyZ"
      },
      "execution_count": 16,
      "outputs": []
    },
    {
      "cell_type": "code",
      "source": [
        "linear_regression(features, labels, learning_rate=0.01, epochs=1000)"
      ],
      "metadata": {
        "id": "utBm_F5WlhlH",
        "outputId": "151cf9c2-dbbf-418a-8fe5-2cc5677cf26b",
        "colab": {
          "base_uri": "https://localhost:8080/",
          "height": 579
        }
      },
      "execution_count": 17,
      "outputs": [
        {
          "output_type": "stream",
          "name": "stdout",
          "text": [
            "Price per room: 52.67716723558409\n",
            "Base price: 89.8803156463345\n"
          ]
        },
        {
          "output_type": "display_data",
          "data": {
            "text/plain": [
              "<Figure size 432x288 with 1 Axes>"
            ],
            "image/png": "[encoded data removed]"
          },
          "metadata": {
            "needs_background": "light"
          }
        },
        {
          "output_type": "display_data",
          "data": {
            "text/plain": [
              "<Figure size 432x288 with 1 Axes>"
            ],
            "image/png": "[encoded data removed]"
          },
          "metadata": {
            "needs_background": "light"
          }
        },
        {
          "output_type": "execute_result",
          "data": {
            "text/plain": [
              "(52.67716723558409, 89.8803156463345)"
            ]
          },
          "metadata": {},
          "execution_count": 17
        }
      ]
    },
    {
      "cell_type": "markdown",
      "source": [
        "##Training with gradient descent"
      ],
      "metadata": {
        "id": "Nfdd3gDOmlUq"
      }
    },
    {
      "cell_type": "markdown",
      "source": [
        "The reality is that we can train models by iterating on one point at a time or on the entire\n",
        "dataset. However, when the datasets are very big, both options may be expensive. We can practice\n",
        "mini-batch learning,\n",
        "a useful method called\n",
        "which consists of dividing our data into many mini\n",
        "batches.\n",
        "\n",
        "In each iteration of the linear regression algorithm, we pick one of the mini-batches and\n",
        "proceed to adjust the weights of the model to reduce the error in that mini-batch.\n",
        "\n",
        "The decision\n",
        "of using one point, a mini-batch of points, or the entire dataset on each iteration gives rise to\n",
        "three general types of gradient descent algorithms.\n",
        "\n",
        "* When we use one point at a time, it is called\n",
        "stochastic gradient descent.\n",
        "\n",
        "* When we use a mini-batch, it is called mini-batch gradient descent.\n",
        "\n",
        "* When we use the entire dataset, it is called batch gradient descent."
      ],
      "metadata": {
        "id": "kjLT5dI_vvq-"
      }
    }
  ]
}