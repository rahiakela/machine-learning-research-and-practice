{
  "nbformat": 4,
  "nbformat_minor": 0,
  "metadata": {
    "colab": {
      "name": "01-spam-detection-with-naive-bayes.ipynb",
      "provenance": [],
      "toc_visible": true,
      "authorship_tag": "ABX9TyMRiXomILFirRPZoBhNkTqb",
      "include_colab_link": true
    },
    "kernelspec": {
      "name": "python3",
      "display_name": "Python 3"
    },
    "language_info": {
      "name": "python"
    }
  },
  "cells": [
    {
      "cell_type": "markdown",
      "metadata": {
        "id": "view-in-github",
        "colab_type": "text"
      },
      "source": [
        "<a href=\"https://colab.research.google.com/github/rahiakela/machine-learning-research-and-practice/blob/main/grokking-machine-learning/08-naive-bayes-model/01_spam_detection_with_naive_bayes.ipynb\" target=\"_parent\"><img src=\"https://colab.research.google.com/assets/colab-badge.svg\" alt=\"Open In Colab\"/></a>"
      ]
    },
    {
      "cell_type": "markdown",
      "source": [
        "##Spam-detection with naive Bayes"
      ],
      "metadata": {
        "id": "R2qvSgZaw1fT"
      }
    },
    {
      "cell_type": "markdown",
      "source": [
        "Now that we have developed the algorithm, let’s roll up our sleeves and code the naive Bayes\n",
        "algorithm."
      ],
      "metadata": {
        "id": "aI-qMbrtxAJ4"
      }
    },
    {
      "cell_type": "markdown",
      "source": [
        "##Setup"
      ],
      "metadata": {
        "id": "tuYDtYyVy1Qo"
      }
    },
    {
      "cell_type": "code",
      "source": [
        "import pandas as pd\n",
        "import numpy as np\n",
        "import random\n",
        "import matplotlib.pyplot as plt\n",
        "\n",
        "random.seed(0)"
      ],
      "metadata": {
        "id": "idY6aIXsyx0f"
      },
      "execution_count": 1,
      "outputs": []
    },
    {
      "cell_type": "code",
      "source": [
        "!wget https://github.com/luisguiserrano/manning/raw/master/Chapter_8_Naive_Bayes/emails.csv"
      ],
      "metadata": {
        "id": "_KlvPuqMoz_U"
      },
      "execution_count": null,
      "outputs": []
    },
    {
      "cell_type": "markdown",
      "source": [
        "##Dataset preprocessing"
      ],
      "metadata": {
        "id": "ytLwhBiHy3h6"
      }
    },
    {
      "cell_type": "markdown",
      "source": [
        "First, let's load the dataset."
      ],
      "metadata": {
        "id": "BuLRuYg8y7Ym"
      }
    },
    {
      "cell_type": "code",
      "source": [
        "emails = pd.read_csv(\"emails.csv\")\n",
        "emails.head()"
      ],
      "metadata": {
        "id": "majwWTVAyBej",
        "colab": {
          "base_uri": "https://localhost:8080/",
          "height": 206
        },
        "outputId": "1059100b-0203-4bc0-a2d9-eac85b303ea8"
      },
      "execution_count": 3,
      "outputs": [
        {
          "output_type": "execute_result",
          "data": {
            "text/plain": [
              "                                                text  spam\n",
              "0  Subject: naturally irresistible your corporate...     1\n",
              "1  Subject: the stock trading gunslinger  fanny i...     1\n",
              "2  Subject: unbelievable new homes made easy  im ...     1\n",
              "3  Subject: 4 color printing special  request add...     1\n",
              "4  Subject: do not have money , get software cds ...     1"
            ],
            "text/html": [
              "\n",
              "  <div id=\"df-5813a161-7764-409f-b6b3-bd78b4fb660f\">\n",
              "    <div class=\"colab-df-container\">\n",
              "      <div>\n",
              "<style scoped>\n",
              "    .dataframe tbody tr th:only-of-type {\n",
              "        vertical-align: middle;\n",
              "    }\n",
              "\n",
              "    .dataframe tbody tr th {\n",
              "        vertical-align: top;\n",
              "    }\n",
              "\n",
              "    .dataframe thead th {\n",
              "        text-align: right;\n",
              "    }\n",
              "</style>\n",
              "<table border=\"1\" class=\"dataframe\">\n",
              "  <thead>\n",
              "    <tr style=\"text-align: right;\">\n",
              "      <th></th>\n",
              "      <th>text</th>\n",
              "      <th>spam</th>\n",
              "    </tr>\n",
              "  </thead>\n",
              "  <tbody>\n",
              "    <tr>\n",
              "      <th>0</th>\n",
              "      <td>Subject: naturally irresistible your corporate...</td>\n",
              "      <td>1</td>\n",
              "    </tr>\n",
              "    <tr>\n",
              "      <th>1</th>\n",
              "      <td>Subject: the stock trading gunslinger  fanny i...</td>\n",
              "      <td>1</td>\n",
              "    </tr>\n",
              "    <tr>\n",
              "      <th>2</th>\n",
              "      <td>Subject: unbelievable new homes made easy  im ...</td>\n",
              "      <td>1</td>\n",
              "    </tr>\n",
              "    <tr>\n",
              "      <th>3</th>\n",
              "      <td>Subject: 4 color printing special  request add...</td>\n",
              "      <td>1</td>\n",
              "    </tr>\n",
              "    <tr>\n",
              "      <th>4</th>\n",
              "      <td>Subject: do not have money , get software cds ...</td>\n",
              "      <td>1</td>\n",
              "    </tr>\n",
              "  </tbody>\n",
              "</table>\n",
              "</div>\n",
              "      <button class=\"colab-df-convert\" onclick=\"convertToInteractive('df-5813a161-7764-409f-b6b3-bd78b4fb660f')\"\n",
              "              title=\"Convert this dataframe to an interactive table.\"\n",
              "              style=\"display:none;\">\n",
              "        \n",
              "  <svg xmlns=\"http://www.w3.org/2000/svg\" height=\"24px\"viewBox=\"0 0 24 24\"\n",
              "       width=\"24px\">\n",
              "    <path d=\"M0 0h24v24H0V0z\" fill=\"none\"/>\n",
              "    <path d=\"M18.56 5.44l.94 2.06.94-2.06 2.06-.94-2.06-.94-.94-2.06-.94 2.06-2.06.94zm-11 1L8.5 8.5l.94-2.06 2.06-.94-2.06-.94L8.5 2.5l-.94 2.06-2.06.94zm10 10l.94 2.06.94-2.06 2.06-.94-2.06-.94-.94-2.06-.94 2.06-2.06.94z\"/><path d=\"M17.41 7.96l-1.37-1.37c-.4-.4-.92-.59-1.43-.59-.52 0-1.04.2-1.43.59L10.3 9.45l-7.72 7.72c-.78.78-.78 2.05 0 2.83L4 21.41c.39.39.9.59 1.41.59.51 0 1.02-.2 1.41-.59l7.78-7.78 2.81-2.81c.8-.78.8-2.07 0-2.86zM5.41 20L4 18.59l7.72-7.72 1.47 1.35L5.41 20z\"/>\n",
              "  </svg>\n",
              "      </button>\n",
              "      \n",
              "  <style>\n",
              "    .colab-df-container {\n",
              "      display:flex;\n",
              "      flex-wrap:wrap;\n",
              "      gap: 12px;\n",
              "    }\n",
              "\n",
              "    .colab-df-convert {\n",
              "      background-color: #E8F0FE;\n",
              "      border: none;\n",
              "      border-radius: 50%;\n",
              "      cursor: pointer;\n",
              "      display: none;\n",
              "      fill: #1967D2;\n",
              "      height: 32px;\n",
              "      padding: 0 0 0 0;\n",
              "      width: 32px;\n",
              "    }\n",
              "\n",
              "    .colab-df-convert:hover {\n",
              "      background-color: #E2EBFA;\n",
              "      box-shadow: 0px 1px 2px rgba(60, 64, 67, 0.3), 0px 1px 3px 1px rgba(60, 64, 67, 0.15);\n",
              "      fill: #174EA6;\n",
              "    }\n",
              "\n",
              "    [theme=dark] .colab-df-convert {\n",
              "      background-color: #3B4455;\n",
              "      fill: #D2E3FC;\n",
              "    }\n",
              "\n",
              "    [theme=dark] .colab-df-convert:hover {\n",
              "      background-color: #434B5C;\n",
              "      box-shadow: 0px 1px 3px 1px rgba(0, 0, 0, 0.15);\n",
              "      filter: drop-shadow(0px 1px 2px rgba(0, 0, 0, 0.3));\n",
              "      fill: #FFFFFF;\n",
              "    }\n",
              "  </style>\n",
              "\n",
              "      <script>\n",
              "        const buttonEl =\n",
              "          document.querySelector('#df-5813a161-7764-409f-b6b3-bd78b4fb660f button.colab-df-convert');\n",
              "        buttonEl.style.display =\n",
              "          google.colab.kernel.accessAllowed ? 'block' : 'none';\n",
              "\n",
              "        async function convertToInteractive(key) {\n",
              "          const element = document.querySelector('#df-5813a161-7764-409f-b6b3-bd78b4fb660f');\n",
              "          const dataTable =\n",
              "            await google.colab.kernel.invokeFunction('convertToInteractive',\n",
              "                                                     [key], {});\n",
              "          if (!dataTable) return;\n",
              "\n",
              "          const docLinkHtml = 'Like what you see? Visit the ' +\n",
              "            '<a target=\"_blank\" href=https://colab.research.google.com/notebooks/data_table.ipynb>data table notebook</a>'\n",
              "            + ' to learn more about interactive tables.';\n",
              "          element.innerHTML = '';\n",
              "          dataTable['output_type'] = 'display_data';\n",
              "          await google.colab.output.renderOutput(dataTable, element);\n",
              "          const docLink = document.createElement('div');\n",
              "          docLink.innerHTML = docLinkHtml;\n",
              "          element.appendChild(docLink);\n",
              "        }\n",
              "      </script>\n",
              "    </div>\n",
              "  </div>\n",
              "  "
            ]
          },
          "metadata": {},
          "execution_count": 3
        }
      ]
    },
    {
      "cell_type": "code",
      "source": [
        "def process_email(text):\n",
        "  text = text.lower()\n",
        "  return list(set(text.split()))"
      ],
      "metadata": {
        "id": "-Vy0jNWypdd5"
      },
      "execution_count": 4,
      "outputs": []
    },
    {
      "cell_type": "code",
      "source": [
        "emails[\"words\"] = emails[\"text\"].apply(process_email)\n",
        "emails.head()"
      ],
      "metadata": {
        "id": "wVboOWRYrRoh",
        "colab": {
          "base_uri": "https://localhost:8080/",
          "height": 206
        },
        "outputId": "1fccffff-5e7b-4a65-9eb8-e32c20dcdf14"
      },
      "execution_count": 5,
      "outputs": [
        {
          "output_type": "execute_result",
          "data": {
            "text/plain": [
              "                                                text  spam  \\\n",
              "0  Subject: naturally irresistible your corporate...     1   \n",
              "1  Subject: the stock trading gunslinger  fanny i...     1   \n",
              "2  Subject: unbelievable new homes made easy  im ...     1   \n",
              "3  Subject: 4 color printing special  request add...     1   \n",
              "4  Subject: do not have money , get software cds ...     1   \n",
              "\n",
              "                                               words  \n",
              "0  [it, do, our, will, :, distinctive, hard, with...  \n",
              "1  [attire, attainder, try, plain, merrill, chron...  \n",
              "2  [unconditionally, we, approved, time, $, and, ...  \n",
              "3  [goldengraphix, mail, and, (, our, is, 4, rams...  \n",
              "4  [finish, are, it, do, is, to, compatibility, c...  "
            ],
            "text/html": [
              "\n",
              "  <div id=\"df-cc49ed95-028d-4562-a842-d83e740fe79d\">\n",
              "    <div class=\"colab-df-container\">\n",
              "      <div>\n",
              "<style scoped>\n",
              "    .dataframe tbody tr th:only-of-type {\n",
              "        vertical-align: middle;\n",
              "    }\n",
              "\n",
              "    .dataframe tbody tr th {\n",
              "        vertical-align: top;\n",
              "    }\n",
              "\n",
              "    .dataframe thead th {\n",
              "        text-align: right;\n",
              "    }\n",
              "</style>\n",
              "<table border=\"1\" class=\"dataframe\">\n",
              "  <thead>\n",
              "    <tr style=\"text-align: right;\">\n",
              "      <th></th>\n",
              "      <th>text</th>\n",
              "      <th>spam</th>\n",
              "      <th>words</th>\n",
              "    </tr>\n",
              "  </thead>\n",
              "  <tbody>\n",
              "    <tr>\n",
              "      <th>0</th>\n",
              "      <td>Subject: naturally irresistible your corporate...</td>\n",
              "      <td>1</td>\n",
              "      <td>[it, do, our, will, :, distinctive, hard, with...</td>\n",
              "    </tr>\n",
              "    <tr>\n",
              "      <th>1</th>\n",
              "      <td>Subject: the stock trading gunslinger  fanny i...</td>\n",
              "      <td>1</td>\n",
              "      <td>[attire, attainder, try, plain, merrill, chron...</td>\n",
              "    </tr>\n",
              "    <tr>\n",
              "      <th>2</th>\n",
              "      <td>Subject: unbelievable new homes made easy  im ...</td>\n",
              "      <td>1</td>\n",
              "      <td>[unconditionally, we, approved, time, $, and, ...</td>\n",
              "    </tr>\n",
              "    <tr>\n",
              "      <th>3</th>\n",
              "      <td>Subject: 4 color printing special  request add...</td>\n",
              "      <td>1</td>\n",
              "      <td>[goldengraphix, mail, and, (, our, is, 4, rams...</td>\n",
              "    </tr>\n",
              "    <tr>\n",
              "      <th>4</th>\n",
              "      <td>Subject: do not have money , get software cds ...</td>\n",
              "      <td>1</td>\n",
              "      <td>[finish, are, it, do, is, to, compatibility, c...</td>\n",
              "    </tr>\n",
              "  </tbody>\n",
              "</table>\n",
              "</div>\n",
              "      <button class=\"colab-df-convert\" onclick=\"convertToInteractive('df-cc49ed95-028d-4562-a842-d83e740fe79d')\"\n",
              "              title=\"Convert this dataframe to an interactive table.\"\n",
              "              style=\"display:none;\">\n",
              "        \n",
              "  <svg xmlns=\"http://www.w3.org/2000/svg\" height=\"24px\"viewBox=\"0 0 24 24\"\n",
              "       width=\"24px\">\n",
              "    <path d=\"M0 0h24v24H0V0z\" fill=\"none\"/>\n",
              "    <path d=\"M18.56 5.44l.94 2.06.94-2.06 2.06-.94-2.06-.94-.94-2.06-.94 2.06-2.06.94zm-11 1L8.5 8.5l.94-2.06 2.06-.94-2.06-.94L8.5 2.5l-.94 2.06-2.06.94zm10 10l.94 2.06.94-2.06 2.06-.94-2.06-.94-.94-2.06-.94 2.06-2.06.94z\"/><path d=\"M17.41 7.96l-1.37-1.37c-.4-.4-.92-.59-1.43-.59-.52 0-1.04.2-1.43.59L10.3 9.45l-7.72 7.72c-.78.78-.78 2.05 0 2.83L4 21.41c.39.39.9.59 1.41.59.51 0 1.02-.2 1.41-.59l7.78-7.78 2.81-2.81c.8-.78.8-2.07 0-2.86zM5.41 20L4 18.59l7.72-7.72 1.47 1.35L5.41 20z\"/>\n",
              "  </svg>\n",
              "      </button>\n",
              "      \n",
              "  <style>\n",
              "    .colab-df-container {\n",
              "      display:flex;\n",
              "      flex-wrap:wrap;\n",
              "      gap: 12px;\n",
              "    }\n",
              "\n",
              "    .colab-df-convert {\n",
              "      background-color: #E8F0FE;\n",
              "      border: none;\n",
              "      border-radius: 50%;\n",
              "      cursor: pointer;\n",
              "      display: none;\n",
              "      fill: #1967D2;\n",
              "      height: 32px;\n",
              "      padding: 0 0 0 0;\n",
              "      width: 32px;\n",
              "    }\n",
              "\n",
              "    .colab-df-convert:hover {\n",
              "      background-color: #E2EBFA;\n",
              "      box-shadow: 0px 1px 2px rgba(60, 64, 67, 0.3), 0px 1px 3px 1px rgba(60, 64, 67, 0.15);\n",
              "      fill: #174EA6;\n",
              "    }\n",
              "\n",
              "    [theme=dark] .colab-df-convert {\n",
              "      background-color: #3B4455;\n",
              "      fill: #D2E3FC;\n",
              "    }\n",
              "\n",
              "    [theme=dark] .colab-df-convert:hover {\n",
              "      background-color: #434B5C;\n",
              "      box-shadow: 0px 1px 3px 1px rgba(0, 0, 0, 0.15);\n",
              "      filter: drop-shadow(0px 1px 2px rgba(0, 0, 0, 0.3));\n",
              "      fill: #FFFFFF;\n",
              "    }\n",
              "  </style>\n",
              "\n",
              "      <script>\n",
              "        const buttonEl =\n",
              "          document.querySelector('#df-cc49ed95-028d-4562-a842-d83e740fe79d button.colab-df-convert');\n",
              "        buttonEl.style.display =\n",
              "          google.colab.kernel.accessAllowed ? 'block' : 'none';\n",
              "\n",
              "        async function convertToInteractive(key) {\n",
              "          const element = document.querySelector('#df-cc49ed95-028d-4562-a842-d83e740fe79d');\n",
              "          const dataTable =\n",
              "            await google.colab.kernel.invokeFunction('convertToInteractive',\n",
              "                                                     [key], {});\n",
              "          if (!dataTable) return;\n",
              "\n",
              "          const docLinkHtml = 'Like what you see? Visit the ' +\n",
              "            '<a target=\"_blank\" href=https://colab.research.google.com/notebooks/data_table.ipynb>data table notebook</a>'\n",
              "            + ' to learn more about interactive tables.';\n",
              "          element.innerHTML = '';\n",
              "          dataTable['output_type'] = 'display_data';\n",
              "          await google.colab.output.renderOutput(dataTable, element);\n",
              "          const docLink = document.createElement('div');\n",
              "          docLink.innerHTML = docLinkHtml;\n",
              "          element.appendChild(docLink);\n",
              "        }\n",
              "      </script>\n",
              "    </div>\n",
              "  </div>\n",
              "  "
            ]
          },
          "metadata": {},
          "execution_count": 5
        }
      ]
    },
    {
      "cell_type": "markdown",
      "source": [
        "##Finding the priors"
      ],
      "metadata": {
        "id": "8_N762UIJj9s"
      }
    },
    {
      "cell_type": "markdown",
      "source": [
        "Let’s first find the probability that an email is spam (the prior)."
      ],
      "metadata": {
        "id": "KEeZT14JJvM9"
      }
    },
    {
      "cell_type": "code",
      "source": [
        "num_emails  = len(emails)\n",
        "num_spam = sum(emails[\"spam\"])\n",
        "print(f\"Number of emails: {num_emails}\")\n",
        "print(f\"Number of spam emails: {num_spam}\")\n",
        "print()\n",
        "\n",
        "# Calculating the prior probability that an email is spam\n",
        "print(f\"Probability of spam: {num_spam / num_emails}\")"
      ],
      "metadata": {
        "id": "v_uYU0vUUHkD",
        "colab": {
          "base_uri": "https://localhost:8080/"
        },
        "outputId": "038f8594-91ae-415a-978e-0f28e5d9fc48"
      },
      "execution_count": 6,
      "outputs": [
        {
          "output_type": "stream",
          "name": "stdout",
          "text": [
            "Number of emails: 5728\n",
            "Number of spam emails: 1368\n",
            "\n",
            "Probability of spam: 0.2388268156424581\n"
          ]
        }
      ]
    },
    {
      "cell_type": "markdown",
      "source": [
        "We deduce that the prior probability that the email is spam is around 0.24. This is the probability\n",
        "that an email is spam if we don’t know anything about the email. \n",
        "\n",
        "Likewise, the prior probability\n",
        "that an email is ham is around 0.76."
      ],
      "metadata": {
        "id": "fHfuIeVmKYJK"
      }
    },
    {
      "cell_type": "markdown",
      "source": [
        "##Finding the posteriors"
      ],
      "metadata": {
        "id": "N0nUpYnPKajI"
      }
    },
    {
      "cell_type": "markdown",
      "source": [
        "We need to find the probabilities that spam (and ham) emails contain a certain word."
      ],
      "metadata": {
        "id": "pN7BPUPnKfUr"
      }
    },
    {
      "cell_type": "code",
      "source": [
        "#  write a dictionary, and in this dictionary record every word, and its pair of occurrences in spam and ham\n",
        "model = {}\n",
        "for index, email in emails.iterrows():\n",
        "  for word in email[\"words\"]:\n",
        "    if word not in model:\n",
        "      # Note that the counts are initialized at 1 to avoid having zero counts\n",
        "      model[word] = {\"spam\": 1, \"ham\": 1}\n",
        "    if word in model:\n",
        "      if email[\"spam\"]:\n",
        "        model[word][\"spam\"] += 1\n",
        "      else:\n",
        "        model[word][\"ham\"] += 1"
      ],
      "metadata": {
        "id": "b8shBe0IQv5m"
      },
      "execution_count": 7,
      "outputs": []
    },
    {
      "cell_type": "markdown",
      "source": [
        "Now let’s examine some rows of the dictionary."
      ],
      "metadata": {
        "id": "384uoMjiR6zu"
      }
    },
    {
      "cell_type": "code",
      "source": [
        "model[\"lottery\"]"
      ],
      "metadata": {
        "id": "aB7TUgozR7pr",
        "outputId": "a69a2dbb-5da1-4fb9-c1aa-93879f759601",
        "colab": {
          "base_uri": "https://localhost:8080/"
        }
      },
      "execution_count": 8,
      "outputs": [
        {
          "output_type": "execute_result",
          "data": {
            "text/plain": [
              "{'ham': 1, 'spam': 9}"
            ]
          },
          "metadata": {},
          "execution_count": 8
        }
      ]
    },
    {
      "cell_type": "code",
      "source": [
        "model[\"sale\"]"
      ],
      "metadata": {
        "id": "9rwzmKJhSAhF",
        "outputId": "c125ab53-2439-4020-9016-2c3efce17b11",
        "colab": {
          "base_uri": "https://localhost:8080/"
        }
      },
      "execution_count": 9,
      "outputs": [
        {
          "output_type": "execute_result",
          "data": {
            "text/plain": [
              "{'ham': 42, 'spam': 39}"
            ]
          },
          "metadata": {},
          "execution_count": 9
        }
      ]
    },
    {
      "cell_type": "markdown",
      "source": [
        "Although this dictionary doesn’t contain any\n",
        "probabilities, these can be deduced by dividing the first entry by the sum of both entries.\n"
      ],
      "metadata": {
        "id": "b7gSg1zKSWUH"
      }
    },
    {
      "cell_type": "code",
      "source": [
        "# the probability of lottery being spam\n",
        "model[\"lottery\"][\"spam\"] / (model[\"lottery\"][\"ham\"] + model[\"lottery\"][\"spam\"])"
      ],
      "metadata": {
        "id": "VRl-6dbYSXpn",
        "outputId": "7c6957af-f5b5-4cda-fac7-56e5c017acbc",
        "colab": {
          "base_uri": "https://localhost:8080/"
        }
      },
      "execution_count": 10,
      "outputs": [
        {
          "output_type": "execute_result",
          "data": {
            "text/plain": [
              "0.9"
            ]
          },
          "metadata": {},
          "execution_count": 10
        }
      ]
    },
    {
      "cell_type": "code",
      "source": [
        "# the probability of sale being spam\n",
        "model[\"sale\"][\"spam\"] / (model[\"sale\"][\"ham\"] + model[\"sale\"][\"spam\"])"
      ],
      "metadata": {
        "id": "XQjoDwW_S4ux",
        "outputId": "06b8af09-2c26-4396-fc86-c3179003aeb4",
        "colab": {
          "base_uri": "https://localhost:8080/"
        }
      },
      "execution_count": 11,
      "outputs": [
        {
          "output_type": "execute_result",
          "data": {
            "text/plain": [
              "0.48148148148148145"
            ]
          },
          "metadata": {},
          "execution_count": 11
        }
      ]
    },
    {
      "cell_type": "markdown",
      "source": [
        "Let's generalize it."
      ],
      "metadata": {
        "id": "vkIqaNyuTVHK"
      }
    },
    {
      "cell_type": "code",
      "source": [
        "def predict_bayes(word):\n",
        "  word = word.lower()\n",
        "  num_spam = model[word][\"spam\"]\n",
        "  num_ham = model[word][\"ham\"]\n",
        "  return 1.0 * num_spam / (num_spam + num_ham)"
      ],
      "metadata": {
        "id": "-7RHe0X3TYq6"
      },
      "execution_count": 12,
      "outputs": []
    },
    {
      "cell_type": "code",
      "source": [
        "predict_bayes(\"lottery\")"
      ],
      "metadata": {
        "id": "Ia8LAuRuTvfc",
        "outputId": "25f321a7-7b6a-475c-d955-a4543a11257e",
        "colab": {
          "base_uri": "https://localhost:8080/"
        }
      },
      "execution_count": 13,
      "outputs": [
        {
          "output_type": "execute_result",
          "data": {
            "text/plain": [
              "0.9"
            ]
          },
          "metadata": {},
          "execution_count": 13
        }
      ]
    },
    {
      "cell_type": "code",
      "source": [
        "predict_bayes(\"sale\")"
      ],
      "metadata": {
        "id": "vkjIfg_OTzjW",
        "outputId": "8e4aebfd-e040-43bc-a5c9-581131ddfff3",
        "colab": {
          "base_uri": "https://localhost:8080/"
        }
      },
      "execution_count": 14,
      "outputs": [
        {
          "output_type": "execute_result",
          "data": {
            "text/plain": [
              "0.48148148148148145"
            ]
          },
          "metadata": {},
          "execution_count": 14
        }
      ]
    },
    {
      "cell_type": "code",
      "source": [
        "predict_bayes(\"won\")"
      ],
      "metadata": {
        "id": "FPt2JBGYT225",
        "outputId": "f191ecf6-6373-4d06-d5c2-e3d76e56dcb7",
        "colab": {
          "base_uri": "https://localhost:8080/"
        }
      },
      "execution_count": 15,
      "outputs": [
        {
          "output_type": "execute_result",
          "data": {
            "text/plain": [
              "0.3595505617977528"
            ]
          },
          "metadata": {},
          "execution_count": 15
        }
      ]
    },
    {
      "cell_type": "markdown",
      "source": [
        "##The naive Bayes algorithm"
      ],
      "metadata": {
        "id": "P_oHP64qTErE"
      }
    },
    {
      "cell_type": "markdown",
      "source": [
        "The input of the algorithm is the email. It goes through all the words in the email, and for each\n",
        "word, it calculates the probabilities that a spam email contains it and that a ham email contains\n",
        "it.\n",
        "\n",
        "Then we multiply these probabilities (the naive assumption) and apply Bayes’ theorem to find the\n",
        "probability that an email is spam given that it contains the words on this particular email."
      ],
      "metadata": {
        "id": "veUHR-ULTGUW"
      }
    },
    {
      "cell_type": "code",
      "source": [
        "def predict_naive_bayes(email):\n",
        "  # Calculates the total number of emails, spam emails, and ham emails\n",
        "  total = len(emails)\n",
        "  num_spam = sum(emails[\"spam\"])\n",
        "  num_ham = total - num_spam\n",
        "\n",
        "  # Processes each email by turning it into a list of its words in lowercase\n",
        "  email = email.lower()\n",
        "  words = set(email.split())\n",
        "  spams = [1.0]\n",
        "  hams = [1.0]\n",
        "\n",
        "  # For each word, computes the conditional probability that an email containing that word is spam (or ham), as a ratio\n",
        "  for word in words:\n",
        "    if word in model:\n",
        "      spams.append(model[word][\"spam\"] / num_spam * total)\n",
        "      hams.append(model[word][\"ham\"] / num_ham * total)\n",
        "\n",
        "  # Multiplies all the previous probabilities times the prior probability of the email being spam, and ham\n",
        "  prod_spams = np.log(np.prod(spams) * num_spam)\n",
        "  prod_hams = np.log(np.prod(hams) * num_ham)\n",
        "\n",
        "  # Normalizes these two probabilities to get them to add to one (using Bayes’ theorem) and returns the result\n",
        "  return prod_spams / (prod_spams + prod_hams)"
      ],
      "metadata": {
        "id": "_umGN07ANC4L"
      },
      "execution_count": 18,
      "outputs": []
    },
    {
      "cell_type": "markdown",
      "source": [
        "Now that we have built the model, let’s test it by making predictions on some emails."
      ],
      "metadata": {
        "id": "xOMIbAjNParP"
      }
    },
    {
      "cell_type": "code",
      "source": [
        "predict_naive_bayes(\"lottery sale\")"
      ],
      "metadata": {
        "id": "RdSeBnroQDfN",
        "outputId": "756bf7af-80a7-416d-c7b0-8a7768a56f0f",
        "colab": {
          "base_uri": "https://localhost:8080/"
        }
      },
      "execution_count": 22,
      "outputs": [
        {
          "output_type": "execute_result",
          "data": {
            "text/plain": [
              "0.5573625228656424"
            ]
          },
          "metadata": {},
          "execution_count": 22
        }
      ]
    },
    {
      "cell_type": "code",
      "source": [
        "predict_naive_bayes(\"Hi mom how are you\")"
      ],
      "metadata": {
        "id": "ef9ZQfaOPbSR",
        "outputId": "183fa150-5c56-46f4-ecc2-aea5c103dd3e",
        "colab": {
          "base_uri": "https://localhost:8080/"
        }
      },
      "execution_count": 19,
      "outputs": [
        {
          "output_type": "execute_result",
          "data": {
            "text/plain": [
              "0.48743444104407146"
            ]
          },
          "metadata": {},
          "execution_count": 19
        }
      ]
    },
    {
      "cell_type": "code",
      "source": [
        "predict_naive_bayes(\"Hi MOM how aRe yoU afdjsaklfsdhgjasdhfjklsd\")"
      ],
      "metadata": {
        "id": "FLAwwyVZP-El",
        "outputId": "bf3fe94d-abac-45c0-a00a-cb42d039b61e",
        "colab": {
          "base_uri": "https://localhost:8080/"
        }
      },
      "execution_count": 21,
      "outputs": [
        {
          "output_type": "execute_result",
          "data": {
            "text/plain": [
              "0.48743444104407146"
            ]
          },
          "metadata": {},
          "execution_count": 21
        }
      ]
    },
    {
      "cell_type": "code",
      "source": [
        "predict_naive_bayes(\"meet me at the lobby of the hotel at nine am\")"
      ],
      "metadata": {
        "id": "Kh2Hd-gNP3m9",
        "outputId": "66053a20-3d75-4819-86bb-52227b619fce",
        "colab": {
          "base_uri": "https://localhost:8080/"
        }
      },
      "execution_count": 20,
      "outputs": [
        {
          "output_type": "execute_result",
          "data": {
            "text/plain": [
              "0.4619985211948569"
            ]
          },
          "metadata": {},
          "execution_count": 20
        }
      ]
    },
    {
      "cell_type": "code",
      "source": [
        "predict_naive_bayes(\"enter the lottery to win three million dollars\")"
      ],
      "metadata": {
        "id": "D6DKaJUJQLxZ",
        "outputId": "9b11b351-b077-4899-b58e-76de648bbc1a",
        "colab": {
          "base_uri": "https://localhost:8080/"
        }
      },
      "execution_count": 23,
      "outputs": [
        {
          "output_type": "execute_result",
          "data": {
            "text/plain": [
              "0.5371130104014242"
            ]
          },
          "metadata": {},
          "execution_count": 23
        }
      ]
    },
    {
      "cell_type": "code",
      "source": [
        "predict_naive_bayes(\"buy cheap lottery easy money now\")"
      ],
      "metadata": {
        "id": "qDbP08s6QTYO",
        "outputId": "08328014-a1b0-43ca-dce7-dc9501900e6f",
        "colab": {
          "base_uri": "https://localhost:8080/"
        }
      },
      "execution_count": 24,
      "outputs": [
        {
          "output_type": "execute_result",
          "data": {
            "text/plain": [
              "0.5698786029874038"
            ]
          },
          "metadata": {},
          "execution_count": 24
        }
      ]
    },
    {
      "cell_type": "code",
      "source": [
        "predict_naive_bayes(\"Grokking Machine Learning by Luis Serrano\")"
      ],
      "metadata": {
        "id": "TdpWcgtvQYpU",
        "outputId": "cf4c52dc-b5fc-4e5f-d3b0-9ebb915013cb",
        "colab": {
          "base_uri": "https://localhost:8080/"
        }
      },
      "execution_count": 25,
      "outputs": [
        {
          "output_type": "execute_result",
          "data": {
            "text/plain": [
              "0.4969110781385491"
            ]
          },
          "metadata": {},
          "execution_count": 25
        }
      ]
    },
    {
      "cell_type": "code",
      "source": [
        "predict_naive_bayes(\"asdfgh\")"
      ],
      "metadata": {
        "id": "UtMDpd0EQiu5",
        "outputId": "b4f72a42-2fc8-450d-8546-167848753d29",
        "colab": {
          "base_uri": "https://localhost:8080/"
        }
      },
      "execution_count": 26,
      "outputs": [
        {
          "output_type": "execute_result",
          "data": {
            "text/plain": [
              "0.4628518191306706"
            ]
          },
          "metadata": {},
          "execution_count": 26
        }
      ]
    }
  ]
}