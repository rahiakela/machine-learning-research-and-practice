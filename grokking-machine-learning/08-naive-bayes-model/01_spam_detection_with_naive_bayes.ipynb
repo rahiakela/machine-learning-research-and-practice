{
  "nbformat": 4,
  "nbformat_minor": 0,
  "metadata": {
    "colab": {
      "name": "01-spam-detection-with-naive-bayes.ipynb",
      "provenance": [],
      "toc_visible": true,
      "authorship_tag": "ABX9TyNhNZEV+e1IpV3ugMkZ2uiK",
      "include_colab_link": true
    },
    "kernelspec": {
      "name": "python3",
      "display_name": "Python 3"
    },
    "language_info": {
      "name": "python"
    }
  },
  "cells": [
    {
      "cell_type": "markdown",
      "metadata": {
        "id": "view-in-github",
        "colab_type": "text"
      },
      "source": [
        "<a href=\"https://colab.research.google.com/github/rahiakela/machine-learning-research-and-practice/blob/main/grokking-machine-learning/08-naive-bayes-model/01_spam_detection_with_naive_bayes.ipynb\" target=\"_parent\"><img src=\"https://colab.research.google.com/assets/colab-badge.svg\" alt=\"Open In Colab\"/></a>"
      ]
    },
    {
      "cell_type": "markdown",
      "source": [
        "##Spam-detection with naive Bayes"
      ],
      "metadata": {
        "id": "R2qvSgZaw1fT"
      }
    },
    {
      "cell_type": "markdown",
      "source": [
        "Now that we have developed the algorithm, let’s roll up our sleeves and code the naive Bayes\n",
        "algorithm."
      ],
      "metadata": {
        "id": "aI-qMbrtxAJ4"
      }
    },
    {
      "cell_type": "markdown",
      "source": [
        "##Setup"
      ],
      "metadata": {
        "id": "tuYDtYyVy1Qo"
      }
    },
    {
      "cell_type": "code",
      "source": [
        "import pandas as pd\n",
        "import numpy as np\n",
        "import random\n",
        "import matplotlib.pyplot as plt\n",
        "\n",
        "random.seed(0)"
      ],
      "metadata": {
        "id": "idY6aIXsyx0f"
      },
      "execution_count": 1,
      "outputs": []
    },
    {
      "cell_type": "code",
      "source": [
        "!wget https://github.com/luisguiserrano/manning/raw/master/Chapter_8_Naive_Bayes/emails.csv"
      ],
      "metadata": {
        "id": "_KlvPuqMoz_U"
      },
      "execution_count": null,
      "outputs": []
    },
    {
      "cell_type": "markdown",
      "source": [
        "##Dataset preprocessing"
      ],
      "metadata": {
        "id": "ytLwhBiHy3h6"
      }
    },
    {
      "cell_type": "markdown",
      "source": [
        "First, let's load the dataset."
      ],
      "metadata": {
        "id": "BuLRuYg8y7Ym"
      }
    },
    {
      "cell_type": "code",
      "source": [
        "emails = pd.read_csv(\"emails.csv\")\n",
        "emails.head()"
      ],
      "metadata": {
        "id": "majwWTVAyBej",
        "colab": {
          "base_uri": "https://localhost:8080/",
          "height": 206
        },
        "outputId": "f765b96b-b927-477c-9fa2-be34be615caf"
      },
      "execution_count": 3,
      "outputs": [
        {
          "output_type": "execute_result",
          "data": {
            "text/plain": [
              "                                                text  spam\n",
              "0  Subject: naturally irresistible your corporate...     1\n",
              "1  Subject: the stock trading gunslinger  fanny i...     1\n",
              "2  Subject: unbelievable new homes made easy  im ...     1\n",
              "3  Subject: 4 color printing special  request add...     1\n",
              "4  Subject: do not have money , get software cds ...     1"
            ],
            "text/html": [
              "\n",
              "  <div id=\"df-7677d153-82c5-4db8-876a-01cd2ee55633\">\n",
              "    <div class=\"colab-df-container\">\n",
              "      <div>\n",
              "<style scoped>\n",
              "    .dataframe tbody tr th:only-of-type {\n",
              "        vertical-align: middle;\n",
              "    }\n",
              "\n",
              "    .dataframe tbody tr th {\n",
              "        vertical-align: top;\n",
              "    }\n",
              "\n",
              "    .dataframe thead th {\n",
              "        text-align: right;\n",
              "    }\n",
              "</style>\n",
              "<table border=\"1\" class=\"dataframe\">\n",
              "  <thead>\n",
              "    <tr style=\"text-align: right;\">\n",
              "      <th></th>\n",
              "      <th>text</th>\n",
              "      <th>spam</th>\n",
              "    </tr>\n",
              "  </thead>\n",
              "  <tbody>\n",
              "    <tr>\n",
              "      <th>0</th>\n",
              "      <td>Subject: naturally irresistible your corporate...</td>\n",
              "      <td>1</td>\n",
              "    </tr>\n",
              "    <tr>\n",
              "      <th>1</th>\n",
              "      <td>Subject: the stock trading gunslinger  fanny i...</td>\n",
              "      <td>1</td>\n",
              "    </tr>\n",
              "    <tr>\n",
              "      <th>2</th>\n",
              "      <td>Subject: unbelievable new homes made easy  im ...</td>\n",
              "      <td>1</td>\n",
              "    </tr>\n",
              "    <tr>\n",
              "      <th>3</th>\n",
              "      <td>Subject: 4 color printing special  request add...</td>\n",
              "      <td>1</td>\n",
              "    </tr>\n",
              "    <tr>\n",
              "      <th>4</th>\n",
              "      <td>Subject: do not have money , get software cds ...</td>\n",
              "      <td>1</td>\n",
              "    </tr>\n",
              "  </tbody>\n",
              "</table>\n",
              "</div>\n",
              "      <button class=\"colab-df-convert\" onclick=\"convertToInteractive('df-7677d153-82c5-4db8-876a-01cd2ee55633')\"\n",
              "              title=\"Convert this dataframe to an interactive table.\"\n",
              "              style=\"display:none;\">\n",
              "        \n",
              "  <svg xmlns=\"http://www.w3.org/2000/svg\" height=\"24px\"viewBox=\"0 0 24 24\"\n",
              "       width=\"24px\">\n",
              "    <path d=\"M0 0h24v24H0V0z\" fill=\"none\"/>\n",
              "    <path d=\"M18.56 5.44l.94 2.06.94-2.06 2.06-.94-2.06-.94-.94-2.06-.94 2.06-2.06.94zm-11 1L8.5 8.5l.94-2.06 2.06-.94-2.06-.94L8.5 2.5l-.94 2.06-2.06.94zm10 10l.94 2.06.94-2.06 2.06-.94-2.06-.94-.94-2.06-.94 2.06-2.06.94z\"/><path d=\"M17.41 7.96l-1.37-1.37c-.4-.4-.92-.59-1.43-.59-.52 0-1.04.2-1.43.59L10.3 9.45l-7.72 7.72c-.78.78-.78 2.05 0 2.83L4 21.41c.39.39.9.59 1.41.59.51 0 1.02-.2 1.41-.59l7.78-7.78 2.81-2.81c.8-.78.8-2.07 0-2.86zM5.41 20L4 18.59l7.72-7.72 1.47 1.35L5.41 20z\"/>\n",
              "  </svg>\n",
              "      </button>\n",
              "      \n",
              "  <style>\n",
              "    .colab-df-container {\n",
              "      display:flex;\n",
              "      flex-wrap:wrap;\n",
              "      gap: 12px;\n",
              "    }\n",
              "\n",
              "    .colab-df-convert {\n",
              "      background-color: #E8F0FE;\n",
              "      border: none;\n",
              "      border-radius: 50%;\n",
              "      cursor: pointer;\n",
              "      display: none;\n",
              "      fill: #1967D2;\n",
              "      height: 32px;\n",
              "      padding: 0 0 0 0;\n",
              "      width: 32px;\n",
              "    }\n",
              "\n",
              "    .colab-df-convert:hover {\n",
              "      background-color: #E2EBFA;\n",
              "      box-shadow: 0px 1px 2px rgba(60, 64, 67, 0.3), 0px 1px 3px 1px rgba(60, 64, 67, 0.15);\n",
              "      fill: #174EA6;\n",
              "    }\n",
              "\n",
              "    [theme=dark] .colab-df-convert {\n",
              "      background-color: #3B4455;\n",
              "      fill: #D2E3FC;\n",
              "    }\n",
              "\n",
              "    [theme=dark] .colab-df-convert:hover {\n",
              "      background-color: #434B5C;\n",
              "      box-shadow: 0px 1px 3px 1px rgba(0, 0, 0, 0.15);\n",
              "      filter: drop-shadow(0px 1px 2px rgba(0, 0, 0, 0.3));\n",
              "      fill: #FFFFFF;\n",
              "    }\n",
              "  </style>\n",
              "\n",
              "      <script>\n",
              "        const buttonEl =\n",
              "          document.querySelector('#df-7677d153-82c5-4db8-876a-01cd2ee55633 button.colab-df-convert');\n",
              "        buttonEl.style.display =\n",
              "          google.colab.kernel.accessAllowed ? 'block' : 'none';\n",
              "\n",
              "        async function convertToInteractive(key) {\n",
              "          const element = document.querySelector('#df-7677d153-82c5-4db8-876a-01cd2ee55633');\n",
              "          const dataTable =\n",
              "            await google.colab.kernel.invokeFunction('convertToInteractive',\n",
              "                                                     [key], {});\n",
              "          if (!dataTable) return;\n",
              "\n",
              "          const docLinkHtml = 'Like what you see? Visit the ' +\n",
              "            '<a target=\"_blank\" href=https://colab.research.google.com/notebooks/data_table.ipynb>data table notebook</a>'\n",
              "            + ' to learn more about interactive tables.';\n",
              "          element.innerHTML = '';\n",
              "          dataTable['output_type'] = 'display_data';\n",
              "          await google.colab.output.renderOutput(dataTable, element);\n",
              "          const docLink = document.createElement('div');\n",
              "          docLink.innerHTML = docLinkHtml;\n",
              "          element.appendChild(docLink);\n",
              "        }\n",
              "      </script>\n",
              "    </div>\n",
              "  </div>\n",
              "  "
            ]
          },
          "metadata": {},
          "execution_count": 3
        }
      ]
    },
    {
      "cell_type": "code",
      "source": [
        "def process_email(text):\n",
        "  text = text.lower()\n",
        "  return list(set(text.split()))"
      ],
      "metadata": {
        "id": "-Vy0jNWypdd5"
      },
      "execution_count": 4,
      "outputs": []
    },
    {
      "cell_type": "code",
      "source": [
        "emails[\"words\"] = emails[\"text\"].apply(process_email)\n",
        "emails.head()"
      ],
      "metadata": {
        "id": "wVboOWRYrRoh",
        "colab": {
          "base_uri": "https://localhost:8080/",
          "height": 206
        },
        "outputId": "3bccc877-6ecc-4379-eb61-ab76043b5b8e"
      },
      "execution_count": 5,
      "outputs": [
        {
          "output_type": "execute_result",
          "data": {
            "text/plain": [
              "                                                text  spam  \\\n",
              "0  Subject: naturally irresistible your corporate...     1   \n",
              "1  Subject: the stock trading gunslinger  fanny i...     1   \n",
              "2  Subject: unbelievable new homes made easy  im ...     1   \n",
              "3  Subject: 4 color printing special  request add...     1   \n",
              "4  Subject: do not have money , get software cds ...     1   \n",
              "\n",
              "                                               words  \n",
              "0  [you, iogo, nowadays, benefits, within, really...  \n",
              "1  [pirogue, earmark, optima, trading, sapling, s...  \n",
              "2  [you, show, for, of, minute, unconditionally, ...  \n",
              "3  [canyon, goldengraphix, for, of, format, ramse...  \n",
              "4  [great, be, money, tradgedies, ain, ?, are, he...  "
            ],
            "text/html": [
              "\n",
              "  <div id=\"df-f2fb25b3-124e-4ac4-9cdd-15d3ca8fbf8c\">\n",
              "    <div class=\"colab-df-container\">\n",
              "      <div>\n",
              "<style scoped>\n",
              "    .dataframe tbody tr th:only-of-type {\n",
              "        vertical-align: middle;\n",
              "    }\n",
              "\n",
              "    .dataframe tbody tr th {\n",
              "        vertical-align: top;\n",
              "    }\n",
              "\n",
              "    .dataframe thead th {\n",
              "        text-align: right;\n",
              "    }\n",
              "</style>\n",
              "<table border=\"1\" class=\"dataframe\">\n",
              "  <thead>\n",
              "    <tr style=\"text-align: right;\">\n",
              "      <th></th>\n",
              "      <th>text</th>\n",
              "      <th>spam</th>\n",
              "      <th>words</th>\n",
              "    </tr>\n",
              "  </thead>\n",
              "  <tbody>\n",
              "    <tr>\n",
              "      <th>0</th>\n",
              "      <td>Subject: naturally irresistible your corporate...</td>\n",
              "      <td>1</td>\n",
              "      <td>[you, iogo, nowadays, benefits, within, really...</td>\n",
              "    </tr>\n",
              "    <tr>\n",
              "      <th>1</th>\n",
              "      <td>Subject: the stock trading gunslinger  fanny i...</td>\n",
              "      <td>1</td>\n",
              "      <td>[pirogue, earmark, optima, trading, sapling, s...</td>\n",
              "    </tr>\n",
              "    <tr>\n",
              "      <th>2</th>\n",
              "      <td>Subject: unbelievable new homes made easy  im ...</td>\n",
              "      <td>1</td>\n",
              "      <td>[you, show, for, of, minute, unconditionally, ...</td>\n",
              "    </tr>\n",
              "    <tr>\n",
              "      <th>3</th>\n",
              "      <td>Subject: 4 color printing special  request add...</td>\n",
              "      <td>1</td>\n",
              "      <td>[canyon, goldengraphix, for, of, format, ramse...</td>\n",
              "    </tr>\n",
              "    <tr>\n",
              "      <th>4</th>\n",
              "      <td>Subject: do not have money , get software cds ...</td>\n",
              "      <td>1</td>\n",
              "      <td>[great, be, money, tradgedies, ain, ?, are, he...</td>\n",
              "    </tr>\n",
              "  </tbody>\n",
              "</table>\n",
              "</div>\n",
              "      <button class=\"colab-df-convert\" onclick=\"convertToInteractive('df-f2fb25b3-124e-4ac4-9cdd-15d3ca8fbf8c')\"\n",
              "              title=\"Convert this dataframe to an interactive table.\"\n",
              "              style=\"display:none;\">\n",
              "        \n",
              "  <svg xmlns=\"http://www.w3.org/2000/svg\" height=\"24px\"viewBox=\"0 0 24 24\"\n",
              "       width=\"24px\">\n",
              "    <path d=\"M0 0h24v24H0V0z\" fill=\"none\"/>\n",
              "    <path d=\"M18.56 5.44l.94 2.06.94-2.06 2.06-.94-2.06-.94-.94-2.06-.94 2.06-2.06.94zm-11 1L8.5 8.5l.94-2.06 2.06-.94-2.06-.94L8.5 2.5l-.94 2.06-2.06.94zm10 10l.94 2.06.94-2.06 2.06-.94-2.06-.94-.94-2.06-.94 2.06-2.06.94z\"/><path d=\"M17.41 7.96l-1.37-1.37c-.4-.4-.92-.59-1.43-.59-.52 0-1.04.2-1.43.59L10.3 9.45l-7.72 7.72c-.78.78-.78 2.05 0 2.83L4 21.41c.39.39.9.59 1.41.59.51 0 1.02-.2 1.41-.59l7.78-7.78 2.81-2.81c.8-.78.8-2.07 0-2.86zM5.41 20L4 18.59l7.72-7.72 1.47 1.35L5.41 20z\"/>\n",
              "  </svg>\n",
              "      </button>\n",
              "      \n",
              "  <style>\n",
              "    .colab-df-container {\n",
              "      display:flex;\n",
              "      flex-wrap:wrap;\n",
              "      gap: 12px;\n",
              "    }\n",
              "\n",
              "    .colab-df-convert {\n",
              "      background-color: #E8F0FE;\n",
              "      border: none;\n",
              "      border-radius: 50%;\n",
              "      cursor: pointer;\n",
              "      display: none;\n",
              "      fill: #1967D2;\n",
              "      height: 32px;\n",
              "      padding: 0 0 0 0;\n",
              "      width: 32px;\n",
              "    }\n",
              "\n",
              "    .colab-df-convert:hover {\n",
              "      background-color: #E2EBFA;\n",
              "      box-shadow: 0px 1px 2px rgba(60, 64, 67, 0.3), 0px 1px 3px 1px rgba(60, 64, 67, 0.15);\n",
              "      fill: #174EA6;\n",
              "    }\n",
              "\n",
              "    [theme=dark] .colab-df-convert {\n",
              "      background-color: #3B4455;\n",
              "      fill: #D2E3FC;\n",
              "    }\n",
              "\n",
              "    [theme=dark] .colab-df-convert:hover {\n",
              "      background-color: #434B5C;\n",
              "      box-shadow: 0px 1px 3px 1px rgba(0, 0, 0, 0.15);\n",
              "      filter: drop-shadow(0px 1px 2px rgba(0, 0, 0, 0.3));\n",
              "      fill: #FFFFFF;\n",
              "    }\n",
              "  </style>\n",
              "\n",
              "      <script>\n",
              "        const buttonEl =\n",
              "          document.querySelector('#df-f2fb25b3-124e-4ac4-9cdd-15d3ca8fbf8c button.colab-df-convert');\n",
              "        buttonEl.style.display =\n",
              "          google.colab.kernel.accessAllowed ? 'block' : 'none';\n",
              "\n",
              "        async function convertToInteractive(key) {\n",
              "          const element = document.querySelector('#df-f2fb25b3-124e-4ac4-9cdd-15d3ca8fbf8c');\n",
              "          const dataTable =\n",
              "            await google.colab.kernel.invokeFunction('convertToInteractive',\n",
              "                                                     [key], {});\n",
              "          if (!dataTable) return;\n",
              "\n",
              "          const docLinkHtml = 'Like what you see? Visit the ' +\n",
              "            '<a target=\"_blank\" href=https://colab.research.google.com/notebooks/data_table.ipynb>data table notebook</a>'\n",
              "            + ' to learn more about interactive tables.';\n",
              "          element.innerHTML = '';\n",
              "          dataTable['output_type'] = 'display_data';\n",
              "          await google.colab.output.renderOutput(dataTable, element);\n",
              "          const docLink = document.createElement('div');\n",
              "          docLink.innerHTML = docLinkHtml;\n",
              "          element.appendChild(docLink);\n",
              "        }\n",
              "      </script>\n",
              "    </div>\n",
              "  </div>\n",
              "  "
            ]
          },
          "metadata": {},
          "execution_count": 5
        }
      ]
    },
    {
      "cell_type": "markdown",
      "source": [
        "##Finding the priors"
      ],
      "metadata": {
        "id": "8_N762UIJj9s"
      }
    },
    {
      "cell_type": "markdown",
      "source": [
        "Let’s first find the probability that an email is spam (the prior)."
      ],
      "metadata": {
        "id": "KEeZT14JJvM9"
      }
    },
    {
      "cell_type": "code",
      "source": [
        "num_emails  = len(emails)\n",
        "num_spam = sum(emails[\"spam\"])\n",
        "print(f\"Number of emails: {num_emails}\")\n",
        "print(f\"Number of spam emails: {num_spam}\")\n",
        "print()\n",
        "\n",
        "# Calculating the prior probability that an email is spam\n",
        "print(f\"Probability of spam: {num_spam / num_emails}\")"
      ],
      "metadata": {
        "id": "v_uYU0vUUHkD",
        "colab": {
          "base_uri": "https://localhost:8080/"
        },
        "outputId": "9b5664f6-39b7-45ad-8df7-80242cc869c2"
      },
      "execution_count": 6,
      "outputs": [
        {
          "output_type": "stream",
          "name": "stdout",
          "text": [
            "Number of emails: 5728\n",
            "Number of spam emails: 1368\n",
            "\n",
            "Probability of spam: 0.2388268156424581\n"
          ]
        }
      ]
    },
    {
      "cell_type": "markdown",
      "source": [
        "We deduce that the prior probability that the email is spam is around 0.24. This is the probability\n",
        "that an email is spam if we don’t know anything about the email. \n",
        "\n",
        "Likewise, the prior probability\n",
        "that an email is ham is around 0.76."
      ],
      "metadata": {
        "id": "fHfuIeVmKYJK"
      }
    },
    {
      "cell_type": "markdown",
      "source": [
        "##Finding the posteriors"
      ],
      "metadata": {
        "id": "N0nUpYnPKajI"
      }
    },
    {
      "cell_type": "markdown",
      "source": [
        "We need to find the probabilities that spam (and ham) emails contain a certain word."
      ],
      "metadata": {
        "id": "pN7BPUPnKfUr"
      }
    },
    {
      "cell_type": "code",
      "source": [
        "#  write a dictionary, and in this dictionary record every word, and its pair of occurrences in spam and ham\n",
        "model = {}\n",
        "for index, email in emails.iterrows():\n",
        "  for word in email[\"words\"]:\n",
        "    if word not in model:\n",
        "      # Note that the counts are initialized at 1 to avoid having zero counts\n",
        "      model[word] = {\"spam\": 1, \"ham\": 1}\n",
        "    if word in model:\n",
        "      if email[\"spam\"]:\n",
        "        model[word][\"spam\"] += 1\n",
        "      else:\n",
        "        model[word][\"ham\"] += 1"
      ],
      "metadata": {
        "id": "b8shBe0IQv5m"
      },
      "execution_count": 7,
      "outputs": []
    },
    {
      "cell_type": "markdown",
      "source": [
        "Now let’s examine some rows of the dictionary."
      ],
      "metadata": {
        "id": "384uoMjiR6zu"
      }
    },
    {
      "cell_type": "code",
      "source": [
        "model[\"lottery\"]"
      ],
      "metadata": {
        "id": "aB7TUgozR7pr",
        "outputId": "f87c53aa-804a-4612-b385-743406a103d5",
        "colab": {
          "base_uri": "https://localhost:8080/"
        }
      },
      "execution_count": 8,
      "outputs": [
        {
          "output_type": "execute_result",
          "data": {
            "text/plain": [
              "{'ham': 1, 'spam': 9}"
            ]
          },
          "metadata": {},
          "execution_count": 8
        }
      ]
    },
    {
      "cell_type": "code",
      "source": [
        "model[\"sale\"]"
      ],
      "metadata": {
        "id": "9rwzmKJhSAhF",
        "outputId": "23118954-e9f0-4f33-bc3d-7782b7edb0b3",
        "colab": {
          "base_uri": "https://localhost:8080/"
        }
      },
      "execution_count": 9,
      "outputs": [
        {
          "output_type": "execute_result",
          "data": {
            "text/plain": [
              "{'ham': 42, 'spam': 39}"
            ]
          },
          "metadata": {},
          "execution_count": 9
        }
      ]
    },
    {
      "cell_type": "markdown",
      "source": [
        "Although this dictionary doesn’t contain any\n",
        "probabilities, these can be deduced by dividing the first entry by the sum of both entries.\n"
      ],
      "metadata": {
        "id": "b7gSg1zKSWUH"
      }
    },
    {
      "cell_type": "code",
      "source": [
        "# the probability of lottery being spam\n",
        "model[\"lottery\"][\"spam\"] / (model[\"lottery\"][\"ham\"] + model[\"lottery\"][\"spam\"])"
      ],
      "metadata": {
        "id": "VRl-6dbYSXpn",
        "outputId": "d50c351a-419d-4967-f9ea-5cd4d7983112",
        "colab": {
          "base_uri": "https://localhost:8080/"
        }
      },
      "execution_count": 13,
      "outputs": [
        {
          "output_type": "execute_result",
          "data": {
            "text/plain": [
              "0.9"
            ]
          },
          "metadata": {},
          "execution_count": 13
        }
      ]
    },
    {
      "cell_type": "code",
      "source": [
        "# the probability of sale being spam\n",
        "model[\"sale\"][\"spam\"] / (model[\"sale\"][\"ham\"] + model[\"sale\"][\"spam\"])"
      ],
      "metadata": {
        "id": "XQjoDwW_S4ux",
        "outputId": "ff5670dc-d37d-4b3a-fa76-d699c65dce50",
        "colab": {
          "base_uri": "https://localhost:8080/"
        }
      },
      "execution_count": 14,
      "outputs": [
        {
          "output_type": "execute_result",
          "data": {
            "text/plain": [
              "0.48148148148148145"
            ]
          },
          "metadata": {},
          "execution_count": 14
        }
      ]
    },
    {
      "cell_type": "markdown",
      "source": [
        "Let's generalize it."
      ],
      "metadata": {
        "id": "vkIqaNyuTVHK"
      }
    },
    {
      "cell_type": "code",
      "source": [
        "def predict_bayes(word):\n",
        "  word = word.lower()\n",
        "  num_spam = model[word][\"spam\"]\n",
        "  num_ham = model[word][\"ham\"]\n",
        "  return 1.0 * num_spam / (num_spam + num_ham)"
      ],
      "metadata": {
        "id": "-7RHe0X3TYq6"
      },
      "execution_count": 15,
      "outputs": []
    },
    {
      "cell_type": "code",
      "source": [
        "predict_bayes(\"lottery\")"
      ],
      "metadata": {
        "id": "Ia8LAuRuTvfc",
        "outputId": "cf86707d-a1b3-43fa-bf60-5d71d6f9e2be",
        "colab": {
          "base_uri": "https://localhost:8080/"
        }
      },
      "execution_count": 16,
      "outputs": [
        {
          "output_type": "execute_result",
          "data": {
            "text/plain": [
              "0.9"
            ]
          },
          "metadata": {},
          "execution_count": 16
        }
      ]
    },
    {
      "cell_type": "code",
      "source": [
        "predict_bayes(\"sale\")"
      ],
      "metadata": {
        "id": "vkjIfg_OTzjW",
        "outputId": "58b517a8-a125-407c-9e9d-deb92d384f26",
        "colab": {
          "base_uri": "https://localhost:8080/"
        }
      },
      "execution_count": 17,
      "outputs": [
        {
          "output_type": "execute_result",
          "data": {
            "text/plain": [
              "0.48148148148148145"
            ]
          },
          "metadata": {},
          "execution_count": 17
        }
      ]
    },
    {
      "cell_type": "code",
      "source": [
        "predict_bayes(\"won\")"
      ],
      "metadata": {
        "id": "FPt2JBGYT225",
        "outputId": "62092f7e-c202-4c48-adcd-29ff3751e388",
        "colab": {
          "base_uri": "https://localhost:8080/"
        }
      },
      "execution_count": 18,
      "outputs": [
        {
          "output_type": "execute_result",
          "data": {
            "text/plain": [
              "0.3595505617977528"
            ]
          },
          "metadata": {},
          "execution_count": 18
        }
      ]
    },
    {
      "cell_type": "markdown",
      "source": [
        "##The naive Bayes algorithm"
      ],
      "metadata": {
        "id": "P_oHP64qTErE"
      }
    },
    {
      "cell_type": "markdown",
      "source": [
        ""
      ],
      "metadata": {
        "id": "veUHR-ULTGUW"
      }
    }
  ]
}