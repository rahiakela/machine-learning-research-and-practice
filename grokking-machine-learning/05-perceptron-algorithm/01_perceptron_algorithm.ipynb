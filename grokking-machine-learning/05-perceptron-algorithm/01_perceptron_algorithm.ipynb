{
  "nbformat": 4,
  "nbformat_minor": 0,
  "metadata": {
    "colab": {
      "name": "01-perceptron-algorithm.ipynb",
      "provenance": [],
      "toc_visible": true,
      "authorship_tag": "ABX9TyOHdQM7rkJP3IkhWa2LvLbs",
      "include_colab_link": true
    },
    "kernelspec": {
      "name": "python3",
      "display_name": "Python 3"
    },
    "language_info": {
      "name": "python"
    }
  },
  "cells": [
    {
      "cell_type": "markdown",
      "metadata": {
        "id": "view-in-github",
        "colab_type": "text"
      },
      "source": [
        "<a href=\"https://colab.research.google.com/github/rahiakela/machine-learning-research-and-practice/blob/main/grokking-machine-learning/05-perceptron-algorithm/01_perceptron_algorithm.ipynb\" target=\"_parent\"><img src=\"https://colab.research.google.com/assets/colab-badge.svg\" alt=\"Open In Colab\"/></a>"
      ]
    },
    {
      "cell_type": "markdown",
      "source": [
        "##Perceptron algorithm"
      ],
      "metadata": {
        "id": "R2qvSgZaw1fT"
      }
    },
    {
      "cell_type": "markdown",
      "source": [
        "Let's develop the perceptron algorithm for our sentiment analysis application.\n",
        "\n",
        "First we’ll write the code from scratch to fit our original dataset,\n",
        "and then we’ll use Turi Create. \n",
        "\n",
        "In real life, we always use a package and have little need to code our\n",
        "own algorithms."
      ],
      "metadata": {
        "id": "aI-qMbrtxAJ4"
      }
    },
    {
      "cell_type": "markdown",
      "source": [
        "##Setup"
      ],
      "metadata": {
        "id": "tuYDtYyVy1Qo"
      }
    },
    {
      "cell_type": "code",
      "source": [
        "!pip -q install turicreate"
      ],
      "metadata": {
        "id": "E26OpbLs1K5H"
      },
      "execution_count": null,
      "outputs": []
    },
    {
      "cell_type": "code",
      "source": [
        "import pandas as pd\n",
        "import numpy as np\n",
        "import random\n",
        "import matplotlib.pyplot as pyplot\n",
        "\n",
        "import turicreate as tc\n",
        "\n",
        "random.seed(0)"
      ],
      "metadata": {
        "id": "idY6aIXsyx0f"
      },
      "execution_count": 4,
      "outputs": []
    },
    {
      "cell_type": "code",
      "source": [
        "# Some functions to plot our points and draw the lines\n",
        "def plot_points(features, labels):\n",
        "    X = np.array(features)\n",
        "    y = np.array(labels)\n",
        "    spam = X[np.argwhere(y==1)]\n",
        "    ham = X[np.argwhere(y==0)]\n",
        "    pyplot.scatter([s[0][0] for s in spam],\n",
        "                   [s[0][1] for s in spam],\n",
        "                   s = 100,\n",
        "                   color = 'cyan',\n",
        "                   edgecolor = 'k',\n",
        "                   marker = '^')\n",
        "    pyplot.scatter([s[0][0] for s in ham],\n",
        "                   [s[0][1] for s in ham],\n",
        "                   s = 100,\n",
        "                   color = 'red',\n",
        "                   edgecolor = 'k',\n",
        "                   marker = 's')\n",
        "    pyplot.xlabel('aack')\n",
        "    pyplot.ylabel('beep')\n",
        "    pyplot.legend(['happy','sad'])\n",
        "    \n",
        "def draw_line(a,b,c, starting=0, ending=3, **kwargs):\n",
        "    # Plotting the line ax + by + c = 0\n",
        "    x = np.linspace(starting, ending, 1000)\n",
        "    pyplot.plot(x, -c/b - a*x/b, **kwargs)"
      ],
      "metadata": {
        "id": "qR7fAlyufZr0"
      },
      "execution_count": 5,
      "outputs": []
    },
    {
      "cell_type": "markdown",
      "source": [
        "##Defining dataset"
      ],
      "metadata": {
        "id": "ytLwhBiHy3h6"
      }
    },
    {
      "cell_type": "markdown",
      "source": [
        "Let’s begin by defining our dataset as a NumPy array. The features correspond to two numbers\n",
        "corresponding to the appearances of aack and beep. \n",
        "\n",
        "The labels are 1 for the happy sentences and\n",
        "0 for the sad ones."
      ],
      "metadata": {
        "id": "BuLRuYg8y7Ym"
      }
    },
    {
      "cell_type": "code",
      "source": [
        "features = np.array([[1,0],[0,2],[1,1],[1,2],[1,3],[2,2],[2,3],[3,2]])\n",
        "labels = np.array([0,0,0,0,1,1,1,1])"
      ],
      "metadata": {
        "id": "D6b_Ssg3xxFD"
      },
      "execution_count": 6,
      "outputs": []
    },
    {
      "cell_type": "code",
      "source": [
        "# Plotting the points\n",
        "plot_points(features, labels)"
      ],
      "metadata": {
        "id": "majwWTVAyBej",
        "colab": {
          "base_uri": "https://localhost:8080/",
          "height": 279
        },
        "outputId": "e07d61f3-dc4f-415c-d4a5-ecf80823bc7a"
      },
      "execution_count": 7,
      "outputs": [
        {
          "output_type": "display_data",
          "data": {
            "text/plain": [
              "<Figure size 432x288 with 1 Axes>"
            ],
            "image/png": "[encoded data removed]"
          },
          "metadata": {
            "needs_background": "light"
          }
        }
      ]
    },
    {
      "cell_type": "markdown",
      "source": [
        "##Perceptron trick"
      ],
      "metadata": {
        "id": "WPSUrZrnzKUX"
      }
    },
    {
      "cell_type": "markdown",
      "source": [
        ""
      ],
      "metadata": {
        "id": "YOmWP7IgzLib"
      }
    },
    {
      "cell_type": "code",
      "source": [
        ""
      ],
      "metadata": {
        "id": "MJVvaMnJzhGA"
      },
      "execution_count": null,
      "outputs": []
    },
    {
      "cell_type": "code",
      "source": [
        "plt.scatter(X, Y)"
      ],
      "metadata": {
        "colab": {
          "base_uri": "https://localhost:8080/",
          "height": 283
        },
        "id": "oEcbjGHoz6_5",
        "outputId": "cd65ed6d-ebcb-4a05-fbd1-2641014da12b"
      },
      "execution_count": null,
      "outputs": [
        {
          "output_type": "execute_result",
          "data": {
            "text/plain": [
              "<matplotlib.collections.PathCollection at 0x7fe553deae50>"
            ]
          },
          "metadata": {},
          "execution_count": 8
        },
        {
          "output_type": "display_data",
          "data": {
            "text/plain": [
              "<Figure size 432x288 with 1 Axes>"
            ],
            "image/png": "[encoded data removed]"
          },
          "metadata": {
            "needs_background": "light"
          }
        }
      ]
    },
    {
      "cell_type": "code",
      "source": [
        "data = tc.SFrame({\"x\": X, \"y\": Y})\n",
        "data.print_rows(5, 2)"
      ],
      "metadata": {
        "colab": {
          "base_uri": "https://localhost:8080/"
        },
        "id": "bzp-iALO1gwm",
        "outputId": "695c99a3-fcf6-4d14-ccca-a0df158bb6f9"
      },
      "execution_count": null,
      "outputs": [
        {
          "output_type": "stream",
          "name": "stdout",
          "text": [
            "+----------------------+--------------------+\n",
            "|          x           |         y          |\n",
            "+----------------------+--------------------+\n",
            "|  3.4442185152504816  | 6.685961311021467  |\n",
            "| -2.4108324970703663  | 4.690236225597948  |\n",
            "| 0.11274721368608542  | 12.205789026637378 |\n",
            "| -1.9668727392107255  | 11.133217991032268 |\n",
            "| -0.23403045847644144 | 10.927272159051856 |\n",
            "+----------------------+--------------------+\n",
            "[40 rows x 2 columns]\n",
            "\n"
          ]
        }
      ]
    },
    {
      "cell_type": "markdown",
      "source": [
        "The way to do polynomial regression in Turi Create is to add many columns to our dataset, corresponding\n",
        "to the powers of the main feature, and to apply linear regression to this expanded\n",
        "dataset. \n",
        "\n",
        "If the main feature is, say, $x$, then we add columns with the values of $x^2, x^3, x^4$, and so on.\n",
        "Thus, our model is finding linear combinations of the powers of $x$, which are precisely polynomials\n",
        "in $x$.\n",
        "\n",
        "So, let's add columns to our dataset corresponding to $X^2, X^3,...,x^{200}$."
      ],
      "metadata": {
        "id": "w6yx0czX2GJj"
      }
    },
    {
      "cell_type": "code",
      "source": [
        "for i in range(2, 200):\n",
        "  strings = \"x^\" + str(i)\n",
        "  data[strings] = data[\"x\"].apply(lambda x: x ** i)"
      ],
      "metadata": {
        "id": "r7HA5dBR2IS0"
      },
      "execution_count": null,
      "outputs": []
    },
    {
      "cell_type": "code",
      "source": [
        "data.print_rows(5, 5)"
      ],
      "metadata": {
        "colab": {
          "base_uri": "https://localhost:8080/"
        },
        "id": "9bY6uWXa2_mG",
        "outputId": "9c8aea26-65d4-4c67-9d37-9d94073e931b"
      },
      "execution_count": null,
      "outputs": [
        {
          "output_type": "stream",
          "name": "stdout",
          "text": [
            "+----------------------+--------------------+----------------------+\n",
            "|          x           |         y          |         x^2          |\n",
            "+----------------------+--------------------+----------------------+\n",
            "|  3.4442185152504816  | 6.685961311021467  |  11.862641180794233  |\n",
            "| -2.4108324970703663  | 4.690236225597948  |  5.812113328930538   |\n",
            "| 0.11274721368608542  | 12.205789026637378 | 0.012711934193975809 |\n",
            "| -1.9668727392107255  | 11.133217991032268 |  3.8685883722503025  |\n",
            "| -0.23403045847644144 | 10.927272159051856 | 0.05477025549469338  |\n",
            "+----------------------+--------------------+----------------------+\n",
            "+-----------------------+------------------------+-----+\n",
            "|          x^3          |          x^4           | ... |\n",
            "+-----------------------+------------------------+-----+\n",
            "|   40.85752839466433   |   140.72225578427518   | ... |\n",
            "|  -14.012031690041567  |   33.78066134833202    | ... |\n",
            "| 0.0014332351609316464 | 0.00016159327095197139 | ... |\n",
            "|   -7.609021008606714  |   14.965975993910245   | ... |\n",
            "| -0.012817908004294928 | 0.0029997808869539904  | ... |\n",
            "+-----------------------+------------------------+-----+\n",
            "[40 rows x 200 columns]\n",
            "\n"
          ]
        }
      ]
    },
    {
      "cell_type": "markdown",
      "source": [
        "Before we train any models, we need to split the data into training and testing datasets."
      ],
      "metadata": {
        "id": "N5Zhp59v3MqI"
      }
    },
    {
      "cell_type": "code",
      "source": [
        "train, test = data.random_split(.8)"
      ],
      "metadata": {
        "id": "2eCeH1IS3NQk"
      },
      "execution_count": null,
      "outputs": []
    },
    {
      "cell_type": "markdown",
      "source": [
        "##Regularization"
      ],
      "metadata": {
        "id": "9KzXZ73z3cXj"
      }
    },
    {
      "cell_type": "markdown",
      "source": [
        "The way to use regularization in Turi Create is simple: all we need to do is specify the parameters\n",
        "`l1_penalty` and `l2_penalty` in the create method when we train the model. This penalty\n",
        "is precisely the regularization parameter.\n",
        "\n",
        "A penalty of 0 means we are not using regularization.\n",
        "Thus, we will train three different models."
      ],
      "metadata": {
        "id": "dg4ZVo9G3dv7"
      }
    },
    {
      "cell_type": "code",
      "source": [
        "model_no_reg = tc.linear_regression.create(train, target=\"y\", l1_penalty=0.0, l2_penalty=0.0, verbose=False, validation_set=None)"
      ],
      "metadata": {
        "id": "jqlzjWMvTsoF"
      },
      "execution_count": null,
      "outputs": []
    },
    {
      "cell_type": "code",
      "source": [
        "display_results(model_no_reg)"
      ],
      "metadata": {
        "id": "j-M0AnXSUGWF",
        "outputId": "3185ef0a-66f8-4487-be4e-7ddb016c8635",
        "colab": {
          "base_uri": "https://localhost:8080/",
          "height": 616
        }
      },
      "execution_count": null,
      "outputs": [
        {
          "output_type": "stream",
          "name": "stdout",
          "text": [
            "Training error (rmse): 7.628927681782485\n",
            "Testing error (rmse): 300.42447284089394\n"
          ]
        },
        {
          "output_type": "display_data",
          "data": {
            "text/plain": [
              "<Figure size 432x288 with 1 Axes>"
            ],
            "image/png": "[encoded data removed]"
          },
          "metadata": {
            "needs_background": "light"
          }
        },
        {
          "output_type": "stream",
          "name": "stdout",
          "text": [
            "Polynomial coefficients\n",
            "+-------------+---------------------+\n",
            "|     name    |        value        |\n",
            "+-------------+---------------------+\n",
            "| (intercept) |  18.623138189315796 |\n",
            "|      x      | -18.598556902940658 |\n",
            "|     x^2     | -119.19007455875494 |\n",
            "|     x^3     |  48.516545255041216 |\n",
            "|     x^4     |  282.7482723483999  |\n",
            "|     x^5     |  -49.95491582420522 |\n",
            "|     x^6     | -250.90926024895236 |\n",
            "|     x^7     |  28.199402528231605 |\n",
            "|     x^8     |  108.14204863274358 |\n",
            "|     x^9     |  -9.362222881794056 |\n",
            "+-------------+---------------------+\n",
            "[200 rows x 2 columns]\n",
            "Note: Only the head of the SFrame is printed.\n",
            "You can use print_rows(num_rows=m, num_columns=n) to print more rows and columns.\n"
          ]
        }
      ]
    },
    {
      "cell_type": "markdown",
      "source": [
        "Notice that the model with no regularization fits the training points really well, but it’s chaotic\n",
        "and doesn’t fit the testing points well."
      ],
      "metadata": {
        "id": "jXVlOm5RgOSm"
      }
    },
    {
      "cell_type": "code",
      "source": [
        "model_l1_reg  = tc.linear_regression.create(train, target=\"y\", l1_penalty=0.1, l2_penalty=0.0, verbose=False, validation_set=None)\n",
        "display_results(model_l1_reg)"
      ],
      "metadata": {
        "id": "TzLkUB1ufk6I",
        "outputId": "072a24cf-8d6c-4bb6-be47-c3078b2ee69a",
        "colab": {
          "base_uri": "https://localhost:8080/",
          "height": 616
        }
      },
      "execution_count": null,
      "outputs": [
        {
          "output_type": "stream",
          "name": "stdout",
          "text": [
            "Training error (rmse): 8.699762812374527\n",
            "Testing error (rmse): 11.423535163527724\n"
          ]
        },
        {
          "output_type": "display_data",
          "data": {
            "text/plain": [
              "<Figure size 432x288 with 1 Axes>"
            ],
            "image/png": "[encoded data removed]"
          },
          "metadata": {
            "needs_background": "light"
          }
        },
        {
          "output_type": "stream",
          "name": "stdout",
          "text": [
            "Polynomial coefficients\n",
            "+-------------+-------------------------+\n",
            "|     name    |          value          |\n",
            "+-------------+-------------------------+\n",
            "| (intercept) |    0.6498528837303585   |\n",
            "|      x      |    0.078577134668393    |\n",
            "|     x^2     |   0.007954361728349516  |\n",
            "|     x^3     |   0.005192477583078422  |\n",
            "|     x^4     | -0.00027031270070101206 |\n",
            "|     x^5     |  0.00024430879357542303 |\n",
            "|     x^6     | -2.2755346195606828e-05 |\n",
            "|     x^7     |  9.785636141866648e-06  |\n",
            "|     x^8     | -1.1197004341522253e-06 |\n",
            "|     x^9     |  3.6541090515082453e-07 |\n",
            "+-------------+-------------------------+\n",
            "[200 rows x 2 columns]\n",
            "Note: Only the head of the SFrame is printed.\n",
            "You can use print_rows(num_rows=m, num_columns=n) to print more rows and columns.\n"
          ]
        }
      ]
    },
    {
      "cell_type": "markdown",
      "source": [
        "The model with L1 regularization does OK with both the\n",
        "training and the testing sets."
      ],
      "metadata": {
        "id": "YrQ6qjlcgT63"
      }
    },
    {
      "cell_type": "code",
      "source": [
        "model_l2_reg  = tc.linear_regression.create(train, target=\"y\", l1_penalty=0.0, l2_penalty=0.1, verbose=False, validation_set=None)\n",
        "display_results(model_l2_reg)"
      ],
      "metadata": {
        "id": "X5faq6UMf0Gr",
        "outputId": "44fbb7eb-0531-46d9-ab21-c9d58622e5a6",
        "colab": {
          "base_uri": "https://localhost:8080/",
          "height": 616
        }
      },
      "execution_count": null,
      "outputs": [
        {
          "output_type": "stream",
          "name": "stdout",
          "text": [
            "Training error (rmse): 1.7570115260649124\n",
            "Testing error (rmse): 2.2823160671100804\n"
          ]
        },
        {
          "output_type": "display_data",
          "data": {
            "text/plain": [
              "<Figure size 432x288 with 1 Axes>"
            ],
            "image/png": "[encoded data removed]"
          },
          "metadata": {
            "needs_background": "light"
          }
        },
        {
          "output_type": "stream",
          "name": "stdout",
          "text": [
            "Polynomial coefficients\n",
            "+-------------+-------------------------+\n",
            "|     name    |          value          |\n",
            "+-------------+-------------------------+\n",
            "| (intercept) |    13.523593494845487   |\n",
            "|      x      |    0.5686987719693142   |\n",
            "|     x^2     |   -0.6956663947999977   |\n",
            "|     x^3     |    0.0199946269133012   |\n",
            "|     x^4     |   -0.01814361481033296  |\n",
            "|     x^5     |  0.0007065714461343759  |\n",
            "|     x^6     | -0.00021023490481392182 |\n",
            "|     x^7     |  3.521304155131599e-05  |\n",
            "|     x^8     |  5.804305180157492e-06  |\n",
            "|     x^9     |  1.2555018061086293e-06 |\n",
            "+-------------+-------------------------+\n",
            "[200 rows x 2 columns]\n",
            "Note: Only the head of the SFrame is printed.\n",
            "You can use print_rows(num_rows=m, num_columns=n) to print more rows and columns.\n"
          ]
        }
      ]
    },
    {
      "cell_type": "markdown",
      "source": [
        "But the model with L2 regularization does a wonderful job with\n",
        "both the training and the testing sets and also seems to be the one that really captures the shape\n",
        "of the data.\n",
        "\n",
        "\n",
        "Also note that for the three models, the boundary curve goes a bit crazy on the end points.\n",
        "This is completely understandable, because the endpoints have less data, and it is natural for the\n",
        "model to not know what to do when there’s no data.\n",
        "\n",
        "Let's test the model.\n",
        "\n"
      ],
      "metadata": {
        "id": "vMuhzxYjgFPr"
      }
    },
    {
      "cell_type": "code",
      "source": [
        "predictions = test[\"x\", \"y\"]\n",
        "\n",
        "predictions[\"No reg\"] = model_no_reg.predict(test)\n",
        "predictions[\"L1 reg\"] = model_l1_reg.predict(test)\n",
        "predictions[\"L2 reg\"] = model_l2_reg.predict(test)\n",
        "\n",
        "predictions"
      ],
      "metadata": {
        "id": "DO9qWzFfhIyQ",
        "outputId": "92955e62-126e-4fe1-ae73-4b8b47d44580",
        "colab": {
          "base_uri": "https://localhost:8080/",
          "height": 249
        }
      },
      "execution_count": null,
      "outputs": [
        {
          "output_type": "execute_result",
          "data": {
            "text/plain": [
              "Columns:\n",
              "\tx\tfloat\n",
              "\ty\tfloat\n",
              "\tNo reg\tfloat\n",
              "\tL1 reg\tfloat\n",
              "\tL2 reg\tfloat\n",
              "\n",
              "Rows: 10\n",
              "\n",
              "Data:\n",
              "+----------------------+--------------------+---------------------+\n",
              "|          x           |         y          |        No reg       |\n",
              "+----------------------+--------------------+---------------------+\n",
              "| -1.9668727392107255  | 11.133217991032268 |  22.037007916915172 |\n",
              "| -0.23403045847644144 | 10.927272159051856 |  16.667740657193615 |\n",
              "| -2.1816215560029617  |  8.16012255928749  |  32.29968964446016  |\n",
              "| -0.2785728454728664  | 16.36505651355184  |  15.175456823147723 |\n",
              "|  4.130110532378982   | 4.299534274468492  |  856.6608556406572  |\n",
              "|  1.6815320123185087  | 16.070558182542374 |  -2.890549544349369 |\n",
              "|  0.6751074062067186  | 14.272553413210698 | 0.39566406849439417 |\n",
              "|  0.4744091132842376  | 14.257854146830486 |  -1.179096873958697 |\n",
              "|   3.14466863291336   | 3.2664703661537313 |  420.9688750784844  |\n",
              "|  1.0318562796138302  | 13.67662422703284  |  18.88691912920001  |\n",
              "+----------------------+--------------------+---------------------+\n",
              "+--------------------+--------------------+\n",
              "|       L1 reg       |       L2 reg       |\n",
              "+--------------------+--------------------+\n",
              "| 0.4724083533318242 | 9.254365494175333  |\n",
              "| 0.6318315600830796 | 13.35208758628001  |\n",
              "| 0.4382056344993157 | 8.290426318451088  |\n",
              "| 0.6284664078375581 | 13.31064098145711  |\n",
              "| 1.817306988356443  | 3.3926033167939096 |\n",
              "| 0.8301058381909745 | 12.469559362979002 |\n",
              "| 0.7081004843714227 | 13.592927415083706 |\n",
              "| 0.689467215990742  | 13.638050530027567 |\n",
              "| 1.1926114976948787 | 7.579786621109391  |\n",
              "| 0.745070175549383  | 13.371738950275772 |\n",
              "+--------------------+--------------------+\n",
              "[10 rows x 5 columns]"
            ],
            "text/html": [
              "<div style=\"max-height:1000px;max-width:1500px;overflow:auto;\"><table frame=\"box\" rules=\"cols\">\n",
              "    <tr>\n",
              "        <th style=\"padding-left: 1em; padding-right: 1em; text-align: center\">x</th>\n",
              "        <th style=\"padding-left: 1em; padding-right: 1em; text-align: center\">y</th>\n",
              "        <th style=\"padding-left: 1em; padding-right: 1em; text-align: center\">No reg</th>\n",
              "        <th style=\"padding-left: 1em; padding-right: 1em; text-align: center\">L1 reg</th>\n",
              "        <th style=\"padding-left: 1em; padding-right: 1em; text-align: center\">L2 reg</th>\n",
              "    </tr>\n",
              "    <tr>\n",
              "        <td style=\"padding-left: 1em; padding-right: 1em; text-align: center; vertical-align: top\">-1.9668727392107255</td>\n",
              "        <td style=\"padding-left: 1em; padding-right: 1em; text-align: center; vertical-align: top\">11.133217991032268</td>\n",
              "        <td style=\"padding-left: 1em; padding-right: 1em; text-align: center; vertical-align: top\">22.037007916915172</td>\n",
              "        <td style=\"padding-left: 1em; padding-right: 1em; text-align: center; vertical-align: top\">0.4724083533318242</td>\n",
              "        <td style=\"padding-left: 1em; padding-right: 1em; text-align: center; vertical-align: top\">9.254365494175333</td>\n",
              "    </tr>\n",
              "    <tr>\n",
              "        <td style=\"padding-left: 1em; padding-right: 1em; text-align: center; vertical-align: top\">-0.23403045847644144</td>\n",
              "        <td style=\"padding-left: 1em; padding-right: 1em; text-align: center; vertical-align: top\">10.927272159051856</td>\n",
              "        <td style=\"padding-left: 1em; padding-right: 1em; text-align: center; vertical-align: top\">16.667740657193615</td>\n",
              "        <td style=\"padding-left: 1em; padding-right: 1em; text-align: center; vertical-align: top\">0.6318315600830796</td>\n",
              "        <td style=\"padding-left: 1em; padding-right: 1em; text-align: center; vertical-align: top\">13.35208758628001</td>\n",
              "    </tr>\n",
              "    <tr>\n",
              "        <td style=\"padding-left: 1em; padding-right: 1em; text-align: center; vertical-align: top\">-2.1816215560029617</td>\n",
              "        <td style=\"padding-left: 1em; padding-right: 1em; text-align: center; vertical-align: top\">8.16012255928749</td>\n",
              "        <td style=\"padding-left: 1em; padding-right: 1em; text-align: center; vertical-align: top\">32.29968964446016</td>\n",
              "        <td style=\"padding-left: 1em; padding-right: 1em; text-align: center; vertical-align: top\">0.4382056344993157</td>\n",
              "        <td style=\"padding-left: 1em; padding-right: 1em; text-align: center; vertical-align: top\">8.290426318451088</td>\n",
              "    </tr>\n",
              "    <tr>\n",
              "        <td style=\"padding-left: 1em; padding-right: 1em; text-align: center; vertical-align: top\">-0.2785728454728664</td>\n",
              "        <td style=\"padding-left: 1em; padding-right: 1em; text-align: center; vertical-align: top\">16.36505651355184</td>\n",
              "        <td style=\"padding-left: 1em; padding-right: 1em; text-align: center; vertical-align: top\">15.175456823147723</td>\n",
              "        <td style=\"padding-left: 1em; padding-right: 1em; text-align: center; vertical-align: top\">0.6284664078375581</td>\n",
              "        <td style=\"padding-left: 1em; padding-right: 1em; text-align: center; vertical-align: top\">13.31064098145711</td>\n",
              "    </tr>\n",
              "    <tr>\n",
              "        <td style=\"padding-left: 1em; padding-right: 1em; text-align: center; vertical-align: top\">4.130110532378982</td>\n",
              "        <td style=\"padding-left: 1em; padding-right: 1em; text-align: center; vertical-align: top\">4.299534274468492</td>\n",
              "        <td style=\"padding-left: 1em; padding-right: 1em; text-align: center; vertical-align: top\">856.6608556406572</td>\n",
              "        <td style=\"padding-left: 1em; padding-right: 1em; text-align: center; vertical-align: top\">1.817306988356443</td>\n",
              "        <td style=\"padding-left: 1em; padding-right: 1em; text-align: center; vertical-align: top\">3.3926033167939096</td>\n",
              "    </tr>\n",
              "    <tr>\n",
              "        <td style=\"padding-left: 1em; padding-right: 1em; text-align: center; vertical-align: top\">1.6815320123185087</td>\n",
              "        <td style=\"padding-left: 1em; padding-right: 1em; text-align: center; vertical-align: top\">16.070558182542374</td>\n",
              "        <td style=\"padding-left: 1em; padding-right: 1em; text-align: center; vertical-align: top\">-2.890549544349369</td>\n",
              "        <td style=\"padding-left: 1em; padding-right: 1em; text-align: center; vertical-align: top\">0.8301058381909745</td>\n",
              "        <td style=\"padding-left: 1em; padding-right: 1em; text-align: center; vertical-align: top\">12.469559362979002</td>\n",
              "    </tr>\n",
              "    <tr>\n",
              "        <td style=\"padding-left: 1em; padding-right: 1em; text-align: center; vertical-align: top\">0.6751074062067186</td>\n",
              "        <td style=\"padding-left: 1em; padding-right: 1em; text-align: center; vertical-align: top\">14.272553413210698</td>\n",
              "        <td style=\"padding-left: 1em; padding-right: 1em; text-align: center; vertical-align: top\">0.39566406849439417</td>\n",
              "        <td style=\"padding-left: 1em; padding-right: 1em; text-align: center; vertical-align: top\">0.7081004843714227</td>\n",
              "        <td style=\"padding-left: 1em; padding-right: 1em; text-align: center; vertical-align: top\">13.592927415083706</td>\n",
              "    </tr>\n",
              "    <tr>\n",
              "        <td style=\"padding-left: 1em; padding-right: 1em; text-align: center; vertical-align: top\">0.4744091132842376</td>\n",
              "        <td style=\"padding-left: 1em; padding-right: 1em; text-align: center; vertical-align: top\">14.257854146830486</td>\n",
              "        <td style=\"padding-left: 1em; padding-right: 1em; text-align: center; vertical-align: top\">-1.179096873958697</td>\n",
              "        <td style=\"padding-left: 1em; padding-right: 1em; text-align: center; vertical-align: top\">0.689467215990742</td>\n",
              "        <td style=\"padding-left: 1em; padding-right: 1em; text-align: center; vertical-align: top\">13.638050530027567</td>\n",
              "    </tr>\n",
              "    <tr>\n",
              "        <td style=\"padding-left: 1em; padding-right: 1em; text-align: center; vertical-align: top\">3.14466863291336</td>\n",
              "        <td style=\"padding-left: 1em; padding-right: 1em; text-align: center; vertical-align: top\">3.2664703661537313</td>\n",
              "        <td style=\"padding-left: 1em; padding-right: 1em; text-align: center; vertical-align: top\">420.9688750784844</td>\n",
              "        <td style=\"padding-left: 1em; padding-right: 1em; text-align: center; vertical-align: top\">1.1926114976948787</td>\n",
              "        <td style=\"padding-left: 1em; padding-right: 1em; text-align: center; vertical-align: top\">7.579786621109391</td>\n",
              "    </tr>\n",
              "    <tr>\n",
              "        <td style=\"padding-left: 1em; padding-right: 1em; text-align: center; vertical-align: top\">1.0318562796138302</td>\n",
              "        <td style=\"padding-left: 1em; padding-right: 1em; text-align: center; vertical-align: top\">13.67662422703284</td>\n",
              "        <td style=\"padding-left: 1em; padding-right: 1em; text-align: center; vertical-align: top\">18.88691912920001</td>\n",
              "        <td style=\"padding-left: 1em; padding-right: 1em; text-align: center; vertical-align: top\">0.745070175549383</td>\n",
              "        <td style=\"padding-left: 1em; padding-right: 1em; text-align: center; vertical-align: top\">13.371738950275772</td>\n",
              "    </tr>\n",
              "</table>\n",
              "[10 rows x 5 columns]<br/>\n",
              "</div>"
            ]
          },
          "metadata": {},
          "execution_count": 21
        }
      ]
    },
    {
      "cell_type": "markdown",
      "source": [
        "The model with no regularization had a really large RMSE! Among the other two models, the\n",
        "one with L2 regularization performed much better. \n",
        "\n",
        "Here are two questions to think about:\n",
        "\n",
        "* Why did the model with L2 regularization perform better than the one with L1\n",
        "regularization?\n",
        "* Why does the model with L1 regularization look flat, whereas the model with L2 regularization managed to capture the shape of the data?\n",
        "\n",
        "The two questions have a similar answer, and to find it, we can look at the coefficients of the\n",
        "polynomials."
      ],
      "metadata": {
        "id": "A8hQvTOVhw_5"
      }
    },
    {
      "cell_type": "code",
      "source": [
        "model_no_reg.coefficients"
      ],
      "metadata": {
        "id": "8klfxvOPiAzE",
        "outputId": "d5b723f3-3075-44c6-9410-6338e790ef01",
        "colab": {
          "base_uri": "https://localhost:8080/",
          "height": 284
        }
      },
      "execution_count": null,
      "outputs": [
        {
          "output_type": "execute_result",
          "data": {
            "text/plain": [
              "Columns:\n",
              "\tname\tstr\n",
              "\tindex\tstr\n",
              "\tvalue\tfloat\n",
              "\tstderr\tfloat\n",
              "\n",
              "Rows: 200\n",
              "\n",
              "Data:\n",
              "+-------------+-------+---------------------+--------+\n",
              "|     name    | index |        value        | stderr |\n",
              "+-------------+-------+---------------------+--------+\n",
              "| (intercept) |  None |  18.623138189315796 |  None  |\n",
              "|      x      |  None | -18.598556902940658 |  None  |\n",
              "|     x^2     |  None | -119.19007455875494 |  None  |\n",
              "|     x^3     |  None |  48.516545255041216 |  None  |\n",
              "|     x^4     |  None |  282.7482723483999  |  None  |\n",
              "|     x^5     |  None |  -49.95491582420522 |  None  |\n",
              "|     x^6     |  None | -250.90926024895236 |  None  |\n",
              "|     x^7     |  None |  28.199402528231605 |  None  |\n",
              "|     x^8     |  None |  108.14204863274358 |  None  |\n",
              "|     x^9     |  None |  -9.362222881794056 |  None  |\n",
              "+-------------+-------+---------------------+--------+\n",
              "[200 rows x 4 columns]\n",
              "Note: Only the head of the SFrame is printed.\n",
              "You can use print_rows(num_rows=m, num_columns=n) to print more rows and columns."
            ],
            "text/html": [
              "<div style=\"max-height:1000px;max-width:1500px;overflow:auto;\"><table frame=\"box\" rules=\"cols\">\n",
              "    <tr>\n",
              "        <th style=\"padding-left: 1em; padding-right: 1em; text-align: center\">name</th>\n",
              "        <th style=\"padding-left: 1em; padding-right: 1em; text-align: center\">index</th>\n",
              "        <th style=\"padding-left: 1em; padding-right: 1em; text-align: center\">value</th>\n",
              "        <th style=\"padding-left: 1em; padding-right: 1em; text-align: center\">stderr</th>\n",
              "    </tr>\n",
              "    <tr>\n",
              "        <td style=\"padding-left: 1em; padding-right: 1em; text-align: center; vertical-align: top\">(intercept)</td>\n",
              "        <td style=\"padding-left: 1em; padding-right: 1em; text-align: center; vertical-align: top\">None</td>\n",
              "        <td style=\"padding-left: 1em; padding-right: 1em; text-align: center; vertical-align: top\">18.623138189315796</td>\n",
              "        <td style=\"padding-left: 1em; padding-right: 1em; text-align: center; vertical-align: top\">None</td>\n",
              "    </tr>\n",
              "    <tr>\n",
              "        <td style=\"padding-left: 1em; padding-right: 1em; text-align: center; vertical-align: top\">x</td>\n",
              "        <td style=\"padding-left: 1em; padding-right: 1em; text-align: center; vertical-align: top\">None</td>\n",
              "        <td style=\"padding-left: 1em; padding-right: 1em; text-align: center; vertical-align: top\">-18.598556902940658</td>\n",
              "        <td style=\"padding-left: 1em; padding-right: 1em; text-align: center; vertical-align: top\">None</td>\n",
              "    </tr>\n",
              "    <tr>\n",
              "        <td style=\"padding-left: 1em; padding-right: 1em; text-align: center; vertical-align: top\">x^2</td>\n",
              "        <td style=\"padding-left: 1em; padding-right: 1em; text-align: center; vertical-align: top\">None</td>\n",
              "        <td style=\"padding-left: 1em; padding-right: 1em; text-align: center; vertical-align: top\">-119.19007455875494</td>\n",
              "        <td style=\"padding-left: 1em; padding-right: 1em; text-align: center; vertical-align: top\">None</td>\n",
              "    </tr>\n",
              "    <tr>\n",
              "        <td style=\"padding-left: 1em; padding-right: 1em; text-align: center; vertical-align: top\">x^3</td>\n",
              "        <td style=\"padding-left: 1em; padding-right: 1em; text-align: center; vertical-align: top\">None</td>\n",
              "        <td style=\"padding-left: 1em; padding-right: 1em; text-align: center; vertical-align: top\">48.516545255041216</td>\n",
              "        <td style=\"padding-left: 1em; padding-right: 1em; text-align: center; vertical-align: top\">None</td>\n",
              "    </tr>\n",
              "    <tr>\n",
              "        <td style=\"padding-left: 1em; padding-right: 1em; text-align: center; vertical-align: top\">x^4</td>\n",
              "        <td style=\"padding-left: 1em; padding-right: 1em; text-align: center; vertical-align: top\">None</td>\n",
              "        <td style=\"padding-left: 1em; padding-right: 1em; text-align: center; vertical-align: top\">282.7482723483999</td>\n",
              "        <td style=\"padding-left: 1em; padding-right: 1em; text-align: center; vertical-align: top\">None</td>\n",
              "    </tr>\n",
              "    <tr>\n",
              "        <td style=\"padding-left: 1em; padding-right: 1em; text-align: center; vertical-align: top\">x^5</td>\n",
              "        <td style=\"padding-left: 1em; padding-right: 1em; text-align: center; vertical-align: top\">None</td>\n",
              "        <td style=\"padding-left: 1em; padding-right: 1em; text-align: center; vertical-align: top\">-49.95491582420522</td>\n",
              "        <td style=\"padding-left: 1em; padding-right: 1em; text-align: center; vertical-align: top\">None</td>\n",
              "    </tr>\n",
              "    <tr>\n",
              "        <td style=\"padding-left: 1em; padding-right: 1em; text-align: center; vertical-align: top\">x^6</td>\n",
              "        <td style=\"padding-left: 1em; padding-right: 1em; text-align: center; vertical-align: top\">None</td>\n",
              "        <td style=\"padding-left: 1em; padding-right: 1em; text-align: center; vertical-align: top\">-250.90926024895236</td>\n",
              "        <td style=\"padding-left: 1em; padding-right: 1em; text-align: center; vertical-align: top\">None</td>\n",
              "    </tr>\n",
              "    <tr>\n",
              "        <td style=\"padding-left: 1em; padding-right: 1em; text-align: center; vertical-align: top\">x^7</td>\n",
              "        <td style=\"padding-left: 1em; padding-right: 1em; text-align: center; vertical-align: top\">None</td>\n",
              "        <td style=\"padding-left: 1em; padding-right: 1em; text-align: center; vertical-align: top\">28.199402528231605</td>\n",
              "        <td style=\"padding-left: 1em; padding-right: 1em; text-align: center; vertical-align: top\">None</td>\n",
              "    </tr>\n",
              "    <tr>\n",
              "        <td style=\"padding-left: 1em; padding-right: 1em; text-align: center; vertical-align: top\">x^8</td>\n",
              "        <td style=\"padding-left: 1em; padding-right: 1em; text-align: center; vertical-align: top\">None</td>\n",
              "        <td style=\"padding-left: 1em; padding-right: 1em; text-align: center; vertical-align: top\">108.14204863274358</td>\n",
              "        <td style=\"padding-left: 1em; padding-right: 1em; text-align: center; vertical-align: top\">None</td>\n",
              "    </tr>\n",
              "    <tr>\n",
              "        <td style=\"padding-left: 1em; padding-right: 1em; text-align: center; vertical-align: top\">x^9</td>\n",
              "        <td style=\"padding-left: 1em; padding-right: 1em; text-align: center; vertical-align: top\">None</td>\n",
              "        <td style=\"padding-left: 1em; padding-right: 1em; text-align: center; vertical-align: top\">-9.362222881794056</td>\n",
              "        <td style=\"padding-left: 1em; padding-right: 1em; text-align: center; vertical-align: top\">None</td>\n",
              "    </tr>\n",
              "</table>\n",
              "[200 rows x 4 columns]<br/>Note: Only the head of the SFrame is printed.<br/>You can use print_rows(num_rows=m, num_columns=n) to print more rows and columns.\n",
              "</div>"
            ]
          },
          "metadata": {},
          "execution_count": 22
        }
      ]
    },
    {
      "cell_type": "code",
      "source": [
        "model_l1_reg.coefficients"
      ],
      "metadata": {
        "id": "L_yA2BbMiOt3",
        "outputId": "2cd10380-a380-4819-888d-b67c8a75fb49",
        "colab": {
          "base_uri": "https://localhost:8080/",
          "height": 284
        }
      },
      "execution_count": null,
      "outputs": [
        {
          "output_type": "execute_result",
          "data": {
            "text/plain": [
              "Columns:\n",
              "\tname\tstr\n",
              "\tindex\tstr\n",
              "\tvalue\tfloat\n",
              "\tstderr\tfloat\n",
              "\n",
              "Rows: 200\n",
              "\n",
              "Data:\n",
              "+-------------+-------+-------------------------+--------+\n",
              "|     name    | index |          value          | stderr |\n",
              "+-------------+-------+-------------------------+--------+\n",
              "| (intercept) |  None |    0.6498528837303585   |  None  |\n",
              "|      x      |  None |    0.078577134668393    |  None  |\n",
              "|     x^2     |  None |   0.007954361728349516  |  None  |\n",
              "|     x^3     |  None |   0.005192477583078422  |  None  |\n",
              "|     x^4     |  None | -0.00027031270070101206 |  None  |\n",
              "|     x^5     |  None |  0.00024430879357542303 |  None  |\n",
              "|     x^6     |  None | -2.2755346195606828e-05 |  None  |\n",
              "|     x^7     |  None |  9.785636141866648e-06  |  None  |\n",
              "|     x^8     |  None | -1.1197004341522253e-06 |  None  |\n",
              "|     x^9     |  None |  3.6541090515082453e-07 |  None  |\n",
              "+-------------+-------+-------------------------+--------+\n",
              "[200 rows x 4 columns]\n",
              "Note: Only the head of the SFrame is printed.\n",
              "You can use print_rows(num_rows=m, num_columns=n) to print more rows and columns."
            ],
            "text/html": [
              "<div style=\"max-height:1000px;max-width:1500px;overflow:auto;\"><table frame=\"box\" rules=\"cols\">\n",
              "    <tr>\n",
              "        <th style=\"padding-left: 1em; padding-right: 1em; text-align: center\">name</th>\n",
              "        <th style=\"padding-left: 1em; padding-right: 1em; text-align: center\">index</th>\n",
              "        <th style=\"padding-left: 1em; padding-right: 1em; text-align: center\">value</th>\n",
              "        <th style=\"padding-left: 1em; padding-right: 1em; text-align: center\">stderr</th>\n",
              "    </tr>\n",
              "    <tr>\n",
              "        <td style=\"padding-left: 1em; padding-right: 1em; text-align: center; vertical-align: top\">(intercept)</td>\n",
              "        <td style=\"padding-left: 1em; padding-right: 1em; text-align: center; vertical-align: top\">None</td>\n",
              "        <td style=\"padding-left: 1em; padding-right: 1em; text-align: center; vertical-align: top\">0.6498528837303585</td>\n",
              "        <td style=\"padding-left: 1em; padding-right: 1em; text-align: center; vertical-align: top\">None</td>\n",
              "    </tr>\n",
              "    <tr>\n",
              "        <td style=\"padding-left: 1em; padding-right: 1em; text-align: center; vertical-align: top\">x</td>\n",
              "        <td style=\"padding-left: 1em; padding-right: 1em; text-align: center; vertical-align: top\">None</td>\n",
              "        <td style=\"padding-left: 1em; padding-right: 1em; text-align: center; vertical-align: top\">0.078577134668393</td>\n",
              "        <td style=\"padding-left: 1em; padding-right: 1em; text-align: center; vertical-align: top\">None</td>\n",
              "    </tr>\n",
              "    <tr>\n",
              "        <td style=\"padding-left: 1em; padding-right: 1em; text-align: center; vertical-align: top\">x^2</td>\n",
              "        <td style=\"padding-left: 1em; padding-right: 1em; text-align: center; vertical-align: top\">None</td>\n",
              "        <td style=\"padding-left: 1em; padding-right: 1em; text-align: center; vertical-align: top\">0.007954361728349516</td>\n",
              "        <td style=\"padding-left: 1em; padding-right: 1em; text-align: center; vertical-align: top\">None</td>\n",
              "    </tr>\n",
              "    <tr>\n",
              "        <td style=\"padding-left: 1em; padding-right: 1em; text-align: center; vertical-align: top\">x^3</td>\n",
              "        <td style=\"padding-left: 1em; padding-right: 1em; text-align: center; vertical-align: top\">None</td>\n",
              "        <td style=\"padding-left: 1em; padding-right: 1em; text-align: center; vertical-align: top\">0.005192477583078422</td>\n",
              "        <td style=\"padding-left: 1em; padding-right: 1em; text-align: center; vertical-align: top\">None</td>\n",
              "    </tr>\n",
              "    <tr>\n",
              "        <td style=\"padding-left: 1em; padding-right: 1em; text-align: center; vertical-align: top\">x^4</td>\n",
              "        <td style=\"padding-left: 1em; padding-right: 1em; text-align: center; vertical-align: top\">None</td>\n",
              "        <td style=\"padding-left: 1em; padding-right: 1em; text-align: center; vertical-align: top\">-0.00027031270070101206</td>\n",
              "        <td style=\"padding-left: 1em; padding-right: 1em; text-align: center; vertical-align: top\">None</td>\n",
              "    </tr>\n",
              "    <tr>\n",
              "        <td style=\"padding-left: 1em; padding-right: 1em; text-align: center; vertical-align: top\">x^5</td>\n",
              "        <td style=\"padding-left: 1em; padding-right: 1em; text-align: center; vertical-align: top\">None</td>\n",
              "        <td style=\"padding-left: 1em; padding-right: 1em; text-align: center; vertical-align: top\">0.00024430879357542303</td>\n",
              "        <td style=\"padding-left: 1em; padding-right: 1em; text-align: center; vertical-align: top\">None</td>\n",
              "    </tr>\n",
              "    <tr>\n",
              "        <td style=\"padding-left: 1em; padding-right: 1em; text-align: center; vertical-align: top\">x^6</td>\n",
              "        <td style=\"padding-left: 1em; padding-right: 1em; text-align: center; vertical-align: top\">None</td>\n",
              "        <td style=\"padding-left: 1em; padding-right: 1em; text-align: center; vertical-align: top\">-2.2755346195606828e-05</td>\n",
              "        <td style=\"padding-left: 1em; padding-right: 1em; text-align: center; vertical-align: top\">None</td>\n",
              "    </tr>\n",
              "    <tr>\n",
              "        <td style=\"padding-left: 1em; padding-right: 1em; text-align: center; vertical-align: top\">x^7</td>\n",
              "        <td style=\"padding-left: 1em; padding-right: 1em; text-align: center; vertical-align: top\">None</td>\n",
              "        <td style=\"padding-left: 1em; padding-right: 1em; text-align: center; vertical-align: top\">9.785636141866648e-06</td>\n",
              "        <td style=\"padding-left: 1em; padding-right: 1em; text-align: center; vertical-align: top\">None</td>\n",
              "    </tr>\n",
              "    <tr>\n",
              "        <td style=\"padding-left: 1em; padding-right: 1em; text-align: center; vertical-align: top\">x^8</td>\n",
              "        <td style=\"padding-left: 1em; padding-right: 1em; text-align: center; vertical-align: top\">None</td>\n",
              "        <td style=\"padding-left: 1em; padding-right: 1em; text-align: center; vertical-align: top\">-1.1197004341522253e-06</td>\n",
              "        <td style=\"padding-left: 1em; padding-right: 1em; text-align: center; vertical-align: top\">None</td>\n",
              "    </tr>\n",
              "    <tr>\n",
              "        <td style=\"padding-left: 1em; padding-right: 1em; text-align: center; vertical-align: top\">x^9</td>\n",
              "        <td style=\"padding-left: 1em; padding-right: 1em; text-align: center; vertical-align: top\">None</td>\n",
              "        <td style=\"padding-left: 1em; padding-right: 1em; text-align: center; vertical-align: top\">3.6541090515082453e-07</td>\n",
              "        <td style=\"padding-left: 1em; padding-right: 1em; text-align: center; vertical-align: top\">None</td>\n",
              "    </tr>\n",
              "</table>\n",
              "[200 rows x 4 columns]<br/>Note: Only the head of the SFrame is printed.<br/>You can use print_rows(num_rows=m, num_columns=n) to print more rows and columns.\n",
              "</div>"
            ]
          },
          "metadata": {},
          "execution_count": 23
        }
      ]
    },
    {
      "cell_type": "code",
      "source": [
        "model_l2_reg.coefficients"
      ],
      "metadata": {
        "id": "8E9NbF2wjcbP",
        "outputId": "a8da10d6-bc20-42dc-a41a-272645970c74",
        "colab": {
          "base_uri": "https://localhost:8080/",
          "height": 284
        }
      },
      "execution_count": null,
      "outputs": [
        {
          "output_type": "execute_result",
          "data": {
            "text/plain": [
              "Columns:\n",
              "\tname\tstr\n",
              "\tindex\tstr\n",
              "\tvalue\tfloat\n",
              "\tstderr\tfloat\n",
              "\n",
              "Rows: 200\n",
              "\n",
              "Data:\n",
              "+-------------+-------+-------------------------+--------+\n",
              "|     name    | index |          value          | stderr |\n",
              "+-------------+-------+-------------------------+--------+\n",
              "| (intercept) |  None |    13.523593494845487   |  None  |\n",
              "|      x      |  None |    0.5686987719693142   |  None  |\n",
              "|     x^2     |  None |   -0.6956663947999977   |  None  |\n",
              "|     x^3     |  None |    0.0199946269133012   |  None  |\n",
              "|     x^4     |  None |   -0.01814361481033296  |  None  |\n",
              "|     x^5     |  None |  0.0007065714461343759  |  None  |\n",
              "|     x^6     |  None | -0.00021023490481392182 |  None  |\n",
              "|     x^7     |  None |  3.521304155131599e-05  |  None  |\n",
              "|     x^8     |  None |  5.804305180157492e-06  |  None  |\n",
              "|     x^9     |  None |  1.2555018061086293e-06 |  None  |\n",
              "+-------------+-------+-------------------------+--------+\n",
              "[200 rows x 4 columns]\n",
              "Note: Only the head of the SFrame is printed.\n",
              "You can use print_rows(num_rows=m, num_columns=n) to print more rows and columns."
            ],
            "text/html": [
              "<div style=\"max-height:1000px;max-width:1500px;overflow:auto;\"><table frame=\"box\" rules=\"cols\">\n",
              "    <tr>\n",
              "        <th style=\"padding-left: 1em; padding-right: 1em; text-align: center\">name</th>\n",
              "        <th style=\"padding-left: 1em; padding-right: 1em; text-align: center\">index</th>\n",
              "        <th style=\"padding-left: 1em; padding-right: 1em; text-align: center\">value</th>\n",
              "        <th style=\"padding-left: 1em; padding-right: 1em; text-align: center\">stderr</th>\n",
              "    </tr>\n",
              "    <tr>\n",
              "        <td style=\"padding-left: 1em; padding-right: 1em; text-align: center; vertical-align: top\">(intercept)</td>\n",
              "        <td style=\"padding-left: 1em; padding-right: 1em; text-align: center; vertical-align: top\">None</td>\n",
              "        <td style=\"padding-left: 1em; padding-right: 1em; text-align: center; vertical-align: top\">13.523593494845487</td>\n",
              "        <td style=\"padding-left: 1em; padding-right: 1em; text-align: center; vertical-align: top\">None</td>\n",
              "    </tr>\n",
              "    <tr>\n",
              "        <td style=\"padding-left: 1em; padding-right: 1em; text-align: center; vertical-align: top\">x</td>\n",
              "        <td style=\"padding-left: 1em; padding-right: 1em; text-align: center; vertical-align: top\">None</td>\n",
              "        <td style=\"padding-left: 1em; padding-right: 1em; text-align: center; vertical-align: top\">0.5686987719693142</td>\n",
              "        <td style=\"padding-left: 1em; padding-right: 1em; text-align: center; vertical-align: top\">None</td>\n",
              "    </tr>\n",
              "    <tr>\n",
              "        <td style=\"padding-left: 1em; padding-right: 1em; text-align: center; vertical-align: top\">x^2</td>\n",
              "        <td style=\"padding-left: 1em; padding-right: 1em; text-align: center; vertical-align: top\">None</td>\n",
              "        <td style=\"padding-left: 1em; padding-right: 1em; text-align: center; vertical-align: top\">-0.6956663947999977</td>\n",
              "        <td style=\"padding-left: 1em; padding-right: 1em; text-align: center; vertical-align: top\">None</td>\n",
              "    </tr>\n",
              "    <tr>\n",
              "        <td style=\"padding-left: 1em; padding-right: 1em; text-align: center; vertical-align: top\">x^3</td>\n",
              "        <td style=\"padding-left: 1em; padding-right: 1em; text-align: center; vertical-align: top\">None</td>\n",
              "        <td style=\"padding-left: 1em; padding-right: 1em; text-align: center; vertical-align: top\">0.0199946269133012</td>\n",
              "        <td style=\"padding-left: 1em; padding-right: 1em; text-align: center; vertical-align: top\">None</td>\n",
              "    </tr>\n",
              "    <tr>\n",
              "        <td style=\"padding-left: 1em; padding-right: 1em; text-align: center; vertical-align: top\">x^4</td>\n",
              "        <td style=\"padding-left: 1em; padding-right: 1em; text-align: center; vertical-align: top\">None</td>\n",
              "        <td style=\"padding-left: 1em; padding-right: 1em; text-align: center; vertical-align: top\">-0.01814361481033296</td>\n",
              "        <td style=\"padding-left: 1em; padding-right: 1em; text-align: center; vertical-align: top\">None</td>\n",
              "    </tr>\n",
              "    <tr>\n",
              "        <td style=\"padding-left: 1em; padding-right: 1em; text-align: center; vertical-align: top\">x^5</td>\n",
              "        <td style=\"padding-left: 1em; padding-right: 1em; text-align: center; vertical-align: top\">None</td>\n",
              "        <td style=\"padding-left: 1em; padding-right: 1em; text-align: center; vertical-align: top\">0.0007065714461343759</td>\n",
              "        <td style=\"padding-left: 1em; padding-right: 1em; text-align: center; vertical-align: top\">None</td>\n",
              "    </tr>\n",
              "    <tr>\n",
              "        <td style=\"padding-left: 1em; padding-right: 1em; text-align: center; vertical-align: top\">x^6</td>\n",
              "        <td style=\"padding-left: 1em; padding-right: 1em; text-align: center; vertical-align: top\">None</td>\n",
              "        <td style=\"padding-left: 1em; padding-right: 1em; text-align: center; vertical-align: top\">-0.00021023490481392182</td>\n",
              "        <td style=\"padding-left: 1em; padding-right: 1em; text-align: center; vertical-align: top\">None</td>\n",
              "    </tr>\n",
              "    <tr>\n",
              "        <td style=\"padding-left: 1em; padding-right: 1em; text-align: center; vertical-align: top\">x^7</td>\n",
              "        <td style=\"padding-left: 1em; padding-right: 1em; text-align: center; vertical-align: top\">None</td>\n",
              "        <td style=\"padding-left: 1em; padding-right: 1em; text-align: center; vertical-align: top\">3.521304155131599e-05</td>\n",
              "        <td style=\"padding-left: 1em; padding-right: 1em; text-align: center; vertical-align: top\">None</td>\n",
              "    </tr>\n",
              "    <tr>\n",
              "        <td style=\"padding-left: 1em; padding-right: 1em; text-align: center; vertical-align: top\">x^8</td>\n",
              "        <td style=\"padding-left: 1em; padding-right: 1em; text-align: center; vertical-align: top\">None</td>\n",
              "        <td style=\"padding-left: 1em; padding-right: 1em; text-align: center; vertical-align: top\">5.804305180157492e-06</td>\n",
              "        <td style=\"padding-left: 1em; padding-right: 1em; text-align: center; vertical-align: top\">None</td>\n",
              "    </tr>\n",
              "    <tr>\n",
              "        <td style=\"padding-left: 1em; padding-right: 1em; text-align: center; vertical-align: top\">x^9</td>\n",
              "        <td style=\"padding-left: 1em; padding-right: 1em; text-align: center; vertical-align: top\">None</td>\n",
              "        <td style=\"padding-left: 1em; padding-right: 1em; text-align: center; vertical-align: top\">1.2555018061086293e-06</td>\n",
              "        <td style=\"padding-left: 1em; padding-right: 1em; text-align: center; vertical-align: top\">None</td>\n",
              "    </tr>\n",
              "</table>\n",
              "[200 rows x 4 columns]<br/>Note: Only the head of the SFrame is printed.<br/>You can use print_rows(num_rows=m, num_columns=n) to print more rows and columns.\n",
              "</div>"
            ]
          },
          "metadata": {},
          "execution_count": 28
        }
      ]
    },
    {
      "cell_type": "markdown",
      "source": [
        "From these polynomials, we see the following:\n",
        "\n",
        "* For the model with no regularization, all the coefficients are large. This means the polynomial is chaotic and not good for making predictions.\n",
        "* For the model with `L1` regularization, all the coefficients, except for the constant one (the first one), are tiny—almost 0. This means that for the values close to zero, the polynomial looks a lot like the horizontal line with equation `yˆ = 0.57`. This is better than the previous model but still not great for making predictions.\n",
        "* For the model with `L2` regularization, the coefficients get smaller as the degree grows but are still not so small. This gives us a decent polynomial for making predictions."
      ],
      "metadata": {
        "id": "nx_zBIfKkEi5"
      }
    }
  ]
}