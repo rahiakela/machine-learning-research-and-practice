{
  "nbformat": 4,
  "nbformat_minor": 0,
  "metadata": {
    "colab": {
      "name": "01-perceptron-algorithm.ipynb",
      "provenance": [],
      "toc_visible": true,
      "authorship_tag": "ABX9TyOLw48VgKfIe/+SSQ8fJmsr",
      "include_colab_link": true
    },
    "kernelspec": {
      "name": "python3",
      "display_name": "Python 3"
    },
    "language_info": {
      "name": "python"
    }
  },
  "cells": [
    {
      "cell_type": "markdown",
      "metadata": {
        "id": "view-in-github",
        "colab_type": "text"
      },
      "source": [
        "<a href=\"https://colab.research.google.com/github/rahiakela/machine-learning-research-and-practice/blob/main/grokking-machine-learning/05-perceptron-algorithm/01_perceptron_algorithm.ipynb\" target=\"_parent\"><img src=\"https://colab.research.google.com/assets/colab-badge.svg\" alt=\"Open In Colab\"/></a>"
      ]
    },
    {
      "cell_type": "markdown",
      "source": [
        "##Perceptron algorithm"
      ],
      "metadata": {
        "id": "R2qvSgZaw1fT"
      }
    },
    {
      "cell_type": "markdown",
      "source": [
        "Let's develop the perceptron algorithm for our sentiment analysis application.\n",
        "\n",
        "First we’ll write the code from scratch to fit our original dataset,\n",
        "and then we’ll use Turi Create. \n",
        "\n",
        "In real life, we always use a package and have little need to code our\n",
        "own algorithms."
      ],
      "metadata": {
        "id": "aI-qMbrtxAJ4"
      }
    },
    {
      "cell_type": "markdown",
      "source": [
        "##Setup"
      ],
      "metadata": {
        "id": "tuYDtYyVy1Qo"
      }
    },
    {
      "cell_type": "code",
      "source": [
        "!pip -q install turicreate"
      ],
      "metadata": {
        "id": "E26OpbLs1K5H"
      },
      "execution_count": null,
      "outputs": []
    },
    {
      "cell_type": "code",
      "source": [
        "import pandas as pd\n",
        "import numpy as np\n",
        "import random\n",
        "import matplotlib.pyplot as plt\n",
        "\n",
        "import turicreate as tc\n",
        "\n",
        "random.seed(0)"
      ],
      "metadata": {
        "id": "idY6aIXsyx0f"
      },
      "execution_count": 22,
      "outputs": []
    },
    {
      "cell_type": "code",
      "source": [
        "# Some functions to plot our points and draw the lines\n",
        "def plot_points(features, labels):\n",
        "    X = np.array(features)\n",
        "    y = np.array(labels)\n",
        "    spam = X[np.argwhere(y==1)]\n",
        "    ham = X[np.argwhere(y==0)]\n",
        "    pyplot.scatter([s[0][0] for s in spam],\n",
        "                   [s[0][1] for s in spam],\n",
        "                   s = 100,\n",
        "                   color = 'cyan',\n",
        "                   edgecolor = 'k',\n",
        "                   marker = '^')\n",
        "    pyplot.scatter([s[0][0] for s in ham],\n",
        "                   [s[0][1] for s in ham],\n",
        "                   s = 100,\n",
        "                   color = 'red',\n",
        "                   edgecolor = 'k',\n",
        "                   marker = 's')\n",
        "    pyplot.xlabel('aack')\n",
        "    pyplot.ylabel('beep')\n",
        "    pyplot.legend(['happy','sad'])\n",
        "    \n",
        "def draw_line(a,b,c, starting=0, ending=3, **kwargs):\n",
        "    # Plotting the line ax + by + c = 0\n",
        "    x = np.linspace(starting, ending, 1000)\n",
        "    pyplot.plot(x, -c/b - a*x/b, **kwargs)"
      ],
      "metadata": {
        "id": "qR7fAlyufZr0"
      },
      "execution_count": 3,
      "outputs": []
    },
    {
      "cell_type": "markdown",
      "source": [
        "##Defining dataset"
      ],
      "metadata": {
        "id": "ytLwhBiHy3h6"
      }
    },
    {
      "cell_type": "markdown",
      "source": [
        "Let’s begin by defining our dataset as a NumPy array. The features correspond to two numbers\n",
        "corresponding to the appearances of aack and beep. \n",
        "\n",
        "The labels are 1 for the happy sentences and\n",
        "0 for the sad ones."
      ],
      "metadata": {
        "id": "BuLRuYg8y7Ym"
      }
    },
    {
      "cell_type": "code",
      "source": [
        "features = np.array([[1,0],[0,2],[1,1],[1,2],[1,3],[2,2],[2,3],[3,2]])\n",
        "labels = np.array([0,0,0,0,1,1,1,1])"
      ],
      "metadata": {
        "id": "D6b_Ssg3xxFD"
      },
      "execution_count": 4,
      "outputs": []
    },
    {
      "cell_type": "code",
      "source": [
        "# Plotting the points\n",
        "plot_points(features, labels)"
      ],
      "metadata": {
        "id": "majwWTVAyBej",
        "colab": {
          "base_uri": "https://localhost:8080/",
          "height": 279
        },
        "outputId": "dc19d436-7d28-40ed-94cc-128d6acbe838"
      },
      "execution_count": 5,
      "outputs": [
        {
          "output_type": "display_data",
          "data": {
            "text/plain": [
              "<Figure size 432x288 with 1 Axes>"
            ],
            "image/png": "[encoded data removed]"
          },
          "metadata": {
            "needs_background": "light"
          }
        }
      ]
    },
    {
      "cell_type": "markdown",
      "source": [
        "##Perceptron trick"
      ],
      "metadata": {
        "id": "WPSUrZrnzKUX"
      }
    },
    {
      "cell_type": "markdown",
      "source": [
        "We start by coding the score function and the prediction.\n",
        "\n",
        "The score function\n",
        "returns the score that the model gives to that data point, and the prediction function returns a 1\n",
        "if the score is greater than or equal to zero and a 0 if the score is less than zero."
      ],
      "metadata": {
        "id": "59dU_28Mq_HR"
      }
    },
    {
      "cell_type": "code",
      "source": [
        "def score(weights, bias, features):\n",
        "  return features.dot(weights) + bias"
      ],
      "metadata": {
        "id": "T-yyUdU8rSQb"
      },
      "execution_count": 11,
      "outputs": []
    },
    {
      "cell_type": "markdown",
      "source": [
        "To write the prediction function, we first write the step function. The prediction is the step function\n",
        "of the score."
      ],
      "metadata": {
        "id": "eO2kYr4frQuR"
      }
    },
    {
      "cell_type": "code",
      "source": [
        "def step(x):\n",
        "  if x >= 0:\n",
        "    return 1\n",
        "  else:\n",
        "    return 0\n",
        "\n",
        "def prediction(weights, bias, features):\n",
        "  return step(score(weights, bias, features))"
      ],
      "metadata": {
        "id": "wVboOWRYrRoh"
      },
      "execution_count": 12,
      "outputs": []
    },
    {
      "cell_type": "markdown",
      "source": [
        "Recall that the error is zero if the point is correctly\n",
        "classified and the absolute value of the score if the point is misclassified."
      ],
      "metadata": {
        "id": "ETmEyDgSrg2w"
      }
    },
    {
      "cell_type": "code",
      "source": [
        "def error(weights, bias, features, label):\n",
        "  pred = prediction(weights, bias, features)\n",
        "  # If the prediction is equal to the label, then the point is well classified, which means the error is zero\n",
        "  if pred == label:\n",
        "    return 0\n",
        "  else:\n",
        "    # If the prediction is different from the label, then the point is misclassified, which means the error is equal to the absolute value of the score.\n",
        "    return np.abs(score(weights, bias, features))"
      ],
      "metadata": {
        "id": "GiuHGT1fpesH"
      },
      "execution_count": 10,
      "outputs": []
    },
    {
      "cell_type": "markdown",
      "source": [
        "We now write a function for the mean perceptron error. This function calculates the average of\n",
        "the errors of all the points in our dataset."
      ],
      "metadata": {
        "id": "0o6M-gYwryf6"
      }
    },
    {
      "cell_type": "code",
      "source": [
        "def mean_perceptron_error(weights, bias, features, labels):\n",
        "  total_error = 0\n",
        "  for i in range(len(features)):\n",
        "    total_error += error(weights, bias, features[i], labels[i])\n",
        "  return total_error / len(features)"
      ],
      "metadata": {
        "id": "nAhuJE5iry8X"
      },
      "execution_count": 13,
      "outputs": []
    },
    {
      "cell_type": "markdown",
      "source": [
        "Now, let's test its prediction."
      ],
      "metadata": {
        "id": "tihQzqc-sL25"
      }
    },
    {
      "cell_type": "code",
      "source": [
        "weights = [1, 1]\n",
        "bias = -3.5\n",
        "\n",
        "for i in range(len(features)):\n",
        "  print(prediction(weights, bias, features[1]), error(weights, bias, features[i], labels[i]))"
      ],
      "metadata": {
        "id": "HdDeic1LsTNh",
        "outputId": "72d5f5ae-a3d8-49f6-9a92-256a5f0321ec",
        "colab": {
          "base_uri": "https://localhost:8080/"
        }
      },
      "execution_count": 16,
      "outputs": [
        {
          "output_type": "stream",
          "name": "stdout",
          "text": [
            "0 0\n",
            "0 0\n",
            "0 0\n",
            "0 0\n",
            "0 0\n",
            "0 0\n",
            "0 0\n",
            "0 0\n"
          ]
        }
      ]
    },
    {
      "cell_type": "code",
      "source": [
        "weights = [1, 2]\n",
        "bias = -4\n",
        "\n",
        "for i in range(len(features)):\n",
        "  print(prediction(weights, bias, features[1]), error(weights, bias, features[i], labels[i]))"
      ],
      "metadata": {
        "id": "RLIGgX6us1YF",
        "outputId": "a636bcad-1109-4e3e-9cff-97e1baddb6cc",
        "colab": {
          "base_uri": "https://localhost:8080/"
        }
      },
      "execution_count": 17,
      "outputs": [
        {
          "output_type": "stream",
          "name": "stdout",
          "text": [
            "1 0\n",
            "1 0\n",
            "1 0\n",
            "1 1\n",
            "1 0\n",
            "1 0\n",
            "1 0\n",
            "1 0\n"
          ]
        }
      ]
    },
    {
      "cell_type": "markdown",
      "source": [
        "Now that we have the error function, we can go ahead and code the perceptron trick."
      ],
      "metadata": {
        "id": "-oAmBfSvr-lv"
      }
    },
    {
      "cell_type": "code",
      "source": [
        "def perceptron_trick(weights, bias, features, label, learning_rate =0.01):\n",
        "  pred = prediction(weights, bias, features)\n",
        "  if pred == label:\n",
        "    return weights, bias\n",
        "  else:\n",
        "    if label == 1 and pred == 0:\n",
        "      for i in range(len(weights)):\n",
        "        weights[i] += features[i] * learning_rate\n",
        "      bias += learning_rate\n",
        "    elif label == 0 and pred == 1:\n",
        "      for i in range(len(weights)):\n",
        "        weights[i] -= features[i] * learning_rate\n",
        "      bias -= learning_rate\n",
        "  return weights, bias"
      ],
      "metadata": {
        "id": "-cbeMK2wr_AT"
      },
      "execution_count": 18,
      "outputs": []
    },
    {
      "cell_type": "code",
      "source": [
        "perceptron_trick(weights, bias, features[6], 0)"
      ],
      "metadata": {
        "id": "THcEW_-Zt0Nm",
        "outputId": "fff07ecc-f163-4b90-bac7-aae60cd5a79d",
        "colab": {
          "base_uri": "https://localhost:8080/"
        }
      },
      "execution_count": 19,
      "outputs": [
        {
          "output_type": "execute_result",
          "data": {
            "text/plain": [
              "([0.98, 1.97], -4.01)"
            ]
          },
          "metadata": {},
          "execution_count": 19
        }
      ]
    },
    {
      "cell_type": "code",
      "source": [
        "# Shorter version of the perceptron trick\n",
        "def perceptron_trick(weights, bias, features, label, learning_rate=0.01):\n",
        "  pred = prediction(weights, bias, features)\n",
        "  for i in range(len(weights)):\n",
        "    weights[i] += (label - pred) * features[i] * learning_rate\n",
        "    bias += (label - pred) * learning_rate\n",
        "  return weights, bias"
      ],
      "metadata": {
        "id": "ZaAh5-4vuC20"
      },
      "execution_count": 20,
      "outputs": []
    },
    {
      "cell_type": "code",
      "source": [
        "perceptron_trick(weights, bias, features[6], 0)"
      ],
      "metadata": {
        "id": "-OmhPGl1ubA-",
        "outputId": "270afe4a-b029-49d9-c9c3-6f7f3bab926d",
        "colab": {
          "base_uri": "https://localhost:8080/"
        }
      },
      "execution_count": 21,
      "outputs": [
        {
          "output_type": "execute_result",
          "data": {
            "text/plain": [
              "([0.96, 1.94], -4.02)"
            ]
          },
          "metadata": {},
          "execution_count": 21
        }
      ]
    },
    {
      "cell_type": "markdown",
      "source": [
        "##Running the perceptron algorithm"
      ],
      "metadata": {
        "id": "kuYBmCTou2s_"
      }
    },
    {
      "cell_type": "markdown",
      "source": [
        "Now that we have the perceptron trick, we can code the perceptron algorithm. Recall that the\n",
        "perceptron algorithm consists of starting with a random perceptron classifier and repeating the\n",
        "perceptron trick many times (as many as the number of epochs)."
      ],
      "metadata": {
        "id": "xLvJJeDRvCgR"
      }
    },
    {
      "cell_type": "code",
      "source": [
        "random.seed(0)\n",
        "\n",
        "def perceptron_algorithm(features, labels, learning_rate=0.01, epochs=200):\n",
        "  weights = [1.0 for i in range(len(features[0]))]\n",
        "  bias = 0.0\n",
        "  errors = []\n",
        "\n",
        "  for epoch in range(epochs):\n",
        "    draw_line(weights[0], weights[1], bias, color='grey', linewidth=1.0, linestyle='dotted')\n",
        "    error = mean_perceptron_error(weights, bias, features, labels)\n",
        "    errors.append(error)\n",
        "    i = random.randint(0, len(features) - 1)\n",
        "    weights, bias = perceptron_trick(weights, bias, features[i], labels[i])\n",
        "  draw_line(weights[0], weights[1], bias)\n",
        "  plot_points(features, labels)\n",
        "  plt.show()\n",
        "  plt.scatter(range(epochs), errors)\n",
        "  return weights, bias"
      ],
      "metadata": {
        "id": "a_IHbsIru4jA"
      },
      "execution_count": 23,
      "outputs": []
    },
    {
      "cell_type": "markdown",
      "source": [
        "Now let’s run the algorithm on our dataset!"
      ],
      "metadata": {
        "id": "QjIqZ-JoxJZW"
      }
    },
    {
      "cell_type": "code",
      "source": [
        "perceptron_algorithm(features, labels)"
      ],
      "metadata": {
        "id": "dg6gbzHhxJ9b",
        "outputId": "4ab11138-9119-4a13-e6d8-86c893fb7320",
        "colab": {
          "base_uri": "https://localhost:8080/",
          "height": 545
        }
      },
      "execution_count": 24,
      "outputs": [
        {
          "output_type": "display_data",
          "data": {
            "text/plain": [
              "<Figure size 432x288 with 1 Axes>"
            ],
            "image/png": "[encoded data removed]"
          },
          "metadata": {
            "needs_background": "light"
          }
        },
        {
          "output_type": "execute_result",
          "data": {
            "text/plain": [
              "([0.6299999999999997, 0.17999999999999938], -1.0400000000000007)"
            ]
          },
          "metadata": {},
          "execution_count": 24
        },
        {
          "output_type": "display_data",
          "data": {
            "text/plain": [
              "<Figure size 432x288 with 1 Axes>"
            ],
            "image/png": "[encoded data removed]"
          },
          "metadata": {
            "needs_background": "light"
          }
        }
      ]
    },
    {
      "cell_type": "markdown",
      "source": [
        "Notice how at each epoch, the line becomes a better fit for the points. The error\n",
        "decreases (mostly) as we increase the number of epochs, until it reaches zero at around epoch\n",
        "140, meaning that every point is correctly classified."
      ],
      "metadata": {
        "id": "ZrxBNzDbxZ7k"
      }
    },
    {
      "cell_type": "markdown",
      "source": [
        "##The perceptron algorithm using Turi Create"
      ],
      "metadata": {
        "id": "ydmm6l9BxhgD"
      }
    },
    {
      "cell_type": "markdown",
      "source": [
        "Let's create an SFrame with our data from a dictionary."
      ],
      "metadata": {
        "id": "YOmWP7IgzLib"
      }
    },
    {
      "cell_type": "code",
      "source": [
        "data_dict = {\n",
        "    \"aack\": features[:, 0],\n",
        "    \"beep\": features[:, 1],\n",
        "    \"prediction\": labels\n",
        "}\n",
        "\n",
        "data = tc.SFrame(data_dict)\n",
        "data"
      ],
      "metadata": {
        "id": "MJVvaMnJzhGA",
        "outputId": "f76356cd-2907-4e88-9cf7-366ab1e71758",
        "colab": {
          "base_uri": "https://localhost:8080/",
          "height": 211
        }
      },
      "execution_count": 7,
      "outputs": [
        {
          "output_type": "execute_result",
          "data": {
            "text/plain": [
              "Columns:\n",
              "\taack\tint\n",
              "\tbeep\tint\n",
              "\tprediction\tint\n",
              "\n",
              "Rows: 8\n",
              "\n",
              "Data:\n",
              "+------+------+------------+\n",
              "| aack | beep | prediction |\n",
              "+------+------+------------+\n",
              "|  1   |  0   |     0      |\n",
              "|  0   |  2   |     0      |\n",
              "|  1   |  1   |     0      |\n",
              "|  1   |  2   |     0      |\n",
              "|  1   |  3   |     1      |\n",
              "|  2   |  2   |     1      |\n",
              "|  2   |  3   |     1      |\n",
              "|  3   |  2   |     1      |\n",
              "+------+------+------------+\n",
              "[8 rows x 3 columns]"
            ],
            "text/html": [
              "<div style=\"max-height:1000px;max-width:1500px;overflow:auto;\"><table frame=\"box\" rules=\"cols\">\n",
              "    <tr>\n",
              "        <th style=\"padding-left: 1em; padding-right: 1em; text-align: center\">aack</th>\n",
              "        <th style=\"padding-left: 1em; padding-right: 1em; text-align: center\">beep</th>\n",
              "        <th style=\"padding-left: 1em; padding-right: 1em; text-align: center\">prediction</th>\n",
              "    </tr>\n",
              "    <tr>\n",
              "        <td style=\"padding-left: 1em; padding-right: 1em; text-align: center; vertical-align: top\">1</td>\n",
              "        <td style=\"padding-left: 1em; padding-right: 1em; text-align: center; vertical-align: top\">0</td>\n",
              "        <td style=\"padding-left: 1em; padding-right: 1em; text-align: center; vertical-align: top\">0</td>\n",
              "    </tr>\n",
              "    <tr>\n",
              "        <td style=\"padding-left: 1em; padding-right: 1em; text-align: center; vertical-align: top\">0</td>\n",
              "        <td style=\"padding-left: 1em; padding-right: 1em; text-align: center; vertical-align: top\">2</td>\n",
              "        <td style=\"padding-left: 1em; padding-right: 1em; text-align: center; vertical-align: top\">0</td>\n",
              "    </tr>\n",
              "    <tr>\n",
              "        <td style=\"padding-left: 1em; padding-right: 1em; text-align: center; vertical-align: top\">1</td>\n",
              "        <td style=\"padding-left: 1em; padding-right: 1em; text-align: center; vertical-align: top\">1</td>\n",
              "        <td style=\"padding-left: 1em; padding-right: 1em; text-align: center; vertical-align: top\">0</td>\n",
              "    </tr>\n",
              "    <tr>\n",
              "        <td style=\"padding-left: 1em; padding-right: 1em; text-align: center; vertical-align: top\">1</td>\n",
              "        <td style=\"padding-left: 1em; padding-right: 1em; text-align: center; vertical-align: top\">2</td>\n",
              "        <td style=\"padding-left: 1em; padding-right: 1em; text-align: center; vertical-align: top\">0</td>\n",
              "    </tr>\n",
              "    <tr>\n",
              "        <td style=\"padding-left: 1em; padding-right: 1em; text-align: center; vertical-align: top\">1</td>\n",
              "        <td style=\"padding-left: 1em; padding-right: 1em; text-align: center; vertical-align: top\">3</td>\n",
              "        <td style=\"padding-left: 1em; padding-right: 1em; text-align: center; vertical-align: top\">1</td>\n",
              "    </tr>\n",
              "    <tr>\n",
              "        <td style=\"padding-left: 1em; padding-right: 1em; text-align: center; vertical-align: top\">2</td>\n",
              "        <td style=\"padding-left: 1em; padding-right: 1em; text-align: center; vertical-align: top\">2</td>\n",
              "        <td style=\"padding-left: 1em; padding-right: 1em; text-align: center; vertical-align: top\">1</td>\n",
              "    </tr>\n",
              "    <tr>\n",
              "        <td style=\"padding-left: 1em; padding-right: 1em; text-align: center; vertical-align: top\">2</td>\n",
              "        <td style=\"padding-left: 1em; padding-right: 1em; text-align: center; vertical-align: top\">3</td>\n",
              "        <td style=\"padding-left: 1em; padding-right: 1em; text-align: center; vertical-align: top\">1</td>\n",
              "    </tr>\n",
              "    <tr>\n",
              "        <td style=\"padding-left: 1em; padding-right: 1em; text-align: center; vertical-align: top\">3</td>\n",
              "        <td style=\"padding-left: 1em; padding-right: 1em; text-align: center; vertical-align: top\">2</td>\n",
              "        <td style=\"padding-left: 1em; padding-right: 1em; text-align: center; vertical-align: top\">1</td>\n",
              "    </tr>\n",
              "</table>\n",
              "[8 rows x 3 columns]<br/>\n",
              "</div>"
            ]
          },
          "metadata": {},
          "execution_count": 7
        }
      ]
    },
    {
      "cell_type": "markdown",
      "source": [
        "Next, we create and train our perceptron classifier, using the `logistic_classifier` object and\n",
        "the create method."
      ],
      "metadata": {
        "id": "qjE5Pb5-pKK6"
      }
    },
    {
      "cell_type": "code",
      "source": [
        "perceptron = "
      ],
      "metadata": {
        "colab": {
          "base_uri": "https://localhost:8080/",
          "height": 166
        },
        "id": "oEcbjGHoz6_5",
        "outputId": "5e476566-84eb-4956-ad93-21266f9fe596"
      },
      "execution_count": 6,
      "outputs": [
        {
          "output_type": "error",
          "ename": "NameError",
          "evalue": "ignored",
          "traceback": [
            "\u001b[0;31m---------------------------------------------------------------------------\u001b[0m",
            "\u001b[0;31mNameError\u001b[0m                                 Traceback (most recent call last)",
            "\u001b[0;32m<ipython-input-6-2753a7a4949f>\u001b[0m in \u001b[0;36m<module>\u001b[0;34m()\u001b[0m\n\u001b[0;32m----> 1\u001b[0;31m \u001b[0mplt\u001b[0m\u001b[0;34m.\u001b[0m\u001b[0mscatter\u001b[0m\u001b[0;34m(\u001b[0m\u001b[0mX\u001b[0m\u001b[0;34m,\u001b[0m \u001b[0mY\u001b[0m\u001b[0;34m)\u001b[0m\u001b[0;34m\u001b[0m\u001b[0;34m\u001b[0m\u001b[0m\n\u001b[0m",
            "\u001b[0;31mNameError\u001b[0m: name 'plt' is not defined"
          ]
        }
      ]
    },
    {
      "cell_type": "code",
      "source": [
        "data = tc.SFrame({\"x\": X, \"y\": Y})\n",
        "data.print_rows(5, 2)"
      ],
      "metadata": {
        "id": "bzp-iALO1gwm"
      },
      "execution_count": null,
      "outputs": []
    },
    {
      "cell_type": "markdown",
      "source": [
        "The way to do polynomial regression in Turi Create is to add many columns to our dataset, corresponding\n",
        "to the powers of the main feature, and to apply linear regression to this expanded\n",
        "dataset. \n",
        "\n",
        "If the main feature is, say, $x$, then we add columns with the values of $x^2, x^3, x^4$, and so on.\n",
        "Thus, our model is finding linear combinations of the powers of $x$, which are precisely polynomials\n",
        "in $x$.\n",
        "\n",
        "So, let's add columns to our dataset corresponding to $X^2, X^3,...,x^{200}$."
      ],
      "metadata": {
        "id": "w6yx0czX2GJj"
      }
    },
    {
      "cell_type": "code",
      "source": [
        "for i in range(2, 200):\n",
        "  strings = \"x^\" + str(i)\n",
        "  data[strings] = data[\"x\"].apply(lambda x: x ** i)"
      ],
      "metadata": {
        "id": "r7HA5dBR2IS0"
      },
      "execution_count": null,
      "outputs": []
    },
    {
      "cell_type": "code",
      "source": [
        "data.print_rows(5, 5)"
      ],
      "metadata": {
        "id": "9bY6uWXa2_mG"
      },
      "execution_count": null,
      "outputs": []
    },
    {
      "cell_type": "markdown",
      "source": [
        "Before we train any models, we need to split the data into training and testing datasets."
      ],
      "metadata": {
        "id": "N5Zhp59v3MqI"
      }
    },
    {
      "cell_type": "code",
      "source": [
        "train, test = data.random_split(.8)"
      ],
      "metadata": {
        "id": "2eCeH1IS3NQk"
      },
      "execution_count": null,
      "outputs": []
    },
    {
      "cell_type": "markdown",
      "source": [
        "##Regularization"
      ],
      "metadata": {
        "id": "9KzXZ73z3cXj"
      }
    },
    {
      "cell_type": "markdown",
      "source": [
        "The way to use regularization in Turi Create is simple: all we need to do is specify the parameters\n",
        "`l1_penalty` and `l2_penalty` in the create method when we train the model. This penalty\n",
        "is precisely the regularization parameter.\n",
        "\n",
        "A penalty of 0 means we are not using regularization.\n",
        "Thus, we will train three different models."
      ],
      "metadata": {
        "id": "dg4ZVo9G3dv7"
      }
    },
    {
      "cell_type": "code",
      "source": [
        "model_no_reg = tc.linear_regression.create(train, target=\"y\", l1_penalty=0.0, l2_penalty=0.0, verbose=False, validation_set=None)"
      ],
      "metadata": {
        "id": "jqlzjWMvTsoF"
      },
      "execution_count": null,
      "outputs": []
    },
    {
      "cell_type": "code",
      "source": [
        "display_results(model_no_reg)"
      ],
      "metadata": {
        "id": "j-M0AnXSUGWF"
      },
      "execution_count": null,
      "outputs": []
    },
    {
      "cell_type": "markdown",
      "source": [
        "Notice that the model with no regularization fits the training points really well, but it’s chaotic\n",
        "and doesn’t fit the testing points well."
      ],
      "metadata": {
        "id": "jXVlOm5RgOSm"
      }
    },
    {
      "cell_type": "code",
      "source": [
        "model_l1_reg  = tc.linear_regression.create(train, target=\"y\", l1_penalty=0.1, l2_penalty=0.0, verbose=False, validation_set=None)\n",
        "display_results(model_l1_reg)"
      ],
      "metadata": {
        "id": "TzLkUB1ufk6I"
      },
      "execution_count": null,
      "outputs": []
    },
    {
      "cell_type": "markdown",
      "source": [
        "The model with L1 regularization does OK with both the\n",
        "training and the testing sets."
      ],
      "metadata": {
        "id": "YrQ6qjlcgT63"
      }
    },
    {
      "cell_type": "code",
      "source": [
        "model_l2_reg  = tc.linear_regression.create(train, target=\"y\", l1_penalty=0.0, l2_penalty=0.1, verbose=False, validation_set=None)\n",
        "display_results(model_l2_reg)"
      ],
      "metadata": {
        "id": "X5faq6UMf0Gr"
      },
      "execution_count": null,
      "outputs": []
    },
    {
      "cell_type": "markdown",
      "source": [
        "But the model with L2 regularization does a wonderful job with\n",
        "both the training and the testing sets and also seems to be the one that really captures the shape\n",
        "of the data.\n",
        "\n",
        "\n",
        "Also note that for the three models, the boundary curve goes a bit crazy on the end points.\n",
        "This is completely understandable, because the endpoints have less data, and it is natural for the\n",
        "model to not know what to do when there’s no data.\n",
        "\n",
        "Let's test the model.\n",
        "\n"
      ],
      "metadata": {
        "id": "vMuhzxYjgFPr"
      }
    },
    {
      "cell_type": "code",
      "source": [
        "predictions = test[\"x\", \"y\"]\n",
        "\n",
        "predictions[\"No reg\"] = model_no_reg.predict(test)\n",
        "predictions[\"L1 reg\"] = model_l1_reg.predict(test)\n",
        "predictions[\"L2 reg\"] = model_l2_reg.predict(test)\n",
        "\n",
        "predictions"
      ],
      "metadata": {
        "id": "DO9qWzFfhIyQ"
      },
      "execution_count": null,
      "outputs": []
    },
    {
      "cell_type": "markdown",
      "source": [
        "The model with no regularization had a really large RMSE! Among the other two models, the\n",
        "one with L2 regularization performed much better. \n",
        "\n",
        "Here are two questions to think about:\n",
        "\n",
        "* Why did the model with L2 regularization perform better than the one with L1\n",
        "regularization?\n",
        "* Why does the model with L1 regularization look flat, whereas the model with L2 regularization managed to capture the shape of the data?\n",
        "\n",
        "The two questions have a similar answer, and to find it, we can look at the coefficients of the\n",
        "polynomials."
      ],
      "metadata": {
        "id": "A8hQvTOVhw_5"
      }
    },
    {
      "cell_type": "code",
      "source": [
        "model_no_reg.coefficients"
      ],
      "metadata": {
        "id": "8klfxvOPiAzE"
      },
      "execution_count": null,
      "outputs": []
    },
    {
      "cell_type": "code",
      "source": [
        "model_l1_reg.coefficients"
      ],
      "metadata": {
        "id": "L_yA2BbMiOt3"
      },
      "execution_count": null,
      "outputs": []
    },
    {
      "cell_type": "code",
      "source": [
        "model_l2_reg.coefficients"
      ],
      "metadata": {
        "id": "8E9NbF2wjcbP"
      },
      "execution_count": null,
      "outputs": []
    },
    {
      "cell_type": "markdown",
      "source": [
        "From these polynomials, we see the following:\n",
        "\n",
        "* For the model with no regularization, all the coefficients are large. This means the polynomial is chaotic and not good for making predictions.\n",
        "* For the model with `L1` regularization, all the coefficients, except for the constant one (the first one), are tiny—almost 0. This means that for the values close to zero, the polynomial looks a lot like the horizontal line with equation `yˆ = 0.57`. This is better than the previous model but still not great for making predictions.\n",
        "* For the model with `L2` regularization, the coefficients get smaller as the degree grows but are still not so small. This gives us a decent polynomial for making predictions."
      ],
      "metadata": {
        "id": "nx_zBIfKkEi5"
      }
    }
  ]
}