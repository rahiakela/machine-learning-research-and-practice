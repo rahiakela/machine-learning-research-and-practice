{
  "nbformat": 4,
  "nbformat_minor": 0,
  "metadata": {
    "colab": {
      "provenance": [],
      "toc_visible": true,
      "authorship_tag": "ABX9TyOvyKT9hdPs2PbKu/YBytOo",
      "include_colab_link": true
    },
    "kernelspec": {
      "name": "python3",
      "display_name": "Python 3"
    },
    "language_info": {
      "name": "python"
    }
  },
  "cells": [
    {
      "cell_type": "markdown",
      "metadata": {
        "id": "view-in-github",
        "colab_type": "text"
      },
      "source": [
        "<a href=\"https://colab.research.google.com/github/rahiakela/machine-learning-research-and-practice/blob/main/grokking-machine-learning/11-support-vector-machines/01_linear_classification_with_svm.ipynb\" target=\"_parent\"><img src=\"https://colab.research.google.com/assets/colab-badge.svg\" alt=\"Open In Colab\"/></a>"
      ]
    },
    {
      "cell_type": "markdown",
      "source": [
        "##Linear classification with SVM"
      ],
      "metadata": {
        "id": "R2qvSgZaw1fT"
      }
    },
    {
      "cell_type": "markdown",
      "source": [
        "##Setup"
      ],
      "metadata": {
        "id": "tuYDtYyVy1Qo"
      }
    },
    {
      "cell_type": "code",
      "source": [
        "import random\n",
        "\n",
        "import pandas as pd\n",
        "import numpy as np\n",
        "import matplotlib.pyplot as plt\n",
        "\n",
        "from sklearn.svm import SVC\n",
        "\n",
        "random.seed(0)"
      ],
      "metadata": {
        "id": "idY6aIXsyx0f"
      },
      "execution_count": 1,
      "outputs": []
    },
    {
      "cell_type": "code",
      "source": [
        "import warnings\n",
        "warnings.simplefilter(\"ignore\", UserWarning)"
      ],
      "metadata": {
        "id": "BoqFq30OMqRj"
      },
      "execution_count": 2,
      "outputs": []
    },
    {
      "cell_type": "code",
      "source": [
        "!wget https://github.com/luisguiserrano/manning/raw/master/Chapter_11_Support_Vector_Machines/utils.py"
      ],
      "metadata": {
        "id": "QLY9kRYk7X2A"
      },
      "execution_count": null,
      "outputs": []
    },
    {
      "cell_type": "code",
      "source": [
        "import utils"
      ],
      "metadata": {
        "id": "t5NNoaKtM8F5"
      },
      "execution_count": 4,
      "outputs": []
    },
    {
      "cell_type": "code",
      "source": [
        "# Some functions to plot our points and draw the models\n",
        "def plot_points(features, labels):\n",
        "  X = np.array(features)\n",
        "  y = np.array(labels)\n",
        "  spam = X[np.argwhere(y==1)]\n",
        "  ham = X[np.argwhere(y==0)]\n",
        "  plt.scatter([s[0][0] for s in spam],\n",
        "              [s[0][1] for s in spam],\n",
        "              s = 25,\n",
        "              color = 'cyan',\n",
        "              edgecolor = 'k',\n",
        "              marker = '^')\n",
        "  plt.scatter([s[0][0] for s in ham],\n",
        "              [s[0][1] for s in ham],\n",
        "              s = 25,\n",
        "              color = 'red',\n",
        "              edgecolor = 'k',\n",
        "              marker = 's')"
      ],
      "metadata": {
        "id": "_LXjha83NIpd"
      },
      "execution_count": 5,
      "outputs": []
    },
    {
      "cell_type": "markdown",
      "source": [
        "Ref: https://www.kaggle.com/product-feedback/158412"
      ],
      "metadata": {
        "id": "5j9owfjFqoDf"
      }
    },
    {
      "cell_type": "code",
      "source": [
        "!pip install six"
      ],
      "metadata": {
        "id": "f8doOVclpk7c"
      },
      "execution_count": null,
      "outputs": []
    },
    {
      "cell_type": "code",
      "source": [
        "import six\n",
        "import sys\n",
        "sys.modules['sklearn.externals.six'] = six"
      ],
      "metadata": {
        "id": "cKgYzhjJqhls"
      },
      "execution_count": null,
      "outputs": []
    },
    {
      "cell_type": "code",
      "source": [
        "from six import StringIO\n",
        "import utils"
      ],
      "metadata": {
        "id": "Z0ytyORS7bWN"
      },
      "execution_count": null,
      "outputs": []
    },
    {
      "cell_type": "markdown",
      "source": [
        "##Building linear dataset"
      ],
      "metadata": {
        "id": "4dqpwJZdaYsh"
      }
    },
    {
      "cell_type": "code",
      "source": [
        "rows = []\n",
        "\n",
        "# Adding points\n",
        "for i in range(50):\n",
        "  x = 6 * random.random() - 3\n",
        "  y = 6 * random.random() - 3\n",
        "\n",
        "  z = int(x + y > 0.5)\n",
        "  rows.append([x, y, z])\n",
        "\n",
        "# Adding noise\n",
        "for i in range(10):\n",
        "  x = 6 * random.random() - 3\n",
        "  y = 6 * random.random() - 3\n",
        "\n",
        "  z = random.randint(0, 1)\n",
        "  rows.append([x, y, z])\n",
        "\n",
        "data_df = pd.DataFrame(rows, columns=[\"x_1\", \"x_2\", \"y\"])\n",
        "plot_points(data_df[[\"x_1\", \"x_2\"]], data_df[\"y\"])"
      ],
      "metadata": {
        "id": "majwWTVAyBej",
        "colab": {
          "base_uri": "https://localhost:8080/",
          "height": 265
        },
        "outputId": "b987ab99-d269-4f57-a3bd-19d84bf5d3cf"
      },
      "execution_count": 7,
      "outputs": [
        {
          "output_type": "display_data",
          "data": {
            "text/plain": [
              "<Figure size 432x288 with 1 Axes>"
            ],
            "image/png": "[encoded data removed]"
          },
          "metadata": {
            "needs_background": "light"
          }
        }
      ]
    },
    {
      "cell_type": "code",
      "source": [
        "# creating feature and label set \n",
        "features = np.array(data_df[[\"x_1\", \"x_2\"]])\n",
        "labels = np.array(data_df[\"y\"])"
      ],
      "metadata": {
        "id": "gxe4C4ZvPrjj"
      },
      "execution_count": 8,
      "outputs": []
    },
    {
      "cell_type": "markdown",
      "source": [
        "##SVM Linear model"
      ],
      "metadata": {
        "id": "8_N762UIJj9s"
      }
    },
    {
      "cell_type": "code",
      "source": [
        "svm_linear = SVC(kernel=\"linear\")\n",
        "svm_linear.fit(features, labels)"
      ],
      "metadata": {
        "colab": {
          "base_uri": "https://localhost:8080/"
        },
        "id": "eqM-Wm9LonJq",
        "outputId": "56c8987b-d969-4307-ddee-6adf1aade259"
      },
      "execution_count": 9,
      "outputs": [
        {
          "output_type": "execute_result",
          "data": {
            "text/plain": [
              "SVC(kernel='linear')"
            ]
          },
          "metadata": {},
          "execution_count": 9
        }
      ]
    },
    {
      "cell_type": "code",
      "source": [
        "print(f\"Accuracy: {svm_linear.score(features, labels)}\")"
      ],
      "metadata": {
        "colab": {
          "base_uri": "https://localhost:8080/"
        },
        "id": "PHRSE9_TQqlk",
        "outputId": "cab6d666-e469-4247-fded-6eea90436dfa"
      },
      "execution_count": 10,
      "outputs": [
        {
          "output_type": "stream",
          "name": "stdout",
          "text": [
            "Accuracy: 0.8833333333333333\n"
          ]
        }
      ]
    },
    {
      "cell_type": "code",
      "source": [
        "utils.plot_model(features, labels, svm_linear)"
      ],
      "metadata": {
        "colab": {
          "base_uri": "https://localhost:8080/",
          "height": 280
        },
        "id": "yngsHqAgpBot",
        "outputId": "c00c7693-9ab4-48d7-a4c8-0d5264c1fcef"
      },
      "execution_count": 12,
      "outputs": [
        {
          "output_type": "display_data",
          "data": {
            "text/plain": [
              "<Figure size 432x288 with 1 Axes>"
            ],
            "image/png": "[encoded data removed]"
          },
          "metadata": {
            "needs_background": "light"
          }
        }
      ]
    },
    {
      "cell_type": "markdown",
      "source": [
        "Let's try with the `C` parameter into the model, one with a very small value of 0.01, and another one with a large value of 100."
      ],
      "metadata": {
        "id": "HH_tyWNWRfc8"
      }
    },
    {
      "cell_type": "code",
      "source": [
        "svm_c_001 = SVC(kernel=\"linear\", C=0.01)\n",
        "svm_c_001.fit(features, labels)"
      ],
      "metadata": {
        "colab": {
          "base_uri": "https://localhost:8080/"
        },
        "id": "NdSeKMuYrxb_",
        "outputId": "8f1a1b38-f05b-4284-8a28-b4854a2bb27b"
      },
      "execution_count": 13,
      "outputs": [
        {
          "output_type": "execute_result",
          "data": {
            "text/plain": [
              "SVC(C=0.01, kernel='linear')"
            ]
          },
          "metadata": {},
          "execution_count": 13
        }
      ]
    },
    {
      "cell_type": "code",
      "source": [
        "print(\"C = 0.01\")\n",
        "print(f\"Accuracy: {svm_c_001.score(features, labels)}\")\n",
        "utils.plot_model(features, labels, svm_c_001)"
      ],
      "metadata": {
        "colab": {
          "base_uri": "https://localhost:8080/",
          "height": 316
        },
        "id": "l4-fQTjUR5Ry",
        "outputId": "e0182eb1-56cb-4b29-b9de-250d6bea587d"
      },
      "execution_count": 18,
      "outputs": [
        {
          "output_type": "stream",
          "name": "stdout",
          "text": [
            "C = 0.01\n",
            "Accuracy: 0.8833333333333333\n"
          ]
        },
        {
          "output_type": "display_data",
          "data": {
            "text/plain": [
              "<Figure size 432x288 with 1 Axes>"
            ],
            "image/png": "[encoded data removed]"
          },
          "metadata": {
            "needs_background": "light"
          }
        }
      ]
    },
    {
      "cell_type": "code",
      "source": [
        "svm_c_100 = SVC(kernel=\"linear\", C=100)\n",
        "svm_c_100.fit(features, labels)"
      ],
      "metadata": {
        "colab": {
          "base_uri": "https://localhost:8080/"
        },
        "id": "LGIQQUyjSNA-",
        "outputId": "53808b3f-7e42-475a-e2e8-1304b4e72a1b"
      },
      "execution_count": 15,
      "outputs": [
        {
          "output_type": "execute_result",
          "data": {
            "text/plain": [
              "SVC(C=100, kernel='linear')"
            ]
          },
          "metadata": {},
          "execution_count": 15
        }
      ]
    },
    {
      "cell_type": "code",
      "source": [
        "print(\"C = 100\")\n",
        "print(f\"Accuracy: {svm_c_100.score(features, labels)}\")\n",
        "utils.plot_model(features, labels, svm_c_100)"
      ],
      "metadata": {
        "colab": {
          "base_uri": "https://localhost:8080/",
          "height": 316
        },
        "id": "io31Om_JSNhJ",
        "outputId": "b5915be3-0062-4bdd-c669-0fd12e91acdc"
      },
      "execution_count": 17,
      "outputs": [
        {
          "output_type": "stream",
          "name": "stdout",
          "text": [
            "C = 100\n",
            "Accuracy: 0.8833333333333333\n"
          ]
        },
        {
          "output_type": "display_data",
          "data": {
            "text/plain": [
              "<Figure size 432x288 with 1 Axes>"
            ],
            "image/png": "[encoded data removed]"
          },
          "metadata": {
            "needs_background": "light"
          }
        }
      ]
    },
    {
      "cell_type": "markdown",
      "source": [
        "We can see that the model with a small value of C doesn’t put that much emphasis on classifying\n",
        "the points correctly, and it makes some mistakes, as is evident in its low accuracy (0.867).\n",
        "\n",
        "It is\n",
        "hard to tell in this example, but this classifier puts a lot of emphasis on the line being as far away\n",
        "from the points as possible. \n",
        "\n",
        "In contrast, the classifier with the large value of C tries to classify all\n",
        "the points correctly, which reflects on its higher accuracy."
      ],
      "metadata": {
        "id": "bVi_agseTn70"
      }
    }
  ]
}