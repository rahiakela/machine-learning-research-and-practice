{
  "nbformat": 4,
  "nbformat_minor": 0,
  "metadata": {
    "colab": {
      "name": "02-sentiment-analysis.ipynb",
      "provenance": [],
      "toc_visible": true,
      "authorship_tag": "ABX9TyOHvOX9ofjxzl+fr0nJFOlk",
      "include_colab_link": true
    },
    "kernelspec": {
      "name": "python3",
      "display_name": "Python 3"
    },
    "language_info": {
      "name": "python"
    }
  },
  "cells": [
    {
      "cell_type": "markdown",
      "metadata": {
        "id": "view-in-github",
        "colab_type": "text"
      },
      "source": [
        "<a href=\"https://colab.research.google.com/github/rahiakela/machine-learning-research-and-practice/blob/main/grokking-machine-learning/06-logistic-regression/02_sentiment_analysis.ipynb\" target=\"_parent\"><img src=\"https://colab.research.google.com/assets/colab-badge.svg\" alt=\"Open In Colab\"/></a>"
      ]
    },
    {
      "cell_type": "markdown",
      "source": [
        "##Sentiment analysis using IMDB"
      ],
      "metadata": {
        "id": "R2qvSgZaw1fT"
      }
    },
    {
      "cell_type": "markdown",
      "source": [
        "In this notebook, we see a real-life application of the logistic classifier in sentiment analysis. \n",
        "\n",
        "We use Turi Create to build a model that analyzes movie reviews on the popular IMDB site."
      ],
      "metadata": {
        "id": "aI-qMbrtxAJ4"
      }
    },
    {
      "cell_type": "markdown",
      "source": [
        "##Setup"
      ],
      "metadata": {
        "id": "tuYDtYyVy1Qo"
      }
    },
    {
      "cell_type": "code",
      "source": [
        "!pip -q install turicreate"
      ],
      "metadata": {
        "id": "E26OpbLs1K5H"
      },
      "execution_count": null,
      "outputs": []
    },
    {
      "cell_type": "code",
      "source": [
        "import pandas as pd\n",
        "import numpy as np\n",
        "import random\n",
        "import matplotlib.pyplot as plt\n",
        "\n",
        "import turicreate as tc\n",
        "\n",
        "random.seed(0)"
      ],
      "metadata": {
        "id": "idY6aIXsyx0f"
      },
      "execution_count": 2,
      "outputs": []
    },
    {
      "cell_type": "code",
      "source": [
        "!wget https://github.com/luisguiserrano/manning/raw/master/Chapter_6_Logistic_Regression/IMDB_Dataset.csv"
      ],
      "metadata": {
        "id": "_KlvPuqMoz_U"
      },
      "execution_count": null,
      "outputs": []
    },
    {
      "cell_type": "markdown",
      "source": [
        "##Defining dataset"
      ],
      "metadata": {
        "id": "ytLwhBiHy3h6"
      }
    },
    {
      "cell_type": "markdown",
      "source": [
        "First, let's convert the dataset into an SFrame."
      ],
      "metadata": {
        "id": "BuLRuYg8y7Ym"
      }
    },
    {
      "cell_type": "code",
      "source": [
        "movies = tc.SFrame(\"IMDB_Dataset.csv\")\n",
        "movies"
      ],
      "metadata": {
        "id": "majwWTVAyBej",
        "colab": {
          "base_uri": "https://localhost:8080/",
          "height": 666
        },
        "outputId": "82bbb0af-5732-4527-ee95-d12e64db1c53"
      },
      "execution_count": 4,
      "outputs": [
        {
          "output_type": "display_data",
          "data": {
            "text/plain": [
              "Finished parsing file /content/IMDB_Dataset.csv"
            ],
            "text/html": [
              "<pre>Finished parsing file /content/IMDB_Dataset.csv</pre>"
            ]
          },
          "metadata": {}
        },
        {
          "output_type": "display_data",
          "data": {
            "text/plain": [
              "Parsing completed. Parsed 100 lines in 1.20514 secs."
            ],
            "text/html": [
              "<pre>Parsing completed. Parsed 100 lines in 1.20514 secs.</pre>"
            ]
          },
          "metadata": {}
        },
        {
          "output_type": "stream",
          "name": "stdout",
          "text": [
            "------------------------------------------------------\n",
            "Inferred types from first 100 line(s) of file as \n",
            "column_type_hints=[str,str]\n",
            "If parsing fails due to incorrect types, you can correct\n",
            "the inferred type list above and pass it to read_csv in\n",
            "the column_type_hints argument\n",
            "------------------------------------------------------\n"
          ]
        },
        {
          "output_type": "display_data",
          "data": {
            "text/plain": [
              "Read 39624 lines. Lines per second: 36290.8"
            ],
            "text/html": [
              "<pre>Read 39624 lines. Lines per second: 36290.8</pre>"
            ]
          },
          "metadata": {}
        },
        {
          "output_type": "display_data",
          "data": {
            "text/plain": [
              "Finished parsing file /content/IMDB_Dataset.csv"
            ],
            "text/html": [
              "<pre>Finished parsing file /content/IMDB_Dataset.csv</pre>"
            ]
          },
          "metadata": {}
        },
        {
          "output_type": "display_data",
          "data": {
            "text/plain": [
              "Parsing completed. Parsed 50000 lines in 1.17876 secs."
            ],
            "text/html": [
              "<pre>Parsing completed. Parsed 50000 lines in 1.17876 secs.</pre>"
            ]
          },
          "metadata": {}
        },
        {
          "output_type": "execute_result",
          "data": {
            "text/plain": [
              "Columns:\n",
              "\treview\tstr\n",
              "\tsentiment\tstr\n",
              "\n",
              "Rows: 50000\n",
              "\n",
              "Data:\n",
              "+-------------------------------+-----------+\n",
              "|             review            | sentiment |\n",
              "+-------------------------------+-----------+\n",
              "| One of the other reviewers... |  positive |\n",
              "| A wonderful little product... |  positive |\n",
              "| I thought this was a wonde... |  positive |\n",
              "| Basically there's a family... |  negative |\n",
              "| Petter Mattei's \"Love in t... |  positive |\n",
              "| Probably my all-time favor... |  positive |\n",
              "| I sure would like to see a... |  positive |\n",
              "| This show was an amazing, ... |  negative |\n",
              "| Encouraged by the positive... |  negative |\n",
              "| If you like original gut w... |  positive |\n",
              "+-------------------------------+-----------+\n",
              "[50000 rows x 2 columns]\n",
              "Note: Only the head of the SFrame is printed.\n",
              "You can use print_rows(num_rows=m, num_columns=n) to print more rows and columns."
            ],
            "text/html": [
              "<div style=\"max-height:1000px;max-width:1500px;overflow:auto;\"><table frame=\"box\" rules=\"cols\">\n",
              "    <tr>\n",
              "        <th style=\"padding-left: 1em; padding-right: 1em; text-align: center\">review</th>\n",
              "        <th style=\"padding-left: 1em; padding-right: 1em; text-align: center\">sentiment</th>\n",
              "    </tr>\n",
              "    <tr>\n",
              "        <td style=\"padding-left: 1em; padding-right: 1em; text-align: center; vertical-align: top\">One of the other<br>reviewers has mentioned ...</td>\n",
              "        <td style=\"padding-left: 1em; padding-right: 1em; text-align: center; vertical-align: top\">positive</td>\n",
              "    </tr>\n",
              "    <tr>\n",
              "        <td style=\"padding-left: 1em; padding-right: 1em; text-align: center; vertical-align: top\">A wonderful little<br>production. &lt;br /&gt;&lt;br ...</td>\n",
              "        <td style=\"padding-left: 1em; padding-right: 1em; text-align: center; vertical-align: top\">positive</td>\n",
              "    </tr>\n",
              "    <tr>\n",
              "        <td style=\"padding-left: 1em; padding-right: 1em; text-align: center; vertical-align: top\">I thought this was a<br>wonderful way to spend ...</td>\n",
              "        <td style=\"padding-left: 1em; padding-right: 1em; text-align: center; vertical-align: top\">positive</td>\n",
              "    </tr>\n",
              "    <tr>\n",
              "        <td style=\"padding-left: 1em; padding-right: 1em; text-align: center; vertical-align: top\">Basically there&#x27;s a<br>family where a little ...</td>\n",
              "        <td style=\"padding-left: 1em; padding-right: 1em; text-align: center; vertical-align: top\">negative</td>\n",
              "    </tr>\n",
              "    <tr>\n",
              "        <td style=\"padding-left: 1em; padding-right: 1em; text-align: center; vertical-align: top\">Petter Mattei&#x27;s &quot;Love in<br>the Time of Money&quot; is a ...</td>\n",
              "        <td style=\"padding-left: 1em; padding-right: 1em; text-align: center; vertical-align: top\">positive</td>\n",
              "    </tr>\n",
              "    <tr>\n",
              "        <td style=\"padding-left: 1em; padding-right: 1em; text-align: center; vertical-align: top\">Probably my all-time<br>favorite movie, a story ...</td>\n",
              "        <td style=\"padding-left: 1em; padding-right: 1em; text-align: center; vertical-align: top\">positive</td>\n",
              "    </tr>\n",
              "    <tr>\n",
              "        <td style=\"padding-left: 1em; padding-right: 1em; text-align: center; vertical-align: top\">I sure would like to see<br>a resurrection of a up ...</td>\n",
              "        <td style=\"padding-left: 1em; padding-right: 1em; text-align: center; vertical-align: top\">positive</td>\n",
              "    </tr>\n",
              "    <tr>\n",
              "        <td style=\"padding-left: 1em; padding-right: 1em; text-align: center; vertical-align: top\">This show was an amazing,<br>fresh &amp; innovative idea ...</td>\n",
              "        <td style=\"padding-left: 1em; padding-right: 1em; text-align: center; vertical-align: top\">negative</td>\n",
              "    </tr>\n",
              "    <tr>\n",
              "        <td style=\"padding-left: 1em; padding-right: 1em; text-align: center; vertical-align: top\">Encouraged by the<br>positive comments about ...</td>\n",
              "        <td style=\"padding-left: 1em; padding-right: 1em; text-align: center; vertical-align: top\">negative</td>\n",
              "    </tr>\n",
              "    <tr>\n",
              "        <td style=\"padding-left: 1em; padding-right: 1em; text-align: center; vertical-align: top\">If you like original gut<br>wrenching laughter you ...</td>\n",
              "        <td style=\"padding-left: 1em; padding-right: 1em; text-align: center; vertical-align: top\">positive</td>\n",
              "    </tr>\n",
              "</table>\n",
              "[50000 rows x 2 columns]<br/>Note: Only the head of the SFrame is printed.<br/>You can use print_rows(num_rows=m, num_columns=n) to print more rows and columns.\n",
              "</div>"
            ]
          },
          "metadata": {},
          "execution_count": 4
        }
      ]
    },
    {
      "cell_type": "code",
      "source": [
        "# add a new column called words containing this dictionary\n",
        "movies[\"words\"] = tc.text_analytics.count_words(movies[\"review\"])\n",
        "movies"
      ],
      "metadata": {
        "colab": {
          "base_uri": "https://localhost:8080/",
          "height": 458
        },
        "id": "-Vy0jNWypdd5",
        "outputId": "04da12e4-4a8b-4033-e974-6e0d77246b82"
      },
      "execution_count": 5,
      "outputs": [
        {
          "output_type": "execute_result",
          "data": {
            "text/plain": [
              "Columns:\n",
              "\treview\tstr\n",
              "\tsentiment\tstr\n",
              "\twords\tdict\n",
              "\n",
              "Rows: 50000\n",
              "\n",
              "Data:\n",
              "+-------------------------------+-----------+-------------------------------+\n",
              "|             review            | sentiment |             words             |\n",
              "+-------------------------------+-----------+-------------------------------+\n",
              "| One of the other reviewers... |  positive | {'darker': 1.0, 'touch': 1... |\n",
              "| A wonderful little product... |  positive | {'done': 1.0, 'surface': 1... |\n",
              "| I thought this was a wonde... |  positive | {'go': 1.0, 'superman': 1.... |\n",
              "| Basically there's a family... |  negative | {'them': 1.0, 'ignore': 1.... |\n",
              "| Petter Mattei's \"Love in t... |  positive | {'work': 1.0, 'for': 1.0, ... |\n",
              "| Probably my all-time favor... |  positive | {'for': 1.0, 'dozen': 1.0,... |\n",
              "| I sure would like to see a... |  positive | {'do': 1.0, 'go': 1.0, 'mu... |\n",
              "| This show was an amazing, ... |  negative | {'awful': 1.0, 'just': 1.0... |\n",
              "| Encouraged by the positive... |  negative | {'effort': 1.0, 'an': 1.0,... |\n",
              "| If you like original gut w... |  positive | {'camp': 1.0, 'great': 1.0... |\n",
              "+-------------------------------+-----------+-------------------------------+\n",
              "[50000 rows x 3 columns]\n",
              "Note: Only the head of the SFrame is printed.\n",
              "You can use print_rows(num_rows=m, num_columns=n) to print more rows and columns."
            ],
            "text/html": [
              "<div style=\"max-height:1000px;max-width:1500px;overflow:auto;\"><table frame=\"box\" rules=\"cols\">\n",
              "    <tr>\n",
              "        <th style=\"padding-left: 1em; padding-right: 1em; text-align: center\">review</th>\n",
              "        <th style=\"padding-left: 1em; padding-right: 1em; text-align: center\">sentiment</th>\n",
              "        <th style=\"padding-left: 1em; padding-right: 1em; text-align: center\">words</th>\n",
              "    </tr>\n",
              "    <tr>\n",
              "        <td style=\"padding-left: 1em; padding-right: 1em; text-align: center; vertical-align: top\">One of the other<br>reviewers has mentioned ...</td>\n",
              "        <td style=\"padding-left: 1em; padding-right: 1em; text-align: center; vertical-align: top\">positive</td>\n",
              "        <td style=\"padding-left: 1em; padding-right: 1em; text-align: center; vertical-align: top\">{&#x27;darker&#x27;: 1.0, &#x27;touch&#x27;:<br>1.0, &#x27;thats&#x27;: 1.0, ...</td>\n",
              "    </tr>\n",
              "    <tr>\n",
              "        <td style=\"padding-left: 1em; padding-right: 1em; text-align: center; vertical-align: top\">A wonderful little<br>production. &lt;br /&gt;&lt;br ...</td>\n",
              "        <td style=\"padding-left: 1em; padding-right: 1em; text-align: center; vertical-align: top\">positive</td>\n",
              "        <td style=\"padding-left: 1em; padding-right: 1em; text-align: center; vertical-align: top\">{&#x27;done&#x27;: 1.0, &#x27;surface&#x27;:<br>1.0, &#x27;every&#x27;: 1.0, ...</td>\n",
              "    </tr>\n",
              "    <tr>\n",
              "        <td style=\"padding-left: 1em; padding-right: 1em; text-align: center; vertical-align: top\">I thought this was a<br>wonderful way to spend ...</td>\n",
              "        <td style=\"padding-left: 1em; padding-right: 1em; text-align: center; vertical-align: top\">positive</td>\n",
              "        <td style=\"padding-left: 1em; padding-right: 1em; text-align: center; vertical-align: top\">{&#x27;go&#x27;: 1.0, &#x27;superman&#x27;:<br>1.0, &#x27;interesting&#x27;: 1.0, ...</td>\n",
              "    </tr>\n",
              "    <tr>\n",
              "        <td style=\"padding-left: 1em; padding-right: 1em; text-align: center; vertical-align: top\">Basically there&#x27;s a<br>family where a little ...</td>\n",
              "        <td style=\"padding-left: 1em; padding-right: 1em; text-align: center; vertical-align: top\">negative</td>\n",
              "        <td style=\"padding-left: 1em; padding-right: 1em; text-align: center; vertical-align: top\">{&#x27;them&#x27;: 1.0, &#x27;ignore&#x27;:<br>1.0, &#x27;dialogs&#x27;: 1.0, ...</td>\n",
              "    </tr>\n",
              "    <tr>\n",
              "        <td style=\"padding-left: 1em; padding-right: 1em; text-align: center; vertical-align: top\">Petter Mattei&#x27;s &quot;Love in<br>the Time of Money&quot; is a ...</td>\n",
              "        <td style=\"padding-left: 1em; padding-right: 1em; text-align: center; vertical-align: top\">positive</td>\n",
              "        <td style=\"padding-left: 1em; padding-right: 1em; text-align: center; vertical-align: top\">{&#x27;work&#x27;: 1.0, &#x27;for&#x27;: 1.0,<br>&#x27;anxiously&#x27;: 1.0, ...</td>\n",
              "    </tr>\n",
              "    <tr>\n",
              "        <td style=\"padding-left: 1em; padding-right: 1em; text-align: center; vertical-align: top\">Probably my all-time<br>favorite movie, a story ...</td>\n",
              "        <td style=\"padding-left: 1em; padding-right: 1em; text-align: center; vertical-align: top\">positive</td>\n",
              "        <td style=\"padding-left: 1em; padding-right: 1em; text-align: center; vertical-align: top\">{&#x27;for&#x27;: 1.0, &#x27;dozen&#x27;:<br>1.0, &#x27;i&#x27;: 1.0, &#x27;if&#x27;:  ...</td>\n",
              "    </tr>\n",
              "    <tr>\n",
              "        <td style=\"padding-left: 1em; padding-right: 1em; text-align: center; vertical-align: top\">I sure would like to see<br>a resurrection of a up ...</td>\n",
              "        <td style=\"padding-left: 1em; padding-right: 1em; text-align: center; vertical-align: top\">positive</td>\n",
              "        <td style=\"padding-left: 1em; padding-right: 1em; text-align: center; vertical-align: top\">{&#x27;do&#x27;: 1.0, &#x27;go&#x27;: 1.0,<br>&#x27;must&#x27;: 1.0, &#x27;new&#x27;: 1.0, ...</td>\n",
              "    </tr>\n",
              "    <tr>\n",
              "        <td style=\"padding-left: 1em; padding-right: 1em; text-align: center; vertical-align: top\">This show was an amazing,<br>fresh &amp; innovative idea ...</td>\n",
              "        <td style=\"padding-left: 1em; padding-right: 1em; text-align: center; vertical-align: top\">negative</td>\n",
              "        <td style=\"padding-left: 1em; padding-right: 1em; text-align: center; vertical-align: top\">{&#x27;awful&#x27;: 1.0, &#x27;just&#x27;:<br>1.0, &#x27;huge&#x27;: 1.0, &#x27;a&#x27;: ...</td>\n",
              "    </tr>\n",
              "    <tr>\n",
              "        <td style=\"padding-left: 1em; padding-right: 1em; text-align: center; vertical-align: top\">Encouraged by the<br>positive comments about ...</td>\n",
              "        <td style=\"padding-left: 1em; padding-right: 1em; text-align: center; vertical-align: top\">negative</td>\n",
              "        <td style=\"padding-left: 1em; padding-right: 1em; text-align: center; vertical-align: top\">{&#x27;effort&#x27;: 1.0, &#x27;an&#x27;:<br>1.0, &#x27;making&#x27;: 1.0, ...</td>\n",
              "    </tr>\n",
              "    <tr>\n",
              "        <td style=\"padding-left: 1em; padding-right: 1em; text-align: center; vertical-align: top\">If you like original gut<br>wrenching laughter you ...</td>\n",
              "        <td style=\"padding-left: 1em; padding-right: 1em; text-align: center; vertical-align: top\">positive</td>\n",
              "        <td style=\"padding-left: 1em; padding-right: 1em; text-align: center; vertical-align: top\">{&#x27;camp&#x27;: 1.0, &#x27;great&#x27;:<br>1.0, &#x27;br&#x27;: 2.0, &#x27;movie&#x27;: ...</td>\n",
              "    </tr>\n",
              "</table>\n",
              "[50000 rows x 3 columns]<br/>Note: Only the head of the SFrame is printed.<br/>You can use print_rows(num_rows=m, num_columns=n) to print more rows and columns.\n",
              "</div>"
            ]
          },
          "metadata": {},
          "execution_count": 5
        }
      ]
    },
    {
      "cell_type": "markdown",
      "source": [
        "We are ready to train our model!"
      ],
      "metadata": {
        "id": "eO2kYr4frQuR"
      }
    },
    {
      "cell_type": "code",
      "source": [
        "model = tc.logistic_classifier.create(movies, features=[\"words\"], target=\"sentiment\")"
      ],
      "metadata": {
        "id": "wVboOWRYrRoh",
        "colab": {
          "base_uri": "https://localhost:8080/",
          "height": 399
        },
        "outputId": "64bb7a29-0d8b-4566-94a6-bfa78f71c46d"
      },
      "execution_count": 6,
      "outputs": [
        {
          "output_type": "stream",
          "name": "stdout",
          "text": [
            "PROGRESS: Creating a validation set from 5 percent of training data. This may take a while.\n",
            "          You can set ``validation_set=None`` to disable validation tracking.\n",
            "\n"
          ]
        },
        {
          "output_type": "display_data",
          "data": {
            "text/plain": [
              "Logistic regression:"
            ],
            "text/html": [
              "<pre>Logistic regression:</pre>"
            ]
          },
          "metadata": {}
        },
        {
          "output_type": "display_data",
          "data": {
            "text/plain": [
              "--------------------------------------------------------"
            ],
            "text/html": [
              "<pre>--------------------------------------------------------</pre>"
            ]
          },
          "metadata": {}
        },
        {
          "output_type": "display_data",
          "data": {
            "text/plain": [
              "Number of examples          : 47500"
            ],
            "text/html": [
              "<pre>Number of examples          : 47500</pre>"
            ]
          },
          "metadata": {}
        },
        {
          "output_type": "display_data",
          "data": {
            "text/plain": [
              "Number of classes           : 2"
            ],
            "text/html": [
              "<pre>Number of classes           : 2</pre>"
            ]
          },
          "metadata": {}
        },
        {
          "output_type": "display_data",
          "data": {
            "text/plain": [
              "Number of feature columns   : 1"
            ],
            "text/html": [
              "<pre>Number of feature columns   : 1</pre>"
            ]
          },
          "metadata": {}
        },
        {
          "output_type": "display_data",
          "data": {
            "text/plain": [
              "Number of unpacked features : 101630"
            ],
            "text/html": [
              "<pre>Number of unpacked features : 101630</pre>"
            ]
          },
          "metadata": {}
        },
        {
          "output_type": "display_data",
          "data": {
            "text/plain": [
              "Number of coefficients      : 101631"
            ],
            "text/html": [
              "<pre>Number of coefficients      : 101631</pre>"
            ]
          },
          "metadata": {}
        },
        {
          "output_type": "display_data",
          "data": {
            "text/plain": [
              "Starting L-BFGS"
            ],
            "text/html": [
              "<pre>Starting L-BFGS</pre>"
            ]
          },
          "metadata": {}
        },
        {
          "output_type": "display_data",
          "data": {
            "text/plain": [
              "--------------------------------------------------------"
            ],
            "text/html": [
              "<pre>--------------------------------------------------------</pre>"
            ]
          },
          "metadata": {}
        },
        {
          "output_type": "display_data",
          "data": {
            "text/plain": [
              "+-----------+----------+-----------+--------------+-------------------+---------------------+"
            ],
            "text/html": [
              "<pre>+-----------+----------+-----------+--------------+-------------------+---------------------+</pre>"
            ]
          },
          "metadata": {}
        },
        {
          "output_type": "display_data",
          "data": {
            "text/plain": [
              "| Iteration | Passes   | Step size | Elapsed Time | Training Accuracy | Validation Accuracy |"
            ],
            "text/html": [
              "<pre>| Iteration | Passes   | Step size | Elapsed Time | Training Accuracy | Validation Accuracy |</pre>"
            ]
          },
          "metadata": {}
        },
        {
          "output_type": "display_data",
          "data": {
            "text/plain": [
              "+-----------+----------+-----------+--------------+-------------------+---------------------+"
            ],
            "text/html": [
              "<pre>+-----------+----------+-----------+--------------+-------------------+---------------------+</pre>"
            ]
          },
          "metadata": {}
        },
        {
          "output_type": "display_data",
          "data": {
            "text/plain": [
              "| 0         | 2        | 1.000000  | 1.694610     | 0.919432          | 0.848800            |"
            ],
            "text/html": [
              "<pre>| 0         | 2        | 1.000000  | 1.694610     | 0.919432          | 0.848800            |</pre>"
            ]
          },
          "metadata": {}
        },
        {
          "output_type": "display_data",
          "data": {
            "text/plain": [
              "| 1         | 4        | 1.000000  | 2.545669     | 0.966505          | 0.878000            |"
            ],
            "text/html": [
              "<pre>| 1         | 4        | 1.000000  | 2.545669     | 0.966505          | 0.878000            |</pre>"
            ]
          },
          "metadata": {}
        },
        {
          "output_type": "display_data",
          "data": {
            "text/plain": [
              "| 2         | 5        | 1.000000  | 3.044886     | 0.973011          | 0.888000            |"
            ],
            "text/html": [
              "<pre>| 2         | 5        | 1.000000  | 3.044886     | 0.973011          | 0.888000            |</pre>"
            ]
          },
          "metadata": {}
        },
        {
          "output_type": "display_data",
          "data": {
            "text/plain": [
              "| 3         | 7        | 0.809182  | 3.826970     | 0.982379          | 0.898000            |"
            ],
            "text/html": [
              "<pre>| 3         | 7        | 0.809182  | 3.826970     | 0.982379          | 0.898000            |</pre>"
            ]
          },
          "metadata": {}
        },
        {
          "output_type": "display_data",
          "data": {
            "text/plain": [
              "| 4         | 9        | 0.809182  | 4.605492     | 0.987495          | 0.898800            |"
            ],
            "text/html": [
              "<pre>| 4         | 9        | 0.809182  | 4.605492     | 0.987495          | 0.898800            |</pre>"
            ]
          },
          "metadata": {}
        },
        {
          "output_type": "display_data",
          "data": {
            "text/plain": [
              "| 9         | 14       | 1.000000  | 7.072489     | 0.999621          | 0.873600            |"
            ],
            "text/html": [
              "<pre>| 9         | 14       | 1.000000  | 7.072489     | 0.999621          | 0.873600            |</pre>"
            ]
          },
          "metadata": {}
        },
        {
          "output_type": "display_data",
          "data": {
            "text/plain": [
              "+-----------+----------+-----------+--------------+-------------------+---------------------+"
            ],
            "text/html": [
              "<pre>+-----------+----------+-----------+--------------+-------------------+---------------------+</pre>"
            ]
          },
          "metadata": {}
        }
      ]
    },
    {
      "cell_type": "code",
      "source": [
        "model"
      ],
      "metadata": {
        "id": "v_uYU0vUUHkD",
        "colab": {
          "base_uri": "https://localhost:8080/"
        },
        "outputId": "9451d1c1-36be-4773-d002-5bf50b504253"
      },
      "execution_count": 7,
      "outputs": [
        {
          "output_type": "execute_result",
          "data": {
            "text/plain": [
              "Class                          : LogisticClassifier\n",
              "\n",
              "Schema\n",
              "------\n",
              "Number of coefficients         : 101631\n",
              "Number of examples             : 47500\n",
              "Number of classes              : 2\n",
              "Number of feature columns      : 1\n",
              "Number of unpacked features    : 101630\n",
              "\n",
              "Hyperparameters\n",
              "---------------\n",
              "L1 penalty                     : 0.0\n",
              "L2 penalty                     : 0.01\n",
              "\n",
              "Training Summary\n",
              "----------------\n",
              "Solver                         : lbfgs\n",
              "Solver iterations              : 10\n",
              "Solver status                  : Completed (Iteration limit reached).\n",
              "Training time (sec)            : 4.1963\n",
              "\n",
              "Settings\n",
              "--------\n",
              "Log-likelihood                 : 307.5779\n",
              "\n",
              "Highest Positive Coefficients\n",
              "-----------------------------\n",
              "words[retrained]               : 32.3741\n",
              "words[cozzie]                  : 32.3741\n",
              "words[publican]                : 32.3741\n",
              "words[phworr]                  : 32.3741\n",
              "words[workplaces]              : 32.3741\n",
              "\n",
              "Lowest Negative Coefficients\n",
              "----------------------------\n",
              "words[unfortuntately]          : -18.855\n",
              "words[sierre]                  : -18.3999\n",
              "words[toyshop]                 : -18.2815\n",
              "words[newlwed]                 : -18.0421\n",
              "words[lodz]                    : -17.5586"
            ]
          },
          "metadata": {},
          "execution_count": 7
        }
      ]
    },
    {
      "cell_type": "markdown",
      "source": [
        "Now, we can look at the weights of the words, with the coefficients\n",
        "command."
      ],
      "metadata": {
        "id": "ETmEyDgSrg2w"
      }
    },
    {
      "cell_type": "code",
      "source": [
        "weights = model.coefficients\n",
        "weights "
      ],
      "metadata": {
        "id": "GiuHGT1fpesH",
        "colab": {
          "base_uri": "https://localhost:8080/",
          "height": 284
        },
        "outputId": "af7a0ab7-70f3-44a6-ba42-798233bc13ce"
      },
      "execution_count": 8,
      "outputs": [
        {
          "output_type": "execute_result",
          "data": {
            "text/plain": [
              "Columns:\n",
              "\tname\tstr\n",
              "\tindex\tstr\n",
              "\tclass\tstr\n",
              "\tvalue\tfloat\n",
              "\tstderr\tfloat\n",
              "\n",
              "Rows: 101631\n",
              "\n",
              "Data:\n",
              "+-------------+---------+----------+------------------------+--------+\n",
              "|     name    |  index  |  class   |         value          | stderr |\n",
              "+-------------+---------+----------+------------------------+--------+\n",
              "| (intercept) |   None  | positive |  0.07597019273125016   |  None  |\n",
              "|    words    |  darker | positive |   0.6460312144900954   |  None  |\n",
              "|    words    |  touch  | positive |  0.21974352712622153   |  None  |\n",
              "|    words    |  thats  | positive |  -0.5175719504167362   |  None  |\n",
              "|    words    |   your  | positive | -0.0065758127151575255 |  None  |\n",
              "|    words    | viewing | positive |  0.13053257863266177   |  None  |\n",
              "|    words    |  their  | positive |  0.010198030468098989  |  None  |\n",
              "|    words    |   into  | positive | -0.007736536977814069  |  None  |\n",
              "|    words    |  turned | positive |  -0.32014736717708525  |  None  |\n",
              "|    words    |  being  | positive | -0.004258760854841764  |  None  |\n",
              "+-------------+---------+----------+------------------------+--------+\n",
              "[101631 rows x 5 columns]\n",
              "Note: Only the head of the SFrame is printed.\n",
              "You can use print_rows(num_rows=m, num_columns=n) to print more rows and columns."
            ],
            "text/html": [
              "<div style=\"max-height:1000px;max-width:1500px;overflow:auto;\"><table frame=\"box\" rules=\"cols\">\n",
              "    <tr>\n",
              "        <th style=\"padding-left: 1em; padding-right: 1em; text-align: center\">name</th>\n",
              "        <th style=\"padding-left: 1em; padding-right: 1em; text-align: center\">index</th>\n",
              "        <th style=\"padding-left: 1em; padding-right: 1em; text-align: center\">class</th>\n",
              "        <th style=\"padding-left: 1em; padding-right: 1em; text-align: center\">value</th>\n",
              "        <th style=\"padding-left: 1em; padding-right: 1em; text-align: center\">stderr</th>\n",
              "    </tr>\n",
              "    <tr>\n",
              "        <td style=\"padding-left: 1em; padding-right: 1em; text-align: center; vertical-align: top\">(intercept)</td>\n",
              "        <td style=\"padding-left: 1em; padding-right: 1em; text-align: center; vertical-align: top\">None</td>\n",
              "        <td style=\"padding-left: 1em; padding-right: 1em; text-align: center; vertical-align: top\">positive</td>\n",
              "        <td style=\"padding-left: 1em; padding-right: 1em; text-align: center; vertical-align: top\">0.07597019273125016</td>\n",
              "        <td style=\"padding-left: 1em; padding-right: 1em; text-align: center; vertical-align: top\">None</td>\n",
              "    </tr>\n",
              "    <tr>\n",
              "        <td style=\"padding-left: 1em; padding-right: 1em; text-align: center; vertical-align: top\">words</td>\n",
              "        <td style=\"padding-left: 1em; padding-right: 1em; text-align: center; vertical-align: top\">darker</td>\n",
              "        <td style=\"padding-left: 1em; padding-right: 1em; text-align: center; vertical-align: top\">positive</td>\n",
              "        <td style=\"padding-left: 1em; padding-right: 1em; text-align: center; vertical-align: top\">0.6460312144900954</td>\n",
              "        <td style=\"padding-left: 1em; padding-right: 1em; text-align: center; vertical-align: top\">None</td>\n",
              "    </tr>\n",
              "    <tr>\n",
              "        <td style=\"padding-left: 1em; padding-right: 1em; text-align: center; vertical-align: top\">words</td>\n",
              "        <td style=\"padding-left: 1em; padding-right: 1em; text-align: center; vertical-align: top\">touch</td>\n",
              "        <td style=\"padding-left: 1em; padding-right: 1em; text-align: center; vertical-align: top\">positive</td>\n",
              "        <td style=\"padding-left: 1em; padding-right: 1em; text-align: center; vertical-align: top\">0.21974352712622153</td>\n",
              "        <td style=\"padding-left: 1em; padding-right: 1em; text-align: center; vertical-align: top\">None</td>\n",
              "    </tr>\n",
              "    <tr>\n",
              "        <td style=\"padding-left: 1em; padding-right: 1em; text-align: center; vertical-align: top\">words</td>\n",
              "        <td style=\"padding-left: 1em; padding-right: 1em; text-align: center; vertical-align: top\">thats</td>\n",
              "        <td style=\"padding-left: 1em; padding-right: 1em; text-align: center; vertical-align: top\">positive</td>\n",
              "        <td style=\"padding-left: 1em; padding-right: 1em; text-align: center; vertical-align: top\">-0.5175719504167362</td>\n",
              "        <td style=\"padding-left: 1em; padding-right: 1em; text-align: center; vertical-align: top\">None</td>\n",
              "    </tr>\n",
              "    <tr>\n",
              "        <td style=\"padding-left: 1em; padding-right: 1em; text-align: center; vertical-align: top\">words</td>\n",
              "        <td style=\"padding-left: 1em; padding-right: 1em; text-align: center; vertical-align: top\">your</td>\n",
              "        <td style=\"padding-left: 1em; padding-right: 1em; text-align: center; vertical-align: top\">positive</td>\n",
              "        <td style=\"padding-left: 1em; padding-right: 1em; text-align: center; vertical-align: top\">-0.0065758127151575255</td>\n",
              "        <td style=\"padding-left: 1em; padding-right: 1em; text-align: center; vertical-align: top\">None</td>\n",
              "    </tr>\n",
              "    <tr>\n",
              "        <td style=\"padding-left: 1em; padding-right: 1em; text-align: center; vertical-align: top\">words</td>\n",
              "        <td style=\"padding-left: 1em; padding-right: 1em; text-align: center; vertical-align: top\">viewing</td>\n",
              "        <td style=\"padding-left: 1em; padding-right: 1em; text-align: center; vertical-align: top\">positive</td>\n",
              "        <td style=\"padding-left: 1em; padding-right: 1em; text-align: center; vertical-align: top\">0.13053257863266177</td>\n",
              "        <td style=\"padding-left: 1em; padding-right: 1em; text-align: center; vertical-align: top\">None</td>\n",
              "    </tr>\n",
              "    <tr>\n",
              "        <td style=\"padding-left: 1em; padding-right: 1em; text-align: center; vertical-align: top\">words</td>\n",
              "        <td style=\"padding-left: 1em; padding-right: 1em; text-align: center; vertical-align: top\">their</td>\n",
              "        <td style=\"padding-left: 1em; padding-right: 1em; text-align: center; vertical-align: top\">positive</td>\n",
              "        <td style=\"padding-left: 1em; padding-right: 1em; text-align: center; vertical-align: top\">0.010198030468098989</td>\n",
              "        <td style=\"padding-left: 1em; padding-right: 1em; text-align: center; vertical-align: top\">None</td>\n",
              "    </tr>\n",
              "    <tr>\n",
              "        <td style=\"padding-left: 1em; padding-right: 1em; text-align: center; vertical-align: top\">words</td>\n",
              "        <td style=\"padding-left: 1em; padding-right: 1em; text-align: center; vertical-align: top\">into</td>\n",
              "        <td style=\"padding-left: 1em; padding-right: 1em; text-align: center; vertical-align: top\">positive</td>\n",
              "        <td style=\"padding-left: 1em; padding-right: 1em; text-align: center; vertical-align: top\">-0.007736536977814069</td>\n",
              "        <td style=\"padding-left: 1em; padding-right: 1em; text-align: center; vertical-align: top\">None</td>\n",
              "    </tr>\n",
              "    <tr>\n",
              "        <td style=\"padding-left: 1em; padding-right: 1em; text-align: center; vertical-align: top\">words</td>\n",
              "        <td style=\"padding-left: 1em; padding-right: 1em; text-align: center; vertical-align: top\">turned</td>\n",
              "        <td style=\"padding-left: 1em; padding-right: 1em; text-align: center; vertical-align: top\">positive</td>\n",
              "        <td style=\"padding-left: 1em; padding-right: 1em; text-align: center; vertical-align: top\">-0.32014736717708525</td>\n",
              "        <td style=\"padding-left: 1em; padding-right: 1em; text-align: center; vertical-align: top\">None</td>\n",
              "    </tr>\n",
              "    <tr>\n",
              "        <td style=\"padding-left: 1em; padding-right: 1em; text-align: center; vertical-align: top\">words</td>\n",
              "        <td style=\"padding-left: 1em; padding-right: 1em; text-align: center; vertical-align: top\">being</td>\n",
              "        <td style=\"padding-left: 1em; padding-right: 1em; text-align: center; vertical-align: top\">positive</td>\n",
              "        <td style=\"padding-left: 1em; padding-right: 1em; text-align: center; vertical-align: top\">-0.004258760854841764</td>\n",
              "        <td style=\"padding-left: 1em; padding-right: 1em; text-align: center; vertical-align: top\">None</td>\n",
              "    </tr>\n",
              "</table>\n",
              "[101631 rows x 5 columns]<br/>Note: Only the head of the SFrame is printed.<br/>You can use print_rows(num_rows=m, num_columns=n) to print more rows and columns.\n",
              "</div>"
            ]
          },
          "metadata": {},
          "execution_count": 8
        }
      ]
    },
    {
      "cell_type": "code",
      "source": [
        "weights.sort(\"value\")"
      ],
      "metadata": {
        "id": "nAhuJE5iry8X",
        "colab": {
          "base_uri": "https://localhost:8080/",
          "height": 284
        },
        "outputId": "d9ea5a4d-fd63-4911-b774-59adbf04bb85"
      },
      "execution_count": 9,
      "outputs": [
        {
          "output_type": "execute_result",
          "data": {
            "text/plain": [
              "Columns:\n",
              "\tname\tstr\n",
              "\tindex\tstr\n",
              "\tclass\tstr\n",
              "\tvalue\tfloat\n",
              "\tstderr\tfloat\n",
              "\n",
              "Rows: 101631\n",
              "\n",
              "Data:\n",
              "+-------+----------------+----------+---------------------+--------+\n",
              "|  name |     index      |  class   |        value        | stderr |\n",
              "+-------+----------------+----------+---------------------+--------+\n",
              "| words | unfortuntately | positive | -18.854984177100157 |  None  |\n",
              "| words |     sierre     | positive | -18.399875454021643 |  None  |\n",
              "| words |    toyshop     | positive |  -18.28146314562758 |  None  |\n",
              "| words |    newlwed     | positive |  -18.04209639210535 |  None  |\n",
              "| words |      lodz      | positive | -17.558567713153312 |  None  |\n",
              "| words |      bsed      | positive | -16.991589574585284 |  None  |\n",
              "| words | phantasmagoria | positive | -16.520585161600895 |  None  |\n",
              "| words |    taylors     | positive | -16.316050931116973 |  None  |\n",
              "| words |   carribean    | positive | -16.042933780103915 |  None  |\n",
              "| words |    graziano    | positive | -15.981636540382032 |  None  |\n",
              "+-------+----------------+----------+---------------------+--------+\n",
              "[101631 rows x 5 columns]\n",
              "Note: Only the head of the SFrame is printed.\n",
              "You can use print_rows(num_rows=m, num_columns=n) to print more rows and columns."
            ],
            "text/html": [
              "<div style=\"max-height:1000px;max-width:1500px;overflow:auto;\"><table frame=\"box\" rules=\"cols\">\n",
              "    <tr>\n",
              "        <th style=\"padding-left: 1em; padding-right: 1em; text-align: center\">name</th>\n",
              "        <th style=\"padding-left: 1em; padding-right: 1em; text-align: center\">index</th>\n",
              "        <th style=\"padding-left: 1em; padding-right: 1em; text-align: center\">class</th>\n",
              "        <th style=\"padding-left: 1em; padding-right: 1em; text-align: center\">value</th>\n",
              "        <th style=\"padding-left: 1em; padding-right: 1em; text-align: center\">stderr</th>\n",
              "    </tr>\n",
              "    <tr>\n",
              "        <td style=\"padding-left: 1em; padding-right: 1em; text-align: center; vertical-align: top\">words</td>\n",
              "        <td style=\"padding-left: 1em; padding-right: 1em; text-align: center; vertical-align: top\">unfortuntately</td>\n",
              "        <td style=\"padding-left: 1em; padding-right: 1em; text-align: center; vertical-align: top\">positive</td>\n",
              "        <td style=\"padding-left: 1em; padding-right: 1em; text-align: center; vertical-align: top\">-18.854984177100157</td>\n",
              "        <td style=\"padding-left: 1em; padding-right: 1em; text-align: center; vertical-align: top\">None</td>\n",
              "    </tr>\n",
              "    <tr>\n",
              "        <td style=\"padding-left: 1em; padding-right: 1em; text-align: center; vertical-align: top\">words</td>\n",
              "        <td style=\"padding-left: 1em; padding-right: 1em; text-align: center; vertical-align: top\">sierre</td>\n",
              "        <td style=\"padding-left: 1em; padding-right: 1em; text-align: center; vertical-align: top\">positive</td>\n",
              "        <td style=\"padding-left: 1em; padding-right: 1em; text-align: center; vertical-align: top\">-18.399875454021643</td>\n",
              "        <td style=\"padding-left: 1em; padding-right: 1em; text-align: center; vertical-align: top\">None</td>\n",
              "    </tr>\n",
              "    <tr>\n",
              "        <td style=\"padding-left: 1em; padding-right: 1em; text-align: center; vertical-align: top\">words</td>\n",
              "        <td style=\"padding-left: 1em; padding-right: 1em; text-align: center; vertical-align: top\">toyshop</td>\n",
              "        <td style=\"padding-left: 1em; padding-right: 1em; text-align: center; vertical-align: top\">positive</td>\n",
              "        <td style=\"padding-left: 1em; padding-right: 1em; text-align: center; vertical-align: top\">-18.28146314562758</td>\n",
              "        <td style=\"padding-left: 1em; padding-right: 1em; text-align: center; vertical-align: top\">None</td>\n",
              "    </tr>\n",
              "    <tr>\n",
              "        <td style=\"padding-left: 1em; padding-right: 1em; text-align: center; vertical-align: top\">words</td>\n",
              "        <td style=\"padding-left: 1em; padding-right: 1em; text-align: center; vertical-align: top\">newlwed</td>\n",
              "        <td style=\"padding-left: 1em; padding-right: 1em; text-align: center; vertical-align: top\">positive</td>\n",
              "        <td style=\"padding-left: 1em; padding-right: 1em; text-align: center; vertical-align: top\">-18.04209639210535</td>\n",
              "        <td style=\"padding-left: 1em; padding-right: 1em; text-align: center; vertical-align: top\">None</td>\n",
              "    </tr>\n",
              "    <tr>\n",
              "        <td style=\"padding-left: 1em; padding-right: 1em; text-align: center; vertical-align: top\">words</td>\n",
              "        <td style=\"padding-left: 1em; padding-right: 1em; text-align: center; vertical-align: top\">lodz</td>\n",
              "        <td style=\"padding-left: 1em; padding-right: 1em; text-align: center; vertical-align: top\">positive</td>\n",
              "        <td style=\"padding-left: 1em; padding-right: 1em; text-align: center; vertical-align: top\">-17.558567713153312</td>\n",
              "        <td style=\"padding-left: 1em; padding-right: 1em; text-align: center; vertical-align: top\">None</td>\n",
              "    </tr>\n",
              "    <tr>\n",
              "        <td style=\"padding-left: 1em; padding-right: 1em; text-align: center; vertical-align: top\">words</td>\n",
              "        <td style=\"padding-left: 1em; padding-right: 1em; text-align: center; vertical-align: top\">bsed</td>\n",
              "        <td style=\"padding-left: 1em; padding-right: 1em; text-align: center; vertical-align: top\">positive</td>\n",
              "        <td style=\"padding-left: 1em; padding-right: 1em; text-align: center; vertical-align: top\">-16.991589574585284</td>\n",
              "        <td style=\"padding-left: 1em; padding-right: 1em; text-align: center; vertical-align: top\">None</td>\n",
              "    </tr>\n",
              "    <tr>\n",
              "        <td style=\"padding-left: 1em; padding-right: 1em; text-align: center; vertical-align: top\">words</td>\n",
              "        <td style=\"padding-left: 1em; padding-right: 1em; text-align: center; vertical-align: top\">phantasmagoria</td>\n",
              "        <td style=\"padding-left: 1em; padding-right: 1em; text-align: center; vertical-align: top\">positive</td>\n",
              "        <td style=\"padding-left: 1em; padding-right: 1em; text-align: center; vertical-align: top\">-16.520585161600895</td>\n",
              "        <td style=\"padding-left: 1em; padding-right: 1em; text-align: center; vertical-align: top\">None</td>\n",
              "    </tr>\n",
              "    <tr>\n",
              "        <td style=\"padding-left: 1em; padding-right: 1em; text-align: center; vertical-align: top\">words</td>\n",
              "        <td style=\"padding-left: 1em; padding-right: 1em; text-align: center; vertical-align: top\">taylors</td>\n",
              "        <td style=\"padding-left: 1em; padding-right: 1em; text-align: center; vertical-align: top\">positive</td>\n",
              "        <td style=\"padding-left: 1em; padding-right: 1em; text-align: center; vertical-align: top\">-16.316050931116973</td>\n",
              "        <td style=\"padding-left: 1em; padding-right: 1em; text-align: center; vertical-align: top\">None</td>\n",
              "    </tr>\n",
              "    <tr>\n",
              "        <td style=\"padding-left: 1em; padding-right: 1em; text-align: center; vertical-align: top\">words</td>\n",
              "        <td style=\"padding-left: 1em; padding-right: 1em; text-align: center; vertical-align: top\">carribean</td>\n",
              "        <td style=\"padding-left: 1em; padding-right: 1em; text-align: center; vertical-align: top\">positive</td>\n",
              "        <td style=\"padding-left: 1em; padding-right: 1em; text-align: center; vertical-align: top\">-16.042933780103915</td>\n",
              "        <td style=\"padding-left: 1em; padding-right: 1em; text-align: center; vertical-align: top\">None</td>\n",
              "    </tr>\n",
              "    <tr>\n",
              "        <td style=\"padding-left: 1em; padding-right: 1em; text-align: center; vertical-align: top\">words</td>\n",
              "        <td style=\"padding-left: 1em; padding-right: 1em; text-align: center; vertical-align: top\">graziano</td>\n",
              "        <td style=\"padding-left: 1em; padding-right: 1em; text-align: center; vertical-align: top\">positive</td>\n",
              "        <td style=\"padding-left: 1em; padding-right: 1em; text-align: center; vertical-align: top\">-15.981636540382032</td>\n",
              "        <td style=\"padding-left: 1em; padding-right: 1em; text-align: center; vertical-align: top\">None</td>\n",
              "    </tr>\n",
              "</table>\n",
              "[101631 rows x 5 columns]<br/>Note: Only the head of the SFrame is printed.<br/>You can use print_rows(num_rows=m, num_columns=n) to print more rows and columns.\n",
              "</div>"
            ]
          },
          "metadata": {},
          "execution_count": 9
        }
      ]
    },
    {
      "cell_type": "code",
      "source": [
        "weights.sort(\"value\", ascending=False)"
      ],
      "metadata": {
        "id": "-cbeMK2wr_AT",
        "colab": {
          "base_uri": "https://localhost:8080/",
          "height": 284
        },
        "outputId": "eeeab68f-7029-41ff-8dba-ddeb2b8b7278"
      },
      "execution_count": 10,
      "outputs": [
        {
          "output_type": "execute_result",
          "data": {
            "text/plain": [
              "Columns:\n",
              "\tname\tstr\n",
              "\tindex\tstr\n",
              "\tclass\tstr\n",
              "\tvalue\tfloat\n",
              "\tstderr\tfloat\n",
              "\n",
              "Rows: 101631\n",
              "\n",
              "Data:\n",
              "+-------+-------------+----------+--------------------+--------+\n",
              "|  name |    index    |  class   |       value        | stderr |\n",
              "+-------+-------------+----------+--------------------+--------+\n",
              "| words |   publican  | positive | 32.37407896191911  |  None  |\n",
              "| words |    schwa    | positive | 32.37407896191911  |  None  |\n",
              "| words | laddishness | positive | 32.37407896191911  |  None  |\n",
              "| words |   righties  | positive | 32.37407896191911  |  None  |\n",
              "| words |  workplaces | positive | 32.37407896191911  |  None  |\n",
              "| words |  retrained  | positive | 32.37407896191911  |  None  |\n",
              "| words |    cozzie   | positive | 32.37407896191911  |  None  |\n",
              "| words |    phworr   | positive | 32.37407896191911  |  None  |\n",
              "| words | distrusting | positive | 25.936105885911104 |  None  |\n",
              "| words |  widdecombe | positive | 25.936105885911104 |  None  |\n",
              "+-------+-------------+----------+--------------------+--------+\n",
              "[101631 rows x 5 columns]\n",
              "Note: Only the head of the SFrame is printed.\n",
              "You can use print_rows(num_rows=m, num_columns=n) to print more rows and columns."
            ],
            "text/html": [
              "<div style=\"max-height:1000px;max-width:1500px;overflow:auto;\"><table frame=\"box\" rules=\"cols\">\n",
              "    <tr>\n",
              "        <th style=\"padding-left: 1em; padding-right: 1em; text-align: center\">name</th>\n",
              "        <th style=\"padding-left: 1em; padding-right: 1em; text-align: center\">index</th>\n",
              "        <th style=\"padding-left: 1em; padding-right: 1em; text-align: center\">class</th>\n",
              "        <th style=\"padding-left: 1em; padding-right: 1em; text-align: center\">value</th>\n",
              "        <th style=\"padding-left: 1em; padding-right: 1em; text-align: center\">stderr</th>\n",
              "    </tr>\n",
              "    <tr>\n",
              "        <td style=\"padding-left: 1em; padding-right: 1em; text-align: center; vertical-align: top\">words</td>\n",
              "        <td style=\"padding-left: 1em; padding-right: 1em; text-align: center; vertical-align: top\">publican</td>\n",
              "        <td style=\"padding-left: 1em; padding-right: 1em; text-align: center; vertical-align: top\">positive</td>\n",
              "        <td style=\"padding-left: 1em; padding-right: 1em; text-align: center; vertical-align: top\">32.37407896191911</td>\n",
              "        <td style=\"padding-left: 1em; padding-right: 1em; text-align: center; vertical-align: top\">None</td>\n",
              "    </tr>\n",
              "    <tr>\n",
              "        <td style=\"padding-left: 1em; padding-right: 1em; text-align: center; vertical-align: top\">words</td>\n",
              "        <td style=\"padding-left: 1em; padding-right: 1em; text-align: center; vertical-align: top\">schwa</td>\n",
              "        <td style=\"padding-left: 1em; padding-right: 1em; text-align: center; vertical-align: top\">positive</td>\n",
              "        <td style=\"padding-left: 1em; padding-right: 1em; text-align: center; vertical-align: top\">32.37407896191911</td>\n",
              "        <td style=\"padding-left: 1em; padding-right: 1em; text-align: center; vertical-align: top\">None</td>\n",
              "    </tr>\n",
              "    <tr>\n",
              "        <td style=\"padding-left: 1em; padding-right: 1em; text-align: center; vertical-align: top\">words</td>\n",
              "        <td style=\"padding-left: 1em; padding-right: 1em; text-align: center; vertical-align: top\">laddishness</td>\n",
              "        <td style=\"padding-left: 1em; padding-right: 1em; text-align: center; vertical-align: top\">positive</td>\n",
              "        <td style=\"padding-left: 1em; padding-right: 1em; text-align: center; vertical-align: top\">32.37407896191911</td>\n",
              "        <td style=\"padding-left: 1em; padding-right: 1em; text-align: center; vertical-align: top\">None</td>\n",
              "    </tr>\n",
              "    <tr>\n",
              "        <td style=\"padding-left: 1em; padding-right: 1em; text-align: center; vertical-align: top\">words</td>\n",
              "        <td style=\"padding-left: 1em; padding-right: 1em; text-align: center; vertical-align: top\">righties</td>\n",
              "        <td style=\"padding-left: 1em; padding-right: 1em; text-align: center; vertical-align: top\">positive</td>\n",
              "        <td style=\"padding-left: 1em; padding-right: 1em; text-align: center; vertical-align: top\">32.37407896191911</td>\n",
              "        <td style=\"padding-left: 1em; padding-right: 1em; text-align: center; vertical-align: top\">None</td>\n",
              "    </tr>\n",
              "    <tr>\n",
              "        <td style=\"padding-left: 1em; padding-right: 1em; text-align: center; vertical-align: top\">words</td>\n",
              "        <td style=\"padding-left: 1em; padding-right: 1em; text-align: center; vertical-align: top\">workplaces</td>\n",
              "        <td style=\"padding-left: 1em; padding-right: 1em; text-align: center; vertical-align: top\">positive</td>\n",
              "        <td style=\"padding-left: 1em; padding-right: 1em; text-align: center; vertical-align: top\">32.37407896191911</td>\n",
              "        <td style=\"padding-left: 1em; padding-right: 1em; text-align: center; vertical-align: top\">None</td>\n",
              "    </tr>\n",
              "    <tr>\n",
              "        <td style=\"padding-left: 1em; padding-right: 1em; text-align: center; vertical-align: top\">words</td>\n",
              "        <td style=\"padding-left: 1em; padding-right: 1em; text-align: center; vertical-align: top\">retrained</td>\n",
              "        <td style=\"padding-left: 1em; padding-right: 1em; text-align: center; vertical-align: top\">positive</td>\n",
              "        <td style=\"padding-left: 1em; padding-right: 1em; text-align: center; vertical-align: top\">32.37407896191911</td>\n",
              "        <td style=\"padding-left: 1em; padding-right: 1em; text-align: center; vertical-align: top\">None</td>\n",
              "    </tr>\n",
              "    <tr>\n",
              "        <td style=\"padding-left: 1em; padding-right: 1em; text-align: center; vertical-align: top\">words</td>\n",
              "        <td style=\"padding-left: 1em; padding-right: 1em; text-align: center; vertical-align: top\">cozzie</td>\n",
              "        <td style=\"padding-left: 1em; padding-right: 1em; text-align: center; vertical-align: top\">positive</td>\n",
              "        <td style=\"padding-left: 1em; padding-right: 1em; text-align: center; vertical-align: top\">32.37407896191911</td>\n",
              "        <td style=\"padding-left: 1em; padding-right: 1em; text-align: center; vertical-align: top\">None</td>\n",
              "    </tr>\n",
              "    <tr>\n",
              "        <td style=\"padding-left: 1em; padding-right: 1em; text-align: center; vertical-align: top\">words</td>\n",
              "        <td style=\"padding-left: 1em; padding-right: 1em; text-align: center; vertical-align: top\">phworr</td>\n",
              "        <td style=\"padding-left: 1em; padding-right: 1em; text-align: center; vertical-align: top\">positive</td>\n",
              "        <td style=\"padding-left: 1em; padding-right: 1em; text-align: center; vertical-align: top\">32.37407896191911</td>\n",
              "        <td style=\"padding-left: 1em; padding-right: 1em; text-align: center; vertical-align: top\">None</td>\n",
              "    </tr>\n",
              "    <tr>\n",
              "        <td style=\"padding-left: 1em; padding-right: 1em; text-align: center; vertical-align: top\">words</td>\n",
              "        <td style=\"padding-left: 1em; padding-right: 1em; text-align: center; vertical-align: top\">distrusting</td>\n",
              "        <td style=\"padding-left: 1em; padding-right: 1em; text-align: center; vertical-align: top\">positive</td>\n",
              "        <td style=\"padding-left: 1em; padding-right: 1em; text-align: center; vertical-align: top\">25.936105885911104</td>\n",
              "        <td style=\"padding-left: 1em; padding-right: 1em; text-align: center; vertical-align: top\">None</td>\n",
              "    </tr>\n",
              "    <tr>\n",
              "        <td style=\"padding-left: 1em; padding-right: 1em; text-align: center; vertical-align: top\">words</td>\n",
              "        <td style=\"padding-left: 1em; padding-right: 1em; text-align: center; vertical-align: top\">widdecombe</td>\n",
              "        <td style=\"padding-left: 1em; padding-right: 1em; text-align: center; vertical-align: top\">positive</td>\n",
              "        <td style=\"padding-left: 1em; padding-right: 1em; text-align: center; vertical-align: top\">25.936105885911104</td>\n",
              "        <td style=\"padding-left: 1em; padding-right: 1em; text-align: center; vertical-align: top\">None</td>\n",
              "    </tr>\n",
              "</table>\n",
              "[101631 rows x 5 columns]<br/>Note: Only the head of the SFrame is printed.<br/>You can use print_rows(num_rows=m, num_columns=n) to print more rows and columns.\n",
              "</div>"
            ]
          },
          "metadata": {},
          "execution_count": 10
        }
      ]
    },
    {
      "cell_type": "code",
      "source": [
        "# the weight of the word wonderful is positive\n",
        "weights[weights[\"index\"] == \"wonderful\"]"
      ],
      "metadata": {
        "colab": {
          "base_uri": "https://localhost:8080/",
          "height": 110
        },
        "id": "R2bYMcPBrPy8",
        "outputId": "53452a84-6c36-4049-c05d-6e876fd3ce97"
      },
      "execution_count": 11,
      "outputs": [
        {
          "output_type": "execute_result",
          "data": {
            "text/plain": [
              "Columns:\n",
              "\tname\tstr\n",
              "\tindex\tstr\n",
              "\tclass\tstr\n",
              "\tvalue\tfloat\n",
              "\tstderr\tfloat\n",
              "\n",
              "Rows: Unknown\n",
              "\n",
              "Data:\n",
              "+-------+-----------+----------+-------------------+--------+\n",
              "|  name |   index   |  class   |       value       | stderr |\n",
              "+-------+-----------+----------+-------------------+--------+\n",
              "| words | wonderful | positive | 1.141119067538709 |  None  |\n",
              "+-------+-----------+----------+-------------------+--------+\n",
              "[? rows x 5 columns]\n",
              "Note: Only the head of the SFrame is printed. This SFrame is lazily evaluated.\n",
              "You can use sf.materialize() to force materialization."
            ],
            "text/html": [
              "<div style=\"max-height:1000px;max-width:1500px;overflow:auto;\"><table frame=\"box\" rules=\"cols\">\n",
              "    <tr>\n",
              "        <th style=\"padding-left: 1em; padding-right: 1em; text-align: center\">name</th>\n",
              "        <th style=\"padding-left: 1em; padding-right: 1em; text-align: center\">index</th>\n",
              "        <th style=\"padding-left: 1em; padding-right: 1em; text-align: center\">class</th>\n",
              "        <th style=\"padding-left: 1em; padding-right: 1em; text-align: center\">value</th>\n",
              "        <th style=\"padding-left: 1em; padding-right: 1em; text-align: center\">stderr</th>\n",
              "    </tr>\n",
              "    <tr>\n",
              "        <td style=\"padding-left: 1em; padding-right: 1em; text-align: center; vertical-align: top\">words</td>\n",
              "        <td style=\"padding-left: 1em; padding-right: 1em; text-align: center; vertical-align: top\">wonderful</td>\n",
              "        <td style=\"padding-left: 1em; padding-right: 1em; text-align: center; vertical-align: top\">positive</td>\n",
              "        <td style=\"padding-left: 1em; padding-right: 1em; text-align: center; vertical-align: top\">1.141119067538709</td>\n",
              "        <td style=\"padding-left: 1em; padding-right: 1em; text-align: center; vertical-align: top\">None</td>\n",
              "    </tr>\n",
              "</table>\n",
              "[? rows x 5 columns]<br/>Note: Only the head of the SFrame is printed. This SFrame is lazily evaluated.<br/>You can use sf.materialize() to force materialization.\n",
              "</div>"
            ]
          },
          "metadata": {},
          "execution_count": 11
        }
      ]
    },
    {
      "cell_type": "code",
      "source": [
        "# the weight of the word horrible is negative\n",
        "weights[weights[\"index\"] == \"horrible\"]"
      ],
      "metadata": {
        "colab": {
          "base_uri": "https://localhost:8080/",
          "height": 110
        },
        "id": "xn2HvpEqrXH-",
        "outputId": "3ac8c833-c022-4bac-bbcd-347202f2c880"
      },
      "execution_count": 12,
      "outputs": [
        {
          "output_type": "execute_result",
          "data": {
            "text/plain": [
              "Columns:\n",
              "\tname\tstr\n",
              "\tindex\tstr\n",
              "\tclass\tstr\n",
              "\tvalue\tfloat\n",
              "\tstderr\tfloat\n",
              "\n",
              "Rows: Unknown\n",
              "\n",
              "Data:\n",
              "+-------+----------+----------+---------------------+--------+\n",
              "|  name |  index   |  class   |        value        | stderr |\n",
              "+-------+----------+----------+---------------------+--------+\n",
              "| words | horrible | positive | -1.1194574095528114 |  None  |\n",
              "+-------+----------+----------+---------------------+--------+\n",
              "[? rows x 5 columns]\n",
              "Note: Only the head of the SFrame is printed. This SFrame is lazily evaluated.\n",
              "You can use sf.materialize() to force materialization."
            ],
            "text/html": [
              "<div style=\"max-height:1000px;max-width:1500px;overflow:auto;\"><table frame=\"box\" rules=\"cols\">\n",
              "    <tr>\n",
              "        <th style=\"padding-left: 1em; padding-right: 1em; text-align: center\">name</th>\n",
              "        <th style=\"padding-left: 1em; padding-right: 1em; text-align: center\">index</th>\n",
              "        <th style=\"padding-left: 1em; padding-right: 1em; text-align: center\">class</th>\n",
              "        <th style=\"padding-left: 1em; padding-right: 1em; text-align: center\">value</th>\n",
              "        <th style=\"padding-left: 1em; padding-right: 1em; text-align: center\">stderr</th>\n",
              "    </tr>\n",
              "    <tr>\n",
              "        <td style=\"padding-left: 1em; padding-right: 1em; text-align: center; vertical-align: top\">words</td>\n",
              "        <td style=\"padding-left: 1em; padding-right: 1em; text-align: center; vertical-align: top\">horrible</td>\n",
              "        <td style=\"padding-left: 1em; padding-right: 1em; text-align: center; vertical-align: top\">positive</td>\n",
              "        <td style=\"padding-left: 1em; padding-right: 1em; text-align: center; vertical-align: top\">-1.1194574095528114</td>\n",
              "        <td style=\"padding-left: 1em; padding-right: 1em; text-align: center; vertical-align: top\">None</td>\n",
              "    </tr>\n",
              "</table>\n",
              "[? rows x 5 columns]<br/>Note: Only the head of the SFrame is printed. This SFrame is lazily evaluated.<br/>You can use sf.materialize() to force materialization.\n",
              "</div>"
            ]
          },
          "metadata": {},
          "execution_count": 12
        }
      ]
    },
    {
      "cell_type": "code",
      "source": [
        "# the weight of the word the is small\n",
        "weights[weights[\"index\"] == \"the\"]"
      ],
      "metadata": {
        "colab": {
          "base_uri": "https://localhost:8080/",
          "height": 110
        },
        "id": "bhfZsnL9rcpX",
        "outputId": "bfb66084-a512-4d33-8e9c-b5d1c8161f5f"
      },
      "execution_count": 13,
      "outputs": [
        {
          "output_type": "execute_result",
          "data": {
            "text/plain": [
              "Columns:\n",
              "\tname\tstr\n",
              "\tindex\tstr\n",
              "\tclass\tstr\n",
              "\tvalue\tfloat\n",
              "\tstderr\tfloat\n",
              "\n",
              "Rows: Unknown\n",
              "\n",
              "Data:\n",
              "+-------+-------+----------+-----------------------+--------+\n",
              "|  name | index |  class   |         value         | stderr |\n",
              "+-------+-------+----------+-----------------------+--------+\n",
              "| words |  the  | positive | 0.0005643378930812939 |  None  |\n",
              "+-------+-------+----------+-----------------------+--------+\n",
              "[? rows x 5 columns]\n",
              "Note: Only the head of the SFrame is printed. This SFrame is lazily evaluated.\n",
              "You can use sf.materialize() to force materialization."
            ],
            "text/html": [
              "<div style=\"max-height:1000px;max-width:1500px;overflow:auto;\"><table frame=\"box\" rules=\"cols\">\n",
              "    <tr>\n",
              "        <th style=\"padding-left: 1em; padding-right: 1em; text-align: center\">name</th>\n",
              "        <th style=\"padding-left: 1em; padding-right: 1em; text-align: center\">index</th>\n",
              "        <th style=\"padding-left: 1em; padding-right: 1em; text-align: center\">class</th>\n",
              "        <th style=\"padding-left: 1em; padding-right: 1em; text-align: center\">value</th>\n",
              "        <th style=\"padding-left: 1em; padding-right: 1em; text-align: center\">stderr</th>\n",
              "    </tr>\n",
              "    <tr>\n",
              "        <td style=\"padding-left: 1em; padding-right: 1em; text-align: center; vertical-align: top\">words</td>\n",
              "        <td style=\"padding-left: 1em; padding-right: 1em; text-align: center; vertical-align: top\">the</td>\n",
              "        <td style=\"padding-left: 1em; padding-right: 1em; text-align: center; vertical-align: top\">positive</td>\n",
              "        <td style=\"padding-left: 1em; padding-right: 1em; text-align: center; vertical-align: top\">0.0005643378930812939</td>\n",
              "        <td style=\"padding-left: 1em; padding-right: 1em; text-align: center; vertical-align: top\">None</td>\n",
              "    </tr>\n",
              "</table>\n",
              "[? rows x 5 columns]<br/>Note: Only the head of the SFrame is printed. This SFrame is lazily evaluated.<br/>You can use sf.materialize() to force materialization.\n",
              "</div>"
            ]
          },
          "metadata": {},
          "execution_count": 13
        }
      ]
    },
    {
      "cell_type": "markdown",
      "source": [
        "This makes sense: wonderful is a positive word, horrible\n",
        "is a negative word, and the is a neutral word.\n",
        "\n",
        "As a last step, let’s find the most positive and negative reviews."
      ],
      "metadata": {
        "id": "Bvhm57GLsi2K"
      }
    },
    {
      "cell_type": "code",
      "source": [
        "movies[\"prediction\"] = model.predict(movies, output_type=\"probability\")"
      ],
      "metadata": {
        "id": "AGMcJYIqsjTd"
      },
      "execution_count": 14,
      "outputs": []
    },
    {
      "cell_type": "markdown",
      "source": [
        "Let’s find the most positive and most negative movies, according to the model."
      ],
      "metadata": {
        "id": "imghtRmgtEr_"
      }
    },
    {
      "cell_type": "code",
      "source": [
        "movies.sort(\"prediction\", ascending=False)[0]"
      ],
      "metadata": {
        "colab": {
          "base_uri": "https://localhost:8080/"
        },
        "id": "3UCvdjSstFPs",
        "outputId": "3ebef98b-e73c-4210-cd44-9584bc8f63ca"
      },
      "execution_count": 16,
      "outputs": [
        {
          "output_type": "execute_result",
          "data": {
            "text/plain": [
              "{'prediction': 1.0,\n",
              " 'review': 'This movie is stuffed full of stock Horror movie goodies: chained lunatics, pre-meditated murder, a mad (vaguely lesbian) female scientist with an even madder father who wears a mask because of his horrible disfigurement, poisoning, spooky castles, werewolves (male and female), adultery, slain lovers, Tibetan mystics, the half-man/half-plant victim of some unnamed experiment, grave robbing, mind control, walled up bodies, a car crash on a lonely road, electrocution, knights in armour - the lot, all topped off with an incredibly awful score and some of the worst Foley work ever done.<br /><br />The script is incomprehensible (even by badly dubbed Spanish Horror movie standards) and some of the editing is just bizarre. In one scene where the lead female evil scientist goes to visit our heroine in her bedroom for one of the badly dubbed: \"That is fantastical. I do not understand. Explain to me again how this is...\" exposition scenes that litter this movie, there is a sudden hand held cutaway of the girl\\'s thighs as she gets out of bed for no apparent reason at all other than to cover a cut in the bad scientist\\'s \"Mwahaha! All your werewolfs belong mine!\" speech. Though why they went to the bother I don\\'t know because there are plenty of other jarring jump cuts all over the place - even allowing for the atrocious pan and scan of the print I saw.<br /><br />The Director was, according to one interview with the star, drunk for most of the shoot and the film looks like it. It is an incoherent mess. It\\'s made even more incoherent by the inclusion of werewolf rampage footage from a different film The Mark of the Wolf Man (made 4 years earlier, featuring the same actor but playing the part with more aggression and with a different shirt and make up - IS there a word in Spanish for \"Continuity\"?) and more padding of another actor in the wolfman get-up ambling about in long shot.<br /><br />The music is incredibly bad varying almost at random from full orchestral creepy house music, to bosannova, to the longest piano and gong duet ever recorded. (Thinking about it, it might not have been a duet. It might have been a solo. The piano part was so simple it could have been picked out with one hand while the player whacked away at the gong with the other.) <br /><br />This is one of the most bewilderedly trance-state inducing bad movies of the year so far for me. Enjoy.<br /><br />Favourite line: \"Ilona! This madness and perversity will turn against you!\" How true.<br /><br />Favourite shot: The lover, discovering his girlfriend slain, dropping the candle in a cartoon-like demonstration of surprise. Rank amateur directing there.',\n",
              " 'sentiment': 'positive',\n",
              " 'words': {'4': 1.0,\n",
              "  'a': 12.0,\n",
              "  'about': 2.0,\n",
              "  'according': 1.0,\n",
              "  'actor': 2.0,\n",
              "  'adultery': 1.0,\n",
              "  'again': 1.0,\n",
              "  'against': 1.0,\n",
              "  'aggression': 1.0,\n",
              "  'all': 4.0,\n",
              "  'allowing': 1.0,\n",
              "  'almost': 1.0,\n",
              "  'amateur': 1.0,\n",
              "  'ambling': 1.0,\n",
              "  'an': 3.0,\n",
              "  'and': 10.0,\n",
              "  'another': 1.0,\n",
              "  'apparent': 1.0,\n",
              "  'are': 1.0,\n",
              "  'armour': 1.0,\n",
              "  'as': 1.0,\n",
              "  'at': 3.0,\n",
              "  'atrocious': 1.0,\n",
              "  'away': 1.0,\n",
              "  'awful': 1.0,\n",
              "  'bad': 3.0,\n",
              "  'badly': 2.0,\n",
              "  'because': 2.0,\n",
              "  'bed': 1.0,\n",
              "  'bedroom': 1.0,\n",
              "  'been': 3.0,\n",
              "  'belong': 1.0,\n",
              "  'bewilderedly': 1.0,\n",
              "  'bizarre': 1.0,\n",
              "  'bodies': 1.0,\n",
              "  'bosannova': 1.0,\n",
              "  'bother': 1.0,\n",
              "  'br': 12.0,\n",
              "  'but': 1.0,\n",
              "  'by': 2.0,\n",
              "  'candle': 1.0,\n",
              "  'car': 1.0,\n",
              "  'cartoon': 1.0,\n",
              "  'castles': 1.0,\n",
              "  'chained': 1.0,\n",
              "  'continuity': 1.0,\n",
              "  'control': 1.0,\n",
              "  'could': 1.0,\n",
              "  'cover': 1.0,\n",
              "  'crash': 1.0,\n",
              "  'creepy': 1.0,\n",
              "  'cut': 1.0,\n",
              "  'cutaway': 1.0,\n",
              "  'cuts': 1.0,\n",
              "  'demonstration': 1.0,\n",
              "  'different': 2.0,\n",
              "  'directing': 1.0,\n",
              "  'director': 1.0,\n",
              "  'discovering': 1.0,\n",
              "  'disfigurement': 1.0,\n",
              "  'do': 1.0,\n",
              "  'don': 1.0,\n",
              "  'done': 1.0,\n",
              "  'dropping': 1.0,\n",
              "  'drunk': 1.0,\n",
              "  'dubbed': 2.0,\n",
              "  'duet': 2.0,\n",
              "  'earlier': 1.0,\n",
              "  'editing': 1.0,\n",
              "  'electrocution': 1.0,\n",
              "  'enjoy': 1.0,\n",
              "  'even': 4.0,\n",
              "  'ever': 2.0,\n",
              "  'evil': 1.0,\n",
              "  'experiment': 1.0,\n",
              "  'explain': 1.0,\n",
              "  'exposition': 1.0,\n",
              "  'fantastical': 1.0,\n",
              "  'far': 1.0,\n",
              "  'father': 1.0,\n",
              "  'favourite': 2.0,\n",
              "  'featuring': 1.0,\n",
              "  'female': 3.0,\n",
              "  'film': 2.0,\n",
              "  'foley': 1.0,\n",
              "  'footage': 1.0,\n",
              "  'for': 6.0,\n",
              "  'from': 2.0,\n",
              "  'full': 2.0,\n",
              "  'get': 1.0,\n",
              "  'gets': 1.0,\n",
              "  'girl': 1.0,\n",
              "  'girlfriend': 1.0,\n",
              "  'goes': 1.0,\n",
              "  'gong': 2.0,\n",
              "  'goodies': 1.0,\n",
              "  'grave': 1.0,\n",
              "  'half': 2.0,\n",
              "  'hand': 2.0,\n",
              "  'have': 3.0,\n",
              "  'held': 1.0,\n",
              "  'her': 1.0,\n",
              "  'heroine': 1.0,\n",
              "  'his': 2.0,\n",
              "  'horrible': 1.0,\n",
              "  'horror': 2.0,\n",
              "  'house': 1.0,\n",
              "  'how': 2.0,\n",
              "  'i': 3.0,\n",
              "  'ilona': 1.0,\n",
              "  'in': 8.0,\n",
              "  'inclusion': 1.0,\n",
              "  'incoherent': 2.0,\n",
              "  'incomprehensible': 1.0,\n",
              "  'incredibly': 2.0,\n",
              "  'inducing': 1.0,\n",
              "  'interview': 1.0,\n",
              "  'is': 10.0,\n",
              "  'it': 7.0,\n",
              "  'jarring': 1.0,\n",
              "  'jump': 1.0,\n",
              "  'just': 1.0,\n",
              "  'knights': 1.0,\n",
              "  'know': 1.0,\n",
              "  'lead': 1.0,\n",
              "  'lesbian': 1.0,\n",
              "  'like': 2.0,\n",
              "  'line': 1.0,\n",
              "  'litter': 1.0,\n",
              "  'lonely': 1.0,\n",
              "  'long': 1.0,\n",
              "  'longest': 1.0,\n",
              "  'looks': 1.0,\n",
              "  'lot': 1.0,\n",
              "  'lover': 1.0,\n",
              "  'lovers': 1.0,\n",
              "  'lunatics': 1.0,\n",
              "  'mad': 1.0,\n",
              "  'madder': 1.0,\n",
              "  'made': 2.0,\n",
              "  'madness': 1.0,\n",
              "  'make': 1.0,\n",
              "  'male': 1.0,\n",
              "  'man': 2.0,\n",
              "  'mark': 1.0,\n",
              "  'mask': 1.0,\n",
              "  'me': 2.0,\n",
              "  'meditated': 1.0,\n",
              "  'mess': 1.0,\n",
              "  'might': 2.0,\n",
              "  'mind': 1.0,\n",
              "  'mine': 1.0,\n",
              "  'more': 3.0,\n",
              "  'most': 2.0,\n",
              "  'movie': 4.0,\n",
              "  'movies': 1.0,\n",
              "  'murder': 1.0,\n",
              "  'music': 2.0,\n",
              "  'mwahaha': 1.0,\n",
              "  'mystics': 1.0,\n",
              "  'no': 1.0,\n",
              "  'not': 2.0,\n",
              "  'of': 17.0,\n",
              "  'off': 1.0,\n",
              "  'on': 1.0,\n",
              "  'one': 5.0,\n",
              "  'orchestral': 1.0,\n",
              "  'other': 3.0,\n",
              "  'our': 1.0,\n",
              "  'out': 2.0,\n",
              "  'over': 1.0,\n",
              "  'padding': 1.0,\n",
              "  'pan': 1.0,\n",
              "  'part': 2.0,\n",
              "  'perversity': 1.0,\n",
              "  'piano': 2.0,\n",
              "  'picked': 1.0,\n",
              "  'place': 1.0,\n",
              "  'plant': 1.0,\n",
              "  'player': 1.0,\n",
              "  'playing': 1.0,\n",
              "  'plenty': 1.0,\n",
              "  'poisoning': 1.0,\n",
              "  'pre': 1.0,\n",
              "  'print': 1.0,\n",
              "  'rampage': 1.0,\n",
              "  'random': 1.0,\n",
              "  'rank': 1.0,\n",
              "  'reason': 1.0,\n",
              "  'recorded': 1.0,\n",
              "  'road': 1.0,\n",
              "  'robbing': 1.0,\n",
              "  's': 3.0,\n",
              "  'same': 1.0,\n",
              "  'saw': 1.0,\n",
              "  'scan': 1.0,\n",
              "  'scene': 1.0,\n",
              "  'scenes': 1.0,\n",
              "  'scientist': 3.0,\n",
              "  'score': 1.0,\n",
              "  'script': 1.0,\n",
              "  'she': 1.0,\n",
              "  'shirt': 1.0,\n",
              "  'shoot': 1.0,\n",
              "  'shot': 2.0,\n",
              "  'simple': 1.0,\n",
              "  'slain': 2.0,\n",
              "  'so': 2.0,\n",
              "  'solo': 1.0,\n",
              "  'some': 3.0,\n",
              "  'spanish': 2.0,\n",
              "  'speech': 1.0,\n",
              "  'spooky': 1.0,\n",
              "  'standards': 1.0,\n",
              "  'star': 1.0,\n",
              "  'state': 1.0,\n",
              "  'stock': 1.0,\n",
              "  'stuffed': 1.0,\n",
              "  'sudden': 1.0,\n",
              "  'surprise': 1.0,\n",
              "  't': 1.0,\n",
              "  'than': 1.0,\n",
              "  'that': 2.0,\n",
              "  'the': 33.0,\n",
              "  'there': 4.0,\n",
              "  'they': 1.0,\n",
              "  'thighs': 1.0,\n",
              "  'thinking': 1.0,\n",
              "  'this': 5.0,\n",
              "  'though': 1.0,\n",
              "  'tibetan': 1.0,\n",
              "  'to': 7.0,\n",
              "  'topped': 1.0,\n",
              "  'trance': 1.0,\n",
              "  'true': 1.0,\n",
              "  'turn': 1.0,\n",
              "  'understand': 1.0,\n",
              "  'unnamed': 1.0,\n",
              "  'up': 3.0,\n",
              "  'vaguely': 1.0,\n",
              "  'varying': 1.0,\n",
              "  'victim': 1.0,\n",
              "  'visit': 1.0,\n",
              "  'walled': 1.0,\n",
              "  'was': 2.0,\n",
              "  'wears': 1.0,\n",
              "  'went': 1.0,\n",
              "  'werewolf': 1.0,\n",
              "  'werewolfs': 1.0,\n",
              "  'werewolves': 1.0,\n",
              "  'whacked': 1.0,\n",
              "  'where': 1.0,\n",
              "  'while': 1.0,\n",
              "  'who': 1.0,\n",
              "  'why': 1.0,\n",
              "  'will': 1.0,\n",
              "  'with': 7.0,\n",
              "  'wolf': 1.0,\n",
              "  'wolfman': 1.0,\n",
              "  'word': 1.0,\n",
              "  'work': 1.0,\n",
              "  'worst': 1.0,\n",
              "  'year': 1.0,\n",
              "  'years': 1.0,\n",
              "  'you': 1.0,\n",
              "  'your': 1.0}}"
            ]
          },
          "metadata": {},
          "execution_count": 16
        }
      ]
    },
    {
      "cell_type": "code",
      "source": [
        "movies.sort(\"prediction\", ascending=True)[0]"
      ],
      "metadata": {
        "colab": {
          "base_uri": "https://localhost:8080/"
        },
        "id": "iLxsfsZutV23",
        "outputId": "07a0b045-4aa9-4381-9a61-c01b27b19aa7"
      },
      "execution_count": 17,
      "outputs": [
        {
          "output_type": "execute_result",
          "data": {
            "text/plain": [
              "{'prediction': 4.4577661704483655e-102,\n",
              " 'review': \"Even duller, if possible, than the original (I hope I may say that under the IMDb guidelines). THE FRENCH CONNECTION at least tried to absorb European influences, to complicate the conventional view of the American police detective, even if the attempt was foundered by Friedkin's ambivalence, Americaness and general indirection. The (relative) arthouse boom of the 1960s (especially with the nouvelle vague) allowed for a huge influence of European cinema in Hollywood. This lent a new vigour and complexity to a weary medium, and, in the best of them (eg BONNIE AND CLYDE, early Scorcese), a new subversion of received practice. The original CONNECTION was part of this movement, with its difficultly distanced style, and anti-detective figure. TWO is old Hollywood's right-wing reassertion of American values.<br /><br />This is figured in the film's very tiresome America vs France dialectic. For instance, TWO is shot like a 70s French policier. It was the French, of course, who insisted on the greatness of American movies when they were ignored at home, and this, in a sense, is a reclamation, a warning against Gallic presumption. This can be seen in the pattern of the two movies. CONNECTION has French gangsters invading New York, with the French style smothering the American thriller - this leads to the dissolution of the detective figure, and irresolution of plot - the baddie got away. <br /><br />TWO has the American returning to France, with American thriller values imposed on the native genre - the power of the detective is reasserted and conventional resolution is achieved. This is further dramatised in Doyle's relationship with French inspector Barthelmy, whose dominant influence he must shake off before he can control the plot.<br /><br />TWO seems to follow the original by undermining its detective hero. From the start, Doyle's importance is diminished at every turn. Despite the ending of CONNECTION, he is considered a hero. But he is an American in a foreign land, and his inability to control language or customs means he cannot dominate the plot. He even misreads the signs of the police force, mistaking an informer for a criminal, and getting him killed. <br /><br />A detective's power comes from his power as subject to see and interpret, but Doyle spends much of the movie being watched, controlled, an object, a body (literally in the scenes after he is dumped by Charnier) to be viewed and interpreted. In CONNECTION, he instigated the action, chasing the criminals, forcing the plot; here he is passive, tied to a bed, locked in a cell, an addict, a dependent.<br /><br />This loss of phallic power is predictably symbolised in the loss of his gun, and the film follows a depressingly familiar Oedipal trajectory. In the heroin sequences, he is comforted by an old lady who says he looks like her son. His drugged state is like a return to the womb, robbed of adult pressures. Her taking his watch reinforces the timelessness of this state, doubly significant for a man whose career depends on timetables and precision.<br /><br />Oedipus was the first detective, and to avoid his fate, Doyle must reject this false mother who is dissolving his unified identity, and kill the father (Charnier) so that he can take his accepted masculine role in society. Psychoanalytic theory was popular among academics in the 70s(ironically instigated by a Frenchman, Jacques Lacan), but it's rare to see a film so literally full of it. <br /><br />If all of these facts tended towards the minimising of Doyle, then the film's style doesn't. Friedkin distanced us from his hero by refusing empathy or character motivation, focusing on the mechanics of plot. Here, Doyle is a very conventional Hollywood hero. Instead of being lost in murky long shot, he is made knowable and understandable to the viewer with the traditional devices - point-of-view shots, close ups, connecting shots etc.<br /><br />TWO is all about the fall and rise of Popeye Doyle. Plot in this case is subservient to the acting, which is the usual Hackman showiness. The cold turkey scenes, therefore, despite their tediousness, are not disturbing. We are allowed to share rather than coldly observe; this a far less discomforting experience. The scenes are also shot through with a lachrymose manly sentimentality that is very American. <br /><br />So while CONNECTION tried to imitate the complex thrillers of Jean Pierre Melville, TWO does the complete opposite. Melville's LE SAMOURAI featured a gangster who started the film whole, powerful, outside language, and charted his eventual disintegration. TWO starts with a disintegrated character, achieved partly through inability with language, whose dominance begins when he steps outside language - the concluding action sequences are largely wordless. <br /><br />In the film, the locale and language are important as they fixed and undermined the detective, but as he regains his power (figured in the return of his gun, and the cathartic burning of the primal site of vulnerability, the tower block where Charnier held him), the Marseilles setting becomes more irrelevant, and the mythic stand-off, which could take place anywhere, takes over. Compare the endings of the two films: one admits ambiguity and despair, the other absolute certainty.<br /><br />\",\n",
              " 'sentiment': 'negative',\n",
              " 'words': {'1960s': 1.0,\n",
              "  '70s': 2.0,\n",
              "  'a': 26.0,\n",
              "  'about': 1.0,\n",
              "  'absolute': 1.0,\n",
              "  'absorb': 1.0,\n",
              "  'academics': 1.0,\n",
              "  'accepted': 1.0,\n",
              "  'achieved': 2.0,\n",
              "  'acting': 1.0,\n",
              "  'action': 2.0,\n",
              "  'addict': 1.0,\n",
              "  'admits': 1.0,\n",
              "  'adult': 1.0,\n",
              "  'after': 1.0,\n",
              "  'against': 1.0,\n",
              "  'all': 2.0,\n",
              "  'allowed': 2.0,\n",
              "  'also': 1.0,\n",
              "  'ambiguity': 1.0,\n",
              "  'ambivalence': 1.0,\n",
              "  'america': 1.0,\n",
              "  'american': 8.0,\n",
              "  'americaness': 1.0,\n",
              "  'among': 1.0,\n",
              "  'an': 5.0,\n",
              "  'and': 24.0,\n",
              "  'anti': 1.0,\n",
              "  'anywhere': 1.0,\n",
              "  'are': 5.0,\n",
              "  'arthouse': 1.0,\n",
              "  'as': 3.0,\n",
              "  'at': 3.0,\n",
              "  'attempt': 1.0,\n",
              "  'avoid': 1.0,\n",
              "  'away': 1.0,\n",
              "  'baddie': 1.0,\n",
              "  'barthelmy': 1.0,\n",
              "  'be': 2.0,\n",
              "  'becomes': 1.0,\n",
              "  'bed': 1.0,\n",
              "  'before': 1.0,\n",
              "  'begins': 1.0,\n",
              "  'being': 2.0,\n",
              "  'best': 1.0,\n",
              "  'block': 1.0,\n",
              "  'body': 1.0,\n",
              "  'bonnie': 1.0,\n",
              "  'boom': 1.0,\n",
              "  'br': 22.0,\n",
              "  'burning': 1.0,\n",
              "  'but': 4.0,\n",
              "  'by': 6.0,\n",
              "  'can': 3.0,\n",
              "  'cannot': 1.0,\n",
              "  'career': 1.0,\n",
              "  'case': 1.0,\n",
              "  'cathartic': 1.0,\n",
              "  'cell': 1.0,\n",
              "  'certainty': 1.0,\n",
              "  'character': 2.0,\n",
              "  'charnier': 3.0,\n",
              "  'charted': 1.0,\n",
              "  'chasing': 1.0,\n",
              "  'cinema': 1.0,\n",
              "  'close': 1.0,\n",
              "  'clyde': 1.0,\n",
              "  'cold': 1.0,\n",
              "  'coldly': 1.0,\n",
              "  'comes': 1.0,\n",
              "  'comforted': 1.0,\n",
              "  'compare': 1.0,\n",
              "  'complete': 1.0,\n",
              "  'complex': 1.0,\n",
              "  'complexity': 1.0,\n",
              "  'complicate': 1.0,\n",
              "  'concluding': 1.0,\n",
              "  'connecting': 1.0,\n",
              "  'connection': 6.0,\n",
              "  'considered': 1.0,\n",
              "  'control': 2.0,\n",
              "  'controlled': 1.0,\n",
              "  'conventional': 3.0,\n",
              "  'could': 1.0,\n",
              "  'course': 1.0,\n",
              "  'criminal': 1.0,\n",
              "  'criminals': 1.0,\n",
              "  'customs': 1.0,\n",
              "  'dependent': 1.0,\n",
              "  'depends': 1.0,\n",
              "  'depressingly': 1.0,\n",
              "  'despair': 1.0,\n",
              "  'despite': 2.0,\n",
              "  'detective': 8.0,\n",
              "  'devices': 1.0,\n",
              "  'dialectic': 1.0,\n",
              "  'difficultly': 1.0,\n",
              "  'diminished': 1.0,\n",
              "  'discomforting': 1.0,\n",
              "  'disintegrated': 1.0,\n",
              "  'disintegration': 1.0,\n",
              "  'dissolution': 1.0,\n",
              "  'dissolving': 1.0,\n",
              "  'distanced': 2.0,\n",
              "  'disturbing': 1.0,\n",
              "  'does': 1.0,\n",
              "  'doesn': 1.0,\n",
              "  'dominance': 1.0,\n",
              "  'dominant': 1.0,\n",
              "  'dominate': 1.0,\n",
              "  'doubly': 1.0,\n",
              "  'doyle': 7.0,\n",
              "  'dramatised': 1.0,\n",
              "  'drugged': 1.0,\n",
              "  'duller': 1.0,\n",
              "  'dumped': 1.0,\n",
              "  'early': 1.0,\n",
              "  'eg': 1.0,\n",
              "  'empathy': 1.0,\n",
              "  'ending': 1.0,\n",
              "  'endings': 1.0,\n",
              "  'especially': 1.0,\n",
              "  'etc': 1.0,\n",
              "  'european': 2.0,\n",
              "  'even': 3.0,\n",
              "  'eventual': 1.0,\n",
              "  'every': 1.0,\n",
              "  'experience': 1.0,\n",
              "  'facts': 1.0,\n",
              "  'fall': 1.0,\n",
              "  'false': 1.0,\n",
              "  'familiar': 1.0,\n",
              "  'far': 1.0,\n",
              "  'fate': 1.0,\n",
              "  'father': 1.0,\n",
              "  'featured': 1.0,\n",
              "  'figure': 2.0,\n",
              "  'figured': 2.0,\n",
              "  'film': 6.0,\n",
              "  'films': 1.0,\n",
              "  'first': 1.0,\n",
              "  'fixed': 1.0,\n",
              "  'focusing': 1.0,\n",
              "  'follow': 1.0,\n",
              "  'follows': 1.0,\n",
              "  'for': 4.0,\n",
              "  'force': 1.0,\n",
              "  'forcing': 1.0,\n",
              "  'foreign': 1.0,\n",
              "  'foundered': 1.0,\n",
              "  'france': 2.0,\n",
              "  'french': 6.0,\n",
              "  'frenchman': 1.0,\n",
              "  'friedkin': 2.0,\n",
              "  'from': 3.0,\n",
              "  'full': 1.0,\n",
              "  'further': 1.0,\n",
              "  'gallic': 1.0,\n",
              "  'gangster': 1.0,\n",
              "  'gangsters': 1.0,\n",
              "  'general': 1.0,\n",
              "  'genre': 1.0,\n",
              "  'getting': 1.0,\n",
              "  'got': 1.0,\n",
              "  'greatness': 1.0,\n",
              "  'guidelines': 1.0,\n",
              "  'gun': 2.0,\n",
              "  'hackman': 1.0,\n",
              "  'has': 2.0,\n",
              "  'he': 15.0,\n",
              "  'held': 1.0,\n",
              "  'her': 2.0,\n",
              "  'here': 2.0,\n",
              "  'hero': 4.0,\n",
              "  'heroin': 1.0,\n",
              "  'him': 2.0,\n",
              "  'his': 12.0,\n",
              "  'hollywood': 3.0,\n",
              "  'home': 1.0,\n",
              "  'hope': 1.0,\n",
              "  'huge': 1.0,\n",
              "  'i': 2.0,\n",
              "  'identity': 1.0,\n",
              "  'if': 3.0,\n",
              "  'ignored': 1.0,\n",
              "  'imdb': 1.0,\n",
              "  'imitate': 1.0,\n",
              "  'importance': 1.0,\n",
              "  'important': 1.0,\n",
              "  'imposed': 1.0,\n",
              "  'in': 18.0,\n",
              "  'inability': 2.0,\n",
              "  'indirection': 1.0,\n",
              "  'influence': 2.0,\n",
              "  'influences': 1.0,\n",
              "  'informer': 1.0,\n",
              "  'insisted': 1.0,\n",
              "  'inspector': 1.0,\n",
              "  'instance': 1.0,\n",
              "  'instead': 1.0,\n",
              "  'instigated': 2.0,\n",
              "  'interpret': 1.0,\n",
              "  'interpreted': 1.0,\n",
              "  'invading': 1.0,\n",
              "  'ironically': 1.0,\n",
              "  'irrelevant': 1.0,\n",
              "  'irresolution': 1.0,\n",
              "  'is': 22.0,\n",
              "  'it': 3.0,\n",
              "  'its': 2.0,\n",
              "  'jacques': 1.0,\n",
              "  'jean': 1.0,\n",
              "  'kill': 1.0,\n",
              "  'killed': 1.0,\n",
              "  'knowable': 1.0,\n",
              "  'lacan': 1.0,\n",
              "  'lachrymose': 1.0,\n",
              "  'lady': 1.0,\n",
              "  'land': 1.0,\n",
              "  'language': 5.0,\n",
              "  'largely': 1.0,\n",
              "  'le': 1.0,\n",
              "  'leads': 1.0,\n",
              "  'least': 1.0,\n",
              "  'lent': 1.0,\n",
              "  'less': 1.0,\n",
              "  'like': 3.0,\n",
              "  'literally': 2.0,\n",
              "  'locale': 1.0,\n",
              "  'locked': 1.0,\n",
              "  'long': 1.0,\n",
              "  'looks': 1.0,\n",
              "  'loss': 2.0,\n",
              "  'lost': 1.0,\n",
              "  'made': 1.0,\n",
              "  'man': 1.0,\n",
              "  'manly': 1.0,\n",
              "  'marseilles': 1.0,\n",
              "  'masculine': 1.0,\n",
              "  'may': 1.0,\n",
              "  'means': 1.0,\n",
              "  'mechanics': 1.0,\n",
              "  'medium': 1.0,\n",
              "  'melville': 2.0,\n",
              "  'minimising': 1.0,\n",
              "  'misreads': 1.0,\n",
              "  'mistaking': 1.0,\n",
              "  'more': 1.0,\n",
              "  'mother': 1.0,\n",
              "  'motivation': 1.0,\n",
              "  'movement': 1.0,\n",
              "  'movie': 1.0,\n",
              "  'movies': 2.0,\n",
              "  'much': 1.0,\n",
              "  'murky': 1.0,\n",
              "  'must': 2.0,\n",
              "  'mythic': 1.0,\n",
              "  'native': 1.0,\n",
              "  'new': 3.0,\n",
              "  'not': 1.0,\n",
              "  'nouvelle': 1.0,\n",
              "  'object': 1.0,\n",
              "  'observe': 1.0,\n",
              "  'oedipal': 1.0,\n",
              "  'oedipus': 1.0,\n",
              "  'of': 32.0,\n",
              "  'off': 2.0,\n",
              "  'old': 2.0,\n",
              "  'on': 4.0,\n",
              "  'one': 1.0,\n",
              "  'opposite': 1.0,\n",
              "  'or': 2.0,\n",
              "  'original': 3.0,\n",
              "  'other': 1.0,\n",
              "  'outside': 2.0,\n",
              "  'over': 1.0,\n",
              "  'part': 1.0,\n",
              "  'partly': 1.0,\n",
              "  'passive': 1.0,\n",
              "  'pattern': 1.0,\n",
              "  'phallic': 1.0,\n",
              "  'pierre': 1.0,\n",
              "  'place': 1.0,\n",
              "  'plot': 6.0,\n",
              "  'point': 1.0,\n",
              "  'police': 2.0,\n",
              "  'policier': 1.0,\n",
              "  'popeye': 1.0,\n",
              "  'popular': 1.0,\n",
              "  'possible': 1.0,\n",
              "  'power': 5.0,\n",
              "  'powerful': 1.0,\n",
              "  'practice': 1.0,\n",
              "  'precision': 1.0,\n",
              "  'predictably': 1.0,\n",
              "  'pressures': 1.0,\n",
              "  'presumption': 1.0,\n",
              "  'primal': 1.0,\n",
              "  'psychoanalytic': 1.0,\n",
              "  'rare': 1.0,\n",
              "  'rather': 1.0,\n",
              "  'reasserted': 1.0,\n",
              "  'reassertion': 1.0,\n",
              "  'received': 1.0,\n",
              "  'reclamation': 1.0,\n",
              "  'refusing': 1.0,\n",
              "  'regains': 1.0,\n",
              "  'reinforces': 1.0,\n",
              "  'reject': 1.0,\n",
              "  'relationship': 1.0,\n",
              "  'relative': 1.0,\n",
              "  'resolution': 1.0,\n",
              "  'return': 2.0,\n",
              "  'returning': 1.0,\n",
              "  'right': 1.0,\n",
              "  'rise': 1.0,\n",
              "  'robbed': 1.0,\n",
              "  'role': 1.0,\n",
              "  's': 9.0,\n",
              "  'samourai': 1.0,\n",
              "  'say': 1.0,\n",
              "  'says': 1.0,\n",
              "  'scenes': 3.0,\n",
              "  'scorcese': 1.0,\n",
              "  'see': 2.0,\n",
              "  'seems': 1.0,\n",
              "  'seen': 1.0,\n",
              "  'sense': 1.0,\n",
              "  'sentimentality': 1.0,\n",
              "  'sequences': 2.0,\n",
              "  'setting': 1.0,\n",
              "  'shake': 1.0,\n",
              "  'share': 1.0,\n",
              "  'shot': 3.0,\n",
              "  'shots': 2.0,\n",
              "  'showiness': 1.0,\n",
              "  'significant': 1.0,\n",
              "  'signs': 1.0,\n",
              "  'site': 1.0,\n",
              "  'smothering': 1.0,\n",
              "  'so': 3.0,\n",
              "  'society': 1.0,\n",
              "  'son': 1.0,\n",
              "  'spends': 1.0,\n",
              "  'stand': 1.0,\n",
              "  'start': 1.0,\n",
              "  'started': 1.0,\n",
              "  'starts': 1.0,\n",
              "  'state': 2.0,\n",
              "  'steps': 1.0,\n",
              "  'style': 3.0,\n",
              "  'subject': 1.0,\n",
              "  'subservient': 1.0,\n",
              "  'subversion': 1.0,\n",
              "  'symbolised': 1.0,\n",
              "  't': 1.0,\n",
              "  'take': 2.0,\n",
              "  'takes': 1.0,\n",
              "  'taking': 1.0,\n",
              "  'tediousness': 1.0,\n",
              "  'tended': 1.0,\n",
              "  'than': 2.0,\n",
              "  'that': 3.0,\n",
              "  'the': 71.0,\n",
              "  'their': 1.0,\n",
              "  'them': 1.0,\n",
              "  'then': 1.0,\n",
              "  'theory': 1.0,\n",
              "  'therefore': 1.0,\n",
              "  'these': 1.0,\n",
              "  'they': 2.0,\n",
              "  'this': 12.0,\n",
              "  'thriller': 2.0,\n",
              "  'thrillers': 1.0,\n",
              "  'through': 2.0,\n",
              "  'tied': 1.0,\n",
              "  'timelessness': 1.0,\n",
              "  'timetables': 1.0,\n",
              "  'tiresome': 1.0,\n",
              "  'to': 17.0,\n",
              "  'towards': 1.0,\n",
              "  'tower': 1.0,\n",
              "  'traditional': 1.0,\n",
              "  'trajectory': 1.0,\n",
              "  'tried': 2.0,\n",
              "  'turkey': 1.0,\n",
              "  'turn': 1.0,\n",
              "  'two': 9.0,\n",
              "  'under': 1.0,\n",
              "  'undermined': 1.0,\n",
              "  'undermining': 1.0,\n",
              "  'understandable': 1.0,\n",
              "  'unified': 1.0,\n",
              "  'ups': 1.0,\n",
              "  'us': 1.0,\n",
              "  'usual': 1.0,\n",
              "  'vague': 1.0,\n",
              "  'values': 2.0,\n",
              "  'very': 3.0,\n",
              "  'view': 2.0,\n",
              "  'viewed': 1.0,\n",
              "  'viewer': 1.0,\n",
              "  'vigour': 1.0,\n",
              "  'vs': 1.0,\n",
              "  'vulnerability': 1.0,\n",
              "  'warning': 1.0,\n",
              "  'was': 5.0,\n",
              "  'watch': 1.0,\n",
              "  'watched': 1.0,\n",
              "  'we': 1.0,\n",
              "  'weary': 1.0,\n",
              "  'were': 1.0,\n",
              "  'when': 2.0,\n",
              "  'where': 1.0,\n",
              "  'which': 2.0,\n",
              "  'while': 1.0,\n",
              "  'who': 4.0,\n",
              "  'whole': 1.0,\n",
              "  'whose': 3.0,\n",
              "  'wing': 1.0,\n",
              "  'with': 9.0,\n",
              "  'womb': 1.0,\n",
              "  'wordless': 1.0,\n",
              "  'york': 1.0}}"
            ]
          },
          "metadata": {},
          "execution_count": 17
        }
      ]
    }
  ]
}