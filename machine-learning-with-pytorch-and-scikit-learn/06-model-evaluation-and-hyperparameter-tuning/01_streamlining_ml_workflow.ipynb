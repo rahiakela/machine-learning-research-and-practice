{
  "nbformat": 4,
  "nbformat_minor": 0,
  "metadata": {
    "colab": {
      "provenance": [],
      "toc_visible": true,
      "authorship_tag": "ABX9TyNDwAWdL33O5CPTIiO6yB2+",
      "include_colab_link": true
    },
    "kernelspec": {
      "name": "python3",
      "display_name": "Python 3"
    },
    "language_info": {
      "name": "python"
    }
  },
  "cells": [
    {
      "cell_type": "markdown",
      "metadata": {
        "id": "view-in-github",
        "colab_type": "text"
      },
      "source": [
        "<a href=\"https://colab.research.google.com/github/rahiakela/machine-learning-research-and-practice/blob/main/machine-learning-with-pytorch-and-scikit-learn/06-model-evaluation-and-hyperparameter-tuning/01_streamlining_ml_workflow.ipynb\" target=\"_parent\"><img src=\"https://colab.research.google.com/assets/colab-badge.svg\" alt=\"Open In Colab\"/></a>"
      ]
    },
    {
      "cell_type": "markdown",
      "source": [
        "##Streamlining ML workflow"
      ],
      "metadata": {
        "id": "ZMYnrFPtRGZF"
      }
    },
    {
      "cell_type": "markdown",
      "source": [
        "**Reference**\n",
        "\n",
        "[Machine Learning with PyTorch and Scikit-Learn](https://github.com/rasbt/machine-learning-book)"
      ],
      "metadata": {
        "id": "IL8G0tECRHND"
      }
    },
    {
      "cell_type": "markdown",
      "source": [
        "##Setup"
      ],
      "metadata": {
        "id": "ZAOksjY_Rjtc"
      }
    },
    {
      "cell_type": "code",
      "source": [
        "import pandas as pd\n",
        "import numpy as np\n",
        "\n",
        "from sklearn.model_selection import train_test_split\n",
        "from sklearn.linear_model import LogisticRegression\n",
        "from sklearn.preprocessing import StandardScaler\n",
        "\n",
        "from sklearn.decomposition import PCA\n",
        "from sklearn.discriminant_analysis import LinearDiscriminantAnalysis as LDA\n",
        "\n",
        "from sklearn.datasets import load_digits\n",
        "from sklearn.manifold import TSNE\n",
        "\n",
        "import matplotlib.pyplot as plt\n",
        "from matplotlib.colors import ListedColormap\n",
        "import matplotlib.patheffects as PathEffects"
      ],
      "metadata": {
        "id": "r4SXW_3NRlit"
      },
      "execution_count": null,
      "outputs": []
    },
    {
      "cell_type": "code",
      "source": [
        "def plot_decision_regions(X, y, classifier, test_idx=None, resolution=0.02):\n",
        "  # setup marker generator and color map\n",
        "  markers = ('o', 's', '^', 'v', '<')\n",
        "  colors = ('red', 'blue', 'lightgreen', 'gray', 'cyan')\n",
        "  cmap = ListedColormap(colors[:len(np.unique(y))])\n",
        "\n",
        "  # plot the decision surface\n",
        "  x1_min, x1_max = X[:, 0].min() - 1, X[:, 0].max() + 1\n",
        "  x2_min, x2_max = X[:, 1].min() - 1, X[:, 1].max() + 1\n",
        "  xx1, xx2 = np.meshgrid(np.arange(x1_min, x1_max, resolution),\n",
        "                          np.arange(x2_min, x2_max, resolution))\n",
        "  lab = classifier.predict(np.array([xx1.ravel(), xx2.ravel()]).T)\n",
        "  lab = lab.reshape(xx1.shape)\n",
        "  plt.contourf(xx1, xx2, lab, alpha=0.3, cmap=cmap)\n",
        "  plt.xlim(xx1.min(), xx1.max())\n",
        "  plt.ylim(xx2.min(), xx2.max())\n",
        "\n",
        "  # plot class examples\n",
        "  for idx, cl in enumerate(np.unique(y)):\n",
        "    plt.scatter(x=X[y == cl, 0], \n",
        "                y=X[y == cl, 1],\n",
        "                alpha=0.8, \n",
        "                c=colors[idx],\n",
        "                marker=markers[idx], \n",
        "                label=f'Class {cl}', \n",
        "                edgecolor='black')"
      ],
      "metadata": {
        "id": "FkvkbOVyDbwM"
      },
      "execution_count": null,
      "outputs": []
    },
    {
      "cell_type": "markdown",
      "source": [
        "##Unsupervised dimensionality reduction"
      ],
      "metadata": {
        "id": "d9H_Vj_VSJaJ"
      }
    },
    {
      "cell_type": "markdown",
      "source": [
        "### Extracting the principal components"
      ],
      "metadata": {
        "id": "E6y0WvfTSUIO"
      }
    },
    {
      "cell_type": "code",
      "source": [
        "df_wine = pd.read_csv(\"https://archive.ics.uci.edu/ml/machine-learning-databases/wine/wine.data\", header=None)"
      ],
      "metadata": {
        "id": "oer5RdwGSW1M"
      },
      "execution_count": null,
      "outputs": []
    },
    {
      "cell_type": "code",
      "source": [
        "df_wine.columns = [\n",
        "    'Class label', 'Alcohol', 'Malic acid', 'Ash',\n",
        "    'Alcalinity of ash', 'Magnesium', 'Total phenols',\n",
        "    'Flavanoids', 'Nonflavanoid phenols', 'Proanthocyanins',\n",
        "    'Color intensity', 'Hue',\n",
        "    'OD280/OD315 of diluted wines', 'Proline'\n",
        "]\n",
        "df_wine.head()"
      ],
      "metadata": {
        "colab": {
          "base_uri": "https://localhost:8080/",
          "height": 305
        },
        "id": "VsCHY3p3SnZL",
        "outputId": "2a708231-32b3-495d-d738-cbb3fdbed19c"
      },
      "execution_count": null,
      "outputs": [
        {
          "output_type": "execute_result",
          "data": {
            "text/plain": [
              "   Class label  Alcohol  Malic acid   Ash  Alcalinity of ash  Magnesium  \\\n",
              "0            1    14.23        1.71  2.43               15.6        127   \n",
              "1            1    13.20        1.78  2.14               11.2        100   \n",
              "2            1    13.16        2.36  2.67               18.6        101   \n",
              "3            1    14.37        1.95  2.50               16.8        113   \n",
              "4            1    13.24        2.59  2.87               21.0        118   \n",
              "\n",
              "   Total phenols  Flavanoids  Nonflavanoid phenols  Proanthocyanins  \\\n",
              "0           2.80        3.06                  0.28             2.29   \n",
              "1           2.65        2.76                  0.26             1.28   \n",
              "2           2.80        3.24                  0.30             2.81   \n",
              "3           3.85        3.49                  0.24             2.18   \n",
              "4           2.80        2.69                  0.39             1.82   \n",
              "\n",
              "   Color intensity   Hue  OD280/OD315 of diluted wines  Proline  \n",
              "0             5.64  1.04                          3.92     1065  \n",
              "1             4.38  1.05                          3.40     1050  \n",
              "2             5.68  1.03                          3.17     1185  \n",
              "3             7.80  0.86                          3.45     1480  \n",
              "4             4.32  1.04                          2.93      735  "
            ],
            "text/html": [
              "\n",
              "  <div id=\"df-e4e09ad5-3f7a-4516-a6cc-6b65a0405fe9\">\n",
              "    <div class=\"colab-df-container\">\n",
              "      <div>\n",
              "<style scoped>\n",
              "    .dataframe tbody tr th:only-of-type {\n",
              "        vertical-align: middle;\n",
              "    }\n",
              "\n",
              "    .dataframe tbody tr th {\n",
              "        vertical-align: top;\n",
              "    }\n",
              "\n",
              "    .dataframe thead th {\n",
              "        text-align: right;\n",
              "    }\n",
              "</style>\n",
              "<table border=\"1\" class=\"dataframe\">\n",
              "  <thead>\n",
              "    <tr style=\"text-align: right;\">\n",
              "      <th></th>\n",
              "      <th>Class label</th>\n",
              "      <th>Alcohol</th>\n",
              "      <th>Malic acid</th>\n",
              "      <th>Ash</th>\n",
              "      <th>Alcalinity of ash</th>\n",
              "      <th>Magnesium</th>\n",
              "      <th>Total phenols</th>\n",
              "      <th>Flavanoids</th>\n",
              "      <th>Nonflavanoid phenols</th>\n",
              "      <th>Proanthocyanins</th>\n",
              "      <th>Color intensity</th>\n",
              "      <th>Hue</th>\n",
              "      <th>OD280/OD315 of diluted wines</th>\n",
              "      <th>Proline</th>\n",
              "    </tr>\n",
              "  </thead>\n",
              "  <tbody>\n",
              "    <tr>\n",
              "      <th>0</th>\n",
              "      <td>1</td>\n",
              "      <td>14.23</td>\n",
              "      <td>1.71</td>\n",
              "      <td>2.43</td>\n",
              "      <td>15.6</td>\n",
              "      <td>127</td>\n",
              "      <td>2.80</td>\n",
              "      <td>3.06</td>\n",
              "      <td>0.28</td>\n",
              "      <td>2.29</td>\n",
              "      <td>5.64</td>\n",
              "      <td>1.04</td>\n",
              "      <td>3.92</td>\n",
              "      <td>1065</td>\n",
              "    </tr>\n",
              "    <tr>\n",
              "      <th>1</th>\n",
              "      <td>1</td>\n",
              "      <td>13.20</td>\n",
              "      <td>1.78</td>\n",
              "      <td>2.14</td>\n",
              "      <td>11.2</td>\n",
              "      <td>100</td>\n",
              "      <td>2.65</td>\n",
              "      <td>2.76</td>\n",
              "      <td>0.26</td>\n",
              "      <td>1.28</td>\n",
              "      <td>4.38</td>\n",
              "      <td>1.05</td>\n",
              "      <td>3.40</td>\n",
              "      <td>1050</td>\n",
              "    </tr>\n",
              "    <tr>\n",
              "      <th>2</th>\n",
              "      <td>1</td>\n",
              "      <td>13.16</td>\n",
              "      <td>2.36</td>\n",
              "      <td>2.67</td>\n",
              "      <td>18.6</td>\n",
              "      <td>101</td>\n",
              "      <td>2.80</td>\n",
              "      <td>3.24</td>\n",
              "      <td>0.30</td>\n",
              "      <td>2.81</td>\n",
              "      <td>5.68</td>\n",
              "      <td>1.03</td>\n",
              "      <td>3.17</td>\n",
              "      <td>1185</td>\n",
              "    </tr>\n",
              "    <tr>\n",
              "      <th>3</th>\n",
              "      <td>1</td>\n",
              "      <td>14.37</td>\n",
              "      <td>1.95</td>\n",
              "      <td>2.50</td>\n",
              "      <td>16.8</td>\n",
              "      <td>113</td>\n",
              "      <td>3.85</td>\n",
              "      <td>3.49</td>\n",
              "      <td>0.24</td>\n",
              "      <td>2.18</td>\n",
              "      <td>7.80</td>\n",
              "      <td>0.86</td>\n",
              "      <td>3.45</td>\n",
              "      <td>1480</td>\n",
              "    </tr>\n",
              "    <tr>\n",
              "      <th>4</th>\n",
              "      <td>1</td>\n",
              "      <td>13.24</td>\n",
              "      <td>2.59</td>\n",
              "      <td>2.87</td>\n",
              "      <td>21.0</td>\n",
              "      <td>118</td>\n",
              "      <td>2.80</td>\n",
              "      <td>2.69</td>\n",
              "      <td>0.39</td>\n",
              "      <td>1.82</td>\n",
              "      <td>4.32</td>\n",
              "      <td>1.04</td>\n",
              "      <td>2.93</td>\n",
              "      <td>735</td>\n",
              "    </tr>\n",
              "  </tbody>\n",
              "</table>\n",
              "</div>\n",
              "      <button class=\"colab-df-convert\" onclick=\"convertToInteractive('df-e4e09ad5-3f7a-4516-a6cc-6b65a0405fe9')\"\n",
              "              title=\"Convert this dataframe to an interactive table.\"\n",
              "              style=\"display:none;\">\n",
              "        \n",
              "  <svg xmlns=\"http://www.w3.org/2000/svg\" height=\"24px\"viewBox=\"0 0 24 24\"\n",
              "       width=\"24px\">\n",
              "    <path d=\"M0 0h24v24H0V0z\" fill=\"none\"/>\n",
              "    <path d=\"M18.56 5.44l.94 2.06.94-2.06 2.06-.94-2.06-.94-.94-2.06-.94 2.06-2.06.94zm-11 1L8.5 8.5l.94-2.06 2.06-.94-2.06-.94L8.5 2.5l-.94 2.06-2.06.94zm10 10l.94 2.06.94-2.06 2.06-.94-2.06-.94-.94-2.06-.94 2.06-2.06.94z\"/><path d=\"M17.41 7.96l-1.37-1.37c-.4-.4-.92-.59-1.43-.59-.52 0-1.04.2-1.43.59L10.3 9.45l-7.72 7.72c-.78.78-.78 2.05 0 2.83L4 21.41c.39.39.9.59 1.41.59.51 0 1.02-.2 1.41-.59l7.78-7.78 2.81-2.81c.8-.78.8-2.07 0-2.86zM5.41 20L4 18.59l7.72-7.72 1.47 1.35L5.41 20z\"/>\n",
              "  </svg>\n",
              "      </button>\n",
              "      \n",
              "  <style>\n",
              "    .colab-df-container {\n",
              "      display:flex;\n",
              "      flex-wrap:wrap;\n",
              "      gap: 12px;\n",
              "    }\n",
              "\n",
              "    .colab-df-convert {\n",
              "      background-color: #E8F0FE;\n",
              "      border: none;\n",
              "      border-radius: 50%;\n",
              "      cursor: pointer;\n",
              "      display: none;\n",
              "      fill: #1967D2;\n",
              "      height: 32px;\n",
              "      padding: 0 0 0 0;\n",
              "      width: 32px;\n",
              "    }\n",
              "\n",
              "    .colab-df-convert:hover {\n",
              "      background-color: #E2EBFA;\n",
              "      box-shadow: 0px 1px 2px rgba(60, 64, 67, 0.3), 0px 1px 3px 1px rgba(60, 64, 67, 0.15);\n",
              "      fill: #174EA6;\n",
              "    }\n",
              "\n",
              "    [theme=dark] .colab-df-convert {\n",
              "      background-color: #3B4455;\n",
              "      fill: #D2E3FC;\n",
              "    }\n",
              "\n",
              "    [theme=dark] .colab-df-convert:hover {\n",
              "      background-color: #434B5C;\n",
              "      box-shadow: 0px 1px 3px 1px rgba(0, 0, 0, 0.15);\n",
              "      filter: drop-shadow(0px 1px 2px rgba(0, 0, 0, 0.3));\n",
              "      fill: #FFFFFF;\n",
              "    }\n",
              "  </style>\n",
              "\n",
              "      <script>\n",
              "        const buttonEl =\n",
              "          document.querySelector('#df-e4e09ad5-3f7a-4516-a6cc-6b65a0405fe9 button.colab-df-convert');\n",
              "        buttonEl.style.display =\n",
              "          google.colab.kernel.accessAllowed ? 'block' : 'none';\n",
              "\n",
              "        async function convertToInteractive(key) {\n",
              "          const element = document.querySelector('#df-e4e09ad5-3f7a-4516-a6cc-6b65a0405fe9');\n",
              "          const dataTable =\n",
              "            await google.colab.kernel.invokeFunction('convertToInteractive',\n",
              "                                                     [key], {});\n",
              "          if (!dataTable) return;\n",
              "\n",
              "          const docLinkHtml = 'Like what you see? Visit the ' +\n",
              "            '<a target=\"_blank\" href=https://colab.research.google.com/notebooks/data_table.ipynb>data table notebook</a>'\n",
              "            + ' to learn more about interactive tables.';\n",
              "          element.innerHTML = '';\n",
              "          dataTable['output_type'] = 'display_data';\n",
              "          await google.colab.output.renderOutput(dataTable, element);\n",
              "          const docLink = document.createElement('div');\n",
              "          docLink.innerHTML = docLinkHtml;\n",
              "          element.appendChild(docLink);\n",
              "        }\n",
              "      </script>\n",
              "    </div>\n",
              "  </div>\n",
              "  "
            ]
          },
          "metadata": {},
          "execution_count": 4
        }
      ]
    },
    {
      "cell_type": "code",
      "source": [
        "# Splitting the data into 70% training and 30% test subsets.\n",
        "X, y = df_wine.iloc[:, 1:].values, df_wine.iloc[:, 0].values\n",
        "\n",
        "x_train, x_test, y_train, y_test = train_test_split(X, y, test_size=0.3, stratify=y, random_state=0)\n",
        "\n",
        "# standardize the features\n",
        "sc = StandardScaler()\n",
        "x_train_std = sc.fit_transform(x_train)\n",
        "x_test_std = sc.transform(x_test)"
      ],
      "metadata": {
        "id": "8yyo_9cUTIdl"
      },
      "execution_count": null,
      "outputs": []
    },
    {
      "cell_type": "code",
      "source": [
        "# Let's compute the covariance matrix\n",
        "cov_matrix = np.cov(x_train_std.T)\n",
        "# performe the eigendecomposition\n",
        "eigen_vals, eigen_vecs = np.linalg.eig(cov_matrix)\n",
        "print(f\"Eigenvalues \\n{eigen_vals}\")"
      ],
      "metadata": {
        "id": "4Jveb6YpZi-4",
        "outputId": "623cd378-5616-4782-b506-786202385957",
        "colab": {
          "base_uri": "https://localhost:8080/"
        }
      },
      "execution_count": null,
      "outputs": [
        {
          "output_type": "stream",
          "name": "stdout",
          "text": [
            "Eigenvalues \n",
            "[4.84274532 2.41602459 1.54845825 0.96120438 0.84166161 0.6620634\n",
            " 0.51828472 0.34650377 0.3131368  0.10754642 0.21357215 0.15362835\n",
            " 0.1808613 ]\n"
          ]
        }
      ]
    },
    {
      "cell_type": "markdown",
      "source": [
        "###Total and explained variance"
      ],
      "metadata": {
        "id": "Yg7cabY8gqFV"
      }
    },
    {
      "cell_type": "code",
      "source": [
        "# let's calculate the cumulative sum of explained variances\n",
        "total = sum(eigen_vals)\n",
        "\n",
        "var_exp = [(i / total) for i in sorted(eigen_vals, reverse=True)]\n",
        "cum_var_exp = np.cumsum(var_exp)"
      ],
      "metadata": {
        "id": "UR-feACCgtah"
      },
      "execution_count": null,
      "outputs": []
    },
    {
      "cell_type": "code",
      "source": [
        "plt.bar(range(1, 14), var_exp, align=\"center\", label=\"Individual explained variance\")\n",
        "plt.step(range(1, 14), cum_var_exp, where=\"mid\", label=\"Cumulative explained variance\")\n",
        "plt.ylabel(\"Explained variance ratio\")\n",
        "plt.xlabel(\"Principal component index\")\n",
        "plt.legend(loc=\"best\")\n",
        "plt.tight_layout()\n",
        "plt.show()"
      ],
      "metadata": {
        "id": "YuZco2VRiGCp",
        "outputId": "0a38561a-71c1-43fc-84f5-a07d83746f3f",
        "colab": {
          "base_uri": "https://localhost:8080/",
          "height": 297
        }
      },
      "execution_count": null,
      "outputs": [
        {
          "output_type": "display_data",
          "data": {
            "text/plain": [
              "<Figure size 432x288 with 1 Axes>"
            ],
            "image/png": "[encoded data removed]"
          },
          "metadata": {
            "needs_background": "light"
          }
        }
      ]
    },
    {
      "cell_type": "markdown",
      "source": [
        "###Feature transformation"
      ],
      "metadata": {
        "id": "vIvUQcZxjKzI"
      }
    },
    {
      "cell_type": "code",
      "source": [
        "# Make a list of (eigenvalue, eigenvector) tuples\n",
        "eigen_pairs = [(np.abs(eigen_vals[i]), eigen_vecs[:, i]) for i in range(len(eigen_vals))]\n",
        "# Sort the (eigenvalue, eigenvector) tuples from high to low\n",
        "eigen_pairs.sort(key=lambda k: k[0], reverse=True)"
      ],
      "metadata": {
        "id": "TRw4avvgjLgV"
      },
      "execution_count": null,
      "outputs": []
    },
    {
      "cell_type": "code",
      "source": [
        "w = np.hstack((eigen_pairs[0][1][:, np.newaxis], eigen_pairs[1][1][:, np.newaxis]))\n",
        "print(f\"Matrix W: \\n {w}\")"
      ],
      "metadata": {
        "id": "Ym-_jTlQsxS7",
        "outputId": "439ec3e4-ac14-441b-c7d6-b32dae5dfc0f",
        "colab": {
          "base_uri": "https://localhost:8080/"
        }
      },
      "execution_count": null,
      "outputs": [
        {
          "output_type": "stream",
          "name": "stdout",
          "text": [
            "Matrix W: \n",
            " [[-0.13724218  0.50303478]\n",
            " [ 0.24724326  0.16487119]\n",
            " [-0.02545159  0.24456476]\n",
            " [ 0.20694508 -0.11352904]\n",
            " [-0.15436582  0.28974518]\n",
            " [-0.39376952  0.05080104]\n",
            " [-0.41735106 -0.02287338]\n",
            " [ 0.30572896  0.09048885]\n",
            " [-0.30668347  0.00835233]\n",
            " [ 0.07554066  0.54977581]\n",
            " [-0.32613263 -0.20716433]\n",
            " [-0.36861022 -0.24902536]\n",
            " [-0.29669651  0.38022942]]\n"
          ]
        }
      ]
    },
    {
      "cell_type": "code",
      "source": [
        "x_train_std[0].dot(w)"
      ],
      "metadata": {
        "id": "0XBEHOpcthhZ",
        "outputId": "8e7dbfa2-687d-490f-9c4c-cd341494e50c",
        "colab": {
          "base_uri": "https://localhost:8080/"
        }
      },
      "execution_count": null,
      "outputs": [
        {
          "output_type": "execute_result",
          "data": {
            "text/plain": [
              "array([2.38299011, 0.45458499])"
            ]
          },
          "metadata": {},
          "execution_count": 11
        }
      ]
    },
    {
      "cell_type": "code",
      "source": [
        "x_train_pca = x_train_std.dot(w)"
      ],
      "metadata": {
        "id": "ryBsP1iEtp2j"
      },
      "execution_count": null,
      "outputs": []
    },
    {
      "cell_type": "code",
      "source": [
        "# let’s visualize the transformed Wine training dataset\n",
        "colors = ['r', 'b', 'g']\n",
        "markers = ['o', 's', '^']\n",
        "\n",
        "for l, c, m in zip(np.unique(y_train), colors, markers):\n",
        "  plt.scatter(x_train_pca[y_train==l, 0], x_train_pca[y_train == l, 1], c=c, label=f\"Class {l}\", marker=m)\n",
        "plt.xlabel('PC 1')\n",
        "plt.ylabel('PC 2')\n",
        "plt.legend(loc='lower left')\n",
        "plt.tight_layout()\n",
        "plt.show()"
      ],
      "metadata": {
        "id": "OmMg1qu6tyGQ",
        "outputId": "c10be856-6fcc-4011-c124-77f23973d966",
        "colab": {
          "base_uri": "https://localhost:8080/",
          "height": 297
        }
      },
      "execution_count": null,
      "outputs": [
        {
          "output_type": "display_data",
          "data": {
            "text/plain": [
              "<Figure size 432x288 with 1 Axes>"
            ],
            "image/png": "[encoded data removed]"
          },
          "metadata": {
            "needs_background": "light"
          }
        }
      ]
    },
    {
      "cell_type": "markdown",
      "source": [
        "###Principal component analysis"
      ],
      "metadata": {
        "id": "tVvejyq3uzo9"
      }
    },
    {
      "cell_type": "code",
      "source": [
        "# initializing the PCA transformer\n",
        "pca = PCA()\n",
        "\n",
        "# dimensionality reduction\n",
        "x_train_pca = pca.fit_transform(x_train_std)\n",
        "pca.explained_variance_ratio_"
      ],
      "metadata": {
        "id": "JDOQIvbeJd7l",
        "outputId": "0023a428-b437-4a38-fa2b-8657d5b67bfe",
        "colab": {
          "base_uri": "https://localhost:8080/"
        }
      },
      "execution_count": null,
      "outputs": [
        {
          "output_type": "execute_result",
          "data": {
            "text/plain": [
              "array([0.36951469, 0.18434927, 0.11815159, 0.07334252, 0.06422108,\n",
              "       0.05051724, 0.03954654, 0.02643918, 0.02389319, 0.01629614,\n",
              "       0.01380021, 0.01172226, 0.00820609])"
            ]
          },
          "metadata": {},
          "execution_count": 14
        }
      ]
    },
    {
      "cell_type": "code",
      "source": [
        "plt.bar(range(1, 14), pca.explained_variance_ratio_, align=\"center\")\n",
        "plt.step(range(1, 14), np.cumsum(pca.explained_variance_ratio_), where=\"mid\")\n",
        "plt.ylabel(\"Explained variance ratio\")\n",
        "plt.xlabel(\"Principal components\")\n",
        "plt.show()"
      ],
      "metadata": {
        "id": "kG1KwEFkJ5Ky",
        "outputId": "aabf9f44-f2ec-4b62-f5df-07b326a61dc7",
        "colab": {
          "base_uri": "https://localhost:8080/",
          "height": 279
        }
      },
      "execution_count": null,
      "outputs": [
        {
          "output_type": "display_data",
          "data": {
            "text/plain": [
              "<Figure size 432x288 with 1 Axes>"
            ],
            "image/png": "[encoded data removed]"
          },
          "metadata": {
            "needs_background": "light"
          }
        }
      ]
    },
    {
      "cell_type": "code",
      "source": [
        "# initializing the PCA transformer \n",
        "pca = PCA(n_components=2)\n",
        "\n",
        "# dimensionality reduction\n",
        "x_train_pca = pca.fit_transform(x_train_std)\n",
        "x_test_pca = pca.transform(x_test_std)\n",
        "\n",
        "plt.scatter(x_train_pca[:, 0], x_train_pca[:, 1])\n",
        "plt.xlabel(\"PC 1\")\n",
        "plt.ylabel(\"PC 1\")\n",
        "plt.show()"
      ],
      "metadata": {
        "id": "0dvh8IKpKgLK",
        "outputId": "a7be55bd-e435-4da2-8bf3-cd4955544d4b",
        "colab": {
          "base_uri": "https://localhost:8080/",
          "height": 279
        }
      },
      "execution_count": null,
      "outputs": [
        {
          "output_type": "display_data",
          "data": {
            "text/plain": [
              "<Figure size 432x288 with 1 Axes>"
            ],
            "image/png": "[encoded data removed]"
          },
          "metadata": {
            "needs_background": "light"
          }
        }
      ]
    },
    {
      "cell_type": "code",
      "source": [
        "# initializing the PCA transformer and logistic regression estimator\n",
        "pca = PCA(n_components=2)\n",
        "lr = LogisticRegression(multi_class=\"ovr\", solver=\"lbfgs\", random_state=1)\n",
        "\n",
        "# dimensionality reduction\n",
        "x_train_pca = pca.fit_transform(x_train_std)\n",
        "x_test_pca = pca.transform(x_test_std)\n",
        "\n",
        "# fitting the logistic regression model on the reduced dataset\n",
        "lr.fit(x_train_pca, y_train)\n",
        "plot_decision_regions(x_train_pca, y_train, classifier=lr)\n",
        "plt.xlabel(\"PC 1\")\n",
        "plt.ylabel(\"PC 1\")\n",
        "plt.legend(loc=\"lower left\")\n",
        "plt.tight_layout()\n",
        "plt.show()"
      ],
      "metadata": {
        "id": "KikC4Xmru0cm",
        "outputId": "32399523-76a0-4a21-a9c6-3015be036456",
        "colab": {
          "base_uri": "https://localhost:8080/",
          "height": 297
        }
      },
      "execution_count": null,
      "outputs": [
        {
          "output_type": "display_data",
          "data": {
            "text/plain": [
              "<Figure size 432x288 with 1 Axes>"
            ],
            "image/png": "[encoded data removed]"
          },
          "metadata": {
            "needs_background": "light"
          }
        }
      ]
    },
    {
      "cell_type": "code",
      "source": [
        "# let’s plot the decision regions of the logistic regression on the transformed test dataset\n",
        "plot_decision_regions(x_test_pca, y_test, classifier=lr)\n",
        "plt.xlabel(\"PC 1\")\n",
        "plt.ylabel(\"PC 1\")\n",
        "plt.legend(loc=\"lower left\")\n",
        "plt.tight_layout()\n",
        "plt.show()"
      ],
      "metadata": {
        "id": "3B321WA1IOts",
        "outputId": "6e506c32-1443-40af-d1a5-d2f3fdca3912",
        "colab": {
          "base_uri": "https://localhost:8080/",
          "height": 297
        }
      },
      "execution_count": null,
      "outputs": [
        {
          "output_type": "display_data",
          "data": {
            "text/plain": [
              "<Figure size 432x288 with 1 Axes>"
            ],
            "image/png": "[encoded data removed]"
          },
          "metadata": {
            "needs_background": "light"
          }
        }
      ]
    },
    {
      "cell_type": "code",
      "source": [
        "# let's keep all principal components by initializing the PCA class with the n_components parameter set to None \n",
        "pca = PCA(n_components=None)\n",
        "\n",
        "x_train_pca = pca.fit_transform(x_train_std)\n",
        "pca.explained_variance_ratio_"
      ],
      "metadata": {
        "id": "WW6DZ5R_NZ_T",
        "outputId": "6940b34c-5b1f-4210-dc75-6f4d9f133b3d",
        "colab": {
          "base_uri": "https://localhost:8080/"
        }
      },
      "execution_count": null,
      "outputs": [
        {
          "output_type": "execute_result",
          "data": {
            "text/plain": [
              "array([0.36951469, 0.18434927, 0.11815159, 0.07334252, 0.06422108,\n",
              "       0.05051724, 0.03954654, 0.02643918, 0.02389319, 0.01629614,\n",
              "       0.01380021, 0.01172226, 0.00820609])"
            ]
          },
          "metadata": {},
          "execution_count": 19
        }
      ]
    },
    {
      "cell_type": "markdown",
      "source": [
        "###Assessing feature contributions"
      ],
      "metadata": {
        "id": "b6Ms79Y1OLBI"
      }
    },
    {
      "cell_type": "code",
      "source": [
        "# compute the 13×13-dimensional loadings matrix by multiplying the eigenvectors by the square root of the eigenvalues\n",
        "loadings = eigen_vecs * np.sqrt(eigen_vals)"
      ],
      "metadata": {
        "id": "VuWOLTHqOLpC"
      },
      "execution_count": null,
      "outputs": []
    },
    {
      "cell_type": "code",
      "source": [
        "# let us plot the loadings for the first principal component\n",
        "fig, ax = plt.subplots()\n",
        "\n",
        "ax.bar(range(13), loadings[:, 0], align=\"center\")\n",
        "ax.set_ylabel(\"Loadings for PC 1\")\n",
        "ax.set_xticks(range(13))\n",
        "ax.set_xticklabels(df_wine.columns[1:], rotation=90)\n",
        "\n",
        "plt.ylim([-1, 1])\n",
        "plt.tight_layout()\n",
        "plt.show()"
      ],
      "metadata": {
        "id": "tCIOawvFO01r",
        "outputId": "2fce5045-93dd-459a-a067-c88f5a66da92",
        "colab": {
          "base_uri": "https://localhost:8080/",
          "height": 297
        }
      },
      "execution_count": null,
      "outputs": [
        {
          "output_type": "display_data",
          "data": {
            "text/plain": [
              "<Figure size 432x288 with 1 Axes>"
            ],
            "image/png": "[encoded data removed]"
          },
          "metadata": {
            "needs_background": "light"
          }
        }
      ]
    },
    {
      "cell_type": "markdown",
      "source": [
        "Note that a value of 1 describes a perfect positive correlation whereas a value of –1 corresponds to a\n",
        "perfect negative correlation."
      ],
      "metadata": {
        "id": "mYk6Hdo4Pzqn"
      }
    },
    {
      "cell_type": "code",
      "source": [
        "loadings[:, 0]"
      ],
      "metadata": {
        "id": "2prHDvQXP7pU",
        "outputId": "f54cf2c0-3551-4d2c-ae78-fe13b93ed06e",
        "colab": {
          "base_uri": "https://localhost:8080/"
        }
      },
      "execution_count": null,
      "outputs": [
        {
          "output_type": "execute_result",
          "data": {
            "text/plain": [
              "array([-0.3020184 ,  0.54408942, -0.05600938,  0.45540829, -0.33970111,\n",
              "       -0.8665386 , -0.9184327 ,  0.67279444, -0.67489496,  0.16623657,\n",
              "       -0.71769524, -0.81117245, -0.65291742])"
            ]
          },
          "metadata": {},
          "execution_count": 22
        }
      ]
    },
    {
      "cell_type": "code",
      "source": [
        "# let's compute the factor loadings for our own PCA implementation\n",
        "sklearn_loadings = pca.components_.T * np.sqrt(pca.explained_variance_)\n",
        "\n",
        "# let us plot the loadings for the first principal component\n",
        "fig, ax = plt.subplots()\n",
        "\n",
        "ax.bar(range(13), sklearn_loadings[:, 0], align=\"center\")\n",
        "ax.set_ylabel(\"Loadings for PC 1\")\n",
        "ax.set_xticks(range(13))\n",
        "ax.set_xticklabels(df_wine.columns[1:], rotation=90)\n",
        "\n",
        "plt.ylim([-1, 1])\n",
        "plt.tight_layout()\n",
        "plt.show()"
      ],
      "metadata": {
        "id": "gCTJQ0FFQP3G",
        "outputId": "1c351e12-00ba-4e98-849e-27ca26509e05",
        "colab": {
          "base_uri": "https://localhost:8080/",
          "height": 297
        }
      },
      "execution_count": null,
      "outputs": [
        {
          "output_type": "display_data",
          "data": {
            "text/plain": [
              "<Figure size 432x288 with 1 Axes>"
            ],
            "image/png": "[encoded data removed]"
          },
          "metadata": {
            "needs_background": "light"
          }
        }
      ]
    },
    {
      "cell_type": "code",
      "source": [
        "sklearn_loadings[:, 0]"
      ],
      "metadata": {
        "id": "pCNbM7pzQlHt",
        "outputId": "197cee8b-b17c-4d82-ead2-f305b4785b4f",
        "colab": {
          "base_uri": "https://localhost:8080/"
        }
      },
      "execution_count": null,
      "outputs": [
        {
          "output_type": "execute_result",
          "data": {
            "text/plain": [
              "array([-0.3020184 ,  0.54408942, -0.05600938,  0.45540829, -0.33970111,\n",
              "       -0.8665386 , -0.9184327 ,  0.67279444, -0.67489496,  0.16623657,\n",
              "       -0.71769524, -0.81117245, -0.65291742])"
            ]
          },
          "metadata": {},
          "execution_count": 24
        }
      ]
    },
    {
      "cell_type": "markdown",
      "source": [
        "##Supervised data compression"
      ],
      "metadata": {
        "id": "Bt--5vHWSCRZ"
      }
    },
    {
      "cell_type": "markdown",
      "source": [
        "###Computing the scatter matrices"
      ],
      "metadata": {
        "id": "GV31iEm1EA8h"
      }
    },
    {
      "cell_type": "code",
      "source": [
        "# Calculate the mean vectors for each class\n",
        "np.set_printoptions(precision=4)\n",
        "\n",
        "mean_vecs = []\n",
        "for label in range(1, 4):\n",
        "  mean_vecs.append(np.mean(x_train_std[y_train == label], axis=0))\n",
        "  print(f\"MV {label}: {mean_vecs[label - 1]}\\n\")"
      ],
      "metadata": {
        "id": "WNobzyEJEB5q",
        "outputId": "a07ddf6b-9d4a-4b44-b869-6da948f70b71",
        "colab": {
          "base_uri": "https://localhost:8080/"
        }
      },
      "execution_count": null,
      "outputs": [
        {
          "output_type": "stream",
          "name": "stdout",
          "text": [
            "MV 1: [ 0.9066 -0.3497  0.3201 -0.7189  0.5056  0.8807  0.9589 -0.5516  0.5416\n",
            "  0.2338  0.5897  0.6563  1.2075]\n",
            "\n",
            "MV 2: [-0.8749 -0.2848 -0.3735  0.3157 -0.3848 -0.0433  0.0635 -0.0946  0.0703\n",
            " -0.8286  0.3144  0.3608 -0.7253]\n",
            "\n",
            "MV 3: [ 0.1992  0.866   0.1682  0.4148 -0.0451 -1.0286 -1.2876  0.8287 -0.7795\n",
            "  0.9649 -1.209  -1.3622 -0.4013]\n",
            "\n"
          ]
        }
      ]
    },
    {
      "cell_type": "code",
      "source": [
        "# Compute the within-class scatter matrix\n",
        "d = 13  # number of features\n",
        "S_W = np.zeros((d, d))\n",
        "\n",
        "for label, mv in zip(range(1, 4), mean_vecs):\n",
        "  class_scatter = np.zeros((d, d))  # scatter matrix for each class\n",
        "  for row in x_train_std[y_train == label]:\n",
        "    row, mv = row.reshape(d, 1), mv.reshape(d, 1)  # make column vectors\n",
        "    class_scatter += (row - mv).dot((row - mv).T)\n",
        "  S_W += class_scatter  # sum class scatter matrices\n",
        "\n",
        "print(f\"Within-class scatter matrix: {S_W.shape[0]}x{S_W.shape[1]}\")"
      ],
      "metadata": {
        "id": "0gm0XH6kEvg4",
        "outputId": "bd3154ef-a11b-40a6-b2e4-1c60d048cb64",
        "colab": {
          "base_uri": "https://localhost:8080/"
        }
      },
      "execution_count": null,
      "outputs": [
        {
          "output_type": "stream",
          "name": "stdout",
          "text": [
            "Within-class scatter matrix: 13x13\n"
          ]
        }
      ]
    },
    {
      "cell_type": "code",
      "source": [
        "# Better: covariance matrix since classes are not equally distributed\n",
        "print(f\"Class label distribution: {np.bincount(y_train)[1:]}\")"
      ],
      "metadata": {
        "id": "bMxhpFM2HDmd",
        "outputId": "414957e4-b547-418b-ca22-6818fbf49460",
        "colab": {
          "base_uri": "https://localhost:8080/"
        }
      },
      "execution_count": null,
      "outputs": [
        {
          "output_type": "stream",
          "name": "stdout",
          "text": [
            "Class label distribution: [41 50 33]\n"
          ]
        }
      ]
    },
    {
      "cell_type": "code",
      "source": [
        "d = 13  # number of features\n",
        "S_W = np.zeros((d, d))\n",
        "\n",
        "for label, mv in zip(range(1, 4), mean_vecs):\n",
        "  class_scatter = np.cov(x_train_std[y_train == label].T) \n",
        "  S_W += class_scatter  # sum class scatter matrices\n",
        "\n",
        "print(f\"Within-class scatter matrix: {S_W.shape[0]}x{S_W.shape[1]}\")"
      ],
      "metadata": {
        "id": "s2zpGN7dHf6Q",
        "outputId": "958c4e5f-13c7-4f9e-ecfc-b6496bd46df4",
        "colab": {
          "base_uri": "https://localhost:8080/"
        }
      },
      "execution_count": null,
      "outputs": [
        {
          "output_type": "stream",
          "name": "stdout",
          "text": [
            "Within-class scatter matrix: 13x13\n"
          ]
        }
      ]
    },
    {
      "cell_type": "code",
      "source": [
        "# Compute the between-class scatter matrix\n",
        "mean_overall = np.mean(x_train_std, axis=0)\n",
        "mean_overall = mean_overall.reshape(d, 1)   # make column vector\n",
        "\n",
        "d = 13  # number of features\n",
        "S_B = np.zeros((d, d))\n",
        "\n",
        "for i, mean_vec in enumerate(mean_vecs):\n",
        "  n = x_train_std[y_train == i + 1, :].shape[0]\n",
        "  mean_vec = mean_vec.reshape(d, 1)  # make column vectors\n",
        "  S_B += n * (mean_vec - mean_overall).dot((mean_vec - mean_overall).T)\n",
        "\n",
        "print(f\"Between-class scatter matrix:: {S_B.shape[0]}x{S_B.shape[1]}\")"
      ],
      "metadata": {
        "id": "3k1e28BeH35a",
        "outputId": "f3827c57-687f-40e5-a6bc-809f8a8c2773",
        "colab": {
          "base_uri": "https://localhost:8080/"
        }
      },
      "execution_count": null,
      "outputs": [
        {
          "output_type": "stream",
          "name": "stdout",
          "text": [
            "Between-class scatter matrix:: 13x13\n"
          ]
        }
      ]
    },
    {
      "cell_type": "markdown",
      "source": [
        "###Selecting linear discriminants for the new feature subspace"
      ],
      "metadata": {
        "id": "U2Ge7RP7JRYf"
      }
    },
    {
      "cell_type": "code",
      "source": [],
      "metadata": {
        "id": "FTaOTl7vJSCj"
      },
      "execution_count": null,
      "outputs": []
    }
  ]
}