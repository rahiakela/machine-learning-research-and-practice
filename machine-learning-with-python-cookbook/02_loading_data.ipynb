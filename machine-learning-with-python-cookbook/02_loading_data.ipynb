{
  "nbformat": 4,
  "nbformat_minor": 0,
  "metadata": {
    "colab": {
      "provenance": [],
      "toc_visible": true,
      "authorship_tag": "ABX9TyOXrLcvz+jAFuRC0iTK7r83",
      "include_colab_link": true
    },
    "kernelspec": {
      "name": "python3",
      "display_name": "Python 3"
    },
    "language_info": {
      "name": "python"
    }
  },
  "cells": [
    {
      "cell_type": "markdown",
      "metadata": {
        "id": "view-in-github",
        "colab_type": "text"
      },
      "source": [
        "<a href=\"https://colab.research.google.com/github/rahiakela/machine-learning-research-and-practice/blob/main/machine-learning-with-python-cookbook/02_loading_data.ipynb\" target=\"_parent\"><img src=\"https://colab.research.google.com/assets/colab-badge.svg\" alt=\"Open In Colab\"/></a>"
      ]
    },
    {
      "cell_type": "markdown",
      "source": [
        "##Setup"
      ],
      "metadata": {
        "id": "vGVCckZtjN7U"
      }
    },
    {
      "cell_type": "code",
      "source": [
        "from sklearn import datasets\n",
        "from sklearn.datasets import make_regression\n",
        "from sklearn.datasets import make_blobs\n",
        "from sklearn.datasets import make_classification\n",
        "\n",
        "import matplotlib.pyplot as plt"
      ],
      "metadata": {
        "id": "hElYEZQMjO3W"
      },
      "execution_count": 9,
      "outputs": []
    },
    {
      "cell_type": "markdown",
      "source": [
        "##Sample Dataset"
      ],
      "metadata": {
        "id": "bz0yWrkzjj83"
      }
    },
    {
      "cell_type": "code",
      "source": [
        "# Load digits dataset\n",
        "digits = datasets.load_digits()\n",
        "\n",
        "# Create features matrix\n",
        "features = digits.data\n",
        "\n",
        "# Create target vector\n",
        "target = digits.target\n",
        "\n",
        "# View first observation\n",
        "features[0]"
      ],
      "metadata": {
        "id": "0tP2JHdDjnEV",
        "outputId": "c5e7c69f-ee3a-44ea-a488-219759cf7ff0",
        "colab": {
          "base_uri": "https://localhost:8080/"
        }
      },
      "execution_count": null,
      "outputs": [
        {
          "output_type": "execute_result",
          "data": {
            "text/plain": [
              "array([ 0.,  0.,  5., 13.,  9.,  1.,  0.,  0.,  0.,  0., 13., 15., 10.,\n",
              "       15.,  5.,  0.,  0.,  3., 15.,  2.,  0., 11.,  8.,  0.,  0.,  4.,\n",
              "       12.,  0.,  0.,  8.,  8.,  0.,  0.,  5.,  8.,  0.,  0.,  9.,  8.,\n",
              "        0.,  0.,  4., 11.,  0.,  1., 12.,  7.,  0.,  0.,  2., 14.,  5.,\n",
              "       10., 12.,  0.,  0.,  0.,  0.,  6., 13., 10.,  0.,  0.,  0.])"
            ]
          },
          "metadata": {},
          "execution_count": 2
        }
      ]
    },
    {
      "cell_type": "code",
      "source": [
        "# Print the attribute\n",
        "print(digits.DESCR)"
      ],
      "metadata": {
        "id": "UIs5PezmkBi-",
        "outputId": "67a5aea2-b55f-45da-a277-a07d627d8332",
        "colab": {
          "base_uri": "https://localhost:8080/"
        }
      },
      "execution_count": null,
      "outputs": [
        {
          "output_type": "stream",
          "name": "stdout",
          "text": [
            ".. _digits_dataset:\n",
            "\n",
            "Optical recognition of handwritten digits dataset\n",
            "--------------------------------------------------\n",
            "\n",
            "**Data Set Characteristics:**\n",
            "\n",
            "    :Number of Instances: 1797\n",
            "    :Number of Attributes: 64\n",
            "    :Attribute Information: 8x8 image of integer pixels in the range 0..16.\n",
            "    :Missing Attribute Values: None\n",
            "    :Creator: E. Alpaydin (alpaydin '@' boun.edu.tr)\n",
            "    :Date: July; 1998\n",
            "\n",
            "This is a copy of the test set of the UCI ML hand-written digits datasets\n",
            "https://archive.ics.uci.edu/ml/datasets/Optical+Recognition+of+Handwritten+Digits\n",
            "\n",
            "The data set contains images of hand-written digits: 10 classes where\n",
            "each class refers to a digit.\n",
            "\n",
            "Preprocessing programs made available by NIST were used to extract\n",
            "normalized bitmaps of handwritten digits from a preprinted form. From a\n",
            "total of 43 people, 30 contributed to the training set and different 13\n",
            "to the test set. 32x32 bitmaps are divided into nonoverlapping blocks of\n",
            "4x4 and the number of on pixels are counted in each block. This generates\n",
            "an input matrix of 8x8 where each element is an integer in the range\n",
            "0..16. This reduces dimensionality and gives invariance to small\n",
            "distortions.\n",
            "\n",
            "For info on NIST preprocessing routines, see M. D. Garris, J. L. Blue, G.\n",
            "T. Candela, D. L. Dimmick, J. Geist, P. J. Grother, S. A. Janet, and C.\n",
            "L. Wilson, NIST Form-Based Handprint Recognition System, NISTIR 5469,\n",
            "1994.\n",
            "\n",
            ".. topic:: References\n",
            "\n",
            "  - C. Kaynak (1995) Methods of Combining Multiple Classifiers and Their\n",
            "    Applications to Handwritten Digit Recognition, MSc Thesis, Institute of\n",
            "    Graduate Studies in Science and Engineering, Bogazici University.\n",
            "  - E. Alpaydin, C. Kaynak (1998) Cascading Classifiers, Kybernetika.\n",
            "  - Ken Tang and Ponnuthurai N. Suganthan and Xi Yao and A. Kai Qin.\n",
            "    Linear dimensionalityreduction using relevance weighted LDA. School of\n",
            "    Electrical and Electronic Engineering Nanyang Technological University.\n",
            "    2005.\n",
            "  - Claudio Gentile. A New Approximate Maximal Margin Classification\n",
            "    Algorithm. NIPS. 2000.\n",
            "\n"
          ]
        }
      ]
    },
    {
      "cell_type": "markdown",
      "source": [
        "##Simulated Dataset"
      ],
      "metadata": {
        "id": "_VA7fR_7kOH0"
      }
    },
    {
      "cell_type": "code",
      "source": [
        "# Generate features matrix, target vector, and the true coefficients for linear regression\n",
        "features, target, coefficients = make_regression(n_samples=100,\n",
        "                                                 n_features=3,\n",
        "                                                 n_informative=3,\n",
        "                                                 n_targets=1,\n",
        "                                                 noise=0.0,\n",
        "                                                 coef=True,\n",
        "                                                 random_state=1)\n",
        "\n",
        "# View feature matrix and target vector\n",
        "print(f\"Feature Matrix\\n {features[:3]}\")\n",
        "print(f\"Target Vector\\n {target[:3]}\")"
      ],
      "metadata": {
        "id": "gXOq6HEdkOy8",
        "outputId": "f75770ad-dede-4216-c4e0-04dbe59f44c7",
        "colab": {
          "base_uri": "https://localhost:8080/"
        }
      },
      "execution_count": 4,
      "outputs": [
        {
          "output_type": "stream",
          "name": "stdout",
          "text": [
            "Feature Matrix\n",
            " [[ 1.29322588 -0.61736206 -0.11044703]\n",
            " [-2.793085    0.36633201  1.93752881]\n",
            " [ 0.80186103 -0.18656977  0.0465673 ]]\n",
            "Target Vector\n",
            " [-10.37865986  25.5124503   19.67705609]\n"
          ]
        }
      ]
    },
    {
      "cell_type": "code",
      "source": [
        "# Generate features matrix and target vector for clustering techniques\n",
        "features, target = make_blobs(n_samples=100,\n",
        "                              n_features=2,\n",
        "                              centers=3,\n",
        "                              cluster_std=0.5,\n",
        "                              shuffle=True,\n",
        "                              random_state=1)\n",
        "\n",
        "# View feature matrix and target vector\n",
        "print(f\"Feature Matrix\\n {features[:3]}\")\n",
        "print(f\"Target Vector\\n {target[:3]}\")"
      ],
      "metadata": {
        "id": "O8ESPircbMLx",
        "outputId": "242f6a50-f797-4399-bfc5-25847a067a55",
        "colab": {
          "base_uri": "https://localhost:8080/"
        }
      },
      "execution_count": 6,
      "outputs": [
        {
          "output_type": "stream",
          "name": "stdout",
          "text": [
            "Feature Matrix\n",
            " [[ -1.22685609   3.25572052]\n",
            " [ -9.57463218  -4.38310652]\n",
            " [-10.71976941  -4.20558148]]\n",
            "Target Vector\n",
            " [0 1 1]\n"
          ]
        }
      ]
    },
    {
      "cell_type": "code",
      "source": [
        "# View scatterplot\n",
        "plt.scatter(features[:, 0], features[:, 1], c=target)\n",
        "plt.show()"
      ],
      "metadata": {
        "id": "qyXQvK5XcWPI",
        "outputId": "9dc53201-64f5-4f1f-bb85-3c351be3b542",
        "colab": {
          "base_uri": "https://localhost:8080/",
          "height": 431
        }
      },
      "execution_count": 8,
      "outputs": [
        {
          "output_type": "display_data",
          "data": {
            "text/plain": [
              "<Figure size 640x480 with 1 Axes>"
            ],
            "image/png": "[encoded data removed]"
          },
          "metadata": {}
        }
      ]
    },
    {
      "cell_type": "code",
      "source": [
        "# Generate features matrix and target vector for classification techniques\n",
        "features, target = make_classification(n_samples=100,\n",
        "                              n_features=2,\n",
        "                              n_redundant=0,\n",
        "                              n_informative=1,\n",
        "                              n_clusters_per_class=1,\n",
        "                              random_state=1)\n",
        "\n",
        "# View feature matrix and target vector\n",
        "print(f\"Feature Matrix\\n {features[:3]}\")\n",
        "print(f\"Target Vector\\n {target[:3]}\")"
      ],
      "metadata": {
        "id": "hbcYXn31c3u2",
        "outputId": "65d20ca5-b17b-496e-b275-e127ace2a903",
        "colab": {
          "base_uri": "https://localhost:8080/"
        }
      },
      "execution_count": 10,
      "outputs": [
        {
          "output_type": "stream",
          "name": "stdout",
          "text": [
            "Feature Matrix\n",
            " [[ 0.31515939 -1.15316588]\n",
            " [-0.18656977  0.01946774]\n",
            " [ 0.81095167  1.07711906]]\n",
            "Target Vector\n",
            " [0 0 1]\n"
          ]
        }
      ]
    },
    {
      "cell_type": "code",
      "source": [
        "# View scatterplot\n",
        "plt.scatter(features[:, 0], features[:, 1], c=target)\n",
        "plt.show()"
      ],
      "metadata": {
        "id": "jFYf5QCSeijm",
        "outputId": "17af6a94-5d69-456f-eee1-32eb81c754bd",
        "colab": {
          "base_uri": "https://localhost:8080/",
          "height": 430
        }
      },
      "execution_count": 11,
      "outputs": [
        {
          "output_type": "display_data",
          "data": {
            "text/plain": [
              "<Figure size 640x480 with 1 Axes>"
            ],
            "image/png": "[encoded data removed]"
          },
          "metadata": {}
        }
      ]
    },
    {
      "cell_type": "markdown",
      "source": [
        "##CSV file"
      ],
      "metadata": {
        "id": "rIV6alzuer7P"
      }
    },
    {
      "cell_type": "code",
      "source": [],
      "metadata": {
        "id": "p5UXuclBewZh"
      },
      "execution_count": null,
      "outputs": []
    }
  ]
}