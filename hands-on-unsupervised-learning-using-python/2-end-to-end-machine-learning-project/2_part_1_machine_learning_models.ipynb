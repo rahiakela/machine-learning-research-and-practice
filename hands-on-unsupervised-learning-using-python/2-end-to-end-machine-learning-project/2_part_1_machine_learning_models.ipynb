{
  "nbformat": 4,
  "nbformat_minor": 0,
  "metadata": {
    "colab": {
      "name": "2-part-1-machine-learning-models.ipynb",
      "provenance": [],
      "toc_visible": true,
      "authorship_tag": "ABX9TyPk/zSqPszq9GgFEwBkDF98",
      "include_colab_link": true
    },
    "kernelspec": {
      "name": "python3",
      "display_name": "Python 3"
    },
    "language_info": {
      "name": "python"
    }
  },
  "cells": [
    {
      "cell_type": "markdown",
      "metadata": {
        "id": "view-in-github",
        "colab_type": "text"
      },
      "source": [
        "<a href=\"https://colab.research.google.com/github/rahiakela/hands-on-unsupervised-learning-using-python/blob/main/2-end-to-end-machine-learning-project/2_part_1_machine_learning_models.ipynb\" target=\"_parent\"><img src=\"https://colab.research.google.com/assets/colab-badge.svg\" alt=\"Open In Colab\"/></a>"
      ]
    },
    {
      "cell_type": "markdown",
      "metadata": {
        "id": "OxJpwC7RGYv2"
      },
      "source": [
        "## Part-1:Machine Learning Models"
      ]
    },
    {
      "cell_type": "markdown",
      "metadata": {
        "id": "jWQ5miqyHDuW"
      },
      "source": [
        "Before we begin exploring unsupervised learning algorithms in detail, we will\n",
        "review how to set up and manage machine learning projects, covering everything\n",
        "from acquiring data to building and evaluating a model and implementing a\n",
        "solution. We will work with supervised learning models—an area most readers should have some experience in—before jumping into unsupervised learning models."
      ]
    },
    {
      "cell_type": "markdown",
      "metadata": {
        "id": "CJhlRUr5HTwl"
      },
      "source": [
        "## Setup"
      ]
    },
    {
      "cell_type": "code",
      "metadata": {
        "id": "78lieHGcHflH"
      },
      "source": [
        "'''Main'''\n",
        "import numpy as np\n",
        "import pandas as pd\n",
        "import os\n",
        "\n",
        "'''Data Viz'''\n",
        "import matplotlib.pyplot as plt\n",
        "import matplotlib as mpl\n",
        "import seaborn as sns\n",
        "color = sns.color_palette()\n",
        "\n",
        "%matplotlib inline\n",
        "\n",
        "'''Data Prep'''\n",
        "from sklearn import preprocessing as pp \n",
        "from scipy.stats import pearsonr \n",
        "from sklearn.model_selection import train_test_split\n",
        "from sklearn.model_selection import StratifiedKFold \n",
        "from sklearn.metrics import log_loss \n",
        "from sklearn.metrics import precision_recall_curve, average_precision_score \n",
        "from sklearn.metrics import roc_curve, auc, roc_auc_score\n",
        "from sklearn.metrics import confusion_matrix, classification_report \n",
        "\n",
        "'''Algos'''\n",
        "from sklearn.linear_model import LogisticRegression\n",
        "from sklearn.ensemble import RandomForestClassifier\n",
        "# import xgboost as xgb\n",
        "import lightgbm as lgb"
      ],
      "execution_count": 1,
      "outputs": []
    },
    {
      "cell_type": "markdown",
      "metadata": {
        "id": "0u-WMIu1MYZd"
      },
      "source": [
        "Let's download creditcardfraud dataset from [Kaggle](https://www.kaggle.com/isaikumar/creditcardfraud)."
      ]
    },
    {
      "cell_type": "code",
      "metadata": {
        "id": "e4NrHCs1Mc8O"
      },
      "source": [
        "from google.colab import files\n",
        "files.upload() # upload kaggle.json file"
      ],
      "execution_count": null,
      "outputs": []
    },
    {
      "cell_type": "code",
      "metadata": {
        "colab": {
          "base_uri": "https://localhost:8080/"
        },
        "id": "aB2cxu8AIKMr",
        "outputId": "3a079150-ec20-4da4-b358-48a08ceb6433"
      },
      "source": [
        "%%shell\n",
        "\n",
        "mkdir -p ~/.kaggle\n",
        "mv kaggle.json ~/.kaggle/\n",
        "ls ~/.kaggle\n",
        "chmod 600 /root/.kaggle/kaggle.json\n",
        "\n",
        "# download word embeddings from kaggle\n",
        "kaggle datasets download -d isaikumar/creditcardfraud\n",
        "unzip -qq creditcardfraud.zip\n",
        "rm -rf creditcardfraud.zip"
      ],
      "execution_count": 3,
      "outputs": [
        {
          "output_type": "stream",
          "text": [
            "kaggle.json\n",
            "Downloading creditcardfraud.zip to /content\n",
            " 93% 61.0M/65.9M [00:00<00:00, 59.5MB/s]\n",
            "100% 65.9M/65.9M [00:00<00:00, 122MB/s] \n"
          ],
          "name": "stdout"
        },
        {
          "output_type": "execute_result",
          "data": {
            "text/plain": [
              ""
            ]
          },
          "metadata": {
            "tags": []
          },
          "execution_count": 3
        }
      ]
    },
    {
      "cell_type": "markdown",
      "metadata": {
        "id": "FIoyOSZBIVL9"
      },
      "source": [
        "## Loading dataset"
      ]
    },
    {
      "cell_type": "markdown",
      "metadata": {
        "id": "ZnNM2eFGJADP"
      },
      "source": [
        "We will use a real dataset of anonymized credit card transactions\n",
        "made by [European cardholders from September 2013](https://www.kaggle.com/isaikumar/creditcardfraud). These transactions are labeled as fraudulent or genuine, and we will build a fraud detection solution using machine learning to predict the correct labels for never-before-seen instances.\n",
        "\n",
        "This dataset is highly imbalanced. Of the 284,807 transactions, only 492 are\n",
        "fraudulent (0.172%). This low percentage of fraud is pretty typical for credit\n",
        "card transactions.\n",
        "\n",
        "There are 28 features, all of which are numerical, and there are no categorical\n",
        "variables. These features are not the original features but rather the output of\n",
        "principal component analysis. The original features were distilled to 28 principal components using this form of dimensionality reduction."
      ]
    },
    {
      "cell_type": "markdown",
      "metadata": {
        "id": "96m6DJh0Kv2S"
      },
      "source": [
        "## Data Acquisition"
      ]
    },
    {
      "cell_type": "markdown",
      "metadata": {
        "id": "ZfWeWTBDK00h"
      },
      "source": [
        "The first step in any machine learning project is data acquisition."
      ]
    },
    {
      "cell_type": "code",
      "metadata": {
        "colab": {
          "base_uri": "https://localhost:8080/",
          "height": 224
        },
        "id": "1bS2bQUkINb-",
        "outputId": "1c6284ea-f220-4ab0-89af-a2f63918029f"
      },
      "source": [
        "# Read the data\n",
        "data = pd.read_csv(\"creditcard.csv\")\n",
        "data.head()"
      ],
      "execution_count": 4,
      "outputs": [
        {
          "output_type": "execute_result",
          "data": {
            "text/html": [
              "<div>\n",
              "<style scoped>\n",
              "    .dataframe tbody tr th:only-of-type {\n",
              "        vertical-align: middle;\n",
              "    }\n",
              "\n",
              "    .dataframe tbody tr th {\n",
              "        vertical-align: top;\n",
              "    }\n",
              "\n",
              "    .dataframe thead th {\n",
              "        text-align: right;\n",
              "    }\n",
              "</style>\n",
              "<table border=\"1\" class=\"dataframe\">\n",
              "  <thead>\n",
              "    <tr style=\"text-align: right;\">\n",
              "      <th></th>\n",
              "      <th>Time</th>\n",
              "      <th>V1</th>\n",
              "      <th>V2</th>\n",
              "      <th>V3</th>\n",
              "      <th>V4</th>\n",
              "      <th>V5</th>\n",
              "      <th>V6</th>\n",
              "      <th>V7</th>\n",
              "      <th>V8</th>\n",
              "      <th>V9</th>\n",
              "      <th>V10</th>\n",
              "      <th>V11</th>\n",
              "      <th>V12</th>\n",
              "      <th>V13</th>\n",
              "      <th>V14</th>\n",
              "      <th>V15</th>\n",
              "      <th>V16</th>\n",
              "      <th>V17</th>\n",
              "      <th>V18</th>\n",
              "      <th>V19</th>\n",
              "      <th>V20</th>\n",
              "      <th>V21</th>\n",
              "      <th>V22</th>\n",
              "      <th>V23</th>\n",
              "      <th>V24</th>\n",
              "      <th>V25</th>\n",
              "      <th>V26</th>\n",
              "      <th>V27</th>\n",
              "      <th>V28</th>\n",
              "      <th>Amount</th>\n",
              "      <th>Class</th>\n",
              "    </tr>\n",
              "  </thead>\n",
              "  <tbody>\n",
              "    <tr>\n",
              "      <th>0</th>\n",
              "      <td>0.0</td>\n",
              "      <td>-1.359807</td>\n",
              "      <td>-0.072781</td>\n",
              "      <td>2.536347</td>\n",
              "      <td>1.378155</td>\n",
              "      <td>-0.338321</td>\n",
              "      <td>0.462388</td>\n",
              "      <td>0.239599</td>\n",
              "      <td>0.098698</td>\n",
              "      <td>0.363787</td>\n",
              "      <td>0.090794</td>\n",
              "      <td>-0.551600</td>\n",
              "      <td>-0.617801</td>\n",
              "      <td>-0.991390</td>\n",
              "      <td>-0.311169</td>\n",
              "      <td>1.468177</td>\n",
              "      <td>-0.470401</td>\n",
              "      <td>0.207971</td>\n",
              "      <td>0.025791</td>\n",
              "      <td>0.403993</td>\n",
              "      <td>0.251412</td>\n",
              "      <td>-0.018307</td>\n",
              "      <td>0.277838</td>\n",
              "      <td>-0.110474</td>\n",
              "      <td>0.066928</td>\n",
              "      <td>0.128539</td>\n",
              "      <td>-0.189115</td>\n",
              "      <td>0.133558</td>\n",
              "      <td>-0.021053</td>\n",
              "      <td>149.62</td>\n",
              "      <td>0</td>\n",
              "    </tr>\n",
              "    <tr>\n",
              "      <th>1</th>\n",
              "      <td>0.0</td>\n",
              "      <td>1.191857</td>\n",
              "      <td>0.266151</td>\n",
              "      <td>0.166480</td>\n",
              "      <td>0.448154</td>\n",
              "      <td>0.060018</td>\n",
              "      <td>-0.082361</td>\n",
              "      <td>-0.078803</td>\n",
              "      <td>0.085102</td>\n",
              "      <td>-0.255425</td>\n",
              "      <td>-0.166974</td>\n",
              "      <td>1.612727</td>\n",
              "      <td>1.065235</td>\n",
              "      <td>0.489095</td>\n",
              "      <td>-0.143772</td>\n",
              "      <td>0.635558</td>\n",
              "      <td>0.463917</td>\n",
              "      <td>-0.114805</td>\n",
              "      <td>-0.183361</td>\n",
              "      <td>-0.145783</td>\n",
              "      <td>-0.069083</td>\n",
              "      <td>-0.225775</td>\n",
              "      <td>-0.638672</td>\n",
              "      <td>0.101288</td>\n",
              "      <td>-0.339846</td>\n",
              "      <td>0.167170</td>\n",
              "      <td>0.125895</td>\n",
              "      <td>-0.008983</td>\n",
              "      <td>0.014724</td>\n",
              "      <td>2.69</td>\n",
              "      <td>0</td>\n",
              "    </tr>\n",
              "    <tr>\n",
              "      <th>2</th>\n",
              "      <td>1.0</td>\n",
              "      <td>-1.358354</td>\n",
              "      <td>-1.340163</td>\n",
              "      <td>1.773209</td>\n",
              "      <td>0.379780</td>\n",
              "      <td>-0.503198</td>\n",
              "      <td>1.800499</td>\n",
              "      <td>0.791461</td>\n",
              "      <td>0.247676</td>\n",
              "      <td>-1.514654</td>\n",
              "      <td>0.207643</td>\n",
              "      <td>0.624501</td>\n",
              "      <td>0.066084</td>\n",
              "      <td>0.717293</td>\n",
              "      <td>-0.165946</td>\n",
              "      <td>2.345865</td>\n",
              "      <td>-2.890083</td>\n",
              "      <td>1.109969</td>\n",
              "      <td>-0.121359</td>\n",
              "      <td>-2.261857</td>\n",
              "      <td>0.524980</td>\n",
              "      <td>0.247998</td>\n",
              "      <td>0.771679</td>\n",
              "      <td>0.909412</td>\n",
              "      <td>-0.689281</td>\n",
              "      <td>-0.327642</td>\n",
              "      <td>-0.139097</td>\n",
              "      <td>-0.055353</td>\n",
              "      <td>-0.059752</td>\n",
              "      <td>378.66</td>\n",
              "      <td>0</td>\n",
              "    </tr>\n",
              "    <tr>\n",
              "      <th>3</th>\n",
              "      <td>1.0</td>\n",
              "      <td>-0.966272</td>\n",
              "      <td>-0.185226</td>\n",
              "      <td>1.792993</td>\n",
              "      <td>-0.863291</td>\n",
              "      <td>-0.010309</td>\n",
              "      <td>1.247203</td>\n",
              "      <td>0.237609</td>\n",
              "      <td>0.377436</td>\n",
              "      <td>-1.387024</td>\n",
              "      <td>-0.054952</td>\n",
              "      <td>-0.226487</td>\n",
              "      <td>0.178228</td>\n",
              "      <td>0.507757</td>\n",
              "      <td>-0.287924</td>\n",
              "      <td>-0.631418</td>\n",
              "      <td>-1.059647</td>\n",
              "      <td>-0.684093</td>\n",
              "      <td>1.965775</td>\n",
              "      <td>-1.232622</td>\n",
              "      <td>-0.208038</td>\n",
              "      <td>-0.108300</td>\n",
              "      <td>0.005274</td>\n",
              "      <td>-0.190321</td>\n",
              "      <td>-1.175575</td>\n",
              "      <td>0.647376</td>\n",
              "      <td>-0.221929</td>\n",
              "      <td>0.062723</td>\n",
              "      <td>0.061458</td>\n",
              "      <td>123.50</td>\n",
              "      <td>0</td>\n",
              "    </tr>\n",
              "    <tr>\n",
              "      <th>4</th>\n",
              "      <td>2.0</td>\n",
              "      <td>-1.158233</td>\n",
              "      <td>0.877737</td>\n",
              "      <td>1.548718</td>\n",
              "      <td>0.403034</td>\n",
              "      <td>-0.407193</td>\n",
              "      <td>0.095921</td>\n",
              "      <td>0.592941</td>\n",
              "      <td>-0.270533</td>\n",
              "      <td>0.817739</td>\n",
              "      <td>0.753074</td>\n",
              "      <td>-0.822843</td>\n",
              "      <td>0.538196</td>\n",
              "      <td>1.345852</td>\n",
              "      <td>-1.119670</td>\n",
              "      <td>0.175121</td>\n",
              "      <td>-0.451449</td>\n",
              "      <td>-0.237033</td>\n",
              "      <td>-0.038195</td>\n",
              "      <td>0.803487</td>\n",
              "      <td>0.408542</td>\n",
              "      <td>-0.009431</td>\n",
              "      <td>0.798278</td>\n",
              "      <td>-0.137458</td>\n",
              "      <td>0.141267</td>\n",
              "      <td>-0.206010</td>\n",
              "      <td>0.502292</td>\n",
              "      <td>0.219422</td>\n",
              "      <td>0.215153</td>\n",
              "      <td>69.99</td>\n",
              "      <td>0</td>\n",
              "    </tr>\n",
              "  </tbody>\n",
              "</table>\n",
              "</div>"
            ],
            "text/plain": [
              "   Time        V1        V2        V3  ...       V27       V28  Amount  Class\n",
              "0   0.0 -1.359807 -0.072781  2.536347  ...  0.133558 -0.021053  149.62      0\n",
              "1   0.0  1.191857  0.266151  0.166480  ... -0.008983  0.014724    2.69      0\n",
              "2   1.0 -1.358354 -1.340163  1.773209  ... -0.055353 -0.059752  378.66      0\n",
              "3   1.0 -0.966272 -0.185226  1.792993  ...  0.062723  0.061458  123.50      0\n",
              "4   2.0 -1.158233  0.877737  1.548718  ...  0.219422  0.215153   69.99      0\n",
              "\n",
              "[5 rows x 31 columns]"
            ]
          },
          "metadata": {
            "tags": []
          },
          "execution_count": 4
        }
      ]
    },
    {
      "cell_type": "markdown",
      "metadata": {
        "id": "jsAeO_MXRgVQ"
      },
      "source": [
        "## Generate Feature Matrix and Labels Array"
      ]
    },
    {
      "cell_type": "markdown",
      "metadata": {
        "id": "tOCeddV2RhM5"
      },
      "source": [
        "Let’s create and standardize the feature matrix X and isolate the labels array y\n",
        "(one for fraud, zero for not fraud). \n",
        "\n",
        "Later on we will feed these into the machine learning algorithms during training."
      ]
    },
    {
      "cell_type": "code",
      "metadata": {
        "id": "bj80D8abRI0u"
      },
      "source": [
        "# Create the feature matrix X and the labels array Y\n",
        "data_x = data.copy().drop([\"Class\"], axis=1)\n",
        "data_y = data[\"Class\"].copy()"
      ],
      "execution_count": 5,
      "outputs": []
    },
    {
      "cell_type": "code",
      "metadata": {
        "id": "RrWpsW05ILj-",
        "colab": {
          "base_uri": "https://localhost:8080/",
          "height": 224
        },
        "outputId": "55bfeeb8-4251-4eb5-d094-65d5349eed18"
      },
      "source": [
        "data_x.head()"
      ],
      "execution_count": 6,
      "outputs": [
        {
          "output_type": "execute_result",
          "data": {
            "text/html": [
              "<div>\n",
              "<style scoped>\n",
              "    .dataframe tbody tr th:only-of-type {\n",
              "        vertical-align: middle;\n",
              "    }\n",
              "\n",
              "    .dataframe tbody tr th {\n",
              "        vertical-align: top;\n",
              "    }\n",
              "\n",
              "    .dataframe thead th {\n",
              "        text-align: right;\n",
              "    }\n",
              "</style>\n",
              "<table border=\"1\" class=\"dataframe\">\n",
              "  <thead>\n",
              "    <tr style=\"text-align: right;\">\n",
              "      <th></th>\n",
              "      <th>Time</th>\n",
              "      <th>V1</th>\n",
              "      <th>V2</th>\n",
              "      <th>V3</th>\n",
              "      <th>V4</th>\n",
              "      <th>V5</th>\n",
              "      <th>V6</th>\n",
              "      <th>V7</th>\n",
              "      <th>V8</th>\n",
              "      <th>V9</th>\n",
              "      <th>V10</th>\n",
              "      <th>V11</th>\n",
              "      <th>V12</th>\n",
              "      <th>V13</th>\n",
              "      <th>V14</th>\n",
              "      <th>V15</th>\n",
              "      <th>V16</th>\n",
              "      <th>V17</th>\n",
              "      <th>V18</th>\n",
              "      <th>V19</th>\n",
              "      <th>V20</th>\n",
              "      <th>V21</th>\n",
              "      <th>V22</th>\n",
              "      <th>V23</th>\n",
              "      <th>V24</th>\n",
              "      <th>V25</th>\n",
              "      <th>V26</th>\n",
              "      <th>V27</th>\n",
              "      <th>V28</th>\n",
              "      <th>Amount</th>\n",
              "    </tr>\n",
              "  </thead>\n",
              "  <tbody>\n",
              "    <tr>\n",
              "      <th>0</th>\n",
              "      <td>0.0</td>\n",
              "      <td>-1.359807</td>\n",
              "      <td>-0.072781</td>\n",
              "      <td>2.536347</td>\n",
              "      <td>1.378155</td>\n",
              "      <td>-0.338321</td>\n",
              "      <td>0.462388</td>\n",
              "      <td>0.239599</td>\n",
              "      <td>0.098698</td>\n",
              "      <td>0.363787</td>\n",
              "      <td>0.090794</td>\n",
              "      <td>-0.551600</td>\n",
              "      <td>-0.617801</td>\n",
              "      <td>-0.991390</td>\n",
              "      <td>-0.311169</td>\n",
              "      <td>1.468177</td>\n",
              "      <td>-0.470401</td>\n",
              "      <td>0.207971</td>\n",
              "      <td>0.025791</td>\n",
              "      <td>0.403993</td>\n",
              "      <td>0.251412</td>\n",
              "      <td>-0.018307</td>\n",
              "      <td>0.277838</td>\n",
              "      <td>-0.110474</td>\n",
              "      <td>0.066928</td>\n",
              "      <td>0.128539</td>\n",
              "      <td>-0.189115</td>\n",
              "      <td>0.133558</td>\n",
              "      <td>-0.021053</td>\n",
              "      <td>149.62</td>\n",
              "    </tr>\n",
              "    <tr>\n",
              "      <th>1</th>\n",
              "      <td>0.0</td>\n",
              "      <td>1.191857</td>\n",
              "      <td>0.266151</td>\n",
              "      <td>0.166480</td>\n",
              "      <td>0.448154</td>\n",
              "      <td>0.060018</td>\n",
              "      <td>-0.082361</td>\n",
              "      <td>-0.078803</td>\n",
              "      <td>0.085102</td>\n",
              "      <td>-0.255425</td>\n",
              "      <td>-0.166974</td>\n",
              "      <td>1.612727</td>\n",
              "      <td>1.065235</td>\n",
              "      <td>0.489095</td>\n",
              "      <td>-0.143772</td>\n",
              "      <td>0.635558</td>\n",
              "      <td>0.463917</td>\n",
              "      <td>-0.114805</td>\n",
              "      <td>-0.183361</td>\n",
              "      <td>-0.145783</td>\n",
              "      <td>-0.069083</td>\n",
              "      <td>-0.225775</td>\n",
              "      <td>-0.638672</td>\n",
              "      <td>0.101288</td>\n",
              "      <td>-0.339846</td>\n",
              "      <td>0.167170</td>\n",
              "      <td>0.125895</td>\n",
              "      <td>-0.008983</td>\n",
              "      <td>0.014724</td>\n",
              "      <td>2.69</td>\n",
              "    </tr>\n",
              "    <tr>\n",
              "      <th>2</th>\n",
              "      <td>1.0</td>\n",
              "      <td>-1.358354</td>\n",
              "      <td>-1.340163</td>\n",
              "      <td>1.773209</td>\n",
              "      <td>0.379780</td>\n",
              "      <td>-0.503198</td>\n",
              "      <td>1.800499</td>\n",
              "      <td>0.791461</td>\n",
              "      <td>0.247676</td>\n",
              "      <td>-1.514654</td>\n",
              "      <td>0.207643</td>\n",
              "      <td>0.624501</td>\n",
              "      <td>0.066084</td>\n",
              "      <td>0.717293</td>\n",
              "      <td>-0.165946</td>\n",
              "      <td>2.345865</td>\n",
              "      <td>-2.890083</td>\n",
              "      <td>1.109969</td>\n",
              "      <td>-0.121359</td>\n",
              "      <td>-2.261857</td>\n",
              "      <td>0.524980</td>\n",
              "      <td>0.247998</td>\n",
              "      <td>0.771679</td>\n",
              "      <td>0.909412</td>\n",
              "      <td>-0.689281</td>\n",
              "      <td>-0.327642</td>\n",
              "      <td>-0.139097</td>\n",
              "      <td>-0.055353</td>\n",
              "      <td>-0.059752</td>\n",
              "      <td>378.66</td>\n",
              "    </tr>\n",
              "    <tr>\n",
              "      <th>3</th>\n",
              "      <td>1.0</td>\n",
              "      <td>-0.966272</td>\n",
              "      <td>-0.185226</td>\n",
              "      <td>1.792993</td>\n",
              "      <td>-0.863291</td>\n",
              "      <td>-0.010309</td>\n",
              "      <td>1.247203</td>\n",
              "      <td>0.237609</td>\n",
              "      <td>0.377436</td>\n",
              "      <td>-1.387024</td>\n",
              "      <td>-0.054952</td>\n",
              "      <td>-0.226487</td>\n",
              "      <td>0.178228</td>\n",
              "      <td>0.507757</td>\n",
              "      <td>-0.287924</td>\n",
              "      <td>-0.631418</td>\n",
              "      <td>-1.059647</td>\n",
              "      <td>-0.684093</td>\n",
              "      <td>1.965775</td>\n",
              "      <td>-1.232622</td>\n",
              "      <td>-0.208038</td>\n",
              "      <td>-0.108300</td>\n",
              "      <td>0.005274</td>\n",
              "      <td>-0.190321</td>\n",
              "      <td>-1.175575</td>\n",
              "      <td>0.647376</td>\n",
              "      <td>-0.221929</td>\n",
              "      <td>0.062723</td>\n",
              "      <td>0.061458</td>\n",
              "      <td>123.50</td>\n",
              "    </tr>\n",
              "    <tr>\n",
              "      <th>4</th>\n",
              "      <td>2.0</td>\n",
              "      <td>-1.158233</td>\n",
              "      <td>0.877737</td>\n",
              "      <td>1.548718</td>\n",
              "      <td>0.403034</td>\n",
              "      <td>-0.407193</td>\n",
              "      <td>0.095921</td>\n",
              "      <td>0.592941</td>\n",
              "      <td>-0.270533</td>\n",
              "      <td>0.817739</td>\n",
              "      <td>0.753074</td>\n",
              "      <td>-0.822843</td>\n",
              "      <td>0.538196</td>\n",
              "      <td>1.345852</td>\n",
              "      <td>-1.119670</td>\n",
              "      <td>0.175121</td>\n",
              "      <td>-0.451449</td>\n",
              "      <td>-0.237033</td>\n",
              "      <td>-0.038195</td>\n",
              "      <td>0.803487</td>\n",
              "      <td>0.408542</td>\n",
              "      <td>-0.009431</td>\n",
              "      <td>0.798278</td>\n",
              "      <td>-0.137458</td>\n",
              "      <td>0.141267</td>\n",
              "      <td>-0.206010</td>\n",
              "      <td>0.502292</td>\n",
              "      <td>0.219422</td>\n",
              "      <td>0.215153</td>\n",
              "      <td>69.99</td>\n",
              "    </tr>\n",
              "  </tbody>\n",
              "</table>\n",
              "</div>"
            ],
            "text/plain": [
              "   Time        V1        V2        V3  ...       V26       V27       V28  Amount\n",
              "0   0.0 -1.359807 -0.072781  2.536347  ... -0.189115  0.133558 -0.021053  149.62\n",
              "1   0.0  1.191857  0.266151  0.166480  ...  0.125895 -0.008983  0.014724    2.69\n",
              "2   1.0 -1.358354 -1.340163  1.773209  ... -0.139097 -0.055353 -0.059752  378.66\n",
              "3   1.0 -0.966272 -0.185226  1.792993  ... -0.221929  0.062723  0.061458  123.50\n",
              "4   2.0 -1.158233  0.877737  1.548718  ...  0.502292  0.219422  0.215153   69.99\n",
              "\n",
              "[5 rows x 30 columns]"
            ]
          },
          "metadata": {
            "tags": []
          },
          "execution_count": 6
        }
      ]
    },
    {
      "cell_type": "markdown",
      "metadata": {
        "id": "CzZ0m1dSH8w7"
      },
      "source": [
        "Let’s rescale the feature matrix so that each feature, except for time, has a mean of zero and standard deviation of one."
      ]
    },
    {
      "cell_type": "code",
      "metadata": {
        "id": "0ASo4XYFH6Jh"
      },
      "source": [
        "# Standardize the feature matrix X\n",
        "features_to_scale = data_x.drop([\"Time\"], axis=1).columns\n",
        "sx = pp.StandardScaler(copy=True)\n",
        "data_x.loc[:, features_to_scale] = sx.fit_transform(data_x[features_to_scale])"
      ],
      "execution_count": 7,
      "outputs": []
    },
    {
      "cell_type": "markdown",
      "metadata": {
        "id": "lFtEPntHPn9e"
      },
      "source": [
        "##Data Visualization"
      ]
    },
    {
      "cell_type": "markdown",
      "metadata": {
        "id": "Sb6hMCXHPo-B"
      },
      "source": [
        "As a final step, let’s visualize the data to appreciate just how imbalanced the\n",
        "dataset is.Since there are so few cases of fraud to learn from, this is\n",
        "a difficult problem to solve; fortunately, we have labels for the entire dataset."
      ]
    },
    {
      "cell_type": "code",
      "metadata": {
        "id": "X8-szK_YMqBt",
        "colab": {
          "base_uri": "https://localhost:8080/",
          "height": 312
        },
        "outputId": "0a677113-fce0-4d16-bca3-317f184fb506"
      },
      "source": [
        "count_classes = pd.value_counts(data['Class'],sort=True).sort_index()\n",
        "ax = sns.barplot(x=count_classes.index, y=[tuple(count_classes/len(data))[0],tuple(count_classes/len(data))[1]])\n",
        "ax.set_title('Frequency Percentage by Class')\n",
        "ax.set_xlabel('Class')\n",
        "ax.set_ylabel('Frequency Percentage')"
      ],
      "execution_count": 8,
      "outputs": [
        {
          "output_type": "execute_result",
          "data": {
            "text/plain": [
              "Text(0, 0.5, 'Frequency Percentage')"
            ]
          },
          "metadata": {
            "tags": []
          },
          "execution_count": 8
        },
        {
          "output_type": "display_data",
          "data": {
            "image/png": "[encoded data removed]",
            "text/plain": [
              "<Figure size 432x288 with 1 Axes>"
            ]
          },
          "metadata": {
            "tags": [],
            "needs_background": "light"
          }
        }
      ]
    },
    {
      "cell_type": "markdown",
      "metadata": {
        "id": "tfouAwpuYNsJ"
      },
      "source": [
        "##Model Preparation"
      ]
    },
    {
      "cell_type": "markdown",
      "metadata": {
        "id": "tAK8G1wYYOaT"
      },
      "source": [
        "Now that the data is ready, let’s prepare for the model. We need to split the data\n",
        "into a training and a test set, select a cost function, and prepare for k-fold crossvalidation."
      ]
    },
    {
      "cell_type": "markdown",
      "metadata": {
        "id": "mtIJnxYRYYdg"
      },
      "source": [
        "###Split into Training and Test Sets"
      ]
    },
    {
      "cell_type": "markdown",
      "metadata": {
        "id": "AURug2DPYafu"
      },
      "source": [
        "We need to set up our machine learning project so that we have a training set\n",
        "from which the machine learning algorithm learns. We also need a test set (the\n",
        "never-before-seen cases) the machine learning algorithm can make predictions\n",
        "on. The performance on this test set will be the ultimate gauge of success.\n",
        "\n",
        "Let’s go ahead and split our credit card transactions dataset into a training set and a test set."
      ]
    },
    {
      "cell_type": "code",
      "metadata": {
        "id": "Ay61SWLyYlmS",
        "outputId": "2fd3ecdb-a4b5-4d5b-bca3-8e6876e44822",
        "colab": {
          "base_uri": "https://localhost:8080/"
        }
      },
      "source": [
        "x_train, x_test, y_train, y_test = train_test_split(data_x, data_y, test_size=0.33, random_state=2020, stratify=data_y)\n",
        "\n",
        "print(x_train.shape, y_train.shape)\n",
        "print(x_test.shape, y_test.shape)"
      ],
      "execution_count": 9,
      "outputs": [
        {
          "output_type": "stream",
          "text": [
            "(190820, 30) (190820,)\n",
            "(93987, 30) (93987,)\n"
          ],
          "name": "stdout"
        }
      ]
    },
    {
      "cell_type": "markdown",
      "metadata": {
        "id": "OACQEWkPZKI_"
      },
      "source": [
        "To preserve the percentage of fraud (~0.17%) for both the training and the test set, we have set the stratify parameter."
      ]
    },
    {
      "cell_type": "markdown",
      "metadata": {
        "id": "oX2gvApebZma"
      },
      "source": [
        "###Feature scaling"
      ]
    },
    {
      "cell_type": "code",
      "metadata": {
        "id": "i66tHHLgbaqe",
        "outputId": "c3f73ae9-1cdd-4093-cb52-142f3c820d62",
        "colab": {
          "base_uri": "https://localhost:8080/"
        }
      },
      "source": [
        "# Feature scaling\n",
        "features_to_scale = data_x.drop(['Time'],axis=1).columns\n",
        "features_to_scale"
      ],
      "execution_count": 10,
      "outputs": [
        {
          "output_type": "execute_result",
          "data": {
            "text/plain": [
              "Index(['V1', 'V2', 'V3', 'V4', 'V5', 'V6', 'V7', 'V8', 'V9', 'V10', 'V11',\n",
              "       'V12', 'V13', 'V14', 'V15', 'V16', 'V17', 'V18', 'V19', 'V20', 'V21',\n",
              "       'V22', 'V23', 'V24', 'V25', 'V26', 'V27', 'V28', 'Amount'],\n",
              "      dtype='object')"
            ]
          },
          "metadata": {
            "tags": []
          },
          "execution_count": 10
        }
      ]
    },
    {
      "cell_type": "code",
      "metadata": {
        "id": "BwAlrzRcbkiJ",
        "outputId": "594da556-acc4-4098-b67d-5f0fd4463728",
        "colab": {
          "base_uri": "https://localhost:8080/",
          "height": 131
        }
      },
      "source": [
        "# Suppress warnings\n",
        "pd.set_option('mode.chained_assignment', None)\n",
        "\n",
        "sx = pp.StandardScaler(copy=True)\n",
        "x_train.loc[:, features_to_scale] = sx.fit_transform(x_train.loc[:, features_to_scale])\n",
        "scaling_factors = pd.DataFrame(data=[sx.mean_, sx.scale_],index=['Mean','StDev'], columns=features_to_scale)\n",
        "\n",
        "x_test.loc[:, features_to_scale] = sx.transform(x_test.loc[:, features_to_scale])\n",
        "\n",
        "scaling_factors"
      ],
      "execution_count": 12,
      "outputs": [
        {
          "output_type": "execute_result",
          "data": {
            "text/html": [
              "<div>\n",
              "<style scoped>\n",
              "    .dataframe tbody tr th:only-of-type {\n",
              "        vertical-align: middle;\n",
              "    }\n",
              "\n",
              "    .dataframe tbody tr th {\n",
              "        vertical-align: top;\n",
              "    }\n",
              "\n",
              "    .dataframe thead th {\n",
              "        text-align: right;\n",
              "    }\n",
              "</style>\n",
              "<table border=\"1\" class=\"dataframe\">\n",
              "  <thead>\n",
              "    <tr style=\"text-align: right;\">\n",
              "      <th></th>\n",
              "      <th>V1</th>\n",
              "      <th>V2</th>\n",
              "      <th>V3</th>\n",
              "      <th>V4</th>\n",
              "      <th>V5</th>\n",
              "      <th>V6</th>\n",
              "      <th>V7</th>\n",
              "      <th>V8</th>\n",
              "      <th>V9</th>\n",
              "      <th>V10</th>\n",
              "      <th>V11</th>\n",
              "      <th>V12</th>\n",
              "      <th>V13</th>\n",
              "      <th>V14</th>\n",
              "      <th>V15</th>\n",
              "      <th>V16</th>\n",
              "      <th>V17</th>\n",
              "      <th>V18</th>\n",
              "      <th>V19</th>\n",
              "      <th>V20</th>\n",
              "      <th>V21</th>\n",
              "      <th>V22</th>\n",
              "      <th>V23</th>\n",
              "      <th>V24</th>\n",
              "      <th>V25</th>\n",
              "      <th>V26</th>\n",
              "      <th>V27</th>\n",
              "      <th>V28</th>\n",
              "      <th>Amount</th>\n",
              "    </tr>\n",
              "  </thead>\n",
              "  <tbody>\n",
              "    <tr>\n",
              "      <th>Mean</th>\n",
              "      <td>0.000221</td>\n",
              "      <td>-0.001008</td>\n",
              "      <td>-0.002144</td>\n",
              "      <td>0.000016</td>\n",
              "      <td>-0.000134</td>\n",
              "      <td>-0.000977</td>\n",
              "      <td>0.001089</td>\n",
              "      <td>-0.001113</td>\n",
              "      <td>-0.000303</td>\n",
              "      <td>-0.000981</td>\n",
              "      <td>-0.000372</td>\n",
              "      <td>0.000391</td>\n",
              "      <td>-0.001872</td>\n",
              "      <td>0.000218</td>\n",
              "      <td>0.000298</td>\n",
              "      <td>0.000129</td>\n",
              "      <td>0.000045</td>\n",
              "      <td>0.002538</td>\n",
              "      <td>-0.003456</td>\n",
              "      <td>-0.001382</td>\n",
              "      <td>-0.000735</td>\n",
              "      <td>0.001905</td>\n",
              "      <td>0.000184</td>\n",
              "      <td>0.000988</td>\n",
              "      <td>-0.001237</td>\n",
              "      <td>0.003105</td>\n",
              "      <td>-0.002765</td>\n",
              "      <td>0.001606</td>\n",
              "      <td>0.000832</td>\n",
              "    </tr>\n",
              "    <tr>\n",
              "      <th>StDev</th>\n",
              "      <td>1.003017</td>\n",
              "      <td>1.005316</td>\n",
              "      <td>1.002874</td>\n",
              "      <td>1.001470</td>\n",
              "      <td>1.012178</td>\n",
              "      <td>1.005301</td>\n",
              "      <td>1.015145</td>\n",
              "      <td>1.001745</td>\n",
              "      <td>0.998685</td>\n",
              "      <td>0.994373</td>\n",
              "      <td>0.999072</td>\n",
              "      <td>0.995072</td>\n",
              "      <td>0.998671</td>\n",
              "      <td>0.996406</td>\n",
              "      <td>0.998960</td>\n",
              "      <td>0.996890</td>\n",
              "      <td>0.995264</td>\n",
              "      <td>1.001107</td>\n",
              "      <td>0.999722</td>\n",
              "      <td>1.012138</td>\n",
              "      <td>0.998972</td>\n",
              "      <td>0.999236</td>\n",
              "      <td>1.010673</td>\n",
              "      <td>0.998968</td>\n",
              "      <td>1.001821</td>\n",
              "      <td>1.001085</td>\n",
              "      <td>1.004932</td>\n",
              "      <td>1.030749</td>\n",
              "      <td>1.012571</td>\n",
              "    </tr>\n",
              "  </tbody>\n",
              "</table>\n",
              "</div>"
            ],
            "text/plain": [
              "             V1        V2        V3  ...       V27       V28    Amount\n",
              "Mean   0.000221 -0.001008 -0.002144  ... -0.002765  0.001606  0.000832\n",
              "StDev  1.003017  1.005316  1.002874  ...  1.004932  1.030749  1.012571\n",
              "\n",
              "[2 rows x 29 columns]"
            ]
          },
          "metadata": {
            "tags": []
          },
          "execution_count": 12
        }
      ]
    },
    {
      "cell_type": "markdown",
      "metadata": {
        "id": "UcTYdxrvZOYj"
      },
      "source": [
        "###Create k-Fold Cross-Validation Sets"
      ]
    },
    {
      "cell_type": "markdown",
      "metadata": {
        "id": "dqzWGeykZPCY"
      },
      "source": [
        "To help the machine learning algorithm estimate what its performance will be on\n",
        "the never-before-seen examples (the test set), it is best practice to further split the training set into a training set and a validation set.\n",
        "\n",
        "It is possible to train and evaluate like this five times—leaving aside a different\n",
        "fifth slice as the validation set each time. This is known as k-fold crossvalidation,\n",
        "where k in this case is five. With this approach, we will have not one\n",
        "estimate but five estimates for the generalization error.\n",
        "\n",
        "We will store the training score and the cross-validation score for each of the\n",
        "five runs, and we will store the cross-validation predictions each time. After all\n",
        "five runs are complete, we will have cross-validation predictions for the entire\n",
        "dataset. This will be the best all-in estimate of the performance the test set."
      ]
    },
    {
      "cell_type": "code",
      "metadata": {
        "id": "v5O8A_UxZB9C"
      },
      "source": [
        "k_fold = StratifiedKFold(n_splits=5, shuffle=True, random_state=2020)"
      ],
      "execution_count": 13,
      "outputs": []
    },
    {
      "cell_type": "markdown",
      "metadata": {
        "id": "l8zbUGl3ce4q"
      },
      "source": [
        "##Model #1: Logistic Regression"
      ]
    },
    {
      "cell_type": "markdown",
      "metadata": {
        "id": "vVoo0Czxcyr_"
      },
      "source": [
        "Now we’re ready to build the machine learning models. For each machine\n",
        "algorithm we consider, we will set hyperparameters, train the model, and\n",
        "evaluate the results.\n",
        "\n",
        "Let’s start with the most basic classification algorithm, logistic regression."
      ]
    },
    {
      "cell_type": "code",
      "metadata": {
        "id": "bC-ZOutKc09h"
      },
      "source": [
        "penalty = 'l2'              # set the penalty to the default value L2 instead of L1\n",
        "C = 1.0                     # C is the regularization strength\n",
        "class_weight = 'balanced'   # This signals to the logistic regression algorithm that we have an imbalanced class problem\n",
        "random_state = 2018\n",
        "solver = 'liblinear'\n",
        "n_jobs = 1"
      ],
      "execution_count": 14,
      "outputs": []
    },
    {
      "cell_type": "markdown",
      "metadata": {
        "id": "TXffDh0VeOuh"
      },
      "source": [
        "###Train the model"
      ]
    },
    {
      "cell_type": "markdown",
      "metadata": {
        "id": "Vx1gMACyePpL"
      },
      "source": [
        "We will train the logistic regression model on each of the five k-fold cross-validation splits, training on four-fifths of the training set and evaulating the performance on the fifth slice that is held aside."
      ]
    },
    {
      "cell_type": "code",
      "metadata": {
        "id": "9Sea7xv_c5P2"
      },
      "source": [
        "log_reg = LogisticRegression(penalty=penalty, C=C, class_weight=class_weight, random_state=random_state, solver=solver, n_jobs=n_jobs)"
      ],
      "execution_count": 15,
      "outputs": []
    },
    {
      "cell_type": "code",
      "metadata": {
        "id": "hqXUHX0ydRCv",
        "outputId": "a5f9b807-ccd6-4389-9b00-b95141f343f2",
        "colab": {
          "base_uri": "https://localhost:8080/"
        }
      },
      "source": [
        "training_scores = []\n",
        "cv_scores = []\n",
        "predictions_based_on_kfolds = pd.DataFrame(data=[], index=y_train.index, columns=[0, 1])\n",
        "\n",
        "for train_index, cv_index in k_fold.split(np.zeros(len(x_train)), y_train.ravel()):\n",
        "  x_train_fold, x_cv_fold = x_train.iloc[train_index, :], x_train.iloc[cv_index, :]\n",
        "  y_train_fold, y_cv_fold = y_train.iloc[train_index], y_train.iloc[cv_index]\n",
        "\n",
        "  log_reg.fit(x_train_fold, y_train_fold)\n",
        "\n",
        "  logloss_training = log_loss(y_train_fold, log_reg.predict_proba(x_train_fold)[:, 1])\n",
        "  training_scores.append(logloss_training) \n",
        "\n",
        "  predictions_based_on_kfolds.loc[x_cv_fold.index, :] = log_reg.predict_proba(x_cv_fold)\n",
        "  logloss_cv = log_loss(y_cv_fold, predictions_based_on_kfolds.loc[x_cv_fold.index, 1])\n",
        "  cv_scores.append(logloss_cv)\n",
        "\n",
        "  print(\"Training Log Loss:\", logloss_training)\n",
        "  print(\"CV Log Loss:\", logloss_cv)\n",
        "\n",
        "logloss_logistic_regression = log_loss(y_train, predictions_based_on_kfolds.loc[:, 1])\n",
        "print(\"Logistic Regression Log Loss: \", logloss_logistic_regression) "
      ],
      "execution_count": 17,
      "outputs": [
        {
          "output_type": "stream",
          "text": [
            "Training Log Loss: 0.1115914084503823\n",
            "CV Log Loss: 0.11072278047852098\n",
            "Training Log Loss: 0.11582744695384373\n",
            "CV Log Loss: 0.1176725688814084\n",
            "Training Log Loss: 0.11568628386826778\n",
            "CV Log Loss: 0.11335074816942886\n",
            "Training Log Loss: 0.11962887546060656\n",
            "CV Log Loss: 0.12090553843535343\n",
            "Training Log Loss: 0.12076096303135772\n",
            "CV Log Loss: 0.12339754424049496\n",
            "Logistic Regression Log Loss:  0.11720983604104132\n"
          ],
          "name": "stdout"
        }
      ]
    },
    {
      "cell_type": "markdown",
      "metadata": {
        "id": "Qn-vhL4lmIno"
      },
      "source": [
        "For each of the five runs, their training and cross-validation log losses are\n",
        "similar. The logistic regression model does not exhibit severe overfitting; if it did, we would have a low training log loss and comparably high cross-validation log loss."
      ]
    },
    {
      "cell_type": "markdown",
      "metadata": {
        "id": "BWAX_BfomUTH"
      },
      "source": [
        "###Evaluation Metrics"
      ]
    },
    {
      "cell_type": "code",
      "metadata": {
        "id": "f_W0c1awlmTH"
      },
      "source": [
        ""
      ],
      "execution_count": null,
      "outputs": []
    }
  ]
}