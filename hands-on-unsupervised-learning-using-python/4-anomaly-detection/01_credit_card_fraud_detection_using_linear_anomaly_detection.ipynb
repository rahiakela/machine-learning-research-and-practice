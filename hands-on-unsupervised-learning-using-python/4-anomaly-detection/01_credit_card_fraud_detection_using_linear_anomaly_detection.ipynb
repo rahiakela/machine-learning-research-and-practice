{
  "nbformat": 4,
  "nbformat_minor": 0,
  "metadata": {
    "colab": {
      "name": "01-credit-card-fraud-detection-using-linear-anomaly-detection.ipynb",
      "provenance": [],
      "toc_visible": true,
      "authorship_tag": "ABX9TyMZeWPXGg2y2FHIuRwS1KCG",
      "include_colab_link": true
    },
    "kernelspec": {
      "name": "python3",
      "display_name": "Python 3"
    },
    "language_info": {
      "name": "python"
    }
  },
  "cells": [
    {
      "cell_type": "markdown",
      "metadata": {
        "id": "view-in-github",
        "colab_type": "text"
      },
      "source": [
        "<a href=\"https://colab.research.google.com/github/rahiakela/hands-on-unsupervised-learning-using-python/blob/main/4-anomaly-detection/01_credit_card_fraud_detection_using_linear_anomaly_detection.ipynb\" target=\"_parent\"><img src=\"https://colab.research.google.com/assets/colab-badge.svg\" alt=\"Open In Colab\"/></a>"
      ]
    },
    {
      "cell_type": "markdown",
      "metadata": {
        "id": "GT25TA0mr3D-"
      },
      "source": [
        "## Credit Card Fraud Detection using Linear Anomaly Detection"
      ]
    },
    {
      "cell_type": "markdown",
      "metadata": {
        "id": "teqILCuNsITs"
      },
      "source": [
        "Let’s build an applied machine learning solution using these dimensionality\n",
        "reduction methods. We will build a credit card fraud detection system without using labels.\n",
        "\n",
        "In the real world, fraud often goes undiscovered, and only the fraud that is\n",
        "caught provides any labels for the datasets. Moreover, fraud patterns change over time, so supervised systems that are built using fraud labels—like the one we built using labels—become stale, capturing historical patterns of fraud but\n",
        "failing to adapt to newly emerging patterns.\n",
        "\n",
        "For these reasons (the lack of sufficient labels and the need to adapt to newly\n",
        "emerging patterns of fraud as quickly as possible), unsupervised learning fraud\n",
        "detection systems are in vogue.\n",
        "\n"
      ]
    },
    {
      "cell_type": "markdown",
      "metadata": {
        "id": "-KupcUX4tGUo"
      },
      "source": [
        "##Setup"
      ]
    },
    {
      "cell_type": "code",
      "metadata": {
        "id": "Dy2oMtA2tHWJ"
      },
      "source": [
        "'''Main'''\n",
        "import numpy as np\n",
        "import pandas as pd\n",
        "import os, time\n",
        "import pickle, gzip\n",
        "\n",
        "'''Data Viz'''\n",
        "import matplotlib.pyplot as plt\n",
        "import seaborn as sns\n",
        "color = sns.color_palette()\n",
        "import matplotlib as mpl\n",
        "\n",
        "%matplotlib inline\n",
        "\n",
        "'''Data Prep and Model Evaluation'''\n",
        "from sklearn import preprocessing as pp\n",
        "from sklearn.model_selection import train_test_split \n",
        "from sklearn.metrics import precision_recall_curve, average_precision_score\n",
        "from sklearn.metrics import roc_curve, auc, roc_auc_score\n",
        "from sklearn.utils import resample\n",
        "\n",
        "# principal components\n",
        "from sklearn.decomposition import PCA\n",
        "from sklearn.decomposition import SparsePCA\n",
        "\n",
        "# Suppress warnings\n",
        "pd.set_option('mode.chained_assignment', None)"
      ],
      "execution_count": 18,
      "outputs": []
    },
    {
      "cell_type": "markdown",
      "metadata": {
        "id": "O-6klDaftZe8"
      },
      "source": [
        "Let's download creditcardfraud dataset from [Kaggle](https://www.kaggle.com/isaikumar/creditcardfraud)."
      ]
    },
    {
      "cell_type": "code",
      "metadata": {
        "id": "67FvmxkLtZ48",
        "outputId": "04e07aa7-4d4c-4765-aef0-8304ac1e580f",
        "colab": {
          "resources": {
            "http://localhost:8080/nbextensions/google.colab/files.js": {
              "data": "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",
              "ok": true,
              "headers": [
                [
                  "content-type",
                  "application/javascript"
                ]
              ],
              "status": 200,
              "status_text": ""
            }
          },
          "base_uri": "https://localhost:8080/",
          "height": 91
        }
      },
      "source": [
        "from google.colab import files\n",
        "files.upload() # upload kaggle.json file"
      ],
      "execution_count": 2,
      "outputs": [
        {
          "output_type": "display_data",
          "data": {
            "text/html": [
              "\n",
              "     <input type=\"file\" id=\"files-9b8f3247-8eeb-413e-bfa7-e607378ae5ae\" name=\"files[]\" multiple disabled\n",
              "        style=\"border:none\" />\n",
              "     <output id=\"result-9b8f3247-8eeb-413e-bfa7-e607378ae5ae\">\n",
              "      Upload widget is only available when the cell has been executed in the\n",
              "      current browser session. Please rerun this cell to enable.\n",
              "      </output>\n",
              "      <script src=\"/nbextensions/google.colab/files.js\"></script> "
            ],
            "text/plain": [
              "<IPython.core.display.HTML object>"
            ]
          },
          "metadata": {
            "tags": []
          }
        },
        {
          "output_type": "stream",
          "text": [
            "Saving kaggle.json to kaggle.json\n"
          ],
          "name": "stdout"
        },
        {
          "output_type": "execute_result",
          "data": {
            "text/plain": [
              "{'kaggle.json': b'{\"username\":\"rahiakela\",\"key\":\"484f91b2ebc194b0bff8ab8777c1ebff\"}'}"
            ]
          },
          "metadata": {
            "tags": []
          },
          "execution_count": 2
        }
      ]
    },
    {
      "cell_type": "code",
      "metadata": {
        "colab": {
          "base_uri": "https://localhost:8080/"
        },
        "id": "_v3p5FkbtcDN",
        "outputId": "4c95487e-7293-4d30-ba55-39a034edbd0b"
      },
      "source": [
        "%%shell\n",
        "\n",
        "mkdir -p ~/.kaggle\n",
        "mv kaggle.json ~/.kaggle/\n",
        "ls ~/.kaggle\n",
        "chmod 600 /root/.kaggle/kaggle.json\n",
        "\n",
        "# download word embeddings from kaggle\n",
        "kaggle datasets download -d isaikumar/creditcardfraud\n",
        "unzip -qq creditcardfraud.zip\n",
        "rm -rf creditcardfraud.zip"
      ],
      "execution_count": 3,
      "outputs": [
        {
          "output_type": "stream",
          "text": [
            "kaggle.json\n",
            "Downloading creditcardfraud.zip to /content\n",
            " 97% 64.0M/65.9M [00:00<00:00, 89.1MB/s]\n",
            "100% 65.9M/65.9M [00:00<00:00, 104MB/s] \n"
          ],
          "name": "stdout"
        },
        {
          "output_type": "execute_result",
          "data": {
            "text/plain": [
              ""
            ]
          },
          "metadata": {
            "tags": []
          },
          "execution_count": 3
        }
      ]
    },
    {
      "cell_type": "markdown",
      "metadata": {
        "id": "LG4JgfHytvm1"
      },
      "source": [
        "##Prepare the Data"
      ]
    },
    {
      "cell_type": "markdown",
      "metadata": {
        "id": "eQcrzyiHtwYw"
      },
      "source": [
        "Let’s load the credit card transactions dataset, generate\n",
        "the features matrix and labels array, and split the data into training and test sets. We will not use the labels to perform anomaly detection, but we will use the labels to help evaluate the fraud detection systems we build.\n",
        "\n",
        "As a reminder, we have 284,807 credit card transactions in total, of which 492\n",
        "are fraudulent, with a positive (fraud) label of one. The rest are normal\n",
        "transactions, with a negative (not fraud) label of zero.\n",
        "\n",
        "We have 30 features to use for anomaly detection—time, amount, and 28\n",
        "principal components. And, we will split the dataset into a training set (with\n",
        "190,820 transactions and 330 cases of fraud) and a test set (with the remaining\n",
        "93,987 transactions and 162 cases of fraud):"
      ]
    },
    {
      "cell_type": "code",
      "metadata": {
        "colab": {
          "base_uri": "https://localhost:8080/",
          "height": 224
        },
        "id": "P6R0xCx8uC2r",
        "outputId": "3d114d19-3c73-4986-d291-e4e193533fe2"
      },
      "source": [
        "# Load datasets\n",
        "data = pd.read_csv(\"creditcard.csv\")\n",
        "data.head()"
      ],
      "execution_count": 4,
      "outputs": [
        {
          "output_type": "execute_result",
          "data": {
            "text/html": [
              "<div>\n",
              "<style scoped>\n",
              "    .dataframe tbody tr th:only-of-type {\n",
              "        vertical-align: middle;\n",
              "    }\n",
              "\n",
              "    .dataframe tbody tr th {\n",
              "        vertical-align: top;\n",
              "    }\n",
              "\n",
              "    .dataframe thead th {\n",
              "        text-align: right;\n",
              "    }\n",
              "</style>\n",
              "<table border=\"1\" class=\"dataframe\">\n",
              "  <thead>\n",
              "    <tr style=\"text-align: right;\">\n",
              "      <th></th>\n",
              "      <th>Time</th>\n",
              "      <th>V1</th>\n",
              "      <th>V2</th>\n",
              "      <th>V3</th>\n",
              "      <th>V4</th>\n",
              "      <th>V5</th>\n",
              "      <th>V6</th>\n",
              "      <th>V7</th>\n",
              "      <th>V8</th>\n",
              "      <th>V9</th>\n",
              "      <th>V10</th>\n",
              "      <th>V11</th>\n",
              "      <th>V12</th>\n",
              "      <th>V13</th>\n",
              "      <th>V14</th>\n",
              "      <th>V15</th>\n",
              "      <th>V16</th>\n",
              "      <th>V17</th>\n",
              "      <th>V18</th>\n",
              "      <th>V19</th>\n",
              "      <th>V20</th>\n",
              "      <th>V21</th>\n",
              "      <th>V22</th>\n",
              "      <th>V23</th>\n",
              "      <th>V24</th>\n",
              "      <th>V25</th>\n",
              "      <th>V26</th>\n",
              "      <th>V27</th>\n",
              "      <th>V28</th>\n",
              "      <th>Amount</th>\n",
              "      <th>Class</th>\n",
              "    </tr>\n",
              "  </thead>\n",
              "  <tbody>\n",
              "    <tr>\n",
              "      <th>0</th>\n",
              "      <td>0.0</td>\n",
              "      <td>-1.359807</td>\n",
              "      <td>-0.072781</td>\n",
              "      <td>2.536347</td>\n",
              "      <td>1.378155</td>\n",
              "      <td>-0.338321</td>\n",
              "      <td>0.462388</td>\n",
              "      <td>0.239599</td>\n",
              "      <td>0.098698</td>\n",
              "      <td>0.363787</td>\n",
              "      <td>0.090794</td>\n",
              "      <td>-0.551600</td>\n",
              "      <td>-0.617801</td>\n",
              "      <td>-0.991390</td>\n",
              "      <td>-0.311169</td>\n",
              "      <td>1.468177</td>\n",
              "      <td>-0.470401</td>\n",
              "      <td>0.207971</td>\n",
              "      <td>0.025791</td>\n",
              "      <td>0.403993</td>\n",
              "      <td>0.251412</td>\n",
              "      <td>-0.018307</td>\n",
              "      <td>0.277838</td>\n",
              "      <td>-0.110474</td>\n",
              "      <td>0.066928</td>\n",
              "      <td>0.128539</td>\n",
              "      <td>-0.189115</td>\n",
              "      <td>0.133558</td>\n",
              "      <td>-0.021053</td>\n",
              "      <td>149.62</td>\n",
              "      <td>0</td>\n",
              "    </tr>\n",
              "    <tr>\n",
              "      <th>1</th>\n",
              "      <td>0.0</td>\n",
              "      <td>1.191857</td>\n",
              "      <td>0.266151</td>\n",
              "      <td>0.166480</td>\n",
              "      <td>0.448154</td>\n",
              "      <td>0.060018</td>\n",
              "      <td>-0.082361</td>\n",
              "      <td>-0.078803</td>\n",
              "      <td>0.085102</td>\n",
              "      <td>-0.255425</td>\n",
              "      <td>-0.166974</td>\n",
              "      <td>1.612727</td>\n",
              "      <td>1.065235</td>\n",
              "      <td>0.489095</td>\n",
              "      <td>-0.143772</td>\n",
              "      <td>0.635558</td>\n",
              "      <td>0.463917</td>\n",
              "      <td>-0.114805</td>\n",
              "      <td>-0.183361</td>\n",
              "      <td>-0.145783</td>\n",
              "      <td>-0.069083</td>\n",
              "      <td>-0.225775</td>\n",
              "      <td>-0.638672</td>\n",
              "      <td>0.101288</td>\n",
              "      <td>-0.339846</td>\n",
              "      <td>0.167170</td>\n",
              "      <td>0.125895</td>\n",
              "      <td>-0.008983</td>\n",
              "      <td>0.014724</td>\n",
              "      <td>2.69</td>\n",
              "      <td>0</td>\n",
              "    </tr>\n",
              "    <tr>\n",
              "      <th>2</th>\n",
              "      <td>1.0</td>\n",
              "      <td>-1.358354</td>\n",
              "      <td>-1.340163</td>\n",
              "      <td>1.773209</td>\n",
              "      <td>0.379780</td>\n",
              "      <td>-0.503198</td>\n",
              "      <td>1.800499</td>\n",
              "      <td>0.791461</td>\n",
              "      <td>0.247676</td>\n",
              "      <td>-1.514654</td>\n",
              "      <td>0.207643</td>\n",
              "      <td>0.624501</td>\n",
              "      <td>0.066084</td>\n",
              "      <td>0.717293</td>\n",
              "      <td>-0.165946</td>\n",
              "      <td>2.345865</td>\n",
              "      <td>-2.890083</td>\n",
              "      <td>1.109969</td>\n",
              "      <td>-0.121359</td>\n",
              "      <td>-2.261857</td>\n",
              "      <td>0.524980</td>\n",
              "      <td>0.247998</td>\n",
              "      <td>0.771679</td>\n",
              "      <td>0.909412</td>\n",
              "      <td>-0.689281</td>\n",
              "      <td>-0.327642</td>\n",
              "      <td>-0.139097</td>\n",
              "      <td>-0.055353</td>\n",
              "      <td>-0.059752</td>\n",
              "      <td>378.66</td>\n",
              "      <td>0</td>\n",
              "    </tr>\n",
              "    <tr>\n",
              "      <th>3</th>\n",
              "      <td>1.0</td>\n",
              "      <td>-0.966272</td>\n",
              "      <td>-0.185226</td>\n",
              "      <td>1.792993</td>\n",
              "      <td>-0.863291</td>\n",
              "      <td>-0.010309</td>\n",
              "      <td>1.247203</td>\n",
              "      <td>0.237609</td>\n",
              "      <td>0.377436</td>\n",
              "      <td>-1.387024</td>\n",
              "      <td>-0.054952</td>\n",
              "      <td>-0.226487</td>\n",
              "      <td>0.178228</td>\n",
              "      <td>0.507757</td>\n",
              "      <td>-0.287924</td>\n",
              "      <td>-0.631418</td>\n",
              "      <td>-1.059647</td>\n",
              "      <td>-0.684093</td>\n",
              "      <td>1.965775</td>\n",
              "      <td>-1.232622</td>\n",
              "      <td>-0.208038</td>\n",
              "      <td>-0.108300</td>\n",
              "      <td>0.005274</td>\n",
              "      <td>-0.190321</td>\n",
              "      <td>-1.175575</td>\n",
              "      <td>0.647376</td>\n",
              "      <td>-0.221929</td>\n",
              "      <td>0.062723</td>\n",
              "      <td>0.061458</td>\n",
              "      <td>123.50</td>\n",
              "      <td>0</td>\n",
              "    </tr>\n",
              "    <tr>\n",
              "      <th>4</th>\n",
              "      <td>2.0</td>\n",
              "      <td>-1.158233</td>\n",
              "      <td>0.877737</td>\n",
              "      <td>1.548718</td>\n",
              "      <td>0.403034</td>\n",
              "      <td>-0.407193</td>\n",
              "      <td>0.095921</td>\n",
              "      <td>0.592941</td>\n",
              "      <td>-0.270533</td>\n",
              "      <td>0.817739</td>\n",
              "      <td>0.753074</td>\n",
              "      <td>-0.822843</td>\n",
              "      <td>0.538196</td>\n",
              "      <td>1.345852</td>\n",
              "      <td>-1.119670</td>\n",
              "      <td>0.175121</td>\n",
              "      <td>-0.451449</td>\n",
              "      <td>-0.237033</td>\n",
              "      <td>-0.038195</td>\n",
              "      <td>0.803487</td>\n",
              "      <td>0.408542</td>\n",
              "      <td>-0.009431</td>\n",
              "      <td>0.798278</td>\n",
              "      <td>-0.137458</td>\n",
              "      <td>0.141267</td>\n",
              "      <td>-0.206010</td>\n",
              "      <td>0.502292</td>\n",
              "      <td>0.219422</td>\n",
              "      <td>0.215153</td>\n",
              "      <td>69.99</td>\n",
              "      <td>0</td>\n",
              "    </tr>\n",
              "  </tbody>\n",
              "</table>\n",
              "</div>"
            ],
            "text/plain": [
              "   Time        V1        V2        V3  ...       V27       V28  Amount  Class\n",
              "0   0.0 -1.359807 -0.072781  2.536347  ...  0.133558 -0.021053  149.62      0\n",
              "1   0.0  1.191857  0.266151  0.166480  ... -0.008983  0.014724    2.69      0\n",
              "2   1.0 -1.358354 -1.340163  1.773209  ... -0.055353 -0.059752  378.66      0\n",
              "3   1.0 -0.966272 -0.185226  1.792993  ...  0.062723  0.061458  123.50      0\n",
              "4   2.0 -1.158233  0.877737  1.548718  ...  0.219422  0.215153   69.99      0\n",
              "\n",
              "[5 rows x 31 columns]"
            ]
          },
          "metadata": {
            "tags": []
          },
          "execution_count": 4
        }
      ]
    },
    {
      "cell_type": "code",
      "metadata": {
        "colab": {
          "base_uri": "https://localhost:8080/"
        },
        "id": "qsQyVecrvII-",
        "outputId": "0416275d-bea1-43b4-a493-0b1852df6a66"
      },
      "source": [
        "# Count total fraud\n",
        "print(\"Number of fraudulent transactions:\", data[\"Class\"].sum())"
      ],
      "execution_count": 5,
      "outputs": [
        {
          "output_type": "stream",
          "text": [
            "Number of fraudulent transactions: 492\n"
          ],
          "name": "stdout"
        }
      ]
    },
    {
      "cell_type": "code",
      "metadata": {
        "id": "qNyCPfdBvcfU"
      },
      "source": [
        "# Split to train and test and scale features\n",
        "data_x = data.drop([\"Class\"], axis=1)\n",
        "data_y = data.loc[:, \"Class\"].copy()\n",
        "\n",
        "x_train, x_test, y_train, y_test = train_test_split(data_x, data_y, test_size=0.33, random_state=2020, stratify=data_y)\n",
        "\n",
        "features_to_scale = x_train.columns\n",
        "sx = pp.StandardScaler(copy=True)\n",
        "x_train.loc[:, features_to_scale] = sx.fit_transform(x_train.loc[:, features_to_scale])\n",
        "x_test.loc[:, features_to_scale] = sx.fit_transform(x_test.loc[:, features_to_scale])"
      ],
      "execution_count": 6,
      "outputs": []
    },
    {
      "cell_type": "markdown",
      "metadata": {
        "id": "Cm48rTB-w35B"
      },
      "source": [
        "###Define Anomaly Score Function"
      ]
    },
    {
      "cell_type": "markdown",
      "metadata": {
        "id": "AOL99M19w4sT"
      },
      "source": [
        "As we know, dimensionality reduction algorithms\n",
        "reduce the dimensionality of data while attempting to minimize the\n",
        "reconstruction error. In other words, these algorithms try to capture the most\n",
        "salient information of the original features in such a way that they can\n",
        "reconstruct the original feature set from the reduced feature set as well as\n",
        "possible. \n",
        "\n",
        "However, these dimensionality reduction algorithms cannot capture all\n",
        "the information of the original features as they move to a lower dimensional\n",
        "space; therefore, there will be some error as these algorithms reconstruct the reduced feature set back to the original number of dimensions.\n",
        "\n",
        "In the context of our credit card transactions dataset, the algorithms will have the\n",
        "largest reconstruction error on those transactions that are hardest to model—in\n",
        "other words, those that occur the least often and are the most anomalous. Since\n",
        "fraud is rare and presumably different than normal transactions, the fraudulent\n",
        "transactions should exhibit the largest reconstruction error.\n",
        "\n",
        "So let’s define the\n",
        "anomaly score as the reconstruction error. The reconstruction error for each\n",
        "transaction is the sum of the squared differences between the original feature\n",
        "matrix and the reconstructed matrix using the dimensionality reduction\n",
        "algorithm. \n",
        "\n",
        "We will scale the sum of the squared differences by the max-min\n",
        "range of the sum of the squared differences for the entire dataset, so that all the reconstruction errors are within a zero to one range.\n",
        "\n",
        "The transactions that have the largest sum of squared differences will have an\n",
        "error close to one, while those that have the smallest sum of squared differences will have an error close to zero."
      ]
    },
    {
      "cell_type": "code",
      "metadata": {
        "id": "AiPG4KhWwsrt"
      },
      "source": [
        "# Calculate reconstruction error\n",
        "def anomaly_scores(original_df, reduced_df):\n",
        "  loss = np.sum((np.array(original_df) - np.array(reduced_df)) ** 2, axis=1)\n",
        "  loss = pd.Series(data=loss, index=original_df.index)\n",
        "  loss = (loss - np.min(loss)) / (np.max(loss) - np.min(loss))\n",
        "\n",
        "  return loss"
      ],
      "execution_count": 7,
      "outputs": []
    },
    {
      "cell_type": "markdown",
      "metadata": {
        "id": "sEohdY8U0gnB"
      },
      "source": [
        "###Define Evaluation Metrics"
      ]
    },
    {
      "cell_type": "markdown",
      "metadata": {
        "id": "Ug0YJDHc0hZb"
      },
      "source": [
        "Although we will not use the fraud labels to build the unsupervised fraud\n",
        "detection solutions, we will use the labels to evaluate the unsupervised solutions\n",
        "we develop. The labels will help us understand just how well these solutions are\n",
        "at catching known patterns of fraud."
      ]
    },
    {
      "cell_type": "code",
      "metadata": {
        "id": "P91SNHSQy-Nw"
      },
      "source": [
        "# Plot results\n",
        "def plot_results(trueLabels, anomalyScores, returnPreds = False):\n",
        "  preds = pd.concat([trueLabels, anomalyScores], axis=1)\n",
        "  preds.columns = ['trueLabel', 'anomalyScore']\n",
        "  precision, recall, thresholds = precision_recall_curve(preds['trueLabel'],preds['anomalyScore'])\n",
        "  average_precision = average_precision_score(preds['trueLabel'],preds['anomalyScore'])\n",
        "  \n",
        "  plt.step(recall, precision, color='k', alpha=0.7, where='post')\n",
        "  plt.fill_between(recall, precision, step='post', alpha=0.3, color='k')\n",
        "\n",
        "  plt.xlabel('Recall')\n",
        "  plt.ylabel('Precision')\n",
        "  plt.ylim([0.0, 1.05])\n",
        "  plt.xlim([0.0, 1.0])\n",
        "  \n",
        "  plt.title('Precision-Recall curve: Average Precision = \\\n",
        "  {0:0.2f}'.format(average_precision))\n",
        "\n",
        "  fpr, tpr, thresholds = roc_curve(preds['trueLabel'], \\\n",
        "                                    preds['anomalyScore'])\n",
        "  areaUnderROC = auc(fpr, tpr)\n",
        "\n",
        "  plt.figure()\n",
        "  plt.plot(fpr, tpr, color='r', lw=2, label='ROC curve')\n",
        "  plt.plot([0, 1], [0, 1], color='k', lw=2, linestyle='--')\n",
        "  plt.xlim([0.0, 1.0])\n",
        "  plt.ylim([0.0, 1.05])\n",
        "  plt.xlabel('False Positive Rate')\n",
        "  plt.ylabel('True Positive Rate')\n",
        "  plt.title('Receiver operating characteristic: \\\n",
        "  Area under the curve = {0:0.2f}'.format(areaUnderROC))\n",
        "  plt.legend(loc=\"lower right\")\n",
        "  plt.show()\n",
        "  \n",
        "  if returnPreds==True:\n",
        "      return preds"
      ],
      "execution_count": 8,
      "outputs": []
    },
    {
      "cell_type": "markdown",
      "metadata": {
        "id": "Cg4ol6YS0uqy"
      },
      "source": [
        "###Define Plotting Function"
      ]
    },
    {
      "cell_type": "markdown",
      "metadata": {
        "id": "mZ6398GN0vVQ"
      },
      "source": [
        "We will use the scatterplot function to display the separation of points the dimensionality reduction algorithm achieves in just the first two dimensions:"
      ]
    },
    {
      "cell_type": "code",
      "metadata": {
        "id": "lO94iCBq0set"
      },
      "source": [
        "# View scatterplot\n",
        "def scatterPlot(xDF, yDF, algoName):\n",
        "  tempDF = pd.DataFrame(data=xDF.loc[:,0:1], index=xDF.index)\n",
        "  tempDF = pd.concat((tempDF,yDF), axis=1, join=\"inner\")\n",
        "  tempDF.columns = [\"First Vector\", \"Second Vector\", \"Label\"]\n",
        "  sns.lmplot(x=\"First Vector\", y=\"Second Vector\", hue=\"Label\", data=tempDF, fit_reg=False)\n",
        "  ax = plt.gca()\n",
        "  ax.set_title(\"Separation of Observations using \"+algoName)"
      ],
      "execution_count": 9,
      "outputs": []
    },
    {
      "cell_type": "markdown",
      "metadata": {
        "id": "27WmGxEF1N-y"
      },
      "source": [
        "##Normal PCA"
      ]
    },
    {
      "cell_type": "markdown",
      "metadata": {
        "id": "idxaZc4v1O1Q"
      },
      "source": [
        "We will now use PCA to learn the underlying structure of the credit card transactions dataset. Once we learn this structure, we will use\n",
        "the learned model to reconstruct the credit card transactions and then calculate\n",
        "how different the reconstructed transactions are from the original transactions.\n",
        "Those transactions that PCA does the poorest job of reconstructing are the most\n",
        "anomalous (and most likely to be fraudulent).\n",
        "\n",
        "As\n",
        "we’ve defined it, anomaly detection relies on reconstruction error. We want the\n",
        "reconstruction error for rare transactions—the ones that are most likely to be\n",
        "fraudulent—to be as high as possible and the reconstruction error for the rest to be as low as possible.\n",
        "\n",
        "For PCA, the reconstruction error will depend largely on the number of principal\n",
        "components we keep and use to reconstruct the original transactions. The more\n",
        "principal components we keep, the better PCA will be at learning the underlying\n",
        "structure of the original transactions.\n",
        "\n",
        "However, there is a balance. If we keep too many principal components, PCA\n",
        "may too easily reconstruct the original transactions, so much so that the\n",
        "reconstruction error will be minimal for all of the transactions. If we keep too\n",
        "few principal components, PCA may not be able to reconstruct any of the\n",
        "original transactions well enough—not even the normal, nonfraudulent\n",
        "transactions."
      ]
    },
    {
      "cell_type": "markdown",
      "metadata": {
        "id": "HNzfFK3ftvdd"
      },
      "source": [
        "###PCA Components Equal Number of Original Dimensions"
      ]
    },
    {
      "cell_type": "markdown",
      "metadata": {
        "id": "ScdVQFSttvvr"
      },
      "source": [
        "If we use PCA to generate the same number of principal components as the number of original features, will we be able to perform anomaly detection?\n",
        "\n",
        "When the number of principal components equals the number of original\n",
        "dimensions, PCA captures nearly 100% of the variance/information in the data\n",
        "as it generates the principal components. \n",
        "\n",
        "Therefore, when PCA reconstructs the transactions from the principal components, it will have too little reconstruction\n",
        "error for all the transactions, fraudulent or otherwise. We will not be able to\n",
        "differentiate between rare transactions and normal ones—in other words,\n",
        "anomaly detection will be poor.\n",
        "\n",
        "To highlight this, let’s apply PCA to generate the same number of principal\n",
        "components as the number of original features (30 for our credit card\n",
        "transactions dataset)."
      ]
    },
    {
      "cell_type": "code",
      "metadata": {
        "id": "2j56B_nD1Ki4",
        "colab": {
          "base_uri": "https://localhost:8080/",
          "height": 399
        },
        "outputId": "e70445c2-7e85-44d3-fa78-55ef0599c527"
      },
      "source": [
        "n_components = 30\n",
        "whiten = False\n",
        "random_state = 2020\n",
        "\n",
        "pca = PCA(n_components=n_components, whiten=whiten, random_state=random_state)\n",
        "\n",
        "x_train_pca = pca.fit_transform(x_train)\n",
        "x_train_pca = pd.DataFrame(data=x_train_pca, index=x_train.index)\n",
        "\n",
        "# To reconstruct the original transactions from the generated principal components\n",
        "x_train_pca_inverse = pca.inverse_transform(x_train_pca)\n",
        "x_train_pca_inverse = pd.DataFrame(data=x_train_pca_inverse, index=x_train.index)\n",
        "\n",
        "scatterPlot(x_train_pca, y_train, \"PCA\")"
      ],
      "execution_count": 10,
      "outputs": [
        {
          "output_type": "display_data",
          "data": {
            "image/png": "[encoded data removed]",
            "text/plain": [
              "<Figure size 402.375x360 with 1 Axes>"
            ]
          },
          "metadata": {
            "tags": [],
            "needs_background": "light"
          }
        }
      ]
    },
    {
      "cell_type": "markdown",
      "metadata": {
        "id": "MwKJCi_PwWe7"
      },
      "source": [
        "Let’s calculate the precision-recall curve and the ROC curve."
      ]
    },
    {
      "cell_type": "code",
      "metadata": {
        "id": "1Ga1ooexwQWz",
        "colab": {
          "base_uri": "https://localhost:8080/",
          "height": 573
        },
        "outputId": "030cdfef-c116-4fdd-8724-42c729407a99"
      },
      "source": [
        "anomalyScoresPCA = anomaly_scores(x_train, x_train_pca_inverse)\n",
        "preds = plot_results(y_train, anomalyScoresPCA, True)"
      ],
      "execution_count": 11,
      "outputs": [
        {
          "output_type": "display_data",
          "data": {
            "image/png": "[encoded data removed]",
            "text/plain": [
              "<Figure size 432x288 with 1 Axes>"
            ]
          },
          "metadata": {
            "tags": [],
            "needs_background": "light"
          }
        },
        {
          "output_type": "display_data",
          "data": {
            "image/png": "[encoded data removed]",
            "text/plain": [
              "<Figure size 432x288 with 1 Axes>"
            ]
          },
          "metadata": {
            "tags": [],
            "needs_background": "light"
          }
        }
      ]
    },
    {
      "cell_type": "markdown",
      "metadata": {
        "id": "Y7IGsrJ_wq6-"
      },
      "source": [
        "With an average precision of 0.11, this is a poor fraud detection solution.It catches very little of the fraud."
      ]
    },
    {
      "cell_type": "markdown",
      "metadata": {
        "id": "CvlWUtmQww8T"
      },
      "source": [
        "###Search for the Optimal Number of Principal Components"
      ]
    },
    {
      "cell_type": "markdown",
      "metadata": {
        "id": "3bN5oR-zwx6S"
      },
      "source": [
        "Now, let’s perform a few experiments by reducing the number of principal\n",
        "components PCA generates and evaluate the fraud detection results. We need the\n",
        "PCA-based fraud detection solution to have enough error on the rare cases that it\n",
        "can meaningfully separate fraud cases from the normal ones. But the error\n",
        "cannot be so low or so high for all the transactions that the rare and normal\n",
        "transactions are virtually indistinguishable.\n",
        "\n",
        "After some experimentation,we find that 27 principal components is the optimal number for this credit card transactions dataset."
      ]
    },
    {
      "cell_type": "code",
      "metadata": {
        "id": "ETCU65iLwkpk",
        "colab": {
          "base_uri": "https://localhost:8080/",
          "height": 399
        },
        "outputId": "ab1051a0-7f65-4118-f669-7925a0b2aa61"
      },
      "source": [
        "n_components = 27\n",
        "whiten = False\n",
        "random_state = 2020\n",
        "\n",
        "pca = PCA(n_components=n_components, whiten=whiten, random_state=random_state)\n",
        "\n",
        "X_train_PCA = pca.fit_transform(x_train)\n",
        "X_train_PCA = pd.DataFrame(data=X_train_PCA, index=x_train.index)\n",
        "\n",
        "X_train_PCA_inverse = pca.inverse_transform(X_train_PCA)\n",
        "X_train_PCA_inverse = pd.DataFrame(data=X_train_PCA_inverse, index=x_train.index)\n",
        "\n",
        "scatterPlot(X_train_PCA, y_train, \"PCA\")"
      ],
      "execution_count": 12,
      "outputs": [
        {
          "output_type": "display_data",
          "data": {
            "image/png": "[encoded data removed]",
            "text/plain": [
              "<Figure size 402.375x360 with 1 Axes>"
            ]
          },
          "metadata": {
            "tags": [],
            "needs_background": "light"
          }
        }
      ]
    },
    {
      "cell_type": "code",
      "metadata": {
        "id": "p6SW1SJn1Gco",
        "colab": {
          "base_uri": "https://localhost:8080/",
          "height": 573
        },
        "outputId": "0962aa4e-818f-4c60-b576-6b5c15ac3812"
      },
      "source": [
        "anomaly_scores_pca = anomaly_scores(x_train, x_train_pca_inverse)\n",
        "preds = plot_results(y_train, anomaly_scores_pca, True)"
      ],
      "execution_count": 13,
      "outputs": [
        {
          "output_type": "display_data",
          "data": {
            "image/png": "[encoded data removed]",
            "text/plain": [
              "<Figure size 432x288 with 1 Axes>"
            ]
          },
          "metadata": {
            "tags": [],
            "needs_background": "light"
          }
        },
        {
          "output_type": "display_data",
          "data": {
            "image/png": "[encoded data removed]",
            "text/plain": [
              "<Figure size 432x288 with 1 Axes>"
            ]
          },
          "metadata": {
            "tags": [],
            "needs_background": "light"
          }
        }
      ]
    },
    {
      "cell_type": "markdown",
      "metadata": {
        "id": "a631YZmS4EIR"
      },
      "source": [
        "As you can see, we are able to catch 80% of the fraud with 75% precision. This\n",
        "is very impressive considering that we did not use any labels. To make these\n",
        "results more tangible, consider that there are 190,820 transactions in the training set and only 330 are fraudulent.\n",
        "\n",
        "Using PCA, we calculated the reconstruction error for each of these 190,820\n",
        "transactions. If we sort these transactions by highest reconstruction error (also\n",
        "referred to as anomaly score) in descending order and extract the top 350\n",
        "transactions from the list, we can see that 264 of these transactions are\n",
        "fraudulent.\n",
        "\n",
        "That is a precision of 75%. Moreover, the 264 transactions we caught from the\n",
        "350 we picked represent 80% of the total fraud in the training set (264 out of 330 fraudulent cases). And, remember that we accomplished this without using\n",
        "labels. This is a truly unsupervised fraud detection solution."
      ]
    },
    {
      "cell_type": "code",
      "metadata": {
        "id": "Zvf4k3aW1LS_",
        "colab": {
          "base_uri": "https://localhost:8080/"
        },
        "outputId": "471bafec-a52e-4ec2-8f5e-29332bf51bf8"
      },
      "source": [
        "#  Analyze results\n",
        "preds.sort_values(by=\"anomalyScore\", ascending=False, inplace=True)\n",
        "cutoff = 350\n",
        "top_preds = preds[:cutoff]\n",
        "\n",
        "print(\"Precision: \", np.round(top_preds.anomalyScore[top_preds.trueLabel==1].count() / cutoff, 2))\n",
        "print(\"Recall: \", np.round(top_preds.anomalyScore[top_preds.trueLabel==1].count()/y_train.sum(),2))\n",
        "print(\"Fraud Caught out of 330 Cases:\", top_preds.trueLabel.sum())"
      ],
      "execution_count": 14,
      "outputs": [
        {
          "output_type": "stream",
          "text": [
            "Precision:  0.26\n",
            "Recall:  0.28\n",
            "Fraud Caught out of 330 Cases: 91\n"
          ],
          "name": "stdout"
        }
      ]
    },
    {
      "cell_type": "code",
      "metadata": {
        "id": "irzpMmsJ4yXU"
      },
      "source": [
        "# Select all 330 fraud and 2000 non-fraud\n",
        "fraud_indices = y_train[y_train==1].index\n",
        "non_fraud_indices = resample(y_train[y_train==0], n_samples=2000, random_state=2021).index\n",
        "sample_indices = fraud_indices.append(non_fraud_indices)"
      ],
      "execution_count": 15,
      "outputs": []
    },
    {
      "cell_type": "code",
      "metadata": {
        "id": "RIXNqF825UEA"
      },
      "source": [
        "# Log data\n",
        "!mkdir logs\n",
        "!mkdir logs/04_anomaly_detection_credit_card_fraud\n",
        "\n",
        "log_dir = \"logs/04_anomaly_detection_credit_card_fraud/\"\n",
        "y_train[sample_indices].to_csv(log_dir+'labels.tsv', sep = '\\t', index=False, header=False)"
      ],
      "execution_count": 16,
      "outputs": []
    },
    {
      "cell_type": "code",
      "metadata": {
        "id": "XFCQ1IaF5hMr"
      },
      "source": [
        "# Write dimensions to TSV\n",
        "x_train_pca.loc[sample_indices,:].to_csv(log_dir+'pca_data.tsv', sep = '\\t', index=False, header=False)"
      ],
      "execution_count": 17,
      "outputs": []
    },
    {
      "cell_type": "markdown",
      "metadata": {
        "id": "yeN2SHMk6DV_"
      },
      "source": [
        "##Sparse PCA"
      ]
    },
    {
      "cell_type": "markdown",
      "metadata": {
        "id": "iXFL70Ke6GP_"
      },
      "source": [
        "Sparse PCA is similar to normal PCA but delivers a less dense version; in other\n",
        "words, sparse PCA provides a sparse representation of the principal components.\n",
        "\n",
        "Note that for normal PCA Scikit-Learn used a fit_transform function to\n",
        "generate the principal components and an inverse_transform function to\n",
        "reconstruct the original dimensions from the principal components. Using these\n",
        "two functions, we were able to calculate the reconstruction error between the\n",
        "original feature set and the reconstructed feature set derived from the PCA.\n",
        "\n",
        "Unfortunately, Scikit-Learn does not provide an inverse_transform function for sparse PCA. Therefore, we must reconstruct the original dimensions after we\n",
        "perform sparse PCA ourselves.\n",
        "\n",
        "Let’s begin by generating the sparse PCA matrix with 27 principal components\n",
        "and the default alpha parameter of 0.0001:"
      ]
    },
    {
      "cell_type": "code",
      "metadata": {
        "id": "0q2o_6f051sM",
        "outputId": "c10af053-215e-469d-8f19-f62798fc5055",
        "colab": {
          "base_uri": "https://localhost:8080/",
          "height": 399
        }
      },
      "source": [
        "n_components = 27\n",
        "alpha = 0.0001\n",
        "random_state = 2018\n",
        "n_jobs = -1\n",
        "\n",
        "sparsePCA = SparsePCA(n_components=n_components, alpha=alpha, random_state=random_state, n_jobs=n_jobs)\n",
        "\n",
        "sparsePCA.fit(x_train.loc[:,:])\n",
        "X_train_sparsePCA = sparsePCA.transform(x_train)\n",
        "X_train_sparsePCA = pd.DataFrame(data=X_train_sparsePCA, index=x_train.index)\n",
        "\n",
        "scatterPlot(X_train_sparsePCA, y_train, \"Sparse PCA\")"
      ],
      "execution_count": 37,
      "outputs": [
        {
          "output_type": "display_data",
          "data": {
            "image/png": "[encoded data removed]",
            "text/plain": [
              "<Figure size 402.375x360 with 1 Axes>"
            ]
          },
          "metadata": {
            "tags": [],
            "needs_background": "light"
          }
        }
      ]
    },
    {
      "cell_type": "markdown",
      "metadata": {
        "id": "PhH4ZaR47PHJ"
      },
      "source": [
        "Now let’s generate the original dimensions from the sparse PCA matrix by\n",
        "simple matrix multiplication of the sparse PCA matrix (with 190,820 samples\n",
        "and 27 dimensions) and the sparse PCA components (a 27 x 30 matrix), provided\n",
        "by Scikit-Learn library. \n",
        "\n",
        "This creates a matrix that is the original size (a 190,820\n",
        "x 30 matrix). We also need to add the mean of each original feature to this new\n",
        "matrix, but then we are done.\n",
        "\n",
        "From this newly derived inverse matrix, we can calculate the reconstruction\n",
        "errors (anomaly scores) as we did with normal PCA:"
      ]
    },
    {
      "cell_type": "code",
      "metadata": {
        "id": "H-RauvYs9gUL",
        "outputId": "0ddfa9bd-288f-4b5f-8348-6d4060d3fd3a",
        "colab": {
          "base_uri": "https://localhost:8080/"
        }
      },
      "source": [
        "x_train.shape"
      ],
      "execution_count": 38,
      "outputs": [
        {
          "output_type": "execute_result",
          "data": {
            "text/plain": [
              "(190820, 30)"
            ]
          },
          "metadata": {
            "tags": []
          },
          "execution_count": 38
        }
      ]
    },
    {
      "cell_type": "code",
      "metadata": {
        "id": "lnh0z-2O9jMw",
        "outputId": "7e985b88-7df3-40d0-8df1-89f6f6d7847e",
        "colab": {
          "base_uri": "https://localhost:8080/"
        }
      },
      "source": [
        "X_train_sparse_PCA_inverse.shape"
      ],
      "execution_count": 39,
      "outputs": [
        {
          "output_type": "execute_result",
          "data": {
            "text/plain": [
              "(190820, 27)"
            ]
          },
          "metadata": {
            "tags": []
          },
          "execution_count": 39
        }
      ]
    },
    {
      "cell_type": "code",
      "metadata": {
        "id": "tO4JwBwL6591",
        "outputId": "f55d57e9-a976-4986-bec3-7fa67392e869",
        "colab": {
          "base_uri": "https://localhost:8080/",
          "height": 573
        }
      },
      "source": [
        "# View plot\n",
        "X_train_sparsePCA_inverse = np.array(X_train_sparsePCA).dot(sparsePCA.components_) + np.array(x_train.mean(axis=0))\n",
        "X_train_sparsePCA_inverse = pd.DataFrame(data=X_train_sparsePCA_inverse, index=x_train.index)\n",
        "\n",
        "anomalyScoresSparsePCA = anomaly_scores(x_train, X_train_sparsePCA_inverse)\n",
        "preds = plot_results(y_train, anomalyScoresSparsePCA, True)"
      ],
      "execution_count": 42,
      "outputs": [
        {
          "output_type": "display_data",
          "data": {
            "image/png": "[encoded data removed]",
            "text/plain": [
              "<Figure size 432x288 with 1 Axes>"
            ]
          },
          "metadata": {
            "tags": [],
            "needs_background": "light"
          }
        },
        {
          "output_type": "display_data",
          "data": {
            "image/png": "[encoded data removed]",
            "text/plain": [
              "<Figure size 432x288 with 1 Axes>"
            ]
          },
          "metadata": {
            "tags": [],
            "needs_background": "light"
          }
        }
      ]
    },
    {
      "cell_type": "markdown",
      "metadata": {
        "id": "UIhP59OJBlKK"
      },
      "source": [
        "##Kernel PCA"
      ]
    },
    {
      "cell_type": "markdown",
      "metadata": {
        "id": "O_h8E9uVBmUD"
      },
      "source": [
        ""
      ]
    },
    {
      "cell_type": "code",
      "metadata": {
        "id": "GTZCbcRx9QUr"
      },
      "source": [
        ""
      ],
      "execution_count": null,
      "outputs": []
    }
  ]
}