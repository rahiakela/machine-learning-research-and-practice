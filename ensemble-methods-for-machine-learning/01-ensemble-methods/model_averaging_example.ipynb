{
  "nbformat": 4,
  "nbformat_minor": 0,
  "metadata": {
    "colab": {
      "provenance": [],
      "toc_visible": true,
      "authorship_tag": "ABX9TyMZGwM+zi+lA0Qwbnfnfc+H",
      "include_colab_link": true
    },
    "kernelspec": {
      "name": "python3",
      "display_name": "Python 3"
    },
    "language_info": {
      "name": "python"
    }
  },
  "cells": [
    {
      "cell_type": "markdown",
      "metadata": {
        "id": "view-in-github",
        "colab_type": "text"
      },
      "source": [
        "<a href=\"https://colab.research.google.com/github/rahiakela/machine-learning-research-and-practice/blob/main/ensemble-methods-for-machine-learning/01-ensemble-methods/model_averaging_example.ipynb\" target=\"_parent\"><img src=\"https://colab.research.google.com/assets/colab-badge.svg\" alt=\"Open In Colab\"/></a>"
      ]
    },
    {
      "cell_type": "markdown",
      "source": [
        "##A Simple Model Averaging Ensemble"
      ],
      "metadata": {
        "id": "9L_hOPqkdNP9"
      }
    },
    {
      "cell_type": "markdown",
      "source": [
        "We will build our first ensemble with model averaging for a regression task on the classic benchmark **Boston Housing** data set. \n",
        "\n",
        "First, we load the data set and then standardize the data to be zero-mean, unit standard deviation, and the labels to be in the range [-1, 1]. \n",
        "\n",
        "After standardization, split into training and test sets (67%-33%)."
      ],
      "metadata": {
        "id": "zngwx886dRP2"
      }
    },
    {
      "cell_type": "markdown",
      "source": [
        "##Setup"
      ],
      "metadata": {
        "id": "A0EMrncodha1"
      }
    },
    {
      "cell_type": "code",
      "source": [
        "from sklearn.datasets import load_boston\n",
        "from sklearn.preprocessing import StandardScaler\n",
        "from sklearn.model_selection import train_test_split\n",
        "\n",
        "from sklearn.metrics import r2_score\n",
        "\n",
        "from sklearn.kernel_ridge import KernelRidge\n",
        "from sklearn.svm import SVR\n",
        "from sklearn.tree import DecisionTreeRegressor\n",
        "from sklearn.neighbors import KNeighborsRegressor\n",
        "from sklearn.gaussian_process import GaussianProcessRegressor\n",
        "from sklearn.neural_network import MLPRegressor\n",
        "\n",
        "from itertools import combinations\n",
        "import numpy as np\n",
        "\n",
        "\n",
        "import matplotlib.pyplot as plt\n",
        "%matplotlib inline"
      ],
      "metadata": {
        "id": "gXMARJgNdQsA"
      },
      "execution_count": null,
      "outputs": []
    },
    {
      "cell_type": "markdown",
      "source": [
        "##Dataset"
      ],
      "metadata": {
        "id": "KnGPWMTvfD5D"
      }
    },
    {
      "cell_type": "code",
      "source": [],
      "metadata": {
        "id": "KZen3icTfFAp"
      },
      "execution_count": null,
      "outputs": []
    }
  ]
}