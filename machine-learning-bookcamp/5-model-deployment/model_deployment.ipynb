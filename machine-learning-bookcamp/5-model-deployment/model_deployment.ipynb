{
  "nbformat": 4,
  "nbformat_minor": 0,
  "metadata": {
    "colab": {
      "provenance": [],
      "toc_visible": true,
      "authorship_tag": "ABX9TyNkdx6ogQKSShIuCzCTcqBF",
      "include_colab_link": true
    },
    "kernelspec": {
      "name": "python3",
      "display_name": "Python 3"
    },
    "language_info": {
      "name": "python"
    }
  },
  "cells": [
    {
      "cell_type": "markdown",
      "metadata": {
        "id": "view-in-github",
        "colab_type": "text"
      },
      "source": [
        "<a href=\"https://colab.research.google.com/github/rahiakela/machine-learning-research-and-practice/blob/main/machine-learning-bookcamp/5-model-deployment/model_deployment.ipynb\" target=\"_parent\"><img src=\"https://colab.research.google.com/assets/colab-badge.svg\" alt=\"Open In Colab\"/></a>"
      ]
    },
    {
      "cell_type": "markdown",
      "source": [
        "##Evaluation Metrics"
      ],
      "metadata": {
        "id": "nKiw-jHgceh6"
      }
    },
    {
      "cell_type": "markdown",
      "source": [
        "In this notebook, we cover model deployment: the process of putting models to use. \n",
        "\n",
        "In particular, we see how to package a model inside a web service, so other services can\n",
        "use it. \n",
        "\n",
        "We also see how to deploy the web service to a production-ready environment."
      ],
      "metadata": {
        "id": "n-ZdMvNtchEm"
      }
    },
    {
      "cell_type": "markdown",
      "source": [
        "##Setup"
      ],
      "metadata": {
        "id": "8MqwP3Hzc1Wb"
      }
    },
    {
      "cell_type": "code",
      "source": [
        "import pandas as pd\n",
        "import numpy as np\n",
        "import pickle \n",
        "import requests\n",
        "\n",
        "from sklearn.feature_extraction import DictVectorizer\n",
        "from sklearn.linear_model import LogisticRegression\n",
        "\n",
        "from sklearn.model_selection import train_test_split\n",
        "from sklearn.metrics import roc_auc_score"
      ],
      "metadata": {
        "id": "vpCaukoZc2bM"
      },
      "execution_count": 1,
      "outputs": []
    },
    {
      "cell_type": "code",
      "source": [
        "from google.colab import drive\n",
        "drive.mount('/content/gdrive')"
      ],
      "metadata": {
        "id": "bA6YUwP1c_KM",
        "outputId": "806bacd5-ffc9-4aee-bc12-5ee55f497c12",
        "colab": {
          "base_uri": "https://localhost:8080/"
        }
      },
      "execution_count": 2,
      "outputs": [
        {
          "output_type": "stream",
          "name": "stdout",
          "text": [
            "Mounted at /content/gdrive\n"
          ]
        }
      ]
    },
    {
      "cell_type": "code",
      "source": [
        "import os\n",
        "# content/gdrive/My Drive/Kaggle is the path where kaggle.json is  present in the Google Drive\n",
        "os.environ['KAGGLE_CONFIG_DIR'] = \"/content/gdrive/MyDrive/kaggle-keys\""
      ],
      "metadata": {
        "id": "Khw2AeAidQ7r"
      },
      "execution_count": 3,
      "outputs": []
    },
    {
      "cell_type": "code",
      "source": [
        "%%shell\n",
        "\n",
        "# download dataset from kaggle> URL: https://www.kaggle.com/blastchar/telco-customer-churn\n",
        "kaggle datasets download -d blastchar/telco-customer-churn\n",
        "\n",
        "unzip -qq telco-customer-churn.zip\n",
        "rm -rf telco-customer-churn.zip"
      ],
      "metadata": {
        "id": "8EuMmwDKdXEm"
      },
      "execution_count": null,
      "outputs": []
    },
    {
      "cell_type": "markdown",
      "source": [
        "##Dataset"
      ],
      "metadata": {
        "id": "JKpNUL22eB1f"
      }
    },
    {
      "cell_type": "code",
      "source": [
        "# let’s read our dataset\n",
        "data_df = pd.read_csv(\"WA_Fn-UseC_-Telco-Customer-Churn.csv\")\n",
        "len(data_df)"
      ],
      "metadata": {
        "colab": {
          "base_uri": "https://localhost:8080/"
        },
        "id": "US7ds406eEwl",
        "outputId": "ceafd0b7-f560-41fe-b755-f5e828b2f2d6"
      },
      "execution_count": 5,
      "outputs": [
        {
          "output_type": "execute_result",
          "data": {
            "text/plain": [
              "7043"
            ]
          },
          "metadata": {},
          "execution_count": 5
        }
      ]
    },
    {
      "cell_type": "code",
      "source": [
        "# so, let's set the missing values to zero\n",
        "data_df[\"TotalCharges\"] = pd.to_numeric(data_df.TotalCharges, errors=\"coerce\")\n",
        "data_df[\"TotalCharges\"] = data_df[\"TotalCharges\"].fillna(0)"
      ],
      "metadata": {
        "id": "gJ6bAyO3BM0s"
      },
      "execution_count": 6,
      "outputs": []
    },
    {
      "cell_type": "code",
      "source": [
        "# Let’s make the column names uniform by lowercasing everything and replacing spaces with underscores\n",
        "data_df.columns = data_df.columns.str.lower().str.replace(\" \", \"_\")\n",
        "string_columns = list(data_df.dtypes[data_df.dtypes == \"object\"].index)\n",
        "\n",
        "for col in string_columns:\n",
        "  data_df[col] = data_df[col].str.lower().str.replace(\" \", \"_\")"
      ],
      "metadata": {
        "id": "8RxmSWRRCIIn"
      },
      "execution_count": 7,
      "outputs": []
    },
    {
      "cell_type": "code",
      "source": [
        "# so, let’s convert the target variable to numbers\n",
        "data_df.churn = (data_df.churn == \"yes\").astype(int)"
      ],
      "metadata": {
        "id": "pqq7tWy_DBFf"
      },
      "execution_count": 8,
      "outputs": []
    },
    {
      "cell_type": "code",
      "source": [
        "# split such that 80% of the data goes to the train set and the remaining 20% goes to the test set.\n",
        "df_train_full, df_test = train_test_split(data_df, test_size=0.2, random_state=1)\n",
        "\n",
        "df_train_full = df_train_full.reset_index(drop=True)\n",
        "df_test = df_test.reset_index(drop=True)"
      ],
      "metadata": {
        "id": "CPM1VXhp2jmc"
      },
      "execution_count": 10,
      "outputs": []
    },
    {
      "cell_type": "code",
      "source": [
        "# let's split it one more time into train and validation\n",
        "df_train, df_val = train_test_split(df_train_full, test_size=0.33, random_state=11)\n",
        "df_train = df_train.reset_index(drop=True)\n",
        "df_val = df_val.reset_index(drop=True)"
      ],
      "metadata": {
        "id": "jMF2Y3fq609Q"
      },
      "execution_count": 12,
      "outputs": []
    },
    {
      "cell_type": "code",
      "source": [
        "# Takes the column with the target variable, churn, and saves it outside the dataframe\n",
        "y_train = df_train.churn.values\n",
        "y_val = df_val.churn.values"
      ],
      "metadata": {
        "id": "Q0pd3UeC7uwG"
      },
      "execution_count": 13,
      "outputs": []
    },
    {
      "cell_type": "code",
      "source": [
        "# Deletes the churn columns\n",
        "del df_train[\"churn\"]\n",
        "del df_val[\"churn\"]"
      ],
      "metadata": {
        "id": "n_M-124_78Ae"
      },
      "execution_count": 14,
      "outputs": []
    },
    {
      "cell_type": "code",
      "source": [
        "# let's create two lists for categorical and numerical variables\n",
        "categorical_cols = [\n",
        "  'gender', 'seniorcitizen', 'partner', 'dependents',\n",
        "  'phoneservice', 'multiplelines', 'internetservice',\n",
        "  'onlinesecurity', 'onlinebackup', 'deviceprotection',\n",
        "  'techsupport', 'streamingtv', 'streamingmovies',\n",
        "  'contract', 'paperlessbilling', 'paymentmethod'\n",
        "]\n",
        "\n",
        "numerical_cols = ['tenure', 'monthlycharges', 'totalcharges']"
      ],
      "metadata": {
        "id": "-KciNwlaWnDb"
      },
      "execution_count": 15,
      "outputs": []
    },
    {
      "cell_type": "markdown",
      "source": [
        "##Model"
      ],
      "metadata": {
        "id": "ihUFw9Vx3ZZ-"
      }
    },
    {
      "cell_type": "code",
      "source": [
        "def train(df, y, C):\n",
        "  # Applies one-hot encoding\n",
        "  cat = df[categorical_cols + numerical_cols].to_dict(orient=\"records\")\n",
        "\n",
        "  dv = DictVectorizer(sparse=False)\n",
        "  dv.fit(cat)\n",
        "\n",
        "  X = dv.transform(cat)\n",
        "\n",
        "  model = LogisticRegression(solver=\"liblinear\", C=C)\n",
        "  model.fit(X, y)\n",
        "  return dv, model\n",
        "\n",
        "def predict(df, dv, model):\n",
        "  cat = df[categorical_cols + numerical_cols].to_dict(orient=\"records\")\n",
        "\n",
        "  X = dv.transform(cat)\n",
        "\n",
        "  y_pred = model.predict_proba(X)[:, 1]\n",
        "  return y_pred"
      ],
      "metadata": {
        "id": "t_5IDm2bYrEv"
      },
      "execution_count": 21,
      "outputs": []
    },
    {
      "cell_type": "code",
      "source": [
        "y_train = df_train_full.churn.values\n",
        "y_test = df_test.churn.values\n",
        "\n",
        "# Trains the model and makes predictions\n",
        "dv, model = train(df_train_full, y_train, C=0.5)\n",
        "y_pred = predict(df_test, dv, model)\n",
        "\n",
        "auc = roc_auc_score(y_test, y_pred)\n",
        "print(f\"auc={auc:.3f}\")"
      ],
      "metadata": {
        "id": "XQtBbsFDZuai",
        "outputId": "d9a2012e-72c0-4424-ccee-cc24928c973d",
        "colab": {
          "base_uri": "https://localhost:8080/"
        }
      },
      "execution_count": 22,
      "outputs": [
        {
          "output_type": "stream",
          "name": "stdout",
          "text": [
            "auc=0.858\n"
          ]
        }
      ]
    },
    {
      "cell_type": "markdown",
      "source": [
        "##Prediction"
      ],
      "metadata": {
        "id": "0AXuIRyO3bzX"
      }
    },
    {
      "cell_type": "markdown",
      "source": [
        "Let’s use this model to calculate the probability of churning."
      ],
      "metadata": {
        "id": "UTbniSX-3rkP"
      }
    },
    {
      "cell_type": "code",
      "source": [],
      "metadata": {
        "id": "4icADesd3dSw"
      },
      "execution_count": null,
      "outputs": []
    }
  ]
}