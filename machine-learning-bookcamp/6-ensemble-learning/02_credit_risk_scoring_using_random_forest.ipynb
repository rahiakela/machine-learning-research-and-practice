{
  "nbformat": 4,
  "nbformat_minor": 0,
  "metadata": {
    "colab": {
      "provenance": [],
      "toc_visible": true,
      "authorship_tag": "ABX9TyNDqVsfy1KMH4Pdo3Z8sj8s",
      "include_colab_link": true
    },
    "kernelspec": {
      "name": "python3",
      "display_name": "Python 3"
    },
    "language_info": {
      "name": "python"
    }
  },
  "cells": [
    {
      "cell_type": "markdown",
      "metadata": {
        "id": "view-in-github",
        "colab_type": "text"
      },
      "source": [
        "<a href=\"https://colab.research.google.com/github/rahiakela/machine-learning-research-and-practice/blob/main/machine-learning-bookcamp/6-ensemble-learning/02_credit_risk_scoring_using_random_forest.ipynb\" target=\"_parent\"><img src=\"https://colab.research.google.com/assets/colab-badge.svg\" alt=\"Open In Colab\"/></a>"
      ]
    },
    {
      "cell_type": "markdown",
      "source": [
        "##Credit risk scoring project: Decision tree"
      ],
      "metadata": {
        "id": "nKiw-jHgceh6"
      }
    },
    {
      "cell_type": "markdown",
      "source": [
        "Imagine that we work at a bank. When we receive a loan application, we need to make\n",
        "sure that if we give the money, the customer will be able to pay it back. Every application\n",
        "carries a risk of default — the failure to return the money.\n",
        "\n",
        "Credit risk scoring is a binary classification problem: the target is positive (“1”) if the\n",
        "customer defaults and negative (“0”) otherwise.\n",
        "\n",
        "We will use machine learning to calculate the risk of\n",
        "default. The plan for the project is the following:\n",
        "\n",
        "* We will train decision tree model for predicting the probability\n",
        "of default.\n",
        "* Then we combine multiple decision trees into one model — a random forest.\n",
        "* Finally, we explore a different way of combining decision trees — gradient\n",
        "boosting(XGBoost)."
      ],
      "metadata": {
        "id": "n-ZdMvNtchEm"
      }
    },
    {
      "cell_type": "markdown",
      "source": [
        "##Setup"
      ],
      "metadata": {
        "id": "8MqwP3Hzc1Wb"
      }
    },
    {
      "cell_type": "code",
      "source": [
        "import pandas as pd\n",
        "import numpy as np\n",
        "import pickle \n",
        "import requests\n",
        "\n",
        "from sklearn.feature_extraction import DictVectorizer\n",
        "from sklearn.linear_model import LogisticRegression\n",
        "from sklearn.tree import DecisionTreeClassifier\n",
        "from sklearn.tree import export_graphviz, export_text\n",
        "from graphviz import Source\n",
        "\n",
        "from sklearn.model_selection import train_test_split\n",
        "\n",
        "from sklearn.metrics import roc_auc_score\n",
        "from sklearn.metrics import roc_curve\n",
        "\n",
        "import seaborn as sns\n",
        "from matplotlib import pyplot as plt\n",
        "%matplotlib inline"
      ],
      "metadata": {
        "id": "vpCaukoZc2bM"
      },
      "execution_count": null,
      "outputs": []
    },
    {
      "cell_type": "code",
      "source": [
        "!wget https://github.com/rahiakela/machine-learning-research-and-practice/raw/main/machine-learning-bookcamp/6-ensemble-learning/credit_scoring.csv"
      ],
      "metadata": {
        "id": "bA6YUwP1c_KM"
      },
      "execution_count": null,
      "outputs": []
    },
    {
      "cell_type": "markdown",
      "source": [
        "##Dataset"
      ],
      "metadata": {
        "id": "JKpNUL22eB1f"
      }
    },
    {
      "cell_type": "code",
      "source": [
        "# let’s read our dataset\n",
        "data_df = pd.read_csv(\"credit_scoring.csv\")\n",
        "print(len(data_df))\n",
        "data_df.head()"
      ],
      "metadata": {
        "colab": {
          "base_uri": "https://localhost:8080/",
          "height": 267
        },
        "id": "US7ds406eEwl",
        "outputId": "c53f017f-9963-4bcc-b552-49108a27546f"
      },
      "execution_count": null,
      "outputs": [
        {
          "output_type": "stream",
          "name": "stdout",
          "text": [
            "4455\n"
          ]
        },
        {
          "output_type": "execute_result",
          "data": {
            "text/plain": [
              "   Status  Seniority  Home  Time  Age  Marital  Records  Job  Expenses  \\\n",
              "0       1          9     1    60   30        2        1    3        73   \n",
              "1       1         17     1    60   58        3        1    1        48   \n",
              "2       2         10     2    36   46        2        2    3        90   \n",
              "3       1          0     1    60   24        1        1    1        63   \n",
              "4       1          0     1    36   26        1        1    1        46   \n",
              "\n",
              "   Income  Assets  Debt  Amount  Price  \n",
              "0     129       0     0     800    846  \n",
              "1     131       0     0    1000   1658  \n",
              "2     200    3000     0    2000   2985  \n",
              "3     182    2500     0     900   1325  \n",
              "4     107       0     0     310    910  "
            ],
            "text/html": [
              "\n",
              "  <div id=\"df-4e2c7309-047c-42d9-9b95-04fd1e7d5c74\">\n",
              "    <div class=\"colab-df-container\">\n",
              "      <div>\n",
              "<style scoped>\n",
              "    .dataframe tbody tr th:only-of-type {\n",
              "        vertical-align: middle;\n",
              "    }\n",
              "\n",
              "    .dataframe tbody tr th {\n",
              "        vertical-align: top;\n",
              "    }\n",
              "\n",
              "    .dataframe thead th {\n",
              "        text-align: right;\n",
              "    }\n",
              "</style>\n",
              "<table border=\"1\" class=\"dataframe\">\n",
              "  <thead>\n",
              "    <tr style=\"text-align: right;\">\n",
              "      <th></th>\n",
              "      <th>Status</th>\n",
              "      <th>Seniority</th>\n",
              "      <th>Home</th>\n",
              "      <th>Time</th>\n",
              "      <th>Age</th>\n",
              "      <th>Marital</th>\n",
              "      <th>Records</th>\n",
              "      <th>Job</th>\n",
              "      <th>Expenses</th>\n",
              "      <th>Income</th>\n",
              "      <th>Assets</th>\n",
              "      <th>Debt</th>\n",
              "      <th>Amount</th>\n",
              "      <th>Price</th>\n",
              "    </tr>\n",
              "  </thead>\n",
              "  <tbody>\n",
              "    <tr>\n",
              "      <th>0</th>\n",
              "      <td>1</td>\n",
              "      <td>9</td>\n",
              "      <td>1</td>\n",
              "      <td>60</td>\n",
              "      <td>30</td>\n",
              "      <td>2</td>\n",
              "      <td>1</td>\n",
              "      <td>3</td>\n",
              "      <td>73</td>\n",
              "      <td>129</td>\n",
              "      <td>0</td>\n",
              "      <td>0</td>\n",
              "      <td>800</td>\n",
              "      <td>846</td>\n",
              "    </tr>\n",
              "    <tr>\n",
              "      <th>1</th>\n",
              "      <td>1</td>\n",
              "      <td>17</td>\n",
              "      <td>1</td>\n",
              "      <td>60</td>\n",
              "      <td>58</td>\n",
              "      <td>3</td>\n",
              "      <td>1</td>\n",
              "      <td>1</td>\n",
              "      <td>48</td>\n",
              "      <td>131</td>\n",
              "      <td>0</td>\n",
              "      <td>0</td>\n",
              "      <td>1000</td>\n",
              "      <td>1658</td>\n",
              "    </tr>\n",
              "    <tr>\n",
              "      <th>2</th>\n",
              "      <td>2</td>\n",
              "      <td>10</td>\n",
              "      <td>2</td>\n",
              "      <td>36</td>\n",
              "      <td>46</td>\n",
              "      <td>2</td>\n",
              "      <td>2</td>\n",
              "      <td>3</td>\n",
              "      <td>90</td>\n",
              "      <td>200</td>\n",
              "      <td>3000</td>\n",
              "      <td>0</td>\n",
              "      <td>2000</td>\n",
              "      <td>2985</td>\n",
              "    </tr>\n",
              "    <tr>\n",
              "      <th>3</th>\n",
              "      <td>1</td>\n",
              "      <td>0</td>\n",
              "      <td>1</td>\n",
              "      <td>60</td>\n",
              "      <td>24</td>\n",
              "      <td>1</td>\n",
              "      <td>1</td>\n",
              "      <td>1</td>\n",
              "      <td>63</td>\n",
              "      <td>182</td>\n",
              "      <td>2500</td>\n",
              "      <td>0</td>\n",
              "      <td>900</td>\n",
              "      <td>1325</td>\n",
              "    </tr>\n",
              "    <tr>\n",
              "      <th>4</th>\n",
              "      <td>1</td>\n",
              "      <td>0</td>\n",
              "      <td>1</td>\n",
              "      <td>36</td>\n",
              "      <td>26</td>\n",
              "      <td>1</td>\n",
              "      <td>1</td>\n",
              "      <td>1</td>\n",
              "      <td>46</td>\n",
              "      <td>107</td>\n",
              "      <td>0</td>\n",
              "      <td>0</td>\n",
              "      <td>310</td>\n",
              "      <td>910</td>\n",
              "    </tr>\n",
              "  </tbody>\n",
              "</table>\n",
              "</div>\n",
              "      <button class=\"colab-df-convert\" onclick=\"convertToInteractive('df-4e2c7309-047c-42d9-9b95-04fd1e7d5c74')\"\n",
              "              title=\"Convert this dataframe to an interactive table.\"\n",
              "              style=\"display:none;\">\n",
              "        \n",
              "  <svg xmlns=\"http://www.w3.org/2000/svg\" height=\"24px\"viewBox=\"0 0 24 24\"\n",
              "       width=\"24px\">\n",
              "    <path d=\"M0 0h24v24H0V0z\" fill=\"none\"/>\n",
              "    <path d=\"M18.56 5.44l.94 2.06.94-2.06 2.06-.94-2.06-.94-.94-2.06-.94 2.06-2.06.94zm-11 1L8.5 8.5l.94-2.06 2.06-.94-2.06-.94L8.5 2.5l-.94 2.06-2.06.94zm10 10l.94 2.06.94-2.06 2.06-.94-2.06-.94-.94-2.06-.94 2.06-2.06.94z\"/><path d=\"M17.41 7.96l-1.37-1.37c-.4-.4-.92-.59-1.43-.59-.52 0-1.04.2-1.43.59L10.3 9.45l-7.72 7.72c-.78.78-.78 2.05 0 2.83L4 21.41c.39.39.9.59 1.41.59.51 0 1.02-.2 1.41-.59l7.78-7.78 2.81-2.81c.8-.78.8-2.07 0-2.86zM5.41 20L4 18.59l7.72-7.72 1.47 1.35L5.41 20z\"/>\n",
              "  </svg>\n",
              "      </button>\n",
              "      \n",
              "  <style>\n",
              "    .colab-df-container {\n",
              "      display:flex;\n",
              "      flex-wrap:wrap;\n",
              "      gap: 12px;\n",
              "    }\n",
              "\n",
              "    .colab-df-convert {\n",
              "      background-color: #E8F0FE;\n",
              "      border: none;\n",
              "      border-radius: 50%;\n",
              "      cursor: pointer;\n",
              "      display: none;\n",
              "      fill: #1967D2;\n",
              "      height: 32px;\n",
              "      padding: 0 0 0 0;\n",
              "      width: 32px;\n",
              "    }\n",
              "\n",
              "    .colab-df-convert:hover {\n",
              "      background-color: #E2EBFA;\n",
              "      box-shadow: 0px 1px 2px rgba(60, 64, 67, 0.3), 0px 1px 3px 1px rgba(60, 64, 67, 0.15);\n",
              "      fill: #174EA6;\n",
              "    }\n",
              "\n",
              "    [theme=dark] .colab-df-convert {\n",
              "      background-color: #3B4455;\n",
              "      fill: #D2E3FC;\n",
              "    }\n",
              "\n",
              "    [theme=dark] .colab-df-convert:hover {\n",
              "      background-color: #434B5C;\n",
              "      box-shadow: 0px 1px 3px 1px rgba(0, 0, 0, 0.15);\n",
              "      filter: drop-shadow(0px 1px 2px rgba(0, 0, 0, 0.3));\n",
              "      fill: #FFFFFF;\n",
              "    }\n",
              "  </style>\n",
              "\n",
              "      <script>\n",
              "        const buttonEl =\n",
              "          document.querySelector('#df-4e2c7309-047c-42d9-9b95-04fd1e7d5c74 button.colab-df-convert');\n",
              "        buttonEl.style.display =\n",
              "          google.colab.kernel.accessAllowed ? 'block' : 'none';\n",
              "\n",
              "        async function convertToInteractive(key) {\n",
              "          const element = document.querySelector('#df-4e2c7309-047c-42d9-9b95-04fd1e7d5c74');\n",
              "          const dataTable =\n",
              "            await google.colab.kernel.invokeFunction('convertToInteractive',\n",
              "                                                     [key], {});\n",
              "          if (!dataTable) return;\n",
              "\n",
              "          const docLinkHtml = 'Like what you see? Visit the ' +\n",
              "            '<a target=\"_blank\" href=https://colab.research.google.com/notebooks/data_table.ipynb>data table notebook</a>'\n",
              "            + ' to learn more about interactive tables.';\n",
              "          element.innerHTML = '';\n",
              "          dataTable['output_type'] = 'display_data';\n",
              "          await google.colab.output.renderOutput(dataTable, element);\n",
              "          const docLink = document.createElement('div');\n",
              "          docLink.innerHTML = docLinkHtml;\n",
              "          element.appendChild(docLink);\n",
              "        }\n",
              "      </script>\n",
              "    </div>\n",
              "  </div>\n",
              "  "
            ]
          },
          "metadata": {},
          "execution_count": 3
        }
      ]
    },
    {
      "cell_type": "markdown",
      "source": [
        "##Data cleaning"
      ],
      "metadata": {
        "id": "t6VrtpfmVg84"
      }
    },
    {
      "cell_type": "code",
      "source": [
        "# let’s lowercase all the column names\n",
        "data_df.columns = data_df.columns.str.lower()\n",
        "data_df.head()"
      ],
      "metadata": {
        "id": "gJ6bAyO3BM0s",
        "outputId": "f8a87f36-b584-47ab-9a77-db1a6e37d4c8",
        "colab": {
          "base_uri": "https://localhost:8080/",
          "height": 250
        }
      },
      "execution_count": null,
      "outputs": [
        {
          "output_type": "execute_result",
          "data": {
            "text/plain": [
              "   status  seniority  home  time  age  marital  records  job  expenses  \\\n",
              "0       1          9     1    60   30        2        1    3        73   \n",
              "1       1         17     1    60   58        3        1    1        48   \n",
              "2       2         10     2    36   46        2        2    3        90   \n",
              "3       1          0     1    60   24        1        1    1        63   \n",
              "4       1          0     1    36   26        1        1    1        46   \n",
              "\n",
              "   income  assets  debt  amount  price  \n",
              "0     129       0     0     800    846  \n",
              "1     131       0     0    1000   1658  \n",
              "2     200    3000     0    2000   2985  \n",
              "3     182    2500     0     900   1325  \n",
              "4     107       0     0     310    910  "
            ],
            "text/html": [
              "\n",
              "  <div id=\"df-cc3d958a-a589-48c2-bb1a-fdf5a351429e\">\n",
              "    <div class=\"colab-df-container\">\n",
              "      <div>\n",
              "<style scoped>\n",
              "    .dataframe tbody tr th:only-of-type {\n",
              "        vertical-align: middle;\n",
              "    }\n",
              "\n",
              "    .dataframe tbody tr th {\n",
              "        vertical-align: top;\n",
              "    }\n",
              "\n",
              "    .dataframe thead th {\n",
              "        text-align: right;\n",
              "    }\n",
              "</style>\n",
              "<table border=\"1\" class=\"dataframe\">\n",
              "  <thead>\n",
              "    <tr style=\"text-align: right;\">\n",
              "      <th></th>\n",
              "      <th>status</th>\n",
              "      <th>seniority</th>\n",
              "      <th>home</th>\n",
              "      <th>time</th>\n",
              "      <th>age</th>\n",
              "      <th>marital</th>\n",
              "      <th>records</th>\n",
              "      <th>job</th>\n",
              "      <th>expenses</th>\n",
              "      <th>income</th>\n",
              "      <th>assets</th>\n",
              "      <th>debt</th>\n",
              "      <th>amount</th>\n",
              "      <th>price</th>\n",
              "    </tr>\n",
              "  </thead>\n",
              "  <tbody>\n",
              "    <tr>\n",
              "      <th>0</th>\n",
              "      <td>1</td>\n",
              "      <td>9</td>\n",
              "      <td>1</td>\n",
              "      <td>60</td>\n",
              "      <td>30</td>\n",
              "      <td>2</td>\n",
              "      <td>1</td>\n",
              "      <td>3</td>\n",
              "      <td>73</td>\n",
              "      <td>129</td>\n",
              "      <td>0</td>\n",
              "      <td>0</td>\n",
              "      <td>800</td>\n",
              "      <td>846</td>\n",
              "    </tr>\n",
              "    <tr>\n",
              "      <th>1</th>\n",
              "      <td>1</td>\n",
              "      <td>17</td>\n",
              "      <td>1</td>\n",
              "      <td>60</td>\n",
              "      <td>58</td>\n",
              "      <td>3</td>\n",
              "      <td>1</td>\n",
              "      <td>1</td>\n",
              "      <td>48</td>\n",
              "      <td>131</td>\n",
              "      <td>0</td>\n",
              "      <td>0</td>\n",
              "      <td>1000</td>\n",
              "      <td>1658</td>\n",
              "    </tr>\n",
              "    <tr>\n",
              "      <th>2</th>\n",
              "      <td>2</td>\n",
              "      <td>10</td>\n",
              "      <td>2</td>\n",
              "      <td>36</td>\n",
              "      <td>46</td>\n",
              "      <td>2</td>\n",
              "      <td>2</td>\n",
              "      <td>3</td>\n",
              "      <td>90</td>\n",
              "      <td>200</td>\n",
              "      <td>3000</td>\n",
              "      <td>0</td>\n",
              "      <td>2000</td>\n",
              "      <td>2985</td>\n",
              "    </tr>\n",
              "    <tr>\n",
              "      <th>3</th>\n",
              "      <td>1</td>\n",
              "      <td>0</td>\n",
              "      <td>1</td>\n",
              "      <td>60</td>\n",
              "      <td>24</td>\n",
              "      <td>1</td>\n",
              "      <td>1</td>\n",
              "      <td>1</td>\n",
              "      <td>63</td>\n",
              "      <td>182</td>\n",
              "      <td>2500</td>\n",
              "      <td>0</td>\n",
              "      <td>900</td>\n",
              "      <td>1325</td>\n",
              "    </tr>\n",
              "    <tr>\n",
              "      <th>4</th>\n",
              "      <td>1</td>\n",
              "      <td>0</td>\n",
              "      <td>1</td>\n",
              "      <td>36</td>\n",
              "      <td>26</td>\n",
              "      <td>1</td>\n",
              "      <td>1</td>\n",
              "      <td>1</td>\n",
              "      <td>46</td>\n",
              "      <td>107</td>\n",
              "      <td>0</td>\n",
              "      <td>0</td>\n",
              "      <td>310</td>\n",
              "      <td>910</td>\n",
              "    </tr>\n",
              "  </tbody>\n",
              "</table>\n",
              "</div>\n",
              "      <button class=\"colab-df-convert\" onclick=\"convertToInteractive('df-cc3d958a-a589-48c2-bb1a-fdf5a351429e')\"\n",
              "              title=\"Convert this dataframe to an interactive table.\"\n",
              "              style=\"display:none;\">\n",
              "        \n",
              "  <svg xmlns=\"http://www.w3.org/2000/svg\" height=\"24px\"viewBox=\"0 0 24 24\"\n",
              "       width=\"24px\">\n",
              "    <path d=\"M0 0h24v24H0V0z\" fill=\"none\"/>\n",
              "    <path d=\"M18.56 5.44l.94 2.06.94-2.06 2.06-.94-2.06-.94-.94-2.06-.94 2.06-2.06.94zm-11 1L8.5 8.5l.94-2.06 2.06-.94-2.06-.94L8.5 2.5l-.94 2.06-2.06.94zm10 10l.94 2.06.94-2.06 2.06-.94-2.06-.94-.94-2.06-.94 2.06-2.06.94z\"/><path d=\"M17.41 7.96l-1.37-1.37c-.4-.4-.92-.59-1.43-.59-.52 0-1.04.2-1.43.59L10.3 9.45l-7.72 7.72c-.78.78-.78 2.05 0 2.83L4 21.41c.39.39.9.59 1.41.59.51 0 1.02-.2 1.41-.59l7.78-7.78 2.81-2.81c.8-.78.8-2.07 0-2.86zM5.41 20L4 18.59l7.72-7.72 1.47 1.35L5.41 20z\"/>\n",
              "  </svg>\n",
              "      </button>\n",
              "      \n",
              "  <style>\n",
              "    .colab-df-container {\n",
              "      display:flex;\n",
              "      flex-wrap:wrap;\n",
              "      gap: 12px;\n",
              "    }\n",
              "\n",
              "    .colab-df-convert {\n",
              "      background-color: #E8F0FE;\n",
              "      border: none;\n",
              "      border-radius: 50%;\n",
              "      cursor: pointer;\n",
              "      display: none;\n",
              "      fill: #1967D2;\n",
              "      height: 32px;\n",
              "      padding: 0 0 0 0;\n",
              "      width: 32px;\n",
              "    }\n",
              "\n",
              "    .colab-df-convert:hover {\n",
              "      background-color: #E2EBFA;\n",
              "      box-shadow: 0px 1px 2px rgba(60, 64, 67, 0.3), 0px 1px 3px 1px rgba(60, 64, 67, 0.15);\n",
              "      fill: #174EA6;\n",
              "    }\n",
              "\n",
              "    [theme=dark] .colab-df-convert {\n",
              "      background-color: #3B4455;\n",
              "      fill: #D2E3FC;\n",
              "    }\n",
              "\n",
              "    [theme=dark] .colab-df-convert:hover {\n",
              "      background-color: #434B5C;\n",
              "      box-shadow: 0px 1px 3px 1px rgba(0, 0, 0, 0.15);\n",
              "      filter: drop-shadow(0px 1px 2px rgba(0, 0, 0, 0.3));\n",
              "      fill: #FFFFFF;\n",
              "    }\n",
              "  </style>\n",
              "\n",
              "      <script>\n",
              "        const buttonEl =\n",
              "          document.querySelector('#df-cc3d958a-a589-48c2-bb1a-fdf5a351429e button.colab-df-convert');\n",
              "        buttonEl.style.display =\n",
              "          google.colab.kernel.accessAllowed ? 'block' : 'none';\n",
              "\n",
              "        async function convertToInteractive(key) {\n",
              "          const element = document.querySelector('#df-cc3d958a-a589-48c2-bb1a-fdf5a351429e');\n",
              "          const dataTable =\n",
              "            await google.colab.kernel.invokeFunction('convertToInteractive',\n",
              "                                                     [key], {});\n",
              "          if (!dataTable) return;\n",
              "\n",
              "          const docLinkHtml = 'Like what you see? Visit the ' +\n",
              "            '<a target=\"_blank\" href=https://colab.research.google.com/notebooks/data_table.ipynb>data table notebook</a>'\n",
              "            + ' to learn more about interactive tables.';\n",
              "          element.innerHTML = '';\n",
              "          dataTable['output_type'] = 'display_data';\n",
              "          await google.colab.output.renderOutput(dataTable, element);\n",
              "          const docLink = document.createElement('div');\n",
              "          docLink.innerHTML = docLinkHtml;\n",
              "          element.appendChild(docLink);\n",
              "        }\n",
              "      </script>\n",
              "    </div>\n",
              "  </div>\n",
              "  "
            ]
          },
          "metadata": {},
          "execution_count": 4
        }
      ]
    },
    {
      "cell_type": "code",
      "source": [
        "# Let’s handle the categorical column\n",
        "data_df.status.value_counts()"
      ],
      "metadata": {
        "id": "8RxmSWRRCIIn",
        "outputId": "5ba5b860-775b-427c-975f-78f029f47775",
        "colab": {
          "base_uri": "https://localhost:8080/"
        }
      },
      "execution_count": null,
      "outputs": [
        {
          "output_type": "execute_result",
          "data": {
            "text/plain": [
              "1    3200\n",
              "2    1254\n",
              "0       1\n",
              "Name: status, dtype: int64"
            ]
          },
          "metadata": {},
          "execution_count": 5
        }
      ]
    },
    {
      "cell_type": "code",
      "source": [
        "status_values = {\n",
        "  1: \"ok\", \n",
        "  2: \"default\", \n",
        "  0: \"unk\"\n",
        "}\n",
        "data_df.status = data_df.status.map(status_values)\n",
        "data_df.head()"
      ],
      "metadata": {
        "id": "UTCoWUf6m1Hb",
        "outputId": "950f11ae-e3ab-4ce5-98a3-8d65073992d4",
        "colab": {
          "base_uri": "https://localhost:8080/",
          "height": 250
        }
      },
      "execution_count": null,
      "outputs": [
        {
          "output_type": "execute_result",
          "data": {
            "text/plain": [
              "    status  seniority  home  time  age  marital  records  job  expenses  \\\n",
              "0       ok          9     1    60   30        2        1    3        73   \n",
              "1       ok         17     1    60   58        3        1    1        48   \n",
              "2  default         10     2    36   46        2        2    3        90   \n",
              "3       ok          0     1    60   24        1        1    1        63   \n",
              "4       ok          0     1    36   26        1        1    1        46   \n",
              "\n",
              "   income  assets  debt  amount  price  \n",
              "0     129       0     0     800    846  \n",
              "1     131       0     0    1000   1658  \n",
              "2     200    3000     0    2000   2985  \n",
              "3     182    2500     0     900   1325  \n",
              "4     107       0     0     310    910  "
            ],
            "text/html": [
              "\n",
              "  <div id=\"df-e24c1396-3f02-4011-9f76-df00a706ed8e\">\n",
              "    <div class=\"colab-df-container\">\n",
              "      <div>\n",
              "<style scoped>\n",
              "    .dataframe tbody tr th:only-of-type {\n",
              "        vertical-align: middle;\n",
              "    }\n",
              "\n",
              "    .dataframe tbody tr th {\n",
              "        vertical-align: top;\n",
              "    }\n",
              "\n",
              "    .dataframe thead th {\n",
              "        text-align: right;\n",
              "    }\n",
              "</style>\n",
              "<table border=\"1\" class=\"dataframe\">\n",
              "  <thead>\n",
              "    <tr style=\"text-align: right;\">\n",
              "      <th></th>\n",
              "      <th>status</th>\n",
              "      <th>seniority</th>\n",
              "      <th>home</th>\n",
              "      <th>time</th>\n",
              "      <th>age</th>\n",
              "      <th>marital</th>\n",
              "      <th>records</th>\n",
              "      <th>job</th>\n",
              "      <th>expenses</th>\n",
              "      <th>income</th>\n",
              "      <th>assets</th>\n",
              "      <th>debt</th>\n",
              "      <th>amount</th>\n",
              "      <th>price</th>\n",
              "    </tr>\n",
              "  </thead>\n",
              "  <tbody>\n",
              "    <tr>\n",
              "      <th>0</th>\n",
              "      <td>ok</td>\n",
              "      <td>9</td>\n",
              "      <td>1</td>\n",
              "      <td>60</td>\n",
              "      <td>30</td>\n",
              "      <td>2</td>\n",
              "      <td>1</td>\n",
              "      <td>3</td>\n",
              "      <td>73</td>\n",
              "      <td>129</td>\n",
              "      <td>0</td>\n",
              "      <td>0</td>\n",
              "      <td>800</td>\n",
              "      <td>846</td>\n",
              "    </tr>\n",
              "    <tr>\n",
              "      <th>1</th>\n",
              "      <td>ok</td>\n",
              "      <td>17</td>\n",
              "      <td>1</td>\n",
              "      <td>60</td>\n",
              "      <td>58</td>\n",
              "      <td>3</td>\n",
              "      <td>1</td>\n",
              "      <td>1</td>\n",
              "      <td>48</td>\n",
              "      <td>131</td>\n",
              "      <td>0</td>\n",
              "      <td>0</td>\n",
              "      <td>1000</td>\n",
              "      <td>1658</td>\n",
              "    </tr>\n",
              "    <tr>\n",
              "      <th>2</th>\n",
              "      <td>default</td>\n",
              "      <td>10</td>\n",
              "      <td>2</td>\n",
              "      <td>36</td>\n",
              "      <td>46</td>\n",
              "      <td>2</td>\n",
              "      <td>2</td>\n",
              "      <td>3</td>\n",
              "      <td>90</td>\n",
              "      <td>200</td>\n",
              "      <td>3000</td>\n",
              "      <td>0</td>\n",
              "      <td>2000</td>\n",
              "      <td>2985</td>\n",
              "    </tr>\n",
              "    <tr>\n",
              "      <th>3</th>\n",
              "      <td>ok</td>\n",
              "      <td>0</td>\n",
              "      <td>1</td>\n",
              "      <td>60</td>\n",
              "      <td>24</td>\n",
              "      <td>1</td>\n",
              "      <td>1</td>\n",
              "      <td>1</td>\n",
              "      <td>63</td>\n",
              "      <td>182</td>\n",
              "      <td>2500</td>\n",
              "      <td>0</td>\n",
              "      <td>900</td>\n",
              "      <td>1325</td>\n",
              "    </tr>\n",
              "    <tr>\n",
              "      <th>4</th>\n",
              "      <td>ok</td>\n",
              "      <td>0</td>\n",
              "      <td>1</td>\n",
              "      <td>36</td>\n",
              "      <td>26</td>\n",
              "      <td>1</td>\n",
              "      <td>1</td>\n",
              "      <td>1</td>\n",
              "      <td>46</td>\n",
              "      <td>107</td>\n",
              "      <td>0</td>\n",
              "      <td>0</td>\n",
              "      <td>310</td>\n",
              "      <td>910</td>\n",
              "    </tr>\n",
              "  </tbody>\n",
              "</table>\n",
              "</div>\n",
              "      <button class=\"colab-df-convert\" onclick=\"convertToInteractive('df-e24c1396-3f02-4011-9f76-df00a706ed8e')\"\n",
              "              title=\"Convert this dataframe to an interactive table.\"\n",
              "              style=\"display:none;\">\n",
              "        \n",
              "  <svg xmlns=\"http://www.w3.org/2000/svg\" height=\"24px\"viewBox=\"0 0 24 24\"\n",
              "       width=\"24px\">\n",
              "    <path d=\"M0 0h24v24H0V0z\" fill=\"none\"/>\n",
              "    <path d=\"M18.56 5.44l.94 2.06.94-2.06 2.06-.94-2.06-.94-.94-2.06-.94 2.06-2.06.94zm-11 1L8.5 8.5l.94-2.06 2.06-.94-2.06-.94L8.5 2.5l-.94 2.06-2.06.94zm10 10l.94 2.06.94-2.06 2.06-.94-2.06-.94-.94-2.06-.94 2.06-2.06.94z\"/><path d=\"M17.41 7.96l-1.37-1.37c-.4-.4-.92-.59-1.43-.59-.52 0-1.04.2-1.43.59L10.3 9.45l-7.72 7.72c-.78.78-.78 2.05 0 2.83L4 21.41c.39.39.9.59 1.41.59.51 0 1.02-.2 1.41-.59l7.78-7.78 2.81-2.81c.8-.78.8-2.07 0-2.86zM5.41 20L4 18.59l7.72-7.72 1.47 1.35L5.41 20z\"/>\n",
              "  </svg>\n",
              "      </button>\n",
              "      \n",
              "  <style>\n",
              "    .colab-df-container {\n",
              "      display:flex;\n",
              "      flex-wrap:wrap;\n",
              "      gap: 12px;\n",
              "    }\n",
              "\n",
              "    .colab-df-convert {\n",
              "      background-color: #E8F0FE;\n",
              "      border: none;\n",
              "      border-radius: 50%;\n",
              "      cursor: pointer;\n",
              "      display: none;\n",
              "      fill: #1967D2;\n",
              "      height: 32px;\n",
              "      padding: 0 0 0 0;\n",
              "      width: 32px;\n",
              "    }\n",
              "\n",
              "    .colab-df-convert:hover {\n",
              "      background-color: #E2EBFA;\n",
              "      box-shadow: 0px 1px 2px rgba(60, 64, 67, 0.3), 0px 1px 3px 1px rgba(60, 64, 67, 0.15);\n",
              "      fill: #174EA6;\n",
              "    }\n",
              "\n",
              "    [theme=dark] .colab-df-convert {\n",
              "      background-color: #3B4455;\n",
              "      fill: #D2E3FC;\n",
              "    }\n",
              "\n",
              "    [theme=dark] .colab-df-convert:hover {\n",
              "      background-color: #434B5C;\n",
              "      box-shadow: 0px 1px 3px 1px rgba(0, 0, 0, 0.15);\n",
              "      filter: drop-shadow(0px 1px 2px rgba(0, 0, 0, 0.3));\n",
              "      fill: #FFFFFF;\n",
              "    }\n",
              "  </style>\n",
              "\n",
              "      <script>\n",
              "        const buttonEl =\n",
              "          document.querySelector('#df-e24c1396-3f02-4011-9f76-df00a706ed8e button.colab-df-convert');\n",
              "        buttonEl.style.display =\n",
              "          google.colab.kernel.accessAllowed ? 'block' : 'none';\n",
              "\n",
              "        async function convertToInteractive(key) {\n",
              "          const element = document.querySelector('#df-e24c1396-3f02-4011-9f76-df00a706ed8e');\n",
              "          const dataTable =\n",
              "            await google.colab.kernel.invokeFunction('convertToInteractive',\n",
              "                                                     [key], {});\n",
              "          if (!dataTable) return;\n",
              "\n",
              "          const docLinkHtml = 'Like what you see? Visit the ' +\n",
              "            '<a target=\"_blank\" href=https://colab.research.google.com/notebooks/data_table.ipynb>data table notebook</a>'\n",
              "            + ' to learn more about interactive tables.';\n",
              "          element.innerHTML = '';\n",
              "          dataTable['output_type'] = 'display_data';\n",
              "          await google.colab.output.renderOutput(dataTable, element);\n",
              "          const docLink = document.createElement('div');\n",
              "          docLink.innerHTML = docLinkHtml;\n",
              "          element.appendChild(docLink);\n",
              "        }\n",
              "      </script>\n",
              "    </div>\n",
              "  </div>\n",
              "  "
            ]
          },
          "metadata": {},
          "execution_count": 6
        }
      ]
    },
    {
      "cell_type": "code",
      "source": [
        "data_df.home.value_counts()"
      ],
      "metadata": {
        "id": "j9RqC_S3oUQu",
        "outputId": "8ff4af91-db4a-4ad5-86d3-e7232d9ad478",
        "colab": {
          "base_uri": "https://localhost:8080/"
        }
      },
      "execution_count": null,
      "outputs": [
        {
          "output_type": "execute_result",
          "data": {
            "text/plain": [
              "2    2107\n",
              "1     973\n",
              "5     783\n",
              "6     319\n",
              "3     247\n",
              "4      20\n",
              "0       6\n",
              "Name: home, dtype: int64"
            ]
          },
          "metadata": {},
          "execution_count": 7
        }
      ]
    },
    {
      "cell_type": "code",
      "source": [
        "home_values = {\n",
        "    1: 'rent',\n",
        "    2: 'owner',\n",
        "    3: 'private',\n",
        "    4: 'ignore',\n",
        "    5: 'parents',\n",
        "    6: 'other',\n",
        "    0: 'unk'\n",
        "}\n",
        "data_df.home = data_df.home.map(home_values)"
      ],
      "metadata": {
        "id": "pqq7tWy_DBFf"
      },
      "execution_count": null,
      "outputs": []
    },
    {
      "cell_type": "code",
      "source": [
        "data_df.marital.value_counts()"
      ],
      "metadata": {
        "id": "ZKqwOUktol-7",
        "outputId": "53d916d7-94f5-4e24-8df4-4685a86b9f05",
        "colab": {
          "base_uri": "https://localhost:8080/"
        }
      },
      "execution_count": null,
      "outputs": [
        {
          "output_type": "execute_result",
          "data": {
            "text/plain": [
              "2    3241\n",
              "1     978\n",
              "4     130\n",
              "3      67\n",
              "5      38\n",
              "0       1\n",
              "Name: marital, dtype: int64"
            ]
          },
          "metadata": {},
          "execution_count": 9
        }
      ]
    },
    {
      "cell_type": "code",
      "source": [
        "marital_values = {\n",
        "    1: 'single',\n",
        "    2: 'married',\n",
        "    3: 'widow',\n",
        "    4: 'separated',\n",
        "    5: 'divorced',\n",
        "    0: 'unk'\n",
        "}\n",
        "data_df.marital = data_df.marital.map(marital_values)"
      ],
      "metadata": {
        "id": "CPM1VXhp2jmc"
      },
      "execution_count": null,
      "outputs": []
    },
    {
      "cell_type": "code",
      "source": [
        "data_df.records.value_counts()"
      ],
      "metadata": {
        "id": "jMF2Y3fq609Q",
        "outputId": "b07c7726-32d1-41a5-d0f2-8b9904c616b2",
        "colab": {
          "base_uri": "https://localhost:8080/"
        }
      },
      "execution_count": null,
      "outputs": [
        {
          "output_type": "execute_result",
          "data": {
            "text/plain": [
              "1    3682\n",
              "2     773\n",
              "Name: records, dtype: int64"
            ]
          },
          "metadata": {},
          "execution_count": 11
        }
      ]
    },
    {
      "cell_type": "code",
      "source": [
        "records_values = {\n",
        "    1: 'no',\n",
        "    2: 'yes',\n",
        "    0: 'unk'\n",
        "}\n",
        "data_df.records = data_df.records.map(records_values)"
      ],
      "metadata": {
        "id": "Q0pd3UeC7uwG"
      },
      "execution_count": null,
      "outputs": []
    },
    {
      "cell_type": "code",
      "source": [
        "data_df.job.value_counts()"
      ],
      "metadata": {
        "id": "n_M-124_78Ae",
        "outputId": "1e9d89ca-18b5-4086-ad37-0aa92e16b7ef",
        "colab": {
          "base_uri": "https://localhost:8080/"
        }
      },
      "execution_count": null,
      "outputs": [
        {
          "output_type": "execute_result",
          "data": {
            "text/plain": [
              "1    2806\n",
              "3    1024\n",
              "2     452\n",
              "4     171\n",
              "0       2\n",
              "Name: job, dtype: int64"
            ]
          },
          "metadata": {},
          "execution_count": 13
        }
      ]
    },
    {
      "cell_type": "code",
      "source": [
        "job_values = {\n",
        "    1: 'fixed',\n",
        "    2: 'partime',\n",
        "    3: 'freelance',\n",
        "    4: 'others',\n",
        "    0: 'unk'\n",
        "}\n",
        "data_df.job = data_df.job.map(job_values)"
      ],
      "metadata": {
        "id": "-KciNwlaWnDb"
      },
      "execution_count": null,
      "outputs": []
    },
    {
      "cell_type": "code",
      "source": [
        "data_df.head()"
      ],
      "metadata": {
        "id": "g3hcVPW-tVpn",
        "outputId": "61089ae9-236e-428e-c6d1-cab1fa51ff16",
        "colab": {
          "base_uri": "https://localhost:8080/",
          "height": 270
        }
      },
      "execution_count": null,
      "outputs": [
        {
          "output_type": "execute_result",
          "data": {
            "text/plain": [
              "    status  seniority   home  time  age  marital records        job  expenses  \\\n",
              "0       ok          9   rent    60   30  married      no  freelance        73   \n",
              "1       ok         17   rent    60   58    widow      no      fixed        48   \n",
              "2  default         10  owner    36   46  married     yes  freelance        90   \n",
              "3       ok          0   rent    60   24   single      no      fixed        63   \n",
              "4       ok          0   rent    36   26   single      no      fixed        46   \n",
              "\n",
              "   income  assets  debt  amount  price  \n",
              "0     129       0     0     800    846  \n",
              "1     131       0     0    1000   1658  \n",
              "2     200    3000     0    2000   2985  \n",
              "3     182    2500     0     900   1325  \n",
              "4     107       0     0     310    910  "
            ],
            "text/html": [
              "\n",
              "  <div id=\"df-d89305e9-b4b6-4923-80f4-b1d1a2e794ce\">\n",
              "    <div class=\"colab-df-container\">\n",
              "      <div>\n",
              "<style scoped>\n",
              "    .dataframe tbody tr th:only-of-type {\n",
              "        vertical-align: middle;\n",
              "    }\n",
              "\n",
              "    .dataframe tbody tr th {\n",
              "        vertical-align: top;\n",
              "    }\n",
              "\n",
              "    .dataframe thead th {\n",
              "        text-align: right;\n",
              "    }\n",
              "</style>\n",
              "<table border=\"1\" class=\"dataframe\">\n",
              "  <thead>\n",
              "    <tr style=\"text-align: right;\">\n",
              "      <th></th>\n",
              "      <th>status</th>\n",
              "      <th>seniority</th>\n",
              "      <th>home</th>\n",
              "      <th>time</th>\n",
              "      <th>age</th>\n",
              "      <th>marital</th>\n",
              "      <th>records</th>\n",
              "      <th>job</th>\n",
              "      <th>expenses</th>\n",
              "      <th>income</th>\n",
              "      <th>assets</th>\n",
              "      <th>debt</th>\n",
              "      <th>amount</th>\n",
              "      <th>price</th>\n",
              "    </tr>\n",
              "  </thead>\n",
              "  <tbody>\n",
              "    <tr>\n",
              "      <th>0</th>\n",
              "      <td>ok</td>\n",
              "      <td>9</td>\n",
              "      <td>rent</td>\n",
              "      <td>60</td>\n",
              "      <td>30</td>\n",
              "      <td>married</td>\n",
              "      <td>no</td>\n",
              "      <td>freelance</td>\n",
              "      <td>73</td>\n",
              "      <td>129</td>\n",
              "      <td>0</td>\n",
              "      <td>0</td>\n",
              "      <td>800</td>\n",
              "      <td>846</td>\n",
              "    </tr>\n",
              "    <tr>\n",
              "      <th>1</th>\n",
              "      <td>ok</td>\n",
              "      <td>17</td>\n",
              "      <td>rent</td>\n",
              "      <td>60</td>\n",
              "      <td>58</td>\n",
              "      <td>widow</td>\n",
              "      <td>no</td>\n",
              "      <td>fixed</td>\n",
              "      <td>48</td>\n",
              "      <td>131</td>\n",
              "      <td>0</td>\n",
              "      <td>0</td>\n",
              "      <td>1000</td>\n",
              "      <td>1658</td>\n",
              "    </tr>\n",
              "    <tr>\n",
              "      <th>2</th>\n",
              "      <td>default</td>\n",
              "      <td>10</td>\n",
              "      <td>owner</td>\n",
              "      <td>36</td>\n",
              "      <td>46</td>\n",
              "      <td>married</td>\n",
              "      <td>yes</td>\n",
              "      <td>freelance</td>\n",
              "      <td>90</td>\n",
              "      <td>200</td>\n",
              "      <td>3000</td>\n",
              "      <td>0</td>\n",
              "      <td>2000</td>\n",
              "      <td>2985</td>\n",
              "    </tr>\n",
              "    <tr>\n",
              "      <th>3</th>\n",
              "      <td>ok</td>\n",
              "      <td>0</td>\n",
              "      <td>rent</td>\n",
              "      <td>60</td>\n",
              "      <td>24</td>\n",
              "      <td>single</td>\n",
              "      <td>no</td>\n",
              "      <td>fixed</td>\n",
              "      <td>63</td>\n",
              "      <td>182</td>\n",
              "      <td>2500</td>\n",
              "      <td>0</td>\n",
              "      <td>900</td>\n",
              "      <td>1325</td>\n",
              "    </tr>\n",
              "    <tr>\n",
              "      <th>4</th>\n",
              "      <td>ok</td>\n",
              "      <td>0</td>\n",
              "      <td>rent</td>\n",
              "      <td>36</td>\n",
              "      <td>26</td>\n",
              "      <td>single</td>\n",
              "      <td>no</td>\n",
              "      <td>fixed</td>\n",
              "      <td>46</td>\n",
              "      <td>107</td>\n",
              "      <td>0</td>\n",
              "      <td>0</td>\n",
              "      <td>310</td>\n",
              "      <td>910</td>\n",
              "    </tr>\n",
              "  </tbody>\n",
              "</table>\n",
              "</div>\n",
              "      <button class=\"colab-df-convert\" onclick=\"convertToInteractive('df-d89305e9-b4b6-4923-80f4-b1d1a2e794ce')\"\n",
              "              title=\"Convert this dataframe to an interactive table.\"\n",
              "              style=\"display:none;\">\n",
              "        \n",
              "  <svg xmlns=\"http://www.w3.org/2000/svg\" height=\"24px\"viewBox=\"0 0 24 24\"\n",
              "       width=\"24px\">\n",
              "    <path d=\"M0 0h24v24H0V0z\" fill=\"none\"/>\n",
              "    <path d=\"M18.56 5.44l.94 2.06.94-2.06 2.06-.94-2.06-.94-.94-2.06-.94 2.06-2.06.94zm-11 1L8.5 8.5l.94-2.06 2.06-.94-2.06-.94L8.5 2.5l-.94 2.06-2.06.94zm10 10l.94 2.06.94-2.06 2.06-.94-2.06-.94-.94-2.06-.94 2.06-2.06.94z\"/><path d=\"M17.41 7.96l-1.37-1.37c-.4-.4-.92-.59-1.43-.59-.52 0-1.04.2-1.43.59L10.3 9.45l-7.72 7.72c-.78.78-.78 2.05 0 2.83L4 21.41c.39.39.9.59 1.41.59.51 0 1.02-.2 1.41-.59l7.78-7.78 2.81-2.81c.8-.78.8-2.07 0-2.86zM5.41 20L4 18.59l7.72-7.72 1.47 1.35L5.41 20z\"/>\n",
              "  </svg>\n",
              "      </button>\n",
              "      \n",
              "  <style>\n",
              "    .colab-df-container {\n",
              "      display:flex;\n",
              "      flex-wrap:wrap;\n",
              "      gap: 12px;\n",
              "    }\n",
              "\n",
              "    .colab-df-convert {\n",
              "      background-color: #E8F0FE;\n",
              "      border: none;\n",
              "      border-radius: 50%;\n",
              "      cursor: pointer;\n",
              "      display: none;\n",
              "      fill: #1967D2;\n",
              "      height: 32px;\n",
              "      padding: 0 0 0 0;\n",
              "      width: 32px;\n",
              "    }\n",
              "\n",
              "    .colab-df-convert:hover {\n",
              "      background-color: #E2EBFA;\n",
              "      box-shadow: 0px 1px 2px rgba(60, 64, 67, 0.3), 0px 1px 3px 1px rgba(60, 64, 67, 0.15);\n",
              "      fill: #174EA6;\n",
              "    }\n",
              "\n",
              "    [theme=dark] .colab-df-convert {\n",
              "      background-color: #3B4455;\n",
              "      fill: #D2E3FC;\n",
              "    }\n",
              "\n",
              "    [theme=dark] .colab-df-convert:hover {\n",
              "      background-color: #434B5C;\n",
              "      box-shadow: 0px 1px 3px 1px rgba(0, 0, 0, 0.15);\n",
              "      filter: drop-shadow(0px 1px 2px rgba(0, 0, 0, 0.3));\n",
              "      fill: #FFFFFF;\n",
              "    }\n",
              "  </style>\n",
              "\n",
              "      <script>\n",
              "        const buttonEl =\n",
              "          document.querySelector('#df-d89305e9-b4b6-4923-80f4-b1d1a2e794ce button.colab-df-convert');\n",
              "        buttonEl.style.display =\n",
              "          google.colab.kernel.accessAllowed ? 'block' : 'none';\n",
              "\n",
              "        async function convertToInteractive(key) {\n",
              "          const element = document.querySelector('#df-d89305e9-b4b6-4923-80f4-b1d1a2e794ce');\n",
              "          const dataTable =\n",
              "            await google.colab.kernel.invokeFunction('convertToInteractive',\n",
              "                                                     [key], {});\n",
              "          if (!dataTable) return;\n",
              "\n",
              "          const docLinkHtml = 'Like what you see? Visit the ' +\n",
              "            '<a target=\"_blank\" href=https://colab.research.google.com/notebooks/data_table.ipynb>data table notebook</a>'\n",
              "            + ' to learn more about interactive tables.';\n",
              "          element.innerHTML = '';\n",
              "          dataTable['output_type'] = 'display_data';\n",
              "          await google.colab.output.renderOutput(dataTable, element);\n",
              "          const docLink = document.createElement('div');\n",
              "          docLink.innerHTML = docLinkHtml;\n",
              "          element.appendChild(docLink);\n",
              "        }\n",
              "      </script>\n",
              "    </div>\n",
              "  </div>\n",
              "  "
            ]
          },
          "metadata": {},
          "execution_count": 15
        }
      ]
    },
    {
      "cell_type": "code",
      "source": [
        "# let’s check the summary statistics for each of the columns\n",
        "data_df.describe().round()"
      ],
      "metadata": {
        "id": "Z8lz3D0it8Sk",
        "outputId": "2e263624-9983-4a8f-d608-83be4303605b",
        "colab": {
          "base_uri": "https://localhost:8080/",
          "height": 300
        }
      },
      "execution_count": null,
      "outputs": [
        {
          "output_type": "execute_result",
          "data": {
            "text/plain": [
              "       seniority    time     age  expenses      income      assets  \\\n",
              "count     4455.0  4455.0  4455.0    4455.0      4455.0      4455.0   \n",
              "mean         8.0    46.0    37.0      56.0    763317.0   1060341.0   \n",
              "std          8.0    15.0    11.0      20.0   8703625.0  10217569.0   \n",
              "min          0.0     6.0    18.0      35.0         0.0         0.0   \n",
              "25%          2.0    36.0    28.0      35.0        80.0         0.0   \n",
              "50%          5.0    48.0    36.0      51.0       120.0      3500.0   \n",
              "75%         12.0    60.0    45.0      72.0       166.0      6000.0   \n",
              "max         48.0    72.0    68.0     180.0  99999999.0  99999999.0   \n",
              "\n",
              "             debt  amount    price  \n",
              "count      4455.0  4455.0   4455.0  \n",
              "mean     404382.0  1039.0   1463.0  \n",
              "std     6344253.0   475.0    628.0  \n",
              "min           0.0   100.0    105.0  \n",
              "25%           0.0   700.0   1118.0  \n",
              "50%           0.0  1000.0   1400.0  \n",
              "75%           0.0  1300.0   1692.0  \n",
              "max    99999999.0  5000.0  11140.0  "
            ],
            "text/html": [
              "\n",
              "  <div id=\"df-9a5e2142-c3d8-43a9-8fb7-268cb30c469e\">\n",
              "    <div class=\"colab-df-container\">\n",
              "      <div>\n",
              "<style scoped>\n",
              "    .dataframe tbody tr th:only-of-type {\n",
              "        vertical-align: middle;\n",
              "    }\n",
              "\n",
              "    .dataframe tbody tr th {\n",
              "        vertical-align: top;\n",
              "    }\n",
              "\n",
              "    .dataframe thead th {\n",
              "        text-align: right;\n",
              "    }\n",
              "</style>\n",
              "<table border=\"1\" class=\"dataframe\">\n",
              "  <thead>\n",
              "    <tr style=\"text-align: right;\">\n",
              "      <th></th>\n",
              "      <th>seniority</th>\n",
              "      <th>time</th>\n",
              "      <th>age</th>\n",
              "      <th>expenses</th>\n",
              "      <th>income</th>\n",
              "      <th>assets</th>\n",
              "      <th>debt</th>\n",
              "      <th>amount</th>\n",
              "      <th>price</th>\n",
              "    </tr>\n",
              "  </thead>\n",
              "  <tbody>\n",
              "    <tr>\n",
              "      <th>count</th>\n",
              "      <td>4455.0</td>\n",
              "      <td>4455.0</td>\n",
              "      <td>4455.0</td>\n",
              "      <td>4455.0</td>\n",
              "      <td>4455.0</td>\n",
              "      <td>4455.0</td>\n",
              "      <td>4455.0</td>\n",
              "      <td>4455.0</td>\n",
              "      <td>4455.0</td>\n",
              "    </tr>\n",
              "    <tr>\n",
              "      <th>mean</th>\n",
              "      <td>8.0</td>\n",
              "      <td>46.0</td>\n",
              "      <td>37.0</td>\n",
              "      <td>56.0</td>\n",
              "      <td>763317.0</td>\n",
              "      <td>1060341.0</td>\n",
              "      <td>404382.0</td>\n",
              "      <td>1039.0</td>\n",
              "      <td>1463.0</td>\n",
              "    </tr>\n",
              "    <tr>\n",
              "      <th>std</th>\n",
              "      <td>8.0</td>\n",
              "      <td>15.0</td>\n",
              "      <td>11.0</td>\n",
              "      <td>20.0</td>\n",
              "      <td>8703625.0</td>\n",
              "      <td>10217569.0</td>\n",
              "      <td>6344253.0</td>\n",
              "      <td>475.0</td>\n",
              "      <td>628.0</td>\n",
              "    </tr>\n",
              "    <tr>\n",
              "      <th>min</th>\n",
              "      <td>0.0</td>\n",
              "      <td>6.0</td>\n",
              "      <td>18.0</td>\n",
              "      <td>35.0</td>\n",
              "      <td>0.0</td>\n",
              "      <td>0.0</td>\n",
              "      <td>0.0</td>\n",
              "      <td>100.0</td>\n",
              "      <td>105.0</td>\n",
              "    </tr>\n",
              "    <tr>\n",
              "      <th>25%</th>\n",
              "      <td>2.0</td>\n",
              "      <td>36.0</td>\n",
              "      <td>28.0</td>\n",
              "      <td>35.0</td>\n",
              "      <td>80.0</td>\n",
              "      <td>0.0</td>\n",
              "      <td>0.0</td>\n",
              "      <td>700.0</td>\n",
              "      <td>1118.0</td>\n",
              "    </tr>\n",
              "    <tr>\n",
              "      <th>50%</th>\n",
              "      <td>5.0</td>\n",
              "      <td>48.0</td>\n",
              "      <td>36.0</td>\n",
              "      <td>51.0</td>\n",
              "      <td>120.0</td>\n",
              "      <td>3500.0</td>\n",
              "      <td>0.0</td>\n",
              "      <td>1000.0</td>\n",
              "      <td>1400.0</td>\n",
              "    </tr>\n",
              "    <tr>\n",
              "      <th>75%</th>\n",
              "      <td>12.0</td>\n",
              "      <td>60.0</td>\n",
              "      <td>45.0</td>\n",
              "      <td>72.0</td>\n",
              "      <td>166.0</td>\n",
              "      <td>6000.0</td>\n",
              "      <td>0.0</td>\n",
              "      <td>1300.0</td>\n",
              "      <td>1692.0</td>\n",
              "    </tr>\n",
              "    <tr>\n",
              "      <th>max</th>\n",
              "      <td>48.0</td>\n",
              "      <td>72.0</td>\n",
              "      <td>68.0</td>\n",
              "      <td>180.0</td>\n",
              "      <td>99999999.0</td>\n",
              "      <td>99999999.0</td>\n",
              "      <td>99999999.0</td>\n",
              "      <td>5000.0</td>\n",
              "      <td>11140.0</td>\n",
              "    </tr>\n",
              "  </tbody>\n",
              "</table>\n",
              "</div>\n",
              "      <button class=\"colab-df-convert\" onclick=\"convertToInteractive('df-9a5e2142-c3d8-43a9-8fb7-268cb30c469e')\"\n",
              "              title=\"Convert this dataframe to an interactive table.\"\n",
              "              style=\"display:none;\">\n",
              "        \n",
              "  <svg xmlns=\"http://www.w3.org/2000/svg\" height=\"24px\"viewBox=\"0 0 24 24\"\n",
              "       width=\"24px\">\n",
              "    <path d=\"M0 0h24v24H0V0z\" fill=\"none\"/>\n",
              "    <path d=\"M18.56 5.44l.94 2.06.94-2.06 2.06-.94-2.06-.94-.94-2.06-.94 2.06-2.06.94zm-11 1L8.5 8.5l.94-2.06 2.06-.94-2.06-.94L8.5 2.5l-.94 2.06-2.06.94zm10 10l.94 2.06.94-2.06 2.06-.94-2.06-.94-.94-2.06-.94 2.06-2.06.94z\"/><path d=\"M17.41 7.96l-1.37-1.37c-.4-.4-.92-.59-1.43-.59-.52 0-1.04.2-1.43.59L10.3 9.45l-7.72 7.72c-.78.78-.78 2.05 0 2.83L4 21.41c.39.39.9.59 1.41.59.51 0 1.02-.2 1.41-.59l7.78-7.78 2.81-2.81c.8-.78.8-2.07 0-2.86zM5.41 20L4 18.59l7.72-7.72 1.47 1.35L5.41 20z\"/>\n",
              "  </svg>\n",
              "      </button>\n",
              "      \n",
              "  <style>\n",
              "    .colab-df-container {\n",
              "      display:flex;\n",
              "      flex-wrap:wrap;\n",
              "      gap: 12px;\n",
              "    }\n",
              "\n",
              "    .colab-df-convert {\n",
              "      background-color: #E8F0FE;\n",
              "      border: none;\n",
              "      border-radius: 50%;\n",
              "      cursor: pointer;\n",
              "      display: none;\n",
              "      fill: #1967D2;\n",
              "      height: 32px;\n",
              "      padding: 0 0 0 0;\n",
              "      width: 32px;\n",
              "    }\n",
              "\n",
              "    .colab-df-convert:hover {\n",
              "      background-color: #E2EBFA;\n",
              "      box-shadow: 0px 1px 2px rgba(60, 64, 67, 0.3), 0px 1px 3px 1px rgba(60, 64, 67, 0.15);\n",
              "      fill: #174EA6;\n",
              "    }\n",
              "\n",
              "    [theme=dark] .colab-df-convert {\n",
              "      background-color: #3B4455;\n",
              "      fill: #D2E3FC;\n",
              "    }\n",
              "\n",
              "    [theme=dark] .colab-df-convert:hover {\n",
              "      background-color: #434B5C;\n",
              "      box-shadow: 0px 1px 3px 1px rgba(0, 0, 0, 0.15);\n",
              "      filter: drop-shadow(0px 1px 2px rgba(0, 0, 0, 0.3));\n",
              "      fill: #FFFFFF;\n",
              "    }\n",
              "  </style>\n",
              "\n",
              "      <script>\n",
              "        const buttonEl =\n",
              "          document.querySelector('#df-9a5e2142-c3d8-43a9-8fb7-268cb30c469e button.colab-df-convert');\n",
              "        buttonEl.style.display =\n",
              "          google.colab.kernel.accessAllowed ? 'block' : 'none';\n",
              "\n",
              "        async function convertToInteractive(key) {\n",
              "          const element = document.querySelector('#df-9a5e2142-c3d8-43a9-8fb7-268cb30c469e');\n",
              "          const dataTable =\n",
              "            await google.colab.kernel.invokeFunction('convertToInteractive',\n",
              "                                                     [key], {});\n",
              "          if (!dataTable) return;\n",
              "\n",
              "          const docLinkHtml = 'Like what you see? Visit the ' +\n",
              "            '<a target=\"_blank\" href=https://colab.research.google.com/notebooks/data_table.ipynb>data table notebook</a>'\n",
              "            + ' to learn more about interactive tables.';\n",
              "          element.innerHTML = '';\n",
              "          dataTable['output_type'] = 'display_data';\n",
              "          await google.colab.output.renderOutput(dataTable, element);\n",
              "          const docLink = document.createElement('div');\n",
              "          docLink.innerHTML = docLinkHtml;\n",
              "          element.appendChild(docLink);\n",
              "        }\n",
              "      </script>\n",
              "    </div>\n",
              "  </div>\n",
              "  "
            ]
          },
          "metadata": {},
          "execution_count": 16
        }
      ]
    },
    {
      "cell_type": "code",
      "source": [
        "# Let’s replace this big number with NaN for these columns\n",
        "for c in [\"income\", \"assets\", \"debt\"]:\n",
        "  data_df[c] = data_df[c].replace(to_replace=99999999, value=np.nan) "
      ],
      "metadata": {
        "id": "KcN81S5DxjIg"
      },
      "execution_count": null,
      "outputs": []
    },
    {
      "cell_type": "code",
      "source": [
        "data_df.isnull().sum()"
      ],
      "metadata": {
        "id": "AW8WIsOKx8rg",
        "outputId": "3c0d275d-083a-4abb-ce0e-759088559bb7",
        "colab": {
          "base_uri": "https://localhost:8080/"
        }
      },
      "execution_count": null,
      "outputs": [
        {
          "output_type": "execute_result",
          "data": {
            "text/plain": [
              "status        0\n",
              "seniority     0\n",
              "home          0\n",
              "time          0\n",
              "age           0\n",
              "marital       0\n",
              "records       0\n",
              "job           0\n",
              "expenses      0\n",
              "income       34\n",
              "assets       47\n",
              "debt         18\n",
              "amount        0\n",
              "price         0\n",
              "dtype: int64"
            ]
          },
          "metadata": {},
          "execution_count": 18
        }
      ]
    },
    {
      "cell_type": "code",
      "source": [
        "data_df.describe().round()"
      ],
      "metadata": {
        "id": "UoipaU6kyGwS",
        "outputId": "a91e662b-8d2c-4c92-c66c-6739d636cd08",
        "colab": {
          "base_uri": "https://localhost:8080/",
          "height": 300
        }
      },
      "execution_count": null,
      "outputs": [
        {
          "output_type": "execute_result",
          "data": {
            "text/plain": [
              "       seniority    time     age  expenses  income    assets     debt  amount  \\\n",
              "count     4455.0  4455.0  4455.0    4455.0  4421.0    4408.0   4437.0  4455.0   \n",
              "mean         8.0    46.0    37.0      56.0   131.0    5403.0    343.0  1039.0   \n",
              "std          8.0    15.0    11.0      20.0    86.0   11573.0   1246.0   475.0   \n",
              "min          0.0     6.0    18.0      35.0     0.0       0.0      0.0   100.0   \n",
              "25%          2.0    36.0    28.0      35.0    80.0       0.0      0.0   700.0   \n",
              "50%          5.0    48.0    36.0      51.0   120.0    3000.0      0.0  1000.0   \n",
              "75%         12.0    60.0    45.0      72.0   165.0    6000.0      0.0  1300.0   \n",
              "max         48.0    72.0    68.0     180.0   959.0  300000.0  30000.0  5000.0   \n",
              "\n",
              "         price  \n",
              "count   4455.0  \n",
              "mean    1463.0  \n",
              "std      628.0  \n",
              "min      105.0  \n",
              "25%     1118.0  \n",
              "50%     1400.0  \n",
              "75%     1692.0  \n",
              "max    11140.0  "
            ],
            "text/html": [
              "\n",
              "  <div id=\"df-5950bb32-a3ed-4fa9-bded-d9bf251bef38\">\n",
              "    <div class=\"colab-df-container\">\n",
              "      <div>\n",
              "<style scoped>\n",
              "    .dataframe tbody tr th:only-of-type {\n",
              "        vertical-align: middle;\n",
              "    }\n",
              "\n",
              "    .dataframe tbody tr th {\n",
              "        vertical-align: top;\n",
              "    }\n",
              "\n",
              "    .dataframe thead th {\n",
              "        text-align: right;\n",
              "    }\n",
              "</style>\n",
              "<table border=\"1\" class=\"dataframe\">\n",
              "  <thead>\n",
              "    <tr style=\"text-align: right;\">\n",
              "      <th></th>\n",
              "      <th>seniority</th>\n",
              "      <th>time</th>\n",
              "      <th>age</th>\n",
              "      <th>expenses</th>\n",
              "      <th>income</th>\n",
              "      <th>assets</th>\n",
              "      <th>debt</th>\n",
              "      <th>amount</th>\n",
              "      <th>price</th>\n",
              "    </tr>\n",
              "  </thead>\n",
              "  <tbody>\n",
              "    <tr>\n",
              "      <th>count</th>\n",
              "      <td>4455.0</td>\n",
              "      <td>4455.0</td>\n",
              "      <td>4455.0</td>\n",
              "      <td>4455.0</td>\n",
              "      <td>4421.0</td>\n",
              "      <td>4408.0</td>\n",
              "      <td>4437.0</td>\n",
              "      <td>4455.0</td>\n",
              "      <td>4455.0</td>\n",
              "    </tr>\n",
              "    <tr>\n",
              "      <th>mean</th>\n",
              "      <td>8.0</td>\n",
              "      <td>46.0</td>\n",
              "      <td>37.0</td>\n",
              "      <td>56.0</td>\n",
              "      <td>131.0</td>\n",
              "      <td>5403.0</td>\n",
              "      <td>343.0</td>\n",
              "      <td>1039.0</td>\n",
              "      <td>1463.0</td>\n",
              "    </tr>\n",
              "    <tr>\n",
              "      <th>std</th>\n",
              "      <td>8.0</td>\n",
              "      <td>15.0</td>\n",
              "      <td>11.0</td>\n",
              "      <td>20.0</td>\n",
              "      <td>86.0</td>\n",
              "      <td>11573.0</td>\n",
              "      <td>1246.0</td>\n",
              "      <td>475.0</td>\n",
              "      <td>628.0</td>\n",
              "    </tr>\n",
              "    <tr>\n",
              "      <th>min</th>\n",
              "      <td>0.0</td>\n",
              "      <td>6.0</td>\n",
              "      <td>18.0</td>\n",
              "      <td>35.0</td>\n",
              "      <td>0.0</td>\n",
              "      <td>0.0</td>\n",
              "      <td>0.0</td>\n",
              "      <td>100.0</td>\n",
              "      <td>105.0</td>\n",
              "    </tr>\n",
              "    <tr>\n",
              "      <th>25%</th>\n",
              "      <td>2.0</td>\n",
              "      <td>36.0</td>\n",
              "      <td>28.0</td>\n",
              "      <td>35.0</td>\n",
              "      <td>80.0</td>\n",
              "      <td>0.0</td>\n",
              "      <td>0.0</td>\n",
              "      <td>700.0</td>\n",
              "      <td>1118.0</td>\n",
              "    </tr>\n",
              "    <tr>\n",
              "      <th>50%</th>\n",
              "      <td>5.0</td>\n",
              "      <td>48.0</td>\n",
              "      <td>36.0</td>\n",
              "      <td>51.0</td>\n",
              "      <td>120.0</td>\n",
              "      <td>3000.0</td>\n",
              "      <td>0.0</td>\n",
              "      <td>1000.0</td>\n",
              "      <td>1400.0</td>\n",
              "    </tr>\n",
              "    <tr>\n",
              "      <th>75%</th>\n",
              "      <td>12.0</td>\n",
              "      <td>60.0</td>\n",
              "      <td>45.0</td>\n",
              "      <td>72.0</td>\n",
              "      <td>165.0</td>\n",
              "      <td>6000.0</td>\n",
              "      <td>0.0</td>\n",
              "      <td>1300.0</td>\n",
              "      <td>1692.0</td>\n",
              "    </tr>\n",
              "    <tr>\n",
              "      <th>max</th>\n",
              "      <td>48.0</td>\n",
              "      <td>72.0</td>\n",
              "      <td>68.0</td>\n",
              "      <td>180.0</td>\n",
              "      <td>959.0</td>\n",
              "      <td>300000.0</td>\n",
              "      <td>30000.0</td>\n",
              "      <td>5000.0</td>\n",
              "      <td>11140.0</td>\n",
              "    </tr>\n",
              "  </tbody>\n",
              "</table>\n",
              "</div>\n",
              "      <button class=\"colab-df-convert\" onclick=\"convertToInteractive('df-5950bb32-a3ed-4fa9-bded-d9bf251bef38')\"\n",
              "              title=\"Convert this dataframe to an interactive table.\"\n",
              "              style=\"display:none;\">\n",
              "        \n",
              "  <svg xmlns=\"http://www.w3.org/2000/svg\" height=\"24px\"viewBox=\"0 0 24 24\"\n",
              "       width=\"24px\">\n",
              "    <path d=\"M0 0h24v24H0V0z\" fill=\"none\"/>\n",
              "    <path d=\"M18.56 5.44l.94 2.06.94-2.06 2.06-.94-2.06-.94-.94-2.06-.94 2.06-2.06.94zm-11 1L8.5 8.5l.94-2.06 2.06-.94-2.06-.94L8.5 2.5l-.94 2.06-2.06.94zm10 10l.94 2.06.94-2.06 2.06-.94-2.06-.94-.94-2.06-.94 2.06-2.06.94z\"/><path d=\"M17.41 7.96l-1.37-1.37c-.4-.4-.92-.59-1.43-.59-.52 0-1.04.2-1.43.59L10.3 9.45l-7.72 7.72c-.78.78-.78 2.05 0 2.83L4 21.41c.39.39.9.59 1.41.59.51 0 1.02-.2 1.41-.59l7.78-7.78 2.81-2.81c.8-.78.8-2.07 0-2.86zM5.41 20L4 18.59l7.72-7.72 1.47 1.35L5.41 20z\"/>\n",
              "  </svg>\n",
              "      </button>\n",
              "      \n",
              "  <style>\n",
              "    .colab-df-container {\n",
              "      display:flex;\n",
              "      flex-wrap:wrap;\n",
              "      gap: 12px;\n",
              "    }\n",
              "\n",
              "    .colab-df-convert {\n",
              "      background-color: #E8F0FE;\n",
              "      border: none;\n",
              "      border-radius: 50%;\n",
              "      cursor: pointer;\n",
              "      display: none;\n",
              "      fill: #1967D2;\n",
              "      height: 32px;\n",
              "      padding: 0 0 0 0;\n",
              "      width: 32px;\n",
              "    }\n",
              "\n",
              "    .colab-df-convert:hover {\n",
              "      background-color: #E2EBFA;\n",
              "      box-shadow: 0px 1px 2px rgba(60, 64, 67, 0.3), 0px 1px 3px 1px rgba(60, 64, 67, 0.15);\n",
              "      fill: #174EA6;\n",
              "    }\n",
              "\n",
              "    [theme=dark] .colab-df-convert {\n",
              "      background-color: #3B4455;\n",
              "      fill: #D2E3FC;\n",
              "    }\n",
              "\n",
              "    [theme=dark] .colab-df-convert:hover {\n",
              "      background-color: #434B5C;\n",
              "      box-shadow: 0px 1px 3px 1px rgba(0, 0, 0, 0.15);\n",
              "      filter: drop-shadow(0px 1px 2px rgba(0, 0, 0, 0.3));\n",
              "      fill: #FFFFFF;\n",
              "    }\n",
              "  </style>\n",
              "\n",
              "      <script>\n",
              "        const buttonEl =\n",
              "          document.querySelector('#df-5950bb32-a3ed-4fa9-bded-d9bf251bef38 button.colab-df-convert');\n",
              "        buttonEl.style.display =\n",
              "          google.colab.kernel.accessAllowed ? 'block' : 'none';\n",
              "\n",
              "        async function convertToInteractive(key) {\n",
              "          const element = document.querySelector('#df-5950bb32-a3ed-4fa9-bded-d9bf251bef38');\n",
              "          const dataTable =\n",
              "            await google.colab.kernel.invokeFunction('convertToInteractive',\n",
              "                                                     [key], {});\n",
              "          if (!dataTable) return;\n",
              "\n",
              "          const docLinkHtml = 'Like what you see? Visit the ' +\n",
              "            '<a target=\"_blank\" href=https://colab.research.google.com/notebooks/data_table.ipynb>data table notebook</a>'\n",
              "            + ' to learn more about interactive tables.';\n",
              "          element.innerHTML = '';\n",
              "          dataTable['output_type'] = 'display_data';\n",
              "          await google.colab.output.renderOutput(dataTable, element);\n",
              "          const docLink = document.createElement('div');\n",
              "          docLink.innerHTML = docLinkHtml;\n",
              "          element.appendChild(docLink);\n",
              "        }\n",
              "      </script>\n",
              "    </div>\n",
              "  </div>\n",
              "  "
            ]
          },
          "metadata": {},
          "execution_count": 19
        }
      ]
    },
    {
      "cell_type": "code",
      "source": [
        "# let’s look at our target variable status\n",
        "data_df.status.value_counts()"
      ],
      "metadata": {
        "id": "PTjqDsoAysuo",
        "outputId": "42ef70e4-8c0b-42ff-8bfc-158f676b636a",
        "colab": {
          "base_uri": "https://localhost:8080/"
        }
      },
      "execution_count": null,
      "outputs": [
        {
          "output_type": "execute_result",
          "data": {
            "text/plain": [
              "ok         3200\n",
              "default    1254\n",
              "unk           1\n",
              "Name: status, dtype: int64"
            ]
          },
          "metadata": {},
          "execution_count": 20
        }
      ]
    },
    {
      "cell_type": "code",
      "source": [
        "# this row is not useful, so let’s remove it\n",
        "data_df = data_df[data_df.status != \"unk\"]"
      ],
      "metadata": {
        "id": "Gw_2BiHEy2ib"
      },
      "execution_count": null,
      "outputs": []
    },
    {
      "cell_type": "code",
      "source": [
        "data_df.status.value_counts()"
      ],
      "metadata": {
        "id": "-zvqa1IdzCp4",
        "outputId": "4289d066-d039-4c57-c563-1c3f6a760468",
        "colab": {
          "base_uri": "https://localhost:8080/"
        }
      },
      "execution_count": null,
      "outputs": [
        {
          "output_type": "execute_result",
          "data": {
            "text/plain": [
              "ok         3200\n",
              "default    1254\n",
              "Name: status, dtype: int64"
            ]
          },
          "metadata": {},
          "execution_count": 22
        }
      ]
    },
    {
      "cell_type": "markdown",
      "source": [
        "##Dataset preparation"
      ],
      "metadata": {
        "id": "ihUFw9Vx3ZZ-"
      }
    },
    {
      "cell_type": "code",
      "source": [
        "# Let’s start by splitting the data\n",
        "df_train_full, df_test = train_test_split(data_df, test_size=0.2, random_state=11)\n",
        "df_train, df_val = train_test_split(df_train_full, test_size=0.25, random_state=11)"
      ],
      "metadata": {
        "id": "t_5IDm2bYrEv"
      },
      "execution_count": null,
      "outputs": []
    },
    {
      "cell_type": "code",
      "source": [
        "len(df_train), len(df_val), len(df_test)"
      ],
      "metadata": {
        "id": "SIwLgbakuRxn",
        "outputId": "12f95f26-26c6-4f27-a6f7-13cdd03aacaf",
        "colab": {
          "base_uri": "https://localhost:8080/"
        }
      },
      "execution_count": null,
      "outputs": [
        {
          "output_type": "execute_result",
          "data": {
            "text/plain": [
              "(2672, 891, 891)"
            ]
          },
          "metadata": {},
          "execution_count": 24
        }
      ]
    },
    {
      "cell_type": "code",
      "source": [
        "# let's convert label to 0 and 1\n",
        "y_train = (df_train.status == \"default\").values\n",
        "y_val = (df_val.status == \"default\").values"
      ],
      "metadata": {
        "id": "dUIvRrWau4HW"
      },
      "execution_count": null,
      "outputs": []
    },
    {
      "cell_type": "code",
      "source": [
        "# Now we need to remove status from the DataFrames.\n",
        "del df_train[\"status\"]\n",
        "del df_val[\"status\"]"
      ],
      "metadata": {
        "id": "ZlTlIJhKvVDI"
      },
      "execution_count": null,
      "outputs": []
    },
    {
      "cell_type": "code",
      "source": [
        "# let's replace the missing values with zero\n",
        "df_train = df_train.fillna(0)\n",
        "df_val = df_val.fillna(0)"
      ],
      "metadata": {
        "id": "VMWcVNPuvmvq"
      },
      "execution_count": null,
      "outputs": []
    },
    {
      "cell_type": "code",
      "source": [
        "# let's convert the DataFrames into dictionaries\n",
        "dict_train = df_train.to_dict(orient=\"records\")\n",
        "dict_val = df_val.to_dict(orient=\"records\")"
      ],
      "metadata": {
        "id": "tQn66zvowIAI"
      },
      "execution_count": null,
      "outputs": []
    },
    {
      "cell_type": "code",
      "source": [
        "dict_train[0]"
      ],
      "metadata": {
        "id": "wWQ9TJ2jwmY8",
        "outputId": "0151c05e-bb66-4f17-a2d7-0f52d4dcd4e8",
        "colab": {
          "base_uri": "https://localhost:8080/"
        }
      },
      "execution_count": null,
      "outputs": [
        {
          "output_type": "execute_result",
          "data": {
            "text/plain": [
              "{'seniority': 10,\n",
              " 'home': 'owner',\n",
              " 'time': 36,\n",
              " 'age': 36,\n",
              " 'marital': 'married',\n",
              " 'records': 'no',\n",
              " 'job': 'freelance',\n",
              " 'expenses': 75,\n",
              " 'income': 0.0,\n",
              " 'assets': 10000.0,\n",
              " 'debt': 0.0,\n",
              " 'amount': 1000,\n",
              " 'price': 1400}"
            ]
          },
          "metadata": {},
          "execution_count": 29
        }
      ]
    },
    {
      "cell_type": "code",
      "source": [
        "# now, let's apply one-hot encoding technique\n",
        "dv = DictVectorizer(sparse=False)\n",
        "\n",
        "x_train = dv.fit_transform(dict_train)\n",
        "x_val = dv.transform(dict_val)"
      ],
      "metadata": {
        "id": "h6Mt77dzx3xT"
      },
      "execution_count": null,
      "outputs": []
    },
    {
      "cell_type": "markdown",
      "source": [
        "##Decision trees"
      ],
      "metadata": {
        "id": "7zx84Vs9yevV"
      }
    },
    {
      "cell_type": "code",
      "source": [
        "# Let's fit the tree with default parameters\n",
        "dt = DecisionTreeClassifier()\n",
        "dt.fit(x_train, y_train)"
      ],
      "metadata": {
        "id": "8zKkO7ynyf9Q",
        "outputId": "0dee9892-5bfc-43a9-aa07-5bd2cc6fa147",
        "colab": {
          "base_uri": "https://localhost:8080/"
        }
      },
      "execution_count": null,
      "outputs": [
        {
          "output_type": "execute_result",
          "data": {
            "text/plain": [
              "DecisionTreeClassifier()"
            ]
          },
          "metadata": {},
          "execution_count": 31
        }
      ]
    },
    {
      "cell_type": "code",
      "source": [
        "# To get the predictions (probabilities)\n",
        "y_pred = dt.predict_proba(x_train)[:, 1]\n",
        "roc_auc_score(y_train, y_pred)"
      ],
      "metadata": {
        "id": "LtWPR3-7o1n1",
        "outputId": "7f08c615-f1c2-4b34-9284-48cde94bb4d5",
        "colab": {
          "base_uri": "https://localhost:8080/"
        }
      },
      "execution_count": null,
      "outputs": [
        {
          "output_type": "execute_result",
          "data": {
            "text/plain": [
              "1.0"
            ]
          },
          "metadata": {},
          "execution_count": 32
        }
      ]
    },
    {
      "cell_type": "code",
      "source": [
        "# And on validation\n",
        "y_pred = dt.predict_proba(x_val)[:, 1]\n",
        "roc_auc_score(y_val, y_pred)"
      ],
      "metadata": {
        "id": "Pv1JFx5QpK0P",
        "outputId": "254d4a00-7cf0-4f87-9448-b3cee4ad3434",
        "colab": {
          "base_uri": "https://localhost:8080/"
        }
      },
      "execution_count": null,
      "outputs": [
        {
          "output_type": "execute_result",
          "data": {
            "text/plain": [
              "0.6519641084013466"
            ]
          },
          "metadata": {},
          "execution_count": 33
        }
      ]
    },
    {
      "cell_type": "markdown",
      "source": [
        "That's a case of overfitting - our model on the training data performs perfectly, but fails on validation."
      ],
      "metadata": {
        "id": "2wYkeiR7paNo"
      }
    },
    {
      "cell_type": "code",
      "source": [
        "# Let's change the depth parameter: restring the size of the tree to 2 levels\n",
        "dt = DecisionTreeClassifier(max_depth=2)\n",
        "dt.fit(x_train, y_train)"
      ],
      "metadata": {
        "id": "z5JJSkELpgMK",
        "outputId": "85832610-80fb-4cea-da88-1cb1601a1ca5",
        "colab": {
          "base_uri": "https://localhost:8080/"
        }
      },
      "execution_count": null,
      "outputs": [
        {
          "output_type": "execute_result",
          "data": {
            "text/plain": [
              "DecisionTreeClassifier(max_depth=2)"
            ]
          },
          "metadata": {},
          "execution_count": 34
        }
      ]
    },
    {
      "cell_type": "code",
      "source": [
        "y_pred = dt.predict_proba(x_train)[:, 1]\n",
        "acc = roc_auc_score(y_train, y_pred)\n",
        "print(f\"train accuracy: {acc}\")\n",
        "\n",
        "y_pred = dt.predict_proba(x_val)[:, 1]\n",
        "acc = roc_auc_score(y_val, y_pred)\n",
        "print(f\"val accuracy: {acc}\")"
      ],
      "metadata": {
        "id": "ILo3PzdRq8fV",
        "outputId": "dab7c69f-93fe-4fc1-8f72-d1f3a04c5a88",
        "colab": {
          "base_uri": "https://localhost:8080/"
        }
      },
      "execution_count": null,
      "outputs": [
        {
          "output_type": "stream",
          "name": "stdout",
          "text": [
            "train accuracy: 0.7054989859726213\n",
            "val accuracy: 0.6685264343319367\n"
          ]
        }
      ]
    },
    {
      "cell_type": "code",
      "source": [
        "# let's show the tree\n",
        "print(export_text(dt, feature_names=dv.get_feature_names()))"
      ],
      "metadata": {
        "id": "jJoTs1zsro8d",
        "outputId": "b191f70f-9540-4402-c547-f00ab91c1d34",
        "colab": {
          "base_uri": "https://localhost:8080/"
        }
      },
      "execution_count": null,
      "outputs": [
        {
          "output_type": "stream",
          "name": "stdout",
          "text": [
            "|--- records=no <= 0.50\n",
            "|   |--- seniority <= 6.50\n",
            "|   |   |--- class: True\n",
            "|   |--- seniority >  6.50\n",
            "|   |   |--- class: False\n",
            "|--- records=no >  0.50\n",
            "|   |--- job=partime <= 0.50\n",
            "|   |   |--- class: False\n",
            "|   |--- job=partime >  0.50\n",
            "|   |   |--- class: True\n",
            "\n"
          ]
        },
        {
          "output_type": "stream",
          "name": "stderr",
          "text": [
            "/usr/local/lib/python3.8/dist-packages/sklearn/utils/deprecation.py:87: FutureWarning: Function get_feature_names is deprecated; get_feature_names is deprecated in 1.0 and will be removed in 1.2. Please use get_feature_names_out instead.\n",
            "  warnings.warn(msg, category=FutureWarning)\n"
          ]
        }
      ]
    },
    {
      "cell_type": "code",
      "source": [
        "# let's plot the tree\n",
        "export_graphviz(dt,\n",
        "                out_file=\"dt1.dot\",\n",
        "                rounded=True,\n",
        "                filled=True)\n",
        "Source.from_file(\"dt1.dot\")"
      ],
      "metadata": {
        "id": "aLZdGerVtoLo",
        "outputId": "c73a7abc-44a3-44b2-e067-c2a4fb226d53",
        "colab": {
          "base_uri": "https://localhost:8080/",
          "height": 380
        }
      },
      "execution_count": null,
      "outputs": [
        {
          "output_type": "execute_result",
          "data": {
            "text/plain": [
              "<graphviz.files.Source at 0x7f5e9c9736a0>"
            ],
            "image/svg+xml": "<?xml version=\"1.0\" encoding=\"UTF-8\" standalone=\"no\"?>\n<!DOCTYPE svg PUBLIC \"-//W3C//DTD SVG 1.1//EN\"\n \"http://www.w3.org/Graphics/SVG/1.1/DTD/svg11.dtd\">\n<!-- Generated by graphviz version 2.43.0 (0)\n -->\n<!-- Title: Tree Pages: 1 -->\n<svg width=\"548pt\" height=\"269pt\"\n viewBox=\"0.00 0.00 548.00 269.00\" xmlns=\"http://www.w3.org/2000/svg\" xmlns:xlink=\"http://www.w3.org/1999/xlink\">\n<g id=\"graph0\" class=\"graph\" transform=\"scale(1 1) rotate(0) translate(4 265)\">\n<title>Tree</title>\n<polygon fill=\"white\" stroke=\"transparent\" points=\"-4,4 -4,-265 544,-265 544,4 -4,4\"/>\n<!-- 0 -->\n<g id=\"node1\" class=\"node\">\n<title>0</title>\n<path fill=\"#efb184\" stroke=\"black\" d=\"M319.5,-261C319.5,-261 211.5,-261 211.5,-261 205.5,-261 199.5,-255 199.5,-249 199.5,-249 199.5,-205 199.5,-205 199.5,-199 205.5,-193 211.5,-193 211.5,-193 319.5,-193 319.5,-193 325.5,-193 331.5,-199 331.5,-205 331.5,-205 331.5,-249 331.5,-249 331.5,-255 325.5,-261 319.5,-261\"/>\n<text text-anchor=\"middle\" x=\"265.5\" y=\"-245.8\" font-family=\"Helvetica,sans-Serif\" font-size=\"14.00\">X[25] &lt;= 0.5</text>\n<text text-anchor=\"middle\" x=\"265.5\" y=\"-230.8\" font-family=\"Helvetica,sans-Serif\" font-size=\"14.00\">gini = 0.398</text>\n<text text-anchor=\"middle\" x=\"265.5\" y=\"-215.8\" font-family=\"Helvetica,sans-Serif\" font-size=\"14.00\">samples = 2672</text>\n<text text-anchor=\"middle\" x=\"265.5\" y=\"-200.8\" font-family=\"Helvetica,sans-Serif\" font-size=\"14.00\">value = [1940, 732]</text>\n</g>\n<!-- 1 -->\n<g id=\"node2\" class=\"node\">\n<title>1</title>\n<path fill=\"#d0e8f9\" stroke=\"black\" d=\"M243,-157C243,-157 142,-157 142,-157 136,-157 130,-151 130,-145 130,-145 130,-101 130,-101 130,-95 136,-89 142,-89 142,-89 243,-89 243,-89 249,-89 255,-95 255,-101 255,-101 255,-145 255,-145 255,-151 249,-157 243,-157\"/>\n<text text-anchor=\"middle\" x=\"192.5\" y=\"-141.8\" font-family=\"Helvetica,sans-Serif\" font-size=\"14.00\">X[27] &lt;= 6.5</text>\n<text text-anchor=\"middle\" x=\"192.5\" y=\"-126.8\" font-family=\"Helvetica,sans-Serif\" font-size=\"14.00\">gini = 0.491</text>\n<text text-anchor=\"middle\" x=\"192.5\" y=\"-111.8\" font-family=\"Helvetica,sans-Serif\" font-size=\"14.00\">samples = 466</text>\n<text text-anchor=\"middle\" x=\"192.5\" y=\"-96.8\" font-family=\"Helvetica,sans-Serif\" font-size=\"14.00\">value = [202, 264]</text>\n</g>\n<!-- 0&#45;&gt;1 -->\n<g id=\"edge1\" class=\"edge\">\n<title>0&#45;&gt;1</title>\n<path fill=\"none\" stroke=\"black\" d=\"M241.8,-192.88C235.55,-184.15 228.73,-174.62 222.21,-165.51\"/>\n<polygon fill=\"black\" stroke=\"black\" points=\"225,-163.39 216.33,-157.3 219.31,-167.47 225,-163.39\"/>\n<text text-anchor=\"middle\" x=\"212.24\" y=\"-178.26\" font-family=\"Helvetica,sans-Serif\" font-size=\"14.00\">True</text>\n</g>\n<!-- 4 -->\n<g id=\"node5\" class=\"node\">\n<title>4</title>\n<path fill=\"#eca36e\" stroke=\"black\" d=\"M393.5,-157C393.5,-157 285.5,-157 285.5,-157 279.5,-157 273.5,-151 273.5,-145 273.5,-145 273.5,-101 273.5,-101 273.5,-95 279.5,-89 285.5,-89 285.5,-89 393.5,-89 393.5,-89 399.5,-89 405.5,-95 405.5,-101 405.5,-101 405.5,-145 405.5,-145 405.5,-151 399.5,-157 393.5,-157\"/>\n<text text-anchor=\"middle\" x=\"339.5\" y=\"-141.8\" font-family=\"Helvetica,sans-Serif\" font-size=\"14.00\">X[16] &lt;= 0.5</text>\n<text text-anchor=\"middle\" x=\"339.5\" y=\"-126.8\" font-family=\"Helvetica,sans-Serif\" font-size=\"14.00\">gini = 0.334</text>\n<text text-anchor=\"middle\" x=\"339.5\" y=\"-111.8\" font-family=\"Helvetica,sans-Serif\" font-size=\"14.00\">samples = 2206</text>\n<text text-anchor=\"middle\" x=\"339.5\" y=\"-96.8\" font-family=\"Helvetica,sans-Serif\" font-size=\"14.00\">value = [1738, 468]</text>\n</g>\n<!-- 0&#45;&gt;4 -->\n<g id=\"edge4\" class=\"edge\">\n<title>0&#45;&gt;4</title>\n<path fill=\"none\" stroke=\"black\" d=\"M289.53,-192.88C295.86,-184.15 302.77,-174.62 309.38,-165.51\"/>\n<polygon fill=\"black\" stroke=\"black\" points=\"312.3,-167.45 315.34,-157.3 306.64,-163.34 312.3,-167.45\"/>\n<text text-anchor=\"middle\" x=\"319.27\" y=\"-178.29\" font-family=\"Helvetica,sans-Serif\" font-size=\"14.00\">False</text>\n</g>\n<!-- 2 -->\n<g id=\"node3\" class=\"node\">\n<title>2</title>\n<path fill=\"#8dc6f0\" stroke=\"black\" d=\"M105,-53C105,-53 12,-53 12,-53 6,-53 0,-47 0,-41 0,-41 0,-12 0,-12 0,-6 6,0 12,0 12,0 105,0 105,0 111,0 117,-6 117,-12 117,-12 117,-41 117,-41 117,-47 111,-53 105,-53\"/>\n<text text-anchor=\"middle\" x=\"58.5\" y=\"-37.8\" font-family=\"Helvetica,sans-Serif\" font-size=\"14.00\">gini = 0.418</text>\n<text text-anchor=\"middle\" x=\"58.5\" y=\"-22.8\" font-family=\"Helvetica,sans-Serif\" font-size=\"14.00\">samples = 269</text>\n<text text-anchor=\"middle\" x=\"58.5\" y=\"-7.8\" font-family=\"Helvetica,sans-Serif\" font-size=\"14.00\">value = [80, 189]</text>\n</g>\n<!-- 1&#45;&gt;2 -->\n<g id=\"edge2\" class=\"edge\">\n<title>1&#45;&gt;2</title>\n<path fill=\"none\" stroke=\"black\" d=\"M145.63,-88.95C131.88,-79.25 116.89,-68.68 103.27,-59.07\"/>\n<polygon fill=\"black\" stroke=\"black\" points=\"105.18,-56.14 94.99,-53.24 101.15,-61.86 105.18,-56.14\"/>\n</g>\n<!-- 3 -->\n<g id=\"node4\" class=\"node\">\n<title>3</title>\n<path fill=\"#f5ceb3\" stroke=\"black\" d=\"M240,-53C240,-53 147,-53 147,-53 141,-53 135,-47 135,-41 135,-41 135,-12 135,-12 135,-6 141,0 147,0 147,0 240,0 240,0 246,0 252,-6 252,-12 252,-12 252,-41 252,-41 252,-47 246,-53 240,-53\"/>\n<text text-anchor=\"middle\" x=\"193.5\" y=\"-37.8\" font-family=\"Helvetica,sans-Serif\" font-size=\"14.00\">gini = 0.472</text>\n<text text-anchor=\"middle\" x=\"193.5\" y=\"-22.8\" font-family=\"Helvetica,sans-Serif\" font-size=\"14.00\">samples = 197</text>\n<text text-anchor=\"middle\" x=\"193.5\" y=\"-7.8\" font-family=\"Helvetica,sans-Serif\" font-size=\"14.00\">value = [122, 75]</text>\n</g>\n<!-- 1&#45;&gt;3 -->\n<g id=\"edge3\" class=\"edge\">\n<title>1&#45;&gt;3</title>\n<path fill=\"none\" stroke=\"black\" d=\"M192.85,-88.95C192.94,-80.72 193.03,-71.85 193.12,-63.48\"/>\n<polygon fill=\"black\" stroke=\"black\" points=\"196.62,-63.27 193.23,-53.24 189.62,-63.2 196.62,-63.27\"/>\n</g>\n<!-- 5 -->\n<g id=\"node6\" class=\"node\">\n<title>5</title>\n<path fill=\"#ea9b62\" stroke=\"black\" d=\"M392.5,-53C392.5,-53 284.5,-53 284.5,-53 278.5,-53 272.5,-47 272.5,-41 272.5,-41 272.5,-12 272.5,-12 272.5,-6 278.5,0 284.5,0 284.5,0 392.5,0 392.5,0 398.5,0 404.5,-6 404.5,-12 404.5,-12 404.5,-41 404.5,-41 404.5,-47 398.5,-53 392.5,-53\"/>\n<text text-anchor=\"middle\" x=\"338.5\" y=\"-37.8\" font-family=\"Helvetica,sans-Serif\" font-size=\"14.00\">gini = 0.282</text>\n<text text-anchor=\"middle\" x=\"338.5\" y=\"-22.8\" font-family=\"Helvetica,sans-Serif\" font-size=\"14.00\">samples = 1978</text>\n<text text-anchor=\"middle\" x=\"338.5\" y=\"-7.8\" font-family=\"Helvetica,sans-Serif\" font-size=\"14.00\">value = [1642, 336]</text>\n</g>\n<!-- 4&#45;&gt;5 -->\n<g id=\"edge5\" class=\"edge\">\n<title>4&#45;&gt;5</title>\n<path fill=\"none\" stroke=\"black\" d=\"M339.15,-88.95C339.06,-80.72 338.97,-71.85 338.88,-63.48\"/>\n<polygon fill=\"black\" stroke=\"black\" points=\"342.38,-63.2 338.77,-53.24 335.38,-63.27 342.38,-63.2\"/>\n</g>\n<!-- 6 -->\n<g id=\"node7\" class=\"node\">\n<title>6</title>\n<path fill=\"#c9e4f8\" stroke=\"black\" d=\"M528,-53C528,-53 435,-53 435,-53 429,-53 423,-47 423,-41 423,-41 423,-12 423,-12 423,-6 429,0 435,0 435,0 528,0 528,0 534,0 540,-6 540,-12 540,-12 540,-41 540,-41 540,-47 534,-53 528,-53\"/>\n<text text-anchor=\"middle\" x=\"481.5\" y=\"-37.8\" font-family=\"Helvetica,sans-Serif\" font-size=\"14.00\">gini = 0.488</text>\n<text text-anchor=\"middle\" x=\"481.5\" y=\"-22.8\" font-family=\"Helvetica,sans-Serif\" font-size=\"14.00\">samples = 228</text>\n<text text-anchor=\"middle\" x=\"481.5\" y=\"-7.8\" font-family=\"Helvetica,sans-Serif\" font-size=\"14.00\">value = [96, 132]</text>\n</g>\n<!-- 4&#45;&gt;6 -->\n<g id=\"edge6\" class=\"edge\">\n<title>4&#45;&gt;6</title>\n<path fill=\"none\" stroke=\"black\" d=\"M389.16,-88.95C403.87,-79.16 419.93,-68.48 434.46,-58.8\"/>\n<polygon fill=\"black\" stroke=\"black\" points=\"436.44,-61.69 442.83,-53.24 432.56,-55.86 436.44,-61.69\"/>\n</g>\n</g>\n</svg>\n"
          },
          "metadata": {},
          "execution_count": 37
        }
      ]
    },
    {
      "cell_type": "markdown",
      "source": [
        "##Parameter tuning"
      ],
      "metadata": {
        "id": "y7mxn8Vu2T0c"
      }
    },
    {
      "cell_type": "code",
      "source": [
        "# Let’s find the best parameters for max_depth\n",
        "for depth in [1, 2, 3, 4, 5, 6, 10, 15, 20, None]:\n",
        "  dt = DecisionTreeClassifier(max_depth=depth)\n",
        "  dt.fit(x_train, y_train)\n",
        "  y_pred = dt.predict_proba(x_val)[:, 1]\n",
        "  auc = roc_auc_score(y_val, y_pred)\n",
        "  print(f\"{depth} -> {auc:.3f}\")"
      ],
      "metadata": {
        "id": "uPLAyJQ52UyH",
        "outputId": "fee701f0-7aec-4365-8097-df13e812c2b3",
        "colab": {
          "base_uri": "https://localhost:8080/"
        }
      },
      "execution_count": null,
      "outputs": [
        {
          "output_type": "stream",
          "name": "stdout",
          "text": [
            "1 -> 0.606\n",
            "2 -> 0.669\n",
            "3 -> 0.739\n",
            "4 -> 0.761\n",
            "5 -> 0.767\n",
            "6 -> 0.761\n",
            "10 -> 0.704\n",
            "15 -> 0.668\n",
            "20 -> 0.665\n",
            "None -> 0.660\n"
          ]
        }
      ]
    },
    {
      "cell_type": "code",
      "source": [
        "for depth in [1, 5, 10, 15, 20, 50, 100, 200]:\n",
        "  dt = DecisionTreeClassifier(max_depth=depth)\n",
        "  dt.fit(x_train, y_train)\n",
        "  y_pred = dt.predict_proba(x_val)[:, 1]\n",
        "  auc = roc_auc_score(y_val, y_pred)\n",
        "  print(f\"{depth} -> {auc:.3f}\")"
      ],
      "metadata": {
        "id": "LWnTrTiI8KkN",
        "outputId": "589a0e18-d1e2-4cfa-95b6-04775e25cc81",
        "colab": {
          "base_uri": "https://localhost:8080/"
        }
      },
      "execution_count": null,
      "outputs": [
        {
          "output_type": "stream",
          "name": "stdout",
          "text": [
            "1 -> 0.606\n",
            "5 -> 0.767\n",
            "10 -> 0.692\n",
            "15 -> 0.660\n",
            "20 -> 0.657\n",
            "50 -> 0.668\n",
            "100 -> 0.657\n",
            "200 -> 0.666\n"
          ]
        }
      ]
    },
    {
      "cell_type": "code",
      "source": [
        "# Let’s find the best parameters for min_leaf_size\n",
        "for m in [4, 5, 6]:\n",
        "  print(f\"depth: {m}\")\n",
        "  for leaf_size in [1, 5, 10, 15, 20, 50, 100, 200]:\n",
        "    dt = DecisionTreeClassifier(max_depth=m, min_samples_leaf=leaf_size)\n",
        "    dt.fit(x_train, y_train)\n",
        "    y_pred = dt.predict_proba(x_val)[:, 1]\n",
        "    auc = roc_auc_score(y_val, y_pred)\n",
        "    print(f\"{m} -> {auc:.3f}\")\n",
        "  print()"
      ],
      "metadata": {
        "id": "V5X1j57-7M_m",
        "outputId": "a3e912b5-0c61-49c0-c3b5-221c2eef828b",
        "colab": {
          "base_uri": "https://localhost:8080/"
        }
      },
      "execution_count": null,
      "outputs": [
        {
          "output_type": "stream",
          "name": "stdout",
          "text": [
            "depth: 4\n",
            "4 -> 0.761\n",
            "4 -> 0.761\n",
            "4 -> 0.761\n",
            "4 -> 0.764\n",
            "4 -> 0.761\n",
            "4 -> 0.753\n",
            "4 -> 0.756\n",
            "4 -> 0.747\n",
            "\n",
            "depth: 5\n",
            "5 -> 0.766\n",
            "5 -> 0.768\n",
            "5 -> 0.762\n",
            "5 -> 0.773\n",
            "5 -> 0.774\n",
            "5 -> 0.767\n",
            "5 -> 0.763\n",
            "5 -> 0.759\n",
            "\n",
            "depth: 6\n",
            "6 -> 0.762\n",
            "6 -> 0.763\n",
            "6 -> 0.778\n",
            "6 -> 0.785\n",
            "6 -> 0.774\n",
            "6 -> 0.770\n",
            "6 -> 0.776\n",
            "6 -> 0.768\n",
            "\n"
          ]
        }
      ]
    },
    {
      "cell_type": "code",
      "source": [
        "for leaf_size in [1, 5, 10, 15, 20, 50, 100, 200]:\n",
        "  dt = DecisionTreeClassifier(max_depth=6, min_samples_leaf=leaf_size)\n",
        "  dt.fit(x_train, y_train)\n",
        "  y_pred = dt.predict_proba(x_val)[:, 1]\n",
        "  auc = roc_auc_score(y_val, y_pred)\n",
        "  print(f\"{leaf_size} -> {auc:.3f}\")"
      ],
      "metadata": {
        "id": "K7lFWP0u9CAk",
        "outputId": "b2cecad8-62e7-4d9c-e856-649a1f19d346",
        "colab": {
          "base_uri": "https://localhost:8080/"
        }
      },
      "execution_count": null,
      "outputs": [
        {
          "output_type": "stream",
          "name": "stdout",
          "text": [
            "1 -> 0.745\n",
            "5 -> 0.762\n",
            "10 -> 0.778\n",
            "15 -> 0.786\n",
            "20 -> 0.774\n",
            "50 -> 0.770\n",
            "100 -> 0.776\n",
            "200 -> 0.768\n"
          ]
        }
      ]
    },
    {
      "cell_type": "code",
      "source": [
        "# We have found the best parameters, so let’s use them to train the final model\n",
        "dt = DecisionTreeClassifier(max_depth=6, min_samples_leaf=15)\n",
        "dt.fit(x_train, y_train)\n",
        "\n",
        "y_pred = dt.predict_proba(x_val)[:, 1]\n",
        "auc = roc_auc_score(y_val, y_pred)\n",
        "print(f\"{auc:.3f}\")"
      ],
      "metadata": {
        "id": "fdOrQpIc9UC4",
        "outputId": "075f44ab-c0b6-4926-81d7-9c12b5e65abd",
        "colab": {
          "base_uri": "https://localhost:8080/"
        }
      },
      "execution_count": null,
      "outputs": [
        {
          "output_type": "stream",
          "name": "stdout",
          "text": [
            "0.785\n"
          ]
        }
      ]
    },
    {
      "cell_type": "code",
      "source": [
        "# let's plot roc curve\n",
        "fpr, tpr, _ = roc_curve(y_val, y_pred)\n",
        "plt.figure(figsize=(5, 5))\n",
        "\n",
        "plt.plot(fpr, tpr, color='black')\n",
        "plt.plot([0, 1], [0, 1], color='black', lw=0.7, linestyle='dashed', alpha=0.5)\n",
        "\n",
        "plt.xlim([-0.02, 1.02])\n",
        "plt.ylim([-0.02, 1.02])\n",
        "plt.xlabel('False Positive Rate')\n",
        "plt.ylabel('True Positive Rate')\n",
        "\n",
        "plt.title('ROC curve')\n",
        "\n",
        "plt.show()"
      ],
      "metadata": {
        "id": "l2QsLox89sGU",
        "outputId": "1eb6c5bb-3f98-46bb-e67c-379cb2b76ea7",
        "colab": {
          "base_uri": "https://localhost:8080/",
          "height": 350
        }
      },
      "execution_count": null,
      "outputs": [
        {
          "output_type": "display_data",
          "data": {
            "text/plain": [
              "<Figure size 360x360 with 1 Axes>"
            ],
            "image/png": "[encoded data removed]"
          },
          "metadata": {
            "needs_background": "light"
          }
        }
      ]
    },
    {
      "cell_type": "markdown",
      "source": [
        "Decision trees are simple and effective models, but they become even more powerful\n",
        "when we combine many trees together."
      ],
      "metadata": {
        "id": "IeOD8SDc-J56"
      }
    }
  ]
}