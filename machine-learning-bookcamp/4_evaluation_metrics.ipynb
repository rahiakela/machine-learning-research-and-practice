{
  "nbformat": 4,
  "nbformat_minor": 0,
  "metadata": {
    "colab": {
      "provenance": [],
      "toc_visible": true,
      "authorship_tag": "ABX9TyNMKLtcQUQNbjCZRpjfgIj1",
      "include_colab_link": true
    },
    "kernelspec": {
      "name": "python3",
      "display_name": "Python 3"
    },
    "language_info": {
      "name": "python"
    }
  },
  "cells": [
    {
      "cell_type": "markdown",
      "metadata": {
        "id": "view-in-github",
        "colab_type": "text"
      },
      "source": [
        "<a href=\"https://colab.research.google.com/github/rahiakela/machine-learning-research-and-practice/blob/main/machine-learning-bookcamp/4_evaluation_metrics.ipynb\" target=\"_parent\"><img src=\"https://colab.research.google.com/assets/colab-badge.svg\" alt=\"Open In Colab\"/></a>"
      ]
    },
    {
      "cell_type": "markdown",
      "source": [
        "##Evaluation Metrics"
      ],
      "metadata": {
        "id": "nKiw-jHgceh6"
      }
    },
    {
      "cell_type": "markdown",
      "source": [
        "Churn is when customers stop using the services of a company. Thus, churn prediction\n",
        "is about identifying customers who are likely to cancel their contracts soon.\n",
        "\n",
        "If the company can do that, it can offer discounts on these services in an effort to\n",
        "keep the users.\n",
        "\n",
        "Imagine that we are working at a telecom company that offers phone and internet\n",
        "services, and we have a problem: some of our customers are churning. They no longer\n",
        "are using our services and are going to a different provider. \n",
        "\n",
        "We would like to prevent\n",
        "that from happening, so we develop a system for identifying these customers and offer\n",
        "them an incentive to stay. \n",
        "\n",
        "We want to target them with promotional messages and give\n",
        "them a discount. We also would like to understand why the model thinks our customers\n",
        "churn, and for that, we need to be able to interpret the model’s predictions.\n",
        "\n",
        "In this notebook, we will discuss the ways of evaluating a binary classification model: \n",
        "\n",
        "* accuracy\n",
        "* confusion table\n",
        "* precision \n",
        "* recall\n",
        "* ROC curve\n",
        "* AUC"
      ],
      "metadata": {
        "id": "n-ZdMvNtchEm"
      }
    },
    {
      "cell_type": "markdown",
      "source": [
        "##Setup"
      ],
      "metadata": {
        "id": "8MqwP3Hzc1Wb"
      }
    },
    {
      "cell_type": "code",
      "source": [
        "import pandas as pd\n",
        "import numpy as np\n",
        "\n",
        "from sklearn.model_selection import train_test_split\n",
        "from sklearn.metrics import mutual_info_score\n",
        "from sklearn.feature_extraction import DictVectorizer\n",
        "from sklearn.linear_model import LogisticRegression\n",
        "\n",
        "from sklearn.metrics import accuracy_score\n",
        "\n",
        "import seaborn as sns\n",
        "from matplotlib import pyplot as plt\n",
        "from IPython.display import display\n",
        "\n",
        "%matplotlib inline"
      ],
      "metadata": {
        "id": "vpCaukoZc2bM"
      },
      "execution_count": 1,
      "outputs": []
    },
    {
      "cell_type": "code",
      "source": [
        "from google.colab import drive\n",
        "drive.mount('/content/gdrive')"
      ],
      "metadata": {
        "id": "bA6YUwP1c_KM",
        "outputId": "71d99d16-b905-4db7-f991-a8fb21ad2cee",
        "colab": {
          "base_uri": "https://localhost:8080/"
        }
      },
      "execution_count": 2,
      "outputs": [
        {
          "output_type": "stream",
          "name": "stdout",
          "text": [
            "Mounted at /content/gdrive\n"
          ]
        }
      ]
    },
    {
      "cell_type": "code",
      "source": [
        "import os\n",
        "# content/gdrive/My Drive/Kaggle is the path where kaggle.json is  present in the Google Drive\n",
        "os.environ['KAGGLE_CONFIG_DIR'] = \"/content/gdrive/MyDrive/kaggle-keys\""
      ],
      "metadata": {
        "id": "Khw2AeAidQ7r"
      },
      "execution_count": 3,
      "outputs": []
    },
    {
      "cell_type": "code",
      "source": [
        "%%shell\n",
        "\n",
        "# download dataset from kaggle> URL: https://www.kaggle.com/blastchar/telco-customer-churn\n",
        "kaggle datasets download -d blastchar/telco-customer-churn\n",
        "\n",
        "unzip -qq telco-customer-churn.zip\n",
        "rm -rf telco-customer-churn.zip"
      ],
      "metadata": {
        "id": "8EuMmwDKdXEm"
      },
      "execution_count": null,
      "outputs": []
    },
    {
      "cell_type": "markdown",
      "source": [
        "##Dataset"
      ],
      "metadata": {
        "id": "JKpNUL22eB1f"
      }
    },
    {
      "cell_type": "code",
      "source": [
        "# let’s read our dataset\n",
        "data_df = pd.read_csv(\"WA_Fn-UseC_-Telco-Customer-Churn.csv\")\n",
        "len(data_df)"
      ],
      "metadata": {
        "colab": {
          "base_uri": "https://localhost:8080/"
        },
        "id": "US7ds406eEwl",
        "outputId": "c81c1dd8-94b5-48e0-8606-82425df3bb44"
      },
      "execution_count": 5,
      "outputs": [
        {
          "output_type": "execute_result",
          "data": {
            "text/plain": [
              "7043"
            ]
          },
          "metadata": {},
          "execution_count": 5
        }
      ]
    },
    {
      "cell_type": "code",
      "source": [
        "# so, let's set the missing values to zero\n",
        "data_df[\"TotalCharges\"] = pd.to_numeric(data_df.TotalCharges, errors=\"coerce\")\n",
        "data_df[\"TotalCharges\"] = data_df[\"TotalCharges\"].fillna(0)"
      ],
      "metadata": {
        "id": "gJ6bAyO3BM0s"
      },
      "execution_count": 6,
      "outputs": []
    },
    {
      "cell_type": "code",
      "source": [
        "# Let’s make the column names uniform by lowercasing everything and replacing spaces with underscores\n",
        "data_df.columns = data_df.columns.str.lower().str.replace(\" \", \"_\")\n",
        "string_columns = list(data_df.dtypes[data_df.dtypes == \"object\"].index)\n",
        "\n",
        "for col in string_columns:\n",
        "  data_df[col] = data_df[col].str.lower().str.replace(\" \", \"_\")"
      ],
      "metadata": {
        "id": "8RxmSWRRCIIn"
      },
      "execution_count": 7,
      "outputs": []
    },
    {
      "cell_type": "code",
      "source": [
        "# so, let’s convert the target variable to numbers\n",
        "data_df.churn = (data_df.churn == \"yes\").astype(int)"
      ],
      "metadata": {
        "id": "pqq7tWy_DBFf"
      },
      "execution_count": 8,
      "outputs": []
    },
    {
      "cell_type": "code",
      "source": [
        "# split such that 80% of the data goes to the train set and the remaining 20% goes to the test set.\n",
        "df_train_full, df_test = train_test_split(data_df, test_size=0.2, random_state=1)"
      ],
      "metadata": {
        "id": "CPM1VXhp2jmc"
      },
      "execution_count": 9,
      "outputs": []
    },
    {
      "cell_type": "code",
      "source": [
        "# let's split it one more time into train and validation\n",
        "df_train, df_val = train_test_split(df_train_full, test_size=0.33, random_state=11)"
      ],
      "metadata": {
        "id": "jMF2Y3fq609Q"
      },
      "execution_count": 10,
      "outputs": []
    },
    {
      "cell_type": "code",
      "source": [
        "# Takes the column with the target variable, churn, and saves it outside the dataframe\n",
        "y_train = df_train.churn.values\n",
        "y_val = df_val.churn.values"
      ],
      "metadata": {
        "id": "Q0pd3UeC7uwG"
      },
      "execution_count": 11,
      "outputs": []
    },
    {
      "cell_type": "code",
      "source": [
        "# Deletes the churn columns\n",
        "del df_train[\"churn\"]\n",
        "del df_val[\"churn\"]"
      ],
      "metadata": {
        "id": "n_M-124_78Ae"
      },
      "execution_count": 12,
      "outputs": []
    },
    {
      "cell_type": "code",
      "source": [
        "# let's create two lists for categorical and numerical variables\n",
        "categorical_cols = [\n",
        "  'gender', 'seniorcitizen', 'partner', 'dependents',\n",
        "  'phoneservice', 'multiplelines', 'internetservice',\n",
        "  'onlinesecurity', 'onlinebackup', 'deviceprotection',\n",
        "  'techsupport', 'streamingtv', 'streamingmovies',\n",
        "  'contract', 'paperlessbilling', 'paymentmethod'\n",
        "]\n",
        "\n",
        "numerical_cols = ['tenure', 'monthlycharges', 'totalcharges']"
      ],
      "metadata": {
        "id": "-KciNwlaWnDb"
      },
      "execution_count": 13,
      "outputs": []
    },
    {
      "cell_type": "code",
      "source": [
        "# convert dataframe to a list of dictionaries\n",
        "train_dict = df_train[categorical_cols + numerical_cols].to_dict(orient=\"records\")"
      ],
      "metadata": {
        "id": "qjdL0mYfAz9j"
      },
      "execution_count": 14,
      "outputs": []
    },
    {
      "cell_type": "code",
      "source": [
        "# convert the list of dictionaries to matrix\n",
        "dv = DictVectorizer(sparse=False)\n",
        "dv.fit(train_dict)\n",
        "x_train = dv.transform(train_dict)"
      ],
      "metadata": {
        "id": "T0JnbzdjC79S"
      },
      "execution_count": 15,
      "outputs": []
    },
    {
      "cell_type": "markdown",
      "source": [
        "##Classification model"
      ],
      "metadata": {
        "id": "45mEQuX-Ekto"
      }
    },
    {
      "cell_type": "code",
      "source": [
        "model = LogisticRegression(solver=\"liblinear\", random_state=1)\n",
        "model.fit(x_train, y_train)"
      ],
      "metadata": {
        "id": "TLhS3nSTym7G",
        "outputId": "d3ebe082-4cf7-4eeb-eeac-664de023a307",
        "colab": {
          "base_uri": "https://localhost:8080/"
        }
      },
      "execution_count": 16,
      "outputs": [
        {
          "output_type": "execute_result",
          "data": {
            "text/plain": [
              "LogisticRegression(random_state=1, solver='liblinear')"
            ]
          },
          "metadata": {},
          "execution_count": 16
        }
      ]
    },
    {
      "cell_type": "code",
      "source": [
        "# perform one-hot encoding in exactly the same way as during training\n",
        "val_dict = df_val[categorical_cols + numerical_cols].to_dict(orient=\"records\")\n",
        "x_val = dv.transform(val_dict)\n",
        "\n",
        "y_pred = model.predict_proba(x_val)[:, 1]"
      ],
      "metadata": {
        "id": "e5lHeB-A3YCh"
      },
      "execution_count": 17,
      "outputs": []
    },
    {
      "cell_type": "code",
      "source": [
        "subset = [\"contract\", \"tenure\", \"totalcharges\"]\n",
        "train_dict_small = df_train[subset].to_dict(orient=\"records\")\n",
        "dv_small = DictVectorizer(sparse=False)\n",
        "dv_small.fit(train_dict_small)\n",
        "\n",
        "x_small_train = dv_small.transform(train_dict_small)"
      ],
      "metadata": {
        "id": "UUx-lgthwwM0"
      },
      "execution_count": 18,
      "outputs": []
    },
    {
      "cell_type": "code",
      "source": [
        "# Let’s train the small model on this set of features\n",
        "model_small = LogisticRegression(solver=\"liblinear\", random_state=1)\n",
        "model_small.fit(x_small_train, y_train)"
      ],
      "metadata": {
        "id": "lPydV0eLxvRf",
        "outputId": "c3b5e8e8-0c8f-4ee7-a890-8602966d7a4c",
        "colab": {
          "base_uri": "https://localhost:8080/"
        }
      },
      "execution_count": 19,
      "outputs": [
        {
          "output_type": "execute_result",
          "data": {
            "text/plain": [
              "LogisticRegression(random_state=1, solver='liblinear')"
            ]
          },
          "metadata": {},
          "execution_count": 19
        }
      ]
    },
    {
      "cell_type": "code",
      "source": [
        "# let's validate this model\n",
        "val_dict_small = df_val[subset].to_dict(orient=\"records\")\n",
        "\n",
        "x_small_val = dv_small.transform(val_dict_small)\n",
        "\n",
        "y_pred_small = model_small.predict_proba(x_small_val)[:, 1]"
      ],
      "metadata": {
        "id": "VkltuVVO3L-c"
      },
      "execution_count": 20,
      "outputs": []
    },
    {
      "cell_type": "markdown",
      "source": [
        "##Classification accuracy"
      ],
      "metadata": {
        "id": "LQjZVC-C3ELH"
      }
    },
    {
      "cell_type": "markdown",
      "source": [
        "This accuracy is the simplest way to evaluate a classifier: by counting the number of\n",
        "cases in which our model turned out to be right.\n",
        "\n",
        "Computing accuracy on the validation dataset is easy — we simply calculate the\n",
        "fraction of correct predictions:"
      ],
      "metadata": {
        "id": "ZE6GXnwE3GUg"
      }
    },
    {
      "cell_type": "code",
      "source": [
        "# Gets the predictions from the model\n",
        "y_pred = model.predict_proba(x_val)[:, 1]\n",
        "\n",
        "# Makes \"hard\" predictions\n",
        "churn = y_pred >= .5\n",
        "\n",
        "# Computes the accuracy\n",
        "(churn == y_val).mean()"
      ],
      "metadata": {
        "id": "5wXT5F4_7qFY",
        "outputId": "ae8d620e-a84a-4412-e536-7c6d54a2a34e",
        "colab": {
          "base_uri": "https://localhost:8080/"
        }
      },
      "execution_count": 21,
      "outputs": [
        {
          "output_type": "execute_result",
          "data": {
            "text/plain": [
              "0.8016129032258065"
            ]
          },
          "metadata": {},
          "execution_count": 21
        }
      ]
    },
    {
      "cell_type": "markdown",
      "source": [
        "Now we can loop over different thresholds and check which one gives the best accuracy:"
      ],
      "metadata": {
        "id": "wNFbgPz28uQj"
      }
    },
    {
      "cell_type": "code",
      "source": [
        "# Creates an array with different thresholds\n",
        "thresholds = np.linspace(0, 1, 21)\n",
        "accuracies = []\n",
        "\n",
        "for threshold in thresholds:\n",
        "  churn = y_pred >= threshold\n",
        "  acc = accuracy_score(y_val, churn)\n",
        "  accuracies.append(acc)\n",
        "  print(f\"{threshold:.2f} >> {acc:.3f}\")"
      ],
      "metadata": {
        "id": "B3s_E9Qw85Hk",
        "outputId": "5f603b7a-f489-4eae-cb33-03ed5fbe2026",
        "colab": {
          "base_uri": "https://localhost:8080/"
        }
      },
      "execution_count": 22,
      "outputs": [
        {
          "output_type": "stream",
          "name": "stdout",
          "text": [
            "0.00 >> 0.261\n",
            "0.05 >> 0.501\n",
            "0.10 >> 0.595\n",
            "0.15 >> 0.640\n",
            "0.20 >> 0.690\n",
            "0.25 >> 0.730\n",
            "0.30 >> 0.755\n",
            "0.35 >> 0.767\n",
            "0.40 >> 0.782\n",
            "0.45 >> 0.795\n",
            "0.50 >> 0.802\n",
            "0.55 >> 0.790\n",
            "0.60 >> 0.790\n",
            "0.65 >> 0.788\n",
            "0.70 >> 0.774\n",
            "0.75 >> 0.752\n",
            "0.80 >> 0.742\n",
            "0.85 >> 0.739\n",
            "0.90 >> 0.739\n",
            "0.95 >> 0.739\n",
            "1.00 >> 0.739\n"
          ]
        }
      ]
    },
    {
      "cell_type": "markdown",
      "source": [
        "As we see, using the threshold of 0.5 gives us the best accuracy. "
      ],
      "metadata": {
        "id": "9p-142ijLQ8S"
      }
    },
    {
      "cell_type": "code",
      "source": [
        "max(accuracies)"
      ],
      "metadata": {
        "colab": {
          "base_uri": "https://localhost:8080/"
        },
        "id": "l16In7LtOcKw",
        "outputId": "d2ec9112-77f8-4c42-a0dd-e5d7e6224738"
      },
      "execution_count": 23,
      "outputs": [
        {
          "output_type": "execute_result",
          "data": {
            "text/plain": [
              "0.8016129032258065"
            ]
          },
          "metadata": {},
          "execution_count": 23
        }
      ]
    },
    {
      "cell_type": "code",
      "source": [
        "# Let's plot these values\n",
        "plt.figure(figsize=(6, 4))\n",
        "\n",
        "plt.plot(thresholds, accuracies)\n",
        "plt.title(\"Threshold vs Accuracy\")\n",
        "plt.xlabel(\"Threshold\")\n",
        "plt.ylabel(\"Accuracy\")\n",
        "\n",
        "plt.xticks(np.linspace(0, 1, 11))\n",
        "plt.show()"
      ],
      "metadata": {
        "id": "Rb-DnyyM9GPd",
        "outputId": "89aaec68-5106-425e-a427-744d42060af4",
        "colab": {
          "base_uri": "https://localhost:8080/",
          "height": 0
        }
      },
      "execution_count": 24,
      "outputs": [
        {
          "output_type": "display_data",
          "data": {
            "text/plain": [
              "<Figure size 432x288 with 1 Axes>"
            ],
            "image/png": "[encoded data removed]"
          },
          "metadata": {
            "needs_background": "light"
          }
        }
      ]
    },
    {
      "cell_type": "markdown",
      "source": [
        "So, the best threshold is `0.5`, and the best accuracy for this model that we can achieve is `80%`."
      ],
      "metadata": {
        "id": "YqWhP67G9dRk"
      }
    },
    {
      "cell_type": "code",
      "source": [
        "# Let’s also check small model's accuracy.\n",
        "churn_small = y_pred_small >= .5\n",
        "\n",
        "# Calculates the accuracy of the predictions\n",
        "accuracy_score(y_val, churn_small)"
      ],
      "metadata": {
        "id": "O10Wz44p9g8b",
        "outputId": "6da29bd8-04af-4c71-9a5e-e9f7e033769b",
        "colab": {
          "base_uri": "https://localhost:8080/"
        }
      },
      "execution_count": 25,
      "outputs": [
        {
          "output_type": "execute_result",
          "data": {
            "text/plain": [
              "0.7672043010752688"
            ]
          },
          "metadata": {},
          "execution_count": 25
        }
      ]
    },
    {
      "cell_type": "markdown",
      "source": [
        "So, the large model is actually `4%` more accurate than the small model.\n",
        "\n",
        "\n",
        "In our example, the dataset is imbalanced, and we don’t have many churned users.\n",
        "\n",
        "So, the dummy model can always predict the majority class — “no churn.”"
      ],
      "metadata": {
        "id": "XAB3kyIs94KE"
      }
    },
    {
      "cell_type": "code",
      "source": [
        "# Let’s create this baseline prediction\n",
        "size_val = len(y_val)\n",
        "\n",
        "baseline = np.repeat(False, size_val)\n",
        "\n",
        "# check the accuracy of this baseline prediction\n",
        "accuracy_score(baseline, y_val) "
      ],
      "metadata": {
        "id": "BMoefiD7-HIK",
        "colab": {
          "base_uri": "https://localhost:8080/"
        },
        "outputId": "5a3d9565-d4cd-450c-e258-3690f6c9adf5"
      },
      "execution_count": 26,
      "outputs": [
        {
          "output_type": "execute_result",
          "data": {
            "text/plain": [
              "0.7387096774193549"
            ]
          },
          "metadata": {},
          "execution_count": 26
        }
      ]
    },
    {
      "cell_type": "markdown",
      "source": [
        "This means that the accuracy of the baseline\n",
        "model is around `74%`.\n",
        "\n",
        "As we see, the small model is only `2%` better than the naive baseline, and the large one is `6%` better.\n",
        "\n",
        "Churn prediction is a complex problem, and maybe this improvement is great.\n",
        "However, that’s not evident from the accuracy score alone. \n",
        "\n",
        "According to accuracy, our model is only slightly better than a dummy model that treats all the customers as nonchurning\n",
        "and doesn’t attempt to keep any of them.\n",
        "\n",
        "Thus, we need other metrics — other ways of measuring the quality of our model."
      ],
      "metadata": {
        "id": "ixsTrV9mR385"
      }
    },
    {
      "cell_type": "markdown",
      "source": [
        "##Confusion matrix"
      ],
      "metadata": {
        "id": "NHvDqP9IScGo"
      }
    },
    {
      "cell_type": "code",
      "source": [
        "t = 0.5\n",
        "\n",
        "# Makes predictions at threshold 0.5\n",
        "predict_churn = (y_pred >= t)\n",
        "predict_no_churn = (y_pred < t)\n",
        "\n",
        "# Gets the actual target values\n",
        "actual_churn = (y_val == 1)\n",
        "actual_no_churn = (y_val == 0)\n",
        "\n",
        "# Calculates true positives (cases when we predicted churn correctly)\n",
        "true_positive = (predict_churn & actual_churn).sum()\n",
        "# Calculates false positives (cases when we predicted churn,but the customers didn't churn)\n",
        "false_positive = (predict_churn & actual_no_churn).sum()\n",
        "\n",
        "# Calculates false negatives (cases when we predicted no churn, but the customers churned)\n",
        "false_negative = (predict_no_churn & actual_churn).sum()\n",
        "# Calculates true negatives (cases when we predicted no churn correctly)\n",
        "true_negative = (predict_no_churn & actual_no_churn).sum()"
      ],
      "metadata": {
        "id": "j-Mu6s3a_27m"
      },
      "execution_count": 27,
      "outputs": []
    },
    {
      "cell_type": "code",
      "source": [
        "# Now we just need to put all these values together\n",
        "confusion_table = np.array(\n",
        "  #  predict neg    pos\n",
        "  [\n",
        "    [true_negative, false_positive], # actual neg\n",
        "    [false_negative, true_positive]  # actual pos\n",
        "  ]\n",
        ")\n",
        "\n",
        "confusion_table"
      ],
      "metadata": {
        "id": "M0q9Kb5h_VPa",
        "outputId": "029bb1df-09d5-4608-cc36-4820654d6372",
        "colab": {
          "base_uri": "https://localhost:8080/"
        }
      },
      "execution_count": 28,
      "outputs": [
        {
          "output_type": "execute_result",
          "data": {
            "text/plain": [
              "array([[1202,  172],\n",
              "       [ 197,  289]])"
            ]
          },
          "metadata": {},
          "execution_count": 28
        }
      ]
    },
    {
      "cell_type": "code",
      "source": [
        "# Confused!! so we can turn them into fractions by dividing each value by the total number of items\n",
        "confusion_table / confusion_table.sum()"
      ],
      "metadata": {
        "id": "EPt6IXiA_dnN",
        "outputId": "0243f8d6-db14-4fde-957e-b9e52233673a",
        "colab": {
          "base_uri": "https://localhost:8080/"
        }
      },
      "execution_count": 29,
      "outputs": [
        {
          "output_type": "execute_result",
          "data": {
            "text/plain": [
              "array([[0.64623656, 0.09247312],\n",
              "       [0.10591398, 0.15537634]])"
            ]
          },
          "metadata": {},
          "execution_count": 29
        }
      ]
    },
    {
      "cell_type": "markdown",
      "source": [
        "We actually see that the performance of the model\n",
        "is not great: it makes quite a few errors when trying to identify users that will churn.\n",
        "\n",
        "We can repeat the same process for the small model."
      ],
      "metadata": {
        "id": "8naTBaD3uzYU"
      }
    },
    {
      "cell_type": "code",
      "source": [
        "# select the first customer's probability of staying\n",
        "t = 0.5\n",
        "\n",
        "# Makes predictions at threshold 0.5\n",
        "predict_churn = (y_pred_small >= t)\n",
        "predict_no_churn = (y_pred_small < t)\n",
        "\n",
        "# Gets the actual target values\n",
        "actual_churn = (y_val == 1)\n",
        "actual_no_churn = (y_val == 0)\n",
        "\n",
        "# Calculates true positives (cases when we predicted churn correctly)\n",
        "true_positive = (predict_churn & actual_churn).sum()\n",
        "# Calculates false positives (cases when we predicted churn,but the customers didn't churn)\n",
        "false_positive = (predict_churn & actual_no_churn).sum()\n",
        "\n",
        "# Calculates false negatives (cases when we predicted no churn, but the customers churned)\n",
        "false_negative = (predict_no_churn & actual_churn).sum()\n",
        "# Calculates true negatives (cases when we predicted no churn correctly)\n",
        "true_negative = (predict_no_churn & actual_no_churn).sum()"
      ],
      "metadata": {
        "id": "S9T7mh7m_kXg"
      },
      "execution_count": 30,
      "outputs": []
    },
    {
      "cell_type": "code",
      "source": [
        "# Now we just need to put all these values together\n",
        "confusion_table = np.array(\n",
        "  #  predict neg    pos\n",
        "  [\n",
        "    [true_negative, false_positive], # actual neg\n",
        "    [false_negative, true_positive]  # actual pos\n",
        "  ]\n",
        ")\n",
        "\n",
        "confusion_table"
      ],
      "metadata": {
        "id": "oS2go-i1_s_a",
        "outputId": "9ea7c1bc-6cc4-4820-f430-8990b1d957d4",
        "colab": {
          "base_uri": "https://localhost:8080/"
        }
      },
      "execution_count": 31,
      "outputs": [
        {
          "output_type": "execute_result",
          "data": {
            "text/plain": [
              "array([[1189,  185],\n",
              "       [ 248,  238]])"
            ]
          },
          "metadata": {},
          "execution_count": 31
        }
      ]
    },
    {
      "cell_type": "code",
      "source": [
        "# Confused!! so we can turn them into fractions by dividing each value by the total number of items\n",
        "confusion_table / confusion_table.sum()"
      ],
      "metadata": {
        "id": "U_XVJOD0wOyJ",
        "outputId": "4c7eeaf3-3c05-4e66-dfcd-88a3feb7d602",
        "colab": {
          "base_uri": "https://localhost:8080/"
        }
      },
      "execution_count": 32,
      "outputs": [
        {
          "output_type": "execute_result",
          "data": {
            "text/plain": [
              "array([[0.63924731, 0.09946237],\n",
              "       [0.13333333, 0.12795699]])"
            ]
          },
          "metadata": {},
          "execution_count": 32
        }
      ]
    },
    {
      "cell_type": "markdown",
      "source": [
        "The values from the confusion table serve as the basis for many other evaluation\n",
        "metrics."
      ],
      "metadata": {
        "id": "ULG413neAFXW"
      }
    },
    {
      "cell_type": "markdown",
      "source": [
        "##Precision and recall"
      ],
      "metadata": {
        "id": "qfK717ThwwKZ"
      }
    },
    {
      "cell_type": "markdown",
      "source": [
        "Both precision and recall are calculated from the values of the confusion table.\n",
        "They both help us understand the quality of the model in cases of class imbalance.\n",
        "\n",
        "The precision of a model tells us how many of the pos\n",
        "itive\n",
        "predictions turned out to be correct.\n",
        "\n",
        "Recall is the fraction of correctly classified positive examples among all positive examples.\n",
        "\n",
        "In our case, to calculate recall we first look at all the customers who churned and\n",
        "see how many of them we managed to identify correctly.\n",
        "\n",
        "Precision helps us understand how many people received a promotional message\n",
        "by mistake.\n",
        "\n",
        "Recall helps us understand how many of the churning customers we failed to find."
      ],
      "metadata": {
        "id": "du6z7Ip0DZBS"
      }
    },
    {
      "cell_type": "code",
      "source": [
        "precision = true_positive / (true_positive + false_positive)\n",
        "recall = true_positive / (true_positive + false_negative)\n",
        "\n",
        "precision, recall"
      ],
      "metadata": {
        "id": "iXv25sdeDbcw",
        "outputId": "947e078d-3933-4826-b113-9d9fe2666547",
        "colab": {
          "base_uri": "https://localhost:8080/"
        }
      },
      "execution_count": 33,
      "outputs": [
        {
          "output_type": "execute_result",
          "data": {
            "text/plain": [
              "(0.5626477541371159, 0.4897119341563786)"
            ]
          },
          "metadata": {},
          "execution_count": 33
        }
      ]
    },
    {
      "cell_type": "markdown",
      "source": [
        "##ROC and AUC"
      ],
      "metadata": {
        "id": "L4iBGZvJE42q"
      }
    },
    {
      "cell_type": "markdown",
      "source": [
        "We need two metrics for ROC curves: TPR and FPR, or true positive rate and false\n",
        "positive rate.\n",
        "\n",
        "Like precision and recall, these values are based on the confusion matrix\n",
        "\n",
        "Binary classification models, such as logistic regression, typically output a probability —\n",
        "a score between zero and one. \n",
        "\n",
        "To make actual predictions, we binarize the output by\n",
        "setting some threshold to get only True and False values.\n",
        "\n",
        "Instead of evaluating the model at one particular threshold, we can do it for a\n",
        "range of them."
      ],
      "metadata": {
        "id": "B0saesHhBdwv"
      }
    },
    {
      "cell_type": "code",
      "source": [
        "# Computing the confusion table for different thresholds\n",
        "scores = []\n",
        "\n",
        "thresholds = np.linspace(0, 1, 101)\n",
        "\n",
        "for threshold in thresholds:\n",
        "  # Computes the confusion table for predictions at each threshold\n",
        "  tp = ((y_pred >= threshold) & (y_val == 1)).sum()\n",
        "  fp = ((y_pred >= threshold) & (y_val == 0)).sum()\n",
        "  fn = ((y_pred < threshold) & (y_val == 1)).sum()\n",
        "  tn = ((y_pred < threshold) & (y_val == 0)).sum()\n",
        "  scores.append((threshold, tp, fp, fn, tn))"
      ],
      "metadata": {
        "id": "d9DtLng0Bh7H"
      },
      "execution_count": 34,
      "outputs": []
    },
    {
      "cell_type": "markdown",
      "source": [
        "It’s not easy to deal with a list of tuples, so let’s convert it to a Pandas dataframe."
      ],
      "metadata": {
        "id": "ZFYeUvQKC5z3"
      }
    },
    {
      "cell_type": "code",
      "source": [
        "df_scores = pd.DataFrame(scores)\n",
        "df_scores.columns = [\"threshold\", \"tp\", \"fp\", \"fn\", \"tn\"]\n",
        "\n",
        "# selects every 10th record of the dataframe\n",
        "df_scores[::10]"
      ],
      "metadata": {
        "id": "uNW2iGphwxzO",
        "outputId": "1edf00d9-19ec-4de0-f6b4-a1cc13da75d4",
        "colab": {
          "base_uri": "https://localhost:8080/",
          "height": 394
        }
      },
      "execution_count": 35,
      "outputs": [
        {
          "output_type": "execute_result",
          "data": {
            "text/plain": [
              "     threshold   tp    fp   fn    tn\n",
              "0          0.0  486  1374    0     0\n",
              "10         0.1  458   726   28   648\n",
              "20         0.2  421   512   65   862\n",
              "30         0.3  380   350  106  1024\n",
              "40         0.4  337   257  149  1117\n",
              "50         0.5  289   172  197  1202\n",
              "60         0.6  200   105  286  1269\n",
              "70         0.7   99    34  387  1340\n",
              "80         0.8    7     1  479  1373\n",
              "90         0.9    0     0  486  1374\n",
              "100        1.0    0     0  486  1374"
            ],
            "text/html": [
              "\n",
              "  <div id=\"df-3ca41b21-5786-4129-b573-50b4f69266bd\">\n",
              "    <div class=\"colab-df-container\">\n",
              "      <div>\n",
              "<style scoped>\n",
              "    .dataframe tbody tr th:only-of-type {\n",
              "        vertical-align: middle;\n",
              "    }\n",
              "\n",
              "    .dataframe tbody tr th {\n",
              "        vertical-align: top;\n",
              "    }\n",
              "\n",
              "    .dataframe thead th {\n",
              "        text-align: right;\n",
              "    }\n",
              "</style>\n",
              "<table border=\"1\" class=\"dataframe\">\n",
              "  <thead>\n",
              "    <tr style=\"text-align: right;\">\n",
              "      <th></th>\n",
              "      <th>threshold</th>\n",
              "      <th>tp</th>\n",
              "      <th>fp</th>\n",
              "      <th>fn</th>\n",
              "      <th>tn</th>\n",
              "    </tr>\n",
              "  </thead>\n",
              "  <tbody>\n",
              "    <tr>\n",
              "      <th>0</th>\n",
              "      <td>0.0</td>\n",
              "      <td>486</td>\n",
              "      <td>1374</td>\n",
              "      <td>0</td>\n",
              "      <td>0</td>\n",
              "    </tr>\n",
              "    <tr>\n",
              "      <th>10</th>\n",
              "      <td>0.1</td>\n",
              "      <td>458</td>\n",
              "      <td>726</td>\n",
              "      <td>28</td>\n",
              "      <td>648</td>\n",
              "    </tr>\n",
              "    <tr>\n",
              "      <th>20</th>\n",
              "      <td>0.2</td>\n",
              "      <td>421</td>\n",
              "      <td>512</td>\n",
              "      <td>65</td>\n",
              "      <td>862</td>\n",
              "    </tr>\n",
              "    <tr>\n",
              "      <th>30</th>\n",
              "      <td>0.3</td>\n",
              "      <td>380</td>\n",
              "      <td>350</td>\n",
              "      <td>106</td>\n",
              "      <td>1024</td>\n",
              "    </tr>\n",
              "    <tr>\n",
              "      <th>40</th>\n",
              "      <td>0.4</td>\n",
              "      <td>337</td>\n",
              "      <td>257</td>\n",
              "      <td>149</td>\n",
              "      <td>1117</td>\n",
              "    </tr>\n",
              "    <tr>\n",
              "      <th>50</th>\n",
              "      <td>0.5</td>\n",
              "      <td>289</td>\n",
              "      <td>172</td>\n",
              "      <td>197</td>\n",
              "      <td>1202</td>\n",
              "    </tr>\n",
              "    <tr>\n",
              "      <th>60</th>\n",
              "      <td>0.6</td>\n",
              "      <td>200</td>\n",
              "      <td>105</td>\n",
              "      <td>286</td>\n",
              "      <td>1269</td>\n",
              "    </tr>\n",
              "    <tr>\n",
              "      <th>70</th>\n",
              "      <td>0.7</td>\n",
              "      <td>99</td>\n",
              "      <td>34</td>\n",
              "      <td>387</td>\n",
              "      <td>1340</td>\n",
              "    </tr>\n",
              "    <tr>\n",
              "      <th>80</th>\n",
              "      <td>0.8</td>\n",
              "      <td>7</td>\n",
              "      <td>1</td>\n",
              "      <td>479</td>\n",
              "      <td>1373</td>\n",
              "    </tr>\n",
              "    <tr>\n",
              "      <th>90</th>\n",
              "      <td>0.9</td>\n",
              "      <td>0</td>\n",
              "      <td>0</td>\n",
              "      <td>486</td>\n",
              "      <td>1374</td>\n",
              "    </tr>\n",
              "    <tr>\n",
              "      <th>100</th>\n",
              "      <td>1.0</td>\n",
              "      <td>0</td>\n",
              "      <td>0</td>\n",
              "      <td>486</td>\n",
              "      <td>1374</td>\n",
              "    </tr>\n",
              "  </tbody>\n",
              "</table>\n",
              "</div>\n",
              "      <button class=\"colab-df-convert\" onclick=\"convertToInteractive('df-3ca41b21-5786-4129-b573-50b4f69266bd')\"\n",
              "              title=\"Convert this dataframe to an interactive table.\"\n",
              "              style=\"display:none;\">\n",
              "        \n",
              "  <svg xmlns=\"http://www.w3.org/2000/svg\" height=\"24px\"viewBox=\"0 0 24 24\"\n",
              "       width=\"24px\">\n",
              "    <path d=\"M0 0h24v24H0V0z\" fill=\"none\"/>\n",
              "    <path d=\"M18.56 5.44l.94 2.06.94-2.06 2.06-.94-2.06-.94-.94-2.06-.94 2.06-2.06.94zm-11 1L8.5 8.5l.94-2.06 2.06-.94-2.06-.94L8.5 2.5l-.94 2.06-2.06.94zm10 10l.94 2.06.94-2.06 2.06-.94-2.06-.94-.94-2.06-.94 2.06-2.06.94z\"/><path d=\"M17.41 7.96l-1.37-1.37c-.4-.4-.92-.59-1.43-.59-.52 0-1.04.2-1.43.59L10.3 9.45l-7.72 7.72c-.78.78-.78 2.05 0 2.83L4 21.41c.39.39.9.59 1.41.59.51 0 1.02-.2 1.41-.59l7.78-7.78 2.81-2.81c.8-.78.8-2.07 0-2.86zM5.41 20L4 18.59l7.72-7.72 1.47 1.35L5.41 20z\"/>\n",
              "  </svg>\n",
              "      </button>\n",
              "      \n",
              "  <style>\n",
              "    .colab-df-container {\n",
              "      display:flex;\n",
              "      flex-wrap:wrap;\n",
              "      gap: 12px;\n",
              "    }\n",
              "\n",
              "    .colab-df-convert {\n",
              "      background-color: #E8F0FE;\n",
              "      border: none;\n",
              "      border-radius: 50%;\n",
              "      cursor: pointer;\n",
              "      display: none;\n",
              "      fill: #1967D2;\n",
              "      height: 32px;\n",
              "      padding: 0 0 0 0;\n",
              "      width: 32px;\n",
              "    }\n",
              "\n",
              "    .colab-df-convert:hover {\n",
              "      background-color: #E2EBFA;\n",
              "      box-shadow: 0px 1px 2px rgba(60, 64, 67, 0.3), 0px 1px 3px 1px rgba(60, 64, 67, 0.15);\n",
              "      fill: #174EA6;\n",
              "    }\n",
              "\n",
              "    [theme=dark] .colab-df-convert {\n",
              "      background-color: #3B4455;\n",
              "      fill: #D2E3FC;\n",
              "    }\n",
              "\n",
              "    [theme=dark] .colab-df-convert:hover {\n",
              "      background-color: #434B5C;\n",
              "      box-shadow: 0px 1px 3px 1px rgba(0, 0, 0, 0.15);\n",
              "      filter: drop-shadow(0px 1px 2px rgba(0, 0, 0, 0.3));\n",
              "      fill: #FFFFFF;\n",
              "    }\n",
              "  </style>\n",
              "\n",
              "      <script>\n",
              "        const buttonEl =\n",
              "          document.querySelector('#df-3ca41b21-5786-4129-b573-50b4f69266bd button.colab-df-convert');\n",
              "        buttonEl.style.display =\n",
              "          google.colab.kernel.accessAllowed ? 'block' : 'none';\n",
              "\n",
              "        async function convertToInteractive(key) {\n",
              "          const element = document.querySelector('#df-3ca41b21-5786-4129-b573-50b4f69266bd');\n",
              "          const dataTable =\n",
              "            await google.colab.kernel.invokeFunction('convertToInteractive',\n",
              "                                                     [key], {});\n",
              "          if (!dataTable) return;\n",
              "\n",
              "          const docLinkHtml = 'Like what you see? Visit the ' +\n",
              "            '<a target=\"_blank\" href=https://colab.research.google.com/notebooks/data_table.ipynb>data table notebook</a>'\n",
              "            + ' to learn more about interactive tables.';\n",
              "          element.innerHTML = '';\n",
              "          dataTable['output_type'] = 'display_data';\n",
              "          await google.colab.output.renderOutput(dataTable, element);\n",
              "          const docLink = document.createElement('div');\n",
              "          docLink.innerHTML = docLinkHtml;\n",
              "          element.appendChild(docLink);\n",
              "        }\n",
              "      </script>\n",
              "    </div>\n",
              "  </div>\n",
              "  "
            ]
          },
          "metadata": {},
          "execution_count": 35
        }
      ]
    },
    {
      "cell_type": "markdown",
      "source": [
        "Now we can compute the TPR and FPR scores."
      ],
      "metadata": {
        "id": "ooFncTA1GB2X"
      }
    },
    {
      "cell_type": "code",
      "source": [
        "df_scores[\"tpr\"] = df_scores.tp / (df_scores.tp + df_scores.fn)\n",
        "df_scores[\"fpr\"] = df_scores.fp / (df_scores.fp + df_scores.tn)\n",
        "df_scores[::10]"
      ],
      "metadata": {
        "id": "SaJqFY6xGCS7",
        "outputId": "e7c421e5-a39d-495b-f1bb-dc88a3e6a81e",
        "colab": {
          "base_uri": "https://localhost:8080/",
          "height": 394
        }
      },
      "execution_count": 36,
      "outputs": [
        {
          "output_type": "execute_result",
          "data": {
            "text/plain": [
              "     threshold   tp    fp   fn    tn       tpr       fpr\n",
              "0          0.0  486  1374    0     0  1.000000  1.000000\n",
              "10         0.1  458   726   28   648  0.942387  0.528384\n",
              "20         0.2  421   512   65   862  0.866255  0.372635\n",
              "30         0.3  380   350  106  1024  0.781893  0.254731\n",
              "40         0.4  337   257  149  1117  0.693416  0.187045\n",
              "50         0.5  289   172  197  1202  0.594650  0.125182\n",
              "60         0.6  200   105  286  1269  0.411523  0.076419\n",
              "70         0.7   99    34  387  1340  0.203704  0.024745\n",
              "80         0.8    7     1  479  1373  0.014403  0.000728\n",
              "90         0.9    0     0  486  1374  0.000000  0.000000\n",
              "100        1.0    0     0  486  1374  0.000000  0.000000"
            ],
            "text/html": [
              "\n",
              "  <div id=\"df-5a98fa78-e5bb-4fba-9c19-abbcee9bc25b\">\n",
              "    <div class=\"colab-df-container\">\n",
              "      <div>\n",
              "<style scoped>\n",
              "    .dataframe tbody tr th:only-of-type {\n",
              "        vertical-align: middle;\n",
              "    }\n",
              "\n",
              "    .dataframe tbody tr th {\n",
              "        vertical-align: top;\n",
              "    }\n",
              "\n",
              "    .dataframe thead th {\n",
              "        text-align: right;\n",
              "    }\n",
              "</style>\n",
              "<table border=\"1\" class=\"dataframe\">\n",
              "  <thead>\n",
              "    <tr style=\"text-align: right;\">\n",
              "      <th></th>\n",
              "      <th>threshold</th>\n",
              "      <th>tp</th>\n",
              "      <th>fp</th>\n",
              "      <th>fn</th>\n",
              "      <th>tn</th>\n",
              "      <th>tpr</th>\n",
              "      <th>fpr</th>\n",
              "    </tr>\n",
              "  </thead>\n",
              "  <tbody>\n",
              "    <tr>\n",
              "      <th>0</th>\n",
              "      <td>0.0</td>\n",
              "      <td>486</td>\n",
              "      <td>1374</td>\n",
              "      <td>0</td>\n",
              "      <td>0</td>\n",
              "      <td>1.000000</td>\n",
              "      <td>1.000000</td>\n",
              "    </tr>\n",
              "    <tr>\n",
              "      <th>10</th>\n",
              "      <td>0.1</td>\n",
              "      <td>458</td>\n",
              "      <td>726</td>\n",
              "      <td>28</td>\n",
              "      <td>648</td>\n",
              "      <td>0.942387</td>\n",
              "      <td>0.528384</td>\n",
              "    </tr>\n",
              "    <tr>\n",
              "      <th>20</th>\n",
              "      <td>0.2</td>\n",
              "      <td>421</td>\n",
              "      <td>512</td>\n",
              "      <td>65</td>\n",
              "      <td>862</td>\n",
              "      <td>0.866255</td>\n",
              "      <td>0.372635</td>\n",
              "    </tr>\n",
              "    <tr>\n",
              "      <th>30</th>\n",
              "      <td>0.3</td>\n",
              "      <td>380</td>\n",
              "      <td>350</td>\n",
              "      <td>106</td>\n",
              "      <td>1024</td>\n",
              "      <td>0.781893</td>\n",
              "      <td>0.254731</td>\n",
              "    </tr>\n",
              "    <tr>\n",
              "      <th>40</th>\n",
              "      <td>0.4</td>\n",
              "      <td>337</td>\n",
              "      <td>257</td>\n",
              "      <td>149</td>\n",
              "      <td>1117</td>\n",
              "      <td>0.693416</td>\n",
              "      <td>0.187045</td>\n",
              "    </tr>\n",
              "    <tr>\n",
              "      <th>50</th>\n",
              "      <td>0.5</td>\n",
              "      <td>289</td>\n",
              "      <td>172</td>\n",
              "      <td>197</td>\n",
              "      <td>1202</td>\n",
              "      <td>0.594650</td>\n",
              "      <td>0.125182</td>\n",
              "    </tr>\n",
              "    <tr>\n",
              "      <th>60</th>\n",
              "      <td>0.6</td>\n",
              "      <td>200</td>\n",
              "      <td>105</td>\n",
              "      <td>286</td>\n",
              "      <td>1269</td>\n",
              "      <td>0.411523</td>\n",
              "      <td>0.076419</td>\n",
              "    </tr>\n",
              "    <tr>\n",
              "      <th>70</th>\n",
              "      <td>0.7</td>\n",
              "      <td>99</td>\n",
              "      <td>34</td>\n",
              "      <td>387</td>\n",
              "      <td>1340</td>\n",
              "      <td>0.203704</td>\n",
              "      <td>0.024745</td>\n",
              "    </tr>\n",
              "    <tr>\n",
              "      <th>80</th>\n",
              "      <td>0.8</td>\n",
              "      <td>7</td>\n",
              "      <td>1</td>\n",
              "      <td>479</td>\n",
              "      <td>1373</td>\n",
              "      <td>0.014403</td>\n",
              "      <td>0.000728</td>\n",
              "    </tr>\n",
              "    <tr>\n",
              "      <th>90</th>\n",
              "      <td>0.9</td>\n",
              "      <td>0</td>\n",
              "      <td>0</td>\n",
              "      <td>486</td>\n",
              "      <td>1374</td>\n",
              "      <td>0.000000</td>\n",
              "      <td>0.000000</td>\n",
              "    </tr>\n",
              "    <tr>\n",
              "      <th>100</th>\n",
              "      <td>1.0</td>\n",
              "      <td>0</td>\n",
              "      <td>0</td>\n",
              "      <td>486</td>\n",
              "      <td>1374</td>\n",
              "      <td>0.000000</td>\n",
              "      <td>0.000000</td>\n",
              "    </tr>\n",
              "  </tbody>\n",
              "</table>\n",
              "</div>\n",
              "      <button class=\"colab-df-convert\" onclick=\"convertToInteractive('df-5a98fa78-e5bb-4fba-9c19-abbcee9bc25b')\"\n",
              "              title=\"Convert this dataframe to an interactive table.\"\n",
              "              style=\"display:none;\">\n",
              "        \n",
              "  <svg xmlns=\"http://www.w3.org/2000/svg\" height=\"24px\"viewBox=\"0 0 24 24\"\n",
              "       width=\"24px\">\n",
              "    <path d=\"M0 0h24v24H0V0z\" fill=\"none\"/>\n",
              "    <path d=\"M18.56 5.44l.94 2.06.94-2.06 2.06-.94-2.06-.94-.94-2.06-.94 2.06-2.06.94zm-11 1L8.5 8.5l.94-2.06 2.06-.94-2.06-.94L8.5 2.5l-.94 2.06-2.06.94zm10 10l.94 2.06.94-2.06 2.06-.94-2.06-.94-.94-2.06-.94 2.06-2.06.94z\"/><path d=\"M17.41 7.96l-1.37-1.37c-.4-.4-.92-.59-1.43-.59-.52 0-1.04.2-1.43.59L10.3 9.45l-7.72 7.72c-.78.78-.78 2.05 0 2.83L4 21.41c.39.39.9.59 1.41.59.51 0 1.02-.2 1.41-.59l7.78-7.78 2.81-2.81c.8-.78.8-2.07 0-2.86zM5.41 20L4 18.59l7.72-7.72 1.47 1.35L5.41 20z\"/>\n",
              "  </svg>\n",
              "      </button>\n",
              "      \n",
              "  <style>\n",
              "    .colab-df-container {\n",
              "      display:flex;\n",
              "      flex-wrap:wrap;\n",
              "      gap: 12px;\n",
              "    }\n",
              "\n",
              "    .colab-df-convert {\n",
              "      background-color: #E8F0FE;\n",
              "      border: none;\n",
              "      border-radius: 50%;\n",
              "      cursor: pointer;\n",
              "      display: none;\n",
              "      fill: #1967D2;\n",
              "      height: 32px;\n",
              "      padding: 0 0 0 0;\n",
              "      width: 32px;\n",
              "    }\n",
              "\n",
              "    .colab-df-convert:hover {\n",
              "      background-color: #E2EBFA;\n",
              "      box-shadow: 0px 1px 2px rgba(60, 64, 67, 0.3), 0px 1px 3px 1px rgba(60, 64, 67, 0.15);\n",
              "      fill: #174EA6;\n",
              "    }\n",
              "\n",
              "    [theme=dark] .colab-df-convert {\n",
              "      background-color: #3B4455;\n",
              "      fill: #D2E3FC;\n",
              "    }\n",
              "\n",
              "    [theme=dark] .colab-df-convert:hover {\n",
              "      background-color: #434B5C;\n",
              "      box-shadow: 0px 1px 3px 1px rgba(0, 0, 0, 0.15);\n",
              "      filter: drop-shadow(0px 1px 2px rgba(0, 0, 0, 0.3));\n",
              "      fill: #FFFFFF;\n",
              "    }\n",
              "  </style>\n",
              "\n",
              "      <script>\n",
              "        const buttonEl =\n",
              "          document.querySelector('#df-5a98fa78-e5bb-4fba-9c19-abbcee9bc25b button.colab-df-convert');\n",
              "        buttonEl.style.display =\n",
              "          google.colab.kernel.accessAllowed ? 'block' : 'none';\n",
              "\n",
              "        async function convertToInteractive(key) {\n",
              "          const element = document.querySelector('#df-5a98fa78-e5bb-4fba-9c19-abbcee9bc25b');\n",
              "          const dataTable =\n",
              "            await google.colab.kernel.invokeFunction('convertToInteractive',\n",
              "                                                     [key], {});\n",
              "          if (!dataTable) return;\n",
              "\n",
              "          const docLinkHtml = 'Like what you see? Visit the ' +\n",
              "            '<a target=\"_blank\" href=https://colab.research.google.com/notebooks/data_table.ipynb>data table notebook</a>'\n",
              "            + ' to learn more about interactive tables.';\n",
              "          element.innerHTML = '';\n",
              "          dataTable['output_type'] = 'display_data';\n",
              "          await google.colab.output.renderOutput(dataTable, element);\n",
              "          const docLink = document.createElement('div');\n",
              "          docLink.innerHTML = docLinkHtml;\n",
              "          element.appendChild(docLink);\n",
              "        }\n",
              "      </script>\n",
              "    </div>\n",
              "  </div>\n",
              "  "
            ]
          },
          "metadata": {},
          "execution_count": 36
        }
      ]
    },
    {
      "cell_type": "code",
      "source": [
        "# Let’s plot them\n",
        "plt.figure(figsize=(6, 4))\n",
        "\n",
        "plt.plot(df_scores.threshold, df_scores.tpr, color=\"k\", linestyle=\"solid\", label=\"TPR\")\n",
        "plt.plot(df_scores.threshold, df_scores.fpr, color=\"r\", linestyle=\"dashed\", label=\"FPR\")\n",
        "plt.legend()\n",
        "\n",
        "plt.xticks(np.linspace(0, 1, 11))\n",
        "plt.yticks(np.linspace(0, 1, 11))\n",
        "\n",
        "plt.xlabel(\"Thresholds\")\n",
        "plt.ylabel(\"TPR and FPR\")\n",
        "\n",
        "plt.show()"
      ],
      "metadata": {
        "id": "qjpAnfKVGhzN",
        "outputId": "19f7d8f4-0441-437c-b91c-8380d5e0e298",
        "colab": {
          "base_uri": "https://localhost:8080/",
          "height": 279
        }
      },
      "execution_count": 37,
      "outputs": [
        {
          "output_type": "display_data",
          "data": {
            "text/plain": [
              "<Figure size 432x288 with 1 Axes>"
            ],
            "image/png": "[encoded data removed]"
          },
          "metadata": {
            "needs_background": "light"
          }
        }
      ]
    },
    {
      "cell_type": "markdown",
      "source": [
        "Ideally, FPR should go down very quickly. A small FPR indicates that the model\n",
        "makes very few mistakes predicting negative examples (false positives).\n",
        "\n",
        "On the other hand, TPR should go down slowly, ideally staying near 100% all the time:\n",
        "that will mean that the model predicts true positives well."
      ],
      "metadata": {
        "id": "N8TMDI8FHw1R"
      }
    },
    {
      "cell_type": "markdown",
      "source": [
        "##Baseline model"
      ],
      "metadata": {
        "id": "q_EA8hq5H8YQ"
      }
    },
    {
      "cell_type": "markdown",
      "source": [
        "A random model outputs a random score between 0 and 1, regardless of the input. \n",
        "\n",
        "It’s easy to implement — we simply generate an array with uniform random numbers:"
      ],
      "metadata": {
        "id": "lUn4oGRVH91S"
      }
    },
    {
      "cell_type": "code",
      "source": [
        "np.random.seed(1)\n",
        "\n",
        "y_rand = np.random.uniform(0, 1, size=len(y_val))"
      ],
      "metadata": {
        "id": "MU0rlkjjOp05"
      },
      "execution_count": 38,
      "outputs": []
    },
    {
      "cell_type": "markdown",
      "source": [
        "Now we can simply pretend that `y_rand` contains the predictions of our \"model\".\n",
        "\n",
        "Let’s calculate FPR and TPR for our random model."
      ],
      "metadata": {
        "id": "62uQTw7qPBuJ"
      }
    },
    {
      "cell_type": "code",
      "source": [
        "# Function for calculating TPR and FPR at different thresholds\n",
        "def tpr_fpr_dataframe(y_val, y_pred):\n",
        "  scores = []\n",
        "  thresholds = np.linspace(0, 1, 101)\n",
        "\n",
        "  # Calculates the confusion table for different thresholds\n",
        "  for threshold in thresholds:\n",
        "    tp = ((y_pred >= threshold) & (y_val == 1)).sum()\n",
        "    fp = ((y_pred >= threshold) & (y_val == 0)).sum()\n",
        "    fn = ((y_pred < threshold) & (y_val == 1)).sum()\n",
        "    tn = ((y_pred < threshold) & (y_val == 0)).sum()\n",
        "    scores.append((threshold, tp, fp, fn, tn))\n",
        "\n",
        "  # Converts the confusion table numbers to a dataframe\n",
        "  df_scores = pd.DataFrame(scores)\n",
        "  df_scores.columns = [\"threshold\", \"tp\", \"fp\", \"fn\", \"tn\"]\n",
        "\n",
        "  # Calculates TPR and FPR using the confusion table numbers\n",
        "  df_scores[\"tpr\"] = df_scores.tp / (df_scores.tp + df_scores.fn)\n",
        "  df_scores[\"fpr\"] = df_scores.fp / (df_scores.fp + df_scores.tn)\n",
        "\n",
        "  return df_scores"
      ],
      "metadata": {
        "id": "3jyCHUUMPFmy"
      },
      "execution_count": 39,
      "outputs": []
    },
    {
      "cell_type": "code",
      "source": [
        "# calculate the TPR and FPR for the random model\n",
        "df_rand = tpr_fpr_dataframe(y_val, y_rand)\n",
        "df_rand[::10]"
      ],
      "metadata": {
        "id": "PC7hvgCMQvfG",
        "outputId": "5669c556-ef69-4959-fbe9-bb79bffa6e58",
        "colab": {
          "base_uri": "https://localhost:8080/",
          "height": 394
        }
      },
      "execution_count": 40,
      "outputs": [
        {
          "output_type": "execute_result",
          "data": {
            "text/plain": [
              "     threshold   tp    fp   fn    tn       tpr       fpr\n",
              "0          0.0  486  1374    0     0  1.000000  1.000000\n",
              "10         0.1  440  1236   46   138  0.905350  0.899563\n",
              "20         0.2  392  1101   94   273  0.806584  0.801310\n",
              "30         0.3  339   972  147   402  0.697531  0.707424\n",
              "40         0.4  288   849  198   525  0.592593  0.617904\n",
              "50         0.5  239   723  247   651  0.491770  0.526201\n",
              "60         0.6  193   579  293   795  0.397119  0.421397\n",
              "70         0.7  152   422  334   952  0.312757  0.307132\n",
              "80         0.8   98   302  388  1072  0.201646  0.219796\n",
              "90         0.9   57   147  429  1227  0.117284  0.106987\n",
              "100        1.0    0     0  486  1374  0.000000  0.000000"
            ],
            "text/html": [
              "\n",
              "  <div id=\"df-cec8fac0-3000-429a-8a53-658cd19ab67f\">\n",
              "    <div class=\"colab-df-container\">\n",
              "      <div>\n",
              "<style scoped>\n",
              "    .dataframe tbody tr th:only-of-type {\n",
              "        vertical-align: middle;\n",
              "    }\n",
              "\n",
              "    .dataframe tbody tr th {\n",
              "        vertical-align: top;\n",
              "    }\n",
              "\n",
              "    .dataframe thead th {\n",
              "        text-align: right;\n",
              "    }\n",
              "</style>\n",
              "<table border=\"1\" class=\"dataframe\">\n",
              "  <thead>\n",
              "    <tr style=\"text-align: right;\">\n",
              "      <th></th>\n",
              "      <th>threshold</th>\n",
              "      <th>tp</th>\n",
              "      <th>fp</th>\n",
              "      <th>fn</th>\n",
              "      <th>tn</th>\n",
              "      <th>tpr</th>\n",
              "      <th>fpr</th>\n",
              "    </tr>\n",
              "  </thead>\n",
              "  <tbody>\n",
              "    <tr>\n",
              "      <th>0</th>\n",
              "      <td>0.0</td>\n",
              "      <td>486</td>\n",
              "      <td>1374</td>\n",
              "      <td>0</td>\n",
              "      <td>0</td>\n",
              "      <td>1.000000</td>\n",
              "      <td>1.000000</td>\n",
              "    </tr>\n",
              "    <tr>\n",
              "      <th>10</th>\n",
              "      <td>0.1</td>\n",
              "      <td>440</td>\n",
              "      <td>1236</td>\n",
              "      <td>46</td>\n",
              "      <td>138</td>\n",
              "      <td>0.905350</td>\n",
              "      <td>0.899563</td>\n",
              "    </tr>\n",
              "    <tr>\n",
              "      <th>20</th>\n",
              "      <td>0.2</td>\n",
              "      <td>392</td>\n",
              "      <td>1101</td>\n",
              "      <td>94</td>\n",
              "      <td>273</td>\n",
              "      <td>0.806584</td>\n",
              "      <td>0.801310</td>\n",
              "    </tr>\n",
              "    <tr>\n",
              "      <th>30</th>\n",
              "      <td>0.3</td>\n",
              "      <td>339</td>\n",
              "      <td>972</td>\n",
              "      <td>147</td>\n",
              "      <td>402</td>\n",
              "      <td>0.697531</td>\n",
              "      <td>0.707424</td>\n",
              "    </tr>\n",
              "    <tr>\n",
              "      <th>40</th>\n",
              "      <td>0.4</td>\n",
              "      <td>288</td>\n",
              "      <td>849</td>\n",
              "      <td>198</td>\n",
              "      <td>525</td>\n",
              "      <td>0.592593</td>\n",
              "      <td>0.617904</td>\n",
              "    </tr>\n",
              "    <tr>\n",
              "      <th>50</th>\n",
              "      <td>0.5</td>\n",
              "      <td>239</td>\n",
              "      <td>723</td>\n",
              "      <td>247</td>\n",
              "      <td>651</td>\n",
              "      <td>0.491770</td>\n",
              "      <td>0.526201</td>\n",
              "    </tr>\n",
              "    <tr>\n",
              "      <th>60</th>\n",
              "      <td>0.6</td>\n",
              "      <td>193</td>\n",
              "      <td>579</td>\n",
              "      <td>293</td>\n",
              "      <td>795</td>\n",
              "      <td>0.397119</td>\n",
              "      <td>0.421397</td>\n",
              "    </tr>\n",
              "    <tr>\n",
              "      <th>70</th>\n",
              "      <td>0.7</td>\n",
              "      <td>152</td>\n",
              "      <td>422</td>\n",
              "      <td>334</td>\n",
              "      <td>952</td>\n",
              "      <td>0.312757</td>\n",
              "      <td>0.307132</td>\n",
              "    </tr>\n",
              "    <tr>\n",
              "      <th>80</th>\n",
              "      <td>0.8</td>\n",
              "      <td>98</td>\n",
              "      <td>302</td>\n",
              "      <td>388</td>\n",
              "      <td>1072</td>\n",
              "      <td>0.201646</td>\n",
              "      <td>0.219796</td>\n",
              "    </tr>\n",
              "    <tr>\n",
              "      <th>90</th>\n",
              "      <td>0.9</td>\n",
              "      <td>57</td>\n",
              "      <td>147</td>\n",
              "      <td>429</td>\n",
              "      <td>1227</td>\n",
              "      <td>0.117284</td>\n",
              "      <td>0.106987</td>\n",
              "    </tr>\n",
              "    <tr>\n",
              "      <th>100</th>\n",
              "      <td>1.0</td>\n",
              "      <td>0</td>\n",
              "      <td>0</td>\n",
              "      <td>486</td>\n",
              "      <td>1374</td>\n",
              "      <td>0.000000</td>\n",
              "      <td>0.000000</td>\n",
              "    </tr>\n",
              "  </tbody>\n",
              "</table>\n",
              "</div>\n",
              "      <button class=\"colab-df-convert\" onclick=\"convertToInteractive('df-cec8fac0-3000-429a-8a53-658cd19ab67f')\"\n",
              "              title=\"Convert this dataframe to an interactive table.\"\n",
              "              style=\"display:none;\">\n",
              "        \n",
              "  <svg xmlns=\"http://www.w3.org/2000/svg\" height=\"24px\"viewBox=\"0 0 24 24\"\n",
              "       width=\"24px\">\n",
              "    <path d=\"M0 0h24v24H0V0z\" fill=\"none\"/>\n",
              "    <path d=\"M18.56 5.44l.94 2.06.94-2.06 2.06-.94-2.06-.94-.94-2.06-.94 2.06-2.06.94zm-11 1L8.5 8.5l.94-2.06 2.06-.94-2.06-.94L8.5 2.5l-.94 2.06-2.06.94zm10 10l.94 2.06.94-2.06 2.06-.94-2.06-.94-.94-2.06-.94 2.06-2.06.94z\"/><path d=\"M17.41 7.96l-1.37-1.37c-.4-.4-.92-.59-1.43-.59-.52 0-1.04.2-1.43.59L10.3 9.45l-7.72 7.72c-.78.78-.78 2.05 0 2.83L4 21.41c.39.39.9.59 1.41.59.51 0 1.02-.2 1.41-.59l7.78-7.78 2.81-2.81c.8-.78.8-2.07 0-2.86zM5.41 20L4 18.59l7.72-7.72 1.47 1.35L5.41 20z\"/>\n",
              "  </svg>\n",
              "      </button>\n",
              "      \n",
              "  <style>\n",
              "    .colab-df-container {\n",
              "      display:flex;\n",
              "      flex-wrap:wrap;\n",
              "      gap: 12px;\n",
              "    }\n",
              "\n",
              "    .colab-df-convert {\n",
              "      background-color: #E8F0FE;\n",
              "      border: none;\n",
              "      border-radius: 50%;\n",
              "      cursor: pointer;\n",
              "      display: none;\n",
              "      fill: #1967D2;\n",
              "      height: 32px;\n",
              "      padding: 0 0 0 0;\n",
              "      width: 32px;\n",
              "    }\n",
              "\n",
              "    .colab-df-convert:hover {\n",
              "      background-color: #E2EBFA;\n",
              "      box-shadow: 0px 1px 2px rgba(60, 64, 67, 0.3), 0px 1px 3px 1px rgba(60, 64, 67, 0.15);\n",
              "      fill: #174EA6;\n",
              "    }\n",
              "\n",
              "    [theme=dark] .colab-df-convert {\n",
              "      background-color: #3B4455;\n",
              "      fill: #D2E3FC;\n",
              "    }\n",
              "\n",
              "    [theme=dark] .colab-df-convert:hover {\n",
              "      background-color: #434B5C;\n",
              "      box-shadow: 0px 1px 3px 1px rgba(0, 0, 0, 0.15);\n",
              "      filter: drop-shadow(0px 1px 2px rgba(0, 0, 0, 0.3));\n",
              "      fill: #FFFFFF;\n",
              "    }\n",
              "  </style>\n",
              "\n",
              "      <script>\n",
              "        const buttonEl =\n",
              "          document.querySelector('#df-cec8fac0-3000-429a-8a53-658cd19ab67f button.colab-df-convert');\n",
              "        buttonEl.style.display =\n",
              "          google.colab.kernel.accessAllowed ? 'block' : 'none';\n",
              "\n",
              "        async function convertToInteractive(key) {\n",
              "          const element = document.querySelector('#df-cec8fac0-3000-429a-8a53-658cd19ab67f');\n",
              "          const dataTable =\n",
              "            await google.colab.kernel.invokeFunction('convertToInteractive',\n",
              "                                                     [key], {});\n",
              "          if (!dataTable) return;\n",
              "\n",
              "          const docLinkHtml = 'Like what you see? Visit the ' +\n",
              "            '<a target=\"_blank\" href=https://colab.research.google.com/notebooks/data_table.ipynb>data table notebook</a>'\n",
              "            + ' to learn more about interactive tables.';\n",
              "          element.innerHTML = '';\n",
              "          dataTable['output_type'] = 'display_data';\n",
              "          await google.colab.output.renderOutput(dataTable, element);\n",
              "          const docLink = document.createElement('div');\n",
              "          docLink.innerHTML = docLinkHtml;\n",
              "          element.appendChild(docLink);\n",
              "        }\n",
              "      </script>\n",
              "    </div>\n",
              "  </div>\n",
              "  "
            ]
          },
          "metadata": {},
          "execution_count": 40
        }
      ]
    },
    {
      "cell_type": "code",
      "source": [
        "# Let’s plot them\n",
        "plt.figure(figsize=(6, 4))\n",
        "\n",
        "plt.plot(df_rand.threshold, df_rand.tpr, color=\"b\", linestyle=\"solid\", label=\"TPR\")\n",
        "plt.plot(df_rand.threshold, df_rand.fpr, color=\"r\", linestyle=\"dashed\", label=\"FPR\")\n",
        "plt.legend()\n",
        "\n",
        "plt.xticks(np.linspace(0, 1, 11))\n",
        "plt.yticks(np.linspace(0, 1, 11))\n",
        "\n",
        "plt.xlabel(\"Thresholds\")\n",
        "plt.ylabel(\"TPR and FPR for the random model\")\n",
        "\n",
        "plt.show()"
      ],
      "metadata": {
        "id": "2N2JgCr5SAUr",
        "outputId": "59fe0a2a-915b-43cd-be71-7592376e925a",
        "colab": {
          "base_uri": "https://localhost:8080/",
          "height": 279
        }
      },
      "execution_count": 42,
      "outputs": [
        {
          "output_type": "display_data",
          "data": {
            "text/plain": [
              "<Figure size 432x288 with 1 Axes>"
            ],
            "image/png": "[encoded data removed]"
          },
          "metadata": {
            "needs_background": "light"
          }
        }
      ]
    },
    {
      "cell_type": "markdown",
      "source": [
        "##Ideal model"
      ],
      "metadata": {
        "id": "ziYtkNptTMqP"
      }
    },
    {
      "cell_type": "markdown",
      "source": [],
      "metadata": {
        "id": "ZPuVwKFRTO3H"
      }
    }
  ]
}