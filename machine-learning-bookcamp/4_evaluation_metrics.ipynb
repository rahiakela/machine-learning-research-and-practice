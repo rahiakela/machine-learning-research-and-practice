{
  "nbformat": 4,
  "nbformat_minor": 0,
  "metadata": {
    "colab": {
      "provenance": [],
      "toc_visible": true,
      "authorship_tag": "ABX9TyObVUgkT8XgU45b/XxOVfHD",
      "include_colab_link": true
    },
    "kernelspec": {
      "name": "python3",
      "display_name": "Python 3"
    },
    "language_info": {
      "name": "python"
    }
  },
  "cells": [
    {
      "cell_type": "markdown",
      "metadata": {
        "id": "view-in-github",
        "colab_type": "text"
      },
      "source": [
        "<a href=\"https://colab.research.google.com/github/rahiakela/machine-learning-research-and-practice/blob/main/machine-learning-bookcamp/4_evaluation_metrics.ipynb\" target=\"_parent\"><img src=\"https://colab.research.google.com/assets/colab-badge.svg\" alt=\"Open In Colab\"/></a>"
      ]
    },
    {
      "cell_type": "markdown",
      "source": [
        "##Evaluation Metrics"
      ],
      "metadata": {
        "id": "nKiw-jHgceh6"
      }
    },
    {
      "cell_type": "markdown",
      "source": [
        "Churn is when customers stop using the services of a company. Thus, churn prediction\n",
        "is about identifying customers who are likely to cancel their contracts soon.\n",
        "\n",
        "If the company can do that, it can offer discounts on these services in an effort to\n",
        "keep the users.\n",
        "\n",
        "Imagine that we are working at a telecom company that offers phone and internet\n",
        "services, and we have a problem: some of our customers are churning. They no longer\n",
        "are using our services and are going to a different provider. \n",
        "\n",
        "We would like to prevent\n",
        "that from happening, so we develop a system for identifying these customers and offer\n",
        "them an incentive to stay. \n",
        "\n",
        "We want to target them with promotional messages and give\n",
        "them a discount. We also would like to understand why the model thinks our customers\n",
        "churn, and for that, we need to be able to interpret the model’s predictions.\n",
        "\n",
        "In this notebook, we will discuss the ways of evaluating a binary classification model: \n",
        "\n",
        "* accuracy\n",
        "* confusion table\n",
        "* precision \n",
        "* recall\n",
        "* ROC curve\n",
        "* AUC"
      ],
      "metadata": {
        "id": "n-ZdMvNtchEm"
      }
    },
    {
      "cell_type": "markdown",
      "source": [
        "##Setup"
      ],
      "metadata": {
        "id": "8MqwP3Hzc1Wb"
      }
    },
    {
      "cell_type": "code",
      "source": [
        "import pandas as pd\n",
        "import numpy as np\n",
        "\n",
        "from sklearn.model_selection import train_test_split\n",
        "from sklearn.metrics import mutual_info_score\n",
        "from sklearn.feature_extraction import DictVectorizer\n",
        "from sklearn.linear_model import LogisticRegression\n",
        "\n",
        "from sklearn.metrics import accuracy_score\n",
        "\n",
        "import seaborn as sns\n",
        "from matplotlib import pyplot as plt\n",
        "from IPython.display import display\n",
        "\n",
        "%matplotlib inline"
      ],
      "metadata": {
        "id": "vpCaukoZc2bM"
      },
      "execution_count": 27,
      "outputs": []
    },
    {
      "cell_type": "code",
      "source": [
        "from google.colab import drive\n",
        "drive.mount('/content/gdrive')"
      ],
      "metadata": {
        "id": "bA6YUwP1c_KM",
        "outputId": "ccd75797-cde1-41bd-9732-f53304836385",
        "colab": {
          "base_uri": "https://localhost:8080/"
        }
      },
      "execution_count": 2,
      "outputs": [
        {
          "output_type": "stream",
          "name": "stdout",
          "text": [
            "Mounted at /content/gdrive\n"
          ]
        }
      ]
    },
    {
      "cell_type": "code",
      "source": [
        "import os\n",
        "# content/gdrive/My Drive/Kaggle is the path where kaggle.json is  present in the Google Drive\n",
        "os.environ['KAGGLE_CONFIG_DIR'] = \"/content/gdrive/MyDrive/kaggle-keys\""
      ],
      "metadata": {
        "id": "Khw2AeAidQ7r"
      },
      "execution_count": 3,
      "outputs": []
    },
    {
      "cell_type": "code",
      "source": [
        "%%shell\n",
        "\n",
        "# download dataset from kaggle> URL: https://www.kaggle.com/blastchar/telco-customer-churn\n",
        "kaggle datasets download -d blastchar/telco-customer-churn\n",
        "\n",
        "unzip -qq telco-customer-churn.zip\n",
        "rm -rf telco-customer-churn.zip"
      ],
      "metadata": {
        "id": "8EuMmwDKdXEm"
      },
      "execution_count": null,
      "outputs": []
    },
    {
      "cell_type": "markdown",
      "source": [
        "##Dataset"
      ],
      "metadata": {
        "id": "JKpNUL22eB1f"
      }
    },
    {
      "cell_type": "code",
      "source": [
        "# let’s read our dataset\n",
        "data_df = pd.read_csv(\"WA_Fn-UseC_-Telco-Customer-Churn.csv\")\n",
        "len(data_df)"
      ],
      "metadata": {
        "colab": {
          "base_uri": "https://localhost:8080/"
        },
        "id": "US7ds406eEwl",
        "outputId": "be257312-2cc1-40d7-961c-3140fe01ef2d"
      },
      "execution_count": 5,
      "outputs": [
        {
          "output_type": "execute_result",
          "data": {
            "text/plain": [
              "7043"
            ]
          },
          "metadata": {},
          "execution_count": 5
        }
      ]
    },
    {
      "cell_type": "code",
      "source": [
        "# so, let's set the missing values to zero\n",
        "data_df[\"TotalCharges\"] = pd.to_numeric(data_df.TotalCharges, errors=\"coerce\")\n",
        "data_df[\"TotalCharges\"] = data_df[\"TotalCharges\"].fillna(0)"
      ],
      "metadata": {
        "id": "gJ6bAyO3BM0s"
      },
      "execution_count": 6,
      "outputs": []
    },
    {
      "cell_type": "code",
      "source": [
        "# Let’s make the column names uniform by lowercasing everything and replacing spaces with underscores\n",
        "data_df.columns = data_df.columns.str.lower().str.replace(\" \", \"_\")\n",
        "string_columns = list(data_df.dtypes[data_df.dtypes == \"object\"].index)\n",
        "\n",
        "for col in string_columns:\n",
        "  data_df[col] = data_df[col].str.lower().str.replace(\" \", \"_\")"
      ],
      "metadata": {
        "id": "8RxmSWRRCIIn"
      },
      "execution_count": 7,
      "outputs": []
    },
    {
      "cell_type": "code",
      "source": [
        "# so, let’s convert the target variable to numbers\n",
        "data_df.churn = (data_df.churn == \"yes\").astype(int)"
      ],
      "metadata": {
        "id": "pqq7tWy_DBFf"
      },
      "execution_count": 8,
      "outputs": []
    },
    {
      "cell_type": "code",
      "source": [
        "# split such that 80% of the data goes to the train set and the remaining 20% goes to the test set.\n",
        "df_train_full, df_test = train_test_split(data_df, test_size=0.2, random_state=1)"
      ],
      "metadata": {
        "id": "CPM1VXhp2jmc"
      },
      "execution_count": 9,
      "outputs": []
    },
    {
      "cell_type": "code",
      "source": [
        "# let's split it one more time into train and validation\n",
        "df_train, df_val = train_test_split(df_train_full, test_size=0.33, random_state=11)"
      ],
      "metadata": {
        "id": "jMF2Y3fq609Q"
      },
      "execution_count": 10,
      "outputs": []
    },
    {
      "cell_type": "code",
      "source": [
        "# Takes the column with the target variable, churn, and saves it outside the dataframe\n",
        "y_train = df_train.churn.values\n",
        "y_val = df_val.churn.values"
      ],
      "metadata": {
        "id": "Q0pd3UeC7uwG"
      },
      "execution_count": 11,
      "outputs": []
    },
    {
      "cell_type": "code",
      "source": [
        "# Deletes the churn columns\n",
        "del df_train[\"churn\"]\n",
        "del df_val[\"churn\"]"
      ],
      "metadata": {
        "id": "n_M-124_78Ae"
      },
      "execution_count": 12,
      "outputs": []
    },
    {
      "cell_type": "code",
      "source": [
        "# let's create two lists for categorical and numerical variables\n",
        "categorical_cols = [\n",
        "  'gender', 'seniorcitizen', 'partner', 'dependents',\n",
        "  'phoneservice', 'multiplelines', 'internetservice',\n",
        "  'onlinesecurity', 'onlinebackup', 'deviceprotection',\n",
        "  'techsupport', 'streamingtv', 'streamingmovies',\n",
        "  'contract', 'paperlessbilling', 'paymentmethod'\n",
        "]\n",
        "\n",
        "numerical_cols = ['tenure', 'monthlycharges', 'totalcharges']"
      ],
      "metadata": {
        "id": "-KciNwlaWnDb"
      },
      "execution_count": 13,
      "outputs": []
    },
    {
      "cell_type": "code",
      "source": [
        "# convert dataframe to a list of dictionaries\n",
        "train_dict = df_train[categorical_cols + numerical_cols].to_dict(orient=\"records\")"
      ],
      "metadata": {
        "id": "qjdL0mYfAz9j"
      },
      "execution_count": 14,
      "outputs": []
    },
    {
      "cell_type": "code",
      "source": [
        "# convert the list of dictionaries to matrix\n",
        "dv = DictVectorizer(sparse=False)\n",
        "dv.fit(train_dict)\n",
        "x_train = dv.transform(train_dict)"
      ],
      "metadata": {
        "id": "T0JnbzdjC79S"
      },
      "execution_count": 15,
      "outputs": []
    },
    {
      "cell_type": "markdown",
      "source": [
        "##Classification model"
      ],
      "metadata": {
        "id": "45mEQuX-Ekto"
      }
    },
    {
      "cell_type": "code",
      "source": [
        "model = LogisticRegression(solver=\"liblinear\", random_state=1)\n",
        "model.fit(x_train, y_train)"
      ],
      "metadata": {
        "id": "TLhS3nSTym7G",
        "outputId": "892e1380-3c34-4da5-f3e9-d19ba05d2441",
        "colab": {
          "base_uri": "https://localhost:8080/"
        }
      },
      "execution_count": 16,
      "outputs": [
        {
          "output_type": "execute_result",
          "data": {
            "text/plain": [
              "LogisticRegression(random_state=1, solver='liblinear')"
            ]
          },
          "metadata": {},
          "execution_count": 16
        }
      ]
    },
    {
      "cell_type": "code",
      "source": [
        "# perform one-hot encoding in exactly the same way as during training\n",
        "val_dict = df_val[categorical_cols + numerical_cols].to_dict(orient=\"records\")\n",
        "x_val = dv.transform(val_dict)\n",
        "\n",
        "y_pred = model.predict_proba(x_val)[:, 1]"
      ],
      "metadata": {
        "id": "e5lHeB-A3YCh"
      },
      "execution_count": 22,
      "outputs": []
    },
    {
      "cell_type": "code",
      "source": [
        "subset = [\"contract\", \"tenure\", \"totalcharges\"]\n",
        "train_dict_small = df_train[subset].to_dict(orient=\"records\")\n",
        "dv_small = DictVectorizer(sparse=False)\n",
        "dv_small.fit(train_dict_small)\n",
        "\n",
        "x_small_train = dv_small.transform(train_dict_small)"
      ],
      "metadata": {
        "id": "UUx-lgthwwM0"
      },
      "execution_count": 23,
      "outputs": []
    },
    {
      "cell_type": "code",
      "source": [
        "# Let’s train the small model on this set of features\n",
        "model_small = LogisticRegression(solver=\"liblinear\", random_state=1)\n",
        "model_small.fit(x_small_train, y_train)"
      ],
      "metadata": {
        "id": "lPydV0eLxvRf",
        "outputId": "2aa8e637-8114-4056-fcda-56a3c4c989b4",
        "colab": {
          "base_uri": "https://localhost:8080/"
        }
      },
      "execution_count": 24,
      "outputs": [
        {
          "output_type": "execute_result",
          "data": {
            "text/plain": [
              "LogisticRegression(random_state=1, solver='liblinear')"
            ]
          },
          "metadata": {},
          "execution_count": 24
        }
      ]
    },
    {
      "cell_type": "code",
      "source": [
        "# let's validate this model\n",
        "val_dict_small = df_val[subset].to_dict(orient=\"records\")\n",
        "\n",
        "x_small_val = dv_small.transform(val_dict_small)\n",
        "\n",
        "y_pred_small = model_small.predict_proba(x_small_val)[:, 1]"
      ],
      "metadata": {
        "id": "VkltuVVO3L-c"
      },
      "execution_count": 25,
      "outputs": []
    },
    {
      "cell_type": "markdown",
      "source": [
        "##Classification accuracy"
      ],
      "metadata": {
        "id": "LQjZVC-C3ELH"
      }
    },
    {
      "cell_type": "markdown",
      "source": [
        "This accuracy is the simplest way to evaluate a classifier: by counting the number of\n",
        "cases in which our model turned out to be right.\n",
        "\n",
        "Computing accuracy on the validation dataset is easy — we simply calculate the\n",
        "fraction of correct predictions:"
      ],
      "metadata": {
        "id": "ZE6GXnwE3GUg"
      }
    },
    {
      "cell_type": "code",
      "source": [
        "# Gets the predictions from the model\n",
        "y_pred = model.predict_proba(x_val)[:, 1]\n",
        "\n",
        "# Makes \"hard\" predictions\n",
        "churn = y_pred >= .5\n",
        "\n",
        "# Computes the accuracy\n",
        "(churn == y_val).mean()"
      ],
      "metadata": {
        "id": "5wXT5F4_7qFY",
        "outputId": "7f99e216-82cf-450f-cc94-577e7ab48da5",
        "colab": {
          "base_uri": "https://localhost:8080/"
        }
      },
      "execution_count": 26,
      "outputs": [
        {
          "output_type": "execute_result",
          "data": {
            "text/plain": [
              "0.8016129032258065"
            ]
          },
          "metadata": {},
          "execution_count": 26
        }
      ]
    },
    {
      "cell_type": "markdown",
      "source": [
        "Now we can loop over different thresholds and check which one gives the best accuracy:"
      ],
      "metadata": {
        "id": "wNFbgPz28uQj"
      }
    },
    {
      "cell_type": "code",
      "source": [
        "# Creates an array with different thresholds\n",
        "thresholds = np.linspace(0, 1, 21)\n",
        "accuracies = []\n",
        "\n",
        "for threshold in thresholds:\n",
        "  churn = y_pred >= threshold\n",
        "  acc = accuracy_score(y_val, churn)\n",
        "  accuracies.append(acc)\n",
        "  print(f\"{threshold:.2f} >> {acc:.3f}\")"
      ],
      "metadata": {
        "id": "B3s_E9Qw85Hk",
        "outputId": "9c731fbe-e46a-4a2b-dfd4-da858ca33911",
        "colab": {
          "base_uri": "https://localhost:8080/"
        }
      },
      "execution_count": 30,
      "outputs": [
        {
          "output_type": "stream",
          "name": "stdout",
          "text": [
            "0.00 >> 0.261\n",
            "0.05 >> 0.501\n",
            "0.10 >> 0.595\n",
            "0.15 >> 0.640\n",
            "0.20 >> 0.690\n",
            "0.25 >> 0.730\n",
            "0.30 >> 0.755\n",
            "0.35 >> 0.767\n",
            "0.40 >> 0.782\n",
            "0.45 >> 0.795\n",
            "0.50 >> 0.802\n",
            "0.55 >> 0.790\n",
            "0.60 >> 0.790\n",
            "0.65 >> 0.788\n",
            "0.70 >> 0.774\n",
            "0.75 >> 0.752\n",
            "0.80 >> 0.742\n",
            "0.85 >> 0.739\n",
            "0.90 >> 0.739\n",
            "0.95 >> 0.739\n",
            "1.00 >> 0.739\n"
          ]
        }
      ]
    },
    {
      "cell_type": "markdown",
      "source": [
        "As we see, using the threshold of 0.5 gives us the best accuracy. "
      ],
      "metadata": {
        "id": "9p-142ijLQ8S"
      }
    },
    {
      "cell_type": "code",
      "source": [
        "max(accuracies)"
      ],
      "metadata": {
        "colab": {
          "base_uri": "https://localhost:8080/"
        },
        "id": "l16In7LtOcKw",
        "outputId": "0f47fc55-e258-4c0c-8618-1728128c89c5"
      },
      "execution_count": 42,
      "outputs": [
        {
          "output_type": "execute_result",
          "data": {
            "text/plain": [
              "0.8016129032258065"
            ]
          },
          "metadata": {},
          "execution_count": 42
        }
      ]
    },
    {
      "cell_type": "code",
      "source": [
        "# Let's plot these values\n",
        "plt.figure(figsize=(6, 4))\n",
        "\n",
        "plt.plot(thresholds, accuracies)\n",
        "plt.title(\"Threshold vs Accuracy\")\n",
        "plt.xlabel(\"Threshold\")\n",
        "plt.ylabel(\"Accuracy\")\n",
        "\n",
        "plt.xticks(np.linspace(0, 1, 11))\n",
        "plt.show()"
      ],
      "metadata": {
        "id": "Rb-DnyyM9GPd",
        "outputId": "29a6d2ba-9ca3-40da-cffe-1519dd0dc2a9",
        "colab": {
          "base_uri": "https://localhost:8080/",
          "height": 295
        }
      },
      "execution_count": 49,
      "outputs": [
        {
          "output_type": "display_data",
          "data": {
            "text/plain": [
              "<Figure size 432x288 with 1 Axes>"
            ],
            "image/png": "[encoded data removed]"
          },
          "metadata": {
            "needs_background": "light"
          }
        }
      ]
    },
    {
      "cell_type": "markdown",
      "source": [
        "So, the best threshold is `0.5`, and the best accuracy for this model that we can achieve is `80%`."
      ],
      "metadata": {
        "id": "YqWhP67G9dRk"
      }
    },
    {
      "cell_type": "code",
      "source": [
        "# Let’s also check small model's accuracy.\n",
        "churn_small = y_pred_small >= .5\n",
        "\n",
        "# Calculates the accuracy of the predictions\n",
        "accuracy_score(y_val, churn_small)"
      ],
      "metadata": {
        "id": "O10Wz44p9g8b",
        "outputId": "b18a7087-88fc-4629-c5b6-0dd970f76793",
        "colab": {
          "base_uri": "https://localhost:8080/"
        }
      },
      "execution_count": 50,
      "outputs": [
        {
          "output_type": "execute_result",
          "data": {
            "text/plain": [
              "0.7672043010752688"
            ]
          },
          "metadata": {},
          "execution_count": 50
        }
      ]
    },
    {
      "cell_type": "markdown",
      "source": [
        "So, the large model is actually `4%` more accurate than the small model.\n",
        "\n",
        "\n",
        "In our example, the dataset is imbalanced, and we don’t have many churned users.\n",
        "\n",
        "So, the dummy model can always predict the majority class — “no churn.”"
      ],
      "metadata": {
        "id": "XAB3kyIs94KE"
      }
    },
    {
      "cell_type": "code",
      "source": [
        "# Let’s create this baseline prediction\n",
        "size_val = len(y_val)\n",
        "\n",
        "baseline = np.repeat(False, size_val)\n",
        "\n",
        "# check the accuracy of this baseline prediction\n",
        "accuracy_score(baseline, y_val) "
      ],
      "metadata": {
        "id": "BMoefiD7-HIK",
        "colab": {
          "base_uri": "https://localhost:8080/"
        },
        "outputId": "3090a63c-34b8-42de-e3b2-06a630832f5a"
      },
      "execution_count": 52,
      "outputs": [
        {
          "output_type": "execute_result",
          "data": {
            "text/plain": [
              "0.7387096774193549"
            ]
          },
          "metadata": {},
          "execution_count": 52
        }
      ]
    },
    {
      "cell_type": "markdown",
      "source": [
        "This means that the accuracy of the baseline\n",
        "model is around `74%`.\n",
        "\n",
        "As we see, the small model is only `2%` better than the naive baseline, and the large one is `6%` better.\n",
        "\n",
        "Churn prediction is a complex problem, and maybe this improvement is great.\n",
        "However, that’s not evident from the accuracy score alone. \n",
        "\n",
        "According to accuracy, our model is only slightly better than a dummy model that treats all the customers as nonchurning\n",
        "and doesn’t attempt to keep any of them.\n",
        "\n",
        "Thus, we need other metrics — other ways of measuring the quality of our model."
      ],
      "metadata": {
        "id": "ixsTrV9mR385"
      }
    },
    {
      "cell_type": "markdown",
      "source": [
        "##Confusion matrix"
      ],
      "metadata": {
        "id": "NHvDqP9IScGo"
      }
    },
    {
      "cell_type": "code",
      "source": [
        "pred"
      ],
      "metadata": {
        "id": "j-Mu6s3a_27m",
        "outputId": "24f1b57f-7ff8-4a37-b824-4e361e7434c3",
        "colab": {
          "base_uri": "https://localhost:8080/"
        }
      },
      "execution_count": null,
      "outputs": [
        {
          "output_type": "execute_result",
          "data": {
            "text/plain": [
              "array([[0.92667889, 0.07332111],\n",
              "       [0.16783434, 0.83216566]])"
            ]
          },
          "metadata": {},
          "execution_count": 74
        }
      ]
    },
    {
      "cell_type": "code",
      "source": [
        "# select the first customer's probability of churn\n",
        "pred[0, 1]"
      ],
      "metadata": {
        "id": "M0q9Kb5h_VPa",
        "outputId": "25eb3a3c-b423-449f-b3db-74c89535c9eb",
        "colab": {
          "base_uri": "https://localhost:8080/"
        }
      },
      "execution_count": null,
      "outputs": [
        {
          "output_type": "execute_result",
          "data": {
            "text/plain": [
              "0.07332111085213508"
            ]
          },
          "metadata": {},
          "execution_count": 70
        }
      ]
    },
    {
      "cell_type": "code",
      "source": [
        "# select the second customer's probability of churn\n",
        "pred[1, 1]"
      ],
      "metadata": {
        "id": "EPt6IXiA_dnN",
        "outputId": "c9e739d5-f914-43f9-e135-81f8fda26c75",
        "colab": {
          "base_uri": "https://localhost:8080/"
        }
      },
      "execution_count": null,
      "outputs": [
        {
          "output_type": "execute_result",
          "data": {
            "text/plain": [
              "0.8321656556545182"
            ]
          },
          "metadata": {},
          "execution_count": 71
        }
      ]
    },
    {
      "cell_type": "code",
      "source": [
        "# select the first customer's probability of staying\n",
        "pred[0, 0]"
      ],
      "metadata": {
        "id": "S9T7mh7m_kXg",
        "outputId": "eaf15679-8c9a-4939-8588-45c616a51af8",
        "colab": {
          "base_uri": "https://localhost:8080/"
        }
      },
      "execution_count": null,
      "outputs": [
        {
          "output_type": "execute_result",
          "data": {
            "text/plain": [
              "0.9266788891478649"
            ]
          },
          "metadata": {},
          "execution_count": 72
        }
      ]
    },
    {
      "cell_type": "code",
      "source": [
        "# select the second customer's probability of staying\n",
        "pred[1, 0]"
      ],
      "metadata": {
        "id": "oS2go-i1_s_a",
        "outputId": "faa9fd55-2022-4146-8f0d-546b9363ade8",
        "colab": {
          "base_uri": "https://localhost:8080/"
        }
      },
      "execution_count": null,
      "outputs": [
        {
          "output_type": "execute_result",
          "data": {
            "text/plain": [
              "0.16783434434548183"
            ]
          },
          "metadata": {},
          "execution_count": 73
        }
      ]
    },
    {
      "cell_type": "markdown",
      "source": [
        "So, we’ve built intuition on how logistic regression works, how to train it with\n",
        "Scikit-learn, and how to apply it to new data."
      ],
      "metadata": {
        "id": "ULG413neAFXW"
      }
    }
  ]
}