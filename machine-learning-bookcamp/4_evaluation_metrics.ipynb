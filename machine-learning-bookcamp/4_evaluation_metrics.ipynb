{
  "nbformat": 4,
  "nbformat_minor": 0,
  "metadata": {
    "colab": {
      "provenance": [],
      "toc_visible": true,
      "authorship_tag": "ABX9TyPBKrYG5YtSapIl9qBAuPUp",
      "include_colab_link": true
    },
    "kernelspec": {
      "name": "python3",
      "display_name": "Python 3"
    },
    "language_info": {
      "name": "python"
    }
  },
  "cells": [
    {
      "cell_type": "markdown",
      "metadata": {
        "id": "view-in-github",
        "colab_type": "text"
      },
      "source": [
        "<a href=\"https://colab.research.google.com/github/rahiakela/machine-learning-research-and-practice/blob/main/machine-learning-bookcamp/4_evaluation_metrics.ipynb\" target=\"_parent\"><img src=\"https://colab.research.google.com/assets/colab-badge.svg\" alt=\"Open In Colab\"/></a>"
      ]
    },
    {
      "cell_type": "markdown",
      "source": [
        "##Evaluation Metrics"
      ],
      "metadata": {
        "id": "nKiw-jHgceh6"
      }
    },
    {
      "cell_type": "markdown",
      "source": [
        "Churn is when customers stop using the services of a company. Thus, churn prediction\n",
        "is about identifying customers who are likely to cancel their contracts soon.\n",
        "\n",
        "If the company can do that, it can offer discounts on these services in an effort to\n",
        "keep the users.\n",
        "\n",
        "Imagine that we are working at a telecom company that offers phone and internet\n",
        "services, and we have a problem: some of our customers are churning. They no longer\n",
        "are using our services and are going to a different provider. \n",
        "\n",
        "We would like to prevent\n",
        "that from happening, so we develop a system for identifying these customers and offer\n",
        "them an incentive to stay. \n",
        "\n",
        "We want to target them with promotional messages and give\n",
        "them a discount. We also would like to understand why the model thinks our customers\n",
        "churn, and for that, we need to be able to interpret the model’s predictions.\n",
        "\n",
        "In this notebook, we will discuss the ways of evaluating a binary classification model: \n",
        "\n",
        "* accuracy\n",
        "* confusion table\n",
        "* precision \n",
        "* recall\n",
        "* ROC curve\n",
        "* AUC"
      ],
      "metadata": {
        "id": "n-ZdMvNtchEm"
      }
    },
    {
      "cell_type": "markdown",
      "source": [
        "##Setup"
      ],
      "metadata": {
        "id": "8MqwP3Hzc1Wb"
      }
    },
    {
      "cell_type": "code",
      "source": [
        "import pandas as pd\n",
        "import numpy as np\n",
        "\n",
        "from sklearn.model_selection import train_test_split\n",
        "from sklearn.metrics import mutual_info_score\n",
        "from sklearn.feature_extraction import DictVectorizer\n",
        "from sklearn.linear_model import LogisticRegression\n",
        "\n",
        "from sklearn.metrics import accuracy_score\n",
        "from sklearn.metrics import roc_curve\n",
        "from sklearn.metrics import auc\n",
        "from sklearn.metrics import roc_auc_score\n",
        "\n",
        "import seaborn as sns\n",
        "from matplotlib import pyplot as plt\n",
        "from IPython.display import display\n",
        "\n",
        "%matplotlib inline"
      ],
      "metadata": {
        "id": "vpCaukoZc2bM"
      },
      "execution_count": 67,
      "outputs": []
    },
    {
      "cell_type": "code",
      "source": [
        "from google.colab import drive\n",
        "drive.mount('/content/gdrive')"
      ],
      "metadata": {
        "id": "bA6YUwP1c_KM"
      },
      "execution_count": null,
      "outputs": []
    },
    {
      "cell_type": "code",
      "source": [
        "import os\n",
        "# content/gdrive/My Drive/Kaggle is the path where kaggle.json is  present in the Google Drive\n",
        "os.environ['KAGGLE_CONFIG_DIR'] = \"/content/gdrive/MyDrive/kaggle-keys\""
      ],
      "metadata": {
        "id": "Khw2AeAidQ7r"
      },
      "execution_count": 19,
      "outputs": []
    },
    {
      "cell_type": "code",
      "source": [
        "%%shell\n",
        "\n",
        "# download dataset from kaggle> URL: https://www.kaggle.com/blastchar/telco-customer-churn\n",
        "kaggle datasets download -d blastchar/telco-customer-churn\n",
        "\n",
        "unzip -qq telco-customer-churn.zip\n",
        "rm -rf telco-customer-churn.zip"
      ],
      "metadata": {
        "id": "8EuMmwDKdXEm"
      },
      "execution_count": null,
      "outputs": []
    },
    {
      "cell_type": "markdown",
      "source": [
        "##Dataset"
      ],
      "metadata": {
        "id": "JKpNUL22eB1f"
      }
    },
    {
      "cell_type": "code",
      "source": [
        "# let’s read our dataset\n",
        "data_df = pd.read_csv(\"WA_Fn-UseC_-Telco-Customer-Churn.csv\")\n",
        "len(data_df)"
      ],
      "metadata": {
        "colab": {
          "base_uri": "https://localhost:8080/"
        },
        "id": "US7ds406eEwl",
        "outputId": "c98e7f39-f9fb-4012-b5f5-582ea92036cb"
      },
      "execution_count": 21,
      "outputs": [
        {
          "output_type": "execute_result",
          "data": {
            "text/plain": [
              "7043"
            ]
          },
          "metadata": {},
          "execution_count": 21
        }
      ]
    },
    {
      "cell_type": "code",
      "source": [
        "# so, let's set the missing values to zero\n",
        "data_df[\"TotalCharges\"] = pd.to_numeric(data_df.TotalCharges, errors=\"coerce\")\n",
        "data_df[\"TotalCharges\"] = data_df[\"TotalCharges\"].fillna(0)"
      ],
      "metadata": {
        "id": "gJ6bAyO3BM0s"
      },
      "execution_count": 22,
      "outputs": []
    },
    {
      "cell_type": "code",
      "source": [
        "# Let’s make the column names uniform by lowercasing everything and replacing spaces with underscores\n",
        "data_df.columns = data_df.columns.str.lower().str.replace(\" \", \"_\")\n",
        "string_columns = list(data_df.dtypes[data_df.dtypes == \"object\"].index)\n",
        "\n",
        "for col in string_columns:\n",
        "  data_df[col] = data_df[col].str.lower().str.replace(\" \", \"_\")"
      ],
      "metadata": {
        "id": "8RxmSWRRCIIn"
      },
      "execution_count": 23,
      "outputs": []
    },
    {
      "cell_type": "code",
      "source": [
        "# so, let’s convert the target variable to numbers\n",
        "data_df.churn = (data_df.churn == \"yes\").astype(int)"
      ],
      "metadata": {
        "id": "pqq7tWy_DBFf"
      },
      "execution_count": 24,
      "outputs": []
    },
    {
      "cell_type": "code",
      "source": [
        "# split such that 80% of the data goes to the train set and the remaining 20% goes to the test set.\n",
        "df_train_full, df_test = train_test_split(data_df, test_size=0.2, random_state=1)"
      ],
      "metadata": {
        "id": "CPM1VXhp2jmc"
      },
      "execution_count": 25,
      "outputs": []
    },
    {
      "cell_type": "code",
      "source": [
        "# let's split it one more time into train and validation\n",
        "df_train, df_val = train_test_split(df_train_full, test_size=0.33, random_state=11)"
      ],
      "metadata": {
        "id": "jMF2Y3fq609Q"
      },
      "execution_count": 26,
      "outputs": []
    },
    {
      "cell_type": "code",
      "source": [
        "# Takes the column with the target variable, churn, and saves it outside the dataframe\n",
        "y_train = df_train.churn.values\n",
        "y_val = df_val.churn.values"
      ],
      "metadata": {
        "id": "Q0pd3UeC7uwG"
      },
      "execution_count": 27,
      "outputs": []
    },
    {
      "cell_type": "code",
      "source": [
        "# Deletes the churn columns\n",
        "del df_train[\"churn\"]\n",
        "del df_val[\"churn\"]"
      ],
      "metadata": {
        "id": "n_M-124_78Ae"
      },
      "execution_count": 28,
      "outputs": []
    },
    {
      "cell_type": "code",
      "source": [
        "# let's create two lists for categorical and numerical variables\n",
        "categorical_cols = [\n",
        "  'gender', 'seniorcitizen', 'partner', 'dependents',\n",
        "  'phoneservice', 'multiplelines', 'internetservice',\n",
        "  'onlinesecurity', 'onlinebackup', 'deviceprotection',\n",
        "  'techsupport', 'streamingtv', 'streamingmovies',\n",
        "  'contract', 'paperlessbilling', 'paymentmethod'\n",
        "]\n",
        "\n",
        "numerical_cols = ['tenure', 'monthlycharges', 'totalcharges']"
      ],
      "metadata": {
        "id": "-KciNwlaWnDb"
      },
      "execution_count": 29,
      "outputs": []
    },
    {
      "cell_type": "code",
      "source": [
        "# convert dataframe to a list of dictionaries\n",
        "train_dict = df_train[categorical_cols + numerical_cols].to_dict(orient=\"records\")"
      ],
      "metadata": {
        "id": "qjdL0mYfAz9j"
      },
      "execution_count": 30,
      "outputs": []
    },
    {
      "cell_type": "code",
      "source": [
        "# convert the list of dictionaries to matrix\n",
        "dv = DictVectorizer(sparse=False)\n",
        "dv.fit(train_dict)\n",
        "x_train = dv.transform(train_dict)"
      ],
      "metadata": {
        "id": "T0JnbzdjC79S"
      },
      "execution_count": 31,
      "outputs": []
    },
    {
      "cell_type": "markdown",
      "source": [
        "##Classification model"
      ],
      "metadata": {
        "id": "45mEQuX-Ekto"
      }
    },
    {
      "cell_type": "code",
      "source": [
        "model = LogisticRegression(solver=\"liblinear\", random_state=1)\n",
        "model.fit(x_train, y_train)"
      ],
      "metadata": {
        "id": "TLhS3nSTym7G",
        "outputId": "9b54b2a1-49c5-42a8-c32c-de11b19b8cdd",
        "colab": {
          "base_uri": "https://localhost:8080/"
        }
      },
      "execution_count": 32,
      "outputs": [
        {
          "output_type": "execute_result",
          "data": {
            "text/plain": [
              "LogisticRegression(random_state=1, solver='liblinear')"
            ]
          },
          "metadata": {},
          "execution_count": 32
        }
      ]
    },
    {
      "cell_type": "code",
      "source": [
        "# perform one-hot encoding in exactly the same way as during training\n",
        "val_dict = df_val[categorical_cols + numerical_cols].to_dict(orient=\"records\")\n",
        "x_val = dv.transform(val_dict)\n",
        "\n",
        "y_pred = model.predict_proba(x_val)[:, 1]"
      ],
      "metadata": {
        "id": "e5lHeB-A3YCh"
      },
      "execution_count": 33,
      "outputs": []
    },
    {
      "cell_type": "code",
      "source": [
        "subset = [\"contract\", \"tenure\", \"totalcharges\"]\n",
        "train_dict_small = df_train[subset].to_dict(orient=\"records\")\n",
        "dv_small = DictVectorizer(sparse=False)\n",
        "dv_small.fit(train_dict_small)\n",
        "\n",
        "x_small_train = dv_small.transform(train_dict_small)"
      ],
      "metadata": {
        "id": "UUx-lgthwwM0"
      },
      "execution_count": 34,
      "outputs": []
    },
    {
      "cell_type": "code",
      "source": [
        "# Let’s train the small model on this set of features\n",
        "model_small = LogisticRegression(solver=\"liblinear\", random_state=1)\n",
        "model_small.fit(x_small_train, y_train)"
      ],
      "metadata": {
        "id": "lPydV0eLxvRf",
        "outputId": "155fdf51-a48f-426e-9008-c75c95488403",
        "colab": {
          "base_uri": "https://localhost:8080/"
        }
      },
      "execution_count": 35,
      "outputs": [
        {
          "output_type": "execute_result",
          "data": {
            "text/plain": [
              "LogisticRegression(random_state=1, solver='liblinear')"
            ]
          },
          "metadata": {},
          "execution_count": 35
        }
      ]
    },
    {
      "cell_type": "code",
      "source": [
        "# let's validate this model\n",
        "val_dict_small = df_val[subset].to_dict(orient=\"records\")\n",
        "\n",
        "x_small_val = dv_small.transform(val_dict_small)\n",
        "\n",
        "y_pred_small = model_small.predict_proba(x_small_val)[:, 1]"
      ],
      "metadata": {
        "id": "VkltuVVO3L-c"
      },
      "execution_count": 36,
      "outputs": []
    },
    {
      "cell_type": "markdown",
      "source": [
        "###Classification accuracy"
      ],
      "metadata": {
        "id": "LQjZVC-C3ELH"
      }
    },
    {
      "cell_type": "markdown",
      "source": [
        "This accuracy is the simplest way to evaluate a classifier: by counting the number of\n",
        "cases in which our model turned out to be right.\n",
        "\n",
        "Computing accuracy on the validation dataset is easy — we simply calculate the\n",
        "fraction of correct predictions:"
      ],
      "metadata": {
        "id": "ZE6GXnwE3GUg"
      }
    },
    {
      "cell_type": "code",
      "source": [
        "# Gets the predictions from the model\n",
        "y_pred = model.predict_proba(x_val)[:, 1]\n",
        "\n",
        "# Makes \"hard\" predictions\n",
        "churn = y_pred >= .5\n",
        "\n",
        "# Computes the accuracy\n",
        "(churn == y_val).mean()"
      ],
      "metadata": {
        "id": "5wXT5F4_7qFY",
        "outputId": "7707bf40-83be-4de0-f497-195314d8e38b",
        "colab": {
          "base_uri": "https://localhost:8080/"
        }
      },
      "execution_count": 37,
      "outputs": [
        {
          "output_type": "execute_result",
          "data": {
            "text/plain": [
              "0.8016129032258065"
            ]
          },
          "metadata": {},
          "execution_count": 37
        }
      ]
    },
    {
      "cell_type": "markdown",
      "source": [
        "Now we can loop over different thresholds and check which one gives the best accuracy:"
      ],
      "metadata": {
        "id": "wNFbgPz28uQj"
      }
    },
    {
      "cell_type": "code",
      "source": [
        "# Creates an array with different thresholds\n",
        "thresholds = np.linspace(0, 1, 21)\n",
        "accuracies = []\n",
        "\n",
        "for threshold in thresholds:\n",
        "  churn = y_pred >= threshold\n",
        "  acc = accuracy_score(y_val, churn)\n",
        "  accuracies.append(acc)\n",
        "  print(f\"{threshold:.2f} >> {acc:.3f}\")"
      ],
      "metadata": {
        "id": "B3s_E9Qw85Hk",
        "outputId": "6c88a7dd-6ebb-4047-8f80-7a4e5eca4a9b",
        "colab": {
          "base_uri": "https://localhost:8080/"
        }
      },
      "execution_count": 38,
      "outputs": [
        {
          "output_type": "stream",
          "name": "stdout",
          "text": [
            "0.00 >> 0.261\n",
            "0.05 >> 0.501\n",
            "0.10 >> 0.595\n",
            "0.15 >> 0.640\n",
            "0.20 >> 0.690\n",
            "0.25 >> 0.730\n",
            "0.30 >> 0.755\n",
            "0.35 >> 0.767\n",
            "0.40 >> 0.782\n",
            "0.45 >> 0.795\n",
            "0.50 >> 0.802\n",
            "0.55 >> 0.790\n",
            "0.60 >> 0.790\n",
            "0.65 >> 0.788\n",
            "0.70 >> 0.774\n",
            "0.75 >> 0.752\n",
            "0.80 >> 0.742\n",
            "0.85 >> 0.739\n",
            "0.90 >> 0.739\n",
            "0.95 >> 0.739\n",
            "1.00 >> 0.739\n"
          ]
        }
      ]
    },
    {
      "cell_type": "markdown",
      "source": [
        "As we see, using the threshold of 0.5 gives us the best accuracy. "
      ],
      "metadata": {
        "id": "9p-142ijLQ8S"
      }
    },
    {
      "cell_type": "code",
      "source": [
        "max(accuracies)"
      ],
      "metadata": {
        "colab": {
          "base_uri": "https://localhost:8080/"
        },
        "id": "l16In7LtOcKw",
        "outputId": "9d211283-6327-43be-8925-85a3bfa9aac7"
      },
      "execution_count": 39,
      "outputs": [
        {
          "output_type": "execute_result",
          "data": {
            "text/plain": [
              "0.8016129032258065"
            ]
          },
          "metadata": {},
          "execution_count": 39
        }
      ]
    },
    {
      "cell_type": "code",
      "source": [
        "# Let's plot these values\n",
        "plt.figure(figsize=(6, 4))\n",
        "\n",
        "plt.plot(thresholds, accuracies)\n",
        "plt.title(\"Threshold vs Accuracy\")\n",
        "plt.xlabel(\"Threshold\")\n",
        "plt.ylabel(\"Accuracy\")\n",
        "\n",
        "plt.xticks(np.linspace(0, 1, 11))\n",
        "plt.show()"
      ],
      "metadata": {
        "id": "Rb-DnyyM9GPd",
        "outputId": "ca698d90-03ff-4661-f6e3-e553c84a1a73",
        "colab": {
          "base_uri": "https://localhost:8080/",
          "height": 0
        }
      },
      "execution_count": 40,
      "outputs": [
        {
          "output_type": "display_data",
          "data": {
            "text/plain": [
              "<Figure size 432x288 with 1 Axes>"
            ],
            "image/png": "[encoded data removed]"
          },
          "metadata": {
            "needs_background": "light"
          }
        }
      ]
    },
    {
      "cell_type": "markdown",
      "source": [
        "So, the best threshold is `0.5`, and the best accuracy for this model that we can achieve is `80%`."
      ],
      "metadata": {
        "id": "YqWhP67G9dRk"
      }
    },
    {
      "cell_type": "code",
      "source": [
        "# Let’s also check small model's accuracy.\n",
        "churn_small = y_pred_small >= .5\n",
        "\n",
        "# Calculates the accuracy of the predictions\n",
        "accuracy_score(y_val, churn_small)"
      ],
      "metadata": {
        "id": "O10Wz44p9g8b",
        "outputId": "42b3e19c-c749-488d-fa3f-b4ab527f8ee6",
        "colab": {
          "base_uri": "https://localhost:8080/"
        }
      },
      "execution_count": 41,
      "outputs": [
        {
          "output_type": "execute_result",
          "data": {
            "text/plain": [
              "0.7672043010752688"
            ]
          },
          "metadata": {},
          "execution_count": 41
        }
      ]
    },
    {
      "cell_type": "markdown",
      "source": [
        "So, the large model is actually `4%` more accurate than the small model.\n",
        "\n",
        "\n",
        "In our example, the dataset is imbalanced, and we don’t have many churned users.\n",
        "\n",
        "So, the dummy model can always predict the majority class — “no churn.”"
      ],
      "metadata": {
        "id": "XAB3kyIs94KE"
      }
    },
    {
      "cell_type": "code",
      "source": [
        "# Let’s create this baseline prediction\n",
        "size_val = len(y_val)\n",
        "\n",
        "baseline = np.repeat(False, size_val)\n",
        "\n",
        "# check the accuracy of this baseline prediction\n",
        "accuracy_score(baseline, y_val) "
      ],
      "metadata": {
        "id": "BMoefiD7-HIK",
        "colab": {
          "base_uri": "https://localhost:8080/"
        },
        "outputId": "74ffa8ac-1573-47b8-9099-8840351d5eb8"
      },
      "execution_count": 42,
      "outputs": [
        {
          "output_type": "execute_result",
          "data": {
            "text/plain": [
              "0.7387096774193549"
            ]
          },
          "metadata": {},
          "execution_count": 42
        }
      ]
    },
    {
      "cell_type": "markdown",
      "source": [
        "This means that the accuracy of the baseline\n",
        "model is around `74%`.\n",
        "\n",
        "As we see, the small model is only `2%` better than the naive baseline, and the large one is `6%` better.\n",
        "\n",
        "Churn prediction is a complex problem, and maybe this improvement is great.\n",
        "However, that’s not evident from the accuracy score alone. \n",
        "\n",
        "According to accuracy, our model is only slightly better than a dummy model that treats all the customers as nonchurning\n",
        "and doesn’t attempt to keep any of them.\n",
        "\n",
        "Thus, we need other metrics — other ways of measuring the quality of our model."
      ],
      "metadata": {
        "id": "ixsTrV9mR385"
      }
    },
    {
      "cell_type": "markdown",
      "source": [
        "###Confusion matrix"
      ],
      "metadata": {
        "id": "NHvDqP9IScGo"
      }
    },
    {
      "cell_type": "code",
      "source": [
        "t = 0.5\n",
        "\n",
        "# Makes predictions at threshold 0.5\n",
        "predict_churn = (y_pred >= t)\n",
        "predict_no_churn = (y_pred < t)\n",
        "\n",
        "# Gets the actual target values\n",
        "actual_churn = (y_val == 1)\n",
        "actual_no_churn = (y_val == 0)\n",
        "\n",
        "# Calculates true positives (cases when we predicted churn correctly)\n",
        "true_positive = (predict_churn & actual_churn).sum()\n",
        "# Calculates false positives (cases when we predicted churn,but the customers didn't churn)\n",
        "false_positive = (predict_churn & actual_no_churn).sum()\n",
        "\n",
        "# Calculates false negatives (cases when we predicted no churn, but the customers churned)\n",
        "false_negative = (predict_no_churn & actual_churn).sum()\n",
        "# Calculates true negatives (cases when we predicted no churn correctly)\n",
        "true_negative = (predict_no_churn & actual_no_churn).sum()"
      ],
      "metadata": {
        "id": "j-Mu6s3a_27m"
      },
      "execution_count": 43,
      "outputs": []
    },
    {
      "cell_type": "code",
      "source": [
        "# Now we just need to put all these values together\n",
        "confusion_table = np.array(\n",
        "  #  predict neg    pos\n",
        "  [\n",
        "    [true_negative, false_positive], # actual neg\n",
        "    [false_negative, true_positive]  # actual pos\n",
        "  ]\n",
        ")\n",
        "\n",
        "confusion_table"
      ],
      "metadata": {
        "id": "M0q9Kb5h_VPa",
        "outputId": "13e5ded0-c4bf-483a-e925-c7a60338a9ef",
        "colab": {
          "base_uri": "https://localhost:8080/"
        }
      },
      "execution_count": 44,
      "outputs": [
        {
          "output_type": "execute_result",
          "data": {
            "text/plain": [
              "array([[1202,  172],\n",
              "       [ 197,  289]])"
            ]
          },
          "metadata": {},
          "execution_count": 44
        }
      ]
    },
    {
      "cell_type": "code",
      "source": [
        "# Confused!! so we can turn them into fractions by dividing each value by the total number of items\n",
        "confusion_table / confusion_table.sum()"
      ],
      "metadata": {
        "id": "EPt6IXiA_dnN",
        "outputId": "76f549b2-dd6b-4cbf-bfaa-6d0064eee539",
        "colab": {
          "base_uri": "https://localhost:8080/"
        }
      },
      "execution_count": 45,
      "outputs": [
        {
          "output_type": "execute_result",
          "data": {
            "text/plain": [
              "array([[0.64623656, 0.09247312],\n",
              "       [0.10591398, 0.15537634]])"
            ]
          },
          "metadata": {},
          "execution_count": 45
        }
      ]
    },
    {
      "cell_type": "markdown",
      "source": [
        "We actually see that the performance of the model\n",
        "is not great: it makes quite a few errors when trying to identify users that will churn.\n",
        "\n",
        "We can repeat the same process for the small model."
      ],
      "metadata": {
        "id": "8naTBaD3uzYU"
      }
    },
    {
      "cell_type": "code",
      "source": [
        "# select the first customer's probability of staying\n",
        "t = 0.5\n",
        "\n",
        "# Makes predictions at threshold 0.5\n",
        "predict_churn = (y_pred_small >= t)\n",
        "predict_no_churn = (y_pred_small < t)\n",
        "\n",
        "# Gets the actual target values\n",
        "actual_churn = (y_val == 1)\n",
        "actual_no_churn = (y_val == 0)\n",
        "\n",
        "# Calculates true positives (cases when we predicted churn correctly)\n",
        "true_positive = (predict_churn & actual_churn).sum()\n",
        "# Calculates false positives (cases when we predicted churn,but the customers didn't churn)\n",
        "false_positive = (predict_churn & actual_no_churn).sum()\n",
        "\n",
        "# Calculates false negatives (cases when we predicted no churn, but the customers churned)\n",
        "false_negative = (predict_no_churn & actual_churn).sum()\n",
        "# Calculates true negatives (cases when we predicted no churn correctly)\n",
        "true_negative = (predict_no_churn & actual_no_churn).sum()"
      ],
      "metadata": {
        "id": "S9T7mh7m_kXg"
      },
      "execution_count": 46,
      "outputs": []
    },
    {
      "cell_type": "code",
      "source": [
        "# Now we just need to put all these values together\n",
        "confusion_table = np.array(\n",
        "  #  predict neg    pos\n",
        "  [\n",
        "    [true_negative, false_positive], # actual neg\n",
        "    [false_negative, true_positive]  # actual pos\n",
        "  ]\n",
        ")\n",
        "\n",
        "confusion_table"
      ],
      "metadata": {
        "id": "oS2go-i1_s_a",
        "outputId": "c3976ab6-2197-4dae-fbfe-b8f0cd754b0d",
        "colab": {
          "base_uri": "https://localhost:8080/"
        }
      },
      "execution_count": 47,
      "outputs": [
        {
          "output_type": "execute_result",
          "data": {
            "text/plain": [
              "array([[1189,  185],\n",
              "       [ 248,  238]])"
            ]
          },
          "metadata": {},
          "execution_count": 47
        }
      ]
    },
    {
      "cell_type": "code",
      "source": [
        "# Confused!! so we can turn them into fractions by dividing each value by the total number of items\n",
        "confusion_table / confusion_table.sum()"
      ],
      "metadata": {
        "id": "U_XVJOD0wOyJ",
        "outputId": "5e2ecbdb-8e63-4b43-eaba-9c16c19e94d0",
        "colab": {
          "base_uri": "https://localhost:8080/"
        }
      },
      "execution_count": 48,
      "outputs": [
        {
          "output_type": "execute_result",
          "data": {
            "text/plain": [
              "array([[0.63924731, 0.09946237],\n",
              "       [0.13333333, 0.12795699]])"
            ]
          },
          "metadata": {},
          "execution_count": 48
        }
      ]
    },
    {
      "cell_type": "markdown",
      "source": [
        "The values from the confusion table serve as the basis for many other evaluation\n",
        "metrics."
      ],
      "metadata": {
        "id": "ULG413neAFXW"
      }
    },
    {
      "cell_type": "markdown",
      "source": [
        "###Precision and recall"
      ],
      "metadata": {
        "id": "qfK717ThwwKZ"
      }
    },
    {
      "cell_type": "markdown",
      "source": [
        "Both precision and recall are calculated from the values of the confusion table.\n",
        "They both help us understand the quality of the model in cases of class imbalance.\n",
        "\n",
        "The precision of a model tells us how many of the pos\n",
        "itive\n",
        "predictions turned out to be correct.\n",
        "\n",
        "Recall is the fraction of correctly classified positive examples among all positive examples.\n",
        "\n",
        "In our case, to calculate recall we first look at all the customers who churned and\n",
        "see how many of them we managed to identify correctly.\n",
        "\n",
        "Precision helps us understand how many people received a promotional message\n",
        "by mistake.\n",
        "\n",
        "Recall helps us understand how many of the churning customers we failed to find."
      ],
      "metadata": {
        "id": "du6z7Ip0DZBS"
      }
    },
    {
      "cell_type": "code",
      "source": [
        "precision = true_positive / (true_positive + false_positive)\n",
        "recall = true_positive / (true_positive + false_negative)\n",
        "\n",
        "precision, recall"
      ],
      "metadata": {
        "id": "iXv25sdeDbcw",
        "outputId": "de20e553-66d0-4653-fbb0-f9dd84c3c332",
        "colab": {
          "base_uri": "https://localhost:8080/"
        }
      },
      "execution_count": 49,
      "outputs": [
        {
          "output_type": "execute_result",
          "data": {
            "text/plain": [
              "(0.5626477541371159, 0.4897119341563786)"
            ]
          },
          "metadata": {},
          "execution_count": 49
        }
      ]
    },
    {
      "cell_type": "markdown",
      "source": [
        "##ROC and AUC"
      ],
      "metadata": {
        "id": "L4iBGZvJE42q"
      }
    },
    {
      "cell_type": "markdown",
      "source": [
        "We need two metrics for ROC curves: TPR and FPR, or true positive rate and false\n",
        "positive rate.\n",
        "\n",
        "Like precision and recall, these values are based on the confusion matrix\n",
        "\n",
        "Binary classification models, such as logistic regression, typically output a probability —\n",
        "a score between zero and one. \n",
        "\n",
        "To make actual predictions, we binarize the output by\n",
        "setting some threshold to get only True and False values.\n",
        "\n",
        "Instead of evaluating the model at one particular threshold, we can do it for a\n",
        "range of them."
      ],
      "metadata": {
        "id": "B0saesHhBdwv"
      }
    },
    {
      "cell_type": "code",
      "source": [
        "# Computing the confusion table for different thresholds\n",
        "scores = []\n",
        "\n",
        "thresholds = np.linspace(0, 1, 101)\n",
        "\n",
        "for threshold in thresholds:\n",
        "  # Computes the confusion table for predictions at each threshold\n",
        "  tp = ((y_pred >= threshold) & (y_val == 1)).sum()\n",
        "  fp = ((y_pred >= threshold) & (y_val == 0)).sum()\n",
        "  fn = ((y_pred < threshold) & (y_val == 1)).sum()\n",
        "  tn = ((y_pred < threshold) & (y_val == 0)).sum()\n",
        "  scores.append((threshold, tp, fp, fn, tn))"
      ],
      "metadata": {
        "id": "d9DtLng0Bh7H"
      },
      "execution_count": 50,
      "outputs": []
    },
    {
      "cell_type": "markdown",
      "source": [
        "It’s not easy to deal with a list of tuples, so let’s convert it to a Pandas dataframe."
      ],
      "metadata": {
        "id": "ZFYeUvQKC5z3"
      }
    },
    {
      "cell_type": "code",
      "source": [
        "df_scores = pd.DataFrame(scores)\n",
        "df_scores.columns = [\"threshold\", \"tp\", \"fp\", \"fn\", \"tn\"]\n",
        "\n",
        "# selects every 10th record of the dataframe\n",
        "df_scores[::10]"
      ],
      "metadata": {
        "id": "uNW2iGphwxzO",
        "outputId": "aac921fb-bcfe-478d-a337-f12f25692fbe",
        "colab": {
          "base_uri": "https://localhost:8080/",
          "height": 394
        }
      },
      "execution_count": 51,
      "outputs": [
        {
          "output_type": "execute_result",
          "data": {
            "text/plain": [
              "     threshold   tp    fp   fn    tn\n",
              "0          0.0  486  1374    0     0\n",
              "10         0.1  458   726   28   648\n",
              "20         0.2  421   512   65   862\n",
              "30         0.3  380   350  106  1024\n",
              "40         0.4  337   257  149  1117\n",
              "50         0.5  289   172  197  1202\n",
              "60         0.6  200   105  286  1269\n",
              "70         0.7   99    34  387  1340\n",
              "80         0.8    7     1  479  1373\n",
              "90         0.9    0     0  486  1374\n",
              "100        1.0    0     0  486  1374"
            ],
            "text/html": [
              "\n",
              "  <div id=\"df-5a070536-a917-4d1a-a336-c84f0debb6eb\">\n",
              "    <div class=\"colab-df-container\">\n",
              "      <div>\n",
              "<style scoped>\n",
              "    .dataframe tbody tr th:only-of-type {\n",
              "        vertical-align: middle;\n",
              "    }\n",
              "\n",
              "    .dataframe tbody tr th {\n",
              "        vertical-align: top;\n",
              "    }\n",
              "\n",
              "    .dataframe thead th {\n",
              "        text-align: right;\n",
              "    }\n",
              "</style>\n",
              "<table border=\"1\" class=\"dataframe\">\n",
              "  <thead>\n",
              "    <tr style=\"text-align: right;\">\n",
              "      <th></th>\n",
              "      <th>threshold</th>\n",
              "      <th>tp</th>\n",
              "      <th>fp</th>\n",
              "      <th>fn</th>\n",
              "      <th>tn</th>\n",
              "    </tr>\n",
              "  </thead>\n",
              "  <tbody>\n",
              "    <tr>\n",
              "      <th>0</th>\n",
              "      <td>0.0</td>\n",
              "      <td>486</td>\n",
              "      <td>1374</td>\n",
              "      <td>0</td>\n",
              "      <td>0</td>\n",
              "    </tr>\n",
              "    <tr>\n",
              "      <th>10</th>\n",
              "      <td>0.1</td>\n",
              "      <td>458</td>\n",
              "      <td>726</td>\n",
              "      <td>28</td>\n",
              "      <td>648</td>\n",
              "    </tr>\n",
              "    <tr>\n",
              "      <th>20</th>\n",
              "      <td>0.2</td>\n",
              "      <td>421</td>\n",
              "      <td>512</td>\n",
              "      <td>65</td>\n",
              "      <td>862</td>\n",
              "    </tr>\n",
              "    <tr>\n",
              "      <th>30</th>\n",
              "      <td>0.3</td>\n",
              "      <td>380</td>\n",
              "      <td>350</td>\n",
              "      <td>106</td>\n",
              "      <td>1024</td>\n",
              "    </tr>\n",
              "    <tr>\n",
              "      <th>40</th>\n",
              "      <td>0.4</td>\n",
              "      <td>337</td>\n",
              "      <td>257</td>\n",
              "      <td>149</td>\n",
              "      <td>1117</td>\n",
              "    </tr>\n",
              "    <tr>\n",
              "      <th>50</th>\n",
              "      <td>0.5</td>\n",
              "      <td>289</td>\n",
              "      <td>172</td>\n",
              "      <td>197</td>\n",
              "      <td>1202</td>\n",
              "    </tr>\n",
              "    <tr>\n",
              "      <th>60</th>\n",
              "      <td>0.6</td>\n",
              "      <td>200</td>\n",
              "      <td>105</td>\n",
              "      <td>286</td>\n",
              "      <td>1269</td>\n",
              "    </tr>\n",
              "    <tr>\n",
              "      <th>70</th>\n",
              "      <td>0.7</td>\n",
              "      <td>99</td>\n",
              "      <td>34</td>\n",
              "      <td>387</td>\n",
              "      <td>1340</td>\n",
              "    </tr>\n",
              "    <tr>\n",
              "      <th>80</th>\n",
              "      <td>0.8</td>\n",
              "      <td>7</td>\n",
              "      <td>1</td>\n",
              "      <td>479</td>\n",
              "      <td>1373</td>\n",
              "    </tr>\n",
              "    <tr>\n",
              "      <th>90</th>\n",
              "      <td>0.9</td>\n",
              "      <td>0</td>\n",
              "      <td>0</td>\n",
              "      <td>486</td>\n",
              "      <td>1374</td>\n",
              "    </tr>\n",
              "    <tr>\n",
              "      <th>100</th>\n",
              "      <td>1.0</td>\n",
              "      <td>0</td>\n",
              "      <td>0</td>\n",
              "      <td>486</td>\n",
              "      <td>1374</td>\n",
              "    </tr>\n",
              "  </tbody>\n",
              "</table>\n",
              "</div>\n",
              "      <button class=\"colab-df-convert\" onclick=\"convertToInteractive('df-5a070536-a917-4d1a-a336-c84f0debb6eb')\"\n",
              "              title=\"Convert this dataframe to an interactive table.\"\n",
              "              style=\"display:none;\">\n",
              "        \n",
              "  <svg xmlns=\"http://www.w3.org/2000/svg\" height=\"24px\"viewBox=\"0 0 24 24\"\n",
              "       width=\"24px\">\n",
              "    <path d=\"M0 0h24v24H0V0z\" fill=\"none\"/>\n",
              "    <path d=\"M18.56 5.44l.94 2.06.94-2.06 2.06-.94-2.06-.94-.94-2.06-.94 2.06-2.06.94zm-11 1L8.5 8.5l.94-2.06 2.06-.94-2.06-.94L8.5 2.5l-.94 2.06-2.06.94zm10 10l.94 2.06.94-2.06 2.06-.94-2.06-.94-.94-2.06-.94 2.06-2.06.94z\"/><path d=\"M17.41 7.96l-1.37-1.37c-.4-.4-.92-.59-1.43-.59-.52 0-1.04.2-1.43.59L10.3 9.45l-7.72 7.72c-.78.78-.78 2.05 0 2.83L4 21.41c.39.39.9.59 1.41.59.51 0 1.02-.2 1.41-.59l7.78-7.78 2.81-2.81c.8-.78.8-2.07 0-2.86zM5.41 20L4 18.59l7.72-7.72 1.47 1.35L5.41 20z\"/>\n",
              "  </svg>\n",
              "      </button>\n",
              "      \n",
              "  <style>\n",
              "    .colab-df-container {\n",
              "      display:flex;\n",
              "      flex-wrap:wrap;\n",
              "      gap: 12px;\n",
              "    }\n",
              "\n",
              "    .colab-df-convert {\n",
              "      background-color: #E8F0FE;\n",
              "      border: none;\n",
              "      border-radius: 50%;\n",
              "      cursor: pointer;\n",
              "      display: none;\n",
              "      fill: #1967D2;\n",
              "      height: 32px;\n",
              "      padding: 0 0 0 0;\n",
              "      width: 32px;\n",
              "    }\n",
              "\n",
              "    .colab-df-convert:hover {\n",
              "      background-color: #E2EBFA;\n",
              "      box-shadow: 0px 1px 2px rgba(60, 64, 67, 0.3), 0px 1px 3px 1px rgba(60, 64, 67, 0.15);\n",
              "      fill: #174EA6;\n",
              "    }\n",
              "\n",
              "    [theme=dark] .colab-df-convert {\n",
              "      background-color: #3B4455;\n",
              "      fill: #D2E3FC;\n",
              "    }\n",
              "\n",
              "    [theme=dark] .colab-df-convert:hover {\n",
              "      background-color: #434B5C;\n",
              "      box-shadow: 0px 1px 3px 1px rgba(0, 0, 0, 0.15);\n",
              "      filter: drop-shadow(0px 1px 2px rgba(0, 0, 0, 0.3));\n",
              "      fill: #FFFFFF;\n",
              "    }\n",
              "  </style>\n",
              "\n",
              "      <script>\n",
              "        const buttonEl =\n",
              "          document.querySelector('#df-5a070536-a917-4d1a-a336-c84f0debb6eb button.colab-df-convert');\n",
              "        buttonEl.style.display =\n",
              "          google.colab.kernel.accessAllowed ? 'block' : 'none';\n",
              "\n",
              "        async function convertToInteractive(key) {\n",
              "          const element = document.querySelector('#df-5a070536-a917-4d1a-a336-c84f0debb6eb');\n",
              "          const dataTable =\n",
              "            await google.colab.kernel.invokeFunction('convertToInteractive',\n",
              "                                                     [key], {});\n",
              "          if (!dataTable) return;\n",
              "\n",
              "          const docLinkHtml = 'Like what you see? Visit the ' +\n",
              "            '<a target=\"_blank\" href=https://colab.research.google.com/notebooks/data_table.ipynb>data table notebook</a>'\n",
              "            + ' to learn more about interactive tables.';\n",
              "          element.innerHTML = '';\n",
              "          dataTable['output_type'] = 'display_data';\n",
              "          await google.colab.output.renderOutput(dataTable, element);\n",
              "          const docLink = document.createElement('div');\n",
              "          docLink.innerHTML = docLinkHtml;\n",
              "          element.appendChild(docLink);\n",
              "        }\n",
              "      </script>\n",
              "    </div>\n",
              "  </div>\n",
              "  "
            ]
          },
          "metadata": {},
          "execution_count": 51
        }
      ]
    },
    {
      "cell_type": "markdown",
      "source": [
        "Now we can compute the TPR and FPR scores."
      ],
      "metadata": {
        "id": "ooFncTA1GB2X"
      }
    },
    {
      "cell_type": "code",
      "source": [
        "df_scores[\"tpr\"] = df_scores.tp / (df_scores.tp + df_scores.fn)\n",
        "df_scores[\"fpr\"] = df_scores.fp / (df_scores.fp + df_scores.tn)\n",
        "df_scores[::10]"
      ],
      "metadata": {
        "id": "SaJqFY6xGCS7",
        "outputId": "9a91ac13-1733-423f-8416-d227ace7344d",
        "colab": {
          "base_uri": "https://localhost:8080/",
          "height": 394
        }
      },
      "execution_count": 52,
      "outputs": [
        {
          "output_type": "execute_result",
          "data": {
            "text/plain": [
              "     threshold   tp    fp   fn    tn       tpr       fpr\n",
              "0          0.0  486  1374    0     0  1.000000  1.000000\n",
              "10         0.1  458   726   28   648  0.942387  0.528384\n",
              "20         0.2  421   512   65   862  0.866255  0.372635\n",
              "30         0.3  380   350  106  1024  0.781893  0.254731\n",
              "40         0.4  337   257  149  1117  0.693416  0.187045\n",
              "50         0.5  289   172  197  1202  0.594650  0.125182\n",
              "60         0.6  200   105  286  1269  0.411523  0.076419\n",
              "70         0.7   99    34  387  1340  0.203704  0.024745\n",
              "80         0.8    7     1  479  1373  0.014403  0.000728\n",
              "90         0.9    0     0  486  1374  0.000000  0.000000\n",
              "100        1.0    0     0  486  1374  0.000000  0.000000"
            ],
            "text/html": [
              "\n",
              "  <div id=\"df-157baf04-6762-47a7-b2e5-4f2d5ca533d0\">\n",
              "    <div class=\"colab-df-container\">\n",
              "      <div>\n",
              "<style scoped>\n",
              "    .dataframe tbody tr th:only-of-type {\n",
              "        vertical-align: middle;\n",
              "    }\n",
              "\n",
              "    .dataframe tbody tr th {\n",
              "        vertical-align: top;\n",
              "    }\n",
              "\n",
              "    .dataframe thead th {\n",
              "        text-align: right;\n",
              "    }\n",
              "</style>\n",
              "<table border=\"1\" class=\"dataframe\">\n",
              "  <thead>\n",
              "    <tr style=\"text-align: right;\">\n",
              "      <th></th>\n",
              "      <th>threshold</th>\n",
              "      <th>tp</th>\n",
              "      <th>fp</th>\n",
              "      <th>fn</th>\n",
              "      <th>tn</th>\n",
              "      <th>tpr</th>\n",
              "      <th>fpr</th>\n",
              "    </tr>\n",
              "  </thead>\n",
              "  <tbody>\n",
              "    <tr>\n",
              "      <th>0</th>\n",
              "      <td>0.0</td>\n",
              "      <td>486</td>\n",
              "      <td>1374</td>\n",
              "      <td>0</td>\n",
              "      <td>0</td>\n",
              "      <td>1.000000</td>\n",
              "      <td>1.000000</td>\n",
              "    </tr>\n",
              "    <tr>\n",
              "      <th>10</th>\n",
              "      <td>0.1</td>\n",
              "      <td>458</td>\n",
              "      <td>726</td>\n",
              "      <td>28</td>\n",
              "      <td>648</td>\n",
              "      <td>0.942387</td>\n",
              "      <td>0.528384</td>\n",
              "    </tr>\n",
              "    <tr>\n",
              "      <th>20</th>\n",
              "      <td>0.2</td>\n",
              "      <td>421</td>\n",
              "      <td>512</td>\n",
              "      <td>65</td>\n",
              "      <td>862</td>\n",
              "      <td>0.866255</td>\n",
              "      <td>0.372635</td>\n",
              "    </tr>\n",
              "    <tr>\n",
              "      <th>30</th>\n",
              "      <td>0.3</td>\n",
              "      <td>380</td>\n",
              "      <td>350</td>\n",
              "      <td>106</td>\n",
              "      <td>1024</td>\n",
              "      <td>0.781893</td>\n",
              "      <td>0.254731</td>\n",
              "    </tr>\n",
              "    <tr>\n",
              "      <th>40</th>\n",
              "      <td>0.4</td>\n",
              "      <td>337</td>\n",
              "      <td>257</td>\n",
              "      <td>149</td>\n",
              "      <td>1117</td>\n",
              "      <td>0.693416</td>\n",
              "      <td>0.187045</td>\n",
              "    </tr>\n",
              "    <tr>\n",
              "      <th>50</th>\n",
              "      <td>0.5</td>\n",
              "      <td>289</td>\n",
              "      <td>172</td>\n",
              "      <td>197</td>\n",
              "      <td>1202</td>\n",
              "      <td>0.594650</td>\n",
              "      <td>0.125182</td>\n",
              "    </tr>\n",
              "    <tr>\n",
              "      <th>60</th>\n",
              "      <td>0.6</td>\n",
              "      <td>200</td>\n",
              "      <td>105</td>\n",
              "      <td>286</td>\n",
              "      <td>1269</td>\n",
              "      <td>0.411523</td>\n",
              "      <td>0.076419</td>\n",
              "    </tr>\n",
              "    <tr>\n",
              "      <th>70</th>\n",
              "      <td>0.7</td>\n",
              "      <td>99</td>\n",
              "      <td>34</td>\n",
              "      <td>387</td>\n",
              "      <td>1340</td>\n",
              "      <td>0.203704</td>\n",
              "      <td>0.024745</td>\n",
              "    </tr>\n",
              "    <tr>\n",
              "      <th>80</th>\n",
              "      <td>0.8</td>\n",
              "      <td>7</td>\n",
              "      <td>1</td>\n",
              "      <td>479</td>\n",
              "      <td>1373</td>\n",
              "      <td>0.014403</td>\n",
              "      <td>0.000728</td>\n",
              "    </tr>\n",
              "    <tr>\n",
              "      <th>90</th>\n",
              "      <td>0.9</td>\n",
              "      <td>0</td>\n",
              "      <td>0</td>\n",
              "      <td>486</td>\n",
              "      <td>1374</td>\n",
              "      <td>0.000000</td>\n",
              "      <td>0.000000</td>\n",
              "    </tr>\n",
              "    <tr>\n",
              "      <th>100</th>\n",
              "      <td>1.0</td>\n",
              "      <td>0</td>\n",
              "      <td>0</td>\n",
              "      <td>486</td>\n",
              "      <td>1374</td>\n",
              "      <td>0.000000</td>\n",
              "      <td>0.000000</td>\n",
              "    </tr>\n",
              "  </tbody>\n",
              "</table>\n",
              "</div>\n",
              "      <button class=\"colab-df-convert\" onclick=\"convertToInteractive('df-157baf04-6762-47a7-b2e5-4f2d5ca533d0')\"\n",
              "              title=\"Convert this dataframe to an interactive table.\"\n",
              "              style=\"display:none;\">\n",
              "        \n",
              "  <svg xmlns=\"http://www.w3.org/2000/svg\" height=\"24px\"viewBox=\"0 0 24 24\"\n",
              "       width=\"24px\">\n",
              "    <path d=\"M0 0h24v24H0V0z\" fill=\"none\"/>\n",
              "    <path d=\"M18.56 5.44l.94 2.06.94-2.06 2.06-.94-2.06-.94-.94-2.06-.94 2.06-2.06.94zm-11 1L8.5 8.5l.94-2.06 2.06-.94-2.06-.94L8.5 2.5l-.94 2.06-2.06.94zm10 10l.94 2.06.94-2.06 2.06-.94-2.06-.94-.94-2.06-.94 2.06-2.06.94z\"/><path d=\"M17.41 7.96l-1.37-1.37c-.4-.4-.92-.59-1.43-.59-.52 0-1.04.2-1.43.59L10.3 9.45l-7.72 7.72c-.78.78-.78 2.05 0 2.83L4 21.41c.39.39.9.59 1.41.59.51 0 1.02-.2 1.41-.59l7.78-7.78 2.81-2.81c.8-.78.8-2.07 0-2.86zM5.41 20L4 18.59l7.72-7.72 1.47 1.35L5.41 20z\"/>\n",
              "  </svg>\n",
              "      </button>\n",
              "      \n",
              "  <style>\n",
              "    .colab-df-container {\n",
              "      display:flex;\n",
              "      flex-wrap:wrap;\n",
              "      gap: 12px;\n",
              "    }\n",
              "\n",
              "    .colab-df-convert {\n",
              "      background-color: #E8F0FE;\n",
              "      border: none;\n",
              "      border-radius: 50%;\n",
              "      cursor: pointer;\n",
              "      display: none;\n",
              "      fill: #1967D2;\n",
              "      height: 32px;\n",
              "      padding: 0 0 0 0;\n",
              "      width: 32px;\n",
              "    }\n",
              "\n",
              "    .colab-df-convert:hover {\n",
              "      background-color: #E2EBFA;\n",
              "      box-shadow: 0px 1px 2px rgba(60, 64, 67, 0.3), 0px 1px 3px 1px rgba(60, 64, 67, 0.15);\n",
              "      fill: #174EA6;\n",
              "    }\n",
              "\n",
              "    [theme=dark] .colab-df-convert {\n",
              "      background-color: #3B4455;\n",
              "      fill: #D2E3FC;\n",
              "    }\n",
              "\n",
              "    [theme=dark] .colab-df-convert:hover {\n",
              "      background-color: #434B5C;\n",
              "      box-shadow: 0px 1px 3px 1px rgba(0, 0, 0, 0.15);\n",
              "      filter: drop-shadow(0px 1px 2px rgba(0, 0, 0, 0.3));\n",
              "      fill: #FFFFFF;\n",
              "    }\n",
              "  </style>\n",
              "\n",
              "      <script>\n",
              "        const buttonEl =\n",
              "          document.querySelector('#df-157baf04-6762-47a7-b2e5-4f2d5ca533d0 button.colab-df-convert');\n",
              "        buttonEl.style.display =\n",
              "          google.colab.kernel.accessAllowed ? 'block' : 'none';\n",
              "\n",
              "        async function convertToInteractive(key) {\n",
              "          const element = document.querySelector('#df-157baf04-6762-47a7-b2e5-4f2d5ca533d0');\n",
              "          const dataTable =\n",
              "            await google.colab.kernel.invokeFunction('convertToInteractive',\n",
              "                                                     [key], {});\n",
              "          if (!dataTable) return;\n",
              "\n",
              "          const docLinkHtml = 'Like what you see? Visit the ' +\n",
              "            '<a target=\"_blank\" href=https://colab.research.google.com/notebooks/data_table.ipynb>data table notebook</a>'\n",
              "            + ' to learn more about interactive tables.';\n",
              "          element.innerHTML = '';\n",
              "          dataTable['output_type'] = 'display_data';\n",
              "          await google.colab.output.renderOutput(dataTable, element);\n",
              "          const docLink = document.createElement('div');\n",
              "          docLink.innerHTML = docLinkHtml;\n",
              "          element.appendChild(docLink);\n",
              "        }\n",
              "      </script>\n",
              "    </div>\n",
              "  </div>\n",
              "  "
            ]
          },
          "metadata": {},
          "execution_count": 52
        }
      ]
    },
    {
      "cell_type": "code",
      "source": [
        "# Let’s plot them\n",
        "plt.figure(figsize=(6, 4))\n",
        "\n",
        "plt.plot(df_scores.threshold, df_scores.tpr, color=\"k\", linestyle=\"solid\", label=\"TPR\")\n",
        "plt.plot(df_scores.threshold, df_scores.fpr, color=\"r\", linestyle=\"dashed\", label=\"FPR\")\n",
        "plt.legend()\n",
        "\n",
        "plt.xticks(np.linspace(0, 1, 11))\n",
        "plt.yticks(np.linspace(0, 1, 11))\n",
        "\n",
        "plt.xlabel(\"Thresholds\")\n",
        "plt.ylabel(\"TPR and FPR\")\n",
        "\n",
        "plt.show()"
      ],
      "metadata": {
        "id": "qjpAnfKVGhzN",
        "outputId": "c638c06f-54bb-4bf4-c40f-773d3960756f",
        "colab": {
          "base_uri": "https://localhost:8080/",
          "height": 279
        }
      },
      "execution_count": 53,
      "outputs": [
        {
          "output_type": "display_data",
          "data": {
            "text/plain": [
              "<Figure size 432x288 with 1 Axes>"
            ],
            "image/png": "[encoded data removed]"
          },
          "metadata": {
            "needs_background": "light"
          }
        }
      ]
    },
    {
      "cell_type": "markdown",
      "source": [
        "Ideally, FPR should go down very quickly. A small FPR indicates that the model\n",
        "makes very few mistakes predicting negative examples (false positives).\n",
        "\n",
        "On the other hand, TPR should go down slowly, ideally staying near 100% all the time:\n",
        "that will mean that the model predicts true positives well."
      ],
      "metadata": {
        "id": "N8TMDI8FHw1R"
      }
    },
    {
      "cell_type": "markdown",
      "source": [
        "###Baseline model"
      ],
      "metadata": {
        "id": "q_EA8hq5H8YQ"
      }
    },
    {
      "cell_type": "markdown",
      "source": [
        "A random model outputs a random score between 0 and 1, regardless of the input. \n",
        "\n",
        "It’s easy to implement — we simply generate an array with uniform random numbers:"
      ],
      "metadata": {
        "id": "lUn4oGRVH91S"
      }
    },
    {
      "cell_type": "code",
      "source": [
        "np.random.seed(1)\n",
        "\n",
        "y_rand = np.random.uniform(0, 1, size=len(y_val))"
      ],
      "metadata": {
        "id": "MU0rlkjjOp05"
      },
      "execution_count": 54,
      "outputs": []
    },
    {
      "cell_type": "markdown",
      "source": [
        "Now we can simply pretend that `y_rand` contains the predictions of our \"model\".\n",
        "\n",
        "Let’s calculate FPR and TPR for our random model."
      ],
      "metadata": {
        "id": "62uQTw7qPBuJ"
      }
    },
    {
      "cell_type": "code",
      "source": [
        "# Function for calculating TPR and FPR at different thresholds\n",
        "def tpr_fpr_dataframe(y_val, y_pred):\n",
        "  scores = []\n",
        "  thresholds = np.linspace(0, 1, 101)\n",
        "\n",
        "  # Calculates the confusion table for different thresholds\n",
        "  for threshold in thresholds:\n",
        "    tp = ((y_pred >= threshold) & (y_val == 1)).sum()\n",
        "    fp = ((y_pred >= threshold) & (y_val == 0)).sum()\n",
        "    fn = ((y_pred < threshold) & (y_val == 1)).sum()\n",
        "    tn = ((y_pred < threshold) & (y_val == 0)).sum()\n",
        "    scores.append((threshold, tp, fp, fn, tn))\n",
        "\n",
        "  # Converts the confusion table numbers to a dataframe\n",
        "  df_scores = pd.DataFrame(scores)\n",
        "  df_scores.columns = [\"threshold\", \"tp\", \"fp\", \"fn\", \"tn\"]\n",
        "\n",
        "  # Calculates TPR and FPR using the confusion table numbers\n",
        "  df_scores[\"tpr\"] = df_scores.tp / (df_scores.tp + df_scores.fn)\n",
        "  df_scores[\"fpr\"] = df_scores.fp / (df_scores.fp + df_scores.tn)\n",
        "\n",
        "  return df_scores"
      ],
      "metadata": {
        "id": "3jyCHUUMPFmy"
      },
      "execution_count": 55,
      "outputs": []
    },
    {
      "cell_type": "code",
      "source": [
        "# calculate the TPR and FPR for the random model\n",
        "df_rand = tpr_fpr_dataframe(y_val, y_rand)\n",
        "df_rand[::10]"
      ],
      "metadata": {
        "id": "PC7hvgCMQvfG",
        "outputId": "6ed86003-55d6-4170-d1b9-b7c507ebe4fd",
        "colab": {
          "base_uri": "https://localhost:8080/",
          "height": 0
        }
      },
      "execution_count": 56,
      "outputs": [
        {
          "output_type": "execute_result",
          "data": {
            "text/plain": [
              "     threshold   tp    fp   fn    tn       tpr       fpr\n",
              "0          0.0  486  1374    0     0  1.000000  1.000000\n",
              "10         0.1  440  1236   46   138  0.905350  0.899563\n",
              "20         0.2  392  1101   94   273  0.806584  0.801310\n",
              "30         0.3  339   972  147   402  0.697531  0.707424\n",
              "40         0.4  288   849  198   525  0.592593  0.617904\n",
              "50         0.5  239   723  247   651  0.491770  0.526201\n",
              "60         0.6  193   579  293   795  0.397119  0.421397\n",
              "70         0.7  152   422  334   952  0.312757  0.307132\n",
              "80         0.8   98   302  388  1072  0.201646  0.219796\n",
              "90         0.9   57   147  429  1227  0.117284  0.106987\n",
              "100        1.0    0     0  486  1374  0.000000  0.000000"
            ],
            "text/html": [
              "\n",
              "  <div id=\"df-4eb5d1b3-52f9-426d-ba6e-6f2dc272ad46\">\n",
              "    <div class=\"colab-df-container\">\n",
              "      <div>\n",
              "<style scoped>\n",
              "    .dataframe tbody tr th:only-of-type {\n",
              "        vertical-align: middle;\n",
              "    }\n",
              "\n",
              "    .dataframe tbody tr th {\n",
              "        vertical-align: top;\n",
              "    }\n",
              "\n",
              "    .dataframe thead th {\n",
              "        text-align: right;\n",
              "    }\n",
              "</style>\n",
              "<table border=\"1\" class=\"dataframe\">\n",
              "  <thead>\n",
              "    <tr style=\"text-align: right;\">\n",
              "      <th></th>\n",
              "      <th>threshold</th>\n",
              "      <th>tp</th>\n",
              "      <th>fp</th>\n",
              "      <th>fn</th>\n",
              "      <th>tn</th>\n",
              "      <th>tpr</th>\n",
              "      <th>fpr</th>\n",
              "    </tr>\n",
              "  </thead>\n",
              "  <tbody>\n",
              "    <tr>\n",
              "      <th>0</th>\n",
              "      <td>0.0</td>\n",
              "      <td>486</td>\n",
              "      <td>1374</td>\n",
              "      <td>0</td>\n",
              "      <td>0</td>\n",
              "      <td>1.000000</td>\n",
              "      <td>1.000000</td>\n",
              "    </tr>\n",
              "    <tr>\n",
              "      <th>10</th>\n",
              "      <td>0.1</td>\n",
              "      <td>440</td>\n",
              "      <td>1236</td>\n",
              "      <td>46</td>\n",
              "      <td>138</td>\n",
              "      <td>0.905350</td>\n",
              "      <td>0.899563</td>\n",
              "    </tr>\n",
              "    <tr>\n",
              "      <th>20</th>\n",
              "      <td>0.2</td>\n",
              "      <td>392</td>\n",
              "      <td>1101</td>\n",
              "      <td>94</td>\n",
              "      <td>273</td>\n",
              "      <td>0.806584</td>\n",
              "      <td>0.801310</td>\n",
              "    </tr>\n",
              "    <tr>\n",
              "      <th>30</th>\n",
              "      <td>0.3</td>\n",
              "      <td>339</td>\n",
              "      <td>972</td>\n",
              "      <td>147</td>\n",
              "      <td>402</td>\n",
              "      <td>0.697531</td>\n",
              "      <td>0.707424</td>\n",
              "    </tr>\n",
              "    <tr>\n",
              "      <th>40</th>\n",
              "      <td>0.4</td>\n",
              "      <td>288</td>\n",
              "      <td>849</td>\n",
              "      <td>198</td>\n",
              "      <td>525</td>\n",
              "      <td>0.592593</td>\n",
              "      <td>0.617904</td>\n",
              "    </tr>\n",
              "    <tr>\n",
              "      <th>50</th>\n",
              "      <td>0.5</td>\n",
              "      <td>239</td>\n",
              "      <td>723</td>\n",
              "      <td>247</td>\n",
              "      <td>651</td>\n",
              "      <td>0.491770</td>\n",
              "      <td>0.526201</td>\n",
              "    </tr>\n",
              "    <tr>\n",
              "      <th>60</th>\n",
              "      <td>0.6</td>\n",
              "      <td>193</td>\n",
              "      <td>579</td>\n",
              "      <td>293</td>\n",
              "      <td>795</td>\n",
              "      <td>0.397119</td>\n",
              "      <td>0.421397</td>\n",
              "    </tr>\n",
              "    <tr>\n",
              "      <th>70</th>\n",
              "      <td>0.7</td>\n",
              "      <td>152</td>\n",
              "      <td>422</td>\n",
              "      <td>334</td>\n",
              "      <td>952</td>\n",
              "      <td>0.312757</td>\n",
              "      <td>0.307132</td>\n",
              "    </tr>\n",
              "    <tr>\n",
              "      <th>80</th>\n",
              "      <td>0.8</td>\n",
              "      <td>98</td>\n",
              "      <td>302</td>\n",
              "      <td>388</td>\n",
              "      <td>1072</td>\n",
              "      <td>0.201646</td>\n",
              "      <td>0.219796</td>\n",
              "    </tr>\n",
              "    <tr>\n",
              "      <th>90</th>\n",
              "      <td>0.9</td>\n",
              "      <td>57</td>\n",
              "      <td>147</td>\n",
              "      <td>429</td>\n",
              "      <td>1227</td>\n",
              "      <td>0.117284</td>\n",
              "      <td>0.106987</td>\n",
              "    </tr>\n",
              "    <tr>\n",
              "      <th>100</th>\n",
              "      <td>1.0</td>\n",
              "      <td>0</td>\n",
              "      <td>0</td>\n",
              "      <td>486</td>\n",
              "      <td>1374</td>\n",
              "      <td>0.000000</td>\n",
              "      <td>0.000000</td>\n",
              "    </tr>\n",
              "  </tbody>\n",
              "</table>\n",
              "</div>\n",
              "      <button class=\"colab-df-convert\" onclick=\"convertToInteractive('df-4eb5d1b3-52f9-426d-ba6e-6f2dc272ad46')\"\n",
              "              title=\"Convert this dataframe to an interactive table.\"\n",
              "              style=\"display:none;\">\n",
              "        \n",
              "  <svg xmlns=\"http://www.w3.org/2000/svg\" height=\"24px\"viewBox=\"0 0 24 24\"\n",
              "       width=\"24px\">\n",
              "    <path d=\"M0 0h24v24H0V0z\" fill=\"none\"/>\n",
              "    <path d=\"M18.56 5.44l.94 2.06.94-2.06 2.06-.94-2.06-.94-.94-2.06-.94 2.06-2.06.94zm-11 1L8.5 8.5l.94-2.06 2.06-.94-2.06-.94L8.5 2.5l-.94 2.06-2.06.94zm10 10l.94 2.06.94-2.06 2.06-.94-2.06-.94-.94-2.06-.94 2.06-2.06.94z\"/><path d=\"M17.41 7.96l-1.37-1.37c-.4-.4-.92-.59-1.43-.59-.52 0-1.04.2-1.43.59L10.3 9.45l-7.72 7.72c-.78.78-.78 2.05 0 2.83L4 21.41c.39.39.9.59 1.41.59.51 0 1.02-.2 1.41-.59l7.78-7.78 2.81-2.81c.8-.78.8-2.07 0-2.86zM5.41 20L4 18.59l7.72-7.72 1.47 1.35L5.41 20z\"/>\n",
              "  </svg>\n",
              "      </button>\n",
              "      \n",
              "  <style>\n",
              "    .colab-df-container {\n",
              "      display:flex;\n",
              "      flex-wrap:wrap;\n",
              "      gap: 12px;\n",
              "    }\n",
              "\n",
              "    .colab-df-convert {\n",
              "      background-color: #E8F0FE;\n",
              "      border: none;\n",
              "      border-radius: 50%;\n",
              "      cursor: pointer;\n",
              "      display: none;\n",
              "      fill: #1967D2;\n",
              "      height: 32px;\n",
              "      padding: 0 0 0 0;\n",
              "      width: 32px;\n",
              "    }\n",
              "\n",
              "    .colab-df-convert:hover {\n",
              "      background-color: #E2EBFA;\n",
              "      box-shadow: 0px 1px 2px rgba(60, 64, 67, 0.3), 0px 1px 3px 1px rgba(60, 64, 67, 0.15);\n",
              "      fill: #174EA6;\n",
              "    }\n",
              "\n",
              "    [theme=dark] .colab-df-convert {\n",
              "      background-color: #3B4455;\n",
              "      fill: #D2E3FC;\n",
              "    }\n",
              "\n",
              "    [theme=dark] .colab-df-convert:hover {\n",
              "      background-color: #434B5C;\n",
              "      box-shadow: 0px 1px 3px 1px rgba(0, 0, 0, 0.15);\n",
              "      filter: drop-shadow(0px 1px 2px rgba(0, 0, 0, 0.3));\n",
              "      fill: #FFFFFF;\n",
              "    }\n",
              "  </style>\n",
              "\n",
              "      <script>\n",
              "        const buttonEl =\n",
              "          document.querySelector('#df-4eb5d1b3-52f9-426d-ba6e-6f2dc272ad46 button.colab-df-convert');\n",
              "        buttonEl.style.display =\n",
              "          google.colab.kernel.accessAllowed ? 'block' : 'none';\n",
              "\n",
              "        async function convertToInteractive(key) {\n",
              "          const element = document.querySelector('#df-4eb5d1b3-52f9-426d-ba6e-6f2dc272ad46');\n",
              "          const dataTable =\n",
              "            await google.colab.kernel.invokeFunction('convertToInteractive',\n",
              "                                                     [key], {});\n",
              "          if (!dataTable) return;\n",
              "\n",
              "          const docLinkHtml = 'Like what you see? Visit the ' +\n",
              "            '<a target=\"_blank\" href=https://colab.research.google.com/notebooks/data_table.ipynb>data table notebook</a>'\n",
              "            + ' to learn more about interactive tables.';\n",
              "          element.innerHTML = '';\n",
              "          dataTable['output_type'] = 'display_data';\n",
              "          await google.colab.output.renderOutput(dataTable, element);\n",
              "          const docLink = document.createElement('div');\n",
              "          docLink.innerHTML = docLinkHtml;\n",
              "          element.appendChild(docLink);\n",
              "        }\n",
              "      </script>\n",
              "    </div>\n",
              "  </div>\n",
              "  "
            ]
          },
          "metadata": {},
          "execution_count": 56
        }
      ]
    },
    {
      "cell_type": "code",
      "source": [
        "# Let’s plot them\n",
        "plt.figure(figsize=(6, 4))\n",
        "\n",
        "plt.plot(df_rand.threshold, df_rand.tpr, color=\"b\", linestyle=\"solid\", label=\"TPR\")\n",
        "plt.plot(df_rand.threshold, df_rand.fpr, color=\"r\", linestyle=\"dashed\", label=\"FPR\")\n",
        "plt.legend()\n",
        "\n",
        "plt.xticks(np.linspace(0, 1, 11))\n",
        "plt.yticks(np.linspace(0, 1, 11))\n",
        "\n",
        "plt.xlabel(\"Thresholds\")\n",
        "plt.ylabel(\"TPR and FPR for the random model\")\n",
        "\n",
        "plt.show()"
      ],
      "metadata": {
        "id": "2N2JgCr5SAUr",
        "outputId": "ba333cc1-0f03-48e3-8d3a-314a83e7c2fe",
        "colab": {
          "base_uri": "https://localhost:8080/",
          "height": 0
        }
      },
      "execution_count": 57,
      "outputs": [
        {
          "output_type": "display_data",
          "data": {
            "text/plain": [
              "<Figure size 432x288 with 1 Axes>"
            ],
            "image/png": "[encoded data removed]"
          },
          "metadata": {
            "needs_background": "light"
          }
        }
      ]
    },
    {
      "cell_type": "markdown",
      "source": [
        "###Ideal model"
      ],
      "metadata": {
        "id": "ziYtkNptTMqP"
      }
    },
    {
      "cell_type": "markdown",
      "source": [
        "Let’s generate the ideal predictions. \n",
        "\n",
        "To make it easier, we generate an array with\n",
        "fake target variables that are already ordered: first it contains only 0s and then only 1s."
      ],
      "metadata": {
        "id": "ZPuVwKFRTO3H"
      }
    },
    {
      "cell_type": "code",
      "source": [
        "# Calculates the number of negative and positive examples in the dataset\n",
        "num_neg = (y_val == 0).sum()\n",
        "num_pos = (y_val == 1).sum()\n",
        "\n",
        "# Generates an array that first repeats 0s num_neg number of times, followed by 1s repeated num_pos number of times\n",
        "y_ideal = np.repeat([0, 1], [num_neg, num_pos])\n",
        "# Generates the predictions of the \"model\": numbers that grow from 0 in the first cell to 1 in the last\n",
        "y_pred_ideal = np.linspace(0, 1, num_neg + num_pos)\n",
        "\n",
        "# Computes the TPR and FPR curves for the classifier\n",
        "df_ideal = tpr_fpr_dataframe(y_ideal, y_pred_ideal)\n",
        "df_ideal[::10]"
      ],
      "metadata": {
        "id": "r9sxT_wGJAfN",
        "outputId": "4f0047d4-a521-4e07-a98f-432cfe054a29",
        "colab": {
          "base_uri": "https://localhost:8080/",
          "height": 0
        }
      },
      "execution_count": 58,
      "outputs": [
        {
          "output_type": "execute_result",
          "data": {
            "text/plain": [
              "     threshold   tp    fp   fn    tn       tpr       fpr\n",
              "0          0.0  486  1374    0     0  1.000000  1.000000\n",
              "10         0.1  486  1188    0   186  1.000000  0.864629\n",
              "20         0.2  486  1002    0   372  1.000000  0.729258\n",
              "30         0.3  486   816    0   558  1.000000  0.593886\n",
              "40         0.4  486   630    0   744  1.000000  0.458515\n",
              "50         0.5  486   444    0   930  1.000000  0.323144\n",
              "60         0.6  486   258    0  1116  1.000000  0.187773\n",
              "70         0.7  486    72    0  1302  1.000000  0.052402\n",
              "80         0.8  372     0  114  1374  0.765432  0.000000\n",
              "90         0.9  186     0  300  1374  0.382716  0.000000\n",
              "100        1.0    1     0  485  1374  0.002058  0.000000"
            ],
            "text/html": [
              "\n",
              "  <div id=\"df-f382f096-5103-4072-8f33-f233e5004d24\">\n",
              "    <div class=\"colab-df-container\">\n",
              "      <div>\n",
              "<style scoped>\n",
              "    .dataframe tbody tr th:only-of-type {\n",
              "        vertical-align: middle;\n",
              "    }\n",
              "\n",
              "    .dataframe tbody tr th {\n",
              "        vertical-align: top;\n",
              "    }\n",
              "\n",
              "    .dataframe thead th {\n",
              "        text-align: right;\n",
              "    }\n",
              "</style>\n",
              "<table border=\"1\" class=\"dataframe\">\n",
              "  <thead>\n",
              "    <tr style=\"text-align: right;\">\n",
              "      <th></th>\n",
              "      <th>threshold</th>\n",
              "      <th>tp</th>\n",
              "      <th>fp</th>\n",
              "      <th>fn</th>\n",
              "      <th>tn</th>\n",
              "      <th>tpr</th>\n",
              "      <th>fpr</th>\n",
              "    </tr>\n",
              "  </thead>\n",
              "  <tbody>\n",
              "    <tr>\n",
              "      <th>0</th>\n",
              "      <td>0.0</td>\n",
              "      <td>486</td>\n",
              "      <td>1374</td>\n",
              "      <td>0</td>\n",
              "      <td>0</td>\n",
              "      <td>1.000000</td>\n",
              "      <td>1.000000</td>\n",
              "    </tr>\n",
              "    <tr>\n",
              "      <th>10</th>\n",
              "      <td>0.1</td>\n",
              "      <td>486</td>\n",
              "      <td>1188</td>\n",
              "      <td>0</td>\n",
              "      <td>186</td>\n",
              "      <td>1.000000</td>\n",
              "      <td>0.864629</td>\n",
              "    </tr>\n",
              "    <tr>\n",
              "      <th>20</th>\n",
              "      <td>0.2</td>\n",
              "      <td>486</td>\n",
              "      <td>1002</td>\n",
              "      <td>0</td>\n",
              "      <td>372</td>\n",
              "      <td>1.000000</td>\n",
              "      <td>0.729258</td>\n",
              "    </tr>\n",
              "    <tr>\n",
              "      <th>30</th>\n",
              "      <td>0.3</td>\n",
              "      <td>486</td>\n",
              "      <td>816</td>\n",
              "      <td>0</td>\n",
              "      <td>558</td>\n",
              "      <td>1.000000</td>\n",
              "      <td>0.593886</td>\n",
              "    </tr>\n",
              "    <tr>\n",
              "      <th>40</th>\n",
              "      <td>0.4</td>\n",
              "      <td>486</td>\n",
              "      <td>630</td>\n",
              "      <td>0</td>\n",
              "      <td>744</td>\n",
              "      <td>1.000000</td>\n",
              "      <td>0.458515</td>\n",
              "    </tr>\n",
              "    <tr>\n",
              "      <th>50</th>\n",
              "      <td>0.5</td>\n",
              "      <td>486</td>\n",
              "      <td>444</td>\n",
              "      <td>0</td>\n",
              "      <td>930</td>\n",
              "      <td>1.000000</td>\n",
              "      <td>0.323144</td>\n",
              "    </tr>\n",
              "    <tr>\n",
              "      <th>60</th>\n",
              "      <td>0.6</td>\n",
              "      <td>486</td>\n",
              "      <td>258</td>\n",
              "      <td>0</td>\n",
              "      <td>1116</td>\n",
              "      <td>1.000000</td>\n",
              "      <td>0.187773</td>\n",
              "    </tr>\n",
              "    <tr>\n",
              "      <th>70</th>\n",
              "      <td>0.7</td>\n",
              "      <td>486</td>\n",
              "      <td>72</td>\n",
              "      <td>0</td>\n",
              "      <td>1302</td>\n",
              "      <td>1.000000</td>\n",
              "      <td>0.052402</td>\n",
              "    </tr>\n",
              "    <tr>\n",
              "      <th>80</th>\n",
              "      <td>0.8</td>\n",
              "      <td>372</td>\n",
              "      <td>0</td>\n",
              "      <td>114</td>\n",
              "      <td>1374</td>\n",
              "      <td>0.765432</td>\n",
              "      <td>0.000000</td>\n",
              "    </tr>\n",
              "    <tr>\n",
              "      <th>90</th>\n",
              "      <td>0.9</td>\n",
              "      <td>186</td>\n",
              "      <td>0</td>\n",
              "      <td>300</td>\n",
              "      <td>1374</td>\n",
              "      <td>0.382716</td>\n",
              "      <td>0.000000</td>\n",
              "    </tr>\n",
              "    <tr>\n",
              "      <th>100</th>\n",
              "      <td>1.0</td>\n",
              "      <td>1</td>\n",
              "      <td>0</td>\n",
              "      <td>485</td>\n",
              "      <td>1374</td>\n",
              "      <td>0.002058</td>\n",
              "      <td>0.000000</td>\n",
              "    </tr>\n",
              "  </tbody>\n",
              "</table>\n",
              "</div>\n",
              "      <button class=\"colab-df-convert\" onclick=\"convertToInteractive('df-f382f096-5103-4072-8f33-f233e5004d24')\"\n",
              "              title=\"Convert this dataframe to an interactive table.\"\n",
              "              style=\"display:none;\">\n",
              "        \n",
              "  <svg xmlns=\"http://www.w3.org/2000/svg\" height=\"24px\"viewBox=\"0 0 24 24\"\n",
              "       width=\"24px\">\n",
              "    <path d=\"M0 0h24v24H0V0z\" fill=\"none\"/>\n",
              "    <path d=\"M18.56 5.44l.94 2.06.94-2.06 2.06-.94-2.06-.94-.94-2.06-.94 2.06-2.06.94zm-11 1L8.5 8.5l.94-2.06 2.06-.94-2.06-.94L8.5 2.5l-.94 2.06-2.06.94zm10 10l.94 2.06.94-2.06 2.06-.94-2.06-.94-.94-2.06-.94 2.06-2.06.94z\"/><path d=\"M17.41 7.96l-1.37-1.37c-.4-.4-.92-.59-1.43-.59-.52 0-1.04.2-1.43.59L10.3 9.45l-7.72 7.72c-.78.78-.78 2.05 0 2.83L4 21.41c.39.39.9.59 1.41.59.51 0 1.02-.2 1.41-.59l7.78-7.78 2.81-2.81c.8-.78.8-2.07 0-2.86zM5.41 20L4 18.59l7.72-7.72 1.47 1.35L5.41 20z\"/>\n",
              "  </svg>\n",
              "      </button>\n",
              "      \n",
              "  <style>\n",
              "    .colab-df-container {\n",
              "      display:flex;\n",
              "      flex-wrap:wrap;\n",
              "      gap: 12px;\n",
              "    }\n",
              "\n",
              "    .colab-df-convert {\n",
              "      background-color: #E8F0FE;\n",
              "      border: none;\n",
              "      border-radius: 50%;\n",
              "      cursor: pointer;\n",
              "      display: none;\n",
              "      fill: #1967D2;\n",
              "      height: 32px;\n",
              "      padding: 0 0 0 0;\n",
              "      width: 32px;\n",
              "    }\n",
              "\n",
              "    .colab-df-convert:hover {\n",
              "      background-color: #E2EBFA;\n",
              "      box-shadow: 0px 1px 2px rgba(60, 64, 67, 0.3), 0px 1px 3px 1px rgba(60, 64, 67, 0.15);\n",
              "      fill: #174EA6;\n",
              "    }\n",
              "\n",
              "    [theme=dark] .colab-df-convert {\n",
              "      background-color: #3B4455;\n",
              "      fill: #D2E3FC;\n",
              "    }\n",
              "\n",
              "    [theme=dark] .colab-df-convert:hover {\n",
              "      background-color: #434B5C;\n",
              "      box-shadow: 0px 1px 3px 1px rgba(0, 0, 0, 0.15);\n",
              "      filter: drop-shadow(0px 1px 2px rgba(0, 0, 0, 0.3));\n",
              "      fill: #FFFFFF;\n",
              "    }\n",
              "  </style>\n",
              "\n",
              "      <script>\n",
              "        const buttonEl =\n",
              "          document.querySelector('#df-f382f096-5103-4072-8f33-f233e5004d24 button.colab-df-convert');\n",
              "        buttonEl.style.display =\n",
              "          google.colab.kernel.accessAllowed ? 'block' : 'none';\n",
              "\n",
              "        async function convertToInteractive(key) {\n",
              "          const element = document.querySelector('#df-f382f096-5103-4072-8f33-f233e5004d24');\n",
              "          const dataTable =\n",
              "            await google.colab.kernel.invokeFunction('convertToInteractive',\n",
              "                                                     [key], {});\n",
              "          if (!dataTable) return;\n",
              "\n",
              "          const docLinkHtml = 'Like what you see? Visit the ' +\n",
              "            '<a target=\"_blank\" href=https://colab.research.google.com/notebooks/data_table.ipynb>data table notebook</a>'\n",
              "            + ' to learn more about interactive tables.';\n",
              "          element.innerHTML = '';\n",
              "          dataTable['output_type'] = 'display_data';\n",
              "          await google.colab.output.renderOutput(dataTable, element);\n",
              "          const docLink = document.createElement('div');\n",
              "          docLink.innerHTML = docLinkHtml;\n",
              "          element.appendChild(docLink);\n",
              "        }\n",
              "      </script>\n",
              "    </div>\n",
              "  </div>\n",
              "  "
            ]
          },
          "metadata": {},
          "execution_count": 58
        }
      ]
    },
    {
      "cell_type": "markdown",
      "source": [
        "Now we can plot it."
      ],
      "metadata": {
        "id": "ASfvlqXDLVoP"
      }
    },
    {
      "cell_type": "code",
      "source": [
        "plt.figure(figsize=(6, 4))\n",
        "\n",
        "plt.plot(df_ideal.threshold, df_ideal.tpr, color='r', linestyle='solid', label='TPR')\n",
        "plt.plot(df_ideal.threshold, df_ideal.fpr, color='b', linestyle='dashed', label='FPR')\n",
        "plt.legend()\n",
        "\n",
        "plt.xticks(np.linspace(0, 1, 11))\n",
        "plt.yticks(np.linspace(0, 1, 11))\n",
        "\n",
        "plt.vlines(1 - y_val.mean(), -1, 2, linewidth=0.5, linestyle='dashed', color='grey')\n",
        "plt.ylim(-0.03, 1.03)\n",
        "\n",
        "plt.xlabel('Thresholds')\n",
        "plt.title('TPR and FPR for the ideal model')\n",
        "\n",
        "plt.show()"
      ],
      "metadata": {
        "id": "6UMUFFBwLWSj",
        "outputId": "47a4e1fa-1646-4975-ef37-6e5b2798a101",
        "colab": {
          "base_uri": "https://localhost:8080/",
          "height": 0
        }
      },
      "execution_count": 59,
      "outputs": [
        {
          "output_type": "display_data",
          "data": {
            "text/plain": [
              "<Figure size 432x288 with 1 Axes>"
            ],
            "image/png": "[encoded data removed]"
          },
          "metadata": {
            "needs_background": "light"
          }
        }
      ]
    },
    {
      "cell_type": "markdown",
      "source": [
        "The threshold of `0.74` is the ideal situation: all churning customers are classified\n",
        "as churning, and all non-churning are classified as non-churning; that’s why\n",
        "TPR is `100%` and FPR is `0%`."
      ],
      "metadata": {
        "id": "bODGRM4vMCV3"
      }
    },
    {
      "cell_type": "markdown",
      "source": [
        "###ROC Curve"
      ],
      "metadata": {
        "id": "yKLAnlomMlt_"
      }
    },
    {
      "cell_type": "markdown",
      "source": [
        "To create an ROC curve, instead of plotting FPR and TPR against different threshold\n",
        "values, we plot them against each other."
      ],
      "metadata": {
        "id": "Dlj_tTU2MmgE"
      }
    },
    {
      "cell_type": "code",
      "source": [
        "# Makes the plot square\n",
        "plt.figure(figsize=(5, 5))\n",
        "\n",
        "plt.plot(df_scores.fpr, df_scores.tpr, color='b', label='Model')\n",
        "plt.plot(df_rand.fpr, df_rand.tpr, color='r', lw=1, linestyle='dashed', alpha=0.5, label='Random')\n",
        "plt.plot(df_ideal.fpr, df_ideal.tpr, color='g', lw=0.5, linestyle='solid', alpha=0.5, label='Ideal')\n",
        "\n",
        "plt.legend()\n",
        "\n",
        "plt.xlim([-0.02, 1.02])\n",
        "plt.ylim([-0.02, 1.02])\n",
        "plt.xlabel('False Positive Rate')\n",
        "plt.ylabel('True Positive Rate')\n",
        "\n",
        "plt.title('ROC curve')\n",
        "\n",
        "plt.show()"
      ],
      "metadata": {
        "id": "PVJ7Kzq131MQ",
        "outputId": "838ff47b-8cbb-4288-9046-2c6835306699",
        "colab": {
          "base_uri": "https://localhost:8080/",
          "height": 350
        }
      },
      "execution_count": 60,
      "outputs": [
        {
          "output_type": "display_data",
          "data": {
            "text/plain": [
              "<Figure size 360x360 with 1 Axes>"
            ],
            "image/png": "[encoded data removed]"
          },
          "metadata": {
            "needs_background": "light"
          }
        }
      ]
    },
    {
      "cell_type": "markdown",
      "source": [
        "We want our\n",
        "model to be as close to the ideal curve as possible and as far as possible from the random\n",
        "curve.\n",
        "\n",
        "The ROC curve of a random model serves as a good visual baseline — when we\n",
        "add it to the plot, it helps us to judge how far our model is from this baseline.\n",
        "\n",
        "However, we don’t really need to generate a random model each time we want to\n",
        "have an ROC curve: we know what it looks like, so we can simply include a straight line\n",
        "from `(0, 0)` to `(1, 1)` in the plot.\n",
        "\n",
        "As for the ideal model, we know that it always goes up to `(0, 1)` and then goes right\n",
        "to `(1, 1)`. The top-left corner is called the “ideal spot”: it’s the point when the ideal\n",
        "model gets `100%` TPR and `0%` FPR.\n",
        "\n",
        "With this information, we can reduce the code for plotting the curve."
      ],
      "metadata": {
        "id": "LBGfaWmg4cT2"
      }
    },
    {
      "cell_type": "code",
      "source": [
        "# Makes the plot square\n",
        "plt.figure(figsize=(5, 5))\n",
        "\n",
        "plt.plot(df_scores.fpr, df_scores.tpr, color='b')\n",
        "plt.plot([0, 1], [0, 1], color='r', lw=0.7, linestyle='dashed', alpha=0.5)\n",
        "\n",
        "plt.legend()\n",
        "\n",
        "plt.xlim([-0.02, 1.02])\n",
        "plt.ylim([-0.02, 1.02])\n",
        "plt.xlabel('False Positive Rate')\n",
        "plt.ylabel('True Positive Rate')\n",
        "\n",
        "plt.title('ROC curve')\n",
        "\n",
        "plt.show()"
      ],
      "metadata": {
        "id": "9li9sIgL5O02",
        "outputId": "977ab90d-e0eb-43ee-9d06-795d426dce2b",
        "colab": {
          "base_uri": "https://localhost:8080/",
          "height": 368
        }
      },
      "execution_count": 61,
      "outputs": [
        {
          "output_type": "stream",
          "name": "stderr",
          "text": [
            "WARNING:matplotlib.legend:No handles with labels found to put in legend.\n"
          ]
        },
        {
          "output_type": "display_data",
          "data": {
            "text/plain": [
              "<Figure size 360x360 with 1 Axes>"
            ],
            "image/png": "[encoded data removed]"
          },
          "metadata": {
            "needs_background": "light"
          }
        }
      ]
    },
    {
      "cell_type": "code",
      "source": [
        "fpr, tpr, thresholds = roc_curve(y_val, y_pred)"
      ],
      "metadata": {
        "id": "vvEl2PA-6DV1"
      },
      "execution_count": 62,
      "outputs": []
    },
    {
      "cell_type": "code",
      "source": [
        "# Makes the plot square\n",
        "plt.figure(figsize=(5, 5))\n",
        "\n",
        "plt.plot(fpr, tpr, color='b')\n",
        "plt.plot([0, 1], [0, 1], color='r', lw=0.7, linestyle='dashed', alpha=0.5)\n",
        "\n",
        "plt.legend()\n",
        "\n",
        "plt.xlim([-0.02, 1.02])\n",
        "plt.ylim([-0.02, 1.02])\n",
        "plt.xlabel('False Positive Rate')\n",
        "plt.ylabel('True Positive Rate')\n",
        "\n",
        "plt.title('ROC curve')\n",
        "\n",
        "plt.show()"
      ],
      "metadata": {
        "id": "uc2SvgLg6Qbr",
        "outputId": "91f0322e-c024-407c-8487-32d1c09da3c7",
        "colab": {
          "base_uri": "https://localhost:8080/",
          "height": 368
        }
      },
      "execution_count": 63,
      "outputs": [
        {
          "output_type": "stream",
          "name": "stderr",
          "text": [
            "WARNING:matplotlib.legend:No handles with labels found to put in legend.\n"
          ]
        },
        {
          "output_type": "display_data",
          "data": {
            "text/plain": [
              "<Figure size 360x360 with 1 Axes>"
            ],
            "image/png": "[encoded data removed]"
          },
          "metadata": {
            "needs_background": "light"
          }
        }
      ]
    },
    {
      "cell_type": "markdown",
      "source": [
        "We can use this for comparing multiple models."
      ],
      "metadata": {
        "id": "WUkG-vPj7_hI"
      }
    },
    {
      "cell_type": "code",
      "source": [
        "df_scores_small = tpr_fpr_dataframe(y_val, y_pred_small)\n",
        "auc(df_scores.fpr, df_scores.tpr)"
      ],
      "metadata": {
        "id": "rPlNgT-B8AEi",
        "outputId": "8e3a4421-ff46-4586-85bc-d86dd55e44f4",
        "colab": {
          "base_uri": "https://localhost:8080/"
        }
      },
      "execution_count": 64,
      "outputs": [
        {
          "output_type": "execute_result",
          "data": {
            "text/plain": [
              "0.8359001084215382"
            ]
          },
          "metadata": {},
          "execution_count": 64
        }
      ]
    },
    {
      "cell_type": "code",
      "source": [
        "auc(df_scores_small.fpr, df_scores_small.tpr)"
      ],
      "metadata": {
        "id": "eZRlKuOv8Klt",
        "outputId": "5449ebf2-4d90-4d19-df64-1591629c6216",
        "colab": {
          "base_uri": "https://localhost:8080/"
        }
      },
      "execution_count": 65,
      "outputs": [
        {
          "output_type": "execute_result",
          "data": {
            "text/plain": [
              "0.8125475467380692"
            ]
          },
          "metadata": {},
          "execution_count": 65
        }
      ]
    },
    {
      "cell_type": "code",
      "source": [
        "fpr_large, tpr_large, _ = roc_curve(y_val, y_pred)\n",
        "fpr_small, tpr_small, _ = roc_curve(y_val, y_pred_small)\n",
        "\n",
        "plt.figure(figsize=(5, 5))\n",
        "\n",
        "plt.plot(fpr_large, tpr_large, color='b', linestyle='solid', label='Large')\n",
        "plt.plot(fpr_small, tpr_small, color='r', linestyle='dashed', label='Small')\n",
        "plt.plot([0, 1], [0, 1], color='g', lw=0.7, linestyle='dashed', alpha=0.5, label=\"Baseline\")\n",
        "\n",
        "plt.xlim([-0.02, 1.02])\n",
        "plt.ylim([-0.02, 1.02])\n",
        "plt.xlabel('False Positive Rate')\n",
        "plt.ylabel('True Positive Rate')\n",
        "\n",
        "plt.title('ROC curve')\n",
        "plt.legend(loc='lower right')\n",
        "\n",
        "plt.show()"
      ],
      "metadata": {
        "id": "jG--uCDZ8LBj",
        "outputId": "c50ea34b-2808-46f5-d6bc-d5540f2de0d2",
        "colab": {
          "base_uri": "https://localhost:8080/",
          "height": 350
        }
      },
      "execution_count": 66,
      "outputs": [
        {
          "output_type": "display_data",
          "data": {
            "text/plain": [
              "<Figure size 360x360 with 1 Axes>"
            ],
            "image/png": "[encoded data removed]"
          },
          "metadata": {
            "needs_background": "light"
          }
        }
      ]
    },
    {
      "cell_type": "markdown",
      "source": [
        "###AUC Curve"
      ],
      "metadata": {
        "id": "YFqWxUFl8vDf"
      }
    },
    {
      "cell_type": "markdown",
      "source": [
        "The ideal model forms a `1x1` square, so the area under its ROC curve is `1`, or `100%`.The random model takes only half of that, so its AUC is `0.5`, or `50%`. \n",
        "\n",
        "The AUCs of our\n",
        "two models — the large one and the small one — will be somewhere between the random\n",
        "baseline of `50%` and the ideal curve of `100%`.\n",
        "\n",
        "ROC curves and AUC scores tell us how well the model separates positive and negative\n",
        "examples.\n",
        "\n"
      ],
      "metadata": {
        "id": "TrDII4H28w5W"
      }
    },
    {
      "cell_type": "code",
      "source": [
        "# calculate the AUC\n",
        "roc_auc_score(y_val, y_pred)"
      ],
      "metadata": {
        "id": "zGXRcMqWHeYA",
        "outputId": "39f2dd2a-ec3d-4098-891b-ac1b247bfb94",
        "colab": {
          "base_uri": "https://localhost:8080/"
        }
      },
      "execution_count": 68,
      "outputs": [
        {
          "output_type": "execute_result",
          "data": {
            "text/plain": [
              "0.8363366398907399"
            ]
          },
          "metadata": {},
          "execution_count": 68
        }
      ]
    },
    {
      "cell_type": "code",
      "source": [
        "roc_auc_score(y_val, y_pred_small)"
      ],
      "metadata": {
        "id": "b7NY2cLqIgAP",
        "outputId": "ac9734fe-bc4d-4e01-8880-4aa5edb5460a",
        "colab": {
          "base_uri": "https://localhost:8080/"
        }
      },
      "execution_count": 69,
      "outputs": [
        {
          "output_type": "execute_result",
          "data": {
            "text/plain": [
              "0.8129354083179088"
            ]
          },
          "metadata": {},
          "execution_count": 69
        }
      ]
    },
    {
      "cell_type": "markdown",
      "source": [
        "We want the model to score the churning customer higher than the non-churning\n",
        "one. \n",
        "\n",
        "AUC tells us the probability of that happening: it’s the probability that the score\n",
        "of a randomly selected churning customer is higher than the score of a randomly\n",
        "selected non-churning one.\n",
        "\n",
        "We can verify this by doing this experiment 10,000 times."
      ],
      "metadata": {
        "id": "SkNC6f8RI1pF"
      }
    },
    {
      "cell_type": "code",
      "source": [
        "np.random.seed(1)\n",
        "\n",
        "# Selects the score for all non-churning customers\n",
        "neg = y_pred[y_val == 0]\n",
        "# Selects the score for all churning customers\n",
        "pos = y_pred[y_val == 1]\n",
        "\n",
        "# Randomly selects 10,000 scores of negative examples (non-churning customers)\n",
        "neg_choice = np.random.randint(low=0, high=len(neg), size=10000)\n",
        "# Randomly selects 10,000 scores of positive examples (churning customers)\n",
        "pos_choice = np.random.randint(low=0, high=len(pos), size=10000)\n",
        "\n",
        "# For each of the positive examples, checks if the score is higher than the respective negative example\n",
        "(pos[pos_choice] > neg[neg_choice]).mean()"
      ],
      "metadata": {
        "id": "AacI7pZYJEkP",
        "outputId": "2bbe694c-832a-46ed-ef81-8f68470c6eae",
        "colab": {
          "base_uri": "https://localhost:8080/"
        }
      },
      "execution_count": 70,
      "outputs": [
        {
          "output_type": "execute_result",
          "data": {
            "text/plain": [
              "0.8356"
            ]
          },
          "metadata": {},
          "execution_count": 70
        }
      ]
    },
    {
      "cell_type": "markdown",
      "source": [
        "AUC thus not only gives us a way of evaluating the models at all possible thresholds\n",
        "but also describes how well the model separates two classes: in our case, churning and non-churning."
      ],
      "metadata": {
        "id": "y19O1zrILPaz"
      }
    },
    {
      "cell_type": "markdown",
      "source": [
        "##Parameter tuning"
      ],
      "metadata": {
        "id": "so2z6XLzLlZl"
      }
    },
    {
      "cell_type": "markdown",
      "source": [],
      "metadata": {
        "id": "69ItT-cSLmFq"
      }
    }
  ]
}