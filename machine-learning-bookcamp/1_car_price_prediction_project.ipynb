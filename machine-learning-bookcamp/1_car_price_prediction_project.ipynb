{
  "nbformat": 4,
  "nbformat_minor": 0,
  "metadata": {
    "colab": {
      "provenance": [],
      "toc_visible": true,
      "authorship_tag": "ABX9TyNRcMSRq6R8EfUBba1ovyzv",
      "include_colab_link": true
    },
    "kernelspec": {
      "name": "python3",
      "display_name": "Python 3"
    },
    "language_info": {
      "name": "python"
    }
  },
  "cells": [
    {
      "cell_type": "markdown",
      "metadata": {
        "id": "view-in-github",
        "colab_type": "text"
      },
      "source": [
        "<a href=\"https://colab.research.google.com/github/rahiakela/machine-learning-research-and-practice/blob/main/machine-learning-bookcamp/1_car_price_prediction_project.ipynb\" target=\"_parent\"><img src=\"https://colab.research.google.com/assets/colab-badge.svg\" alt=\"Open In Colab\"/></a>"
      ]
    },
    {
      "cell_type": "markdown",
      "source": [
        "##Car-price prediction project"
      ],
      "metadata": {
        "id": "nKiw-jHgceh6"
      }
    },
    {
      "cell_type": "markdown",
      "source": [
        "Suppose that we\n",
        "have a website where people can sell and buy used cars. When posting an ad on our\n",
        "website, sellers often struggle to come up with a meaningful price. We want to help\n",
        "our users with automatic price recommendations. \n",
        "\n",
        "We ask the sellers to specify the\n",
        "model, make, year, mileage, and other important characteristics of a car, and based on\n",
        "that information, we want to suggest the best price."
      ],
      "metadata": {
        "id": "n-ZdMvNtchEm"
      }
    },
    {
      "cell_type": "markdown",
      "source": [
        "##Setup"
      ],
      "metadata": {
        "id": "8MqwP3Hzc1Wb"
      }
    },
    {
      "cell_type": "code",
      "source": [
        "import pandas as pd\n",
        "import numpy as np\n",
        "\n",
        "import seaborn as sns\n",
        "from matplotlib import pyplot as plt\n",
        "%matplotlib inline"
      ],
      "metadata": {
        "id": "vpCaukoZc2bM"
      },
      "execution_count": 1,
      "outputs": []
    },
    {
      "cell_type": "code",
      "source": [
        "from google.colab import drive\n",
        "drive.mount('/content/gdrive')"
      ],
      "metadata": {
        "id": "bA6YUwP1c_KM"
      },
      "execution_count": null,
      "outputs": []
    },
    {
      "cell_type": "code",
      "source": [
        "import os\n",
        "# content/gdrive/My Drive/Kaggle is the path where kaggle.json is  present in the Google Drive\n",
        "os.environ['KAGGLE_CONFIG_DIR'] = \"/content/gdrive/MyDrive/kaggle-keys\""
      ],
      "metadata": {
        "id": "Khw2AeAidQ7r"
      },
      "execution_count": 3,
      "outputs": []
    },
    {
      "cell_type": "code",
      "source": [
        "%%shell\n",
        "\n",
        "# download dataset from kaggle> URL: https://www.kaggle.com/datasets/CooperUnion/cardataset\n",
        "kaggle datasets download -d CooperUnion/cardataset\n",
        "\n",
        "unzip -qq cardataset.zip\n",
        "rm -rf cardataset.zip"
      ],
      "metadata": {
        "id": "8EuMmwDKdXEm"
      },
      "execution_count": null,
      "outputs": []
    },
    {
      "cell_type": "markdown",
      "source": [
        "##Dataset"
      ],
      "metadata": {
        "id": "JKpNUL22eB1f"
      }
    },
    {
      "cell_type": "code",
      "source": [
        "# let’s read our dataset\n",
        "df = pd.read_csv(\"data.csv\")\n",
        "len(df)"
      ],
      "metadata": {
        "colab": {
          "base_uri": "https://localhost:8080/"
        },
        "id": "US7ds406eEwl",
        "outputId": "fbd93300-25f8-47d4-ee28-872624f9cea9"
      },
      "execution_count": 5,
      "outputs": [
        {
          "output_type": "execute_result",
          "data": {
            "text/plain": [
              "11914"
            ]
          },
          "metadata": {},
          "execution_count": 5
        }
      ]
    },
    {
      "cell_type": "code",
      "source": [
        "df.head()"
      ],
      "metadata": {
        "colab": {
          "base_uri": "https://localhost:8080/",
          "height": 478
        },
        "id": "49xKhrCyeqLb",
        "outputId": "caf17fb9-c331-4f18-b2a2-51c394f505e3"
      },
      "execution_count": 6,
      "outputs": [
        {
          "output_type": "execute_result",
          "data": {
            "text/plain": [
              "  Make       Model  Year             Engine Fuel Type  Engine HP  \\\n",
              "0  BMW  1 Series M  2011  premium unleaded (required)      335.0   \n",
              "1  BMW    1 Series  2011  premium unleaded (required)      300.0   \n",
              "2  BMW    1 Series  2011  premium unleaded (required)      300.0   \n",
              "3  BMW    1 Series  2011  premium unleaded (required)      230.0   \n",
              "4  BMW    1 Series  2011  premium unleaded (required)      230.0   \n",
              "\n",
              "   Engine Cylinders Transmission Type     Driven_Wheels  Number of Doors  \\\n",
              "0               6.0            MANUAL  rear wheel drive              2.0   \n",
              "1               6.0            MANUAL  rear wheel drive              2.0   \n",
              "2               6.0            MANUAL  rear wheel drive              2.0   \n",
              "3               6.0            MANUAL  rear wheel drive              2.0   \n",
              "4               6.0            MANUAL  rear wheel drive              2.0   \n",
              "\n",
              "                         Market Category Vehicle Size Vehicle Style  \\\n",
              "0  Factory Tuner,Luxury,High-Performance      Compact         Coupe   \n",
              "1                     Luxury,Performance      Compact   Convertible   \n",
              "2                Luxury,High-Performance      Compact         Coupe   \n",
              "3                     Luxury,Performance      Compact         Coupe   \n",
              "4                                 Luxury      Compact   Convertible   \n",
              "\n",
              "   highway MPG  city mpg  Popularity   MSRP  \n",
              "0           26        19        3916  46135  \n",
              "1           28        19        3916  40650  \n",
              "2           28        20        3916  36350  \n",
              "3           28        18        3916  29450  \n",
              "4           28        18        3916  34500  "
            ],
            "text/html": [
              "\n",
              "  <div id=\"df-a19be7b2-3089-40bb-bad5-afe78b28a8da\">\n",
              "    <div class=\"colab-df-container\">\n",
              "      <div>\n",
              "<style scoped>\n",
              "    .dataframe tbody tr th:only-of-type {\n",
              "        vertical-align: middle;\n",
              "    }\n",
              "\n",
              "    .dataframe tbody tr th {\n",
              "        vertical-align: top;\n",
              "    }\n",
              "\n",
              "    .dataframe thead th {\n",
              "        text-align: right;\n",
              "    }\n",
              "</style>\n",
              "<table border=\"1\" class=\"dataframe\">\n",
              "  <thead>\n",
              "    <tr style=\"text-align: right;\">\n",
              "      <th></th>\n",
              "      <th>Make</th>\n",
              "      <th>Model</th>\n",
              "      <th>Year</th>\n",
              "      <th>Engine Fuel Type</th>\n",
              "      <th>Engine HP</th>\n",
              "      <th>Engine Cylinders</th>\n",
              "      <th>Transmission Type</th>\n",
              "      <th>Driven_Wheels</th>\n",
              "      <th>Number of Doors</th>\n",
              "      <th>Market Category</th>\n",
              "      <th>Vehicle Size</th>\n",
              "      <th>Vehicle Style</th>\n",
              "      <th>highway MPG</th>\n",
              "      <th>city mpg</th>\n",
              "      <th>Popularity</th>\n",
              "      <th>MSRP</th>\n",
              "    </tr>\n",
              "  </thead>\n",
              "  <tbody>\n",
              "    <tr>\n",
              "      <th>0</th>\n",
              "      <td>BMW</td>\n",
              "      <td>1 Series M</td>\n",
              "      <td>2011</td>\n",
              "      <td>premium unleaded (required)</td>\n",
              "      <td>335.0</td>\n",
              "      <td>6.0</td>\n",
              "      <td>MANUAL</td>\n",
              "      <td>rear wheel drive</td>\n",
              "      <td>2.0</td>\n",
              "      <td>Factory Tuner,Luxury,High-Performance</td>\n",
              "      <td>Compact</td>\n",
              "      <td>Coupe</td>\n",
              "      <td>26</td>\n",
              "      <td>19</td>\n",
              "      <td>3916</td>\n",
              "      <td>46135</td>\n",
              "    </tr>\n",
              "    <tr>\n",
              "      <th>1</th>\n",
              "      <td>BMW</td>\n",
              "      <td>1 Series</td>\n",
              "      <td>2011</td>\n",
              "      <td>premium unleaded (required)</td>\n",
              "      <td>300.0</td>\n",
              "      <td>6.0</td>\n",
              "      <td>MANUAL</td>\n",
              "      <td>rear wheel drive</td>\n",
              "      <td>2.0</td>\n",
              "      <td>Luxury,Performance</td>\n",
              "      <td>Compact</td>\n",
              "      <td>Convertible</td>\n",
              "      <td>28</td>\n",
              "      <td>19</td>\n",
              "      <td>3916</td>\n",
              "      <td>40650</td>\n",
              "    </tr>\n",
              "    <tr>\n",
              "      <th>2</th>\n",
              "      <td>BMW</td>\n",
              "      <td>1 Series</td>\n",
              "      <td>2011</td>\n",
              "      <td>premium unleaded (required)</td>\n",
              "      <td>300.0</td>\n",
              "      <td>6.0</td>\n",
              "      <td>MANUAL</td>\n",
              "      <td>rear wheel drive</td>\n",
              "      <td>2.0</td>\n",
              "      <td>Luxury,High-Performance</td>\n",
              "      <td>Compact</td>\n",
              "      <td>Coupe</td>\n",
              "      <td>28</td>\n",
              "      <td>20</td>\n",
              "      <td>3916</td>\n",
              "      <td>36350</td>\n",
              "    </tr>\n",
              "    <tr>\n",
              "      <th>3</th>\n",
              "      <td>BMW</td>\n",
              "      <td>1 Series</td>\n",
              "      <td>2011</td>\n",
              "      <td>premium unleaded (required)</td>\n",
              "      <td>230.0</td>\n",
              "      <td>6.0</td>\n",
              "      <td>MANUAL</td>\n",
              "      <td>rear wheel drive</td>\n",
              "      <td>2.0</td>\n",
              "      <td>Luxury,Performance</td>\n",
              "      <td>Compact</td>\n",
              "      <td>Coupe</td>\n",
              "      <td>28</td>\n",
              "      <td>18</td>\n",
              "      <td>3916</td>\n",
              "      <td>29450</td>\n",
              "    </tr>\n",
              "    <tr>\n",
              "      <th>4</th>\n",
              "      <td>BMW</td>\n",
              "      <td>1 Series</td>\n",
              "      <td>2011</td>\n",
              "      <td>premium unleaded (required)</td>\n",
              "      <td>230.0</td>\n",
              "      <td>6.0</td>\n",
              "      <td>MANUAL</td>\n",
              "      <td>rear wheel drive</td>\n",
              "      <td>2.0</td>\n",
              "      <td>Luxury</td>\n",
              "      <td>Compact</td>\n",
              "      <td>Convertible</td>\n",
              "      <td>28</td>\n",
              "      <td>18</td>\n",
              "      <td>3916</td>\n",
              "      <td>34500</td>\n",
              "    </tr>\n",
              "  </tbody>\n",
              "</table>\n",
              "</div>\n",
              "      <button class=\"colab-df-convert\" onclick=\"convertToInteractive('df-a19be7b2-3089-40bb-bad5-afe78b28a8da')\"\n",
              "              title=\"Convert this dataframe to an interactive table.\"\n",
              "              style=\"display:none;\">\n",
              "        \n",
              "  <svg xmlns=\"http://www.w3.org/2000/svg\" height=\"24px\"viewBox=\"0 0 24 24\"\n",
              "       width=\"24px\">\n",
              "    <path d=\"M0 0h24v24H0V0z\" fill=\"none\"/>\n",
              "    <path d=\"M18.56 5.44l.94 2.06.94-2.06 2.06-.94-2.06-.94-.94-2.06-.94 2.06-2.06.94zm-11 1L8.5 8.5l.94-2.06 2.06-.94-2.06-.94L8.5 2.5l-.94 2.06-2.06.94zm10 10l.94 2.06.94-2.06 2.06-.94-2.06-.94-.94-2.06-.94 2.06-2.06.94z\"/><path d=\"M17.41 7.96l-1.37-1.37c-.4-.4-.92-.59-1.43-.59-.52 0-1.04.2-1.43.59L10.3 9.45l-7.72 7.72c-.78.78-.78 2.05 0 2.83L4 21.41c.39.39.9.59 1.41.59.51 0 1.02-.2 1.41-.59l7.78-7.78 2.81-2.81c.8-.78.8-2.07 0-2.86zM5.41 20L4 18.59l7.72-7.72 1.47 1.35L5.41 20z\"/>\n",
              "  </svg>\n",
              "      </button>\n",
              "      \n",
              "  <style>\n",
              "    .colab-df-container {\n",
              "      display:flex;\n",
              "      flex-wrap:wrap;\n",
              "      gap: 12px;\n",
              "    }\n",
              "\n",
              "    .colab-df-convert {\n",
              "      background-color: #E8F0FE;\n",
              "      border: none;\n",
              "      border-radius: 50%;\n",
              "      cursor: pointer;\n",
              "      display: none;\n",
              "      fill: #1967D2;\n",
              "      height: 32px;\n",
              "      padding: 0 0 0 0;\n",
              "      width: 32px;\n",
              "    }\n",
              "\n",
              "    .colab-df-convert:hover {\n",
              "      background-color: #E2EBFA;\n",
              "      box-shadow: 0px 1px 2px rgba(60, 64, 67, 0.3), 0px 1px 3px 1px rgba(60, 64, 67, 0.15);\n",
              "      fill: #174EA6;\n",
              "    }\n",
              "\n",
              "    [theme=dark] .colab-df-convert {\n",
              "      background-color: #3B4455;\n",
              "      fill: #D2E3FC;\n",
              "    }\n",
              "\n",
              "    [theme=dark] .colab-df-convert:hover {\n",
              "      background-color: #434B5C;\n",
              "      box-shadow: 0px 1px 3px 1px rgba(0, 0, 0, 0.15);\n",
              "      filter: drop-shadow(0px 1px 2px rgba(0, 0, 0, 0.3));\n",
              "      fill: #FFFFFF;\n",
              "    }\n",
              "  </style>\n",
              "\n",
              "      <script>\n",
              "        const buttonEl =\n",
              "          document.querySelector('#df-a19be7b2-3089-40bb-bad5-afe78b28a8da button.colab-df-convert');\n",
              "        buttonEl.style.display =\n",
              "          google.colab.kernel.accessAllowed ? 'block' : 'none';\n",
              "\n",
              "        async function convertToInteractive(key) {\n",
              "          const element = document.querySelector('#df-a19be7b2-3089-40bb-bad5-afe78b28a8da');\n",
              "          const dataTable =\n",
              "            await google.colab.kernel.invokeFunction('convertToInteractive',\n",
              "                                                     [key], {});\n",
              "          if (!dataTable) return;\n",
              "\n",
              "          const docLinkHtml = 'Like what you see? Visit the ' +\n",
              "            '<a target=\"_blank\" href=https://colab.research.google.com/notebooks/data_table.ipynb>data table notebook</a>'\n",
              "            + ' to learn more about interactive tables.';\n",
              "          element.innerHTML = '';\n",
              "          dataTable['output_type'] = 'display_data';\n",
              "          await google.colab.output.renderOutput(dataTable, element);\n",
              "          const docLink = document.createElement('div');\n",
              "          docLink.innerHTML = docLinkHtml;\n",
              "          element.appendChild(docLink);\n",
              "        }\n",
              "      </script>\n",
              "    </div>\n",
              "  </div>\n",
              "  "
            ]
          },
          "metadata": {},
          "execution_count": 6
        }
      ]
    },
    {
      "cell_type": "code",
      "source": [
        "# Let's normalize the column names\n",
        "df.columns = df.columns.str.lower().str.replace(\" \", \"_\")  \n",
        "string_columns = list(df.dtypes[df.dtypes == \"object\"].index)\n",
        "for col in string_columns:\n",
        "  df[col] = df[col].str.lower().str.replace(\" \", \"_\")"
      ],
      "metadata": {
        "id": "tOpxyr0FfAw7"
      },
      "execution_count": 7,
      "outputs": []
    },
    {
      "cell_type": "code",
      "source": [
        "df.head()"
      ],
      "metadata": {
        "colab": {
          "base_uri": "https://localhost:8080/",
          "height": 287
        },
        "id": "VGcl396AgdYw",
        "outputId": "3d91fd3c-c68e-4098-958a-775550da383f"
      },
      "execution_count": 8,
      "outputs": [
        {
          "output_type": "execute_result",
          "data": {
            "text/plain": [
              "  make       model  year             engine_fuel_type  engine_hp  \\\n",
              "0  bmw  1_series_m  2011  premium_unleaded_(required)      335.0   \n",
              "1  bmw    1_series  2011  premium_unleaded_(required)      300.0   \n",
              "2  bmw    1_series  2011  premium_unleaded_(required)      300.0   \n",
              "3  bmw    1_series  2011  premium_unleaded_(required)      230.0   \n",
              "4  bmw    1_series  2011  premium_unleaded_(required)      230.0   \n",
              "\n",
              "   engine_cylinders transmission_type     driven_wheels  number_of_doors  \\\n",
              "0               6.0            manual  rear_wheel_drive              2.0   \n",
              "1               6.0            manual  rear_wheel_drive              2.0   \n",
              "2               6.0            manual  rear_wheel_drive              2.0   \n",
              "3               6.0            manual  rear_wheel_drive              2.0   \n",
              "4               6.0            manual  rear_wheel_drive              2.0   \n",
              "\n",
              "                         market_category vehicle_size vehicle_style  \\\n",
              "0  factory_tuner,luxury,high-performance      compact         coupe   \n",
              "1                     luxury,performance      compact   convertible   \n",
              "2                luxury,high-performance      compact         coupe   \n",
              "3                     luxury,performance      compact         coupe   \n",
              "4                                 luxury      compact   convertible   \n",
              "\n",
              "   highway_mpg  city_mpg  popularity   msrp  \n",
              "0           26        19        3916  46135  \n",
              "1           28        19        3916  40650  \n",
              "2           28        20        3916  36350  \n",
              "3           28        18        3916  29450  \n",
              "4           28        18        3916  34500  "
            ],
            "text/html": [
              "\n",
              "  <div id=\"df-d3728cbf-0377-4323-9123-0ae4a35c3500\">\n",
              "    <div class=\"colab-df-container\">\n",
              "      <div>\n",
              "<style scoped>\n",
              "    .dataframe tbody tr th:only-of-type {\n",
              "        vertical-align: middle;\n",
              "    }\n",
              "\n",
              "    .dataframe tbody tr th {\n",
              "        vertical-align: top;\n",
              "    }\n",
              "\n",
              "    .dataframe thead th {\n",
              "        text-align: right;\n",
              "    }\n",
              "</style>\n",
              "<table border=\"1\" class=\"dataframe\">\n",
              "  <thead>\n",
              "    <tr style=\"text-align: right;\">\n",
              "      <th></th>\n",
              "      <th>make</th>\n",
              "      <th>model</th>\n",
              "      <th>year</th>\n",
              "      <th>engine_fuel_type</th>\n",
              "      <th>engine_hp</th>\n",
              "      <th>engine_cylinders</th>\n",
              "      <th>transmission_type</th>\n",
              "      <th>driven_wheels</th>\n",
              "      <th>number_of_doors</th>\n",
              "      <th>market_category</th>\n",
              "      <th>vehicle_size</th>\n",
              "      <th>vehicle_style</th>\n",
              "      <th>highway_mpg</th>\n",
              "      <th>city_mpg</th>\n",
              "      <th>popularity</th>\n",
              "      <th>msrp</th>\n",
              "    </tr>\n",
              "  </thead>\n",
              "  <tbody>\n",
              "    <tr>\n",
              "      <th>0</th>\n",
              "      <td>bmw</td>\n",
              "      <td>1_series_m</td>\n",
              "      <td>2011</td>\n",
              "      <td>premium_unleaded_(required)</td>\n",
              "      <td>335.0</td>\n",
              "      <td>6.0</td>\n",
              "      <td>manual</td>\n",
              "      <td>rear_wheel_drive</td>\n",
              "      <td>2.0</td>\n",
              "      <td>factory_tuner,luxury,high-performance</td>\n",
              "      <td>compact</td>\n",
              "      <td>coupe</td>\n",
              "      <td>26</td>\n",
              "      <td>19</td>\n",
              "      <td>3916</td>\n",
              "      <td>46135</td>\n",
              "    </tr>\n",
              "    <tr>\n",
              "      <th>1</th>\n",
              "      <td>bmw</td>\n",
              "      <td>1_series</td>\n",
              "      <td>2011</td>\n",
              "      <td>premium_unleaded_(required)</td>\n",
              "      <td>300.0</td>\n",
              "      <td>6.0</td>\n",
              "      <td>manual</td>\n",
              "      <td>rear_wheel_drive</td>\n",
              "      <td>2.0</td>\n",
              "      <td>luxury,performance</td>\n",
              "      <td>compact</td>\n",
              "      <td>convertible</td>\n",
              "      <td>28</td>\n",
              "      <td>19</td>\n",
              "      <td>3916</td>\n",
              "      <td>40650</td>\n",
              "    </tr>\n",
              "    <tr>\n",
              "      <th>2</th>\n",
              "      <td>bmw</td>\n",
              "      <td>1_series</td>\n",
              "      <td>2011</td>\n",
              "      <td>premium_unleaded_(required)</td>\n",
              "      <td>300.0</td>\n",
              "      <td>6.0</td>\n",
              "      <td>manual</td>\n",
              "      <td>rear_wheel_drive</td>\n",
              "      <td>2.0</td>\n",
              "      <td>luxury,high-performance</td>\n",
              "      <td>compact</td>\n",
              "      <td>coupe</td>\n",
              "      <td>28</td>\n",
              "      <td>20</td>\n",
              "      <td>3916</td>\n",
              "      <td>36350</td>\n",
              "    </tr>\n",
              "    <tr>\n",
              "      <th>3</th>\n",
              "      <td>bmw</td>\n",
              "      <td>1_series</td>\n",
              "      <td>2011</td>\n",
              "      <td>premium_unleaded_(required)</td>\n",
              "      <td>230.0</td>\n",
              "      <td>6.0</td>\n",
              "      <td>manual</td>\n",
              "      <td>rear_wheel_drive</td>\n",
              "      <td>2.0</td>\n",
              "      <td>luxury,performance</td>\n",
              "      <td>compact</td>\n",
              "      <td>coupe</td>\n",
              "      <td>28</td>\n",
              "      <td>18</td>\n",
              "      <td>3916</td>\n",
              "      <td>29450</td>\n",
              "    </tr>\n",
              "    <tr>\n",
              "      <th>4</th>\n",
              "      <td>bmw</td>\n",
              "      <td>1_series</td>\n",
              "      <td>2011</td>\n",
              "      <td>premium_unleaded_(required)</td>\n",
              "      <td>230.0</td>\n",
              "      <td>6.0</td>\n",
              "      <td>manual</td>\n",
              "      <td>rear_wheel_drive</td>\n",
              "      <td>2.0</td>\n",
              "      <td>luxury</td>\n",
              "      <td>compact</td>\n",
              "      <td>convertible</td>\n",
              "      <td>28</td>\n",
              "      <td>18</td>\n",
              "      <td>3916</td>\n",
              "      <td>34500</td>\n",
              "    </tr>\n",
              "  </tbody>\n",
              "</table>\n",
              "</div>\n",
              "      <button class=\"colab-df-convert\" onclick=\"convertToInteractive('df-d3728cbf-0377-4323-9123-0ae4a35c3500')\"\n",
              "              title=\"Convert this dataframe to an interactive table.\"\n",
              "              style=\"display:none;\">\n",
              "        \n",
              "  <svg xmlns=\"http://www.w3.org/2000/svg\" height=\"24px\"viewBox=\"0 0 24 24\"\n",
              "       width=\"24px\">\n",
              "    <path d=\"M0 0h24v24H0V0z\" fill=\"none\"/>\n",
              "    <path d=\"M18.56 5.44l.94 2.06.94-2.06 2.06-.94-2.06-.94-.94-2.06-.94 2.06-2.06.94zm-11 1L8.5 8.5l.94-2.06 2.06-.94-2.06-.94L8.5 2.5l-.94 2.06-2.06.94zm10 10l.94 2.06.94-2.06 2.06-.94-2.06-.94-.94-2.06-.94 2.06-2.06.94z\"/><path d=\"M17.41 7.96l-1.37-1.37c-.4-.4-.92-.59-1.43-.59-.52 0-1.04.2-1.43.59L10.3 9.45l-7.72 7.72c-.78.78-.78 2.05 0 2.83L4 21.41c.39.39.9.59 1.41.59.51 0 1.02-.2 1.41-.59l7.78-7.78 2.81-2.81c.8-.78.8-2.07 0-2.86zM5.41 20L4 18.59l7.72-7.72 1.47 1.35L5.41 20z\"/>\n",
              "  </svg>\n",
              "      </button>\n",
              "      \n",
              "  <style>\n",
              "    .colab-df-container {\n",
              "      display:flex;\n",
              "      flex-wrap:wrap;\n",
              "      gap: 12px;\n",
              "    }\n",
              "\n",
              "    .colab-df-convert {\n",
              "      background-color: #E8F0FE;\n",
              "      border: none;\n",
              "      border-radius: 50%;\n",
              "      cursor: pointer;\n",
              "      display: none;\n",
              "      fill: #1967D2;\n",
              "      height: 32px;\n",
              "      padding: 0 0 0 0;\n",
              "      width: 32px;\n",
              "    }\n",
              "\n",
              "    .colab-df-convert:hover {\n",
              "      background-color: #E2EBFA;\n",
              "      box-shadow: 0px 1px 2px rgba(60, 64, 67, 0.3), 0px 1px 3px 1px rgba(60, 64, 67, 0.15);\n",
              "      fill: #174EA6;\n",
              "    }\n",
              "\n",
              "    [theme=dark] .colab-df-convert {\n",
              "      background-color: #3B4455;\n",
              "      fill: #D2E3FC;\n",
              "    }\n",
              "\n",
              "    [theme=dark] .colab-df-convert:hover {\n",
              "      background-color: #434B5C;\n",
              "      box-shadow: 0px 1px 3px 1px rgba(0, 0, 0, 0.15);\n",
              "      filter: drop-shadow(0px 1px 2px rgba(0, 0, 0, 0.3));\n",
              "      fill: #FFFFFF;\n",
              "    }\n",
              "  </style>\n",
              "\n",
              "      <script>\n",
              "        const buttonEl =\n",
              "          document.querySelector('#df-d3728cbf-0377-4323-9123-0ae4a35c3500 button.colab-df-convert');\n",
              "        buttonEl.style.display =\n",
              "          google.colab.kernel.accessAllowed ? 'block' : 'none';\n",
              "\n",
              "        async function convertToInteractive(key) {\n",
              "          const element = document.querySelector('#df-d3728cbf-0377-4323-9123-0ae4a35c3500');\n",
              "          const dataTable =\n",
              "            await google.colab.kernel.invokeFunction('convertToInteractive',\n",
              "                                                     [key], {});\n",
              "          if (!dataTable) return;\n",
              "\n",
              "          const docLinkHtml = 'Like what you see? Visit the ' +\n",
              "            '<a target=\"_blank\" href=https://colab.research.google.com/notebooks/data_table.ipynb>data table notebook</a>'\n",
              "            + ' to learn more about interactive tables.';\n",
              "          element.innerHTML = '';\n",
              "          dataTable['output_type'] = 'display_data';\n",
              "          await google.colab.output.renderOutput(dataTable, element);\n",
              "          const docLink = document.createElement('div');\n",
              "          docLink.innerHTML = docLinkHtml;\n",
              "          element.appendChild(docLink);\n",
              "        }\n",
              "      </script>\n",
              "    </div>\n",
              "  </div>\n",
              "  "
            ]
          },
          "metadata": {},
          "execution_count": 8
        }
      ]
    },
    {
      "cell_type": "markdown",
      "source": [
        "##Exploratory data analysis"
      ],
      "metadata": {
        "id": "PMWbY5TLheNc"
      }
    },
    {
      "cell_type": "markdown",
      "source": [
        "###Target variable analysis"
      ],
      "metadata": {
        "id": "8wNl5J6ljcY2"
      }
    },
    {
      "cell_type": "code",
      "source": [
        "# let's analyze the target variable\n",
        "plt.figure(figsize=(6, 4))\n",
        "\n",
        "sns.histplot(df.msrp, bins=40, color=\"black\", alpha=1)\n",
        "plt.ylabel(\"Frequency\")\n",
        "plt.xlabel(\"Price\")\n",
        "plt.title(\"Distribution of prices\")\n",
        "plt.show()"
      ],
      "metadata": {
        "colab": {
          "base_uri": "https://localhost:8080/",
          "height": 295
        },
        "id": "uZPbhvUvhmcM",
        "outputId": "a8da0e54-168f-4ed0-f87f-c788ef14e443"
      },
      "execution_count": 9,
      "outputs": [
        {
          "output_type": "display_data",
          "data": {
            "text/plain": [
              "<Figure size 432x288 with 1 Axes>"
            ],
            "image/png": "[encoded data removed]"
          },
          "metadata": {
            "needs_background": "light"
          }
        }
      ]
    },
    {
      "cell_type": "code",
      "source": [
        "# a closer look by zooming in a bit and looking at values below $100,000\n",
        "plt.figure(figsize=(6, 4))\n",
        "\n",
        "sns.histplot(df.msrp[df.msrp < 100000], bins=40, color=\"black\", alpha=1)\n",
        "plt.ylabel(\"Frequency\")\n",
        "plt.xlabel(\"Price\")\n",
        "plt.title(\"Distribution of prices\")\n",
        "plt.show()"
      ],
      "metadata": {
        "colab": {
          "base_uri": "https://localhost:8080/",
          "height": 295
        },
        "id": "9YF3_sq3j9Vc",
        "outputId": "28bc906c-2f4a-4ef8-a384-2040ae222254"
      },
      "execution_count": 10,
      "outputs": [
        {
          "output_type": "display_data",
          "data": {
            "text/plain": [
              "<Figure size 432x288 with 1 Axes>"
            ],
            "image/png": "[encoded data removed]"
          },
          "metadata": {
            "needs_background": "light"
          }
        }
      ]
    },
    {
      "cell_type": "markdown",
      "source": [
        "The long tail makes it quite difficult for us to see the distribution, but it has an even\n",
        "stronger effect on a model: such distribution can greatly confuse the model, so it\n",
        "won’t learn well enough. \n",
        "\n",
        "One way to solve this problem is log transformation. If we\n",
        "apply the log function to the prices, it removes the undesired effect.\n",
        "\n",
        "$$y_{new} = log(y + 1)$$\n",
        "\n",
        "The +1 part is important in cases that have zeros. \n",
        "\n",
        "The logarithm of zero is minus infinity,\n",
        "but the logarithm of one is zero.\n",
        "\n",
        "If our values are all non-negative, by adding 1, we\n",
        "make sure that the transformed values do not go below zero."
      ],
      "metadata": {
        "id": "1vhgkyl1kjUa"
      }
    },
    {
      "cell_type": "code",
      "source": [
        "np.log(1)"
      ],
      "metadata": {
        "colab": {
          "base_uri": "https://localhost:8080/"
        },
        "id": "f5F_6oAmmFhu",
        "outputId": "b5ef86c4-81cc-475f-f543-d7928d66bd9e"
      },
      "execution_count": 11,
      "outputs": [
        {
          "output_type": "execute_result",
          "data": {
            "text/plain": [
              "0.0"
            ]
          },
          "metadata": {},
          "execution_count": 11
        }
      ]
    },
    {
      "cell_type": "code",
      "source": [
        "np.log(0)"
      ],
      "metadata": {
        "colab": {
          "base_uri": "https://localhost:8080/"
        },
        "id": "Wgml9y-DmK6K",
        "outputId": "37a63ad1-f620-49e2-b82c-3b9aad5b616f"
      },
      "execution_count": 12,
      "outputs": [
        {
          "output_type": "stream",
          "name": "stderr",
          "text": [
            "/usr/local/lib/python3.7/dist-packages/ipykernel_launcher.py:1: RuntimeWarning: divide by zero encountered in log\n",
            "  \"\"\"Entry point for launching an IPython kernel.\n"
          ]
        },
        {
          "output_type": "execute_result",
          "data": {
            "text/plain": [
              "-inf"
            ]
          },
          "metadata": {},
          "execution_count": 12
        }
      ]
    },
    {
      "cell_type": "code",
      "source": [
        "log_price = np.log1p(df.msrp)\n",
        "\n",
        "plt.figure(figsize=(6, 4))\n",
        "\n",
        "sns.histplot(log_price, bins=40, color=\"black\", alpha=1)\n",
        "plt.ylabel(\"Frequency\")\n",
        "plt.xlabel(\"Log(Price + 1)\")\n",
        "plt.title(\"Distribution of prices after log tranformation\")\n",
        "plt.show()"
      ],
      "metadata": {
        "colab": {
          "base_uri": "https://localhost:8080/",
          "height": 295
        },
        "id": "RqOnB-wYmehf",
        "outputId": "d3818ec7-a9b8-4437-dfef-618b9cba78ad"
      },
      "execution_count": 13,
      "outputs": [
        {
          "output_type": "display_data",
          "data": {
            "text/plain": [
              "<Figure size 432x288 with 1 Axes>"
            ],
            "image/png": "[encoded data removed]"
          },
          "metadata": {
            "needs_background": "light"
          }
        }
      ]
    },
    {
      "cell_type": "markdown",
      "source": [
        "As we see, this transformation removes the long tail, and now the distribution resembles\n",
        "a bell-shaped curve. \n",
        "\n",
        "This distribution is not normal, of course, because of the\n",
        "large peak in lower prices, but the model can deal with it more easily."
      ],
      "metadata": {
        "id": "SY3MLvFQnEyb"
      }
    },
    {
      "cell_type": "markdown",
      "source": [
        "###Checking for missing values"
      ],
      "metadata": {
        "id": "akVAUyb_jW3t"
      }
    },
    {
      "cell_type": "code",
      "source": [
        "df.isnull().sum()"
      ],
      "metadata": {
        "id": "nbZbJTMsjXuO",
        "outputId": "91aa5dd7-0787-4688-efd3-25096598e845",
        "colab": {
          "base_uri": "https://localhost:8080/"
        }
      },
      "execution_count": 14,
      "outputs": [
        {
          "output_type": "execute_result",
          "data": {
            "text/plain": [
              "make                    0\n",
              "model                   0\n",
              "year                    0\n",
              "engine_fuel_type        3\n",
              "engine_hp              69\n",
              "engine_cylinders       30\n",
              "transmission_type       0\n",
              "driven_wheels           0\n",
              "number_of_doors         6\n",
              "market_category      3742\n",
              "vehicle_size            0\n",
              "vehicle_style           0\n",
              "highway_mpg             0\n",
              "city_mpg                0\n",
              "popularity              0\n",
              "msrp                    0\n",
              "dtype: int64"
            ]
          },
          "metadata": {},
          "execution_count": 14
        }
      ]
    },
    {
      "cell_type": "markdown",
      "source": [
        "###Splitting Dataset"
      ],
      "metadata": {
        "id": "L4ExMsFqg4Ib"
      }
    },
    {
      "cell_type": "code",
      "source": [
        "# Splitting Data into validation, test, and training sets\n",
        "np.random.seed(2)\n",
        "\n",
        "n = len(df)\n",
        "\n",
        "# Calculates how many rows should go to train, validation, and test\n",
        "n_val = int(.2 * n)\n",
        "n_test = int(.2 * n)\n",
        "n_train = n - (n_val + n_test)\n",
        "\n",
        "idx = np.arange(n)\n",
        "np.random.shuffle(idx)\n",
        "\n",
        "df_shuffled = df.iloc[idx]\n",
        "\n",
        "# Splits the shuffled DataFrame into train, validation, and test\n",
        "df_train = df_shuffled.iloc[: n_train].copy()\n",
        "df_val = df_shuffled.iloc[n_train: n_train + n_val].copy()\n",
        "df_test = df_shuffled.iloc[n_train + n_val: ].copy()"
      ],
      "metadata": {
        "id": "NnwWWHOsg5Ue"
      },
      "execution_count": 15,
      "outputs": []
    },
    {
      "cell_type": "code",
      "source": [
        "# let's take a smaller array of five elements and shuffle it\n",
        "idx = np.arange(5)\n",
        "print(f\"before shuffle {idx}\")\n",
        "np.random.shuffle(idx)\n",
        "print(f\"after shuffle {idx}\")"
      ],
      "metadata": {
        "id": "0sA_lgG3iMFb",
        "outputId": "7bab1ea1-983d-4844-c77f-92f0d453bdb3",
        "colab": {
          "base_uri": "https://localhost:8080/"
        }
      },
      "execution_count": 16,
      "outputs": [
        {
          "output_type": "stream",
          "name": "stdout",
          "text": [
            "before shuffle [0 1 2 3 4]\n",
            "after shuffle [1 2 0 4 3]\n"
          ]
        }
      ]
    },
    {
      "cell_type": "code",
      "source": [
        "np.random.seed(2)\n",
        "idx = np.arange(5)\n",
        "print(f\"before shuffle {idx}\")\n",
        "np.random.shuffle(idx)\n",
        "print(f\"after shuffle {idx}\")"
      ],
      "metadata": {
        "id": "mfzeXJeHi-KC",
        "outputId": "35480dcd-40bd-429d-d83f-a08c00e5450b",
        "colab": {
          "base_uri": "https://localhost:8080/"
        }
      },
      "execution_count": 17,
      "outputs": [
        {
          "output_type": "stream",
          "name": "stdout",
          "text": [
            "before shuffle [0 1 2 3 4]\n",
            "after shuffle [2 4 1 3 0]\n"
          ]
        }
      ]
    },
    {
      "cell_type": "code",
      "source": [
        "# let's apply the log transformation to target variable\n",
        "y_train_orig = df_train.msrp.values\n",
        "y_val_orig  = df_val.msrp.values\n",
        "y_test_orig = df_test.msrp.values\n",
        "\n",
        "y_train = np.log1p(df_train.msrp.values)\n",
        "y_val = np.log1p(df_val.msrp.values)\n",
        "y_test = np.log1p(df_test.msrp.values)\n",
        "\n",
        "del df_train[\"msrp\"]\n",
        "del df_val[\"msrp\"]\n",
        "del df_test[\"msrp\"]"
      ],
      "metadata": {
        "id": "-F9NBHy-lMeR"
      },
      "execution_count": 18,
      "outputs": []
    },
    {
      "cell_type": "markdown",
      "source": [
        "##Linear Regression"
      ],
      "metadata": {
        "id": "QfcPPXO2mBoH"
      }
    },
    {
      "cell_type": "markdown",
      "source": [
        "Let's implement the normal equation.\n",
        "\n",
        "$$\n",
        "w = (X^TX)^{-1} X^T y\n",
        "$$"
      ],
      "metadata": {
        "id": "tRN_TlcX_XdH"
      }
    },
    {
      "cell_type": "code",
      "source": [
        "def train_linear_regression(X, y):\n",
        "  # adding dummy feature into X\n",
        "  ones = np.ones(X.shape[0])\n",
        "  X = np.column_stack([ones, X])\n",
        "\n",
        "  XTX = X.T.dot(X)\n",
        "  XTX_inv = np.linalg.inv(XTX)\n",
        "  w = XTX_inv.dot(X.T).dot(y)\n",
        "  # Splits the weights vector into the bias and the rest of the weights\n",
        "  return w[0], w[1:]"
      ],
      "metadata": {
        "id": "fI51XNK1mFK9"
      },
      "execution_count": 19,
      "outputs": []
    },
    {
      "cell_type": "markdown",
      "source": [
        "###Baseline solution"
      ],
      "metadata": {
        "id": "ZrUZ3VNwAFR8"
      }
    },
    {
      "cell_type": "code",
      "source": [
        "# Let’s select the numerical features from the data frame\n",
        "features_base = [\"engine_hp\", \"engine_cylinders\", \"highway_mpg\", \"city_mpg\", \"popularity\"]"
      ],
      "metadata": {
        "id": "xeaMjJozAGci"
      },
      "execution_count": 20,
      "outputs": []
    },
    {
      "cell_type": "code",
      "source": [
        "def prepare_training_set(df):\n",
        "  df_num = df[features_base]  # selecting numerical features\n",
        "  df_num = df_num.fillna(0)   # filling the missing values with zero\n",
        "  X = df_num.values           # converting the DataFrame to a NumPy array\n",
        "  return X\n",
        "\n",
        "x_train = prepare_training_set(df_train)"
      ],
      "metadata": {
        "id": "1Pa0YybCHfX2"
      },
      "execution_count": 21,
      "outputs": []
    },
    {
      "cell_type": "code",
      "source": [
        "# let's train the model\n",
        "w_0, w = train_linear_regression(x_train, y_train)"
      ],
      "metadata": {
        "id": "CcCb8ImmIb32"
      },
      "execution_count": 22,
      "outputs": []
    },
    {
      "cell_type": "code",
      "source": [
        "# let's see how well it predicts\n",
        "y_pred = w_0 + x_train.dot(w)"
      ],
      "metadata": {
        "id": "6Tau9nlzJL2V"
      },
      "execution_count": 23,
      "outputs": []
    },
    {
      "cell_type": "code",
      "source": [
        "# let's plot the actual and predicted distribution\n",
        "plt.figure(figsize=(6, 4))\n",
        "\n",
        "sns.histplot(y_train, label=\"target\", color=\"#222222\", alpha=0.6, bins=40)\n",
        "sns.histplot(y_pred, label=\"prediction\", color=\"#aaaaaa\", alpha=0.8, bins=40)\n",
        "\n",
        "plt.legend()\n",
        "plt.xlabel(\"Log(Price + 1)\")\n",
        "plt.ylabel(\"Frequency\")\n",
        "plt.title(\"Predictions vs actual distribution\")\n",
        "plt.show()"
      ],
      "metadata": {
        "id": "D3kz4RXgJgpQ",
        "outputId": "2f836f6a-97b6-4d63-e980-632ecb00fea1",
        "colab": {
          "base_uri": "https://localhost:8080/",
          "height": 295
        }
      },
      "execution_count": 24,
      "outputs": [
        {
          "output_type": "display_data",
          "data": {
            "text/plain": [
              "<Figure size 432x288 with 1 Axes>"
            ],
            "image/png": "[encoded data removed]"
          },
          "metadata": {
            "needs_background": "light"
          }
        }
      ]
    },
    {
      "cell_type": "markdown",
      "source": [
        "As we can see that the distribution of values we predicted\n",
        "looks quite different from the actual values. \n",
        "\n",
        "This result may indicate that the model is\n",
        "not powerful enough to capture the distribution of the target variable. \n",
        "\n",
        "This shouldn’t be a surprise to us: the model we used is quite basic and includes only five very simple features."
      ],
      "metadata": {
        "id": "CXfCD3gmLS1l"
      }
    },
    {
      "cell_type": "markdown",
      "source": [
        "###Evaluating the model"
      ],
      "metadata": {
        "id": "0OokgeXMLZ67"
      }
    },
    {
      "cell_type": "code",
      "source": [
        "# let's define root mean squared error\n",
        "def rmse(y, y_pred):\n",
        "  error = y_pred - y\n",
        "  mse = (error ** 2).mean()\n",
        "  return np.sqrt(mse)"
      ],
      "metadata": {
        "id": "-aYZOT55Ld2I"
      },
      "execution_count": 25,
      "outputs": []
    },
    {
      "cell_type": "code",
      "source": [
        "# let's evaluate the quality of the model\n",
        "rmse(y_train, y_pred)"
      ],
      "metadata": {
        "id": "NPV2vHSPKhmX",
        "outputId": "20df067a-a976-4fab-a65c-ec7affb7a4f5",
        "colab": {
          "base_uri": "https://localhost:8080/"
        }
      },
      "execution_count": 26,
      "outputs": [
        {
          "output_type": "execute_result",
          "data": {
            "text/plain": [
              "0.7554192603920132"
            ]
          },
          "metadata": {},
          "execution_count": 26
        }
      ]
    },
    {
      "cell_type": "markdown",
      "source": [
        "###Validating the model"
      ],
      "metadata": {
        "id": "LDFvFLCTOwtu"
      }
    },
    {
      "cell_type": "code",
      "source": [],
      "metadata": {
        "id": "7WEVQipEOx27"
      },
      "execution_count": null,
      "outputs": []
    }
  ]
}