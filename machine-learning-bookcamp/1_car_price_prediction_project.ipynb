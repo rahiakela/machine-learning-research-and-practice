{
  "nbformat": 4,
  "nbformat_minor": 0,
  "metadata": {
    "colab": {
      "provenance": [],
      "toc_visible": true,
      "authorship_tag": "ABX9TyPKcWC0UpSudAZzgQd8xxQn",
      "include_colab_link": true
    },
    "kernelspec": {
      "name": "python3",
      "display_name": "Python 3"
    },
    "language_info": {
      "name": "python"
    }
  },
  "cells": [
    {
      "cell_type": "markdown",
      "metadata": {
        "id": "view-in-github",
        "colab_type": "text"
      },
      "source": [
        "<a href=\"https://colab.research.google.com/github/rahiakela/machine-learning-research-and-practice/blob/main/machine-learning-bookcamp/1_car_price_prediction_project.ipynb\" target=\"_parent\"><img src=\"https://colab.research.google.com/assets/colab-badge.svg\" alt=\"Open In Colab\"/></a>"
      ]
    },
    {
      "cell_type": "markdown",
      "source": [
        "##Car-price prediction project"
      ],
      "metadata": {
        "id": "nKiw-jHgceh6"
      }
    },
    {
      "cell_type": "markdown",
      "source": [
        "Suppose that we\n",
        "have a website where people can sell and buy used cars. When posting an ad on our\n",
        "website, sellers often struggle to come up with a meaningful price. We want to help\n",
        "our users with automatic price recommendations. \n",
        "\n",
        "We ask the sellers to specify the\n",
        "model, make, year, mileage, and other important characteristics of a car, and based on\n",
        "that information, we want to suggest the best price."
      ],
      "metadata": {
        "id": "n-ZdMvNtchEm"
      }
    },
    {
      "cell_type": "markdown",
      "source": [
        "##Setup"
      ],
      "metadata": {
        "id": "8MqwP3Hzc1Wb"
      }
    },
    {
      "cell_type": "code",
      "source": [
        "import pandas as pd\n",
        "import numpy as np\n",
        "\n",
        "import seaborn as sns\n",
        "from matplotlib import pyplot as plt\n",
        "%matplotlib inline"
      ],
      "metadata": {
        "id": "vpCaukoZc2bM"
      },
      "execution_count": 1,
      "outputs": []
    },
    {
      "cell_type": "code",
      "source": [
        "from google.colab import drive\n",
        "drive.mount('/content/gdrive')"
      ],
      "metadata": {
        "id": "bA6YUwP1c_KM",
        "outputId": "44d1b4ad-83aa-4f98-d09d-9cf364564db1",
        "colab": {
          "base_uri": "https://localhost:8080/"
        }
      },
      "execution_count": 2,
      "outputs": [
        {
          "output_type": "stream",
          "name": "stdout",
          "text": [
            "Mounted at /content/gdrive\n"
          ]
        }
      ]
    },
    {
      "cell_type": "code",
      "source": [
        "import os\n",
        "# content/gdrive/My Drive/Kaggle is the path where kaggle.json is  present in the Google Drive\n",
        "os.environ['KAGGLE_CONFIG_DIR'] = \"/content/gdrive/MyDrive/kaggle-keys\""
      ],
      "metadata": {
        "id": "Khw2AeAidQ7r"
      },
      "execution_count": 3,
      "outputs": []
    },
    {
      "cell_type": "code",
      "source": [
        "%%shell\n",
        "\n",
        "# download dataset from kaggle> URL: https://www.kaggle.com/datasets/CooperUnion/cardataset\n",
        "kaggle datasets download -d CooperUnion/cardataset\n",
        "\n",
        "unzip -qq cardataset.zip\n",
        "rm -rf cardataset.zip"
      ],
      "metadata": {
        "id": "8EuMmwDKdXEm"
      },
      "execution_count": null,
      "outputs": []
    },
    {
      "cell_type": "markdown",
      "source": [
        "##Dataset"
      ],
      "metadata": {
        "id": "JKpNUL22eB1f"
      }
    },
    {
      "cell_type": "code",
      "source": [
        "# let’s read our dataset\n",
        "df = pd.read_csv(\"data.csv\")\n",
        "len(df)"
      ],
      "metadata": {
        "colab": {
          "base_uri": "https://localhost:8080/"
        },
        "id": "US7ds406eEwl",
        "outputId": "15c7bb2e-92ce-46d8-fcbd-44be12eb8096"
      },
      "execution_count": 5,
      "outputs": [
        {
          "output_type": "execute_result",
          "data": {
            "text/plain": [
              "11914"
            ]
          },
          "metadata": {},
          "execution_count": 5
        }
      ]
    },
    {
      "cell_type": "code",
      "source": [
        "df.head()"
      ],
      "metadata": {
        "colab": {
          "base_uri": "https://localhost:8080/",
          "height": 478
        },
        "id": "49xKhrCyeqLb",
        "outputId": "ad3044de-f279-49d7-c57c-0d8e2668c4ff"
      },
      "execution_count": 6,
      "outputs": [
        {
          "output_type": "execute_result",
          "data": {
            "text/plain": [
              "  Make       Model  Year             Engine Fuel Type  Engine HP  \\\n",
              "0  BMW  1 Series M  2011  premium unleaded (required)      335.0   \n",
              "1  BMW    1 Series  2011  premium unleaded (required)      300.0   \n",
              "2  BMW    1 Series  2011  premium unleaded (required)      300.0   \n",
              "3  BMW    1 Series  2011  premium unleaded (required)      230.0   \n",
              "4  BMW    1 Series  2011  premium unleaded (required)      230.0   \n",
              "\n",
              "   Engine Cylinders Transmission Type     Driven_Wheels  Number of Doors  \\\n",
              "0               6.0            MANUAL  rear wheel drive              2.0   \n",
              "1               6.0            MANUAL  rear wheel drive              2.0   \n",
              "2               6.0            MANUAL  rear wheel drive              2.0   \n",
              "3               6.0            MANUAL  rear wheel drive              2.0   \n",
              "4               6.0            MANUAL  rear wheel drive              2.0   \n",
              "\n",
              "                         Market Category Vehicle Size Vehicle Style  \\\n",
              "0  Factory Tuner,Luxury,High-Performance      Compact         Coupe   \n",
              "1                     Luxury,Performance      Compact   Convertible   \n",
              "2                Luxury,High-Performance      Compact         Coupe   \n",
              "3                     Luxury,Performance      Compact         Coupe   \n",
              "4                                 Luxury      Compact   Convertible   \n",
              "\n",
              "   highway MPG  city mpg  Popularity   MSRP  \n",
              "0           26        19        3916  46135  \n",
              "1           28        19        3916  40650  \n",
              "2           28        20        3916  36350  \n",
              "3           28        18        3916  29450  \n",
              "4           28        18        3916  34500  "
            ],
            "text/html": [
              "\n",
              "  <div id=\"df-59696b7e-2658-4393-8027-0bdb79108e82\">\n",
              "    <div class=\"colab-df-container\">\n",
              "      <div>\n",
              "<style scoped>\n",
              "    .dataframe tbody tr th:only-of-type {\n",
              "        vertical-align: middle;\n",
              "    }\n",
              "\n",
              "    .dataframe tbody tr th {\n",
              "        vertical-align: top;\n",
              "    }\n",
              "\n",
              "    .dataframe thead th {\n",
              "        text-align: right;\n",
              "    }\n",
              "</style>\n",
              "<table border=\"1\" class=\"dataframe\">\n",
              "  <thead>\n",
              "    <tr style=\"text-align: right;\">\n",
              "      <th></th>\n",
              "      <th>Make</th>\n",
              "      <th>Model</th>\n",
              "      <th>Year</th>\n",
              "      <th>Engine Fuel Type</th>\n",
              "      <th>Engine HP</th>\n",
              "      <th>Engine Cylinders</th>\n",
              "      <th>Transmission Type</th>\n",
              "      <th>Driven_Wheels</th>\n",
              "      <th>Number of Doors</th>\n",
              "      <th>Market Category</th>\n",
              "      <th>Vehicle Size</th>\n",
              "      <th>Vehicle Style</th>\n",
              "      <th>highway MPG</th>\n",
              "      <th>city mpg</th>\n",
              "      <th>Popularity</th>\n",
              "      <th>MSRP</th>\n",
              "    </tr>\n",
              "  </thead>\n",
              "  <tbody>\n",
              "    <tr>\n",
              "      <th>0</th>\n",
              "      <td>BMW</td>\n",
              "      <td>1 Series M</td>\n",
              "      <td>2011</td>\n",
              "      <td>premium unleaded (required)</td>\n",
              "      <td>335.0</td>\n",
              "      <td>6.0</td>\n",
              "      <td>MANUAL</td>\n",
              "      <td>rear wheel drive</td>\n",
              "      <td>2.0</td>\n",
              "      <td>Factory Tuner,Luxury,High-Performance</td>\n",
              "      <td>Compact</td>\n",
              "      <td>Coupe</td>\n",
              "      <td>26</td>\n",
              "      <td>19</td>\n",
              "      <td>3916</td>\n",
              "      <td>46135</td>\n",
              "    </tr>\n",
              "    <tr>\n",
              "      <th>1</th>\n",
              "      <td>BMW</td>\n",
              "      <td>1 Series</td>\n",
              "      <td>2011</td>\n",
              "      <td>premium unleaded (required)</td>\n",
              "      <td>300.0</td>\n",
              "      <td>6.0</td>\n",
              "      <td>MANUAL</td>\n",
              "      <td>rear wheel drive</td>\n",
              "      <td>2.0</td>\n",
              "      <td>Luxury,Performance</td>\n",
              "      <td>Compact</td>\n",
              "      <td>Convertible</td>\n",
              "      <td>28</td>\n",
              "      <td>19</td>\n",
              "      <td>3916</td>\n",
              "      <td>40650</td>\n",
              "    </tr>\n",
              "    <tr>\n",
              "      <th>2</th>\n",
              "      <td>BMW</td>\n",
              "      <td>1 Series</td>\n",
              "      <td>2011</td>\n",
              "      <td>premium unleaded (required)</td>\n",
              "      <td>300.0</td>\n",
              "      <td>6.0</td>\n",
              "      <td>MANUAL</td>\n",
              "      <td>rear wheel drive</td>\n",
              "      <td>2.0</td>\n",
              "      <td>Luxury,High-Performance</td>\n",
              "      <td>Compact</td>\n",
              "      <td>Coupe</td>\n",
              "      <td>28</td>\n",
              "      <td>20</td>\n",
              "      <td>3916</td>\n",
              "      <td>36350</td>\n",
              "    </tr>\n",
              "    <tr>\n",
              "      <th>3</th>\n",
              "      <td>BMW</td>\n",
              "      <td>1 Series</td>\n",
              "      <td>2011</td>\n",
              "      <td>premium unleaded (required)</td>\n",
              "      <td>230.0</td>\n",
              "      <td>6.0</td>\n",
              "      <td>MANUAL</td>\n",
              "      <td>rear wheel drive</td>\n",
              "      <td>2.0</td>\n",
              "      <td>Luxury,Performance</td>\n",
              "      <td>Compact</td>\n",
              "      <td>Coupe</td>\n",
              "      <td>28</td>\n",
              "      <td>18</td>\n",
              "      <td>3916</td>\n",
              "      <td>29450</td>\n",
              "    </tr>\n",
              "    <tr>\n",
              "      <th>4</th>\n",
              "      <td>BMW</td>\n",
              "      <td>1 Series</td>\n",
              "      <td>2011</td>\n",
              "      <td>premium unleaded (required)</td>\n",
              "      <td>230.0</td>\n",
              "      <td>6.0</td>\n",
              "      <td>MANUAL</td>\n",
              "      <td>rear wheel drive</td>\n",
              "      <td>2.0</td>\n",
              "      <td>Luxury</td>\n",
              "      <td>Compact</td>\n",
              "      <td>Convertible</td>\n",
              "      <td>28</td>\n",
              "      <td>18</td>\n",
              "      <td>3916</td>\n",
              "      <td>34500</td>\n",
              "    </tr>\n",
              "  </tbody>\n",
              "</table>\n",
              "</div>\n",
              "      <button class=\"colab-df-convert\" onclick=\"convertToInteractive('df-59696b7e-2658-4393-8027-0bdb79108e82')\"\n",
              "              title=\"Convert this dataframe to an interactive table.\"\n",
              "              style=\"display:none;\">\n",
              "        \n",
              "  <svg xmlns=\"http://www.w3.org/2000/svg\" height=\"24px\"viewBox=\"0 0 24 24\"\n",
              "       width=\"24px\">\n",
              "    <path d=\"M0 0h24v24H0V0z\" fill=\"none\"/>\n",
              "    <path d=\"M18.56 5.44l.94 2.06.94-2.06 2.06-.94-2.06-.94-.94-2.06-.94 2.06-2.06.94zm-11 1L8.5 8.5l.94-2.06 2.06-.94-2.06-.94L8.5 2.5l-.94 2.06-2.06.94zm10 10l.94 2.06.94-2.06 2.06-.94-2.06-.94-.94-2.06-.94 2.06-2.06.94z\"/><path d=\"M17.41 7.96l-1.37-1.37c-.4-.4-.92-.59-1.43-.59-.52 0-1.04.2-1.43.59L10.3 9.45l-7.72 7.72c-.78.78-.78 2.05 0 2.83L4 21.41c.39.39.9.59 1.41.59.51 0 1.02-.2 1.41-.59l7.78-7.78 2.81-2.81c.8-.78.8-2.07 0-2.86zM5.41 20L4 18.59l7.72-7.72 1.47 1.35L5.41 20z\"/>\n",
              "  </svg>\n",
              "      </button>\n",
              "      \n",
              "  <style>\n",
              "    .colab-df-container {\n",
              "      display:flex;\n",
              "      flex-wrap:wrap;\n",
              "      gap: 12px;\n",
              "    }\n",
              "\n",
              "    .colab-df-convert {\n",
              "      background-color: #E8F0FE;\n",
              "      border: none;\n",
              "      border-radius: 50%;\n",
              "      cursor: pointer;\n",
              "      display: none;\n",
              "      fill: #1967D2;\n",
              "      height: 32px;\n",
              "      padding: 0 0 0 0;\n",
              "      width: 32px;\n",
              "    }\n",
              "\n",
              "    .colab-df-convert:hover {\n",
              "      background-color: #E2EBFA;\n",
              "      box-shadow: 0px 1px 2px rgba(60, 64, 67, 0.3), 0px 1px 3px 1px rgba(60, 64, 67, 0.15);\n",
              "      fill: #174EA6;\n",
              "    }\n",
              "\n",
              "    [theme=dark] .colab-df-convert {\n",
              "      background-color: #3B4455;\n",
              "      fill: #D2E3FC;\n",
              "    }\n",
              "\n",
              "    [theme=dark] .colab-df-convert:hover {\n",
              "      background-color: #434B5C;\n",
              "      box-shadow: 0px 1px 3px 1px rgba(0, 0, 0, 0.15);\n",
              "      filter: drop-shadow(0px 1px 2px rgba(0, 0, 0, 0.3));\n",
              "      fill: #FFFFFF;\n",
              "    }\n",
              "  </style>\n",
              "\n",
              "      <script>\n",
              "        const buttonEl =\n",
              "          document.querySelector('#df-59696b7e-2658-4393-8027-0bdb79108e82 button.colab-df-convert');\n",
              "        buttonEl.style.display =\n",
              "          google.colab.kernel.accessAllowed ? 'block' : 'none';\n",
              "\n",
              "        async function convertToInteractive(key) {\n",
              "          const element = document.querySelector('#df-59696b7e-2658-4393-8027-0bdb79108e82');\n",
              "          const dataTable =\n",
              "            await google.colab.kernel.invokeFunction('convertToInteractive',\n",
              "                                                     [key], {});\n",
              "          if (!dataTable) return;\n",
              "\n",
              "          const docLinkHtml = 'Like what you see? Visit the ' +\n",
              "            '<a target=\"_blank\" href=https://colab.research.google.com/notebooks/data_table.ipynb>data table notebook</a>'\n",
              "            + ' to learn more about interactive tables.';\n",
              "          element.innerHTML = '';\n",
              "          dataTable['output_type'] = 'display_data';\n",
              "          await google.colab.output.renderOutput(dataTable, element);\n",
              "          const docLink = document.createElement('div');\n",
              "          docLink.innerHTML = docLinkHtml;\n",
              "          element.appendChild(docLink);\n",
              "        }\n",
              "      </script>\n",
              "    </div>\n",
              "  </div>\n",
              "  "
            ]
          },
          "metadata": {},
          "execution_count": 6
        }
      ]
    },
    {
      "cell_type": "code",
      "source": [
        "# Let's normalize the column names\n",
        "df.columns = df.columns.str.lower().str.replace(\" \", \"_\")  \n",
        "string_columns = list(df.dtypes[df.dtypes == \"object\"].index)\n",
        "for col in string_columns:\n",
        "  df[col] = df[col].str.lower().str.replace(\" \", \"_\")"
      ],
      "metadata": {
        "id": "tOpxyr0FfAw7"
      },
      "execution_count": 7,
      "outputs": []
    },
    {
      "cell_type": "code",
      "source": [
        "df.head()"
      ],
      "metadata": {
        "colab": {
          "base_uri": "https://localhost:8080/",
          "height": 287
        },
        "id": "VGcl396AgdYw",
        "outputId": "f6034ef8-b999-47c9-f04f-9ff5ec7e610e"
      },
      "execution_count": 8,
      "outputs": [
        {
          "output_type": "execute_result",
          "data": {
            "text/plain": [
              "  make       model  year             engine_fuel_type  engine_hp  \\\n",
              "0  bmw  1_series_m  2011  premium_unleaded_(required)      335.0   \n",
              "1  bmw    1_series  2011  premium_unleaded_(required)      300.0   \n",
              "2  bmw    1_series  2011  premium_unleaded_(required)      300.0   \n",
              "3  bmw    1_series  2011  premium_unleaded_(required)      230.0   \n",
              "4  bmw    1_series  2011  premium_unleaded_(required)      230.0   \n",
              "\n",
              "   engine_cylinders transmission_type     driven_wheels  number_of_doors  \\\n",
              "0               6.0            manual  rear_wheel_drive              2.0   \n",
              "1               6.0            manual  rear_wheel_drive              2.0   \n",
              "2               6.0            manual  rear_wheel_drive              2.0   \n",
              "3               6.0            manual  rear_wheel_drive              2.0   \n",
              "4               6.0            manual  rear_wheel_drive              2.0   \n",
              "\n",
              "                         market_category vehicle_size vehicle_style  \\\n",
              "0  factory_tuner,luxury,high-performance      compact         coupe   \n",
              "1                     luxury,performance      compact   convertible   \n",
              "2                luxury,high-performance      compact         coupe   \n",
              "3                     luxury,performance      compact         coupe   \n",
              "4                                 luxury      compact   convertible   \n",
              "\n",
              "   highway_mpg  city_mpg  popularity   msrp  \n",
              "0           26        19        3916  46135  \n",
              "1           28        19        3916  40650  \n",
              "2           28        20        3916  36350  \n",
              "3           28        18        3916  29450  \n",
              "4           28        18        3916  34500  "
            ],
            "text/html": [
              "\n",
              "  <div id=\"df-19c83246-9938-4fbf-b35a-c2387113f822\">\n",
              "    <div class=\"colab-df-container\">\n",
              "      <div>\n",
              "<style scoped>\n",
              "    .dataframe tbody tr th:only-of-type {\n",
              "        vertical-align: middle;\n",
              "    }\n",
              "\n",
              "    .dataframe tbody tr th {\n",
              "        vertical-align: top;\n",
              "    }\n",
              "\n",
              "    .dataframe thead th {\n",
              "        text-align: right;\n",
              "    }\n",
              "</style>\n",
              "<table border=\"1\" class=\"dataframe\">\n",
              "  <thead>\n",
              "    <tr style=\"text-align: right;\">\n",
              "      <th></th>\n",
              "      <th>make</th>\n",
              "      <th>model</th>\n",
              "      <th>year</th>\n",
              "      <th>engine_fuel_type</th>\n",
              "      <th>engine_hp</th>\n",
              "      <th>engine_cylinders</th>\n",
              "      <th>transmission_type</th>\n",
              "      <th>driven_wheels</th>\n",
              "      <th>number_of_doors</th>\n",
              "      <th>market_category</th>\n",
              "      <th>vehicle_size</th>\n",
              "      <th>vehicle_style</th>\n",
              "      <th>highway_mpg</th>\n",
              "      <th>city_mpg</th>\n",
              "      <th>popularity</th>\n",
              "      <th>msrp</th>\n",
              "    </tr>\n",
              "  </thead>\n",
              "  <tbody>\n",
              "    <tr>\n",
              "      <th>0</th>\n",
              "      <td>bmw</td>\n",
              "      <td>1_series_m</td>\n",
              "      <td>2011</td>\n",
              "      <td>premium_unleaded_(required)</td>\n",
              "      <td>335.0</td>\n",
              "      <td>6.0</td>\n",
              "      <td>manual</td>\n",
              "      <td>rear_wheel_drive</td>\n",
              "      <td>2.0</td>\n",
              "      <td>factory_tuner,luxury,high-performance</td>\n",
              "      <td>compact</td>\n",
              "      <td>coupe</td>\n",
              "      <td>26</td>\n",
              "      <td>19</td>\n",
              "      <td>3916</td>\n",
              "      <td>46135</td>\n",
              "    </tr>\n",
              "    <tr>\n",
              "      <th>1</th>\n",
              "      <td>bmw</td>\n",
              "      <td>1_series</td>\n",
              "      <td>2011</td>\n",
              "      <td>premium_unleaded_(required)</td>\n",
              "      <td>300.0</td>\n",
              "      <td>6.0</td>\n",
              "      <td>manual</td>\n",
              "      <td>rear_wheel_drive</td>\n",
              "      <td>2.0</td>\n",
              "      <td>luxury,performance</td>\n",
              "      <td>compact</td>\n",
              "      <td>convertible</td>\n",
              "      <td>28</td>\n",
              "      <td>19</td>\n",
              "      <td>3916</td>\n",
              "      <td>40650</td>\n",
              "    </tr>\n",
              "    <tr>\n",
              "      <th>2</th>\n",
              "      <td>bmw</td>\n",
              "      <td>1_series</td>\n",
              "      <td>2011</td>\n",
              "      <td>premium_unleaded_(required)</td>\n",
              "      <td>300.0</td>\n",
              "      <td>6.0</td>\n",
              "      <td>manual</td>\n",
              "      <td>rear_wheel_drive</td>\n",
              "      <td>2.0</td>\n",
              "      <td>luxury,high-performance</td>\n",
              "      <td>compact</td>\n",
              "      <td>coupe</td>\n",
              "      <td>28</td>\n",
              "      <td>20</td>\n",
              "      <td>3916</td>\n",
              "      <td>36350</td>\n",
              "    </tr>\n",
              "    <tr>\n",
              "      <th>3</th>\n",
              "      <td>bmw</td>\n",
              "      <td>1_series</td>\n",
              "      <td>2011</td>\n",
              "      <td>premium_unleaded_(required)</td>\n",
              "      <td>230.0</td>\n",
              "      <td>6.0</td>\n",
              "      <td>manual</td>\n",
              "      <td>rear_wheel_drive</td>\n",
              "      <td>2.0</td>\n",
              "      <td>luxury,performance</td>\n",
              "      <td>compact</td>\n",
              "      <td>coupe</td>\n",
              "      <td>28</td>\n",
              "      <td>18</td>\n",
              "      <td>3916</td>\n",
              "      <td>29450</td>\n",
              "    </tr>\n",
              "    <tr>\n",
              "      <th>4</th>\n",
              "      <td>bmw</td>\n",
              "      <td>1_series</td>\n",
              "      <td>2011</td>\n",
              "      <td>premium_unleaded_(required)</td>\n",
              "      <td>230.0</td>\n",
              "      <td>6.0</td>\n",
              "      <td>manual</td>\n",
              "      <td>rear_wheel_drive</td>\n",
              "      <td>2.0</td>\n",
              "      <td>luxury</td>\n",
              "      <td>compact</td>\n",
              "      <td>convertible</td>\n",
              "      <td>28</td>\n",
              "      <td>18</td>\n",
              "      <td>3916</td>\n",
              "      <td>34500</td>\n",
              "    </tr>\n",
              "  </tbody>\n",
              "</table>\n",
              "</div>\n",
              "      <button class=\"colab-df-convert\" onclick=\"convertToInteractive('df-19c83246-9938-4fbf-b35a-c2387113f822')\"\n",
              "              title=\"Convert this dataframe to an interactive table.\"\n",
              "              style=\"display:none;\">\n",
              "        \n",
              "  <svg xmlns=\"http://www.w3.org/2000/svg\" height=\"24px\"viewBox=\"0 0 24 24\"\n",
              "       width=\"24px\">\n",
              "    <path d=\"M0 0h24v24H0V0z\" fill=\"none\"/>\n",
              "    <path d=\"M18.56 5.44l.94 2.06.94-2.06 2.06-.94-2.06-.94-.94-2.06-.94 2.06-2.06.94zm-11 1L8.5 8.5l.94-2.06 2.06-.94-2.06-.94L8.5 2.5l-.94 2.06-2.06.94zm10 10l.94 2.06.94-2.06 2.06-.94-2.06-.94-.94-2.06-.94 2.06-2.06.94z\"/><path d=\"M17.41 7.96l-1.37-1.37c-.4-.4-.92-.59-1.43-.59-.52 0-1.04.2-1.43.59L10.3 9.45l-7.72 7.72c-.78.78-.78 2.05 0 2.83L4 21.41c.39.39.9.59 1.41.59.51 0 1.02-.2 1.41-.59l7.78-7.78 2.81-2.81c.8-.78.8-2.07 0-2.86zM5.41 20L4 18.59l7.72-7.72 1.47 1.35L5.41 20z\"/>\n",
              "  </svg>\n",
              "      </button>\n",
              "      \n",
              "  <style>\n",
              "    .colab-df-container {\n",
              "      display:flex;\n",
              "      flex-wrap:wrap;\n",
              "      gap: 12px;\n",
              "    }\n",
              "\n",
              "    .colab-df-convert {\n",
              "      background-color: #E8F0FE;\n",
              "      border: none;\n",
              "      border-radius: 50%;\n",
              "      cursor: pointer;\n",
              "      display: none;\n",
              "      fill: #1967D2;\n",
              "      height: 32px;\n",
              "      padding: 0 0 0 0;\n",
              "      width: 32px;\n",
              "    }\n",
              "\n",
              "    .colab-df-convert:hover {\n",
              "      background-color: #E2EBFA;\n",
              "      box-shadow: 0px 1px 2px rgba(60, 64, 67, 0.3), 0px 1px 3px 1px rgba(60, 64, 67, 0.15);\n",
              "      fill: #174EA6;\n",
              "    }\n",
              "\n",
              "    [theme=dark] .colab-df-convert {\n",
              "      background-color: #3B4455;\n",
              "      fill: #D2E3FC;\n",
              "    }\n",
              "\n",
              "    [theme=dark] .colab-df-convert:hover {\n",
              "      background-color: #434B5C;\n",
              "      box-shadow: 0px 1px 3px 1px rgba(0, 0, 0, 0.15);\n",
              "      filter: drop-shadow(0px 1px 2px rgba(0, 0, 0, 0.3));\n",
              "      fill: #FFFFFF;\n",
              "    }\n",
              "  </style>\n",
              "\n",
              "      <script>\n",
              "        const buttonEl =\n",
              "          document.querySelector('#df-19c83246-9938-4fbf-b35a-c2387113f822 button.colab-df-convert');\n",
              "        buttonEl.style.display =\n",
              "          google.colab.kernel.accessAllowed ? 'block' : 'none';\n",
              "\n",
              "        async function convertToInteractive(key) {\n",
              "          const element = document.querySelector('#df-19c83246-9938-4fbf-b35a-c2387113f822');\n",
              "          const dataTable =\n",
              "            await google.colab.kernel.invokeFunction('convertToInteractive',\n",
              "                                                     [key], {});\n",
              "          if (!dataTable) return;\n",
              "\n",
              "          const docLinkHtml = 'Like what you see? Visit the ' +\n",
              "            '<a target=\"_blank\" href=https://colab.research.google.com/notebooks/data_table.ipynb>data table notebook</a>'\n",
              "            + ' to learn more about interactive tables.';\n",
              "          element.innerHTML = '';\n",
              "          dataTable['output_type'] = 'display_data';\n",
              "          await google.colab.output.renderOutput(dataTable, element);\n",
              "          const docLink = document.createElement('div');\n",
              "          docLink.innerHTML = docLinkHtml;\n",
              "          element.appendChild(docLink);\n",
              "        }\n",
              "      </script>\n",
              "    </div>\n",
              "  </div>\n",
              "  "
            ]
          },
          "metadata": {},
          "execution_count": 8
        }
      ]
    },
    {
      "cell_type": "markdown",
      "source": [
        "##Exploratory data analysis"
      ],
      "metadata": {
        "id": "PMWbY5TLheNc"
      }
    },
    {
      "cell_type": "markdown",
      "source": [
        "###Target variable analysis"
      ],
      "metadata": {
        "id": "8wNl5J6ljcY2"
      }
    },
    {
      "cell_type": "code",
      "source": [
        "# let's analyze the target variable\n",
        "plt.figure(figsize=(6, 4))\n",
        "\n",
        "sns.histplot(df.msrp, bins=40, color=\"black\", alpha=1)\n",
        "plt.ylabel(\"Frequency\")\n",
        "plt.xlabel(\"Price\")\n",
        "plt.title(\"Distribution of prices\")\n",
        "plt.show()"
      ],
      "metadata": {
        "colab": {
          "base_uri": "https://localhost:8080/",
          "height": 295
        },
        "id": "uZPbhvUvhmcM",
        "outputId": "b7b26cc1-caf2-4f4a-ad97-83b4d429c049"
      },
      "execution_count": 9,
      "outputs": [
        {
          "output_type": "display_data",
          "data": {
            "text/plain": [
              "<Figure size 432x288 with 1 Axes>"
            ],
            "image/png": "[encoded data removed]"
          },
          "metadata": {
            "needs_background": "light"
          }
        }
      ]
    },
    {
      "cell_type": "code",
      "source": [
        "# a closer look by zooming in a bit and looking at values below $100,000\n",
        "plt.figure(figsize=(6, 4))\n",
        "\n",
        "sns.histplot(df.msrp[df.msrp < 100000], bins=40, color=\"black\", alpha=1)\n",
        "plt.ylabel(\"Frequency\")\n",
        "plt.xlabel(\"Price\")\n",
        "plt.title(\"Distribution of prices\")\n",
        "plt.show()"
      ],
      "metadata": {
        "colab": {
          "base_uri": "https://localhost:8080/",
          "height": 295
        },
        "id": "9YF3_sq3j9Vc",
        "outputId": "2f8d041c-d038-479c-b7f4-f8a241f12bd9"
      },
      "execution_count": 10,
      "outputs": [
        {
          "output_type": "display_data",
          "data": {
            "text/plain": [
              "<Figure size 432x288 with 1 Axes>"
            ],
            "image/png": "[encoded data removed]"
          },
          "metadata": {
            "needs_background": "light"
          }
        }
      ]
    },
    {
      "cell_type": "markdown",
      "source": [
        "The long tail makes it quite difficult for us to see the distribution, but it has an even\n",
        "stronger effect on a model: such distribution can greatly confuse the model, so it\n",
        "won’t learn well enough. \n",
        "\n",
        "One way to solve this problem is log transformation. If we\n",
        "apply the log function to the prices, it removes the undesired effect.\n",
        "\n",
        "$$y_{new} = log(y + 1)$$\n",
        "\n",
        "The +1 part is important in cases that have zeros. \n",
        "\n",
        "The logarithm of zero is minus infinity,\n",
        "but the logarithm of one is zero.\n",
        "\n",
        "If our values are all non-negative, by adding 1, we\n",
        "make sure that the transformed values do not go below zero."
      ],
      "metadata": {
        "id": "1vhgkyl1kjUa"
      }
    },
    {
      "cell_type": "code",
      "source": [
        "np.log(1)"
      ],
      "metadata": {
        "colab": {
          "base_uri": "https://localhost:8080/"
        },
        "id": "f5F_6oAmmFhu",
        "outputId": "4235dbf3-f3f8-45b1-f460-43a463ae04a3"
      },
      "execution_count": 11,
      "outputs": [
        {
          "output_type": "execute_result",
          "data": {
            "text/plain": [
              "0.0"
            ]
          },
          "metadata": {},
          "execution_count": 11
        }
      ]
    },
    {
      "cell_type": "code",
      "source": [
        "np.log(0)"
      ],
      "metadata": {
        "colab": {
          "base_uri": "https://localhost:8080/"
        },
        "id": "Wgml9y-DmK6K",
        "outputId": "85ad9491-6a68-4d3c-a432-2fdd2fa8670c"
      },
      "execution_count": 12,
      "outputs": [
        {
          "output_type": "stream",
          "name": "stderr",
          "text": [
            "/usr/local/lib/python3.7/dist-packages/ipykernel_launcher.py:1: RuntimeWarning: divide by zero encountered in log\n",
            "  \"\"\"Entry point for launching an IPython kernel.\n"
          ]
        },
        {
          "output_type": "execute_result",
          "data": {
            "text/plain": [
              "-inf"
            ]
          },
          "metadata": {},
          "execution_count": 12
        }
      ]
    },
    {
      "cell_type": "code",
      "source": [
        "log_price = np.log1p(df.msrp)\n",
        "\n",
        "plt.figure(figsize=(6, 4))\n",
        "\n",
        "sns.histplot(log_price, bins=40, color=\"black\", alpha=1)\n",
        "plt.ylabel(\"Frequency\")\n",
        "plt.xlabel(\"Log(Price + 1)\")\n",
        "plt.title(\"Distribution of prices after log tranformation\")\n",
        "plt.show()"
      ],
      "metadata": {
        "colab": {
          "base_uri": "https://localhost:8080/",
          "height": 295
        },
        "id": "RqOnB-wYmehf",
        "outputId": "6e907f1d-21d5-4347-a711-3cd40f1ebed7"
      },
      "execution_count": 13,
      "outputs": [
        {
          "output_type": "display_data",
          "data": {
            "text/plain": [
              "<Figure size 432x288 with 1 Axes>"
            ],
            "image/png": "[encoded data removed]"
          },
          "metadata": {
            "needs_background": "light"
          }
        }
      ]
    },
    {
      "cell_type": "markdown",
      "source": [
        "As we see, this transformation removes the long tail, and now the distribution resembles\n",
        "a bell-shaped curve. \n",
        "\n",
        "This distribution is not normal, of course, because of the\n",
        "large peak in lower prices, but the model can deal with it more easily."
      ],
      "metadata": {
        "id": "SY3MLvFQnEyb"
      }
    },
    {
      "cell_type": "markdown",
      "source": [
        "###Checking for missing values"
      ],
      "metadata": {
        "id": "akVAUyb_jW3t"
      }
    },
    {
      "cell_type": "code",
      "source": [
        "df.isnull().sum()"
      ],
      "metadata": {
        "id": "nbZbJTMsjXuO",
        "outputId": "8fb77cd7-07bb-4005-e321-436b30357a8b",
        "colab": {
          "base_uri": "https://localhost:8080/"
        }
      },
      "execution_count": 14,
      "outputs": [
        {
          "output_type": "execute_result",
          "data": {
            "text/plain": [
              "make                    0\n",
              "model                   0\n",
              "year                    0\n",
              "engine_fuel_type        3\n",
              "engine_hp              69\n",
              "engine_cylinders       30\n",
              "transmission_type       0\n",
              "driven_wheels           0\n",
              "number_of_doors         6\n",
              "market_category      3742\n",
              "vehicle_size            0\n",
              "vehicle_style           0\n",
              "highway_mpg             0\n",
              "city_mpg                0\n",
              "popularity              0\n",
              "msrp                    0\n",
              "dtype: int64"
            ]
          },
          "metadata": {},
          "execution_count": 14
        }
      ]
    },
    {
      "cell_type": "markdown",
      "source": [
        "###Splitting Dataset"
      ],
      "metadata": {
        "id": "L4ExMsFqg4Ib"
      }
    },
    {
      "cell_type": "code",
      "source": [
        "# Splitting Data into validation, test, and training sets\n",
        "np.random.seed(2)\n",
        "\n",
        "n = len(df)\n",
        "\n",
        "# Calculates how many rows should go to train, validation, and test\n",
        "n_val = int(.2 * n)\n",
        "n_test = int(.2 * n)\n",
        "n_train = n - (n_val + n_test)\n",
        "\n",
        "idx = np.arange(n)\n",
        "np.random.shuffle(idx)\n",
        "\n",
        "df_shuffled = df.iloc[idx]\n",
        "\n",
        "# Splits the shuffled DataFrame into train, validation, and test\n",
        "df_train = df_shuffled.iloc[: n_train].copy()\n",
        "df_val = df_shuffled.iloc[n_train: n_train + n_val].copy()\n",
        "df_test = df_shuffled.iloc[n_train + n_val: ].copy()"
      ],
      "metadata": {
        "id": "NnwWWHOsg5Ue"
      },
      "execution_count": 15,
      "outputs": []
    },
    {
      "cell_type": "code",
      "source": [
        "# let's take a smaller array of five elements and shuffle it\n",
        "idx = np.arange(5)\n",
        "print(f\"before shuffle {idx}\")\n",
        "np.random.shuffle(idx)\n",
        "print(f\"after shuffle {idx}\")"
      ],
      "metadata": {
        "id": "0sA_lgG3iMFb",
        "outputId": "87912f92-f2a9-4242-be42-834e112ffa91",
        "colab": {
          "base_uri": "https://localhost:8080/"
        }
      },
      "execution_count": 16,
      "outputs": [
        {
          "output_type": "stream",
          "name": "stdout",
          "text": [
            "before shuffle [0 1 2 3 4]\n",
            "after shuffle [1 2 0 4 3]\n"
          ]
        }
      ]
    },
    {
      "cell_type": "code",
      "source": [
        "np.random.seed(2)\n",
        "idx = np.arange(5)\n",
        "print(f\"before shuffle {idx}\")\n",
        "np.random.shuffle(idx)\n",
        "print(f\"after shuffle {idx}\")"
      ],
      "metadata": {
        "id": "mfzeXJeHi-KC",
        "outputId": "d1531d8f-cc2d-441f-f5a9-99d1cd411a40",
        "colab": {
          "base_uri": "https://localhost:8080/"
        }
      },
      "execution_count": 17,
      "outputs": [
        {
          "output_type": "stream",
          "name": "stdout",
          "text": [
            "before shuffle [0 1 2 3 4]\n",
            "after shuffle [2 4 1 3 0]\n"
          ]
        }
      ]
    },
    {
      "cell_type": "code",
      "source": [
        "# let's apply the log transformation to target variable\n",
        "y_train_orig = df_train.msrp.values\n",
        "y_val_orig  = df_val.msrp.values\n",
        "y_test_orig = df_test.msrp.values\n",
        "\n",
        "y_train = np.log1p(df_train.msrp.values)\n",
        "y_val = np.log1p(df_val.msrp.values)\n",
        "y_test = np.log1p(df_test.msrp.values)\n",
        "\n",
        "del df_train[\"msrp\"]\n",
        "del df_val[\"msrp\"]\n",
        "del df_test[\"msrp\"]"
      ],
      "metadata": {
        "id": "-F9NBHy-lMeR"
      },
      "execution_count": 18,
      "outputs": []
    },
    {
      "cell_type": "markdown",
      "source": [
        "##Linear Regression"
      ],
      "metadata": {
        "id": "QfcPPXO2mBoH"
      }
    },
    {
      "cell_type": "markdown",
      "source": [
        "Let's implement the normal equation.\n",
        "\n",
        "$$\n",
        "w = (X^TX)^{-1} X^T y\n",
        "$$"
      ],
      "metadata": {
        "id": "tRN_TlcX_XdH"
      }
    },
    {
      "cell_type": "code",
      "source": [
        "def train_linear_regression(X, y):\n",
        "  # adding dummy feature into X\n",
        "  ones = np.ones(X.shape[0])\n",
        "  X = np.column_stack([ones, X])\n",
        "\n",
        "  XTX = X.T.dot(X)\n",
        "  XTX_inv = np.linalg.inv(XTX)\n",
        "  w = XTX_inv.dot(X.T).dot(y)\n",
        "  # Splits the weights vector into the bias and the rest of the weights\n",
        "  return w[0], w[1:]"
      ],
      "metadata": {
        "id": "fI51XNK1mFK9"
      },
      "execution_count": 19,
      "outputs": []
    },
    {
      "cell_type": "markdown",
      "source": [
        "###Baseline solution"
      ],
      "metadata": {
        "id": "ZrUZ3VNwAFR8"
      }
    },
    {
      "cell_type": "code",
      "source": [
        "# Let’s select the numerical features from the data frame\n",
        "features_base = [\"engine_hp\", \"engine_cylinders\", \"highway_mpg\", \"city_mpg\", \"popularity\"]"
      ],
      "metadata": {
        "id": "xeaMjJozAGci"
      },
      "execution_count": 20,
      "outputs": []
    },
    {
      "cell_type": "code",
      "source": [
        "def prepare_data_set(df):\n",
        "  df_num = df[features_base]  # selecting numerical features\n",
        "  df_num = df_num.fillna(0)   # filling the missing values with zero\n",
        "  X = df_num.values           # converting the DataFrame to a NumPy array\n",
        "  return X\n",
        "\n",
        "x_train = prepare_data_set(df_train)"
      ],
      "metadata": {
        "id": "1Pa0YybCHfX2"
      },
      "execution_count": 21,
      "outputs": []
    },
    {
      "cell_type": "code",
      "source": [
        "# let's train the model\n",
        "w_0, w = train_linear_regression(x_train, y_train)"
      ],
      "metadata": {
        "id": "CcCb8ImmIb32"
      },
      "execution_count": 22,
      "outputs": []
    },
    {
      "cell_type": "code",
      "source": [
        "# let's see how well it predicts\n",
        "y_pred = w_0 + x_train.dot(w)"
      ],
      "metadata": {
        "id": "6Tau9nlzJL2V"
      },
      "execution_count": 23,
      "outputs": []
    },
    {
      "cell_type": "code",
      "source": [
        "# let's plot the actual and predicted distribution\n",
        "plt.figure(figsize=(6, 4))\n",
        "\n",
        "sns.histplot(y_train, label=\"target\", color=\"red\", alpha=0.6, bins=40)\n",
        "sns.histplot(y_pred, label=\"prediction\", color=\"green\", alpha=0.8, bins=40)\n",
        "\n",
        "plt.legend()\n",
        "plt.xlabel(\"Log(Price + 1)\")\n",
        "plt.ylabel(\"Frequency\")\n",
        "plt.title(\"Predictions vs actual distribution\")\n",
        "plt.show()"
      ],
      "metadata": {
        "id": "D3kz4RXgJgpQ",
        "outputId": "f428ebb4-631d-4dd3-f685-0e0ba44d6626",
        "colab": {
          "base_uri": "https://localhost:8080/",
          "height": 295
        }
      },
      "execution_count": 24,
      "outputs": [
        {
          "output_type": "display_data",
          "data": {
            "text/plain": [
              "<Figure size 432x288 with 1 Axes>"
            ],
            "image/png": "[encoded data removed]"
          },
          "metadata": {
            "needs_background": "light"
          }
        }
      ]
    },
    {
      "cell_type": "markdown",
      "source": [
        "As we can see that the distribution of values we predicted\n",
        "looks quite different from the actual values. \n",
        "\n",
        "This result may indicate that the model is\n",
        "not powerful enough to capture the distribution of the target variable. \n",
        "\n",
        "This shouldn’t be a surprise to us: the model we used is quite basic and includes only five very simple features."
      ],
      "metadata": {
        "id": "CXfCD3gmLS1l"
      }
    },
    {
      "cell_type": "markdown",
      "source": [
        "###Evaluating the model"
      ],
      "metadata": {
        "id": "0OokgeXMLZ67"
      }
    },
    {
      "cell_type": "code",
      "source": [
        "# let's define root mean squared error\n",
        "def rmse(y, y_pred):\n",
        "  error = y_pred - y\n",
        "  mse = (error ** 2).mean()\n",
        "  return np.sqrt(mse)"
      ],
      "metadata": {
        "id": "-aYZOT55Ld2I"
      },
      "execution_count": 25,
      "outputs": []
    },
    {
      "cell_type": "code",
      "source": [
        "# let's evaluate the quality of the model\n",
        "rmse(y_train, y_pred)"
      ],
      "metadata": {
        "id": "NPV2vHSPKhmX",
        "outputId": "473e962f-e402-4f0c-ec53-790c46986686",
        "colab": {
          "base_uri": "https://localhost:8080/"
        }
      },
      "execution_count": 26,
      "outputs": [
        {
          "output_type": "execute_result",
          "data": {
            "text/plain": [
              "0.7554192603920132"
            ]
          },
          "metadata": {},
          "execution_count": 26
        }
      ]
    },
    {
      "cell_type": "markdown",
      "source": [
        "###Validating the model"
      ],
      "metadata": {
        "id": "LDFvFLCTOwtu"
      }
    },
    {
      "cell_type": "code",
      "source": [
        "# let's apply the model to the validation dataset\n",
        "x_val = prepare_data_set(df_val)\n",
        "y_pred = w_0 + x_val.dot(w)\n",
        "\n",
        "# Let's computes RMSE on the validation data\n",
        "print(f\"validation: {str(rmse(y_val, y_pred))}\")"
      ],
      "metadata": {
        "id": "7WEVQipEOx27",
        "outputId": "70a7a80f-9f4d-46c8-9f11-7c5138fa6da4",
        "colab": {
          "base_uri": "https://localhost:8080/"
        }
      },
      "execution_count": 27,
      "outputs": [
        {
          "output_type": "stream",
          "name": "stdout",
          "text": [
            "validation: 0.761653099130156\n"
          ]
        }
      ]
    },
    {
      "cell_type": "markdown",
      "source": [
        "This gives us a way to check whether any model adjustments lead to improvements in\n",
        "the predictive quality of the model."
      ],
      "metadata": {
        "id": "3FQK9iC4Zs-u"
      }
    },
    {
      "cell_type": "markdown",
      "source": [
        "##Feature engineering"
      ],
      "metadata": {
        "id": "AJ8VubgiZtri"
      }
    },
    {
      "cell_type": "code",
      "source": [
        "def prepare_data_set(df):\n",
        "  df = df.copy()\n",
        "  features = features_base.copy()\n",
        "\n",
        "  # Computes the age feature\n",
        "  df[\"age\"] = 2017 - df.year\n",
        "  features.append(\"age\")\n",
        "\n",
        "  df_num = df[features]       # selecting features\n",
        "  df_num = df_num.fillna(0)   # filling the missing values with zero\n",
        "  X = df_num.values           # converting the DataFrame to a NumPy array\n",
        "  return X"
      ],
      "metadata": {
        "id": "7a_7dES1Hnsy"
      },
      "execution_count": 28,
      "outputs": []
    },
    {
      "cell_type": "code",
      "source": [
        "# Let’s test if adding the feature “age” leads to any improvements\n",
        "x_train = prepare_data_set(df_train)\n",
        "w_0, w = train_linear_regression(x_train, y_train)\n",
        "\n",
        "y_pred = w_0 + x_train.dot(w)\n",
        "print(f\"train: {rmse(y_train, y_pred)}\")\n",
        "\n",
        "x_val = prepare_data_set(df_val)\n",
        "y_pred = w_0 + x_val.dot(w)\n",
        "print(f\"validation: {rmse(y_val, y_pred)}\")"
      ],
      "metadata": {
        "id": "Go8X6LIdIUsK",
        "outputId": "0f09a281-5e07-4838-b4f4-56345f9ff207",
        "colab": {
          "base_uri": "https://localhost:8080/"
        }
      },
      "execution_count": 29,
      "outputs": [
        {
          "output_type": "stream",
          "name": "stdout",
          "text": [
            "train: 0.5175055465840046\n",
            "validation: 0.5172055461058299\n"
          ]
        }
      ]
    },
    {
      "cell_type": "markdown",
      "source": [
        "The validation error is 0.517, which is a good improvement from 0.76 — the value we\n",
        "had in the baseline solution. \n",
        "\n",
        "Thus, we conclude that adding “age” is indeed helpful\n",
        "when making predictions."
      ],
      "metadata": {
        "id": "jxoDgNwGJ4Oe"
      }
    },
    {
      "cell_type": "code",
      "source": [
        "# We can also look at the distribution of the predicted values\n",
        "plt.figure(figsize=(6, 4))\n",
        "\n",
        "sns.histplot(y_val, label=\"target\", color=\"red\", alpha=0.6, bins=40)\n",
        "sns.histplot(y_pred, label=\"prediction\", color=\"green\", alpha=0.8, bins=40)\n",
        "\n",
        "plt.legend()\n",
        "plt.xlabel(\"Log(Price + 1)\")\n",
        "plt.ylabel(\"Frequency\")\n",
        "plt.title(\"Predictions vs actual distribution\")\n",
        "plt.show()"
      ],
      "metadata": {
        "id": "WgPyacYfJh8w",
        "outputId": "f9cdccaf-397d-4894-8178-9cf3c094b46f",
        "colab": {
          "base_uri": "https://localhost:8080/",
          "height": 295
        }
      },
      "execution_count": 30,
      "outputs": [
        {
          "output_type": "display_data",
          "data": {
            "text/plain": [
              "<Figure size 432x288 with 1 Axes>"
            ],
            "image/png": "[encoded data removed]"
          },
          "metadata": {
            "needs_background": "light"
          }
        }
      ]
    },
    {
      "cell_type": "markdown",
      "source": [
        "We see that the distribution of the predictions follows the target distribution\n",
        "a lot more closely than previously. \n",
        "\n",
        "Indeed, the validation RMSE score confirms it."
      ],
      "metadata": {
        "id": "P1oLCQ5-aPgj"
      }
    },
    {
      "cell_type": "markdown",
      "source": [
        "###Handling categorical variables"
      ],
      "metadata": {
        "id": "vXNCIW6AKJEu"
      }
    },
    {
      "cell_type": "code",
      "source": [
        "# Let’s find out what the five most frequent make values are\n",
        "df[\"make\"].value_counts().head(5)"
      ],
      "metadata": {
        "id": "guJI41NyKKKh",
        "colab": {
          "base_uri": "https://localhost:8080/"
        },
        "outputId": "27b21fbf-db97-4f7e-e12c-eea00c86961d"
      },
      "execution_count": 31,
      "outputs": [
        {
          "output_type": "execute_result",
          "data": {
            "text/plain": [
              "chevrolet     1123\n",
              "ford           881\n",
              "volkswagen     809\n",
              "toyota         746\n",
              "dodge          626\n",
              "Name: make, dtype: int64"
            ]
          },
          "metadata": {},
          "execution_count": 31
        }
      ]
    },
    {
      "cell_type": "code",
      "source": [
        "# Handling categorical variables number of doors and make\n",
        "def prepare_data_set(df):\n",
        "  df = df.copy()\n",
        "  features = features_base.copy()\n",
        "\n",
        "  # Computes the age feature\n",
        "  df[\"age\"] = 2017 - df.year\n",
        "  features.append(\"age\")\n",
        "\n",
        "  # Encodes the number of doors variable\n",
        "  for v in [2, 3, 4]:\n",
        "    feature = f\"num_doors_{v}\"\n",
        "    df[feature] = (df[\"number_of_doors\"] == v).astype(int)\n",
        "    features.append(feature)\n",
        "  \n",
        "  # Encodes the make variable\n",
        "  for v in [\"chevrolet\", \"ford\", \"volkswagen\", \"toyota\", \"dodge\"]:\n",
        "    feature = f\"is_make_{v}\"\n",
        "    df[feature] = (df[\"make\"] == v).astype(int)\n",
        "    features.append(feature)\n",
        "\n",
        "  df_num = df[features]       # selecting features\n",
        "  df_num = df_num.fillna(0)   # filling the missing values with zero\n",
        "  X = df_num.values           # converting the DataFrame to a NumPy array\n",
        "  return X"
      ],
      "metadata": {
        "id": "zwHqtMCaRH0A"
      },
      "execution_count": 32,
      "outputs": []
    },
    {
      "cell_type": "code",
      "source": [
        "# Let’s check whether this improves the RMSE of the model\n",
        "x_train = prepare_data_set(df_train)\n",
        "w_0, w = train_linear_regression(x_train, y_train)\n",
        "\n",
        "y_pred = w_0 + x_train.dot(w)\n",
        "print(f\"train: {rmse(y_train, y_pred)}\")\n",
        "\n",
        "x_val = prepare_data_set(df_val)\n",
        "y_pred = w_0 + x_val.dot(w)\n",
        "print(f\"validation: {rmse(y_val, y_pred)}\")"
      ],
      "metadata": {
        "colab": {
          "base_uri": "https://localhost:8080/"
        },
        "id": "xoPR6wvSSQED",
        "outputId": "22991348-f012-47b6-99c5-62f35468a3e3"
      },
      "execution_count": 33,
      "outputs": [
        {
          "output_type": "stream",
          "name": "stdout",
          "text": [
            "train: 0.5058876515487503\n",
            "validation: 0.5076038849556795\n"
          ]
        }
      ]
    },
    {
      "cell_type": "markdown",
      "source": [
        "The previous value was 0.517, so we managed to improve the RMSE score further."
      ],
      "metadata": {
        "id": "FrBOAwQNS6lT"
      }
    },
    {
      "cell_type": "code",
      "source": [
        "# We can also look at the distribution of the predicted values\n",
        "plt.figure(figsize=(6, 4))\n",
        "\n",
        "sns.histplot(y_val, label=\"target\", color=\"red\", alpha=0.6, bins=40)\n",
        "sns.histplot(y_pred, label=\"prediction\", color=\"green\", alpha=0.8, bins=40)\n",
        "\n",
        "plt.legend()\n",
        "plt.xlabel(\"Log(Price + 1)\")\n",
        "plt.ylabel(\"Frequency\")\n",
        "plt.title(\"Predictions vs actual distribution\")\n",
        "plt.show()"
      ],
      "metadata": {
        "colab": {
          "base_uri": "https://localhost:8080/",
          "height": 295
        },
        "id": "nmCkNOpWS6sp",
        "outputId": "67bf4d4c-df90-4b8a-d036-4b6542a5eda3"
      },
      "execution_count": 34,
      "outputs": [
        {
          "output_type": "display_data",
          "data": {
            "text/plain": [
              "<Figure size 432x288 with 1 Axes>"
            ],
            "image/png": "[encoded data removed]"
          },
          "metadata": {
            "needs_background": "light"
          }
        }
      ]
    },
    {
      "cell_type": "markdown",
      "source": [
        "Let's do the same for `engine_fuel_type` variable."
      ],
      "metadata": {
        "id": "ehZXSPakTTTp"
      }
    },
    {
      "cell_type": "code",
      "source": [
        "df[\"engine_fuel_type\"].value_counts()"
      ],
      "metadata": {
        "colab": {
          "base_uri": "https://localhost:8080/"
        },
        "id": "x1z184t-TWl3",
        "outputId": "860dab70-2d44-40f7-bbd5-9440b120ca97"
      },
      "execution_count": 35,
      "outputs": [
        {
          "output_type": "execute_result",
          "data": {
            "text/plain": [
              "regular_unleaded                                7172\n",
              "premium_unleaded_(required)                     2009\n",
              "premium_unleaded_(recommended)                  1523\n",
              "flex-fuel_(unleaded/e85)                         899\n",
              "diesel                                           154\n",
              "electric                                          66\n",
              "flex-fuel_(premium_unleaded_required/e85)         54\n",
              "flex-fuel_(premium_unleaded_recommended/e85)      26\n",
              "flex-fuel_(unleaded/natural_gas)                   6\n",
              "natural_gas                                        2\n",
              "Name: engine_fuel_type, dtype: int64"
            ]
          },
          "metadata": {},
          "execution_count": 35
        }
      ]
    },
    {
      "cell_type": "code",
      "source": [
        "def prepare_data_set(df):\n",
        "  df = df.copy()\n",
        "  features = features_base.copy()\n",
        "\n",
        "  # Computes the age feature\n",
        "  df[\"age\"] = 2017 - df.year\n",
        "  features.append(\"age\")\n",
        "\n",
        "  # Encodes the number of doors variable\n",
        "  for v in [2, 3, 4]:\n",
        "    feature = f\"num_doors_{v}\"\n",
        "    df[feature] = (df[\"number_of_doors\"] == v).astype(int)\n",
        "    features.append(feature)\n",
        "  \n",
        "  # Encodes the make variable\n",
        "  for v in [\"chevrolet\", \"ford\", \"volkswagen\", \"toyota\", \"dodge\"]:\n",
        "    feature = f\"is_make_{v}\"\n",
        "    df[feature] = (df[\"make\"] == v).astype(int)\n",
        "    features.append(feature)\n",
        "\n",
        "  # Encodes the engine_fuel_type variable\n",
        "  for v in [\"regular_unleaded\", \"premium_unleaded_(required)\", \"premium_unleaded_(recommended)\", \"flex-fuel_(unleaded/e85)\"]:\n",
        "    feature = f\"is_type_{v}\"\n",
        "    df[feature] = (df[\"engine_fuel_type\"] == v).astype(int)\n",
        "    features.append(feature)\n",
        "\n",
        "  df_num = df[features]       # selecting features\n",
        "  df_num = df_num.fillna(0)   # filling the missing values with zero\n",
        "  X = df_num.values           # converting the DataFrame to a NumPy array\n",
        "  return X\n",
        "\n",
        "# Let’s check whether this improves the RMSE of the model\n",
        "x_train = prepare_data_set(df_train)\n",
        "w_0, w = train_linear_regression(x_train, y_train)\n",
        "\n",
        "y_pred = w_0 + x_train.dot(w)\n",
        "print(f\"train: {rmse(y_train, y_pred)}\")\n",
        "\n",
        "x_val = prepare_data_set(df_val)\n",
        "y_pred = w_0 + x_val.dot(w)\n",
        "print(f\"validation: {rmse(y_val, y_pred)}\")"
      ],
      "metadata": {
        "colab": {
          "base_uri": "https://localhost:8080/"
        },
        "id": "kdotp5M9TguO",
        "outputId": "cefc5dd5-49c5-4332-cb59-1cf6d25ccaae"
      },
      "execution_count": 36,
      "outputs": [
        {
          "output_type": "stream",
          "name": "stdout",
          "text": [
            "train: 0.4788482615078598\n",
            "validation: 0.4748256737223095\n"
          ]
        }
      ]
    },
    {
      "cell_type": "markdown",
      "source": [
        "The previous value was 0.50, so we managed to improve the RMSE score further."
      ],
      "metadata": {
        "id": "zvvzIfZKUTGY"
      }
    },
    {
      "cell_type": "code",
      "source": [
        "# We can also look at the distribution of the predicted values\n",
        "plt.figure(figsize=(6, 4))\n",
        "\n",
        "sns.histplot(y_val, label=\"target\", color=\"red\", alpha=0.6, bins=40)\n",
        "sns.histplot(y_pred, label=\"prediction\", color=\"green\", alpha=0.8, bins=40)\n",
        "\n",
        "plt.legend()\n",
        "plt.xlabel(\"Log(Price + 1)\")\n",
        "plt.ylabel(\"Frequency\")\n",
        "plt.title(\"Predictions vs actual distribution\")\n",
        "plt.show()"
      ],
      "metadata": {
        "colab": {
          "base_uri": "https://localhost:8080/",
          "height": 295
        },
        "id": "rME0GDOnTrH3",
        "outputId": "72492427-ef2b-40eb-fb11-2138d9381fe3"
      },
      "execution_count": 37,
      "outputs": [
        {
          "output_type": "display_data",
          "data": {
            "text/plain": [
              "<Figure size 432x288 with 1 Axes>"
            ],
            "image/png": "[encoded data removed]"
          },
          "metadata": {
            "needs_background": "light"
          }
        }
      ]
    },
    {
      "cell_type": "markdown",
      "source": [
        "Let's do the same for `transmission_type` variable."
      ],
      "metadata": {
        "id": "V5N1ZuJZVHCe"
      }
    },
    {
      "cell_type": "code",
      "source": [
        "df[\"transmission_type\"].value_counts()"
      ],
      "metadata": {
        "colab": {
          "base_uri": "https://localhost:8080/"
        },
        "id": "NjIzO-rcVJWa",
        "outputId": "fd74d999-9a80-43d8-d41b-ae17463bfb8e"
      },
      "execution_count": 38,
      "outputs": [
        {
          "output_type": "execute_result",
          "data": {
            "text/plain": [
              "automatic           8266\n",
              "manual              2935\n",
              "automated_manual     626\n",
              "direct_drive          68\n",
              "unknown               19\n",
              "Name: transmission_type, dtype: int64"
            ]
          },
          "metadata": {},
          "execution_count": 38
        }
      ]
    },
    {
      "cell_type": "code",
      "source": [
        "def prepare_data_set(df):\n",
        "  df = df.copy()\n",
        "  features = features_base.copy()\n",
        "\n",
        "  # Computes the age feature\n",
        "  df[\"age\"] = 2017 - df.year\n",
        "  features.append(\"age\")\n",
        "\n",
        "  # Encodes the number of doors variable\n",
        "  for v in [2, 3, 4]:\n",
        "    feature = f\"num_doors_{v}\"\n",
        "    df[feature] = (df[\"number_of_doors\"] == v).astype(int)\n",
        "    features.append(feature)\n",
        "  \n",
        "  # Encodes the make variable\n",
        "  for v in [\"chevrolet\", \"ford\", \"volkswagen\", \"toyota\", \"dodge\"]:\n",
        "    feature = f\"is_make_{v}\"\n",
        "    df[feature] = (df[\"make\"] == v).astype(int)\n",
        "    features.append(feature)\n",
        "\n",
        "  # Encodes the engine_fuel_type variable\n",
        "  for v in [\"regular_unleaded\", \"premium_unleaded_(required)\", \"premium_unleaded_(recommended)\", \"flex-fuel_(unleaded/e85)\"]:\n",
        "    feature = f\"is_type_{v}\"\n",
        "    df[feature] = (df[\"engine_fuel_type\"] == v).astype(int)\n",
        "    features.append(feature)\n",
        "\n",
        "  # Encodes the transmission_type variable\n",
        "  for v in [\"automatic\", \"manual\", \"automated_manual\"]:\n",
        "    feature = f\"is_transmission_{v}\"\n",
        "    df[feature] = (df[\"transmission_type\"] == v).astype(int)\n",
        "    features.append(feature)\n",
        "\n",
        "  df_num = df[features]       # selecting features\n",
        "  df_num = df_num.fillna(0)   # filling the missing values with zero\n",
        "  X = df_num.values           # converting the DataFrame to a NumPy array\n",
        "  return X\n",
        "\n",
        "# Let’s check whether this improves the RMSE of the model\n",
        "x_train = prepare_data_set(df_train)\n",
        "w_0, w = train_linear_regression(x_train, y_train)\n",
        "\n",
        "y_pred = w_0 + x_train.dot(w)\n",
        "print(f\"train: {rmse(y_train, y_pred)}\")\n",
        "\n",
        "x_val = prepare_data_set(df_val)\n",
        "y_pred = w_0 + x_val.dot(w)\n",
        "print(f\"validation: {rmse(y_val, y_pred)}\")"
      ],
      "metadata": {
        "colab": {
          "base_uri": "https://localhost:8080/"
        },
        "id": "wmsaYsxPVQD7",
        "outputId": "ac763552-2065-43e5-87f6-bf7e69868b63"
      },
      "execution_count": 39,
      "outputs": [
        {
          "output_type": "stream",
          "name": "stdout",
          "text": [
            "train: 0.4745380510924003\n",
            "validation: 0.4685879194658534\n"
          ]
        }
      ]
    },
    {
      "cell_type": "markdown",
      "source": [
        "The previous value was 0.47, so this time, the RMSE score is not improved further.\n",
        "\n",
        "Let's do the same for `driven_wheels, market_category, vehicle_size, and vehicle_style` variable."
      ],
      "metadata": {
        "id": "sUZ8nGQAVqbV"
      }
    },
    {
      "cell_type": "code",
      "source": [
        "df[\"driven_wheels\"].value_counts()"
      ],
      "metadata": {
        "colab": {
          "base_uri": "https://localhost:8080/"
        },
        "id": "85ebF2bKV9YT",
        "outputId": "25b5bb26-189d-4c59-e8cf-63095b99f167"
      },
      "execution_count": 40,
      "outputs": [
        {
          "output_type": "execute_result",
          "data": {
            "text/plain": [
              "front_wheel_drive    4787\n",
              "rear_wheel_drive     3371\n",
              "all_wheel_drive      2353\n",
              "four_wheel_drive     1403\n",
              "Name: driven_wheels, dtype: int64"
            ]
          },
          "metadata": {},
          "execution_count": 40
        }
      ]
    },
    {
      "cell_type": "code",
      "source": [
        "df[\"market_category\"].value_counts()"
      ],
      "metadata": {
        "colab": {
          "base_uri": "https://localhost:8080/"
        },
        "id": "S6Jco_7-WXKf",
        "outputId": "b8b34a9a-12e9-4b4e-eba3-8be1a2489a63"
      },
      "execution_count": 41,
      "outputs": [
        {
          "output_type": "execute_result",
          "data": {
            "text/plain": [
              "crossover                                          1110\n",
              "flex_fuel                                           872\n",
              "luxury                                              855\n",
              "luxury,performance                                  673\n",
              "hatchback                                           641\n",
              "                                                   ... \n",
              "crossover,exotic,luxury,performance                   1\n",
              "exotic,luxury,high-performance,hybrid                 1\n",
              "crossover,exotic,luxury,high-performance              1\n",
              "flex_fuel,factory_tuner,luxury,high-performance       1\n",
              "performance,hybrid                                    1\n",
              "Name: market_category, Length: 71, dtype: int64"
            ]
          },
          "metadata": {},
          "execution_count": 41
        }
      ]
    },
    {
      "cell_type": "code",
      "source": [
        "df[\"vehicle_size\"].value_counts()"
      ],
      "metadata": {
        "colab": {
          "base_uri": "https://localhost:8080/"
        },
        "id": "t362rwsOWZiS",
        "outputId": "ce106463-c834-4fff-c227-c8931acae4a6"
      },
      "execution_count": 42,
      "outputs": [
        {
          "output_type": "execute_result",
          "data": {
            "text/plain": [
              "compact    4764\n",
              "midsize    4373\n",
              "large      2777\n",
              "Name: vehicle_size, dtype: int64"
            ]
          },
          "metadata": {},
          "execution_count": 42
        }
      ]
    },
    {
      "cell_type": "code",
      "source": [
        "df[\"vehicle_style\"].value_counts()"
      ],
      "metadata": {
        "colab": {
          "base_uri": "https://localhost:8080/"
        },
        "id": "NwRhoMSEWZ9U",
        "outputId": "900335a3-bf0b-4a28-edce-9fe07f141d85"
      },
      "execution_count": 43,
      "outputs": [
        {
          "output_type": "execute_result",
          "data": {
            "text/plain": [
              "sedan                  3048\n",
              "4dr_suv                2488\n",
              "coupe                  1211\n",
              "convertible             793\n",
              "4dr_hatchback           702\n",
              "crew_cab_pickup         681\n",
              "extended_cab_pickup     623\n",
              "wagon                   592\n",
              "2dr_hatchback           506\n",
              "passenger_minivan       417\n",
              "regular_cab_pickup      392\n",
              "2dr_suv                 138\n",
              "passenger_van           128\n",
              "cargo_van                95\n",
              "cargo_minivan            71\n",
              "convertible_suv          29\n",
              "Name: vehicle_style, dtype: int64"
            ]
          },
          "metadata": {},
          "execution_count": 43
        }
      ]
    },
    {
      "cell_type": "code",
      "source": [
        "def prepare_data_set(df):\n",
        "  df = df.copy()\n",
        "  features = features_base.copy()\n",
        "\n",
        "  # Computes the age feature\n",
        "  df[\"age\"] = 2017 - df.year\n",
        "  features.append(\"age\")\n",
        "\n",
        "  # Encodes the number of doors variable\n",
        "  for v in [2, 3, 4]:\n",
        "    feature = f\"num_doors_{v}\"\n",
        "    df[feature] = (df[\"number_of_doors\"] == v).astype(int)\n",
        "    features.append(feature)\n",
        "  \n",
        "  # Encodes the make variable\n",
        "  for v in [\"chevrolet\", \"ford\", \"volkswagen\", \"toyota\", \"dodge\"]:\n",
        "    feature = f\"is_make_{v}\"\n",
        "    df[feature] = (df[\"make\"] == v).astype(int)\n",
        "    features.append(feature)\n",
        "\n",
        "  # Encodes the engine_fuel_type variable\n",
        "  for v in [\"regular_unleaded\", \"premium_unleaded_(required)\", \"premium_unleaded_(recommended)\", \"flex-fuel_(unleaded/e85)\"]:\n",
        "    feature = f\"is_type_{v}\"\n",
        "    df[feature] = (df[\"engine_fuel_type\"] == v).astype(int)\n",
        "    features.append(feature)\n",
        "\n",
        "  # Encodes the transmission_type variable\n",
        "  for v in [\"automatic\", \"manual\", \"automated_manual\"]:\n",
        "    feature = f\"is_transmission_{v}\"\n",
        "    df[feature] = (df[\"transmission_type\"] == v).astype(int)\n",
        "    features.append(feature)\n",
        "  \n",
        "  # Encodes the driven_wheels variable\n",
        "  for v in [\"front_wheel_drive\", \"rear_wheel_drive\", \"all_wheel_drive\", \"four_wheel_drive\"]:\n",
        "    feature = f\"is_driven_wheens_{v}\"\n",
        "    df[feature] = (df[\"driven_wheels\"] == v).astype(int)\n",
        "    features.append(feature)\n",
        "\n",
        "  # Encodes the market_category variable\n",
        "  for v in [\"crossover\", \"flex_fuel\", \"luxury\", \"luxury,performance\", \"hatchback\"]:\n",
        "    feature = f\"is_mc_{v}\"\n",
        "    df[feature] = (df[\"market_category\"] == v).astype(int)\n",
        "    features.append(feature)\n",
        "\n",
        "  # Encodes the vehicle_size variable\n",
        "  for v in [\"compact\", \"midsize\", \"large\"]:\n",
        "    feature = f\"is_size_{v}\"\n",
        "    df[feature] = (df[\"vehicle_size\"] == v).astype(int)\n",
        "    features.append(feature)\n",
        "\n",
        "  # Encodes the vehicle_style variable\n",
        "  for v in [\"sedan\", \"4dr_suv\", \"coupe\", \"convertible\", \"4dr_hatchback\"]:\n",
        "    feature = f\"is_style_{v}\"\n",
        "    df[feature] = (df[\"vehicle_style\"] == v).astype(int)\n",
        "    features.append(feature)\n",
        "\n",
        "  df_num = df[features]       # selecting features\n",
        "  df_num = df_num.fillna(0)   # filling the missing values with zero\n",
        "  X = df_num.values           # converting the DataFrame to a NumPy array\n",
        "  return X\n",
        "\n",
        "# Let’s check whether this improves the RMSE of the model\n",
        "x_train = prepare_data_set(df_train)\n",
        "w_0, w = train_linear_regression(x_train, y_train)\n",
        "\n",
        "y_pred = w_0 + x_train.dot(w)\n",
        "print(f\"train: {rmse(y_train, y_pred)}\")\n",
        "\n",
        "x_val = prepare_data_set(df_val)\n",
        "y_pred = w_0 + x_val.dot(w)\n",
        "print(f\"validation: {rmse(y_val, y_pred)}\")"
      ],
      "metadata": {
        "colab": {
          "base_uri": "https://localhost:8080/"
        },
        "id": "08B8reiVWCpx",
        "outputId": "28252a7f-4b22-41aa-8907-fe746ca433a9"
      },
      "execution_count": 44,
      "outputs": [
        {
          "output_type": "stream",
          "name": "stdout",
          "text": [
            "train: 113.20645472118994\n",
            "validation: 55.22691647401435\n"
          ]
        }
      ]
    },
    {
      "cell_type": "code",
      "source": [
        "w_0"
      ],
      "metadata": {
        "colab": {
          "base_uri": "https://localhost:8080/"
        },
        "id": "7yoR4FA6X2O1",
        "outputId": "ea335583-aaf8-487e-e945-8e04acee33ec"
      },
      "execution_count": 45,
      "outputs": [
        {
          "output_type": "execute_result",
          "data": {
            "text/plain": [
              "8115744691019874.0"
            ]
          },
          "metadata": {},
          "execution_count": 45
        }
      ]
    },
    {
      "cell_type": "markdown",
      "source": [
        "The number we see is significantly worse than before.\n",
        "\n",
        "Instead of helping, the new features made the score a lot worse. \n",
        "\n",
        "Luckily, we have validation\n",
        "to help us spot this problem."
      ],
      "metadata": {
        "id": "vE94g1xuYIhj"
      }
    },
    {
      "cell_type": "markdown",
      "source": [
        "##Regularization"
      ],
      "metadata": {
        "id": "IuPYVjZfYXm0"
      }
    },
    {
      "cell_type": "markdown",
      "source": [
        "Let’s update the linear regression with\n",
        "regularization."
      ],
      "metadata": {
        "id": "cYc7Xoj_eorF"
      }
    },
    {
      "cell_type": "code",
      "source": [
        "def train_linear_regression(X, y, alpha=0.0):\n",
        "  # adding dummy feature into X\n",
        "  ones = np.ones(X.shape[0])\n",
        "  X = np.column_stack([ones, X])\n",
        "\n",
        "  XTX = X.T.dot(X)\n",
        "\n",
        "  # Adds alpha to the main diagonal of XTX\n",
        "  reg = alpha * np.eye(XTX.shape[0])\n",
        "  XTX = XTX + reg\n",
        "\n",
        "  XTX_inv = np.linalg.inv(XTX)\n",
        "  w = XTX_inv.dot(X.T).dot(y)\n",
        "  # Splits the weights vector into the bias and the rest of the weights\n",
        "  return w[0], w[1:]"
      ],
      "metadata": {
        "id": "PEUC_hU-YY3F"
      },
      "execution_count": 46,
      "outputs": []
    },
    {
      "cell_type": "code",
      "source": [
        "# Let’s check what happens with our weights for different values of alpha\n",
        "x_train = prepare_data_set(df_train)\n",
        "\n",
        "for alpha in [0, 0.0001, 0.001, 0.01, 0.1, 1, 10, 100, 1000, 10000]:\n",
        "  w_0, w = train_linear_regression(x_train, y_train, alpha=alpha)\n",
        "  print(f\"{alpha}\\t {w_0:.2f}, {w[13]:.2f}, {w[21]:.2f}\")"
      ],
      "metadata": {
        "id": "NAmIrkyifeAK",
        "outputId": "813653b7-475d-42bc-d57b-f4897e83bda1",
        "colab": {
          "base_uri": "https://localhost:8080/"
        }
      },
      "execution_count": 50,
      "outputs": [
        {
          "output_type": "stream",
          "name": "stdout",
          "text": [
            "0,\t 8115744691019874.00, -7.10, -8115744691023588.00\n",
            "0.0001,\t 7.26, -0.10, 1.75\n",
            "0.001,\t 7.20, -0.10, 1.81\n",
            "0.01,\t 7.18, -0.10, 1.81\n",
            "0.1,\t 7.05, -0.10, 1.78\n",
            "1,\t 6.22, -0.10, 1.56\n",
            "10,\t 4.39, -0.09, 1.08\n",
            "100,\t 2.52, -0.08, 0.62\n",
            "1000,\t 0.78, -0.04, 0.25\n",
            "10000,\t 0.13, -0.01, 0.06\n"
          ]
        }
      ]
    },
    {
      "cell_type": "markdown",
      "source": [
        "Now let’s check whether regularization helps with our problem."
      ],
      "metadata": {
        "id": "goGXeJZ1imHM"
      }
    },
    {
      "cell_type": "code",
      "source": [
        "# alpha=0.0001\n",
        "x_train = prepare_data_set(df_train)\n",
        "w_0, w = train_linear_regression(x_train, y_train, alpha=0.0001)\n",
        "\n",
        "y_pred = w_0 + x_train.dot(w)\n",
        "print(f\"train: {rmse(y_train, y_pred)}\")\n",
        "\n",
        "x_val = prepare_data_set(df_val)\n",
        "y_pred = w_0 + x_val.dot(w)\n",
        "print(f\"validation: {rmse(y_val, y_pred)}\")"
      ],
      "metadata": {
        "id": "puKtxvfjiAAZ",
        "outputId": "320b96e0-9a1a-440d-ced9-772dde06eecb",
        "colab": {
          "base_uri": "https://localhost:8080/"
        }
      },
      "execution_count": 51,
      "outputs": [
        {
          "output_type": "stream",
          "name": "stdout",
          "text": [
            "train: 0.46431213118144193\n",
            "validation: 0.4602254931319512\n"
          ]
        }
      ]
    },
    {
      "cell_type": "code",
      "source": [
        "# alpha=0.001\n",
        "x_train = prepare_data_set(df_train)\n",
        "w_0, w = train_linear_regression(x_train, y_train, alpha=0.001)\n",
        "\n",
        "y_pred = w_0 + x_train.dot(w)\n",
        "print(f\"train: {rmse(y_train, y_pred)}\")\n",
        "\n",
        "x_val = prepare_data_set(df_val)\n",
        "y_pred = w_0 + x_val.dot(w)\n",
        "print(f\"validation: {rmse(y_val, y_pred)}\")"
      ],
      "metadata": {
        "id": "bwo80mudiudT",
        "outputId": "c1209838-0ca3-40a0-afdf-4f946b384f10",
        "colab": {
          "base_uri": "https://localhost:8080/"
        }
      },
      "execution_count": 52,
      "outputs": [
        {
          "output_type": "stream",
          "name": "stdout",
          "text": [
            "train: 0.46431213476958777\n",
            "validation: 0.4602267628312077\n"
          ]
        }
      ]
    },
    {
      "cell_type": "code",
      "source": [
        "# alpha=0.01\n",
        "x_train = prepare_data_set(df_train)\n",
        "w_0, w = train_linear_regression(x_train, y_train, alpha=0.01)\n",
        "\n",
        "y_pred = w_0 + x_train.dot(w)\n",
        "print(f\"train: {rmse(y_train, y_pred)}\")\n",
        "\n",
        "x_val = prepare_data_set(df_val)\n",
        "y_pred = w_0 + x_val.dot(w)\n",
        "print(f\"validation: {rmse(y_val, y_pred)}\")"
      ],
      "metadata": {
        "id": "u6C6YwmEiypM",
        "outputId": "6041f8e3-5f69-47af-cf0d-a77ad20116e3",
        "colab": {
          "base_uri": "https://localhost:8080/"
        }
      },
      "execution_count": 53,
      "outputs": [
        {
          "output_type": "stream",
          "name": "stdout",
          "text": [
            "train: 0.464312489456461\n",
            "validation: 0.4602394963124682\n"
          ]
        }
      ]
    },
    {
      "cell_type": "code",
      "source": [
        "# alpha=0.1\n",
        "x_train = prepare_data_set(df_train)\n",
        "w_0, w = train_linear_regression(x_train, y_train, alpha=0.1)\n",
        "\n",
        "y_pred = w_0 + x_train.dot(w)\n",
        "print(f\"train: {rmse(y_train, y_pred)}\")\n",
        "\n",
        "x_val = prepare_data_set(df_val)\n",
        "y_pred = w_0 + x_val.dot(w)\n",
        "print(f\"validation: {rmse(y_val, y_pred)}\")"
      ],
      "metadata": {
        "id": "oib5B--5i4Pp",
        "outputId": "2f75a091-eaab-4130-897d-1bf4cb5a31b9",
        "colab": {
          "base_uri": "https://localhost:8080/"
        }
      },
      "execution_count": 54,
      "outputs": [
        {
          "output_type": "stream",
          "name": "stdout",
          "text": [
            "train: 0.4643444223633168\n",
            "validation: 0.4603700695819783\n"
          ]
        }
      ]
    },
    {
      "cell_type": "markdown",
      "source": [
        "This result is an improvement over the previous score: 0.507.\n",
        "\n",
        "Let’s try a couple of different\n",
        "ones to select the best parameter alpha."
      ],
      "metadata": {
        "id": "CPBrkaM3jIWk"
      }
    },
    {
      "cell_type": "code",
      "source": [
        "x_train = prepare_data_set(df_train)\n",
        "x_val = prepare_data_set(df_val)\n",
        "\n",
        "for alpha in [0.000001, 0.0001, 0.001, 0.01, 0.1, 1, 5, 10]:\n",
        "  w_0, w = train_linear_regression(x_train, y_train, alpha=alpha)\n",
        "  y_pred = w_0 + x_val.dot(w)\n",
        "  print(f\"{alpha}\\t {rmse(y_val, y_pred)}\")"
      ],
      "metadata": {
        "id": "Yeu5Vk5ljfCt",
        "outputId": "0d4f650d-b7c3-40d8-eb16-7210f8bbfe09",
        "colab": {
          "base_uri": "https://localhost:8080/"
        }
      },
      "execution_count": 55,
      "outputs": [
        {
          "output_type": "stream",
          "name": "stdout",
          "text": [
            "1e-06\t 0.4602251277547402\n",
            "0.0001\t 0.4602254931319512\n",
            "0.001\t 0.4602267628312077\n",
            "0.01\t 0.4602394963124682\n",
            "0.1\t 0.4603700695819783\n",
            "1\t 0.4618298042652329\n",
            "5\t 0.46840796275321883\n",
            "10\t 0.4757248100695211\n"
          ]
        }
      ]
    },
    {
      "cell_type": "markdown",
      "source": [
        ">Sometimes, when adding a new feature causes performance degradation,\n",
        "simply removing this feature may be enough to solve the problem. Having\n",
        "a validation dataset is important to decide whether to add regularization,\n",
        "remove the feature, or do both: we use the score on the validation data to\n",
        "choose the best option. In our particular case, we see that adding regularization helps: it improves the score we had previously.\n",
        "\n",
        "We also notice that the performance for values below 0.1 don’t change much except in the sixth digit, which we shouldn’t consider to be significant.\n",
        "\n",
        "Let’s take the model with `alpha=0.01` as the final model."
      ],
      "metadata": {
        "id": "IG2et-xlknc1"
      }
    },
    {
      "cell_type": "code",
      "source": [
        "x_train = prepare_data_set(df_train)\n",
        "w_0, w = train_linear_regression(x_train, y_train, alpha=0.01)\n",
        "\n",
        "y_pred = w_0 + x_train.dot(w)\n",
        "print(f\"train: {rmse(y_train, y_pred)}\")\n",
        "\n",
        "x_val = prepare_data_set(df_val)\n",
        "y_pred = w_0 + x_val.dot(w)\n",
        "print(f\"validation: {rmse(y_val, y_pred)}\")\n",
        "\n",
        "x_test = prepare_data_set(df_test)\n",
        "y_pred = w_0 + x_test.dot(w)\n",
        "print(f\"test: {rmse(y_test, y_pred)}\")"
      ],
      "metadata": {
        "id": "o9AusuMtk6Ah",
        "outputId": "019171a7-a64b-4e88-ca00-489dce66de2e",
        "colab": {
          "base_uri": "https://localhost:8080/"
        }
      },
      "execution_count": 57,
      "outputs": [
        {
          "output_type": "stream",
          "name": "stdout",
          "text": [
            "train: 0.464312489456461\n",
            "validation: 0.4602394963124682\n",
            "test: 0.4571813679271304\n"
          ]
        }
      ]
    },
    {
      "cell_type": "markdown",
      "source": [
        "**Because the validation and test score are pretty close, we conclude that the model can generalize well to the new unseen data.**"
      ],
      "metadata": {
        "id": "95meXcDfmtRb"
      }
    },
    {
      "cell_type": "markdown",
      "source": [
        "##Using the model"
      ],
      "metadata": {
        "id": "cMMnNr1FnF--"
      }
    },
    {
      "cell_type": "code",
      "source": [],
      "metadata": {
        "id": "fmLV2PDQnGrd"
      },
      "execution_count": null,
      "outputs": []
    }
  ]
}