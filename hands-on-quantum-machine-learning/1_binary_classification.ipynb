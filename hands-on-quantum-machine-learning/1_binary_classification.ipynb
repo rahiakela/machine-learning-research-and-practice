{
  "nbformat": 4,
  "nbformat_minor": 0,
  "metadata": {
    "colab": {
      "provenance": [],
      "toc_visible": true,
      "authorship_tag": "ABX9TyMdLcAM/5nfN9OCKip2sURF",
      "include_colab_link": true
    },
    "kernelspec": {
      "name": "python3",
      "display_name": "Python 3"
    },
    "language_info": {
      "name": "python"
    }
  },
  "cells": [
    {
      "cell_type": "markdown",
      "metadata": {
        "id": "view-in-github",
        "colab_type": "text"
      },
      "source": [
        "<a href=\"https://colab.research.google.com/github/rahiakela/machine-learning-research-and-practice/blob/main/hands-on-quantum-machine-learning/1_binary_classification.ipynb\" target=\"_parent\"><img src=\"https://colab.research.google.com/assets/colab-badge.svg\" alt=\"Open In Colab\"/></a>"
      ]
    },
    {
      "cell_type": "markdown",
      "source": [
        "##Binary Classification"
      ],
      "metadata": {
        "id": "enptzdeome6D"
      }
    },
    {
      "cell_type": "markdown",
      "source": [
        "The sinking of the Titanic is one of the most infamous shipwrecks in history.\n",
        "\n",
        "On April 15, 1912, the Titanic sank after colliding with an iceberg. Being considered\n",
        "unsinkable, there weren’t enough lifeboats for everyone on board.\n",
        "As a result, 1502 out of 2224 passengers and crew members died that night.\n",
        "\n",
        "Of course, the 722 survivors must have had some luck. But it seems as if certain\n",
        "groups of people had better chances to survive than others. Therefore,\n",
        "the Titanic sinking has also become a famous starting point for anyone interested\n",
        "in machine learning.\n",
        "\n",
        "The problem to be solved is simple. Use machine learning to create a model\n",
        "that, given the passenger data, predicts which passengers survived the Titanic\n",
        "shipwreck."
      ],
      "metadata": {
        "id": "_o4ZRFHkmvnP"
      }
    },
    {
      "cell_type": "markdown",
      "source": [
        "##Setup"
      ],
      "metadata": {
        "id": "R1hzoogYm7m7"
      }
    },
    {
      "cell_type": "code",
      "source": [
        "import numpy as np\n",
        "import pandas as pd\n",
        "import random\n",
        "\n",
        "from sklearn.preprocessing import LabelEncoder\n",
        "from sklearn.preprocessing import MinMaxScaler\n",
        "from sklearn.model_selection import train_test_split\n",
        "from sklearn.metrics import confusion_matrix\n",
        "from sklearn.metrics import precision_score\n",
        "from sklearn.metrics import recall_score\n",
        "\n",
        "import matplotlib.pyplot as plt\n",
        "import matplotlib"
      ],
      "metadata": {
        "id": "8epDKm6Um9mI"
      },
      "execution_count": 1,
      "outputs": []
    },
    {
      "cell_type": "markdown",
      "source": [
        "Let's download titanic dataset from Kaggle."
      ],
      "metadata": {
        "id": "4JKxtj8zoTXz"
      }
    },
    {
      "cell_type": "code",
      "source": [
        "from google.colab import drive\n",
        "drive.mount('/content/gdrive')"
      ],
      "metadata": {
        "colab": {
          "base_uri": "https://localhost:8080/"
        },
        "id": "V0w3YlciobB2",
        "outputId": "b6a8ece9-e314-4bbb-cede-1fc9c7c7078b"
      },
      "execution_count": 2,
      "outputs": [
        {
          "output_type": "stream",
          "name": "stdout",
          "text": [
            "Mounted at /content/gdrive\n"
          ]
        }
      ]
    },
    {
      "cell_type": "code",
      "source": [
        "import os\n",
        "# content/gdrive/My Drive/Kaggle is the path where kaggle.json is  present in the Google Drive\n",
        "os.environ['KAGGLE_CONFIG_DIR'] = \"/content/gdrive/MyDrive/kaggle-keys\""
      ],
      "metadata": {
        "id": "ADJFR_O3oboc"
      },
      "execution_count": 3,
      "outputs": []
    },
    {
      "cell_type": "code",
      "source": [
        "%%shell\n",
        "\n",
        "# download dataset from kaggle> URL: https://www.kaggle.com/competitions/titanic\n",
        "kaggle competitions download -c titanic\n",
        "\n",
        "unzip -qq titanic.zip\n",
        "rm -rf titanic.zip"
      ],
      "metadata": {
        "id": "3yMWZFgLogin",
        "outputId": "5be50caa-6078-4a9f-ddd1-1103a2c3fb44",
        "colab": {
          "base_uri": "https://localhost:8080/"
        }
      },
      "execution_count": 4,
      "outputs": [
        {
          "output_type": "stream",
          "name": "stdout",
          "text": [
            "Downloading titanic.zip to /content\n",
            "\r  0% 0.00/34.1k [00:00<?, ?B/s]\n",
            "\r100% 34.1k/34.1k [00:00<00:00, 28.7MB/s]\n"
          ]
        },
        {
          "output_type": "execute_result",
          "data": {
            "text/plain": []
          },
          "metadata": {},
          "execution_count": 4
        }
      ]
    },
    {
      "cell_type": "markdown",
      "source": [
        "##Dataset"
      ],
      "metadata": {
        "id": "Lxxk2rCAm96B"
      }
    },
    {
      "cell_type": "code",
      "source": [
        "# load dataset\n",
        "train = pd.read_csv(\"train.csv\")\n",
        "test = pd.read_csv(\"test.csv\")\n",
        "\n",
        "# The shapes of the Titanic datasets\n",
        "print(\"train has {} rows and {} columns\".format(*train.shape))\n",
        "print(\"test has {} rows and {} columns\".format(*test.shape))"
      ],
      "metadata": {
        "colab": {
          "base_uri": "https://localhost:8080/"
        },
        "id": "XNTMWRXwm_fC",
        "outputId": "07d2cdcf-e8a9-47ee-aff5-10b5a893f7a2"
      },
      "execution_count": 5,
      "outputs": [
        {
          "output_type": "stream",
          "name": "stdout",
          "text": [
            "train has 891 rows and 12 columns\n",
            "test has 418 rows and 11 columns\n"
          ]
        }
      ]
    },
    {
      "cell_type": "code",
      "source": [
        "# The structure of the train dataset\n",
        "train.info()"
      ],
      "metadata": {
        "colab": {
          "base_uri": "https://localhost:8080/"
        },
        "id": "aYcanNH9p0Y_",
        "outputId": "29a1344e-cf7b-44b4-c361-0f2a6d4a1bec"
      },
      "execution_count": 6,
      "outputs": [
        {
          "output_type": "stream",
          "name": "stdout",
          "text": [
            "<class 'pandas.core.frame.DataFrame'>\n",
            "RangeIndex: 891 entries, 0 to 890\n",
            "Data columns (total 12 columns):\n",
            " #   Column       Non-Null Count  Dtype  \n",
            "---  ------       --------------  -----  \n",
            " 0   PassengerId  891 non-null    int64  \n",
            " 1   Survived     891 non-null    int64  \n",
            " 2   Pclass       891 non-null    int64  \n",
            " 3   Name         891 non-null    object \n",
            " 4   Sex          891 non-null    object \n",
            " 5   Age          714 non-null    float64\n",
            " 6   SibSp        891 non-null    int64  \n",
            " 7   Parch        891 non-null    int64  \n",
            " 8   Ticket       891 non-null    object \n",
            " 9   Fare         891 non-null    float64\n",
            " 10  Cabin        204 non-null    object \n",
            " 11  Embarked     889 non-null    object \n",
            "dtypes: float64(2), int64(5), object(5)\n",
            "memory usage: 83.7+ KB\n"
          ]
        }
      ]
    },
    {
      "cell_type": "code",
      "source": [
        "# The structure of the test dataset\n",
        "test.info()"
      ],
      "metadata": {
        "colab": {
          "base_uri": "https://localhost:8080/"
        },
        "id": "hwkdBg36p8rf",
        "outputId": "448c1e78-ffdb-4465-e900-e201b58e2d55"
      },
      "execution_count": 7,
      "outputs": [
        {
          "output_type": "stream",
          "name": "stdout",
          "text": [
            "<class 'pandas.core.frame.DataFrame'>\n",
            "RangeIndex: 418 entries, 0 to 417\n",
            "Data columns (total 11 columns):\n",
            " #   Column       Non-Null Count  Dtype  \n",
            "---  ------       --------------  -----  \n",
            " 0   PassengerId  418 non-null    int64  \n",
            " 1   Pclass       418 non-null    int64  \n",
            " 2   Name         418 non-null    object \n",
            " 3   Sex          418 non-null    object \n",
            " 4   Age          332 non-null    float64\n",
            " 5   SibSp        418 non-null    int64  \n",
            " 6   Parch        418 non-null    int64  \n",
            " 7   Ticket       418 non-null    object \n",
            " 8   Fare         417 non-null    float64\n",
            " 9   Cabin        91 non-null     object \n",
            " 10  Embarked     418 non-null    object \n",
            "dtypes: float64(2), int64(4), object(5)\n",
            "memory usage: 36.0+ KB\n"
          ]
        }
      ]
    },
    {
      "cell_type": "code",
      "source": [
        "# Look at the data\n",
        "train.head()"
      ],
      "metadata": {
        "colab": {
          "base_uri": "https://localhost:8080/",
          "height": 548
        },
        "id": "BXMc0GSkqCbs",
        "outputId": "9a6cf1e1-32fb-45bf-e4b7-61b7d99c506a"
      },
      "execution_count": 8,
      "outputs": [
        {
          "output_type": "execute_result",
          "data": {
            "text/plain": [
              "   PassengerId  Survived  Pclass  \\\n",
              "0            1         0       3   \n",
              "1            2         1       1   \n",
              "2            3         1       3   \n",
              "3            4         1       1   \n",
              "4            5         0       3   \n",
              "\n",
              "                                                Name     Sex   Age  SibSp  \\\n",
              "0                            Braund, Mr. Owen Harris    male  22.0      1   \n",
              "1  Cumings, Mrs. John Bradley (Florence Briggs Th...  female  38.0      1   \n",
              "2                             Heikkinen, Miss. Laina  female  26.0      0   \n",
              "3       Futrelle, Mrs. Jacques Heath (Lily May Peel)  female  35.0      1   \n",
              "4                           Allen, Mr. William Henry    male  35.0      0   \n",
              "\n",
              "   Parch            Ticket     Fare Cabin Embarked  \n",
              "0      0         A/5 21171   7.2500   NaN        S  \n",
              "1      0          PC 17599  71.2833   C85        C  \n",
              "2      0  STON/O2. 3101282   7.9250   NaN        S  \n",
              "3      0            113803  53.1000  C123        S  \n",
              "4      0            373450   8.0500   NaN        S  "
            ],
            "text/html": [
              "\n",
              "  <div id=\"df-3a86d7b6-f729-42f5-9693-269dc9dd49b4\">\n",
              "    <div class=\"colab-df-container\">\n",
              "      <div>\n",
              "<style scoped>\n",
              "    .dataframe tbody tr th:only-of-type {\n",
              "        vertical-align: middle;\n",
              "    }\n",
              "\n",
              "    .dataframe tbody tr th {\n",
              "        vertical-align: top;\n",
              "    }\n",
              "\n",
              "    .dataframe thead th {\n",
              "        text-align: right;\n",
              "    }\n",
              "</style>\n",
              "<table border=\"1\" class=\"dataframe\">\n",
              "  <thead>\n",
              "    <tr style=\"text-align: right;\">\n",
              "      <th></th>\n",
              "      <th>PassengerId</th>\n",
              "      <th>Survived</th>\n",
              "      <th>Pclass</th>\n",
              "      <th>Name</th>\n",
              "      <th>Sex</th>\n",
              "      <th>Age</th>\n",
              "      <th>SibSp</th>\n",
              "      <th>Parch</th>\n",
              "      <th>Ticket</th>\n",
              "      <th>Fare</th>\n",
              "      <th>Cabin</th>\n",
              "      <th>Embarked</th>\n",
              "    </tr>\n",
              "  </thead>\n",
              "  <tbody>\n",
              "    <tr>\n",
              "      <th>0</th>\n",
              "      <td>1</td>\n",
              "      <td>0</td>\n",
              "      <td>3</td>\n",
              "      <td>Braund, Mr. Owen Harris</td>\n",
              "      <td>male</td>\n",
              "      <td>22.0</td>\n",
              "      <td>1</td>\n",
              "      <td>0</td>\n",
              "      <td>A/5 21171</td>\n",
              "      <td>7.2500</td>\n",
              "      <td>NaN</td>\n",
              "      <td>S</td>\n",
              "    </tr>\n",
              "    <tr>\n",
              "      <th>1</th>\n",
              "      <td>2</td>\n",
              "      <td>1</td>\n",
              "      <td>1</td>\n",
              "      <td>Cumings, Mrs. John Bradley (Florence Briggs Th...</td>\n",
              "      <td>female</td>\n",
              "      <td>38.0</td>\n",
              "      <td>1</td>\n",
              "      <td>0</td>\n",
              "      <td>PC 17599</td>\n",
              "      <td>71.2833</td>\n",
              "      <td>C85</td>\n",
              "      <td>C</td>\n",
              "    </tr>\n",
              "    <tr>\n",
              "      <th>2</th>\n",
              "      <td>3</td>\n",
              "      <td>1</td>\n",
              "      <td>3</td>\n",
              "      <td>Heikkinen, Miss. Laina</td>\n",
              "      <td>female</td>\n",
              "      <td>26.0</td>\n",
              "      <td>0</td>\n",
              "      <td>0</td>\n",
              "      <td>STON/O2. 3101282</td>\n",
              "      <td>7.9250</td>\n",
              "      <td>NaN</td>\n",
              "      <td>S</td>\n",
              "    </tr>\n",
              "    <tr>\n",
              "      <th>3</th>\n",
              "      <td>4</td>\n",
              "      <td>1</td>\n",
              "      <td>1</td>\n",
              "      <td>Futrelle, Mrs. Jacques Heath (Lily May Peel)</td>\n",
              "      <td>female</td>\n",
              "      <td>35.0</td>\n",
              "      <td>1</td>\n",
              "      <td>0</td>\n",
              "      <td>113803</td>\n",
              "      <td>53.1000</td>\n",
              "      <td>C123</td>\n",
              "      <td>S</td>\n",
              "    </tr>\n",
              "    <tr>\n",
              "      <th>4</th>\n",
              "      <td>5</td>\n",
              "      <td>0</td>\n",
              "      <td>3</td>\n",
              "      <td>Allen, Mr. William Henry</td>\n",
              "      <td>male</td>\n",
              "      <td>35.0</td>\n",
              "      <td>0</td>\n",
              "      <td>0</td>\n",
              "      <td>373450</td>\n",
              "      <td>8.0500</td>\n",
              "      <td>NaN</td>\n",
              "      <td>S</td>\n",
              "    </tr>\n",
              "  </tbody>\n",
              "</table>\n",
              "</div>\n",
              "      <button class=\"colab-df-convert\" onclick=\"convertToInteractive('df-3a86d7b6-f729-42f5-9693-269dc9dd49b4')\"\n",
              "              title=\"Convert this dataframe to an interactive table.\"\n",
              "              style=\"display:none;\">\n",
              "        \n",
              "  <svg xmlns=\"http://www.w3.org/2000/svg\" height=\"24px\"viewBox=\"0 0 24 24\"\n",
              "       width=\"24px\">\n",
              "    <path d=\"M0 0h24v24H0V0z\" fill=\"none\"/>\n",
              "    <path d=\"M18.56 5.44l.94 2.06.94-2.06 2.06-.94-2.06-.94-.94-2.06-.94 2.06-2.06.94zm-11 1L8.5 8.5l.94-2.06 2.06-.94-2.06-.94L8.5 2.5l-.94 2.06-2.06.94zm10 10l.94 2.06.94-2.06 2.06-.94-2.06-.94-.94-2.06-.94 2.06-2.06.94z\"/><path d=\"M17.41 7.96l-1.37-1.37c-.4-.4-.92-.59-1.43-.59-.52 0-1.04.2-1.43.59L10.3 9.45l-7.72 7.72c-.78.78-.78 2.05 0 2.83L4 21.41c.39.39.9.59 1.41.59.51 0 1.02-.2 1.41-.59l7.78-7.78 2.81-2.81c.8-.78.8-2.07 0-2.86zM5.41 20L4 18.59l7.72-7.72 1.47 1.35L5.41 20z\"/>\n",
              "  </svg>\n",
              "      </button>\n",
              "      \n",
              "  <style>\n",
              "    .colab-df-container {\n",
              "      display:flex;\n",
              "      flex-wrap:wrap;\n",
              "      gap: 12px;\n",
              "    }\n",
              "\n",
              "    .colab-df-convert {\n",
              "      background-color: #E8F0FE;\n",
              "      border: none;\n",
              "      border-radius: 50%;\n",
              "      cursor: pointer;\n",
              "      display: none;\n",
              "      fill: #1967D2;\n",
              "      height: 32px;\n",
              "      padding: 0 0 0 0;\n",
              "      width: 32px;\n",
              "    }\n",
              "\n",
              "    .colab-df-convert:hover {\n",
              "      background-color: #E2EBFA;\n",
              "      box-shadow: 0px 1px 2px rgba(60, 64, 67, 0.3), 0px 1px 3px 1px rgba(60, 64, 67, 0.15);\n",
              "      fill: #174EA6;\n",
              "    }\n",
              "\n",
              "    [theme=dark] .colab-df-convert {\n",
              "      background-color: #3B4455;\n",
              "      fill: #D2E3FC;\n",
              "    }\n",
              "\n",
              "    [theme=dark] .colab-df-convert:hover {\n",
              "      background-color: #434B5C;\n",
              "      box-shadow: 0px 1px 3px 1px rgba(0, 0, 0, 0.15);\n",
              "      filter: drop-shadow(0px 1px 2px rgba(0, 0, 0, 0.3));\n",
              "      fill: #FFFFFF;\n",
              "    }\n",
              "  </style>\n",
              "\n",
              "      <script>\n",
              "        const buttonEl =\n",
              "          document.querySelector('#df-3a86d7b6-f729-42f5-9693-269dc9dd49b4 button.colab-df-convert');\n",
              "        buttonEl.style.display =\n",
              "          google.colab.kernel.accessAllowed ? 'block' : 'none';\n",
              "\n",
              "        async function convertToInteractive(key) {\n",
              "          const element = document.querySelector('#df-3a86d7b6-f729-42f5-9693-269dc9dd49b4');\n",
              "          const dataTable =\n",
              "            await google.colab.kernel.invokeFunction('convertToInteractive',\n",
              "                                                     [key], {});\n",
              "          if (!dataTable) return;\n",
              "\n",
              "          const docLinkHtml = 'Like what you see? Visit the ' +\n",
              "            '<a target=\"_blank\" href=https://colab.research.google.com/notebooks/data_table.ipynb>data table notebook</a>'\n",
              "            + ' to learn more about interactive tables.';\n",
              "          element.innerHTML = '';\n",
              "          dataTable['output_type'] = 'display_data';\n",
              "          await google.colab.output.renderOutput(dataTable, element);\n",
              "          const docLink = document.createElement('div');\n",
              "          docLink.innerHTML = docLinkHtml;\n",
              "          element.appendChild(docLink);\n",
              "        }\n",
              "      </script>\n",
              "    </div>\n",
              "  </div>\n",
              "  "
            ]
          },
          "metadata": {},
          "execution_count": 8
        }
      ]
    },
    {
      "cell_type": "markdown",
      "source": [
        "##Data Preparation"
      ],
      "metadata": {
        "id": "-zB0yO3-qIrV"
      }
    },
    {
      "cell_type": "markdown",
      "source": [
        "Before we can feed our data into any machine learning algorithm, we need to\n",
        "clean up."
      ],
      "metadata": {
        "id": "z_iDiwu0S1EJ"
      }
    },
    {
      "cell_type": "markdown",
      "source": [
        "###Missing Values"
      ],
      "metadata": {
        "id": "NCqTVA0rS1_9"
      }
    },
    {
      "cell_type": "code",
      "source": [
        "# option 1: We only have two passengers without it. This is bearable\n",
        "train = train.dropna(subset=[\"Embarked\"])\n",
        "\n",
        "# option 2: We only have very few information about the cabin, let's drop it\n",
        "train = train.drop(\"Cabin\", axis=1)\n",
        "\n",
        "# option 2: The age misses quite a few times. But intuition says it might be important for someone's chance to survive.\n",
        "mean = train[\"Age\"].mean()\n",
        "train[\"Age\"] = train[\"Age\"].fillna(mean)\n",
        "\n",
        "train.info()"
      ],
      "metadata": {
        "id": "AZBv1MAKqJRA",
        "outputId": "d8dc161b-cb38-47d2-95d0-9fbd0bdd0e9d",
        "colab": {
          "base_uri": "https://localhost:8080/"
        }
      },
      "execution_count": 9,
      "outputs": [
        {
          "output_type": "stream",
          "name": "stdout",
          "text": [
            "<class 'pandas.core.frame.DataFrame'>\n",
            "Int64Index: 889 entries, 0 to 890\n",
            "Data columns (total 11 columns):\n",
            " #   Column       Non-Null Count  Dtype  \n",
            "---  ------       --------------  -----  \n",
            " 0   PassengerId  889 non-null    int64  \n",
            " 1   Survived     889 non-null    int64  \n",
            " 2   Pclass       889 non-null    int64  \n",
            " 3   Name         889 non-null    object \n",
            " 4   Sex          889 non-null    object \n",
            " 5   Age          889 non-null    float64\n",
            " 6   SibSp        889 non-null    int64  \n",
            " 7   Parch        889 non-null    int64  \n",
            " 8   Ticket       889 non-null    object \n",
            " 9   Fare         889 non-null    float64\n",
            " 10  Embarked     889 non-null    object \n",
            "dtypes: float64(2), int64(5), object(4)\n",
            "memory usage: 83.3+ KB\n"
          ]
        }
      ]
    },
    {
      "cell_type": "markdown",
      "source": [
        "###Identifiers"
      ],
      "metadata": {
        "id": "FRxRQx9UY_ki"
      }
    },
    {
      "cell_type": "code",
      "source": [
        "# Let’s have a look at how many unique values are\n",
        "print(f\"There are {train['PassengerId'].nunique()} PassengerIds in the data\")\n",
        "print(f\"There are {train['Name'].nunique()} different (unique) names in the data\")\n",
        "print(f\"There are {train['Ticket'].nunique()} different (unique) ticket numbers in the data\")"
      ],
      "metadata": {
        "id": "oNAm14wXZAas",
        "outputId": "630515bd-9671-4d1c-d48c-b89b63051073",
        "colab": {
          "base_uri": "https://localhost:8080/"
        }
      },
      "execution_count": 10,
      "outputs": [
        {
          "output_type": "stream",
          "name": "stdout",
          "text": [
            "There are 889 PassengerIds in the data\n",
            "There are 889 different (unique) names in the data\n",
            "There are 680 different (unique) ticket numbers in the data\n"
          ]
        }
      ]
    },
    {
      "cell_type": "code",
      "source": [
        "# let's remove these identifying columns\n",
        "train = train.drop(\"PassengerId\", axis=1)\n",
        "train = train.drop(\"Name\", axis=1)\n",
        "train = train.drop(\"Ticket\", axis=1)\n",
        "\n",
        "train.info()"
      ],
      "metadata": {
        "id": "_NQAs48Tab7B",
        "outputId": "44473a7e-d839-44e3-f31a-1b284707df06",
        "colab": {
          "base_uri": "https://localhost:8080/"
        }
      },
      "execution_count": 11,
      "outputs": [
        {
          "output_type": "stream",
          "name": "stdout",
          "text": [
            "<class 'pandas.core.frame.DataFrame'>\n",
            "Int64Index: 889 entries, 0 to 890\n",
            "Data columns (total 8 columns):\n",
            " #   Column    Non-Null Count  Dtype  \n",
            "---  ------    --------------  -----  \n",
            " 0   Survived  889 non-null    int64  \n",
            " 1   Pclass    889 non-null    int64  \n",
            " 2   Sex       889 non-null    object \n",
            " 3   Age       889 non-null    float64\n",
            " 4   SibSp     889 non-null    int64  \n",
            " 5   Parch     889 non-null    int64  \n",
            " 6   Fare      889 non-null    float64\n",
            " 7   Embarked  889 non-null    object \n",
            "dtypes: float64(2), int64(4), object(2)\n",
            "memory usage: 62.5+ KB\n"
          ]
        }
      ]
    },
    {
      "cell_type": "markdown",
      "source": [
        "###Categorical Attributes"
      ],
      "metadata": {
        "id": "o-ZJDIlcbK1C"
      }
    },
    {
      "cell_type": "code",
      "source": [
        "label_encoder = LabelEncoder()\n",
        "\n",
        "for col in [\"Sex\", \"Embarked\"]:\n",
        "  label_encoder.fit(train[col])\n",
        "  train[col] = label_encoder.transform(train[col])\n",
        "\n",
        "train.head()"
      ],
      "metadata": {
        "id": "7xFV7ZbZbLi6",
        "outputId": "a0f00b59-70ea-412a-b292-67ec0fec5465",
        "colab": {
          "base_uri": "https://localhost:8080/",
          "height": 206
        }
      },
      "execution_count": 12,
      "outputs": [
        {
          "output_type": "execute_result",
          "data": {
            "text/plain": [
              "   Survived  Pclass  Sex   Age  SibSp  Parch     Fare  Embarked\n",
              "0         0       3    1  22.0      1      0   7.2500         2\n",
              "1         1       1    0  38.0      1      0  71.2833         0\n",
              "2         1       3    0  26.0      0      0   7.9250         2\n",
              "3         1       1    0  35.0      1      0  53.1000         2\n",
              "4         0       3    1  35.0      0      0   8.0500         2"
            ],
            "text/html": [
              "\n",
              "  <div id=\"df-1b85a1ed-7e45-4190-acaa-fff00599701d\">\n",
              "    <div class=\"colab-df-container\">\n",
              "      <div>\n",
              "<style scoped>\n",
              "    .dataframe tbody tr th:only-of-type {\n",
              "        vertical-align: middle;\n",
              "    }\n",
              "\n",
              "    .dataframe tbody tr th {\n",
              "        vertical-align: top;\n",
              "    }\n",
              "\n",
              "    .dataframe thead th {\n",
              "        text-align: right;\n",
              "    }\n",
              "</style>\n",
              "<table border=\"1\" class=\"dataframe\">\n",
              "  <thead>\n",
              "    <tr style=\"text-align: right;\">\n",
              "      <th></th>\n",
              "      <th>Survived</th>\n",
              "      <th>Pclass</th>\n",
              "      <th>Sex</th>\n",
              "      <th>Age</th>\n",
              "      <th>SibSp</th>\n",
              "      <th>Parch</th>\n",
              "      <th>Fare</th>\n",
              "      <th>Embarked</th>\n",
              "    </tr>\n",
              "  </thead>\n",
              "  <tbody>\n",
              "    <tr>\n",
              "      <th>0</th>\n",
              "      <td>0</td>\n",
              "      <td>3</td>\n",
              "      <td>1</td>\n",
              "      <td>22.0</td>\n",
              "      <td>1</td>\n",
              "      <td>0</td>\n",
              "      <td>7.2500</td>\n",
              "      <td>2</td>\n",
              "    </tr>\n",
              "    <tr>\n",
              "      <th>1</th>\n",
              "      <td>1</td>\n",
              "      <td>1</td>\n",
              "      <td>0</td>\n",
              "      <td>38.0</td>\n",
              "      <td>1</td>\n",
              "      <td>0</td>\n",
              "      <td>71.2833</td>\n",
              "      <td>0</td>\n",
              "    </tr>\n",
              "    <tr>\n",
              "      <th>2</th>\n",
              "      <td>1</td>\n",
              "      <td>3</td>\n",
              "      <td>0</td>\n",
              "      <td>26.0</td>\n",
              "      <td>0</td>\n",
              "      <td>0</td>\n",
              "      <td>7.9250</td>\n",
              "      <td>2</td>\n",
              "    </tr>\n",
              "    <tr>\n",
              "      <th>3</th>\n",
              "      <td>1</td>\n",
              "      <td>1</td>\n",
              "      <td>0</td>\n",
              "      <td>35.0</td>\n",
              "      <td>1</td>\n",
              "      <td>0</td>\n",
              "      <td>53.1000</td>\n",
              "      <td>2</td>\n",
              "    </tr>\n",
              "    <tr>\n",
              "      <th>4</th>\n",
              "      <td>0</td>\n",
              "      <td>3</td>\n",
              "      <td>1</td>\n",
              "      <td>35.0</td>\n",
              "      <td>0</td>\n",
              "      <td>0</td>\n",
              "      <td>8.0500</td>\n",
              "      <td>2</td>\n",
              "    </tr>\n",
              "  </tbody>\n",
              "</table>\n",
              "</div>\n",
              "      <button class=\"colab-df-convert\" onclick=\"convertToInteractive('df-1b85a1ed-7e45-4190-acaa-fff00599701d')\"\n",
              "              title=\"Convert this dataframe to an interactive table.\"\n",
              "              style=\"display:none;\">\n",
              "        \n",
              "  <svg xmlns=\"http://www.w3.org/2000/svg\" height=\"24px\"viewBox=\"0 0 24 24\"\n",
              "       width=\"24px\">\n",
              "    <path d=\"M0 0h24v24H0V0z\" fill=\"none\"/>\n",
              "    <path d=\"M18.56 5.44l.94 2.06.94-2.06 2.06-.94-2.06-.94-.94-2.06-.94 2.06-2.06.94zm-11 1L8.5 8.5l.94-2.06 2.06-.94-2.06-.94L8.5 2.5l-.94 2.06-2.06.94zm10 10l.94 2.06.94-2.06 2.06-.94-2.06-.94-.94-2.06-.94 2.06-2.06.94z\"/><path d=\"M17.41 7.96l-1.37-1.37c-.4-.4-.92-.59-1.43-.59-.52 0-1.04.2-1.43.59L10.3 9.45l-7.72 7.72c-.78.78-.78 2.05 0 2.83L4 21.41c.39.39.9.59 1.41.59.51 0 1.02-.2 1.41-.59l7.78-7.78 2.81-2.81c.8-.78.8-2.07 0-2.86zM5.41 20L4 18.59l7.72-7.72 1.47 1.35L5.41 20z\"/>\n",
              "  </svg>\n",
              "      </button>\n",
              "      \n",
              "  <style>\n",
              "    .colab-df-container {\n",
              "      display:flex;\n",
              "      flex-wrap:wrap;\n",
              "      gap: 12px;\n",
              "    }\n",
              "\n",
              "    .colab-df-convert {\n",
              "      background-color: #E8F0FE;\n",
              "      border: none;\n",
              "      border-radius: 50%;\n",
              "      cursor: pointer;\n",
              "      display: none;\n",
              "      fill: #1967D2;\n",
              "      height: 32px;\n",
              "      padding: 0 0 0 0;\n",
              "      width: 32px;\n",
              "    }\n",
              "\n",
              "    .colab-df-convert:hover {\n",
              "      background-color: #E2EBFA;\n",
              "      box-shadow: 0px 1px 2px rgba(60, 64, 67, 0.3), 0px 1px 3px 1px rgba(60, 64, 67, 0.15);\n",
              "      fill: #174EA6;\n",
              "    }\n",
              "\n",
              "    [theme=dark] .colab-df-convert {\n",
              "      background-color: #3B4455;\n",
              "      fill: #D2E3FC;\n",
              "    }\n",
              "\n",
              "    [theme=dark] .colab-df-convert:hover {\n",
              "      background-color: #434B5C;\n",
              "      box-shadow: 0px 1px 3px 1px rgba(0, 0, 0, 0.15);\n",
              "      filter: drop-shadow(0px 1px 2px rgba(0, 0, 0, 0.3));\n",
              "      fill: #FFFFFF;\n",
              "    }\n",
              "  </style>\n",
              "\n",
              "      <script>\n",
              "        const buttonEl =\n",
              "          document.querySelector('#df-1b85a1ed-7e45-4190-acaa-fff00599701d button.colab-df-convert');\n",
              "        buttonEl.style.display =\n",
              "          google.colab.kernel.accessAllowed ? 'block' : 'none';\n",
              "\n",
              "        async function convertToInteractive(key) {\n",
              "          const element = document.querySelector('#df-1b85a1ed-7e45-4190-acaa-fff00599701d');\n",
              "          const dataTable =\n",
              "            await google.colab.kernel.invokeFunction('convertToInteractive',\n",
              "                                                     [key], {});\n",
              "          if (!dataTable) return;\n",
              "\n",
              "          const docLinkHtml = 'Like what you see? Visit the ' +\n",
              "            '<a target=\"_blank\" href=https://colab.research.google.com/notebooks/data_table.ipynb>data table notebook</a>'\n",
              "            + ' to learn more about interactive tables.';\n",
              "          element.innerHTML = '';\n",
              "          dataTable['output_type'] = 'display_data';\n",
              "          await google.colab.output.renderOutput(dataTable, element);\n",
              "          const docLink = document.createElement('div');\n",
              "          docLink.innerHTML = docLinkHtml;\n",
              "          element.appendChild(docLink);\n",
              "        }\n",
              "      </script>\n",
              "    </div>\n",
              "  </div>\n",
              "  "
            ]
          },
          "metadata": {},
          "execution_count": 12
        }
      ]
    },
    {
      "cell_type": "markdown",
      "source": [
        "###Feature Scaling"
      ],
      "metadata": {
        "id": "_APeg10icIS-"
      }
    },
    {
      "cell_type": "code",
      "source": [
        "# The maximum values\n",
        "# check the maximum value in a column\n",
        "print(f\"The maximum age is {train['Age'].max()}\")\n",
        "print(f\"The maximum fare is {train['Fare'].max()}\")"
      ],
      "metadata": {
        "id": "OZbvug7pcJ5h",
        "outputId": "60a61bb1-d7cb-4d5a-e424-7b9b9269c7c2",
        "colab": {
          "base_uri": "https://localhost:8080/"
        }
      },
      "execution_count": 13,
      "outputs": [
        {
          "output_type": "stream",
          "name": "stdout",
          "text": [
            "The maximum age is 80.0\n",
            "The maximum fare is 512.3292\n"
          ]
        }
      ]
    },
    {
      "cell_type": "code",
      "source": [
        "# Normalization of the data\n",
        "scaler = MinMaxScaler()\n",
        "# fit and transform the train set\n",
        "scaler.fit(train)\n",
        "train = scaler.transform(train)\n",
        "\n",
        "print(f\"The minimum value is {train.min()} and the maximum value is {train.max()}\")"
      ],
      "metadata": {
        "id": "RVDoYIvxTr4K",
        "outputId": "35b89f2f-a872-4c55-9fc9-aa996a25ace4",
        "colab": {
          "base_uri": "https://localhost:8080/"
        }
      },
      "execution_count": 14,
      "outputs": [
        {
          "output_type": "stream",
          "name": "stdout",
          "text": [
            "The minimum value is 0.0 and the maximum value is 1.0\n"
          ]
        }
      ]
    },
    {
      "cell_type": "markdown",
      "source": [
        "###Data split"
      ],
      "metadata": {
        "id": "qDexjFz7VM2x"
      }
    },
    {
      "cell_type": "code",
      "source": [
        "# Separating input from labels and training from testing sets\n",
        "input_data = train[:, 1:8]\n",
        "labels = train[:, 0]\n",
        "\n",
        "train_input, test_input, train_labels, test_labels = train_test_split(input_data, labels, test_size=0.2)\n",
        "\n",
        "print(f\"We have {train_input.shape[0]} training and {test_input.shape[0]} testing rows\")\n",
        "print(f\"There are {train_input.shape[1]} input columns\")"
      ],
      "metadata": {
        "id": "o6QflLTZVRFi",
        "outputId": "06caf61f-1d8c-4425-df4d-e38b8f9d833c",
        "colab": {
          "base_uri": "https://localhost:8080/"
        }
      },
      "execution_count": 15,
      "outputs": [
        {
          "output_type": "stream",
          "name": "stdout",
          "text": [
            "We have 711 training and 178 testing rows\n",
            "There are 7 input columns\n"
          ]
        }
      ]
    },
    {
      "cell_type": "code",
      "source": [
        "!mkdir data"
      ],
      "metadata": {
        "id": "zHb8BY6vWlI9"
      },
      "execution_count": 16,
      "outputs": []
    },
    {
      "cell_type": "code",
      "source": [
        "# Save the data to the filesystem\n",
        "with open(\"data/train.npy\", \"wb\") as f:\n",
        "  np.save(f, train_input)\n",
        "  np.save(f, train_labels)\n",
        "\n",
        "with open(\"data/test.npy\", \"wb\") as f:\n",
        "  np.save(f, test_input)\n",
        "  np.save(f, test_labels)"
      ],
      "metadata": {
        "id": "UUno5FmgWgMM"
      },
      "execution_count": 17,
      "outputs": []
    },
    {
      "cell_type": "markdown",
      "source": [
        "##Baseline"
      ],
      "metadata": {
        "id": "9m29U8JJXLkY"
      }
    },
    {
      "cell_type": "code",
      "source": [
        "# A random classifier\n",
        "random.seed(a=None, version=2)\n",
        "\n",
        "def classify(passenger):\n",
        "  # just returns either 0 or 1 as output\n",
        "  return random.randint(0, 1)"
      ],
      "metadata": {
        "id": "VF38btCWXMSk"
      },
      "execution_count": 18,
      "outputs": []
    },
    {
      "cell_type": "code",
      "source": [
        "# The classification runner\n",
        "def run(f_classifier, x):\n",
        "  return list(map(f_classifier, x))"
      ],
      "metadata": {
        "id": "bXZMgxZHc04J"
      },
      "execution_count": 19,
      "outputs": []
    },
    {
      "cell_type": "code",
      "source": [
        "# Let’s run it\n",
        "result = run(classify, train_input)"
      ],
      "metadata": {
        "id": "12lL6eO9dTZf"
      },
      "execution_count": 20,
      "outputs": []
    },
    {
      "cell_type": "code",
      "source": [
        "# Evaluate the classifier\n",
        "def evaluate(predictions, actual):\n",
        "  correct = list(filter(lambda x: x[0] == x[1], list(zip(predictions, actual))))\n",
        "  return f\"{len(correct)} correct predictions out of {len(actual)}. Accuracy {100 * len(correct) / len(actual):.2f}%\""
      ],
      "metadata": {
        "id": "Zs-QcNbjd0yb"
      },
      "execution_count": 21,
      "outputs": []
    },
    {
      "cell_type": "code",
      "source": [
        "print(evaluate(run(classify, train_input), train_labels))"
      ],
      "metadata": {
        "id": "SbDVOfpLeiBg",
        "outputId": "9be6bf8f-1ef6-479e-a86c-6af20bd65c6b",
        "colab": {
          "base_uri": "https://localhost:8080/"
        }
      },
      "execution_count": 22,
      "outputs": [
        {
          "output_type": "stream",
          "name": "stdout",
          "text": [
            "348 correct predictions out of 711. Accuracy 48.95%\n"
          ]
        }
      ]
    },
    {
      "cell_type": "code",
      "source": [
        "# Always predict a passenger died\n",
        "def predict_death(item):\n",
        "  return 0\n",
        "\n",
        "print(evaluate(run(predict_death, train_input), train_labels))"
      ],
      "metadata": {
        "id": "bt7lZDIAfOMs",
        "outputId": "ffe4ee8f-bb66-4ce4-efac-5cda8bba1fd7",
        "colab": {
          "base_uri": "https://localhost:8080/"
        }
      },
      "execution_count": 23,
      "outputs": [
        {
          "output_type": "stream",
          "name": "stdout",
          "text": [
            "443 correct predictions out of 711. Accuracy 62.31%\n"
          ]
        }
      ]
    },
    {
      "cell_type": "markdown",
      "source": [
        "##Model Evaluation"
      ],
      "metadata": {
        "id": "PDmaqRctf120"
      }
    },
    {
      "cell_type": "code",
      "source": [
        "# Confustion matrix of the predict death classifier\n",
        "predictions = run(predict_death, train_input)\n",
        "confusion_matrix(train_labels, predictions)"
      ],
      "metadata": {
        "id": "SJ-Uzakjf5Tl",
        "outputId": "9c6f4b68-54b2-4e8e-86d4-5915cdb97b04",
        "colab": {
          "base_uri": "https://localhost:8080/"
        }
      },
      "execution_count": 24,
      "outputs": [
        {
          "output_type": "execute_result",
          "data": {
            "text/plain": [
              "array([[443,   0],\n",
              "       [268,   0]])"
            ]
          },
          "metadata": {},
          "execution_count": 24
        }
      ]
    },
    {
      "cell_type": "code",
      "source": [
        "# The precision is the “accuracy of the predicted positives.”\n",
        "print(f\"The precision score of the predict_death classifier is {precision_score(train_labels, predictions, zero_division=False)}\")"
      ],
      "metadata": {
        "id": "BYEqgeGLBHPI",
        "outputId": "76b82735-ef3c-4dee-b41d-6478b69bc250",
        "colab": {
          "base_uri": "https://localhost:8080/"
        }
      },
      "execution_count": 25,
      "outputs": [
        {
          "output_type": "stream",
          "name": "stdout",
          "text": [
            "The precision score of the predict_death classifier is 0.0\n"
          ]
        }
      ]
    },
    {
      "cell_type": "code",
      "source": [
        "# The recall is the “accuracy of the actual positives.”\n",
        "print(f\"The recall score of the predict_death classifier is {recall_score(train_labels, predictions)}\")"
      ],
      "metadata": {
        "id": "r7la4jNDD1hB",
        "outputId": "11914d9a-28a0-499b-b7b7-9fd5bb7b2af6",
        "colab": {
          "base_uri": "https://localhost:8080/"
        }
      },
      "execution_count": 26,
      "outputs": [
        {
          "output_type": "stream",
          "name": "stdout",
          "text": [
            "The recall score of the predict_death classifier is 0.0\n"
          ]
        }
      ]
    },
    {
      "cell_type": "code",
      "source": [
        "# The specificity is the “accuracy of the actual negatives.”\n",
        "def specificity(matrix):\n",
        "  return matrix[0][0] / (matrix[0][0] + matrix[0][1]) if (matrix[0][0] + matrix[0][1] > 0) else 0\n",
        "\n",
        "cm = confusion_matrix(train_labels, predictions)\n",
        "print(f\"The specificity score of the predict_death classifier is {specificity(cm):.2f}\")"
      ],
      "metadata": {
        "id": "tSyeBx8bFE6E",
        "outputId": "c5a07890-15eb-49cc-a4e1-010f562e9536",
        "colab": {
          "base_uri": "https://localhost:8080/"
        }
      },
      "execution_count": 27,
      "outputs": [
        {
          "output_type": "stream",
          "name": "stdout",
          "text": [
            "The specificity score of the predict_death classifier is 1.00\n"
          ]
        }
      ]
    },
    {
      "cell_type": "code",
      "source": [
        "# The “negative predictive value” (NPV) is the “accuracy of the predicted negatives.”\n",
        "def npv(matrix):\n",
        "  return matrix[0][0] / (matrix[0][0] + matrix[1][0]) if (matrix[0][0] + matrix[1][0] > 0) else 0\n",
        "\n",
        "print(f\"The npv score of the predict_death classifier is {npv(cm):.2f}\")"
      ],
      "metadata": {
        "id": "f_Nntq5FFf_I",
        "outputId": "07c894d3-2b5d-4603-aa91-c1ed427a9f9e",
        "colab": {
          "base_uri": "https://localhost:8080/"
        }
      },
      "execution_count": 28,
      "outputs": [
        {
          "output_type": "stream",
          "name": "stdout",
          "text": [
            "The npv score of the predict_death classifier is 0.62\n"
          ]
        }
      ]
    },
    {
      "cell_type": "code",
      "source": [
        "# The scores of the random classifier\n",
        "random_predictions = run(classify, train_input)\n",
        "random_cm = confusion_matrix(train_labels, random_predictions)\n",
        "\n",
        "print(f\"The precision score of the random classifier is {precision_score(train_labels, random_predictions):.2f}\")\n",
        "print(f\"The recall score of the random classifier is {recall_score(train_labels, random_predictions):.2f}\")\n",
        "print(f\"The specificity score of the random classifier is {specificity (random_cm):.2f}\")\n",
        "print(f\"The npv score of the random classifier is {npv(random_cm):.2f}\")"
      ],
      "metadata": {
        "id": "GbSDSsa5Gsxp",
        "outputId": "03599172-6814-4c9c-fd4d-1a278482e12e",
        "colab": {
          "base_uri": "https://localhost:8080/"
        }
      },
      "execution_count": 29,
      "outputs": [
        {
          "output_type": "stream",
          "name": "stdout",
          "text": [
            "The precision score of the random classifier is 0.35\n",
            "The recall score of the random classifier is 0.46\n",
            "The specificity score of the random classifier is 0.47\n",
            "The npv score of the random classifier is 0.59\n"
          ]
        }
      ]
    },
    {
      "cell_type": "markdown",
      "source": [
        "##Hypocrite Classifier"
      ],
      "metadata": {
        "id": "vx3XFGgGH-8t"
      }
    },
    {
      "cell_type": "code",
      "source": [
        "#  A hypocrite classifier\n",
        "def hypocrite(passenger, weight):\n",
        "  return round(min(1, max(0, weight * 0.5 + random.uniform(0, 1))))"
      ],
      "metadata": {
        "id": "3yQmQ8RkHpMq"
      },
      "execution_count": 30,
      "outputs": []
    },
    {
      "cell_type": "code",
      "source": [
        "# The scores of the hypocrite classifier\n",
        "w_predictions = run(lambda passenger: hypocrite(passenger, -0.5), train_input)\n",
        "w_cm = confusion_matrix(train_labels, w_predictions)\n",
        "\n",
        "print(f\"The precision score of the hypocrite classifier is {precision_score(train_labels, w_predictions):.2f}\")\n",
        "print(f\"The recall score of the hypocrite classifier is {recall_score(train_labels, w_predictions):.2f}\")\n",
        "print(f\"The specificity score of the hypocrite classifier is {specificity (w_cm):.2f}\")\n",
        "print(f\"The npv score of the hypocrite classifier is {npv(w_cm):.2f}\")"
      ],
      "metadata": {
        "id": "xjeBtrXANtAN",
        "outputId": "65a5c83e-e6d5-4dc8-ca9d-8fe6b8f91d15",
        "colab": {
          "base_uri": "https://localhost:8080/"
        }
      },
      "execution_count": 31,
      "outputs": [
        {
          "output_type": "stream",
          "name": "stdout",
          "text": [
            "The precision score of the hypocrite classifier is 0.41\n",
            "The recall score of the hypocrite classifier is 0.28\n",
            "The specificity score of the hypocrite classifier is 0.75\n",
            "The npv score of the hypocrite classifier is 0.63\n"
          ]
        }
      ]
    },
    {
      "cell_type": "code",
      "source": [
        "# Run the hypocrite classifiers\n",
        "\n",
        "# number of steps to consider between −1 and 1\n",
        "cnt_steps = 40  \n",
        "\n",
        "# a list of the step numbers [0, 1, ..., 38, 39]\n",
        "steps = np.arange(0, cnt_steps, 1).tolist()\n",
        "\n",
        "# list of the weights at every step [-1, -0.95, ... 0.9, 0.95, 1.0]\n",
        "weights = list(map(\n",
        "    lambda weight: round(weight, 1), \n",
        "    np.arange(-1, 1 + 2 / (cnt_steps -1), 2 / (cnt_steps - 1)).tolist()\n",
        "))\n",
        "\n",
        "# list of predictions at every step\n",
        "l_predictions = list(map(\n",
        "    lambda step: run(\n",
        "        lambda passenger: hypocrite(passenger, weights[step]),\n",
        "        train_input\n",
        "    ),\n",
        "    steps\n",
        "))\n",
        "\n",
        "# list of confusion matrices at every step\n",
        "l_cm = list(map(\n",
        "    lambda step: confusion_matrix(train_labels, l_predictions[step]),\n",
        "    steps\n",
        "))"
      ],
      "metadata": {
        "id": "mKo7-KReON8B"
      },
      "execution_count": 32,
      "outputs": []
    },
    {
      "cell_type": "code",
      "source": [
        "# Plot the distribution of predictions\n",
        "\n",
        "# create a graph for the number of predicted deaths\n",
        "deaths, = plt.plot(\n",
        "    weights, # point at x-axis\n",
        "    list(map(lambda cur: l_cm[cur][0][0] + l_cm[cur][1][0], steps)),\n",
        "    \"lightsalmon\",  # color of the graph\n",
        "    label=\"Predicted death\"\n",
        ")\n",
        "\n",
        "# create a graph for the number of predicted survivals\n",
        "survivals, = plt.plot(\n",
        "    weights, # point at x-axis\n",
        "    list(map(lambda cur: l_cm[cur][0][1] + l_cm[cur][1][1], steps)),\n",
        "    \"lightgreen\",  # color of the graph\n",
        "    label=\"Predicted survival\"\n",
        ")\n",
        "\n",
        "plt.legend(handles=[deaths, survivals], loc=\"upper center\", bbox_to_anchor=(0.5, -0.15), framealpha=0.0, ncol=2)\n",
        "plt.xlabel(\"Weight\")\n",
        "plt.ylabel(\"Number of predictions\")\n",
        "plt.show()"
      ],
      "metadata": {
        "id": "LKeOmGSbRVQF",
        "outputId": "58a5263e-b213-443e-b606-875836957244",
        "colab": {
          "base_uri": "https://localhost:8080/",
          "height": 304
        }
      },
      "execution_count": 33,
      "outputs": [
        {
          "output_type": "display_data",
          "data": {
            "text/plain": [
              "<Figure size 432x288 with 1 Axes>"
            ],
            "image/png": "[encoded data removed]"
          },
          "metadata": {
            "needs_background": "light"
          }
        }
      ]
    },
    {
      "cell_type": "code",
      "source": [
        "# Metrics of the hypocrite classifier\n",
        "\n",
        "l_precision = list(map(\n",
        "    lambda step: precision_score(train_labels, l_predictions[step]),\n",
        "    steps\n",
        "))\n",
        "\n",
        "l_recall = list(map(\n",
        "    lambda step: recall_score(train_labels, l_predictions[step]),\n",
        "    steps\n",
        "))\n",
        "\n",
        "l_specificity = list(map(lambda step: specificity(l_cm[step]), steps))\n",
        "l_npv = list(map(lambda step: npv(l_cm[step]), steps))"
      ],
      "metadata": {
        "id": "YLiv3jW3TJTC"
      },
      "execution_count": null,
      "outputs": []
    },
    {
      "cell_type": "code",
      "source": [
        "# Plot the performance measures\n",
        "m_precision, = plt.plot(weights, l_precision, 'pink', label=\"precision\")\n",
        "m_recall, = plt.plot(weights, l_recall, 'cyan', label=\"recall\")\n",
        "m_specificity, = plt.plot(weights, l_specificity, 'gold', label=\"specificity\")\n",
        "m_npv, = plt.plot(weights, l_npv, 'coral', label=\"npv\")\n",
        "\n",
        "plt.legend(\n",
        "    handles=[m_precision, m_recall, m_specificity, m_npv],\n",
        "    loc='upper center',\n",
        "    bbox_to_anchor=(0.5, -0.15),\n",
        "    framealpha=0.0,\n",
        "    ncol=4)\n",
        "\n",
        "plt.xlabel(\"Weight\")\n",
        "plt.ylabel(\"Number of predictions\")\n",
        "plt.show()"
      ],
      "metadata": {
        "id": "_32KEn6gY59p",
        "outputId": "86068201-1575-493d-a4a7-ea32fb0a6a02",
        "colab": {
          "base_uri": "https://localhost:8080/",
          "height": 304
        }
      },
      "execution_count": 36,
      "outputs": [
        {
          "output_type": "display_data",
          "data": {
            "text/plain": [
              "<Figure size 432x288 with 1 Axes>"
            ],
            "image/png": "[encoded data removed]"
          },
          "metadata": {
            "needs_background": "light"
          }
        }
      ]
    },
    {
      "cell_type": "code",
      "source": [
        "# Calculating the mean of the measures\n",
        "l_mean = list(map(lambda step: sum(step) * 0.25, zip(l_precision, l_recall, l_specificity, l_npv)))\n",
        "\n",
        "m_mean, = plt.plot(weights, l_mean, \"pink\", label=\"Mean of the measures\")\n",
        "plt.legend(handles=[m_mean],loc='upper center', bbox_to_anchor=(0.5, -0.15),framealpha=0.0)\n",
        "plt.ylim(0, 1)\n",
        "plt.show()"
      ],
      "metadata": {
        "id": "kLTm4ZI2aWn_",
        "outputId": "46fc8139-11e4-463d-dd13-a5d33e416ccb",
        "colab": {
          "base_uri": "https://localhost:8080/",
          "height": 308
        }
      },
      "execution_count": 37,
      "outputs": [
        {
          "output_type": "display_data",
          "data": {
            "text/plain": [
              "<Figure size 432x288 with 1 Axes>"
            ],
            "image/png": "[encoded data removed]"
          },
          "metadata": {
            "needs_background": "light"
          }
        }
      ]
    },
    {
      "cell_type": "code",
      "source": [
        "# A reusable function to unmask the hypocrite classifier\n",
        "def classifier_report(name, run, classify, input, labels):\n",
        "  cr_predictions = run(classify, input)\n",
        "  cr_cm = confusion_matrix(labels, cr_predictions)\n",
        "\n",
        "  cr_precision = precision_score(labels, cr_predictions)\n",
        "  cr_recall = recall_score(labels, cr_predictions)\n",
        "  cr_specificity = specificity(cr_cm)\n",
        "  cr_npv = npv(cr_cm)\n",
        "  cr_level = 0.25*(cr_precision + cr_recall + cr_specificity + cr_npv)\n",
        "\n",
        "  print(f\"The precision score of the {name} classifier is {cr_precision:.2f}\")\n",
        "  print(f\"The recall score of the {name} classifier is {cr_recall:.2f}\")\n",
        "  print(f\"The specificity score of the {name} classifier is {cr_specificity:.2f}\")\n",
        "  print(f\"The npv score of the {name} classifier is {cr_npv:.2f}\")\n",
        "  print(f\"The information level is: {cr_level:.2f}\")"
      ],
      "metadata": {
        "id": "24OIfXpYcqDH"
      },
      "execution_count": 39,
      "outputs": []
    },
    {
      "cell_type": "code",
      "source": [
        "# The report of the random classifier\n",
        "classifier_report(\"Random PQC\", run, classify, train_input, train_labels)"
      ],
      "metadata": {
        "id": "5bPnh5SXdb4a",
        "outputId": "387c856f-ee73-4a63-d009-f528fb1952bf",
        "colab": {
          "base_uri": "https://localhost:8080/"
        }
      },
      "execution_count": 40,
      "outputs": [
        {
          "output_type": "stream",
          "name": "stdout",
          "text": [
            "The precision score of the Random PQC classifier is 0.38\n",
            "The recall score of the Random PQC classifier is 0.53\n",
            "The specificity score of the Random PQC classifier is 0.49\n",
            "The npv score of the Random PQC classifier is 0.63\n",
            "The information level is: 0.51\n"
          ]
        }
      ]
    }
  ]
}