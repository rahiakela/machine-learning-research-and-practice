{
  "nbformat": 4,
  "nbformat_minor": 0,
  "metadata": {
    "colab": {
      "name": "1-implementing-feature-statistics-using-facets.ipynb",
      "provenance": [],
      "toc_visible": true,
      "authorship_tag": "ABX9TyP5YlLwzFzAfzQ27d4p844u",
      "include_colab_link": true
    },
    "kernelspec": {
      "name": "python3",
      "display_name": "Python 3"
    },
    "language_info": {
      "name": "python"
    }
  },
  "cells": [
    {
      "cell_type": "markdown",
      "metadata": {
        "id": "view-in-github",
        "colab_type": "text"
      },
      "source": [
        "<a href=\"https://colab.research.google.com/github/rahiakela/hands-on-explainable-ai-xai-with-python/blob/main/3-explaining-machine-learning-with-facets/1_implementing_feature_statistics_using_facets.ipynb\" target=\"_parent\"><img src=\"https://colab.research.google.com/assets/colab-badge.svg\" alt=\"Open In Colab\"/></a>"
      ]
    },
    {
      "cell_type": "markdown",
      "metadata": {
        "id": "NEjIhs1xkWUS"
      },
      "source": [
        "## Implementing the feature statistics using Facets"
      ]
    },
    {
      "cell_type": "markdown",
      "metadata": {
        "id": "P6nH8emzks5e"
      },
      "source": [
        "Lack of the right data often poisons an artificial intelligence (AI) project from the start. We are used to downloading ready-to-use datasets from Kaggle, scikit-learn, and other reliable sources.\n",
        "\n",
        "We focus on learning how to use and implement machine learning (ML) algorithms. However, reality hits AI project managers hard on day one of a project.\n",
        "Companies rarely have clean or even sufficient data for a project. Corporations have massive amounts of data, but they often come from different departments.\n",
        "\n",
        "When finally you obtain a training dataset sample, you may find that your\n",
        "AI model does not work as planned. You might have to change ML models or find\n",
        "out what is wrong with the data. You are trapped right from the start. What you\n",
        "thought would be an excellent AI project has turned into a nightmare.\n",
        "\n",
        "You need to get out of this trap rapidly by first explaining the data availability problem. You must find a way to explain why the datasets require improvements. You must also explain which features require more data, better quality, or volume. You do not have the time or resources to develop a new explainable AI (XAI) solution for each project.\n",
        "\n",
        "Facets Overview and Facets Dive provide visualization tools to analyze your\n",
        "training and testing data feature by feature."
      ]
    },
    {
      "cell_type": "markdown",
      "metadata": {
        "id": "WCG-IaQllL19"
      },
      "source": [
        "##Setup"
      ]
    },
    {
      "cell_type": "code",
      "metadata": {
        "id": "vqQ4d9X6lM4V"
      },
      "source": [
        "!pip install facets-overview"
      ],
      "execution_count": null,
      "outputs": []
    },
    {
      "cell_type": "code",
      "metadata": {
        "id": "1tCnRge8lVZ5"
      },
      "source": [
        "import os\n",
        "import pandas as pd\n",
        "import base64\n",
        "from facets_overview.generic_feature_statistics_generator import GenericFeatureStatisticsGenerator\n",
        "\n",
        "from IPython.core.display import display, HTML\n",
        "from scipy.stats import entropy"
      ],
      "execution_count": 2,
      "outputs": []
    },
    {
      "cell_type": "code",
      "metadata": {
        "colab": {
          "base_uri": "https://localhost:8080/"
        },
        "id": "wh2AyG3plwDA",
        "outputId": "d2f8cbb2-ece3-43db-89a0-3c4a8970aeb7"
      },
      "source": [
        "%%shell\n",
        "\n",
        "wget -q https://raw.githubusercontent.com/PacktPublishing/Hands-On-Explainable-AI-XAI-with-Python/master/Chapter03/DLH_train.csv\n",
        "wget -q https://raw.githubusercontent.com/PacktPublishing/Hands-On-Explainable-AI-XAI-with-Python/master/Chapter03/DLH_test.csv"
      ],
      "execution_count": 3,
      "outputs": [
        {
          "output_type": "execute_result",
          "data": {
            "text/plain": [
              ""
            ]
          },
          "metadata": {
            "tags": []
          },
          "execution_count": 3
        }
      ]
    },
    {
      "cell_type": "markdown",
      "metadata": {
        "id": "KRe6Be-cme5y"
      },
      "source": [
        "##Reading the data files"
      ]
    },
    {
      "cell_type": "code",
      "metadata": {
        "colab": {
          "base_uri": "https://localhost:8080/"
        },
        "id": "m7x0L_YjmdTu",
        "outputId": "a488216f-1010-406a-ae13-1690264cb453"
      },
      "source": [
        "# Setting the path for each file\n",
        "dtrain = \"/content/DLH_train.csv\"\n",
        "dtest = \"/content/DLH_test.csv\"\n",
        "print(dtrain, dtest)"
      ],
      "execution_count": 4,
      "outputs": [
        {
          "output_type": "stream",
          "text": [
            "/content/DLH_train.csv /content/DLH_test.csv\n"
          ],
          "name": "stdout"
        }
      ]
    },
    {
      "cell_type": "code",
      "metadata": {
        "id": "f3tf3cHYmqxH"
      },
      "source": [
        "# Loading Denis Rothman research training and testing data into DataFrames\n",
        "features = [\"colored_sputum\", \"cough\", \"fever\", \"headache\", \"days\", \"france\", \"chicago\", \"class\"]"
      ],
      "execution_count": 5,
      "outputs": []
    },
    {
      "cell_type": "markdown",
      "metadata": {
        "id": "EmvYSC0knDzF"
      },
      "source": [
        "The data files contain no headers so we will use our features array to define the names of the columns for the training data:"
      ]
    },
    {
      "cell_type": "code",
      "metadata": {
        "colab": {
          "base_uri": "https://localhost:8080/",
          "height": 204
        },
        "id": "SiXMTEeSnDQV",
        "outputId": "dcb2d308-1ecb-4805-b18f-03fa4397000b"
      },
      "source": [
        "train_data = pd.read_csv(dtrain, names=features, sep=r'\\s*,\\s*', engine=\"python\", na_values=\"?\")\n",
        "test_data = pd.read_csv(dtest, names=features, sep=r'\\s*,\\s*', skiprows=[0], engine=\"python\", na_values=\"?\")\n",
        "\n",
        "train_data.head()"
      ],
      "execution_count": 6,
      "outputs": [
        {
          "output_type": "execute_result",
          "data": {
            "text/html": [
              "<div>\n",
              "<style scoped>\n",
              "    .dataframe tbody tr th:only-of-type {\n",
              "        vertical-align: middle;\n",
              "    }\n",
              "\n",
              "    .dataframe tbody tr th {\n",
              "        vertical-align: top;\n",
              "    }\n",
              "\n",
              "    .dataframe thead th {\n",
              "        text-align: right;\n",
              "    }\n",
              "</style>\n",
              "<table border=\"1\" class=\"dataframe\">\n",
              "  <thead>\n",
              "    <tr style=\"text-align: right;\">\n",
              "      <th></th>\n",
              "      <th>colored_sputum</th>\n",
              "      <th>cough</th>\n",
              "      <th>fever</th>\n",
              "      <th>headache</th>\n",
              "      <th>days</th>\n",
              "      <th>france</th>\n",
              "      <th>chicago</th>\n",
              "      <th>class</th>\n",
              "    </tr>\n",
              "  </thead>\n",
              "  <tbody>\n",
              "    <tr>\n",
              "      <th>0</th>\n",
              "      <td>1.0</td>\n",
              "      <td>3.5</td>\n",
              "      <td>9.4</td>\n",
              "      <td>3.0</td>\n",
              "      <td>3</td>\n",
              "      <td>0</td>\n",
              "      <td>1</td>\n",
              "      <td>flu</td>\n",
              "    </tr>\n",
              "    <tr>\n",
              "      <th>1</th>\n",
              "      <td>1.0</td>\n",
              "      <td>3.4</td>\n",
              "      <td>8.4</td>\n",
              "      <td>4.0</td>\n",
              "      <td>2</td>\n",
              "      <td>0</td>\n",
              "      <td>1</td>\n",
              "      <td>flu</td>\n",
              "    </tr>\n",
              "    <tr>\n",
              "      <th>2</th>\n",
              "      <td>1.0</td>\n",
              "      <td>3.3</td>\n",
              "      <td>7.3</td>\n",
              "      <td>3.0</td>\n",
              "      <td>4</td>\n",
              "      <td>0</td>\n",
              "      <td>1</td>\n",
              "      <td>flu</td>\n",
              "    </tr>\n",
              "    <tr>\n",
              "      <th>3</th>\n",
              "      <td>1.0</td>\n",
              "      <td>3.4</td>\n",
              "      <td>9.5</td>\n",
              "      <td>4.0</td>\n",
              "      <td>2</td>\n",
              "      <td>0</td>\n",
              "      <td>1</td>\n",
              "      <td>flu</td>\n",
              "    </tr>\n",
              "    <tr>\n",
              "      <th>4</th>\n",
              "      <td>1.0</td>\n",
              "      <td>2.0</td>\n",
              "      <td>8.0</td>\n",
              "      <td>3.5</td>\n",
              "      <td>1</td>\n",
              "      <td>0</td>\n",
              "      <td>1</td>\n",
              "      <td>flu</td>\n",
              "    </tr>\n",
              "  </tbody>\n",
              "</table>\n",
              "</div>"
            ],
            "text/plain": [
              "   colored_sputum  cough  fever  headache  days  france  chicago class\n",
              "0             1.0    3.5    9.4       3.0     3       0        1   flu\n",
              "1             1.0    3.4    8.4       4.0     2       0        1   flu\n",
              "2             1.0    3.3    7.3       3.0     4       0        1   flu\n",
              "3             1.0    3.4    9.5       4.0     2       0        1   flu\n",
              "4             1.0    2.0    8.0       3.5     1       0        1   flu"
            ]
          },
          "metadata": {
            "tags": []
          },
          "execution_count": 6
        }
      ]
    },
    {
      "cell_type": "markdown",
      "metadata": {
        "id": "fEeTT4ydphuH"
      },
      "source": [
        "##Creating feature statistics for the datasets"
      ]
    },
    {
      "cell_type": "markdown",
      "metadata": {
        "id": "7hYW5Lf7pihA"
      },
      "source": [
        "Facets Overview provides a wide range of statistics for each feature of a dataset.Facets Overview will help you detect missing data, zero values, non-uniformity in data distributions.\n",
        "\n",
        "Without Facets Overview or a similar tool, the only way to obtain statistics would be to write our programs or use spreadsheets. Writing our own functions can be time-consuming and costly. This is where Facets provides statistics with a few lines of code that we will use now.\n",
        "\n",
        "We will encode the data, stringify it, and build the statistics generator.\n",
        "When using JSON, we first stringify information to transfer data into strings before sending it to JavaScript functions."
      ]
    },
    {
      "cell_type": "code",
      "metadata": {
        "id": "4V0aYIFwpRHA"
      },
      "source": [
        "gfsg = GenericFeatureStatisticsGenerator()\n",
        "proto = gfsg.ProtoFromDataFrames([\n",
        "  {\"name\": \"train\", \"table\": train_data},\n",
        "  {\"name\": \"test\", \"table\": test_data}                             \n",
        "])"
      ],
      "execution_count": 7,
      "outputs": []
    },
    {
      "cell_type": "markdown",
      "metadata": {
        "id": "po61qGezq88X"
      },
      "source": [
        "We will creates a UTF-8 encoder/decoder string that will be plugged into the\n",
        "HTML interface."
      ]
    },
    {
      "cell_type": "code",
      "metadata": {
        "id": "_v8JHX9fq76T"
      },
      "source": [
        "protostr = base64.b64encode(proto.SerializePartialToString()).decode(\"utf-8\")"
      ],
      "execution_count": 8,
      "outputs": []
    },
    {
      "cell_type": "markdown",
      "metadata": {
        "id": "BCzTe2CUrX__"
      },
      "source": [
        "##Display HTML page for Facets Overview"
      ]
    },
    {
      "cell_type": "code",
      "metadata": {
        "id": "qrn21j-ArP88"
      },
      "source": [
        "HTML_TEMPLATE = \"\"\"\n",
        "<script src=\"https://cdnjs.cloudflare.com/ajax/libs/webcomponentsjs/1.3.3/webcomponents-lite.js\"></script>\n",
        "        <link rel=\"import\" href=\"https://raw.githubusercontent.com/PAIR-code/facets/1.0.0/facets-dist/facets-jupyter.html\" >\n",
        "        <facets-overview id=\"elem\"></facets-overview>\n",
        "        <script>\n",
        "          document.querySelector(\"#elem\").protoInput = \"{protostr}\";\n",
        "        </script>\n",
        "\"\"\"\n",
        "html = HTML_TEMPLATE.format(protostr=protostr)"
      ],
      "execution_count": 9,
      "outputs": []
    },
    {
      "cell_type": "markdown",
      "metadata": {
        "id": "aZYeavqYr43H"
      },
      "source": [
        "The protostr variable containing our stringified encoded data is now plugged into the template.\n",
        "\n",
        "Then, the HTML template named html is sent to IPython's display function."
      ]
    },
    {
      "cell_type": "code",
      "metadata": {
        "colab": {
          "base_uri": "https://localhost:8080/",
          "height": 1000
        },
        "id": "nBUYJaDYr_Lb",
        "outputId": "485a4347-0a4f-4f26-d435-bcdc32719049"
      },
      "source": [
        "display(HTML(html))"
      ],
      "execution_count": 10,
      "outputs": [
        {
          "output_type": "display_data",
          "data": {
            "text/html": [
              "\n",
              "<script src=\"https://cdnjs.cloudflare.com/ajax/libs/webcomponentsjs/1.3.3/webcomponents-lite.js\"></script>\n",
              "        <link rel=\"import\" href=\"https://raw.githubusercontent.com/PAIR-code/facets/1.0.0/facets-dist/facets-jupyter.html\" >\n",
              "        <facets-overview id=\"elem\"></facets-overview>\n",
              "        <script>\n",
              "          document.querySelector(\"#elem\").protoInput = \"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\";\n",
              "        </script>\n"
            ],
            "text/plain": [
              "<IPython.core.display.HTML object>"
            ]
          },
          "metadata": {
            "tags": []
          }
        }
      ]
    },
    {
      "cell_type": "markdown",
      "metadata": {
        "id": "XcqS-_lssV9-"
      },
      "source": [
        "We can now visualize and explore the data."
      ]
    },
    {
      "cell_type": "markdown",
      "metadata": {
        "id": "aFqKW_-fFMA2"
      },
      "source": [
        "##Sorting by distribution distance"
      ]
    },
    {
      "cell_type": "markdown",
      "metadata": {
        "id": "sp6iOJwZFM0Q"
      },
      "source": [
        "Calculating the distribution distance between the training set and the test set, for example, can be implemented with the Kullback-Leibler divergence, also named relative entropy.\n",
        "\n",
        "We can calculate the distribution distance with three variables:\n",
        "- S is the relative entropy\n",
        "- X is the dtrain dataset\n",
        "- Y is the dtest dataset\n",
        "\n",
        "The equation used by scikit-learn for Kullback-Leibler divergence is as follows:\n",
        "\n",
        "```python\n",
        "S = sum(X* log(Y/X))\n",
        "```\n",
        "\n",
        "If the values of X or Y do not add up to 1, they will be normalized.\n",
        "\n",
        "In Facets Overview, a few examples show that entropy increases as\n",
        "distribution distance increases.\n",
        "\n",
        "We can start with two data distributions that are similar:"
      ]
    },
    {
      "cell_type": "code",
      "metadata": {
        "id": "a4ZZt2cHsGTO",
        "outputId": "2b5f3e7f-086d-431d-bb94-14ecb72e5c04",
        "colab": {
          "base_uri": "https://localhost:8080/"
        }
      },
      "source": [
        "X = [1, 1, 1, 2, 1, 1, 4]\n",
        "Y = [1, 2, 3, 4, 2, 2, 5]\n",
        "\n",
        "entropy(X, Y)"
      ],
      "execution_count": 12,
      "outputs": [
        {
          "output_type": "execute_result",
          "data": {
            "text/plain": [
              "0.05045985212037224"
            ]
          },
          "metadata": {
            "tags": []
          },
          "execution_count": 12
        }
      ]
    },
    {
      "cell_type": "markdown",
      "metadata": {
        "id": "dC7Asr-OG9f_"
      },
      "source": [
        "However, if the two data distributions begin to change, they will diverge, producing higher entropy values:"
      ]
    },
    {
      "cell_type": "code",
      "metadata": {
        "id": "SF6KlMSTFhlG",
        "outputId": "dd2e7216-e6fe-4898-d578-cab9f28f17c4",
        "colab": {
          "base_uri": "https://localhost:8080/"
        }
      },
      "source": [
        "X = [10, 1, 1, 20, 1, 10, 4]\n",
        "Y = [1, 2, 3, 4, 2, 2, 5]\n",
        "\n",
        "entropy(X, Y)"
      ],
      "execution_count": 13,
      "outputs": [
        {
          "output_type": "execute_result",
          "data": {
            "text/plain": [
              "0.5396425997525232"
            ]
          },
          "metadata": {
            "tags": []
          },
          "execution_count": 13
        }
      ]
    },
    {
      "cell_type": "markdown",
      "metadata": {
        "id": "H0tMmwaJHMcb"
      },
      "source": [
        "The relative entropy has increased. The value now is 0.53."
      ]
    },
    {
      "cell_type": "markdown",
      "metadata": {
        "id": "T2SS4BU9HohI"
      },
      "source": [
        "##Facets Dive"
      ]
    },
    {
      "cell_type": "code",
      "metadata": {
        "id": "PDKxWMiwHGAg"
      },
      "source": [
        ""
      ],
      "execution_count": null,
      "outputs": []
    }
  ]
}