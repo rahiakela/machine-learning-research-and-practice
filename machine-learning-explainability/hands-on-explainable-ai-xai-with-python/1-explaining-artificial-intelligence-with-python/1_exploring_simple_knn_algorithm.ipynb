{
  "nbformat": 4,
  "nbformat_minor": 0,
  "metadata": {
    "colab": {
      "name": "1-exploring-simple-knn-algorithm.ipynb",
      "provenance": [],
      "toc_visible": true,
      "authorship_tag": "ABX9TyN0RwjpMA6SyJ3oqSqoA+21",
      "include_colab_link": true
    },
    "kernelspec": {
      "name": "python3",
      "display_name": "Python 3"
    }
  },
  "cells": [
    {
      "cell_type": "markdown",
      "metadata": {
        "id": "view-in-github",
        "colab_type": "text"
      },
      "source": [
        "<a href=\"https://colab.research.google.com/github/rahiakela/hands-on-explainable-ai-xai-with-python/blob/main/1-explaining-artificial-intelligence-with-python/1_exploring_simple_knn_algorithm.ipynb\" target=\"_parent\"><img src=\"https://colab.research.google.com/assets/colab-badge.svg\" alt=\"Open In Colab\"/></a>"
      ]
    },
    {
      "cell_type": "markdown",
      "metadata": {
        "id": "UsDqmCp9K53v"
      },
      "source": [
        "## Exploring a simple KNN algorithm"
      ]
    },
    {
      "cell_type": "markdown",
      "metadata": {
        "id": "4cAcoOVgLOqM"
      },
      "source": [
        "We will begin by exploring a simple KNN algorithm that can predict a disease with a few symptoms. We will limit our study to detecting the flu, a cold, or pneumonia. The number of symptoms will be limited to a cough, fever, headache, and colored sputum.\r\n",
        "\r\n",
        "From the doctor's perspective, the symptoms are generally viewed as follows:\r\n",
        "\r\n",
        "- A mild headache and a fever could be a cold\r\n",
        "- A cough and fever could be a flu\r\n",
        "- A fever and a cough with colored sputum could be pneumonia\r\n",
        "\r\n",
        "Notice the verb is \"could\" and not \"must.\" **A medical diagnosis remains a probability in the very early stages of a disease. A probability becomes certain only after a few minutes to a few days, and sometimes even weeks.**"
      ]
    },
    {
      "cell_type": "markdown",
      "metadata": {
        "id": "7rbIlXCvMr6E"
      },
      "source": [
        "## k-nearest neighbors"
      ]
    },
    {
      "cell_type": "markdown",
      "metadata": {
        "id": "VN0ZOq0NMtRL"
      },
      "source": [
        "The KNN algorithm is best explained with a real-life example. Imagine you are in\r\n",
        "a supermarket. The supermarket is the dataset. You are at point $p_n$ in an aisle of the supermarket. You are looking for bottled water. You see many brands of bottled water spread over a few yards (or meters). You are also tempted by some cans of soda you see right next to you; however, you want to avoid sugar.\r\n",
        "\r\n",
        "In terms of what's best for your diet, we will use a scale from 1 (very good for your health) to 10 (very bad for your health). $p_n$ is at point (0, 0) in a Euclidian space in which the first term is $x$ and the second $y$.\r\n",
        "\r\n",
        "The many brands of bottled water are between (0, 1) and (2, 2) in terms of their\r\n",
        "features in terms of health standards. The many brands of soda, which are generally bad in terms of health standards, have features between (3, 3) and (10, 10).\r\n",
        "\r\n",
        "To find the nearest neighbors in terms of health features, for example, the KNN\r\n",
        "algorithm will calculate the Euclidean distance between pn and all the other points in our dataset. The calculation will run from $p_1$ to $p_{n-1}$ using the Euclidean distance formula. The $k$ in KNN represents the number of \"nearest neighbors\" the algorithm will consider for classification purposes. \r\n",
        "\r\n",
        "The Euclidean distance ($d_1$) between two given points, such as between $p_n(x_1, y_1)$ and $p_1(x_2, y_2)$, for example, is as follows:\r\n",
        "\r\n",
        "$$ d_1(p_n, p_1) = \\sqrt{(x_1 - x_2)^2 + (y_1 - y_2)^2} $$\r\n",
        "\r\n",
        "Intuitively, we know that the data points located between (0, 1) and (2, 2) are closer to our point (0, 0) than the data points located between (3, 3) and (10, 10). The nearest neighbors of our point (0, 0), are the bottled water data points.\r\n",
        "\r\n",
        "Note that these are representations of the closest features to us, not the physical points in the supermarket. The fact that the soda is close to us in the real world of the supermarket does not bring it any closer to our need in terms of our health requirements.\r\n",
        "\r\n",
        "Considering the number of distances to calculate, a function such as the one\r\n",
        "provided by sklearn.neighbors proves necessary. We will now go back to our\r\n",
        "medical diagnosis program and build a KNN in Python."
      ]
    },
    {
      "cell_type": "markdown",
      "metadata": {
        "id": "H2dHbypnQ51p"
      },
      "source": [
        "## Setup"
      ]
    },
    {
      "cell_type": "code",
      "metadata": {
        "id": "hkC-Vh_6Q7AR"
      },
      "source": [
        "import pandas as pd\r\n",
        "from matplotlib import pyplot as plt\r\n",
        "from sklearn.neighbors import KNeighborsClassifier"
      ],
      "execution_count": 1,
      "outputs": []
    },
    {
      "cell_type": "code",
      "metadata": {
        "colab": {
          "base_uri": "https://localhost:8080/"
        },
        "id": "ejl0LTpSUwbI",
        "outputId": "2d8e8d59-fb44-4444-f526-97677b7eab6f"
      },
      "source": [
        "!wget https://raw.githubusercontent.com/rahiakela/hands-on-explainable-ai-xai-with-python/main/1-explaining-artificial-intelligence-with-python/D1.csv"
      ],
      "execution_count": 2,
      "outputs": [
        {
          "output_type": "stream",
          "text": [
            "--2021-03-07 13:41:42--  https://raw.githubusercontent.com/rahiakela/hands-on-explainable-ai-xai-with-python/main/1-explaining-artificial-intelligence-with-python/D1.csv\n",
            "Resolving raw.githubusercontent.com (raw.githubusercontent.com)... 185.199.108.133, 185.199.109.133, 185.199.110.133, ...\n",
            "Connecting to raw.githubusercontent.com (raw.githubusercontent.com)|185.199.108.133|:443... connected.\n",
            "HTTP request sent, awaiting response... 200 OK\n",
            "Length: 3229 (3.2K) [text/plain]\n",
            "Saving to: ‘D1.csv’\n",
            "\n",
            "\rD1.csv                0%[                    ]       0  --.-KB/s               \rD1.csv              100%[===================>]   3.15K  --.-KB/s    in 0s      \n",
            "\n",
            "2021-03-07 13:41:42 (48.3 MB/s) - ‘D1.csv’ saved [3229/3229]\n",
            "\n"
          ],
          "name": "stdout"
        }
      ]
    },
    {
      "cell_type": "markdown",
      "metadata": {
        "id": "oZh8a8zPU-Oc"
      },
      "source": [
        "## Loading dataset"
      ]
    },
    {
      "cell_type": "markdown",
      "metadata": {
        "id": "g-SLBQaIValY"
      },
      "source": [
        "We now read the file and display a partial view of its content:"
      ]
    },
    {
      "cell_type": "code",
      "metadata": {
        "colab": {
          "base_uri": "https://localhost:8080/"
        },
        "id": "ZREnEYCEUyhG",
        "outputId": "e459b7ee-8baf-431e-d279-1119c2e284d3"
      },
      "source": [
        "df = pd.read_csv(\"D1.csv\")\r\n",
        "df2 = pd.read_csv(\"D1.csv\")\r\n",
        "print(df)"
      ],
      "execution_count": 9,
      "outputs": [
        {
          "output_type": "stream",
          "text": [
            "     colored_sputum  cough  fever  headache class\n",
            "0               1.0    3.5    9.4       3.0   flu\n",
            "1               1.0    3.4    8.4       4.0   flu\n",
            "2               1.0    3.3    7.3       3.0   flu\n",
            "3               1.0    3.4    9.5       4.0   flu\n",
            "4               1.0    2.0    8.0       3.5   flu\n",
            "..              ...    ...    ...       ...   ...\n",
            "145             0.0    1.0    4.2       2.3  cold\n",
            "146             0.5    2.5    2.0       1.7  cold\n",
            "147             0.0    1.0    3.2       2.0  cold\n",
            "148             0.4    3.4    2.4       2.3  cold\n",
            "149             0.0    1.0    3.1       1.8  cold\n",
            "\n",
            "[150 rows x 5 columns]\n"
          ],
          "name": "stdout"
        }
      ]
    },
    {
      "cell_type": "markdown",
      "metadata": {
        "id": "XReXl1zQ7KZ5"
      },
      "source": [
        "The four features are the four symptoms we need: colored sputum, cough, fever, and headache."
      ]
    },
    {
      "cell_type": "code",
      "metadata": {
        "colab": {
          "base_uri": "https://localhost:8080/",
          "height": 200
        },
        "id": "SSfbRySwVnLv",
        "outputId": "3737f82d-8de2-441c-f5d5-708859bc720a"
      },
      "source": [
        "df.head()"
      ],
      "execution_count": 10,
      "outputs": [
        {
          "output_type": "execute_result",
          "data": {
            "text/html": [
              "<div>\n",
              "<style scoped>\n",
              "    .dataframe tbody tr th:only-of-type {\n",
              "        vertical-align: middle;\n",
              "    }\n",
              "\n",
              "    .dataframe tbody tr th {\n",
              "        vertical-align: top;\n",
              "    }\n",
              "\n",
              "    .dataframe thead th {\n",
              "        text-align: right;\n",
              "    }\n",
              "</style>\n",
              "<table border=\"1\" class=\"dataframe\">\n",
              "  <thead>\n",
              "    <tr style=\"text-align: right;\">\n",
              "      <th></th>\n",
              "      <th>colored_sputum</th>\n",
              "      <th>cough</th>\n",
              "      <th>fever</th>\n",
              "      <th>headache</th>\n",
              "      <th>class</th>\n",
              "    </tr>\n",
              "  </thead>\n",
              "  <tbody>\n",
              "    <tr>\n",
              "      <th>0</th>\n",
              "      <td>1.0</td>\n",
              "      <td>3.5</td>\n",
              "      <td>9.4</td>\n",
              "      <td>3.0</td>\n",
              "      <td>flu</td>\n",
              "    </tr>\n",
              "    <tr>\n",
              "      <th>1</th>\n",
              "      <td>1.0</td>\n",
              "      <td>3.4</td>\n",
              "      <td>8.4</td>\n",
              "      <td>4.0</td>\n",
              "      <td>flu</td>\n",
              "    </tr>\n",
              "    <tr>\n",
              "      <th>2</th>\n",
              "      <td>1.0</td>\n",
              "      <td>3.3</td>\n",
              "      <td>7.3</td>\n",
              "      <td>3.0</td>\n",
              "      <td>flu</td>\n",
              "    </tr>\n",
              "    <tr>\n",
              "      <th>3</th>\n",
              "      <td>1.0</td>\n",
              "      <td>3.4</td>\n",
              "      <td>9.5</td>\n",
              "      <td>4.0</td>\n",
              "      <td>flu</td>\n",
              "    </tr>\n",
              "    <tr>\n",
              "      <th>4</th>\n",
              "      <td>1.0</td>\n",
              "      <td>2.0</td>\n",
              "      <td>8.0</td>\n",
              "      <td>3.5</td>\n",
              "      <td>flu</td>\n",
              "    </tr>\n",
              "  </tbody>\n",
              "</table>\n",
              "</div>"
            ],
            "text/plain": [
              "   colored_sputum  cough  fever  headache class\n",
              "0             1.0    3.5    9.4       3.0   flu\n",
              "1             1.0    3.4    8.4       4.0   flu\n",
              "2             1.0    3.3    7.3       3.0   flu\n",
              "3             1.0    3.4    9.5       4.0   flu\n",
              "4             1.0    2.0    8.0       3.5   flu"
            ]
          },
          "metadata": {
            "tags": []
          },
          "execution_count": 10
        }
      ]
    },
    {
      "cell_type": "markdown",
      "metadata": {
        "id": "XR2l-0Tn7Odb"
      },
      "source": [
        "The class column contains the three diseases we must predict: cold, flu,\r\n",
        "and pneumonia."
      ]
    },
    {
      "cell_type": "code",
      "metadata": {
        "id": "vsgtYKt5Vqcv",
        "outputId": "127f237a-806f-404f-bbb5-830e330d0112",
        "colab": {
          "base_uri": "https://localhost:8080/"
        }
      },
      "source": [
        "df[\"class\"].value_counts()"
      ],
      "execution_count": 11,
      "outputs": [
        {
          "output_type": "execute_result",
          "data": {
            "text/plain": [
              "cold         50\n",
              "pneumonia    50\n",
              "flu          50\n",
              "Name: class, dtype: int64"
            ]
          },
          "metadata": {
            "tags": []
          },
          "execution_count": 11
        }
      ]
    },
    {
      "cell_type": "markdown",
      "metadata": {
        "id": "eEE0Vi6W-7Jn"
      },
      "source": [
        "## Data exploration"
      ]
    },
    {
      "cell_type": "markdown",
      "metadata": {
        "id": "Zd6IIUVg-wz2"
      },
      "source": [
        "The values of each of the features in the dataset range from 0 to 9.9. They represent the risk level of a symptom. Decimal values are used when necessary.\r\n",
        "\r\n",
        "- **colored_sputum**: If the value is 0, the patient does not cough sputum. If the\r\n",
        "value is 3, the patient is coughing some sputum. If the value is 9, then the\r\n",
        "condition is serious. If it is 9.9 then the colored sputum is at the maximum\r\n",
        "level.\r\n",
        "\r\n",
        "- **cough**: If the value of cough is 1, and colored_sputum also has a low value, such as 1, then the patient is not acutely ill. If the value is high, such as 7, and colored_sputum is high as well, the patient might have pneumonia. The value of fever will provide more information.\r\n",
        "\r\n",
        "- **fever**: If fever is low, such as level 2, and the other values are also low, there is not much to worry about for the moment. However, if fever goes up with one of the other features going up, then the program will use the labels to\r\n",
        "train and provide a prediction and an explanation if headache also has a high\r\n",
        "level.\r\n",
        "\r\n",
        "- **headache**: For the West Nile virus, a high-value headache, such as 7, along\r\n",
        "with a high level of coughing, is a trigger to send the patient to the hospital\r\n",
        "immediately to test for the virus and avoid encephalitis, for example.\r\n",
        "\r\n",
        "At the same time, the novel coronavirus, COVID-19, was beginning to appear,\r\n",
        "making a diagnosis even more difficult. A severe headache with high fever and\r\n",
        "coughing led away from COVID-19 as a hypothesis. Many patients have serious\r\n",
        "symptoms that are not from COVID-19."
      ]
    },
    {
      "cell_type": "markdown",
      "metadata": {
        "id": "l1J474LpDiSq"
      },
      "source": [
        "## Training KNN classifier"
      ]
    },
    {
      "cell_type": "code",
      "metadata": {
        "id": "BKe0p4D_7XVh",
        "outputId": "27faa016-87a5-4228-dfbf-4bb52af2fbf0",
        "colab": {
          "base_uri": "https://localhost:8080/"
        }
      },
      "source": [
        "# KNN classification labels\r\n",
        "X = df.loc[:, \"colored_sputum\": \"headache\"]\r\n",
        "Y = df.loc[:, \"class\"]\r\n",
        "\r\n",
        "# train the model\r\n",
        "knn = KNeighborsClassifier()\r\n",
        "knn.fit(X, Y)"
      ],
      "execution_count": 12,
      "outputs": [
        {
          "output_type": "execute_result",
          "data": {
            "text/plain": [
              "KNeighborsClassifier(algorithm='auto', leaf_size=30, metric='minkowski',\n",
              "                     metric_params=None, n_jobs=None, n_neighbors=5, p=2,\n",
              "                     weights='uniform')"
            ]
          },
          "metadata": {
            "tags": []
          },
          "execution_count": 12
        }
      ]
    },
    {
      "cell_type": "markdown",
      "metadata": {
        "id": "xK4KgaSUELEF"
      },
      "source": [
        "The output shows the default values of the KNN classifier that we will have to\r\n",
        "explain at some point.\r\n",
        "\r\n",
        "If an expert requested an explanation, an interface could provide the following\r\n",
        "details:\r\n",
        "\r\n",
        "- **algorithm='auto'**: This will choose the best algorithm based on the values.\r\n",
        "- **leaf_size=30**: The leaf size sent to BallTree or to KDTree.\r\n",
        "- **metric='minkowski'**: The distance metric is the Minkowski metric, which\r\n",
        "uses a specific tensor for the calculation.\r\n",
        "- **n_jobs=None**: The number of parallel jobs that can be run.\r\n",
        "- **n_neighbors=5**: The number of neighbors to take into account.\r\n",
        "- **weights='uniform'**: All weights have a uniform value.\r\n",
        "\r\n",
        "\r\n",
        "The goal of the experiment is to explain how the program came up with the West Nile virus in such a way that a general practitioner could trust the prediction and send the patient to hospital for treatment.\r\n",
        "\r\n",
        "We now can now move on and visualize the trained model's output using\r\n",
        "matplotlib:"
      ]
    },
    {
      "cell_type": "code",
      "metadata": {
        "id": "V8ac_CXlECAZ",
        "outputId": "7a9176aa-aaf3-4ab5-dc2f-97a01aa2d4b2",
        "colab": {
          "base_uri": "https://localhost:8080/",
          "height": 308
        }
      },
      "source": [
        "# Plotting the relation of each feature with each class\r\n",
        "df = df2\r\n",
        "figure, (sub1, sub2, sub3, sub4) = plt.subplots(4, sharex=True, sharey=True)\r\n",
        "plt.suptitle('k-nearest neighbors')\r\n",
        "plt.xlabel('Feature')\r\n",
        "plt.ylabel('Class')\r\n",
        "\r\n",
        "X = df.loc[:, \"colored_sputum\"]\r\n",
        "Y = df.loc[:, \"class\"]\r\n",
        "sub1.scatter(X, Y, color=\"blue\", label=\"colored_sputum\")\r\n",
        "sub1.legend(loc=4, prop={\"size\": 5})\r\n",
        "\r\n",
        "sub1.set_title(\"Medical Diagnosis Software\")\r\n",
        "\r\n",
        "X = df.loc[:, \"cough\"]\r\n",
        "Y = df.loc[:, \"class\"]\r\n",
        "sub2.scatter(X, Y, color=\"green\", label=\"cough\")\r\n",
        "sub2.legend(loc=4, prop={\"size\": 5})\r\n",
        "\r\n",
        "X = df.loc[:, \"fever\"]\r\n",
        "Y = df.loc[:, \"class\"]\r\n",
        "sub3.scatter(X, Y, color=\"red\", label=\"fever\")\r\n",
        "sub3.legend(loc=4, prop={\"size\": 5})\r\n",
        "\r\n",
        "X = df.loc[:, \"headache\"]\r\n",
        "Y = df.loc[:, \"class\"]\r\n",
        "sub4.scatter(X, Y, color=\"black\", label=\"headache\")\r\n",
        "sub4.legend(loc=4, prop={\"size\": 5})\r\n",
        "\r\n",
        "figure.subplots_adjust(hspace=0)\r\n",
        "plt.show()"
      ],
      "execution_count": 14,
      "outputs": [
        {
          "output_type": "display_data",
          "data": {
            "image/png": "[encoded data removed]",
            "text/plain": [
              "<Figure size 432x288 with 4 Axes>"
            ]
          },
          "metadata": {
            "tags": [],
            "needs_background": "light"
          }
        }
      ]
    },
    {
      "cell_type": "markdown",
      "metadata": {
        "id": "rQrpv1ITSXCn"
      },
      "source": [
        "The doctor can use an intuitive form to quickly enter the severity of each symptom on a scale of 0 to 9.9:"
      ]
    },
    {
      "cell_type": "code",
      "metadata": {
        "id": "KZoCJ0QcPqvm"
      },
      "source": [
        "# @title Evaluation form\r\n",
        "colored_sputum =  1 # @param {type:\"integer\"}\r\n",
        "cough=3             # @param {type:\"integer\"}\r\n",
        "fever=7             # @param {type:\"integer\"}\r\n",
        "headache=5          # @param {type:\"integer\"}"
      ],
      "execution_count": 27,
      "outputs": []
    },
    {
      "cell_type": "markdown",
      "metadata": {
        "id": "fmUHGe_WSq7z"
      },
      "source": [
        "The program uses these values to create the input of the prediction the KNN now\r\n",
        "runs:"
      ]
    },
    {
      "cell_type": "code",
      "metadata": {
        "id": "Ek0gKSi8SdKW",
        "outputId": "fd97d299-e0b4-4de9-ce5e-8ed1a7c792a7",
        "colab": {
          "base_uri": "https://localhost:8080/"
        }
      },
      "source": [
        "# colored_sputum, cough, fever, headache\r\n",
        "cs = colored_sputum; c = cough; f = fever; h = headache;\r\n",
        "X_DL = [[cs, c, f, h]]\r\n",
        "\r\n",
        "prediction = knn.predict(X_DL)\r\n",
        "print(\"The prediction is:\", str(prediction).strip(\"[]\"))"
      ],
      "execution_count": 28,
      "outputs": [
        {
          "output_type": "stream",
          "text": [
            "The prediction is: 'flu'\n"
          ],
          "name": "stdout"
        }
      ]
    },
    {
      "cell_type": "markdown",
      "metadata": {
        "id": "67kK8LFUUKr6"
      },
      "source": [
        "The critical issue we have as AI specialists resides in the fact that, at first, the doctor does not trust AI or any other system to make life or death decisions. So, our concern was to explain AI to a doctor, not a developer. A user needs to be able to trust the XAI system enough to make a decision.\r\n",
        "\r\n",
        "Doctors are ready to use AI. We need to explain the predictions, not just\r\n",
        "make them.\r\n",
        "\r\n",
        "We are now at the heart of XAI. When the KNN runs with perfect accuracy but does\r\n",
        "not provide the diagnosis that will save a patient's life, the prediction is either a false positive if it produces the wrong prediction, or a false negative if it missed it! The whole point of people-centered AI is to\r\n",
        "detect weaknesses in our ML predictions and find innovative ways of improving the prediction."
      ]
    }
  ]
}