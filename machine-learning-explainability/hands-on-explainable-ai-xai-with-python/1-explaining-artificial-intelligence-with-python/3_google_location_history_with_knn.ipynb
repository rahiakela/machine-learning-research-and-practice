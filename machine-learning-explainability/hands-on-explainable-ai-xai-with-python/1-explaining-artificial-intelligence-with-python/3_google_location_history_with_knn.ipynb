{
  "nbformat": 4,
  "nbformat_minor": 0,
  "metadata": {
    "colab": {
      "name": "3-google-location-history-with-knn.ipynb",
      "provenance": [],
      "authorship_tag": "ABX9TyN+HJPqZfdDAn6PENUahncY",
      "include_colab_link": true
    },
    "kernelspec": {
      "name": "python3",
      "display_name": "Python 3"
    },
    "language_info": {
      "name": "python"
    }
  },
  "cells": [
    {
      "cell_type": "markdown",
      "metadata": {
        "id": "view-in-github",
        "colab_type": "text"
      },
      "source": [
        "<a href=\"https://colab.research.google.com/github/rahiakela/hands-on-explainable-ai-xai-with-python/blob/main/1-explaining-artificial-intelligence-with-python/3_google_location_history_with_knn.ipynb\" target=\"_parent\"><img src=\"https://colab.research.google.com/assets/colab-badge.svg\" alt=\"Open In Colab\"/></a>"
      ]
    },
    {
      "cell_type": "markdown",
      "metadata": {
        "id": "5NAG9DR2OA8Z"
      },
      "source": [
        "## Enhancing the AI diagnosis with XAI"
      ]
    },
    {
      "cell_type": "markdown",
      "metadata": {
        "id": "kBbhY6IAOBpX"
      },
      "source": [
        "We will use the location history of the patient and the information concerning the presence of the West Nile virus in places they both were in at the same time during the past few weeks.\n",
        "\n",
        "We will focus on XAI, not the scripting that leads to proving that the patient and the West Nile virus were not in the same location at the same time when the location is Paris. However, they were in the same place at the same time when the location was Chicago. We will suppose that a preprocessing script provided information with two new features: `france` and `chicago`. The value of the `location` feature will be 1 if both the virus and the patient were at the same location at the same time; otherwise, the value will be 0."
      ]
    },
    {
      "cell_type": "markdown",
      "metadata": {
        "id": "s6hQrpHmQowH"
      },
      "source": [
        "## Setup"
      ]
    },
    {
      "cell_type": "code",
      "metadata": {
        "id": "VmAgQ4KWQqF9"
      },
      "source": [
        "import pandas as pd\n",
        "from matplotlib import pyplot as plt\n",
        "from sklearn.neighbors import KNeighborsClassifier\n",
        "import os"
      ],
      "execution_count": 1,
      "outputs": []
    },
    {
      "cell_type": "code",
      "metadata": {
        "id": "VaCq-bqNRxZR"
      },
      "source": [
        "%%shell\n",
        "\n",
        "wget https://raw.githubusercontent.com/PacktPublishing/Hands-On-Explainable-AI-XAI-with-Python/master/Chapter01/DLH.csv\n",
        "wget https://raw.githubusercontent.com/PacktPublishing/Hands-On-Explainable-AI-XAI-with-Python/master/Chapter01/glh.jpg"
      ],
      "execution_count": null,
      "outputs": []
    },
    {
      "cell_type": "markdown",
      "metadata": {
        "id": "ZD31dBlaSGHF"
      },
      "source": [
        "## Loading and preparing dataset"
      ]
    },
    {
      "cell_type": "markdown",
      "metadata": {
        "id": "cmAtBcalSIyG"
      },
      "source": [
        "We will take `D1.csv`, the original file for the KNN, and enhance it. The dataset file we will use is now renamed `DLH.csv` and contains three additional columns and one additional class.\n",
        "\n",
        "A new class was introduced to show when a patient and a virus were present at the same location at the same time. The name bad_flu is an alert name. It triggers the message for the doctor for the immediate need for additional investigations. There is a probability that the flu might not be a mild disease but might be hiding something more critical."
      ]
    },
    {
      "cell_type": "code",
      "metadata": {
        "colab": {
          "base_uri": "https://localhost:8080/"
        },
        "id": "3ilK_Y7XSJfQ",
        "outputId": "4b03ea7f-e4d5-4f79-f434-bf04c692010c"
      },
      "source": [
        "df = pd.read_csv(\"DLH.csv\")\n",
        "print (df)"
      ],
      "execution_count": 4,
      "outputs": [
        {
          "output_type": "stream",
          "text": [
            "     colored_sputum  cough  fever  headache  days  france  chicago    class\n",
            "0               1.0    3.5    9.4       3.0     3       0        1      flu\n",
            "1               1.0    3.4    8.4       4.0     2       0        1      flu\n",
            "2               1.0    3.3    7.3       3.0     4       0        1      flu\n",
            "3               1.0    3.4    9.5       4.0     2       0        1      flu\n",
            "4               1.0    2.0    8.0       3.5     1       0        1      flu\n",
            "..              ...    ...    ...       ...   ...     ...      ...      ...\n",
            "179             2.0    3.0    8.0       9.0     5       0        1  bad_flu\n",
            "180             1.0    3.0    8.0       9.0     5       0        1  bad_flu\n",
            "181             3.0    3.0    8.0       9.0     5       0        1  bad_flu\n",
            "182             1.0    4.0    8.0       9.0     5       0        1  bad_flu\n",
            "183             1.0    5.0    8.0       9.0     5       0        1  bad_flu\n",
            "\n",
            "[184 rows x 8 columns]\n"
          ],
          "name": "stdout"
        }
      ]
    },
    {
      "cell_type": "markdown",
      "metadata": {
        "id": "w6C-w5EaT5OU"
      },
      "source": [
        "## Training the model"
      ]
    },
    {
      "cell_type": "markdown",
      "metadata": {
        "id": "TzsMC0fQTZqL"
      },
      "source": [
        "The classifier must read the columns from colored_sputum to chicago."
      ]
    },
    {
      "cell_type": "code",
      "metadata": {
        "colab": {
          "base_uri": "https://localhost:8080/"
        },
        "id": "v0YSaAuYSeBx",
        "outputId": "9027f517-f834-45e6-a843-4b9d9f00c063"
      },
      "source": [
        "# KNN classification labels\n",
        "X = df.loc[:, \"colored_sputum\": \"chicago\"]\n",
        "Y = df.loc[:, \"class\"]\n",
        "\n",
        "knn = KNeighborsClassifier()\n",
        "knn.fit(X, Y)"
      ],
      "execution_count": 6,
      "outputs": [
        {
          "output_type": "execute_result",
          "data": {
            "text/plain": [
              "KNeighborsClassifier(algorithm='auto', leaf_size=30, metric='minkowski',\n",
              "                     metric_params=None, n_jobs=None, n_neighbors=5, p=2,\n",
              "                     weights='uniform')"
            ]
          },
          "metadata": {
            "tags": []
          },
          "execution_count": 6
        }
      ]
    },
    {
      "cell_type": "markdown",
      "metadata": {
        "id": "xs8_pR1nTpcy"
      },
      "source": [
        "We add a fifth subplot to our figure to display the new feature, days:"
      ]
    },
    {
      "cell_type": "code",
      "metadata": {
        "id": "wbyn-Q0dTqBD"
      },
      "source": [
        ""
      ],
      "execution_count": null,
      "outputs": []
    }
  ]
}