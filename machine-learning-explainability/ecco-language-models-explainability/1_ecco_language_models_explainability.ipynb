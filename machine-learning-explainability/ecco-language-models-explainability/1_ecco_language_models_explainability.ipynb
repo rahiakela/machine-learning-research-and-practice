{
  "nbformat": 4,
  "nbformat_minor": 0,
  "metadata": {
    "colab": {
      "name": "1-ecco-language-models-explainability.ipynb",
      "provenance": [],
      "collapsed_sections": [],
      "toc_visible": true,
      "include_colab_link": true
    },
    "kernelspec": {
      "name": "python3",
      "display_name": "Python 3"
    }
  },
  "cells": [
    {
      "cell_type": "markdown",
      "metadata": {
        "id": "view-in-github",
        "colab_type": "text"
      },
      "source": [
        "<a href=\"https://colab.research.google.com/github/rahiakela/machine-learning-explainability/blob/main/ecco-language-models-explainability/1_ecco_language_models_explainability.ipynb\" target=\"_parent\"><img src=\"https://colab.research.google.com/assets/colab-badge.svg\" alt=\"Open In Colab\"/></a>"
      ]
    },
    {
      "cell_type": "markdown",
      "metadata": {
        "id": "tUdlUusx7U-n"
      },
      "source": [
        "## Intro to Ecco -- Making Language Models More Transparent\n",
        "This notebook is an intro to [Ecco](https://www.eccox.io) and is the companion to the video: [Take A Look Inside Language Models With Ecco | PyData Khobar](https://www.youtube.com/watch?v=rHrItfNeuh0). \n",
        " "
      ]
    },
    {
      "cell_type": "code",
      "metadata": {
        "id": "Ii6Crs6VpXBM"
      },
      "source": [
        "%%capture\n",
        "# Install Ecco. This assumes you have pytorch installed.\n",
        "!pip install ecco"
      ],
      "execution_count": 1,
      "outputs": []
    },
    {
      "cell_type": "code",
      "metadata": {
        "id": "S1tPxd2fpdYo"
      },
      "source": [
        "import ecco\n",
        "\n",
        "import warnings\n",
        "warnings.filterwarnings('ignore')\n",
        "\n",
        "# Load pre-trained language model. Setting 'activations' to True tells Ecco to capture neuron activations.\n",
        "# distillgpt is a distilled GPT2 model. You can also try 'gpt2' \n",
        "lm = ecco.from_pretrained('distilgpt2', activations=True)"
      ],
      "execution_count": null,
      "outputs": []
    },
    {
      "cell_type": "markdown",
      "metadata": {
        "id": "t91NoD-AwQFA"
      },
      "source": [
        "## Overview\n",
        "\n",
        "Complete the sentence:\n",
        "`It was a matter of ____`"
      ]
    },
    {
      "cell_type": "code",
      "metadata": {
        "colab": {
          "base_uri": "https://localhost:8080/",
          "height": 48
        },
        "id": "Ixn-FHcdYL_M",
        "outputId": "3dccf842-ed8f-4591-8029-d2347eb78b7b"
      },
      "source": [
        "text = \" it was a matter of\"\n",
        "\n",
        "# Generate one token\n",
        "output_1 = lm.generate(text, generate=1, do_sample=False)"
      ],
      "execution_count": 17,
      "outputs": [
        {
          "output_type": "display_data",
          "data": {
            "text/html": [
              "<html lang=\"en\">\n",
              "<script src=\"https://requirejs.org/docs/release/2.3.6/minified/require.js\"></script>\n",
              "<script>\n",
              "    var ecco_url = 'https://storage.googleapis.com/ml-intro/ecco/'\n",
              "    // var ecco_url = 'http://localhost:8000/ecco/'\n",
              "\n",
              "    if (window.ecco === undefined) window.ecco = {}\n",
              "\n",
              "    requirejs.config({\n",
              "        urlArgs: \"bust=\" + (new Date()).getTime(),\n",
              "        nodeRequire: require,\n",
              "        paths: {\n",
              "            d3: \"https://d3js.org/d3.v5.min\",\n",
              "            \"d3-array\": \"https://d3js.org/d3-array.v2.min\",\n",
              "            jquery: \"https://code.jquery.com/jquery-3.5.1.min\",\n",
              "            // oldEcco: ecco_url + 'ecco',\n",
              "            ecco: ecco_url + 'js/0.0.4/ecco-bundle.min',\n",
              "            xregexp: 'https://cdnjs.cloudflare.com/ajax/libs/xregexp/3.2.0/xregexp-all.min'\n",
              "        }\n",
              "    });\n",
              "    requirejs(['d3'],\n",
              "        function (d3) {\n",
              "            d3.select('#css').attr('href', ecco_url + 'html/styles.css')\n",
              "        })\n",
              "\n",
              "    console.log('Ecco initialize.')\n",
              "</script>\n",
              "\n",
              "<head>\n",
              "    <link id='css' rel=\"stylesheet\" type=\"text/css\">\n",
              "</head>\n"
            ],
            "text/plain": [
              "<IPython.core.display.HTML object>"
            ]
          },
          "metadata": {
            "tags": []
          }
        },
        {
          "output_type": "display_data",
          "data": {
            "text/html": [
              "<script>\n",
              "    // console.log('defining basic')\n",
              "    define('basic', ['d3'],\n",
              "        function (d3) {\n",
              "            return {\n",
              "                init: function (viz_id = null) {\n",
              "\n",
              "                    // console.log('basic init')\n",
              "                    if (viz_id == null){\n",
              "                        viz_id = \"viz_\" + Math.round(Math.random() * 10000000)\n",
              "                    }\n",
              "                    const div = d3.select('#basic').attr('id', viz_id),\n",
              "                        div_parent = d3.select('#' + viz_id).node().parentNode\n",
              "\n",
              "                    // Link to CSS file\n",
              "                    d3.select(div_parent).insert('link')\n",
              "                        .attr('rel', 'stylesheet')\n",
              "                        .attr('type', 'text/css')\n",
              "                        .attr('href', ecco_url + 'html/styles.css')\n",
              "\n",
              "                    return viz_id\n",
              "                }\n",
              "            }\n",
              "        }, function (err) {console.log(err);}\n",
              "    )\n",
              "    // console.log('after defining basic')\n",
              "\n",
              "</script>\n",
              "<div id=\"basic\"></div>\n"
            ],
            "text/plain": [
              "<IPython.core.display.HTML object>"
            ]
          },
          "metadata": {
            "tags": []
          }
        },
        {
          "output_type": "display_data",
          "data": {
            "application/javascript": [
              "\n",
              "\n",
              "         requirejs( ['basic', 'ecco'], function(basic, ecco){\n",
              "            basic.init('viz_48925')\n",
              "\n",
              "            window.ecco['viz_48925'] = ecco.renderOutputSequence('viz_48925', {'tokens': [{'token': ' it', 'position': 0, 'token_id': 340, 'type': 'input'}, {'token': ' was', 'position': 1, 'token_id': 373, 'type': 'input'}, {'token': ' a', 'position': 2, 'token_id': 257, 'type': 'input'}, {'token': ' matter', 'position': 3, 'token_id': 2300, 'type': 'input'}, {'token': ' of', 'position': 4, 'token_id': 286, 'type': 'input'}]})\n",
              "         }, function (err) {\n",
              "            console.log(err);\n",
              "        })\n"
            ],
            "text/plain": [
              "<IPython.core.display.Javascript object>"
            ]
          },
          "metadata": {
            "tags": []
          }
        },
        {
          "output_type": "display_data",
          "data": {
            "application/javascript": [
              "\n",
              "        // We don't really need these require scripts. But this is to avert\n",
              "        //this code from running before display_input_sequence which DOES require external files\n",
              "        requirejs(['basic', 'ecco'], function(basic, ecco){\n",
              "                console.log('addToken viz_id', 'viz_48925');\n",
              "                window.ecco['viz_48925'].addToken({\"token\": \" time\", \"token_id\": 640, \"position\": 5, \"type\": \"output\"})\n",
              "                window.ecco['viz_48925'].redraw()\n",
              "        })\n",
              "        "
            ],
            "text/plain": [
              "<IPython.core.display.Javascript object>"
            ]
          },
          "metadata": {
            "tags": []
          }
        }
      ]
    },
    {
      "cell_type": "code",
      "metadata": {
        "id": "nxRlNX-1dIyK",
        "outputId": "81420840-586f-4de3-906b-6d0a5aa2fbaa",
        "colab": {
          "base_uri": "https://localhost:8080/",
          "height": 48
        }
      },
      "source": [
        "text = \" it was a matter of\"\n",
        "\n",
        "# Generate one token\n",
        "output_2 = lm.generate(text, generate=2, do_sample=False)"
      ],
      "execution_count": 4,
      "outputs": [
        {
          "output_type": "display_data",
          "data": {
            "text/html": [
              "<html lang=\"en\">\n",
              "<script src=\"https://requirejs.org/docs/release/2.3.6/minified/require.js\"></script>\n",
              "<script>\n",
              "    var ecco_url = 'https://storage.googleapis.com/ml-intro/ecco/'\n",
              "    // var ecco_url = 'http://localhost:8000/ecco/'\n",
              "\n",
              "    if (window.ecco === undefined) window.ecco = {}\n",
              "\n",
              "    requirejs.config({\n",
              "        urlArgs: \"bust=\" + (new Date()).getTime(),\n",
              "        nodeRequire: require,\n",
              "        paths: {\n",
              "            d3: \"https://d3js.org/d3.v5.min\",\n",
              "            \"d3-array\": \"https://d3js.org/d3-array.v2.min\",\n",
              "            jquery: \"https://code.jquery.com/jquery-3.5.1.min\",\n",
              "            // oldEcco: ecco_url + 'ecco',\n",
              "            ecco: ecco_url + 'js/0.0.4/ecco-bundle.min',\n",
              "            xregexp: 'https://cdnjs.cloudflare.com/ajax/libs/xregexp/3.2.0/xregexp-all.min'\n",
              "        }\n",
              "    });\n",
              "    requirejs(['d3'],\n",
              "        function (d3) {\n",
              "            d3.select('#css').attr('href', ecco_url + 'html/styles.css')\n",
              "        })\n",
              "\n",
              "    console.log('Ecco initialize.')\n",
              "</script>\n",
              "\n",
              "<head>\n",
              "    <link id='css' rel=\"stylesheet\" type=\"text/css\">\n",
              "</head>\n"
            ],
            "text/plain": [
              "<IPython.core.display.HTML object>"
            ]
          },
          "metadata": {
            "tags": []
          }
        },
        {
          "output_type": "display_data",
          "data": {
            "text/html": [
              "<script>\n",
              "    // console.log('defining basic')\n",
              "    define('basic', ['d3'],\n",
              "        function (d3) {\n",
              "            return {\n",
              "                init: function (viz_id = null) {\n",
              "\n",
              "                    // console.log('basic init')\n",
              "                    if (viz_id == null){\n",
              "                        viz_id = \"viz_\" + Math.round(Math.random() * 10000000)\n",
              "                    }\n",
              "                    const div = d3.select('#basic').attr('id', viz_id),\n",
              "                        div_parent = d3.select('#' + viz_id).node().parentNode\n",
              "\n",
              "                    // Link to CSS file\n",
              "                    d3.select(div_parent).insert('link')\n",
              "                        .attr('rel', 'stylesheet')\n",
              "                        .attr('type', 'text/css')\n",
              "                        .attr('href', ecco_url + 'html/styles.css')\n",
              "\n",
              "                    return viz_id\n",
              "                }\n",
              "            }\n",
              "        }, function (err) {console.log(err);}\n",
              "    )\n",
              "    // console.log('after defining basic')\n",
              "\n",
              "</script>\n",
              "<div id=\"basic\"></div>\n"
            ],
            "text/plain": [
              "<IPython.core.display.HTML object>"
            ]
          },
          "metadata": {
            "tags": []
          }
        },
        {
          "output_type": "display_data",
          "data": {
            "application/javascript": [
              "\n",
              "\n",
              "         requirejs( ['basic', 'ecco'], function(basic, ecco){\n",
              "            basic.init('viz_565415')\n",
              "\n",
              "            window.ecco['viz_565415'] = ecco.renderOutputSequence('viz_565415', {'tokens': [{'token': ' it', 'position': 0, 'token_id': 340, 'type': 'input'}, {'token': ' was', 'position': 1, 'token_id': 373, 'type': 'input'}, {'token': ' a', 'position': 2, 'token_id': 257, 'type': 'input'}, {'token': ' matter', 'position': 3, 'token_id': 2300, 'type': 'input'}, {'token': ' of', 'position': 4, 'token_id': 286, 'type': 'input'}]})\n",
              "         }, function (err) {\n",
              "            console.log(err);\n",
              "        })\n"
            ],
            "text/plain": [
              "<IPython.core.display.Javascript object>"
            ]
          },
          "metadata": {
            "tags": []
          }
        },
        {
          "output_type": "display_data",
          "data": {
            "application/javascript": [
              "\n",
              "        // We don't really need these require scripts. But this is to avert\n",
              "        //this code from running before display_input_sequence which DOES require external files\n",
              "        requirejs(['basic', 'ecco'], function(basic, ecco){\n",
              "                console.log('addToken viz_id', 'viz_565415');\n",
              "                window.ecco['viz_565415'].addToken({\"token\": \" time\", \"token_id\": 640, \"position\": 5, \"type\": \"output\"})\n",
              "                window.ecco['viz_565415'].redraw()\n",
              "        })\n",
              "        "
            ],
            "text/plain": [
              "<IPython.core.display.Javascript object>"
            ]
          },
          "metadata": {
            "tags": []
          }
        },
        {
          "output_type": "display_data",
          "data": {
            "application/javascript": [
              "\n",
              "        // We don't really need these require scripts. But this is to avert\n",
              "        //this code from running before display_input_sequence which DOES require external files\n",
              "        requirejs(['basic', 'ecco'], function(basic, ecco){\n",
              "                console.log('addToken viz_id', 'viz_565415');\n",
              "                window.ecco['viz_565415'].addToken({\"token\": \" before\", \"token_id\": 878, \"position\": 6, \"type\": \"output\"})\n",
              "                window.ecco['viz_565415'].redraw()\n",
              "        })\n",
              "        "
            ],
            "text/plain": [
              "<IPython.core.display.Javascript object>"
            ]
          },
          "metadata": {
            "tags": []
          }
        }
      ]
    },
    {
      "cell_type": "code",
      "metadata": {
        "id": "zXdTxK54dMhf",
        "outputId": "22342226-f44f-47f7-b182-3adec77e0d72",
        "colab": {
          "base_uri": "https://localhost:8080/",
          "height": 48
        }
      },
      "source": [
        "text = \" it was a matter of\"\n",
        "\n",
        "# Generate one token\n",
        "output_2 = lm.generate(text, generate=3, do_sample=False)"
      ],
      "execution_count": 5,
      "outputs": [
        {
          "output_type": "display_data",
          "data": {
            "text/html": [
              "<html lang=\"en\">\n",
              "<script src=\"https://requirejs.org/docs/release/2.3.6/minified/require.js\"></script>\n",
              "<script>\n",
              "    var ecco_url = 'https://storage.googleapis.com/ml-intro/ecco/'\n",
              "    // var ecco_url = 'http://localhost:8000/ecco/'\n",
              "\n",
              "    if (window.ecco === undefined) window.ecco = {}\n",
              "\n",
              "    requirejs.config({\n",
              "        urlArgs: \"bust=\" + (new Date()).getTime(),\n",
              "        nodeRequire: require,\n",
              "        paths: {\n",
              "            d3: \"https://d3js.org/d3.v5.min\",\n",
              "            \"d3-array\": \"https://d3js.org/d3-array.v2.min\",\n",
              "            jquery: \"https://code.jquery.com/jquery-3.5.1.min\",\n",
              "            // oldEcco: ecco_url + 'ecco',\n",
              "            ecco: ecco_url + 'js/0.0.4/ecco-bundle.min',\n",
              "            xregexp: 'https://cdnjs.cloudflare.com/ajax/libs/xregexp/3.2.0/xregexp-all.min'\n",
              "        }\n",
              "    });\n",
              "    requirejs(['d3'],\n",
              "        function (d3) {\n",
              "            d3.select('#css').attr('href', ecco_url + 'html/styles.css')\n",
              "        })\n",
              "\n",
              "    console.log('Ecco initialize.')\n",
              "</script>\n",
              "\n",
              "<head>\n",
              "    <link id='css' rel=\"stylesheet\" type=\"text/css\">\n",
              "</head>\n"
            ],
            "text/plain": [
              "<IPython.core.display.HTML object>"
            ]
          },
          "metadata": {
            "tags": []
          }
        },
        {
          "output_type": "display_data",
          "data": {
            "text/html": [
              "<script>\n",
              "    // console.log('defining basic')\n",
              "    define('basic', ['d3'],\n",
              "        function (d3) {\n",
              "            return {\n",
              "                init: function (viz_id = null) {\n",
              "\n",
              "                    // console.log('basic init')\n",
              "                    if (viz_id == null){\n",
              "                        viz_id = \"viz_\" + Math.round(Math.random() * 10000000)\n",
              "                    }\n",
              "                    const div = d3.select('#basic').attr('id', viz_id),\n",
              "                        div_parent = d3.select('#' + viz_id).node().parentNode\n",
              "\n",
              "                    // Link to CSS file\n",
              "                    d3.select(div_parent).insert('link')\n",
              "                        .attr('rel', 'stylesheet')\n",
              "                        .attr('type', 'text/css')\n",
              "                        .attr('href', ecco_url + 'html/styles.css')\n",
              "\n",
              "                    return viz_id\n",
              "                }\n",
              "            }\n",
              "        }, function (err) {console.log(err);}\n",
              "    )\n",
              "    // console.log('after defining basic')\n",
              "\n",
              "</script>\n",
              "<div id=\"basic\"></div>\n"
            ],
            "text/plain": [
              "<IPython.core.display.HTML object>"
            ]
          },
          "metadata": {
            "tags": []
          }
        },
        {
          "output_type": "display_data",
          "data": {
            "application/javascript": [
              "\n",
              "\n",
              "         requirejs( ['basic', 'ecco'], function(basic, ecco){\n",
              "            basic.init('viz_946355')\n",
              "\n",
              "            window.ecco['viz_946355'] = ecco.renderOutputSequence('viz_946355', {'tokens': [{'token': ' it', 'position': 0, 'token_id': 340, 'type': 'input'}, {'token': ' was', 'position': 1, 'token_id': 373, 'type': 'input'}, {'token': ' a', 'position': 2, 'token_id': 257, 'type': 'input'}, {'token': ' matter', 'position': 3, 'token_id': 2300, 'type': 'input'}, {'token': ' of', 'position': 4, 'token_id': 286, 'type': 'input'}]})\n",
              "         }, function (err) {\n",
              "            console.log(err);\n",
              "        })\n"
            ],
            "text/plain": [
              "<IPython.core.display.Javascript object>"
            ]
          },
          "metadata": {
            "tags": []
          }
        },
        {
          "output_type": "display_data",
          "data": {
            "application/javascript": [
              "\n",
              "        // We don't really need these require scripts. But this is to avert\n",
              "        //this code from running before display_input_sequence which DOES require external files\n",
              "        requirejs(['basic', 'ecco'], function(basic, ecco){\n",
              "                console.log('addToken viz_id', 'viz_946355');\n",
              "                window.ecco['viz_946355'].addToken({\"token\": \" time\", \"token_id\": 640, \"position\": 5, \"type\": \"output\"})\n",
              "                window.ecco['viz_946355'].redraw()\n",
              "        })\n",
              "        "
            ],
            "text/plain": [
              "<IPython.core.display.Javascript object>"
            ]
          },
          "metadata": {
            "tags": []
          }
        },
        {
          "output_type": "display_data",
          "data": {
            "application/javascript": [
              "\n",
              "        // We don't really need these require scripts. But this is to avert\n",
              "        //this code from running before display_input_sequence which DOES require external files\n",
              "        requirejs(['basic', 'ecco'], function(basic, ecco){\n",
              "                console.log('addToken viz_id', 'viz_946355');\n",
              "                window.ecco['viz_946355'].addToken({\"token\": \" before\", \"token_id\": 878, \"position\": 6, \"type\": \"output\"})\n",
              "                window.ecco['viz_946355'].redraw()\n",
              "        })\n",
              "        "
            ],
            "text/plain": [
              "<IPython.core.display.Javascript object>"
            ]
          },
          "metadata": {
            "tags": []
          }
        },
        {
          "output_type": "display_data",
          "data": {
            "application/javascript": [
              "\n",
              "        // We don't really need these require scripts. But this is to avert\n",
              "        //this code from running before display_input_sequence which DOES require external files\n",
              "        requirejs(['basic', 'ecco'], function(basic, ecco){\n",
              "                console.log('addToken viz_id', 'viz_946355');\n",
              "                window.ecco['viz_946355'].addToken({\"token\": \" the\", \"token_id\": 262, \"position\": 7, \"type\": \"output\"})\n",
              "                window.ecco['viz_946355'].redraw()\n",
              "        })\n",
              "        "
            ],
            "text/plain": [
              "<IPython.core.display.Javascript object>"
            ]
          },
          "metadata": {
            "tags": []
          }
        }
      ]
    },
    {
      "cell_type": "code",
      "metadata": {
        "id": "Dhr5bLtfdY7w",
        "outputId": "5af230e7-83ca-4978-ea06-cdaa625b2cff",
        "colab": {
          "base_uri": "https://localhost:8080/",
          "height": 110
        }
      },
      "source": [
        "text = \" it was a matter of\"\n",
        "\n",
        "# Generate one token\n",
        "output_2 = lm.generate(text, generate=50, do_sample=False)"
      ],
      "execution_count": 12,
      "outputs": [
        {
          "output_type": "display_data",
          "data": {
            "text/html": [
              "<html lang=\"en\">\n",
              "<script src=\"https://requirejs.org/docs/release/2.3.6/minified/require.js\"></script>\n",
              "<script>\n",
              "    var ecco_url = 'https://storage.googleapis.com/ml-intro/ecco/'\n",
              "    // var ecco_url = 'http://localhost:8000/ecco/'\n",
              "\n",
              "    if (window.ecco === undefined) window.ecco = {}\n",
              "\n",
              "    requirejs.config({\n",
              "        urlArgs: \"bust=\" + (new Date()).getTime(),\n",
              "        nodeRequire: require,\n",
              "        paths: {\n",
              "            d3: \"https://d3js.org/d3.v5.min\",\n",
              "            \"d3-array\": \"https://d3js.org/d3-array.v2.min\",\n",
              "            jquery: \"https://code.jquery.com/jquery-3.5.1.min\",\n",
              "            // oldEcco: ecco_url + 'ecco',\n",
              "            ecco: ecco_url + 'js/0.0.4/ecco-bundle.min',\n",
              "            xregexp: 'https://cdnjs.cloudflare.com/ajax/libs/xregexp/3.2.0/xregexp-all.min'\n",
              "        }\n",
              "    });\n",
              "    requirejs(['d3'],\n",
              "        function (d3) {\n",
              "            d3.select('#css').attr('href', ecco_url + 'html/styles.css')\n",
              "        })\n",
              "\n",
              "    console.log('Ecco initialize.')\n",
              "</script>\n",
              "\n",
              "<head>\n",
              "    <link id='css' rel=\"stylesheet\" type=\"text/css\">\n",
              "</head>\n"
            ],
            "text/plain": [
              "<IPython.core.display.HTML object>"
            ]
          },
          "metadata": {
            "tags": []
          }
        },
        {
          "output_type": "display_data",
          "data": {
            "text/html": [
              "<script>\n",
              "    // console.log('defining basic')\n",
              "    define('basic', ['d3'],\n",
              "        function (d3) {\n",
              "            return {\n",
              "                init: function (viz_id = null) {\n",
              "\n",
              "                    // console.log('basic init')\n",
              "                    if (viz_id == null){\n",
              "                        viz_id = \"viz_\" + Math.round(Math.random() * 10000000)\n",
              "                    }\n",
              "                    const div = d3.select('#basic').attr('id', viz_id),\n",
              "                        div_parent = d3.select('#' + viz_id).node().parentNode\n",
              "\n",
              "                    // Link to CSS file\n",
              "                    d3.select(div_parent).insert('link')\n",
              "                        .attr('rel', 'stylesheet')\n",
              "                        .attr('type', 'text/css')\n",
              "                        .attr('href', ecco_url + 'html/styles.css')\n",
              "\n",
              "                    return viz_id\n",
              "                }\n",
              "            }\n",
              "        }, function (err) {console.log(err);}\n",
              "    )\n",
              "    // console.log('after defining basic')\n",
              "\n",
              "</script>\n",
              "<div id=\"basic\"></div>\n"
            ],
            "text/plain": [
              "<IPython.core.display.HTML object>"
            ]
          },
          "metadata": {
            "tags": []
          }
        },
        {
          "output_type": "display_data",
          "data": {
            "application/javascript": [
              "\n",
              "\n",
              "         requirejs( ['basic', 'ecco'], function(basic, ecco){\n",
              "            basic.init('viz_783778')\n",
              "\n",
              "            window.ecco['viz_783778'] = ecco.renderOutputSequence('viz_783778', {'tokens': [{'token': ' it', 'position': 0, 'token_id': 340, 'type': 'input'}, {'token': ' was', 'position': 1, 'token_id': 373, 'type': 'input'}, {'token': ' a', 'position': 2, 'token_id': 257, 'type': 'input'}, {'token': ' matter', 'position': 3, 'token_id': 2300, 'type': 'input'}, {'token': ' of', 'position': 4, 'token_id': 286, 'type': 'input'}]})\n",
              "         }, function (err) {\n",
              "            console.log(err);\n",
              "        })\n"
            ],
            "text/plain": [
              "<IPython.core.display.Javascript object>"
            ]
          },
          "metadata": {
            "tags": []
          }
        },
        {
          "output_type": "display_data",
          "data": {
            "application/javascript": [
              "\n",
              "        // We don't really need these require scripts. But this is to avert\n",
              "        //this code from running before display_input_sequence which DOES require external files\n",
              "        requirejs(['basic', 'ecco'], function(basic, ecco){\n",
              "                console.log('addToken viz_id', 'viz_783778');\n",
              "                window.ecco['viz_783778'].addToken({\"token\": \" time\", \"token_id\": 640, \"position\": 5, \"type\": \"output\"})\n",
              "                window.ecco['viz_783778'].redraw()\n",
              "        })\n",
              "        "
            ],
            "text/plain": [
              "<IPython.core.display.Javascript object>"
            ]
          },
          "metadata": {
            "tags": []
          }
        },
        {
          "output_type": "display_data",
          "data": {
            "application/javascript": [
              "\n",
              "        // We don't really need these require scripts. But this is to avert\n",
              "        //this code from running before display_input_sequence which DOES require external files\n",
              "        requirejs(['basic', 'ecco'], function(basic, ecco){\n",
              "                console.log('addToken viz_id', 'viz_783778');\n",
              "                window.ecco['viz_783778'].addToken({\"token\": \" before\", \"token_id\": 878, \"position\": 6, \"type\": \"output\"})\n",
              "                window.ecco['viz_783778'].redraw()\n",
              "        })\n",
              "        "
            ],
            "text/plain": [
              "<IPython.core.display.Javascript object>"
            ]
          },
          "metadata": {
            "tags": []
          }
        },
        {
          "output_type": "display_data",
          "data": {
            "application/javascript": [
              "\n",
              "        // We don't really need these require scripts. But this is to avert\n",
              "        //this code from running before display_input_sequence which DOES require external files\n",
              "        requirejs(['basic', 'ecco'], function(basic, ecco){\n",
              "                console.log('addToken viz_id', 'viz_783778');\n",
              "                window.ecco['viz_783778'].addToken({\"token\": \" the\", \"token_id\": 262, \"position\": 7, \"type\": \"output\"})\n",
              "                window.ecco['viz_783778'].redraw()\n",
              "        })\n",
              "        "
            ],
            "text/plain": [
              "<IPython.core.display.Javascript object>"
            ]
          },
          "metadata": {
            "tags": []
          }
        },
        {
          "output_type": "display_data",
          "data": {
            "application/javascript": [
              "\n",
              "        // We don't really need these require scripts. But this is to avert\n",
              "        //this code from running before display_input_sequence which DOES require external files\n",
              "        requirejs(['basic', 'ecco'], function(basic, ecco){\n",
              "                console.log('addToken viz_id', 'viz_783778');\n",
              "                window.ecco['viz_783778'].addToken({\"token\": \" world\", \"token_id\": 995, \"position\": 8, \"type\": \"output\"})\n",
              "                window.ecco['viz_783778'].redraw()\n",
              "        })\n",
              "        "
            ],
            "text/plain": [
              "<IPython.core.display.Javascript object>"
            ]
          },
          "metadata": {
            "tags": []
          }
        },
        {
          "output_type": "display_data",
          "data": {
            "application/javascript": [
              "\n",
              "        // We don't really need these require scripts. But this is to avert\n",
              "        //this code from running before display_input_sequence which DOES require external files\n",
              "        requirejs(['basic', 'ecco'], function(basic, ecco){\n",
              "                console.log('addToken viz_id', 'viz_783778');\n",
              "                window.ecco['viz_783778'].addToken({\"token\": \" was\", \"token_id\": 373, \"position\": 9, \"type\": \"output\"})\n",
              "                window.ecco['viz_783778'].redraw()\n",
              "        })\n",
              "        "
            ],
            "text/plain": [
              "<IPython.core.display.Javascript object>"
            ]
          },
          "metadata": {
            "tags": []
          }
        },
        {
          "output_type": "display_data",
          "data": {
            "application/javascript": [
              "\n",
              "        // We don't really need these require scripts. But this is to avert\n",
              "        //this code from running before display_input_sequence which DOES require external files\n",
              "        requirejs(['basic', 'ecco'], function(basic, ecco){\n",
              "                console.log('addToken viz_id', 'viz_783778');\n",
              "                window.ecco['viz_783778'].addToken({\"token\": \" ready\", \"token_id\": 3492, \"position\": 10, \"type\": \"output\"})\n",
              "                window.ecco['viz_783778'].redraw()\n",
              "        })\n",
              "        "
            ],
            "text/plain": [
              "<IPython.core.display.Javascript object>"
            ]
          },
          "metadata": {
            "tags": []
          }
        },
        {
          "output_type": "display_data",
          "data": {
            "application/javascript": [
              "\n",
              "        // We don't really need these require scripts. But this is to avert\n",
              "        //this code from running before display_input_sequence which DOES require external files\n",
              "        requirejs(['basic', 'ecco'], function(basic, ecco){\n",
              "                console.log('addToken viz_id', 'viz_783778');\n",
              "                window.ecco['viz_783778'].addToken({\"token\": \" to\", \"token_id\": 284, \"position\": 11, \"type\": \"output\"})\n",
              "                window.ecco['viz_783778'].redraw()\n",
              "        })\n",
              "        "
            ],
            "text/plain": [
              "<IPython.core.display.Javascript object>"
            ]
          },
          "metadata": {
            "tags": []
          }
        },
        {
          "output_type": "display_data",
          "data": {
            "application/javascript": [
              "\n",
              "        // We don't really need these require scripts. But this is to avert\n",
              "        //this code from running before display_input_sequence which DOES require external files\n",
              "        requirejs(['basic', 'ecco'], function(basic, ecco){\n",
              "                console.log('addToken viz_id', 'viz_783778');\n",
              "                window.ecco['viz_783778'].addToken({\"token\": \" accept\", \"token_id\": 2453, \"position\": 12, \"type\": \"output\"})\n",
              "                window.ecco['viz_783778'].redraw()\n",
              "        })\n",
              "        "
            ],
            "text/plain": [
              "<IPython.core.display.Javascript object>"
            ]
          },
          "metadata": {
            "tags": []
          }
        },
        {
          "output_type": "display_data",
          "data": {
            "application/javascript": [
              "\n",
              "        // We don't really need these require scripts. But this is to avert\n",
              "        //this code from running before display_input_sequence which DOES require external files\n",
              "        requirejs(['basic', 'ecco'], function(basic, ecco){\n",
              "                console.log('addToken viz_id', 'viz_783778');\n",
              "                window.ecco['viz_783778'].addToken({\"token\": \" the\", \"token_id\": 262, \"position\": 13, \"type\": \"output\"})\n",
              "                window.ecco['viz_783778'].redraw()\n",
              "        })\n",
              "        "
            ],
            "text/plain": [
              "<IPython.core.display.Javascript object>"
            ]
          },
          "metadata": {
            "tags": []
          }
        },
        {
          "output_type": "display_data",
          "data": {
            "application/javascript": [
              "\n",
              "        // We don't really need these require scripts. But this is to avert\n",
              "        //this code from running before display_input_sequence which DOES require external files\n",
              "        requirejs(['basic', 'ecco'], function(basic, ecco){\n",
              "                console.log('addToken viz_id', 'viz_783778');\n",
              "                window.ecco['viz_783778'].addToken({\"token\": \" fact\", \"token_id\": 1109, \"position\": 14, \"type\": \"output\"})\n",
              "                window.ecco['viz_783778'].redraw()\n",
              "        })\n",
              "        "
            ],
            "text/plain": [
              "<IPython.core.display.Javascript object>"
            ]
          },
          "metadata": {
            "tags": []
          }
        },
        {
          "output_type": "display_data",
          "data": {
            "application/javascript": [
              "\n",
              "        // We don't really need these require scripts. But this is to avert\n",
              "        //this code from running before display_input_sequence which DOES require external files\n",
              "        requirejs(['basic', 'ecco'], function(basic, ecco){\n",
              "                console.log('addToken viz_id', 'viz_783778');\n",
              "                window.ecco['viz_783778'].addToken({\"token\": \" that\", \"token_id\": 326, \"position\": 15, \"type\": \"output\"})\n",
              "                window.ecco['viz_783778'].redraw()\n",
              "        })\n",
              "        "
            ],
            "text/plain": [
              "<IPython.core.display.Javascript object>"
            ]
          },
          "metadata": {
            "tags": []
          }
        },
        {
          "output_type": "display_data",
          "data": {
            "application/javascript": [
              "\n",
              "        // We don't really need these require scripts. But this is to avert\n",
              "        //this code from running before display_input_sequence which DOES require external files\n",
              "        requirejs(['basic', 'ecco'], function(basic, ecco){\n",
              "                console.log('addToken viz_id', 'viz_783778');\n",
              "                window.ecco['viz_783778'].addToken({\"token\": \" the\", \"token_id\": 262, \"position\": 16, \"type\": \"output\"})\n",
              "                window.ecco['viz_783778'].redraw()\n",
              "        })\n",
              "        "
            ],
            "text/plain": [
              "<IPython.core.display.Javascript object>"
            ]
          },
          "metadata": {
            "tags": []
          }
        },
        {
          "output_type": "display_data",
          "data": {
            "application/javascript": [
              "\n",
              "        // We don't really need these require scripts. But this is to avert\n",
              "        //this code from running before display_input_sequence which DOES require external files\n",
              "        requirejs(['basic', 'ecco'], function(basic, ecco){\n",
              "                console.log('addToken viz_id', 'viz_783778');\n",
              "                window.ecco['viz_783778'].addToken({\"token\": \" world\", \"token_id\": 995, \"position\": 17, \"type\": \"output\"})\n",
              "                window.ecco['viz_783778'].redraw()\n",
              "        })\n",
              "        "
            ],
            "text/plain": [
              "<IPython.core.display.Javascript object>"
            ]
          },
          "metadata": {
            "tags": []
          }
        },
        {
          "output_type": "display_data",
          "data": {
            "application/javascript": [
              "\n",
              "        // We don't really need these require scripts. But this is to avert\n",
              "        //this code from running before display_input_sequence which DOES require external files\n",
              "        requirejs(['basic', 'ecco'], function(basic, ecco){\n",
              "                console.log('addToken viz_id', 'viz_783778');\n",
              "                window.ecco['viz_783778'].addToken({\"token\": \" was\", \"token_id\": 373, \"position\": 18, \"type\": \"output\"})\n",
              "                window.ecco['viz_783778'].redraw()\n",
              "        })\n",
              "        "
            ],
            "text/plain": [
              "<IPython.core.display.Javascript object>"
            ]
          },
          "metadata": {
            "tags": []
          }
        },
        {
          "output_type": "display_data",
          "data": {
            "application/javascript": [
              "\n",
              "        // We don't really need these require scripts. But this is to avert\n",
              "        //this code from running before display_input_sequence which DOES require external files\n",
              "        requirejs(['basic', 'ecco'], function(basic, ecco){\n",
              "                console.log('addToken viz_id', 'viz_783778');\n",
              "                window.ecco['viz_783778'].addToken({\"token\": \" not\", \"token_id\": 407, \"position\": 19, \"type\": \"output\"})\n",
              "                window.ecco['viz_783778'].redraw()\n",
              "        })\n",
              "        "
            ],
            "text/plain": [
              "<IPython.core.display.Javascript object>"
            ]
          },
          "metadata": {
            "tags": []
          }
        },
        {
          "output_type": "display_data",
          "data": {
            "application/javascript": [
              "\n",
              "        // We don't really need these require scripts. But this is to avert\n",
              "        //this code from running before display_input_sequence which DOES require external files\n",
              "        requirejs(['basic', 'ecco'], function(basic, ecco){\n",
              "                console.log('addToken viz_id', 'viz_783778');\n",
              "                window.ecco['viz_783778'].addToken({\"token\": \" ready\", \"token_id\": 3492, \"position\": 20, \"type\": \"output\"})\n",
              "                window.ecco['viz_783778'].redraw()\n",
              "        })\n",
              "        "
            ],
            "text/plain": [
              "<IPython.core.display.Javascript object>"
            ]
          },
          "metadata": {
            "tags": []
          }
        },
        {
          "output_type": "display_data",
          "data": {
            "application/javascript": [
              "\n",
              "        // We don't really need these require scripts. But this is to avert\n",
              "        //this code from running before display_input_sequence which DOES require external files\n",
              "        requirejs(['basic', 'ecco'], function(basic, ecco){\n",
              "                console.log('addToken viz_id', 'viz_783778');\n",
              "                window.ecco['viz_783778'].addToken({\"token\": \" to\", \"token_id\": 284, \"position\": 21, \"type\": \"output\"})\n",
              "                window.ecco['viz_783778'].redraw()\n",
              "        })\n",
              "        "
            ],
            "text/plain": [
              "<IPython.core.display.Javascript object>"
            ]
          },
          "metadata": {
            "tags": []
          }
        },
        {
          "output_type": "display_data",
          "data": {
            "application/javascript": [
              "\n",
              "        // We don't really need these require scripts. But this is to avert\n",
              "        //this code from running before display_input_sequence which DOES require external files\n",
              "        requirejs(['basic', 'ecco'], function(basic, ecco){\n",
              "                console.log('addToken viz_id', 'viz_783778');\n",
              "                window.ecco['viz_783778'].addToken({\"token\": \" accept\", \"token_id\": 2453, \"position\": 22, \"type\": \"output\"})\n",
              "                window.ecco['viz_783778'].redraw()\n",
              "        })\n",
              "        "
            ],
            "text/plain": [
              "<IPython.core.display.Javascript object>"
            ]
          },
          "metadata": {
            "tags": []
          }
        },
        {
          "output_type": "display_data",
          "data": {
            "application/javascript": [
              "\n",
              "        // We don't really need these require scripts. But this is to avert\n",
              "        //this code from running before display_input_sequence which DOES require external files\n",
              "        requirejs(['basic', 'ecco'], function(basic, ecco){\n",
              "                console.log('addToken viz_id', 'viz_783778');\n",
              "                window.ecco['viz_783778'].addToken({\"token\": \" the\", \"token_id\": 262, \"position\": 23, \"type\": \"output\"})\n",
              "                window.ecco['viz_783778'].redraw()\n",
              "        })\n",
              "        "
            ],
            "text/plain": [
              "<IPython.core.display.Javascript object>"
            ]
          },
          "metadata": {
            "tags": []
          }
        },
        {
          "output_type": "display_data",
          "data": {
            "application/javascript": [
              "\n",
              "        // We don't really need these require scripts. But this is to avert\n",
              "        //this code from running before display_input_sequence which DOES require external files\n",
              "        requirejs(['basic', 'ecco'], function(basic, ecco){\n",
              "                console.log('addToken viz_id', 'viz_783778');\n",
              "                window.ecco['viz_783778'].addToken({\"token\": \" fact\", \"token_id\": 1109, \"position\": 24, \"type\": \"output\"})\n",
              "                window.ecco['viz_783778'].redraw()\n",
              "        })\n",
              "        "
            ],
            "text/plain": [
              "<IPython.core.display.Javascript object>"
            ]
          },
          "metadata": {
            "tags": []
          }
        },
        {
          "output_type": "display_data",
          "data": {
            "application/javascript": [
              "\n",
              "        // We don't really need these require scripts. But this is to avert\n",
              "        //this code from running before display_input_sequence which DOES require external files\n",
              "        requirejs(['basic', 'ecco'], function(basic, ecco){\n",
              "                console.log('addToken viz_id', 'viz_783778');\n",
              "                window.ecco['viz_783778'].addToken({\"token\": \" that\", \"token_id\": 326, \"position\": 25, \"type\": \"output\"})\n",
              "                window.ecco['viz_783778'].redraw()\n",
              "        })\n",
              "        "
            ],
            "text/plain": [
              "<IPython.core.display.Javascript object>"
            ]
          },
          "metadata": {
            "tags": []
          }
        },
        {
          "output_type": "display_data",
          "data": {
            "application/javascript": [
              "\n",
              "        // We don't really need these require scripts. But this is to avert\n",
              "        //this code from running before display_input_sequence which DOES require external files\n",
              "        requirejs(['basic', 'ecco'], function(basic, ecco){\n",
              "                console.log('addToken viz_id', 'viz_783778');\n",
              "                window.ecco['viz_783778'].addToken({\"token\": \" the\", \"token_id\": 262, \"position\": 26, \"type\": \"output\"})\n",
              "                window.ecco['viz_783778'].redraw()\n",
              "        })\n",
              "        "
            ],
            "text/plain": [
              "<IPython.core.display.Javascript object>"
            ]
          },
          "metadata": {
            "tags": []
          }
        },
        {
          "output_type": "display_data",
          "data": {
            "application/javascript": [
              "\n",
              "        // We don't really need these require scripts. But this is to avert\n",
              "        //this code from running before display_input_sequence which DOES require external files\n",
              "        requirejs(['basic', 'ecco'], function(basic, ecco){\n",
              "                console.log('addToken viz_id', 'viz_783778');\n",
              "                window.ecco['viz_783778'].addToken({\"token\": \" world\", \"token_id\": 995, \"position\": 27, \"type\": \"output\"})\n",
              "                window.ecco['viz_783778'].redraw()\n",
              "        })\n",
              "        "
            ],
            "text/plain": [
              "<IPython.core.display.Javascript object>"
            ]
          },
          "metadata": {
            "tags": []
          }
        },
        {
          "output_type": "display_data",
          "data": {
            "application/javascript": [
              "\n",
              "        // We don't really need these require scripts. But this is to avert\n",
              "        //this code from running before display_input_sequence which DOES require external files\n",
              "        requirejs(['basic', 'ecco'], function(basic, ecco){\n",
              "                console.log('addToken viz_id', 'viz_783778');\n",
              "                window.ecco['viz_783778'].addToken({\"token\": \" was\", \"token_id\": 373, \"position\": 28, \"type\": \"output\"})\n",
              "                window.ecco['viz_783778'].redraw()\n",
              "        })\n",
              "        "
            ],
            "text/plain": [
              "<IPython.core.display.Javascript object>"
            ]
          },
          "metadata": {
            "tags": []
          }
        },
        {
          "output_type": "display_data",
          "data": {
            "application/javascript": [
              "\n",
              "        // We don't really need these require scripts. But this is to avert\n",
              "        //this code from running before display_input_sequence which DOES require external files\n",
              "        requirejs(['basic', 'ecco'], function(basic, ecco){\n",
              "                console.log('addToken viz_id', 'viz_783778');\n",
              "                window.ecco['viz_783778'].addToken({\"token\": \" not\", \"token_id\": 407, \"position\": 29, \"type\": \"output\"})\n",
              "                window.ecco['viz_783778'].redraw()\n",
              "        })\n",
              "        "
            ],
            "text/plain": [
              "<IPython.core.display.Javascript object>"
            ]
          },
          "metadata": {
            "tags": []
          }
        },
        {
          "output_type": "display_data",
          "data": {
            "application/javascript": [
              "\n",
              "        // We don't really need these require scripts. But this is to avert\n",
              "        //this code from running before display_input_sequence which DOES require external files\n",
              "        requirejs(['basic', 'ecco'], function(basic, ecco){\n",
              "                console.log('addToken viz_id', 'viz_783778');\n",
              "                window.ecco['viz_783778'].addToken({\"token\": \" ready\", \"token_id\": 3492, \"position\": 30, \"type\": \"output\"})\n",
              "                window.ecco['viz_783778'].redraw()\n",
              "        })\n",
              "        "
            ],
            "text/plain": [
              "<IPython.core.display.Javascript object>"
            ]
          },
          "metadata": {
            "tags": []
          }
        },
        {
          "output_type": "display_data",
          "data": {
            "application/javascript": [
              "\n",
              "        // We don't really need these require scripts. But this is to avert\n",
              "        //this code from running before display_input_sequence which DOES require external files\n",
              "        requirejs(['basic', 'ecco'], function(basic, ecco){\n",
              "                console.log('addToken viz_id', 'viz_783778');\n",
              "                window.ecco['viz_783778'].addToken({\"token\": \" to\", \"token_id\": 284, \"position\": 31, \"type\": \"output\"})\n",
              "                window.ecco['viz_783778'].redraw()\n",
              "        })\n",
              "        "
            ],
            "text/plain": [
              "<IPython.core.display.Javascript object>"
            ]
          },
          "metadata": {
            "tags": []
          }
        },
        {
          "output_type": "display_data",
          "data": {
            "application/javascript": [
              "\n",
              "        // We don't really need these require scripts. But this is to avert\n",
              "        //this code from running before display_input_sequence which DOES require external files\n",
              "        requirejs(['basic', 'ecco'], function(basic, ecco){\n",
              "                console.log('addToken viz_id', 'viz_783778');\n",
              "                window.ecco['viz_783778'].addToken({\"token\": \" accept\", \"token_id\": 2453, \"position\": 32, \"type\": \"output\"})\n",
              "                window.ecco['viz_783778'].redraw()\n",
              "        })\n",
              "        "
            ],
            "text/plain": [
              "<IPython.core.display.Javascript object>"
            ]
          },
          "metadata": {
            "tags": []
          }
        },
        {
          "output_type": "display_data",
          "data": {
            "application/javascript": [
              "\n",
              "        // We don't really need these require scripts. But this is to avert\n",
              "        //this code from running before display_input_sequence which DOES require external files\n",
              "        requirejs(['basic', 'ecco'], function(basic, ecco){\n",
              "                console.log('addToken viz_id', 'viz_783778');\n",
              "                window.ecco['viz_783778'].addToken({\"token\": \" the\", \"token_id\": 262, \"position\": 33, \"type\": \"output\"})\n",
              "                window.ecco['viz_783778'].redraw()\n",
              "        })\n",
              "        "
            ],
            "text/plain": [
              "<IPython.core.display.Javascript object>"
            ]
          },
          "metadata": {
            "tags": []
          }
        },
        {
          "output_type": "display_data",
          "data": {
            "application/javascript": [
              "\n",
              "        // We don't really need these require scripts. But this is to avert\n",
              "        //this code from running before display_input_sequence which DOES require external files\n",
              "        requirejs(['basic', 'ecco'], function(basic, ecco){\n",
              "                console.log('addToken viz_id', 'viz_783778');\n",
              "                window.ecco['viz_783778'].addToken({\"token\": \" fact\", \"token_id\": 1109, \"position\": 34, \"type\": \"output\"})\n",
              "                window.ecco['viz_783778'].redraw()\n",
              "        })\n",
              "        "
            ],
            "text/plain": [
              "<IPython.core.display.Javascript object>"
            ]
          },
          "metadata": {
            "tags": []
          }
        },
        {
          "output_type": "display_data",
          "data": {
            "application/javascript": [
              "\n",
              "        // We don't really need these require scripts. But this is to avert\n",
              "        //this code from running before display_input_sequence which DOES require external files\n",
              "        requirejs(['basic', 'ecco'], function(basic, ecco){\n",
              "                console.log('addToken viz_id', 'viz_783778');\n",
              "                window.ecco['viz_783778'].addToken({\"token\": \" that\", \"token_id\": 326, \"position\": 35, \"type\": \"output\"})\n",
              "                window.ecco['viz_783778'].redraw()\n",
              "        })\n",
              "        "
            ],
            "text/plain": [
              "<IPython.core.display.Javascript object>"
            ]
          },
          "metadata": {
            "tags": []
          }
        },
        {
          "output_type": "display_data",
          "data": {
            "application/javascript": [
              "\n",
              "        // We don't really need these require scripts. But this is to avert\n",
              "        //this code from running before display_input_sequence which DOES require external files\n",
              "        requirejs(['basic', 'ecco'], function(basic, ecco){\n",
              "                console.log('addToken viz_id', 'viz_783778');\n",
              "                window.ecco['viz_783778'].addToken({\"token\": \" the\", \"token_id\": 262, \"position\": 36, \"type\": \"output\"})\n",
              "                window.ecco['viz_783778'].redraw()\n",
              "        })\n",
              "        "
            ],
            "text/plain": [
              "<IPython.core.display.Javascript object>"
            ]
          },
          "metadata": {
            "tags": []
          }
        },
        {
          "output_type": "display_data",
          "data": {
            "application/javascript": [
              "\n",
              "        // We don't really need these require scripts. But this is to avert\n",
              "        //this code from running before display_input_sequence which DOES require external files\n",
              "        requirejs(['basic', 'ecco'], function(basic, ecco){\n",
              "                console.log('addToken viz_id', 'viz_783778');\n",
              "                window.ecco['viz_783778'].addToken({\"token\": \" world\", \"token_id\": 995, \"position\": 37, \"type\": \"output\"})\n",
              "                window.ecco['viz_783778'].redraw()\n",
              "        })\n",
              "        "
            ],
            "text/plain": [
              "<IPython.core.display.Javascript object>"
            ]
          },
          "metadata": {
            "tags": []
          }
        },
        {
          "output_type": "display_data",
          "data": {
            "application/javascript": [
              "\n",
              "        // We don't really need these require scripts. But this is to avert\n",
              "        //this code from running before display_input_sequence which DOES require external files\n",
              "        requirejs(['basic', 'ecco'], function(basic, ecco){\n",
              "                console.log('addToken viz_id', 'viz_783778');\n",
              "                window.ecco['viz_783778'].addToken({\"token\": \" was\", \"token_id\": 373, \"position\": 38, \"type\": \"output\"})\n",
              "                window.ecco['viz_783778'].redraw()\n",
              "        })\n",
              "        "
            ],
            "text/plain": [
              "<IPython.core.display.Javascript object>"
            ]
          },
          "metadata": {
            "tags": []
          }
        },
        {
          "output_type": "display_data",
          "data": {
            "application/javascript": [
              "\n",
              "        // We don't really need these require scripts. But this is to avert\n",
              "        //this code from running before display_input_sequence which DOES require external files\n",
              "        requirejs(['basic', 'ecco'], function(basic, ecco){\n",
              "                console.log('addToken viz_id', 'viz_783778');\n",
              "                window.ecco['viz_783778'].addToken({\"token\": \" not\", \"token_id\": 407, \"position\": 39, \"type\": \"output\"})\n",
              "                window.ecco['viz_783778'].redraw()\n",
              "        })\n",
              "        "
            ],
            "text/plain": [
              "<IPython.core.display.Javascript object>"
            ]
          },
          "metadata": {
            "tags": []
          }
        },
        {
          "output_type": "display_data",
          "data": {
            "application/javascript": [
              "\n",
              "        // We don't really need these require scripts. But this is to avert\n",
              "        //this code from running before display_input_sequence which DOES require external files\n",
              "        requirejs(['basic', 'ecco'], function(basic, ecco){\n",
              "                console.log('addToken viz_id', 'viz_783778');\n",
              "                window.ecco['viz_783778'].addToken({\"token\": \" ready\", \"token_id\": 3492, \"position\": 40, \"type\": \"output\"})\n",
              "                window.ecco['viz_783778'].redraw()\n",
              "        })\n",
              "        "
            ],
            "text/plain": [
              "<IPython.core.display.Javascript object>"
            ]
          },
          "metadata": {
            "tags": []
          }
        },
        {
          "output_type": "display_data",
          "data": {
            "application/javascript": [
              "\n",
              "        // We don't really need these require scripts. But this is to avert\n",
              "        //this code from running before display_input_sequence which DOES require external files\n",
              "        requirejs(['basic', 'ecco'], function(basic, ecco){\n",
              "                console.log('addToken viz_id', 'viz_783778');\n",
              "                window.ecco['viz_783778'].addToken({\"token\": \" to\", \"token_id\": 284, \"position\": 41, \"type\": \"output\"})\n",
              "                window.ecco['viz_783778'].redraw()\n",
              "        })\n",
              "        "
            ],
            "text/plain": [
              "<IPython.core.display.Javascript object>"
            ]
          },
          "metadata": {
            "tags": []
          }
        },
        {
          "output_type": "display_data",
          "data": {
            "application/javascript": [
              "\n",
              "        // We don't really need these require scripts. But this is to avert\n",
              "        //this code from running before display_input_sequence which DOES require external files\n",
              "        requirejs(['basic', 'ecco'], function(basic, ecco){\n",
              "                console.log('addToken viz_id', 'viz_783778');\n",
              "                window.ecco['viz_783778'].addToken({\"token\": \" accept\", \"token_id\": 2453, \"position\": 42, \"type\": \"output\"})\n",
              "                window.ecco['viz_783778'].redraw()\n",
              "        })\n",
              "        "
            ],
            "text/plain": [
              "<IPython.core.display.Javascript object>"
            ]
          },
          "metadata": {
            "tags": []
          }
        },
        {
          "output_type": "display_data",
          "data": {
            "application/javascript": [
              "\n",
              "        // We don't really need these require scripts. But this is to avert\n",
              "        //this code from running before display_input_sequence which DOES require external files\n",
              "        requirejs(['basic', 'ecco'], function(basic, ecco){\n",
              "                console.log('addToken viz_id', 'viz_783778');\n",
              "                window.ecco['viz_783778'].addToken({\"token\": \" the\", \"token_id\": 262, \"position\": 43, \"type\": \"output\"})\n",
              "                window.ecco['viz_783778'].redraw()\n",
              "        })\n",
              "        "
            ],
            "text/plain": [
              "<IPython.core.display.Javascript object>"
            ]
          },
          "metadata": {
            "tags": []
          }
        },
        {
          "output_type": "display_data",
          "data": {
            "application/javascript": [
              "\n",
              "        // We don't really need these require scripts. But this is to avert\n",
              "        //this code from running before display_input_sequence which DOES require external files\n",
              "        requirejs(['basic', 'ecco'], function(basic, ecco){\n",
              "                console.log('addToken viz_id', 'viz_783778');\n",
              "                window.ecco['viz_783778'].addToken({\"token\": \" fact\", \"token_id\": 1109, \"position\": 44, \"type\": \"output\"})\n",
              "                window.ecco['viz_783778'].redraw()\n",
              "        })\n",
              "        "
            ],
            "text/plain": [
              "<IPython.core.display.Javascript object>"
            ]
          },
          "metadata": {
            "tags": []
          }
        },
        {
          "output_type": "display_data",
          "data": {
            "application/javascript": [
              "\n",
              "        // We don't really need these require scripts. But this is to avert\n",
              "        //this code from running before display_input_sequence which DOES require external files\n",
              "        requirejs(['basic', 'ecco'], function(basic, ecco){\n",
              "                console.log('addToken viz_id', 'viz_783778');\n",
              "                window.ecco['viz_783778'].addToken({\"token\": \" that\", \"token_id\": 326, \"position\": 45, \"type\": \"output\"})\n",
              "                window.ecco['viz_783778'].redraw()\n",
              "        })\n",
              "        "
            ],
            "text/plain": [
              "<IPython.core.display.Javascript object>"
            ]
          },
          "metadata": {
            "tags": []
          }
        },
        {
          "output_type": "display_data",
          "data": {
            "application/javascript": [
              "\n",
              "        // We don't really need these require scripts. But this is to avert\n",
              "        //this code from running before display_input_sequence which DOES require external files\n",
              "        requirejs(['basic', 'ecco'], function(basic, ecco){\n",
              "                console.log('addToken viz_id', 'viz_783778');\n",
              "                window.ecco['viz_783778'].addToken({\"token\": \" the\", \"token_id\": 262, \"position\": 46, \"type\": \"output\"})\n",
              "                window.ecco['viz_783778'].redraw()\n",
              "        })\n",
              "        "
            ],
            "text/plain": [
              "<IPython.core.display.Javascript object>"
            ]
          },
          "metadata": {
            "tags": []
          }
        },
        {
          "output_type": "display_data",
          "data": {
            "application/javascript": [
              "\n",
              "        // We don't really need these require scripts. But this is to avert\n",
              "        //this code from running before display_input_sequence which DOES require external files\n",
              "        requirejs(['basic', 'ecco'], function(basic, ecco){\n",
              "                console.log('addToken viz_id', 'viz_783778');\n",
              "                window.ecco['viz_783778'].addToken({\"token\": \" world\", \"token_id\": 995, \"position\": 47, \"type\": \"output\"})\n",
              "                window.ecco['viz_783778'].redraw()\n",
              "        })\n",
              "        "
            ],
            "text/plain": [
              "<IPython.core.display.Javascript object>"
            ]
          },
          "metadata": {
            "tags": []
          }
        },
        {
          "output_type": "display_data",
          "data": {
            "application/javascript": [
              "\n",
              "        // We don't really need these require scripts. But this is to avert\n",
              "        //this code from running before display_input_sequence which DOES require external files\n",
              "        requirejs(['basic', 'ecco'], function(basic, ecco){\n",
              "                console.log('addToken viz_id', 'viz_783778');\n",
              "                window.ecco['viz_783778'].addToken({\"token\": \" was\", \"token_id\": 373, \"position\": 48, \"type\": \"output\"})\n",
              "                window.ecco['viz_783778'].redraw()\n",
              "        })\n",
              "        "
            ],
            "text/plain": [
              "<IPython.core.display.Javascript object>"
            ]
          },
          "metadata": {
            "tags": []
          }
        },
        {
          "output_type": "display_data",
          "data": {
            "application/javascript": [
              "\n",
              "        // We don't really need these require scripts. But this is to avert\n",
              "        //this code from running before display_input_sequence which DOES require external files\n",
              "        requirejs(['basic', 'ecco'], function(basic, ecco){\n",
              "                console.log('addToken viz_id', 'viz_783778');\n",
              "                window.ecco['viz_783778'].addToken({\"token\": \" not\", \"token_id\": 407, \"position\": 49, \"type\": \"output\"})\n",
              "                window.ecco['viz_783778'].redraw()\n",
              "        })\n",
              "        "
            ],
            "text/plain": [
              "<IPython.core.display.Javascript object>"
            ]
          },
          "metadata": {
            "tags": []
          }
        },
        {
          "output_type": "display_data",
          "data": {
            "application/javascript": [
              "\n",
              "        // We don't really need these require scripts. But this is to avert\n",
              "        //this code from running before display_input_sequence which DOES require external files\n",
              "        requirejs(['basic', 'ecco'], function(basic, ecco){\n",
              "                console.log('addToken viz_id', 'viz_783778');\n",
              "                window.ecco['viz_783778'].addToken({\"token\": \" ready\", \"token_id\": 3492, \"position\": 50, \"type\": \"output\"})\n",
              "                window.ecco['viz_783778'].redraw()\n",
              "        })\n",
              "        "
            ],
            "text/plain": [
              "<IPython.core.display.Javascript object>"
            ]
          },
          "metadata": {
            "tags": []
          }
        },
        {
          "output_type": "display_data",
          "data": {
            "application/javascript": [
              "\n",
              "        // We don't really need these require scripts. But this is to avert\n",
              "        //this code from running before display_input_sequence which DOES require external files\n",
              "        requirejs(['basic', 'ecco'], function(basic, ecco){\n",
              "                console.log('addToken viz_id', 'viz_783778');\n",
              "                window.ecco['viz_783778'].addToken({\"token\": \" to\", \"token_id\": 284, \"position\": 51, \"type\": \"output\"})\n",
              "                window.ecco['viz_783778'].redraw()\n",
              "        })\n",
              "        "
            ],
            "text/plain": [
              "<IPython.core.display.Javascript object>"
            ]
          },
          "metadata": {
            "tags": []
          }
        },
        {
          "output_type": "display_data",
          "data": {
            "application/javascript": [
              "\n",
              "        // We don't really need these require scripts. But this is to avert\n",
              "        //this code from running before display_input_sequence which DOES require external files\n",
              "        requirejs(['basic', 'ecco'], function(basic, ecco){\n",
              "                console.log('addToken viz_id', 'viz_783778');\n",
              "                window.ecco['viz_783778'].addToken({\"token\": \" accept\", \"token_id\": 2453, \"position\": 52, \"type\": \"output\"})\n",
              "                window.ecco['viz_783778'].redraw()\n",
              "        })\n",
              "        "
            ],
            "text/plain": [
              "<IPython.core.display.Javascript object>"
            ]
          },
          "metadata": {
            "tags": []
          }
        },
        {
          "output_type": "display_data",
          "data": {
            "application/javascript": [
              "\n",
              "        // We don't really need these require scripts. But this is to avert\n",
              "        //this code from running before display_input_sequence which DOES require external files\n",
              "        requirejs(['basic', 'ecco'], function(basic, ecco){\n",
              "                console.log('addToken viz_id', 'viz_783778');\n",
              "                window.ecco['viz_783778'].addToken({\"token\": \" the\", \"token_id\": 262, \"position\": 53, \"type\": \"output\"})\n",
              "                window.ecco['viz_783778'].redraw()\n",
              "        })\n",
              "        "
            ],
            "text/plain": [
              "<IPython.core.display.Javascript object>"
            ]
          },
          "metadata": {
            "tags": []
          }
        },
        {
          "output_type": "display_data",
          "data": {
            "application/javascript": [
              "\n",
              "        // We don't really need these require scripts. But this is to avert\n",
              "        //this code from running before display_input_sequence which DOES require external files\n",
              "        requirejs(['basic', 'ecco'], function(basic, ecco){\n",
              "                console.log('addToken viz_id', 'viz_783778');\n",
              "                window.ecco['viz_783778'].addToken({\"token\": \" fact\", \"token_id\": 1109, \"position\": 54, \"type\": \"output\"})\n",
              "                window.ecco['viz_783778'].redraw()\n",
              "        })\n",
              "        "
            ],
            "text/plain": [
              "<IPython.core.display.Javascript object>"
            ]
          },
          "metadata": {
            "tags": []
          }
        }
      ]
    },
    {
      "cell_type": "code",
      "metadata": {
        "colab": {
          "base_uri": "https://localhost:8080/",
          "height": 114
        },
        "id": "JzA265wyYL4K",
        "outputId": "7ed1504f-a773-4125-8d47-a61bf5c3e80c"
      },
      "source": [
        "# Show the top 10 candidate output tokens for position #5. \n",
        "# Layer 5 is the last layer in the model.\n",
        "output_1.layer_predictions(position=5, layer=5, topk=10)"
      ],
      "execution_count": 13,
      "outputs": [
        {
          "output_type": "display_data",
          "data": {
            "text/html": [
              "<html lang=\"en\">\n",
              "<script src=\"https://requirejs.org/docs/release/2.3.6/minified/require.js\"></script>\n",
              "<script>\n",
              "    var ecco_url = 'https://storage.googleapis.com/ml-intro/ecco/'\n",
              "    // var ecco_url = 'http://localhost:8000/ecco/'\n",
              "\n",
              "    if (window.ecco === undefined) window.ecco = {}\n",
              "\n",
              "    requirejs.config({\n",
              "        urlArgs: \"bust=\" + (new Date()).getTime(),\n",
              "        nodeRequire: require,\n",
              "        paths: {\n",
              "            d3: \"https://d3js.org/d3.v5.min\",\n",
              "            \"d3-array\": \"https://d3js.org/d3-array.v2.min\",\n",
              "            jquery: \"https://code.jquery.com/jquery-3.5.1.min\",\n",
              "            // oldEcco: ecco_url + 'ecco',\n",
              "            ecco: ecco_url + 'js/0.0.4/ecco-bundle.min',\n",
              "            xregexp: 'https://cdnjs.cloudflare.com/ajax/libs/xregexp/3.2.0/xregexp-all.min'\n",
              "        }\n",
              "    });\n",
              "    requirejs(['d3'],\n",
              "        function (d3) {\n",
              "            d3.select('#css').attr('href', ecco_url + 'html/styles.css')\n",
              "        })\n",
              "\n",
              "    console.log('Ecco initialize.')\n",
              "</script>\n",
              "\n",
              "<head>\n",
              "    <link id='css' rel=\"stylesheet\" type=\"text/css\">\n",
              "</head>\n"
            ],
            "text/plain": [
              "<IPython.core.display.HTML object>"
            ]
          },
          "metadata": {
            "tags": []
          }
        },
        {
          "output_type": "display_data",
          "data": {
            "text/html": [
              "<script>\n",
              "    // console.log('defining basic')\n",
              "    define('basic', ['d3'],\n",
              "        function (d3) {\n",
              "            return {\n",
              "                init: function (viz_id = null) {\n",
              "\n",
              "                    // console.log('basic init')\n",
              "                    if (viz_id == null){\n",
              "                        viz_id = \"viz_\" + Math.round(Math.random() * 10000000)\n",
              "                    }\n",
              "                    const div = d3.select('#basic').attr('id', viz_id),\n",
              "                        div_parent = d3.select('#' + viz_id).node().parentNode\n",
              "\n",
              "                    // Link to CSS file\n",
              "                    d3.select(div_parent).insert('link')\n",
              "                        .attr('rel', 'stylesheet')\n",
              "                        .attr('type', 'text/css')\n",
              "                        .attr('href', ecco_url + 'html/styles.css')\n",
              "\n",
              "                    return viz_id\n",
              "                }\n",
              "            }\n",
              "        }, function (err) {console.log(err);}\n",
              "    )\n",
              "    // console.log('after defining basic')\n",
              "\n",
              "</script>\n",
              "<div id=\"basic\"></div>\n"
            ],
            "text/plain": [
              "<IPython.core.display.HTML object>"
            ]
          },
          "metadata": {
            "tags": []
          }
        },
        {
          "output_type": "display_data",
          "data": {
            "application/javascript": [
              "\n",
              "         requirejs(['basic', 'ecco'], function(basic, ecco){\n",
              "            const viz_id = basic.init()\n",
              "\n",
              "\n",
              "            let pred = new ecco.LayerPredictions({\n",
              "                parentDiv: viz_id,\n",
              "                data:[[{\"token\": \" time\", \"prob\": \"0.16099463\", \"ranking\": 1, \"layer\": 5}, {\"token\": \" the\", \"prob\": \"0.023776304\", \"ranking\": 2, \"layer\": 5}, {\"token\": \" fact\", \"prob\": \"0.01682247\", \"ranking\": 3, \"layer\": 5}, {\"token\": \" a\", \"prob\": \"0.0152507415\", \"ranking\": 4, \"layer\": 5}, {\"token\": \" course\", \"prob\": \"0.011499531\", \"ranking\": 5, \"layer\": 5}, {\"token\": \" faith\", \"prob\": \"0.009632255\", \"ranking\": 6, \"layer\": 5}, {\"token\": \" principle\", \"prob\": \"0.009305289\", \"ranking\": 7, \"layer\": 5}, {\"token\": \" personal\", \"prob\": \"0.009230304\", \"ranking\": 8, \"layer\": 5}, {\"token\": \" great\", \"prob\": \"0.00840852\", \"ranking\": 9, \"layer\": 5}, {\"token\": \" public\", \"prob\": \"0.008183619\", \"ranking\": 10, \"layer\": 5}]]\n",
              "            })\n",
              "            pred.init()\n",
              "         }, function (err) {\n",
              "            console.log(viz_id, err);\n",
              "        })"
            ],
            "text/plain": [
              "<IPython.core.display.Javascript object>"
            ]
          },
          "metadata": {
            "tags": []
          }
        }
      ]
    },
    {
      "cell_type": "markdown",
      "metadata": {
        "id": "z1dCPYSL9zUu"
      },
      "source": [
        "This view shows the top 10 candidate tokens, their probability, and their rankings."
      ]
    },
    {
      "cell_type": "code",
      "metadata": {
        "id": "Iarc86eLfpuu",
        "outputId": "9bb8dc61-8b03-4c04-aa0e-493fbd565e71",
        "colab": {
          "base_uri": "https://localhost:8080/",
          "height": 170
        }
      },
      "source": [
        "output_1.layer_predictions(position=5, layer=5, topk=15)"
      ],
      "execution_count": 14,
      "outputs": [
        {
          "output_type": "display_data",
          "data": {
            "text/html": [
              "<html lang=\"en\">\n",
              "<script src=\"https://requirejs.org/docs/release/2.3.6/minified/require.js\"></script>\n",
              "<script>\n",
              "    var ecco_url = 'https://storage.googleapis.com/ml-intro/ecco/'\n",
              "    // var ecco_url = 'http://localhost:8000/ecco/'\n",
              "\n",
              "    if (window.ecco === undefined) window.ecco = {}\n",
              "\n",
              "    requirejs.config({\n",
              "        urlArgs: \"bust=\" + (new Date()).getTime(),\n",
              "        nodeRequire: require,\n",
              "        paths: {\n",
              "            d3: \"https://d3js.org/d3.v5.min\",\n",
              "            \"d3-array\": \"https://d3js.org/d3-array.v2.min\",\n",
              "            jquery: \"https://code.jquery.com/jquery-3.5.1.min\",\n",
              "            // oldEcco: ecco_url + 'ecco',\n",
              "            ecco: ecco_url + 'js/0.0.4/ecco-bundle.min',\n",
              "            xregexp: 'https://cdnjs.cloudflare.com/ajax/libs/xregexp/3.2.0/xregexp-all.min'\n",
              "        }\n",
              "    });\n",
              "    requirejs(['d3'],\n",
              "        function (d3) {\n",
              "            d3.select('#css').attr('href', ecco_url + 'html/styles.css')\n",
              "        })\n",
              "\n",
              "    console.log('Ecco initialize.')\n",
              "</script>\n",
              "\n",
              "<head>\n",
              "    <link id='css' rel=\"stylesheet\" type=\"text/css\">\n",
              "</head>\n"
            ],
            "text/plain": [
              "<IPython.core.display.HTML object>"
            ]
          },
          "metadata": {
            "tags": []
          }
        },
        {
          "output_type": "display_data",
          "data": {
            "text/html": [
              "<script>\n",
              "    // console.log('defining basic')\n",
              "    define('basic', ['d3'],\n",
              "        function (d3) {\n",
              "            return {\n",
              "                init: function (viz_id = null) {\n",
              "\n",
              "                    // console.log('basic init')\n",
              "                    if (viz_id == null){\n",
              "                        viz_id = \"viz_\" + Math.round(Math.random() * 10000000)\n",
              "                    }\n",
              "                    const div = d3.select('#basic').attr('id', viz_id),\n",
              "                        div_parent = d3.select('#' + viz_id).node().parentNode\n",
              "\n",
              "                    // Link to CSS file\n",
              "                    d3.select(div_parent).insert('link')\n",
              "                        .attr('rel', 'stylesheet')\n",
              "                        .attr('type', 'text/css')\n",
              "                        .attr('href', ecco_url + 'html/styles.css')\n",
              "\n",
              "                    return viz_id\n",
              "                }\n",
              "            }\n",
              "        }, function (err) {console.log(err);}\n",
              "    )\n",
              "    // console.log('after defining basic')\n",
              "\n",
              "</script>\n",
              "<div id=\"basic\"></div>\n"
            ],
            "text/plain": [
              "<IPython.core.display.HTML object>"
            ]
          },
          "metadata": {
            "tags": []
          }
        },
        {
          "output_type": "display_data",
          "data": {
            "application/javascript": [
              "\n",
              "         requirejs(['basic', 'ecco'], function(basic, ecco){\n",
              "            const viz_id = basic.init()\n",
              "\n",
              "\n",
              "            let pred = new ecco.LayerPredictions({\n",
              "                parentDiv: viz_id,\n",
              "                data:[[{\"token\": \" time\", \"prob\": \"0.16099463\", \"ranking\": 1, \"layer\": 5}, {\"token\": \" the\", \"prob\": \"0.023776304\", \"ranking\": 2, \"layer\": 5}, {\"token\": \" fact\", \"prob\": \"0.01682247\", \"ranking\": 3, \"layer\": 5}, {\"token\": \" a\", \"prob\": \"0.0152507415\", \"ranking\": 4, \"layer\": 5}, {\"token\": \" course\", \"prob\": \"0.011499531\", \"ranking\": 5, \"layer\": 5}, {\"token\": \" faith\", \"prob\": \"0.009632255\", \"ranking\": 6, \"layer\": 5}, {\"token\": \" principle\", \"prob\": \"0.009305289\", \"ranking\": 7, \"layer\": 5}, {\"token\": \" personal\", \"prob\": \"0.009230304\", \"ranking\": 8, \"layer\": 5}, {\"token\": \" great\", \"prob\": \"0.00840852\", \"ranking\": 9, \"layer\": 5}, {\"token\": \" public\", \"prob\": \"0.008183619\", \"ranking\": 10, \"layer\": 5}, {\"token\": \" life\", \"prob\": \"0.007613378\", \"ranking\": 11, \"layer\": 5}, {\"token\": \" pride\", \"prob\": \"0.007204682\", \"ranking\": 12, \"layer\": 5}, {\"token\": \" necessity\", \"prob\": \"0.006438311\", \"ranking\": 13, \"layer\": 5}, {\"token\": \" political\", \"prob\": \"0.0059481077\", \"ranking\": 14, \"layer\": 5}, {\"token\": \" fairness\", \"prob\": \"0.005904499\", \"ranking\": 15, \"layer\": 5}]]\n",
              "            })\n",
              "            pred.init()\n",
              "         }, function (err) {\n",
              "            console.log(viz_id, err);\n",
              "        })"
            ],
            "text/plain": [
              "<IPython.core.display.Javascript object>"
            ]
          },
          "metadata": {
            "tags": []
          }
        }
      ]
    },
    {
      "cell_type": "markdown",
      "metadata": {
        "id": "XoMbBRyGfhE3"
      },
      "source": [
        "### Comparing two token candidates for a single position"
      ]
    },
    {
      "cell_type": "code",
      "metadata": {
        "id": "PSQpCZb9YLlw",
        "colab": {
          "base_uri": "https://localhost:8080/"
        },
        "outputId": "955dba59-dad8-4bc6-a359-520a46714bb6"
      },
      "source": [
        "# What are the token IDs of the two words?\n",
        "lm.tokenizer(\" principle principal\")"
      ],
      "execution_count": 15,
      "outputs": [
        {
          "output_type": "execute_result",
          "data": {
            "text/plain": [
              "{'input_ids': [7989, 10033], 'attention_mask': [1, 1]}"
            ]
          },
          "metadata": {
            "tags": []
          },
          "execution_count": 15
        }
      ]
    },
    {
      "cell_type": "code",
      "metadata": {
        "colab": {
          "base_uri": "https://localhost:8080/",
          "height": 378
        },
        "id": "RdC5MO1yvTvC",
        "outputId": "52b910bd-6d8a-4a76-9bfd-33adafba153b"
      },
      "source": [
        "# Compare the rankings of \"Principle\" and \"Principal\" across layers\n",
        "output_1.rankings_watch(watch=[7989, 10033], position=5)"
      ],
      "execution_count": 18,
      "outputs": [
        {
          "output_type": "display_data",
          "data": {
            "image/png": "[encoded data removed]",
            "text/plain": [
              "<Figure size 201.6x244.8 with 3 Axes>"
            ]
          },
          "metadata": {
            "tags": []
          }
        }
      ]
    },
    {
      "cell_type": "markdown",
      "metadata": {
        "id": "T96DI4wF73fk"
      },
      "source": [
        "## Exploring World Knowledge And Layer Analysis\n",
        "Does the model \"know\" where Heathrow airport is located? To probe the model, we let's try the input sentence: \n",
        "\n",
        "`Heathrow airport is located in ____`"
      ]
    },
    {
      "cell_type": "code",
      "metadata": {
        "id": "e2V8ARTEsF6B",
        "colab": {
          "base_uri": "https://localhost:8080/",
          "height": 48
        },
        "outputId": "56f73b12-a53f-4feb-a673-695dba5bfb73"
      },
      "source": [
        "text = \" Heathrow airport is located in\"\n",
        "output_2 = lm.generate(text, generate=5, do_sample=False)"
      ],
      "execution_count": 19,
      "outputs": [
        {
          "output_type": "display_data",
          "data": {
            "text/html": [
              "<html lang=\"en\">\n",
              "<script src=\"https://requirejs.org/docs/release/2.3.6/minified/require.js\"></script>\n",
              "<script>\n",
              "    var ecco_url = 'https://storage.googleapis.com/ml-intro/ecco/'\n",
              "    // var ecco_url = 'http://localhost:8000/ecco/'\n",
              "\n",
              "    if (window.ecco === undefined) window.ecco = {}\n",
              "\n",
              "    requirejs.config({\n",
              "        urlArgs: \"bust=\" + (new Date()).getTime(),\n",
              "        nodeRequire: require,\n",
              "        paths: {\n",
              "            d3: \"https://d3js.org/d3.v5.min\",\n",
              "            \"d3-array\": \"https://d3js.org/d3-array.v2.min\",\n",
              "            jquery: \"https://code.jquery.com/jquery-3.5.1.min\",\n",
              "            // oldEcco: ecco_url + 'ecco',\n",
              "            ecco: ecco_url + 'js/0.0.4/ecco-bundle.min',\n",
              "            xregexp: 'https://cdnjs.cloudflare.com/ajax/libs/xregexp/3.2.0/xregexp-all.min'\n",
              "        }\n",
              "    });\n",
              "    requirejs(['d3'],\n",
              "        function (d3) {\n",
              "            d3.select('#css').attr('href', ecco_url + 'html/styles.css')\n",
              "        })\n",
              "\n",
              "    console.log('Ecco initialize.')\n",
              "</script>\n",
              "\n",
              "<head>\n",
              "    <link id='css' rel=\"stylesheet\" type=\"text/css\">\n",
              "</head>\n"
            ],
            "text/plain": [
              "<IPython.core.display.HTML object>"
            ]
          },
          "metadata": {
            "tags": []
          }
        },
        {
          "output_type": "display_data",
          "data": {
            "text/html": [
              "<script>\n",
              "    // console.log('defining basic')\n",
              "    define('basic', ['d3'],\n",
              "        function (d3) {\n",
              "            return {\n",
              "                init: function (viz_id = null) {\n",
              "\n",
              "                    // console.log('basic init')\n",
              "                    if (viz_id == null){\n",
              "                        viz_id = \"viz_\" + Math.round(Math.random() * 10000000)\n",
              "                    }\n",
              "                    const div = d3.select('#basic').attr('id', viz_id),\n",
              "                        div_parent = d3.select('#' + viz_id).node().parentNode\n",
              "\n",
              "                    // Link to CSS file\n",
              "                    d3.select(div_parent).insert('link')\n",
              "                        .attr('rel', 'stylesheet')\n",
              "                        .attr('type', 'text/css')\n",
              "                        .attr('href', ecco_url + 'html/styles.css')\n",
              "\n",
              "                    return viz_id\n",
              "                }\n",
              "            }\n",
              "        }, function (err) {console.log(err);}\n",
              "    )\n",
              "    // console.log('after defining basic')\n",
              "\n",
              "</script>\n",
              "<div id=\"basic\"></div>\n"
            ],
            "text/plain": [
              "<IPython.core.display.HTML object>"
            ]
          },
          "metadata": {
            "tags": []
          }
        },
        {
          "output_type": "display_data",
          "data": {
            "application/javascript": [
              "\n",
              "\n",
              "         requirejs( ['basic', 'ecco'], function(basic, ecco){\n",
              "            basic.init('viz_144377')\n",
              "\n",
              "            window.ecco['viz_144377'] = ecco.renderOutputSequence('viz_144377', {'tokens': [{'token': ' Heath', 'position': 0, 'token_id': 25846, 'type': 'input'}, {'token': 'row', 'position': 1, 'token_id': 808, 'type': 'input'}, {'token': ' airport', 'position': 2, 'token_id': 9003, 'type': 'input'}, {'token': ' is', 'position': 3, 'token_id': 318, 'type': 'input'}, {'token': ' located', 'position': 4, 'token_id': 5140, 'type': 'input'}, {'token': ' in', 'position': 5, 'token_id': 287, 'type': 'input'}]})\n",
              "         }, function (err) {\n",
              "            console.log(err);\n",
              "        })\n"
            ],
            "text/plain": [
              "<IPython.core.display.Javascript object>"
            ]
          },
          "metadata": {
            "tags": []
          }
        },
        {
          "output_type": "display_data",
          "data": {
            "application/javascript": [
              "\n",
              "        // We don't really need these require scripts. But this is to avert\n",
              "        //this code from running before display_input_sequence which DOES require external files\n",
              "        requirejs(['basic', 'ecco'], function(basic, ecco){\n",
              "                console.log('addToken viz_id', 'viz_144377');\n",
              "                window.ecco['viz_144377'].addToken({\"token\": \" the\", \"token_id\": 262, \"position\": 6, \"type\": \"output\"})\n",
              "                window.ecco['viz_144377'].redraw()\n",
              "        })\n",
              "        "
            ],
            "text/plain": [
              "<IPython.core.display.Javascript object>"
            ]
          },
          "metadata": {
            "tags": []
          }
        },
        {
          "output_type": "display_data",
          "data": {
            "application/javascript": [
              "\n",
              "        // We don't really need these require scripts. But this is to avert\n",
              "        //this code from running before display_input_sequence which DOES require external files\n",
              "        requirejs(['basic', 'ecco'], function(basic, ecco){\n",
              "                console.log('addToken viz_id', 'viz_144377');\n",
              "                window.ecco['viz_144377'].addToken({\"token\": \" heart\", \"token_id\": 2612, \"position\": 7, \"type\": \"output\"})\n",
              "                window.ecco['viz_144377'].redraw()\n",
              "        })\n",
              "        "
            ],
            "text/plain": [
              "<IPython.core.display.Javascript object>"
            ]
          },
          "metadata": {
            "tags": []
          }
        },
        {
          "output_type": "display_data",
          "data": {
            "application/javascript": [
              "\n",
              "        // We don't really need these require scripts. But this is to avert\n",
              "        //this code from running before display_input_sequence which DOES require external files\n",
              "        requirejs(['basic', 'ecco'], function(basic, ecco){\n",
              "                console.log('addToken viz_id', 'viz_144377');\n",
              "                window.ecco['viz_144377'].addToken({\"token\": \" of\", \"token_id\": 286, \"position\": 8, \"type\": \"output\"})\n",
              "                window.ecco['viz_144377'].redraw()\n",
              "        })\n",
              "        "
            ],
            "text/plain": [
              "<IPython.core.display.Javascript object>"
            ]
          },
          "metadata": {
            "tags": []
          }
        },
        {
          "output_type": "display_data",
          "data": {
            "application/javascript": [
              "\n",
              "        // We don't really need these require scripts. But this is to avert\n",
              "        //this code from running before display_input_sequence which DOES require external files\n",
              "        requirejs(['basic', 'ecco'], function(basic, ecco){\n",
              "                console.log('addToken viz_id', 'viz_144377');\n",
              "                window.ecco['viz_144377'].addToken({\"token\": \" the\", \"token_id\": 262, \"position\": 9, \"type\": \"output\"})\n",
              "                window.ecco['viz_144377'].redraw()\n",
              "        })\n",
              "        "
            ],
            "text/plain": [
              "<IPython.core.display.Javascript object>"
            ]
          },
          "metadata": {
            "tags": []
          }
        },
        {
          "output_type": "display_data",
          "data": {
            "application/javascript": [
              "\n",
              "        // We don't really need these require scripts. But this is to avert\n",
              "        //this code from running before display_input_sequence which DOES require external files\n",
              "        requirejs(['basic', 'ecco'], function(basic, ecco){\n",
              "                console.log('addToken viz_id', 'viz_144377');\n",
              "                window.ecco['viz_144377'].addToken({\"token\": \" city\", \"token_id\": 1748, \"position\": 10, \"type\": \"output\"})\n",
              "                window.ecco['viz_144377'].redraw()\n",
              "        })\n",
              "        "
            ],
            "text/plain": [
              "<IPython.core.display.Javascript object>"
            ]
          },
          "metadata": {
            "tags": []
          }
        }
      ]
    },
    {
      "cell_type": "markdown",
      "metadata": {
        "id": "Qgy6fqtB_tBJ"
      },
      "source": [
        "While the output is not incorrect, it doesn't really answer the question we are after. \n",
        "\n",
        "Let's slightly change the input sentence:"
      ]
    },
    {
      "cell_type": "code",
      "metadata": {
        "colab": {
          "base_uri": "https://localhost:8080/",
          "height": 48
        },
        "id": "2E-8avmf8OWc",
        "outputId": "837a8dd6-099d-4a7e-b434-ceef4390602a"
      },
      "source": [
        "text = \" Heathrow airport is located in the city of\"\n",
        "output_2 = lm.generate(text, generate=1, do_sample=False)"
      ],
      "execution_count": 20,
      "outputs": [
        {
          "output_type": "display_data",
          "data": {
            "text/html": [
              "<html lang=\"en\">\n",
              "<script src=\"https://requirejs.org/docs/release/2.3.6/minified/require.js\"></script>\n",
              "<script>\n",
              "    var ecco_url = 'https://storage.googleapis.com/ml-intro/ecco/'\n",
              "    // var ecco_url = 'http://localhost:8000/ecco/'\n",
              "\n",
              "    if (window.ecco === undefined) window.ecco = {}\n",
              "\n",
              "    requirejs.config({\n",
              "        urlArgs: \"bust=\" + (new Date()).getTime(),\n",
              "        nodeRequire: require,\n",
              "        paths: {\n",
              "            d3: \"https://d3js.org/d3.v5.min\",\n",
              "            \"d3-array\": \"https://d3js.org/d3-array.v2.min\",\n",
              "            jquery: \"https://code.jquery.com/jquery-3.5.1.min\",\n",
              "            // oldEcco: ecco_url + 'ecco',\n",
              "            ecco: ecco_url + 'js/0.0.4/ecco-bundle.min',\n",
              "            xregexp: 'https://cdnjs.cloudflare.com/ajax/libs/xregexp/3.2.0/xregexp-all.min'\n",
              "        }\n",
              "    });\n",
              "    requirejs(['d3'],\n",
              "        function (d3) {\n",
              "            d3.select('#css').attr('href', ecco_url + 'html/styles.css')\n",
              "        })\n",
              "\n",
              "    console.log('Ecco initialize.')\n",
              "</script>\n",
              "\n",
              "<head>\n",
              "    <link id='css' rel=\"stylesheet\" type=\"text/css\">\n",
              "</head>\n"
            ],
            "text/plain": [
              "<IPython.core.display.HTML object>"
            ]
          },
          "metadata": {
            "tags": []
          }
        },
        {
          "output_type": "display_data",
          "data": {
            "text/html": [
              "<script>\n",
              "    // console.log('defining basic')\n",
              "    define('basic', ['d3'],\n",
              "        function (d3) {\n",
              "            return {\n",
              "                init: function (viz_id = null) {\n",
              "\n",
              "                    // console.log('basic init')\n",
              "                    if (viz_id == null){\n",
              "                        viz_id = \"viz_\" + Math.round(Math.random() * 10000000)\n",
              "                    }\n",
              "                    const div = d3.select('#basic').attr('id', viz_id),\n",
              "                        div_parent = d3.select('#' + viz_id).node().parentNode\n",
              "\n",
              "                    // Link to CSS file\n",
              "                    d3.select(div_parent).insert('link')\n",
              "                        .attr('rel', 'stylesheet')\n",
              "                        .attr('type', 'text/css')\n",
              "                        .attr('href', ecco_url + 'html/styles.css')\n",
              "\n",
              "                    return viz_id\n",
              "                }\n",
              "            }\n",
              "        }, function (err) {console.log(err);}\n",
              "    )\n",
              "    // console.log('after defining basic')\n",
              "\n",
              "</script>\n",
              "<div id=\"basic\"></div>\n"
            ],
            "text/plain": [
              "<IPython.core.display.HTML object>"
            ]
          },
          "metadata": {
            "tags": []
          }
        },
        {
          "output_type": "display_data",
          "data": {
            "application/javascript": [
              "\n",
              "\n",
              "         requirejs( ['basic', 'ecco'], function(basic, ecco){\n",
              "            basic.init('viz_330582')\n",
              "\n",
              "            window.ecco['viz_330582'] = ecco.renderOutputSequence('viz_330582', {'tokens': [{'token': ' Heath', 'position': 0, 'token_id': 25846, 'type': 'input'}, {'token': 'row', 'position': 1, 'token_id': 808, 'type': 'input'}, {'token': ' airport', 'position': 2, 'token_id': 9003, 'type': 'input'}, {'token': ' is', 'position': 3, 'token_id': 318, 'type': 'input'}, {'token': ' located', 'position': 4, 'token_id': 5140, 'type': 'input'}, {'token': ' in', 'position': 5, 'token_id': 287, 'type': 'input'}, {'token': ' the', 'position': 6, 'token_id': 262, 'type': 'input'}, {'token': ' city', 'position': 7, 'token_id': 1748, 'type': 'input'}, {'token': ' of', 'position': 8, 'token_id': 286, 'type': 'input'}]})\n",
              "         }, function (err) {\n",
              "            console.log(err);\n",
              "        })\n"
            ],
            "text/plain": [
              "<IPython.core.display.Javascript object>"
            ]
          },
          "metadata": {
            "tags": []
          }
        },
        {
          "output_type": "display_data",
          "data": {
            "application/javascript": [
              "\n",
              "        // We don't really need these require scripts. But this is to avert\n",
              "        //this code from running before display_input_sequence which DOES require external files\n",
              "        requirejs(['basic', 'ecco'], function(basic, ecco){\n",
              "                console.log('addToken viz_id', 'viz_330582');\n",
              "                window.ecco['viz_330582'].addToken({\"token\": \" London\", \"token_id\": 3576, \"position\": 9, \"type\": \"output\"})\n",
              "                window.ecco['viz_330582'].redraw()\n",
              "        })\n",
              "        "
            ],
            "text/plain": [
              "<IPython.core.display.Javascript object>"
            ]
          },
          "metadata": {
            "tags": []
          }
        }
      ]
    },
    {
      "cell_type": "code",
      "metadata": {
        "colab": {
          "base_uri": "https://localhost:8080/",
          "height": 227
        },
        "id": "Ws7tKJ_K8Wcg",
        "outputId": "d82c523e-1192-4c57-acc6-d7a747e224d0"
      },
      "source": [
        "# What other tokens were possible to output in place of \"London\"?\n",
        "output_2.layer_predictions(position=9, layer=5, topk=30)"
      ],
      "execution_count": 21,
      "outputs": [
        {
          "output_type": "display_data",
          "data": {
            "text/html": [
              "<html lang=\"en\">\n",
              "<script src=\"https://requirejs.org/docs/release/2.3.6/minified/require.js\"></script>\n",
              "<script>\n",
              "    var ecco_url = 'https://storage.googleapis.com/ml-intro/ecco/'\n",
              "    // var ecco_url = 'http://localhost:8000/ecco/'\n",
              "\n",
              "    if (window.ecco === undefined) window.ecco = {}\n",
              "\n",
              "    requirejs.config({\n",
              "        urlArgs: \"bust=\" + (new Date()).getTime(),\n",
              "        nodeRequire: require,\n",
              "        paths: {\n",
              "            d3: \"https://d3js.org/d3.v5.min\",\n",
              "            \"d3-array\": \"https://d3js.org/d3-array.v2.min\",\n",
              "            jquery: \"https://code.jquery.com/jquery-3.5.1.min\",\n",
              "            // oldEcco: ecco_url + 'ecco',\n",
              "            ecco: ecco_url + 'js/0.0.4/ecco-bundle.min',\n",
              "            xregexp: 'https://cdnjs.cloudflare.com/ajax/libs/xregexp/3.2.0/xregexp-all.min'\n",
              "        }\n",
              "    });\n",
              "    requirejs(['d3'],\n",
              "        function (d3) {\n",
              "            d3.select('#css').attr('href', ecco_url + 'html/styles.css')\n",
              "        })\n",
              "\n",
              "    console.log('Ecco initialize.')\n",
              "</script>\n",
              "\n",
              "<head>\n",
              "    <link id='css' rel=\"stylesheet\" type=\"text/css\">\n",
              "</head>\n"
            ],
            "text/plain": [
              "<IPython.core.display.HTML object>"
            ]
          },
          "metadata": {
            "tags": []
          }
        },
        {
          "output_type": "display_data",
          "data": {
            "text/html": [
              "<script>\n",
              "    // console.log('defining basic')\n",
              "    define('basic', ['d3'],\n",
              "        function (d3) {\n",
              "            return {\n",
              "                init: function (viz_id = null) {\n",
              "\n",
              "                    // console.log('basic init')\n",
              "                    if (viz_id == null){\n",
              "                        viz_id = \"viz_\" + Math.round(Math.random() * 10000000)\n",
              "                    }\n",
              "                    const div = d3.select('#basic').attr('id', viz_id),\n",
              "                        div_parent = d3.select('#' + viz_id).node().parentNode\n",
              "\n",
              "                    // Link to CSS file\n",
              "                    d3.select(div_parent).insert('link')\n",
              "                        .attr('rel', 'stylesheet')\n",
              "                        .attr('type', 'text/css')\n",
              "                        .attr('href', ecco_url + 'html/styles.css')\n",
              "\n",
              "                    return viz_id\n",
              "                }\n",
              "            }\n",
              "        }, function (err) {console.log(err);}\n",
              "    )\n",
              "    // console.log('after defining basic')\n",
              "\n",
              "</script>\n",
              "<div id=\"basic\"></div>\n"
            ],
            "text/plain": [
              "<IPython.core.display.HTML object>"
            ]
          },
          "metadata": {
            "tags": []
          }
        },
        {
          "output_type": "display_data",
          "data": {
            "application/javascript": [
              "\n",
              "         requirejs(['basic', 'ecco'], function(basic, ecco){\n",
              "            const viz_id = basic.init()\n",
              "\n",
              "\n",
              "            let pred = new ecco.LayerPredictions({\n",
              "                parentDiv: viz_id,\n",
              "                data:[[{\"token\": \" London\", \"prob\": \"0.13281083\", \"ranking\": 1, \"layer\": 5}, {\"token\": \" Birmingham\", \"prob\": \"0.06064123\", \"ranking\": 2, \"layer\": 5}, {\"token\": \" Manchester\", \"prob\": \"0.036828216\", \"ranking\": 3, \"layer\": 5}, {\"token\": \" Glasgow\", \"prob\": \"0.0156107135\", \"ranking\": 4, \"layer\": 5}, {\"token\": \" Edinburgh\", \"prob\": \"0.012735456\", \"ranking\": 5, \"layer\": 5}, {\"token\": \" Liverpool\", \"prob\": \"0.011518745\", \"ranking\": 6, \"layer\": 5}, {\"token\": \" Bristol\", \"prob\": \"0.011411636\", \"ranking\": 7, \"layer\": 5}, {\"token\": \" Leeds\", \"prob\": \"0.011315532\", \"ranking\": 8, \"layer\": 5}, {\"token\": \" Belfast\", \"prob\": \"0.011035166\", \"ranking\": 9, \"layer\": 5}, {\"token\": \" Brighton\", \"prob\": \"0.010986359\", \"ranking\": 10, \"layer\": 5}, {\"token\": \" Sheffield\", \"prob\": \"0.009908097\", \"ranking\": 11, \"layer\": 5}, {\"token\": \" Dublin\", \"prob\": \"0.009576625\", \"ranking\": 12, \"layer\": 5}, {\"token\": \" Cov\", \"prob\": \"0.009328982\", \"ranking\": 13, \"layer\": 5}, {\"token\": \" D\", \"prob\": \"0.00873773\", \"ranking\": 14, \"layer\": 5}, {\"token\": \" Dund\", \"prob\": \"0.008347085\", \"ranking\": 15, \"layer\": 5}, {\"token\": \" St\", \"prob\": \"0.008127824\", \"ranking\": 16, \"layer\": 5}, {\"token\": \" Cambridge\", \"prob\": \"0.0077230306\", \"ranking\": 17, \"layer\": 5}, {\"token\": \" Toronto\", \"prob\": \"0.00713806\", \"ranking\": 18, \"layer\": 5}, {\"token\": \" Chelsea\", \"prob\": \"0.006981064\", \"ranking\": 19, \"layer\": 5}, {\"token\": \" W\", \"prob\": \"0.006370264\", \"ranking\": 20, \"layer\": 5}, {\"token\": \" Newcastle\", \"prob\": \"0.0063533247\", \"ranking\": 21, \"layer\": 5}, {\"token\": \" Nottingham\", \"prob\": \"0.00617757\", \"ranking\": 22, \"layer\": 5}, {\"token\": \" G\", \"prob\": \"0.005884209\", \"ranking\": 23, \"layer\": 5}, {\"token\": \" T\", \"prob\": \"0.005857759\", \"ranking\": 24, \"layer\": 5}, {\"token\": \" Westminster\", \"prob\": \"0.0056814784\", \"ranking\": 25, \"layer\": 5}, {\"token\": \" B\", \"prob\": \"0.0056101703\", \"ranking\": 26, \"layer\": 5}, {\"token\": \" Surrey\", \"prob\": \"0.0055002114\", \"ranking\": 27, \"layer\": 5}, {\"token\": \" C\", \"prob\": \"0.0052068\", \"ranking\": 28, \"layer\": 5}, {\"token\": \" New\", \"prob\": \"0.004981762\", \"ranking\": 29, \"layer\": 5}, {\"token\": \" L\", \"prob\": \"0.0048823133\", \"ranking\": 30, \"layer\": 5}]]\n",
              "            })\n",
              "            pred.init()\n",
              "         }, function (err) {\n",
              "            console.log(viz_id, err);\n",
              "        })"
            ],
            "text/plain": [
              "<IPython.core.display.Javascript object>"
            ]
          },
          "metadata": {
            "tags": []
          }
        }
      ]
    },
    {
      "cell_type": "code",
      "metadata": {
        "colab": {
          "base_uri": "https://localhost:8080/",
          "height": 326
        },
        "id": "HrkMe1rI8kCF",
        "outputId": "e38b0959-f828-4afb-d0e6-1106b1273939"
      },
      "source": [
        "# Now that the model has selected the tokens \"London . \\n\"\n",
        "# How did each layer rank these tokens during processing?\n",
        "output_2.rankings()"
      ],
      "execution_count": 22,
      "outputs": [
        {
          "output_type": "display_data",
          "data": {
            "image/png": "[encoded data removed]",
            "text/plain": [
              "<Figure size 136.8x244.8 with 3 Axes>"
            ]
          },
          "metadata": {
            "tags": []
          }
        }
      ]
    },
    {
      "cell_type": "markdown",
      "metadata": {
        "id": "1Qelsn_jZlIE"
      },
      "source": [
        "This visualization is based on the great visual treatment by nostalgebraist in [Interpreting GPT: the logit lens](https://www.lesswrong.com/posts/AcKRB8wDpdaN6v6ru/interpreting-gpt-the-logit-lens)."
      ]
    },
    {
      "cell_type": "markdown",
      "metadata": {
        "id": "UcD1w1HP9hWO"
      },
      "source": [
        "### Probing the model's world knowledge "
      ]
    },
    {
      "cell_type": "markdown",
      "metadata": {
        "id": "XrIhYTsFiCvA"
      },
      "source": [
        "What happens if we present the following input sentence to the model:\n",
        "\n",
        "`The countries of the European Union are:\\n1. Austria\\n2. Belgium\\n3. Bulgaria\\n4. ___________`\n",
        "\n",
        "Namely, we have these questions:\n",
        "* Q. Will the model continue the numbering correctly?\n",
        "* Q. Will it succeed in following the formatting?\n",
        "* Q. Will it succeed in naming countries? European ones?\n",
        "* Q. Will the model \"notice\" the alphabetical order of the list? Will it follow it?\n"
      ]
    },
    {
      "cell_type": "code",
      "metadata": {
        "colab": {
          "base_uri": "https://localhost:8080/",
          "height": 329
        },
        "id": "X72IPVlJ8_8r",
        "outputId": "04004b56-2355-461f-d516-765b9faba3c9"
      },
      "source": [
        "text= \"The countries of the European Union are:\\n1. Austria\\n2. Belgium\\n3. Bulgaria\\n4.\"\n",
        "\n",
        "output_3 = lm.generate(text, generate=20, do_sample=True)"
      ],
      "execution_count": 23,
      "outputs": [
        {
          "output_type": "display_data",
          "data": {
            "text/html": [
              "<html lang=\"en\">\n",
              "<script src=\"https://requirejs.org/docs/release/2.3.6/minified/require.js\"></script>\n",
              "<script>\n",
              "    var ecco_url = 'https://storage.googleapis.com/ml-intro/ecco/'\n",
              "    // var ecco_url = 'http://localhost:8000/ecco/'\n",
              "\n",
              "    if (window.ecco === undefined) window.ecco = {}\n",
              "\n",
              "    requirejs.config({\n",
              "        urlArgs: \"bust=\" + (new Date()).getTime(),\n",
              "        nodeRequire: require,\n",
              "        paths: {\n",
              "            d3: \"https://d3js.org/d3.v5.min\",\n",
              "            \"d3-array\": \"https://d3js.org/d3-array.v2.min\",\n",
              "            jquery: \"https://code.jquery.com/jquery-3.5.1.min\",\n",
              "            // oldEcco: ecco_url + 'ecco',\n",
              "            ecco: ecco_url + 'js/0.0.4/ecco-bundle.min',\n",
              "            xregexp: 'https://cdnjs.cloudflare.com/ajax/libs/xregexp/3.2.0/xregexp-all.min'\n",
              "        }\n",
              "    });\n",
              "    requirejs(['d3'],\n",
              "        function (d3) {\n",
              "            d3.select('#css').attr('href', ecco_url + 'html/styles.css')\n",
              "        })\n",
              "\n",
              "    console.log('Ecco initialize.')\n",
              "</script>\n",
              "\n",
              "<head>\n",
              "    <link id='css' rel=\"stylesheet\" type=\"text/css\">\n",
              "</head>\n"
            ],
            "text/plain": [
              "<IPython.core.display.HTML object>"
            ]
          },
          "metadata": {
            "tags": []
          }
        },
        {
          "output_type": "display_data",
          "data": {
            "text/html": [
              "<script>\n",
              "    // console.log('defining basic')\n",
              "    define('basic', ['d3'],\n",
              "        function (d3) {\n",
              "            return {\n",
              "                init: function (viz_id = null) {\n",
              "\n",
              "                    // console.log('basic init')\n",
              "                    if (viz_id == null){\n",
              "                        viz_id = \"viz_\" + Math.round(Math.random() * 10000000)\n",
              "                    }\n",
              "                    const div = d3.select('#basic').attr('id', viz_id),\n",
              "                        div_parent = d3.select('#' + viz_id).node().parentNode\n",
              "\n",
              "                    // Link to CSS file\n",
              "                    d3.select(div_parent).insert('link')\n",
              "                        .attr('rel', 'stylesheet')\n",
              "                        .attr('type', 'text/css')\n",
              "                        .attr('href', ecco_url + 'html/styles.css')\n",
              "\n",
              "                    return viz_id\n",
              "                }\n",
              "            }\n",
              "        }, function (err) {console.log(err);}\n",
              "    )\n",
              "    // console.log('after defining basic')\n",
              "\n",
              "</script>\n",
              "<div id=\"basic\"></div>\n"
            ],
            "text/plain": [
              "<IPython.core.display.HTML object>"
            ]
          },
          "metadata": {
            "tags": []
          }
        },
        {
          "output_type": "display_data",
          "data": {
            "application/javascript": [
              "\n",
              "\n",
              "         requirejs( ['basic', 'ecco'], function(basic, ecco){\n",
              "            basic.init('viz_715231')\n",
              "\n",
              "            window.ecco['viz_715231'] = ecco.renderOutputSequence('viz_715231', {'tokens': [{'token': 'The', 'position': 0, 'token_id': 464, 'type': 'input'}, {'token': ' countries', 'position': 1, 'token_id': 2678, 'type': 'input'}, {'token': ' of', 'position': 2, 'token_id': 286, 'type': 'input'}, {'token': ' the', 'position': 3, 'token_id': 262, 'type': 'input'}, {'token': ' European', 'position': 4, 'token_id': 3427, 'type': 'input'}, {'token': ' Union', 'position': 5, 'token_id': 4479, 'type': 'input'}, {'token': ' are', 'position': 6, 'token_id': 389, 'type': 'input'}, {'token': ':', 'position': 7, 'token_id': 25, 'type': 'input'}, {'token': '\\n', 'position': 8, 'token_id': 198, 'type': 'input'}, {'token': '1', 'position': 9, 'token_id': 16, 'type': 'input'}, {'token': '.', 'position': 10, 'token_id': 13, 'type': 'input'}, {'token': ' Austria', 'position': 11, 'token_id': 17322, 'type': 'input'}, {'token': '\\n', 'position': 12, 'token_id': 198, 'type': 'input'}, {'token': '2', 'position': 13, 'token_id': 17, 'type': 'input'}, {'token': '.', 'position': 14, 'token_id': 13, 'type': 'input'}, {'token': ' Belgium', 'position': 15, 'token_id': 15664, 'type': 'input'}, {'token': '\\n', 'position': 16, 'token_id': 198, 'type': 'input'}, {'token': '3', 'position': 17, 'token_id': 18, 'type': 'input'}, {'token': '.', 'position': 18, 'token_id': 13, 'type': 'input'}, {'token': ' Bulgaria', 'position': 19, 'token_id': 27902, 'type': 'input'}, {'token': '\\n', 'position': 20, 'token_id': 198, 'type': 'input'}, {'token': '4', 'position': 21, 'token_id': 19, 'type': 'input'}, {'token': '.', 'position': 22, 'token_id': 13, 'type': 'input'}]})\n",
              "         }, function (err) {\n",
              "            console.log(err);\n",
              "        })\n"
            ],
            "text/plain": [
              "<IPython.core.display.Javascript object>"
            ]
          },
          "metadata": {
            "tags": []
          }
        },
        {
          "output_type": "display_data",
          "data": {
            "application/javascript": [
              "\n",
              "        // We don't really need these require scripts. But this is to avert\n",
              "        //this code from running before display_input_sequence which DOES require external files\n",
              "        requirejs(['basic', 'ecco'], function(basic, ecco){\n",
              "                console.log('addToken viz_id', 'viz_715231');\n",
              "                window.ecco['viz_715231'].addToken({\"token\": \" Canada\", \"token_id\": 3340, \"position\": 23, \"type\": \"output\"})\n",
              "                window.ecco['viz_715231'].redraw()\n",
              "        })\n",
              "        "
            ],
            "text/plain": [
              "<IPython.core.display.Javascript object>"
            ]
          },
          "metadata": {
            "tags": []
          }
        },
        {
          "output_type": "display_data",
          "data": {
            "application/javascript": [
              "\n",
              "        // We don't really need these require scripts. But this is to avert\n",
              "        //this code from running before display_input_sequence which DOES require external files\n",
              "        requirejs(['basic', 'ecco'], function(basic, ecco){\n",
              "                console.log('addToken viz_id', 'viz_715231');\n",
              "                window.ecco['viz_715231'].addToken({\"token\": \"\\n\", \"token_id\": 198, \"position\": 24, \"type\": \"output\"})\n",
              "                window.ecco['viz_715231'].redraw()\n",
              "        })\n",
              "        "
            ],
            "text/plain": [
              "<IPython.core.display.Javascript object>"
            ]
          },
          "metadata": {
            "tags": []
          }
        },
        {
          "output_type": "display_data",
          "data": {
            "application/javascript": [
              "\n",
              "        // We don't really need these require scripts. But this is to avert\n",
              "        //this code from running before display_input_sequence which DOES require external files\n",
              "        requirejs(['basic', 'ecco'], function(basic, ecco){\n",
              "                console.log('addToken viz_id', 'viz_715231');\n",
              "                window.ecco['viz_715231'].addToken({\"token\": \"5\", \"token_id\": 20, \"position\": 25, \"type\": \"output\"})\n",
              "                window.ecco['viz_715231'].redraw()\n",
              "        })\n",
              "        "
            ],
            "text/plain": [
              "<IPython.core.display.Javascript object>"
            ]
          },
          "metadata": {
            "tags": []
          }
        },
        {
          "output_type": "display_data",
          "data": {
            "application/javascript": [
              "\n",
              "        // We don't really need these require scripts. But this is to avert\n",
              "        //this code from running before display_input_sequence which DOES require external files\n",
              "        requirejs(['basic', 'ecco'], function(basic, ecco){\n",
              "                console.log('addToken viz_id', 'viz_715231');\n",
              "                window.ecco['viz_715231'].addToken({\"token\": \".\", \"token_id\": 13, \"position\": 26, \"type\": \"output\"})\n",
              "                window.ecco['viz_715231'].redraw()\n",
              "        })\n",
              "        "
            ],
            "text/plain": [
              "<IPython.core.display.Javascript object>"
            ]
          },
          "metadata": {
            "tags": []
          }
        },
        {
          "output_type": "display_data",
          "data": {
            "application/javascript": [
              "\n",
              "        // We don't really need these require scripts. But this is to avert\n",
              "        //this code from running before display_input_sequence which DOES require external files\n",
              "        requirejs(['basic', 'ecco'], function(basic, ecco){\n",
              "                console.log('addToken viz_id', 'viz_715231');\n",
              "                window.ecco['viz_715231'].addToken({\"token\": \" Denmark\", \"token_id\": 16490, \"position\": 27, \"type\": \"output\"})\n",
              "                window.ecco['viz_715231'].redraw()\n",
              "        })\n",
              "        "
            ],
            "text/plain": [
              "<IPython.core.display.Javascript object>"
            ]
          },
          "metadata": {
            "tags": []
          }
        },
        {
          "output_type": "display_data",
          "data": {
            "application/javascript": [
              "\n",
              "        // We don't really need these require scripts. But this is to avert\n",
              "        //this code from running before display_input_sequence which DOES require external files\n",
              "        requirejs(['basic', 'ecco'], function(basic, ecco){\n",
              "                console.log('addToken viz_id', 'viz_715231');\n",
              "                window.ecco['viz_715231'].addToken({\"token\": \"\\n\", \"token_id\": 198, \"position\": 28, \"type\": \"output\"})\n",
              "                window.ecco['viz_715231'].redraw()\n",
              "        })\n",
              "        "
            ],
            "text/plain": [
              "<IPython.core.display.Javascript object>"
            ]
          },
          "metadata": {
            "tags": []
          }
        },
        {
          "output_type": "display_data",
          "data": {
            "application/javascript": [
              "\n",
              "        // We don't really need these require scripts. But this is to avert\n",
              "        //this code from running before display_input_sequence which DOES require external files\n",
              "        requirejs(['basic', 'ecco'], function(basic, ecco){\n",
              "                console.log('addToken viz_id', 'viz_715231');\n",
              "                window.ecco['viz_715231'].addToken({\"token\": \"6\", \"token_id\": 21, \"position\": 29, \"type\": \"output\"})\n",
              "                window.ecco['viz_715231'].redraw()\n",
              "        })\n",
              "        "
            ],
            "text/plain": [
              "<IPython.core.display.Javascript object>"
            ]
          },
          "metadata": {
            "tags": []
          }
        },
        {
          "output_type": "display_data",
          "data": {
            "application/javascript": [
              "\n",
              "        // We don't really need these require scripts. But this is to avert\n",
              "        //this code from running before display_input_sequence which DOES require external files\n",
              "        requirejs(['basic', 'ecco'], function(basic, ecco){\n",
              "                console.log('addToken viz_id', 'viz_715231');\n",
              "                window.ecco['viz_715231'].addToken({\"token\": \".\", \"token_id\": 13, \"position\": 30, \"type\": \"output\"})\n",
              "                window.ecco['viz_715231'].redraw()\n",
              "        })\n",
              "        "
            ],
            "text/plain": [
              "<IPython.core.display.Javascript object>"
            ]
          },
          "metadata": {
            "tags": []
          }
        },
        {
          "output_type": "display_data",
          "data": {
            "application/javascript": [
              "\n",
              "        // We don't really need these require scripts. But this is to avert\n",
              "        //this code from running before display_input_sequence which DOES require external files\n",
              "        requirejs(['basic', 'ecco'], function(basic, ecco){\n",
              "                console.log('addToken viz_id', 'viz_715231');\n",
              "                window.ecco['viz_715231'].addToken({\"token\": \" Hungary\", \"token_id\": 19562, \"position\": 31, \"type\": \"output\"})\n",
              "                window.ecco['viz_715231'].redraw()\n",
              "        })\n",
              "        "
            ],
            "text/plain": [
              "<IPython.core.display.Javascript object>"
            ]
          },
          "metadata": {
            "tags": []
          }
        },
        {
          "output_type": "display_data",
          "data": {
            "application/javascript": [
              "\n",
              "        // We don't really need these require scripts. But this is to avert\n",
              "        //this code from running before display_input_sequence which DOES require external files\n",
              "        requirejs(['basic', 'ecco'], function(basic, ecco){\n",
              "                console.log('addToken viz_id', 'viz_715231');\n",
              "                window.ecco['viz_715231'].addToken({\"token\": \"\\n\", \"token_id\": 198, \"position\": 32, \"type\": \"output\"})\n",
              "                window.ecco['viz_715231'].redraw()\n",
              "        })\n",
              "        "
            ],
            "text/plain": [
              "<IPython.core.display.Javascript object>"
            ]
          },
          "metadata": {
            "tags": []
          }
        },
        {
          "output_type": "display_data",
          "data": {
            "application/javascript": [
              "\n",
              "        // We don't really need these require scripts. But this is to avert\n",
              "        //this code from running before display_input_sequence which DOES require external files\n",
              "        requirejs(['basic', 'ecco'], function(basic, ecco){\n",
              "                console.log('addToken viz_id', 'viz_715231');\n",
              "                window.ecco['viz_715231'].addToken({\"token\": \"7\", \"token_id\": 22, \"position\": 33, \"type\": \"output\"})\n",
              "                window.ecco['viz_715231'].redraw()\n",
              "        })\n",
              "        "
            ],
            "text/plain": [
              "<IPython.core.display.Javascript object>"
            ]
          },
          "metadata": {
            "tags": []
          }
        },
        {
          "output_type": "display_data",
          "data": {
            "application/javascript": [
              "\n",
              "        // We don't really need these require scripts. But this is to avert\n",
              "        //this code from running before display_input_sequence which DOES require external files\n",
              "        requirejs(['basic', 'ecco'], function(basic, ecco){\n",
              "                console.log('addToken viz_id', 'viz_715231');\n",
              "                window.ecco['viz_715231'].addToken({\"token\": \".\", \"token_id\": 13, \"position\": 34, \"type\": \"output\"})\n",
              "                window.ecco['viz_715231'].redraw()\n",
              "        })\n",
              "        "
            ],
            "text/plain": [
              "<IPython.core.display.Javascript object>"
            ]
          },
          "metadata": {
            "tags": []
          }
        },
        {
          "output_type": "display_data",
          "data": {
            "application/javascript": [
              "\n",
              "        // We don't really need these require scripts. But this is to avert\n",
              "        //this code from running before display_input_sequence which DOES require external files\n",
              "        requirejs(['basic', 'ecco'], function(basic, ecco){\n",
              "                console.log('addToken viz_id', 'viz_715231');\n",
              "                window.ecco['viz_715231'].addToken({\"token\": \" Ireland\", \"token_id\": 7517, \"position\": 35, \"type\": \"output\"})\n",
              "                window.ecco['viz_715231'].redraw()\n",
              "        })\n",
              "        "
            ],
            "text/plain": [
              "<IPython.core.display.Javascript object>"
            ]
          },
          "metadata": {
            "tags": []
          }
        },
        {
          "output_type": "display_data",
          "data": {
            "application/javascript": [
              "\n",
              "        // We don't really need these require scripts. But this is to avert\n",
              "        //this code from running before display_input_sequence which DOES require external files\n",
              "        requirejs(['basic', 'ecco'], function(basic, ecco){\n",
              "                console.log('addToken viz_id', 'viz_715231');\n",
              "                window.ecco['viz_715231'].addToken({\"token\": \"\\n\", \"token_id\": 198, \"position\": 36, \"type\": \"output\"})\n",
              "                window.ecco['viz_715231'].redraw()\n",
              "        })\n",
              "        "
            ],
            "text/plain": [
              "<IPython.core.display.Javascript object>"
            ]
          },
          "metadata": {
            "tags": []
          }
        },
        {
          "output_type": "display_data",
          "data": {
            "application/javascript": [
              "\n",
              "        // We don't really need these require scripts. But this is to avert\n",
              "        //this code from running before display_input_sequence which DOES require external files\n",
              "        requirejs(['basic', 'ecco'], function(basic, ecco){\n",
              "                console.log('addToken viz_id', 'viz_715231');\n",
              "                window.ecco['viz_715231'].addToken({\"token\": \"8\", \"token_id\": 23, \"position\": 37, \"type\": \"output\"})\n",
              "                window.ecco['viz_715231'].redraw()\n",
              "        })\n",
              "        "
            ],
            "text/plain": [
              "<IPython.core.display.Javascript object>"
            ]
          },
          "metadata": {
            "tags": []
          }
        },
        {
          "output_type": "display_data",
          "data": {
            "application/javascript": [
              "\n",
              "        // We don't really need these require scripts. But this is to avert\n",
              "        //this code from running before display_input_sequence which DOES require external files\n",
              "        requirejs(['basic', 'ecco'], function(basic, ecco){\n",
              "                console.log('addToken viz_id', 'viz_715231');\n",
              "                window.ecco['viz_715231'].addToken({\"token\": \".\", \"token_id\": 13, \"position\": 38, \"type\": \"output\"})\n",
              "                window.ecco['viz_715231'].redraw()\n",
              "        })\n",
              "        "
            ],
            "text/plain": [
              "<IPython.core.display.Javascript object>"
            ]
          },
          "metadata": {
            "tags": []
          }
        },
        {
          "output_type": "display_data",
          "data": {
            "application/javascript": [
              "\n",
              "        // We don't really need these require scripts. But this is to avert\n",
              "        //this code from running before display_input_sequence which DOES require external files\n",
              "        requirejs(['basic', 'ecco'], function(basic, ecco){\n",
              "                console.log('addToken viz_id', 'viz_715231');\n",
              "                window.ecco['viz_715231'].addToken({\"token\": \" Italy\", \"token_id\": 8031, \"position\": 39, \"type\": \"output\"})\n",
              "                window.ecco['viz_715231'].redraw()\n",
              "        })\n",
              "        "
            ],
            "text/plain": [
              "<IPython.core.display.Javascript object>"
            ]
          },
          "metadata": {
            "tags": []
          }
        },
        {
          "output_type": "display_data",
          "data": {
            "application/javascript": [
              "\n",
              "        // We don't really need these require scripts. But this is to avert\n",
              "        //this code from running before display_input_sequence which DOES require external files\n",
              "        requirejs(['basic', 'ecco'], function(basic, ecco){\n",
              "                console.log('addToken viz_id', 'viz_715231');\n",
              "                window.ecco['viz_715231'].addToken({\"token\": \"\\n\", \"token_id\": 198, \"position\": 40, \"type\": \"output\"})\n",
              "                window.ecco['viz_715231'].redraw()\n",
              "        })\n",
              "        "
            ],
            "text/plain": [
              "<IPython.core.display.Javascript object>"
            ]
          },
          "metadata": {
            "tags": []
          }
        },
        {
          "output_type": "display_data",
          "data": {
            "application/javascript": [
              "\n",
              "        // We don't really need these require scripts. But this is to avert\n",
              "        //this code from running before display_input_sequence which DOES require external files\n",
              "        requirejs(['basic', 'ecco'], function(basic, ecco){\n",
              "                console.log('addToken viz_id', 'viz_715231');\n",
              "                window.ecco['viz_715231'].addToken({\"token\": \"29\", \"token_id\": 1959, \"position\": 41, \"type\": \"output\"})\n",
              "                window.ecco['viz_715231'].redraw()\n",
              "        })\n",
              "        "
            ],
            "text/plain": [
              "<IPython.core.display.Javascript object>"
            ]
          },
          "metadata": {
            "tags": []
          }
        },
        {
          "output_type": "display_data",
          "data": {
            "application/javascript": [
              "\n",
              "        // We don't really need these require scripts. But this is to avert\n",
              "        //this code from running before display_input_sequence which DOES require external files\n",
              "        requirejs(['basic', 'ecco'], function(basic, ecco){\n",
              "                console.log('addToken viz_id', 'viz_715231');\n",
              "                window.ecco['viz_715231'].addToken({\"token\": \".\", \"token_id\": 13, \"position\": 42, \"type\": \"output\"})\n",
              "                window.ecco['viz_715231'].redraw()\n",
              "        })\n",
              "        "
            ],
            "text/plain": [
              "<IPython.core.display.Javascript object>"
            ]
          },
          "metadata": {
            "tags": []
          }
        }
      ]
    },
    {
      "cell_type": "markdown",
      "metadata": {
        "id": "r-ikx4AVBvLK"
      },
      "source": [
        "The `rankings()` visualization view shows us at which layers the model resolved the output token for each position."
      ]
    },
    {
      "cell_type": "code",
      "metadata": {
        "colab": {
          "base_uri": "https://localhost:8080/",
          "height": 292
        },
        "id": "bI2OpemBE5cG",
        "outputId": "a192b226-1e9b-45a6-a61b-e2458d339937"
      },
      "source": [
        "output_3.rankings()"
      ],
      "execution_count": 24,
      "outputs": [
        {
          "output_type": "display_data",
          "data": {
            "image/png": "[encoded data removed]",
            "text/plain": [
              "<Figure size 1368x244.8 with 3 Axes>"
            ]
          },
          "metadata": {
            "tags": []
          }
        }
      ]
    },
    {
      "cell_type": "markdown",
      "metadata": {
        "id": "XJ-5kli5CGyf"
      },
      "source": [
        "The `saliency()` visualization shows which tokens contributed the most towards generating each output token (using the gradient X Input method):"
      ]
    },
    {
      "cell_type": "code",
      "metadata": {
        "colab": {
          "base_uri": "https://localhost:8080/",
          "height": 235
        },
        "id": "D-nKpXW5FPlY",
        "outputId": "39cae4fc-6287-413b-f88d-e78f30beff0f"
      },
      "source": [
        "output_3.saliency()"
      ],
      "execution_count": 25,
      "outputs": [
        {
          "output_type": "display_data",
          "data": {
            "text/html": [
              "<html lang=\"en\">\n",
              "<script src=\"https://requirejs.org/docs/release/2.3.6/minified/require.js\"></script>\n",
              "<script>\n",
              "    var ecco_url = 'https://storage.googleapis.com/ml-intro/ecco/'\n",
              "    // var ecco_url = 'http://localhost:8000/ecco/'\n",
              "\n",
              "    if (window.ecco === undefined) window.ecco = {}\n",
              "\n",
              "    requirejs.config({\n",
              "        urlArgs: \"bust=\" + (new Date()).getTime(),\n",
              "        nodeRequire: require,\n",
              "        paths: {\n",
              "            d3: \"https://d3js.org/d3.v5.min\",\n",
              "            \"d3-array\": \"https://d3js.org/d3-array.v2.min\",\n",
              "            jquery: \"https://code.jquery.com/jquery-3.5.1.min\",\n",
              "            // oldEcco: ecco_url + 'ecco',\n",
              "            ecco: ecco_url + 'js/0.0.4/ecco-bundle.min',\n",
              "            xregexp: 'https://cdnjs.cloudflare.com/ajax/libs/xregexp/3.2.0/xregexp-all.min'\n",
              "        }\n",
              "    });\n",
              "    requirejs(['d3'],\n",
              "        function (d3) {\n",
              "            d3.select('#css').attr('href', ecco_url + 'html/styles.css')\n",
              "        })\n",
              "\n",
              "    console.log('Ecco initialize.')\n",
              "</script>\n",
              "\n",
              "<head>\n",
              "    <link id='css' rel=\"stylesheet\" type=\"text/css\">\n",
              "</head>\n"
            ],
            "text/plain": [
              "<IPython.core.display.HTML object>"
            ]
          },
          "metadata": {
            "tags": []
          }
        },
        {
          "output_type": "display_data",
          "data": {
            "text/html": [
              "<script>\n",
              "    // console.log('defining basic')\n",
              "    define('basic', ['d3'],\n",
              "        function (d3) {\n",
              "            return {\n",
              "                init: function (viz_id = null) {\n",
              "\n",
              "                    // console.log('basic init')\n",
              "                    if (viz_id == null){\n",
              "                        viz_id = \"viz_\" + Math.round(Math.random() * 10000000)\n",
              "                    }\n",
              "                    const div = d3.select('#basic').attr('id', viz_id),\n",
              "                        div_parent = d3.select('#' + viz_id).node().parentNode\n",
              "\n",
              "                    // Link to CSS file\n",
              "                    d3.select(div_parent).insert('link')\n",
              "                        .attr('rel', 'stylesheet')\n",
              "                        .attr('type', 'text/css')\n",
              "                        .attr('href', ecco_url + 'html/styles.css')\n",
              "\n",
              "                    return viz_id\n",
              "                }\n",
              "            }\n",
              "        }, function (err) {console.log(err);}\n",
              "    )\n",
              "    // console.log('after defining basic')\n",
              "\n",
              "</script>\n",
              "<div id=\"basic\"></div>\n"
            ],
            "text/plain": [
              "<IPython.core.display.HTML object>"
            ]
          },
          "metadata": {
            "tags": []
          }
        },
        {
          "output_type": "display_data",
          "data": {
            "application/javascript": [
              "\n",
              "             requirejs(['basic', 'ecco'], function(basic, ecco){\n",
              "                const viz_id = basic.init()\n",
              "                // ecco.interactiveTokens(viz_id, {})\n",
              "                window.ecco[viz_id] = new ecco.MinimalHighlighter({\n",
              "                parentDiv: viz_id,\n",
              "                data: {'tokens': [{'token': 'The', 'token_id': 464, 'type': 'input', 'value': '0.04925995', 'position': 0}, {'token': ' countries', 'token_id': 2678, 'type': 'input', 'value': '0.049636032', 'position': 1}, {'token': ' of', 'token_id': 286, 'type': 'input', 'value': '0.013125612', 'position': 2}, {'token': ' the', 'token_id': 262, 'type': 'input', 'value': '0.012236262', 'position': 3}, {'token': ' European', 'token_id': 3427, 'type': 'input', 'value': '0.05068722', 'position': 4}, {'token': ' Union', 'token_id': 4479, 'type': 'input', 'value': '0.027107807', 'position': 5}, {'token': ' are', 'token_id': 389, 'type': 'input', 'value': '0.015889382', 'position': 6}, {'token': ':', 'token_id': 25, 'type': 'input', 'value': '0.020438861', 'position': 7}, {'token': '\\n', 'token_id': 198, 'type': 'input', 'value': '0.026521306', 'position': 8}, {'token': '1', 'token_id': 16, 'type': 'input', 'value': '0.035519436', 'position': 9}, {'token': '.', 'token_id': 13, 'type': 'input', 'value': '0.027077591', 'position': 10}, {'token': ' Austria', 'token_id': 17322, 'type': 'input', 'value': '0.15139067', 'position': 11}, {'token': '\\n', 'token_id': 198, 'type': 'input', 'value': '0.021322396', 'position': 12}, {'token': '2', 'token_id': 17, 'type': 'input', 'value': '0.025311802', 'position': 13}, {'token': '.', 'token_id': 13, 'type': 'input', 'value': '0.02044762', 'position': 14}, {'token': ' Belgium', 'token_id': 15664, 'type': 'input', 'value': '0.12712994', 'position': 15}, {'token': '\\n', 'token_id': 198, 'type': 'input', 'value': '0.016645275', 'position': 16}, {'token': '3', 'token_id': 18, 'type': 'input', 'value': '0.028078508', 'position': 17}, {'token': '.', 'token_id': 13, 'type': 'input', 'value': '0.023417898', 'position': 18}, {'token': ' Bulgaria', 'token_id': 27902, 'type': 'input', 'value': '0.16771376', 'position': 19}, {'token': '\\n', 'token_id': 198, 'type': 'input', 'value': '0.01652674', 'position': 20}, {'token': '4', 'token_id': 19, 'type': 'input', 'value': '0.039740995', 'position': 21}, {'token': '.', 'token_id': 13, 'type': 'input', 'value': '0.034774937', 'position': 22}, {'token': ' Canada', 'token_id': 3340, 'type': 'output', 'value': '0', 'position': 23}, {'token': '\\n', 'token_id': 198, 'type': 'output', 'value': '0', 'position': 24}, {'token': '5', 'token_id': 20, 'type': 'output', 'value': '0', 'position': 25}, {'token': '.', 'token_id': 13, 'type': 'output', 'value': '0', 'position': 26}, {'token': ' Denmark', 'token_id': 16490, 'type': 'output', 'value': '0', 'position': 27}, {'token': '\\n', 'token_id': 198, 'type': 'output', 'value': '0', 'position': 28}, {'token': '6', 'token_id': 21, 'type': 'output', 'value': '0', 'position': 29}, {'token': '.', 'token_id': 13, 'type': 'output', 'value': '0', 'position': 30}, {'token': ' Hungary', 'token_id': 19562, 'type': 'output', 'value': '0', 'position': 31}, {'token': '\\n', 'token_id': 198, 'type': 'output', 'value': '0', 'position': 32}, {'token': '7', 'token_id': 22, 'type': 'output', 'value': '0', 'position': 33}, {'token': '.', 'token_id': 13, 'type': 'output', 'value': '0', 'position': 34}, {'token': ' Ireland', 'token_id': 7517, 'type': 'output', 'value': '0', 'position': 35}, {'token': '\\n', 'token_id': 198, 'type': 'output', 'value': '0', 'position': 36}, {'token': '8', 'token_id': 23, 'type': 'output', 'value': '0', 'position': 37}, {'token': '.', 'token_id': 13, 'type': 'output', 'value': '0', 'position': 38}, {'token': ' Italy', 'token_id': 8031, 'type': 'output', 'value': '0', 'position': 39}, {'token': '\\n', 'token_id': 198, 'type': 'output', 'value': '0', 'position': 40}, {'token': '29', 'token_id': 1959, 'type': 'output', 'value': '0', 'position': 41}, {'token': '.', 'token_id': 13, 'type': 'output', 'value': '0', 'position': 42}], 'attributions': [[0.04925994947552681, 0.049636032432317734, 0.013125612400472164, 0.012236261740326881, 0.05068721994757652, 0.027107806876301765, 0.015889381989836693, 0.02043886110186577, 0.026521306484937668, 0.03551943600177765, 0.02707759104669094, 0.1513906717300415, 0.021322395652532578, 0.025311801582574844, 0.020447619259357452, 0.1271299421787262, 0.016645275056362152, 0.028078507632017136, 0.023417897522449493, 0.16771376132965088, 0.016526740044355392, 0.039740994572639465, 0.034774936735630035], [0.054799098521471024, 0.06771774590015411, 0.016118070110678673, 0.014539685100317001, 0.042750392109155655, 0.03408966213464737, 0.03552817553281784, 0.043188124895095825, 0.033737484365701675, 0.044348228722810745, 0.028606325387954712, 0.08235309273004532, 0.02696305140852928, 0.02959352545440197, 0.02593034692108631, 0.04820563644170761, 0.023086169734597206, 0.02810518443584442, 0.018707383424043655, 0.05594654753804207, 0.026870593428611755, 0.03412418067455292, 0.02819177880883217, 0.15649953484535217], [0.04587000608444214, 0.06131066009402275, 0.01821020059287548, 0.0137476259842515, 0.03685402497649193, 0.028410105034708977, 0.026549091562628746, 0.0379619374871254, 0.04678097367286682, 0.07056763023138046, 0.03283229470252991, 0.05684996768832207, 0.03177639842033386, 0.05707847326993942, 0.019856801256537437, 0.032869014889001846, 0.023199088871479034, 0.059301964938640594, 0.021187787875533104, 0.03859013691544533, 0.029283693060278893, 0.06837072223424911, 0.02855416014790535, 0.07003361731767654, 0.043953537940979004], [0.04855554923415184, 0.07881022244691849, 0.014340790919959545, 0.011474711820483208, 0.0324922576546669, 0.028709203004837036, 0.02390206605195999, 0.026551900431513786, 0.030985653400421143, 0.04731428250670433, 0.03005434013903141, 0.07251062989234924, 0.02194596640765667, 0.03329897299408913, 0.03072066232562065, 0.04611766338348389, 0.021839402616024017, 0.035265352576971054, 0.03152213618159294, 0.04865594953298569, 0.023249046877026558, 0.0516175851225853, 0.032134637236595154, 0.045887771993875504, 0.03724147006869316, 0.09480185806751251], [0.04898165166378021, 0.04656786099076271, 0.012912492267787457, 0.012009928934276104, 0.04511628299951553, 0.025990169495344162, 0.015922700986266136, 0.019715409725904465, 0.02608581632375717, 0.0325494259595871, 0.024175914004445076, 0.12711146473884583, 0.021019840613007545, 0.02091754972934723, 0.013940474018454552, 0.09536350518465042, 0.014938938431441784, 0.01827216148376465, 0.016749998554587364, 0.11266864836215973, 0.015887103974819183, 0.02102065272629261, 0.017938412725925446, 0.10201488435268402, 0.019864140078425407, 0.03691016137599945, 0.035354387015104294], [0.04902118444442749, 0.0550367571413517, 0.014331313781440258, 0.012260520830750465, 0.0368366576731205, 0.029095713049173355, 0.02771732397377491, 0.033629100769758224, 0.02899189665913582, 0.03784874081611633, 0.021042218431830406, 0.07996518909931183, 0.022184258326888084, 0.02443915419280529, 0.01980544626712799, 0.05644601956009865, 0.022941920906305313, 0.019985968247056007, 0.016378113999962807, 0.0522276796400547, 0.023255839943885803, 0.025757456198334694, 0.012963949702680111, 0.036367204040288925, 0.025457000359892845, 0.03168623894453049, 0.02280738763511181, 0.16151975095272064], [0.040666110813617706, 0.05144213140010834, 0.014467391185462475, 0.010293410159647465, 0.029528558254241943, 0.02320723980665207, 0.022447388619184494, 0.03348899260163307, 0.04407857730984688, 0.05239357054233551, 0.027705369517207146, 0.04458244517445564, 0.029189538210630417, 0.03993749991059303, 0.01725614070892334, 0.02890302985906601, 0.024873625487089157, 0.03999211639165878, 0.017824720591306686, 0.031178204342722893, 0.022149676457047462, 0.0603470541536808, 0.022102175280451775, 0.037037208676338196, 0.03197326138615608, 0.08165989816188812, 0.025305621325969696, 0.05989032983779907, 0.036078792065382004], [0.04730604216456413, 0.07067830860614777, 0.012767587788403034, 0.011648672632873058, 0.031024053692817688, 0.025746038183569908, 0.020856482908129692, 0.023707589134573936, 0.02870631404221058, 0.04103674367070198, 0.025772305205464363, 0.0607546828687191, 0.019178159534931183, 0.02634320966899395, 0.02607804350554943, 0.04219421371817589, 0.019000263884663582, 0.02500995248556137, 0.02085156925022602, 0.041993625462055206, 0.01699080504477024, 0.02339813858270645, 0.025568490847945213, 0.032589394599199295, 0.0313950814306736, 0.04422149807214737, 0.026360508054494858, 0.055501099675893784, 0.03395857289433479, 0.0893624946475029], [0.04518608748912811, 0.04490108788013458, 0.012243522331118584, 0.011175759136676788, 0.04076996445655823, 0.024953773245215416, 0.015180932357907295, 0.018703725188970566, 0.023618269711732864, 0.0291496179997921, 0.021237192675471306, 0.11642225831747055, 0.01704585924744606, 0.019878771156072617, 0.011880345642566681, 0.07304757088422775, 0.014050926081836224, 0.017961135134100914, 0.010617419146001339, 0.07821306586265564, 0.01623578369617462, 0.017073331400752068, 0.01169895101338625, 0.05563966929912567, 0.01178346760571003, 0.016027815639972687, 0.013696955516934395, 0.1256064474582672, 0.013794257305562496, 0.03776925802230835, 0.03443680331110954], [0.04249854385852814, 0.04099453613162041, 0.014175347983837128, 0.009869616478681564, 0.02684975229203701, 0.023464633151888847, 0.022679949179291725, 0.03402608633041382, 0.03399377316236496, 0.03903989866375923, 0.023624831810593605, 0.048906099051237106, 0.030559370294213295, 0.030108848586678505, 0.01595545932650566, 0.030691659078001976, 0.022996442392468452, 0.02454432286322117, 0.013427824713289738, 0.034422680735588074, 0.022278429940342903, 0.01757456734776497, 0.008527315221726894, 0.034243009984493256, 0.015920137986540794, 0.015244202688336372, 0.008074932731688023, 0.03174886479973793, 0.026821298524737358, 0.03284062072634697, 0.018848588690161705, 0.20504839718341827], [0.03727734088897705, 0.04069257900118828, 0.012173496186733246, 0.008816001005470753, 0.024375731125473976, 0.020121494308114052, 0.017664391547441483, 0.028993289917707443, 0.03955761715769768, 0.04199649393558502, 0.01988881826400757, 0.03546636179089546, 0.022668572142720222, 0.031302984803915024, 0.015848182141780853, 0.023542754352092743, 0.02206060290336609, 0.03553919866681099, 0.01579894870519638, 0.030520539730787277, 0.021244382485747337, 0.04532763361930847, 0.0218342337757349, 0.027134334668517113, 0.03025694750249386, 0.06642165780067444, 0.013100913725793362, 0.026911256834864616, 0.02644694223999977, 0.07503262162208557, 0.01869170367717743, 0.06310876458883286, 0.04018326848745346], [0.044393301010131836, 0.06514931470155716, 0.012227585539221764, 0.011768737807869911, 0.027971254661679268, 0.023217853158712387, 0.020006664097309113, 0.022065743803977966, 0.026669451966881752, 0.03393992781639099, 0.02272588200867176, 0.057292211800813675, 0.017483403906226158, 0.02203313261270523, 0.023372948169708252, 0.03932097926735878, 0.01581687666475773, 0.018987013027071953, 0.018328668549656868, 0.03814875707030296, 0.014519927091896534, 0.019999036565423012, 0.017685791477560997, 0.025783374905586243, 0.017341354861855507, 0.019743511453270912, 0.02540278062224388, 0.024020319804549217, 0.029087571427226067, 0.05559976026415825, 0.02222297526896, 0.05473996326327324, 0.029893409460783005, 0.08304056525230408], [0.041325729340314865, 0.03820061311125755, 0.010789674706757069, 0.00998685136437416, 0.0357956700026989, 0.021719062700867653, 0.014171230606734753, 0.017607998102903366, 0.021975543349981308, 0.024608412757515907, 0.01932498626410961, 0.10176544636487961, 0.015313155949115753, 0.01619914174079895, 0.011413398198783398, 0.05917287990450859, 0.011850422248244286, 0.013752490282058716, 0.010195232927799225, 0.06621602177619934, 0.012130322866141796, 0.0145559161901474, 0.009402641095221043, 0.043215978890657425, 0.012751839123666286, 0.013196649961173534, 0.008390653878450394, 0.06294376403093338, 0.017611274495720863, 0.025989795103669167, 0.012729867361485958, 0.14313958585262299, 0.010727384127676487, 0.024945899844169617, 0.02688436582684517], [0.04269576072692871, 0.051836542785167694, 0.012571370229125023, 0.011666751466691494, 0.032241854816675186, 0.025649288669228554, 0.025943541899323463, 0.03141793981194496, 0.026623519137501717, 0.03203955292701721, 0.019125908613204956, 0.06316423416137695, 0.01740230619907379, 0.021391330286860466, 0.019142888486385345, 0.041831981390714645, 0.012694179080426693, 0.015731649473309517, 0.014895310625433922, 0.046377431601285934, 0.011122559197247028, 0.01877216249704361, 0.009792863391339779, 0.03424051031470299, 0.009281710721552372, 0.017431648448109627, 0.00910711195319891, 0.027450615540146828, 0.014003817923367023, 0.021242281422019005, 0.010969736613333225, 0.03462519869208336, 0.020790545269846916, 0.04015312343835831, 0.016698341816663742, 0.1398744434118271], [0.038557376712560654, 0.048114728182554245, 0.012717194855213165, 0.010312794707715511, 0.025866374373435974, 0.02087273821234703, 0.019581761211156845, 0.02862621285021305, 0.041351620107889175, 0.040627673268318176, 0.018854161724448204, 0.036801159381866455, 0.022942204028367996, 0.02840517833828926, 0.014853802509605885, 0.023543886840343475, 0.017174508422613144, 0.026941057294607162, 0.0122881093993783, 0.02865019254386425, 0.016659922897815704, 0.03415384516119957, 0.011695181019604206, 0.025141602382063866, 0.021945076063275337, 0.04007456451654434, 0.009186329320073128, 0.024327311664819717, 0.02016051486134529, 0.04104800522327423, 0.010772350244224072, 0.036425892263650894, 0.02645130641758442, 0.05838813632726669, 0.015171539969742298, 0.05241530016064644, 0.03890039771795273], [0.04483934864401817, 0.0646551102399826, 0.012246559374034405, 0.012519055046141148, 0.027322253212332726, 0.022913817316293716, 0.02055612951517105, 0.02179521694779396, 0.026985574513673782, 0.03447970375418663, 0.02109272964298725, 0.05539308115839958, 0.016331259161233902, 0.021793046966195107, 0.0218073558062315, 0.037347715348005295, 0.013262659311294556, 0.016337839886546135, 0.015122559852898121, 0.036445245146751404, 0.011778107844293118, 0.01574060507118702, 0.015136487782001495, 0.0248570516705513, 0.012818004935979843, 0.01581495627760887, 0.016156410798430443, 0.019117256626486778, 0.014918136410415173, 0.02057095244526863, 0.024007199332118034, 0.024408582597970963, 0.022760529071092606, 0.05155736207962036, 0.020112892612814903, 0.040311042219400406, 0.025312891229987144, 0.08137530833482742], [0.0395573154091835, 0.035844750702381134, 0.010394565761089325, 0.009790314361453056, 0.03252572566270828, 0.020190473645925522, 0.012894591316580772, 0.016903607174754143, 0.021619729697704315, 0.02365940622985363, 0.018114594742655754, 0.09155356138944626, 0.014714951626956463, 0.015334051102399826, 0.010594182647764683, 0.05107007175683975, 0.010815437883138657, 0.013192697428166866, 0.008809409104287624, 0.06418991088867188, 0.011565609835088253, 0.013996983878314495, 0.008164102211594582, 0.04511449113488197, 0.009303238242864609, 0.0118583794683218, 0.007437143474817276, 0.049707915633916855, 0.017499428242444992, 0.017758511006832123, 0.009307707659900188, 0.08136855065822601, 0.01319195982068777, 0.01770928129553795, 0.0126193817704916, 0.09191521257162094, 0.01094433106482029, 0.025447281077504158, 0.023321131244301796], [0.044364083558321, 0.04202255606651306, 0.013794195838272572, 0.009502311237156391, 0.028306415304541588, 0.022425908595323563, 0.02073303423821926, 0.029926033690571785, 0.03206278756260872, 0.03656471148133278, 0.021716894581913948, 0.048758529126644135, 0.025558341294527054, 0.028739364817738533, 0.0179249607026577, 0.028725024312734604, 0.019270090386271477, 0.023477716371417046, 0.013700184412300587, 0.025549236685037613, 0.015953896567225456, 0.019916269928216934, 0.011106480844318867, 0.029545025900006294, 0.016335194930434227, 0.015064342878758907, 0.009884975850582123, 0.02375734969973564, 0.016819924116134644, 0.014696666970849037, 0.006467665079981089, 0.021850429475307465, 0.01547062024474144, 0.016926247626543045, 0.0074083395302295685, 0.02718576416373253, 0.019137227907776833, 0.027166424319148064, 0.015123600140213966, 0.13706126809120178], [0.03664292395114899, 0.04615000635385513, 0.012496473267674446, 0.010732494294643402, 0.02597859315574169, 0.02101656049489975, 0.019030017778277397, 0.02557951584458351, 0.039942417293787, 0.037961315363645554, 0.019532298669219017, 0.03573840484023094, 0.020698094740509987, 0.02456122450530529, 0.014890450052917004, 0.022594064474105835, 0.01498997863382101, 0.023035839200019836, 0.011351821944117546, 0.025044403970241547, 0.014277470298111439, 0.02770863100886345, 0.00959019735455513, 0.02075626701116562, 0.015717970207333565, 0.03224218264222145, 0.007851824164390564, 0.02142062783241272, 0.01442132331430912, 0.02908559888601303, 0.010703369975090027, 0.020334897562861443, 0.016212722286581993, 0.041607074439525604, 0.009377146139740944, 0.024740977212786674, 0.022789061069488525, 0.0670466497540474, 0.014389965683221817, 0.04585845395922661, 0.04590071737766266], [0.03043115697801113, 0.032510049641132355, 0.009175519458949566, 0.008375430479645729, 0.019832298159599304, 0.01529403030872345, 0.014997769147157669, 0.019336247816681862, 0.026024267077445984, 0.019789312034845352, 0.01731567084789276, 0.03219969570636749, 0.018107684329152107, 0.017200296744704247, 0.015436883084475994, 0.028156030923128128, 0.01716907136142254, 0.017598561942577362, 0.014184411615133286, 0.03511324152350426, 0.013780253939330578, 0.014705776236951351, 0.01504875160753727, 0.024011798202991486, 0.017298590391874313, 0.015365549363195896, 0.012545183300971985, 0.023029407486319542, 0.020306887105107307, 0.01864607259631157, 0.014699982479214668, 0.028364257887005806, 0.022534174844622612, 0.020164959132671356, 0.012919101864099503, 0.03750893846154213, 0.021976793184876442, 0.028835145756602287, 0.03581726923584938, 0.06339996308088303, 0.02912033535540104, 0.10167315602302551]]},\n",
              "                preset: 'viridis'\n",
              "             })\n",
              "\n",
              "             window.ecco[viz_id].init();\n",
              "             window.ecco[viz_id].selectFirstToken();\n",
              "\n",
              "             }, function (err) {\n",
              "                console.log(err);\n",
              "            })"
            ],
            "text/plain": [
              "<IPython.core.display.Javascript object>"
            ]
          },
          "metadata": {
            "tags": []
          }
        }
      ]
    },
    {
      "cell_type": "markdown",
      "metadata": {
        "id": "4vicS8eRCujY"
      },
      "source": [
        "### Detailed saliency view"
      ]
    },
    {
      "cell_type": "markdown",
      "metadata": {
        "id": "Ft_IY2kKi-8k"
      },
      "source": [
        "We can see a more detailed view of the saliency values using the detailed view:"
      ]
    },
    {
      "cell_type": "code",
      "metadata": {
        "id": "9ao3g9RIFa7x",
        "colab": {
          "base_uri": "https://localhost:8080/",
          "height": 357
        },
        "outputId": "5e2cb706-5840-4689-aa4c-02f5c33fa78e"
      },
      "source": [
        "output_3.saliency(style=\"detailed\")"
      ],
      "execution_count": 26,
      "outputs": [
        {
          "output_type": "display_data",
          "data": {
            "text/html": [
              "<html lang=\"en\">\n",
              "<script src=\"https://requirejs.org/docs/release/2.3.6/minified/require.js\"></script>\n",
              "<script>\n",
              "    var ecco_url = 'https://storage.googleapis.com/ml-intro/ecco/'\n",
              "    // var ecco_url = 'http://localhost:8000/ecco/'\n",
              "\n",
              "    if (window.ecco === undefined) window.ecco = {}\n",
              "\n",
              "    requirejs.config({\n",
              "        urlArgs: \"bust=\" + (new Date()).getTime(),\n",
              "        nodeRequire: require,\n",
              "        paths: {\n",
              "            d3: \"https://d3js.org/d3.v5.min\",\n",
              "            \"d3-array\": \"https://d3js.org/d3-array.v2.min\",\n",
              "            jquery: \"https://code.jquery.com/jquery-3.5.1.min\",\n",
              "            // oldEcco: ecco_url + 'ecco',\n",
              "            ecco: ecco_url + 'js/0.0.4/ecco-bundle.min',\n",
              "            xregexp: 'https://cdnjs.cloudflare.com/ajax/libs/xregexp/3.2.0/xregexp-all.min'\n",
              "        }\n",
              "    });\n",
              "    requirejs(['d3'],\n",
              "        function (d3) {\n",
              "            d3.select('#css').attr('href', ecco_url + 'html/styles.css')\n",
              "        })\n",
              "\n",
              "    console.log('Ecco initialize.')\n",
              "</script>\n",
              "\n",
              "<head>\n",
              "    <link id='css' rel=\"stylesheet\" type=\"text/css\">\n",
              "</head>\n"
            ],
            "text/plain": [
              "<IPython.core.display.HTML object>"
            ]
          },
          "metadata": {
            "tags": []
          }
        },
        {
          "output_type": "display_data",
          "data": {
            "text/html": [
              "<script>\n",
              "    // console.log('defining basic')\n",
              "    define('basic', ['d3'],\n",
              "        function (d3) {\n",
              "            return {\n",
              "                init: function (viz_id = null) {\n",
              "\n",
              "                    // console.log('basic init')\n",
              "                    if (viz_id == null){\n",
              "                        viz_id = \"viz_\" + Math.round(Math.random() * 10000000)\n",
              "                    }\n",
              "                    const div = d3.select('#basic').attr('id', viz_id),\n",
              "                        div_parent = d3.select('#' + viz_id).node().parentNode\n",
              "\n",
              "                    // Link to CSS file\n",
              "                    d3.select(div_parent).insert('link')\n",
              "                        .attr('rel', 'stylesheet')\n",
              "                        .attr('type', 'text/css')\n",
              "                        .attr('href', ecco_url + 'html/styles.css')\n",
              "\n",
              "                    return viz_id\n",
              "                }\n",
              "            }\n",
              "        }, function (err) {console.log(err);}\n",
              "    )\n",
              "    // console.log('after defining basic')\n",
              "\n",
              "</script>\n",
              "<div id=\"basic\"></div>\n"
            ],
            "text/plain": [
              "<IPython.core.display.HTML object>"
            ]
          },
          "metadata": {
            "tags": []
          }
        },
        {
          "output_type": "display_data",
          "data": {
            "application/javascript": [
              "\n",
              "             requirejs(['basic', 'ecco'], function(basic, ecco){\n",
              "                const viz_id = basic.init()\n",
              "                window.ecco[viz_id] = ecco.interactiveTokens(viz_id, {'tokens': [{'token': 'The', 'token_id': 464, 'type': 'input', 'value': '0.04925995', 'position': 0}, {'token': ' countries', 'token_id': 2678, 'type': 'input', 'value': '0.049636032', 'position': 1}, {'token': ' of', 'token_id': 286, 'type': 'input', 'value': '0.013125612', 'position': 2}, {'token': ' the', 'token_id': 262, 'type': 'input', 'value': '0.012236262', 'position': 3}, {'token': ' European', 'token_id': 3427, 'type': 'input', 'value': '0.05068722', 'position': 4}, {'token': ' Union', 'token_id': 4479, 'type': 'input', 'value': '0.027107807', 'position': 5}, {'token': ' are', 'token_id': 389, 'type': 'input', 'value': '0.015889382', 'position': 6}, {'token': ':', 'token_id': 25, 'type': 'input', 'value': '0.020438861', 'position': 7}, {'token': '\\n', 'token_id': 198, 'type': 'input', 'value': '0.026521306', 'position': 8}, {'token': '1', 'token_id': 16, 'type': 'input', 'value': '0.035519436', 'position': 9}, {'token': '.', 'token_id': 13, 'type': 'input', 'value': '0.027077591', 'position': 10}, {'token': ' Austria', 'token_id': 17322, 'type': 'input', 'value': '0.15139067', 'position': 11}, {'token': '\\n', 'token_id': 198, 'type': 'input', 'value': '0.021322396', 'position': 12}, {'token': '2', 'token_id': 17, 'type': 'input', 'value': '0.025311802', 'position': 13}, {'token': '.', 'token_id': 13, 'type': 'input', 'value': '0.02044762', 'position': 14}, {'token': ' Belgium', 'token_id': 15664, 'type': 'input', 'value': '0.12712994', 'position': 15}, {'token': '\\n', 'token_id': 198, 'type': 'input', 'value': '0.016645275', 'position': 16}, {'token': '3', 'token_id': 18, 'type': 'input', 'value': '0.028078508', 'position': 17}, {'token': '.', 'token_id': 13, 'type': 'input', 'value': '0.023417898', 'position': 18}, {'token': ' Bulgaria', 'token_id': 27902, 'type': 'input', 'value': '0.16771376', 'position': 19}, {'token': '\\n', 'token_id': 198, 'type': 'input', 'value': '0.01652674', 'position': 20}, {'token': '4', 'token_id': 19, 'type': 'input', 'value': '0.039740995', 'position': 21}, {'token': '.', 'token_id': 13, 'type': 'input', 'value': '0.034774937', 'position': 22}, {'token': ' Canada', 'token_id': 3340, 'type': 'output', 'value': '0', 'position': 23}, {'token': '\\n', 'token_id': 198, 'type': 'output', 'value': '0', 'position': 24}, {'token': '5', 'token_id': 20, 'type': 'output', 'value': '0', 'position': 25}, {'token': '.', 'token_id': 13, 'type': 'output', 'value': '0', 'position': 26}, {'token': ' Denmark', 'token_id': 16490, 'type': 'output', 'value': '0', 'position': 27}, {'token': '\\n', 'token_id': 198, 'type': 'output', 'value': '0', 'position': 28}, {'token': '6', 'token_id': 21, 'type': 'output', 'value': '0', 'position': 29}, {'token': '.', 'token_id': 13, 'type': 'output', 'value': '0', 'position': 30}, {'token': ' Hungary', 'token_id': 19562, 'type': 'output', 'value': '0', 'position': 31}, {'token': '\\n', 'token_id': 198, 'type': 'output', 'value': '0', 'position': 32}, {'token': '7', 'token_id': 22, 'type': 'output', 'value': '0', 'position': 33}, {'token': '.', 'token_id': 13, 'type': 'output', 'value': '0', 'position': 34}, {'token': ' Ireland', 'token_id': 7517, 'type': 'output', 'value': '0', 'position': 35}, {'token': '\\n', 'token_id': 198, 'type': 'output', 'value': '0', 'position': 36}, {'token': '8', 'token_id': 23, 'type': 'output', 'value': '0', 'position': 37}, {'token': '.', 'token_id': 13, 'type': 'output', 'value': '0', 'position': 38}, {'token': ' Italy', 'token_id': 8031, 'type': 'output', 'value': '0', 'position': 39}, {'token': '\\n', 'token_id': 198, 'type': 'output', 'value': '0', 'position': 40}, {'token': '29', 'token_id': 1959, 'type': 'output', 'value': '0', 'position': 41}, {'token': '.', 'token_id': 13, 'type': 'output', 'value': '0', 'position': 42}], 'attributions': [[0.04925994947552681, 0.049636032432317734, 0.013125612400472164, 0.012236261740326881, 0.05068721994757652, 0.027107806876301765, 0.015889381989836693, 0.02043886110186577, 0.026521306484937668, 0.03551943600177765, 0.02707759104669094, 0.1513906717300415, 0.021322395652532578, 0.025311801582574844, 0.020447619259357452, 0.1271299421787262, 0.016645275056362152, 0.028078507632017136, 0.023417897522449493, 0.16771376132965088, 0.016526740044355392, 0.039740994572639465, 0.034774936735630035], [0.054799098521471024, 0.06771774590015411, 0.016118070110678673, 0.014539685100317001, 0.042750392109155655, 0.03408966213464737, 0.03552817553281784, 0.043188124895095825, 0.033737484365701675, 0.044348228722810745, 0.028606325387954712, 0.08235309273004532, 0.02696305140852928, 0.02959352545440197, 0.02593034692108631, 0.04820563644170761, 0.023086169734597206, 0.02810518443584442, 0.018707383424043655, 0.05594654753804207, 0.026870593428611755, 0.03412418067455292, 0.02819177880883217, 0.15649953484535217], [0.04587000608444214, 0.06131066009402275, 0.01821020059287548, 0.0137476259842515, 0.03685402497649193, 0.028410105034708977, 0.026549091562628746, 0.0379619374871254, 0.04678097367286682, 0.07056763023138046, 0.03283229470252991, 0.05684996768832207, 0.03177639842033386, 0.05707847326993942, 0.019856801256537437, 0.032869014889001846, 0.023199088871479034, 0.059301964938640594, 0.021187787875533104, 0.03859013691544533, 0.029283693060278893, 0.06837072223424911, 0.02855416014790535, 0.07003361731767654, 0.043953537940979004], [0.04855554923415184, 0.07881022244691849, 0.014340790919959545, 0.011474711820483208, 0.0324922576546669, 0.028709203004837036, 0.02390206605195999, 0.026551900431513786, 0.030985653400421143, 0.04731428250670433, 0.03005434013903141, 0.07251062989234924, 0.02194596640765667, 0.03329897299408913, 0.03072066232562065, 0.04611766338348389, 0.021839402616024017, 0.035265352576971054, 0.03152213618159294, 0.04865594953298569, 0.023249046877026558, 0.0516175851225853, 0.032134637236595154, 0.045887771993875504, 0.03724147006869316, 0.09480185806751251], [0.04898165166378021, 0.04656786099076271, 0.012912492267787457, 0.012009928934276104, 0.04511628299951553, 0.025990169495344162, 0.015922700986266136, 0.019715409725904465, 0.02608581632375717, 0.0325494259595871, 0.024175914004445076, 0.12711146473884583, 0.021019840613007545, 0.02091754972934723, 0.013940474018454552, 0.09536350518465042, 0.014938938431441784, 0.01827216148376465, 0.016749998554587364, 0.11266864836215973, 0.015887103974819183, 0.02102065272629261, 0.017938412725925446, 0.10201488435268402, 0.019864140078425407, 0.03691016137599945, 0.035354387015104294], [0.04902118444442749, 0.0550367571413517, 0.014331313781440258, 0.012260520830750465, 0.0368366576731205, 0.029095713049173355, 0.02771732397377491, 0.033629100769758224, 0.02899189665913582, 0.03784874081611633, 0.021042218431830406, 0.07996518909931183, 0.022184258326888084, 0.02443915419280529, 0.01980544626712799, 0.05644601956009865, 0.022941920906305313, 0.019985968247056007, 0.016378113999962807, 0.0522276796400547, 0.023255839943885803, 0.025757456198334694, 0.012963949702680111, 0.036367204040288925, 0.025457000359892845, 0.03168623894453049, 0.02280738763511181, 0.16151975095272064], [0.040666110813617706, 0.05144213140010834, 0.014467391185462475, 0.010293410159647465, 0.029528558254241943, 0.02320723980665207, 0.022447388619184494, 0.03348899260163307, 0.04407857730984688, 0.05239357054233551, 0.027705369517207146, 0.04458244517445564, 0.029189538210630417, 0.03993749991059303, 0.01725614070892334, 0.02890302985906601, 0.024873625487089157, 0.03999211639165878, 0.017824720591306686, 0.031178204342722893, 0.022149676457047462, 0.0603470541536808, 0.022102175280451775, 0.037037208676338196, 0.03197326138615608, 0.08165989816188812, 0.025305621325969696, 0.05989032983779907, 0.036078792065382004], [0.04730604216456413, 0.07067830860614777, 0.012767587788403034, 0.011648672632873058, 0.031024053692817688, 0.025746038183569908, 0.020856482908129692, 0.023707589134573936, 0.02870631404221058, 0.04103674367070198, 0.025772305205464363, 0.0607546828687191, 0.019178159534931183, 0.02634320966899395, 0.02607804350554943, 0.04219421371817589, 0.019000263884663582, 0.02500995248556137, 0.02085156925022602, 0.041993625462055206, 0.01699080504477024, 0.02339813858270645, 0.025568490847945213, 0.032589394599199295, 0.0313950814306736, 0.04422149807214737, 0.026360508054494858, 0.055501099675893784, 0.03395857289433479, 0.0893624946475029], [0.04518608748912811, 0.04490108788013458, 0.012243522331118584, 0.011175759136676788, 0.04076996445655823, 0.024953773245215416, 0.015180932357907295, 0.018703725188970566, 0.023618269711732864, 0.0291496179997921, 0.021237192675471306, 0.11642225831747055, 0.01704585924744606, 0.019878771156072617, 0.011880345642566681, 0.07304757088422775, 0.014050926081836224, 0.017961135134100914, 0.010617419146001339, 0.07821306586265564, 0.01623578369617462, 0.017073331400752068, 0.01169895101338625, 0.05563966929912567, 0.01178346760571003, 0.016027815639972687, 0.013696955516934395, 0.1256064474582672, 0.013794257305562496, 0.03776925802230835, 0.03443680331110954], [0.04249854385852814, 0.04099453613162041, 0.014175347983837128, 0.009869616478681564, 0.02684975229203701, 0.023464633151888847, 0.022679949179291725, 0.03402608633041382, 0.03399377316236496, 0.03903989866375923, 0.023624831810593605, 0.048906099051237106, 0.030559370294213295, 0.030108848586678505, 0.01595545932650566, 0.030691659078001976, 0.022996442392468452, 0.02454432286322117, 0.013427824713289738, 0.034422680735588074, 0.022278429940342903, 0.01757456734776497, 0.008527315221726894, 0.034243009984493256, 0.015920137986540794, 0.015244202688336372, 0.008074932731688023, 0.03174886479973793, 0.026821298524737358, 0.03284062072634697, 0.018848588690161705, 0.20504839718341827], [0.03727734088897705, 0.04069257900118828, 0.012173496186733246, 0.008816001005470753, 0.024375731125473976, 0.020121494308114052, 0.017664391547441483, 0.028993289917707443, 0.03955761715769768, 0.04199649393558502, 0.01988881826400757, 0.03546636179089546, 0.022668572142720222, 0.031302984803915024, 0.015848182141780853, 0.023542754352092743, 0.02206060290336609, 0.03553919866681099, 0.01579894870519638, 0.030520539730787277, 0.021244382485747337, 0.04532763361930847, 0.0218342337757349, 0.027134334668517113, 0.03025694750249386, 0.06642165780067444, 0.013100913725793362, 0.026911256834864616, 0.02644694223999977, 0.07503262162208557, 0.01869170367717743, 0.06310876458883286, 0.04018326848745346], [0.044393301010131836, 0.06514931470155716, 0.012227585539221764, 0.011768737807869911, 0.027971254661679268, 0.023217853158712387, 0.020006664097309113, 0.022065743803977966, 0.026669451966881752, 0.03393992781639099, 0.02272588200867176, 0.057292211800813675, 0.017483403906226158, 0.02203313261270523, 0.023372948169708252, 0.03932097926735878, 0.01581687666475773, 0.018987013027071953, 0.018328668549656868, 0.03814875707030296, 0.014519927091896534, 0.019999036565423012, 0.017685791477560997, 0.025783374905586243, 0.017341354861855507, 0.019743511453270912, 0.02540278062224388, 0.024020319804549217, 0.029087571427226067, 0.05559976026415825, 0.02222297526896, 0.05473996326327324, 0.029893409460783005, 0.08304056525230408], [0.041325729340314865, 0.03820061311125755, 0.010789674706757069, 0.00998685136437416, 0.0357956700026989, 0.021719062700867653, 0.014171230606734753, 0.017607998102903366, 0.021975543349981308, 0.024608412757515907, 0.01932498626410961, 0.10176544636487961, 0.015313155949115753, 0.01619914174079895, 0.011413398198783398, 0.05917287990450859, 0.011850422248244286, 0.013752490282058716, 0.010195232927799225, 0.06621602177619934, 0.012130322866141796, 0.0145559161901474, 0.009402641095221043, 0.043215978890657425, 0.012751839123666286, 0.013196649961173534, 0.008390653878450394, 0.06294376403093338, 0.017611274495720863, 0.025989795103669167, 0.012729867361485958, 0.14313958585262299, 0.010727384127676487, 0.024945899844169617, 0.02688436582684517], [0.04269576072692871, 0.051836542785167694, 0.012571370229125023, 0.011666751466691494, 0.032241854816675186, 0.025649288669228554, 0.025943541899323463, 0.03141793981194496, 0.026623519137501717, 0.03203955292701721, 0.019125908613204956, 0.06316423416137695, 0.01740230619907379, 0.021391330286860466, 0.019142888486385345, 0.041831981390714645, 0.012694179080426693, 0.015731649473309517, 0.014895310625433922, 0.046377431601285934, 0.011122559197247028, 0.01877216249704361, 0.009792863391339779, 0.03424051031470299, 0.009281710721552372, 0.017431648448109627, 0.00910711195319891, 0.027450615540146828, 0.014003817923367023, 0.021242281422019005, 0.010969736613333225, 0.03462519869208336, 0.020790545269846916, 0.04015312343835831, 0.016698341816663742, 0.1398744434118271], [0.038557376712560654, 0.048114728182554245, 0.012717194855213165, 0.010312794707715511, 0.025866374373435974, 0.02087273821234703, 0.019581761211156845, 0.02862621285021305, 0.041351620107889175, 0.040627673268318176, 0.018854161724448204, 0.036801159381866455, 0.022942204028367996, 0.02840517833828926, 0.014853802509605885, 0.023543886840343475, 0.017174508422613144, 0.026941057294607162, 0.0122881093993783, 0.02865019254386425, 0.016659922897815704, 0.03415384516119957, 0.011695181019604206, 0.025141602382063866, 0.021945076063275337, 0.04007456451654434, 0.009186329320073128, 0.024327311664819717, 0.02016051486134529, 0.04104800522327423, 0.010772350244224072, 0.036425892263650894, 0.02645130641758442, 0.05838813632726669, 0.015171539969742298, 0.05241530016064644, 0.03890039771795273], [0.04483934864401817, 0.0646551102399826, 0.012246559374034405, 0.012519055046141148, 0.027322253212332726, 0.022913817316293716, 0.02055612951517105, 0.02179521694779396, 0.026985574513673782, 0.03447970375418663, 0.02109272964298725, 0.05539308115839958, 0.016331259161233902, 0.021793046966195107, 0.0218073558062315, 0.037347715348005295, 0.013262659311294556, 0.016337839886546135, 0.015122559852898121, 0.036445245146751404, 0.011778107844293118, 0.01574060507118702, 0.015136487782001495, 0.0248570516705513, 0.012818004935979843, 0.01581495627760887, 0.016156410798430443, 0.019117256626486778, 0.014918136410415173, 0.02057095244526863, 0.024007199332118034, 0.024408582597970963, 0.022760529071092606, 0.05155736207962036, 0.020112892612814903, 0.040311042219400406, 0.025312891229987144, 0.08137530833482742], [0.0395573154091835, 0.035844750702381134, 0.010394565761089325, 0.009790314361453056, 0.03252572566270828, 0.020190473645925522, 0.012894591316580772, 0.016903607174754143, 0.021619729697704315, 0.02365940622985363, 0.018114594742655754, 0.09155356138944626, 0.014714951626956463, 0.015334051102399826, 0.010594182647764683, 0.05107007175683975, 0.010815437883138657, 0.013192697428166866, 0.008809409104287624, 0.06418991088867188, 0.011565609835088253, 0.013996983878314495, 0.008164102211594582, 0.04511449113488197, 0.009303238242864609, 0.0118583794683218, 0.007437143474817276, 0.049707915633916855, 0.017499428242444992, 0.017758511006832123, 0.009307707659900188, 0.08136855065822601, 0.01319195982068777, 0.01770928129553795, 0.0126193817704916, 0.09191521257162094, 0.01094433106482029, 0.025447281077504158, 0.023321131244301796], [0.044364083558321, 0.04202255606651306, 0.013794195838272572, 0.009502311237156391, 0.028306415304541588, 0.022425908595323563, 0.02073303423821926, 0.029926033690571785, 0.03206278756260872, 0.03656471148133278, 0.021716894581913948, 0.048758529126644135, 0.025558341294527054, 0.028739364817738533, 0.0179249607026577, 0.028725024312734604, 0.019270090386271477, 0.023477716371417046, 0.013700184412300587, 0.025549236685037613, 0.015953896567225456, 0.019916269928216934, 0.011106480844318867, 0.029545025900006294, 0.016335194930434227, 0.015064342878758907, 0.009884975850582123, 0.02375734969973564, 0.016819924116134644, 0.014696666970849037, 0.006467665079981089, 0.021850429475307465, 0.01547062024474144, 0.016926247626543045, 0.0074083395302295685, 0.02718576416373253, 0.019137227907776833, 0.027166424319148064, 0.015123600140213966, 0.13706126809120178], [0.03664292395114899, 0.04615000635385513, 0.012496473267674446, 0.010732494294643402, 0.02597859315574169, 0.02101656049489975, 0.019030017778277397, 0.02557951584458351, 0.039942417293787, 0.037961315363645554, 0.019532298669219017, 0.03573840484023094, 0.020698094740509987, 0.02456122450530529, 0.014890450052917004, 0.022594064474105835, 0.01498997863382101, 0.023035839200019836, 0.011351821944117546, 0.025044403970241547, 0.014277470298111439, 0.02770863100886345, 0.00959019735455513, 0.02075626701116562, 0.015717970207333565, 0.03224218264222145, 0.007851824164390564, 0.02142062783241272, 0.01442132331430912, 0.02908559888601303, 0.010703369975090027, 0.020334897562861443, 0.016212722286581993, 0.041607074439525604, 0.009377146139740944, 0.024740977212786674, 0.022789061069488525, 0.0670466497540474, 0.014389965683221817, 0.04585845395922661, 0.04590071737766266], [0.03043115697801113, 0.032510049641132355, 0.009175519458949566, 0.008375430479645729, 0.019832298159599304, 0.01529403030872345, 0.014997769147157669, 0.019336247816681862, 0.026024267077445984, 0.019789312034845352, 0.01731567084789276, 0.03219969570636749, 0.018107684329152107, 0.017200296744704247, 0.015436883084475994, 0.028156030923128128, 0.01716907136142254, 0.017598561942577362, 0.014184411615133286, 0.03511324152350426, 0.013780253939330578, 0.014705776236951351, 0.01504875160753727, 0.024011798202991486, 0.017298590391874313, 0.015365549363195896, 0.012545183300971985, 0.023029407486319542, 0.020306887105107307, 0.01864607259631157, 0.014699982479214668, 0.028364257887005806, 0.022534174844622612, 0.020164959132671356, 0.012919101864099503, 0.03750893846154213, 0.021976793184876442, 0.028835145756602287, 0.03581726923584938, 0.06339996308088303, 0.02912033535540104, 0.10167315602302551]]})\n",
              "\n",
              "             }, function (err) {\n",
              "                console.log(err);\n",
              "            })"
            ],
            "text/plain": [
              "<IPython.core.display.Javascript object>"
            ]
          },
          "metadata": {
            "tags": []
          }
        }
      ]
    }
  ]
}