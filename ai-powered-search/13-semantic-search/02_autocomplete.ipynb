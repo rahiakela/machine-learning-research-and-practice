{
  "nbformat": 4,
  "nbformat_minor": 0,
  "metadata": {
    "colab": {
      "provenance": [],
      "toc_visible": true,
      "authorship_tag": "ABX9TyPh9lbWdXMb79+mlxdcMcro",
      "include_colab_link": true
    },
    "kernelspec": {
      "name": "python3",
      "display_name": "Python 3"
    },
    "language_info": {
      "name": "python"
    }
  },
  "cells": [
    {
      "cell_type": "markdown",
      "metadata": {
        "id": "view-in-github",
        "colab_type": "text"
      },
      "source": [
        "<a href=\"https://colab.research.google.com/github/rahiakela/machine-learning-research-and-practice/blob/main/ai-powered-search/13-semantic-search/02_autocomplete.ipynb\" target=\"_parent\"><img src=\"https://colab.research.google.com/assets/colab-badge.svg\" alt=\"Open In Colab\"/></a>"
      ]
    },
    {
      "cell_type": "markdown",
      "source": [
        "##Natural Language Autocomplete"
      ],
      "metadata": {
        "id": "X1tUE57yYi5c"
      }
    },
    {
      "cell_type": "code",
      "source": [
        "!pip install sentence_transformers\n",
        "!pip install nmslib"
      ],
      "metadata": {
        "id": "0Ak0of-YYfni"
      },
      "execution_count": null,
      "outputs": []
    },
    {
      "cell_type": "code",
      "source": [
        "!pip install nmslib"
      ],
      "metadata": {
        "id": "P0pljcYRfJ3B"
      },
      "execution_count": null,
      "outputs": []
    },
    {
      "cell_type": "code",
      "source": [
        "!wget https://github.com/treygrainger/ai-powered-search/raw/main/docker/data-science/notebooks/densevectors/outdoors.py"
      ],
      "metadata": {
        "id": "O9gBhZSfrNev"
      },
      "execution_count": null,
      "outputs": []
    },
    {
      "cell_type": "code",
      "source": [
        "from sentence_transformers import SentenceTransformer\n",
        "from sentence_transformers import util as STutil\n",
        "\n",
        "import spacy\n",
        "from spacy.matcher import Matcher\n",
        "\n",
        "import nmslib\n",
        "\n",
        "from outdoors import *\n",
        "from plotnine import *\n",
        "\n",
        "import pandas as pd\n",
        "import pickle\n",
        "import json\n",
        "import tqdm\n",
        "from IPython.display import display,HTML\n",
        "pd.set_option('display.max_rows', 1000)"
      ],
      "metadata": {
        "id": "vAmm7hi_YwM7"
      },
      "execution_count": 5,
      "outputs": []
    },
    {
      "cell_type": "markdown",
      "source": [
        "##Load Dataset"
      ],
      "metadata": {
        "id": "31Z-W_iWq-tB"
      }
    },
    {
      "cell_type": "code",
      "source": [
        "!rm -rf outdoors"
      ],
      "metadata": {
        "id": "OpdeArD_hm1V"
      },
      "execution_count": 10,
      "outputs": []
    },
    {
      "cell_type": "code",
      "source": [
        "#outdoors\n",
        "!mkdir -p outdoors\n",
        "\n",
        "!git clone https://github.com/ai-powered-search/outdoors.git\n",
        "!cd outdoors && cat outdoors.tgz.part_* > outdoors.tgz\n",
        "!cd outdoors && mkdir -p 'data/outdoors/' && tar -xvf outdoors.tgz -C 'data/outdoors/'"
      ],
      "metadata": {
        "id": "PYDnxCcUh2wW"
      },
      "execution_count": null,
      "outputs": []
    },
    {
      "cell_type": "code",
      "source": [
        "# let's transform the the outdoors/posts.csv file into a useable dataframe\n",
        "outdoors_dataframe = cleanDataset('outdoors/data/outdoors/posts.csv')"
      ],
      "metadata": {
        "id": "VNjnWT_ufOxJ"
      },
      "execution_count": 19,
      "outputs": []
    },
    {
      "cell_type": "code",
      "source": [
        "print(len(outdoors_dataframe))"
      ],
      "metadata": {
        "id": "FLPUI2fJjjsI",
        "outputId": "8ca8028b-de03-4db3-f6f8-898ca837fca8",
        "colab": {
          "base_uri": "https://localhost:8080/"
        }
      },
      "execution_count": 20,
      "outputs": [
        {
          "output_type": "stream",
          "name": "stdout",
          "text": [
            "19585\n"
          ]
        }
      ]
    },
    {
      "cell_type": "markdown",
      "source": [
        "##Build Vocabulary"
      ],
      "metadata": {
        "id": "yo5QvoNhjwoL"
      }
    },
    {
      "cell_type": "code",
      "source": [
        "nlp = spacy.load('en_core_web_sm')\n",
        "\n",
        "def normalize(span):\n",
        "    #normalizes a noun or verb phrase\n",
        "    return ' '.join([tok.lemma_.lower() for tok in span])\n",
        "\n",
        "def yield_tuple(df,column,total=100):\n",
        "    #yields a spacy nlp.pipe compliant tuple of the column text values and its dataframe row as the context\n",
        "    for idx,row in df.iterrows():\n",
        "        if idx<total:\n",
        "            yield (row[column],idx)\n",
        "\n",
        "def get_concepts(df, total=None, load_from_cache=True):\n",
        "\n",
        "    if load_from_cache:\n",
        "        with open('outdoors/data/outdoors/outdoors_concepts.pickle','rb') as fd:\n",
        "            concepts = pickle.load(fd)\n",
        "        with open('outdoors/data/outdoors/outdoors_labels.pickle','rb') as fd:\n",
        "            labels = pickle.load(fd)\n",
        "        return concepts,labels\n",
        "\n",
        "    #Setting load_from_cache to False will bring you here\n",
        "    print('Extracting concepts. This could take a while. Take a break and stretch :)')\n",
        "\n",
        "    #You can limit the number of rows processed by passing in total (an integer)\n",
        "    if not total:\n",
        "        total = len(df)\n",
        "\n",
        "    #Get all the noun and verb phrases in the content\n",
        "    phrases = [] #All the normalized noun/verb phrases (\"concepts\") in the corpus\n",
        "    sources = [] #The original text labels that was normalized to the concept\n",
        "\n",
        "    #Use the spacy matcher to chunk patterns into concept labels\n",
        "    #We don't need a full taxonomy graph extraction, just a vocabulary with term frequencies\n",
        "    matcher = Matcher(nlp.vocab)\n",
        "    nountags = ['NN','NNP','NNS','NOUN'] #Nouns\n",
        "    verbtags = ['VB','VBD','VBG','VBN','VBP','VBZ','VERB'] #Verbs\n",
        "    matcher.add(\"noun_phrases\", [[{\"TAG\":{\"IN\": nountags}, \"IS_ALPHA\": True,\"OP\":\"+\"}]])\n",
        "    matcher.add(\"verb_phrases\", [[{\"TAG\":{\"IN\": verbtags}, \"IS_ALPHA\": True,\"OP\":\"+\", \"LEMMA\":{\"NOT_IN\":[\"be\"]}}]])\n",
        "    for doc,idx in tqdm.tqdm(nlp.pipe(yield_tuple(df,\"body\",total=total), batch_size=40, n_threads=4, as_tuples=True),total=total):\n",
        "        text = doc.text\n",
        "        matches = matcher(doc)\n",
        "        for matchid,start,end in matches:\n",
        "            span = doc[start:end]\n",
        "            phrases.append(normalize(span))\n",
        "            sources.append(span.text)\n",
        "\n",
        "\n",
        "    #Aggregate the normalized concepts by term frequency\n",
        "    concepts = {}\n",
        "    labels = {}\n",
        "    for i in range(len(phrases)):\n",
        "        phrase = phrases[i]\n",
        "        if phrase not in concepts:\n",
        "            concepts[phrase] = 0\n",
        "            labels[phrase] = sources[i]\n",
        "        concepts[phrase] += 1\n",
        "\n",
        "    sorted_concepts = {k: v for k, v in sorted(concepts.items(), key=lambda item: item[1], reverse=True)}\n",
        "\n",
        "    with open('outdoors/data/outdoors/outdoors_concepts.pickle','wb') as fd:\n",
        "        pickle.dump(sorted_concepts,fd)\n",
        "    with open('outdoors/data/outdoors/outdoors_labels.pickle','wb') as fd:\n",
        "        pickle.dump(labels,fd)\n",
        "\n",
        "    return sorted_concepts,labels"
      ],
      "metadata": {
        "id": "8sd1a0Fjj0O7"
      },
      "execution_count": 24,
      "outputs": []
    },
    {
      "cell_type": "markdown",
      "source": [
        "What are the concepts with the highest frequency?"
      ],
      "metadata": {
        "id": "K-fJWti4kt8Y"
      }
    },
    {
      "cell_type": "code",
      "source": [
        "# let's do examining the vocabulary\n",
        "concepts, labels = get_concepts(outdoors_dataframe, load_from_cache=True)\n",
        "top_cons = {k: v for (k, v) in concepts.items() if v > 5}\n",
        "\n",
        "print(f\"Total number of labels: {len(labels.keys())}\")\n",
        "print(f\"Total number of concepts: {len(concepts.keys())}\")\n",
        "print(f\"Concepts with greater than 5 term frequency: {len(top_cons.keys())}\")"
      ],
      "metadata": {
        "id": "98wlKXcmkiE0",
        "outputId": "eb8230bf-6418-4ffb-8c5d-95d98f9710e2",
        "colab": {
          "base_uri": "https://localhost:8080/"
        }
      },
      "execution_count": 28,
      "outputs": [
        {
          "output_type": "stream",
          "name": "stdout",
          "text": [
            "Total number of labels: 124366\n",
            "Total number of concepts: 124366\n",
            "Concepts with greater than 5 term frequency: 12375\n"
          ]
        }
      ]
    },
    {
      "cell_type": "code",
      "source": [
        "json.dumps(top_cons, indent=2)"
      ],
      "metadata": {
        "id": "tG9Bl1VtmdQC"
      },
      "execution_count": null,
      "outputs": []
    },
    {
      "cell_type": "markdown",
      "source": [
        "##Loading model"
      ],
      "metadata": {
        "id": "Sgz4IYQRY7cm"
      }
    },
    {
      "cell_type": "code",
      "source": [
        "stsb = SentenceTransformer(\"roberta-base-nli-stsb-mean-tokens\")\n",
        "print(stsb)"
      ],
      "metadata": {
        "colab": {
          "base_uri": "https://localhost:8080/"
        },
        "id": "_nDRIc9WY-Rs",
        "outputId": "b4c881eb-d709-438a-daa6-6d4bdeae835a"
      },
      "execution_count": null,
      "outputs": [
        {
          "output_type": "stream",
          "name": "stdout",
          "text": [
            "SentenceTransformer(\n",
            "  (0): Transformer({'max_seq_length': 128, 'do_lower_case': True}) with Transformer model: RobertaModel \n",
            "  (1): Pooling({'word_embedding_dimension': 768, 'pooling_mode_cls_token': False, 'pooling_mode_mean_tokens': True, 'pooling_mode_max_tokens': False, 'pooling_mode_mean_sqrt_len_tokens': False})\n",
            ")\n"
          ]
        }
      ]
    },
    {
      "cell_type": "markdown",
      "source": [
        "##Encoding phrases"
      ],
      "metadata": {
        "id": "c7TcIbhNZXLQ"
      }
    },
    {
      "cell_type": "code",
      "source": [
        "phrases = [\n",
        "    \"it's raining hard\",\n",
        "    \"it is wet outside\",\n",
        "    \"cars drive fast\",\n",
        "    \"motorcycles are loud\"\n",
        "]\n",
        "\n",
        "embeddings = stsb.encode(phrases, convert_to_tensor=True)\n",
        "print(f\"Number of embeddings: {len(embeddings)}\")\n",
        "print(f\"Dimensions per embedding: {len(embeddings[0])}\")\n",
        "print(f\"The embedding feature values of 'it\\'s raining hard': \\n{embeddings[0]}\")"
      ],
      "metadata": {
        "id": "LIxJysUPZX2S"
      },
      "execution_count": null,
      "outputs": []
    },
    {
      "cell_type": "markdown",
      "source": [
        "##Calculate similarity"
      ],
      "metadata": {
        "id": "U7Ecs8kSbZfR"
      }
    },
    {
      "cell_type": "code",
      "source": [
        "similarities = STutil.pytorch_cos_sim(embeddings, embeddings)\n",
        "print(f\"The shape of the resulting similarities: {similarities.shape}\")"
      ],
      "metadata": {
        "colab": {
          "base_uri": "https://localhost:8080/"
        },
        "id": "DZnELCRrbbDU",
        "outputId": "14d53314-fd62-4357-e5d4-acb187a0c845"
      },
      "execution_count": null,
      "outputs": [
        {
          "output_type": "stream",
          "name": "stdout",
          "text": [
            "The shape of the resulting similarities: torch.Size([4, 4])\n"
          ]
        }
      ]
    },
    {
      "cell_type": "code",
      "source": [
        "a_phrases = []\n",
        "b_phrases = []\n",
        "scores = []\n",
        "\n",
        "for a in range(len(similarities) - 1):\n",
        "  for b in range(a + 1, len(similarities)):\n",
        "    a_phrases.append(phrases[a])\n",
        "    b_phrases.append(phrases[b])\n",
        "    scores.append(float(similarities[a][b]))\n",
        "\n",
        "df = pd.DataFrame({\"phrase a\": a_phrases, \"phrase b\": b_phrases, \"score\": scores})\n",
        "df.sort_values(by=[\"score\"], ascending=False, ignore_index=True)"
      ],
      "metadata": {
        "colab": {
          "base_uri": "https://localhost:8080/",
          "height": 237
        },
        "id": "eY4aAFjHcMcE",
        "outputId": "ca298580-f50f-40f2-992c-d5e513d6b149"
      },
      "execution_count": null,
      "outputs": [
        {
          "output_type": "execute_result",
          "data": {
            "text/plain": [
              "            phrase a              phrase b     score\n",
              "0  it's raining hard     it is wet outside  0.669060\n",
              "1    cars drive fast  motorcycles are loud  0.590783\n",
              "2  it's raining hard       cars drive fast  0.281166\n",
              "3  it's raining hard  motorcycles are loud  0.280800\n",
              "4  it is wet outside  motorcycles are loud  0.204867\n",
              "5  it is wet outside       cars drive fast  0.138172"
            ],
            "text/html": [
              "\n",
              "\n",
              "  <div id=\"df-eec1222c-4440-4a3c-93d0-c8f03b8f476e\">\n",
              "    <div class=\"colab-df-container\">\n",
              "      <div>\n",
              "<style scoped>\n",
              "    .dataframe tbody tr th:only-of-type {\n",
              "        vertical-align: middle;\n",
              "    }\n",
              "\n",
              "    .dataframe tbody tr th {\n",
              "        vertical-align: top;\n",
              "    }\n",
              "\n",
              "    .dataframe thead th {\n",
              "        text-align: right;\n",
              "    }\n",
              "</style>\n",
              "<table border=\"1\" class=\"dataframe\">\n",
              "  <thead>\n",
              "    <tr style=\"text-align: right;\">\n",
              "      <th></th>\n",
              "      <th>phrase a</th>\n",
              "      <th>phrase b</th>\n",
              "      <th>score</th>\n",
              "    </tr>\n",
              "  </thead>\n",
              "  <tbody>\n",
              "    <tr>\n",
              "      <th>0</th>\n",
              "      <td>it's raining hard</td>\n",
              "      <td>it is wet outside</td>\n",
              "      <td>0.669060</td>\n",
              "    </tr>\n",
              "    <tr>\n",
              "      <th>1</th>\n",
              "      <td>cars drive fast</td>\n",
              "      <td>motorcycles are loud</td>\n",
              "      <td>0.590783</td>\n",
              "    </tr>\n",
              "    <tr>\n",
              "      <th>2</th>\n",
              "      <td>it's raining hard</td>\n",
              "      <td>cars drive fast</td>\n",
              "      <td>0.281166</td>\n",
              "    </tr>\n",
              "    <tr>\n",
              "      <th>3</th>\n",
              "      <td>it's raining hard</td>\n",
              "      <td>motorcycles are loud</td>\n",
              "      <td>0.280800</td>\n",
              "    </tr>\n",
              "    <tr>\n",
              "      <th>4</th>\n",
              "      <td>it is wet outside</td>\n",
              "      <td>motorcycles are loud</td>\n",
              "      <td>0.204867</td>\n",
              "    </tr>\n",
              "    <tr>\n",
              "      <th>5</th>\n",
              "      <td>it is wet outside</td>\n",
              "      <td>cars drive fast</td>\n",
              "      <td>0.138172</td>\n",
              "    </tr>\n",
              "  </tbody>\n",
              "</table>\n",
              "</div>\n",
              "      <button class=\"colab-df-convert\" onclick=\"convertToInteractive('df-eec1222c-4440-4a3c-93d0-c8f03b8f476e')\"\n",
              "              title=\"Convert this dataframe to an interactive table.\"\n",
              "              style=\"display:none;\">\n",
              "\n",
              "  <svg xmlns=\"http://www.w3.org/2000/svg\" height=\"24px\"viewBox=\"0 0 24 24\"\n",
              "       width=\"24px\">\n",
              "    <path d=\"M0 0h24v24H0V0z\" fill=\"none\"/>\n",
              "    <path d=\"M18.56 5.44l.94 2.06.94-2.06 2.06-.94-2.06-.94-.94-2.06-.94 2.06-2.06.94zm-11 1L8.5 8.5l.94-2.06 2.06-.94-2.06-.94L8.5 2.5l-.94 2.06-2.06.94zm10 10l.94 2.06.94-2.06 2.06-.94-2.06-.94-.94-2.06-.94 2.06-2.06.94z\"/><path d=\"M17.41 7.96l-1.37-1.37c-.4-.4-.92-.59-1.43-.59-.52 0-1.04.2-1.43.59L10.3 9.45l-7.72 7.72c-.78.78-.78 2.05 0 2.83L4 21.41c.39.39.9.59 1.41.59.51 0 1.02-.2 1.41-.59l7.78-7.78 2.81-2.81c.8-.78.8-2.07 0-2.86zM5.41 20L4 18.59l7.72-7.72 1.47 1.35L5.41 20z\"/>\n",
              "  </svg>\n",
              "      </button>\n",
              "\n",
              "\n",
              "\n",
              "    <div id=\"df-01233e54-6ec3-4289-8900-3d819803975b\">\n",
              "      <button class=\"colab-df-quickchart\" onclick=\"quickchart('df-01233e54-6ec3-4289-8900-3d819803975b')\"\n",
              "              title=\"Suggest charts.\"\n",
              "              style=\"display:none;\">\n",
              "\n",
              "<svg xmlns=\"http://www.w3.org/2000/svg\" height=\"24px\"viewBox=\"0 0 24 24\"\n",
              "     width=\"24px\">\n",
              "    <g>\n",
              "        <path d=\"M19 3H5c-1.1 0-2 .9-2 2v14c0 1.1.9 2 2 2h14c1.1 0 2-.9 2-2V5c0-1.1-.9-2-2-2zM9 17H7v-7h2v7zm4 0h-2V7h2v10zm4 0h-2v-4h2v4z\"/>\n",
              "    </g>\n",
              "</svg>\n",
              "      </button>\n",
              "    </div>\n",
              "\n",
              "<style>\n",
              "  .colab-df-quickchart {\n",
              "    background-color: #E8F0FE;\n",
              "    border: none;\n",
              "    border-radius: 50%;\n",
              "    cursor: pointer;\n",
              "    display: none;\n",
              "    fill: #1967D2;\n",
              "    height: 32px;\n",
              "    padding: 0 0 0 0;\n",
              "    width: 32px;\n",
              "  }\n",
              "\n",
              "  .colab-df-quickchart:hover {\n",
              "    background-color: #E2EBFA;\n",
              "    box-shadow: 0px 1px 2px rgba(60, 64, 67, 0.3), 0px 1px 3px 1px rgba(60, 64, 67, 0.15);\n",
              "    fill: #174EA6;\n",
              "  }\n",
              "\n",
              "  [theme=dark] .colab-df-quickchart {\n",
              "    background-color: #3B4455;\n",
              "    fill: #D2E3FC;\n",
              "  }\n",
              "\n",
              "  [theme=dark] .colab-df-quickchart:hover {\n",
              "    background-color: #434B5C;\n",
              "    box-shadow: 0px 1px 3px 1px rgba(0, 0, 0, 0.15);\n",
              "    filter: drop-shadow(0px 1px 2px rgba(0, 0, 0, 0.3));\n",
              "    fill: #FFFFFF;\n",
              "  }\n",
              "</style>\n",
              "\n",
              "    <script>\n",
              "      async function quickchart(key) {\n",
              "        const containerElement = document.querySelector('#' + key);\n",
              "        const charts = await google.colab.kernel.invokeFunction(\n",
              "            'suggestCharts', [key], {});\n",
              "      }\n",
              "    </script>\n",
              "\n",
              "      <script>\n",
              "\n",
              "function displayQuickchartButton(domScope) {\n",
              "  let quickchartButtonEl =\n",
              "    domScope.querySelector('#df-01233e54-6ec3-4289-8900-3d819803975b button.colab-df-quickchart');\n",
              "  quickchartButtonEl.style.display =\n",
              "    google.colab.kernel.accessAllowed ? 'block' : 'none';\n",
              "}\n",
              "\n",
              "        displayQuickchartButton(document);\n",
              "      </script>\n",
              "      <style>\n",
              "    .colab-df-container {\n",
              "      display:flex;\n",
              "      flex-wrap:wrap;\n",
              "      gap: 12px;\n",
              "    }\n",
              "\n",
              "    .colab-df-convert {\n",
              "      background-color: #E8F0FE;\n",
              "      border: none;\n",
              "      border-radius: 50%;\n",
              "      cursor: pointer;\n",
              "      display: none;\n",
              "      fill: #1967D2;\n",
              "      height: 32px;\n",
              "      padding: 0 0 0 0;\n",
              "      width: 32px;\n",
              "    }\n",
              "\n",
              "    .colab-df-convert:hover {\n",
              "      background-color: #E2EBFA;\n",
              "      box-shadow: 0px 1px 2px rgba(60, 64, 67, 0.3), 0px 1px 3px 1px rgba(60, 64, 67, 0.15);\n",
              "      fill: #174EA6;\n",
              "    }\n",
              "\n",
              "    [theme=dark] .colab-df-convert {\n",
              "      background-color: #3B4455;\n",
              "      fill: #D2E3FC;\n",
              "    }\n",
              "\n",
              "    [theme=dark] .colab-df-convert:hover {\n",
              "      background-color: #434B5C;\n",
              "      box-shadow: 0px 1px 3px 1px rgba(0, 0, 0, 0.15);\n",
              "      filter: drop-shadow(0px 1px 2px rgba(0, 0, 0, 0.3));\n",
              "      fill: #FFFFFF;\n",
              "    }\n",
              "  </style>\n",
              "\n",
              "      <script>\n",
              "        const buttonEl =\n",
              "          document.querySelector('#df-eec1222c-4440-4a3c-93d0-c8f03b8f476e button.colab-df-convert');\n",
              "        buttonEl.style.display =\n",
              "          google.colab.kernel.accessAllowed ? 'block' : 'none';\n",
              "\n",
              "        async function convertToInteractive(key) {\n",
              "          const element = document.querySelector('#df-eec1222c-4440-4a3c-93d0-c8f03b8f476e');\n",
              "          const dataTable =\n",
              "            await google.colab.kernel.invokeFunction('convertToInteractive',\n",
              "                                                     [key], {});\n",
              "          if (!dataTable) return;\n",
              "\n",
              "          const docLinkHtml = 'Like what you see? Visit the ' +\n",
              "            '<a target=\"_blank\" href=https://colab.research.google.com/notebooks/data_table.ipynb>data table notebook</a>'\n",
              "            + ' to learn more about interactive tables.';\n",
              "          element.innerHTML = '';\n",
              "          dataTable['output_type'] = 'display_data';\n",
              "          await google.colab.output.renderOutput(dataTable, element);\n",
              "          const docLink = document.createElement('div');\n",
              "          docLink.innerHTML = docLinkHtml;\n",
              "          element.appendChild(docLink);\n",
              "        }\n",
              "      </script>\n",
              "    </div>\n",
              "  </div>\n"
            ]
          },
          "metadata": {},
          "execution_count": 9
        }
      ]
    }
  ]
}