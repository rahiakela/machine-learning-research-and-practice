{
  "nbformat": 4,
  "nbformat_minor": 0,
  "metadata": {
    "colab": {
      "provenance": [],
      "toc_visible": true,
      "gpuType": "T4",
      "authorship_tag": "ABX9TyOPGflwH2TvDConjfqH34Xj",
      "include_colab_link": true
    },
    "kernelspec": {
      "name": "python3",
      "display_name": "Python 3"
    },
    "language_info": {
      "name": "python"
    },
    "accelerator": "GPU"
  },
  "cells": [
    {
      "cell_type": "markdown",
      "metadata": {
        "id": "view-in-github",
        "colab_type": "text"
      },
      "source": [
        "<a href=\"https://colab.research.google.com/github/rahiakela/machine-learning-research-and-practice/blob/main/ai-powered-search/13-semantic-search/02_autocomplete.ipynb\" target=\"_parent\"><img src=\"https://colab.research.google.com/assets/colab-badge.svg\" alt=\"Open In Colab\"/></a>"
      ]
    },
    {
      "cell_type": "markdown",
      "source": [
        "##Natural Language Autocomplete"
      ],
      "metadata": {
        "id": "X1tUE57yYi5c"
      }
    },
    {
      "cell_type": "code",
      "source": [
        "!pip install sentence_transformers\n",
        "!pip install nmslib"
      ],
      "metadata": {
        "id": "0Ak0of-YYfni"
      },
      "execution_count": null,
      "outputs": []
    },
    {
      "cell_type": "code",
      "source": [
        "!pip install nmslib"
      ],
      "metadata": {
        "id": "P0pljcYRfJ3B"
      },
      "execution_count": null,
      "outputs": []
    },
    {
      "cell_type": "code",
      "source": [
        "!wget https://github.com/treygrainger/ai-powered-search/raw/main/docker/data-science/notebooks/densevectors/outdoors.py"
      ],
      "metadata": {
        "id": "O9gBhZSfrNev"
      },
      "execution_count": null,
      "outputs": []
    },
    {
      "cell_type": "code",
      "source": [
        "from sentence_transformers import SentenceTransformer\n",
        "from sentence_transformers import util as STutil\n",
        "\n",
        "import spacy\n",
        "from spacy.matcher import Matcher\n",
        "\n",
        "import nmslib\n",
        "\n",
        "from outdoors import *\n",
        "from plotnine import *\n",
        "\n",
        "import pandas as pd\n",
        "import pickle\n",
        "import json\n",
        "import tqdm\n",
        "from IPython.display import display,HTML\n",
        "pd.set_option('display.max_rows', 1000)"
      ],
      "metadata": {
        "id": "vAmm7hi_YwM7"
      },
      "execution_count": 7,
      "outputs": []
    },
    {
      "cell_type": "markdown",
      "source": [
        "##Load Dataset"
      ],
      "metadata": {
        "id": "31Z-W_iWq-tB"
      }
    },
    {
      "cell_type": "code",
      "source": [
        "!rm -rf outdoors"
      ],
      "metadata": {
        "id": "OpdeArD_hm1V"
      },
      "execution_count": 8,
      "outputs": []
    },
    {
      "cell_type": "code",
      "source": [
        "#outdoors\n",
        "!mkdir -p outdoors\n",
        "\n",
        "!git clone https://github.com/ai-powered-search/outdoors.git\n",
        "!cd outdoors && cat outdoors.tgz.part_* > outdoors.tgz\n",
        "!cd outdoors && mkdir -p 'data/outdoors/' && tar -xvf outdoors.tgz -C 'data/outdoors/'"
      ],
      "metadata": {
        "id": "PYDnxCcUh2wW",
        "outputId": "8c2b6d1a-55bd-4b7c-e97d-84c00b0c1d3e",
        "colab": {
          "base_uri": "https://localhost:8080/"
        }
      },
      "execution_count": 9,
      "outputs": [
        {
          "output_type": "stream",
          "name": "stdout",
          "text": [
            "Cloning into 'outdoors'...\n",
            "remote: Enumerating objects: 71, done.\u001b[K\n",
            "remote: Counting objects: 100% (1/1), done.\u001b[K\n",
            "remote: Total 71 (delta 0), reused 0 (delta 0), pack-reused 70\u001b[K\n",
            "Receiving objects: 100% (71/71), 1005.42 MiB | 18.48 MiB/s, done.\n",
            "Resolving deltas: 100% (6/6), done.\n",
            "Updating files: 100% (23/23), done.\n",
            "README.md\n",
            "concepts.pickle\n",
            "._guesses.csv\n",
            "guesses.csv\n",
            "._guesses_all.json\n",
            "guesses_all.json\n",
            "outdoors_concepts.pickle\n",
            "outdoors_embeddings.pickle\n",
            "._outdoors_golden_answers.csv\n",
            "outdoors_golden_answers.csv\n",
            "._outdoors_golden_answers.xlsx\n",
            "outdoors_golden_answers.xlsx\n",
            "._outdoors_golden_answers_20210130.csv\n",
            "outdoors_golden_answers_20210130.csv\n",
            "outdoors_labels.pickle\n",
            "outdoors_question_answering_contexts.json\n",
            "outdoors_questionanswering_test_set.json\n",
            "outdoors_questionanswering_train_set.json\n",
            "._posts.csv\n",
            "posts.csv\n",
            "predicates.pickle\n",
            "pull_aips_dependency.py\n",
            "._question-answer-seed-contexts.csv\n",
            "question-answer-seed-contexts.csv\n",
            "question-answer-squad2-guesses.csv\n",
            "._roberta-base-squad2-outdoors\n",
            "roberta-base-squad2-outdoors/\n",
            "roberta-base-squad2-outdoors/._tokenizer_config.json\n",
            "roberta-base-squad2-outdoors/tokenizer_config.json\n",
            "roberta-base-squad2-outdoors/._special_tokens_map.json\n",
            "roberta-base-squad2-outdoors/special_tokens_map.json\n",
            "roberta-base-squad2-outdoors/._config.json\n",
            "roberta-base-squad2-outdoors/config.json\n",
            "roberta-base-squad2-outdoors/._merges.txt\n",
            "roberta-base-squad2-outdoors/merges.txt\n",
            "roberta-base-squad2-outdoors/._training_args.bin\n",
            "roberta-base-squad2-outdoors/training_args.bin\n",
            "roberta-base-squad2-outdoors/._pytorch_model.bin\n",
            "roberta-base-squad2-outdoors/pytorch_model.bin\n",
            "roberta-base-squad2-outdoors/._vocab.json\n",
            "roberta-base-squad2-outdoors/vocab.json\n"
          ]
        }
      ]
    },
    {
      "cell_type": "code",
      "source": [
        "# let's transform the the outdoors/posts.csv file into a useable dataframe\n",
        "outdoors_dataframe = cleanDataset('outdoors/data/outdoors/posts.csv')"
      ],
      "metadata": {
        "id": "VNjnWT_ufOxJ",
        "outputId": "5929baf2-d57a-4ce8-b090-505588ff4f6d",
        "colab": {
          "base_uri": "https://localhost:8080/"
        }
      },
      "execution_count": 10,
      "outputs": [
        {
          "output_type": "stream",
          "name": "stderr",
          "text": [
            "/content/outdoors.py:10: MarkupResemblesLocatorWarning: The input looks more like a filename than markup. You may want to open this file and pass the filehandle into Beautiful Soup.\n"
          ]
        }
      ]
    },
    {
      "cell_type": "code",
      "source": [
        "print(len(outdoors_dataframe))"
      ],
      "metadata": {
        "colab": {
          "base_uri": "https://localhost:8080/"
        },
        "id": "FLPUI2fJjjsI",
        "outputId": "99aa8151-da43-4dec-ef78-5b4427a87076"
      },
      "execution_count": 11,
      "outputs": [
        {
          "output_type": "stream",
          "name": "stdout",
          "text": [
            "19585\n"
          ]
        }
      ]
    },
    {
      "cell_type": "markdown",
      "source": [
        "##Build Vocabulary"
      ],
      "metadata": {
        "id": "yo5QvoNhjwoL"
      }
    },
    {
      "cell_type": "code",
      "source": [
        "concepts_pickle_path = \"outdoors/data/outdoors/outdoors_concepts.pickle\"\n",
        "labels_pickle_path = \"outdoors/data/outdoors/outdoors_labels.pickle\""
      ],
      "metadata": {
        "id": "nf0yDTewqg3Z"
      },
      "execution_count": 12,
      "outputs": []
    },
    {
      "cell_type": "code",
      "source": [
        "nlp = spacy.load('en_core_web_sm')\n",
        "\n",
        "def normalize(span):\n",
        "    #normalizes a noun or verb phrase\n",
        "    return ' '.join([tok.lemma_.lower() for tok in span])\n",
        "\n",
        "def yield_tuple(df,column,total=100):\n",
        "    #yields a spacy nlp.pipe compliant tuple of the column text values and its dataframe row as the context\n",
        "    for idx,row in df.iterrows():\n",
        "        if idx<total:\n",
        "            yield (row[column],idx)\n",
        "\n",
        "def get_concepts(df, total=None, load_from_cache=True):\n",
        "\n",
        "    if load_from_cache:\n",
        "        with open(concepts_pickle_path,'rb') as fd:\n",
        "            concepts = pickle.load(fd)\n",
        "        with open(labels_pickle_path,'rb') as fd:\n",
        "            labels = pickle.load(fd)\n",
        "        return concepts,labels\n",
        "\n",
        "    #Setting load_from_cache to False will bring you here\n",
        "    print('Extracting concepts. This could take a while. Take a break and stretch :)')\n",
        "\n",
        "    #You can limit the number of rows processed by passing in total (an integer)\n",
        "    if not total:\n",
        "        total = len(df)\n",
        "\n",
        "    #Get all the noun and verb phrases in the content\n",
        "    phrases = [] #All the normalized noun/verb phrases (\"concepts\") in the corpus\n",
        "    sources = [] #The original text labels that was normalized to the concept\n",
        "\n",
        "    #Use the spacy matcher to chunk patterns into concept labels\n",
        "    #We don't need a full taxonomy graph extraction, just a vocabulary with term frequencies\n",
        "    matcher = Matcher(nlp.vocab)\n",
        "    nountags = ['NN','NNP','NNS','NOUN'] #Nouns\n",
        "    verbtags = ['VB','VBD','VBG','VBN','VBP','VBZ','VERB'] #Verbs\n",
        "    matcher.add(\"noun_phrases\", [[{\"TAG\":{\"IN\": nountags}, \"IS_ALPHA\": True,\"OP\":\"+\"}]])\n",
        "    matcher.add(\"verb_phrases\", [[{\"TAG\":{\"IN\": verbtags}, \"IS_ALPHA\": True,\"OP\":\"+\", \"LEMMA\":{\"NOT_IN\":[\"be\"]}}]])\n",
        "    for doc,idx in tqdm.tqdm(nlp.pipe(yield_tuple(df,\"body\",total=total), batch_size=40, n_threads=4, as_tuples=True),total=total):\n",
        "        text = doc.text\n",
        "        matches = matcher(doc)\n",
        "        for matchid,start,end in matches:\n",
        "            span = doc[start:end]\n",
        "            phrases.append(normalize(span))\n",
        "            sources.append(span.text)\n",
        "\n",
        "\n",
        "    #Aggregate the normalized concepts by term frequency\n",
        "    concepts = {}\n",
        "    labels = {}\n",
        "    for i in range(len(phrases)):\n",
        "        phrase = phrases[i]\n",
        "        if phrase not in concepts:\n",
        "            concepts[phrase] = 0\n",
        "            labels[phrase] = sources[i]\n",
        "        concepts[phrase] += 1\n",
        "\n",
        "    sorted_concepts = {k: v for k, v in sorted(concepts.items(), key=lambda item: item[1], reverse=True)}\n",
        "\n",
        "    with open(concepts_pickle_path,'wb') as fd:\n",
        "        pickle.dump(sorted_concepts,fd)\n",
        "    with open(labels_pickle_path,'wb') as fd:\n",
        "        pickle.dump(labels,fd)\n",
        "\n",
        "    return sorted_concepts,labels"
      ],
      "metadata": {
        "id": "8sd1a0Fjj0O7"
      },
      "execution_count": 13,
      "outputs": []
    },
    {
      "cell_type": "markdown",
      "source": [
        "What are the concepts with the highest frequency?"
      ],
      "metadata": {
        "id": "K-fJWti4kt8Y"
      }
    },
    {
      "cell_type": "code",
      "source": [
        "# let's do examining the vocabulary\n",
        "concepts, labels = get_concepts(outdoors_dataframe, load_from_cache=True)\n",
        "top_cons = {k: v for (k, v) in concepts.items() if v > 5}\n",
        "\n",
        "print(f\"Total number of labels: {len(labels.keys())}\")\n",
        "print(f\"Total number of concepts: {len(concepts.keys())}\")\n",
        "print(f\"Concepts with greater than 5 term frequency: {len(top_cons.keys())}\")"
      ],
      "metadata": {
        "colab": {
          "base_uri": "https://localhost:8080/"
        },
        "id": "98wlKXcmkiE0",
        "outputId": "57997030-fb71-46b2-edd2-53a4d89a7359"
      },
      "execution_count": 14,
      "outputs": [
        {
          "output_type": "stream",
          "name": "stdout",
          "text": [
            "Total number of labels: 124366\n",
            "Total number of concepts: 124366\n",
            "Concepts with greater than 5 term frequency: 12375\n"
          ]
        }
      ]
    },
    {
      "cell_type": "code",
      "source": [
        "json.dumps(top_cons, indent=2)"
      ],
      "metadata": {
        "id": "tG9Bl1VtmdQC"
      },
      "execution_count": null,
      "outputs": []
    },
    {
      "cell_type": "markdown",
      "source": [
        "##Loading model"
      ],
      "metadata": {
        "id": "Sgz4IYQRY7cm"
      }
    },
    {
      "cell_type": "code",
      "source": [
        "stsb = SentenceTransformer(\"roberta-base-nli-stsb-mean-tokens\")"
      ],
      "metadata": {
        "id": "_nDRIc9WY-Rs"
      },
      "execution_count": null,
      "outputs": []
    },
    {
      "cell_type": "code",
      "source": [
        "print(stsb)"
      ],
      "metadata": {
        "id": "_ut_nMswzfLC",
        "outputId": "ffc28a89-2b28-4420-fe21-d0f0c775cb51",
        "colab": {
          "base_uri": "https://localhost:8080/"
        }
      },
      "execution_count": 17,
      "outputs": [
        {
          "output_type": "stream",
          "name": "stdout",
          "text": [
            "SentenceTransformer(\n",
            "  (0): Transformer({'max_seq_length': 128, 'do_lower_case': True}) with Transformer model: RobertaModel \n",
            "  (1): Pooling({'word_embedding_dimension': 768, 'pooling_mode_cls_token': False, 'pooling_mode_mean_tokens': True, 'pooling_mode_max_tokens': False, 'pooling_mode_mean_sqrt_len_tokens': False})\n",
            ")\n"
          ]
        }
      ]
    },
    {
      "cell_type": "markdown",
      "source": [
        "##Getting Embeddings"
      ],
      "metadata": {
        "id": "c7TcIbhNZXLQ"
      }
    },
    {
      "cell_type": "code",
      "source": [
        "embeddings_pickle_path = \"outdoors/data/outdoors/outdoors_embeddings.pickle\""
      ],
      "metadata": {
        "id": "z35iidwErUby"
      },
      "execution_count": 18,
      "outputs": []
    },
    {
      "cell_type": "code",
      "source": [
        "def get_embeddings(concepts, minimum_frequency, load_from_cache=True):\n",
        "  phrases = [key for (key, tf) in concepts.items() if tf >= minimum_frequency]\n",
        "\n",
        "  if not load_from_cache:\n",
        "    embeddings = stsb.encode(phrases, convert_to_tensor=True)\n",
        "    with open(embeddings_pickle_path, \"wb\") as fd:\n",
        "      pickle.dump(embeddings, fd)\n",
        "  else:\n",
        "    with open(embeddings_pickle_path, \"rb\") as fd:\n",
        "      embeddings = pickle.load(fd)\n",
        "  return phrases, embeddings"
      ],
      "metadata": {
        "id": "LIxJysUPZX2S"
      },
      "execution_count": 19,
      "outputs": []
    },
    {
      "cell_type": "code",
      "source": [
        "# Note!  This is a hyperparameter.\n",
        "# We are ignoring terms that occur less than this numner in the entire corpus.\n",
        "# Lowering this number may lower precision\n",
        "# Raising this number may lower recall\n",
        "minimum_frequency = 6"
      ],
      "metadata": {
        "id": "0cSyKodluMUD"
      },
      "execution_count": 20,
      "outputs": []
    },
    {
      "cell_type": "code",
      "source": [
        "# set load_from_cache=False to regenerate the embeddings rather than loading from pickle\n",
        "phrases, embeddings = get_embeddings(concepts, minimum_frequency, load_from_cache=True)\n",
        "\n",
        "print(f\"Number of embeddings: {len(embeddings)}\")\n",
        "print(f\"Dimensions per embedding: {len(embeddings[0])}\")"
      ],
      "metadata": {
        "id": "Di6c4jfbtBdJ",
        "outputId": "84e5b48f-b301-47e8-df71-2f725c81047d",
        "colab": {
          "base_uri": "https://localhost:8080/"
        }
      },
      "execution_count": 21,
      "outputs": [
        {
          "output_type": "stream",
          "name": "stdout",
          "text": [
            "Number of embeddings: 12375\n",
            "Dimensions per embedding: 768\n"
          ]
        }
      ]
    },
    {
      "cell_type": "markdown",
      "source": [
        "##Calculate similarity"
      ],
      "metadata": {
        "id": "U7Ecs8kSbZfR"
      }
    },
    {
      "cell_type": "code",
      "source": [
        "# let's find the pairs with the highest cosine similarity scores\n",
        "similarities = STutil.pytorch_cos_sim(embeddings[0:250], embeddings[0:250])\n",
        "print(f\"The shape of the resulting similarities: {similarities.shape}\")"
      ],
      "metadata": {
        "id": "lgf-5jxPtAwR",
        "outputId": "9335e09f-b730-4811-c2f4-3a9c99026270",
        "colab": {
          "base_uri": "https://localhost:8080/"
        }
      },
      "execution_count": 22,
      "outputs": [
        {
          "output_type": "stream",
          "name": "stdout",
          "text": [
            "The shape of the resulting similarities: torch.Size([250, 250])\n"
          ]
        }
      ]
    },
    {
      "cell_type": "code",
      "source": [
        "a_phrases = []\n",
        "b_phrases = []\n",
        "scores = []\n",
        "\n",
        "for a in range(len(similarities) - 1):\n",
        "  for b in range(a + 1, len(similarities)):\n",
        "    a_phrases.append(phrases[a])\n",
        "    b_phrases.append(phrases[b])\n",
        "    scores.append(float(similarities[a][b]))\n",
        "\n",
        "comparisons_df = pd.DataFrame({\"phrase a\": a_phrases, \"phrase b\": b_phrases, \"score\": scores, \"name\": \"similarity\"})\n",
        "comparisons_df = comparisons_df.sort_values(by=[\"score\"], ascending=False, ignore_index=True)\n",
        "comparisons_df[\"idx\"] = range(len(comparisons_df))\n",
        "comparisons_df[comparisons_df[\"score\"] > .7]"
      ],
      "metadata": {
        "colab": {
          "base_uri": "https://localhost:8080/",
          "height": 488
        },
        "id": "eY4aAFjHcMcE",
        "outputId": "64a1c075-0aef-4f13-e458-c6ef8468329b"
      },
      "execution_count": 23,
      "outputs": [
        {
          "output_type": "execute_result",
          "data": {
            "text/plain": [
              "     phrase a    phrase b     score        name  idx\n",
              "0     protect  protection  0.928151  similarity    0\n",
              "1    climbing     climber  0.923570  similarity    1\n",
              "2        camp     camping  0.878894  similarity    2\n",
              "3       climb    climbing  0.833662  similarity    3\n",
              "4   something     someone  0.821081  similarity    4\n",
              "5        hike      hiking  0.815187  similarity    5\n",
              "6      people      person  0.784663  similarity    6\n",
              "7       climb     climber  0.782962  similarity    7\n",
              "8          go       leave  0.770643  similarity    8\n",
              "9        keep        stay  0.768611  similarity    9\n",
              "10       life        live  0.739865  similarity   10\n",
              "11       trip      travel  0.730623  similarity   11\n",
              "12       snow      winter  0.719569  similarity   12\n",
              "13       fire        burn  0.713174  similarity   13"
            ],
            "text/html": [
              "\n",
              "\n",
              "  <div id=\"df-38c822d5-1844-403d-a331-7a27d42241a5\">\n",
              "    <div class=\"colab-df-container\">\n",
              "      <div>\n",
              "<style scoped>\n",
              "    .dataframe tbody tr th:only-of-type {\n",
              "        vertical-align: middle;\n",
              "    }\n",
              "\n",
              "    .dataframe tbody tr th {\n",
              "        vertical-align: top;\n",
              "    }\n",
              "\n",
              "    .dataframe thead th {\n",
              "        text-align: right;\n",
              "    }\n",
              "</style>\n",
              "<table border=\"1\" class=\"dataframe\">\n",
              "  <thead>\n",
              "    <tr style=\"text-align: right;\">\n",
              "      <th></th>\n",
              "      <th>phrase a</th>\n",
              "      <th>phrase b</th>\n",
              "      <th>score</th>\n",
              "      <th>name</th>\n",
              "      <th>idx</th>\n",
              "    </tr>\n",
              "  </thead>\n",
              "  <tbody>\n",
              "    <tr>\n",
              "      <th>0</th>\n",
              "      <td>protect</td>\n",
              "      <td>protection</td>\n",
              "      <td>0.928151</td>\n",
              "      <td>similarity</td>\n",
              "      <td>0</td>\n",
              "    </tr>\n",
              "    <tr>\n",
              "      <th>1</th>\n",
              "      <td>climbing</td>\n",
              "      <td>climber</td>\n",
              "      <td>0.923570</td>\n",
              "      <td>similarity</td>\n",
              "      <td>1</td>\n",
              "    </tr>\n",
              "    <tr>\n",
              "      <th>2</th>\n",
              "      <td>camp</td>\n",
              "      <td>camping</td>\n",
              "      <td>0.878894</td>\n",
              "      <td>similarity</td>\n",
              "      <td>2</td>\n",
              "    </tr>\n",
              "    <tr>\n",
              "      <th>3</th>\n",
              "      <td>climb</td>\n",
              "      <td>climbing</td>\n",
              "      <td>0.833662</td>\n",
              "      <td>similarity</td>\n",
              "      <td>3</td>\n",
              "    </tr>\n",
              "    <tr>\n",
              "      <th>4</th>\n",
              "      <td>something</td>\n",
              "      <td>someone</td>\n",
              "      <td>0.821081</td>\n",
              "      <td>similarity</td>\n",
              "      <td>4</td>\n",
              "    </tr>\n",
              "    <tr>\n",
              "      <th>5</th>\n",
              "      <td>hike</td>\n",
              "      <td>hiking</td>\n",
              "      <td>0.815187</td>\n",
              "      <td>similarity</td>\n",
              "      <td>5</td>\n",
              "    </tr>\n",
              "    <tr>\n",
              "      <th>6</th>\n",
              "      <td>people</td>\n",
              "      <td>person</td>\n",
              "      <td>0.784663</td>\n",
              "      <td>similarity</td>\n",
              "      <td>6</td>\n",
              "    </tr>\n",
              "    <tr>\n",
              "      <th>7</th>\n",
              "      <td>climb</td>\n",
              "      <td>climber</td>\n",
              "      <td>0.782962</td>\n",
              "      <td>similarity</td>\n",
              "      <td>7</td>\n",
              "    </tr>\n",
              "    <tr>\n",
              "      <th>8</th>\n",
              "      <td>go</td>\n",
              "      <td>leave</td>\n",
              "      <td>0.770643</td>\n",
              "      <td>similarity</td>\n",
              "      <td>8</td>\n",
              "    </tr>\n",
              "    <tr>\n",
              "      <th>9</th>\n",
              "      <td>keep</td>\n",
              "      <td>stay</td>\n",
              "      <td>0.768611</td>\n",
              "      <td>similarity</td>\n",
              "      <td>9</td>\n",
              "    </tr>\n",
              "    <tr>\n",
              "      <th>10</th>\n",
              "      <td>life</td>\n",
              "      <td>live</td>\n",
              "      <td>0.739865</td>\n",
              "      <td>similarity</td>\n",
              "      <td>10</td>\n",
              "    </tr>\n",
              "    <tr>\n",
              "      <th>11</th>\n",
              "      <td>trip</td>\n",
              "      <td>travel</td>\n",
              "      <td>0.730623</td>\n",
              "      <td>similarity</td>\n",
              "      <td>11</td>\n",
              "    </tr>\n",
              "    <tr>\n",
              "      <th>12</th>\n",
              "      <td>snow</td>\n",
              "      <td>winter</td>\n",
              "      <td>0.719569</td>\n",
              "      <td>similarity</td>\n",
              "      <td>12</td>\n",
              "    </tr>\n",
              "    <tr>\n",
              "      <th>13</th>\n",
              "      <td>fire</td>\n",
              "      <td>burn</td>\n",
              "      <td>0.713174</td>\n",
              "      <td>similarity</td>\n",
              "      <td>13</td>\n",
              "    </tr>\n",
              "  </tbody>\n",
              "</table>\n",
              "</div>\n",
              "      <button class=\"colab-df-convert\" onclick=\"convertToInteractive('df-38c822d5-1844-403d-a331-7a27d42241a5')\"\n",
              "              title=\"Convert this dataframe to an interactive table.\"\n",
              "              style=\"display:none;\">\n",
              "\n",
              "  <svg xmlns=\"http://www.w3.org/2000/svg\" height=\"24px\"viewBox=\"0 0 24 24\"\n",
              "       width=\"24px\">\n",
              "    <path d=\"M0 0h24v24H0V0z\" fill=\"none\"/>\n",
              "    <path d=\"M18.56 5.44l.94 2.06.94-2.06 2.06-.94-2.06-.94-.94-2.06-.94 2.06-2.06.94zm-11 1L8.5 8.5l.94-2.06 2.06-.94-2.06-.94L8.5 2.5l-.94 2.06-2.06.94zm10 10l.94 2.06.94-2.06 2.06-.94-2.06-.94-.94-2.06-.94 2.06-2.06.94z\"/><path d=\"M17.41 7.96l-1.37-1.37c-.4-.4-.92-.59-1.43-.59-.52 0-1.04.2-1.43.59L10.3 9.45l-7.72 7.72c-.78.78-.78 2.05 0 2.83L4 21.41c.39.39.9.59 1.41.59.51 0 1.02-.2 1.41-.59l7.78-7.78 2.81-2.81c.8-.78.8-2.07 0-2.86zM5.41 20L4 18.59l7.72-7.72 1.47 1.35L5.41 20z\"/>\n",
              "  </svg>\n",
              "      </button>\n",
              "\n",
              "\n",
              "\n",
              "    <div id=\"df-3dc903fb-7588-46f6-9a1b-da3652bc6b65\">\n",
              "      <button class=\"colab-df-quickchart\" onclick=\"quickchart('df-3dc903fb-7588-46f6-9a1b-da3652bc6b65')\"\n",
              "              title=\"Suggest charts.\"\n",
              "              style=\"display:none;\">\n",
              "\n",
              "<svg xmlns=\"http://www.w3.org/2000/svg\" height=\"24px\"viewBox=\"0 0 24 24\"\n",
              "     width=\"24px\">\n",
              "    <g>\n",
              "        <path d=\"M19 3H5c-1.1 0-2 .9-2 2v14c0 1.1.9 2 2 2h14c1.1 0 2-.9 2-2V5c0-1.1-.9-2-2-2zM9 17H7v-7h2v7zm4 0h-2V7h2v10zm4 0h-2v-4h2v4z\"/>\n",
              "    </g>\n",
              "</svg>\n",
              "      </button>\n",
              "    </div>\n",
              "\n",
              "<style>\n",
              "  .colab-df-quickchart {\n",
              "    background-color: #E8F0FE;\n",
              "    border: none;\n",
              "    border-radius: 50%;\n",
              "    cursor: pointer;\n",
              "    display: none;\n",
              "    fill: #1967D2;\n",
              "    height: 32px;\n",
              "    padding: 0 0 0 0;\n",
              "    width: 32px;\n",
              "  }\n",
              "\n",
              "  .colab-df-quickchart:hover {\n",
              "    background-color: #E2EBFA;\n",
              "    box-shadow: 0px 1px 2px rgba(60, 64, 67, 0.3), 0px 1px 3px 1px rgba(60, 64, 67, 0.15);\n",
              "    fill: #174EA6;\n",
              "  }\n",
              "\n",
              "  [theme=dark] .colab-df-quickchart {\n",
              "    background-color: #3B4455;\n",
              "    fill: #D2E3FC;\n",
              "  }\n",
              "\n",
              "  [theme=dark] .colab-df-quickchart:hover {\n",
              "    background-color: #434B5C;\n",
              "    box-shadow: 0px 1px 3px 1px rgba(0, 0, 0, 0.15);\n",
              "    filter: drop-shadow(0px 1px 2px rgba(0, 0, 0, 0.3));\n",
              "    fill: #FFFFFF;\n",
              "  }\n",
              "</style>\n",
              "\n",
              "    <script>\n",
              "      async function quickchart(key) {\n",
              "        const containerElement = document.querySelector('#' + key);\n",
              "        const charts = await google.colab.kernel.invokeFunction(\n",
              "            'suggestCharts', [key], {});\n",
              "      }\n",
              "    </script>\n",
              "\n",
              "      <script>\n",
              "\n",
              "function displayQuickchartButton(domScope) {\n",
              "  let quickchartButtonEl =\n",
              "    domScope.querySelector('#df-3dc903fb-7588-46f6-9a1b-da3652bc6b65 button.colab-df-quickchart');\n",
              "  quickchartButtonEl.style.display =\n",
              "    google.colab.kernel.accessAllowed ? 'block' : 'none';\n",
              "}\n",
              "\n",
              "        displayQuickchartButton(document);\n",
              "      </script>\n",
              "      <style>\n",
              "    .colab-df-container {\n",
              "      display:flex;\n",
              "      flex-wrap:wrap;\n",
              "      gap: 12px;\n",
              "    }\n",
              "\n",
              "    .colab-df-convert {\n",
              "      background-color: #E8F0FE;\n",
              "      border: none;\n",
              "      border-radius: 50%;\n",
              "      cursor: pointer;\n",
              "      display: none;\n",
              "      fill: #1967D2;\n",
              "      height: 32px;\n",
              "      padding: 0 0 0 0;\n",
              "      width: 32px;\n",
              "    }\n",
              "\n",
              "    .colab-df-convert:hover {\n",
              "      background-color: #E2EBFA;\n",
              "      box-shadow: 0px 1px 2px rgba(60, 64, 67, 0.3), 0px 1px 3px 1px rgba(60, 64, 67, 0.15);\n",
              "      fill: #174EA6;\n",
              "    }\n",
              "\n",
              "    [theme=dark] .colab-df-convert {\n",
              "      background-color: #3B4455;\n",
              "      fill: #D2E3FC;\n",
              "    }\n",
              "\n",
              "    [theme=dark] .colab-df-convert:hover {\n",
              "      background-color: #434B5C;\n",
              "      box-shadow: 0px 1px 3px 1px rgba(0, 0, 0, 0.15);\n",
              "      filter: drop-shadow(0px 1px 2px rgba(0, 0, 0, 0.3));\n",
              "      fill: #FFFFFF;\n",
              "    }\n",
              "  </style>\n",
              "\n",
              "      <script>\n",
              "        const buttonEl =\n",
              "          document.querySelector('#df-38c822d5-1844-403d-a331-7a27d42241a5 button.colab-df-convert');\n",
              "        buttonEl.style.display =\n",
              "          google.colab.kernel.accessAllowed ? 'block' : 'none';\n",
              "\n",
              "        async function convertToInteractive(key) {\n",
              "          const element = document.querySelector('#df-38c822d5-1844-403d-a331-7a27d42241a5');\n",
              "          const dataTable =\n",
              "            await google.colab.kernel.invokeFunction('convertToInteractive',\n",
              "                                                     [key], {});\n",
              "          if (!dataTable) return;\n",
              "\n",
              "          const docLinkHtml = 'Like what you see? Visit the ' +\n",
              "            '<a target=\"_blank\" href=https://colab.research.google.com/notebooks/data_table.ipynb>data table notebook</a>'\n",
              "            + ' to learn more about interactive tables.';\n",
              "          element.innerHTML = '';\n",
              "          dataTable['output_type'] = 'display_data';\n",
              "          await google.colab.output.renderOutput(dataTable, element);\n",
              "          const docLink = document.createElement('div');\n",
              "          docLink.innerHTML = docLinkHtml;\n",
              "          element.appendChild(docLink);\n",
              "        }\n",
              "      </script>\n",
              "    </div>\n",
              "  </div>\n"
            ]
          },
          "metadata": {},
          "execution_count": 23
        }
      ]
    },
    {
      "cell_type": "markdown",
      "source": [
        "##Similarity distribution"
      ],
      "metadata": {
        "id": "d9WuvNwqxGoL"
      }
    },
    {
      "cell_type": "code",
      "source": [
        "# let’s look at the distribution of the resulting similarity scores\n",
        "{\n",
        "    ggplot(comparisons_df[:50000], aes(\"name\", \"score\"))\n",
        "    + geom_violin(color=\"blue\")\n",
        "    + scale_y_continuous(limits=[-0.4,1.0], breaks=[-0.4,-0.2,0,0.2,0.4,0.6,0.8,1.0])\n",
        "}"
      ],
      "metadata": {
        "id": "Ht3lXeM-xKgL",
        "outputId": "0f61dbb0-84d4-497c-a298-0c41d37f3831",
        "colab": {
          "base_uri": "https://localhost:8080/",
          "height": 464
        }
      },
      "execution_count": 24,
      "outputs": [
        {
          "output_type": "display_data",
          "data": {
            "text/plain": [
              "<Figure size 640x480 with 1 Axes>"
            ],
            "image/png": "[encoded data removed]"
          },
          "metadata": {}
        },
        {
          "output_type": "execute_result",
          "data": {
            "text/plain": [
              "{<ggplot: (8276830115988)>}"
            ]
          },
          "metadata": {},
          "execution_count": 24
        }
      ]
    },
    {
      "cell_type": "code",
      "source": [
        "# let’s look at the distribution of the resulting similarity scores\n",
        "candidate_synonyms = comparisons_df[comparisons_df[\"score\"] > 0.6]\n",
        "{\n",
        "    ggplot(candidate_synonyms, aes(\"name\", \"score\"))\n",
        "    + geom_violin(color=\"blue\")\n",
        "}"
      ],
      "metadata": {
        "id": "k7E0oYGLyzjy",
        "outputId": "a7d5c8a3-723f-418e-cd4c-2530fdb52d22",
        "colab": {
          "base_uri": "https://localhost:8080/",
          "height": 464
        }
      },
      "execution_count": 25,
      "outputs": [
        {
          "output_type": "display_data",
          "data": {
            "text/plain": [
              "<Figure size 640x480 with 1 Axes>"
            ],
            "image/png": "[encoded data removed]"
          },
          "metadata": {}
        },
        {
          "output_type": "execute_result",
          "data": {
            "text/plain": [
              "{<ggplot: (8276829831970)>}"
            ]
          },
          "metadata": {},
          "execution_count": 25
        }
      ]
    },
    {
      "cell_type": "code",
      "source": [
        "{\n",
        "    ggplot(comparisons_df, aes(\"idx\", \"score\"))\n",
        "    + geom_point(alpha=.5)\n",
        "}"
      ],
      "metadata": {
        "id": "FtSAmMG8x_XQ",
        "outputId": "38eecbb1-ceab-45eb-85f7-6d88310f1041",
        "colab": {
          "base_uri": "https://localhost:8080/",
          "height": 464
        }
      },
      "execution_count": 26,
      "outputs": [
        {
          "output_type": "display_data",
          "data": {
            "text/plain": [
              "<Figure size 640x480 with 1 Axes>"
            ],
            "image/png": "[encoded data removed]"
          },
          "metadata": {}
        },
        {
          "output_type": "execute_result",
          "data": {
            "text/plain": [
              "{<ggplot: (8276829866273)>}"
            ]
          },
          "metadata": {},
          "execution_count": 26
        }
      ]
    },
    {
      "cell_type": "markdown",
      "source": [
        "##Approximate Nearest-Neighbor search"
      ],
      "metadata": {
        "id": "TlLdkjYL0mHW"
      }
    },
    {
      "cell_type": "code",
      "source": [
        "# let's create HNSW index from all 12,375 embeddings and then performs an example search for concepts similar to the term 'bag'\n",
        "\n",
        "# initialize a new index, using a HNSW index on Cosine Similarity\n",
        "index = nmslib.init(method=\"hnsw\", space=\"cosinesimil\")\n",
        "index.addDataPointBatch(embeddings)\n",
        "index.createIndex(print_progress=True)\n",
        "\n",
        "# Example query for the new index.  The 25th embedding is the term 'bag'\n",
        "ids, distances = index.knnQuery(embeddings[25], k=10)\n",
        "matches = [labels[phrases[idx]].lower() for idx in ids]\n",
        "print(matches)"
      ],
      "metadata": {
        "id": "HP8Ie0jZ0nBm",
        "outputId": "321d55ae-f6f6-4177-ac30-4acd3ddb8799",
        "colab": {
          "base_uri": "https://localhost:8080/"
        }
      },
      "execution_count": 27,
      "outputs": [
        {
          "output_type": "stream",
          "name": "stdout",
          "text": [
            "['bag', 'bag ratings', 'bag cover', 'bag liner', 'garbage bags', 'wag bags', 'bag cooking', 'airbag', 'paper bag', 'tea bags']\n"
          ]
        }
      ]
    },
    {
      "cell_type": "code",
      "source": [
        "# Example query for the new index.  The 21th embedding is the term 'work'\n",
        "ids, distances = index.knnQuery(embeddings[21], k=10)\n",
        "matches = [labels[phrases[idx]].lower() for idx in ids]\n",
        "print(matches)"
      ],
      "metadata": {
        "id": "gp0_uH-h4NJs",
        "outputId": "0f174990-afb1-4e0b-af8f-ef5149ca3f59",
        "colab": {
          "base_uri": "https://localhost:8080/"
        }
      },
      "execution_count": 28,
      "outputs": [
        {
          "output_type": "stream",
          "name": "stdout",
          "text": [
            "['working', 'working', 'does work', 'has worked', 'workplace', 'kept working', 'workers', 'leather work', 'job', 'homework']\n"
          ]
        }
      ]
    },
    {
      "cell_type": "code",
      "source": [
        "# let's create a method that accepts any query whether or not it’s already in our dictionary\n",
        "def semantic_suggest(query, k=20):\n",
        "  matches = []\n",
        "  embeddings = stsb.encode([query], convert_to_tensor=True)\n",
        "  ids, distances = index.knnQuery(embeddings[0].cpu().numpy(), k=k)\n",
        "  for id in range(len(ids)):\n",
        "    text = phrases[ids[id]]\n",
        "    distance = 1.0 - distances[id]\n",
        "    if distance > 0.75:\n",
        "      matches.append((text, distance))\n",
        "  if not len(matches):\n",
        "    matches.append((phrases[ids[1]], 1.0 - distances[id]))\n",
        "  return matches"
      ],
      "metadata": {
        "id": "-HAMqQdA69PI"
      },
      "execution_count": 32,
      "outputs": []
    },
    {
      "cell_type": "code",
      "source": [
        "#from IPython.display import display,HTML\n",
        "\n",
        "def print_labels(prefix,matches):\n",
        "  display(HTML('<h4>Results for: <em>'+prefix+'</em></h4>'))\n",
        "  for l,d in matches:\n",
        "    if l in labels.keys():\n",
        "      l = labels[l].lower()\n",
        "    print(l + '\\t' + str(d))\n",
        "\n",
        "def autocomplete(prefix):\n",
        "  matches = semantic_suggest(prefix)\n",
        "  print_labels(prefix,matches)"
      ],
      "metadata": {
        "id": "yQms7_R8DC17"
      },
      "execution_count": 45,
      "outputs": []
    },
    {
      "cell_type": "code",
      "source": [
        "autocomplete(\"mountain hike\")"
      ],
      "metadata": {
        "id": "Oyx_CZ9XDUny",
        "outputId": "5ed7ef80-7fe3-451c-882b-22f5ecab54ad",
        "colab": {
          "base_uri": "https://localhost:8080/",
          "height": 196
        }
      },
      "execution_count": 46,
      "outputs": [
        {
          "output_type": "display_data",
          "data": {
            "text/plain": [
              "<IPython.core.display.HTML object>"
            ],
            "text/html": [
              "<h4>Results for: <em>mountain hike</em></h4>"
            ]
          },
          "metadata": {}
        },
        {
          "output_type": "stream",
          "name": "stdout",
          "text": [
            "mountain hike\t1.0\n",
            "mountain hiking\t0.9756487011909485\n",
            "mountain trail\t0.8470598459243774\n",
            "mountain guides\t0.7870421409606934\n",
            "mountain terrain\t0.7799180746078491\n",
            "mountain climbing\t0.7756213545799255\n",
            "mountain ridge\t0.7680721282958984\n",
            "winter hikes\t0.7541308403015137\n"
          ]
        }
      ]
    },
    {
      "cell_type": "code",
      "source": [
        "autocomplete(\"campfire\")"
      ],
      "metadata": {
        "id": "elpIWcEuGMIP",
        "outputId": "33f9610f-a9ef-48b4-8405-f7ae0bdf13f3",
        "colab": {
          "base_uri": "https://localhost:8080/",
          "height": 248
        }
      },
      "execution_count": 47,
      "outputs": [
        {
          "output_type": "display_data",
          "data": {
            "text/plain": [
              "<IPython.core.display.HTML object>"
            ],
            "text/html": [
              "<h4>Results for: <em>campfire</em></h4>"
            ]
          },
          "metadata": {}
        },
        {
          "output_type": "stream",
          "name": "stdout",
          "text": [
            "campfire\t0.9999998807907104\n",
            "camp fire\t0.9566245079040527\n",
            "campfire impacts\t0.928297758102417\n",
            "camping fuels\t0.8655523657798767\n",
            "camping stoves\t0.8239545822143555\n",
            "camp stove\t0.7969685792922974\n",
            "cooking fires\t0.7753305435180664\n",
            "campground\t0.7744450569152832\n",
            "fireplace\t0.7649710178375244\n",
            "camping area\t0.7596511840820312\n",
            "have camped\t0.7553195953369141\n"
          ]
        }
      ]
    },
    {
      "cell_type": "code",
      "source": [
        "autocomplete(\"dehyd\")"
      ],
      "metadata": {
        "id": "fRqa5VKMGO2f",
        "outputId": "478234bb-b946-435b-f0b2-54b4092319c0",
        "colab": {
          "base_uri": "https://localhost:8080/",
          "height": 231
        }
      },
      "execution_count": 48,
      "outputs": [
        {
          "output_type": "display_data",
          "data": {
            "text/plain": [
              "<IPython.core.display.HTML object>"
            ],
            "text/html": [
              "<h4>Results for: <em>dehyd</em></h4>"
            ]
          },
          "metadata": {}
        },
        {
          "output_type": "stream",
          "name": "stdout",
          "text": [
            "dehydrated\t0.9417487382888794\n",
            "dehydration\t0.9317408800125122\n",
            "rehydration\t0.8525168299674988\n",
            "dehydrator\t0.8514857292175293\n",
            "hydration\t0.8362183570861816\n",
            "hydrating\t0.8358256220817566\n",
            "rehydrating\t0.8222473859786987\n",
            "hydrated\t0.8123505115509033\n",
            "hydration pack\t0.7883821725845337\n",
            "hydration system\t0.7768827676773071\n"
          ]
        }
      ]
    },
    {
      "cell_type": "code",
      "source": [
        "autocomplete(\"compa\")"
      ],
      "metadata": {
        "id": "Sptafa_tGRdX",
        "outputId": "f698f7d7-e45c-421b-e6b7-15ff6d5e200a",
        "colab": {
          "base_uri": "https://localhost:8080/",
          "height": 213
        }
      },
      "execution_count": 49,
      "outputs": [
        {
          "output_type": "display_data",
          "data": {
            "text/plain": [
              "<IPython.core.display.HTML object>"
            ],
            "text/html": [
              "<h4>Results for: <em>compa</em></h4>"
            ]
          },
          "metadata": {}
        },
        {
          "output_type": "stream",
          "name": "stdout",
          "text": [
            "comp\t0.863274335861206\n",
            "compact\t0.8295656442642212\n",
            "compiled\t0.8032784461975098\n",
            "compost\t0.7929490804672241\n",
            "compass\t0.7862532138824463\n",
            "competitors\t0.7782407999038696\n",
            "competence\t0.7651965618133545\n",
            "compactor\t0.7587993741035461\n",
            "compare\t0.7551058530807495\n"
          ]
        }
      ]
    },
    {
      "cell_type": "code",
      "source": [
        "autocomplete(\"excer\")"
      ],
      "metadata": {
        "id": "pQDgh5EfGRzv",
        "outputId": "e794cda6-881e-4f44-da86-7dbc4f4c65dd",
        "colab": {
          "base_uri": "https://localhost:8080/",
          "height": 74
        }
      },
      "execution_count": 50,
      "outputs": [
        {
          "output_type": "display_data",
          "data": {
            "text/plain": [
              "<IPython.core.display.HTML object>"
            ],
            "text/html": [
              "<h4>Results for: <em>excer</em></h4>"
            ]
          },
          "metadata": {}
        },
        {
          "output_type": "stream",
          "name": "stdout",
          "text": [
            "excel\t0.5212134718894958\n"
          ]
        }
      ]
    }
  ]
}