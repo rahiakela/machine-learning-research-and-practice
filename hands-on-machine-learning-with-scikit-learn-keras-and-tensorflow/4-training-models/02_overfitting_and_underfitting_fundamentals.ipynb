{
  "nbformat": 4,
  "nbformat_minor": 0,
  "metadata": {
    "colab": {
      "name": "02-overfitting-and-underfitting-fundamentals.ipynb",
      "provenance": [],
      "toc_visible": true,
      "authorship_tag": "ABX9TyMhoxXYzUw/bsipZvyRGDHU",
      "include_colab_link": true
    },
    "kernelspec": {
      "name": "python3",
      "display_name": "Python 3"
    },
    "language_info": {
      "name": "python"
    }
  },
  "cells": [
    {
      "cell_type": "markdown",
      "metadata": {
        "id": "view-in-github",
        "colab_type": "text"
      },
      "source": [
        "<a href=\"https://colab.research.google.com/github/rahiakela/machine-learning-research-and-practice/blob/main/hands-on-machine-learning-with-scikit-learn-keras-and-tensorflow/4-training-models/02_overfitting_and_underfitting_fundamentals.ipynb\" target=\"_parent\"><img src=\"https://colab.research.google.com/assets/colab-badge.svg\" alt=\"Open In Colab\"/></a>"
      ]
    },
    {
      "cell_type": "markdown",
      "source": [
        "##Overfitting and Underfitting Fundamentals"
      ],
      "metadata": {
        "id": "hTO49L3Ayc8D"
      }
    },
    {
      "cell_type": "markdown",
      "source": [
        "What if your data is more complex than a straight line? \n",
        "\n",
        "Surprisingly, you can use a linear model to fit nonlinear data. A simple way to do this is to add powers of each feature as new features, then train a linear model on this extended set of features. This technique is called **Polynomial Regression**."
      ],
      "metadata": {
        "id": "qPkifzRLyhov"
      }
    },
    {
      "cell_type": "markdown",
      "source": [
        "##Setup"
      ],
      "metadata": {
        "id": "I6TwRZvRy4sc"
      }
    },
    {
      "cell_type": "code",
      "source": [
        "# Common imports\n",
        "import numpy as np\n",
        "import numpy.random as rnd\n",
        "import os\n",
        "\n",
        "from sklearn.linear_model import LinearRegression\n",
        "from sklearn.linear_model import SGDRegressor\n",
        "from sklearn.preprocessing import PolynomialFeatures\n",
        "from sklearn.preprocessing import StandardScaler\n",
        "from sklearn.pipeline import Pipeline\n",
        "from sklearn.metrics import mean_squared_error\n",
        "from sklearn.model_selection import train_test_split\n",
        "\n",
        "\n",
        "# to make this notebook's output stable across runs\n",
        "np.random.seed(42)\n",
        "\n",
        "# To plot pretty figures\n",
        "%matplotlib inline\n",
        "import matplotlib as mpl\n",
        "import matplotlib.pyplot as plt\n",
        "mpl.rc('axes', labelsize=14)\n",
        "mpl.rc('xtick', labelsize=12)\n",
        "mpl.rc('ytick', labelsize=12)"
      ],
      "metadata": {
        "id": "CV2QFSa-y50O"
      },
      "execution_count": 12,
      "outputs": []
    },
    {
      "cell_type": "markdown",
      "source": [
        "##Polynomial Regression"
      ],
      "metadata": {
        "id": "O4vDfuH_1wJQ"
      }
    },
    {
      "cell_type": "markdown",
      "source": [
        "Let’s look at an example. First, let’s generate some nonlinear data, based on a simple quadratic equation (plus some noise)."
      ],
      "metadata": {
        "id": "fqczGkge1w-L"
      }
    },
    {
      "cell_type": "code",
      "source": [
        "m = 100\n",
        "X = 6 * np.random.rand(m, 1) - 3\n",
        "y = 0.5 * X ** 2 + X + 2 + np.random.randn(m, 1)"
      ],
      "metadata": {
        "id": "E0dbabmU15Xx"
      },
      "execution_count": 13,
      "outputs": []
    },
    {
      "cell_type": "code",
      "source": [
        "plt.plot(X, y, \"b.\")\n",
        "plt.xlabel(\"$x_1$\", fontsize=18)\n",
        "plt.ylabel(\"$y$\", rotation=0, fontsize=18)\n",
        "plt.axis([-3, 3, 0, 10])\n",
        "plt.show()"
      ],
      "metadata": {
        "id": "SkyyGt_B2TQ4",
        "outputId": "b25e76a1-3154-4f0d-a387-2ebb7e6f2a0a",
        "colab": {
          "base_uri": "https://localhost:8080/",
          "height": 295
        }
      },
      "execution_count": 14,
      "outputs": [
        {
          "output_type": "display_data",
          "data": {
            "image/png": "[encoded data removed]",
            "text/plain": [
              "<Figure size 432x288 with 1 Axes>"
            ]
          },
          "metadata": {
            "needs_background": "light"
          }
        }
      ]
    },
    {
      "cell_type": "markdown",
      "source": [
        "Clearly, a straight line will never fit this data properly. \n",
        "\n",
        "So let’s use Scikit-Learn’s Poly\n",
        "nomialFeatures class to transform our training data, adding the square (seconddegree\n",
        "polynomial) of each feature in the training set as a new feature (in this case\n",
        "there is just one feature):"
      ],
      "metadata": {
        "id": "VeT_Ep122a12"
      }
    },
    {
      "cell_type": "code",
      "source": [
        "poly_features = PolynomialFeatures(degree=2, include_bias=False)\n",
        "X_poly = poly_features.fit_transform(X)\n",
        "X[0]"
      ],
      "metadata": {
        "id": "TisHT5en2c-I",
        "outputId": "a657e99f-a903-4542-f778-458be24f6e07",
        "colab": {
          "base_uri": "https://localhost:8080/"
        }
      },
      "execution_count": 15,
      "outputs": [
        {
          "output_type": "execute_result",
          "data": {
            "text/plain": [
              "array([-0.75275929])"
            ]
          },
          "metadata": {},
          "execution_count": 15
        }
      ]
    },
    {
      "cell_type": "code",
      "source": [
        "X_poly[0]"
      ],
      "metadata": {
        "id": "FH8LNC_C2t1f",
        "outputId": "4a9da878-1a82-4887-b0e4-8c33682f8bc3",
        "colab": {
          "base_uri": "https://localhost:8080/"
        }
      },
      "execution_count": 16,
      "outputs": [
        {
          "output_type": "execute_result",
          "data": {
            "text/plain": [
              "array([-0.75275929,  0.56664654])"
            ]
          },
          "metadata": {},
          "execution_count": 16
        }
      ]
    },
    {
      "cell_type": "markdown",
      "source": [
        "`X_poly` now contains the original feature of X plus the square of this feature. \n",
        "\n",
        "Now you can fit a LinearRegression model to this extended training data:"
      ],
      "metadata": {
        "id": "WAiRPnKI20Jt"
      }
    },
    {
      "cell_type": "code",
      "source": [
        "lin_reg = LinearRegression()\n",
        "lin_reg.fit(X_poly, y)"
      ],
      "metadata": {
        "id": "mb4dbWZG220w",
        "outputId": "7050be8b-0cfc-4d5d-b420-5ad47f636610",
        "colab": {
          "base_uri": "https://localhost:8080/"
        }
      },
      "execution_count": 17,
      "outputs": [
        {
          "output_type": "execute_result",
          "data": {
            "text/plain": [
              "LinearRegression()"
            ]
          },
          "metadata": {},
          "execution_count": 17
        }
      ]
    },
    {
      "cell_type": "code",
      "source": [
        "lin_reg.intercept_, lin_reg.coef_"
      ],
      "metadata": {
        "id": "rJywYVf03Bin",
        "outputId": "286411f3-8a30-4f20-b74b-95efd6b2de0b",
        "colab": {
          "base_uri": "https://localhost:8080/"
        }
      },
      "execution_count": 18,
      "outputs": [
        {
          "output_type": "execute_result",
          "data": {
            "text/plain": [
              "(array([1.78134581]), array([[0.93366893, 0.56456263]]))"
            ]
          },
          "metadata": {},
          "execution_count": 18
        }
      ]
    },
    {
      "cell_type": "markdown",
      "source": [
        "Let's do prediction."
      ],
      "metadata": {
        "id": "cXb_Df-W3cGI"
      }
    },
    {
      "cell_type": "code",
      "source": [
        "X_new=np.linspace(-3, 3, 100).reshape(100, 1)\n",
        "X_new_poly = poly_features.transform(X_new)\n",
        "y_new = lin_reg.predict(X_new_poly)"
      ],
      "metadata": {
        "id": "D2S0NRck3cOY"
      },
      "execution_count": 19,
      "outputs": []
    },
    {
      "cell_type": "code",
      "source": [
        "plt.plot(X, y, \"b.\")\n",
        "plt.plot(X_new, y_new, \"r-\", linewidth=2, label=\"Predictions\")\n",
        "plt.xlabel(\"$x_1$\", fontsize=18)\n",
        "plt.ylabel(\"$y$\", rotation=0, fontsize=18)\n",
        "plt.legend(loc=\"upper left\", fontsize=14)\n",
        "plt.axis([-3, 3, 0, 10])\n",
        "plt.show()"
      ],
      "metadata": {
        "id": "HI_mtaUW3OyT",
        "outputId": "ebfb7010-f60e-49a6-c164-b1a5365f039a",
        "colab": {
          "base_uri": "https://localhost:8080/",
          "height": 295
        }
      },
      "execution_count": 20,
      "outputs": [
        {
          "output_type": "display_data",
          "data": {
            "image/png": "[encoded data removed]",
            "text/plain": [
              "<Figure size 432x288 with 1 Axes>"
            ]
          },
          "metadata": {
            "needs_background": "light"
          }
        }
      ]
    },
    {
      "cell_type": "markdown",
      "source": [
        "Note that when there are multiple features, Polynomial Regression is capable of finding relationships between features (which is something a plain Linear Regression model cannot do).\n",
        "\n",
        "This is made possible by the fact that PolynomialFeatures also\n",
        "adds all combinations of features up to the given degree.\n",
        "\n",
        "For example, if there were two features $a$ and $b$, PolynomialFeatures with `degree=3` would not only add the features $a^2$, $a^3$, $b^2$, and $b^3$, but also the combinations $ab, a^2b,$ and $ab^2$.\n",
        "\n",
        ">`PolynomialFeatures(degree=d)` transforms an array containing $n$\n",
        "features into an array containing $(n + d)! / d!n!$ features, where $n!$ is\n",
        "the factorial of $n$, equal to $1 × 2 × 3 × ⋯ × n$. Beware of the combinatorial explosion of the number of features!"
      ],
      "metadata": {
        "id": "cO7_n2_P3tHJ"
      }
    },
    {
      "cell_type": "markdown",
      "source": [
        "##Learning Curves"
      ],
      "metadata": {
        "id": "5WRfi_xy5_HI"
      }
    },
    {
      "cell_type": "markdown",
      "source": [
        "If you perform high-degree Polynomial Regression, you will likely fit the training data much better than with plain Linear Regression.\n",
        "\n",
        "For example, We applies\n",
        "a 300-degree polynomial model to the preceding training data, and compares the\n",
        "result with a pure linear model and a quadratic model (second-degree polynomial).\n",
        "Notice how the 300-degree polynomial model wiggles around to get as close as possible\n",
        "to the training instances."
      ],
      "metadata": {
        "id": "iOTL-Q_z6Irj"
      }
    },
    {
      "cell_type": "code",
      "source": [
        "for style, width, degree in ((\"g-\", 1, 300), (\"b--\", 2, 2), (\"r-+\", 2, 1)):\n",
        "    polybig_features = PolynomialFeatures(degree=degree, include_bias=False)\n",
        "    std_scaler = StandardScaler()\n",
        "    lin_reg = LinearRegression()\n",
        "    polynomial_regression = Pipeline([\n",
        "            (\"poly_features\", polybig_features),\n",
        "            (\"std_scaler\", std_scaler),\n",
        "            (\"lin_reg\", lin_reg),\n",
        "        ])\n",
        "    polynomial_regression.fit(X, y)\n",
        "    y_newbig = polynomial_regression.predict(X_new)\n",
        "    plt.plot(X_new, y_newbig, style, label=str(degree), linewidth=width)\n",
        "\n",
        "plt.plot(X, y, \"b.\", linewidth=3)\n",
        "plt.legend(loc=\"upper left\")\n",
        "plt.xlabel(\"$x_1$\", fontsize=18)\n",
        "plt.ylabel(\"$y$\", rotation=0, fontsize=18)\n",
        "plt.axis([-3, 3, 0, 10])\n",
        "plt.show()"
      ],
      "metadata": {
        "id": "nKWTRCyMGOIh",
        "outputId": "700fc69a-cd53-4404-84ed-aa6983f60b40",
        "colab": {
          "base_uri": "https://localhost:8080/",
          "height": 295
        }
      },
      "execution_count": 22,
      "outputs": [
        {
          "output_type": "display_data",
          "data": {
            "image/png": "[encoded data removed]",
            "text/plain": [
              "<Figure size 432x288 with 1 Axes>"
            ]
          },
          "metadata": {
            "needs_background": "light"
          }
        }
      ]
    },
    {
      "cell_type": "markdown",
      "source": [
        "This high-degree Polynomial Regression model is severely overfitting the training\n",
        "data, while the linear model is underfitting it. The model that will generalize best in\n",
        "this case is the quadratic model, which makes sense because the data was generated\n",
        "using a quadratic model.\n",
        "\n",
        "\n",
        "If a model performs well on the training data but generalizes poorly\n",
        "according to the cross-validation metrics, then your model is overfitting. If it performs\n",
        "poorly on both, then it is underfitting. This is one way to tell when a model is\n",
        "too simple or too complex."
      ],
      "metadata": {
        "id": "3lMmKuhUJA4P"
      }
    },
    {
      "cell_type": "code",
      "source": [
        "def plot_learning_curves(model, X, y):\n",
        "    X_train, X_val, y_train, y_val = train_test_split(X, y, test_size=0.2, random_state=10)\n",
        "    train_errors, val_errors = [], []\n",
        "    for m in range(1, len(X_train)):\n",
        "        model.fit(X_train[:m], y_train[:m])\n",
        "        y_train_predict = model.predict(X_train[:m])\n",
        "        y_val_predict = model.predict(X_val)\n",
        "        train_errors.append(mean_squared_error(y_train[:m], y_train_predict))\n",
        "        val_errors.append(mean_squared_error(y_val, y_val_predict))\n",
        "\n",
        "    plt.plot(np.sqrt(train_errors), \"r-+\", linewidth=2, label=\"train\")\n",
        "    plt.plot(np.sqrt(val_errors), \"b-\", linewidth=3, label=\"val\")\n",
        "    plt.legend(loc=\"upper right\", fontsize=14)   # not shown in the book\n",
        "    plt.xlabel(\"Training set size\", fontsize=14) # not shown\n",
        "    plt.ylabel(\"RMSE\", fontsize=14)              # not shown"
      ],
      "metadata": {
        "id": "G66HNBrAJNH4"
      },
      "execution_count": 23,
      "outputs": []
    },
    {
      "cell_type": "code",
      "source": [
        "lin_reg = LinearRegression()\n",
        "plot_learning_curves(lin_reg, X, y)\n",
        "plt.axis([0, 80, 0, 3])                         # not shown in the book\n",
        "plt.show() "
      ],
      "metadata": {
        "id": "BmDDnxItJZfR",
        "outputId": "a5c96926-04c6-4590-8993-3d91cc3ce614",
        "colab": {
          "base_uri": "https://localhost:8080/",
          "height": 291
        }
      },
      "execution_count": 24,
      "outputs": [
        {
          "output_type": "display_data",
          "data": {
            "image/png": "[encoded data removed]",
            "text/plain": [
              "<Figure size 432x288 with 1 Axes>"
            ]
          },
          "metadata": {
            "needs_background": "light"
          }
        }
      ]
    },
    {
      "cell_type": "markdown",
      "source": [
        "These learning curves are typical of a model that’s underfitting. Both curves have reached a plateau; they are close and fairly high.\n",
        "\n",
        "**If your model is underfitting the training data, adding more training\n",
        "examples will not help. You need to use a more complex model\n",
        "or come up with better features.**\n",
        "\n",
        "Now let’s look at the learning curves of a 10th-degree polynomial model on the same data."
      ],
      "metadata": {
        "id": "eM5XCPfcJrIl"
      }
    },
    {
      "cell_type": "code",
      "source": [
        "polynomial_regression = Pipeline([\n",
        "        (\"poly_features\", PolynomialFeatures(degree=10, include_bias=False)),\n",
        "        (\"lin_reg\", LinearRegression()),\n",
        "    ])\n",
        "\n",
        "plot_learning_curves(polynomial_regression, X, y)\n",
        "plt.axis([0, 80, 0, 3])           # not shown\n",
        "plt.show() "
      ],
      "metadata": {
        "id": "gtG0vOzTJ0Cl",
        "outputId": "3ff5f4b9-aa18-43f7-bb91-94ca792fa68f",
        "colab": {
          "base_uri": "https://localhost:8080/",
          "height": 291
        }
      },
      "execution_count": 25,
      "outputs": [
        {
          "output_type": "display_data",
          "data": {
            "image/png": "[encoded data removed]",
            "text/plain": [
              "<Figure size 432x288 with 1 Axes>"
            ]
          },
          "metadata": {
            "needs_background": "light"
          }
        }
      ]
    },
    {
      "cell_type": "markdown",
      "source": [
        "There is a gap between the curves. This means that the model performs significantly\n",
        "better on the training data than on the validation data, which is the hallmark\n",
        "of an overfitting model. If you used a much larger training set, however, the\n",
        "two curves would continue to get closer.\n",
        "\n",
        "**One way to improve an overfitting model is to feed it more training\n",
        "data until the validation error reaches the training error.**"
      ],
      "metadata": {
        "id": "EHdGmYCsKGYM"
      }
    }
  ]
}