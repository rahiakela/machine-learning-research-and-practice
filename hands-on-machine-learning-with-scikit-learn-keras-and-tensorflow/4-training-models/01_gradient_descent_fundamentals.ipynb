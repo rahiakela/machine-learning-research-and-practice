{
  "nbformat": 4,
  "nbformat_minor": 0,
  "metadata": {
    "colab": {
      "name": "01-gradient-descent-fundamentals.ipynb",
      "provenance": [],
      "toc_visible": true,
      "authorship_tag": "ABX9TyNBHeorR2LaiwaKX3kCBtlP",
      "include_colab_link": true
    },
    "kernelspec": {
      "name": "python3",
      "display_name": "Python 3"
    },
    "language_info": {
      "name": "python"
    }
  },
  "cells": [
    {
      "cell_type": "markdown",
      "metadata": {
        "id": "view-in-github",
        "colab_type": "text"
      },
      "source": [
        "<a href=\"https://colab.research.google.com/github/rahiakela/machine-learning-research-and-practice/blob/main/hands-on-machine-learning-with-scikit-learn-keras-and-tensorflow/4-training-models/01_gradient_descent_fundamentals.ipynb\" target=\"_parent\"><img src=\"https://colab.research.google.com/assets/colab-badge.svg\" alt=\"Open In Colab\"/></a>"
      ]
    },
    {
      "cell_type": "markdown",
      "source": [
        "##Gradient Descent Fundamentals"
      ],
      "metadata": {
        "id": "fllKYSar8MrB"
      }
    },
    {
      "cell_type": "markdown",
      "source": [
        "In this notebook we will start by looking at the Linear Regression model, one of the simplest models there is. We will discuss two very different ways to train it:\n",
        "\n",
        "- Using a direct “closed-form” equation that directly computes the model parameters that best fit the model to the training set (i.e., the model parameters that minimize the cost function over the training set).\n",
        "- Using an iterative optimization approach called Gradient Descent (GD) that\n",
        "gradually tweaks the model parameters to minimize the cost function over the\n",
        "training set, eventually converging to the same set of parameters as the first\n",
        "method.\n"
      ],
      "metadata": {
        "id": "4TeLsPTS859r"
      }
    },
    {
      "cell_type": "markdown",
      "source": [
        "##Setup"
      ],
      "metadata": {
        "id": "tQxy1iQg-Ye3"
      }
    },
    {
      "cell_type": "code",
      "source": [
        "# Common imports\n",
        "import numpy as np\n",
        "import os\n",
        "\n",
        "from sklearn.linear_model import LinearRegression\n",
        "from sklearn.linear_model import SGDRegressor\n",
        "\n",
        "\n",
        "# to make this notebook's output stable across runs\n",
        "np.random.seed(42)\n",
        "\n",
        "# To plot pretty figures\n",
        "%matplotlib inline\n",
        "import matplotlib as mpl\n",
        "import matplotlib.pyplot as plt\n",
        "mpl.rc('axes', labelsize=14)\n",
        "mpl.rc('xtick', labelsize=12)\n",
        "mpl.rc('ytick', labelsize=12)"
      ],
      "metadata": {
        "id": "cF2UQUZx-ZnK"
      },
      "execution_count": 1,
      "outputs": []
    },
    {
      "cell_type": "markdown",
      "source": [
        "##Normal Equation"
      ],
      "metadata": {
        "id": "NeWWG0DX-07b"
      }
    },
    {
      "cell_type": "markdown",
      "source": [
        "To find the value of $\\theta$ that minimizes the cost function, there is a closed-form solution —in other words, a mathematical equation that gives the result directly. This is called the Normal Equation.\n",
        "\n",
        "$$\\hat\\theta = (X^TX)^{-1}X^Ty $$\n",
        "\n",
        "Where:\n",
        "- $\\hat\\theta$ is the value of $\\theta$ that minimizes the cost function\n",
        "- $y$ is the vector of target values containing $y^{(i)}$ to $y^{(m)}$\n",
        "\n",
        "Let’s generate some linear-looking data(100 sample only) to test this equation."
      ],
      "metadata": {
        "id": "g0I4BxOR-9mC"
      }
    },
    {
      "cell_type": "code",
      "source": [
        "X = 2 * np.random.rand(100, 1)\n",
        "y = 4 + 3 * X + np.random.randn(100, 1)"
      ],
      "metadata": {
        "id": "k795htPL_2ed"
      },
      "execution_count": 2,
      "outputs": []
    },
    {
      "cell_type": "code",
      "source": [
        "X.shape, y.shape"
      ],
      "metadata": {
        "id": "s3Js8ysWAOv3",
        "outputId": "7ae19dc8-5cfb-49b1-a811-2d4b2904ed31",
        "colab": {
          "base_uri": "https://localhost:8080/"
        }
      },
      "execution_count": 3,
      "outputs": [
        {
          "output_type": "execute_result",
          "data": {
            "text/plain": [
              "((100, 1), (100, 1))"
            ]
          },
          "metadata": {},
          "execution_count": 3
        }
      ]
    },
    {
      "cell_type": "code",
      "source": [
        "plt.plot(X, y, \"b.\")\n",
        "plt.xlabel(\"$x_1$\", fontsize=18)\n",
        "plt.ylabel(\"$y$\", rotation=0, fontsize=18)\n",
        "plt.axis([0, 2, 0, 15])\n",
        "plt.show()"
      ],
      "metadata": {
        "id": "bi9XfjtIAYn8",
        "outputId": "d305af33-91c0-40e2-c2da-df2f0b7728fa",
        "colab": {
          "base_uri": "https://localhost:8080/",
          "height": 290
        }
      },
      "execution_count": 4,
      "outputs": [
        {
          "output_type": "display_data",
          "data": {
            "image/png": "[encoded data removed]",
            "text/plain": [
              "<Figure size 432x288 with 1 Axes>"
            ]
          },
          "metadata": {
            "needs_background": "light"
          }
        }
      ]
    },
    {
      "cell_type": "markdown",
      "source": [
        "Now let’s compute $\\theta$ using the Normal Equation. We will use the `inv()` function from NumPy’s linear algebra module (`np.linalg`) to compute the inverse of a matrix, and the `dot()` method for matrix multiplication:"
      ],
      "metadata": {
        "id": "w5_QO7iHApDc"
      }
    },
    {
      "cell_type": "code",
      "source": [
        "X_b = np.c_[np.ones((100, 1)), X]  # add x0 = 1 to each instance\n",
        "theta_best = np.linalg.inv(X_b.T.dot(X_b)).dot(X_b.T).dot(y)"
      ],
      "metadata": {
        "id": "RE_LjbmsAyMJ"
      },
      "execution_count": 5,
      "outputs": []
    },
    {
      "cell_type": "markdown",
      "source": [
        "The function that we used to generate the data is $y = 4 + 3x_1$ + Gaussian noise."
      ],
      "metadata": {
        "id": "Xw_ugyWuBNpp"
      }
    },
    {
      "cell_type": "code",
      "source": [
        "theta_best"
      ],
      "metadata": {
        "id": "aCorCm_wBUpv",
        "outputId": "07f4550e-b7a7-4797-ea35-e75776eff31a",
        "colab": {
          "base_uri": "https://localhost:8080/"
        }
      },
      "execution_count": 6,
      "outputs": [
        {
          "output_type": "execute_result",
          "data": {
            "text/plain": [
              "array([[4.21509616],\n",
              "       [2.77011339]])"
            ]
          },
          "metadata": {},
          "execution_count": 6
        }
      ]
    },
    {
      "cell_type": "markdown",
      "source": [
        "We would have hoped for $\\theta_0 = 4$ and $\\theta_1 = 3$ instead of $\\theta_0 = 4.215$ and $\\theta_1 = 2.770$. Close enough, but the noise made it impossible to recover the exact parameters of the original function.\n",
        "\n",
        "Now we can make predictions using $\\hat\\theta$."
      ],
      "metadata": {
        "id": "4jQvJNZkBboN"
      }
    },
    {
      "cell_type": "code",
      "source": [
        "X_new = np.array([[0], [2]])\n",
        "X_new_b = np.c_[np.ones((2, 1)), X_new]  # add x0 = 1 to each instance\n",
        "y_pred = X_new_b.dot(theta_best)\n",
        "y_pred"
      ],
      "metadata": {
        "id": "Wmlnj8sfBwjH",
        "outputId": "1bf23cbc-1d3a-4800-9a0d-c9d071479343",
        "colab": {
          "base_uri": "https://localhost:8080/"
        }
      },
      "execution_count": 7,
      "outputs": [
        {
          "output_type": "execute_result",
          "data": {
            "text/plain": [
              "array([[4.21509616],\n",
              "       [9.75532293]])"
            ]
          },
          "metadata": {},
          "execution_count": 7
        }
      ]
    },
    {
      "cell_type": "markdown",
      "source": [
        "Let’s plot this model’s predictions."
      ],
      "metadata": {
        "id": "9TzCqr-4CMfD"
      }
    },
    {
      "cell_type": "code",
      "source": [
        "plt.plot(X_new, y_pred, \"r-\")\n",
        "plt.plot(X, y, \"b.\")\n",
        "plt.axis([0, 2, 0, 15])\n",
        "plt.show()"
      ],
      "metadata": {
        "id": "RRtCPkoMCL9V",
        "outputId": "c7cacd18-1ea5-4983-9811-6cca7f64770f",
        "colab": {
          "base_uri": "https://localhost:8080/",
          "height": 268
        }
      },
      "execution_count": 8,
      "outputs": [
        {
          "output_type": "display_data",
          "data": {
            "image/png": "[encoded data removed]",
            "text/plain": [
              "<Figure size 432x288 with 1 Axes>"
            ]
          },
          "metadata": {
            "needs_background": "light"
          }
        }
      ]
    },
    {
      "cell_type": "code",
      "source": [
        "plt.plot(X_new, y_pred, \"r-\", linewidth=2, label=\"Predictions\")\n",
        "plt.plot(X, y, \"b.\")\n",
        "plt.xlabel(\"$x_1$\", fontsize=18)\n",
        "plt.ylabel(\"$y$\", rotation=0, fontsize=18)\n",
        "plt.legend(loc=\"upper left\", fontsize=14)\n",
        "plt.axis([0, 2, 0, 15])\n",
        "plt.show()"
      ],
      "metadata": {
        "id": "Mbk7uE-3ErcL",
        "outputId": "7f8f2eeb-9b78-4988-9829-77cfa212f2af",
        "colab": {
          "base_uri": "https://localhost:8080/",
          "height": 290
        }
      },
      "execution_count": 9,
      "outputs": [
        {
          "output_type": "display_data",
          "data": {
            "image/png": "[encoded data removed]",
            "text/plain": [
              "<Figure size 432x288 with 1 Axes>"
            ]
          },
          "metadata": {
            "needs_background": "light"
          }
        }
      ]
    },
    {
      "cell_type": "markdown",
      "source": [
        "Performing Linear Regression using Scikit-Learn is simple."
      ],
      "metadata": {
        "id": "21KiVnDpE2X4"
      }
    },
    {
      "cell_type": "code",
      "source": [
        "lin_reg = LinearRegression()\n",
        "lin_reg.fit(X, y)\n",
        "lin_reg.intercept_, lin_reg.coef_"
      ],
      "metadata": {
        "id": "E5fSSAcFE7EP",
        "outputId": "ed0cd570-3a9a-4dc4-9bc1-cfed759b88d5",
        "colab": {
          "base_uri": "https://localhost:8080/"
        }
      },
      "execution_count": 10,
      "outputs": [
        {
          "output_type": "execute_result",
          "data": {
            "text/plain": [
              "(array([4.21509616]), array([[2.77011339]]))"
            ]
          },
          "metadata": {},
          "execution_count": 10
        }
      ]
    },
    {
      "cell_type": "code",
      "source": [
        "lin_reg.predict(X_new)"
      ],
      "metadata": {
        "id": "nOQsqnW-FOGY",
        "outputId": "aa371bfa-b8da-4c85-ab36-4c2f8b8864bb",
        "colab": {
          "base_uri": "https://localhost:8080/"
        }
      },
      "execution_count": 11,
      "outputs": [
        {
          "output_type": "execute_result",
          "data": {
            "text/plain": [
              "array([[4.21509616],\n",
              "       [9.75532293]])"
            ]
          },
          "metadata": {},
          "execution_count": 11
        }
      ]
    },
    {
      "cell_type": "markdown",
      "source": [
        "The LinearRegression class is based on the `scipy.linalg.lstsq()` function (the\n",
        "name stands for “least squares”), which you could call directly:"
      ],
      "metadata": {
        "id": "kRCkOJbsFaPg"
      }
    },
    {
      "cell_type": "code",
      "source": [
        "theta_best_svd, residuals, rank, s = np.linalg.lstsq(X_b, y, rcond=1e-6)\n",
        "theta_best_svd"
      ],
      "metadata": {
        "id": "7OmrI0HhFcWt",
        "outputId": "bb9e3194-8e13-4bdd-f33b-3135a97a2317",
        "colab": {
          "base_uri": "https://localhost:8080/"
        }
      },
      "execution_count": 12,
      "outputs": [
        {
          "output_type": "execute_result",
          "data": {
            "text/plain": [
              "array([[4.21509616],\n",
              "       [2.77011339]])"
            ]
          },
          "metadata": {},
          "execution_count": 12
        }
      ]
    },
    {
      "cell_type": "markdown",
      "source": [
        "This function computes $\\theta = X^+y$, where $X^+$ is the pseudoinverse of X (specifically, the Moore-Penrose inverse). \n",
        "\n",
        "You can use `np.linalg.pinv()` to compute the pseudoinverse directly:"
      ],
      "metadata": {
        "id": "P8xBtqSPF1rH"
      }
    },
    {
      "cell_type": "code",
      "source": [
        "np.linalg.pinv(X_b).dot(y)"
      ],
      "metadata": {
        "id": "rsJqUtjwGEXf",
        "outputId": "813e31a7-4135-4460-e090-72f859d9b0e2",
        "colab": {
          "base_uri": "https://localhost:8080/"
        }
      },
      "execution_count": 13,
      "outputs": [
        {
          "output_type": "execute_result",
          "data": {
            "text/plain": [
              "array([[4.21509616],\n",
              "       [2.77011339]])"
            ]
          },
          "metadata": {},
          "execution_count": 13
        }
      ]
    },
    {
      "cell_type": "markdown",
      "source": [
        "The pseudoinverse itself is computed using a standard matrix factorization technique called **Singular Value Decomposition(SVD)** that can decompose the training set matrix $X$ into the matrix multiplication of three matrices $UΣ V^⊺$. The pseudoinverse is computed as $X^+ = VΣ^+U^⊺$.\n",
        "\n",
        "This approach is more efficient than computing the Normal Equation, plus it handles edge cases nicely: indeed, the Normal Equation may not work if the matrix $X^⊺X$ is not invertible (i.e., singular), such as if $m < n$ or if some\n",
        "features are redundant, but the pseudoinverse is always defined."
      ],
      "metadata": {
        "id": "KvjWA4a5GeIu"
      }
    },
    {
      "cell_type": "markdown",
      "source": [
        "##Computational Complexity"
      ],
      "metadata": {
        "id": "Iqmav6QKHc5X"
      }
    },
    {
      "cell_type": "markdown",
      "source": [
        "The Normal Equation computes the inverse of $X^⊺X$, which is an $(n + 1) × (n + 1)$ matrix (where n is the number of features). The computational complexity of inverting such a matrix is typically about $O(n^{2.4})$ to $O(n^3)$, depending on the implementation. \n",
        "\n",
        "In other words, if you double the number of features, you multiply the computation time by roughly $2^{2.4} = 5.3$ to $2^3 = 8$.\n",
        "\n",
        "The SVD approach used by Scikit-Learn’s LinearRegression class is about $O(n^2)$. If you double the number of features, you multiply the computation time by roughly 4.\n",
        "\n",
        ">Both the Normal Equation and the SVD approach get very slow\n",
        "when the number of features grows large (e.g., 100,000). On the\n",
        "positive side, both are linear with regard to the number of instances\n",
        "in the training set (they are O(m)), so they handle large training\n",
        "sets efficiently, provided they can fit in memory.\n",
        "\n",
        "Also, once you have trained your Linear Regression model (using the Normal Equation or any other algorithm), predictions are very fast.\n",
        "\n",
        "So we need different way to train a Linear Regression model, which is\n",
        "better suited for cases where there are a large number of features or too many training instances to fit in memory.\n",
        "\n",
        "And it could be achieved by **Gradient Descent**."
      ],
      "metadata": {
        "id": "U0LZjqaCHduX"
      }
    },
    {
      "cell_type": "markdown",
      "source": [
        "##Gradient Descent"
      ],
      "metadata": {
        "id": "YSst_ZmgLrlL"
      }
    },
    {
      "cell_type": "markdown",
      "source": [
        "Gradient Descent is a generic optimization algorithm capable of finding optimal solutions\n",
        "to a wide range of problems. The general idea of Gradient Descent is to tweak\n",
        "parameters iteratively in order to minimize a cost function.\n",
        "\n",
        "And the fact that training a model means searching for a combination of model parameters that minimizes a cost function."
      ],
      "metadata": {
        "id": "Bh8OzrV7LtoN"
      }
    },
    {
      "cell_type": "markdown",
      "source": [
        "###Batch Gradient Descent"
      ],
      "metadata": {
        "id": "lrsAd-5sCkGO"
      }
    },
    {
      "cell_type": "markdown",
      "source": [
        "To implement Gradient Descent, you need to compute the gradient of the cost function\n",
        "with regard to each model parameter $\\theta_j$. In other words, you need to calculate\n",
        "how much the cost function will change if you change $\\theta_j$ just a little bit. This is called\n",
        "a partial derivative. \n",
        "\n",
        "It is like asking “What is the slope of the mountain under my feet\n",
        "if I face east?” and then asking the same question facing north (and so on for all other\n",
        "dimensions, if you can imagine a universe with more than three dimensions).\n",
        "\n",
        "We computes the partial derivative of the cost function with regard to parameter\n",
        "$\\theta_j$.\n",
        "\n",
        "$\n",
        "\\dfrac{\\partial}{\\partial \\theta_j} \\text{MSE}(\\boldsymbol{\\theta}) =\n",
        "\\dfrac{1}{m}\\sum\\limits_{i=1}^{m} \\dfrac{\\partial}{\\partial \\theta_j} (\\boldsymbol{\\theta}^T \\mathbf{x}^{(i)} - y^{(i)})^2\n",
        "$\n",
        "\n",
        "$\n",
        "\\space \\space \\space \\space \\space \\space \\space \\space \\space \\space \\space \\space \\space \\space \\space \\space \\space \\space \\space \\space =\\dfrac{2}{m}\\sum\\limits_{i=1}^{m}(\\boldsymbol{\\theta}^T \\mathbf{x}^{(i)} - y^{(i)})\\, \\dfrac{\\partial}{\\partial \\theta_j} (\\boldsymbol{\\theta}^T \\mathbf{x}^{(i)} - y^{(i)})\n",
        "$\n",
        "\n",
        "$\\space \\space \\space \\space \\space \\space \\space \\space \\space \\space \\space \\space \\space \\space \\space \\space \\space \\space \\space \\space=\\dfrac{2}{m}\\sum\\limits_{i=1}^{m}(\\boldsymbol{\\theta}^T \\mathbf{x}^{(i)} - y^{(i)})\\, \\dfrac{\\partial}{\\partial \\theta_j} (\\boldsymbol{\\theta}^T \\mathbf{x}^{(i)}) - \\dfrac{\\partial}{\\partial \\theta_j} (y^{(i)})\n",
        "$\n",
        "\n",
        "$\\space \\space \\space \\space \\space \\space \\space \\space \\space \\space \\space \\space \\space \\space \\space \\space \\space \\space \\space \\space=\\dfrac{2}{m}\\sum\\limits_{i=1}^{m}(\\boldsymbol{\\theta}^T \\mathbf{x}^{(i)} - y^{(i)})\\, x_j^{(i)}\n",
        "$\n",
        "\n",
        "Instead of computing these partial derivatives individually, you can to compute them all in one go. The gradient vector, noted $\\nabla_{\\boldsymbol{\\theta}}\\, \\text{MSE}(\\boldsymbol{\\theta})$, contains all the\n",
        "partial derivatives of the cost function (one for each model parameter).\n",
        "\n",
        "$$\n",
        "\\nabla_{\\boldsymbol{\\theta}}\\, \\text{MSE}(\\boldsymbol{\\theta}) =\n",
        "\\begin{pmatrix}\n",
        " \\frac{\\partial}{\\partial \\theta_0} \\text{MSE}(\\boldsymbol{\\theta}) \\\\\n",
        " \\frac{\\partial}{\\partial \\theta_1} \\text{MSE}(\\boldsymbol{\\theta}) \\\\\n",
        " \\vdots \\\\\n",
        " \\frac{\\partial}{\\partial \\theta_n} \\text{MSE}(\\boldsymbol{\\theta})\n",
        "\\end{pmatrix}\n",
        " = \\dfrac{2}{m} \\mathbf{X}^T (\\mathbf{X} \\boldsymbol{\\theta} - \\mathbf{y})\n",
        "$$\n",
        "\n",
        "Notice that this formula involves calculations over the full training\n",
        "set X, at each Gradient Descent step! This is why the algorithm is\n",
        "called Batch Gradient Descent: it uses the whole batch of training\n",
        "data at every step (actually, Full Gradient Descent would probably\n",
        "be a better name).\n",
        "\n",
        "As a result it is terribly slow on very large training\n",
        "sets.However, Gradient Descent scales well with the number of\n",
        "features; training a Linear Regression model when there are hundreds\n",
        "of thousands of features is much faster using Gradient\n",
        "Descent than using the Normal Equation or SVD decomposition.\n",
        "\n",
        "Once you have the gradient vector, which points uphill, just go in the opposite direction\n",
        "to go downhill. This means subtracting $\\nabla_{\\boldsymbol{\\theta}}\\, \\text{MSE}(\\boldsymbol{\\theta})$ from $\\theta$. This is where the\n",
        "learning rate $\\eta$ comes into play: multiply the gradient vector by $\\eta$ to determine the size of the downhill step.\n",
        "\n",
        "$$\n",
        "\\boldsymbol{\\theta}^{(\\text{next step})} = \\boldsymbol{\\theta}^{\\text{current step}} - \\eta \\nabla_{\\boldsymbol{\\theta}}\\, \\text{MSE}(\\boldsymbol{\\theta})\n",
        "$$\n",
        "\n",
        "Let’s look at a quick implementation of this algorithm:\n"
      ],
      "metadata": {
        "id": "zNU-z9YOCk54"
      }
    },
    {
      "cell_type": "code",
      "source": [
        "# learning rate\n",
        "eta = 0.1\n",
        "n_iterations = 1000\n",
        "m = 100\n",
        "\n",
        "# random initialization of weights\n",
        "theta = np.random.randn(2, 1)\n",
        "\n",
        "for iteration in range(n_iterations):\n",
        "  gradients = 2/m * X_b.T.dot(X_b.dot(theta) - y)\n",
        "  theta = theta - eta * gradients"
      ],
      "metadata": {
        "id": "Qhwy1OZoIgiO"
      },
      "execution_count": 14,
      "outputs": []
    },
    {
      "cell_type": "markdown",
      "source": [
        "That wasn’t too hard! Let’s look at the resulting theta:"
      ],
      "metadata": {
        "id": "3hm067TQMhQL"
      }
    },
    {
      "cell_type": "code",
      "source": [
        "theta"
      ],
      "metadata": {
        "id": "C3jZxb1DMh9F",
        "outputId": "b7f39a73-dc0f-43ec-887d-6f091876543c",
        "colab": {
          "base_uri": "https://localhost:8080/"
        }
      },
      "execution_count": 15,
      "outputs": [
        {
          "output_type": "execute_result",
          "data": {
            "text/plain": [
              "array([[4.21509616],\n",
              "       [2.77011339]])"
            ]
          },
          "metadata": {},
          "execution_count": 15
        }
      ]
    },
    {
      "cell_type": "code",
      "source": [
        "X_new_b.dot(theta)"
      ],
      "metadata": {
        "id": "bWsexeltM5Yu",
        "outputId": "553aca13-c036-450c-bb97-b746cd7b5cdc",
        "colab": {
          "base_uri": "https://localhost:8080/"
        }
      },
      "execution_count": 16,
      "outputs": [
        {
          "output_type": "execute_result",
          "data": {
            "text/plain": [
              "array([[4.21509616],\n",
              "       [9.75532293]])"
            ]
          },
          "metadata": {},
          "execution_count": 16
        }
      ]
    },
    {
      "cell_type": "markdown",
      "source": [
        "Hey, that’s exactly what the Normal Equation found! Gradient Descent worked perfectly.\n",
        "\n",
        "Gradient Descent worked perfectly.\n",
        "But what if you had used a different learning rate eta?"
      ],
      "metadata": {
        "id": "niBbKco7NHS5"
      }
    },
    {
      "cell_type": "code",
      "source": [
        "theta_path_bgd = []\n",
        "\n",
        "def plot_gradient_descent(theta, eta, theta_path=None):\n",
        "    m = len(X_b)\n",
        "    plt.plot(X, y, \"b.\")\n",
        "    n_iterations = 1000\n",
        "    for iteration in range(n_iterations):\n",
        "        if iteration < 10:\n",
        "            y_predict = X_new_b.dot(theta)\n",
        "            style = \"b-\" if iteration > 0 else \"r--\"\n",
        "            plt.plot(X_new, y_predict, style)\n",
        "        gradients = 2/m * X_b.T.dot(X_b.dot(theta) - y)\n",
        "        theta = theta - eta * gradients\n",
        "        if theta_path is not None:\n",
        "            theta_path.append(theta)\n",
        "    plt.xlabel(\"$x_1$\", fontsize=18)\n",
        "    plt.axis([0, 2, 0, 15])\n",
        "    plt.title(r\"$\\eta = {}$\".format(eta), fontsize=16)"
      ],
      "metadata": {
        "id": "DPAAXCMNNBKG"
      },
      "execution_count": 17,
      "outputs": []
    },
    {
      "cell_type": "code",
      "source": [
        "np.random.seed(42)\n",
        "theta = np.random.randn(2,1)  # random initialization\n",
        "\n",
        "plt.figure(figsize=(10,4))\n",
        "plt.subplot(131); plot_gradient_descent(theta, eta=0.02)\n",
        "plt.ylabel(\"$y$\", rotation=0, fontsize=18)\n",
        "plt.subplot(132); plot_gradient_descent(theta, eta=0.1, theta_path=theta_path_bgd)\n",
        "plt.subplot(133); plot_gradient_descent(theta, eta=0.5)\n",
        "\n",
        "plt.show()"
      ],
      "metadata": {
        "id": "DgZ3zGfxNLBJ",
        "outputId": "f96dde74-8ea1-4b40-ed13-715df603f384",
        "colab": {
          "base_uri": "https://localhost:8080/",
          "height": 310
        }
      },
      "execution_count": 18,
      "outputs": [
        {
          "output_type": "display_data",
          "data": {
            "image/png": "[encoded data removed]",
            "text/plain": [
              "<Figure size 720x288 with 3 Axes>"
            ]
          },
          "metadata": {
            "needs_background": "light"
          }
        }
      ]
    },
    {
      "cell_type": "markdown",
      "source": [
        "On the left, the learning rate is too low: the algorithm will eventually reach the solution,\n",
        "but it will take a long time. In the middle, the learning rate looks pretty good: in\n",
        "just a few iterations, it has already converged to the solution. On the right, the learning\n",
        "rate is too high: the algorithm diverges, jumping all over the place and actually\n",
        "getting further and further away from the solution at every step.\n",
        "\n",
        "To find a good learning rate, you can use grid search.However, you\n",
        "may want to limit the number of iterations so that grid search can eliminate models\n",
        "that take too long to converge.\n",
        "\n",
        "You may wonder how to set the number of iterations. If it is too low, you will still be\n",
        "far away from the optimal solution when the algorithm stops; but if it is too high, you\n",
        "will waste time while the model parameters do not change anymore.\n",
        "\n",
        "A simple solution\n",
        "is to set a very large number of iterations but to interrupt the algorithm when the\n",
        "gradient vector becomes tiny—that is, when its norm becomes smaller than a tiny\n",
        "number $ϵ$ (called the tolerance)—because this happens when Gradient Descent has\n",
        "(almost) reached the minimum.\n"
      ],
      "metadata": {
        "id": "EJWpG21oNWv3"
      }
    },
    {
      "cell_type": "markdown",
      "source": [
        "###Stochastic Gradient Descent"
      ],
      "metadata": {
        "id": "3jAmqYqnNtEP"
      }
    },
    {
      "cell_type": "markdown",
      "source": [
        "The main problem with Batch Gradient Descent is the fact that it uses the whole\n",
        "training set to compute the gradients at every step, which makes it very slow when the training set is large.\n",
        "\n",
        "At the opposite extreme, Stochastic Gradient Descent picks a\n",
        "random instance in the training set at every step and computes the gradients based only on that single instance. Obviously, working on a single instance at a time makes the algorithm much faster because it has very little data to manipulate at every iteration.\n",
        "\n",
        "On the other hand, due to its stochastic (i.e., random) nature, this algorithm is much\n",
        "less regular than Batch Gradient Descent: instead of gently decreasing until it reaches\n",
        "the minimum, the cost function will bounce up and down, decreasing only on average.\n",
        "Over time it will end up very close to the minimum, but once it gets there it will\n",
        "continue to bounce around, never settling down. So once the algorithm\n",
        "stops, the final parameter values are good, but not optimal.\n",
        "\n",
        "When the cost function is very irregular, this can actually help the\n",
        "algorithm jump out of local minima, so Stochastic Gradient Descent has a better\n",
        "chance of finding the global minimum than Batch Gradient Descent does.\n",
        "\n",
        "Therefore, randomness is good to escape from local optima, but bad because it means that the algorithm can never settle at the minimum. One solution to this dilemma is to gradually reduce the learning rate.\n",
        "\n",
        "The function that determines the learning rate at each\n",
        "iteration is called the learning schedule.\n",
        "\n",
        "Let's implements Stochastic Gradient Descent using a simple learning schedule:"
      ],
      "metadata": {
        "id": "01olr1NsNw3b"
      }
    },
    {
      "cell_type": "code",
      "source": [
        "n_epochs = 50\n",
        "t0, t1 = 5, 50                 # learning schedule hyperparameters\n",
        "theta = np.random.randn(2, 1)  # random initialization\n",
        "\n",
        "def learning_schedule(t):\n",
        "  return t0 / (t + t1)\n",
        "\n",
        "\n",
        "for epoch in range(n_epochs):   # first loop on epoch\n",
        "  for i in range(m):            # second loop on m dataset(100)\n",
        "    random_index = np.random.randint(m)\n",
        "    # slide over dataset one row at a time\n",
        "    xi = X_b[random_index: random_index + 1]\n",
        "    yi = y[random_index: random_index + 1]\n",
        "    # calculate gradient\n",
        "    gradients = 2 * xi.T.dot(xi.dot(theta) - yi)\n",
        "    eta = learning_schedule(epoch * m + 1)\n",
        "    theta = theta - eta * gradients"
      ],
      "metadata": {
        "id": "q7vTLwAzKOCp"
      },
      "execution_count": 19,
      "outputs": []
    },
    {
      "cell_type": "markdown",
      "source": [
        "By convention we iterate by rounds of m iterations; each round is called an epoch."
      ],
      "metadata": {
        "id": "O1nvmT2YM80B"
      }
    },
    {
      "cell_type": "code",
      "source": [
        "theta"
      ],
      "metadata": {
        "id": "_6d5mK47M9Th",
        "outputId": "340aad80-2ef5-4b11-fda0-7cb6592f0867",
        "colab": {
          "base_uri": "https://localhost:8080/"
        }
      },
      "execution_count": 20,
      "outputs": [
        {
          "output_type": "execute_result",
          "data": {
            "text/plain": [
              "array([[4.20725458],\n",
              "       [2.7418767 ]])"
            ]
          },
          "metadata": {},
          "execution_count": 20
        }
      ]
    },
    {
      "cell_type": "markdown",
      "source": [
        "Let's shows the first 20 steps of training (notice how irregular the steps are)."
      ],
      "metadata": {
        "id": "OK84YMdiNQy_"
      }
    },
    {
      "cell_type": "code",
      "source": [
        "np.random.seed(42)\n",
        "\n",
        "for epoch in range(n_epochs):   # first loop on epoch\n",
        "  for i in range(m):            # second loop on m dataset(100)\n",
        "    if epoch == 0 and i < 20:\n",
        "      y_pred = X_new_b.dot(theta)\n",
        "      style = \"b-\" if i > 0 else \"r--\"\n",
        "      plt.plot(X_new, y_pred, style)\n",
        "    random_index = np.random.randint(m)\n",
        "    # slide over dataset one row at a time\n",
        "    xi = X_b[random_index: random_index + 1]\n",
        "    yi = y[random_index: random_index + 1]\n",
        "    # calculate gradient\n",
        "    gradients = 2 * xi.T.dot(xi.dot(theta) - yi)\n",
        "    eta = learning_schedule(epoch * m + 1)\n",
        "    theta = theta - eta * gradients\n",
        "plt.plot(X, y, \"b.\")                                 \n",
        "plt.xlabel(\"$x_1$\", fontsize=18)                     \n",
        "plt.ylabel(\"$y$\", rotation=0, fontsize=18)           \n",
        "plt.axis([0, 2, 0, 15])                                                         \n",
        "plt.show()"
      ],
      "metadata": {
        "id": "su-n3Wu_NSYt",
        "outputId": "7879014d-d35e-40df-f66d-8072e73fa54c",
        "colab": {
          "base_uri": "https://localhost:8080/",
          "height": 290
        }
      },
      "execution_count": 23,
      "outputs": [
        {
          "output_type": "display_data",
          "data": {
            "image/png": "[encoded data removed]",
            "text/plain": [
              "<Figure size 432x288 with 1 Axes>"
            ]
          },
          "metadata": {
            "needs_background": "light"
          }
        }
      ]
    },
    {
      "cell_type": "markdown",
      "source": [
        "Note that since instances are picked randomly, some instances may be picked several\n",
        "times per epoch, while others may not be picked at all.\n",
        "\n",
        "When using Stochastic Gradient Descent, the training instances\n",
        "must be independent and identically distributed (IID) to ensure\n",
        "that the parameters get pulled toward the global optimum, on average.\n",
        "\n",
        "To perform Linear Regression using Stochastic GD with Scikit-Learn, you can use the\n",
        "SGDRegressor class, which defaults to optimizing the squared error cost function."
      ],
      "metadata": {
        "id": "vr1Cdis3Om9U"
      }
    },
    {
      "cell_type": "code",
      "source": [
        "sgd_reg = SGDRegressor(max_iter=1000, tol=1e-3, penalty=None, eta0=0.1)\n",
        "sgd_reg.fit(X, y.ravel())"
      ],
      "metadata": {
        "id": "XSSS21WuO3dE",
        "outputId": "fdf3f41e-d94a-4c91-d37d-f1d8e5a81ad1",
        "colab": {
          "base_uri": "https://localhost:8080/"
        }
      },
      "execution_count": 24,
      "outputs": [
        {
          "output_type": "execute_result",
          "data": {
            "text/plain": [
              "SGDRegressor(eta0=0.1, penalty=None)"
            ]
          },
          "metadata": {},
          "execution_count": 24
        }
      ]
    },
    {
      "cell_type": "markdown",
      "source": [
        "Once again, you find a solution quite close to the one returned by the Normal\n",
        "Equation:"
      ],
      "metadata": {
        "id": "-4ylfq3sPKyl"
      }
    },
    {
      "cell_type": "code",
      "source": [
        "sgd_reg.intercept_, sgd_reg.coef_"
      ],
      "metadata": {
        "id": "um3MKUXJPLYD",
        "outputId": "425e1f0d-0add-4555-e1f2-8eb9add8e58b",
        "colab": {
          "base_uri": "https://localhost:8080/"
        }
      },
      "execution_count": 25,
      "outputs": [
        {
          "output_type": "execute_result",
          "data": {
            "text/plain": [
              "(array([4.15989071]), array([2.73186613]))"
            ]
          },
          "metadata": {},
          "execution_count": 25
        }
      ]
    },
    {
      "cell_type": "markdown",
      "source": [
        "###Mini-batch Gradient Descent"
      ],
      "metadata": {
        "id": "wxnPmIk0PVUq"
      }
    },
    {
      "cell_type": "markdown",
      "source": [
        ""
      ],
      "metadata": {
        "id": "KlC6z8zWPWdL"
      }
    }
  ]
}