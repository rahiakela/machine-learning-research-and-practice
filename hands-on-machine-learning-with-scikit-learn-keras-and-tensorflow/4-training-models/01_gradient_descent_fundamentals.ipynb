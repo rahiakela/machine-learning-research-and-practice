{
  "nbformat": 4,
  "nbformat_minor": 0,
  "metadata": {
    "colab": {
      "name": "01-gradient-descent-fundamentals.ipynb",
      "provenance": [],
      "toc_visible": true,
      "authorship_tag": "ABX9TyNq8aUX3JAOOcYPaqOvwkiy",
      "include_colab_link": true
    },
    "kernelspec": {
      "name": "python3",
      "display_name": "Python 3"
    },
    "language_info": {
      "name": "python"
    }
  },
  "cells": [
    {
      "cell_type": "markdown",
      "metadata": {
        "id": "view-in-github",
        "colab_type": "text"
      },
      "source": [
        "<a href=\"https://colab.research.google.com/github/rahiakela/machine-learning-research-and-practice/blob/main/hands-on-machine-learning-with-scikit-learn-keras-and-tensorflow/4-training-models/01_gradient_descent_fundamentals.ipynb\" target=\"_parent\"><img src=\"https://colab.research.google.com/assets/colab-badge.svg\" alt=\"Open In Colab\"/></a>"
      ]
    },
    {
      "cell_type": "markdown",
      "source": [
        "##Gradient Descent Fundamentals"
      ],
      "metadata": {
        "id": "fllKYSar8MrB"
      }
    },
    {
      "cell_type": "markdown",
      "source": [
        "In this notebook we will start by looking at the Linear Regression model, one of the simplest models there is. We will discuss two very different ways to train it:\n",
        "\n",
        "- Using a direct “closed-form” equation that directly computes the model parameters that best fit the model to the training set (i.e., the model parameters that minimize the cost function over the training set).\n",
        "- Using an iterative optimization approach called Gradient Descent (GD) that\n",
        "gradually tweaks the model parameters to minimize the cost function over the\n",
        "training set, eventually converging to the same set of parameters as the first\n",
        "method.\n"
      ],
      "metadata": {
        "id": "4TeLsPTS859r"
      }
    },
    {
      "cell_type": "markdown",
      "source": [
        "##Setup"
      ],
      "metadata": {
        "id": "tQxy1iQg-Ye3"
      }
    },
    {
      "cell_type": "code",
      "source": [
        "# Common imports\n",
        "import numpy as np\n",
        "import os\n",
        "\n",
        "from sklearn.linear_model import LinearRegression\n",
        "from sklearn.linear_model import SGDRegressor\n",
        "\n",
        "\n",
        "# to make this notebook's output stable across runs\n",
        "np.random.seed(42)\n",
        "\n",
        "# To plot pretty figures\n",
        "%matplotlib inline\n",
        "import matplotlib as mpl\n",
        "import matplotlib.pyplot as plt\n",
        "mpl.rc('axes', labelsize=14)\n",
        "mpl.rc('xtick', labelsize=12)\n",
        "mpl.rc('ytick', labelsize=12)"
      ],
      "metadata": {
        "id": "cF2UQUZx-ZnK"
      },
      "execution_count": 26,
      "outputs": []
    },
    {
      "cell_type": "markdown",
      "source": [
        "##Normal Equation"
      ],
      "metadata": {
        "id": "NeWWG0DX-07b"
      }
    },
    {
      "cell_type": "markdown",
      "source": [
        "To find the value of $\\theta$ that minimizes the cost function, there is a closed-form solution —in other words, a mathematical equation that gives the result directly. This is called the Normal Equation.\n",
        "\n",
        "$$\\hat\\theta = (X^TX)^{-1}X^Ty $$\n",
        "\n",
        "Where:\n",
        "- $\\hat\\theta$ is the value of $\\theta$ that minimizes the cost function\n",
        "- $y$ is the vector of target values containing $y^{(i)}$ to $y^{(m)}$\n",
        "\n",
        "Let’s generate some linear-looking data(100 sample only) to test this equation."
      ],
      "metadata": {
        "id": "g0I4BxOR-9mC"
      }
    },
    {
      "cell_type": "code",
      "source": [
        "X = 2 * np.random.rand(100, 1)\n",
        "y = 4 + 3 * X + np.random.randn(100, 1)"
      ],
      "metadata": {
        "id": "k795htPL_2ed"
      },
      "execution_count": 27,
      "outputs": []
    },
    {
      "cell_type": "code",
      "source": [
        "X.shape, y.shape"
      ],
      "metadata": {
        "id": "s3Js8ysWAOv3",
        "outputId": "c315b1ae-90f2-4b41-a959-b0508ac41469",
        "colab": {
          "base_uri": "https://localhost:8080/"
        }
      },
      "execution_count": 28,
      "outputs": [
        {
          "output_type": "execute_result",
          "data": {
            "text/plain": [
              "((100, 1), (100, 1))"
            ]
          },
          "metadata": {},
          "execution_count": 28
        }
      ]
    },
    {
      "cell_type": "code",
      "source": [
        "plt.plot(X, y, \"b.\")\n",
        "plt.xlabel(\"$x_1$\", fontsize=18)\n",
        "plt.ylabel(\"$y$\", rotation=0, fontsize=18)\n",
        "plt.axis([0, 2, 0, 15])\n",
        "plt.show()"
      ],
      "metadata": {
        "id": "bi9XfjtIAYn8",
        "outputId": "c4c6bb76-7b5c-4fb8-a054-e80f5932ed63",
        "colab": {
          "base_uri": "https://localhost:8080/",
          "height": 290
        }
      },
      "execution_count": 29,
      "outputs": [
        {
          "output_type": "display_data",
          "data": {
            "image/png": "[encoded data removed]",
            "text/plain": [
              "<Figure size 432x288 with 1 Axes>"
            ]
          },
          "metadata": {
            "needs_background": "light"
          }
        }
      ]
    },
    {
      "cell_type": "markdown",
      "source": [
        "Now let’s compute $\\theta$ using the Normal Equation. We will use the `inv()` function from NumPy’s linear algebra module (`np.linalg`) to compute the inverse of a matrix, and the `dot()` method for matrix multiplication:"
      ],
      "metadata": {
        "id": "w5_QO7iHApDc"
      }
    },
    {
      "cell_type": "code",
      "source": [
        "X_b = np.c_[np.ones((100, 1)), X]  # add x0 = 1 to each instance\n",
        "theta_best = np.linalg.inv(X_b.T.dot(X_b)).dot(X_b.T).dot(y)"
      ],
      "metadata": {
        "id": "RE_LjbmsAyMJ"
      },
      "execution_count": 30,
      "outputs": []
    },
    {
      "cell_type": "markdown",
      "source": [
        "The function that we used to generate the data is $y = 4 + 3x_1$ + Gaussian noise."
      ],
      "metadata": {
        "id": "Xw_ugyWuBNpp"
      }
    },
    {
      "cell_type": "code",
      "source": [
        "theta_best"
      ],
      "metadata": {
        "id": "aCorCm_wBUpv",
        "outputId": "d52a23c2-a67e-4400-e4c8-8dc810995586",
        "colab": {
          "base_uri": "https://localhost:8080/"
        }
      },
      "execution_count": 31,
      "outputs": [
        {
          "output_type": "execute_result",
          "data": {
            "text/plain": [
              "array([[4.21509616],\n",
              "       [2.77011339]])"
            ]
          },
          "metadata": {},
          "execution_count": 31
        }
      ]
    },
    {
      "cell_type": "markdown",
      "source": [
        "We would have hoped for $\\theta_0 = 4$ and $\\theta_1 = 3$ instead of $\\theta_0 = 4.215$ and $\\theta_1 = 2.770$. Close enough, but the noise made it impossible to recover the exact parameters of the original function.\n",
        "\n",
        "Now we can make predictions using $\\hat\\theta$."
      ],
      "metadata": {
        "id": "4jQvJNZkBboN"
      }
    },
    {
      "cell_type": "code",
      "source": [
        "X_new = np.array([[0], [2]])\n",
        "X_new_b = np.c_[np.ones((2, 1)), X_new]  # add x0 = 1 to each instance\n",
        "y_pred = X_new_b.dot(theta_best)\n",
        "y_pred"
      ],
      "metadata": {
        "id": "Wmlnj8sfBwjH",
        "outputId": "f7fe4a59-8f50-4a62-b023-a9d7e1c452e1",
        "colab": {
          "base_uri": "https://localhost:8080/"
        }
      },
      "execution_count": 32,
      "outputs": [
        {
          "output_type": "execute_result",
          "data": {
            "text/plain": [
              "array([[4.21509616],\n",
              "       [9.75532293]])"
            ]
          },
          "metadata": {},
          "execution_count": 32
        }
      ]
    },
    {
      "cell_type": "markdown",
      "source": [
        "Let’s plot this model’s predictions."
      ],
      "metadata": {
        "id": "9TzCqr-4CMfD"
      }
    },
    {
      "cell_type": "code",
      "source": [
        "plt.plot(X_new, y_pred, \"r-\")\n",
        "plt.plot(X, y, \"b.\")\n",
        "plt.axis([0, 2, 0, 15])\n",
        "plt.show()"
      ],
      "metadata": {
        "id": "RRtCPkoMCL9V",
        "outputId": "4286180b-efe2-4e80-b3d6-7ec453a405a7",
        "colab": {
          "base_uri": "https://localhost:8080/",
          "height": 268
        }
      },
      "execution_count": 33,
      "outputs": [
        {
          "output_type": "display_data",
          "data": {
            "image/png": "[encoded data removed]",
            "text/plain": [
              "<Figure size 432x288 with 1 Axes>"
            ]
          },
          "metadata": {
            "needs_background": "light"
          }
        }
      ]
    },
    {
      "cell_type": "code",
      "source": [
        "plt.plot(X_new, y_pred, \"r-\", linewidth=2, label=\"Predictions\")\n",
        "plt.plot(X, y, \"b.\")\n",
        "plt.xlabel(\"$x_1$\", fontsize=18)\n",
        "plt.ylabel(\"$y$\", rotation=0, fontsize=18)\n",
        "plt.legend(loc=\"upper left\", fontsize=14)\n",
        "plt.axis([0, 2, 0, 15])\n",
        "plt.show()"
      ],
      "metadata": {
        "id": "Mbk7uE-3ErcL",
        "outputId": "360ffcd2-919f-4bdf-95d3-931256b047f7",
        "colab": {
          "base_uri": "https://localhost:8080/",
          "height": 290
        }
      },
      "execution_count": 34,
      "outputs": [
        {
          "output_type": "display_data",
          "data": {
            "image/png": "[encoded data removed]",
            "text/plain": [
              "<Figure size 432x288 with 1 Axes>"
            ]
          },
          "metadata": {
            "needs_background": "light"
          }
        }
      ]
    },
    {
      "cell_type": "markdown",
      "source": [
        "Performing Linear Regression using Scikit-Learn is simple."
      ],
      "metadata": {
        "id": "21KiVnDpE2X4"
      }
    },
    {
      "cell_type": "code",
      "source": [
        "lin_reg = LinearRegression()\n",
        "lin_reg.fit(X, y)\n",
        "lin_reg.intercept_, lin_reg.coef_"
      ],
      "metadata": {
        "id": "E5fSSAcFE7EP",
        "outputId": "95e569e2-8646-475a-c8f4-2af35cf00617",
        "colab": {
          "base_uri": "https://localhost:8080/"
        }
      },
      "execution_count": 35,
      "outputs": [
        {
          "output_type": "execute_result",
          "data": {
            "text/plain": [
              "(array([4.21509616]), array([[2.77011339]]))"
            ]
          },
          "metadata": {},
          "execution_count": 35
        }
      ]
    },
    {
      "cell_type": "code",
      "source": [
        "lin_reg.predict(X_new)"
      ],
      "metadata": {
        "id": "nOQsqnW-FOGY",
        "outputId": "6c4c8868-6fa7-433e-aa18-8c69b2a6f178",
        "colab": {
          "base_uri": "https://localhost:8080/"
        }
      },
      "execution_count": 36,
      "outputs": [
        {
          "output_type": "execute_result",
          "data": {
            "text/plain": [
              "array([[4.21509616],\n",
              "       [9.75532293]])"
            ]
          },
          "metadata": {},
          "execution_count": 36
        }
      ]
    },
    {
      "cell_type": "markdown",
      "source": [
        "The LinearRegression class is based on the `scipy.linalg.lstsq()` function (the\n",
        "name stands for “least squares”), which you could call directly:"
      ],
      "metadata": {
        "id": "kRCkOJbsFaPg"
      }
    },
    {
      "cell_type": "code",
      "source": [
        "theta_best_svd, residuals, rank, s = np.linalg.lstsq(X_b, y, rcond=1e-6)\n",
        "theta_best_svd"
      ],
      "metadata": {
        "id": "7OmrI0HhFcWt",
        "outputId": "260aa9b0-9fc7-4b6e-9e77-632092d74ae4",
        "colab": {
          "base_uri": "https://localhost:8080/"
        }
      },
      "execution_count": 37,
      "outputs": [
        {
          "output_type": "execute_result",
          "data": {
            "text/plain": [
              "array([[4.21509616],\n",
              "       [2.77011339]])"
            ]
          },
          "metadata": {},
          "execution_count": 37
        }
      ]
    },
    {
      "cell_type": "markdown",
      "source": [
        "This function computes $\\theta = X^+y$, where $X^+$ is the pseudoinverse of X (specifically, the Moore-Penrose inverse). \n",
        "\n",
        "You can use `np.linalg.pinv()` to compute the pseudoinverse directly:"
      ],
      "metadata": {
        "id": "P8xBtqSPF1rH"
      }
    },
    {
      "cell_type": "code",
      "source": [
        "np.linalg.pinv(X_b).dot(y)"
      ],
      "metadata": {
        "id": "rsJqUtjwGEXf",
        "outputId": "cc885a57-2b61-4eb6-c4c6-593436cf9d66",
        "colab": {
          "base_uri": "https://localhost:8080/"
        }
      },
      "execution_count": 38,
      "outputs": [
        {
          "output_type": "execute_result",
          "data": {
            "text/plain": [
              "array([[4.21509616],\n",
              "       [2.77011339]])"
            ]
          },
          "metadata": {},
          "execution_count": 38
        }
      ]
    },
    {
      "cell_type": "markdown",
      "source": [
        "The pseudoinverse itself is computed using a standard matrix factorization technique called **Singular Value Decomposition(SVD)** that can decompose the training set matrix $X$ into the matrix multiplication of three matrices $UΣ V^⊺$. The pseudoinverse is computed as $X^+ = VΣ^+U^⊺$.\n",
        "\n",
        "This approach is more efficient than computing the Normal Equation, plus it handles edge cases nicely: indeed, the Normal Equation may not work if the matrix $X^⊺X$ is not invertible (i.e., singular), such as if $m < n$ or if some\n",
        "features are redundant, but the pseudoinverse is always defined."
      ],
      "metadata": {
        "id": "KvjWA4a5GeIu"
      }
    },
    {
      "cell_type": "markdown",
      "source": [
        "##Computational Complexity"
      ],
      "metadata": {
        "id": "Iqmav6QKHc5X"
      }
    },
    {
      "cell_type": "markdown",
      "source": [
        "The Normal Equation computes the inverse of $X^⊺X$, which is an $(n + 1) × (n + 1)$ matrix (where n is the number of features). The computational complexity of inverting such a matrix is typically about $O(n^{2.4})$ to $O(n^3)$, depending on the implementation. \n",
        "\n",
        "In other words, if you double the number of features, you multiply the computation time by roughly $2^{2.4} = 5.3$ to $2^3 = 8$.\n",
        "\n",
        "The SVD approach used by Scikit-Learn’s LinearRegression class is about $O(n^2)$. If you double the number of features, you multiply the computation time by roughly 4.\n",
        "\n",
        ">Both the Normal Equation and the SVD approach get very slow\n",
        "when the number of features grows large (e.g., 100,000). On the\n",
        "positive side, both are linear with regard to the number of instances\n",
        "in the training set (they are O(m)), so they handle large training\n",
        "sets efficiently, provided they can fit in memory.\n",
        "\n",
        "Also, once you have trained your Linear Regression model (using the Normal Equation or any other algorithm), predictions are very fast.\n",
        "\n",
        "So we need different way to train a Linear Regression model, which is\n",
        "better suited for cases where there are a large number of features or too many training instances to fit in memory.\n",
        "\n",
        "And it could be achieved by **Gradient Descent**."
      ],
      "metadata": {
        "id": "U0LZjqaCHduX"
      }
    },
    {
      "cell_type": "markdown",
      "source": [
        "##Gradient Descent"
      ],
      "metadata": {
        "id": "YSst_ZmgLrlL"
      }
    },
    {
      "cell_type": "markdown",
      "source": [
        "Gradient Descent is a generic optimization algorithm capable of finding optimal solutions\n",
        "to a wide range of problems. The general idea of Gradient Descent is to tweak\n",
        "parameters iteratively in order to minimize a cost function.\n",
        "\n",
        "And the fact that training a model means searching for a combination of model parameters that minimizes a cost function."
      ],
      "metadata": {
        "id": "Bh8OzrV7LtoN"
      }
    },
    {
      "cell_type": "markdown",
      "source": [
        "###Batch Gradient Descent"
      ],
      "metadata": {
        "id": "lrsAd-5sCkGO"
      }
    },
    {
      "cell_type": "markdown",
      "source": [
        "To implement Gradient Descent, you need to compute the gradient of the cost function\n",
        "with regard to each model parameter $\\theta_j$. In other words, you need to calculate\n",
        "how much the cost function will change if you change $\\theta_j$ just a little bit. This is called\n",
        "a partial derivative. \n",
        "\n",
        "It is like asking “What is the slope of the mountain under my feet\n",
        "if I face east?” and then asking the same question facing north (and so on for all other\n",
        "dimensions, if you can imagine a universe with more than three dimensions).\n",
        "\n",
        "We computes the partial derivative of the cost function with regard to parameter\n",
        "$\\theta_j$.\n",
        "\n",
        "$\n",
        "\\dfrac{\\partial}{\\partial \\theta_j} \\text{MSE}(\\boldsymbol{\\theta}) =\n",
        "\\dfrac{1}{m}\\sum\\limits_{i=1}^{m} \\dfrac{\\partial}{\\partial \\theta_j} (\\boldsymbol{\\theta}^T \\mathbf{x}^{(i)} - y^{(i)})^2\n",
        "$\n",
        "\n",
        "$\n",
        "\\space \\space \\space \\space \\space \\space \\space \\space \\space \\space \\space \\space \\space \\space \\space \\space \\space \\space \\space \\space =\\dfrac{2}{m}\\sum\\limits_{i=1}^{m}(\\boldsymbol{\\theta}^T \\mathbf{x}^{(i)} - y^{(i)})\\, \\dfrac{\\partial}{\\partial \\theta_j} (\\boldsymbol{\\theta}^T \\mathbf{x}^{(i)} - y^{(i)})\n",
        "$\n",
        "\n",
        "$\\space \\space \\space \\space \\space \\space \\space \\space \\space \\space \\space \\space \\space \\space \\space \\space \\space \\space \\space \\space=\\dfrac{2}{m}\\sum\\limits_{i=1}^{m}(\\boldsymbol{\\theta}^T \\mathbf{x}^{(i)} - y^{(i)})\\, \\dfrac{\\partial}{\\partial \\theta_j} (\\boldsymbol{\\theta}^T \\mathbf{x}^{(i)}) - \\dfrac{\\partial}{\\partial \\theta_j} (y^{(i)})\n",
        "$\n",
        "\n",
        "$\\space \\space \\space \\space \\space \\space \\space \\space \\space \\space \\space \\space \\space \\space \\space \\space \\space \\space \\space \\space=\\dfrac{2}{m}\\sum\\limits_{i=1}^{m}(\\boldsymbol{\\theta}^T \\mathbf{x}^{(i)} - y^{(i)})\\, x_j^{(i)}\n",
        "$\n",
        "\n",
        "Instead of computing these partial derivatives individually, you can to compute them all in one go. The gradient vector, noted $\\nabla_{\\boldsymbol{\\theta}}\\, \\text{MSE}(\\boldsymbol{\\theta})$, contains all the\n",
        "partial derivatives of the cost function (one for each model parameter).\n",
        "\n",
        "$$\n",
        "\\nabla_{\\boldsymbol{\\theta}}\\, \\text{MSE}(\\boldsymbol{\\theta}) =\n",
        "\\begin{pmatrix}\n",
        " \\frac{\\partial}{\\partial \\theta_0} \\text{MSE}(\\boldsymbol{\\theta}) \\\\\n",
        " \\frac{\\partial}{\\partial \\theta_1} \\text{MSE}(\\boldsymbol{\\theta}) \\\\\n",
        " \\vdots \\\\\n",
        " \\frac{\\partial}{\\partial \\theta_n} \\text{MSE}(\\boldsymbol{\\theta})\n",
        "\\end{pmatrix}\n",
        " = \\dfrac{2}{m} \\mathbf{X}^T (\\mathbf{X} \\boldsymbol{\\theta} - \\mathbf{y})\n",
        "$$\n",
        "\n",
        "Notice that this formula involves calculations over the full training\n",
        "set X, at each Gradient Descent step! This is why the algorithm is\n",
        "called Batch Gradient Descent: it uses the whole batch of training\n",
        "data at every step (actually, Full Gradient Descent would probably\n",
        "be a better name).\n",
        "\n",
        "As a result it is terribly slow on very large training\n",
        "sets.However, Gradient Descent scales well with the number of\n",
        "features; training a Linear Regression model when there are hundreds\n",
        "of thousands of features is much faster using Gradient\n",
        "Descent than using the Normal Equation or SVD decomposition.\n",
        "\n",
        "Once you have the gradient vector, which points uphill, just go in the opposite direction\n",
        "to go downhill. This means subtracting $\\nabla_{\\boldsymbol{\\theta}}\\, \\text{MSE}(\\boldsymbol{\\theta})$ from $\\theta$. This is where the\n",
        "learning rate $\\eta$ comes into play: multiply the gradient vector by $\\eta$ to determine the size of the downhill step.\n",
        "\n",
        "$$\n",
        "\\boldsymbol{\\theta}^{(\\text{next step})} = \\boldsymbol{\\theta}^{\\text{current step}} - \\eta \\nabla_{\\boldsymbol{\\theta}}\\, \\text{MSE}(\\boldsymbol{\\theta})\n",
        "$$\n",
        "\n",
        "Let’s look at a quick implementation of this algorithm:\n"
      ],
      "metadata": {
        "id": "zNU-z9YOCk54"
      }
    },
    {
      "cell_type": "code",
      "source": [
        "theta_path_bgd = []\n",
        "\n",
        "# learning rate\n",
        "eta = 0.1\n",
        "n_iterations = 1000\n",
        "m = 100\n",
        "\n",
        "# random initialization of weights\n",
        "theta = np.random.randn(2, 1)\n",
        "\n",
        "for iteration in range(n_iterations):\n",
        "  gradients = 2/m * X_b.T.dot(X_b.dot(theta) - y)\n",
        "  theta = theta - eta * gradients\n",
        "  theta_path_bgd.append(theta)"
      ],
      "metadata": {
        "id": "Qhwy1OZoIgiO"
      },
      "execution_count": 39,
      "outputs": []
    },
    {
      "cell_type": "markdown",
      "source": [
        "That wasn’t too hard! Let’s look at the resulting theta:"
      ],
      "metadata": {
        "id": "3hm067TQMhQL"
      }
    },
    {
      "cell_type": "code",
      "source": [
        "theta"
      ],
      "metadata": {
        "id": "C3jZxb1DMh9F",
        "outputId": "342bf1fd-15fe-4174-8556-18d1f18366e4",
        "colab": {
          "base_uri": "https://localhost:8080/"
        }
      },
      "execution_count": 40,
      "outputs": [
        {
          "output_type": "execute_result",
          "data": {
            "text/plain": [
              "array([[4.21509616],\n",
              "       [2.77011339]])"
            ]
          },
          "metadata": {},
          "execution_count": 40
        }
      ]
    },
    {
      "cell_type": "code",
      "source": [
        "X_new_b.dot(theta)"
      ],
      "metadata": {
        "id": "bWsexeltM5Yu",
        "outputId": "a816ffbe-a151-41a2-8d10-9f178dea33f8",
        "colab": {
          "base_uri": "https://localhost:8080/"
        }
      },
      "execution_count": 41,
      "outputs": [
        {
          "output_type": "execute_result",
          "data": {
            "text/plain": [
              "array([[4.21509616],\n",
              "       [9.75532293]])"
            ]
          },
          "metadata": {},
          "execution_count": 41
        }
      ]
    },
    {
      "cell_type": "markdown",
      "source": [
        "Hey, that’s exactly what the Normal Equation found! Gradient Descent worked perfectly.\n",
        "\n",
        "Gradient Descent worked perfectly.\n",
        "But what if you had used a different learning rate eta?"
      ],
      "metadata": {
        "id": "niBbKco7NHS5"
      }
    },
    {
      "cell_type": "code",
      "source": [
        "theta_path_bgd = []\n",
        "\n",
        "def plot_gradient_descent(theta, eta, theta_path=None):\n",
        "    m = len(X_b)\n",
        "    plt.plot(X, y, \"b.\")\n",
        "    n_iterations = 1000\n",
        "    for iteration in range(n_iterations):\n",
        "        if iteration < 10:\n",
        "            y_predict = X_new_b.dot(theta)\n",
        "            style = \"b-\" if iteration > 0 else \"r--\"\n",
        "            plt.plot(X_new, y_predict, style)\n",
        "        gradients = 2/m * X_b.T.dot(X_b.dot(theta) - y)\n",
        "        theta = theta - eta * gradients\n",
        "        if theta_path is not None:\n",
        "            theta_path.append(theta)\n",
        "    plt.xlabel(\"$x_1$\", fontsize=18)\n",
        "    plt.axis([0, 2, 0, 15])\n",
        "    plt.title(r\"$\\eta = {}$\".format(eta), fontsize=16)"
      ],
      "metadata": {
        "id": "DPAAXCMNNBKG"
      },
      "execution_count": 42,
      "outputs": []
    },
    {
      "cell_type": "code",
      "source": [
        "np.random.seed(42)\n",
        "theta = np.random.randn(2,1)  # random initialization\n",
        "\n",
        "plt.figure(figsize=(10,4))\n",
        "plt.subplot(131); plot_gradient_descent(theta, eta=0.02)\n",
        "plt.ylabel(\"$y$\", rotation=0, fontsize=18)\n",
        "plt.subplot(132); plot_gradient_descent(theta, eta=0.1, theta_path=theta_path_bgd)\n",
        "plt.subplot(133); plot_gradient_descent(theta, eta=0.5)\n",
        "\n",
        "plt.show()"
      ],
      "metadata": {
        "id": "DgZ3zGfxNLBJ",
        "outputId": "f210c454-c185-465f-c288-adb59e92e494",
        "colab": {
          "base_uri": "https://localhost:8080/",
          "height": 310
        }
      },
      "execution_count": 43,
      "outputs": [
        {
          "output_type": "display_data",
          "data": {
            "image/png": "[encoded data removed]",
            "text/plain": [
              "<Figure size 720x288 with 3 Axes>"
            ]
          },
          "metadata": {
            "needs_background": "light"
          }
        }
      ]
    },
    {
      "cell_type": "markdown",
      "source": [
        "On the left, the learning rate is too low: the algorithm will eventually reach the solution,\n",
        "but it will take a long time. In the middle, the learning rate looks pretty good: in\n",
        "just a few iterations, it has already converged to the solution. On the right, the learning\n",
        "rate is too high: the algorithm diverges, jumping all over the place and actually\n",
        "getting further and further away from the solution at every step.\n",
        "\n",
        "To find a good learning rate, you can use grid search.However, you\n",
        "may want to limit the number of iterations so that grid search can eliminate models\n",
        "that take too long to converge.\n",
        "\n",
        "You may wonder how to set the number of iterations. If it is too low, you will still be\n",
        "far away from the optimal solution when the algorithm stops; but if it is too high, you\n",
        "will waste time while the model parameters do not change anymore.\n",
        "\n",
        "A simple solution\n",
        "is to set a very large number of iterations but to interrupt the algorithm when the\n",
        "gradient vector becomes tiny—that is, when its norm becomes smaller than a tiny\n",
        "number $ϵ$ (called the tolerance)—because this happens when Gradient Descent has\n",
        "(almost) reached the minimum.\n"
      ],
      "metadata": {
        "id": "EJWpG21oNWv3"
      }
    },
    {
      "cell_type": "markdown",
      "source": [
        "###Stochastic Gradient Descent"
      ],
      "metadata": {
        "id": "3jAmqYqnNtEP"
      }
    },
    {
      "cell_type": "markdown",
      "source": [
        "The main problem with Batch Gradient Descent is the fact that it uses the whole\n",
        "training set to compute the gradients at every step, which makes it very slow when the training set is large.\n",
        "\n",
        "At the opposite extreme, Stochastic Gradient Descent picks a\n",
        "random instance in the training set at every step and computes the gradients based only on that single instance. Obviously, working on a single instance at a time makes the algorithm much faster because it has very little data to manipulate at every iteration.\n",
        "\n",
        "On the other hand, due to its stochastic (i.e., random) nature, this algorithm is much\n",
        "less regular than Batch Gradient Descent: instead of gently decreasing until it reaches\n",
        "the minimum, the cost function will bounce up and down, decreasing only on average.\n",
        "Over time it will end up very close to the minimum, but once it gets there it will\n",
        "continue to bounce around, never settling down. So once the algorithm\n",
        "stops, the final parameter values are good, but not optimal.\n",
        "\n",
        "When the cost function is very irregular, this can actually help the\n",
        "algorithm jump out of local minima, so Stochastic Gradient Descent has a better\n",
        "chance of finding the global minimum than Batch Gradient Descent does.\n",
        "\n",
        "Therefore, randomness is good to escape from local optima, but bad because it means that the algorithm can never settle at the minimum. One solution to this dilemma is to gradually reduce the learning rate.\n",
        "\n",
        "The function that determines the learning rate at each\n",
        "iteration is called the learning schedule.\n",
        "\n",
        "Let's implements Stochastic Gradient Descent using a simple learning schedule:"
      ],
      "metadata": {
        "id": "01olr1NsNw3b"
      }
    },
    {
      "cell_type": "code",
      "source": [
        "theta_path_sgd = []\n",
        "\n",
        "n_epochs = 50\n",
        "t0, t1 = 5, 50                 # learning schedule hyperparameters\n",
        "theta = np.random.randn(2, 1)  # random initialization\n",
        "\n",
        "def learning_schedule(t):\n",
        "  return t0 / (t + t1)\n",
        "\n",
        "\n",
        "for epoch in range(n_epochs):   # first loop on epoch\n",
        "  for i in range(m):            # second loop on m dataset(100)\n",
        "    random_index = np.random.randint(m)\n",
        "    # slide over dataset one row at a time\n",
        "    xi = X_b[random_index: random_index + 1]\n",
        "    yi = y[random_index: random_index + 1]\n",
        "    # calculate gradient\n",
        "    gradients = 2 * xi.T.dot(xi.dot(theta) - yi)\n",
        "    eta = learning_schedule(epoch * m + 1)\n",
        "    theta = theta - eta * gradients\n",
        "    theta_path_sgd.append(theta)"
      ],
      "metadata": {
        "id": "q7vTLwAzKOCp"
      },
      "execution_count": 44,
      "outputs": []
    },
    {
      "cell_type": "markdown",
      "source": [
        "By convention we iterate by rounds of m iterations; each round is called an epoch."
      ],
      "metadata": {
        "id": "O1nvmT2YM80B"
      }
    },
    {
      "cell_type": "code",
      "source": [
        "theta"
      ],
      "metadata": {
        "id": "_6d5mK47M9Th",
        "outputId": "d986ec94-7727-4d89-e1da-8f0f7fbc1d1a",
        "colab": {
          "base_uri": "https://localhost:8080/"
        }
      },
      "execution_count": 45,
      "outputs": [
        {
          "output_type": "execute_result",
          "data": {
            "text/plain": [
              "array([[4.20725458],\n",
              "       [2.7418767 ]])"
            ]
          },
          "metadata": {},
          "execution_count": 45
        }
      ]
    },
    {
      "cell_type": "markdown",
      "source": [
        "Let's shows the first 20 steps of training (notice how irregular the steps are)."
      ],
      "metadata": {
        "id": "OK84YMdiNQy_"
      }
    },
    {
      "cell_type": "code",
      "source": [
        "np.random.seed(42)\n",
        "\n",
        "for epoch in range(n_epochs):   # first loop on epoch\n",
        "  for i in range(m):            # second loop on m dataset(100)\n",
        "    if epoch == 0 and i < 20:\n",
        "      y_pred = X_new_b.dot(theta)\n",
        "      style = \"b-\" if i > 0 else \"r--\"\n",
        "      plt.plot(X_new, y_pred, style)\n",
        "    random_index = np.random.randint(m)\n",
        "    # slide over dataset one row at a time\n",
        "    xi = X_b[random_index: random_index + 1]\n",
        "    yi = y[random_index: random_index + 1]\n",
        "    # calculate gradient\n",
        "    gradients = 2 * xi.T.dot(xi.dot(theta) - yi)\n",
        "    eta = learning_schedule(epoch * m + 1)\n",
        "    theta = theta - eta * gradients\n",
        "plt.plot(X, y, \"b.\")                                 \n",
        "plt.xlabel(\"$x_1$\", fontsize=18)                     \n",
        "plt.ylabel(\"$y$\", rotation=0, fontsize=18)           \n",
        "plt.axis([0, 2, 0, 15])                                                         \n",
        "plt.show()"
      ],
      "metadata": {
        "id": "su-n3Wu_NSYt",
        "outputId": "c5ddf6e9-815f-4ab1-dd67-b21fc3c9a491",
        "colab": {
          "base_uri": "https://localhost:8080/",
          "height": 290
        }
      },
      "execution_count": 46,
      "outputs": [
        {
          "output_type": "display_data",
          "data": {
            "image/png": "[encoded data removed]",
            "text/plain": [
              "<Figure size 432x288 with 1 Axes>"
            ]
          },
          "metadata": {
            "needs_background": "light"
          }
        }
      ]
    },
    {
      "cell_type": "markdown",
      "source": [
        "Note that since instances are picked randomly, some instances may be picked several\n",
        "times per epoch, while others may not be picked at all.\n",
        "\n",
        "When using Stochastic Gradient Descent, the training instances\n",
        "must be independent and identically distributed (IID) to ensure\n",
        "that the parameters get pulled toward the global optimum, on average.\n",
        "\n",
        "To perform Linear Regression using Stochastic GD with Scikit-Learn, you can use the\n",
        "SGDRegressor class, which defaults to optimizing the squared error cost function."
      ],
      "metadata": {
        "id": "vr1Cdis3Om9U"
      }
    },
    {
      "cell_type": "code",
      "source": [
        "sgd_reg = SGDRegressor(max_iter=1000, tol=1e-3, penalty=None, eta0=0.1)\n",
        "sgd_reg.fit(X, y.ravel())"
      ],
      "metadata": {
        "id": "XSSS21WuO3dE",
        "outputId": "bce6f2e0-157a-4c18-e5ac-9d6c27ac8a2f",
        "colab": {
          "base_uri": "https://localhost:8080/"
        }
      },
      "execution_count": 47,
      "outputs": [
        {
          "output_type": "execute_result",
          "data": {
            "text/plain": [
              "SGDRegressor(eta0=0.1, penalty=None)"
            ]
          },
          "metadata": {},
          "execution_count": 47
        }
      ]
    },
    {
      "cell_type": "markdown",
      "source": [
        "Once again, you find a solution quite close to the one returned by the Normal\n",
        "Equation:"
      ],
      "metadata": {
        "id": "-4ylfq3sPKyl"
      }
    },
    {
      "cell_type": "code",
      "source": [
        "sgd_reg.intercept_, sgd_reg.coef_"
      ],
      "metadata": {
        "id": "um3MKUXJPLYD",
        "outputId": "8ac28934-c677-4f0e-f248-718b47712e85",
        "colab": {
          "base_uri": "https://localhost:8080/"
        }
      },
      "execution_count": 48,
      "outputs": [
        {
          "output_type": "execute_result",
          "data": {
            "text/plain": [
              "(array([4.15989071]), array([2.73186613]))"
            ]
          },
          "metadata": {},
          "execution_count": 48
        }
      ]
    },
    {
      "cell_type": "markdown",
      "source": [
        "###Mini-batch Gradient Descent"
      ],
      "metadata": {
        "id": "wxnPmIk0PVUq"
      }
    },
    {
      "cell_type": "markdown",
      "source": [
        "Instead of computing the gradients based on the full training set\n",
        "(as in Batch GD) or based on just one instance (as in Stochastic GD), Mini-batch GD computes the gradients on small random sets of instances called mini-batches. \n",
        "\n",
        "The main advantage of Mini-batch GD over Stochastic GD is that you can get a performance\n",
        "boost from hardware optimization of matrix operations, especially when using\n",
        "GPUs.\n"
      ],
      "metadata": {
        "id": "KlC6z8zWPWdL"
      }
    },
    {
      "cell_type": "code",
      "source": [
        "np.random.seed(42)\n",
        "\n",
        "theta_path_mgd = []\n",
        "n_epochs = 50\n",
        "minibatch_size = 20\n",
        "\n",
        "t0, t1 = 200, 1000             # learning schedule hyperparameters\n",
        "theta = np.random.randn(2, 1)  # random initialization\n",
        "\n",
        "def learning_schedule(t):\n",
        "  return t0 / (t + t1)\n",
        "\n",
        "t = 0\n",
        "for epoch in range(n_epochs):   # first loop on epoch\n",
        "  # shuffle the batch\n",
        "  shuffled_indices = np.random.permutation(m)\n",
        "  X_b_shuffled = X_b[shuffled_indices]\n",
        "  y_shuffled = y[shuffled_indices]\n",
        "  for i in range(0, m, minibatch_size):            # second loop on m dataset as per minibatch_size(20)\n",
        "    t += 1\n",
        "    random_index = np.random.randint(m)\n",
        "    # slide over dataset based on minibatch size\n",
        "    xi = X_b_shuffled[i: i + minibatch_size]\n",
        "    yi = y_shuffled[i: i + minibatch_size]\n",
        "    # calculate gradient\n",
        "    gradients = 2 / minibatch_size * xi.T.dot(xi.dot(theta) - yi)\n",
        "    eta = learning_schedule(t)\n",
        "    theta = theta - eta * gradients\n",
        "    theta_path_mgd.append(theta)"
      ],
      "metadata": {
        "id": "rcLXkEdHthY-"
      },
      "execution_count": 49,
      "outputs": []
    },
    {
      "cell_type": "code",
      "source": [
        "theta"
      ],
      "metadata": {
        "id": "_co1vHX4v_HV",
        "outputId": "4d622360-6513-4f76-ca82-7307fefb2ee4",
        "colab": {
          "base_uri": "https://localhost:8080/"
        }
      },
      "execution_count": 50,
      "outputs": [
        {
          "output_type": "execute_result",
          "data": {
            "text/plain": [
              "array([[4.20712935],\n",
              "       [2.78497579]])"
            ]
          },
          "metadata": {},
          "execution_count": 50
        }
      ]
    },
    {
      "cell_type": "markdown",
      "source": [
        "Now, let's take a look on all these gradient-based method."
      ],
      "metadata": {
        "id": "TkBm9lXLwwnA"
      }
    },
    {
      "cell_type": "code",
      "source": [
        "theta_path_bgd = np.array(theta_path_bgd)\n",
        "theta_path_sgd = np.array(theta_path_sgd)\n",
        "theta_path_mgd = np.array(theta_path_mgd)"
      ],
      "metadata": {
        "id": "f3i6ymKYw3Tg"
      },
      "execution_count": 51,
      "outputs": []
    },
    {
      "cell_type": "code",
      "source": [
        "plt.figure(figsize=(7,4))\n",
        "plt.plot(theta_path_sgd[:, 0], theta_path_sgd[:, 1], \"r-s\", linewidth=1, label=\"Stochastic\")\n",
        "plt.plot(theta_path_mgd[:, 0], theta_path_mgd[:, 1], \"g-+\", linewidth=2, label=\"Mini-batch\")\n",
        "plt.plot(theta_path_bgd[:, 0], theta_path_bgd[:, 1], \"b-o\", linewidth=3, label=\"Batch\")\n",
        "plt.legend(loc=\"upper left\", fontsize=16)\n",
        "plt.xlabel(r\"$\\theta_0$\", fontsize=20)\n",
        "plt.ylabel(r\"$\\theta_1$   \", fontsize=20, rotation=0)\n",
        "plt.axis([2.5, 4.5, 2.3, 3.9])\n",
        "plt.show()"
      ],
      "metadata": {
        "id": "LFzto7lPw708",
        "outputId": "3bf870ac-c1f1-4a00-bdf8-1e0f5939c645",
        "colab": {
          "base_uri": "https://localhost:8080/",
          "height": 295
        }
      },
      "execution_count": 52,
      "outputs": [
        {
          "output_type": "display_data",
          "data": {
            "image/png": "[encoded data removed]",
            "text/plain": [
              "<Figure size 504x288 with 1 Axes>"
            ]
          },
          "metadata": {
            "needs_background": "light"
          }
        }
      ]
    },
    {
      "cell_type": "markdown",
      "source": [
        "They all end up near the minimum, but Batch GD’s path actually stops at the minimum, while both Stochastic\n",
        "GD and Mini-batch GD continue to walk around. \n",
        "\n",
        "However, don’t forget that Batch\n",
        "GD takes a lot of time to take each step, and Stochastic GD and Mini-batch GD\n",
        "would also reach the minimum if you used a good learning schedule.\n",
        "\n",
        "**While the Normal Equation can only perform Linear Regression, the Gradient Descent algorithms can be used to train many other models.**"
      ],
      "metadata": {
        "id": "yfA4UIQoxE3M"
      }
    }
  ]
}