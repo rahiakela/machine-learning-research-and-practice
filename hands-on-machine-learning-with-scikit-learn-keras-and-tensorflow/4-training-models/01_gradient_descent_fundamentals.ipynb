{
  "nbformat": 4,
  "nbformat_minor": 0,
  "metadata": {
    "colab": {
      "name": "01-gradient-descent-fundamentals.ipynb",
      "provenance": [],
      "toc_visible": true,
      "authorship_tag": "ABX9TyMYvYDgW1fGR6f+s/7Sb1R8",
      "include_colab_link": true
    },
    "kernelspec": {
      "name": "python3",
      "display_name": "Python 3"
    },
    "language_info": {
      "name": "python"
    }
  },
  "cells": [
    {
      "cell_type": "markdown",
      "metadata": {
        "id": "view-in-github",
        "colab_type": "text"
      },
      "source": [
        "<a href=\"https://colab.research.google.com/github/rahiakela/machine-learning-research-and-practice/blob/main/hands-on-machine-learning-with-scikit-learn-keras-and-tensorflow/4-training-models/01_gradient_descent_fundamentals.ipynb\" target=\"_parent\"><img src=\"https://colab.research.google.com/assets/colab-badge.svg\" alt=\"Open In Colab\"/></a>"
      ]
    },
    {
      "cell_type": "markdown",
      "source": [
        "##Gradient Descent Fundamentals"
      ],
      "metadata": {
        "id": "fllKYSar8MrB"
      }
    },
    {
      "cell_type": "markdown",
      "source": [
        "In this notebook we will start by looking at the Linear Regression model, one of the simplest models there is. We will discuss two very different ways to train it:\n",
        "\n",
        "- Using a direct “closed-form” equation that directly computes the model parameters that best fit the model to the training set (i.e., the model parameters that minimize the cost function over the training set).\n",
        "- Using an iterative optimization approach called Gradient Descent (GD) that\n",
        "gradually tweaks the model parameters to minimize the cost function over the\n",
        "training set, eventually converging to the same set of parameters as the first\n",
        "method.\n"
      ],
      "metadata": {
        "id": "4TeLsPTS859r"
      }
    },
    {
      "cell_type": "markdown",
      "source": [
        "##Setup"
      ],
      "metadata": {
        "id": "tQxy1iQg-Ye3"
      }
    },
    {
      "cell_type": "code",
      "source": [
        "# Common imports\n",
        "import numpy as np\n",
        "import os\n",
        "\n",
        "from sklearn.linear_model import LinearRegression\n",
        "from sklearn.linear_model import SGDRegressor\n",
        "\n",
        "\n",
        "# to make this notebook's output stable across runs\n",
        "np.random.seed(42)\n",
        "\n",
        "# To plot pretty figures\n",
        "%matplotlib inline\n",
        "import matplotlib as mpl\n",
        "import matplotlib.pyplot as plt\n",
        "mpl.rc('axes', labelsize=14)\n",
        "mpl.rc('xtick', labelsize=12)\n",
        "mpl.rc('ytick', labelsize=12)"
      ],
      "metadata": {
        "id": "cF2UQUZx-ZnK"
      },
      "execution_count": 1,
      "outputs": []
    },
    {
      "cell_type": "markdown",
      "source": [
        "##Normal Equation"
      ],
      "metadata": {
        "id": "NeWWG0DX-07b"
      }
    },
    {
      "cell_type": "markdown",
      "source": [
        "To find the value of $\\theta$ that minimizes the cost function, there is a closed-form solution —in other words, a mathematical equation that gives the result directly. This is called the Normal Equation.\n",
        "\n",
        "$$\\hat\\theta = (X^TX)^{-1}X^Ty $$\n",
        "\n",
        "Where:\n",
        "- $\\hat\\theta$ is the value of $\\theta$ that minimizes the cost function\n",
        "- $y$ is the vector of target values containing $y^{(i)}$ to $y^{(m)}$\n",
        "\n",
        "Let’s generate some linear-looking data(100 sample only) to test this equation."
      ],
      "metadata": {
        "id": "g0I4BxOR-9mC"
      }
    },
    {
      "cell_type": "code",
      "source": [
        "X = 2 * np.random.rand(100, 1)\n",
        "y = 4 + 3 * X + np.random.randn(100, 1)"
      ],
      "metadata": {
        "id": "k795htPL_2ed"
      },
      "execution_count": 2,
      "outputs": []
    },
    {
      "cell_type": "code",
      "source": [
        "X.shape, y.shape"
      ],
      "metadata": {
        "id": "s3Js8ysWAOv3",
        "outputId": "4918faf8-948f-443a-95d0-ac03d57e4720",
        "colab": {
          "base_uri": "https://localhost:8080/"
        }
      },
      "execution_count": 4,
      "outputs": [
        {
          "output_type": "execute_result",
          "data": {
            "text/plain": [
              "((100, 1), (100, 1))"
            ]
          },
          "metadata": {},
          "execution_count": 4
        }
      ]
    },
    {
      "cell_type": "code",
      "source": [
        "plt.plot(X, y, \"b.\")\n",
        "plt.xlabel(\"$x_1$\", fontsize=18)\n",
        "plt.ylabel(\"$y$\", rotation=0, fontsize=18)\n",
        "plt.axis([0, 2, 0, 15])\n",
        "plt.show()"
      ],
      "metadata": {
        "id": "bi9XfjtIAYn8",
        "outputId": "2d7c6d8e-b514-4d23-c3bd-8cbc2cc2cf5f",
        "colab": {
          "base_uri": "https://localhost:8080/",
          "height": 290
        }
      },
      "execution_count": 5,
      "outputs": [
        {
          "output_type": "display_data",
          "data": {
            "image/png": "[encoded data removed]",
            "text/plain": [
              "<Figure size 432x288 with 1 Axes>"
            ]
          },
          "metadata": {
            "needs_background": "light"
          }
        }
      ]
    },
    {
      "cell_type": "markdown",
      "source": [
        "Now let’s compute $\\theta$ using the Normal Equation. We will use the `inv()` function from NumPy’s linear algebra module (`np.linalg`) to compute the inverse of a matrix, and the `dot()` method for matrix multiplication:"
      ],
      "metadata": {
        "id": "w5_QO7iHApDc"
      }
    },
    {
      "cell_type": "code",
      "source": [
        "X_b = np.c_[np.ones((100, 1)), X]  # add x0 = 1 to each instance\n",
        "theta_best = np.linalg.inv(X_b.T.dot(X_b)).dot(X_b.T).dot(y)"
      ],
      "metadata": {
        "id": "RE_LjbmsAyMJ"
      },
      "execution_count": 6,
      "outputs": []
    },
    {
      "cell_type": "markdown",
      "source": [
        "The function that we used to generate the data is $y = 4 + 3x_1$ + Gaussian noise."
      ],
      "metadata": {
        "id": "Xw_ugyWuBNpp"
      }
    },
    {
      "cell_type": "code",
      "source": [
        "theta_best"
      ],
      "metadata": {
        "id": "aCorCm_wBUpv",
        "outputId": "e4db328d-268c-4c1a-f3cf-cae8ad9920c7",
        "colab": {
          "base_uri": "https://localhost:8080/"
        }
      },
      "execution_count": 7,
      "outputs": [
        {
          "output_type": "execute_result",
          "data": {
            "text/plain": [
              "array([[4.21509616],\n",
              "       [2.77011339]])"
            ]
          },
          "metadata": {},
          "execution_count": 7
        }
      ]
    },
    {
      "cell_type": "markdown",
      "source": [
        "We would have hoped for $\\theta_0 = 4$ and $\\theta_1 = 3$ instead of $\\theta_0 = 4.215$ and $\\theta_1 = 2.770$. Close enough, but the noise made it impossible to recover the exact parameters of the original function.\n",
        "\n",
        "Now we can make predictions using $\\hat\\theta$."
      ],
      "metadata": {
        "id": "4jQvJNZkBboN"
      }
    },
    {
      "cell_type": "code",
      "source": [
        "X_new = np.array([[0], [2]])\n",
        "X_new_b = np.c_[np.ones((2, 1)), X_new]  # add x0 = 1 to each instance\n",
        "y_pred = X_new_b.dot(theta_best)\n",
        "y_pred"
      ],
      "metadata": {
        "id": "Wmlnj8sfBwjH",
        "outputId": "b8097ed0-1e66-4fac-b021-a75eb5249230",
        "colab": {
          "base_uri": "https://localhost:8080/"
        }
      },
      "execution_count": 8,
      "outputs": [
        {
          "output_type": "execute_result",
          "data": {
            "text/plain": [
              "array([[4.21509616],\n",
              "       [9.75532293]])"
            ]
          },
          "metadata": {},
          "execution_count": 8
        }
      ]
    },
    {
      "cell_type": "markdown",
      "source": [
        "Let’s plot this model’s predictions."
      ],
      "metadata": {
        "id": "9TzCqr-4CMfD"
      }
    },
    {
      "cell_type": "code",
      "source": [
        "plt.plot(X_new, y_pred, \"r-\")\n",
        "plt.plot(X, y, \"b.\")\n",
        "plt.axis([0, 2, 0, 15])\n",
        "plt.show()"
      ],
      "metadata": {
        "id": "RRtCPkoMCL9V",
        "outputId": "bce9afea-5f0c-41c7-a7cd-36d80a5229f2",
        "colab": {
          "base_uri": "https://localhost:8080/",
          "height": 268
        }
      },
      "execution_count": 10,
      "outputs": [
        {
          "output_type": "display_data",
          "data": {
            "image/png": "[encoded data removed]",
            "text/plain": [
              "<Figure size 432x288 with 1 Axes>"
            ]
          },
          "metadata": {
            "needs_background": "light"
          }
        }
      ]
    },
    {
      "cell_type": "code",
      "source": [
        "plt.plot(X_new, y_pred, \"r-\", linewidth=2, label=\"Predictions\")\n",
        "plt.plot(X, y, \"b.\")\n",
        "plt.xlabel(\"$x_1$\", fontsize=18)\n",
        "plt.ylabel(\"$y$\", rotation=0, fontsize=18)\n",
        "plt.legend(loc=\"upper left\", fontsize=14)\n",
        "plt.axis([0, 2, 0, 15])\n",
        "plt.show()"
      ],
      "metadata": {
        "id": "Mbk7uE-3ErcL",
        "outputId": "cc4d2ff0-dfa7-4900-85f2-3db9d6d51d74",
        "colab": {
          "base_uri": "https://localhost:8080/",
          "height": 290
        }
      },
      "execution_count": 11,
      "outputs": [
        {
          "output_type": "display_data",
          "data": {
            "image/png": "[encoded data removed]",
            "text/plain": [
              "<Figure size 432x288 with 1 Axes>"
            ]
          },
          "metadata": {
            "needs_background": "light"
          }
        }
      ]
    },
    {
      "cell_type": "markdown",
      "source": [
        "Performing Linear Regression using Scikit-Learn is simple."
      ],
      "metadata": {
        "id": "21KiVnDpE2X4"
      }
    },
    {
      "cell_type": "code",
      "source": [
        "lin_reg = LinearRegression()\n",
        "lin_reg.fit(X, y)\n",
        "lin_reg.intercept_, lin_reg.coef_"
      ],
      "metadata": {
        "id": "E5fSSAcFE7EP",
        "outputId": "1c9fb264-d8e2-4b1d-d8f0-4c1e4be7739a",
        "colab": {
          "base_uri": "https://localhost:8080/"
        }
      },
      "execution_count": 12,
      "outputs": [
        {
          "output_type": "execute_result",
          "data": {
            "text/plain": [
              "(array([4.21509616]), array([[2.77011339]]))"
            ]
          },
          "metadata": {},
          "execution_count": 12
        }
      ]
    },
    {
      "cell_type": "code",
      "source": [
        "lin_reg.predict(X_new)"
      ],
      "metadata": {
        "id": "nOQsqnW-FOGY",
        "outputId": "7a1301a4-8365-4477-81ba-bb60979c768b",
        "colab": {
          "base_uri": "https://localhost:8080/"
        }
      },
      "execution_count": 13,
      "outputs": [
        {
          "output_type": "execute_result",
          "data": {
            "text/plain": [
              "array([[4.21509616],\n",
              "       [9.75532293]])"
            ]
          },
          "metadata": {},
          "execution_count": 13
        }
      ]
    },
    {
      "cell_type": "markdown",
      "source": [
        "The LinearRegression class is based on the `scipy.linalg.lstsq()` function (the\n",
        "name stands for “least squares”), which you could call directly:"
      ],
      "metadata": {
        "id": "kRCkOJbsFaPg"
      }
    },
    {
      "cell_type": "code",
      "source": [
        "theta_best_svd, residuals, rank, s = np.linalg.lstsq(X_b, y, rcond=1e-6)\n",
        "theta_best_svd"
      ],
      "metadata": {
        "id": "7OmrI0HhFcWt",
        "outputId": "e542bcb9-ae99-4936-e3c1-213ea377b566",
        "colab": {
          "base_uri": "https://localhost:8080/"
        }
      },
      "execution_count": 14,
      "outputs": [
        {
          "output_type": "execute_result",
          "data": {
            "text/plain": [
              "array([[4.21509616],\n",
              "       [2.77011339]])"
            ]
          },
          "metadata": {},
          "execution_count": 14
        }
      ]
    },
    {
      "cell_type": "markdown",
      "source": [
        "This function computes $\\theta = X^+y$, where $X^+$ is the pseudoinverse of X (specifically, the Moore-Penrose inverse). \n",
        "\n",
        "You can use `np.linalg.pinv()` to compute the pseudoinverse directly:"
      ],
      "metadata": {
        "id": "P8xBtqSPF1rH"
      }
    },
    {
      "cell_type": "code",
      "source": [
        "np.linalg.pinv(X_b).dot(y)"
      ],
      "metadata": {
        "id": "rsJqUtjwGEXf",
        "outputId": "cd45f94e-ebba-47c4-d453-0b0a61e07b61",
        "colab": {
          "base_uri": "https://localhost:8080/"
        }
      },
      "execution_count": 15,
      "outputs": [
        {
          "output_type": "execute_result",
          "data": {
            "text/plain": [
              "array([[4.21509616],\n",
              "       [2.77011339]])"
            ]
          },
          "metadata": {},
          "execution_count": 15
        }
      ]
    },
    {
      "cell_type": "markdown",
      "source": [
        "The pseudoinverse itself is computed using a standard matrix factorization technique called **Singular Value Decomposition(SVD)** that can decompose the training set matrix $X$ into the matrix multiplication of three matrices $UΣ V^⊺$. The pseudoinverse is computed as $X^+ = VΣ^+U^⊺$.\n",
        "\n",
        "This approach is more efficient than computing the Normal Equation, plus it handles edge cases nicely: indeed, the Normal Equation may not work if the matrix $X^⊺X$ is not invertible (i.e., singular), such as if $m < n$ or if some\n",
        "features are redundant, but the pseudoinverse is always defined."
      ],
      "metadata": {
        "id": "KvjWA4a5GeIu"
      }
    },
    {
      "cell_type": "markdown",
      "source": [
        "##Computational Complexity"
      ],
      "metadata": {
        "id": "Iqmav6QKHc5X"
      }
    },
    {
      "cell_type": "markdown",
      "source": [
        "The Normal Equation computes the inverse of $X^⊺X$, which is an $(n + 1) × (n + 1)$ matrix (where n is the number of features). The computational complexity of inverting such a matrix is typically about $O(n^{2.4})$ to $O(n^3)$, depending on the implementation. \n",
        "\n",
        "In other words, if you double the number of features, you multiply the computation time by roughly $2^{2.4} = 5.3$ to $2^3 = 8$.\n",
        "\n",
        "The SVD approach used by Scikit-Learn’s LinearRegression class is about $O(n^2)$. If you double the number of features, you multiply the computation time by roughly 4.\n",
        "\n",
        ">Both the Normal Equation and the SVD approach get very slow\n",
        "when the number of features grows large (e.g., 100,000). On the\n",
        "positive side, both are linear with regard to the number of instances\n",
        "in the training set (they are O(m)), so they handle large training\n",
        "sets efficiently, provided they can fit in memory.\n",
        "\n",
        "Also, once you have trained your Linear Regression model (using the Normal Equation or any other algorithm), predictions are very fast.\n",
        "\n",
        "So we need different way to train a Linear Regression model, which is\n",
        "better suited for cases where there are a large number of features or too many training instances to fit in memory.\n",
        "\n",
        "And it could be achieved by **Gradient Descent**."
      ],
      "metadata": {
        "id": "U0LZjqaCHduX"
      }
    },
    {
      "cell_type": "markdown",
      "source": [
        "##Gradient Descent"
      ],
      "metadata": {
        "id": "YSst_ZmgLrlL"
      }
    },
    {
      "cell_type": "markdown",
      "source": [
        ""
      ],
      "metadata": {
        "id": "Bh8OzrV7LtoN"
      }
    }
  ]
}