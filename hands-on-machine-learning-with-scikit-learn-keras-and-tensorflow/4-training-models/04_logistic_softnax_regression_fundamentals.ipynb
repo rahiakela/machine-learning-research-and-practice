{
  "nbformat": 4,
  "nbformat_minor": 0,
  "metadata": {
    "colab": {
      "name": "04-logistic-softnax-regression-fundamentals.ipynb",
      "provenance": [],
      "toc_visible": true,
      "authorship_tag": "ABX9TyOhKaYFoPHTJmhZfPcEcYoJ",
      "include_colab_link": true
    },
    "kernelspec": {
      "name": "python3",
      "display_name": "Python 3"
    },
    "language_info": {
      "name": "python"
    }
  },
  "cells": [
    {
      "cell_type": "markdown",
      "metadata": {
        "id": "view-in-github",
        "colab_type": "text"
      },
      "source": [
        "<a href=\"https://colab.research.google.com/github/rahiakela/machine-learning-research-and-practice/blob/main/hands-on-machine-learning-with-scikit-learn-keras-and-tensorflow/4-training-models/04_logistic_softnax_regression_fundamentals.ipynb\" target=\"_parent\"><img src=\"https://colab.research.google.com/assets/colab-badge.svg\" alt=\"Open In Colab\"/></a>"
      ]
    },
    {
      "cell_type": "markdown",
      "source": [
        "##Logistic/Softnax Regression Fundamentals"
      ],
      "metadata": {
        "id": "yeF9CgMZOeRG"
      }
    },
    {
      "cell_type": "markdown",
      "source": [
        "Logistic Regression (also called Logit Regression) is commonly\n",
        "used to estimate the probability that an instance belongs to a particular class (e.g.,\n",
        "what is the probability that this email is spam?). \n",
        "\n",
        "If the estimated probability is greater\n",
        "than 50%, then the model predicts that the instance belongs to that class (called the\n",
        "positive class, labeled “1”), and otherwise it predicts that it does not (i.e., it belongs to\n",
        "the negative class, labeled “0”). \n",
        "\n",
        "This makes it a binary classifier."
      ],
      "metadata": {
        "id": "B62mI_g9PMdq"
      }
    },
    {
      "cell_type": "markdown",
      "source": [
        "##Setup"
      ],
      "metadata": {
        "id": "SL-VpDaHPd43"
      }
    },
    {
      "cell_type": "code",
      "source": [
        "# Common imports\n",
        "import numpy as np\n",
        "import numpy.random as rnd\n",
        "import os\n",
        "\n",
        "from sklearn.linear_model import LinearRegression\n",
        "from sklearn.linear_model import Ridge\n",
        "from sklearn.linear_model import Lasso\n",
        "from sklearn.linear_model import SGDRegressor\n",
        "from sklearn.linear_model import ElasticNet\n",
        "from sklearn.preprocessing import PolynomialFeatures\n",
        "from sklearn.preprocessing import StandardScaler\n",
        "from sklearn.pipeline import Pipeline\n",
        "from sklearn.base import clone\n",
        "from sklearn.metrics import mean_squared_error\n",
        "from sklearn.model_selection import train_test_split\n",
        "\n",
        "\n",
        "# to make this notebook's output stable across runs\n",
        "np.random.seed(42)\n",
        "\n",
        "# To plot pretty figures\n",
        "%matplotlib inline\n",
        "import matplotlib as mpl\n",
        "import matplotlib.pyplot as plt\n",
        "mpl.rc('axes', labelsize=14)\n",
        "mpl.rc('xtick', labelsize=12)\n",
        "mpl.rc('ytick', labelsize=12)"
      ],
      "metadata": {
        "id": "IkoWXeCkPf9r"
      },
      "execution_count": null,
      "outputs": []
    },
    {
      "cell_type": "code",
      "source": [
        "np.random.seed(42)\n",
        "m = 20\n",
        "X = 3 * np.random.rand(m, 1)\n",
        "y = 1 + 0.5 * X + np.random.randn(m, 1) / 1.5\n",
        "X_new = np.linspace(0, 3, 100).reshape(100, 1)"
      ],
      "metadata": {
        "id": "YWmiXs8lPykg"
      },
      "execution_count": null,
      "outputs": []
    },
    {
      "cell_type": "markdown",
      "source": [
        "##Estimating Probabilities"
      ],
      "metadata": {
        "id": "sP7r388kPgYg"
      }
    },
    {
      "cell_type": "markdown",
      "source": [
        "Just like a Linear Regression model, a Logistic\n",
        "Regression model computes a weighted sum of the input features (plus a bias term),\n",
        "but instead of outputting the result directly like the Linear Regression model does, it\n",
        "outputs the logistic of this result\n",
        "\n",
        "$\n",
        "\\hat{p} = h_{\\boldsymbol{\\theta}}(\\mathbf{x}) = \\sigma(\\boldsymbol{\\theta}^T \\mathbf{x})\n",
        "$\n",
        "\n",
        "The logistic—noted $\\sigma(·)$—is a sigmoid function (i.e., S-shaped) that outputs a number\n",
        "between 0 and 1.\n",
        "\n",
        "$\n",
        "\\sigma(t) = \\dfrac{1}{1 + \\exp(-t)}\n",
        "$"
      ],
      "metadata": {
        "id": "SBD-X4MRPhP0"
      }
    },
    {
      "cell_type": "code",
      "source": [
        "t = np.linspace(-10, 10, 100)\n",
        "sig = 1 / (1 + np.exp(-t))\n",
        "plt.figure(figsize=(9, 3))\n",
        "plt.plot([-10, 10], [0, 0], \"k-\")\n",
        "plt.plot([-10, 10], [0.5, 0.5], \"k:\")\n",
        "plt.plot([-10, 10], [1, 1], \"k:\")\n",
        "plt.plot([0, 0], [-1.1, 1.1], \"k-\")\n",
        "plt.plot(t, sig, \"b-\", linewidth=2, label=r\"$\\sigma(t) = \\frac{1}{1 + e^{-t}}$\")\n",
        "plt.xlabel(\"t\")\n",
        "plt.legend(loc=\"upper left\", fontsize=20)\n",
        "plt.axis([-10, 10, -0.1, 1.1])\n",
        "\n",
        "plt.show()"
      ],
      "metadata": {
        "id": "px8Ldh52T2vr",
        "outputId": "838e0b59-d013-4581-f340-88e32c025e5d",
        "colab": {
          "base_uri": "https://localhost:8080/",
          "height": 232
        }
      },
      "execution_count": null,
      "outputs": [
        {
          "output_type": "display_data",
          "data": {
            "image/png": "[encoded data removed]",
            "text/plain": [
              "<Figure size 648x216 with 1 Axes>"
            ]
          },
          "metadata": {
            "needs_background": "light"
          }
        }
      ]
    },
    {
      "cell_type": "markdown",
      "source": [
        "Once the Logistic Regression model has estimated the probability $\\hat p = h_\\theta(x)$ that an\n",
        "instance $x$ belongs to the positive class, it can make its prediction $\\hat y$ easily.\n",
        "\n",
        "$\n",
        "\\hat{y} =\n",
        "\\begin{cases}\n",
        "  0 & \\text{if } \\hat{p} < 0.5, \\\\\n",
        "  1 & \\text{if } \\hat{p} \\geq 0.5.\n",
        "\\end{cases}\n",
        "$\n",
        "\n",
        "Notice that $\\sigma(t) < 0.5$ when $t < 0$, and $\\sigma(t) ≥ 0.5$ when $t ≥ 0$, so a Logistic Regression\n",
        "model predicts 1 if $x^⊺ \\theta$ is positive and $0$ if it is negative.\n",
        "\n",
        "The score $t$ is often called the logit. The name comes from the fact\n",
        "that the logit function, defined as $logit(p) = log(\\frac{p}{1 – p})$, is the\n",
        "inverse of the logistic function. \n",
        "\n",
        "Indeed, if you compute the logit of\n",
        "the estimated probability $p$, you will find that the result is $t$. The\n",
        "logit is also called the `log-odds`, since it is the log of the ratio\n",
        "between the estimated probability for the positive class and the\n",
        "estimated probability for the negative class."
      ],
      "metadata": {
        "id": "ukT79R-6UVsJ"
      }
    },
    {
      "cell_type": "markdown",
      "source": [
        "##Training and Cost Function"
      ],
      "metadata": {
        "id": "7D7YsNhBWE52"
      }
    }
  ]
}