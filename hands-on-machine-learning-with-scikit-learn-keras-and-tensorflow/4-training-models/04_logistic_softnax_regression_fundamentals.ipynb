{
  "nbformat": 4,
  "nbformat_minor": 0,
  "metadata": {
    "colab": {
      "name": "04-logistic-softnax-regression-fundamentals.ipynb",
      "provenance": [],
      "toc_visible": true,
      "authorship_tag": "ABX9TyNBFmJcHkemx6AsLbb6j/Ak",
      "include_colab_link": true
    },
    "kernelspec": {
      "name": "python3",
      "display_name": "Python 3"
    },
    "language_info": {
      "name": "python"
    }
  },
  "cells": [
    {
      "cell_type": "markdown",
      "metadata": {
        "id": "view-in-github",
        "colab_type": "text"
      },
      "source": [
        "<a href=\"https://colab.research.google.com/github/rahiakela/machine-learning-research-and-practice/blob/main/hands-on-machine-learning-with-scikit-learn-keras-and-tensorflow/4-training-models/04_logistic_softnax_regression_fundamentals.ipynb\" target=\"_parent\"><img src=\"https://colab.research.google.com/assets/colab-badge.svg\" alt=\"Open In Colab\"/></a>"
      ]
    },
    {
      "cell_type": "markdown",
      "source": [
        "##Logistic/Softnax Regression Fundamentals"
      ],
      "metadata": {
        "id": "yeF9CgMZOeRG"
      }
    },
    {
      "cell_type": "markdown",
      "source": [
        "Logistic Regression (also called Logit Regression) is commonly\n",
        "used to estimate the probability that an instance belongs to a particular class (e.g.,\n",
        "what is the probability that this email is spam?). \n",
        "\n",
        "If the estimated probability is greater\n",
        "than 50%, then the model predicts that the instance belongs to that class (called the\n",
        "positive class, labeled “1”), and otherwise it predicts that it does not (i.e., it belongs to\n",
        "the negative class, labeled “0”). \n",
        "\n",
        "This makes it a binary classifier."
      ],
      "metadata": {
        "id": "B62mI_g9PMdq"
      }
    },
    {
      "cell_type": "markdown",
      "source": [
        "##Setup"
      ],
      "metadata": {
        "id": "SL-VpDaHPd43"
      }
    },
    {
      "cell_type": "code",
      "source": [
        "# Common imports\n",
        "import numpy as np\n",
        "import numpy.random as rnd\n",
        "import os\n",
        "\n",
        "from sklearn.linear_model import LinearRegression\n",
        "from sklearn.linear_model import Ridge\n",
        "from sklearn.linear_model import Lasso\n",
        "from sklearn.linear_model import SGDRegressor\n",
        "from sklearn.linear_model import ElasticNet\n",
        "from sklearn.preprocessing import PolynomialFeatures\n",
        "from sklearn.preprocessing import StandardScaler\n",
        "from sklearn.pipeline import Pipeline\n",
        "from sklearn.base import clone\n",
        "from sklearn.metrics import mean_squared_error\n",
        "from sklearn.model_selection import train_test_split\n",
        "\n",
        "\n",
        "# to make this notebook's output stable across runs\n",
        "np.random.seed(42)\n",
        "\n",
        "# To plot pretty figures\n",
        "%matplotlib inline\n",
        "import matplotlib as mpl\n",
        "import matplotlib.pyplot as plt\n",
        "mpl.rc('axes', labelsize=14)\n",
        "mpl.rc('xtick', labelsize=12)\n",
        "mpl.rc('ytick', labelsize=12)"
      ],
      "metadata": {
        "id": "IkoWXeCkPf9r"
      },
      "execution_count": 1,
      "outputs": []
    },
    {
      "cell_type": "code",
      "source": [
        "np.random.seed(42)\n",
        "m = 20\n",
        "X = 3 * np.random.rand(m, 1)\n",
        "y = 1 + 0.5 * X + np.random.randn(m, 1) / 1.5\n",
        "X_new = np.linspace(0, 3, 100).reshape(100, 1)"
      ],
      "metadata": {
        "id": "YWmiXs8lPykg"
      },
      "execution_count": 2,
      "outputs": []
    },
    {
      "cell_type": "markdown",
      "source": [
        "##Estimating Probabilities"
      ],
      "metadata": {
        "id": "sP7r388kPgYg"
      }
    },
    {
      "cell_type": "markdown",
      "source": [
        "Just like a Linear Regression model, a Logistic\n",
        "Regression model computes a weighted sum of the input features (plus a bias term),\n",
        "but instead of outputting the result directly like the Linear Regression model does, it\n",
        "outputs the logistic of this result\n",
        "\n",
        "$\n",
        "\\hat{p} = h_{\\boldsymbol{\\theta}}(\\mathbf{x}) = \\sigma(\\boldsymbol{\\theta}^T \\mathbf{x})\n",
        "$\n",
        "\n",
        "The logistic—noted $\\sigma(·)$—is a sigmoid function (i.e., S-shaped) that outputs a number\n",
        "between 0 and 1.\n",
        "\n",
        "$\n",
        "\\sigma(t) = \\dfrac{1}{1 + \\exp(-t)}\n",
        "$"
      ],
      "metadata": {
        "id": "SBD-X4MRPhP0"
      }
    },
    {
      "cell_type": "code",
      "source": [
        "t = np.linspace(-10, 10, 100)\n",
        "sig = 1 / (1 + np.exp(-t))\n",
        "plt.figure(figsize=(9, 3))\n",
        "plt.plot([-10, 10], [0, 0], \"k-\")\n",
        "plt.plot([-10, 10], [0.5, 0.5], \"k:\")\n",
        "plt.plot([-10, 10], [1, 1], \"k:\")\n",
        "plt.plot([0, 0], [-1.1, 1.1], \"k-\")\n",
        "plt.plot(t, sig, \"b-\", linewidth=2, label=r\"$\\sigma(t) = \\frac{1}{1 + e^{-t}}$\")\n",
        "plt.xlabel(\"t\")\n",
        "plt.legend(loc=\"upper left\", fontsize=20)\n",
        "plt.axis([-10, 10, -0.1, 1.1])\n",
        "\n",
        "plt.show()"
      ],
      "metadata": {
        "id": "px8Ldh52T2vr",
        "outputId": "838e0b59-d013-4581-f340-88e32c025e5d",
        "colab": {
          "base_uri": "https://localhost:8080/",
          "height": 232
        }
      },
      "execution_count": 3,
      "outputs": [
        {
          "output_type": "display_data",
          "data": {
            "image/png": "[encoded data removed]",
            "text/plain": [
              "<Figure size 648x216 with 1 Axes>"
            ]
          },
          "metadata": {
            "needs_background": "light"
          }
        }
      ]
    },
    {
      "cell_type": "markdown",
      "source": [
        "Once the Logistic Regression model has estimated the probability $\\hat p = h_\\theta(x)$ that an\n",
        "instance $x$ belongs to the positive class, it can make its prediction $\\hat y$ easily.\n",
        "\n",
        "$\n",
        "\\hat{y} =\n",
        "\\begin{cases}\n",
        "  0 & \\text{if } \\hat{p} < 0.5, \\\\\n",
        "  1 & \\text{if } \\hat{p} \\geq 0.5.\n",
        "\\end{cases}\n",
        "$\n",
        "\n",
        "Notice that $\\sigma(t) < 0.5$ when $t < 0$, and $\\sigma(t) ≥ 0.5$ when $t ≥ 0$, so a Logistic Regression\n",
        "model predicts 1 if $x^⊺ \\theta$ is positive and $0$ if it is negative.\n",
        "\n",
        "The score $t$ is often called the logit. The name comes from the fact\n",
        "that the logit function, defined as $logit(p) = log(\\frac{p}{1 – p})$, is the\n",
        "inverse of the logistic function. \n",
        "\n",
        "Indeed, if you compute the logit of\n",
        "the estimated probability $p$, you will find that the result is $t$. The\n",
        "logit is also called the `log-odds`, since it is the log of the ratio\n",
        "between the estimated probability for the positive class and the\n",
        "estimated probability for the negative class."
      ],
      "metadata": {
        "id": "ukT79R-6UVsJ"
      }
    },
    {
      "cell_type": "markdown",
      "source": [
        "##Training and Cost Function"
      ],
      "metadata": {
        "id": "7D7YsNhBWE52"
      }
    },
    {
      "cell_type": "markdown",
      "source": [
        "Least Absolute Shrinkage and Selection Operator Regression (usually simply called\n",
        "Lasso Regression) is another regularized version of Linear Regression: just like Ridge\n",
        "Regression, it adds a regularization term to the cost function, but it uses the $L_1$ norm\n",
        "of the weight vector instead of half the square of the $L_2$ norm.\n",
        "\n",
        "\n",
        "$$\n",
        "J(\\theta) = MSE(\\theta) + \\alpha \\frac{1}{2}\\sum_{i=1}^n |\\theta_i|\n",
        "$$"
      ],
      "metadata": {
        "id": "k2CZiooAyz-n"
      }
    },
    {
      "cell_type": "code",
      "source": [
        "plt.figure(figsize=(8,4))\n",
        "plt.subplot(121)\n",
        "plot_model(Lasso, polynomial=False, alphas=(0, 0.1, 1), random_state=42)\n",
        "plt.ylabel(\"$y$\", rotation=0, fontsize=18)\n",
        "plt.subplot(122)\n",
        "plot_model(Lasso, polynomial=True, alphas=(0, 10**-7, 1), tol=1, random_state=42)\n",
        "\n",
        "plt.show()"
      ],
      "metadata": {
        "id": "ZK8DQQrtzPjD",
        "outputId": "b3de62c1-c171-4c2b-c5c2-d34d94198161",
        "colab": {
          "base_uri": "https://localhost:8080/",
          "height": 295
        }
      },
      "execution_count": null,
      "outputs": [
        {
          "output_type": "display_data",
          "data": {
            "image/png": "[encoded data removed]",
            "text/plain": [
              "<Figure size 576x288 with 2 Axes>"
            ]
          },
          "metadata": {
            "needs_background": "light"
          }
        }
      ]
    },
    {
      "cell_type": "markdown",
      "source": [
        "An important characteristic of Lasso Regression is that it tends to eliminate the\n",
        "weights of the least important features (i.e., set them to zero).\n",
        "\n",
        "The Lasso cost function is not differentiable at $\\theta_i = 0$ (for `i = 1, 2, ⋯, n`), but Gradient\n",
        "Descent still works fine if you use a subgradient vector $g$ instead when any $\\theta_i = 0$.\n",
        "\n",
        "$\n",
        "g(\\boldsymbol{\\theta}, J) = \\nabla_{\\boldsymbol{\\theta}}\\, \\text{MSE}(\\boldsymbol{\\theta}) + \\alpha\n",
        "\\begin{pmatrix}\n",
        "  \\operatorname{sign}(\\theta_1) \\\\\n",
        "  \\operatorname{sign}(\\theta_2) \\\\\n",
        "  \\vdots \\\\\n",
        "  \\operatorname{sign}(\\theta_n) \\\\\n",
        "\\end{pmatrix} \\quad \\text{where } \\operatorname{sign}(\\theta_i) =\n",
        "\\begin{cases}\n",
        "-1 & \\text{if } \\theta_i < 0 \\\\\n",
        "0 & \\text{if } \\theta_i = 0 \\\\\n",
        "+1 & \\text{if } \\theta_i > 0\n",
        "\\end{cases}\n",
        "$\n",
        "\n",
        "Here is a small Scikit-Learn example using the Lasso class:"
      ],
      "metadata": {
        "id": "oPQLhf0i1qm0"
      }
    },
    {
      "cell_type": "code",
      "source": [
        "lasso_reg = Lasso(alpha=0.1)\n",
        "lasso_reg.fit(X, y)\n",
        "lasso_reg.predict([[1.5]])"
      ],
      "metadata": {
        "id": "OJR05UPp3Wc2",
        "outputId": "953286c9-abcf-4ea0-811b-848cae69d318",
        "colab": {
          "base_uri": "https://localhost:8080/"
        }
      },
      "execution_count": null,
      "outputs": [
        {
          "output_type": "execute_result",
          "data": {
            "text/plain": [
              "array([1.53788174])"
            ]
          },
          "metadata": {},
          "execution_count": 7
        }
      ]
    },
    {
      "cell_type": "markdown",
      "source": [
        "Note that you could instead use `SGDRegressor(penalty=\"l1\")`."
      ],
      "metadata": {
        "id": "QSm53nLJ3xqb"
      }
    },
    {
      "cell_type": "code",
      "source": [
        "sgd_reg = SGDRegressor(penalty=\"l1\", alpha=0.1)\n",
        "sgd_reg.fit(X, y.ravel())\n",
        "sgd_reg.predict([[1.5]])"
      ],
      "metadata": {
        "id": "zNzC48F53yKd",
        "outputId": "ab3c2451-ead4-4de2-ce44-e8daf3abcd82",
        "colab": {
          "base_uri": "https://localhost:8080/"
        }
      },
      "execution_count": null,
      "outputs": [
        {
          "output_type": "execute_result",
          "data": {
            "text/plain": [
              "array([1.4517209])"
            ]
          },
          "metadata": {},
          "execution_count": 8
        }
      ]
    },
    {
      "cell_type": "markdown",
      "source": [
        "##Elastic Net"
      ],
      "metadata": {
        "id": "ZEmWMIrS4nX2"
      }
    },
    {
      "cell_type": "markdown",
      "source": [
        "Elastic Net is a middle ground between Ridge Regression and Lasso Regression. The\n",
        "regularization term is a simple mix of both Ridge and Lasso’s regularization terms,\n",
        "and you can control the mix ratio $r$. When $r = 0$, Elastic Net is equivalent to Ridge\n",
        "Regression, and when $r = 1$, it is equivalent to Lasso Regression.\n",
        "\n",
        "$\n",
        "J(\\boldsymbol{\\theta}) = \\text{MSE}(\\boldsymbol{\\theta}) + r \\alpha \\sum\\limits_{i=1}^{n}\\left| \\theta_i \\right| + \\dfrac{1 - r}{2} \\alpha \\sum\\limits_{i=1}^{n}{{\\theta_i}^2}\n",
        "$\n",
        "\n",
        "So when should you use plain Linear Regression (i.e., without any regularization), Ridge, Lasso, or Elastic Net?\n",
        "\n",
        "It is almost always preferable to have at least a little bit of\n",
        "regularization, so generally you should avoid plain Linear Regression. \n",
        "\n",
        "Ridge is a good default, but if you suspect that only a few features are useful, you should prefer Lasso\n",
        "or Elastic Net because they tend to reduce the useless features’ weights down to zero.\n",
        "\n",
        "In general, Elastic Net is preferred over Lasso because Lasso may behave erratically when the number of features is greater than the number of\n",
        "training instances or when several features are strongly correlated.\n",
        "\n",
        "Here is a short example that uses Scikit-Learn’s ElasticNet (`l1_ratio` corresponds to\n",
        "the mix ratio r):"
      ],
      "metadata": {
        "id": "sKz4EXAv4oCY"
      }
    },
    {
      "cell_type": "code",
      "source": [
        "elastic_net = ElasticNet(alpha=0.1, l1_ratio=0.5)\n",
        "elastic_net.fit(X, y)\n",
        "elastic_net.predict([[1.5]])"
      ],
      "metadata": {
        "id": "H4BBAdTi8j8s",
        "outputId": "ee375385-565a-4bab-9328-7d370637cfe8",
        "colab": {
          "base_uri": "https://localhost:8080/"
        }
      },
      "execution_count": null,
      "outputs": [
        {
          "output_type": "execute_result",
          "data": {
            "text/plain": [
              "array([1.54333232])"
            ]
          },
          "metadata": {},
          "execution_count": 10
        }
      ]
    },
    {
      "cell_type": "markdown",
      "source": [
        "##Early Stopping"
      ],
      "metadata": {
        "id": "RWs8K8rx89hd"
      }
    },
    {
      "cell_type": "markdown",
      "source": [
        "A very different way to regularize iterative learning algorithms such as Gradient\n",
        "Descent is to stop training as soon as the validation error reaches a minimum. This is\n",
        "called early stopping.\n",
        "\n",
        "Here is a basic implementation of early stopping:"
      ],
      "metadata": {
        "id": "Kqr8sAkR8-TK"
      }
    },
    {
      "cell_type": "code",
      "source": [
        "np.random.seed(42)\n",
        "m = 100\n",
        "X = 6 * np.random.rand(m, 1) - 3\n",
        "y = 2 + X + 0.5 * X**2 + np.random.randn(m, 1)\n",
        "\n",
        "X_train, X_val, y_train, y_val = train_test_split(X[:50], y[:50].ravel(), test_size=0.5, random_state=10)"
      ],
      "metadata": {
        "id": "49cWPorKBQlc"
      },
      "execution_count": null,
      "outputs": []
    },
    {
      "cell_type": "code",
      "source": [
        "# prepare the data\n",
        "poly_scaler = Pipeline([\n",
        "   (\"poly_features\", PolynomialFeatures(degree=90, include_bias=False)),\n",
        "   (\"std_scaler\", StandardScaler())                     \n",
        "])\n",
        "\n",
        "X_train_poly_scaled = poly_scaler.fit_transform(X_train)\n",
        "X_val_poly_scaled = poly_scaler.transform(X_val)\n",
        "\n",
        "sgd_reg = SGDRegressor(max_iter=1, tol=-np.infty, warm_start=True, penalty=None, learning_rate=\"constant\", eta0=0.0005)\n",
        "\n",
        "minimum_val_error = float(\"inf\")\n",
        "best_epoch = None\n",
        "best_model = None\n",
        "\n",
        "for epoch in range(1000):\n",
        "  sgd_reg.fit(X_train_poly_scaled, y_train)  # continues where it left off\n",
        "  y_val_predict = sgd_reg.predict(X_val_poly_scaled)\n",
        "  val_error = mean_squared_error(y_val, y_val_predict)\n",
        "  if val_error < minimum_val_error:\n",
        "    minimum_val_error = val_error\n",
        "    best_epoch = epoch\n",
        "    best_model = clone(sgd_reg)"
      ],
      "metadata": {
        "id": "8jbe9WPh9rT9"
      },
      "execution_count": null,
      "outputs": []
    },
    {
      "cell_type": "markdown",
      "source": [
        "Note that with `warm_start=True`, when the `fit()` method is called it continues training\n",
        "where it left off, instead of restarting from scratch."
      ],
      "metadata": {
        "id": "d3q72mACBEMo"
      }
    },
    {
      "cell_type": "code",
      "source": [
        "best_epoch, best_model"
      ],
      "metadata": {
        "id": "TRFVUyDnBHUs",
        "outputId": "f2e40873-c834-460e-8fb3-ed6b7c7e0149",
        "colab": {
          "base_uri": "https://localhost:8080/"
        }
      },
      "execution_count": null,
      "outputs": [
        {
          "output_type": "execute_result",
          "data": {
            "text/plain": [
              "(242,\n",
              " SGDRegressor(eta0=0.0005, learning_rate='constant', max_iter=1, penalty=None,\n",
              "              tol=-inf, warm_start=True))"
            ]
          },
          "metadata": {},
          "execution_count": 16
        }
      ]
    },
    {
      "cell_type": "markdown",
      "source": [
        "Now, let's plot it on the graph."
      ],
      "metadata": {
        "id": "QGaORCeCBxUX"
      }
    },
    {
      "cell_type": "code",
      "source": [
        "X_train_poly_scaled = poly_scaler.fit_transform(X_train)\n",
        "X_val_poly_scaled = poly_scaler.transform(X_val)\n",
        "\n",
        "sgd_reg = SGDRegressor(max_iter=1,\n",
        "                       tol=-np.infty,\n",
        "                       penalty=None,\n",
        "                       eta0=0.0005,\n",
        "                       warm_start=True,\n",
        "                       learning_rate=\"constant\",\n",
        "                       random_state=42)\n",
        "\n",
        "n_epochs = 500\n",
        "train_errors, val_errors = [], []\n",
        "for epoch in range(n_epochs):\n",
        "    sgd_reg.fit(X_train_poly_scaled, y_train)\n",
        "    y_train_predict = sgd_reg.predict(X_train_poly_scaled)\n",
        "    y_val_predict = sgd_reg.predict(X_val_poly_scaled)\n",
        "    train_errors.append(mean_squared_error(y_train, y_train_predict))\n",
        "    val_errors.append(mean_squared_error(y_val, y_val_predict))\n",
        "\n",
        "best_epoch = np.argmin(val_errors)\n",
        "best_val_rmse = np.sqrt(val_errors[best_epoch])\n",
        "\n",
        "plt.annotate('Best model',\n",
        "             xy=(best_epoch, best_val_rmse),\n",
        "             xytext=(best_epoch, best_val_rmse + 1),\n",
        "             ha=\"center\",\n",
        "             arrowprops=dict(facecolor='black', shrink=0.05),\n",
        "             fontsize=16,\n",
        "            )\n",
        "\n",
        "best_val_rmse -= 0.03  # just to make the graph look better\n",
        "plt.plot([0, n_epochs], [best_val_rmse, best_val_rmse], \"k:\", linewidth=2)\n",
        "plt.plot(np.sqrt(val_errors), \"b-\", linewidth=3, label=\"Validation set\")\n",
        "plt.plot(np.sqrt(train_errors), \"r--\", linewidth=2, label=\"Training set\")\n",
        "plt.legend(loc=\"upper right\", fontsize=14)\n",
        "plt.xlabel(\"Epoch\", fontsize=14)\n",
        "plt.ylabel(\"RMSE\", fontsize=14)\n",
        "plt.show()"
      ],
      "metadata": {
        "id": "xw9I2IvK9an-",
        "outputId": "fe7e28e2-69b1-4622-c1da-8f500944bf79",
        "colab": {
          "base_uri": "https://localhost:8080/",
          "height": 286
        }
      },
      "execution_count": null,
      "outputs": [
        {
          "output_type": "display_data",
          "data": {
            "image/png": "[encoded data removed]",
            "text/plain": [
              "<Figure size 432x288 with 1 Axes>"
            ]
          },
          "metadata": {
            "needs_background": "light"
          }
        }
      ]
    }
  ]
}