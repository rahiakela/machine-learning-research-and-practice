{
  "nbformat": 4,
  "nbformat_minor": 0,
  "metadata": {
    "colab": {
      "name": "05-softnax-regression-implementation-with-batch-gradient-descent.ipynb",
      "provenance": [],
      "toc_visible": true,
      "authorship_tag": "ABX9TyMCo+TnbH11B58e9th1iOf0",
      "include_colab_link": true
    },
    "kernelspec": {
      "name": "python3",
      "display_name": "Python 3"
    },
    "language_info": {
      "name": "python"
    }
  },
  "cells": [
    {
      "cell_type": "markdown",
      "metadata": {
        "id": "view-in-github",
        "colab_type": "text"
      },
      "source": [
        "<a href=\"https://colab.research.google.com/github/rahiakela/machine-learning-research-and-practice/blob/main/hands-on-machine-learning-with-scikit-learn-keras-and-tensorflow/4-training-models/05_softnax_regression_implementation_with_batch_gradient_descent.ipynb\" target=\"_parent\"><img src=\"https://colab.research.google.com/assets/colab-badge.svg\" alt=\"Open In Colab\"/></a>"
      ]
    },
    {
      "cell_type": "markdown",
      "source": [
        "##Softmax Regression implementation with Batch Gradient Descent"
      ],
      "metadata": {
        "id": "yeF9CgMZOeRG"
      }
    },
    {
      "cell_type": "markdown",
      "source": [
        "Let's implement Batch Gradient Descent with early stopping for Softmax Regression (without using Scikit-Learn)."
      ],
      "metadata": {
        "id": "B62mI_g9PMdq"
      }
    },
    {
      "cell_type": "markdown",
      "source": [
        "##Setup"
      ],
      "metadata": {
        "id": "SL-VpDaHPd43"
      }
    },
    {
      "cell_type": "code",
      "source": [
        "# Common imports\n",
        "import numpy as np\n",
        "import numpy.random as rnd\n",
        "import os\n",
        "\n",
        "from sklearn.linear_model import LogisticRegression\n",
        "from sklearn.preprocessing import StandardScaler\n",
        "\n",
        "from sklearn import datasets\n",
        "\n",
        "\n",
        "# to make this notebook's output stable across runs\n",
        "np.random.seed(42)\n",
        "\n",
        "# To plot pretty figures\n",
        "%matplotlib inline\n",
        "import matplotlib as mpl\n",
        "import matplotlib.pyplot as plt\n",
        "from matplotlib.colors import ListedColormap\n",
        "\n",
        "mpl.rc('axes', labelsize=14)\n",
        "mpl.rc('xtick', labelsize=12)\n",
        "mpl.rc('ytick', labelsize=12)"
      ],
      "metadata": {
        "id": "IkoWXeCkPf9r"
      },
      "execution_count": 43,
      "outputs": []
    },
    {
      "cell_type": "markdown",
      "source": [
        "##Traing and test set prepation"
      ],
      "metadata": {
        "id": "sP7r388kPgYg"
      }
    },
    {
      "cell_type": "markdown",
      "source": [
        "Let's start by loading the data."
      ],
      "metadata": {
        "id": "ACyGbVEEbRVz"
      }
    },
    {
      "cell_type": "code",
      "source": [
        "iris = datasets.load_iris()\n",
        "list(iris.keys())"
      ],
      "metadata": {
        "id": "buoYQk47X2N5",
        "outputId": "b2ef80e6-fa41-41b0-8c9e-b5b3f27c9bbb",
        "colab": {
          "base_uri": "https://localhost:8080/"
        }
      },
      "execution_count": 44,
      "outputs": [
        {
          "output_type": "execute_result",
          "data": {
            "text/plain": [
              "['data',\n",
              " 'target',\n",
              " 'frame',\n",
              " 'target_names',\n",
              " 'DESCR',\n",
              " 'feature_names',\n",
              " 'filename',\n",
              " 'data_module']"
            ]
          },
          "metadata": {},
          "execution_count": 44
        }
      ]
    },
    {
      "cell_type": "code",
      "source": [
        "X = iris[\"data\"][:, (2, 3)]  # petal length, petal width\n",
        "y = iris[\"target\"] "
      ],
      "metadata": {
        "id": "OljBUI-AYQAH"
      },
      "execution_count": 45,
      "outputs": []
    },
    {
      "cell_type": "markdown",
      "source": [
        "We need to add the bias term for every instance $(x_0=1)$:"
      ],
      "metadata": {
        "id": "pDSMSpvcYhZJ"
      }
    },
    {
      "cell_type": "code",
      "source": [
        "X_with_bias = np.c_[np.ones([len(X), 1]), X]\n",
        "X_with_bias[:5]"
      ],
      "metadata": {
        "id": "H-vaWRvFYj2n",
        "outputId": "81bb1e79-a768-4dc6-8dd8-2308fc39ea7e",
        "colab": {
          "base_uri": "https://localhost:8080/"
        }
      },
      "execution_count": 46,
      "outputs": [
        {
          "output_type": "execute_result",
          "data": {
            "text/plain": [
              "array([[1. , 1.4, 0.2],\n",
              "       [1. , 1.4, 0.2],\n",
              "       [1. , 1.3, 0.2],\n",
              "       [1. , 1.5, 0.2],\n",
              "       [1. , 1.4, 0.2]])"
            ]
          },
          "metadata": {},
          "execution_count": 46
        }
      ]
    },
    {
      "cell_type": "markdown",
      "source": [
        "The easiest option to split the dataset into a training set, a validation set and a test set would be to use Scikit-Learn's `train_test_split()` function, but the point of this exercise is to try understand the algorithms by implementing them manually. \n",
        "\n",
        "So here is one possible implementation:"
      ],
      "metadata": {
        "id": "J5rJ6rpSZYku"
      }
    },
    {
      "cell_type": "code",
      "source": [
        "test_ratio = 0.2\n",
        "validation_ratio = 0.2\n",
        "total_size = len(X_with_bias)\n",
        "\n",
        "test_size = int(total_size * test_ratio)\n",
        "validation_size = int(test_size * validation_ratio)\n",
        "train_size = total_size - test_size - validation_size\n",
        "\n",
        "rnd_indices = np.random.permutation(total_size)\n",
        "\n",
        "x_train = X_with_bias[rnd_indices[: train_size]]\n",
        "y_train = y[rnd_indices[: train_size]]\n",
        "\n",
        "x_valid = X_with_bias[rnd_indices[train_size: - test_size]]\n",
        "y_valid = y[rnd_indices[train_size: - test_size]]\n",
        "\n",
        "x_test = X_with_bias[rnd_indices[-test_size:]]\n",
        "y_test = y[rnd_indices[-test_size:]]"
      ],
      "metadata": {
        "id": "Pauq62yHZcN4"
      },
      "execution_count": 47,
      "outputs": []
    },
    {
      "cell_type": "markdown",
      "source": [
        "The targets are currently class indices (0, 1 or 2), but we need target class probabilities to train the Softmax Regression model. Each instance will have target class probabilities equal to 0.0 for all classes except for the target class which will have a probability of 1.0 (in other words, the vector of class probabilities for ay given instance is a one-hot vector). \n",
        "\n",
        "Let's write a small function to convert the vector of class indices into a matrix containing a one-hot vector for each instance:"
      ],
      "metadata": {
        "id": "tNtwwT5jGOyA"
      }
    },
    {
      "cell_type": "code",
      "source": [
        "def to_one_hot(y):\n",
        "  n_classes = y.max() + 1\n",
        "  m = len(y)\n",
        "  y_one_hot = np.zeros((m, n_classes))\n",
        "  y_one_hot[np.arange(m), y] = 1\n",
        "  return y_one_hot"
      ],
      "metadata": {
        "id": "FjyJL8_UGQZo"
      },
      "execution_count": 48,
      "outputs": []
    },
    {
      "cell_type": "markdown",
      "source": [
        "Let's test this function on the first 10 instances:"
      ],
      "metadata": {
        "id": "_HBy3uHAG2Ji"
      }
    },
    {
      "cell_type": "code",
      "source": [
        "y_train[:10]"
      ],
      "metadata": {
        "id": "Lf7-Bi_jG2jI",
        "outputId": "36d2dcea-ebab-4acb-b85c-991677f6e375",
        "colab": {
          "base_uri": "https://localhost:8080/"
        }
      },
      "execution_count": 49,
      "outputs": [
        {
          "output_type": "execute_result",
          "data": {
            "text/plain": [
              "array([1, 0, 2, 1, 1, 0, 1, 2, 1, 1])"
            ]
          },
          "metadata": {},
          "execution_count": 49
        }
      ]
    },
    {
      "cell_type": "code",
      "source": [
        "to_one_hot(y_train[:10])"
      ],
      "metadata": {
        "id": "F3W1oMh1G8Al",
        "outputId": "547e1941-d812-4228-f49d-8229e1f97ed5",
        "colab": {
          "base_uri": "https://localhost:8080/"
        }
      },
      "execution_count": 50,
      "outputs": [
        {
          "output_type": "execute_result",
          "data": {
            "text/plain": [
              "array([[0., 1., 0.],\n",
              "       [1., 0., 0.],\n",
              "       [0., 0., 1.],\n",
              "       [0., 1., 0.],\n",
              "       [0., 1., 0.],\n",
              "       [1., 0., 0.],\n",
              "       [0., 1., 0.],\n",
              "       [0., 0., 1.],\n",
              "       [0., 1., 0.],\n",
              "       [0., 1., 0.]])"
            ]
          },
          "metadata": {},
          "execution_count": 50
        }
      ]
    },
    {
      "cell_type": "markdown",
      "source": [
        "Looks good, so let's create the target class probabilities matrix for the training set and the test set:"
      ],
      "metadata": {
        "id": "7r7edp3UHatk"
      }
    },
    {
      "cell_type": "code",
      "source": [
        "y_train_one_hot = to_one_hot(y_train)\n",
        "y_valid_one_hot = to_one_hot(y_valid)\n",
        "y_test_one_hot = to_one_hot(y_test)"
      ],
      "metadata": {
        "id": "PkK-ng15HbIh"
      },
      "execution_count": 51,
      "outputs": []
    },
    {
      "cell_type": "markdown",
      "source": [
        "##Softmax function"
      ],
      "metadata": {
        "id": "6xZxIqWIaICd"
      }
    },
    {
      "cell_type": "markdown",
      "source": [
        "Now let's implement the Softmax function. Recall that it is defined by the following equation:\n",
        "\n",
        "$\\sigma\\left(\\mathbf{s}(\\mathbf{x})\\right)_k = \\dfrac{\\exp\\left(s_k(\\mathbf{x})\\right)}{\\sum\\limits_{j=1}^{K}{\\exp\\left(s_j(\\mathbf{x})\\right)}}$"
      ],
      "metadata": {
        "id": "9AMO-EHBaLWx"
      }
    },
    {
      "cell_type": "code",
      "source": [
        "def softmax(logits):\n",
        "  exps = np.exp(logits)\n",
        "  exp_sums = np.sum(exps, axis=1, keepdims=True)\n",
        "  return exps / exp_sums"
      ],
      "metadata": {
        "id": "PtaycBhuV5RL"
      },
      "execution_count": 52,
      "outputs": []
    },
    {
      "cell_type": "markdown",
      "source": [
        "We are almost ready to start training. Let's define the number of inputs and outputs:"
      ],
      "metadata": {
        "id": "oNYYFhYF8o7s"
      }
    },
    {
      "cell_type": "code",
      "source": [
        "n_inputs = x_train.shape[1]          # == 3 (2 features plus the bias term)\n",
        "n_outputs = len(np.unique(y_train))  # == 3 (3 iris classes)"
      ],
      "metadata": {
        "id": "mjl48OGSWEHI"
      },
      "execution_count": 53,
      "outputs": []
    },
    {
      "cell_type": "markdown",
      "source": [
        "Now here comes the hardest part: training! Theoretically, it's simple: it's just a matter of translating the math equations into Python code. But in practice, it can be quite tricky: in particular, it's easy to mix up the order of the terms, or the indices. You can even end up with code that looks like it's working but is actually not computing exactly the right thing. When unsure, you should write down the shape of each term in the equation and make sure the corresponding terms in your code match closely. It can also help to evaluate each term independently and print them out. The good news it that you won't have to do this everyday, since all this is well implemented by Scikit-Learn, but it will help you understand what's going on under the hood.\n",
        "\n",
        "So the equations we will need are the cost function(Cross-entropy):\n",
        "\n",
        "$J(\\mathbf{\\Theta}) = - \\dfrac{1}{m}\\sum\\limits_{i=1}^{m}\\sum\\limits_{k=1}^{K}{y_k^{(i)}\\log\\left(\\hat{p}_k^{(i)}\\right)}$\n",
        "\n",
        "And the equation for the gradients:\n",
        "\n",
        "$\\nabla_{\\mathbf{\\theta}^{(k)}} \\, J(\\mathbf{\\Theta}) = \\dfrac{1}{m} \\sum\\limits_{i=1}^{m}{ \\left ( \\hat{p}^{(i)}_k - y_k^{(i)} \\right ) \\mathbf{x}^{(i)}}$\n",
        "\n",
        "Note that $\\log\\left(\\hat{p}_k^{(i)}\\right)$ may not be computable if $\\hat{p}_k^{(i)} = 0$. So we will add a tiny value $\\epsilon$ to $\\log\\left(\\hat{p}_k^{(i)}\\right)$ to avoid getting `nan` values."
      ],
      "metadata": {
        "id": "JgqNd2kl9Cvi"
      }
    },
    {
      "cell_type": "code",
      "source": [
        "eta = 0.01\n",
        "n_iterations = 5001\n",
        "m = len(x_train)\n",
        "epsilon = 1e-7\n",
        "\n",
        "theta = np.random.randn(n_inputs, n_outputs)"
      ],
      "metadata": {
        "id": "QProabI6XoRY"
      },
      "execution_count": 54,
      "outputs": []
    },
    {
      "cell_type": "code",
      "source": [
        "for iteration in range(n_iterations):\n",
        "  logits = x_train.dot(theta)\n",
        "  y_prob = softmax(logits)\n",
        "  # calculate loss\n",
        "  loss = -np.mean(np.sum(y_train_one_hot * np.log(y_prob + epsilon), axis=1))\n",
        "  error = y_prob - y_train_one_hot\n",
        "  if iteration % 500 == 0:\n",
        "    print(iteration, loss)\n",
        "  # calculate  gradient\n",
        "  gradients = 1 / m * x_train.T.dot(error)\n",
        "  theta = theta - eta * gradients"
      ],
      "metadata": {
        "id": "1w1Z67NgYVe2",
        "outputId": "9ec018f3-8bbe-4ee8-8385-8153b551c704",
        "colab": {
          "base_uri": "https://localhost:8080/"
        }
      },
      "execution_count": 55,
      "outputs": [
        {
          "output_type": "stream",
          "name": "stdout",
          "text": [
            "0 3.707721415839796\n",
            "500 0.7673305751239122\n",
            "1000 0.6412154261885891\n",
            "1500 0.5660236716079858\n",
            "2000 0.515464311918938\n",
            "2500 0.47855496793722874\n",
            "3000 0.4500407743209087\n",
            "3500 0.4271043176384924\n",
            "4000 0.4080942711875561\n",
            "4500 0.39197317452300495\n",
            "5000 0.3780525972134107\n"
          ]
        }
      ]
    },
    {
      "cell_type": "markdown",
      "source": [
        "And that's it! The Softmax model is trained. Let's look at the model parameters:"
      ],
      "metadata": {
        "id": "QQCdxY8BAhca"
      }
    },
    {
      "cell_type": "code",
      "source": [
        "theta"
      ],
      "metadata": {
        "id": "qBDPQMMwYlpX",
        "outputId": "10d9af5d-12c9-4c67-d181-635342bc97a3",
        "colab": {
          "base_uri": "https://localhost:8080/"
        }
      },
      "execution_count": 56,
      "outputs": [
        {
          "output_type": "execute_result",
          "data": {
            "text/plain": [
              "array([[ 2.37446439, -1.59293044, -3.6002626 ],\n",
              "       [-0.60647941,  0.47861577,  0.23254471],\n",
              "       [-0.95539619,  0.41605589,  2.45609216]])"
            ]
          },
          "metadata": {},
          "execution_count": 56
        }
      ]
    },
    {
      "cell_type": "markdown",
      "source": [
        "Let's make predictions for the validation set and check the accuracy score:"
      ],
      "metadata": {
        "id": "tjdi10yGY4Y4"
      }
    },
    {
      "cell_type": "code",
      "source": [
        "logits = x_valid.dot(theta)\n",
        "y_prob = softmax(logits)\n",
        "y_predict = np.argmax(y_prob, axis=1)\n",
        "\n",
        "accuracy_score = np.mean(y_predict == y_valid)\n",
        "accuracy_score"
      ],
      "metadata": {
        "colab": {
          "base_uri": "https://localhost:8080/"
        },
        "id": "pVjgnn3OApRI",
        "outputId": "6901f898-2cd0-4749-92d7-500dd5a7b83b"
      },
      "execution_count": 57,
      "outputs": [
        {
          "output_type": "execute_result",
          "data": {
            "text/plain": [
              "0.8333333333333334"
            ]
          },
          "metadata": {},
          "execution_count": 57
        }
      ]
    },
    {
      "cell_type": "markdown",
      "source": [
        "Well, this model looks pretty good. For the sake of the exercise, let's add a bit of $\\ell_2$ regularization. The following training code is similar to the one above, but the loss now has an additional $\\ell_2$ penalty, and the gradients have the proper additional term (note that we don't regularize the first element of `Theta` since this corresponds to the bias term). \n",
        "\n",
        "Also, let's try increasing the learning rate `eta`."
      ],
      "metadata": {
        "id": "yPER02G5BO5Y"
      }
    },
    {
      "cell_type": "code",
      "source": [
        "eta = 0.1\n",
        "n_iterations = 5001\n",
        "m = len(x_train)\n",
        "epsilon = 1e-7\n",
        "alpha = 0.1  # regularization hyperparameter\n",
        "\n",
        "theta = np.random.randn(n_inputs, n_outputs)"
      ],
      "metadata": {
        "id": "MezRZFRyBROx"
      },
      "execution_count": 58,
      "outputs": []
    },
    {
      "cell_type": "code",
      "source": [
        "for iteration in range(n_iterations):\n",
        "  logits = x_train.dot(theta)\n",
        "  y_prob = softmax(logits)\n",
        "  # calculate loss\n",
        "  xentropy_loss = -np.mean(np.sum(y_train_one_hot * np.log(y_prob + epsilon), axis=1))\n",
        "  l2_loss = 1 / 2 * np.sum(np.square(theta[1:]))\n",
        "  loss = xentropy_loss + alpha * l2_loss\n",
        "  error = y_prob - y_train_one_hot\n",
        "  if iteration % 500 == 0:\n",
        "    print(iteration, loss)\n",
        "  # calculate  gradient\n",
        "  gradients = 1 / m * x_train.T.dot(error) * np.r_[np.zeros([1, n_outputs]), alpha * theta[1:]]\n",
        "  theta = theta - eta * gradients"
      ],
      "metadata": {
        "colab": {
          "base_uri": "https://localhost:8080/"
        },
        "id": "GT3NpEQpBqWf",
        "outputId": "0a349b5a-70a1-4663-e636-b0c6389b1fe7"
      },
      "execution_count": 59,
      "outputs": [
        {
          "output_type": "stream",
          "name": "stdout",
          "text": [
            "0 4.255851639709504\n",
            "500 113645.95549724023\n",
            "1000 4167555033731.0815\n",
            "1500 1.5284486137398726e+20\n",
            "2000 5.605577243652124e+27\n",
            "2500 2.055842502788814e+35\n",
            "3000 7.539791555025227e+42\n",
            "3500 2.7652145831265307e+50\n",
            "4000 1.0141409924839813e+58\n",
            "4500 3.7193567505112914e+65\n",
            "5000 1.3640721300191863e+73\n"
          ]
        }
      ]
    },
    {
      "cell_type": "markdown",
      "source": [
        "Because of the additional $\\ell_2$ penalty, the loss seems greater than earlier, but perhaps this model will perform better? \n",
        "\n",
        "Let's find out:"
      ],
      "metadata": {
        "id": "yr2nKJ8LDG0L"
      }
    },
    {
      "cell_type": "code",
      "source": [
        "logits = x_valid.dot(theta)\n",
        "y_prob = softmax(logits)\n",
        "y_predict = np.argmax(y_prob, axis=1)\n",
        "\n",
        "accuracy_score = np.mean(y_predict == y_valid)\n",
        "accuracy_score"
      ],
      "metadata": {
        "colab": {
          "base_uri": "https://localhost:8080/"
        },
        "id": "ykbgjuv3DIGH",
        "outputId": "5e8bd876-aa4c-40a2-d480-1a8e1a37fb8a"
      },
      "execution_count": 60,
      "outputs": [
        {
          "output_type": "execute_result",
          "data": {
            "text/plain": [
              "0.5"
            ]
          },
          "metadata": {},
          "execution_count": 60
        }
      ]
    },
    {
      "cell_type": "markdown",
      "source": [
        "Cool, perfect accuracy! We probably just got lucky with this validation set, but still, it's pleasant.\n",
        "\n",
        "Now let's add early stopping. For this we just need to measure the loss on the validation set at every iteration and stop when the error starts growing."
      ],
      "metadata": {
        "id": "VKkywWeNDQ5i"
      }
    },
    {
      "cell_type": "code",
      "source": [
        "eta = 0.1\n",
        "n_iterations = 5001\n",
        "m = len(x_train)\n",
        "epsilon = 1e-7\n",
        "alpha = 0.1  # regularization hyperparameter\n",
        "best_loss = np.infty\n",
        "\n",
        "theta = np.random.randn(n_inputs, n_outputs)"
      ],
      "metadata": {
        "id": "Hr6joMlzDTgc"
      },
      "execution_count": 61,
      "outputs": []
    },
    {
      "cell_type": "code",
      "source": [
        "for iteration in range(n_iterations):\n",
        "  logits = x_train.dot(theta)\n",
        "  y_prob = softmax(logits)\n",
        "\n",
        "  # calculate loss\n",
        "  xentropy_loss = -np.mean(np.sum(y_train_one_hot * np.log(y_prob + epsilon), axis=1))\n",
        "  l2_loss = 1 / 2 * np.sum(np.square(theta[1:]))\n",
        "  loss = xentropy_loss + alpha * l2_loss\n",
        "  error = y_prob - y_train_one_hot\n",
        "\n",
        "  # calculate  gradient\n",
        "  gradients = 1 / m * x_train.T.dot(error) * np.r_[np.zeros([1, n_outputs]), alpha * theta[1:]]\n",
        "  theta = theta - eta * gradients\n",
        "\n",
        "  # apply eraly stoping\n",
        "  logits = x_valid.dot(theta)\n",
        "  y_prob = softmax(logits)\n",
        "  xentropy_loss = -np.mean(np.sum(y_valid_one_hot * np.log(y_prob + epsilon), axis=1))\n",
        "  l2_loss = 1 / 2 * np.sum(np.square(theta[1:]))\n",
        "  loss = xentropy_loss + alpha * l2_loss\n",
        "\n",
        "  if iteration % 500 == 0:\n",
        "    print(iteration, loss)\n",
        "  if loss < best_loss:\n",
        "    best_loss = loss\n",
        "  else:\n",
        "    print(iteration - 1, best_loss)\n",
        "    print(iteration, loss, \"early stopping!\")\n",
        "    break"
      ],
      "metadata": {
        "colab": {
          "base_uri": "https://localhost:8080/"
        },
        "id": "TEziNOEwDaII",
        "outputId": "73fbb89e-938b-4162-9203-fc8471eb6324"
      },
      "execution_count": 62,
      "outputs": [
        {
          "output_type": "stream",
          "name": "stdout",
          "text": [
            "0 1.7091130800554852\n",
            "7 1.704384437544568\n",
            "8 1.7045739312032437 early stopping!\n"
          ]
        }
      ]
    },
    {
      "cell_type": "code",
      "source": [
        "logits = x_valid.dot(theta)\n",
        "y_prob = softmax(logits)\n",
        "y_predict = np.argmax(y_prob, axis=1)\n",
        "\n",
        "accuracy_score = np.mean(y_predict == y_valid)\n",
        "accuracy_score"
      ],
      "metadata": {
        "colab": {
          "base_uri": "https://localhost:8080/"
        },
        "id": "oj_uXCNwFl1F",
        "outputId": "cca0a3de-c68d-46c0-f773-3eae22a35df2"
      },
      "execution_count": 63,
      "outputs": [
        {
          "output_type": "execute_result",
          "data": {
            "text/plain": [
              "0.5"
            ]
          },
          "metadata": {},
          "execution_count": 63
        }
      ]
    },
    {
      "cell_type": "markdown",
      "source": [
        "Still perfect, but faster.\n",
        "\n",
        "Now let's plot the model's predictions on the whole dataset:"
      ],
      "metadata": {
        "id": "3Uf_COdCFsUy"
      }
    },
    {
      "cell_type": "code",
      "source": [
        "x0, x1 = np.meshgrid(\n",
        "        np.linspace(0, 8, 500).reshape(-1, 1),\n",
        "        np.linspace(0, 3.5, 200).reshape(-1, 1),\n",
        "    )\n",
        "X_new = np.c_[x0.ravel(), x1.ravel()]\n",
        "X_new_with_bias = np.c_[np.ones([len(X_new), 1]), X_new]\n",
        "\n",
        "logits = X_new_with_bias.dot(theta)\n",
        "Y_proba = softmax(logits)\n",
        "y_predict = np.argmax(Y_proba, axis=1)\n",
        "\n",
        "zz1 = Y_proba[:, 1].reshape(x0.shape)\n",
        "zz = y_predict.reshape(x0.shape)\n",
        "\n",
        "plt.figure(figsize=(10, 4))\n",
        "plt.plot(X[y==2, 0], X[y==2, 1], \"g^\", label=\"Iris-Virginica\")\n",
        "plt.plot(X[y==1, 0], X[y==1, 1], \"bs\", label=\"Iris-Versicolor\")\n",
        "plt.plot(X[y==0, 0], X[y==0, 1], \"yo\", label=\"Iris-Setosa\")\n",
        "\n",
        "from matplotlib.colors import ListedColormap\n",
        "custom_cmap = ListedColormap(['#fafab0','#9898ff','#a0faa0'])\n",
        "\n",
        "plt.contourf(x0, x1, zz, cmap=custom_cmap)\n",
        "contour = plt.contour(x0, x1, zz1, cmap=plt.cm.brg)\n",
        "plt.clabel(contour, inline=1, fontsize=12)\n",
        "plt.xlabel(\"Petal length\", fontsize=14)\n",
        "plt.ylabel(\"Petal width\", fontsize=14)\n",
        "plt.legend(loc=\"upper left\", fontsize=14)\n",
        "plt.axis([0, 7, 0, 3.5])\n",
        "plt.show()"
      ],
      "metadata": {
        "colab": {
          "base_uri": "https://localhost:8080/",
          "height": 291
        },
        "id": "9k70z1DjFufA",
        "outputId": "36d11087-5494-48f8-c595-08fa18498ef2"
      },
      "execution_count": 64,
      "outputs": [
        {
          "output_type": "display_data",
          "data": {
            "image/png": "[encoded data removed]",
            "text/plain": [
              "<Figure size 720x288 with 1 Axes>"
            ]
          },
          "metadata": {
            "needs_background": "light"
          }
        }
      ]
    },
    {
      "cell_type": "markdown",
      "source": [
        "And now let's measure the final model's accuracy on the test set:"
      ],
      "metadata": {
        "id": "0bGQxoknGFYQ"
      }
    },
    {
      "cell_type": "code",
      "source": [
        "logits = x_test.dot(theta)\n",
        "y_prob = softmax(logits)\n",
        "y_predict = np.argmax(y_prob, axis=1)\n",
        "\n",
        "accuracy_score = np.mean(y_predict == y_test)\n",
        "accuracy_score"
      ],
      "metadata": {
        "colab": {
          "base_uri": "https://localhost:8080/"
        },
        "id": "5bpT7srYGFyv",
        "outputId": "fc9ff212-c405-4b36-c320-a4660c6501b2"
      },
      "execution_count": 65,
      "outputs": [
        {
          "output_type": "execute_result",
          "data": {
            "text/plain": [
              "0.36666666666666664"
            ]
          },
          "metadata": {},
          "execution_count": 65
        }
      ]
    },
    {
      "cell_type": "markdown",
      "source": [
        "Our perfect model turns out to have slight imperfections. This variability is likely due to the very small size of the dataset: depending on how you sample the training set, validation set and the test set, you can get quite different results. Try changing the random seed and running the code again a few times, you will see that the results will vary."
      ],
      "metadata": {
        "id": "4ZWKbssjGQS6"
      }
    }
  ]
}