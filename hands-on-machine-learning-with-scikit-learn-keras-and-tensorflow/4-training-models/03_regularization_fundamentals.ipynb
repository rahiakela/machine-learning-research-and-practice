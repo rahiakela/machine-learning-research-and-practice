{
  "nbformat": 4,
  "nbformat_minor": 0,
  "metadata": {
    "colab": {
      "name": "03-regularization-fundamentals.ipynb",
      "provenance": [],
      "toc_visible": true,
      "authorship_tag": "ABX9TyMI/wTkbtnowezt5YSKkQCC",
      "include_colab_link": true
    },
    "kernelspec": {
      "name": "python3",
      "display_name": "Python 3"
    },
    "language_info": {
      "name": "python"
    }
  },
  "cells": [
    {
      "cell_type": "markdown",
      "metadata": {
        "id": "view-in-github",
        "colab_type": "text"
      },
      "source": [
        "<a href=\"https://colab.research.google.com/github/rahiakela/machine-learning-research-and-practice/blob/main/hands-on-machine-learning-with-scikit-learn-keras-and-tensorflow/4-training-models/03_regularization_fundamentals.ipynb\" target=\"_parent\"><img src=\"https://colab.research.google.com/assets/colab-badge.svg\" alt=\"Open In Colab\"/></a>"
      ]
    },
    {
      "cell_type": "markdown",
      "source": [
        "##Regularization Fundamentals"
      ],
      "metadata": {
        "id": "yeF9CgMZOeRG"
      }
    },
    {
      "cell_type": "markdown",
      "source": [
        "A good way to reduce overfitting is to regularize the\n",
        "model (i.e., to constrain it): the fewer degrees of freedom it has, the harder it will be for it to overfit the data. A simple way to regularize a polynomial model is to reduce\n",
        "the number of polynomial degrees.\n",
        "\n",
        "For a linear model, regularization is typically achieved by constraining the weights of\n",
        "the model. We will now look at Ridge Regression, Lasso Regression, and Elastic Net,\n",
        "which implement three different ways to constrain the weights."
      ],
      "metadata": {
        "id": "B62mI_g9PMdq"
      }
    },
    {
      "cell_type": "markdown",
      "source": [
        "##Setup"
      ],
      "metadata": {
        "id": "SL-VpDaHPd43"
      }
    },
    {
      "cell_type": "code",
      "source": [
        "# Common imports\n",
        "import numpy as np\n",
        "import numpy.random as rnd\n",
        "import os\n",
        "\n",
        "from sklearn.linear_model import LinearRegression\n",
        "from sklearn.linear_model import Ridge\n",
        "from sklearn.linear_model import Lasso\n",
        "from sklearn.linear_model import SGDRegressor\n",
        "from sklearn.preprocessing import PolynomialFeatures\n",
        "from sklearn.preprocessing import StandardScaler\n",
        "from sklearn.pipeline import Pipeline\n",
        "from sklearn.metrics import mean_squared_error\n",
        "from sklearn.model_selection import train_test_split\n",
        "\n",
        "\n",
        "# to make this notebook's output stable across runs\n",
        "np.random.seed(42)\n",
        "\n",
        "# To plot pretty figures\n",
        "%matplotlib inline\n",
        "import matplotlib as mpl\n",
        "import matplotlib.pyplot as plt\n",
        "mpl.rc('axes', labelsize=14)\n",
        "mpl.rc('xtick', labelsize=12)\n",
        "mpl.rc('ytick', labelsize=12)"
      ],
      "metadata": {
        "id": "IkoWXeCkPf9r"
      },
      "execution_count": 6,
      "outputs": []
    },
    {
      "cell_type": "code",
      "source": [
        "np.random.seed(42)\n",
        "m = 20\n",
        "X = 3 * np.random.rand(m, 1)\n",
        "y = 1 + 0.5 * X + np.random.randn(m, 1) / 1.5\n",
        "X_new = np.linspace(0, 3, 100).reshape(100, 1)"
      ],
      "metadata": {
        "id": "YWmiXs8lPykg"
      },
      "execution_count": 2,
      "outputs": []
    },
    {
      "cell_type": "markdown",
      "source": [
        "##Ridge Regression"
      ],
      "metadata": {
        "id": "sP7r388kPgYg"
      }
    },
    {
      "cell_type": "markdown",
      "source": [
        "Ridge Regression (also called Tikhonov regularization) is a regularized version of Linear\n",
        "Regression: a regularization term equal to $\\alpha\\sum_{i=1}^n \\theta_i^2$ is added to the cost function.\n",
        "This forces the learning algorithm to not only fit the data but also keep the model\n",
        "weights as small as possible. Note that the regularization term should only be added\n",
        "to the cost function during training. Once the model is trained, you want to use the\n",
        "unregularized performance measure to evaluate the model’s performance.\n",
        "\n",
        "The hyperparameter $\\alpha$ controls how much you want to regularize the model. If $\\alpha = 0$,\n",
        "then Ridge Regression is just Linear Regression. If $\\alpha$ is very large, then all weights end\n",
        "up very close to zero and the result is a flat line going through the data’s mean.\n",
        "\n",
        "$$\n",
        "J(\\theta) = MSE(\\theta) + \\alpha \\frac{1}{2}\\sum_{i=1}^n \\theta_i^2\n",
        "$$"
      ],
      "metadata": {
        "id": "SBD-X4MRPhP0"
      }
    },
    {
      "cell_type": "code",
      "source": [
        "def plot_model(model_class, polynomial, alphas, **model_kargs):\n",
        "    for alpha, style in zip(alphas, (\"b-\", \"g--\", \"r:\")):\n",
        "        model = model_class(alpha, **model_kargs) if alpha > 0 else LinearRegression()\n",
        "        if polynomial:\n",
        "            model = Pipeline([\n",
        "                    (\"poly_features\", PolynomialFeatures(degree=10, include_bias=False)),\n",
        "                    (\"std_scaler\", StandardScaler()),\n",
        "                    (\"regul_reg\", model),\n",
        "                ])\n",
        "        model.fit(X, y)\n",
        "        y_new_regul = model.predict(X_new)\n",
        "        lw = 2 if alpha > 0 else 1\n",
        "        plt.plot(X_new, y_new_regul, style, linewidth=lw, label=r\"$\\alpha = {}$\".format(alpha))\n",
        "    plt.plot(X, y, \"b.\", linewidth=3)\n",
        "    plt.legend(loc=\"upper left\", fontsize=15)\n",
        "    plt.xlabel(\"$x_1$\", fontsize=18)\n",
        "    plt.axis([0, 3, 0, 4])\n",
        "\n",
        "plt.figure(figsize=(8,4))\n",
        "plt.subplot(121)\n",
        "plot_model(Ridge, polynomial=False, alphas=(0, 10, 100), random_state=42)\n",
        "plt.ylabel(\"$y$\", rotation=0, fontsize=18)\n",
        "plt.subplot(122)\n",
        "plot_model(Ridge, polynomial=True, alphas=(0, 10**-5, 1), random_state=42)\n",
        "\n",
        "plt.show()"
      ],
      "metadata": {
        "id": "px8Ldh52T2vr",
        "outputId": "4dadb3c9-b829-49f3-a4a7-d5b435f82a70",
        "colab": {
          "base_uri": "https://localhost:8080/",
          "height": 295
        }
      },
      "execution_count": 3,
      "outputs": [
        {
          "output_type": "display_data",
          "data": {
            "image/png": "[encoded data removed]",
            "text/plain": [
              "<Figure size 576x288 with 2 Axes>"
            ]
          },
          "metadata": {
            "needs_background": "light"
          }
        }
      ]
    },
    {
      "cell_type": "markdown",
      "source": [
        "Note how\n",
        "increasing $\\alpha$ leads to flatter (i.e., less extreme, more reasonable) predictions, thus\n",
        "reducing the model’s variance but increasing its bias.\n",
        "\n",
        "As with Linear Regression, we can perform Ridge Regression either by computing a\n",
        "closed-form equation or by performing Gradient Descent. The pros and cons are the same.\n",
        "\n",
        "$$\n",
        "\\hat\\theta = (X^TX + \\alpha A)^{-1} X^T y\n",
        "$$\n",
        "\n",
        "Here is how to perform Ridge Regression with Scikit-Learn using a closed-form solution."
      ],
      "metadata": {
        "id": "ukT79R-6UVsJ"
      }
    },
    {
      "cell_type": "code",
      "source": [
        "ridge_reg = Ridge(alpha=1, solver=\"cholesky\")\n",
        "ridge_reg.fit(X, y)\n",
        "ridge_reg.predict([[1.5]])"
      ],
      "metadata": {
        "id": "79KK9P5WVJHY",
        "outputId": "3a2bfbc7-3721-4474-de71-26a3d5bec6da",
        "colab": {
          "base_uri": "https://localhost:8080/"
        }
      },
      "execution_count": 4,
      "outputs": [
        {
          "output_type": "execute_result",
          "data": {
            "text/plain": [
              "array([[1.55071465]])"
            ]
          },
          "metadata": {},
          "execution_count": 4
        }
      ]
    },
    {
      "cell_type": "markdown",
      "source": [
        "And using Stochastic Gradient Descent:"
      ],
      "metadata": {
        "id": "CS5SeZZOVgoM"
      }
    },
    {
      "cell_type": "code",
      "source": [
        "sgd_reg = SGDRegressor(penalty=\"l2\")\n",
        "sgd_reg.fit(X, y.ravel())\n",
        "sgd_reg.predict([[1.5]])"
      ],
      "metadata": {
        "id": "fxRrAJpDVhaU",
        "outputId": "315b17ac-5f7e-4d00-c22a-29f326f11985",
        "colab": {
          "base_uri": "https://localhost:8080/"
        }
      },
      "execution_count": 5,
      "outputs": [
        {
          "output_type": "execute_result",
          "data": {
            "text/plain": [
              "array([1.46543286])"
            ]
          },
          "metadata": {},
          "execution_count": 5
        }
      ]
    },
    {
      "cell_type": "markdown",
      "source": [
        "Specifying\n",
        "\"l2\" indicates that you want SGD to add a regularization term to the cost function\n",
        "equal to half the square of the ℓ2 norm of the weight vector: this is simply Ridge\n",
        "Regression."
      ],
      "metadata": {
        "id": "hoxLHI5gWA9D"
      }
    },
    {
      "cell_type": "markdown",
      "source": [
        "##Lasso Regression"
      ],
      "metadata": {
        "id": "7D7YsNhBWE52"
      }
    },
    {
      "cell_type": "markdown",
      "source": [
        "Least Absolute Shrinkage and Selection Operator Regression (usually simply called\n",
        "Lasso Regression) is another regularized version of Linear Regression: just like Ridge\n",
        "Regression, it adds a regularization term to the cost function, but it uses the $L_1$ norm\n",
        "of the weight vector instead of half the square of the $L_2$ norm.\n",
        "\n",
        "\n",
        "$$\n",
        "J(\\theta) = MSE(\\theta) + \\alpha \\frac{1}{2}\\sum_{i=1}^n |\\theta_i|\n",
        "$$"
      ],
      "metadata": {
        "id": "k2CZiooAyz-n"
      }
    },
    {
      "cell_type": "code",
      "source": [
        "plt.figure(figsize=(8,4))\n",
        "plt.subplot(121)\n",
        "plot_model(Lasso, polynomial=False, alphas=(0, 0.1, 1), random_state=42)\n",
        "plt.ylabel(\"$y$\", rotation=0, fontsize=18)\n",
        "plt.subplot(122)\n",
        "plot_model(Lasso, polynomial=True, alphas=(0, 10**-7, 1), tol=1, random_state=42)\n",
        "\n",
        "plt.show()"
      ],
      "metadata": {
        "id": "ZK8DQQrtzPjD",
        "outputId": "ecb598af-0801-407b-a4d0-077892dfa3a9",
        "colab": {
          "base_uri": "https://localhost:8080/",
          "height": 295
        }
      },
      "execution_count": 7,
      "outputs": [
        {
          "output_type": "display_data",
          "data": {
            "image/png": "[encoded data removed]",
            "text/plain": [
              "<Figure size 576x288 with 2 Axes>"
            ]
          },
          "metadata": {
            "needs_background": "light"
          }
        }
      ]
    },
    {
      "cell_type": "markdown",
      "source": [
        "An important characteristic of Lasso Regression is that it tends to eliminate the\n",
        "weights of the least important features (i.e., set them to zero).\n",
        "\n",
        "The Lasso cost function is not differentiable at $\\theta_i = 0$ (for `i = 1, 2, ⋯, n`), but Gradient\n",
        "Descent still works fine if you use a subgradient vector $g$ instead when any $\\theta_i = 0$.\n",
        "\n",
        "$\n",
        "g(\\boldsymbol{\\theta}, J) = \\nabla_{\\boldsymbol{\\theta}}\\, \\text{MSE}(\\boldsymbol{\\theta}) + \\alpha\n",
        "\\begin{pmatrix}\n",
        "  \\operatorname{sign}(\\theta_1) \\\\\n",
        "  \\operatorname{sign}(\\theta_2) \\\\\n",
        "  \\vdots \\\\\n",
        "  \\operatorname{sign}(\\theta_n) \\\\\n",
        "\\end{pmatrix} \\quad \\text{where } \\operatorname{sign}(\\theta_i) =\n",
        "\\begin{cases}\n",
        "-1 & \\text{if } \\theta_i < 0 \\\\\n",
        "0 & \\text{if } \\theta_i = 0 \\\\\n",
        "+1 & \\text{if } \\theta_i > 0\n",
        "\\end{cases}\n",
        "$\n",
        "\n",
        "Here is a small Scikit-Learn example using the Lasso class:"
      ],
      "metadata": {
        "id": "oPQLhf0i1qm0"
      }
    },
    {
      "cell_type": "code",
      "source": [
        "lasso_reg = Lasso(alpha=0.1)\n",
        "lasso_reg.fit(X, y)\n",
        "lasso_reg.predict([[1.5]])"
      ],
      "metadata": {
        "id": "OJR05UPp3Wc2",
        "outputId": "ee4c8d1e-c3e6-47ff-fd4f-61aaf811c299",
        "colab": {
          "base_uri": "https://localhost:8080/"
        }
      },
      "execution_count": 8,
      "outputs": [
        {
          "output_type": "execute_result",
          "data": {
            "text/plain": [
              "array([1.53788174])"
            ]
          },
          "metadata": {},
          "execution_count": 8
        }
      ]
    },
    {
      "cell_type": "markdown",
      "source": [
        "Note that you could instead use `SGDRegressor(penalty=\"l1\")`."
      ],
      "metadata": {
        "id": "QSm53nLJ3xqb"
      }
    },
    {
      "cell_type": "code",
      "source": [
        "sgd_reg = SGDRegressor(penalty=\"l1\", alpha=0.1)\n",
        "sgd_reg.fit(X, y.ravel())\n",
        "sgd_reg.predict([[1.5]])"
      ],
      "metadata": {
        "id": "zNzC48F53yKd",
        "outputId": "ecfa9123-d6ef-49d8-f581-8d65bc240c51",
        "colab": {
          "base_uri": "https://localhost:8080/"
        }
      },
      "execution_count": 12,
      "outputs": [
        {
          "output_type": "execute_result",
          "data": {
            "text/plain": [
              "array([1.44587236])"
            ]
          },
          "metadata": {},
          "execution_count": 12
        }
      ]
    },
    {
      "cell_type": "markdown",
      "source": [
        "##Elastic Net"
      ],
      "metadata": {
        "id": "ZEmWMIrS4nX2"
      }
    },
    {
      "cell_type": "markdown",
      "source": [
        ""
      ],
      "metadata": {
        "id": "sKz4EXAv4oCY"
      }
    }
  ]
}