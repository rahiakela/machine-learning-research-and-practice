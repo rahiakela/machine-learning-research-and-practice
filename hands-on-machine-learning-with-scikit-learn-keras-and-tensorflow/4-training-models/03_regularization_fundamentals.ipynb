{
  "nbformat": 4,
  "nbformat_minor": 0,
  "metadata": {
    "colab": {
      "name": "03-regularization-fundamentals.ipynb",
      "provenance": [],
      "toc_visible": true,
      "authorship_tag": "ABX9TyPoM7QvkVEtCm9tlK6T9+7+",
      "include_colab_link": true
    },
    "kernelspec": {
      "name": "python3",
      "display_name": "Python 3"
    },
    "language_info": {
      "name": "python"
    }
  },
  "cells": [
    {
      "cell_type": "markdown",
      "metadata": {
        "id": "view-in-github",
        "colab_type": "text"
      },
      "source": [
        "<a href=\"https://colab.research.google.com/github/rahiakela/machine-learning-research-and-practice/blob/main/hands-on-machine-learning-with-scikit-learn-keras-and-tensorflow/4-training-models/03_regularization_fundamentals.ipynb\" target=\"_parent\"><img src=\"https://colab.research.google.com/assets/colab-badge.svg\" alt=\"Open In Colab\"/></a>"
      ]
    },
    {
      "cell_type": "markdown",
      "source": [
        "##Regularization Fundamentals"
      ],
      "metadata": {
        "id": "yeF9CgMZOeRG"
      }
    },
    {
      "cell_type": "markdown",
      "source": [
        "A good way to reduce overfitting is to regularize the\n",
        "model (i.e., to constrain it): the fewer degrees of freedom it has, the harder it will be for it to overfit the data. A simple way to regularize a polynomial model is to reduce\n",
        "the number of polynomial degrees.\n",
        "\n",
        "For a linear model, regularization is typically achieved by constraining the weights of\n",
        "the model. We will now look at Ridge Regression, Lasso Regression, and Elastic Net,\n",
        "which implement three different ways to constrain the weights."
      ],
      "metadata": {
        "id": "B62mI_g9PMdq"
      }
    },
    {
      "cell_type": "markdown",
      "source": [
        "##Setup"
      ],
      "metadata": {
        "id": "SL-VpDaHPd43"
      }
    },
    {
      "cell_type": "code",
      "source": [
        "# Common imports\n",
        "import numpy as np\n",
        "import numpy.random as rnd\n",
        "import os\n",
        "\n",
        "from sklearn.linear_model import LinearRegression\n",
        "from sklearn.linear_model import Ridge\n",
        "from sklearn.linear_model import SGDRegressor\n",
        "from sklearn.preprocessing import PolynomialFeatures\n",
        "from sklearn.preprocessing import StandardScaler\n",
        "from sklearn.pipeline import Pipeline\n",
        "from sklearn.metrics import mean_squared_error\n",
        "from sklearn.model_selection import train_test_split\n",
        "\n",
        "\n",
        "# to make this notebook's output stable across runs\n",
        "np.random.seed(42)\n",
        "\n",
        "# To plot pretty figures\n",
        "%matplotlib inline\n",
        "import matplotlib as mpl\n",
        "import matplotlib.pyplot as plt\n",
        "mpl.rc('axes', labelsize=14)\n",
        "mpl.rc('xtick', labelsize=12)\n",
        "mpl.rc('ytick', labelsize=12)"
      ],
      "metadata": {
        "id": "IkoWXeCkPf9r"
      },
      "execution_count": 4,
      "outputs": []
    },
    {
      "cell_type": "code",
      "source": [
        "np.random.seed(42)\n",
        "m = 20\n",
        "X = 3 * np.random.rand(m, 1)\n",
        "y = 1 + 0.5 * X + np.random.randn(m, 1) / 1.5\n",
        "X_new = np.linspace(0, 3, 100).reshape(100, 1)"
      ],
      "metadata": {
        "id": "YWmiXs8lPykg"
      },
      "execution_count": 2,
      "outputs": []
    },
    {
      "cell_type": "markdown",
      "source": [
        "##Ridge Regression"
      ],
      "metadata": {
        "id": "sP7r388kPgYg"
      }
    },
    {
      "cell_type": "markdown",
      "source": [
        "Ridge Regression (also called Tikhonov regularization) is a regularized version of Linear\n",
        "Regression: a regularization term equal to $\\alpha\\sum_{i=1}^n \\theta_i^2$ is added to the cost function.\n",
        "This forces the learning algorithm to not only fit the data but also keep the model\n",
        "weights as small as possible. Note that the regularization term should only be added\n",
        "to the cost function during training. Once the model is trained, you want to use the\n",
        "unregularized performance measure to evaluate the model’s performance.\n",
        "\n",
        "The hyperparameter $\\alpha$ controls how much you want to regularize the model. If $\\alpha = 0$,\n",
        "then Ridge Regression is just Linear Regression. If $\\alpha$ is very large, then all weights end\n",
        "up very close to zero and the result is a flat line going through the data’s mean.\n",
        "\n",
        "$$\n",
        "J(\\theta) = MSE(\\theta) + \\alpha \\frac{1}{2}\\sum_{i=1}^n \\theta_i^2\n",
        "$$"
      ],
      "metadata": {
        "id": "SBD-X4MRPhP0"
      }
    },
    {
      "cell_type": "code",
      "source": [
        "def plot_model(model_class, polynomial, alphas, **model_kargs):\n",
        "    for alpha, style in zip(alphas, (\"b-\", \"g--\", \"r:\")):\n",
        "        model = model_class(alpha, **model_kargs) if alpha > 0 else LinearRegression()\n",
        "        if polynomial:\n",
        "            model = Pipeline([\n",
        "                    (\"poly_features\", PolynomialFeatures(degree=10, include_bias=False)),\n",
        "                    (\"std_scaler\", StandardScaler()),\n",
        "                    (\"regul_reg\", model),\n",
        "                ])\n",
        "        model.fit(X, y)\n",
        "        y_new_regul = model.predict(X_new)\n",
        "        lw = 2 if alpha > 0 else 1\n",
        "        plt.plot(X_new, y_new_regul, style, linewidth=lw, label=r\"$\\alpha = {}$\".format(alpha))\n",
        "    plt.plot(X, y, \"b.\", linewidth=3)\n",
        "    plt.legend(loc=\"upper left\", fontsize=15)\n",
        "    plt.xlabel(\"$x_1$\", fontsize=18)\n",
        "    plt.axis([0, 3, 0, 4])\n",
        "\n",
        "plt.figure(figsize=(8,4))\n",
        "plt.subplot(121)\n",
        "plot_model(Ridge, polynomial=False, alphas=(0, 10, 100), random_state=42)\n",
        "plt.ylabel(\"$y$\", rotation=0, fontsize=18)\n",
        "plt.subplot(122)\n",
        "plot_model(Ridge, polynomial=True, alphas=(0, 10**-5, 1), random_state=42)\n",
        "\n",
        "plt.show()"
      ],
      "metadata": {
        "id": "px8Ldh52T2vr",
        "outputId": "f6bfd42c-41df-4a68-f4d8-da4bcf014103",
        "colab": {
          "base_uri": "https://localhost:8080/",
          "height": 295
        }
      },
      "execution_count": 5,
      "outputs": [
        {
          "output_type": "display_data",
          "data": {
            "image/png": "[encoded data removed]",
            "text/plain": [
              "<Figure size 576x288 with 2 Axes>"
            ]
          },
          "metadata": {
            "needs_background": "light"
          }
        }
      ]
    },
    {
      "cell_type": "markdown",
      "source": [
        "Note how\n",
        "increasing $\\alpha$ leads to flatter (i.e., less extreme, more reasonable) predictions, thus\n",
        "reducing the model’s variance but increasing its bias.\n",
        "\n",
        "As with Linear Regression, we can perform Ridge Regression either by computing a\n",
        "closed-form equation or by performing Gradient Descent. The pros and cons are the same.\n",
        "\n",
        "$$\n",
        "\\hat\\theta = (X^TX + \\alpha A)^{-1} X^T y\n",
        "$$\n",
        "\n",
        "Here is how to perform Ridge Regression with Scikit-Learn using a closed-form solution."
      ],
      "metadata": {
        "id": "ukT79R-6UVsJ"
      }
    },
    {
      "cell_type": "code",
      "source": [
        "ridge_reg = Ridge(alpha=1, solver=\"cholesky\")\n",
        "ridge_reg.fit(X, y)\n",
        "ridge_reg.predict([[1.5]])"
      ],
      "metadata": {
        "id": "79KK9P5WVJHY",
        "outputId": "c26a73bc-8f19-4e46-c407-c1bfea870778",
        "colab": {
          "base_uri": "https://localhost:8080/"
        }
      },
      "execution_count": 6,
      "outputs": [
        {
          "output_type": "execute_result",
          "data": {
            "text/plain": [
              "array([[1.55071465]])"
            ]
          },
          "metadata": {},
          "execution_count": 6
        }
      ]
    },
    {
      "cell_type": "markdown",
      "source": [
        "And using Stochastic Gradient Descent:"
      ],
      "metadata": {
        "id": "CS5SeZZOVgoM"
      }
    },
    {
      "cell_type": "code",
      "source": [
        "sgd_reg = SGDRegressor(penalty=\"l2\")\n",
        "sgd_reg.fit(X, y.ravel())\n",
        "sgd_reg.predict([[1.5]])"
      ],
      "metadata": {
        "id": "fxRrAJpDVhaU",
        "outputId": "cc84292c-f15e-47f4-bf5e-6cb371205992",
        "colab": {
          "base_uri": "https://localhost:8080/"
        }
      },
      "execution_count": 8,
      "outputs": [
        {
          "output_type": "execute_result",
          "data": {
            "text/plain": [
              "array([1.46689237])"
            ]
          },
          "metadata": {},
          "execution_count": 8
        }
      ]
    },
    {
      "cell_type": "markdown",
      "source": [
        "Specifying\n",
        "\"l2\" indicates that you want SGD to add a regularization term to the cost function\n",
        "equal to half the square of the ℓ2 norm of the weight vector: this is simply Ridge\n",
        "Regression."
      ],
      "metadata": {
        "id": "hoxLHI5gWA9D"
      }
    },
    {
      "cell_type": "markdown",
      "source": [
        "##Lasso Regression"
      ],
      "metadata": {
        "id": "7D7YsNhBWE52"
      }
    }
  ]
}