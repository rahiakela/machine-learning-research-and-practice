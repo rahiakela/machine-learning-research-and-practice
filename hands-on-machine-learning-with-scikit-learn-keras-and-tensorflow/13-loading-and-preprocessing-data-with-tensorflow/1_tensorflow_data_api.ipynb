{
  "nbformat": 4,
  "nbformat_minor": 0,
  "metadata": {
    "colab": {
      "name": "1-tensorflow-data-api.ipynb",
      "provenance": [],
      "toc_visible": true,
      "authorship_tag": "ABX9TyNxMf9UOOKUKy4XnMeTtqC4",
      "include_colab_link": true
    },
    "kernelspec": {
      "name": "python3",
      "display_name": "Python 3"
    }
  },
  "cells": [
    {
      "cell_type": "markdown",
      "metadata": {
        "id": "view-in-github",
        "colab_type": "text"
      },
      "source": [
        "<a href=\"https://colab.research.google.com/github/rahiakela/machine-learning-research-and-practice/blob/main/hands-on-machine-learning-with-scikit-learn-keras-and-tensorflow/13-loading-and-preprocessing-data-with-tensorflow/1_tensorflow_data_api.ipynb\" target=\"_parent\"><img src=\"https://colab.research.google.com/assets/colab-badge.svg\" alt=\"Open In Colab\"/></a>"
      ]
    },
    {
      "cell_type": "markdown",
      "metadata": {
        "id": "gffXA1BL54_S"
      },
      "source": [
        "## The Data API"
      ]
    },
    {
      "cell_type": "markdown",
      "metadata": {
        "id": "IWhm5Orq6O_p"
      },
      "source": [
        "Ingesting a large dataset and preprocessing it efficiently can be tricky to implement with other **Deep Learning** libraries, but **TensorFlow** makes it easy thanks to the **Data API**: you just create a dataset object, tell it where to get the data, then transform it in any way you want, and **TensorFlow** takes care of all the implementation details, such as multithreading, queuing, batching, prefetching, and so on.\n",
        "\n",
        "Off the shelf, the **Data API** can read from text files (such as CSV files), binary files with fixed-size records, and binary files that use **TensorFlow’s TFRecord format**, which supports records of varying sizes. TFRecord is a flexible and efficient binary format based on Protocol Buffers (an open source binary format). \n",
        "\n",
        "The **Data API** also has support for reading from SQL databases. Moreover, many Open Source extensions are available to read from all sorts of data sources, such as **Google’s BigQuery** service.\n",
        "\n",
        "However, reading huge datasets efficiently is not the only difficulty: the data also needs to be preprocessed. Indeed, it is not always composed strictly of convenient numerical fields: sometimes there will be text features, categorical features, and so on.\n",
        "\n",
        "To handle this, TensorFlow provides the **Features API**: it lets you easily convert these\n",
        "features to numerical features that can be consumed by your neural network. \n",
        "\n",
        "For example, categorical features with a large number of categories (such as cities, or words) can be encoded using embeddings (an embedding is a trainable dense vector that represents a category).\n",
        "\n",
        "**Data API** cover the **TFRecord format** and the **Features\n",
        "API** that is related to  these projects.\n",
        "\n",
        "* **TF Transform (tf.Transform)** makes it possible to write a single preprocessing function that can be run both in batch mode on your full training set, before training (to speed it up), and then exported to a TF Function and incorporated into your trained model, so that once it is deployed in production, it can take care of preprocessing new instances on the fly.\n",
        "* **TF Datasets (TFDS)** provides a convenient function to download many common datasets of all kinds, including large ones like **ImageNet**, and it provides convenient dataset objects to manipulate them using the **Data API**."
      ]
    },
    {
      "cell_type": "markdown",
      "metadata": {
        "id": "FRnXTCg_8nRM"
      },
      "source": [
        "## Setup"
      ]
    },
    {
      "cell_type": "code",
      "metadata": {
        "id": "bbcckhe58s5S",
        "colab": {
          "base_uri": "https://localhost:8080/"
        },
        "outputId": "b6c8989a-9e43-49ec-b50c-fee10d087bf8"
      },
      "source": [
        "import sys\n",
        "assert sys.version_info >= (3, 5)  # Python ≥3.5 is required\n",
        "\n",
        "import sklearn \n",
        "from sklearn.datasets import fetch_california_housing\n",
        "from sklearn.model_selection import train_test_split\n",
        "from sklearn.preprocessing import StandardScaler\n",
        "assert sklearn.__version__ >= \"0.20\"  # Scikit-Learn ≥0.20 is required\n",
        "\n",
        "# TensorFlow ≥2.0 is required\n",
        "import tensorflow as tf\n",
        "from tensorflow import keras\n",
        "assert tf.__version__ >= '2.0'\n",
        "\n",
        "# Common imports\n",
        "import numpy as np\n",
        "import os\n",
        "\n",
        "# to make this notebook's output stable across runs\n",
        "np.random.seed(42)\n",
        "\n",
        "# To plot pretty figures\n",
        "%matplotlib inline\n",
        "import matplotlib as mpl\n",
        "import matplotlib.pyplot as plt\n",
        "mpl.rc('axes', labelsize=14)\n",
        "mpl.rc('xtick', labelsize=12)\n",
        "mpl.rc('ytick', labelsize=12)\n",
        "\n",
        "if not tf.config.list_physical_devices('GPU'):\n",
        "  print(\"No GPU was detected. LSTMs and CNNs can be very slow without a GPU.\")"
      ],
      "execution_count": 2,
      "outputs": [
        {
          "output_type": "stream",
          "name": "stdout",
          "text": [
            "No GPU was detected. LSTMs and CNNs can be very slow without a GPU.\n"
          ]
        }
      ]
    },
    {
      "cell_type": "markdown",
      "metadata": {
        "id": "vkAn-27n9TcX"
      },
      "source": [
        "## Introduction"
      ]
    },
    {
      "cell_type": "markdown",
      "metadata": {
        "id": "Ddjsd2PS9UfV"
      },
      "source": [
        "The whole **Data API** revolves around the concept of a dataset: as you might suspect, this represents a sequence of data items. \n",
        "\n",
        "Usually you will use datasets that gradually read data from disk, but for simplicity let’s just create a dataset entirely in RAM:"
      ]
    },
    {
      "cell_type": "code",
      "metadata": {
        "id": "eXdlDh1P81as",
        "colab": {
          "base_uri": "https://localhost:8080/"
        },
        "outputId": "471d6ce6-baab-45f2-b6d0-40484b0d678f"
      },
      "source": [
        "X = tf.range(10)  # any data tensor\n",
        "dataset = tf.data.Dataset.from_tensor_slices(X)\n",
        "dataset"
      ],
      "execution_count": 3,
      "outputs": [
        {
          "output_type": "execute_result",
          "data": {
            "text/plain": [
              "<TensorSliceDataset element_spec=TensorSpec(shape=(), dtype=tf.int32, name=None)>"
            ]
          },
          "metadata": {},
          "execution_count": 3
        }
      ]
    },
    {
      "cell_type": "markdown",
      "metadata": {
        "id": "qYxStsF7-LeT"
      },
      "source": [
        "You can simply iterate over a dataset’s items like this:"
      ]
    },
    {
      "cell_type": "code",
      "metadata": {
        "id": "ftUX4SMx-A7h",
        "colab": {
          "base_uri": "https://localhost:8080/"
        },
        "outputId": "cda936ce-4214-4181-883d-0c80e20955ee"
      },
      "source": [
        "for item in dataset:\n",
        "  print(item)"
      ],
      "execution_count": 4,
      "outputs": [
        {
          "output_type": "stream",
          "name": "stdout",
          "text": [
            "tf.Tensor(0, shape=(), dtype=int32)\n",
            "tf.Tensor(1, shape=(), dtype=int32)\n",
            "tf.Tensor(2, shape=(), dtype=int32)\n",
            "tf.Tensor(3, shape=(), dtype=int32)\n",
            "tf.Tensor(4, shape=(), dtype=int32)\n",
            "tf.Tensor(5, shape=(), dtype=int32)\n",
            "tf.Tensor(6, shape=(), dtype=int32)\n",
            "tf.Tensor(7, shape=(), dtype=int32)\n",
            "tf.Tensor(8, shape=(), dtype=int32)\n",
            "tf.Tensor(9, shape=(), dtype=int32)\n"
          ]
        }
      ]
    },
    {
      "cell_type": "markdown",
      "metadata": {
        "id": "p9589xSI-Y5L"
      },
      "source": [
        "Equivalently"
      ]
    },
    {
      "cell_type": "code",
      "metadata": {
        "id": "xBLrXYbO-Suk",
        "colab": {
          "base_uri": "https://localhost:8080/"
        },
        "outputId": "40e78ed8-4695-4c2b-a54a-d2bdec96ee5e"
      },
      "source": [
        "dataset = tf.data.Dataset.range(10)\n",
        "for item in dataset:\n",
        "  print(item)"
      ],
      "execution_count": 5,
      "outputs": [
        {
          "output_type": "stream",
          "name": "stdout",
          "text": [
            "tf.Tensor(0, shape=(), dtype=int64)\n",
            "tf.Tensor(1, shape=(), dtype=int64)\n",
            "tf.Tensor(2, shape=(), dtype=int64)\n",
            "tf.Tensor(3, shape=(), dtype=int64)\n",
            "tf.Tensor(4, shape=(), dtype=int64)\n",
            "tf.Tensor(5, shape=(), dtype=int64)\n",
            "tf.Tensor(6, shape=(), dtype=int64)\n",
            "tf.Tensor(7, shape=(), dtype=int64)\n",
            "tf.Tensor(8, shape=(), dtype=int64)\n",
            "tf.Tensor(9, shape=(), dtype=int64)\n"
          ]
        }
      ]
    },
    {
      "cell_type": "markdown",
      "metadata": {
        "id": "Rf5evy05-wLi"
      },
      "source": [
        "## Chaining Transformations"
      ]
    },
    {
      "cell_type": "markdown",
      "metadata": {
        "id": "hO-G1Hzt-zaT"
      },
      "source": [
        "Once you have a dataset, you can apply all sorts of transformations to it by calling its transformation methods. \n",
        "\n",
        "Each method returns a new dataset, so you can chain transformations like this.\n",
        "\n",
        "![image.png](data:image/png;base64,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)"
      ]
    },
    {
      "cell_type": "code",
      "metadata": {
        "id": "w_chc0Ee-huU",
        "colab": {
          "base_uri": "https://localhost:8080/"
        },
        "outputId": "0cebd927-a7c4-476a-a763-dad3c5fe2c8b"
      },
      "source": [
        "dataset = dataset.repeat(3).batch(7)\n",
        "for item in dataset:\n",
        "  print(item)"
      ],
      "execution_count": 6,
      "outputs": [
        {
          "output_type": "stream",
          "name": "stdout",
          "text": [
            "tf.Tensor([0 1 2 3 4 5 6], shape=(7,), dtype=int64)\n",
            "tf.Tensor([7 8 9 0 1 2 3], shape=(7,), dtype=int64)\n",
            "tf.Tensor([4 5 6 7 8 9 0], shape=(7,), dtype=int64)\n",
            "tf.Tensor([1 2 3 4 5 6 7], shape=(7,), dtype=int64)\n",
            "tf.Tensor([8 9], shape=(2,), dtype=int64)\n"
          ]
        }
      ]
    },
    {
      "cell_type": "markdown",
      "metadata": {
        "id": "FSEHyhg_AArS"
      },
      "source": [
        "Finally, we iterate over the items of this final dataset. As you can see, the batch() method had to output a final batch of size 2 instead of 7, but you can call it with `drop_remainder=True` if you want it to drop this final batch so that all batches have the exact same size."
      ]
    },
    {
      "cell_type": "code",
      "metadata": {
        "id": "tOFkgio3_b_R",
        "colab": {
          "base_uri": "https://localhost:8080/"
        },
        "outputId": "343cb5dc-1384-4fba-acea-2919854abe9f"
      },
      "source": [
        "dataset = tf.data.Dataset.range(10)\n",
        "dataset = dataset.repeat(5).batch(9)\n",
        "for item in dataset:\n",
        "  print(item)"
      ],
      "execution_count": 7,
      "outputs": [
        {
          "output_type": "stream",
          "name": "stdout",
          "text": [
            "tf.Tensor([0 1 2 3 4 5 6 7 8], shape=(9,), dtype=int64)\n",
            "tf.Tensor([9 0 1 2 3 4 5 6 7], shape=(9,), dtype=int64)\n",
            "tf.Tensor([8 9 0 1 2 3 4 5 6], shape=(9,), dtype=int64)\n",
            "tf.Tensor([7 8 9 0 1 2 3 4 5], shape=(9,), dtype=int64)\n",
            "tf.Tensor([6 7 8 9 0 1 2 3 4], shape=(9,), dtype=int64)\n",
            "tf.Tensor([5 6 7 8 9], shape=(5,), dtype=int64)\n"
          ]
        }
      ]
    },
    {
      "cell_type": "code",
      "metadata": {
        "id": "xPvEIWcR_l-H",
        "colab": {
          "base_uri": "https://localhost:8080/"
        },
        "outputId": "0eb50420-afba-4cf6-da60-b76a6ea1f728"
      },
      "source": [
        "dataset = tf.data.Dataset.range(10)\n",
        "dataset = dataset.repeat(5).batch(9, drop_remainder=True)  # discard the remainder\n",
        "for item in dataset:\n",
        "  print(item)"
      ],
      "execution_count": 8,
      "outputs": [
        {
          "output_type": "stream",
          "name": "stdout",
          "text": [
            "tf.Tensor([0 1 2 3 4 5 6 7 8], shape=(9,), dtype=int64)\n",
            "tf.Tensor([9 0 1 2 3 4 5 6 7], shape=(9,), dtype=int64)\n",
            "tf.Tensor([8 9 0 1 2 3 4 5 6], shape=(9,), dtype=int64)\n",
            "tf.Tensor([7 8 9 0 1 2 3 4 5], shape=(9,), dtype=int64)\n",
            "tf.Tensor([6 7 8 9 0 1 2 3 4], shape=(9,), dtype=int64)\n"
          ]
        }
      ]
    },
    {
      "cell_type": "markdown",
      "metadata": {
        "id": "Zdo6O7HrBttP"
      },
      "source": [
        "You can also apply any transformation you want to the items by calling the `map()` method."
      ]
    },
    {
      "cell_type": "code",
      "metadata": {
        "id": "wDL2p_E9A11n",
        "colab": {
          "base_uri": "https://localhost:8080/"
        },
        "outputId": "cc4b2f4a-46ce-49bc-84b0-edaa7be36675"
      },
      "source": [
        "dataset = dataset.map(lambda x: x * 2)\n",
        "for item in dataset:\n",
        "  print(item)"
      ],
      "execution_count": 9,
      "outputs": [
        {
          "output_type": "stream",
          "name": "stdout",
          "text": [
            "tf.Tensor([ 0  2  4  6  8 10 12 14 16], shape=(9,), dtype=int64)\n",
            "tf.Tensor([18  0  2  4  6  8 10 12 14], shape=(9,), dtype=int64)\n",
            "tf.Tensor([16 18  0  2  4  6  8 10 12], shape=(9,), dtype=int64)\n",
            "tf.Tensor([14 16 18  0  2  4  6  8 10], shape=(9,), dtype=int64)\n",
            "tf.Tensor([12 14 16 18  0  2  4  6  8], shape=(9,), dtype=int64)\n"
          ]
        }
      ]
    },
    {
      "cell_type": "markdown",
      "metadata": {
        "id": "3x3nEvdwCKYD"
      },
      "source": [
        "While the `map()` applies a transformation to each item, the `apply()` method applies a transformation to the dataset as a whole."
      ]
    },
    {
      "cell_type": "code",
      "metadata": {
        "id": "XSS5cp1NB783",
        "colab": {
          "base_uri": "https://localhost:8080/"
        },
        "outputId": "04afab4e-7dc2-457c-f6e7-15bdb7a3b3a4"
      },
      "source": [
        "dataset1 = tf.data.Dataset.range(10)\n",
        "dataset1 = dataset1.repeat(5).batch(9, drop_remainder=True)  # discard the remainder\n",
        "dataset1 = dataset1.apply(tf.data.experimental.unbatch())\n",
        "for item in dataset1:\n",
        "  print(item)"
      ],
      "execution_count": 12,
      "outputs": [
        {
          "output_type": "stream",
          "name": "stdout",
          "text": [
            "tf.Tensor(0, shape=(), dtype=int64)\n",
            "tf.Tensor(1, shape=(), dtype=int64)\n",
            "tf.Tensor(2, shape=(), dtype=int64)\n",
            "tf.Tensor(3, shape=(), dtype=int64)\n",
            "tf.Tensor(4, shape=(), dtype=int64)\n",
            "tf.Tensor(5, shape=(), dtype=int64)\n",
            "tf.Tensor(6, shape=(), dtype=int64)\n",
            "tf.Tensor(7, shape=(), dtype=int64)\n",
            "tf.Tensor(8, shape=(), dtype=int64)\n",
            "tf.Tensor(9, shape=(), dtype=int64)\n",
            "tf.Tensor(0, shape=(), dtype=int64)\n",
            "tf.Tensor(1, shape=(), dtype=int64)\n",
            "tf.Tensor(2, shape=(), dtype=int64)\n",
            "tf.Tensor(3, shape=(), dtype=int64)\n",
            "tf.Tensor(4, shape=(), dtype=int64)\n",
            "tf.Tensor(5, shape=(), dtype=int64)\n",
            "tf.Tensor(6, shape=(), dtype=int64)\n",
            "tf.Tensor(7, shape=(), dtype=int64)\n",
            "tf.Tensor(8, shape=(), dtype=int64)\n",
            "tf.Tensor(9, shape=(), dtype=int64)\n",
            "tf.Tensor(0, shape=(), dtype=int64)\n",
            "tf.Tensor(1, shape=(), dtype=int64)\n",
            "tf.Tensor(2, shape=(), dtype=int64)\n",
            "tf.Tensor(3, shape=(), dtype=int64)\n",
            "tf.Tensor(4, shape=(), dtype=int64)\n",
            "tf.Tensor(5, shape=(), dtype=int64)\n",
            "tf.Tensor(6, shape=(), dtype=int64)\n",
            "tf.Tensor(7, shape=(), dtype=int64)\n",
            "tf.Tensor(8, shape=(), dtype=int64)\n",
            "tf.Tensor(9, shape=(), dtype=int64)\n",
            "tf.Tensor(0, shape=(), dtype=int64)\n",
            "tf.Tensor(1, shape=(), dtype=int64)\n",
            "tf.Tensor(2, shape=(), dtype=int64)\n",
            "tf.Tensor(3, shape=(), dtype=int64)\n",
            "tf.Tensor(4, shape=(), dtype=int64)\n",
            "tf.Tensor(5, shape=(), dtype=int64)\n",
            "tf.Tensor(6, shape=(), dtype=int64)\n",
            "tf.Tensor(7, shape=(), dtype=int64)\n",
            "tf.Tensor(8, shape=(), dtype=int64)\n",
            "tf.Tensor(9, shape=(), dtype=int64)\n",
            "tf.Tensor(0, shape=(), dtype=int64)\n",
            "tf.Tensor(1, shape=(), dtype=int64)\n",
            "tf.Tensor(2, shape=(), dtype=int64)\n",
            "tf.Tensor(3, shape=(), dtype=int64)\n",
            "tf.Tensor(4, shape=(), dtype=int64)\n"
          ]
        }
      ]
    },
    {
      "cell_type": "markdown",
      "metadata": {
        "id": "bfoLVL__D6eQ"
      },
      "source": [
        "It is also possible to simply filter the dataset using the `filter()` method:"
      ]
    },
    {
      "cell_type": "code",
      "metadata": {
        "id": "CK5_GaJID7VQ",
        "colab": {
          "base_uri": "https://localhost:8080/"
        },
        "outputId": "617fec98-a48d-45bc-bb05-2b481768c873"
      },
      "source": [
        "dataset1 = dataset1.filter(lambda x: x < 5)\n",
        "for item in dataset1:\n",
        "  print(item)"
      ],
      "execution_count": 13,
      "outputs": [
        {
          "output_type": "stream",
          "name": "stdout",
          "text": [
            "tf.Tensor(0, shape=(), dtype=int64)\n",
            "tf.Tensor(1, shape=(), dtype=int64)\n",
            "tf.Tensor(2, shape=(), dtype=int64)\n",
            "tf.Tensor(3, shape=(), dtype=int64)\n",
            "tf.Tensor(4, shape=(), dtype=int64)\n",
            "tf.Tensor(0, shape=(), dtype=int64)\n",
            "tf.Tensor(1, shape=(), dtype=int64)\n",
            "tf.Tensor(2, shape=(), dtype=int64)\n",
            "tf.Tensor(3, shape=(), dtype=int64)\n",
            "tf.Tensor(4, shape=(), dtype=int64)\n",
            "tf.Tensor(0, shape=(), dtype=int64)\n",
            "tf.Tensor(1, shape=(), dtype=int64)\n",
            "tf.Tensor(2, shape=(), dtype=int64)\n",
            "tf.Tensor(3, shape=(), dtype=int64)\n",
            "tf.Tensor(4, shape=(), dtype=int64)\n",
            "tf.Tensor(0, shape=(), dtype=int64)\n",
            "tf.Tensor(1, shape=(), dtype=int64)\n",
            "tf.Tensor(2, shape=(), dtype=int64)\n",
            "tf.Tensor(3, shape=(), dtype=int64)\n",
            "tf.Tensor(4, shape=(), dtype=int64)\n",
            "tf.Tensor(0, shape=(), dtype=int64)\n",
            "tf.Tensor(1, shape=(), dtype=int64)\n",
            "tf.Tensor(2, shape=(), dtype=int64)\n",
            "tf.Tensor(3, shape=(), dtype=int64)\n",
            "tf.Tensor(4, shape=(), dtype=int64)\n"
          ]
        }
      ]
    },
    {
      "cell_type": "markdown",
      "metadata": {
        "id": "poeMGLINEfI8"
      },
      "source": [
        "You will often want to look at just a few items from a dataset. "
      ]
    },
    {
      "cell_type": "code",
      "metadata": {
        "id": "gCYKZLAqCrPw",
        "colab": {
          "base_uri": "https://localhost:8080/"
        },
        "outputId": "75b5b520-9e0c-41cd-a168-546cc68f21ca"
      },
      "source": [
        "for item in dataset1.take(3):\n",
        "  print(item)"
      ],
      "execution_count": 14,
      "outputs": [
        {
          "output_type": "stream",
          "name": "stdout",
          "text": [
            "tf.Tensor(0, shape=(), dtype=int64)\n",
            "tf.Tensor(1, shape=(), dtype=int64)\n",
            "tf.Tensor(2, shape=(), dtype=int64)\n"
          ]
        }
      ]
    },
    {
      "cell_type": "code",
      "metadata": {
        "id": "7schtlrd8lAn",
        "outputId": "7dfce11f-1363-420a-c33c-2fbc8a5b7d57",
        "colab": {
          "base_uri": "https://localhost:8080/"
        }
      },
      "source": [
        "for item in dataset1.take(5):\n",
        "  print(item)"
      ],
      "execution_count": 15,
      "outputs": [
        {
          "output_type": "stream",
          "name": "stdout",
          "text": [
            "tf.Tensor(0, shape=(), dtype=int64)\n",
            "tf.Tensor(1, shape=(), dtype=int64)\n",
            "tf.Tensor(2, shape=(), dtype=int64)\n",
            "tf.Tensor(3, shape=(), dtype=int64)\n",
            "tf.Tensor(4, shape=(), dtype=int64)\n"
          ]
        }
      ]
    },
    {
      "cell_type": "markdown",
      "metadata": {
        "id": "dmX4ZKD5EtS9"
      },
      "source": [
        "## Shuffling the Data"
      ]
    },
    {
      "cell_type": "markdown",
      "metadata": {
        "id": "f5YVRd26EuTL"
      },
      "source": [
        "As you know, Gradient Descent works best when the instances in the training set are independent and identically distributed.\n",
        "\n",
        "A simple way to ensure this\n",
        "is to shuffle the instances, using the `shuffle()` method. It will create a new dataset that will start by filling up a buffer with the first items of the source dataset. \n",
        "\n",
        "Then, whenever it is asked for an item, it will pull one out randomly from the buffer and replace it with a fresh one from the source dataset, until it has iterated entirely through the source dataset.\n",
        "\n",
        "At this point it continues to pull out items randomly from the buffer until it is empty. You must specify the buffer size, and it is important to\n",
        "make it large enough, or else shuffling will not be very effective.\n",
        "\n",
        "Let's create and displays a dataset containing the integers 0 to 9, repeated 3 times, shuffled using a buffer of size 5 and a random seed of 42, and batched with a batch size of 7."
      ]
    },
    {
      "cell_type": "code",
      "metadata": {
        "id": "WNwbGz3sEmsy",
        "colab": {
          "base_uri": "https://localhost:8080/"
        },
        "outputId": "749011a6-5138-45ad-a4bd-09855083942b"
      },
      "source": [
        "dataset = tf.data.Dataset.range(10).repeat(3)   # 0 to 9, three times\n",
        "dataset = dataset.shuffle(buffer_size=5, seed=42).batch(7)\n",
        "for item in dataset:\n",
        "  print(item)"
      ],
      "execution_count": 16,
      "outputs": [
        {
          "output_type": "stream",
          "name": "stdout",
          "text": [
            "tf.Tensor([0 2 3 6 7 9 4], shape=(7,), dtype=int64)\n",
            "tf.Tensor([5 0 1 1 8 6 5], shape=(7,), dtype=int64)\n",
            "tf.Tensor([4 8 7 1 2 3 0], shape=(7,), dtype=int64)\n",
            "tf.Tensor([5 4 2 7 8 9 9], shape=(7,), dtype=int64)\n",
            "tf.Tensor([3 6], shape=(2,), dtype=int64)\n"
          ]
        }
      ]
    },
    {
      "cell_type": "markdown",
      "metadata": {
        "id": "YMr5C3G9-dcl"
      },
      "source": [
        "For a large dataset that does not fit in memory, this simple shuffling-buffer approach may not be sufficient, since the buffer will be small compared to the dataset. One solution is to shuffle the source data itself.\n"
      ]
    },
    {
      "cell_type": "markdown",
      "metadata": {
        "id": "vlDeQVjO_pQ8"
      },
      "source": [
        "**Interleaving lines from multiple files**\n",
        "\n",
        "Let’s load the California housing dataset."
      ]
    },
    {
      "cell_type": "code",
      "metadata": {
        "id": "i8tG4Uhx92Tu"
      },
      "source": [
        "housing = fetch_california_housing()\n",
        "X_train_full, X_test, y_train_full, y_test = train_test_split(housing.data, housing.target.reshape(-1, 1), random_state=42)\n",
        "X_train, X_valid, y_train, y_valid = train_test_split(X_train_full, y_train_full, random_state=42)\n",
        "\n",
        "scaler = StandardScaler()\n",
        "scaler.fit(X_train)\n",
        "X_mean = scaler.mean_\n",
        "X_std = scaler.scale_"
      ],
      "execution_count": 17,
      "outputs": []
    },
    {
      "cell_type": "markdown",
      "metadata": {
        "id": "_l907ATyAjqi"
      },
      "source": [
        "For a very large dataset that does not fit in memory, you will typically want to split it into many files first, then have TensorFlow read these files in parallel. \n",
        "\n",
        "To demonstrate this, let's start by splitting the housing dataset and save it to 20 CSV files:"
      ]
    },
    {
      "cell_type": "code",
      "metadata": {
        "id": "v6p1b1pEAgr1"
      },
      "source": [
        "def save_to_multiple_csv_files(data, name_prefix, header=None, n_parts=10):\n",
        "  housing_dir = os.path.join(\"datasets\", \"housing\")\n",
        "  os.makedirs(housing_dir, exist_ok=True)\n",
        "  path_format = os.path.join(housing_dir, \"my_{}_{:02d}.csv\")\n",
        "\n",
        "  filepaths = []\n",
        "  m = len(data)\n",
        "  for file_idx, row_indices in enumerate(np.array_split(np.arange(m), n_parts)):\n",
        "    part_csv = path_format.format(name_prefix, file_idx)\n",
        "    filepaths.append(part_csv)\n",
        "    with open(part_csv, \"wt\", encoding=\"utf-8\") as f:\n",
        "      if header is not None:\n",
        "        f.write(header)\n",
        "        f.write(\"\\n\")\n",
        "      for row_idx in row_indices:\n",
        "        f.write(\",\".join([repr(col) for col in data[row_idx]]))\n",
        "        f.write(\"\\n\")\n",
        "  return filepaths"
      ],
      "execution_count": 18,
      "outputs": []
    },
    {
      "cell_type": "code",
      "metadata": {
        "id": "ccK5OWz9EAiN"
      },
      "source": [
        "train_data = np.c_[X_train, y_train]\n",
        "valid_data = np.c_[X_valid, y_valid]\n",
        "test_data = np.c_[X_test, y_test]\n",
        "\n",
        "header_cols = housing.feature_names + [\"MedianHouseValue\"]\n",
        "header = \",\".join(header_cols)\n",
        "\n",
        "train_filepaths = save_to_multiple_csv_files(train_data, \"train\", header, n_parts=20)\n",
        "valid_filepaths = save_to_multiple_csv_files(valid_data, \"valid\", header, n_parts=10)\n",
        "test_filepaths = save_to_multiple_csv_files(test_data, \"test\", header, n_parts=10)"
      ],
      "execution_count": 19,
      "outputs": []
    },
    {
      "cell_type": "markdown",
      "metadata": {
        "id": "Up-ILqlyE7eM"
      },
      "source": [
        "Okay, now let's take a peek at the first few lines of one of these CSV files:"
      ]
    },
    {
      "cell_type": "code",
      "metadata": {
        "id": "Bv-wk4pXE3Nz",
        "outputId": "ede4a14b-7f48-405c-ef3d-7ea4ab28163e",
        "colab": {
          "base_uri": "https://localhost:8080/",
          "height": 206
        }
      },
      "source": [
        "import pandas as pd\n",
        "\n",
        "pd.read_csv(train_filepaths[0]).head()"
      ],
      "execution_count": 20,
      "outputs": [
        {
          "output_type": "execute_result",
          "data": {
            "text/plain": [
              "   MedInc  HouseAge  AveRooms  AveBedrms  Population  AveOccup  Latitude  \\\n",
              "0  3.5214      15.0  3.049945   1.106548      1447.0  1.605993     37.63   \n",
              "1  5.3275       5.0  6.490060   0.991054      3464.0  3.443340     33.69   \n",
              "2  3.1000      29.0  7.542373   1.591525      1328.0  2.250847     38.44   \n",
              "3  7.1736      12.0  6.289003   0.997442      1054.0  2.695652     33.55   \n",
              "4  2.0549      13.0  5.312457   1.085092      3297.0  2.244384     33.93   \n",
              "\n",
              "   Longitude  MedianHouseValue  \n",
              "0    -122.43             1.442  \n",
              "1    -117.39             1.687  \n",
              "2    -122.98             1.621  \n",
              "3    -117.70             2.621  \n",
              "4    -116.93             0.956  "
            ],
            "text/html": [
              "\n",
              "  <div id=\"df-38e95226-6a44-4cff-8686-0b9964a76f8f\">\n",
              "    <div class=\"colab-df-container\">\n",
              "      <div>\n",
              "<style scoped>\n",
              "    .dataframe tbody tr th:only-of-type {\n",
              "        vertical-align: middle;\n",
              "    }\n",
              "\n",
              "    .dataframe tbody tr th {\n",
              "        vertical-align: top;\n",
              "    }\n",
              "\n",
              "    .dataframe thead th {\n",
              "        text-align: right;\n",
              "    }\n",
              "</style>\n",
              "<table border=\"1\" class=\"dataframe\">\n",
              "  <thead>\n",
              "    <tr style=\"text-align: right;\">\n",
              "      <th></th>\n",
              "      <th>MedInc</th>\n",
              "      <th>HouseAge</th>\n",
              "      <th>AveRooms</th>\n",
              "      <th>AveBedrms</th>\n",
              "      <th>Population</th>\n",
              "      <th>AveOccup</th>\n",
              "      <th>Latitude</th>\n",
              "      <th>Longitude</th>\n",
              "      <th>MedianHouseValue</th>\n",
              "    </tr>\n",
              "  </thead>\n",
              "  <tbody>\n",
              "    <tr>\n",
              "      <th>0</th>\n",
              "      <td>3.5214</td>\n",
              "      <td>15.0</td>\n",
              "      <td>3.049945</td>\n",
              "      <td>1.106548</td>\n",
              "      <td>1447.0</td>\n",
              "      <td>1.605993</td>\n",
              "      <td>37.63</td>\n",
              "      <td>-122.43</td>\n",
              "      <td>1.442</td>\n",
              "    </tr>\n",
              "    <tr>\n",
              "      <th>1</th>\n",
              "      <td>5.3275</td>\n",
              "      <td>5.0</td>\n",
              "      <td>6.490060</td>\n",
              "      <td>0.991054</td>\n",
              "      <td>3464.0</td>\n",
              "      <td>3.443340</td>\n",
              "      <td>33.69</td>\n",
              "      <td>-117.39</td>\n",
              "      <td>1.687</td>\n",
              "    </tr>\n",
              "    <tr>\n",
              "      <th>2</th>\n",
              "      <td>3.1000</td>\n",
              "      <td>29.0</td>\n",
              "      <td>7.542373</td>\n",
              "      <td>1.591525</td>\n",
              "      <td>1328.0</td>\n",
              "      <td>2.250847</td>\n",
              "      <td>38.44</td>\n",
              "      <td>-122.98</td>\n",
              "      <td>1.621</td>\n",
              "    </tr>\n",
              "    <tr>\n",
              "      <th>3</th>\n",
              "      <td>7.1736</td>\n",
              "      <td>12.0</td>\n",
              "      <td>6.289003</td>\n",
              "      <td>0.997442</td>\n",
              "      <td>1054.0</td>\n",
              "      <td>2.695652</td>\n",
              "      <td>33.55</td>\n",
              "      <td>-117.70</td>\n",
              "      <td>2.621</td>\n",
              "    </tr>\n",
              "    <tr>\n",
              "      <th>4</th>\n",
              "      <td>2.0549</td>\n",
              "      <td>13.0</td>\n",
              "      <td>5.312457</td>\n",
              "      <td>1.085092</td>\n",
              "      <td>3297.0</td>\n",
              "      <td>2.244384</td>\n",
              "      <td>33.93</td>\n",
              "      <td>-116.93</td>\n",
              "      <td>0.956</td>\n",
              "    </tr>\n",
              "  </tbody>\n",
              "</table>\n",
              "</div>\n",
              "      <button class=\"colab-df-convert\" onclick=\"convertToInteractive('df-38e95226-6a44-4cff-8686-0b9964a76f8f')\"\n",
              "              title=\"Convert this dataframe to an interactive table.\"\n",
              "              style=\"display:none;\">\n",
              "        \n",
              "  <svg xmlns=\"http://www.w3.org/2000/svg\" height=\"24px\"viewBox=\"0 0 24 24\"\n",
              "       width=\"24px\">\n",
              "    <path d=\"M0 0h24v24H0V0z\" fill=\"none\"/>\n",
              "    <path d=\"M18.56 5.44l.94 2.06.94-2.06 2.06-.94-2.06-.94-.94-2.06-.94 2.06-2.06.94zm-11 1L8.5 8.5l.94-2.06 2.06-.94-2.06-.94L8.5 2.5l-.94 2.06-2.06.94zm10 10l.94 2.06.94-2.06 2.06-.94-2.06-.94-.94-2.06-.94 2.06-2.06.94z\"/><path d=\"M17.41 7.96l-1.37-1.37c-.4-.4-.92-.59-1.43-.59-.52 0-1.04.2-1.43.59L10.3 9.45l-7.72 7.72c-.78.78-.78 2.05 0 2.83L4 21.41c.39.39.9.59 1.41.59.51 0 1.02-.2 1.41-.59l7.78-7.78 2.81-2.81c.8-.78.8-2.07 0-2.86zM5.41 20L4 18.59l7.72-7.72 1.47 1.35L5.41 20z\"/>\n",
              "  </svg>\n",
              "      </button>\n",
              "      \n",
              "  <style>\n",
              "    .colab-df-container {\n",
              "      display:flex;\n",
              "      flex-wrap:wrap;\n",
              "      gap: 12px;\n",
              "    }\n",
              "\n",
              "    .colab-df-convert {\n",
              "      background-color: #E8F0FE;\n",
              "      border: none;\n",
              "      border-radius: 50%;\n",
              "      cursor: pointer;\n",
              "      display: none;\n",
              "      fill: #1967D2;\n",
              "      height: 32px;\n",
              "      padding: 0 0 0 0;\n",
              "      width: 32px;\n",
              "    }\n",
              "\n",
              "    .colab-df-convert:hover {\n",
              "      background-color: #E2EBFA;\n",
              "      box-shadow: 0px 1px 2px rgba(60, 64, 67, 0.3), 0px 1px 3px 1px rgba(60, 64, 67, 0.15);\n",
              "      fill: #174EA6;\n",
              "    }\n",
              "\n",
              "    [theme=dark] .colab-df-convert {\n",
              "      background-color: #3B4455;\n",
              "      fill: #D2E3FC;\n",
              "    }\n",
              "\n",
              "    [theme=dark] .colab-df-convert:hover {\n",
              "      background-color: #434B5C;\n",
              "      box-shadow: 0px 1px 3px 1px rgba(0, 0, 0, 0.15);\n",
              "      filter: drop-shadow(0px 1px 2px rgba(0, 0, 0, 0.3));\n",
              "      fill: #FFFFFF;\n",
              "    }\n",
              "  </style>\n",
              "\n",
              "      <script>\n",
              "        const buttonEl =\n",
              "          document.querySelector('#df-38e95226-6a44-4cff-8686-0b9964a76f8f button.colab-df-convert');\n",
              "        buttonEl.style.display =\n",
              "          google.colab.kernel.accessAllowed ? 'block' : 'none';\n",
              "\n",
              "        async function convertToInteractive(key) {\n",
              "          const element = document.querySelector('#df-38e95226-6a44-4cff-8686-0b9964a76f8f');\n",
              "          const dataTable =\n",
              "            await google.colab.kernel.invokeFunction('convertToInteractive',\n",
              "                                                     [key], {});\n",
              "          if (!dataTable) return;\n",
              "\n",
              "          const docLinkHtml = 'Like what you see? Visit the ' +\n",
              "            '<a target=\"_blank\" href=https://colab.research.google.com/notebooks/data_table.ipynb>data table notebook</a>'\n",
              "            + ' to learn more about interactive tables.';\n",
              "          element.innerHTML = '';\n",
              "          dataTable['output_type'] = 'display_data';\n",
              "          await google.colab.output.renderOutput(dataTable, element);\n",
              "          const docLink = document.createElement('div');\n",
              "          docLink.innerHTML = docLinkHtml;\n",
              "          element.appendChild(docLink);\n",
              "        }\n",
              "      </script>\n",
              "    </div>\n",
              "  </div>\n",
              "  "
            ]
          },
          "metadata": {},
          "execution_count": 20
        }
      ]
    },
    {
      "cell_type": "markdown",
      "metadata": {
        "id": "Z92sqyDwFNyi"
      },
      "source": [
        "Or in text mode:"
      ]
    },
    {
      "cell_type": "code",
      "metadata": {
        "id": "938INEvXE-k2",
        "outputId": "be968014-4a09-4ebe-f3f6-57097fc9b830",
        "colab": {
          "base_uri": "https://localhost:8080/"
        }
      },
      "source": [
        "with open(train_filepaths[0]) as f:\n",
        "  for i in range(5):\n",
        "    print(f.readline(), end=\"\")"
      ],
      "execution_count": 21,
      "outputs": [
        {
          "output_type": "stream",
          "name": "stdout",
          "text": [
            "MedInc,HouseAge,AveRooms,AveBedrms,Population,AveOccup,Latitude,Longitude,MedianHouseValue\n",
            "3.5214,15.0,3.0499445061043287,1.106548279689234,1447.0,1.6059933407325193,37.63,-122.43,1.442\n",
            "5.3275,5.0,6.490059642147117,0.9910536779324056,3464.0,3.4433399602385686,33.69,-117.39,1.687\n",
            "3.1,29.0,7.5423728813559325,1.5915254237288134,1328.0,2.2508474576271187,38.44,-122.98,1.621\n",
            "7.1736,12.0,6.289002557544757,0.9974424552429667,1054.0,2.6956521739130435,33.55,-117.7,2.621\n"
          ]
        }
      ]
    },
    {
      "cell_type": "code",
      "metadata": {
        "id": "jDHmu7QQFdeK",
        "outputId": "af2e6a62-a2c7-47b4-ad61-c634bd69884c",
        "colab": {
          "base_uri": "https://localhost:8080/"
        }
      },
      "source": [
        "train_filepaths"
      ],
      "execution_count": 22,
      "outputs": [
        {
          "output_type": "execute_result",
          "data": {
            "text/plain": [
              "['datasets/housing/my_train_00.csv',\n",
              " 'datasets/housing/my_train_01.csv',\n",
              " 'datasets/housing/my_train_02.csv',\n",
              " 'datasets/housing/my_train_03.csv',\n",
              " 'datasets/housing/my_train_04.csv',\n",
              " 'datasets/housing/my_train_05.csv',\n",
              " 'datasets/housing/my_train_06.csv',\n",
              " 'datasets/housing/my_train_07.csv',\n",
              " 'datasets/housing/my_train_08.csv',\n",
              " 'datasets/housing/my_train_09.csv',\n",
              " 'datasets/housing/my_train_10.csv',\n",
              " 'datasets/housing/my_train_11.csv',\n",
              " 'datasets/housing/my_train_12.csv',\n",
              " 'datasets/housing/my_train_13.csv',\n",
              " 'datasets/housing/my_train_14.csv',\n",
              " 'datasets/housing/my_train_15.csv',\n",
              " 'datasets/housing/my_train_16.csv',\n",
              " 'datasets/housing/my_train_17.csv',\n",
              " 'datasets/housing/my_train_18.csv',\n",
              " 'datasets/housing/my_train_19.csv']"
            ]
          },
          "metadata": {},
          "execution_count": 22
        }
      ]
    },
    {
      "cell_type": "markdown",
      "metadata": {
        "id": "kK6PbzfKFw0O"
      },
      "source": [
        "**Building an Input Pipeline**\n",
        "\n",
        "By default, the `list_files()` function returns a dataset that shuffles the file paths. \n",
        "\n",
        "In general this is a good thing, but you can set `shuffle=False` if you do not want that for some reason."
      ]
    },
    {
      "cell_type": "code",
      "metadata": {
        "id": "6ukEXKFdFiIp"
      },
      "source": [
        "filepath_dataset = tf.data.Dataset.list_files(train_filepaths, seed=42)"
      ],
      "execution_count": 23,
      "outputs": []
    },
    {
      "cell_type": "code",
      "metadata": {
        "id": "FM6L9XEgGU1t",
        "outputId": "4f9c7864-a2b6-4317-b146-b19502e71a73",
        "colab": {
          "base_uri": "https://localhost:8080/"
        }
      },
      "source": [
        "for file_path in filepath_dataset:\n",
        "  print(file_path)"
      ],
      "execution_count": 24,
      "outputs": [
        {
          "output_type": "stream",
          "name": "stdout",
          "text": [
            "tf.Tensor(b'datasets/housing/my_train_05.csv', shape=(), dtype=string)\n",
            "tf.Tensor(b'datasets/housing/my_train_16.csv', shape=(), dtype=string)\n",
            "tf.Tensor(b'datasets/housing/my_train_01.csv', shape=(), dtype=string)\n",
            "tf.Tensor(b'datasets/housing/my_train_17.csv', shape=(), dtype=string)\n",
            "tf.Tensor(b'datasets/housing/my_train_00.csv', shape=(), dtype=string)\n",
            "tf.Tensor(b'datasets/housing/my_train_14.csv', shape=(), dtype=string)\n",
            "tf.Tensor(b'datasets/housing/my_train_10.csv', shape=(), dtype=string)\n",
            "tf.Tensor(b'datasets/housing/my_train_02.csv', shape=(), dtype=string)\n",
            "tf.Tensor(b'datasets/housing/my_train_12.csv', shape=(), dtype=string)\n",
            "tf.Tensor(b'datasets/housing/my_train_19.csv', shape=(), dtype=string)\n",
            "tf.Tensor(b'datasets/housing/my_train_07.csv', shape=(), dtype=string)\n",
            "tf.Tensor(b'datasets/housing/my_train_09.csv', shape=(), dtype=string)\n",
            "tf.Tensor(b'datasets/housing/my_train_13.csv', shape=(), dtype=string)\n",
            "tf.Tensor(b'datasets/housing/my_train_15.csv', shape=(), dtype=string)\n",
            "tf.Tensor(b'datasets/housing/my_train_11.csv', shape=(), dtype=string)\n",
            "tf.Tensor(b'datasets/housing/my_train_18.csv', shape=(), dtype=string)\n",
            "tf.Tensor(b'datasets/housing/my_train_04.csv', shape=(), dtype=string)\n",
            "tf.Tensor(b'datasets/housing/my_train_06.csv', shape=(), dtype=string)\n",
            "tf.Tensor(b'datasets/housing/my_train_03.csv', shape=(), dtype=string)\n",
            "tf.Tensor(b'datasets/housing/my_train_08.csv', shape=(), dtype=string)\n"
          ]
        }
      ]
    },
    {
      "cell_type": "markdown",
      "metadata": {
        "id": "FH6E5_AAGyXa"
      },
      "source": [
        "Next, you can call the `interleave()` method to read from five files at a time and\n",
        "interleave their lines (skipping the first line of each file, which is the header row, using the `skip()` method):"
      ]
    },
    {
      "cell_type": "code",
      "metadata": {
        "id": "4oWcVKb1GaEn"
      },
      "source": [
        "n_readers = 5\n",
        "dataset = filepath_dataset.interleave(lambda filepath: tf.data.TextLineDataset(filepath).skip(1), cycle_length=n_readers)"
      ],
      "execution_count": 25,
      "outputs": []
    },
    {
      "cell_type": "markdown",
      "metadata": {
        "id": "UbW4Iak0HhGi"
      },
      "source": [
        "The `interleave()` method will create a dataset that will pull five file paths from the `filepath_dataset`, and for each one it will call the function you gave it to create a new dataset (in this case a TextLineDataset)."
      ]
    },
    {
      "cell_type": "code",
      "metadata": {
        "id": "9r9OIUzzHMyS",
        "outputId": "189f5a6a-b052-4922-efc8-6bb6eeb2a393",
        "colab": {
          "base_uri": "https://localhost:8080/"
        }
      },
      "source": [
        "for line in dataset.take(5):\n",
        "  print(line.numpy())"
      ],
      "execution_count": 26,
      "outputs": [
        {
          "output_type": "stream",
          "name": "stdout",
          "text": [
            "b'4.5909,16.0,5.475877192982456,1.0964912280701755,1357.0,2.9758771929824563,33.63,-117.71,2.418'\n",
            "b'2.4792,24.0,3.4547038327526134,1.1341463414634145,2251.0,3.921602787456446,34.18,-118.38,2.0'\n",
            "b'4.2708,45.0,5.121387283236994,0.953757225433526,492.0,2.8439306358381504,37.48,-122.19,2.67'\n",
            "b'2.1856,41.0,3.7189873417721517,1.0658227848101265,803.0,2.0329113924050635,32.76,-117.12,1.205'\n",
            "b'4.1812,52.0,5.701388888888889,0.9965277777777778,692.0,2.4027777777777777,33.73,-118.31,3.215'\n"
          ]
        }
      ]
    },
    {
      "cell_type": "markdown",
      "metadata": {
        "id": "bKn2pt55H8vH"
      },
      "source": [
        "By default, `interleave()` does not use parallelism; it just reads one line at a time from each file, sequentially. If you want it to actually read files in parallel, you can set the `num_parallel_calls` argument to the number of threads you want (note that the `map()` method also has this argument). \n",
        "\n"
      ]
    }
  ]
}