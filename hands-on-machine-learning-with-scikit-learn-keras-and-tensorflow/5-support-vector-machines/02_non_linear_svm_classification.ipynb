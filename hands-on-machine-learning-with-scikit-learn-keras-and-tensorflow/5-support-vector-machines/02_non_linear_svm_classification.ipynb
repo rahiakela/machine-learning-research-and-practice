{
  "nbformat": 4,
  "nbformat_minor": 0,
  "metadata": {
    "colab": {
      "name": "02-non-linear-svm-classification.ipynb",
      "provenance": [],
      "toc_visible": true,
      "authorship_tag": "ABX9TyMkK+UoKV/xMy4s5b/gv6S7",
      "include_colab_link": true
    },
    "kernelspec": {
      "name": "python3",
      "display_name": "Python 3"
    },
    "language_info": {
      "name": "python"
    }
  },
  "cells": [
    {
      "cell_type": "markdown",
      "metadata": {
        "id": "view-in-github",
        "colab_type": "text"
      },
      "source": [
        "<a href=\"https://colab.research.google.com/github/rahiakela/machine-learning-research-and-practice/blob/main/hands-on-machine-learning-with-scikit-learn-keras-and-tensorflow/5-support-vector-machines/02_non_linear_svm_classification.ipynb\" target=\"_parent\"><img src=\"https://colab.research.google.com/assets/colab-badge.svg\" alt=\"Open In Colab\"/></a>"
      ]
    },
    {
      "cell_type": "markdown",
      "source": [
        "##Non-Linear SVM Classification"
      ],
      "metadata": {
        "id": "1PbMfC4sPgyI"
      }
    },
    {
      "cell_type": "markdown",
      "source": [
        "A Support Vector Machine (SVM) is a powerful and versatile Machine Learning\n",
        "model, capable of performing linear or nonlinear classification, regression, and even\n",
        "outlier detection.\n",
        "\n",
        "SVMs are particularly\n",
        "well suited for classification of complex small- or medium-sized datasets."
      ],
      "metadata": {
        "id": "HHJheg-GPhYz"
      }
    },
    {
      "cell_type": "markdown",
      "source": [
        "##Setup"
      ],
      "metadata": {
        "id": "B3Yy8AM2PwHi"
      }
    },
    {
      "cell_type": "code",
      "source": [
        "# Common imports\n",
        "import numpy as np\n",
        "import os\n",
        "\n",
        "from sklearn.svm import SVC\n",
        "from sklearn.svm import LinearSVC\n",
        "from sklearn.preprocessing import StandardScaler\n",
        "from sklearn.preprocessing import PolynomialFeatures\n",
        "from sklearn.pipeline import Pipeline\n",
        "\n",
        "from sklearn import datasets\n",
        "from sklearn.datasets import make_moons\n",
        "\n",
        "# to make this notebook's output stable across runs\n",
        "np.random.seed(42)\n",
        "\n",
        "# To plot pretty figures\n",
        "%matplotlib inline\n",
        "import matplotlib as mpl\n",
        "import matplotlib.pyplot as plt\n",
        "mpl.rc('axes', labelsize=14)\n",
        "mpl.rc('xtick', labelsize=12)\n",
        "mpl.rc('ytick', labelsize=12)"
      ],
      "metadata": {
        "id": "mTusPrAIPxK1"
      },
      "execution_count": 1,
      "outputs": []
    },
    {
      "cell_type": "code",
      "source": [
        "def plot_svc_decision_boundary(svm_clf, xmin, xmax):\n",
        "    w = svm_clf.coef_[0]\n",
        "    b = svm_clf.intercept_[0]\n",
        "\n",
        "    # At the decision boundary, w0*x0 + w1*x1 + b = 0\n",
        "    # => x1 = -w0/w1 * x0 - b/w1\n",
        "    x0 = np.linspace(xmin, xmax, 200)\n",
        "    decision_boundary = -w[0]/w[1] * x0 - b/w[1]\n",
        "\n",
        "    margin = 1/w[1]\n",
        "    gutter_up = decision_boundary + margin\n",
        "    gutter_down = decision_boundary - margin\n",
        "\n",
        "    svs = svm_clf.support_vectors_\n",
        "    plt.scatter(svs[:, 0], svs[:, 1], s=180, facecolors='#FFAAAA')\n",
        "    plt.plot(x0, decision_boundary, \"k-\", linewidth=2)\n",
        "    plt.plot(x0, gutter_up, \"k--\", linewidth=2)\n",
        "    plt.plot(x0, gutter_down, \"k--\", linewidth=2)"
      ],
      "metadata": {
        "id": "04NEI8SMQn9f"
      },
      "execution_count": 2,
      "outputs": []
    },
    {
      "cell_type": "code",
      "source": [
        "def plot_predictions(clf, axes):\n",
        "    x0s = np.linspace(axes[0], axes[1], 100)\n",
        "    x1s = np.linspace(axes[2], axes[3], 100)\n",
        "    x0, x1 = np.meshgrid(x0s, x1s)\n",
        "    X = np.c_[x0.ravel(), x1.ravel()]\n",
        "    y_pred = clf.predict(X).reshape(x0.shape)\n",
        "    y_decision = clf.decision_function(X).reshape(x0.shape)\n",
        "    plt.contourf(x0, x1, y_pred, cmap=plt.cm.brg, alpha=0.2)\n",
        "    plt.contourf(x0, x1, y_decision, cmap=plt.cm.brg, alpha=0.1)"
      ],
      "metadata": {
        "id": "jLRUHCnN9ep9"
      },
      "execution_count": 3,
      "outputs": []
    },
    {
      "cell_type": "code",
      "source": [
        "def plot_dataset(X, y, axes):\n",
        "    plt.plot(X[:, 0][y==0], X[:, 1][y==0], \"bs\")\n",
        "    plt.plot(X[:, 0][y==1], X[:, 1][y==1], \"g^\")\n",
        "    plt.axis(axes)\n",
        "    plt.grid(True, which='both')\n",
        "    plt.xlabel(r\"$x_1$\", fontsize=20)\n",
        "    plt.ylabel(r\"$x_2$\", fontsize=20, rotation=0)"
      ],
      "metadata": {
        "id": "Biv5ZyNS9i3g"
      },
      "execution_count": 4,
      "outputs": []
    },
    {
      "cell_type": "markdown",
      "source": [
        "##Polynomial Regression"
      ],
      "metadata": {
        "id": "1SqQLHD1P4T1"
      }
    },
    {
      "cell_type": "markdown",
      "source": [
        "Although linear SVM classifiers are efficient and work surprisingly well in many\n",
        "cases, many datasets are not even close to being linearly separable. \n",
        "\n",
        "One approach to\n",
        "handling nonlinear datasets is to add more features, such as polynomial features.\n",
        "\n",
        "Let's Consider these two graph."
      ],
      "metadata": {
        "id": "kQ7ZYr9TP7Q3"
      }
    },
    {
      "cell_type": "code",
      "source": [
        "X1D = np.linspace(-4, 4, 9).reshape(-1, 1)\n",
        "X2D = np.c_[X1D, X1D**2]\n",
        "y = np.array([0, 0, 1, 1, 1, 1, 1, 0, 0])\n",
        "\n",
        "plt.figure(figsize=(11, 4))\n",
        "\n",
        "plt.subplot(121)\n",
        "plt.grid(True, which='both')\n",
        "plt.axhline(y=0, color='k')\n",
        "plt.plot(X1D[:, 0][y==0], np.zeros(4), \"bs\")\n",
        "plt.plot(X1D[:, 0][y==1], np.zeros(5), \"g^\")\n",
        "plt.gca().get_yaxis().set_ticks([])\n",
        "plt.xlabel(r\"$x_1$\", fontsize=20)\n",
        "plt.axis([-4.5, 4.5, -0.2, 0.2])\n",
        "\n",
        "plt.subplot(122)\n",
        "plt.grid(True, which='both')\n",
        "plt.axhline(y=0, color='k')\n",
        "plt.axvline(x=0, color='k')\n",
        "plt.plot(X2D[:, 0][y==0], X2D[:, 1][y==0], \"bs\")\n",
        "plt.plot(X2D[:, 0][y==1], X2D[:, 1][y==1], \"g^\")\n",
        "plt.xlabel(r\"$x_1$\", fontsize=20)\n",
        "plt.ylabel(r\"$x_2$\", fontsize=20, rotation=0)\n",
        "plt.gca().get_yaxis().set_ticks([0, 4, 8, 12, 16])\n",
        "plt.plot([-4.5, 4.5], [6.5, 6.5], \"r--\", linewidth=3)\n",
        "plt.axis([-4.5, 4.5, -1, 17])\n",
        "\n",
        "plt.subplots_adjust(right=1)\n",
        "\n",
        "plt.show()"
      ],
      "metadata": {
        "id": "v3s-_68dT38K",
        "outputId": "73058ad0-f895-4673-c4ea-a6a7eb2b2575",
        "colab": {
          "base_uri": "https://localhost:8080/",
          "height": 291
        }
      },
      "execution_count": 5,
      "outputs": [
        {
          "output_type": "display_data",
          "data": {
            "image/png": "[encoded data removed]",
            "text/plain": [
              "<Figure size 792x288 with 2 Axes>"
            ]
          },
          "metadata": {
            "needs_background": "light"
          }
        }
      ]
    },
    {
      "cell_type": "markdown",
      "source": [
        "It represents a simple dataset with just one feature,\n",
        "$x_1$. This dataset is not linearly separable, as you can see. But if you add a second\n",
        "feature $x_2 = (x_1)^2$, the resulting 2D dataset is perfectly linearly separable.\n",
        "\n",
        "To implement this idea using Scikit-Learn, create a `Pipeline` containing a `PolynomialFeatures` transformer followed\n",
        "by a `StandardScaler` and a `LinearSVC`.\n",
        "\n",
        "Let’s test this on the moons dataset: this\n",
        "is a toy dataset for binary classification in which the data points are shaped as two\n",
        "interleaving half circles."
      ],
      "metadata": {
        "id": "NdEyQ42h7L8v"
      }
    },
    {
      "cell_type": "code",
      "source": [
        "X, y = make_moons(n_samples=100, noise=0.15)"
      ],
      "metadata": {
        "id": "Woy4NbU7Ufwr"
      },
      "execution_count": 6,
      "outputs": []
    },
    {
      "cell_type": "code",
      "source": [
        "plot_dataset(X, y, [-1.5, 2.5, -1, 1.5])\n",
        "plt.show()"
      ],
      "metadata": {
        "colab": {
          "base_uri": "https://localhost:8080/",
          "height": 296
        },
        "id": "9GkQDs499PzR",
        "outputId": "99382ad1-51c1-4ed3-df7d-a23a602e5ca7"
      },
      "execution_count": 7,
      "outputs": [
        {
          "output_type": "display_data",
          "data": {
            "image/png": "[encoded data removed]",
            "text/plain": [
              "<Figure size 432x288 with 1 Axes>"
            ]
          },
          "metadata": {
            "needs_background": "light"
          }
        }
      ]
    },
    {
      "cell_type": "code",
      "source": [
        "polynomial_svm_clf = Pipeline([\n",
        "    (\"poly_features\", PolynomialFeatures(degree=3)),\n",
        "    (\"scaler\", StandardScaler()),\n",
        "    (\"svm_clf\", LinearSVC(C=10, loss=\"hinge\"))                           \n",
        "])\n",
        "\n",
        "polynomial_svm_clf.fit(X, y)"
      ],
      "metadata": {
        "colab": {
          "base_uri": "https://localhost:8080/"
        },
        "id": "kWs0X2TH9UVO",
        "outputId": "304b2364-0be2-42a5-bef5-6d9fb6869ffe"
      },
      "execution_count": 8,
      "outputs": [
        {
          "output_type": "stream",
          "name": "stderr",
          "text": [
            "/usr/local/lib/python3.7/dist-packages/sklearn/svm/_base.py:1208: ConvergenceWarning: Liblinear failed to converge, increase the number of iterations.\n",
            "  ConvergenceWarning,\n"
          ]
        },
        {
          "output_type": "execute_result",
          "data": {
            "text/plain": [
              "Pipeline(steps=[('poly_features', PolynomialFeatures(degree=3)),\n",
              "                ('scaler', StandardScaler()),\n",
              "                ('svm_clf', LinearSVC(C=10, loss='hinge'))])"
            ]
          },
          "metadata": {},
          "execution_count": 8
        }
      ]
    },
    {
      "cell_type": "code",
      "source": [
        "plot_predictions(polynomial_svm_clf, [-1.5, 2.5, -1, 1.5])\n",
        "plot_dataset(X, y, [-1.5, 2.5, -1, 1.5])\n",
        "\n",
        "plt.show()"
      ],
      "metadata": {
        "colab": {
          "base_uri": "https://localhost:8080/",
          "height": 296
        },
        "id": "bJAJX7639tjq",
        "outputId": "3ebc99fb-55cc-4cf1-d983-f9267f6f2726"
      },
      "execution_count": 9,
      "outputs": [
        {
          "output_type": "display_data",
          "data": {
            "image/png": "[encoded data removed]",
            "text/plain": [
              "<Figure size 432x288 with 1 Axes>"
            ]
          },
          "metadata": {
            "needs_background": "light"
          }
        }
      ]
    },
    {
      "cell_type": "markdown",
      "source": [
        "Adding polynomial features is simple to implement and can work great with all sorts\n",
        "of Machine Learning algorithms (not just SVMs). \n",
        "\n",
        "That said, at a low polynomial\n",
        "degree, **this method cannot deal with very complex datasets, and with a high polynomial degree it creates a huge number of features, making the model too slow.**"
      ],
      "metadata": {
        "id": "h5GGasu0-0sC"
      }
    },
    {
      "cell_type": "markdown",
      "source": [
        "##Polynomial Kernel"
      ],
      "metadata": {
        "id": "g0kS8xD0U5uh"
      }
    },
    {
      "cell_type": "markdown",
      "source": [
        "Fortunately, when using SVMs you can apply an almost miraculous mathematical\n",
        "technique called the kernel trick (explained in a moment).\n",
        "\n",
        "The kernel trick makes it\n",
        "possible to get the same result as if you had added many polynomial features, even\n",
        "with very high-degree polynomials, without actually having to add them. So there is\n",
        "no combinatorial explosion of the number of features because you don’t actually add\n",
        "any features.\n",
        "\n",
        "This trick is implemented by the SVC class. Let’s test it on the moons\n",
        "dataset:"
      ],
      "metadata": {
        "id": "xfWL-COF-Gxs"
      }
    },
    {
      "cell_type": "code",
      "source": [
        "poly_kernel_svm_clf = Pipeline([\n",
        "    (\"scaler\", StandardScaler()),\n",
        "    (\"svm_clf\", SVC(kernel=\"poly\", degree=3, coef0=1, C=5))                            \n",
        "])\n",
        "poly_kernel_svm_clf.fit(X, y)"
      ],
      "metadata": {
        "id": "QY90T01XVTYr",
        "outputId": "851970f5-63ac-433f-d097-b5fb6a8b391e",
        "colab": {
          "base_uri": "https://localhost:8080/"
        }
      },
      "execution_count": 17,
      "outputs": [
        {
          "output_type": "execute_result",
          "data": {
            "text/plain": [
              "Pipeline(steps=[('scaler', StandardScaler()),\n",
              "                ('svm_clf', SVC(C=5, coef0=1, kernel='poly'))])"
            ]
          },
          "metadata": {},
          "execution_count": 17
        }
      ]
    },
    {
      "cell_type": "code",
      "source": [
        "poly100_kernel_svm_clf = Pipeline([\n",
        "    (\"scaler\", StandardScaler()),\n",
        "    (\"svm_clf\", SVC(kernel=\"poly\", degree=10, coef0=100, C=5))                            \n",
        "])\n",
        "poly100_kernel_svm_clf.fit(X, y)"
      ],
      "metadata": {
        "id": "UCttOh_Rakku"
      },
      "execution_count": null,
      "outputs": []
    },
    {
      "cell_type": "code",
      "source": [
        "plt.figure(figsize=(11, 4))\n",
        "\n",
        "plt.subplot(121)\n",
        "plot_predictions(poly_kernel_svm_clf, [-1.5, 2.5, -1, 1.5])\n",
        "plot_dataset(X, y, [-1.5, 2.5, -1, 1.5])\n",
        "plt.title(r\"$d=3, r=1, C=5$\", fontsize=18)\n",
        "\n",
        "plt.subplot(122)\n",
        "plot_predictions(poly100_kernel_svm_clf, [-1.5, 2.5, -1, 1.5])\n",
        "plot_dataset(X, y, [-1.5, 2.5, -1, 1.5])\n",
        "plt.title(r\"$d=10, r=100, C=5$\", fontsize=18)\n",
        "\n",
        "plt.show()"
      ],
      "metadata": {
        "id": "irNIjfMvax6e"
      },
      "execution_count": null,
      "outputs": []
    },
    {
      "cell_type": "markdown",
      "source": [
        "Obviously, if your model is overfitting, you might want to\n",
        "reduce the polynomial degree. Conversely, if it is underfitting, you can try increasing\n",
        "it. The hyperparameter `coef0` controls how much the model is influenced by highdegree\n",
        "polynomials versus low-degree polynomials.\n",
        "\n",
        ">A common approach to finding the right hyperparameter values is\n",
        "to use grid search."
      ],
      "metadata": {
        "id": "51M1aumkVmuP"
      }
    },
    {
      "cell_type": "markdown",
      "source": [
        "##Similarity Features"
      ],
      "metadata": {
        "id": "oxFwjD1SVu0h"
      }
    },
    {
      "cell_type": "markdown",
      "source": [
        "Another technique to tackle nonlinear problems is to add features computed using a\n",
        "similarity function, which measures how much each instance resembles a particular\n",
        "landmark.\n",
        "\n",
        "For example, let’s take the 1D dataset discussed earlier and add two landmarks\n",
        "to it at $x_1 = –2$ and $x_1 = 1$.\n",
        "\n",
        "Next, let’s define the\n",
        "similarity function to be the Gaussian Radial Basis Function (RBF) with $\\gamma = 0.3$:\n",
        "\n",
        "\n",
        "$\n",
        "{\\displaystyle \\phi_{\\gamma}(\\mathbf{x}, \\boldsymbol{\\ell})} = {\\displaystyle \\exp({\\displaystyle -\\gamma \\left\\| \\mathbf{x} - \\boldsymbol{\\ell} \\right\\|^2})}\n",
        "$\n",
        "\n",
        "This is a bell-shaped function varying from 0 (very far away from the landmark) to 1\n",
        "(at the landmark). Now we are ready to compute the new features. \n",
        "\n",
        "For example, let’s\n",
        "look at the instance $x_1 = –1$: it is located at a distance of 1 from the first landmark and\n",
        "2 from the second landmark. Therefore its new features are $x_2 = exp(–0.3 × 12) ≈ 0.74$\n",
        "and $x_3 = exp(–0.3 × 22) ≈ 0.30$."
      ],
      "metadata": {
        "id": "i8mQnMj5WG89"
      }
    },
    {
      "cell_type": "code",
      "source": [
        "def gaussian_rbf(x, landmark, gamma):\n",
        "    return np.exp(-gamma * np.linalg.norm(x - landmark, axis=1)**2)\n",
        "\n",
        "gamma = 0.3\n",
        "\n",
        "x1s = np.linspace(-4.5, 4.5, 200).reshape(-1, 1)\n",
        "x2s = gaussian_rbf(x1s, -2, gamma)\n",
        "x3s = gaussian_rbf(x1s, 1, gamma)\n",
        "\n",
        "XK = np.c_[gaussian_rbf(X1D, -2, gamma), gaussian_rbf(X1D, 1, gamma)]\n",
        "yk = np.array([0, 0, 1, 1, 1, 1, 1, 0, 0])\n",
        "\n",
        "plt.figure(figsize=(11, 4))\n",
        "\n",
        "plt.subplot(121)\n",
        "plt.grid(True, which='both')\n",
        "plt.axhline(y=0, color='k')\n",
        "plt.scatter(x=[-2, 1], y=[0, 0], s=150, alpha=0.5, c=\"red\")\n",
        "plt.plot(X1D[:, 0][yk==0], np.zeros(4), \"bs\")\n",
        "plt.plot(X1D[:, 0][yk==1], np.zeros(5), \"g^\")\n",
        "plt.plot(x1s, x2s, \"g--\")\n",
        "plt.plot(x1s, x3s, \"b:\")\n",
        "plt.gca().get_yaxis().set_ticks([0, 0.25, 0.5, 0.75, 1])\n",
        "plt.xlabel(r\"$x_1$\", fontsize=20)\n",
        "plt.ylabel(r\"Similarity\", fontsize=14)\n",
        "plt.annotate(r'$\\mathbf{x}$',\n",
        "             xy=(X1D[3, 0], 0),\n",
        "             xytext=(-0.5, 0.20),\n",
        "             ha=\"center\",\n",
        "             arrowprops=dict(facecolor='black', shrink=0.1),\n",
        "             fontsize=18,\n",
        "            )\n",
        "plt.text(-2, 0.9, \"$x_2$\", ha=\"center\", fontsize=20)\n",
        "plt.text(1, 0.9, \"$x_3$\", ha=\"center\", fontsize=20)\n",
        "plt.axis([-4.5, 4.5, -0.1, 1.1])\n",
        "\n",
        "plt.subplot(122)\n",
        "plt.grid(True, which='both')\n",
        "plt.axhline(y=0, color='k')\n",
        "plt.axvline(x=0, color='k')\n",
        "plt.plot(XK[:, 0][yk==0], XK[:, 1][yk==0], \"bs\")\n",
        "plt.plot(XK[:, 0][yk==1], XK[:, 1][yk==1], \"g^\")\n",
        "plt.xlabel(r\"$x_2$\", fontsize=20)\n",
        "plt.ylabel(r\"$x_3$  \", fontsize=20, rotation=0)\n",
        "plt.annotate(r'$\\phi\\left(\\mathbf{x}\\right)$',\n",
        "             xy=(XK[3, 0], XK[3, 1]),\n",
        "             xytext=(0.65, 0.50),\n",
        "             ha=\"center\",\n",
        "             arrowprops=dict(facecolor='black', shrink=0.1),\n",
        "             fontsize=18,\n",
        "            )\n",
        "plt.plot([-0.1, 1.1], [0.57, -0.1], \"r--\", linewidth=3)\n",
        "plt.axis([-0.1, 1.1, -0.1, 1.1])\n",
        "    \n",
        "plt.subplots_adjust(right=1)\n",
        "\n",
        "plt.show()"
      ],
      "metadata": {
        "id": "noeR7fdZVwLj"
      },
      "execution_count": null,
      "outputs": []
    },
    {
      "cell_type": "markdown",
      "source": [
        "As you can see, it is now linearly separable.\n",
        "\n",
        "You may wonder how to select the landmarks. The simplest approach is to create a\n",
        "landmark at the location of each and every instance in the dataset. Doing that creates\n",
        "many dimensions and thus increases the chances that the transformed training set\n",
        "will be linearly separable."
      ],
      "metadata": {
        "id": "2eEiDS8wX4Vk"
      }
    },
    {
      "cell_type": "code",
      "source": [
        "x1_example = X1D[3, 0]\n",
        "\n",
        "for landmark in (-2, 1):\n",
        "  k = gaussian_rbf(np.array([[x1_example]]), np.array([[x1_example]]), gamma)\n",
        "  print(\"Phi({}, {}) = {}\".format(x1_example, landmark, k)) "
      ],
      "metadata": {
        "id": "PSmgTfafdjYN"
      },
      "execution_count": null,
      "outputs": []
    },
    {
      "cell_type": "markdown",
      "source": [
        "The downside is that a training set with m instances and n\n",
        "features gets transformed into a training set with m instances and m features (assuming\n",
        "you drop the original features). If your training set is very large, you end up with\n",
        "an equally large number of features."
      ],
      "metadata": {
        "id": "c17z4R2EeBGa"
      }
    },
    {
      "cell_type": "markdown",
      "source": [
        "##Gaussian RBF Kernel"
      ],
      "metadata": {
        "id": "j2ZpXbOgc1KN"
      }
    },
    {
      "cell_type": "code",
      "source": [
        "svm_clf = Pipeline([\n",
        "   (\"scaler\", StandardScaler()),\n",
        "   (\"linear_svc\", LinearSVC(C=1, loss=\"hinge\", random_state=42))                 \n",
        "])\n",
        "\n",
        "svm_clf.fit(X, y)"
      ],
      "metadata": {
        "id": "F9IWO7sdYd4D",
        "outputId": "2b27f6b9-caf2-4371-af2e-f646a8017308",
        "colab": {
          "base_uri": "https://localhost:8080/"
        }
      },
      "execution_count": 12,
      "outputs": [
        {
          "output_type": "execute_result",
          "data": {
            "text/plain": [
              "Pipeline(steps=[('scaler', StandardScaler()),\n",
              "                ('linear_svc', LinearSVC(C=1, loss='hinge', random_state=42))])"
            ]
          },
          "metadata": {},
          "execution_count": 12
        }
      ]
    },
    {
      "cell_type": "markdown",
      "source": [
        "Then, as usual, you can use the model to make predictions:"
      ],
      "metadata": {
        "id": "wobNZeafY507"
      }
    },
    {
      "cell_type": "code",
      "source": [
        "svm_clf.predict([[5.5, 1.7]])"
      ],
      "metadata": {
        "id": "QLQk7iJnY6O0",
        "outputId": "79bcf8e4-665a-4d54-a84d-727ab51c8532",
        "colab": {
          "base_uri": "https://localhost:8080/"
        }
      },
      "execution_count": 13,
      "outputs": [
        {
          "output_type": "execute_result",
          "data": {
            "text/plain": [
              "array([1.])"
            ]
          },
          "metadata": {},
          "execution_count": 13
        }
      ]
    },
    {
      "cell_type": "markdown",
      "source": [
        "Unlike Logistic Regression classifiers, SVM classifiers do not output\n",
        "probabilities for each class.\n",
        "\n",
        "Now let's generate the graph comparing different regularization settings:"
      ],
      "metadata": {
        "id": "OSELcWttZCtr"
      }
    },
    {
      "cell_type": "code",
      "source": [
        "scaler = StandardScaler()\n",
        "svm_clf1 = LinearSVC(C=1, loss=\"hinge\", random_state=42)\n",
        "svm_clf2 = LinearSVC(C=100, loss=\"hinge\", random_state=42)\n",
        "\n",
        "scaled_svm_clf1 = Pipeline([\n",
        "    (\"scaler\", scaler),\n",
        "    (\"linear_svc\", svm_clf1),\n",
        "])\n",
        "scaled_svm_clf2 = Pipeline([\n",
        "    (\"scaler\", scaler),\n",
        "    (\"linear_svc\", svm_clf2),\n",
        "])\n",
        "\n",
        "scaled_svm_clf1.fit(X, y)\n",
        "scaled_svm_clf2.fit(X, y)"
      ],
      "metadata": {
        "id": "XY3uR0cDZWUi",
        "outputId": "2c687044-b445-4597-da4e-fd0d010085e7",
        "colab": {
          "base_uri": "https://localhost:8080/"
        }
      },
      "execution_count": 14,
      "outputs": [
        {
          "output_type": "stream",
          "name": "stderr",
          "text": [
            "/usr/local/lib/python3.7/dist-packages/sklearn/svm/_base.py:1208: ConvergenceWarning: Liblinear failed to converge, increase the number of iterations.\n",
            "  ConvergenceWarning,\n"
          ]
        },
        {
          "output_type": "execute_result",
          "data": {
            "text/plain": [
              "Pipeline(steps=[('scaler', StandardScaler()),\n",
              "                ('linear_svc',\n",
              "                 LinearSVC(C=100, loss='hinge', random_state=42))])"
            ]
          },
          "metadata": {},
          "execution_count": 14
        }
      ]
    },
    {
      "cell_type": "code",
      "source": [
        "# Convert to unscaled parameters\n",
        "b1 = svm_clf1.decision_function([-scaler.mean_ / scaler.scale_])\n",
        "b2 = svm_clf2.decision_function([-scaler.mean_ / scaler.scale_])\n",
        "w1 = svm_clf1.coef_[0] / scaler.scale_\n",
        "w2 = svm_clf2.coef_[0] / scaler.scale_\n",
        "svm_clf1.intercept_ = np.array([b1])\n",
        "svm_clf2.intercept_ = np.array([b2])\n",
        "svm_clf1.coef_ = np.array([w1])\n",
        "svm_clf2.coef_ = np.array([w2])\n",
        "\n",
        "# Find support vectors (LinearSVC does not do this automatically)\n",
        "t = y * 2 - 1\n",
        "support_vectors_idx1 = (t * (X.dot(w1) + b1) < 1).ravel()\n",
        "support_vectors_idx2 = (t * (X.dot(w2) + b2) < 1).ravel()\n",
        "svm_clf1.support_vectors_ = X[support_vectors_idx1]\n",
        "svm_clf2.support_vectors_ = X[support_vectors_idx2]"
      ],
      "metadata": {
        "id": "jocsB2Q7ZhuQ"
      },
      "execution_count": 15,
      "outputs": []
    },
    {
      "cell_type": "code",
      "source": [
        "plt.figure(figsize=(12,3.2))\n",
        "plt.subplot(121)\n",
        "plt.plot(X[:, 0][y==1], X[:, 1][y==1], \"g^\", label=\"Iris-Virginica\")\n",
        "plt.plot(X[:, 0][y==0], X[:, 1][y==0], \"bs\", label=\"Iris-Versicolor\")\n",
        "plot_svc_decision_boundary(svm_clf1, 4, 6)\n",
        "plt.xlabel(\"Petal length\", fontsize=14)\n",
        "plt.ylabel(\"Petal width\", fontsize=14)\n",
        "plt.legend(loc=\"upper left\", fontsize=14)\n",
        "plt.title(\"$C = {}$\".format(svm_clf1.C), fontsize=16)\n",
        "plt.axis([4, 6, 0.8, 2.8])\n",
        "\n",
        "plt.subplot(122)\n",
        "plt.plot(X[:, 0][y==1], X[:, 1][y==1], \"g^\")\n",
        "plt.plot(X[:, 0][y==0], X[:, 1][y==0], \"bs\")\n",
        "plot_svc_decision_boundary(svm_clf2, 4, 6)\n",
        "plt.xlabel(\"Petal length\", fontsize=14)\n",
        "plt.title(\"$C = {}$\".format(svm_clf2.C), fontsize=16)\n",
        "plt.axis([4, 6, 0.8, 2.8])"
      ],
      "metadata": {
        "id": "VjY6qOaBZkxN",
        "outputId": "1fc83b79-0869-48e9-c309-9ee9ded0978e",
        "colab": {
          "base_uri": "https://localhost:8080/",
          "height": 279
        }
      },
      "execution_count": 16,
      "outputs": [
        {
          "output_type": "execute_result",
          "data": {
            "text/plain": [
              "(4.0, 6.0, 0.8, 2.8)"
            ]
          },
          "metadata": {},
          "execution_count": 16
        },
        {
          "output_type": "display_data",
          "data": {
            "image/png": "[encoded data removed]",
            "text/plain": [
              "<Figure size 864x230.4 with 2 Axes>"
            ]
          },
          "metadata": {
            "needs_background": "light"
          }
        }
      ]
    },
    {
      "cell_type": "markdown",
      "source": [
        "When creating an SVM model using Scikit-Learn, we can specify a number of hyperparameters.\n",
        "C is one of those hyperparameters. \n",
        "\n",
        "If we set it to a low value, then we end\n",
        "up with the model on the left. \n",
        "\n",
        "With a high value, we get the model on\n",
        "the right. Margin violations are bad. It’s usually better to have few of them. \n",
        "\n",
        "However,\n",
        "in this case the model on the left has a lot of margin violations but will probably generalize\n",
        "better."
      ],
      "metadata": {
        "id": "ggHQzli1Zvel"
      }
    }
  ]
}