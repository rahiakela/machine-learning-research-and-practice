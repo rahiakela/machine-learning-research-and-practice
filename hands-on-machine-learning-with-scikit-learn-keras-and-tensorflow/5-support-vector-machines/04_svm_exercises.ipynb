{
  "nbformat": 4,
  "nbformat_minor": 0,
  "metadata": {
    "colab": {
      "name": "04-svm-exercises.ipynb",
      "provenance": [],
      "toc_visible": true,
      "authorship_tag": "ABX9TyPGgCPEmD5FeqNYS594ciql",
      "include_colab_link": true
    },
    "kernelspec": {
      "name": "python3",
      "display_name": "Python 3"
    },
    "language_info": {
      "name": "python"
    }
  },
  "cells": [
    {
      "cell_type": "markdown",
      "metadata": {
        "id": "view-in-github",
        "colab_type": "text"
      },
      "source": [
        "<a href=\"https://colab.research.google.com/github/rahiakela/machine-learning-research-and-practice/blob/main/hands-on-machine-learning-with-scikit-learn-keras-and-tensorflow/5-support-vector-machines/04_svm_exercises.ipynb\" target=\"_parent\"><img src=\"https://colab.research.google.com/assets/colab-badge.svg\" alt=\"Open In Colab\"/></a>"
      ]
    },
    {
      "cell_type": "markdown",
      "source": [
        "##SVM Exercises"
      ],
      "metadata": {
        "id": "1PbMfC4sPgyI"
      }
    },
    {
      "cell_type": "markdown",
      "source": [
        "A Support Vector Machine (SVM) is a powerful and versatile Machine Learning\n",
        "model, capable of performing linear or nonlinear classification, regression, and even\n",
        "outlier detection.\n",
        "\n",
        "SVMs are particularly\n",
        "well suited for classification of complex small- or medium-sized datasets.\n",
        "\n"
      ],
      "metadata": {
        "id": "HHJheg-GPhYz"
      }
    },
    {
      "cell_type": "markdown",
      "source": [
        "##Setup"
      ],
      "metadata": {
        "id": "B3Yy8AM2PwHi"
      }
    },
    {
      "cell_type": "code",
      "source": [
        "# Common imports\n",
        "import numpy as np\n",
        "import os\n",
        "\n",
        "from sklearn.svm import LinearSVC\n",
        "from sklearn.svm import LinearSVR\n",
        "from sklearn.svm import SVC\n",
        "from sklearn.svm import SVR\n",
        "from sklearn.linear_model import SGDClassifier\n",
        "from sklearn.preprocessing import StandardScaler\n",
        "from sklearn.model_selection import RandomizedSearchCV\n",
        "from sklearn.model_selection import train_test_split\n",
        "from scipy.stats import reciprocal, uniform\n",
        "\n",
        "from sklearn.metrics import accuracy_score, mean_squared_error\n",
        "\n",
        "from sklearn import datasets\n",
        "from sklearn.datasets import make_moons\n",
        "from sklearn.datasets import fetch_california_housing\n",
        "\n",
        "# to make this notebook's output stable across runs\n",
        "np.random.seed(42)\n",
        "\n",
        "# To plot pretty figures\n",
        "%matplotlib inline\n",
        "import matplotlib as mpl\n",
        "import matplotlib.pyplot as plt\n",
        "mpl.rc('axes', labelsize=14)\n",
        "mpl.rc('xtick', labelsize=12)\n",
        "mpl.rc('ytick', labelsize=12)"
      ],
      "metadata": {
        "id": "mTusPrAIPxK1"
      },
      "execution_count": 9,
      "outputs": []
    },
    {
      "cell_type": "code",
      "source": [
        "iris = datasets.load_iris()\n",
        "X = iris[\"data\"][:, (2, 3)]  # petal length, petal width\n",
        "y = iris[\"target\"]\n",
        "\n",
        "setosa_or_versicolor = (y == 0) | (y == 1)\n",
        "X = X[setosa_or_versicolor]\n",
        "y = y[setosa_or_versicolor]"
      ],
      "metadata": {
        "id": "QUh3vVFo9uAI"
      },
      "execution_count": null,
      "outputs": []
    },
    {
      "cell_type": "markdown",
      "source": [
        "##Exercise-8"
      ],
      "metadata": {
        "id": "1SqQLHD1P4T1"
      }
    },
    {
      "cell_type": "markdown",
      "source": [
        "train a LinearSVC on a linearly separable dataset. Then train an SVC and a SGDClassifier on the same dataset. \n",
        "\n",
        "See if you can get them to produce roughly the same model."
      ],
      "metadata": {
        "id": "kQ7ZYr9TP7Q3"
      }
    },
    {
      "cell_type": "code",
      "source": [
        "C = 5\n",
        "alpha = 1 / (C * len(X))\n",
        "\n",
        "lin_clf = LinearSVC(loss=\"hinge\", C=C, random_state=42)\n",
        "svm_clf = SVC(kernel=\"linear\", C=C)\n",
        "sgd_clf = SGDClassifier(loss=\"hinge\", learning_rate=\"constant\", eta0=0.001, alpha=alpha, max_iter=100000, tol=-np.infty, random_state=42)\n",
        "\n",
        "scaler = StandardScaler()\n",
        "X_scaled = scaler.fit_transform(X)\n",
        "\n",
        "lin_clf.fit(X_scaled, y)\n",
        "svm_clf.fit(X_scaled, y)\n",
        "sgd_clf.fit(X_scaled, y)\n",
        "\n",
        "print(\"LinearSVC:                   \", lin_clf.intercept_, lin_clf.coef_)\n",
        "print(\"SVC:                         \", svm_clf.intercept_, svm_clf.coef_)\n",
        "print(\"SGDClassifier(alpha={:.5f}):\".format(sgd_clf.alpha), sgd_clf.intercept_, sgd_clf.coef_)"
      ],
      "metadata": {
        "id": "v3s-_68dT38K",
        "outputId": "f7b35de9-6a4d-48e4-a5db-2ba7e1344027",
        "colab": {
          "base_uri": "https://localhost:8080/"
        }
      },
      "execution_count": null,
      "outputs": [
        {
          "output_type": "stream",
          "name": "stdout",
          "text": [
            "LinearSVC:                    [0.28475098] [[1.05364854 1.09903804]]\n",
            "SVC:                          [0.31896852] [[1.1203284  1.02625193]]\n",
            "SGDClassifier(alpha=0.00200): [0.319] [[1.12087283 1.02679408]]\n"
          ]
        }
      ]
    },
    {
      "cell_type": "markdown",
      "source": [
        "Let's plot the decision boundaries of these three models:"
      ],
      "metadata": {
        "id": "JKE0DuHQ_IdU"
      }
    },
    {
      "cell_type": "code",
      "source": [
        "# Compute the slope and bias of each decision boundary\n",
        "w1 = -lin_clf.coef_[0, 0]/lin_clf.coef_[0, 1]\n",
        "b1 = -lin_clf.intercept_[0]/lin_clf.coef_[0, 1]\n",
        "w2 = -svm_clf.coef_[0, 0]/svm_clf.coef_[0, 1]\n",
        "b2 = -svm_clf.intercept_[0]/svm_clf.coef_[0, 1]\n",
        "w3 = -sgd_clf.coef_[0, 0]/sgd_clf.coef_[0, 1]\n",
        "b3 = -sgd_clf.intercept_[0]/sgd_clf.coef_[0, 1]\n",
        "\n",
        "# Transform the decision boundary lines back to the original scale\n",
        "line1 = scaler.inverse_transform([[-10, -10 * w1 + b1], [10, 10 * w1 + b1]])\n",
        "line2 = scaler.inverse_transform([[-10, -10 * w2 + b2], [10, 10 * w2 + b2]])\n",
        "line3 = scaler.inverse_transform([[-10, -10 * w3 + b3], [10, 10 * w3 + b3]])\n",
        "\n",
        "# Plot all three decision boundaries\n",
        "plt.figure(figsize=(11, 4))\n",
        "plt.plot(line1[:, 0], line1[:, 1], \"k:\", label=\"LinearSVC\")\n",
        "plt.plot(line2[:, 0], line2[:, 1], \"b--\", linewidth=2, label=\"SVC\")\n",
        "plt.plot(line3[:, 0], line3[:, 1], \"r-\", label=\"SGDClassifier\")\n",
        "plt.plot(X[:, 0][y==1], X[:, 1][y==1], \"bs\") # label=\"Iris-Versicolor\"\n",
        "plt.plot(X[:, 0][y==0], X[:, 1][y==0], \"yo\") # label=\"Iris-Setosa\"\n",
        "plt.xlabel(\"Petal length\", fontsize=14)\n",
        "plt.ylabel(\"Petal width\", fontsize=14)\n",
        "plt.legend(loc=\"upper center\", fontsize=14)\n",
        "plt.axis([0, 5.5, 0, 2])\n",
        "\n",
        "plt.show()"
      ],
      "metadata": {
        "colab": {
          "base_uri": "https://localhost:8080/",
          "height": 291
        },
        "id": "dMAFo8plHUiE",
        "outputId": "ccab3a10-47ae-48d3-eae3-2026ece12c92"
      },
      "execution_count": null,
      "outputs": [
        {
          "output_type": "display_data",
          "data": {
            "image/png": "[encoded data removed]",
            "text/plain": [
              "<Figure size 792x288 with 1 Axes>"
            ]
          },
          "metadata": {
            "needs_background": "light"
          }
        }
      ]
    },
    {
      "cell_type": "markdown",
      "source": [
        "##Exercise-9"
      ],
      "metadata": {
        "id": "Sql736Lu_a2_"
      }
    },
    {
      "cell_type": "markdown",
      "source": [
        "let's train an SVM classifier on the MNIST dataset. Since SVM classifiers are binary classifiers, you will need to use one-versus-all to classify all 10 digits. You may want to tune the hyperparameters using small validation sets to speed up the process. What accuracy can you reach?\n",
        "\n",
        "First, let's load the dataset and split it into a training set and a test set. We could use train_test_split() but people usually just take the first 60,000 instances for the training set, and the last 10,000 instances for the test set (this makes it possible to compare your model's performance with others):"
      ],
      "metadata": {
        "id": "9BV2Z4Rc_c78"
      }
    },
    {
      "cell_type": "code",
      "source": [
        "try:\n",
        "    from sklearn.datasets import fetch_openml\n",
        "    mnist = fetch_openml('mnist_784', version=1, cache=True, as_frame=False)\n",
        "except ImportError:\n",
        "    from sklearn.datasets import fetch_mldata\n",
        "    mnist = fetch_mldata('MNIST original')\n",
        "\n",
        "X = mnist[\"data\"]\n",
        "y = mnist[\"target\"]\n",
        "\n",
        "X_train = X[:60000]\n",
        "y_train = y[:60000]\n",
        "X_test = X[60000:]\n",
        "y_test = y[60000:]"
      ],
      "metadata": {
        "id": "kWs0X2TH9UVO"
      },
      "execution_count": null,
      "outputs": []
    },
    {
      "cell_type": "markdown",
      "source": [
        "Many training algorithms are sensitive to the order of the training instances, so it's generally good practice to shuffle them first:"
      ],
      "metadata": {
        "id": "9A33J_f_JZGC"
      }
    },
    {
      "cell_type": "code",
      "source": [
        "np.random.seed(42)\n",
        "rnd_idx = np.random.permutation(60000)\n",
        "X_train = X_train[rnd_idx]\n",
        "y_train = y_train[rnd_idx]"
      ],
      "metadata": {
        "id": "05oX9T5QJZir"
      },
      "execution_count": null,
      "outputs": []
    },
    {
      "cell_type": "markdown",
      "source": [
        "Let's start simple, with a linear SVM classifier. It will automatically use the One-vs-All (also called One-vs-the-Rest, OvR) strategy, so there's nothing special we need to do. Easy!"
      ],
      "metadata": {
        "id": "h5GGasu0-0sC"
      }
    },
    {
      "cell_type": "code",
      "source": [
        "lin_clf = LinearSVC(random_state=42)\n",
        "lin_clf.fit(X_train, y_train)"
      ],
      "metadata": {
        "colab": {
          "base_uri": "https://localhost:8080/"
        },
        "id": "Ucv_SspNAGjG",
        "outputId": "2eb3a028-0bcc-498b-ca0c-ad3d347fa527"
      },
      "execution_count": null,
      "outputs": [
        {
          "output_type": "stream",
          "name": "stderr",
          "text": [
            "/usr/local/lib/python3.7/dist-packages/sklearn/svm/_base.py:1208: ConvergenceWarning: Liblinear failed to converge, increase the number of iterations.\n",
            "  ConvergenceWarning,\n"
          ]
        },
        {
          "output_type": "execute_result",
          "data": {
            "text/plain": [
              "LinearSVC(random_state=42)"
            ]
          },
          "metadata": {},
          "execution_count": 15
        }
      ]
    },
    {
      "cell_type": "markdown",
      "source": [
        "Let's make predictions on the training set and measure the accuracy (we don't want to measure it on the test set yet, since we have not selected and trained the final model yet):"
      ],
      "metadata": {
        "id": "Ucnof3LBJkZ0"
      }
    },
    {
      "cell_type": "code",
      "source": [
        "y_pred = lin_clf.predict(X_train)\n",
        "accuracy_score(y_train, y_pred)"
      ],
      "metadata": {
        "colab": {
          "base_uri": "https://localhost:8080/"
        },
        "id": "uDJskiLQJkzO",
        "outputId": "ba79a485-db94-46b7-c8d8-d4107524f975"
      },
      "execution_count": null,
      "outputs": [
        {
          "output_type": "execute_result",
          "data": {
            "text/plain": [
              "0.8656166666666667"
            ]
          },
          "metadata": {},
          "execution_count": 18
        }
      ]
    },
    {
      "cell_type": "markdown",
      "source": [
        "Wow, 86% accuracy on MNIST is a really bad performance. \n",
        "\n",
        "This linear model is certainly too simple for MNIST, but perhaps we just needed to scale the data first:"
      ],
      "metadata": {
        "id": "BTlaRs-SJsMY"
      }
    },
    {
      "cell_type": "code",
      "source": [
        "scaler = StandardScaler()\n",
        "X_train_scaled = scaler.fit_transform(X_train.astype(np.float32))\n",
        "X_test_scaled = scaler.transform(X_test.astype(np.float32))"
      ],
      "metadata": {
        "id": "wOD7Ix0QJyjm"
      },
      "execution_count": null,
      "outputs": []
    },
    {
      "cell_type": "code",
      "source": [
        "lin_clf = LinearSVC(random_state=42)\n",
        "lin_clf.fit(X_train_scaled, y_train)"
      ],
      "metadata": {
        "id": "PCFlAwq2J1XX"
      },
      "execution_count": null,
      "outputs": []
    },
    {
      "cell_type": "code",
      "source": [
        "y_pred = lin_clf.predict(X_train_scaled)\n",
        "accuracy_score(y_train, y_pred)"
      ],
      "metadata": {
        "colab": {
          "base_uri": "https://localhost:8080/"
        },
        "id": "V4W-rECWJ5MQ",
        "outputId": "103a52b4-a6b9-4e0a-c79e-d1e3f94b723d"
      },
      "execution_count": null,
      "outputs": [
        {
          "output_type": "execute_result",
          "data": {
            "text/plain": [
              "0.92025"
            ]
          },
          "metadata": {},
          "execution_count": 21
        }
      ]
    },
    {
      "cell_type": "markdown",
      "source": [
        "That's much better (we cut the error rate in two), but still not great at all for MNIST. If we want to use an SVM, we will have to use a kernel. Let's try an `SVC` with an RBF kernel (the default).\n",
        "\n",
        "**Warning**: if you are using Scikit-Learn ≤ 0.19, the `SVC` class will use the One-vs-One (OvO) strategy by default, so you must explicitly set `decision_function_shape=\"ovr\"` if you want to use the OvR strategy instead (OvR is the default since 0.19)."
      ],
      "metadata": {
        "id": "1WZXn2ZMKGh7"
      }
    },
    {
      "cell_type": "code",
      "source": [
        "svm_clf = SVC(decision_function_shape=\"ovr\", gamma=\"auto\")\n",
        "svm_clf.fit(X_train_scaled[:10000], y_train[:10000])"
      ],
      "metadata": {
        "colab": {
          "base_uri": "https://localhost:8080/"
        },
        "id": "PosahimdKG-U",
        "outputId": "309de875-27b3-4d7a-eb7e-fbd37f5e4a25"
      },
      "execution_count": null,
      "outputs": [
        {
          "output_type": "execute_result",
          "data": {
            "text/plain": [
              "SVC(gamma='auto')"
            ]
          },
          "metadata": {},
          "execution_count": 22
        }
      ]
    },
    {
      "cell_type": "code",
      "source": [
        "y_pred = svm_clf.predict(X_train_scaled)\n",
        "accuracy_score(y_train, y_pred)"
      ],
      "metadata": {
        "colab": {
          "base_uri": "https://localhost:8080/"
        },
        "id": "Jw3HD_IuKKih",
        "outputId": "0065dba2-9f96-43a5-b09f-a63e2437bbd0"
      },
      "execution_count": null,
      "outputs": [
        {
          "output_type": "execute_result",
          "data": {
            "text/plain": [
              "0.9476"
            ]
          },
          "metadata": {},
          "execution_count": 23
        }
      ]
    },
    {
      "cell_type": "markdown",
      "source": [
        "That's promising, we get better performance even though we trained the model on 6 times less data. \n",
        "\n",
        "Let's tune the hyperparameters by doing a randomized search with cross validation. We will do this on a small dataset just to speed up the process:"
      ],
      "metadata": {
        "id": "yfdD7tWDKK85"
      }
    },
    {
      "cell_type": "code",
      "source": [
        "param_distributions = {\"gamma\": reciprocal(0.001, 0.1), \"C\": uniform(1, 10)}\n",
        "rnd_search_cv = RandomizedSearchCV(svm_clf, param_distributions, n_iter=10, verbose=2, cv=3)\n",
        "rnd_search_cv.fit(X_train_scaled[:1000], y_train[:1000])"
      ],
      "metadata": {
        "colab": {
          "base_uri": "https://localhost:8080/"
        },
        "id": "0ELSECH9KNkX",
        "outputId": "b1a5063d-e92a-46fe-a1e4-aa62883e2de7"
      },
      "execution_count": null,
      "outputs": [
        {
          "output_type": "stream",
          "name": "stdout",
          "text": [
            "Fitting 3 folds for each of 10 candidates, totalling 30 fits\n",
            "[CV] END ....C=8.965429868602328, gamma=0.002327392228062871; total time=   0.3s\n",
            "[CV] END ....C=8.965429868602328, gamma=0.002327392228062871; total time=   0.3s\n",
            "[CV] END ....C=8.965429868602328, gamma=0.002327392228062871; total time=   0.3s\n",
            "[CV] END ....C=8.796910002727692, gamma=0.015620693675639861; total time=   0.4s\n",
            "[CV] END ....C=8.796910002727692, gamma=0.015620693675639861; total time=   0.4s\n",
            "[CV] END ....C=8.796910002727692, gamma=0.015620693675639861; total time=   0.4s\n",
            "[CV] END ...C=5.458327528535912, gamma=0.0015847101210439089; total time=   0.3s\n",
            "[CV] END ...C=5.458327528535912, gamma=0.0015847101210439089; total time=   0.3s\n",
            "[CV] END ...C=5.458327528535912, gamma=0.0015847101210439089; total time=   0.3s\n",
            "[CV] END ....C=5.592488919658671, gamma=0.004649617447336332; total time=   0.4s\n",
            "[CV] END ....C=5.592488919658671, gamma=0.004649617447336332; total time=   0.4s\n",
            "[CV] END ....C=5.592488919658671, gamma=0.004649617447336332; total time=   0.4s\n",
            "[CV] END ....C=2.428668179219408, gamma=0.020034427927560723; total time=   0.4s\n",
            "[CV] END ....C=2.428668179219408, gamma=0.020034427927560723; total time=   0.4s\n",
            "[CV] END ....C=2.428668179219408, gamma=0.020034427927560723; total time=   0.4s\n",
            "[CV] END ...C=1.5641157902710026, gamma=0.027796975515266813; total time=   0.4s\n",
            "[CV] END ...C=1.5641157902710026, gamma=0.027796975515266813; total time=   0.4s\n",
            "[CV] END ...C=1.5641157902710026, gamma=0.027796975515266813; total time=   0.4s\n",
            "[CV] END ...C=10.385527090157503, gamma=0.001003592787878091; total time=   0.3s\n",
            "[CV] END ...C=10.385527090157503, gamma=0.001003592787878091; total time=   0.3s\n",
            "[CV] END ...C=10.385527090157503, gamma=0.001003592787878091; total time=   0.3s\n",
            "[CV] END ...C=10.922115592912174, gamma=0.017177621112338375; total time=   0.4s\n",
            "[CV] END ...C=10.922115592912174, gamma=0.017177621112338375; total time=   0.4s\n",
            "[CV] END ...C=10.922115592912174, gamma=0.017177621112338375; total time=   0.4s\n",
            "[CV] END ...C=7.116531604882809, gamma=0.0010330768043240405; total time=   0.3s\n",
            "[CV] END ...C=7.116531604882809, gamma=0.0010330768043240405; total time=   0.3s\n",
            "[CV] END ...C=7.116531604882809, gamma=0.0010330768043240405; total time=   0.3s\n",
            "[CV] END ...C=1.2306242504141576, gamma=0.011208547084229366; total time=   0.4s\n",
            "[CV] END ...C=1.2306242504141576, gamma=0.011208547084229366; total time=   0.4s\n",
            "[CV] END ...C=1.2306242504141576, gamma=0.011208547084229366; total time=   0.4s\n"
          ]
        },
        {
          "output_type": "execute_result",
          "data": {
            "text/plain": [
              "RandomizedSearchCV(cv=3, estimator=SVC(gamma='auto'),\n",
              "                   param_distributions={'C': <scipy.stats._distn_infrastructure.rv_frozen object at 0x7fcc4721a290>,\n",
              "                                        'gamma': <scipy.stats._distn_infrastructure.rv_frozen object at 0x7fcc47221550>},\n",
              "                   verbose=2)"
            ]
          },
          "metadata": {},
          "execution_count": 24
        }
      ]
    },
    {
      "cell_type": "code",
      "source": [
        "rnd_search_cv.best_estimator_"
      ],
      "metadata": {
        "colab": {
          "base_uri": "https://localhost:8080/"
        },
        "id": "xxa1k__yKf5O",
        "outputId": "8fb5748d-3330-4104-c35b-8994a853c903"
      },
      "execution_count": null,
      "outputs": [
        {
          "output_type": "execute_result",
          "data": {
            "text/plain": [
              "SVC(C=10.385527090157503, gamma=0.001003592787878091)"
            ]
          },
          "metadata": {},
          "execution_count": 25
        }
      ]
    },
    {
      "cell_type": "code",
      "source": [
        "rnd_search_cv.best_score_"
      ],
      "metadata": {
        "colab": {
          "base_uri": "https://localhost:8080/"
        },
        "id": "HumMzCagKh9S",
        "outputId": "b06c5ed3-de75-4c80-f14b-ade2ca31acb5"
      },
      "execution_count": null,
      "outputs": [
        {
          "output_type": "execute_result",
          "data": {
            "text/plain": [
              "0.8700077322831814"
            ]
          },
          "metadata": {},
          "execution_count": 26
        }
      ]
    },
    {
      "cell_type": "markdown",
      "source": [
        "This looks pretty low but remember we only trained the model on 1,000 instances. \n",
        "\n",
        "Let's retrain the best estimator on the whole training set (run this at night, it will take hours):"
      ],
      "metadata": {
        "id": "nK5ckUnuKlbt"
      }
    },
    {
      "cell_type": "code",
      "source": [
        "rnd_search_cv.best_estimator_.fit(X_train_scaled, y_train)"
      ],
      "metadata": {
        "colab": {
          "base_uri": "https://localhost:8080/"
        },
        "id": "UzpoVI-cKmjB",
        "outputId": "ff398cd2-a07d-4f97-f8f0-ee106455c881"
      },
      "execution_count": null,
      "outputs": [
        {
          "output_type": "execute_result",
          "data": {
            "text/plain": [
              "SVC(C=10.385527090157503, gamma=0.001003592787878091)"
            ]
          },
          "metadata": {},
          "execution_count": 27
        }
      ]
    },
    {
      "cell_type": "code",
      "source": [
        "y_pred = rnd_search_cv.best_estimator_.predict(X_train_scaled)\n",
        "accuracy_score(y_train, y_pred)"
      ],
      "metadata": {
        "colab": {
          "base_uri": "https://localhost:8080/"
        },
        "id": "PiRGRB5sKr4M",
        "outputId": "19711999-11eb-4b07-e459-c9b3f0f2d5d4"
      },
      "execution_count": null,
      "outputs": [
        {
          "output_type": "execute_result",
          "data": {
            "text/plain": [
              "0.9983166666666666"
            ]
          },
          "metadata": {},
          "execution_count": 28
        }
      ]
    },
    {
      "cell_type": "markdown",
      "source": [
        "Ah, this looks good! Let's select this model. Now we can test it on the test set:"
      ],
      "metadata": {
        "id": "5cEP0XZMKvyU"
      }
    },
    {
      "cell_type": "code",
      "source": [
        "y_pred = rnd_search_cv.best_estimator_.predict(X_test_scaled)\n",
        "accuracy_score(y_test, y_pred)"
      ],
      "metadata": {
        "colab": {
          "base_uri": "https://localhost:8080/"
        },
        "id": "msB5R1IbKwK1",
        "outputId": "cd3ad541-3d35-4014-d29d-e9c2366d3cac"
      },
      "execution_count": null,
      "outputs": [
        {
          "output_type": "execute_result",
          "data": {
            "text/plain": [
              "0.9731"
            ]
          },
          "metadata": {},
          "execution_count": 29
        }
      ]
    },
    {
      "cell_type": "markdown",
      "source": [
        "Not too bad, but apparently the model is overfitting slightly. It's tempting to tweak the hyperparameters a bit more (e.g. decreasing `C` and/or `gamma`), but we would run the risk of overfitting the test set. Other people have found that the hyperparameters `C=5` and `gamma=0.005` yield even better performance (over 98% accuracy). By running the randomized search for longer and on a larger part of the training set, you may be able to find this as well."
      ],
      "metadata": {
        "id": "yfe5rtkoK0vc"
      }
    },
    {
      "cell_type": "markdown",
      "source": [
        "##Exercise-10"
      ],
      "metadata": {
        "id": "g0kS8xD0U5uh"
      }
    },
    {
      "cell_type": "markdown",
      "source": [
        "Let's train an SVM regressor on the California housing dataset."
      ],
      "metadata": {
        "id": "xfWL-COF-Gxs"
      }
    },
    {
      "cell_type": "code",
      "source": [
        "housing = fetch_california_housing()\n",
        "X = housing[\"data\"]\n",
        "y = housing[\"target\"]"
      ],
      "metadata": {
        "id": "QY90T01XVTYr"
      },
      "execution_count": 3,
      "outputs": []
    },
    {
      "cell_type": "markdown",
      "source": [
        "Split it into a training set and a test set:"
      ],
      "metadata": {
        "id": "s-Kv7S6PYfgE"
      }
    },
    {
      "cell_type": "code",
      "source": [
        "X_train, X_test, y_train, y_test = train_test_split(X, y, test_size=0.2, random_state=42)"
      ],
      "metadata": {
        "id": "tfUB2wSbYf2k"
      },
      "execution_count": 6,
      "outputs": []
    },
    {
      "cell_type": "markdown",
      "source": [
        "Don't forget to scale the data:"
      ],
      "metadata": {
        "id": "85dm7bg_Y43-"
      }
    },
    {
      "cell_type": "code",
      "source": [
        "scaler = StandardScaler()\n",
        "X_train_scaled = scaler.fit_transform(X_train)\n",
        "X_test_scaled = scaler.transform(X_test)"
      ],
      "metadata": {
        "id": "c9LsZZwaY5RI"
      },
      "execution_count": 7,
      "outputs": []
    },
    {
      "cell_type": "markdown",
      "source": [
        "Let's train a simple `LinearSVR` first:"
      ],
      "metadata": {
        "id": "vIwVhY_SY71r"
      }
    },
    {
      "cell_type": "code",
      "source": [
        "lin_svr = LinearSVR(random_state=42)\n",
        "lin_svr.fit(X_train_scaled, y_train)"
      ],
      "metadata": {
        "id": "TMPRXFIRY9mD"
      },
      "execution_count": null,
      "outputs": []
    },
    {
      "cell_type": "markdown",
      "source": [
        "Let's see how it performs on the training set:"
      ],
      "metadata": {
        "id": "ks7lL6HRZGfo"
      }
    },
    {
      "cell_type": "code",
      "source": [
        "y_pred = lin_svr.predict(X_train_scaled)\n",
        "mse = mean_squared_error(y_train, y_pred)\n",
        "mse"
      ],
      "metadata": {
        "id": "TYri7ku2ZG7p",
        "outputId": "bbd50e71-b2f7-4041-b513-32bdafe4e972",
        "colab": {
          "base_uri": "https://localhost:8080/"
        }
      },
      "execution_count": 11,
      "outputs": [
        {
          "output_type": "execute_result",
          "data": {
            "text/plain": [
              "0.9641780189948642"
            ]
          },
          "metadata": {},
          "execution_count": 11
        }
      ]
    },
    {
      "cell_type": "markdown",
      "source": [
        "Let's look at the RMSE:"
      ],
      "metadata": {
        "id": "iXXMAb08ZK-H"
      }
    },
    {
      "cell_type": "code",
      "source": [
        "np.sqrt(mse)"
      ],
      "metadata": {
        "id": "WoqPmNu7ZLum",
        "outputId": "c5c18ec2-a01d-4c4d-e0ed-27e40ef0cc9a",
        "colab": {
          "base_uri": "https://localhost:8080/"
        }
      },
      "execution_count": 12,
      "outputs": [
        {
          "output_type": "execute_result",
          "data": {
            "text/plain": [
              "0.9819256687727764"
            ]
          },
          "metadata": {},
          "execution_count": 12
        }
      ]
    },
    {
      "cell_type": "markdown",
      "source": [
        "In this training set, the targets are tens of thousands of dollars. The RMSE gives a rough idea of the kind of error you should expect (with a higher weight for large errors): so with this model we can expect errors somewhere around $10,000. Not great. \n",
        "\n",
        "Let's see if we can do better with an RBF Kernel. We will use randomized search with cross validation to find the appropriate hyperparameter values for `C` and `gamma`:"
      ],
      "metadata": {
        "id": "lQurtotZZPhx"
      }
    },
    {
      "cell_type": "code",
      "source": [
        "param_distributions = {\"gamma\": reciprocal(0.001, 0.1), \"C\": uniform(1, 10)}\n",
        "rnd_search_cv = RandomizedSearchCV(SVR(), param_distributions, n_iter=10, verbose=2, cv=3, random_state=42)\n",
        "rnd_search_cv.fit(X_train_scaled, y_train)"
      ],
      "metadata": {
        "id": "6eR1_hNfZRF5",
        "outputId": "ede58e33-f987-4219-8e64-7f6228ed8f46",
        "colab": {
          "base_uri": "https://localhost:8080/"
        }
      },
      "execution_count": 13,
      "outputs": [
        {
          "output_type": "stream",
          "name": "stdout",
          "text": [
            "Fitting 3 folds for each of 10 candidates, totalling 30 fits\n",
            "[CV] END .....C=4.745401188473625, gamma=0.07969454818643928; total time=  10.8s\n",
            "[CV] END .....C=4.745401188473625, gamma=0.07969454818643928; total time=  15.6s\n",
            "[CV] END .....C=4.745401188473625, gamma=0.07969454818643928; total time=  16.1s\n",
            "[CV] END .....C=8.31993941811405, gamma=0.015751320499779724; total time=  13.3s\n",
            "[CV] END .....C=8.31993941811405, gamma=0.015751320499779724; total time=  10.8s\n",
            "[CV] END .....C=8.31993941811405, gamma=0.015751320499779724; total time=  10.3s\n",
            "[CV] END ....C=2.560186404424365, gamma=0.002051110418843397; total time=   9.7s\n",
            "[CV] END ....C=2.560186404424365, gamma=0.002051110418843397; total time=   9.8s\n",
            "[CV] END ....C=2.560186404424365, gamma=0.002051110418843397; total time=   9.8s\n",
            "[CV] END ....C=1.5808361216819946, gamma=0.05399484409787431; total time=   9.7s\n",
            "[CV] END ....C=1.5808361216819946, gamma=0.05399484409787431; total time=   9.6s\n",
            "[CV] END ....C=1.5808361216819946, gamma=0.05399484409787431; total time=   9.6s\n",
            "[CV] END ....C=7.011150117432088, gamma=0.026070247583707663; total time=  10.2s\n",
            "[CV] END ....C=7.011150117432088, gamma=0.026070247583707663; total time=  11.0s\n",
            "[CV] END ....C=7.011150117432088, gamma=0.026070247583707663; total time=  10.3s\n",
            "[CV] END .....C=1.2058449429580245, gamma=0.0870602087830485; total time=  10.2s\n",
            "[CV] END .....C=1.2058449429580245, gamma=0.0870602087830485; total time=   9.6s\n",
            "[CV] END .....C=1.2058449429580245, gamma=0.0870602087830485; total time=   9.5s\n",
            "[CV] END ...C=9.324426408004218, gamma=0.0026587543983272693; total time=   9.9s\n",
            "[CV] END ...C=9.324426408004218, gamma=0.0026587543983272693; total time=   9.8s\n",
            "[CV] END ...C=9.324426408004218, gamma=0.0026587543983272693; total time=   9.8s\n",
            "[CV] END ...C=2.818249672071006, gamma=0.0023270677083837795; total time=  10.4s\n",
            "[CV] END ...C=2.818249672071006, gamma=0.0023270677083837795; total time=   9.7s\n",
            "[CV] END ...C=2.818249672071006, gamma=0.0023270677083837795; total time=  10.4s\n",
            "[CV] END ....C=4.042422429595377, gamma=0.011207606211860567; total time=   9.7s\n",
            "[CV] END ....C=4.042422429595377, gamma=0.011207606211860567; total time=   9.7s\n",
            "[CV] END ....C=4.042422429595377, gamma=0.011207606211860567; total time=   9.7s\n",
            "[CV] END ....C=5.319450186421157, gamma=0.003823475224675185; total time=   9.7s\n",
            "[CV] END ....C=5.319450186421157, gamma=0.003823475224675185; total time=  10.3s\n",
            "[CV] END ....C=5.319450186421157, gamma=0.003823475224675185; total time=   9.9s\n"
          ]
        },
        {
          "output_type": "execute_result",
          "data": {
            "text/plain": [
              "RandomizedSearchCV(cv=3, estimator=SVR(),\n",
              "                   param_distributions={'C': <scipy.stats._distn_infrastructure.rv_frozen object at 0x7fab88c32f10>,\n",
              "                                        'gamma': <scipy.stats._distn_infrastructure.rv_frozen object at 0x7fab9db88e50>},\n",
              "                   random_state=42, verbose=2)"
            ]
          },
          "metadata": {},
          "execution_count": 13
        }
      ]
    },
    {
      "cell_type": "code",
      "source": [
        "rnd_search_cv.best_estimator_"
      ],
      "metadata": {
        "id": "NuDRgGtHZbQe",
        "outputId": "242dfade-1313-4e52-b089-647248cd9fd3",
        "colab": {
          "base_uri": "https://localhost:8080/"
        }
      },
      "execution_count": 14,
      "outputs": [
        {
          "output_type": "execute_result",
          "data": {
            "text/plain": [
              "SVR(C=4.745401188473625, gamma=0.07969454818643928)"
            ]
          },
          "metadata": {},
          "execution_count": 14
        }
      ]
    },
    {
      "cell_type": "markdown",
      "source": [
        "Now let's measure the RMSE on the training set:"
      ],
      "metadata": {
        "id": "1iJdlEujZdNT"
      }
    },
    {
      "cell_type": "code",
      "source": [
        "y_pred = rnd_search_cv.best_estimator_.predict(X_train_scaled)\n",
        "mse = mean_squared_error(y_train, y_pred)\n",
        "np.sqrt(mse)"
      ],
      "metadata": {
        "id": "PDzdFjc6ZdlO",
        "outputId": "19269d2f-6864-4bf3-a1e4-e753613ecb9b",
        "colab": {
          "base_uri": "https://localhost:8080/"
        }
      },
      "execution_count": 15,
      "outputs": [
        {
          "output_type": "execute_result",
          "data": {
            "text/plain": [
              "0.5727524770785356"
            ]
          },
          "metadata": {},
          "execution_count": 15
        }
      ]
    },
    {
      "cell_type": "markdown",
      "source": [
        "Looks much better than the linear model. Let's select this model and evaluate it on the test set:"
      ],
      "metadata": {
        "id": "ebu4pypxZg96"
      }
    },
    {
      "cell_type": "code",
      "source": [
        "y_pred = rnd_search_cv.best_estimator_.predict(X_test_scaled)\n",
        "mse = mean_squared_error(y_test, y_pred)\n",
        "np.sqrt(mse)"
      ],
      "metadata": {
        "id": "4AG7QM5fZhW1",
        "outputId": "b61f4ec9-fa54-4439-fe13-dbb35c1da743",
        "colab": {
          "base_uri": "https://localhost:8080/"
        }
      },
      "execution_count": 16,
      "outputs": [
        {
          "output_type": "execute_result",
          "data": {
            "text/plain": [
              "0.592916838552874"
            ]
          },
          "metadata": {},
          "execution_count": 16
        }
      ]
    }
  ]
}