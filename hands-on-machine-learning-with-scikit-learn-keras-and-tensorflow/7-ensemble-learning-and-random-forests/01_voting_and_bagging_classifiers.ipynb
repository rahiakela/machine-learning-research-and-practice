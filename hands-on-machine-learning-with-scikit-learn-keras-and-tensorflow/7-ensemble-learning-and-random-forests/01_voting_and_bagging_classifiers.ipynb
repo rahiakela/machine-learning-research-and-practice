{
  "nbformat": 4,
  "nbformat_minor": 0,
  "metadata": {
    "colab": {
      "name": "01-voting-classifiers.ipynb",
      "provenance": [],
      "toc_visible": true,
      "authorship_tag": "ABX9TyMsSwvNXE/8DuNhZI1oFvil",
      "include_colab_link": true
    },
    "kernelspec": {
      "name": "python3",
      "display_name": "Python 3"
    },
    "language_info": {
      "name": "python"
    }
  },
  "cells": [
    {
      "cell_type": "markdown",
      "metadata": {
        "id": "view-in-github",
        "colab_type": "text"
      },
      "source": [
        "<a href=\"https://colab.research.google.com/github/rahiakela/machine-learning-research-and-practice/blob/main/hands-on-machine-learning-with-scikit-learn-keras-and-tensorflow/7-ensemble-learning-and-random-forests/01_voting_classifiers.ipynb\" target=\"_parent\"><img src=\"https://colab.research.google.com/assets/colab-badge.svg\" alt=\"Open In Colab\"/></a>"
      ]
    },
    {
      "cell_type": "markdown",
      "source": [
        "##Voting Classifiers"
      ],
      "metadata": {
        "id": "0FOcX1J5BIGO"
      }
    },
    {
      "cell_type": "markdown",
      "source": [
        "If you aggregate\n",
        "the predictions of a group of predictors (such as classifiers or regressors), you will\n",
        "often get better predictions than with the best individual predictor. A group of predictors\n",
        "is called an ensemble; thus, this technique is called Ensemble Learning, and an\n",
        "Ensemble Learning algorithm is called an Ensemble method.\n",
        "\n",
        "As an example of an Ensemble method, you can train a group of Decision Tree classifiers,\n",
        "each on a different random subset of the training set. To make predictions, you\n",
        "obtain the predictions of all the individual trees, then predict the class that gets the\n",
        "most votes.\n",
        "\n",
        "Such an ensemble of Decision Trees is\n",
        "called a Random Forest, and despite its simplicity, this is one of the most powerful\n",
        "Machine Learning algorithms available today.\n",
        "\n",
        "In fact, the winning solutions in Machine Learning competitions\n",
        "often involve several Ensemble methods (most famously in the Netflix Prize\n",
        "competition).\n",
        "\n"
      ],
      "metadata": {
        "id": "6bGGszxqGWTz"
      }
    },
    {
      "cell_type": "markdown",
      "source": [
        "##Setup"
      ],
      "metadata": {
        "id": "uNdW10-LGl8B"
      }
    },
    {
      "cell_type": "code",
      "source": [
        "# Common imports\n",
        "import numpy as np\n",
        "import os\n",
        "\n",
        "from sklearn.ensemble import RandomForestClassifier\n",
        "from sklearn.ensemble import VotingClassifier\n",
        "from sklearn.ensemble import BaggingClassifier\n",
        "from sklearn.tree import DecisionTreeClassifier\n",
        "from sklearn.linear_model import LogisticRegression\n",
        "from sklearn.svm import SVC\n",
        "\n",
        "from sklearn.metrics import accuracy_score\n",
        "\n",
        "from sklearn.model_selection import train_test_split\n",
        "from sklearn.datasets import make_moons\n",
        "\n",
        "# to make this notebook's output stable across runs\n",
        "np.random.seed(42)\n",
        "\n",
        "# To plot pretty figures\n",
        "%matplotlib inline\n",
        "import matplotlib as mpl\n",
        "import matplotlib.pyplot as plt\n",
        "from matplotlib.colors import ListedColormap\n",
        "mpl.rc('axes', labelsize=14)\n",
        "mpl.rc('xtick', labelsize=12)\n",
        "mpl.rc('ytick', labelsize=12)"
      ],
      "metadata": {
        "id": "lfCtLHkEGm33"
      },
      "execution_count": 1,
      "outputs": []
    },
    {
      "cell_type": "code",
      "source": [
        "def plot_decision_boundary(clf, X, y, axes=[-1.5, 2.5, -1, 1.5], alpha=0.5, contour=True):\n",
        "    x1s = np.linspace(axes[0], axes[1], 100)\n",
        "    x2s = np.linspace(axes[2], axes[3], 100)\n",
        "    x1, x2 = np.meshgrid(x1s, x2s)\n",
        "    X_new = np.c_[x1.ravel(), x2.ravel()]\n",
        "    y_pred = clf.predict(X_new).reshape(x1.shape)\n",
        "    custom_cmap = ListedColormap(['#fafab0','#9898ff','#a0faa0'])\n",
        "    plt.contourf(x1, x2, y_pred, alpha=0.3, cmap=custom_cmap)\n",
        "    if contour:\n",
        "        custom_cmap2 = ListedColormap(['#7d7d58','#4c4c7f','#507d50'])\n",
        "        plt.contour(x1, x2, y_pred, cmap=custom_cmap2, alpha=0.8)\n",
        "    plt.plot(X[:, 0][y==0], X[:, 1][y==0], \"yo\", alpha=alpha)\n",
        "    plt.plot(X[:, 0][y==1], X[:, 1][y==1], \"bs\", alpha=alpha)\n",
        "    plt.axis(axes)\n",
        "    plt.xlabel(r\"$x_1$\", fontsize=18)\n",
        "    plt.ylabel(r\"$x_2$\", fontsize=18, rotation=0)"
      ],
      "metadata": {
        "id": "0JdPaNhgk87r"
      },
      "execution_count": 2,
      "outputs": []
    },
    {
      "cell_type": "markdown",
      "source": [
        "##The law of large numbers"
      ],
      "metadata": {
        "id": "1K2qktRwHGL-"
      }
    },
    {
      "cell_type": "markdown",
      "source": [
        "Suppose you have a slightly biased coin that has a 51% chance of coming up heads\n",
        "and 49% chance of coming up tails. If you toss it 1,000 times, you will generally get\n",
        "more or less 510 heads and 490 tails, and hence a majority of heads. If you do the\n",
        "math, you will find that the probability of obtaining a majority of heads after 1,000\n",
        "tosses is close to 75%. The more you toss the coin, the higher the probability (e.g.,\n",
        "with 10,000 tosses, the probability climbs over 97%). \n",
        "\n",
        "This is due to the law of large\n",
        "numbers: as you keep tossing the coin, the ratio of heads gets closer and closer to the probability of heads (51%).\n",
        "\n"
      ],
      "metadata": {
        "id": "hbBDnyJ-bPk3"
      }
    },
    {
      "cell_type": "code",
      "source": [
        "heads_proba = 0.51\n",
        "\n",
        "coin_tosses = (np.random.rand(10000, 10) < heads_proba).astype(np.int32)\n",
        "cumulative_heads_ratio = np.cumsum(coin_tosses, axis=0) / np.arange(1, 10001).reshape(-1, 1)"
      ],
      "metadata": {
        "id": "DFEtzlaCbh0P"
      },
      "execution_count": 3,
      "outputs": []
    },
    {
      "cell_type": "code",
      "source": [
        "plt.figure(figsize=(8,3.5))\n",
        "plt.plot(cumulative_heads_ratio)\n",
        "plt.plot([0, 10000], [0.51, 0.51], \"k--\", linewidth=2, label=\"51%\")\n",
        "plt.plot([0, 10000], [0.5, 0.5], \"k-\", label=\"50%\")\n",
        "plt.xlabel(\"Number of coin tosses\")\n",
        "plt.ylabel(\"Heads ratio\")\n",
        "plt.legend(loc=\"lower right\")\n",
        "plt.axis([0, 10000, 0.42, 0.58])\n",
        "\n",
        "plt.show()"
      ],
      "metadata": {
        "id": "M9ZBtKnDcDC9",
        "outputId": "05fde47d-d286-4330-e726-dac51188ccca",
        "colab": {
          "base_uri": "https://localhost:8080/",
          "height": 259
        }
      },
      "execution_count": 4,
      "outputs": [
        {
          "output_type": "display_data",
          "data": {
            "text/plain": [
              "<Figure size 576x252 with 1 Axes>"
            ],
            "image/png": "[encoded data removed]"
          },
          "metadata": {
            "needs_background": "light"
          }
        }
      ]
    },
    {
      "cell_type": "markdown",
      "source": [
        "You can see that as the number of tosses increases, the ratio of heads approaches 51%. Eventually\n",
        "all 10 series end up so close to 51% that they are consistently above 50%."
      ],
      "metadata": {
        "id": "hdUCqFJGcKLW"
      }
    },
    {
      "cell_type": "markdown",
      "source": [
        "##Ensemble methods"
      ],
      "metadata": {
        "id": "nU4U2kuRcgCQ"
      }
    },
    {
      "cell_type": "markdown",
      "source": [
        "Similarly, suppose you build an ensemble containing 1,000 classifiers that are individually\n",
        "correct only 51% of the time (barely better than random guessing). If you predict\n",
        "the majority voted class, you can hope for up to 75% accuracy!\n",
        "\n",
        "However, this is\n",
        "only true if all classifiers are perfectly independent, making uncorrelated errors,\n",
        "which is clearly not the case because they are trained on the same data. They are likely\n",
        "to make the same types of errors, so there will be many majority votes for the wrong\n",
        "class, reducing the ensemble’s accuracy.\n",
        "\n",
        ">Ensemble methods work best when the predictors are as independent\n",
        "from one another as possible. One way to get diverse classifiers\n",
        "is to train them using very different algorithms. This increases the\n",
        "chance that they will make very different types of errors, improving\n",
        "the ensemble’s accuracy.\n",
        "\n",
        "Let's creates and trains a voting classifier in Scikit-Learn, composed of\n",
        "three diverse classifiers (the training set is the moons dataset)."
      ],
      "metadata": {
        "id": "TcbxrIV4cg9c"
      }
    },
    {
      "cell_type": "code",
      "source": [
        "X, y = make_moons(n_samples=500, noise=0.5, random_state=42)\n",
        "x_train, x_test, y_train, y_test = train_test_split(X, y, random_state=42)"
      ],
      "metadata": {
        "id": "LKD3pnUQhuO0"
      },
      "execution_count": 5,
      "outputs": []
    },
    {
      "cell_type": "code",
      "source": [
        "log_clf = LogisticRegression(solver=\"liblinear\", random_state=42)\n",
        "rnd_clf = RandomForestClassifier(n_estimators=10, random_state=42)\n",
        "svm_clf = SVC(gamma=\"auto\", random_state=42)\n",
        "\n",
        "voting_clf = VotingClassifier(estimators=[(\"lr\", log_clf), (\"rf\", rnd_clf), (\"svc\", svm_clf)], voting=\"hard\")\n",
        "voting_clf.fit(X, y)"
      ],
      "metadata": {
        "id": "lqVjFG7Uc2nT",
        "outputId": "47239144-a07b-46eb-8297-054e7aaa16a9",
        "colab": {
          "base_uri": "https://localhost:8080/"
        }
      },
      "execution_count": 6,
      "outputs": [
        {
          "output_type": "execute_result",
          "data": {
            "text/plain": [
              "VotingClassifier(estimators=[('lr',\n",
              "                              LogisticRegression(random_state=42,\n",
              "                                                 solver='liblinear')),\n",
              "                             ('rf',\n",
              "                              RandomForestClassifier(n_estimators=10,\n",
              "                                                     random_state=42)),\n",
              "                             ('svc', SVC(gamma='auto', random_state=42))])"
            ]
          },
          "metadata": {},
          "execution_count": 6
        }
      ]
    },
    {
      "cell_type": "markdown",
      "source": [
        "Let’s look at each classifier’s accuracy on the test set:"
      ],
      "metadata": {
        "id": "RaVzOtuXiUVs"
      }
    },
    {
      "cell_type": "code",
      "source": [
        "for clf in (log_clf, rnd_clf, svm_clf, voting_clf):\n",
        "  clf.fit(x_train, y_train)\n",
        "  y_pred = clf.predict(x_test)\n",
        "  print(clf.__class__.__name__, accuracy_score(y_test, y_pred))"
      ],
      "metadata": {
        "id": "zKJFnFyqiUzV",
        "outputId": "eeff00f5-f646-4729-e637-fee05bbbf961",
        "colab": {
          "base_uri": "https://localhost:8080/"
        }
      },
      "execution_count": 7,
      "outputs": [
        {
          "output_type": "stream",
          "name": "stdout",
          "text": [
            "LogisticRegression 0.816\n",
            "RandomForestClassifier 0.712\n",
            "SVC 0.792\n",
            "VotingClassifier 0.8\n"
          ]
        }
      ]
    },
    {
      "cell_type": "markdown",
      "source": [
        "There you have it! The voting classifier slightly outperforms all the individual classifiers.\n",
        "\n",
        "If all classifiers are able to estimate class probabilities (i.e., they all have a pre\n",
        "dict_proba() method), then you can tell Scikit-Learn to predict the class with the\n",
        "highest class probability, averaged over all the individual classifiers. This is called soft\n",
        "voting.\n",
        "\n",
        "It often achieves higher performance than hard voting because it gives more\n",
        "weight to highly confident votes. All you need to do is replace voting=\"hard\" with\n",
        "voting=\"soft\" and ensure that all classifiers can estimate class probabilities.\n",
        "\n",
        "If you modify the preceding code to use soft voting, you will find that the voting classifier achieves over 91.2% accuracy!"
      ],
      "metadata": {
        "id": "e__BI_3bk-ea"
      }
    },
    {
      "cell_type": "code",
      "source": [
        "log_clf = LogisticRegression(solver=\"liblinear\", random_state=42)\n",
        "rnd_clf = RandomForestClassifier(n_estimators=10, random_state=42) \n",
        "svm_clf = SVC(gamma=\"auto\", probability=True, random_state=42)\n",
        "\n",
        "voting_clf = VotingClassifier(estimators=[(\"lr\", log_clf), (\"rf\", rnd_clf), (\"svc\", svm_clf)], voting=\"soft\")\n",
        "voting_clf.fit(X, y)"
      ],
      "metadata": {
        "id": "Qyk86_jNlh47",
        "outputId": "d045ede8-9d6d-4624-afe0-c28e665e9a5a",
        "colab": {
          "base_uri": "https://localhost:8080/"
        }
      },
      "execution_count": 8,
      "outputs": [
        {
          "output_type": "execute_result",
          "data": {
            "text/plain": [
              "VotingClassifier(estimators=[('lr',\n",
              "                              LogisticRegression(random_state=42,\n",
              "                                                 solver='liblinear')),\n",
              "                             ('rf',\n",
              "                              RandomForestClassifier(n_estimators=10,\n",
              "                                                     random_state=42)),\n",
              "                             ('svc',\n",
              "                              SVC(gamma='auto', probability=True,\n",
              "                                  random_state=42))],\n",
              "                 voting='soft')"
            ]
          },
          "metadata": {},
          "execution_count": 8
        }
      ]
    },
    {
      "cell_type": "code",
      "source": [
        "for clf in (log_clf, rnd_clf, svm_clf, voting_clf):\n",
        "  clf.fit(x_train, y_train)\n",
        "  y_pred = clf.predict(x_test)\n",
        "  print(clf.__class__.__name__, accuracy_score(y_test, y_pred))"
      ],
      "metadata": {
        "id": "npySgaAVmXVg",
        "outputId": "854e5968-cce9-49f5-b812-e9d192683e4e",
        "colab": {
          "base_uri": "https://localhost:8080/"
        }
      },
      "execution_count": 9,
      "outputs": [
        {
          "output_type": "stream",
          "name": "stdout",
          "text": [
            "LogisticRegression 0.816\n",
            "RandomForestClassifier 0.712\n",
            "SVC 0.792\n",
            "VotingClassifier 0.784\n"
          ]
        }
      ]
    },
    {
      "cell_type": "markdown",
      "source": [
        "##Bagging and Pasting"
      ],
      "metadata": {
        "id": "zW_2a3lsiXgs"
      }
    },
    {
      "cell_type": "markdown",
      "source": [
        "As we knew, the Voting classifiers use very different training algorithms.\n",
        "\n",
        "While Bagging and Pasting classifiers use the same training algorithm for every\n",
        "predictor and train them on different random subsets of the training set.\n",
        "\n",
        "When sampling is performed with replacement, this method is called bagging (short for bootstrap aggregating). \n",
        "\n",
        "When sampling is performed without replacement, it is called pasting.\n",
        "\n",
        "In other words, both bagging and pasting allow training instances to be sampled several\n",
        "times across multiple predictors, but only bagging allows training instances to be\n",
        "sampled several times for the same predictor.\n",
        "\n",
        "Once all predictors are trained, the ensemble can make a prediction for a new\n",
        "instance by simply aggregating the predictions of all predictors. The aggregation\n",
        "function is typically the statistical mode (i.e., the most frequent prediction, just like a\n",
        "hard voting classifier) for classification, or the average for regression. Each individual\n",
        "predictor has a higher bias than if it were trained on the original training set, but\n",
        "aggregation reduces both bias and variance.\n",
        "\n",
        "Similarly, predictions can be made in parallel.\n",
        "This is one of the reasons bagging and pasting are such popular methods: they scale\n",
        "very well.\n",
        "\n",
        "Scikit-Learn offers a simple API for both bagging and pasting with the BaggingClas\n",
        "sifier class (or BaggingRegressor for regression).\n",
        "\n",
        "Let's trains an\n",
        "ensemble of 500 Decision Tree classifiers: each is trained on 100 training instances\n",
        "randomly sampled from the training set with replacement (this is an example of bagging,\n",
        "but if you want to use pasting instead, just set `bootstrap=False`)."
      ],
      "metadata": {
        "id": "NR81Xbb4iYcO"
      }
    },
    {
      "cell_type": "code",
      "source": [
        "bag_clf = BaggingClassifier(DecisionTreeClassifier(random_state=42),\n",
        "                            n_estimators=500,\n",
        "                            max_samples=100,\n",
        "                            bootstrap=True,\n",
        "                            n_jobs=-1,\n",
        "                            random_state=40)\n",
        "\n",
        "bag_clf.fit(x_train, y_train)\n",
        "y_pred = bag_clf.predict(x_test)"
      ],
      "metadata": {
        "id": "ssW_mkkSjikK"
      },
      "execution_count": 14,
      "outputs": []
    },
    {
      "cell_type": "code",
      "source": [
        "print(accuracy_score(y_test, y_pred))"
      ],
      "metadata": {
        "id": "9l18bMmxke-J",
        "outputId": "d402225e-dcdf-40d0-feb9-37b8e8c688c6",
        "colab": {
          "base_uri": "https://localhost:8080/"
        }
      },
      "execution_count": 15,
      "outputs": [
        {
          "output_type": "stream",
          "name": "stdout",
          "text": [
            "0.768\n"
          ]
        }
      ]
    },
    {
      "cell_type": "markdown",
      "source": [
        "And let's train a single Decision Tree with the decision\n",
        "boundary of a bagging ensemble of 500 trees."
      ],
      "metadata": {
        "id": "tETCr6g6ktSH"
      }
    },
    {
      "cell_type": "code",
      "source": [
        "tree_clf = DecisionTreeClassifier(random_state=42)\n",
        "tree_clf.fit(x_train, y_train)\n",
        "y_pred_tree = tree_clf.predict(x_test)\n",
        "print(accuracy_score(y_test, y_pred_tree))"
      ],
      "metadata": {
        "id": "XuR29513kvSM",
        "outputId": "a71f2add-d190-4360-f046-6783d50772bf",
        "colab": {
          "base_uri": "https://localhost:8080/"
        }
      },
      "execution_count": 16,
      "outputs": [
        {
          "output_type": "stream",
          "name": "stdout",
          "text": [
            "0.696\n"
          ]
        }
      ]
    },
    {
      "cell_type": "code",
      "source": [
        "plt.figure(figsize=(11,4))\n",
        "plt.subplot(121)\n",
        "plot_decision_boundary(tree_clf, X, y)\n",
        "plt.title(\"Decision Tree\", fontsize=14)\n",
        "plt.subplot(122)\n",
        "plot_decision_boundary(bag_clf, X, y)\n",
        "plt.title(\"Decision Trees with Bagging\", fontsize=14)\n",
        "\n",
        "plt.show()"
      ],
      "metadata": {
        "id": "g3DTD06AlAKd",
        "outputId": "063ecbd4-3300-4c89-f09e-2f711135970e",
        "colab": {
          "base_uri": "https://localhost:8080/",
          "height": 307
        }
      },
      "execution_count": 17,
      "outputs": [
        {
          "output_type": "display_data",
          "data": {
            "text/plain": [
              "<Figure size 792x288 with 2 Axes>"
            ],
            "image/png": "[encoded data removed]"
          },
          "metadata": {
            "needs_background": "light"
          }
        }
      ]
    },
    {
      "cell_type": "markdown",
      "source": [
        "As you can see, the ensemble’s predictions will likely\n",
        "generalize much better than the single Decision Tree’s predictions: the ensemble has a\n",
        "comparable bias but a smaller variance (it makes roughly the same number of errors\n",
        "on the training set, but the decision boundary is less irregular).\n",
        "\n",
        "Bootstrapping introduces a bit more diversity in the subsets that each predictor is\n",
        "trained on, so bagging ends up with a slightly higher bias than pasting; but the extra\n",
        "diversity also means that the predictors end up being less correlated, so the ensemble’s\n",
        "variance is reduced.\n",
        "\n",
        "Overall, bagging often results in better models, which explains\n",
        "why it is generally preferred."
      ],
      "metadata": {
        "id": "RZb7BKS6lHLj"
      }
    },
    {
      "cell_type": "markdown",
      "source": [
        "##Out-of-Bag Evaluation"
      ],
      "metadata": {
        "id": "cYdhJxaOlbap"
      }
    },
    {
      "cell_type": "markdown",
      "source": [
        "With bagging, some instances may be sampled several times for any given predictor,\n",
        "while others may not be sampled at all.\n",
        "\n",
        "By default a BaggingClassifier samples `m`\n",
        "training instances with replacement (`bootstrap=True`), where `m` is the size of the training set. \n",
        "\n",
        "This means that only about `63%` of the training instances are sampled on\n",
        "average for each predictor. The remaining `37%` of the training instances that are not sampled are called out-of-bag (oob) instances. \n",
        "\n",
        "Note that they are not the same `37%` for all predictors.\n",
        "\n",
        "**Since a predictor never sees the oob instances during training, it can be evaluated on these instances, without the need for a separate validation set**. You can evaluate the\n",
        "ensemble itself by averaging out the oob evaluations of each predictor.\n",
        "\n",
        "In Scikit-Learn, you can set `oob_score=True` when creating a `BaggingClassifier` to\n",
        "request an automatic oob evaluation after training."
      ],
      "metadata": {
        "id": "SnAh7jT4lfFa"
      }
    },
    {
      "cell_type": "code",
      "source": [
        "bag_clf = BaggingClassifier(DecisionTreeClassifier(random_state=42),\n",
        "                            n_estimators=500,\n",
        "                            bootstrap=True,\n",
        "                            oob_score=True,\n",
        "                            n_jobs=-1,\n",
        "                            random_state=40)\n",
        "\n",
        "bag_clf.fit(x_train, y_train)\n",
        "bag_clf.oob_score_"
      ],
      "metadata": {
        "id": "_YrWifKUjRqM",
        "outputId": "2844f7c0-7ea9-442a-9355-af0ab440be92",
        "colab": {
          "base_uri": "https://localhost:8080/"
        }
      },
      "execution_count": 18,
      "outputs": [
        {
          "output_type": "execute_result",
          "data": {
            "text/plain": [
              "0.8053333333333333"
            ]
          },
          "metadata": {},
          "execution_count": 18
        }
      ]
    },
    {
      "cell_type": "markdown",
      "source": [
        "According to this oob evaluation, this `BaggingClassifier` is likely to achieve about\n",
        "`90.1%` accuracy on the test set."
      ],
      "metadata": {
        "id": "zxCT8XUNkAnj"
      }
    },
    {
      "cell_type": "code",
      "source": [
        "y_pred = bag_clf.predict(x_test)\n",
        "accuracy_score(y_test, y_pred)"
      ],
      "metadata": {
        "id": "9_SN1LO0kBFo",
        "outputId": "68e20fee-a050-48cf-964f-4ec4906b692f",
        "colab": {
          "base_uri": "https://localhost:8080/"
        }
      },
      "execution_count": 19,
      "outputs": [
        {
          "output_type": "execute_result",
          "data": {
            "text/plain": [
              "0.776"
            ]
          },
          "metadata": {},
          "execution_count": 19
        }
      ]
    },
    {
      "cell_type": "markdown",
      "source": [
        "The oob decision function for each training instance is also available through the\n",
        "`oob_decision_function_` variable."
      ],
      "metadata": {
        "id": "_Xulz4vkksAz"
      }
    },
    {
      "cell_type": "code",
      "source": [
        "bag_clf.oob_decision_function_"
      ],
      "metadata": {
        "id": "eKUkNmkbksnQ",
        "outputId": "2e997dcf-9031-42ca-cf26-123e29166afa",
        "colab": {
          "base_uri": "https://localhost:8080/"
        }
      },
      "execution_count": 20,
      "outputs": [
        {
          "output_type": "execute_result",
          "data": {
            "text/plain": [
              "array([[0.85714286, 0.14285714],\n",
              "       [0.42941176, 0.57058824],\n",
              "       [1.        , 0.        ],\n",
              "       [0.0867052 , 0.9132948 ],\n",
              "       [0.06043956, 0.93956044],\n",
              "       [0.04469274, 0.95530726],\n",
              "       [0.07650273, 0.92349727],\n",
              "       [0.05847953, 0.94152047],\n",
              "       [1.        , 0.        ],\n",
              "       [0.9273743 , 0.0726257 ],\n",
              "       [0.64880952, 0.35119048],\n",
              "       [0.22335025, 0.77664975],\n",
              "       [0.43478261, 0.56521739],\n",
              "       [0.94652406, 0.05347594],\n",
              "       [0.99444444, 0.00555556],\n",
              "       [0.04166667, 0.95833333],\n",
              "       [0.32022472, 0.67977528],\n",
              "       [0.96756757, 0.03243243],\n",
              "       [0.82738095, 0.17261905],\n",
              "       [0.7877095 , 0.2122905 ],\n",
              "       [0.        , 1.        ],\n",
              "       [0.23157895, 0.76842105],\n",
              "       [0.94915254, 0.05084746],\n",
              "       [0.6875    , 0.3125    ],\n",
              "       [1.        , 0.        ],\n",
              "       [0.01530612, 0.98469388],\n",
              "       [0.90857143, 0.09142857],\n",
              "       [0.84782609, 0.15217391],\n",
              "       [0.05319149, 0.94680851],\n",
              "       [0.82122905, 0.17877095],\n",
              "       [0.        , 1.        ],\n",
              "       [1.        , 0.        ],\n",
              "       [0.02923977, 0.97076023],\n",
              "       [0.00584795, 0.99415205],\n",
              "       [0.22680412, 0.77319588],\n",
              "       [1.        , 0.        ],\n",
              "       [0.10526316, 0.89473684],\n",
              "       [0.65027322, 0.34972678],\n",
              "       [0.18823529, 0.81176471],\n",
              "       [0.94915254, 0.05084746],\n",
              "       [0.77339901, 0.22660099],\n",
              "       [0.1097561 , 0.8902439 ],\n",
              "       [0.98888889, 0.01111111],\n",
              "       [0.98255814, 0.01744186],\n",
              "       [0.20603015, 0.79396985],\n",
              "       [0.99470899, 0.00529101],\n",
              "       [0.55778894, 0.44221106],\n",
              "       [0.31088083, 0.68911917],\n",
              "       [0.95675676, 0.04324324],\n",
              "       [0.00531915, 0.99468085],\n",
              "       [1.        , 0.        ],\n",
              "       [0.98285714, 0.01714286],\n",
              "       [0.90217391, 0.09782609],\n",
              "       [0.26237624, 0.73762376],\n",
              "       [0.09944751, 0.90055249],\n",
              "       [0.49079755, 0.50920245],\n",
              "       [0.96039604, 0.03960396],\n",
              "       [0.0052356 , 0.9947644 ],\n",
              "       [0.        , 1.        ],\n",
              "       [0.04142012, 0.95857988],\n",
              "       [0.90607735, 0.09392265],\n",
              "       [0.29473684, 0.70526316],\n",
              "       [0.44949495, 0.55050505],\n",
              "       [1.        , 0.        ],\n",
              "       [0.34946237, 0.65053763],\n",
              "       [0.73863636, 0.26136364],\n",
              "       [0.80729167, 0.19270833],\n",
              "       [0.93103448, 0.06896552],\n",
              "       [0.33333333, 0.66666667],\n",
              "       [0.99438202, 0.00561798],\n",
              "       [0.06432749, 0.93567251],\n",
              "       [0.61413043, 0.38586957],\n",
              "       [0.45549738, 0.54450262],\n",
              "       [0.74611399, 0.25388601],\n",
              "       [0.35353535, 0.64646465],\n",
              "       [0.92178771, 0.07821229],\n",
              "       [0.63874346, 0.36125654],\n",
              "       [0.36756757, 0.63243243],\n",
              "       [0.        , 1.        ],\n",
              "       [1.        , 0.        ],\n",
              "       [0.09937888, 0.90062112],\n",
              "       [0.43636364, 0.56363636],\n",
              "       [0.56650246, 0.43349754],\n",
              "       [0.38860104, 0.61139896],\n",
              "       [0.91616766, 0.08383234],\n",
              "       [0.01604278, 0.98395722],\n",
              "       [0.66081871, 0.33918129],\n",
              "       [0.07650273, 0.92349727],\n",
              "       [0.36158192, 0.63841808],\n",
              "       [0.04375   , 0.95625   ],\n",
              "       [0.31937173, 0.68062827],\n",
              "       [0.99473684, 0.00526316],\n",
              "       [0.1452514 , 0.8547486 ],\n",
              "       [0.09090909, 0.90909091],\n",
              "       [0.01522843, 0.98477157],\n",
              "       [0.49514563, 0.50485437],\n",
              "       [0.62011173, 0.37988827],\n",
              "       [0.38728324, 0.61271676],\n",
              "       [0.93010753, 0.06989247],\n",
              "       [0.72928177, 0.27071823],\n",
              "       [0.7244898 , 0.2755102 ],\n",
              "       [0.06111111, 0.93888889],\n",
              "       [0.12820513, 0.87179487],\n",
              "       [0.61111111, 0.38888889],\n",
              "       [0.99492386, 0.00507614],\n",
              "       [0.15508021, 0.84491979],\n",
              "       [1.        , 0.        ],\n",
              "       [0.59537572, 0.40462428],\n",
              "       [0.24019608, 0.75980392],\n",
              "       [1.        , 0.        ],\n",
              "       [0.98888889, 0.01111111],\n",
              "       [0.9119171 , 0.0880829 ],\n",
              "       [0.42564103, 0.57435897],\n",
              "       [0.27567568, 0.72432432],\n",
              "       [1.        , 0.        ],\n",
              "       [1.        , 0.        ],\n",
              "       [0.00518135, 0.99481865],\n",
              "       [0.03703704, 0.96296296],\n",
              "       [0.96022727, 0.03977273],\n",
              "       [0.97191011, 0.02808989],\n",
              "       [0.70744681, 0.29255319],\n",
              "       [0.99404762, 0.00595238],\n",
              "       [0.97282609, 0.02717391],\n",
              "       [1.        , 0.        ],\n",
              "       [0.95757576, 0.04242424],\n",
              "       [0.89673913, 0.10326087],\n",
              "       [0.46632124, 0.53367876],\n",
              "       [0.97191011, 0.02808989],\n",
              "       [1.        , 0.        ],\n",
              "       [0.        , 1.        ],\n",
              "       [0.02040816, 0.97959184],\n",
              "       [0.90322581, 0.09677419],\n",
              "       [0.22279793, 0.77720207],\n",
              "       [0.67045455, 0.32954545],\n",
              "       [0.06451613, 0.93548387],\n",
              "       [0.43258427, 0.56741573],\n",
              "       [0.94475138, 0.05524862],\n",
              "       [0.7037037 , 0.2962963 ],\n",
              "       [0.25      , 0.75      ],\n",
              "       [0.2       , 0.8       ],\n",
              "       [0.98492462, 0.01507538],\n",
              "       [0.02072539, 0.97927461],\n",
              "       [0.06369427, 0.93630573],\n",
              "       [0.01546392, 0.98453608],\n",
              "       [0.07446809, 0.92553191],\n",
              "       [0.5862069 , 0.4137931 ],\n",
              "       [0.92349727, 0.07650273],\n",
              "       [0.98421053, 0.01578947],\n",
              "       [0.97701149, 0.02298851],\n",
              "       [0.08333333, 0.91666667],\n",
              "       [0.29885057, 0.70114943],\n",
              "       [0.03804348, 0.96195652],\n",
              "       [0.42346939, 0.57653061],\n",
              "       [0.80874317, 0.19125683],\n",
              "       [1.        , 0.        ],\n",
              "       [1.        , 0.        ],\n",
              "       [1.        , 0.        ],\n",
              "       [0.67539267, 0.32460733],\n",
              "       [1.        , 0.        ],\n",
              "       [0.        , 1.        ],\n",
              "       [0.03626943, 0.96373057],\n",
              "       [0.98913043, 0.01086957],\n",
              "       [0.22560976, 0.77439024],\n",
              "       [0.02906977, 0.97093023],\n",
              "       [0.52150538, 0.47849462],\n",
              "       [0.46783626, 0.53216374],\n",
              "       [0.75661376, 0.24338624],\n",
              "       [0.        , 1.        ],\n",
              "       [1.        , 0.        ],\n",
              "       [0.45882353, 0.54117647],\n",
              "       [0.03883495, 0.96116505],\n",
              "       [1.        , 0.        ],\n",
              "       [0.02762431, 0.97237569],\n",
              "       [0.04624277, 0.95375723],\n",
              "       [1.        , 0.        ],\n",
              "       [0.11413043, 0.88586957],\n",
              "       [0.83018868, 0.16981132],\n",
              "       [1.        , 0.        ],\n",
              "       [0.        , 1.        ],\n",
              "       [0.76303318, 0.23696682],\n",
              "       [0.39534884, 0.60465116],\n",
              "       [0.70555556, 0.29444444],\n",
              "       [0.11666667, 0.88333333],\n",
              "       [0.10465116, 0.89534884],\n",
              "       [1.        , 0.        ],\n",
              "       [0.97849462, 0.02150538],\n",
              "       [0.71584699, 0.28415301],\n",
              "       [0.70618557, 0.29381443],\n",
              "       [0.01754386, 0.98245614],\n",
              "       [0.86387435, 0.13612565],\n",
              "       [0.01595745, 0.98404255],\n",
              "       [0.5136612 , 0.4863388 ],\n",
              "       [0.90909091, 0.09090909],\n",
              "       [0.98203593, 0.01796407],\n",
              "       [0.9122807 , 0.0877193 ],\n",
              "       [0.9408867 , 0.0591133 ],\n",
              "       [0.27322404, 0.72677596],\n",
              "       [0.02906977, 0.97093023],\n",
              "       [0.81052632, 0.18947368],\n",
              "       [0.94179894, 0.05820106],\n",
              "       [0.82485876, 0.17514124],\n",
              "       [0.96482412, 0.03517588],\n",
              "       [0.        , 1.        ],\n",
              "       [0.02162162, 0.97837838],\n",
              "       [0.0483871 , 0.9516129 ],\n",
              "       [0.01010101, 0.98989899],\n",
              "       [0.        , 1.        ],\n",
              "       [0.11445783, 0.88554217],\n",
              "       [1.        , 0.        ],\n",
              "       [0.        , 1.        ],\n",
              "       [0.02824859, 0.97175141],\n",
              "       [1.        , 0.        ],\n",
              "       [0.        , 1.        ],\n",
              "       [0.62886598, 0.37113402],\n",
              "       [0.29015544, 0.70984456],\n",
              "       [0.95151515, 0.04848485],\n",
              "       [0.        , 1.        ],\n",
              "       [0.01546392, 0.98453608],\n",
              "       [0.41624365, 0.58375635],\n",
              "       [0.31111111, 0.68888889],\n",
              "       [0.98324022, 0.01675978],\n",
              "       [0.02590674, 0.97409326],\n",
              "       [0.        , 1.        ],\n",
              "       [0.99492386, 0.00507614],\n",
              "       [0.32571429, 0.67428571],\n",
              "       [0.46031746, 0.53968254],\n",
              "       [0.69230769, 0.30769231],\n",
              "       [0.89880952, 0.10119048],\n",
              "       [0.53475936, 0.46524064],\n",
              "       [0.02173913, 0.97826087],\n",
              "       [0.50574713, 0.49425287],\n",
              "       [0.89784946, 0.10215054],\n",
              "       [0.01587302, 0.98412698],\n",
              "       [0.12209302, 0.87790698],\n",
              "       [0.97461929, 0.02538071],\n",
              "       [0.        , 1.        ],\n",
              "       [0.        , 1.        ],\n",
              "       [0.        , 1.        ],\n",
              "       [0.64971751, 0.35028249],\n",
              "       [0.86060606, 0.13939394],\n",
              "       [0.03389831, 0.96610169],\n",
              "       [0.89873418, 0.10126582],\n",
              "       [1.        , 0.        ],\n",
              "       [0.03645833, 0.96354167],\n",
              "       [0.49197861, 0.50802139],\n",
              "       [0.38461538, 0.61538462],\n",
              "       [0.01058201, 0.98941799],\n",
              "       [0.96585366, 0.03414634],\n",
              "       [0.82258065, 0.17741935],\n",
              "       [0.        , 1.        ],\n",
              "       [0.26256983, 0.73743017],\n",
              "       [0.04117647, 0.95882353],\n",
              "       [0.32163743, 0.67836257],\n",
              "       [0.10552764, 0.89447236],\n",
              "       [0.94857143, 0.05142857],\n",
              "       [0.59685864, 0.40314136],\n",
              "       [0.03804348, 0.96195652],\n",
              "       [0.75531915, 0.24468085],\n",
              "       [0.41772152, 0.58227848],\n",
              "       [0.4021164 , 0.5978836 ],\n",
              "       [1.        , 0.        ],\n",
              "       [0.12571429, 0.87428571],\n",
              "       [0.06282723, 0.93717277],\n",
              "       [0.30917874, 0.69082126],\n",
              "       [0.00555556, 0.99444444],\n",
              "       [0.88172043, 0.11827957],\n",
              "       [0.15730337, 0.84269663],\n",
              "       [0.79473684, 0.20526316],\n",
              "       [0.28205128, 0.71794872],\n",
              "       [0.97814208, 0.02185792],\n",
              "       [0.95833333, 0.04166667],\n",
              "       [0.06077348, 0.93922652],\n",
              "       [0.63076923, 0.36923077],\n",
              "       [0.91071429, 0.08928571],\n",
              "       [0.02094241, 0.97905759],\n",
              "       [0.        , 1.        ],\n",
              "       [1.        , 0.        ],\n",
              "       [0.97169811, 0.02830189],\n",
              "       [0.10989011, 0.89010989],\n",
              "       [1.        , 0.        ],\n",
              "       [0.00515464, 0.99484536],\n",
              "       [0.53645833, 0.46354167],\n",
              "       [0.33516484, 0.66483516],\n",
              "       [0.79896907, 0.20103093],\n",
              "       [0.98947368, 0.01052632],\n",
              "       [0.02222222, 0.97777778],\n",
              "       [1.        , 0.        ],\n",
              "       [0.8556701 , 0.1443299 ],\n",
              "       [0.04597701, 0.95402299],\n",
              "       [0.        , 1.        ],\n",
              "       [0.98882682, 0.01117318],\n",
              "       [0.        , 1.        ],\n",
              "       [0.68131868, 0.31868132],\n",
              "       [0.22335025, 0.77664975],\n",
              "       [0.51794872, 0.48205128],\n",
              "       [0.96446701, 0.03553299],\n",
              "       [0.3       , 0.7       ],\n",
              "       [0.20689655, 0.79310345],\n",
              "       [0.37714286, 0.62285714],\n",
              "       [0.        , 1.        ],\n",
              "       [1.        , 0.        ],\n",
              "       [0.6746988 , 0.3253012 ],\n",
              "       [0.8       , 0.2       ],\n",
              "       [0.68108108, 0.31891892],\n",
              "       [0.63333333, 0.36666667],\n",
              "       [0.85795455, 0.14204545],\n",
              "       [0.02094241, 0.97905759],\n",
              "       [0.52150538, 0.47849462],\n",
              "       [0.        , 1.        ],\n",
              "       [0.8655914 , 0.1344086 ],\n",
              "       [0.1452514 , 0.8547486 ],\n",
              "       [0.99456522, 0.00543478],\n",
              "       [0.93069307, 0.06930693],\n",
              "       [0.94059406, 0.05940594],\n",
              "       [0.99390244, 0.00609756],\n",
              "       [0.03092784, 0.96907216],\n",
              "       [0.00520833, 0.99479167],\n",
              "       [0.        , 1.        ],\n",
              "       [0.49740933, 0.50259067],\n",
              "       [1.        , 0.        ],\n",
              "       [0.00507614, 0.99492386],\n",
              "       [0.99479167, 0.00520833],\n",
              "       [1.        , 0.        ],\n",
              "       [0.76271186, 0.23728814],\n",
              "       [0.01554404, 0.98445596],\n",
              "       [0.11057692, 0.88942308],\n",
              "       [0.94857143, 0.05142857],\n",
              "       [0.80978261, 0.19021739],\n",
              "       [1.        , 0.        ],\n",
              "       [0.03902439, 0.96097561],\n",
              "       [0.99408284, 0.00591716],\n",
              "       [0.19897959, 0.80102041],\n",
              "       [1.        , 0.        ],\n",
              "       [0.02673797, 0.97326203],\n",
              "       [0.99333333, 0.00666667],\n",
              "       [0.94505495, 0.05494505],\n",
              "       [0.7393617 , 0.2606383 ],\n",
              "       [0.        , 1.        ],\n",
              "       [0.9939759 , 0.0060241 ],\n",
              "       [0.01570681, 0.98429319],\n",
              "       [0.        , 1.        ],\n",
              "       [0.        , 1.        ],\n",
              "       [0.01744186, 0.98255814],\n",
              "       [0.99470899, 0.00529101],\n",
              "       [0.87861272, 0.12138728],\n",
              "       [0.04891304, 0.95108696],\n",
              "       [0.95454545, 0.04545455],\n",
              "       [0.34078212, 0.65921788],\n",
              "       [1.        , 0.        ],\n",
              "       [0.125     , 0.875     ],\n",
              "       [0.05617978, 0.94382022],\n",
              "       [0.13114754, 0.86885246],\n",
              "       [0.04020101, 0.95979899],\n",
              "       [0.7755102 , 0.2244898 ],\n",
              "       [0.38095238, 0.61904762],\n",
              "       [0.0201005 , 0.9798995 ],\n",
              "       [1.        , 0.        ],\n",
              "       [0.74117647, 0.25882353],\n",
              "       [0.02717391, 0.97282609],\n",
              "       [0.70949721, 0.29050279],\n",
              "       [0.00561798, 0.99438202],\n",
              "       [0.04761905, 0.95238095],\n",
              "       [0.97916667, 0.02083333],\n",
              "       [0.76785714, 0.23214286],\n",
              "       [0.33507853, 0.66492147],\n",
              "       [0.42941176, 0.57058824],\n",
              "       [1.        , 0.        ],\n",
              "       [0.07926829, 0.92073171],\n",
              "       [0.3315508 , 0.6684492 ],\n",
              "       [0.02941176, 0.97058824],\n",
              "       [0.28571429, 0.71428571],\n",
              "       [0.73809524, 0.26190476],\n",
              "       [1.        , 0.        ],\n",
              "       [0.00518135, 0.99481865],\n",
              "       [0.64583333, 0.35416667]])"
            ]
          },
          "metadata": {},
          "execution_count": 20
        }
      ]
    },
    {
      "cell_type": "markdown",
      "source": [
        "For example, the oob evaluation estimates that the second training\n",
        "instance has a 49.25% probability of belonging to the positive class (and 50.75% of belonging to the negative class)."
      ],
      "metadata": {
        "id": "KLKECRAClDkn"
      }
    },
    {
      "cell_type": "markdown",
      "source": [
        "##Random Forests"
      ],
      "metadata": {
        "id": "dC5LeIt7lOrW"
      }
    },
    {
      "cell_type": "markdown",
      "source": [
        ""
      ],
      "metadata": {
        "id": "3laweYc4lses"
      }
    }
  ]
}