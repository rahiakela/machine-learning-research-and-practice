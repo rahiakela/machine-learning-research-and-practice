{
  "nbformat": 4,
  "nbformat_minor": 0,
  "metadata": {
    "colab": {
      "name": "03-ensemble-learning-exercises.ipynb",
      "provenance": [],
      "toc_visible": true,
      "authorship_tag": "ABX9TyNsJ4tvaKwja2Bh0ePBiwn2",
      "include_colab_link": true
    },
    "kernelspec": {
      "name": "python3",
      "display_name": "Python 3"
    },
    "language_info": {
      "name": "python"
    }
  },
  "cells": [
    {
      "cell_type": "markdown",
      "metadata": {
        "id": "view-in-github",
        "colab_type": "text"
      },
      "source": [
        "<a href=\"https://colab.research.google.com/github/rahiakela/machine-learning-research-and-practice/blob/main/hands-on-machine-learning-with-scikit-learn-keras-and-tensorflow/7-ensemble-learning-and-random-forests/03_ensemble_learning_exercises.ipynb\" target=\"_parent\"><img src=\"https://colab.research.google.com/assets/colab-badge.svg\" alt=\"Open In Colab\"/></a>"
      ]
    },
    {
      "cell_type": "markdown",
      "source": [
        "##Ensemble Learning Exercises"
      ],
      "metadata": {
        "id": "0FOcX1J5BIGO"
      }
    },
    {
      "cell_type": "markdown",
      "source": [
        "If you aggregate\n",
        "the predictions of a group of predictors (such as classifiers or regressors), you will\n",
        "often get better predictions than with the best individual predictor. A group of predictors\n",
        "is called an ensemble; thus, this technique is called Ensemble Learning, and an\n",
        "Ensemble Learning algorithm is called an Ensemble method.\n",
        "\n",
        "Boosting (originally called hypothesis boosting) refers to any Ensemble method that can combine several weak learners into a strong learner. The general idea of most boosting methods is to train predictors sequentially, each trying to correct its predecessor.\n",
        "\n",
        "There are many boosting methods available, but by far the most popular are\n",
        "\n",
        "* AdaBoost(short for Adaptive Boosting)\n",
        "* Gradient Boosting\n",
        "\n",
        "In fact, the winning solutions in Machine Learning competitions\n",
        "often involve several Ensemble methods (most famously in the Netflix Prize\n",
        "competition).\n",
        "\n"
      ],
      "metadata": {
        "id": "6bGGszxqGWTz"
      }
    },
    {
      "cell_type": "markdown",
      "source": [
        "##Setup"
      ],
      "metadata": {
        "id": "uNdW10-LGl8B"
      }
    },
    {
      "cell_type": "code",
      "source": [
        "# Common imports\n",
        "import numpy as np\n",
        "import os\n",
        "\n",
        "from sklearn.ensemble import RandomForestClassifier, ExtraTreesClassifier\n",
        "from sklearn.ensemble import VotingClassifier\n",
        "from sklearn.svm import LinearSVC\n",
        "from sklearn.neural_network import MLPClassifier\n",
        "\n",
        "from sklearn.metrics import accuracy_score\n",
        "\n",
        "from sklearn.model_selection import train_test_split\n",
        "\n",
        "# to make this notebook's output stable across runs\n",
        "np.random.seed(42)\n",
        "\n",
        "# To plot pretty figures\n",
        "%matplotlib inline\n",
        "import matplotlib as mpl\n",
        "import matplotlib.pyplot as plt\n",
        "from matplotlib.colors import ListedColormap\n",
        "mpl.rc('axes', labelsize=14)\n",
        "mpl.rc('xtick', labelsize=12)\n",
        "mpl.rc('ytick', labelsize=12)"
      ],
      "metadata": {
        "id": "lfCtLHkEGm33"
      },
      "execution_count": 8,
      "outputs": []
    },
    {
      "cell_type": "code",
      "source": [
        "try:\n",
        "    from sklearn.datasets import fetch_openml\n",
        "    mnist = fetch_openml('mnist_784', version=1, as_frame=False)\n",
        "    mnist.target = mnist.target.astype(np.int64)\n",
        "except ImportError:\n",
        "    from sklearn.datasets import fetch_mldata\n",
        "    mnist = fetch_mldata('MNIST original')"
      ],
      "metadata": {
        "id": "x4JK3ytQLIxa"
      },
      "execution_count": 2,
      "outputs": []
    },
    {
      "cell_type": "markdown",
      "source": [
        "##Exercise-1"
      ],
      "metadata": {
        "id": "1K2qktRwHGL-"
      }
    },
    {
      "cell_type": "markdown",
      "source": [
        "Let's load the MNIST data, and split it into a training set, a\n",
        "validation set, and a test set (e.g., use 50,000 instances for training, 10,000 for validation,\n",
        "and 10,000 for testing). \n",
        "\n",
        "Then train various classifiers, such as a Random\n",
        "Forest classifier, an Extra-Trees classifier, and an SVM classifier. \n",
        "\n",
        "Next, try to combine\n",
        "them into an ensemble that outperforms each individual classifier on the\n",
        "validation set, using soft or hard voting. Once you have found one, try it on the\n",
        "test set. \n",
        "\n",
        "How much better does it perform compared to the individual classifiers?"
      ],
      "metadata": {
        "id": "hbBDnyJ-bPk3"
      }
    },
    {
      "cell_type": "markdown",
      "source": [
        "###Step-1"
      ],
      "metadata": {
        "id": "F5qXehK_LaW7"
      }
    },
    {
      "cell_type": "markdown",
      "source": [
        "_Load the MNIST data and split it into a training set, a validation set, and a test set (e.g., use 50,000 instances for training, 10,000 for validation, and 10,000 for testing)._"
      ],
      "metadata": {
        "id": "YOjRJyc0Lb3q"
      }
    },
    {
      "cell_type": "code",
      "source": [
        "x_train_val, x_test, y_train_val, y_test = train_test_split(mnist.data, mnist.target, test_size=10000, random_state=42)\n",
        "x_train, x_val, y_train, y_val = train_test_split(x_train_val, y_train_val, test_size=10000, random_state=42)"
      ],
      "metadata": {
        "id": "DFEtzlaCbh0P"
      },
      "execution_count": 3,
      "outputs": []
    },
    {
      "cell_type": "markdown",
      "source": [
        "###Step-2"
      ],
      "metadata": {
        "id": "mc0E_YJRLpZA"
      }
    },
    {
      "cell_type": "markdown",
      "source": [
        "_Then train various classifiers, such as a Random Forest classifier, an Extra-Trees classifier, and an SVM._"
      ],
      "metadata": {
        "id": "ajpJXI6ELrF4"
      }
    },
    {
      "cell_type": "code",
      "source": [
        "random_forest_clf = RandomForestClassifier(n_estimators=10, random_state=42)\n",
        "extra_trees_clf = ExtraTreesClassifier(n_estimators=10, random_state=42)\n",
        "svm_clf = LinearSVC(random_state=42)\n",
        "mlp_clf = MLPClassifier(random_state=42)"
      ],
      "metadata": {
        "id": "M9ZBtKnDcDC9"
      },
      "execution_count": 5,
      "outputs": []
    },
    {
      "cell_type": "code",
      "source": [
        "estimators = [random_forest_clf, extra_trees_clf, svm_clf, mlp_clf]\n",
        "\n",
        "for estimator in estimators:\n",
        "  print(f\"Traing the {estimator}\")\n",
        "  estimator.fit(x_train, y_train)"
      ],
      "metadata": {
        "id": "JYvhnApSq4B5",
        "outputId": "dff328fe-5ba9-4fa7-cca1-50d173f5058a",
        "colab": {
          "base_uri": "https://localhost:8080/"
        }
      },
      "execution_count": 6,
      "outputs": [
        {
          "output_type": "stream",
          "name": "stdout",
          "text": [
            "Traing the RandomForestClassifier(n_estimators=10, random_state=42)\n",
            "Traing the ExtraTreesClassifier(n_estimators=10, random_state=42)\n",
            "Traing the LinearSVC(random_state=42)\n"
          ]
        },
        {
          "output_type": "stream",
          "name": "stderr",
          "text": [
            "/usr/local/lib/python3.7/dist-packages/sklearn/svm/_base.py:1208: ConvergenceWarning: Liblinear failed to converge, increase the number of iterations.\n",
            "  ConvergenceWarning,\n"
          ]
        },
        {
          "output_type": "stream",
          "name": "stdout",
          "text": [
            "Traing the MLPClassifier(random_state=42)\n"
          ]
        }
      ]
    },
    {
      "cell_type": "code",
      "source": [
        "[estimator.score(x_val, y_val) for estimator in estimators]"
      ],
      "metadata": {
        "id": "vyAQ7lhvMvF4",
        "outputId": "8ef2b779-6492-4b40-8791-1c5587681c9f",
        "colab": {
          "base_uri": "https://localhost:8080/"
        }
      },
      "execution_count": 7,
      "outputs": [
        {
          "output_type": "execute_result",
          "data": {
            "text/plain": [
              "[0.9469, 0.9492, 0.8695, 0.9639]"
            ]
          },
          "metadata": {},
          "execution_count": 7
        }
      ]
    },
    {
      "cell_type": "markdown",
      "source": [
        "The linear SVM is far outperformed by the other classifiers. \n",
        "\n",
        "However, let's keep it for now since it may improve the voting classifier's performance."
      ],
      "metadata": {
        "id": "hdUCqFJGcKLW"
      }
    },
    {
      "cell_type": "markdown",
      "source": [
        "###Step-3"
      ],
      "metadata": {
        "id": "AHSdmBjaOVOJ"
      }
    },
    {
      "cell_type": "markdown",
      "source": [
        "_Next, try to combine them into an ensemble that outperforms them all on the validation set, using a soft or hard voting classifier._"
      ],
      "metadata": {
        "id": "I1WR39h6OY5A"
      }
    },
    {
      "cell_type": "code",
      "source": [
        "named_estimators = [\n",
        "  (\"random_forest_clf\", random_forest_clf),\n",
        "  (\"extra_trees_clf\", extra_trees_clf),\n",
        "  (\"svm_clf\", svm_clf),\n",
        "  (\"mlp_clf\", mlp_clf)                 \n",
        "]"
      ],
      "metadata": {
        "id": "ylrHBFgrOZX-"
      },
      "execution_count": 9,
      "outputs": []
    },
    {
      "cell_type": "code",
      "source": [
        "voting_clf = VotingClassifier(named_estimators)\n",
        "voting_clf.fit(x_train, y_train)"
      ],
      "metadata": {
        "id": "1S1oXiIWOzD9",
        "outputId": "d6fe6212-9d35-419b-ff6f-4e7866ea9c4d",
        "colab": {
          "base_uri": "https://localhost:8080/"
        }
      },
      "execution_count": 10,
      "outputs": [
        {
          "output_type": "stream",
          "name": "stderr",
          "text": [
            "/usr/local/lib/python3.7/dist-packages/sklearn/svm/_base.py:1208: ConvergenceWarning: Liblinear failed to converge, increase the number of iterations.\n",
            "  ConvergenceWarning,\n"
          ]
        },
        {
          "output_type": "execute_result",
          "data": {
            "text/plain": [
              "VotingClassifier(estimators=[('random_forest_clf',\n",
              "                              RandomForestClassifier(n_estimators=10,\n",
              "                                                     random_state=42)),\n",
              "                             ('extra_trees_clf',\n",
              "                              ExtraTreesClassifier(n_estimators=10,\n",
              "                                                   random_state=42)),\n",
              "                             ('svm_clf', LinearSVC(random_state=42)),\n",
              "                             ('mlp_clf', MLPClassifier(random_state=42))])"
            ]
          },
          "metadata": {},
          "execution_count": 10
        }
      ]
    },
    {
      "cell_type": "code",
      "source": [
        "voting_clf.score(x_val, y_val)"
      ],
      "metadata": {
        "id": "Bz3i1ZO4O_7N",
        "outputId": "5350e176-f305-4635-d9d8-a81cf4ed26c5",
        "colab": {
          "base_uri": "https://localhost:8080/"
        }
      },
      "execution_count": 11,
      "outputs": [
        {
          "output_type": "execute_result",
          "data": {
            "text/plain": [
              "0.9624"
            ]
          },
          "metadata": {},
          "execution_count": 11
        }
      ]
    },
    {
      "cell_type": "code",
      "source": [
        "[estimator.score(x_val, y_val) for estimator in voting_clf.estimators_]"
      ],
      "metadata": {
        "id": "y9Fb_DcLPHdg",
        "outputId": "48c3edaf-cef8-493d-9845-3df1b6c68e9d",
        "colab": {
          "base_uri": "https://localhost:8080/"
        }
      },
      "execution_count": 12,
      "outputs": [
        {
          "output_type": "execute_result",
          "data": {
            "text/plain": [
              "[0.9469, 0.9492, 0.8695, 0.9639]"
            ]
          },
          "metadata": {},
          "execution_count": 12
        }
      ]
    },
    {
      "cell_type": "markdown",
      "source": [
        "###Step-4"
      ],
      "metadata": {
        "id": "AUnG7_qLPhaK"
      }
    },
    {
      "cell_type": "markdown",
      "source": [
        "Let's remove the SVM to see if performance improves. It is possible to remove an estimator by setting it to `None` using `set_params()` like this:"
      ],
      "metadata": {
        "id": "MB0nbODxPjh7"
      }
    },
    {
      "cell_type": "code",
      "source": [
        "voting_clf.set_params(svm_clf=None)"
      ],
      "metadata": {
        "id": "DfnKn5osPkOQ",
        "outputId": "44cc75ab-5af9-406d-9870-1af588010984",
        "colab": {
          "base_uri": "https://localhost:8080/"
        }
      },
      "execution_count": 13,
      "outputs": [
        {
          "output_type": "execute_result",
          "data": {
            "text/plain": [
              "VotingClassifier(estimators=[('random_forest_clf',\n",
              "                              RandomForestClassifier(n_estimators=10,\n",
              "                                                     random_state=42)),\n",
              "                             ('extra_trees_clf',\n",
              "                              ExtraTreesClassifier(n_estimators=10,\n",
              "                                                   random_state=42)),\n",
              "                             ('svm_clf', None),\n",
              "                             ('mlp_clf', MLPClassifier(random_state=42))])"
            ]
          },
          "metadata": {},
          "execution_count": 13
        }
      ]
    },
    {
      "cell_type": "markdown",
      "source": [
        "This updated the list of estimators:"
      ],
      "metadata": {
        "id": "VBe869WxP3kH"
      }
    },
    {
      "cell_type": "code",
      "source": [
        "voting_clf.estimators"
      ],
      "metadata": {
        "id": "E904wC3dP4Bk",
        "outputId": "6eedfd28-68f8-483f-8b87-d1c3844ae475",
        "colab": {
          "base_uri": "https://localhost:8080/"
        }
      },
      "execution_count": 14,
      "outputs": [
        {
          "output_type": "execute_result",
          "data": {
            "text/plain": [
              "[('random_forest_clf',\n",
              "  RandomForestClassifier(n_estimators=10, random_state=42)),\n",
              " ('extra_trees_clf', ExtraTreesClassifier(n_estimators=10, random_state=42)),\n",
              " ('svm_clf', None),\n",
              " ('mlp_clf', MLPClassifier(random_state=42))]"
            ]
          },
          "metadata": {},
          "execution_count": 14
        }
      ]
    },
    {
      "cell_type": "markdown",
      "source": [
        "However, it did not update the list of _trained_ estimators:"
      ],
      "metadata": {
        "id": "szZ4XgN5P9tQ"
      }
    },
    {
      "cell_type": "code",
      "source": [
        "voting_clf.estimators_"
      ],
      "metadata": {
        "id": "MvoTn9YvP-NP",
        "outputId": "76194adf-e5d5-4ce6-fa3b-c504c6a21e43",
        "colab": {
          "base_uri": "https://localhost:8080/"
        }
      },
      "execution_count": 15,
      "outputs": [
        {
          "output_type": "execute_result",
          "data": {
            "text/plain": [
              "[RandomForestClassifier(n_estimators=10, random_state=42),\n",
              " ExtraTreesClassifier(n_estimators=10, random_state=42),\n",
              " LinearSVC(random_state=42),\n",
              " MLPClassifier(random_state=42)]"
            ]
          },
          "metadata": {},
          "execution_count": 15
        }
      ]
    },
    {
      "cell_type": "markdown",
      "source": [
        "So we can either fit the `VotingClassifier` again, or just remove the SVM from the list of trained estimators:"
      ],
      "metadata": {
        "id": "dgYinl5iQAOu"
      }
    },
    {
      "cell_type": "code",
      "source": [
        "del voting_clf.estimators_[2]"
      ],
      "metadata": {
        "id": "opVmZYsfQC0i"
      },
      "execution_count": 16,
      "outputs": []
    },
    {
      "cell_type": "markdown",
      "source": [
        "Now let's evaluate the `VotingClassifier` again:"
      ],
      "metadata": {
        "id": "6_fvKQxfQIFJ"
      }
    },
    {
      "cell_type": "code",
      "source": [
        "voting_clf.score(x_val, y_val)"
      ],
      "metadata": {
        "id": "R4ZqztOuQImW",
        "outputId": "0fa4f32f-14e9-48c0-bd4b-98a8cb46ad5e",
        "colab": {
          "base_uri": "https://localhost:8080/"
        }
      },
      "execution_count": 17,
      "outputs": [
        {
          "output_type": "execute_result",
          "data": {
            "text/plain": [
              "0.9652"
            ]
          },
          "metadata": {},
          "execution_count": 17
        }
      ]
    },
    {
      "cell_type": "markdown",
      "source": [
        "A bit better! The SVM was hurting performance. "
      ],
      "metadata": {
        "id": "B_0oQWegQNbZ"
      }
    },
    {
      "cell_type": "markdown",
      "source": [
        "###Step-5"
      ],
      "metadata": {
        "id": "vODuVK-7Qb3g"
      }
    },
    {
      "cell_type": "markdown",
      "source": [
        "Now let's try using a soft voting classifier. \n",
        "\n",
        "We do not actually need to retrain the classifier, we can just set `voting` to `\"soft\"`:"
      ],
      "metadata": {
        "id": "Su6VCafyQdVE"
      }
    },
    {
      "cell_type": "code",
      "source": [
        "voting_clf.voting = \"soft\"\n",
        "\n",
        "voting_clf.score(x_val, y_val)"
      ],
      "metadata": {
        "id": "ft3xdMHDQQ1u",
        "outputId": "a70e05c7-1561-45a7-a955-52cb7bff1011",
        "colab": {
          "base_uri": "https://localhost:8080/"
        }
      },
      "execution_count": 18,
      "outputs": [
        {
          "output_type": "execute_result",
          "data": {
            "text/plain": [
              "0.9698"
            ]
          },
          "metadata": {},
          "execution_count": 18
        }
      ]
    },
    {
      "cell_type": "markdown",
      "source": [
        "That's a significant improvement, and it's much better than each of the individual classifiers."
      ],
      "metadata": {
        "id": "JjOaCX1TRS02"
      }
    },
    {
      "cell_type": "markdown",
      "source": [
        "###Step-6"
      ],
      "metadata": {
        "id": "mRll-g8JRYYR"
      }
    },
    {
      "cell_type": "markdown",
      "source": [
        "_Once you have found one, try it on the test set. How much better does it perform compared to the individual classifiers?_"
      ],
      "metadata": {
        "id": "Rmii6cI3RZ7m"
      }
    },
    {
      "cell_type": "code",
      "source": [
        "voting_clf.score(x_test, y_test)"
      ],
      "metadata": {
        "id": "odlkpZiWRab9",
        "outputId": "32929fb1-a3dd-49dc-e8a9-ce4525ed850d",
        "colab": {
          "base_uri": "https://localhost:8080/"
        }
      },
      "execution_count": 19,
      "outputs": [
        {
          "output_type": "execute_result",
          "data": {
            "text/plain": [
              "0.9677"
            ]
          },
          "metadata": {},
          "execution_count": 19
        }
      ]
    },
    {
      "cell_type": "code",
      "source": [
        "[estimator.score(x_test, y_test) for estimator in voting_clf.estimators_]"
      ],
      "metadata": {
        "id": "LfwkA5z0Rfrg",
        "outputId": "bc3b4a7a-33e2-424c-eca6-0b1ba07a6b17",
        "colab": {
          "base_uri": "https://localhost:8080/"
        }
      },
      "execution_count": 20,
      "outputs": [
        {
          "output_type": "execute_result",
          "data": {
            "text/plain": [
              "[0.9437, 0.9474, 0.9604]"
            ]
          },
          "metadata": {},
          "execution_count": 20
        }
      ]
    },
    {
      "cell_type": "markdown",
      "source": [
        "The voting classifier reduced the error rate from about 4.0% for our best model (the `MLPClassifier`) to just 3.1%. \n",
        "\n",
        "That's about 22.5% less errors, not bad!"
      ],
      "metadata": {
        "id": "gI2U9RbaRlM6"
      }
    },
    {
      "cell_type": "markdown",
      "source": [
        "##Exercise-2"
      ],
      "metadata": {
        "id": "nU4U2kuRcgCQ"
      }
    },
    {
      "cell_type": "markdown",
      "source": [
        "Let's run the individual classifiers from the previous exercise to make predictions on\n",
        "the validation set, and create a new training set with the resulting predictions:\n",
        "each training instance is a vector containing the set of predictions from all your\n",
        "classifiers for an image, and the target is the image’s class. Train a classifier on\n",
        "this new training set. \n",
        "\n",
        "Congratulations, you have just trained a blender, and\n",
        "together with the classifiers it forms a stacking ensemble! Now evaluate the\n",
        "ensemble on the test set. For each image in the test set, make predictions with all\n",
        "your classifiers, then feed the predictions to the blender to get the ensemble’s predictions.\n",
        "\n",
        "How does it compare to the voting classifier you trained earlier?"
      ],
      "metadata": {
        "id": "TcbxrIV4cg9c"
      }
    },
    {
      "cell_type": "code",
      "source": [
        "np.random.seed(42)\n",
        "X = np.random.rand(100, 1) - 0.5\n",
        "y = 3*X[:, 0]**2 + 0.05 * np.random.randn(100)"
      ],
      "metadata": {
        "id": "LKD3pnUQhuO0"
      },
      "execution_count": null,
      "outputs": []
    },
    {
      "cell_type": "code",
      "source": [
        "tree_reg1 = DecisionTreeRegressor(max_depth=2, random_state=42)\n",
        "tree_reg1.fit(X, y)"
      ],
      "metadata": {
        "id": "lqVjFG7Uc2nT",
        "outputId": "c562b469-ab6b-4833-f097-3a89e0900139",
        "colab": {
          "base_uri": "https://localhost:8080/"
        }
      },
      "execution_count": null,
      "outputs": [
        {
          "output_type": "execute_result",
          "data": {
            "text/plain": [
              "DecisionTreeRegressor(max_depth=2, random_state=42)"
            ]
          },
          "metadata": {},
          "execution_count": 31
        }
      ]
    },
    {
      "cell_type": "markdown",
      "source": [
        "Next, we’ll train a second `DecisionTreeRegressor` on the residual errors made by the first predictor:"
      ],
      "metadata": {
        "id": "RaVzOtuXiUVs"
      }
    },
    {
      "cell_type": "code",
      "source": [
        "y2 = y - tree_reg1.predict(X)\n",
        "\n",
        "tree_reg2 = DecisionTreeRegressor(max_depth=2)\n",
        "tree_reg2.fit(X, y2)"
      ],
      "metadata": {
        "id": "zKJFnFyqiUzV",
        "outputId": "dad01a45-93c4-4543-e1ba-6703c146a73c",
        "colab": {
          "base_uri": "https://localhost:8080/"
        }
      },
      "execution_count": null,
      "outputs": [
        {
          "output_type": "execute_result",
          "data": {
            "text/plain": [
              "DecisionTreeRegressor(max_depth=2)"
            ]
          },
          "metadata": {},
          "execution_count": 32
        }
      ]
    },
    {
      "cell_type": "markdown",
      "source": [
        "Then we train a third regressor on the residual errors made by the second predictor:"
      ],
      "metadata": {
        "id": "e__BI_3bk-ea"
      }
    },
    {
      "cell_type": "code",
      "source": [
        "y3 = y2 - tree_reg2.predict(X)\n",
        "\n",
        "tree_reg3 = DecisionTreeRegressor(max_depth=2)\n",
        "tree_reg3.fit(X, y3)"
      ],
      "metadata": {
        "id": "XRNUKV3_lJCi",
        "outputId": "c7223580-03fe-4e80-f5b3-d93030c9fc19",
        "colab": {
          "base_uri": "https://localhost:8080/"
        }
      },
      "execution_count": null,
      "outputs": [
        {
          "output_type": "execute_result",
          "data": {
            "text/plain": [
              "DecisionTreeRegressor(max_depth=2)"
            ]
          },
          "metadata": {},
          "execution_count": 33
        }
      ]
    },
    {
      "cell_type": "markdown",
      "source": [
        "Now we have an ensemble containing three trees. It can make predictions on a new instance simply by adding up the predictions of all the trees:"
      ],
      "metadata": {
        "id": "ca55E1d-lUub"
      }
    },
    {
      "cell_type": "code",
      "source": [
        "X_new = np.array([[0.8]])\n",
        "\n",
        "y_pred = sum(tree.predict(X_new) for tree in (tree_reg1, tree_reg2, tree_reg3))"
      ],
      "metadata": {
        "id": "Qyk86_jNlh47"
      },
      "execution_count": null,
      "outputs": []
    },
    {
      "cell_type": "code",
      "source": [
        "y_pred"
      ],
      "metadata": {
        "id": "npySgaAVmXVg",
        "outputId": "5a19a888-5f96-40b3-8407-a2ebd350239b",
        "colab": {
          "base_uri": "https://localhost:8080/"
        }
      },
      "execution_count": null,
      "outputs": [
        {
          "output_type": "execute_result",
          "data": {
            "text/plain": [
              "array([0.75026781])"
            ]
          },
          "metadata": {},
          "execution_count": 35
        }
      ]
    },
    {
      "cell_type": "code",
      "source": [
        "def plot_predictions(regressors, X, y, axes, label=None, style=\"r-\", data_style=\"b.\", data_label=None):\n",
        "    x1 = np.linspace(axes[0], axes[1], 500)\n",
        "    y_pred = sum(regressor.predict(x1.reshape(-1, 1)) for regressor in regressors)\n",
        "    plt.plot(X[:, 0], y, data_style, label=data_label)\n",
        "    plt.plot(x1, y_pred, style, linewidth=2, label=label)\n",
        "    if label or data_label:\n",
        "        plt.legend(loc=\"upper center\", fontsize=16)\n",
        "    plt.axis(axes)\n",
        "\n",
        "plt.figure(figsize=(11,11))\n",
        "\n",
        "plt.subplot(321)\n",
        "plot_predictions([tree_reg1], X, y, axes=[-0.5, 0.5, -0.1, 0.8], label=\"$h_1(x_1)$\", style=\"g-\", data_label=\"Training set\")\n",
        "plt.ylabel(\"$y$\", fontsize=16, rotation=0)\n",
        "plt.title(\"Residuals and tree predictions\", fontsize=16)\n",
        "\n",
        "plt.subplot(322)\n",
        "plot_predictions([tree_reg1], X, y, axes=[-0.5, 0.5, -0.1, 0.8], label=\"$h(x_1) = h_1(x_1)$\", data_label=\"Training set\")\n",
        "plt.ylabel(\"$y$\", fontsize=16, rotation=0)\n",
        "plt.title(\"Ensemble predictions\", fontsize=16)\n",
        "\n",
        "plt.subplot(323)\n",
        "plot_predictions([tree_reg2], X, y2, axes=[-0.5, 0.5, -0.5, 0.5], label=\"$h_2(x_1)$\", style=\"g-\", data_style=\"k+\", data_label=\"Residuals\")\n",
        "plt.ylabel(\"$y - h_1(x_1)$\", fontsize=16)\n",
        "\n",
        "plt.subplot(324)\n",
        "plot_predictions([tree_reg1, tree_reg2], X, y, axes=[-0.5, 0.5, -0.1, 0.8], label=\"$h(x_1) = h_1(x_1) + h_2(x_1)$\")\n",
        "plt.ylabel(\"$y$\", fontsize=16, rotation=0)\n",
        "\n",
        "plt.subplot(325)\n",
        "plot_predictions([tree_reg3], X, y3, axes=[-0.5, 0.5, -0.5, 0.5], label=\"$h_3(x_1)$\", style=\"g-\", data_style=\"k+\")\n",
        "plt.ylabel(\"$y - h_1(x_1) - h_2(x_1)$\", fontsize=16)\n",
        "plt.xlabel(\"$x_1$\", fontsize=16)\n",
        "\n",
        "plt.subplot(326)\n",
        "plot_predictions([tree_reg1, tree_reg2, tree_reg3], X, y, axes=[-0.5, 0.5, -0.1, 0.8], label=\"$h(x_1) = h_1(x_1) + h_2(x_1) + h_3(x_1)$\")\n",
        "plt.xlabel(\"$x_1$\", fontsize=16)\n",
        "plt.ylabel(\"$y$\", fontsize=16, rotation=0)\n",
        "\n",
        "plt.show()"
      ],
      "metadata": {
        "id": "QAmhb6eDl2vy",
        "outputId": "a15be484-1090-436e-a644-f29cb4ffccb7",
        "colab": {
          "base_uri": "https://localhost:8080/",
          "height": 687
        }
      },
      "execution_count": null,
      "outputs": [
        {
          "output_type": "display_data",
          "data": {
            "text/plain": [
              "<Figure size 792x792 with 6 Axes>"
            ],
            "image/png": "[encoded data removed]"
          },
          "metadata": {
            "needs_background": "light"
          }
        }
      ]
    },
    {
      "cell_type": "markdown",
      "source": [
        "In the first row, the ensemble has just one\n",
        "tree, so its predictions are exactly the same as the first tree’s predictions. \n",
        "\n",
        "In the second\n",
        "row, a new tree is trained on the residual errors of the first tree. On the right you can\n",
        "see that the ensemble’s predictions are equal to the sum of the predictions of the first\n",
        "two trees. \n",
        "\n",
        "Similarly, in the third row another tree is trained on the residual errors of\n",
        "the second tree. You can see that the ensemble’s predictions gradually get better as\n",
        "trees are added to the ensemble.\n",
        "\n",
        "\n",
        "A simpler way to train `GBRT` ensembles is to use Scikit-Learn’s `GradientBoostingRegressor` class. Much like the `RandomForestRegressor` class, it has hyperparameters to control the growth of Decision Trees (e.g., `max_depth, min_samples_leaf`), as well as `hyperparameters` to control the ensemble training, such as the number of trees (`n_estimators`)."
      ],
      "metadata": {
        "id": "0A7C7SGHmAep"
      }
    },
    {
      "cell_type": "code",
      "source": [
        "gbrt = GradientBoostingRegressor(max_depth=2, n_estimators=3, learning_rate=1.0, random_state=42)\n",
        "gbrt.fit(X, y)"
      ],
      "metadata": {
        "id": "njE9fXddmTrZ",
        "outputId": "2fae165d-92ab-4b44-d201-3dee519e9684",
        "colab": {
          "base_uri": "https://localhost:8080/"
        }
      },
      "execution_count": null,
      "outputs": [
        {
          "output_type": "execute_result",
          "data": {
            "text/plain": [
              "GradientBoostingRegressor(learning_rate=1.0, max_depth=2, n_estimators=3,\n",
              "                          random_state=42)"
            ]
          },
          "metadata": {},
          "execution_count": 38
        }
      ]
    },
    {
      "cell_type": "markdown",
      "source": [
        "The `learning_rate` hyperparameter scales the contribution of each tree. If you set it to a low value, such as 0.1, you will need more trees in the ensemble to fit the training set, but the predictions will usually generalize better. This is a regularization technique\n",
        "called shrinkage.\n",
        "\n",
        "Let's check two GBRT ensembles trained with a low\n",
        "learning rate: the one on the left does not have enough trees to fit the training set,\n",
        "while the one on the right has too many trees and overfits the training set."
      ],
      "metadata": {
        "id": "lHbVki7ho95D"
      }
    },
    {
      "cell_type": "code",
      "source": [
        "gbrt_slow = GradientBoostingRegressor(max_depth=2, n_estimators=200, learning_rate=0.1, random_state=42)\n",
        "gbrt_slow.fit(X, y)"
      ],
      "metadata": {
        "id": "IhzIc6qLpOx7",
        "outputId": "6e6ea071-cb88-4fee-c514-f2817b919908",
        "colab": {
          "base_uri": "https://localhost:8080/"
        }
      },
      "execution_count": null,
      "outputs": [
        {
          "output_type": "execute_result",
          "data": {
            "text/plain": [
              "GradientBoostingRegressor(max_depth=2, n_estimators=200, random_state=42)"
            ]
          },
          "metadata": {},
          "execution_count": 39
        }
      ]
    },
    {
      "cell_type": "code",
      "source": [
        "plt.figure(figsize=(11,4))\n",
        "\n",
        "plt.subplot(121)\n",
        "plot_predictions([gbrt], X, y, axes=[-0.5, 0.5, -0.1, 0.8], label=\"Ensemble predictions\")\n",
        "plt.title(\"learning_rate={}, n_estimators={}\".format(gbrt.learning_rate, gbrt.n_estimators), fontsize=14)\n",
        "\n",
        "plt.subplot(122)\n",
        "plot_predictions([gbrt_slow], X, y, axes=[-0.5, 0.5, -0.1, 0.8])\n",
        "plt.title(\"learning_rate={}, n_estimators={}\".format(gbrt_slow.learning_rate, gbrt_slow.n_estimators), fontsize=14)\n",
        "\n",
        "plt.show()"
      ],
      "metadata": {
        "id": "bEaZFpFLpaOd",
        "outputId": "3f4bb2e6-4c7d-416e-dffa-4d3d7654e4b6",
        "colab": {
          "base_uri": "https://localhost:8080/",
          "height": 285
        }
      },
      "execution_count": null,
      "outputs": [
        {
          "output_type": "display_data",
          "data": {
            "text/plain": [
              "<Figure size 792x288 with 2 Axes>"
            ],
            "image/png": "[encoded data removed]"
          },
          "metadata": {
            "needs_background": "light"
          }
        }
      ]
    }
  ]
}