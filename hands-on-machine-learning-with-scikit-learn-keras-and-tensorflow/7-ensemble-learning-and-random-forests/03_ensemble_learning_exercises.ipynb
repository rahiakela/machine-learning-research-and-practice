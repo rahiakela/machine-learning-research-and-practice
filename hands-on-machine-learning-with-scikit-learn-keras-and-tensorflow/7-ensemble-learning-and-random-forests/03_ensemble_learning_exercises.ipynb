{
  "nbformat": 4,
  "nbformat_minor": 0,
  "metadata": {
    "colab": {
      "name": "03-ensemble-learning-exercises.ipynb",
      "provenance": [],
      "toc_visible": true,
      "authorship_tag": "ABX9TyOa+2lAdi680sozRzowJlIJ",
      "include_colab_link": true
    },
    "kernelspec": {
      "name": "python3",
      "display_name": "Python 3"
    },
    "language_info": {
      "name": "python"
    }
  },
  "cells": [
    {
      "cell_type": "markdown",
      "metadata": {
        "id": "view-in-github",
        "colab_type": "text"
      },
      "source": [
        "<a href=\"https://colab.research.google.com/github/rahiakela/machine-learning-research-and-practice/blob/main/hands-on-machine-learning-with-scikit-learn-keras-and-tensorflow/7-ensemble-learning-and-random-forests/03_ensemble_learning_exercises.ipynb\" target=\"_parent\"><img src=\"https://colab.research.google.com/assets/colab-badge.svg\" alt=\"Open In Colab\"/></a>"
      ]
    },
    {
      "cell_type": "markdown",
      "source": [
        "##Ensemble Learning Exercises"
      ],
      "metadata": {
        "id": "0FOcX1J5BIGO"
      }
    },
    {
      "cell_type": "markdown",
      "source": [
        "If you aggregate\n",
        "the predictions of a group of predictors (such as classifiers or regressors), you will\n",
        "often get better predictions than with the best individual predictor. A group of predictors\n",
        "is called an ensemble; thus, this technique is called Ensemble Learning, and an\n",
        "Ensemble Learning algorithm is called an Ensemble method.\n",
        "\n",
        "Boosting (originally called hypothesis boosting) refers to any Ensemble method that can combine several weak learners into a strong learner. The general idea of most boosting methods is to train predictors sequentially, each trying to correct its predecessor.\n",
        "\n",
        "There are many boosting methods available, but by far the most popular are\n",
        "\n",
        "* AdaBoost(short for Adaptive Boosting)\n",
        "* Gradient Boosting\n",
        "\n",
        "In fact, the winning solutions in Machine Learning competitions\n",
        "often involve several Ensemble methods (most famously in the Netflix Prize\n",
        "competition).\n",
        "\n"
      ],
      "metadata": {
        "id": "6bGGszxqGWTz"
      }
    },
    {
      "cell_type": "markdown",
      "source": [
        "##Setup"
      ],
      "metadata": {
        "id": "uNdW10-LGl8B"
      }
    },
    {
      "cell_type": "code",
      "source": [
        "# Common imports\n",
        "import numpy as np\n",
        "import os\n",
        "\n",
        "from sklearn.ensemble import RandomForestClassifier, ExtraTreesClassifier\n",
        "from sklearn.ensemble import VotingClassifier\n",
        "from sklearn.svm import LinearSVC\n",
        "from sklearn.neural_network import MLPClassifier\n",
        "\n",
        "from sklearn.metrics import accuracy_score\n",
        "\n",
        "from sklearn.model_selection import train_test_split\n",
        "\n",
        "# to make this notebook's output stable across runs\n",
        "np.random.seed(42)\n",
        "\n",
        "# To plot pretty figures\n",
        "%matplotlib inline\n",
        "import matplotlib as mpl\n",
        "import matplotlib.pyplot as plt\n",
        "from matplotlib.colors import ListedColormap\n",
        "mpl.rc('axes', labelsize=14)\n",
        "mpl.rc('xtick', labelsize=12)\n",
        "mpl.rc('ytick', labelsize=12)"
      ],
      "metadata": {
        "id": "lfCtLHkEGm33"
      },
      "execution_count": 1,
      "outputs": []
    },
    {
      "cell_type": "code",
      "source": [
        "try:\n",
        "    from sklearn.datasets import fetch_openml\n",
        "    mnist = fetch_openml('mnist_784', version=1, as_frame=False)\n",
        "    mnist.target = mnist.target.astype(np.int64)\n",
        "except ImportError:\n",
        "    from sklearn.datasets import fetch_mldata\n",
        "    mnist = fetch_mldata('MNIST original')"
      ],
      "metadata": {
        "id": "x4JK3ytQLIxa"
      },
      "execution_count": 2,
      "outputs": []
    },
    {
      "cell_type": "markdown",
      "source": [
        "##Exercise-1: Voting Classifier"
      ],
      "metadata": {
        "id": "1K2qktRwHGL-"
      }
    },
    {
      "cell_type": "markdown",
      "source": [
        "Let's load the MNIST data, and split it into a training set, a\n",
        "validation set, and a test set (e.g., use 50,000 instances for training, 10,000 for validation,\n",
        "and 10,000 for testing). \n",
        "\n",
        "Then train various classifiers, such as a Random\n",
        "Forest classifier, an Extra-Trees classifier, and an SVM classifier. \n",
        "\n",
        "Next, try to combine\n",
        "them into an ensemble that outperforms each individual classifier on the\n",
        "validation set, using soft or hard voting. Once you have found one, try it on the\n",
        "test set. \n",
        "\n",
        "How much better does it perform compared to the individual classifiers?"
      ],
      "metadata": {
        "id": "hbBDnyJ-bPk3"
      }
    },
    {
      "cell_type": "markdown",
      "source": [
        "###Step-1"
      ],
      "metadata": {
        "id": "F5qXehK_LaW7"
      }
    },
    {
      "cell_type": "markdown",
      "source": [
        "_Load the MNIST data and split it into a training set, a validation set, and a test set (e.g., use 50,000 instances for training, 10,000 for validation, and 10,000 for testing)._"
      ],
      "metadata": {
        "id": "YOjRJyc0Lb3q"
      }
    },
    {
      "cell_type": "code",
      "source": [
        "x_train_val, x_test, y_train_val, y_test = train_test_split(mnist.data, mnist.target, test_size=10000, random_state=42)\n",
        "x_train, x_val, y_train, y_val = train_test_split(x_train_val, y_train_val, test_size=10000, random_state=42)"
      ],
      "metadata": {
        "id": "DFEtzlaCbh0P"
      },
      "execution_count": 3,
      "outputs": []
    },
    {
      "cell_type": "markdown",
      "source": [
        "###Step-2"
      ],
      "metadata": {
        "id": "mc0E_YJRLpZA"
      }
    },
    {
      "cell_type": "markdown",
      "source": [
        "_Then train various classifiers, such as a Random Forest classifier, an Extra-Trees classifier, and an SVM._"
      ],
      "metadata": {
        "id": "ajpJXI6ELrF4"
      }
    },
    {
      "cell_type": "code",
      "source": [
        "random_forest_clf = RandomForestClassifier(n_estimators=10, random_state=42)\n",
        "extra_trees_clf = ExtraTreesClassifier(n_estimators=10, random_state=42)\n",
        "svm_clf = LinearSVC(random_state=42)\n",
        "mlp_clf = MLPClassifier(random_state=42)"
      ],
      "metadata": {
        "id": "M9ZBtKnDcDC9"
      },
      "execution_count": 4,
      "outputs": []
    },
    {
      "cell_type": "code",
      "source": [
        "estimators = [random_forest_clf, extra_trees_clf, svm_clf, mlp_clf]\n",
        "\n",
        "for estimator in estimators:\n",
        "  print(f\"Traing the {estimator}\")\n",
        "  estimator.fit(x_train, y_train)"
      ],
      "metadata": {
        "id": "JYvhnApSq4B5",
        "outputId": "27dcdbbd-6427-4f28-c089-b58c3960dae0",
        "colab": {
          "base_uri": "https://localhost:8080/"
        }
      },
      "execution_count": 5,
      "outputs": [
        {
          "output_type": "stream",
          "name": "stdout",
          "text": [
            "Traing the RandomForestClassifier(n_estimators=10, random_state=42)\n",
            "Traing the ExtraTreesClassifier(n_estimators=10, random_state=42)\n",
            "Traing the LinearSVC(random_state=42)\n"
          ]
        },
        {
          "output_type": "stream",
          "name": "stderr",
          "text": [
            "/usr/local/lib/python3.7/dist-packages/sklearn/svm/_base.py:1208: ConvergenceWarning: Liblinear failed to converge, increase the number of iterations.\n",
            "  ConvergenceWarning,\n"
          ]
        },
        {
          "output_type": "stream",
          "name": "stdout",
          "text": [
            "Traing the MLPClassifier(random_state=42)\n"
          ]
        }
      ]
    },
    {
      "cell_type": "code",
      "source": [
        "[estimator.score(x_val, y_val) for estimator in estimators]"
      ],
      "metadata": {
        "id": "vyAQ7lhvMvF4",
        "outputId": "e888590d-ca42-4f0d-e181-43140cd15c57",
        "colab": {
          "base_uri": "https://localhost:8080/"
        }
      },
      "execution_count": 6,
      "outputs": [
        {
          "output_type": "execute_result",
          "data": {
            "text/plain": [
              "[0.9469, 0.9492, 0.8695, 0.9639]"
            ]
          },
          "metadata": {},
          "execution_count": 6
        }
      ]
    },
    {
      "cell_type": "markdown",
      "source": [
        "The linear SVM is far outperformed by the other classifiers. \n",
        "\n",
        "However, let's keep it for now since it may improve the voting classifier's performance."
      ],
      "metadata": {
        "id": "hdUCqFJGcKLW"
      }
    },
    {
      "cell_type": "markdown",
      "source": [
        "###Step-3"
      ],
      "metadata": {
        "id": "AHSdmBjaOVOJ"
      }
    },
    {
      "cell_type": "markdown",
      "source": [
        "_Next, try to combine them into an ensemble that outperforms them all on the validation set, using a soft or hard voting classifier._"
      ],
      "metadata": {
        "id": "I1WR39h6OY5A"
      }
    },
    {
      "cell_type": "code",
      "source": [
        "named_estimators = [\n",
        "  (\"random_forest_clf\", random_forest_clf),\n",
        "  (\"extra_trees_clf\", extra_trees_clf),\n",
        "  (\"svm_clf\", svm_clf),\n",
        "  (\"mlp_clf\", mlp_clf)                 \n",
        "]"
      ],
      "metadata": {
        "id": "ylrHBFgrOZX-"
      },
      "execution_count": 7,
      "outputs": []
    },
    {
      "cell_type": "code",
      "source": [
        "voting_clf = VotingClassifier(named_estimators)\n",
        "voting_clf.fit(x_train, y_train)"
      ],
      "metadata": {
        "id": "1S1oXiIWOzD9",
        "outputId": "fd58cd0e-3fbb-4b5a-fa4d-90543b9703e9",
        "colab": {
          "base_uri": "https://localhost:8080/"
        }
      },
      "execution_count": 8,
      "outputs": [
        {
          "output_type": "stream",
          "name": "stderr",
          "text": [
            "/usr/local/lib/python3.7/dist-packages/sklearn/svm/_base.py:1208: ConvergenceWarning: Liblinear failed to converge, increase the number of iterations.\n",
            "  ConvergenceWarning,\n"
          ]
        },
        {
          "output_type": "execute_result",
          "data": {
            "text/plain": [
              "VotingClassifier(estimators=[('random_forest_clf',\n",
              "                              RandomForestClassifier(n_estimators=10,\n",
              "                                                     random_state=42)),\n",
              "                             ('extra_trees_clf',\n",
              "                              ExtraTreesClassifier(n_estimators=10,\n",
              "                                                   random_state=42)),\n",
              "                             ('svm_clf', LinearSVC(random_state=42)),\n",
              "                             ('mlp_clf', MLPClassifier(random_state=42))])"
            ]
          },
          "metadata": {},
          "execution_count": 8
        }
      ]
    },
    {
      "cell_type": "code",
      "source": [
        "voting_clf.score(x_val, y_val)"
      ],
      "metadata": {
        "id": "Bz3i1ZO4O_7N",
        "outputId": "b94c15fe-2036-4e38-e891-774907f3ad9c",
        "colab": {
          "base_uri": "https://localhost:8080/"
        }
      },
      "execution_count": 9,
      "outputs": [
        {
          "output_type": "execute_result",
          "data": {
            "text/plain": [
              "0.9624"
            ]
          },
          "metadata": {},
          "execution_count": 9
        }
      ]
    },
    {
      "cell_type": "code",
      "source": [
        "[estimator.score(x_val, y_val) for estimator in voting_clf.estimators_]"
      ],
      "metadata": {
        "id": "y9Fb_DcLPHdg",
        "outputId": "087bebdc-2c17-401f-f1c7-14952b84fb7e",
        "colab": {
          "base_uri": "https://localhost:8080/"
        }
      },
      "execution_count": 10,
      "outputs": [
        {
          "output_type": "execute_result",
          "data": {
            "text/plain": [
              "[0.9469, 0.9492, 0.8695, 0.9639]"
            ]
          },
          "metadata": {},
          "execution_count": 10
        }
      ]
    },
    {
      "cell_type": "markdown",
      "source": [
        "###Step-4"
      ],
      "metadata": {
        "id": "AUnG7_qLPhaK"
      }
    },
    {
      "cell_type": "markdown",
      "source": [
        "Let's remove the SVM to see if performance improves. It is possible to remove an estimator by setting it to `None` using `set_params()` like this:"
      ],
      "metadata": {
        "id": "MB0nbODxPjh7"
      }
    },
    {
      "cell_type": "code",
      "source": [
        "voting_clf.set_params(svm_clf=None)"
      ],
      "metadata": {
        "id": "DfnKn5osPkOQ",
        "outputId": "dc8ccae6-df2b-4b31-d970-3d0f9dbcad44",
        "colab": {
          "base_uri": "https://localhost:8080/"
        }
      },
      "execution_count": 11,
      "outputs": [
        {
          "output_type": "execute_result",
          "data": {
            "text/plain": [
              "VotingClassifier(estimators=[('random_forest_clf',\n",
              "                              RandomForestClassifier(n_estimators=10,\n",
              "                                                     random_state=42)),\n",
              "                             ('extra_trees_clf',\n",
              "                              ExtraTreesClassifier(n_estimators=10,\n",
              "                                                   random_state=42)),\n",
              "                             ('svm_clf', None),\n",
              "                             ('mlp_clf', MLPClassifier(random_state=42))])"
            ]
          },
          "metadata": {},
          "execution_count": 11
        }
      ]
    },
    {
      "cell_type": "markdown",
      "source": [
        "This updated the list of estimators:"
      ],
      "metadata": {
        "id": "VBe869WxP3kH"
      }
    },
    {
      "cell_type": "code",
      "source": [
        "voting_clf.estimators"
      ],
      "metadata": {
        "id": "E904wC3dP4Bk",
        "outputId": "8986f0f8-11ae-48a9-a788-860a12588d20",
        "colab": {
          "base_uri": "https://localhost:8080/"
        }
      },
      "execution_count": 12,
      "outputs": [
        {
          "output_type": "execute_result",
          "data": {
            "text/plain": [
              "[('random_forest_clf',\n",
              "  RandomForestClassifier(n_estimators=10, random_state=42)),\n",
              " ('extra_trees_clf', ExtraTreesClassifier(n_estimators=10, random_state=42)),\n",
              " ('svm_clf', None),\n",
              " ('mlp_clf', MLPClassifier(random_state=42))]"
            ]
          },
          "metadata": {},
          "execution_count": 12
        }
      ]
    },
    {
      "cell_type": "markdown",
      "source": [
        "However, it did not update the list of _trained_ estimators:"
      ],
      "metadata": {
        "id": "szZ4XgN5P9tQ"
      }
    },
    {
      "cell_type": "code",
      "source": [
        "voting_clf.estimators_"
      ],
      "metadata": {
        "id": "MvoTn9YvP-NP",
        "outputId": "3909c54a-4fa3-4a75-835c-91d1ce522c14",
        "colab": {
          "base_uri": "https://localhost:8080/"
        }
      },
      "execution_count": 13,
      "outputs": [
        {
          "output_type": "execute_result",
          "data": {
            "text/plain": [
              "[RandomForestClassifier(n_estimators=10, random_state=42),\n",
              " ExtraTreesClassifier(n_estimators=10, random_state=42),\n",
              " LinearSVC(random_state=42),\n",
              " MLPClassifier(random_state=42)]"
            ]
          },
          "metadata": {},
          "execution_count": 13
        }
      ]
    },
    {
      "cell_type": "markdown",
      "source": [
        "So we can either fit the `VotingClassifier` again, or just remove the SVM from the list of trained estimators:"
      ],
      "metadata": {
        "id": "dgYinl5iQAOu"
      }
    },
    {
      "cell_type": "code",
      "source": [
        "del voting_clf.estimators_[2]"
      ],
      "metadata": {
        "id": "opVmZYsfQC0i"
      },
      "execution_count": 14,
      "outputs": []
    },
    {
      "cell_type": "markdown",
      "source": [
        "Now let's evaluate the `VotingClassifier` again:"
      ],
      "metadata": {
        "id": "6_fvKQxfQIFJ"
      }
    },
    {
      "cell_type": "code",
      "source": [
        "voting_clf.score(x_val, y_val)"
      ],
      "metadata": {
        "id": "R4ZqztOuQImW",
        "outputId": "82c19ac9-e4e1-47f1-aa7d-23d88b359e34",
        "colab": {
          "base_uri": "https://localhost:8080/"
        }
      },
      "execution_count": 15,
      "outputs": [
        {
          "output_type": "execute_result",
          "data": {
            "text/plain": [
              "0.9652"
            ]
          },
          "metadata": {},
          "execution_count": 15
        }
      ]
    },
    {
      "cell_type": "markdown",
      "source": [
        "A bit better! The SVM was hurting performance. "
      ],
      "metadata": {
        "id": "B_0oQWegQNbZ"
      }
    },
    {
      "cell_type": "markdown",
      "source": [
        "###Step-5"
      ],
      "metadata": {
        "id": "vODuVK-7Qb3g"
      }
    },
    {
      "cell_type": "markdown",
      "source": [
        "Now let's try using a soft voting classifier. \n",
        "\n",
        "We do not actually need to retrain the classifier, we can just set `voting` to `\"soft\"`:"
      ],
      "metadata": {
        "id": "Su6VCafyQdVE"
      }
    },
    {
      "cell_type": "code",
      "source": [
        "voting_clf.voting = \"soft\"\n",
        "\n",
        "voting_clf.score(x_val, y_val)"
      ],
      "metadata": {
        "id": "ft3xdMHDQQ1u",
        "outputId": "5a745c60-1566-488c-fdd3-9d2eb0dabfe6",
        "colab": {
          "base_uri": "https://localhost:8080/"
        }
      },
      "execution_count": 16,
      "outputs": [
        {
          "output_type": "execute_result",
          "data": {
            "text/plain": [
              "0.9698"
            ]
          },
          "metadata": {},
          "execution_count": 16
        }
      ]
    },
    {
      "cell_type": "markdown",
      "source": [
        "That's a significant improvement, and it's much better than each of the individual classifiers."
      ],
      "metadata": {
        "id": "JjOaCX1TRS02"
      }
    },
    {
      "cell_type": "markdown",
      "source": [
        "###Step-6"
      ],
      "metadata": {
        "id": "mRll-g8JRYYR"
      }
    },
    {
      "cell_type": "markdown",
      "source": [
        "_Once you have found one, try it on the test set. How much better does it perform compared to the individual classifiers?_"
      ],
      "metadata": {
        "id": "Rmii6cI3RZ7m"
      }
    },
    {
      "cell_type": "code",
      "source": [
        "voting_clf.score(x_test, y_test)"
      ],
      "metadata": {
        "id": "odlkpZiWRab9",
        "outputId": "00b6f453-6a10-4e98-ecc4-5f4a70d7d69c",
        "colab": {
          "base_uri": "https://localhost:8080/"
        }
      },
      "execution_count": 17,
      "outputs": [
        {
          "output_type": "execute_result",
          "data": {
            "text/plain": [
              "0.9677"
            ]
          },
          "metadata": {},
          "execution_count": 17
        }
      ]
    },
    {
      "cell_type": "code",
      "source": [
        "[estimator.score(x_test, y_test) for estimator in voting_clf.estimators_]"
      ],
      "metadata": {
        "id": "LfwkA5z0Rfrg",
        "outputId": "387b07ae-06e1-48d2-fa5b-f32d69509c99",
        "colab": {
          "base_uri": "https://localhost:8080/"
        }
      },
      "execution_count": 18,
      "outputs": [
        {
          "output_type": "execute_result",
          "data": {
            "text/plain": [
              "[0.9437, 0.9474, 0.9604]"
            ]
          },
          "metadata": {},
          "execution_count": 18
        }
      ]
    },
    {
      "cell_type": "markdown",
      "source": [
        "The voting classifier reduced the error rate from about 4.0% for our best model (the `MLPClassifier`) to just 3.1%. \n",
        "\n",
        "That's about 22.5% less errors, not bad!"
      ],
      "metadata": {
        "id": "gI2U9RbaRlM6"
      }
    },
    {
      "cell_type": "markdown",
      "source": [
        "##Exercise-2: Stacking Ensemble"
      ],
      "metadata": {
        "id": "nU4U2kuRcgCQ"
      }
    },
    {
      "cell_type": "markdown",
      "source": [
        "Let's run the individual classifiers from the previous exercise to make predictions on\n",
        "the validation set, and create a new training set with the resulting predictions:\n",
        "each training instance is a vector containing the set of predictions from all your\n",
        "classifiers for an image, and the target is the image’s class. Train a classifier on\n",
        "this new training set. \n",
        "\n",
        "Congratulations, you have just trained a blender, and\n",
        "together with the classifiers it forms a stacking ensemble! Now evaluate the\n",
        "ensemble on the test set. For each image in the test set, make predictions with all\n",
        "your classifiers, then feed the predictions to the blender to get the ensemble’s predictions.\n",
        "\n",
        "How does it compare to the voting classifier you trained earlier?"
      ],
      "metadata": {
        "id": "TcbxrIV4cg9c"
      }
    },
    {
      "cell_type": "markdown",
      "source": [
        "###Step-1"
      ],
      "metadata": {
        "id": "t8yFIVgBd_-y"
      }
    },
    {
      "cell_type": "markdown",
      "source": [
        "_Run the individual classifiers from the previous exercise to make predictions on the validation set, and create a new training set with the resulting predictions: each training instance is a vector containing the set of predictions from all your classifiers for an image, and the target is the image's class. Train a classifier on this new training set._"
      ],
      "metadata": {
        "id": "XYcy8eQGeCGQ"
      }
    },
    {
      "cell_type": "code",
      "source": [
        "x_val_predictions = np.empty((len(x_val), len(estimators)), dtype=np.float32)"
      ],
      "metadata": {
        "id": "LKD3pnUQhuO0"
      },
      "execution_count": 21,
      "outputs": []
    },
    {
      "cell_type": "code",
      "source": [
        "for index, estimator in enumerate(estimators):\n",
        "  x_val_predictions[:, index] = estimator.predict(x_val)"
      ],
      "metadata": {
        "id": "lqVjFG7Uc2nT"
      },
      "execution_count": 22,
      "outputs": []
    },
    {
      "cell_type": "code",
      "source": [
        "x_val_predictions"
      ],
      "metadata": {
        "colab": {
          "base_uri": "https://localhost:8080/"
        },
        "id": "N3u6SXrpetU0",
        "outputId": "2c17715c-2646-454c-cb57-766468444316"
      },
      "execution_count": 23,
      "outputs": [
        {
          "output_type": "execute_result",
          "data": {
            "text/plain": [
              "array([[5., 5., 5., 5.],\n",
              "       [8., 8., 8., 8.],\n",
              "       [2., 2., 2., 2.],\n",
              "       ...,\n",
              "       [7., 7., 7., 7.],\n",
              "       [6., 6., 6., 6.],\n",
              "       [7., 7., 7., 7.]], dtype=float32)"
            ]
          },
          "metadata": {},
          "execution_count": 23
        }
      ]
    },
    {
      "cell_type": "code",
      "source": [
        "rnd_forest_blender = RandomForestClassifier(n_estimators=200, oob_score=True, random_state=42)\n",
        "rnd_forest_blender.fit(x_val_predictions, y_val)"
      ],
      "metadata": {
        "id": "zKJFnFyqiUzV",
        "outputId": "c7bf7207-829d-4af9-a967-2a410c504694",
        "colab": {
          "base_uri": "https://localhost:8080/"
        }
      },
      "execution_count": 24,
      "outputs": [
        {
          "output_type": "execute_result",
          "data": {
            "text/plain": [
              "RandomForestClassifier(n_estimators=200, oob_score=True, random_state=42)"
            ]
          },
          "metadata": {},
          "execution_count": 24
        }
      ]
    },
    {
      "cell_type": "code",
      "source": [
        "rnd_forest_blender.oob_score_"
      ],
      "metadata": {
        "colab": {
          "base_uri": "https://localhost:8080/"
        },
        "id": "XJUGGJNgfKtY",
        "outputId": "32f59e93-42e2-4a9c-b741-1b6c9acbe561"
      },
      "execution_count": 26,
      "outputs": [
        {
          "output_type": "execute_result",
          "data": {
            "text/plain": [
              "0.9629"
            ]
          },
          "metadata": {},
          "execution_count": 26
        }
      ]
    },
    {
      "cell_type": "markdown",
      "source": [
        "You could fine-tune this blender or try other types of blenders (e.g., an `MLPClassifier`), then select the best one using cross-validation, as always."
      ],
      "metadata": {
        "id": "e__BI_3bk-ea"
      }
    },
    {
      "cell_type": "markdown",
      "source": [
        "###Step-2"
      ],
      "metadata": {
        "id": "Wo5BJR_NfRt4"
      }
    },
    {
      "cell_type": "markdown",
      "source": [
        "Congratulations, you have just trained a blender, and together with the classifiers they form a stacking ensemble! \n",
        "\n",
        "Now let's evaluate the ensemble on the test set. For each image in the test set, make predictions with all your classifiers, then feed the predictions to the blender to get the ensemble's predictions. \n",
        "\n",
        "How does it compare to the voting classifier you trained earlier?"
      ],
      "metadata": {
        "id": "W5hiORxPfT_7"
      }
    },
    {
      "cell_type": "code",
      "source": [
        "x_test_predictions = np.empty((len(x_test), len(estimators)), dtype=np.float32)"
      ],
      "metadata": {
        "id": "XRNUKV3_lJCi"
      },
      "execution_count": 27,
      "outputs": []
    },
    {
      "cell_type": "code",
      "source": [
        "for index, estimator in enumerate(estimators):\n",
        "  x_test_predictions[:, index] = estimator.predict(x_test)"
      ],
      "metadata": {
        "id": "XpPLO3ZVf29V"
      },
      "execution_count": 28,
      "outputs": []
    },
    {
      "cell_type": "code",
      "source": [
        "y_pred = rnd_forest_blender.predict(x_test_predictions)"
      ],
      "metadata": {
        "id": "Qyk86_jNlh47"
      },
      "execution_count": 29,
      "outputs": []
    },
    {
      "cell_type": "code",
      "source": [
        "accuracy_score(y_test, y_pred)"
      ],
      "metadata": {
        "id": "npySgaAVmXVg",
        "outputId": "aa96f6d1-2f7a-4f68-80a2-98577c3379dd",
        "colab": {
          "base_uri": "https://localhost:8080/"
        }
      },
      "execution_count": 30,
      "outputs": [
        {
          "output_type": "execute_result",
          "data": {
            "text/plain": [
              "0.9623"
            ]
          },
          "metadata": {},
          "execution_count": 30
        }
      ]
    },
    {
      "cell_type": "markdown",
      "source": [
        "This stacking ensemble does not perform as well as the soft voting classifier we trained earlier, it's just as good as the best individual classifier."
      ],
      "metadata": {
        "id": "R20gxFqygVo2"
      }
    }
  ]
}