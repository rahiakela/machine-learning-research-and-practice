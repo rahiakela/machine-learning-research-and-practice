{
  "nbformat": 4,
  "nbformat_minor": 0,
  "metadata": {
    "colab": {
      "name": "classification-fundamentals.ipynb",
      "provenance": [],
      "toc_visible": true,
      "authorship_tag": "ABX9TyNN8vW7/pN2/+U+kzn2SVhN",
      "include_colab_link": true
    },
    "kernelspec": {
      "name": "python3",
      "display_name": "Python 3"
    },
    "language_info": {
      "name": "python"
    }
  },
  "cells": [
    {
      "cell_type": "markdown",
      "metadata": {
        "id": "view-in-github",
        "colab_type": "text"
      },
      "source": [
        "<a href=\"https://colab.research.google.com/github/rahiakela/machine-learning-research-and-practice/blob/main/hands-on-machine-learning-with-scikit-learn-keras-and-tensorflow/3-classification/classification_fundamentals.ipynb\" target=\"_parent\"><img src=\"https://colab.research.google.com/assets/colab-badge.svg\" alt=\"Open In Colab\"/></a>"
      ]
    },
    {
      "cell_type": "markdown",
      "source": [
        "##Classification Fundamentals"
      ],
      "metadata": {
        "id": "BdG7yOh8mM1m"
      }
    },
    {
      "cell_type": "markdown",
      "source": [
        "##Setup"
      ],
      "metadata": {
        "id": "WQyRPxgLnb5G"
      }
    },
    {
      "cell_type": "code",
      "source": [
        "# Common imports\n",
        "import numpy as np\n",
        "import os\n",
        "\n",
        "from sklearn.datasets import fetch_openml\n",
        "from sklearn.linear_model import SGDClassifier\n",
        "from sklearn.model_selection import cross_val_score, StratifiedKFold, cross_val_predict\n",
        "from sklearn.base import clone, BaseEstimator\n",
        "from sklearn.metrics import confusion_matrix, precision_score, recall_score,f1_score, precision_recall_curve, roc_curve, roc_auc_score\n",
        "\n",
        "from sklearn.ensemble import RandomForestClassifier\n",
        "from sklearn.multiclass import OneVsOneClassifier\n",
        "from sklearn.preprocessing import StandardScaler\n",
        "from sklearn.neighbors import KNeighborsClassifier\n",
        "from sklearn.dummy import DummyClassifier\n",
        "from sklearn.svm import SVC\n",
        "from sklearn.multiclass import OneVsRestClassifier, OneVsOneClassifier\n",
        "\n",
        "# to make this notebook's output stable across runs\n",
        "np.random.seed(42)\n",
        "\n",
        "# To plot pretty figures\n",
        "%matplotlib inline\n",
        "import matplotlib as mpl\n",
        "import matplotlib.pyplot as plt\n",
        "import matplotlib.patches as patches\n",
        "mpl.rc('axes', labelsize=14)\n",
        "mpl.rc('xtick', labelsize=12)\n",
        "mpl.rc('ytick', labelsize=12)\n",
        "\n",
        "# Where to save the figures\n",
        "PROJECT_ROOT_DIR = \".\"\n",
        "CHAPTER_ID = \"classification\"\n",
        "IMAGES_PATH = os.path.join(PROJECT_ROOT_DIR, \"images\", CHAPTER_ID)\n",
        "os.makedirs(IMAGES_PATH, exist_ok=True)"
      ],
      "metadata": {
        "id": "_AgnAQ1ancF5"
      },
      "execution_count": 61,
      "outputs": []
    },
    {
      "cell_type": "code",
      "source": [
        "def plot_digit(data):\n",
        "  image = data.reshape(28, 28)\n",
        "  plt.imshow(image, cmap = mpl.cm.binary, interpolation=\"nearest\")\n",
        "  plt.axis(\"off\")\n",
        "\n",
        "def plot_digits(instances, images_per_row=10, **options):\n",
        "  size = 28\n",
        "  images_per_row = min(len(instances), images_per_row)\n",
        "  images = [instance.reshape(size,size) for instance in instances]\n",
        "  n_rows = (len(instances) - 1) // images_per_row + 1\n",
        "  row_images = []\n",
        "  n_empty = n_rows * images_per_row - len(instances)\n",
        "  images.append(np.zeros((size, size * n_empty)))\n",
        "  for row in range(n_rows):\n",
        "      rimages = images[row * images_per_row : (row + 1) * images_per_row]\n",
        "      row_images.append(np.concatenate(rimages, axis=1))\n",
        "  image = np.concatenate(row_images, axis=0)\n",
        "  plt.imshow(image, cmap = mpl.cm.binary, **options)\n",
        "  plt.axis(\"off\")"
      ],
      "metadata": {
        "id": "OB5FcZlfqnVA"
      },
      "execution_count": 2,
      "outputs": []
    },
    {
      "cell_type": "markdown",
      "source": [
        "##MNIST Dataset"
      ],
      "metadata": {
        "id": "QpAo-TuhnotB"
      }
    },
    {
      "cell_type": "markdown",
      "source": [
        "Scikit-Learn provides many helper functions to download popular datasets. MNIST is\n",
        "one of them."
      ],
      "metadata": {
        "id": "5RdFsGx3nqrL"
      }
    },
    {
      "cell_type": "code",
      "source": [
        "mnist = fetch_openml(\"mnist_784\", version=1, cache=True, as_frame=False)\n",
        "mnist.keys()"
      ],
      "metadata": {
        "id": "cTJMQIk3n_0C",
        "outputId": "47359e9e-3cd6-4526-c9b7-f1f33f5986ef",
        "colab": {
          "base_uri": "https://localhost:8080/"
        }
      },
      "execution_count": 3,
      "outputs": [
        {
          "output_type": "execute_result",
          "data": {
            "text/plain": [
              "dict_keys(['data', 'target', 'frame', 'categories', 'feature_names', 'target_names', 'DESCR', 'details', 'url'])"
            ]
          },
          "metadata": {},
          "execution_count": 3
        }
      ]
    },
    {
      "cell_type": "code",
      "source": [
        "X, y = mnist[\"data\"], mnist[\"target\"]\n",
        "X.shape, y.shape"
      ],
      "metadata": {
        "id": "MG5hI-0HoVCo",
        "outputId": "75f811f4-656f-4606-d787-30ed2dbab82b",
        "colab": {
          "base_uri": "https://localhost:8080/"
        }
      },
      "execution_count": 4,
      "outputs": [
        {
          "output_type": "execute_result",
          "data": {
            "text/plain": [
              "((70000, 784), (70000,))"
            ]
          },
          "metadata": {},
          "execution_count": 4
        }
      ]
    },
    {
      "cell_type": "markdown",
      "source": [
        "Let’s look\n",
        "at these arrays."
      ],
      "metadata": {
        "id": "ofA5hAowhtOj"
      }
    },
    {
      "cell_type": "code",
      "source": [
        "X"
      ],
      "metadata": {
        "id": "szcfx9ruhuHj",
        "outputId": "6beac960-ff56-4b7e-a790-3a5816b9c712",
        "colab": {
          "base_uri": "https://localhost:8080/"
        }
      },
      "execution_count": 5,
      "outputs": [
        {
          "output_type": "execute_result",
          "data": {
            "text/plain": [
              "array([[0., 0., 0., ..., 0., 0., 0.],\n",
              "       [0., 0., 0., ..., 0., 0., 0.],\n",
              "       [0., 0., 0., ..., 0., 0., 0.],\n",
              "       ...,\n",
              "       [0., 0., 0., ..., 0., 0., 0.],\n",
              "       [0., 0., 0., ..., 0., 0., 0.],\n",
              "       [0., 0., 0., ..., 0., 0., 0.]])"
            ]
          },
          "metadata": {},
          "execution_count": 5
        }
      ]
    },
    {
      "cell_type": "code",
      "source": [
        "y"
      ],
      "metadata": {
        "id": "Z7JK6MjOhy5G",
        "outputId": "e982f60f-a472-42ec-9543-40262311d205",
        "colab": {
          "base_uri": "https://localhost:8080/"
        }
      },
      "execution_count": 6,
      "outputs": [
        {
          "output_type": "execute_result",
          "data": {
            "text/plain": [
              "array(['5', '0', '4', ..., '4', '5', '6'], dtype=object)"
            ]
          },
          "metadata": {},
          "execution_count": 6
        }
      ]
    },
    {
      "cell_type": "markdown",
      "source": [
        "Let’s take a peek at one digit from the dataset. "
      ],
      "metadata": {
        "id": "T1lYg6BUoq4_"
      }
    },
    {
      "cell_type": "code",
      "source": [
        "some_digit = X[:1]\n",
        "some_digit_image = some_digit.reshape(28, 28)\n",
        "\n",
        "plt.imshow(some_digit_image, cmap=\"binary\")\n",
        "plt.axis(\"off\")\n",
        "plt.show()"
      ],
      "metadata": {
        "id": "NuZpLXA0orjJ",
        "outputId": "0bc33618-5fb6-45ab-ffce-975b9ccfa587",
        "colab": {
          "base_uri": "https://localhost:8080/",
          "height": 248
        }
      },
      "execution_count": 7,
      "outputs": [
        {
          "output_type": "display_data",
          "data": {
            "text/plain": [
              "<Figure size 432x288 with 1 Axes>"
            ],
            "image/png": "[encoded data removed]"
          },
          "metadata": {
            "needs_background": "light"
          }
        }
      ]
    },
    {
      "cell_type": "markdown",
      "source": [
        "This looks like a 5, and indeed that’s what the label tells us:"
      ],
      "metadata": {
        "id": "VNgLU17hiA4j"
      }
    },
    {
      "cell_type": "code",
      "source": [
        "y[0]"
      ],
      "metadata": {
        "id": "kqRvN1I7qQfB",
        "outputId": "499ee7c3-a736-4cf7-b7eb-5ce0860c1fd7",
        "colab": {
          "base_uri": "https://localhost:8080/",
          "height": 35
        }
      },
      "execution_count": 8,
      "outputs": [
        {
          "output_type": "execute_result",
          "data": {
            "text/plain": [
              "'5'"
            ],
            "application/vnd.google.colaboratory.intrinsic+json": {
              "type": "string"
            }
          },
          "metadata": {},
          "execution_count": 8
        }
      ]
    },
    {
      "cell_type": "markdown",
      "source": [
        "Note that the label is a string.so let’s cast y to\n",
        "integer:"
      ],
      "metadata": {
        "id": "DskYx4usqUAi"
      }
    },
    {
      "cell_type": "code",
      "source": [
        "y = y.astype(np.uint8)"
      ],
      "metadata": {
        "id": "mxaDapwIqWas"
      },
      "execution_count": 9,
      "outputs": []
    },
    {
      "cell_type": "markdown",
      "source": [
        "Now, let's shows a few\n",
        "more images from the MNIST dataset."
      ],
      "metadata": {
        "id": "rAKPkr7Yq8NT"
      }
    },
    {
      "cell_type": "code",
      "source": [
        "plt.figure(figsize=(9, 9))\n",
        "example_images = np.r_[X[:12000:600], X[13000:600], X[30600:60000:590]]\n",
        "plot_digits(example_images, images_per_row=10)\n",
        "plt.show()"
      ],
      "metadata": {
        "id": "dh_N43pqq-Ll",
        "outputId": "a1a96097-9211-4a50-f5af-8edc5ab1e4eb",
        "colab": {
          "base_uri": "https://localhost:8080/",
          "height": 382
        }
      },
      "execution_count": 10,
      "outputs": [
        {
          "output_type": "display_data",
          "data": {
            "text/plain": [
              "<Figure size 648x648 with 1 Axes>"
            ],
            "image/png": "[encoded data removed]"
          },
          "metadata": {
            "needs_background": "light"
          }
        }
      ]
    },
    {
      "cell_type": "markdown",
      "source": [
        "The MNIST dataset is actually already split into a training set (the first 60,000\n",
        "images) and a test set (the last 10,000 images):"
      ],
      "metadata": {
        "id": "OQr2kPKVsE2m"
      }
    },
    {
      "cell_type": "code",
      "source": [
        "x_train, x_test, y_train, y_test = X[:60000], X[60000:], y[:60000], y[60000:]\n",
        "x_train.shape, y_train.shape, x_test.shape, y_test.shape"
      ],
      "metadata": {
        "id": "L0D1NOYLsFdd",
        "outputId": "4de4c463-970d-487d-e74c-77dac6e1dafe",
        "colab": {
          "base_uri": "https://localhost:8080/"
        }
      },
      "execution_count": 11,
      "outputs": [
        {
          "output_type": "execute_result",
          "data": {
            "text/plain": [
              "((60000, 784), (60000,), (10000, 784), (10000,))"
            ]
          },
          "metadata": {},
          "execution_count": 11
        }
      ]
    },
    {
      "cell_type": "markdown",
      "source": [
        "Some learning algorithms are sensitive to the order of the training\n",
        "instances, and they perform poorly if they get many similar instances in a row. \n",
        "\n",
        "Shuffling the dataset ensures that this won’t happen."
      ],
      "metadata": {
        "id": "F8MrDrp0swY7"
      }
    },
    {
      "cell_type": "code",
      "source": [
        "shuffle_index = np.random.permutation(60000)\n",
        "x_train, y_train = x_train[shuffle_index], y_train[shuffle_index]"
      ],
      "metadata": {
        "id": "5dcBuBgNszhz"
      },
      "execution_count": 12,
      "outputs": []
    },
    {
      "cell_type": "markdown",
      "source": [
        "##Binary Classifier"
      ],
      "metadata": {
        "id": "UJ6mdxIFtKSP"
      }
    },
    {
      "cell_type": "markdown",
      "source": [
        "Let’s simplify the problem for now and only try to identify one digit—for example,\n",
        "the number 5. This “5-detector” will be an example of a binary classifier, capable of\n",
        "distinguishing between just two classes, 5 and not-5. \n",
        "\n",
        "Let’s create the target vectors for\n",
        "this classification task:"
      ],
      "metadata": {
        "id": "qGP-LHgltMXb"
      }
    },
    {
      "cell_type": "code",
      "source": [
        "y_train_5 = (y_train == 5)  # True for all 5s, False for all other digits\n",
        "y_test_5 = (y_test == 5)"
      ],
      "metadata": {
        "id": "MjBjHfZOtbEc"
      },
      "execution_count": 13,
      "outputs": []
    },
    {
      "cell_type": "markdown",
      "source": [
        "Now, let's calculate total 5's and not 5's data point."
      ],
      "metadata": {
        "id": "WIjrvSc3u_NG"
      }
    },
    {
      "cell_type": "code",
      "source": [
        "both_5_and_not_5 =len(y_train_5)\n",
        "both_5_and_not_5"
      ],
      "metadata": {
        "id": "-N0jBb29xj2d",
        "outputId": "74bd65b2-912a-47fc-b4be-513e3a2b1cc7",
        "colab": {
          "base_uri": "https://localhost:8080/"
        }
      },
      "execution_count": 14,
      "outputs": [
        {
          "output_type": "execute_result",
          "data": {
            "text/plain": [
              "60000"
            ]
          },
          "metadata": {},
          "execution_count": 14
        }
      ]
    },
    {
      "cell_type": "code",
      "source": [
        "total_not_5 = np.bitwise_not(y_train_5).sum()\n",
        "total_not_5"
      ],
      "metadata": {
        "id": "64y2aQ6EvK2s",
        "outputId": "7a11769a-ce37-4ec2-feb2-95e9c705b182",
        "colab": {
          "base_uri": "https://localhost:8080/"
        }
      },
      "execution_count": 15,
      "outputs": [
        {
          "output_type": "execute_result",
          "data": {
            "text/plain": [
              "54579"
            ]
          },
          "metadata": {},
          "execution_count": 15
        }
      ]
    },
    {
      "cell_type": "code",
      "source": [
        "total_5 = both_5_and_not_5 - total_not_5\n",
        "total_5"
      ],
      "metadata": {
        "id": "gyw21kLEvqL8",
        "outputId": "df47572a-0edf-46da-d1e5-0adabed10324",
        "colab": {
          "base_uri": "https://localhost:8080/"
        }
      },
      "execution_count": 16,
      "outputs": [
        {
          "output_type": "execute_result",
          "data": {
            "text/plain": [
              "5421"
            ]
          },
          "metadata": {},
          "execution_count": 16
        }
      ]
    },
    {
      "cell_type": "code",
      "source": [
        "(total_not_5 / both_5_and_not_5) * 100"
      ],
      "metadata": {
        "id": "lpaBGdkCxw6e",
        "outputId": "12b9d0ee-b391-45ca-b0dd-ddb94ff26a91",
        "colab": {
          "base_uri": "https://localhost:8080/"
        }
      },
      "execution_count": 17,
      "outputs": [
        {
          "output_type": "execute_result",
          "data": {
            "text/plain": [
              "90.96499999999999"
            ]
          },
          "metadata": {},
          "execution_count": 17
        }
      ]
    },
    {
      "cell_type": "code",
      "source": [
        "(total_5 / both_5_and_not_5) * 100"
      ],
      "metadata": {
        "id": "2O9NWgv4x7Tx",
        "outputId": "c6863eb3-ccc2-44fa-ab41-b71dd7ecc2e1",
        "colab": {
          "base_uri": "https://localhost:8080/"
        }
      },
      "execution_count": 18,
      "outputs": [
        {
          "output_type": "execute_result",
          "data": {
            "text/plain": [
              "9.035"
            ]
          },
          "metadata": {},
          "execution_count": 18
        }
      ]
    },
    {
      "cell_type": "markdown",
      "source": [
        "So we have 90.96% not 5's data point and 9.03% 5's data point.In other words, we have now imbalanced dataset.\n",
        "\n",
        "Now let’s pick a classifier and train it on this imbalanced dataset."
      ],
      "metadata": {
        "id": "tvoEvkAfyLJ5"
      }
    },
    {
      "cell_type": "code",
      "source": [
        "# set max_iter=5 and tol=-np.infty, to get the same results\n",
        "sgd_clf = SGDClassifier(max_iter=5, tol=-np.infty ,random_state=42)\n",
        "sgd_clf.fit(x_train, y_train_5)"
      ],
      "metadata": {
        "id": "g893__Q6yjOG",
        "outputId": "f3bbbd8f-11b9-4adb-cd9a-1fb01953dee3",
        "colab": {
          "base_uri": "https://localhost:8080/"
        }
      },
      "execution_count": 19,
      "outputs": [
        {
          "output_type": "execute_result",
          "data": {
            "text/plain": [
              "SGDClassifier(max_iter=5, random_state=42, tol=-inf)"
            ]
          },
          "metadata": {},
          "execution_count": 19
        }
      ]
    },
    {
      "cell_type": "markdown",
      "source": [
        "Now we can use it to detect images of the number 5:"
      ],
      "metadata": {
        "id": "nHDjM5xJ0Ass"
      }
    },
    {
      "cell_type": "code",
      "source": [
        "sgd_clf.predict(some_digit)"
      ],
      "metadata": {
        "id": "3vzqMkMr0BLU",
        "outputId": "a7451034-0828-4c6c-b307-256718079425",
        "colab": {
          "base_uri": "https://localhost:8080/"
        }
      },
      "execution_count": 20,
      "outputs": [
        {
          "output_type": "execute_result",
          "data": {
            "text/plain": [
              "array([ True])"
            ]
          },
          "metadata": {},
          "execution_count": 20
        }
      ]
    },
    {
      "cell_type": "markdown",
      "source": [
        "The classifier guesses that this image represents a 5 (True). Looks like it guessed right\n",
        "in this particular case!"
      ],
      "metadata": {
        "id": "Fnxm6aQc1km1"
      }
    },
    {
      "cell_type": "markdown",
      "source": [
        "##Performance Measures"
      ],
      "metadata": {
        "id": "mqVeFQIQ10xw"
      }
    },
    {
      "cell_type": "markdown",
      "source": [
        "###Measuring Accuracy Using Cross-Validation"
      ],
      "metadata": {
        "id": "BZI3nnRI11lw"
      }
    },
    {
      "cell_type": "markdown",
      "source": [
        "A good way to evaluate a model is to use cross-validation.\n",
        "\n",
        "Let’s use the `cross_val_score()` function to evaluate our SGDClassifier model,\n",
        "using K-fold `cross-validation` with three folds. "
      ],
      "metadata": {
        "id": "FUWLqpej2DN-"
      }
    },
    {
      "cell_type": "code",
      "source": [
        "cross_val_score(sgd_clf, x_train, y_train_5, cv=3, scoring=\"accuracy\")"
      ],
      "metadata": {
        "id": "_2oayd1O2QdY",
        "outputId": "303a8ddd-4d12-4513-908c-4a4511c12b26",
        "colab": {
          "base_uri": "https://localhost:8080/"
        }
      },
      "execution_count": 21,
      "outputs": [
        {
          "output_type": "execute_result",
          "data": {
            "text/plain": [
              "array([0.964 , 0.9579, 0.9571])"
            ]
          },
          "metadata": {},
          "execution_count": 21
        }
      ]
    },
    {
      "cell_type": "markdown",
      "source": [
        "Wow! Above 93% accuracy (ratio of correct predictions) on all cross-validation folds?\n",
        "\n",
        "Well, before you get too excited, let’s look at a very\n",
        "dumb classifier that just classifies every single image in the “not-5” class:"
      ],
      "metadata": {
        "id": "IMquJyrF2i29"
      }
    },
    {
      "cell_type": "code",
      "source": [
        "class Never5Classifier(BaseEstimator):\n",
        "  def fit(self, x, y):\n",
        "    pass\n",
        "  def predict(self, x):\n",
        "    return np.zeros((len(x), 1), dtype=bool)  "
      ],
      "metadata": {
        "id": "1Hq5Ryyy2noc"
      },
      "execution_count": null,
      "outputs": []
    },
    {
      "cell_type": "markdown",
      "source": [
        "Can you guess this model’s accuracy? Let’s find out:"
      ],
      "metadata": {
        "id": "ekfhhZGy3Igx"
      }
    },
    {
      "cell_type": "code",
      "source": [
        "dummy_clf = DummyClassifier()\n",
        "dummy_clf.fit(x_train, y_train_5)\n",
        "print(any(dummy_clf.predict(x_train)))"
      ],
      "metadata": {
        "id": "czEHLTEs3I5R",
        "outputId": "f508c18b-5cfc-4617-e887-b3a34a34d2d6",
        "colab": {
          "base_uri": "https://localhost:8080/"
        }
      },
      "execution_count": 22,
      "outputs": [
        {
          "output_type": "stream",
          "name": "stdout",
          "text": [
            "False\n"
          ]
        }
      ]
    },
    {
      "cell_type": "code",
      "source": [
        "cross_val_score(dummy_clf, x_train, y_train_5, cv=3, scoring=\"accuracy\")"
      ],
      "metadata": {
        "id": "YoHVWeWZuxSt",
        "outputId": "9a3f3ce6-5a09-4e55-f3a6-0aeadfcf083d",
        "colab": {
          "base_uri": "https://localhost:8080/"
        }
      },
      "execution_count": 23,
      "outputs": [
        {
          "output_type": "execute_result",
          "data": {
            "text/plain": [
              "array([0.90965, 0.90965, 0.90965])"
            ]
          },
          "metadata": {},
          "execution_count": 23
        }
      ]
    },
    {
      "cell_type": "markdown",
      "source": [
        "That’s right, it has over `90%` accuracy! This is simply because only about `10%` of the images are 5s, so if you always guess that an image is not a 5, you will be right about `90%` of the time.\n",
        "\n",
        "**This demonstrates why accuracy is generally not the preferred performance measure for classifiers, especially when you are dealing with skewed datasets or class imbalanced dataset** (i.e., when some classes are much more frequent than others).\n",
        "\n"
      ],
      "metadata": {
        "id": "hx-Sbk6h3nbN"
      }
    },
    {
      "cell_type": "markdown",
      "source": [
        "###Confusion Matrix"
      ],
      "metadata": {
        "id": "J3v1eXrI4mNH"
      }
    },
    {
      "cell_type": "markdown",
      "source": [
        "A much better way to evaluate the performance of a classifier is to look at the confusion matrix. The general idea is to count the number of times instances of class A are classified as class B. \n",
        "\n",
        "For example, to know the number of times the classifier confused\n",
        "images of 5s with 3s, you would look in the fifth row and third column of the confusion matrix."
      ],
      "metadata": {
        "id": "OhfY0dBL4nCU"
      }
    },
    {
      "cell_type": "code",
      "source": [
        "# To compute the confusion matrix, you first need to have a set of predictions so that they can be compared to the actual targets.\n",
        "# get the predictions made on each test fold\n",
        "y_train_pred = cross_val_predict(sgd_clf, x_train, y_train_5, cv=3)"
      ],
      "metadata": {
        "id": "QONiaL5kiBbm"
      },
      "execution_count": 24,
      "outputs": []
    },
    {
      "cell_type": "markdown",
      "source": [
        "Now you are ready to get the confusion matrix using the `confusion_matrix()` function."
      ],
      "metadata": {
        "id": "-pe_FnxDjI3B"
      }
    },
    {
      "cell_type": "code",
      "source": [
        "confusion_matrix(y_train_5, y_train_pred)"
      ],
      "metadata": {
        "id": "2f5nVZyXjJbU",
        "outputId": "36b58104-f364-422e-b6ac-f4b910691bd0",
        "colab": {
          "base_uri": "https://localhost:8080/"
        }
      },
      "execution_count": 25,
      "outputs": [
        {
          "output_type": "execute_result",
          "data": {
            "text/plain": [
              "array([[54058,   521],\n",
              "       [ 1899,  3522]])"
            ]
          },
          "metadata": {},
          "execution_count": 25
        }
      ]
    },
    {
      "cell_type": "markdown",
      "source": [
        "Each row in a confusion matrix represents an actual class, while each column represents a predicted class.\n",
        "\n",
        "The first row of this matrix considers non-5 images (the negative\n",
        "class): 54,058 of them were correctly classified as non-5s (they are called true\n",
        "negatives), while the remaining 521 were wrongly classified as 5s (false positives).\n",
        "\n",
        "The second row considers the images of 5s (the positive class): 1899 were wrongly classified as non-5s (false negatives), while the remaining 35,22 were correctly classified as 5s (true positives). \n",
        "\n",
        "A perfect classifier would have only true positives and true\n",
        "negatives, so its confusion matrix would have nonzero values only on its main diagonal(top left to bottom right):"
      ],
      "metadata": {
        "id": "ZVeeQx6AkW8q"
      }
    },
    {
      "cell_type": "code",
      "source": [
        "y_train_perfect_predictions = y_train_5  # pretend we reached perfection\n",
        "confusion_matrix(y_train_5, y_train_perfect_predictions)"
      ],
      "metadata": {
        "id": "yDq-lyV6k29u",
        "outputId": "4dd460f8-9940-46b3-8a46-5f4402d31342",
        "colab": {
          "base_uri": "https://localhost:8080/"
        }
      },
      "execution_count": 26,
      "outputs": [
        {
          "output_type": "execute_result",
          "data": {
            "text/plain": [
              "array([[54579,     0],\n",
              "       [    0,  5421]])"
            ]
          },
          "metadata": {},
          "execution_count": 26
        }
      ]
    },
    {
      "cell_type": "markdown",
      "source": [
        "###Precision and Recall"
      ],
      "metadata": {
        "id": "Ak4f_Li3llCd"
      }
    },
    {
      "cell_type": "markdown",
      "source": [
        "The confusion matrix gives you a lot of information, but sometimes you may prefer a\n",
        "more concise metric. An interesting one to look at is the accuracy of the positive pre dictions; this is called the precision of the classifier.\n",
        "\n",
        "$$precision = \\frac{TP}{TP + FP}$$\n",
        "\n",
        "But precision is typically used\n",
        "along with another metric named recall, also called sensitivity or the true positive rate\n",
        "(TPR): this is the ratio of positive instances that are correctly detected by the classifier.\n",
        "\n",
        "$$\\frac{TP}{TP + FN}$$\n",
        "\n",
        "<img src='https://github.com/rahiakela/machine-learning-research-and-practice/blob/main/hands-on-machine-learning-with-scikit-learn-keras-and-tensorflow/3-classification/images/1.png?raw=1' width='800'/>"
      ],
      "metadata": {
        "id": "hZ7GmfD7ll4u"
      }
    },
    {
      "cell_type": "code",
      "source": [
        "precision_score(y_train_5, y_train_pred)  # 3522 / (3522 + 521)"
      ],
      "metadata": {
        "id": "HZoxWvJ5mqfu",
        "outputId": "09e69cbb-d283-412f-e04b-3d3c39be95f9",
        "colab": {
          "base_uri": "https://localhost:8080/"
        }
      },
      "execution_count": 27,
      "outputs": [
        {
          "output_type": "execute_result",
          "data": {
            "text/plain": [
              "0.8711352955725946"
            ]
          },
          "metadata": {},
          "execution_count": 27
        }
      ]
    },
    {
      "cell_type": "code",
      "source": [
        "3522 / (3522 + 521)"
      ],
      "metadata": {
        "id": "rTuFMlnPnqyF",
        "outputId": "b69ae5a7-bc38-45c3-f629-49f2936da961",
        "colab": {
          "base_uri": "https://localhost:8080/"
        }
      },
      "execution_count": 28,
      "outputs": [
        {
          "output_type": "execute_result",
          "data": {
            "text/plain": [
              "0.8711352955725946"
            ]
          },
          "metadata": {},
          "execution_count": 28
        }
      ]
    },
    {
      "cell_type": "code",
      "source": [
        "recall_score(y_train_5, y_train_pred)  # 3522 / (3522 + 1899)"
      ],
      "metadata": {
        "id": "p2TfzG_SmyJ4",
        "outputId": "7d81560c-e4f5-4573-db21-35f47a1b4b18",
        "colab": {
          "base_uri": "https://localhost:8080/"
        }
      },
      "execution_count": 29,
      "outputs": [
        {
          "output_type": "execute_result",
          "data": {
            "text/plain": [
              "0.6496956281128943"
            ]
          },
          "metadata": {},
          "execution_count": 29
        }
      ]
    },
    {
      "cell_type": "code",
      "source": [
        "3522 / (3522 + 1899)"
      ],
      "metadata": {
        "id": "i_H--EFXnxFT",
        "outputId": "267794f7-7bed-45fb-8cd0-66de32e7f544",
        "colab": {
          "base_uri": "https://localhost:8080/"
        }
      },
      "execution_count": 30,
      "outputs": [
        {
          "output_type": "execute_result",
          "data": {
            "text/plain": [
              "0.6496956281128943"
            ]
          },
          "metadata": {},
          "execution_count": 30
        }
      ]
    },
    {
      "cell_type": "markdown",
      "source": [
        "Now your 5-detector does not look as shiny as it did when you looked at its accuracy. When it claims an image represents a 5, it is correct only 87.11% of the time. Moreover, it only detects 64.96% of the 5s.\n",
        "\n",
        "\n",
        "It is often convenient to combine precision and recall into a single metric called the $F_1$\n",
        "score, in particular if you need a simple way to compare two classifiers. The $F_1$ score is\n",
        "the harmonic mean of precision and recall.\n",
        "\n",
        "$$F_1=\\frac{2}{\\frac{1}{precision}+{\\frac{1}{recall}}}=2*\\frac{precision*recall}{precision+recall}=\\frac{TP}{TP+\\frac{FN+FP}{2}}$$\n",
        "\n",
        "\n",
        "\n"
      ],
      "metadata": {
        "id": "f60ZFp54n6mo"
      }
    },
    {
      "cell_type": "code",
      "source": [
        "f1_score(y_train_5, y_train_pred)"
      ],
      "metadata": {
        "id": "6EErdGuBpF28",
        "outputId": "495bfb68-cadc-4194-879d-254d94048e01",
        "colab": {
          "base_uri": "https://localhost:8080/"
        }
      },
      "execution_count": 31,
      "outputs": [
        {
          "output_type": "execute_result",
          "data": {
            "text/plain": [
              "0.7442941673710904"
            ]
          },
          "metadata": {},
          "execution_count": 31
        }
      ]
    },
    {
      "cell_type": "markdown",
      "source": [
        "The $F_1$ score favors classifiers that have similar precision and recall. This is not always what you want: in some contexts you mostly care about precision, and in other contexts you really care about recall.\n",
        "\n",
        "For example, if you trained a classifier to detect videos\n",
        "that are safe for kids, you would probably prefer a classifier that rejects many\n",
        "good videos (low recall) but keeps only safe ones (high precision), rather than a classifier\n",
        "that has a much higher recall but lets a few really bad videos show up in your\n",
        "product (in such cases, you may even want to add a human pipeline to check the classifier’s\n",
        "video selection). \n",
        "\n",
        "On the other hand, suppose you train a classifier to detect\n",
        "shoplifters in surveillance images: it is probably fine if your classifier has only 30%\n",
        "precision as long as it has 99% recall (sure, the security guards will get a few false\n",
        "alerts, but almost all shoplifters will get caught).\n",
        "\n",
        "Unfortunately, you can’t have it both ways: increasing precision reduces recall, and vice versa. This is called the precision/recall trade-off."
      ],
      "metadata": {
        "id": "oh9SsgpRphST"
      }
    },
    {
      "cell_type": "markdown",
      "source": [
        "###Precision/Recall Trade-off"
      ],
      "metadata": {
        "id": "yhtw-lRkp9aF"
      }
    },
    {
      "cell_type": "markdown",
      "source": [
        "To understand this trade-off, let’s look at how the SGDClassifier makes its classification decisions. \n",
        "\n",
        "For each instance, it computes a score based on a decision function. If\n",
        "that score is greater than a threshold, it assigns the instance to the positive class; otherwise it assigns it to the negative class.\n",
        "\n",
        "<img src='https://github.com/rahiakela/machine-learning-research-and-practice/blob/main/hands-on-machine-learning-with-scikit-learn-keras-and-tensorflow/3-classification/images/2.png?raw=1' width='800'/>\n",
        "\n",
        "Conversely, lowering the threshold increases recall and reduces precision.\n",
        "\n",
        "Scikit-Learn does not let you set the threshold directly, but it does give you access to\n",
        "the decision scores that it uses to make predictions. Instead of calling the classifier’s\n",
        "`predict()` method, you can call its `decision_function()` method, which returns a\n",
        "score for each instance, and then use any threshold you want to make predictions\n",
        "based on those scores:"
      ],
      "metadata": {
        "id": "qDh_H30Up-Mg"
      }
    },
    {
      "cell_type": "code",
      "source": [
        "y_scores = sgd_clf.decision_function(some_digit)\n",
        "y_scores"
      ],
      "metadata": {
        "id": "8b6_21TXsZLo",
        "outputId": "178eb679-e44e-4ecf-affe-9dd12c4b4864",
        "colab": {
          "base_uri": "https://localhost:8080/"
        }
      },
      "execution_count": 45,
      "outputs": [
        {
          "output_type": "execute_result",
          "data": {
            "text/plain": [
              "array([39607.23825616])"
            ]
          },
          "metadata": {},
          "execution_count": 45
        }
      ]
    },
    {
      "cell_type": "code",
      "source": [
        "threshold = 0\n",
        "y_some_digit_pred = (y_scores > threshold)\n",
        "y_some_digit_pred"
      ],
      "metadata": {
        "id": "TfUoWHNzsn-z",
        "outputId": "580473d6-11fc-47b7-cfe6-520f7b5ec26e",
        "colab": {
          "base_uri": "https://localhost:8080/"
        }
      },
      "execution_count": 46,
      "outputs": [
        {
          "output_type": "execute_result",
          "data": {
            "text/plain": [
              "array([ True])"
            ]
          },
          "metadata": {},
          "execution_count": 46
        }
      ]
    },
    {
      "cell_type": "markdown",
      "source": [
        "The SGDClassifier uses a threshold equal to 0, so the previous code returns the same result as the `predict()` method (i.e., True). \n",
        "\n",
        "Let’s raise the threshold:"
      ],
      "metadata": {
        "id": "69E9QhQQs5N5"
      }
    },
    {
      "cell_type": "code",
      "source": [
        "threshold = 3000\n",
        "y_some_digit_pred = (y_scores > threshold)\n",
        "y_some_digit_pred"
      ],
      "metadata": {
        "id": "69UrMZ9Js8Q6",
        "outputId": "c6f6a49c-82e7-45e1-8bc0-0180f388c11e",
        "colab": {
          "base_uri": "https://localhost:8080/"
        }
      },
      "execution_count": 47,
      "outputs": [
        {
          "output_type": "execute_result",
          "data": {
            "text/plain": [
              "array([ True])"
            ]
          },
          "metadata": {},
          "execution_count": 47
        }
      ]
    },
    {
      "cell_type": "markdown",
      "source": [
        "This confirms that raising the threshold decreases recall. The image actually represents\n",
        "a 5, and the classifier detects it when the threshold is 0, but it misses it when the\n",
        "threshold is increased to 40,000.\n",
        "\n",
        "How do you decide which threshold to use? \n",
        "\n",
        "First, use the `cross_val_predict()`\n",
        "function to get the scores of all instances in the training set, but this time specify that\n",
        "you want to return decision scores instead of predictions:"
      ],
      "metadata": {
        "id": "XbPvVGK8tbdF"
      }
    },
    {
      "cell_type": "code",
      "source": [
        "y_scores = cross_val_predict(sgd_clf, x_train, y_train_5, cv=3, method=\"decision_function\")"
      ],
      "metadata": {
        "id": "jUasEI36twCT"
      },
      "execution_count": 48,
      "outputs": []
    },
    {
      "cell_type": "markdown",
      "source": [
        "With these scores, use the `precision_recall_curve()` function to compute precision and recall for all possible thresholds:"
      ],
      "metadata": {
        "id": "7iF_Mh1hu1mW"
      }
    },
    {
      "cell_type": "code",
      "source": [
        "precisions, recalls, thresholds = precision_recall_curve(y_train_5, y_scores)"
      ],
      "metadata": {
        "id": "0KdrLicnu0Uj"
      },
      "execution_count": 49,
      "outputs": []
    },
    {
      "cell_type": "markdown",
      "source": [
        "Finally, use Matplotlib to plot precision and recall as functions of the threshold value:"
      ],
      "metadata": {
        "id": "EOIq8AXdvKav"
      }
    },
    {
      "cell_type": "code",
      "source": [
        "def plot_precision_recall_vs_threshold(precisions, recalls, thresholds):\n",
        "  recall_80_precision = recalls[np.argmax(precisions >= 0.80)]\n",
        "  threshold_80_precision = thresholds[np.argmax(precisions >= 0.80)]\n",
        "\n",
        "  plt.plot(thresholds, precisions[:-1], \"b--\", label=\"Precision\", linewidth=2)\n",
        "  plt.plot(thresholds, recalls[:-1], \"g-\", label=\"Recall\", linewidth=2)\n",
        "  plt.xlabel(\"Threshold\", fontsize=16)\n",
        "  plt.legend(loc=\"upper left\", fontsize=16)\n",
        "  plt.axhline(recall_80_precision, c='r', ls=':')\n",
        "  plt.axvline(threshold_80_precision, c='r', ls=':')\n",
        "  plt.ylim([0, 1])\n",
        "\n",
        "plt.figure(figsize=(8, 4))\n",
        "plot_precision_recall_vs_threshold(precisions, recalls, thresholds)\n",
        "plt.xlim([-700000, 700000])\n",
        "plt.show()"
      ],
      "metadata": {
        "id": "lkkdedV6vLTm",
        "outputId": "ecaa8d00-a1b9-4314-bf03-8231c13b5f7d",
        "colab": {
          "base_uri": "https://localhost:8080/",
          "height": 292
        }
      },
      "execution_count": 51,
      "outputs": [
        {
          "output_type": "display_data",
          "data": {
            "text/plain": [
              "<Figure size 576x288 with 1 Axes>"
            ],
            "image/png": "[encoded data removed]"
          },
          "metadata": {
            "needs_background": "light"
          }
        }
      ]
    },
    {
      "cell_type": "markdown",
      "source": [
        "Another way to select a good precision/recall trade-off is to plot precision directly against recall.\n",
        "\n",
        "Suppose you decide to aim for 90% precision. You look up the first plot and find that\n",
        "you need to use a threshold of about 8,000. To be more precise you can search for the\n",
        "lowest threshold that gives you at least 90% precision (`np.argmax()` will give you the\n",
        "first index of the maximum value, which in this case means the first True value):"
      ],
      "metadata": {
        "id": "KAj7K_ddxebV"
      }
    },
    {
      "cell_type": "code",
      "source": [
        "threshold_90_precision = thresholds[np.argmax(precisions >= 0.90)]  # ~29278\n",
        "threshold_90_precision"
      ],
      "metadata": {
        "id": "NNbFuAZux-9C",
        "outputId": "1ac539c7-ea92-4571-ebe7-197099b81888",
        "colab": {
          "base_uri": "https://localhost:8080/"
        }
      },
      "execution_count": 38,
      "outputs": [
        {
          "output_type": "execute_result",
          "data": {
            "text/plain": [
              "29278.01017140679"
            ]
          },
          "metadata": {},
          "execution_count": 38
        }
      ]
    },
    {
      "cell_type": "markdown",
      "source": [
        "To make predictions (on the training set for now), instead of calling the classifier’s `predict()` method, you can run this code:"
      ],
      "metadata": {
        "id": "JifpVMaJyUjf"
      }
    },
    {
      "cell_type": "code",
      "source": [
        "y_train_pred_90 = (y_scores >= threshold_90_precision)"
      ],
      "metadata": {
        "id": "Yax8JALryXSQ"
      },
      "execution_count": 39,
      "outputs": []
    },
    {
      "cell_type": "markdown",
      "source": [
        "Let’s check these predictions’ precision and recall:"
      ],
      "metadata": {
        "id": "-I7gBwlrygdj"
      }
    },
    {
      "cell_type": "code",
      "source": [
        "precision_score(y_train_5, y_train_pred_90)"
      ],
      "metadata": {
        "id": "MYkpf07Xyg4p",
        "outputId": "de355fb4-6e4b-4d1b-954b-5ce0629072e8",
        "colab": {
          "base_uri": "https://localhost:8080/"
        }
      },
      "execution_count": 40,
      "outputs": [
        {
          "output_type": "execute_result",
          "data": {
            "text/plain": [
              "0.9000559910414334"
            ]
          },
          "metadata": {},
          "execution_count": 40
        }
      ]
    },
    {
      "cell_type": "code",
      "source": [
        "recall_score(y_train_5, y_train_pred_90)"
      ],
      "metadata": {
        "id": "R-7WGGNByoyr",
        "outputId": "8912f61e-c1d2-4fcf-f665-b1276ea38e9f",
        "colab": {
          "base_uri": "https://localhost:8080/"
        }
      },
      "execution_count": 41,
      "outputs": [
        {
          "output_type": "execute_result",
          "data": {
            "text/plain": [
              "0.5930640103301974"
            ]
          },
          "metadata": {},
          "execution_count": 41
        }
      ]
    },
    {
      "cell_type": "markdown",
      "source": [
        "Great, you have a 90% precision classifier! \n",
        "\n",
        "As you can see, it is fairly easy to create a\n",
        "classifier with virtually any precision you want: just set a high enough threshold, and you’re done. \n",
        "\n",
        "But wait, not so fast. **A high-precision classifier is not very useful if its\n",
        "recall is too low!**\n",
        "\n",
        ">If someone says, “Let’s reach 99% precision,” you should ask, “At\n",
        "what recall?”"
      ],
      "metadata": {
        "id": "_TMiV9apz6wK"
      }
    },
    {
      "cell_type": "code",
      "source": [
        "def plot_precision_vs_recall(precisions, recalls):\n",
        "  recall_50_precision = recalls[np.argmax(precisions >= 0.50)]\n",
        "  threshold_90_precision = thresholds[np.argmax(precisions >= 0.90)]\n",
        "  plt.plot(recalls, precisions, \"b-\", linewidth=2)\n",
        "  plt.xlabel(\"Recall\", fontsize=16)\n",
        "  plt.ylabel(\"Precision\", fontsize=16)\n",
        "  plt.axvline(threshold_90_precision, c='r', ls=':')\n",
        "  plt.axhline(recall_50_precision, c='r', ls=':')\n",
        "  plt.axis([0, 1, 0, 1])\n",
        "\n",
        "plt.figure(figsize=(8, 6))\n",
        "plot_precision_vs_recall(precisions, recalls)\n",
        "plt.show()"
      ],
      "metadata": {
        "id": "p1MuhYpf0o0P",
        "outputId": "e24fcaa8-5759-48af-8855-732c85e27095",
        "colab": {
          "base_uri": "https://localhost:8080/",
          "height": 401
        }
      },
      "execution_count": 53,
      "outputs": [
        {
          "output_type": "display_data",
          "data": {
            "text/plain": [
              "<Figure size 576x432 with 1 Axes>"
            ],
            "image/png": "[encoded data removed]"
          },
          "metadata": {
            "needs_background": "light"
          }
        }
      ]
    },
    {
      "cell_type": "markdown",
      "source": [
        "You can see that precision really starts to fall sharply around 80% recall. You will\n",
        "probably want to select a precision/recall trade-off just before that drop—for example,\n",
        "at around 60% recall. But of course, the choice depends on your project."
      ],
      "metadata": {
        "id": "dY3PoIaz02Cd"
      }
    },
    {
      "cell_type": "code",
      "source": [
        "idx_for_90_precision = (precisions >= 0.90).argmax()\n",
        "threshold_for_90_precision = thresholds[idx_for_90_precision]\n",
        "threshold_for_90_precision"
      ],
      "metadata": {
        "id": "0N5Riatfyqtp",
        "outputId": "db907d1b-cbd5-42eb-b5b5-4ae748ac071d",
        "colab": {
          "base_uri": "https://localhost:8080/"
        }
      },
      "execution_count": 54,
      "outputs": [
        {
          "output_type": "execute_result",
          "data": {
            "text/plain": [
              "29278.01017140679"
            ]
          },
          "metadata": {},
          "execution_count": 54
        }
      ]
    },
    {
      "cell_type": "code",
      "source": [
        "y_train_pred_90 = (y_scores >= threshold_for_90_precision)"
      ],
      "metadata": {
        "id": "TTxVRad2ytRP"
      },
      "execution_count": 55,
      "outputs": []
    },
    {
      "cell_type": "code",
      "source": [
        "precision_score(y_train_5, y_train_pred_90)"
      ],
      "metadata": {
        "id": "cKfaKi0jyvhR",
        "outputId": "e6518a57-60f8-433c-870f-886e23cb140e",
        "colab": {
          "base_uri": "https://localhost:8080/"
        }
      },
      "execution_count": 56,
      "outputs": [
        {
          "output_type": "execute_result",
          "data": {
            "text/plain": [
              "0.9000559910414334"
            ]
          },
          "metadata": {},
          "execution_count": 56
        }
      ]
    },
    {
      "cell_type": "code",
      "source": [
        "recall_at_90_precision = recall_score(y_train_5, y_train_pred_90)\n",
        "recall_at_90_precision"
      ],
      "metadata": {
        "id": "kxO5OjLnyx2i",
        "outputId": "5a2f8597-42c6-47c4-9bbd-5dafb8c80a4c",
        "colab": {
          "base_uri": "https://localhost:8080/"
        }
      },
      "execution_count": 57,
      "outputs": [
        {
          "output_type": "execute_result",
          "data": {
            "text/plain": [
              "0.5930640103301974"
            ]
          },
          "metadata": {},
          "execution_count": 57
        }
      ]
    },
    {
      "cell_type": "markdown",
      "source": [
        "###The ROC Curve"
      ],
      "metadata": {
        "id": "Klc2s2SN035i"
      }
    },
    {
      "cell_type": "markdown",
      "source": [
        "The receiver operating characteristic (ROC) curve is another common tool used with\n",
        "binary classifiers. It is very similar to the precision/recall curve, but instead of plotting\n",
        "precision versus recall, the ROC curve plots the true positive rate (another name\n",
        "for recall) against the false positive rate (FPR).\n",
        "\n",
        "The FPR is the ratio of negative instances\n",
        "that are incorrectly classified as positive. It is equal to 1 – the true negative rate\n",
        "(TNR), which is the ratio of negative instances that are correctly classified as negative.\n",
        "The TNR is also called specificity. Hence, the ROC curve plots sensitivity (recall) versus\n",
        "1 – specificity.\n",
        "\n",
        "To plot the ROC curve, you first use the roc_curve() function to compute the TPR\n",
        "and FPR for various threshold values:"
      ],
      "metadata": {
        "id": "do2HECwB06r4"
      }
    },
    {
      "cell_type": "code",
      "source": [
        "fpr, tpr, thresholds = roc_curve(y_train_5, y_scores)"
      ],
      "metadata": {
        "id": "k43r_pjBcqhL"
      },
      "execution_count": 58,
      "outputs": []
    },
    {
      "cell_type": "markdown",
      "source": [
        "Then you can plot the FPR against the TPR using Matplotlib."
      ],
      "metadata": {
        "id": "Hmfh5rp9c45-"
      }
    },
    {
      "cell_type": "code",
      "source": [
        "idx_for_threshold_at_90 = (thresholds <= threshold_for_90_precision).argmax()\n",
        "tpr_90, fpr_90 = tpr[idx_for_threshold_at_90], fpr[idx_for_threshold_at_90]\n",
        "\n",
        "def plot_roc_curve(fpr, tpr, label=None):\n",
        "    plt.plot(fpr, tpr, linewidth=2, label=label)\n",
        "    plt.plot([0, 1], [0, 1], 'k:', label=\"Random classifier's ROC curve\")\n",
        "    plt.plot([fpr_90], [tpr_90], \"ko\", label=\"Threshold for 90% precision\")\n",
        "    plt.gca().add_patch(patches.FancyArrowPatch((0.20, 0.89), (0.07, 0.70), \n",
        "                                                connectionstyle=\"arc3,rad=.4\",\n",
        "                                                arrowstyle=\"Simple, tail_width=1.5, head_width=8, head_length=10\",\n",
        "                                                color=\"#444444\"))\n",
        "    plt.text(0.12, 0.71, \"Higher\\nthreshold\", color=\"#333333\")\n",
        "    plt.xlabel('Recall', fontsize=16)\n",
        "    plt.ylabel('Precision', fontsize=16)\n",
        "    plt.axis([0, 1, 0, 1])\n",
        "    plt.grid()\n",
        "    plt.legend(loc=\"lower left\")\n",
        "\n",
        "plt.figure(figsize=(8, 6))\n",
        "plot_roc_curve(fpr, tpr, label=\"ROC curve\")\n",
        "plt.show()"
      ],
      "metadata": {
        "id": "u_Ry7tJEc23s",
        "outputId": "8ddad734-6a6a-460c-9e80-b52b0064384e",
        "colab": {
          "base_uri": "https://localhost:8080/",
          "height": 401
        }
      },
      "execution_count": 62,
      "outputs": [
        {
          "output_type": "display_data",
          "data": {
            "text/plain": [
              "<Figure size 576x432 with 1 Axes>"
            ],
            "image/png": "[encoded data removed]"
          },
          "metadata": {
            "needs_background": "light"
          }
        }
      ]
    },
    {
      "cell_type": "markdown",
      "source": [
        "Once again there is a trade-off: the higher the recall (TPR), the more false positives\n",
        "(FPR) the classifier produces. The dotted line represents the ROC curve of a purely\n",
        "random classifier; a good classifier stays as far away from that line as possible (toward\n",
        "the top-left corner).\n",
        "\n",
        "One way to compare classifiers is to measure the area under the curve (AUC). A perfect\n",
        "classifier will have a ROC AUC equal to 1, whereas a purely random classifier will\n",
        "have a ROC AUC equal to 0.5."
      ],
      "metadata": {
        "id": "dUScpTFCeD0S"
      }
    },
    {
      "cell_type": "code",
      "source": [
        "roc_auc_score(y_train_5, y_scores)"
      ],
      "metadata": {
        "id": "ouz9PyMheVSN",
        "outputId": "3258b557-15a9-4122-98ca-7585be8ea523",
        "colab": {
          "base_uri": "https://localhost:8080/"
        }
      },
      "execution_count": 63,
      "outputs": [
        {
          "output_type": "execute_result",
          "data": {
            "text/plain": [
              "0.9598058535696421"
            ]
          },
          "metadata": {},
          "execution_count": 63
        }
      ]
    },
    {
      "cell_type": "markdown",
      "source": [
        ">As a rule\n",
        "of thumb, you should prefer the PR curve whenever the positive\n",
        "class is rare or when you care more about the false positives than\n",
        "the false negatives. Otherwise, use the ROC curve.\n",
        "\n",
        "Let’s now train a RandomForestClassifier and compare its ROC curve and ROC\n",
        "AUC score to those of the SGDClassifier.\n",
        "\n"
      ],
      "metadata": {
        "id": "Ad5qWPsqelsa"
      }
    },
    {
      "cell_type": "code",
      "source": [
        "forest_clf = RandomForestClassifier(random_state=42)\n",
        "\n",
        "# predict_proba() method returns an array containing a row per instance and a column per class, \n",
        "# each containing the probability that the given instance belongs to the given class\n",
        "y_probs_forest = cross_val_predict(forest_clf, x_train, y_train_5, cv=3, method=\"predict_proba\")"
      ],
      "metadata": {
        "id": "VHug097IewZV"
      },
      "execution_count": 64,
      "outputs": []
    },
    {
      "cell_type": "code",
      "source": [
        "y_probs_forest[:2]"
      ],
      "metadata": {
        "id": "A33DVJWtKmib",
        "outputId": "cec1c771-bf71-4718-d337-0290d8e34c37",
        "colab": {
          "base_uri": "https://localhost:8080/"
        }
      },
      "execution_count": 65,
      "outputs": [
        {
          "output_type": "execute_result",
          "data": {
            "text/plain": [
              "array([[0.98, 0.02],\n",
              "       [0.96, 0.04]])"
            ]
          },
          "metadata": {},
          "execution_count": 65
        }
      ]
    },
    {
      "cell_type": "markdown",
      "source": [
        "The `roc_curve()` function expects labels and scores, but instead of scores you can give it class probabilities. \n",
        "\n",
        "Let’s use the positive class’s probability as the score:"
      ],
      "metadata": {
        "id": "jCbuH0Tdfej4"
      }
    },
    {
      "cell_type": "code",
      "source": [
        "y_scores_forest = y_probs_forest[:, 1]  # score = probability of positive class\n",
        "fpr_forest, tpr_forest, thresholds_forest = roc_curve(y_train_5, y_scores_forest)"
      ],
      "metadata": {
        "id": "0RhVswP4fXvW"
      },
      "execution_count": 66,
      "outputs": []
    },
    {
      "cell_type": "markdown",
      "source": [
        "Now you are ready to plot the ROC curve. It is useful to plot the first ROC curve as\n",
        "well to see how they compare."
      ],
      "metadata": {
        "id": "903R8C_Gf4nC"
      }
    },
    {
      "cell_type": "code",
      "source": [
        "plt.figure(figsize=(8, 6))\n",
        "plt.plot(fpr, tpr, \"b:\", linewidth=2, label=\"SGD\")\n",
        "plot_roc_curve(fpr_forest, tpr_forest, \"Random Forest\")\n",
        "plt.legend(loc=\"lower right\", fontsize=16)\n",
        "plt.show()"
      ],
      "metadata": {
        "id": "3G205fyuf5Ry",
        "outputId": "8f42f7e2-6f55-410e-d4b3-ddc201e9fea6",
        "colab": {
          "base_uri": "https://localhost:8080/",
          "height": 401
        }
      },
      "execution_count": 67,
      "outputs": [
        {
          "output_type": "display_data",
          "data": {
            "text/plain": [
              "<Figure size 576x432 with 1 Axes>"
            ],
            "image/png": "[encoded data removed]"
          },
          "metadata": {
            "needs_background": "light"
          }
        }
      ]
    },
    {
      "cell_type": "markdown",
      "source": [
        "As you can see, the RandomForestClassifier’s ROC curve looks much\n",
        "better than the SGDClassifier’s: it comes much closer to the top-left corner. \n",
        "\n",
        "As a result, its ROC AUC score is also significantly better:"
      ],
      "metadata": {
        "id": "Pn3lNT6ogNBG"
      }
    },
    {
      "cell_type": "code",
      "source": [
        "roc_auc_score(y_train_5, y_scores_forest)"
      ],
      "metadata": {
        "id": "rZI7J9FkgRqP",
        "outputId": "93825124-aa1f-4791-e74c-94b54f7bb899",
        "colab": {
          "base_uri": "https://localhost:8080/"
        }
      },
      "execution_count": 68,
      "outputs": [
        {
          "output_type": "execute_result",
          "data": {
            "text/plain": [
              "0.9983631764491033"
            ]
          },
          "metadata": {},
          "execution_count": 68
        }
      ]
    },
    {
      "cell_type": "markdown",
      "source": [
        "Try measuring the precision and recall scores: you should find 99.0% precision and\n",
        "86.6% recall. Not too bad!"
      ],
      "metadata": {
        "id": "HxSfK_2YgkGA"
      }
    },
    {
      "cell_type": "code",
      "source": [
        "y_train_pred_forest = cross_val_predict(forest_clf, x_train, y_train_5, cv=3)\n",
        "precision_score(y_train_5, y_train_pred_forest)"
      ],
      "metadata": {
        "id": "V8W-HJwXgkN_",
        "outputId": "235b9183-b75e-4422-885d-c5fb536b3af1",
        "colab": {
          "base_uri": "https://localhost:8080/"
        }
      },
      "execution_count": 69,
      "outputs": [
        {
          "output_type": "execute_result",
          "data": {
            "text/plain": [
              "0.9890893831305078"
            ]
          },
          "metadata": {},
          "execution_count": 69
        }
      ]
    },
    {
      "cell_type": "code",
      "source": [
        "recall_score(y_train_5, y_train_pred_forest)"
      ],
      "metadata": {
        "id": "WORLnshYguVT",
        "outputId": "fe559b3e-681d-414f-c9e2-68854fefc25a",
        "colab": {
          "base_uri": "https://localhost:8080/"
        }
      },
      "execution_count": 70,
      "outputs": [
        {
          "output_type": "execute_result",
          "data": {
            "text/plain": [
              "0.8695812580704667"
            ]
          },
          "metadata": {},
          "execution_count": 70
        }
      ]
    },
    {
      "cell_type": "markdown",
      "source": [
        "You now know how to train binary classifiers, choose the appropriate metric for your\n",
        "task, evaluate your classifiers using cross-validation, select the precision/recall tradeoff\n",
        "that fits your needs, and use ROC curves and ROC AUC scores to compare various\n",
        "models."
      ],
      "metadata": {
        "id": "zPX-1IWdg4bx"
      }
    },
    {
      "cell_type": "markdown",
      "source": [
        "##Multiclass Classification"
      ],
      "metadata": {
        "id": "VJnWbafRg7DP"
      }
    },
    {
      "cell_type": "markdown",
      "source": [
        "Whereas binary classifiers distinguish between two classes, multiclass classifiers (also\n",
        "called multinomial classifiers) can distinguish between more than two classes.\n",
        "\n",
        "Some algorithms are capable of handling multiple classes natively:\n",
        "- SGD classifiers, \n",
        "- Random Forest classifiers, \n",
        "- naive Bayes classifiers\n",
        "\n",
        "And others are strictly binary classifiers:\n",
        "- Logistic Regression \n",
        "- Support Vector Machine classifiers\n",
        "\n",
        "However, there are various strategies that you can use to perform multiclass classification with multiple binary classifiers like:\n",
        "\n",
        "- one-versus-the-rest (OvR) strategy\n",
        "- one-versus-one (OvO) strategy\n",
        "\n",
        "Scikit-Learn detects when you try to use a binary classification algorithm for a multiclass\n",
        "classification task, and it automatically runs OvR or OvO, depending on the\n",
        "algorithm.\n",
        "\n",
        "Let’s try this with a Support Vector Machine classifier.\n",
        "\n"
      ],
      "metadata": {
        "id": "43_MXPIxg7uj"
      }
    },
    {
      "cell_type": "code",
      "source": [
        "svm_clf = SVC()\n",
        "svm_clf.fit(x_train, y_train)\n",
        "svm_clf.predict(some_digit)"
      ],
      "metadata": {
        "id": "MPkkfxZMgCbF",
        "outputId": "e1d44c54-3847-4bfa-f15e-42358b9fc84d",
        "colab": {
          "base_uri": "https://localhost:8080/"
        }
      },
      "execution_count": null,
      "outputs": [
        {
          "output_type": "execute_result",
          "data": {
            "text/plain": [
              "array([5], dtype=uint8)"
            ]
          },
          "metadata": {},
          "execution_count": 50
        }
      ]
    },
    {
      "cell_type": "markdown",
      "source": [
        "Under the hood, Scikit-Learn actually used the OvO strategy.\n",
        "\n",
        "If you call the `decision_function()` method, you will see that it returns 10 scores\n",
        "per instance (instead of just 1). That’s one score per class:"
      ],
      "metadata": {
        "id": "WURr8kPihQb1"
      }
    },
    {
      "cell_type": "code",
      "source": [
        "some_digit_scores = svm_clf.decision_function(some_digit)\n",
        "some_digit_scores"
      ],
      "metadata": {
        "id": "n0Drya4hhW-U",
        "outputId": "a6adc4a6-1e3b-4f45-faa7-92e3d1bfdfae",
        "colab": {
          "base_uri": "https://localhost:8080/"
        }
      },
      "execution_count": null,
      "outputs": [
        {
          "output_type": "execute_result",
          "data": {
            "text/plain": [
              "array([[ 1.7250158 ,  2.72809768,  7.25100028,  8.30763744, -0.3108725 ,\n",
              "         9.31324842,  1.70975212,  2.76765879,  6.2304864 ,  4.84768564]])"
            ]
          },
          "metadata": {},
          "execution_count": 51
        }
      ]
    },
    {
      "cell_type": "markdown",
      "source": [
        "The highest score is indeed the one corresponding to class 5:"
      ],
      "metadata": {
        "id": "3VmSbofPhizV"
      }
    },
    {
      "cell_type": "code",
      "source": [
        "np.argmax(some_digit_scores)"
      ],
      "metadata": {
        "id": "ouo0l63zhjUc",
        "outputId": "9753a593-c4f5-447f-c1ec-bc57db44b227",
        "colab": {
          "base_uri": "https://localhost:8080/"
        }
      },
      "execution_count": null,
      "outputs": [
        {
          "output_type": "execute_result",
          "data": {
            "text/plain": [
              "5"
            ]
          },
          "metadata": {},
          "execution_count": 52
        }
      ]
    },
    {
      "cell_type": "code",
      "source": [
        "svm_clf.classes_"
      ],
      "metadata": {
        "id": "0hu7sAXDhm6l",
        "outputId": "3e569ef0-b673-40de-f4f7-4c5c8f5696d8",
        "colab": {
          "base_uri": "https://localhost:8080/"
        }
      },
      "execution_count": null,
      "outputs": [
        {
          "output_type": "execute_result",
          "data": {
            "text/plain": [
              "array([0, 1, 2, 3, 4, 5, 6, 7, 8, 9], dtype=uint8)"
            ]
          },
          "metadata": {},
          "execution_count": 53
        }
      ]
    },
    {
      "cell_type": "code",
      "source": [
        "svm_clf.classes_[5]"
      ],
      "metadata": {
        "id": "kmoDNN4Yhr6K",
        "outputId": "19928e89-505c-4c27-ad03-967da76e805d",
        "colab": {
          "base_uri": "https://localhost:8080/"
        }
      },
      "execution_count": null,
      "outputs": [
        {
          "output_type": "execute_result",
          "data": {
            "text/plain": [
              "5"
            ]
          },
          "metadata": {},
          "execution_count": 54
        }
      ]
    },
    {
      "cell_type": "markdown",
      "source": [
        "If you want to force Scikit-Learn to use one-versus-one or one-versus-the-rest, you can use the `OneVsOneClassifier` or `OneVsRestClassifier` classes.\n",
        "\n",
        "For example, this code creates a multiclass classifier using the OvR strategy,\n",
        "based on an SVC:"
      ],
      "metadata": {
        "id": "lqLfESKih5QQ"
      }
    },
    {
      "cell_type": "code",
      "source": [
        "# ovr_clf = OneVsRestClassifier(SVC())\n",
        "# ovr_clf.fit(x_train, y_train)"
      ],
      "metadata": {
        "id": "THKxv78Ch8oz"
      },
      "execution_count": null,
      "outputs": []
    },
    {
      "cell_type": "code",
      "source": [
        "# ovr_clf.predict(some_digit)"
      ],
      "metadata": {
        "id": "2KmkbFGbiV4r"
      },
      "execution_count": null,
      "outputs": []
    },
    {
      "cell_type": "code",
      "source": [
        "# len(ovr_clf.estimators_)"
      ],
      "metadata": {
        "id": "7rdbE_V1ibcj"
      },
      "execution_count": null,
      "outputs": []
    },
    {
      "cell_type": "markdown",
      "source": [
        "Training an SGDClassifier (or a RandomForestClassifier) is just as easy:"
      ],
      "metadata": {
        "id": "ZpzGxqhnjOZn"
      }
    },
    {
      "cell_type": "code",
      "source": [
        "ovo_clf = OneVsOneClassifier(SGDClassifier(max_iter=5, tol=-np.infty, random_state=42))\n",
        "ovo_clf.fit(x_train, y_train)\n",
        "ovo_clf.predict(some_digit)"
      ],
      "metadata": {
        "id": "DbfhPv7fjO7k",
        "outputId": "466b6c5e-e285-4382-8a81-582a6878ba4e",
        "colab": {
          "base_uri": "https://localhost:8080/"
        }
      },
      "execution_count": null,
      "outputs": [
        {
          "output_type": "execute_result",
          "data": {
            "text/plain": [
              "array([5], dtype=uint8)"
            ]
          },
          "metadata": {},
          "execution_count": 59
        }
      ]
    },
    {
      "cell_type": "code",
      "source": [
        "len(ovo_clf.estimators_)"
      ],
      "metadata": {
        "id": "3tqNHP9IjT9e",
        "outputId": "449d0223-d13e-4d30-b87c-c62c48e16bbc",
        "colab": {
          "base_uri": "https://localhost:8080/"
        }
      },
      "execution_count": null,
      "outputs": [
        {
          "output_type": "execute_result",
          "data": {
            "text/plain": [
              "45"
            ]
          },
          "metadata": {},
          "execution_count": 60
        }
      ]
    },
    {
      "cell_type": "code",
      "source": [
        "ovr_f_clf = OneVsRestClassifier(RandomForestClassifier(random_state=42))\n",
        "ovr_f_clf.fit(x_train, y_train)\n",
        "ovr_f_clf.predict(some_digit)"
      ],
      "metadata": {
        "id": "fgUNuCFGjW9k",
        "outputId": "27d36f00-3874-48fa-8ec1-774805f54ce7",
        "colab": {
          "base_uri": "https://localhost:8080/"
        }
      },
      "execution_count": null,
      "outputs": [
        {
          "output_type": "execute_result",
          "data": {
            "text/plain": [
              "array([5], dtype=uint8)"
            ]
          },
          "metadata": {},
          "execution_count": 61
        }
      ]
    },
    {
      "cell_type": "code",
      "source": [
        "ovr_f_clf.predict_proba(some_digit)"
      ],
      "metadata": {
        "id": "6tVXEqtIj5v0",
        "outputId": "067a25a8-c5d9-4d70-b52c-29657509b581",
        "colab": {
          "base_uri": "https://localhost:8080/"
        }
      },
      "execution_count": null,
      "outputs": [
        {
          "output_type": "execute_result",
          "data": {
            "text/plain": [
              "array([[0.        , 0.        , 0.        , 0.11818182, 0.        ,\n",
              "        0.85454545, 0.        , 0.        , 0.01818182, 0.00909091]])"
            ]
          },
          "metadata": {},
          "execution_count": 62
        }
      ]
    },
    {
      "cell_type": "markdown",
      "source": [
        "This time Scikit-Learn did not have to run OvR or OvO because SGD classifiers can\n",
        "directly classify instances into multiple classes. The `decision_function()` method\n",
        "now returns one value per class."
      ],
      "metadata": {
        "id": "tQga1lt4kMEd"
      }
    },
    {
      "cell_type": "code",
      "source": [
        "ovo_clf.decision_function(some_digit)"
      ],
      "metadata": {
        "id": "OoaDG0g1kRdZ",
        "outputId": "a234c2af-6647-423c-b39d-9e6484d7fde8",
        "colab": {
          "base_uri": "https://localhost:8080/"
        }
      },
      "execution_count": null,
      "outputs": [
        {
          "output_type": "execute_result",
          "data": {
            "text/plain": [
              "array([[2.66666672, 3.66666675, 6.3333332 , 8.33333331, 0.66666669,\n",
              "        9.33333331, 0.6666667 , 2.6666668 , 5.3333326 , 5.33333292]])"
            ]
          },
          "metadata": {},
          "execution_count": 63
        }
      ]
    },
    {
      "cell_type": "markdown",
      "source": [
        "Now of course you want to evaluate this\n",
        "classifier. As usual, you can use cross-validation. \n",
        "\n",
        "Use the `cross_val_score()` function\n",
        "to evaluate the SGDClassifier’s accuracy:"
      ],
      "metadata": {
        "id": "hfkdWvYTkdyJ"
      }
    },
    {
      "cell_type": "code",
      "source": [
        "cross_val_score(ovo_clf, x_train, y_train, cv=3, scoring=\"accuracy\")"
      ],
      "metadata": {
        "id": "pRfbQqVsj-7m",
        "outputId": "1c25fd43-b4b1-4f4c-e95e-0e8f36bf81c6",
        "colab": {
          "base_uri": "https://localhost:8080/"
        }
      },
      "execution_count": null,
      "outputs": [
        {
          "output_type": "execute_result",
          "data": {
            "text/plain": [
              "array([0.9082 , 0.91725, 0.9099 ])"
            ]
          },
          "metadata": {},
          "execution_count": 64
        }
      ]
    },
    {
      "cell_type": "markdown",
      "source": [
        "It gets over 84% on all test folds. If you used a random classifier, you would get 10%\n",
        "accuracy, so this is not such a bad score, but you can still do much better."
      ],
      "metadata": {
        "id": "45RgCg9XksN9"
      }
    },
    {
      "cell_type": "code",
      "source": [
        "cross_val_score(ovr_f_clf, x_train, y_train, cv=3, scoring=\"accuracy\")"
      ],
      "metadata": {
        "id": "_qG0lleSkvKx",
        "outputId": "0a2ead01-4ded-4c0a-89bc-e3f9e1bcbd90",
        "colab": {
          "base_uri": "https://localhost:8080/"
        }
      },
      "execution_count": null,
      "outputs": [
        {
          "output_type": "execute_result",
          "data": {
            "text/plain": [
              "array([0.9644, 0.9644, 0.9634])"
            ]
          },
          "metadata": {},
          "execution_count": 65
        }
      ]
    },
    {
      "cell_type": "markdown",
      "source": [
        "Simply scaling the inputs increases accuracy above 89%:"
      ],
      "metadata": {
        "id": "Kp_QJY0FkvYp"
      }
    },
    {
      "cell_type": "code",
      "source": [
        "scaler = StandardScaler()\n",
        "x_train_scaled = scaler.fit_transform(x_train.astype(np.float64))"
      ],
      "metadata": {
        "id": "7xzffgBRkxuK"
      },
      "execution_count": null,
      "outputs": []
    },
    {
      "cell_type": "code",
      "source": [
        "cross_val_score(ovo_clf, x_train_scaled, y_train, cv=3, scoring=\"accuracy\")"
      ],
      "metadata": {
        "id": "QTRTnkM1lNSl",
        "outputId": "75ecd1a7-7315-4db6-d2f7-e3b2ea325112",
        "colab": {
          "base_uri": "https://localhost:8080/"
        }
      },
      "execution_count": null,
      "outputs": [
        {
          "output_type": "execute_result",
          "data": {
            "text/plain": [
              "array([0.9158 , 0.91395, 0.918  ])"
            ]
          },
          "metadata": {},
          "execution_count": 67
        }
      ]
    },
    {
      "cell_type": "markdown",
      "source": [
        "##Error Analysis"
      ],
      "metadata": {
        "id": "4AYMEYAXlUPN"
      }
    },
    {
      "cell_type": "markdown",
      "source": [],
      "metadata": {
        "id": "6xetqx1_lV5-"
      }
    }
  ]
}