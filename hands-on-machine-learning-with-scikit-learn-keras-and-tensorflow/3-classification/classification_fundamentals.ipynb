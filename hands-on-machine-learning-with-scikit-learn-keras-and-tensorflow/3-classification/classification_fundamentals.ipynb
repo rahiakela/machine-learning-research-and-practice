{
  "nbformat": 4,
  "nbformat_minor": 0,
  "metadata": {
    "colab": {
      "name": "classification-fundamentals.ipynb",
      "provenance": [],
      "toc_visible": true,
      "authorship_tag": "ABX9TyMkrGi6s7+Ab3My3WLSaUAw",
      "include_colab_link": true
    },
    "kernelspec": {
      "name": "python3",
      "display_name": "Python 3"
    },
    "language_info": {
      "name": "python"
    }
  },
  "cells": [
    {
      "cell_type": "markdown",
      "metadata": {
        "id": "view-in-github",
        "colab_type": "text"
      },
      "source": [
        "<a href=\"https://colab.research.google.com/github/rahiakela/machine-learning-research-and-practice/blob/main/hands-on-machine-learning-with-scikit-learn-keras-and-tensorflow/3-classification/classification_fundamentals.ipynb\" target=\"_parent\"><img src=\"https://colab.research.google.com/assets/colab-badge.svg\" alt=\"Open In Colab\"/></a>"
      ]
    },
    {
      "cell_type": "markdown",
      "source": [
        "##Classification Fundamentals"
      ],
      "metadata": {
        "id": "BdG7yOh8mM1m"
      }
    },
    {
      "cell_type": "markdown",
      "source": [
        "##Setup"
      ],
      "metadata": {
        "id": "WQyRPxgLnb5G"
      }
    },
    {
      "cell_type": "code",
      "source": [
        "# Common imports\n",
        "import numpy as np\n",
        "import os\n",
        "\n",
        "from sklearn.datasets import fetch_openml\n",
        "from sklearn.linear_model import SGDClassifier\n",
        "from sklearn.model_selection import cross_val_score, StratifiedKFold, cross_val_predict\n",
        "from sklearn.base import clone, BaseEstimator\n",
        "from sklearn.metrics import confusion_matrix, precision_score, recall_score, precision_recall_curve, roc_curve, roc_auc_score\n",
        "\n",
        "from sklearn.ensemble import RandomForestClassifier\n",
        "from sklearn.multiclass import OneVsOneClassifier\n",
        "from sklearn.preprocessing import StandardScaler\n",
        "from sklearn.neighbors import KNeighborsClassifier\n",
        "from sklearn.dummy import DummyClassifier\n",
        "\n",
        "# to make this notebook's output stable across runs\n",
        "np.random.seed(42)\n",
        "\n",
        "# To plot pretty figures\n",
        "%matplotlib inline\n",
        "import matplotlib as mpl\n",
        "import matplotlib.pyplot as plt\n",
        "mpl.rc('axes', labelsize=14)\n",
        "mpl.rc('xtick', labelsize=12)\n",
        "mpl.rc('ytick', labelsize=12)\n",
        "\n",
        "# Where to save the figures\n",
        "PROJECT_ROOT_DIR = \".\"\n",
        "CHAPTER_ID = \"classification\"\n",
        "IMAGES_PATH = os.path.join(PROJECT_ROOT_DIR, \"images\", CHAPTER_ID)\n",
        "os.makedirs(IMAGES_PATH, exist_ok=True)"
      ],
      "metadata": {
        "id": "_AgnAQ1ancF5"
      },
      "execution_count": 57,
      "outputs": []
    },
    {
      "cell_type": "code",
      "source": [
        "def plot_digit(data):\n",
        "  image = data.reshape(28, 28)\n",
        "  plt.imshow(image, cmap = mpl.cm.binary, interpolation=\"nearest\")\n",
        "  plt.axis(\"off\")\n",
        "\n",
        "def plot_digits(instances, images_per_row=10, **options):\n",
        "  size = 28\n",
        "  images_per_row = min(len(instances), images_per_row)\n",
        "  images = [instance.reshape(size,size) for instance in instances]\n",
        "  n_rows = (len(instances) - 1) // images_per_row + 1\n",
        "  row_images = []\n",
        "  n_empty = n_rows * images_per_row - len(instances)\n",
        "  images.append(np.zeros((size, size * n_empty)))\n",
        "  for row in range(n_rows):\n",
        "      rimages = images[row * images_per_row : (row + 1) * images_per_row]\n",
        "      row_images.append(np.concatenate(rimages, axis=1))\n",
        "  image = np.concatenate(row_images, axis=0)\n",
        "  plt.imshow(image, cmap = mpl.cm.binary, **options)\n",
        "  plt.axis(\"off\")"
      ],
      "metadata": {
        "id": "OB5FcZlfqnVA"
      },
      "execution_count": 21,
      "outputs": []
    },
    {
      "cell_type": "markdown",
      "source": [
        "##MNIST Dataset"
      ],
      "metadata": {
        "id": "QpAo-TuhnotB"
      }
    },
    {
      "cell_type": "markdown",
      "source": [
        "Scikit-Learn provides many helper functions to download popular datasets. MNIST is\n",
        "one of them."
      ],
      "metadata": {
        "id": "5RdFsGx3nqrL"
      }
    },
    {
      "cell_type": "code",
      "source": [
        "mnist = fetch_openml(\"mnist_784\", version=1, cache=True, as_frame=False)\n",
        "mnist.keys()"
      ],
      "metadata": {
        "id": "cTJMQIk3n_0C",
        "outputId": "7eecc73e-5d88-487e-ee80-3fc7266ee19e",
        "colab": {
          "base_uri": "https://localhost:8080/"
        }
      },
      "execution_count": 13,
      "outputs": [
        {
          "output_type": "execute_result",
          "data": {
            "text/plain": [
              "dict_keys(['data', 'target', 'frame', 'categories', 'feature_names', 'target_names', 'DESCR', 'details', 'url'])"
            ]
          },
          "metadata": {},
          "execution_count": 13
        }
      ]
    },
    {
      "cell_type": "code",
      "source": [
        "X, y = mnist[\"data\"], mnist[\"target\"]\n",
        "X.shape, y.shape"
      ],
      "metadata": {
        "id": "MG5hI-0HoVCo",
        "outputId": "51b0eb8d-f563-4f42-cb38-24da4cc7d312",
        "colab": {
          "base_uri": "https://localhost:8080/"
        }
      },
      "execution_count": 14,
      "outputs": [
        {
          "output_type": "execute_result",
          "data": {
            "text/plain": [
              "((70000, 784), (70000,))"
            ]
          },
          "metadata": {},
          "execution_count": 14
        }
      ]
    },
    {
      "cell_type": "markdown",
      "source": [
        "Let’s take a peek at one digit from the dataset. All you need to\n",
        "do is grab an instance’s feature vector, reshape it to a 28 × 28 array, and display it."
      ],
      "metadata": {
        "id": "T1lYg6BUoq4_"
      }
    },
    {
      "cell_type": "code",
      "source": [
        "some_digit = X[:1]\n",
        "some_digit_image = some_digit.reshape(28, 28)\n",
        "\n",
        "plt.imshow(some_digit_image, cmap=\"binary\")\n",
        "plt.axis(\"off\")\n",
        "plt.show()"
      ],
      "metadata": {
        "id": "NuZpLXA0orjJ",
        "outputId": "c0c06b07-7974-439e-8e3e-3a7ff6146df8",
        "colab": {
          "base_uri": "https://localhost:8080/",
          "height": 248
        }
      },
      "execution_count": 17,
      "outputs": [
        {
          "output_type": "display_data",
          "data": {
            "image/png": "[encoded data removed]",
            "text/plain": [
              "<Figure size 432x288 with 1 Axes>"
            ]
          },
          "metadata": {
            "needs_background": "light"
          }
        }
      ]
    },
    {
      "cell_type": "markdown",
      "source": [
        "This looks like a 5, and indeed that’s what the label tells us:"
      ],
      "metadata": {
        "id": "GW7ghynLqP62"
      }
    },
    {
      "cell_type": "code",
      "source": [
        "y[0]"
      ],
      "metadata": {
        "id": "kqRvN1I7qQfB",
        "outputId": "daaa046b-70bf-4bdf-8c75-8fdbee3b2a03",
        "colab": {
          "base_uri": "https://localhost:8080/",
          "height": 35
        }
      },
      "execution_count": 18,
      "outputs": [
        {
          "output_type": "execute_result",
          "data": {
            "application/vnd.google.colaboratory.intrinsic+json": {
              "type": "string"
            },
            "text/plain": [
              "'5'"
            ]
          },
          "metadata": {},
          "execution_count": 18
        }
      ]
    },
    {
      "cell_type": "markdown",
      "source": [
        "Note that the label is a string.so let’s cast y to\n",
        "integer:"
      ],
      "metadata": {
        "id": "DskYx4usqUAi"
      }
    },
    {
      "cell_type": "code",
      "source": [
        "y = y.astype(np.uint8)"
      ],
      "metadata": {
        "id": "mxaDapwIqWas"
      },
      "execution_count": 20,
      "outputs": []
    },
    {
      "cell_type": "markdown",
      "source": [
        "Now, let's shows a few\n",
        "more images from the MNIST dataset."
      ],
      "metadata": {
        "id": "rAKPkr7Yq8NT"
      }
    },
    {
      "cell_type": "code",
      "source": [
        "plt.figure(figsize=(9, 9))\n",
        "example_images = np.r_[X[:12000:600], X[13000:600], X[30600:60000:590]]\n",
        "plot_digits(example_images, images_per_row=10)\n",
        "plt.show()"
      ],
      "metadata": {
        "id": "dh_N43pqq-Ll",
        "outputId": "58e2a0f3-a530-4916-e432-bdfbb6412529",
        "colab": {
          "base_uri": "https://localhost:8080/",
          "height": 382
        }
      },
      "execution_count": 22,
      "outputs": [
        {
          "output_type": "display_data",
          "data": {
            "image/png": "[encoded data removed]",
            "text/plain": [
              "<Figure size 648x648 with 1 Axes>"
            ]
          },
          "metadata": {
            "needs_background": "light"
          }
        }
      ]
    },
    {
      "cell_type": "markdown",
      "source": [
        "The MNIST dataset is actually already split into a training set (the first 60,000\n",
        "images) and a test set (the last 10,000 images):"
      ],
      "metadata": {
        "id": "OQr2kPKVsE2m"
      }
    },
    {
      "cell_type": "code",
      "source": [
        "x_train, x_test, y_train, y_test = X[:60000], X[60000:], y[:60000], y[60000:]\n",
        "x_train.shape, y_train.shape, x_test.shape, y_test.shape"
      ],
      "metadata": {
        "id": "L0D1NOYLsFdd",
        "outputId": "fbaf82cb-0dbd-4342-a35a-ff432202755e",
        "colab": {
          "base_uri": "https://localhost:8080/"
        }
      },
      "execution_count": 24,
      "outputs": [
        {
          "output_type": "execute_result",
          "data": {
            "text/plain": [
              "((60000, 784), (60000,), (10000, 784), (10000,))"
            ]
          },
          "metadata": {},
          "execution_count": 24
        }
      ]
    },
    {
      "cell_type": "markdown",
      "source": [
        "Some learning algorithms are sensitive to the order of the training\n",
        "instances, and they perform poorly if they get many similar instances in a row. \n",
        "\n",
        "Shuffling the dataset ensures that this won’t happen."
      ],
      "metadata": {
        "id": "F8MrDrp0swY7"
      }
    },
    {
      "cell_type": "code",
      "source": [
        "shuffle_index = np.random.permutation(60000)\n",
        "x_train, y_train = x_train[shuffle_index], y_train[shuffle_index]"
      ],
      "metadata": {
        "id": "5dcBuBgNszhz"
      },
      "execution_count": 25,
      "outputs": []
    },
    {
      "cell_type": "markdown",
      "source": [
        "##Binary Classifier"
      ],
      "metadata": {
        "id": "UJ6mdxIFtKSP"
      }
    },
    {
      "cell_type": "markdown",
      "source": [
        "Let’s simplify the problem for now and only try to identify one digit—for example,\n",
        "the number 5. This “5-detector” will be an example of a binary classifier, capable of\n",
        "distinguishing between just two classes, 5 and not-5. \n",
        "\n",
        "Let’s create the target vectors for\n",
        "this classification task:"
      ],
      "metadata": {
        "id": "qGP-LHgltMXb"
      }
    },
    {
      "cell_type": "code",
      "source": [
        "y_train_5 = (y_train == 5)  # True for all 5s, False for all other digits\n",
        "y_test_5 = (y_test == 5)"
      ],
      "metadata": {
        "id": "MjBjHfZOtbEc"
      },
      "execution_count": 26,
      "outputs": []
    },
    {
      "cell_type": "markdown",
      "source": [
        "Now, let's calculate total 5's and not 5's data point."
      ],
      "metadata": {
        "id": "WIjrvSc3u_NG"
      }
    },
    {
      "cell_type": "code",
      "source": [
        "both_5_and_not_5 =len(y_train_5)\n",
        "both_5_and_not_5"
      ],
      "metadata": {
        "id": "-N0jBb29xj2d",
        "outputId": "3a6625f6-f835-4bb9-b25a-537f3d3ff06d",
        "colab": {
          "base_uri": "https://localhost:8080/"
        }
      },
      "execution_count": 43,
      "outputs": [
        {
          "output_type": "execute_result",
          "data": {
            "text/plain": [
              "60000"
            ]
          },
          "metadata": {},
          "execution_count": 43
        }
      ]
    },
    {
      "cell_type": "code",
      "source": [
        "total_not_5 = np.bitwise_not(y_train_5).sum()\n",
        "total_not_5"
      ],
      "metadata": {
        "id": "64y2aQ6EvK2s",
        "outputId": "62490681-5db6-4f9e-a397-7696eddc423b",
        "colab": {
          "base_uri": "https://localhost:8080/"
        }
      },
      "execution_count": 44,
      "outputs": [
        {
          "output_type": "execute_result",
          "data": {
            "text/plain": [
              "54579"
            ]
          },
          "metadata": {},
          "execution_count": 44
        }
      ]
    },
    {
      "cell_type": "code",
      "source": [
        "total_5 = both_5_and_not_5 - total_not_5\n",
        "total_5"
      ],
      "metadata": {
        "id": "gyw21kLEvqL8",
        "outputId": "0cce76ac-3ca4-4b54-c5c9-ee594f13f8e5",
        "colab": {
          "base_uri": "https://localhost:8080/"
        }
      },
      "execution_count": 45,
      "outputs": [
        {
          "output_type": "execute_result",
          "data": {
            "text/plain": [
              "5421"
            ]
          },
          "metadata": {},
          "execution_count": 45
        }
      ]
    },
    {
      "cell_type": "code",
      "source": [
        "(total_not_5 / both_5_and_not_5) * 100"
      ],
      "metadata": {
        "id": "lpaBGdkCxw6e",
        "outputId": "831ad268-cb02-467d-e82d-9d324317aa17",
        "colab": {
          "base_uri": "https://localhost:8080/"
        }
      },
      "execution_count": 50,
      "outputs": [
        {
          "output_type": "execute_result",
          "data": {
            "text/plain": [
              "90.96499999999999"
            ]
          },
          "metadata": {},
          "execution_count": 50
        }
      ]
    },
    {
      "cell_type": "code",
      "source": [
        "(total_5 / both_5_and_not_5) * 100"
      ],
      "metadata": {
        "id": "2O9NWgv4x7Tx",
        "outputId": "98f26570-6ace-4a4b-dc64-e2ffe5d511a1",
        "colab": {
          "base_uri": "https://localhost:8080/"
        }
      },
      "execution_count": 51,
      "outputs": [
        {
          "output_type": "execute_result",
          "data": {
            "text/plain": [
              "9.035"
            ]
          },
          "metadata": {},
          "execution_count": 51
        }
      ]
    },
    {
      "cell_type": "markdown",
      "source": [
        "So we have 90.96% not 5's data point and 9.03% 5's data point.In other words, we have now imbalanced dataset.\n",
        "\n",
        "Now let’s pick a classifier and train it on this imbalanced dataset."
      ],
      "metadata": {
        "id": "tvoEvkAfyLJ5"
      }
    },
    {
      "cell_type": "code",
      "source": [
        "# set max_iter=5 and tol=-np.infty, to get the same results\n",
        "sgd_clf = SGDClassifier(max_iter=5, tol=-np.infty ,random_state=42)\n",
        "sgd_clf.fit(x_train, y_train_5)"
      ],
      "metadata": {
        "id": "g893__Q6yjOG",
        "outputId": "68ec3f3a-c38c-43bb-ec29-66974879e079",
        "colab": {
          "base_uri": "https://localhost:8080/"
        }
      },
      "execution_count": 53,
      "outputs": [
        {
          "output_type": "execute_result",
          "data": {
            "text/plain": [
              "SGDClassifier(max_iter=5, random_state=42, tol=-inf)"
            ]
          },
          "metadata": {},
          "execution_count": 53
        }
      ]
    },
    {
      "cell_type": "markdown",
      "source": [
        "Now we can use it to detect images of the number 5:"
      ],
      "metadata": {
        "id": "nHDjM5xJ0Ass"
      }
    },
    {
      "cell_type": "code",
      "source": [
        "sgd_clf.predict(some_digit)"
      ],
      "metadata": {
        "id": "3vzqMkMr0BLU",
        "outputId": "ff938916-213e-4c80-b076-77a6d4ebed69",
        "colab": {
          "base_uri": "https://localhost:8080/"
        }
      },
      "execution_count": 56,
      "outputs": [
        {
          "output_type": "execute_result",
          "data": {
            "text/plain": [
              "array([ True])"
            ]
          },
          "metadata": {},
          "execution_count": 56
        }
      ]
    },
    {
      "cell_type": "markdown",
      "source": [
        "The classifier guesses that this image represents a 5 (True). Looks like it guessed right\n",
        "in this particular case!"
      ],
      "metadata": {
        "id": "Fnxm6aQc1km1"
      }
    },
    {
      "cell_type": "markdown",
      "source": [
        "##Performance Measures"
      ],
      "metadata": {
        "id": "mqVeFQIQ10xw"
      }
    },
    {
      "cell_type": "markdown",
      "source": [
        "###Measuring Accuracy Using Cross-Validation"
      ],
      "metadata": {
        "id": "BZI3nnRI11lw"
      }
    },
    {
      "cell_type": "markdown",
      "source": [
        "Let’s use the `cross_val_score()` function to evaluate our SGDClassifier model,\n",
        "using K-fold `cross-validation` with three folds. \n",
        "\n",
        "Remember that K-fold cross-validation\n",
        "means splitting the training set into K folds (in this case, three), then making predictions\n",
        "and evaluating them on each fold using a model trained on the remaining folds"
      ],
      "metadata": {
        "id": "FUWLqpej2DN-"
      }
    },
    {
      "cell_type": "code",
      "source": [
        "cross_val_score(sgd_clf, x_train, y_train_5, cv=3, scoring=\"accuracy\")"
      ],
      "metadata": {
        "id": "_2oayd1O2QdY",
        "outputId": "e6ee23d2-d4d3-4358-e736-0d05088657e1",
        "colab": {
          "base_uri": "https://localhost:8080/"
        }
      },
      "execution_count": 58,
      "outputs": [
        {
          "output_type": "execute_result",
          "data": {
            "text/plain": [
              "array([0.964 , 0.9579, 0.9571])"
            ]
          },
          "metadata": {},
          "execution_count": 58
        }
      ]
    },
    {
      "cell_type": "markdown",
      "source": [
        "Wow! Above 93% accuracy (ratio of correct predictions) on all cross-validation folds?\n",
        "\n",
        "Well, before you get too excited, let’s look at a very\n",
        "dumb classifier that just classifies every single image in the “not-5” class:"
      ],
      "metadata": {
        "id": "IMquJyrF2i29"
      }
    },
    {
      "cell_type": "code",
      "source": [
        "class Never5Classifier(BaseEstimator):\n",
        "  def fit(self, x, y):\n",
        "    pass\n",
        "  def predict(self, x):\n",
        "    return np.zeros((len(x), 1), dtype=bool)  "
      ],
      "metadata": {
        "id": "1Hq5Ryyy2noc"
      },
      "execution_count": 59,
      "outputs": []
    },
    {
      "cell_type": "markdown",
      "source": [
        "Can you guess this model’s accuracy? Let’s find out:"
      ],
      "metadata": {
        "id": "ekfhhZGy3Igx"
      }
    },
    {
      "cell_type": "code",
      "source": [
        "never_5_clf = Never5Classifier()\n",
        "cross_val_score(never_5_clf, x_train, y_train_5, cv=3, scoring=\"accuracy\")"
      ],
      "metadata": {
        "id": "czEHLTEs3I5R",
        "outputId": "1e799b86-9254-4fa7-fb41-15aa950d84c0",
        "colab": {
          "base_uri": "https://localhost:8080/"
        }
      },
      "execution_count": 60,
      "outputs": [
        {
          "output_type": "execute_result",
          "data": {
            "text/plain": [
              "array([0.909  , 0.90745, 0.9125 ])"
            ]
          },
          "metadata": {},
          "execution_count": 60
        }
      ]
    },
    {
      "cell_type": "markdown",
      "source": [
        "That’s right, it has over `90%` accuracy! This is simply because only about `10%` of the images are 5s, so if you always guess that an image is not a 5, you will be right about `90%` of the time.\n",
        "\n",
        "**This demonstrates why accuracy is generally not the preferred performance measure for classifiers, especially when you are dealing with skewed datasets or class imbalanced dataset** (i.e., when some classes are much more frequent than others).\n",
        "\n"
      ],
      "metadata": {
        "id": "hx-Sbk6h3nbN"
      }
    },
    {
      "cell_type": "markdown",
      "source": [
        "###Confusion Matrix"
      ],
      "metadata": {
        "id": "J3v1eXrI4mNH"
      }
    },
    {
      "cell_type": "markdown",
      "source": [
        ""
      ],
      "metadata": {
        "id": "OhfY0dBL4nCU"
      }
    }
  ]
}