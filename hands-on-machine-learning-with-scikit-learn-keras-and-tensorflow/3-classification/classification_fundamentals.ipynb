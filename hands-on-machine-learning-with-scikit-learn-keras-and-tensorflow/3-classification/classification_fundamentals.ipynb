{
  "nbformat": 4,
  "nbformat_minor": 0,
  "metadata": {
    "colab": {
      "name": "classification-fundamentals.ipynb",
      "provenance": [],
      "toc_visible": true,
      "authorship_tag": "ABX9TyNYhCzC+Vfs49jomeW8Se/I",
      "include_colab_link": true
    },
    "kernelspec": {
      "name": "python3",
      "display_name": "Python 3"
    },
    "language_info": {
      "name": "python"
    }
  },
  "cells": [
    {
      "cell_type": "markdown",
      "metadata": {
        "id": "view-in-github",
        "colab_type": "text"
      },
      "source": [
        "<a href=\"https://colab.research.google.com/github/rahiakela/machine-learning-research-and-practice/blob/main/hands-on-machine-learning-with-scikit-learn-keras-and-tensorflow/3-classification/classification_fundamentals.ipynb\" target=\"_parent\"><img src=\"https://colab.research.google.com/assets/colab-badge.svg\" alt=\"Open In Colab\"/></a>"
      ]
    },
    {
      "cell_type": "markdown",
      "source": [
        "##Classification Fundamentals"
      ],
      "metadata": {
        "id": "BdG7yOh8mM1m"
      }
    },
    {
      "cell_type": "markdown",
      "source": [
        "##Setup"
      ],
      "metadata": {
        "id": "WQyRPxgLnb5G"
      }
    },
    {
      "cell_type": "code",
      "source": [
        "# Common imports\n",
        "import numpy as np\n",
        "import os\n",
        "\n",
        "from sklearn.datasets import fetch_openml\n",
        "from sklearn.linear_model import SGDClassifier\n",
        "from sklearn.model_selection import cross_val_score, StratifiedKFold, cross_val_predict\n",
        "from sklearn.base import clone, BaseEstimator\n",
        "from sklearn.metrics import confusion_matrix, precision_score, recall_score,f1_score, precision_recall_curve, roc_curve, roc_auc_score\n",
        "\n",
        "from sklearn.ensemble import RandomForestClassifier\n",
        "from sklearn.multiclass import OneVsOneClassifier\n",
        "from sklearn.preprocessing import StandardScaler\n",
        "from sklearn.neighbors import KNeighborsClassifier\n",
        "from sklearn.dummy import DummyClassifier\n",
        "\n",
        "# to make this notebook's output stable across runs\n",
        "np.random.seed(42)\n",
        "\n",
        "# To plot pretty figures\n",
        "%matplotlib inline\n",
        "import matplotlib as mpl\n",
        "import matplotlib.pyplot as plt\n",
        "mpl.rc('axes', labelsize=14)\n",
        "mpl.rc('xtick', labelsize=12)\n",
        "mpl.rc('ytick', labelsize=12)\n",
        "\n",
        "# Where to save the figures\n",
        "PROJECT_ROOT_DIR = \".\"\n",
        "CHAPTER_ID = \"classification\"\n",
        "IMAGES_PATH = os.path.join(PROJECT_ROOT_DIR, \"images\", CHAPTER_ID)\n",
        "os.makedirs(IMAGES_PATH, exist_ok=True)"
      ],
      "metadata": {
        "id": "_AgnAQ1ancF5"
      },
      "execution_count": 1,
      "outputs": []
    },
    {
      "cell_type": "code",
      "source": [
        "def plot_digit(data):\n",
        "  image = data.reshape(28, 28)\n",
        "  plt.imshow(image, cmap = mpl.cm.binary, interpolation=\"nearest\")\n",
        "  plt.axis(\"off\")\n",
        "\n",
        "def plot_digits(instances, images_per_row=10, **options):\n",
        "  size = 28\n",
        "  images_per_row = min(len(instances), images_per_row)\n",
        "  images = [instance.reshape(size,size) for instance in instances]\n",
        "  n_rows = (len(instances) - 1) // images_per_row + 1\n",
        "  row_images = []\n",
        "  n_empty = n_rows * images_per_row - len(instances)\n",
        "  images.append(np.zeros((size, size * n_empty)))\n",
        "  for row in range(n_rows):\n",
        "      rimages = images[row * images_per_row : (row + 1) * images_per_row]\n",
        "      row_images.append(np.concatenate(rimages, axis=1))\n",
        "  image = np.concatenate(row_images, axis=0)\n",
        "  plt.imshow(image, cmap = mpl.cm.binary, **options)\n",
        "  plt.axis(\"off\")"
      ],
      "metadata": {
        "id": "OB5FcZlfqnVA"
      },
      "execution_count": 2,
      "outputs": []
    },
    {
      "cell_type": "markdown",
      "source": [
        "##MNIST Dataset"
      ],
      "metadata": {
        "id": "QpAo-TuhnotB"
      }
    },
    {
      "cell_type": "markdown",
      "source": [
        "Scikit-Learn provides many helper functions to download popular datasets. MNIST is\n",
        "one of them."
      ],
      "metadata": {
        "id": "5RdFsGx3nqrL"
      }
    },
    {
      "cell_type": "code",
      "source": [
        "mnist = fetch_openml(\"mnist_784\", version=1, cache=True, as_frame=False)\n",
        "mnist.keys()"
      ],
      "metadata": {
        "id": "cTJMQIk3n_0C",
        "outputId": "02c87c7e-5593-45f5-bad4-7b1f4b765bb3",
        "colab": {
          "base_uri": "https://localhost:8080/"
        }
      },
      "execution_count": 3,
      "outputs": [
        {
          "output_type": "execute_result",
          "data": {
            "text/plain": [
              "dict_keys(['data', 'target', 'frame', 'categories', 'feature_names', 'target_names', 'DESCR', 'details', 'url'])"
            ]
          },
          "metadata": {},
          "execution_count": 3
        }
      ]
    },
    {
      "cell_type": "code",
      "source": [
        "X, y = mnist[\"data\"], mnist[\"target\"]\n",
        "X.shape, y.shape"
      ],
      "metadata": {
        "id": "MG5hI-0HoVCo",
        "outputId": "a5cc01b7-7e44-4a33-fa0f-2941297364e8",
        "colab": {
          "base_uri": "https://localhost:8080/"
        }
      },
      "execution_count": 4,
      "outputs": [
        {
          "output_type": "execute_result",
          "data": {
            "text/plain": [
              "((70000, 784), (70000,))"
            ]
          },
          "metadata": {},
          "execution_count": 4
        }
      ]
    },
    {
      "cell_type": "markdown",
      "source": [
        "Let’s take a peek at one digit from the dataset. All you need to\n",
        "do is grab an instance’s feature vector, reshape it to a 28 × 28 array, and display it."
      ],
      "metadata": {
        "id": "T1lYg6BUoq4_"
      }
    },
    {
      "cell_type": "code",
      "source": [
        "some_digit = X[:1]\n",
        "some_digit_image = some_digit.reshape(28, 28)\n",
        "\n",
        "plt.imshow(some_digit_image, cmap=\"binary\")\n",
        "plt.axis(\"off\")\n",
        "plt.show()"
      ],
      "metadata": {
        "id": "NuZpLXA0orjJ",
        "outputId": "15e550b5-2116-42ca-c3a8-d3146cbc80c0",
        "colab": {
          "base_uri": "https://localhost:8080/",
          "height": 0
        }
      },
      "execution_count": 5,
      "outputs": [
        {
          "output_type": "display_data",
          "data": {
            "image/png": "[encoded data removed]",
            "text/plain": [
              "<Figure size 432x288 with 1 Axes>"
            ]
          },
          "metadata": {
            "needs_background": "light"
          }
        }
      ]
    },
    {
      "cell_type": "markdown",
      "source": [
        "This looks like a 5, and indeed that’s what the label tells us:"
      ],
      "metadata": {
        "id": "GW7ghynLqP62"
      }
    },
    {
      "cell_type": "code",
      "source": [
        "y[0]"
      ],
      "metadata": {
        "id": "kqRvN1I7qQfB",
        "outputId": "2e2cb43c-e1ad-47c0-9bce-b470002d86b3",
        "colab": {
          "base_uri": "https://localhost:8080/",
          "height": 0
        }
      },
      "execution_count": 6,
      "outputs": [
        {
          "output_type": "execute_result",
          "data": {
            "application/vnd.google.colaboratory.intrinsic+json": {
              "type": "string"
            },
            "text/plain": [
              "'5'"
            ]
          },
          "metadata": {},
          "execution_count": 6
        }
      ]
    },
    {
      "cell_type": "markdown",
      "source": [
        "Note that the label is a string.so let’s cast y to\n",
        "integer:"
      ],
      "metadata": {
        "id": "DskYx4usqUAi"
      }
    },
    {
      "cell_type": "code",
      "source": [
        "y = y.astype(np.uint8)"
      ],
      "metadata": {
        "id": "mxaDapwIqWas"
      },
      "execution_count": 7,
      "outputs": []
    },
    {
      "cell_type": "markdown",
      "source": [
        "Now, let's shows a few\n",
        "more images from the MNIST dataset."
      ],
      "metadata": {
        "id": "rAKPkr7Yq8NT"
      }
    },
    {
      "cell_type": "code",
      "source": [
        "plt.figure(figsize=(9, 9))\n",
        "example_images = np.r_[X[:12000:600], X[13000:600], X[30600:60000:590]]\n",
        "plot_digits(example_images, images_per_row=10)\n",
        "plt.show()"
      ],
      "metadata": {
        "id": "dh_N43pqq-Ll",
        "outputId": "d87d8065-b6f2-477a-a0e0-7b60f9b46630",
        "colab": {
          "base_uri": "https://localhost:8080/",
          "height": 0
        }
      },
      "execution_count": 8,
      "outputs": [
        {
          "output_type": "display_data",
          "data": {
            "image/png": "[encoded data removed]",
            "text/plain": [
              "<Figure size 648x648 with 1 Axes>"
            ]
          },
          "metadata": {
            "needs_background": "light"
          }
        }
      ]
    },
    {
      "cell_type": "markdown",
      "source": [
        "The MNIST dataset is actually already split into a training set (the first 60,000\n",
        "images) and a test set (the last 10,000 images):"
      ],
      "metadata": {
        "id": "OQr2kPKVsE2m"
      }
    },
    {
      "cell_type": "code",
      "source": [
        "x_train, x_test, y_train, y_test = X[:60000], X[60000:], y[:60000], y[60000:]\n",
        "x_train.shape, y_train.shape, x_test.shape, y_test.shape"
      ],
      "metadata": {
        "id": "L0D1NOYLsFdd",
        "outputId": "87a77ad9-0d11-479a-fcfe-651ced5a86b3",
        "colab": {
          "base_uri": "https://localhost:8080/"
        }
      },
      "execution_count": 9,
      "outputs": [
        {
          "output_type": "execute_result",
          "data": {
            "text/plain": [
              "((60000, 784), (60000,), (10000, 784), (10000,))"
            ]
          },
          "metadata": {},
          "execution_count": 9
        }
      ]
    },
    {
      "cell_type": "markdown",
      "source": [
        "Some learning algorithms are sensitive to the order of the training\n",
        "instances, and they perform poorly if they get many similar instances in a row. \n",
        "\n",
        "Shuffling the dataset ensures that this won’t happen."
      ],
      "metadata": {
        "id": "F8MrDrp0swY7"
      }
    },
    {
      "cell_type": "code",
      "source": [
        "shuffle_index = np.random.permutation(60000)\n",
        "x_train, y_train = x_train[shuffle_index], y_train[shuffle_index]"
      ],
      "metadata": {
        "id": "5dcBuBgNszhz"
      },
      "execution_count": 10,
      "outputs": []
    },
    {
      "cell_type": "markdown",
      "source": [
        "##Binary Classifier"
      ],
      "metadata": {
        "id": "UJ6mdxIFtKSP"
      }
    },
    {
      "cell_type": "markdown",
      "source": [
        "Let’s simplify the problem for now and only try to identify one digit—for example,\n",
        "the number 5. This “5-detector” will be an example of a binary classifier, capable of\n",
        "distinguishing between just two classes, 5 and not-5. \n",
        "\n",
        "Let’s create the target vectors for\n",
        "this classification task:"
      ],
      "metadata": {
        "id": "qGP-LHgltMXb"
      }
    },
    {
      "cell_type": "code",
      "source": [
        "y_train_5 = (y_train == 5)  # True for all 5s, False for all other digits\n",
        "y_test_5 = (y_test == 5)"
      ],
      "metadata": {
        "id": "MjBjHfZOtbEc"
      },
      "execution_count": 11,
      "outputs": []
    },
    {
      "cell_type": "markdown",
      "source": [
        "Now, let's calculate total 5's and not 5's data point."
      ],
      "metadata": {
        "id": "WIjrvSc3u_NG"
      }
    },
    {
      "cell_type": "code",
      "source": [
        "both_5_and_not_5 =len(y_train_5)\n",
        "both_5_and_not_5"
      ],
      "metadata": {
        "id": "-N0jBb29xj2d",
        "outputId": "544bee66-0474-478d-94cd-5c20fe0263ef",
        "colab": {
          "base_uri": "https://localhost:8080/"
        }
      },
      "execution_count": 12,
      "outputs": [
        {
          "output_type": "execute_result",
          "data": {
            "text/plain": [
              "60000"
            ]
          },
          "metadata": {},
          "execution_count": 12
        }
      ]
    },
    {
      "cell_type": "code",
      "source": [
        "total_not_5 = np.bitwise_not(y_train_5).sum()\n",
        "total_not_5"
      ],
      "metadata": {
        "id": "64y2aQ6EvK2s",
        "outputId": "cf8d5d3a-9671-46c3-e57b-d8b5771a3216",
        "colab": {
          "base_uri": "https://localhost:8080/"
        }
      },
      "execution_count": 13,
      "outputs": [
        {
          "output_type": "execute_result",
          "data": {
            "text/plain": [
              "54579"
            ]
          },
          "metadata": {},
          "execution_count": 13
        }
      ]
    },
    {
      "cell_type": "code",
      "source": [
        "total_5 = both_5_and_not_5 - total_not_5\n",
        "total_5"
      ],
      "metadata": {
        "id": "gyw21kLEvqL8",
        "outputId": "892e637b-2b3a-4b85-fc3a-248abdbef7be",
        "colab": {
          "base_uri": "https://localhost:8080/"
        }
      },
      "execution_count": 14,
      "outputs": [
        {
          "output_type": "execute_result",
          "data": {
            "text/plain": [
              "5421"
            ]
          },
          "metadata": {},
          "execution_count": 14
        }
      ]
    },
    {
      "cell_type": "code",
      "source": [
        "(total_not_5 / both_5_and_not_5) * 100"
      ],
      "metadata": {
        "id": "lpaBGdkCxw6e",
        "outputId": "5a4af14c-6c64-4244-eea6-ac4fd300a3ec",
        "colab": {
          "base_uri": "https://localhost:8080/"
        }
      },
      "execution_count": 15,
      "outputs": [
        {
          "output_type": "execute_result",
          "data": {
            "text/plain": [
              "90.96499999999999"
            ]
          },
          "metadata": {},
          "execution_count": 15
        }
      ]
    },
    {
      "cell_type": "code",
      "source": [
        "(total_5 / both_5_and_not_5) * 100"
      ],
      "metadata": {
        "id": "2O9NWgv4x7Tx",
        "outputId": "bb32a042-5522-46b2-e929-09cdd89c9ef1",
        "colab": {
          "base_uri": "https://localhost:8080/"
        }
      },
      "execution_count": 16,
      "outputs": [
        {
          "output_type": "execute_result",
          "data": {
            "text/plain": [
              "9.035"
            ]
          },
          "metadata": {},
          "execution_count": 16
        }
      ]
    },
    {
      "cell_type": "markdown",
      "source": [
        "So we have 90.96% not 5's data point and 9.03% 5's data point.In other words, we have now imbalanced dataset.\n",
        "\n",
        "Now let’s pick a classifier and train it on this imbalanced dataset."
      ],
      "metadata": {
        "id": "tvoEvkAfyLJ5"
      }
    },
    {
      "cell_type": "code",
      "source": [
        "# set max_iter=5 and tol=-np.infty, to get the same results\n",
        "sgd_clf = SGDClassifier(max_iter=5, tol=-np.infty ,random_state=42)\n",
        "sgd_clf.fit(x_train, y_train_5)"
      ],
      "metadata": {
        "id": "g893__Q6yjOG",
        "outputId": "06b7fedb-ccee-41d4-a5bf-3222a95ad20a",
        "colab": {
          "base_uri": "https://localhost:8080/"
        }
      },
      "execution_count": 17,
      "outputs": [
        {
          "output_type": "execute_result",
          "data": {
            "text/plain": [
              "SGDClassifier(max_iter=5, random_state=42, tol=-inf)"
            ]
          },
          "metadata": {},
          "execution_count": 17
        }
      ]
    },
    {
      "cell_type": "markdown",
      "source": [
        "Now we can use it to detect images of the number 5:"
      ],
      "metadata": {
        "id": "nHDjM5xJ0Ass"
      }
    },
    {
      "cell_type": "code",
      "source": [
        "sgd_clf.predict(some_digit)"
      ],
      "metadata": {
        "id": "3vzqMkMr0BLU",
        "outputId": "37920c00-1179-46b0-8b2a-ef3de43f3a2b",
        "colab": {
          "base_uri": "https://localhost:8080/"
        }
      },
      "execution_count": 18,
      "outputs": [
        {
          "output_type": "execute_result",
          "data": {
            "text/plain": [
              "array([ True])"
            ]
          },
          "metadata": {},
          "execution_count": 18
        }
      ]
    },
    {
      "cell_type": "markdown",
      "source": [
        "The classifier guesses that this image represents a 5 (True). Looks like it guessed right\n",
        "in this particular case!"
      ],
      "metadata": {
        "id": "Fnxm6aQc1km1"
      }
    },
    {
      "cell_type": "markdown",
      "source": [
        "##Performance Measures"
      ],
      "metadata": {
        "id": "mqVeFQIQ10xw"
      }
    },
    {
      "cell_type": "markdown",
      "source": [
        "###Measuring Accuracy Using Cross-Validation"
      ],
      "metadata": {
        "id": "BZI3nnRI11lw"
      }
    },
    {
      "cell_type": "markdown",
      "source": [
        "Let’s use the `cross_val_score()` function to evaluate our SGDClassifier model,\n",
        "using K-fold `cross-validation` with three folds. \n",
        "\n",
        "Remember that K-fold cross-validation\n",
        "means splitting the training set into K folds (in this case, three), then making predictions\n",
        "and evaluating them on each fold using a model trained on the remaining folds"
      ],
      "metadata": {
        "id": "FUWLqpej2DN-"
      }
    },
    {
      "cell_type": "code",
      "source": [
        "cross_val_score(sgd_clf, x_train, y_train_5, cv=3, scoring=\"accuracy\")"
      ],
      "metadata": {
        "id": "_2oayd1O2QdY",
        "outputId": "3a20509a-c6be-4b03-fbe3-19496d0b4ee9",
        "colab": {
          "base_uri": "https://localhost:8080/"
        }
      },
      "execution_count": 19,
      "outputs": [
        {
          "output_type": "execute_result",
          "data": {
            "text/plain": [
              "array([0.964 , 0.9579, 0.9571])"
            ]
          },
          "metadata": {},
          "execution_count": 19
        }
      ]
    },
    {
      "cell_type": "markdown",
      "source": [
        "Wow! Above 93% accuracy (ratio of correct predictions) on all cross-validation folds?\n",
        "\n",
        "Well, before you get too excited, let’s look at a very\n",
        "dumb classifier that just classifies every single image in the “not-5” class:"
      ],
      "metadata": {
        "id": "IMquJyrF2i29"
      }
    },
    {
      "cell_type": "code",
      "source": [
        "class Never5Classifier(BaseEstimator):\n",
        "  def fit(self, x, y):\n",
        "    pass\n",
        "  def predict(self, x):\n",
        "    return np.zeros((len(x), 1), dtype=bool)  "
      ],
      "metadata": {
        "id": "1Hq5Ryyy2noc"
      },
      "execution_count": 20,
      "outputs": []
    },
    {
      "cell_type": "markdown",
      "source": [
        "Can you guess this model’s accuracy? Let’s find out:"
      ],
      "metadata": {
        "id": "ekfhhZGy3Igx"
      }
    },
    {
      "cell_type": "code",
      "source": [
        "never_5_clf = Never5Classifier()\n",
        "cross_val_score(never_5_clf, x_train, y_train_5, cv=3, scoring=\"accuracy\")"
      ],
      "metadata": {
        "id": "czEHLTEs3I5R",
        "outputId": "14d75aa2-3bf7-425a-8b44-428a3b9b2c16",
        "colab": {
          "base_uri": "https://localhost:8080/"
        }
      },
      "execution_count": 21,
      "outputs": [
        {
          "output_type": "execute_result",
          "data": {
            "text/plain": [
              "array([0.909  , 0.90745, 0.9125 ])"
            ]
          },
          "metadata": {},
          "execution_count": 21
        }
      ]
    },
    {
      "cell_type": "markdown",
      "source": [
        "That’s right, it has over `90%` accuracy! This is simply because only about `10%` of the images are 5s, so if you always guess that an image is not a 5, you will be right about `90%` of the time.\n",
        "\n",
        "**This demonstrates why accuracy is generally not the preferred performance measure for classifiers, especially when you are dealing with skewed datasets or class imbalanced dataset** (i.e., when some classes are much more frequent than others).\n",
        "\n"
      ],
      "metadata": {
        "id": "hx-Sbk6h3nbN"
      }
    },
    {
      "cell_type": "markdown",
      "source": [
        "###Confusion Matrix"
      ],
      "metadata": {
        "id": "J3v1eXrI4mNH"
      }
    },
    {
      "cell_type": "markdown",
      "source": [
        "A much better way to evaluate the performance of a classifier is to look at the confusion matrix. The general idea is to count the number of times instances of class A are classified as class B. \n",
        "\n",
        "For example, to know the number of times the classifier confused\n",
        "images of 5s with 3s, you would look in the fifth row and third column of the confusion matrix."
      ],
      "metadata": {
        "id": "OhfY0dBL4nCU"
      }
    },
    {
      "cell_type": "code",
      "source": [
        "# To compute the confusion matrix, you first need to have a set of predictions so that they can be compared to the actual targets.\n",
        "# get the predictions made on each test fold\n",
        "y_train_pred = cross_val_predict(sgd_clf, x_train, y_train_5, cv=3)"
      ],
      "metadata": {
        "id": "QONiaL5kiBbm"
      },
      "execution_count": 22,
      "outputs": []
    },
    {
      "cell_type": "markdown",
      "source": [
        "Now you are ready to get the confusion matrix using the `confusion_matrix()` function."
      ],
      "metadata": {
        "id": "-pe_FnxDjI3B"
      }
    },
    {
      "cell_type": "code",
      "source": [
        "confusion_matrix(y_train_5, y_train_pred)"
      ],
      "metadata": {
        "id": "2f5nVZyXjJbU",
        "outputId": "df5c05b7-22a1-45a6-b063-bd66641acb0b",
        "colab": {
          "base_uri": "https://localhost:8080/"
        }
      },
      "execution_count": 23,
      "outputs": [
        {
          "output_type": "execute_result",
          "data": {
            "text/plain": [
              "array([[54058,   521],\n",
              "       [ 1899,  3522]])"
            ]
          },
          "metadata": {},
          "execution_count": 23
        }
      ]
    },
    {
      "cell_type": "markdown",
      "source": [
        "Each row in a confusion matrix represents an actual class, while each column represents a predicted class.\n",
        "\n",
        "The first row of this matrix considers non-5 images (the negative\n",
        "class): 54,058 of them were correctly classified as non-5s (they are called true\n",
        "negatives), while the remaining 521 were wrongly classified as 5s (false positives).\n",
        "\n",
        "The second row considers the images of 5s (the positive class): 1899 were wrongly classified as non-5s (false negatives), while the remaining 35,22 were correctly classified as 5s (true positives). \n",
        "\n",
        "A perfect classifier would have only true positives and true\n",
        "negatives, so its confusion matrix would have nonzero values only on its main diagonal(top left to bottom right):"
      ],
      "metadata": {
        "id": "ZVeeQx6AkW8q"
      }
    },
    {
      "cell_type": "code",
      "source": [
        "y_train_perfect_predictions = y_train_5  # pretend we reached perfection\n",
        "confusion_matrix(y_train_5, y_train_perfect_predictions)"
      ],
      "metadata": {
        "id": "yDq-lyV6k29u",
        "outputId": "a5a9557c-93e2-4ca1-d813-bf47adc22177",
        "colab": {
          "base_uri": "https://localhost:8080/"
        }
      },
      "execution_count": 24,
      "outputs": [
        {
          "output_type": "execute_result",
          "data": {
            "text/plain": [
              "array([[54579,     0],\n",
              "       [    0,  5421]])"
            ]
          },
          "metadata": {},
          "execution_count": 24
        }
      ]
    },
    {
      "cell_type": "markdown",
      "source": [
        "###Precision and Recall"
      ],
      "metadata": {
        "id": "Ak4f_Li3llCd"
      }
    },
    {
      "cell_type": "markdown",
      "source": [
        "The confusion matrix gives you a lot of information, but sometimes you may prefer a\n",
        "more concise metric. An interesting one to look at is the accuracy of the positive pre dictions; this is called the precision of the classifier.\n",
        "\n",
        "$$precision = \\frac{TP}{TP + FP}$$\n",
        "\n",
        "But precision is typically used\n",
        "along with another metric named recall, also called sensitivity or the true positive rate\n",
        "(TPR): this is the ratio of positive instances that are correctly detected by the classifier.\n",
        "\n",
        "$$\\frac{TP}{TP + FN}$$\n",
        "\n",
        "<img src='https://github.com/rahiakela/machine-learning-research-and-practice/blob/main/hands-on-machine-learning-with-scikit-learn-keras-and-tensorflow/3-classification/images/1.png?raw=1' width='800'/>"
      ],
      "metadata": {
        "id": "hZ7GmfD7ll4u"
      }
    },
    {
      "cell_type": "code",
      "source": [
        "precision_score(y_train_5, y_train_pred)  # 3522 / (3522 + 521)"
      ],
      "metadata": {
        "id": "HZoxWvJ5mqfu",
        "outputId": "998684cb-32ea-49b3-dc7e-89be99c81856",
        "colab": {
          "base_uri": "https://localhost:8080/"
        }
      },
      "execution_count": 25,
      "outputs": [
        {
          "output_type": "execute_result",
          "data": {
            "text/plain": [
              "0.8711352955725946"
            ]
          },
          "metadata": {},
          "execution_count": 25
        }
      ]
    },
    {
      "cell_type": "code",
      "source": [
        "3522 / (3522 + 521)"
      ],
      "metadata": {
        "id": "rTuFMlnPnqyF",
        "outputId": "bacd000a-f04d-4ab3-9048-c91646ae36ba",
        "colab": {
          "base_uri": "https://localhost:8080/"
        }
      },
      "execution_count": 26,
      "outputs": [
        {
          "output_type": "execute_result",
          "data": {
            "text/plain": [
              "0.8711352955725946"
            ]
          },
          "metadata": {},
          "execution_count": 26
        }
      ]
    },
    {
      "cell_type": "code",
      "source": [
        "recall_score(y_train_5, y_train_pred)  # 3522 / (3522 + 1899)"
      ],
      "metadata": {
        "id": "p2TfzG_SmyJ4",
        "outputId": "bc6870bd-8872-4e70-9ae2-6abe37be5b00",
        "colab": {
          "base_uri": "https://localhost:8080/"
        }
      },
      "execution_count": 27,
      "outputs": [
        {
          "output_type": "execute_result",
          "data": {
            "text/plain": [
              "0.6496956281128943"
            ]
          },
          "metadata": {},
          "execution_count": 27
        }
      ]
    },
    {
      "cell_type": "code",
      "source": [
        "3522 / (3522 + 1899)"
      ],
      "metadata": {
        "id": "i_H--EFXnxFT",
        "outputId": "1db9b119-d219-4428-feb1-24bfabb60fa5",
        "colab": {
          "base_uri": "https://localhost:8080/"
        }
      },
      "execution_count": 28,
      "outputs": [
        {
          "output_type": "execute_result",
          "data": {
            "text/plain": [
              "0.6496956281128943"
            ]
          },
          "metadata": {},
          "execution_count": 28
        }
      ]
    },
    {
      "cell_type": "markdown",
      "source": [
        "Now your 5-detector does not look as shiny as it did when you looked at its accuracy. When it claims an image represents a 5, it is correct only 87.11% of the time. Moreover, it only detects 64.96% of the 5s.\n",
        "\n",
        "\n",
        "It is often convenient to combine precision and recall into a single metric called the $F_1$\n",
        "score, in particular if you need a simple way to compare two classifiers. The $F_1$ score is\n",
        "the harmonic mean of precision and recall.\n",
        "\n",
        "$$F_1=\\frac{2}{\\frac{1}{precision}+{\\frac{1}{recall}}}=2*\\frac{precision*recall}{precision+recall}=\\frac{TP}{TP+\\frac{FN+FP}{2}}$$\n",
        "\n",
        "\n",
        "\n"
      ],
      "metadata": {
        "id": "f60ZFp54n6mo"
      }
    },
    {
      "cell_type": "code",
      "source": [
        "f1_score(y_train_5, y_train_pred)"
      ],
      "metadata": {
        "id": "6EErdGuBpF28",
        "outputId": "4ee3e227-e6e6-447e-e2ca-ba0181ba00f7",
        "colab": {
          "base_uri": "https://localhost:8080/"
        }
      },
      "execution_count": 29,
      "outputs": [
        {
          "output_type": "execute_result",
          "data": {
            "text/plain": [
              "0.7442941673710904"
            ]
          },
          "metadata": {},
          "execution_count": 29
        }
      ]
    },
    {
      "cell_type": "markdown",
      "source": [
        "The $F_1$ score favors classifiers that have similar precision and recall. This is not always what you want: in some contexts you mostly care about precision, and in other contexts you really care about recall.\n",
        "\n",
        "For example, if you trained a classifier to detect videos\n",
        "that are safe for kids, you would probably prefer a classifier that rejects many\n",
        "good videos (low recall) but keeps only safe ones (high precision), rather than a classifier\n",
        "that has a much higher recall but lets a few really bad videos show up in your\n",
        "product (in such cases, you may even want to add a human pipeline to check the classifier’s\n",
        "video selection). \n",
        "\n",
        "On the other hand, suppose you train a classifier to detect\n",
        "shoplifters in surveillance images: it is probably fine if your classifier has only 30%\n",
        "precision as long as it has 99% recall (sure, the security guards will get a few false\n",
        "alerts, but almost all shoplifters will get caught).\n",
        "\n",
        "Unfortunately, you can’t have it both ways: increasing precision reduces recall, and vice versa. This is called the precision/recall trade-off."
      ],
      "metadata": {
        "id": "oh9SsgpRphST"
      }
    },
    {
      "cell_type": "markdown",
      "source": [
        "###Precision/Recall Trade-off"
      ],
      "metadata": {
        "id": "yhtw-lRkp9aF"
      }
    },
    {
      "cell_type": "markdown",
      "source": [
        "To understand this trade-off, let’s look at how the SGDClassifier makes its classification decisions. \n",
        "\n",
        "For each instance, it computes a score based on a decision function. If\n",
        "that score is greater than a threshold, it assigns the instance to the positive class; otherwise it assigns it to the negative class.\n",
        "\n",
        "<img src='https://github.com/rahiakela/machine-learning-research-and-practice/blob/main/hands-on-machine-learning-with-scikit-learn-keras-and-tensorflow/3-classification/images/2.png?raw=1' width='800'/>\n",
        "\n",
        "Conversely, lowering the threshold increases recall and reduces precision.\n",
        "\n",
        "Scikit-Learn does not let you set the threshold directly, but it does give you access to\n",
        "the decision scores that it uses to make predictions. Instead of calling the classifier’s\n",
        "`predict()` method, you can call its `decision_function()` method, which returns a\n",
        "score for each instance, and then use any threshold you want to make predictions\n",
        "based on those scores:"
      ],
      "metadata": {
        "id": "qDh_H30Up-Mg"
      }
    },
    {
      "cell_type": "code",
      "source": [
        "y_scores = sgd_clf.decision_function(some_digit)\n",
        "y_scores"
      ],
      "metadata": {
        "id": "8b6_21TXsZLo",
        "outputId": "57f73005-cb60-4526-cdd4-9656b1a76c23",
        "colab": {
          "base_uri": "https://localhost:8080/"
        }
      },
      "execution_count": 30,
      "outputs": [
        {
          "output_type": "execute_result",
          "data": {
            "text/plain": [
              "array([39607.23825616])"
            ]
          },
          "metadata": {},
          "execution_count": 30
        }
      ]
    },
    {
      "cell_type": "code",
      "source": [
        "threshold = 0\n",
        "y_some_digit_pred = (y_scores > threshold)\n",
        "y_some_digit_pred"
      ],
      "metadata": {
        "id": "TfUoWHNzsn-z",
        "outputId": "305af82a-f522-462c-9626-5018c588e799",
        "colab": {
          "base_uri": "https://localhost:8080/"
        }
      },
      "execution_count": 31,
      "outputs": [
        {
          "output_type": "execute_result",
          "data": {
            "text/plain": [
              "array([ True])"
            ]
          },
          "metadata": {},
          "execution_count": 31
        }
      ]
    },
    {
      "cell_type": "markdown",
      "source": [
        "The SGDClassifier uses a threshold equal to 0, so the previous code returns the same result as the `predict()` method (i.e., True). \n",
        "\n",
        "Let’s raise the threshold:"
      ],
      "metadata": {
        "id": "69E9QhQQs5N5"
      }
    },
    {
      "cell_type": "code",
      "source": [
        "threshold = 40000\n",
        "y_some_digit_pred = (y_scores > threshold)\n",
        "y_some_digit_pred"
      ],
      "metadata": {
        "id": "69UrMZ9Js8Q6",
        "outputId": "c2163a73-e223-4a30-91ce-75059a474e65",
        "colab": {
          "base_uri": "https://localhost:8080/"
        }
      },
      "execution_count": 32,
      "outputs": [
        {
          "output_type": "execute_result",
          "data": {
            "text/plain": [
              "array([False])"
            ]
          },
          "metadata": {},
          "execution_count": 32
        }
      ]
    },
    {
      "cell_type": "markdown",
      "source": [
        "This confirms that raising the threshold decreases recall. The image actually represents\n",
        "a 5, and the classifier detects it when the threshold is 0, but it misses it when the\n",
        "threshold is increased to 40,000.\n",
        "\n",
        "How do you decide which threshold to use? \n",
        "\n",
        "First, use the `cross_val_predict()`\n",
        "function to get the scores of all instances in the training set, but this time specify that\n",
        "you want to return decision scores instead of predictions:"
      ],
      "metadata": {
        "id": "XbPvVGK8tbdF"
      }
    },
    {
      "cell_type": "code",
      "source": [
        "y_scores = cross_val_predict(sgd_clf, x_train, y_train_5, cv=3, method=\"decision_function\")"
      ],
      "metadata": {
        "id": "jUasEI36twCT"
      },
      "execution_count": 33,
      "outputs": []
    },
    {
      "cell_type": "markdown",
      "source": [
        "With these scores, use the `precision_recall_curve()` function to compute precision and recall for all possible thresholds:"
      ],
      "metadata": {
        "id": "7iF_Mh1hu1mW"
      }
    },
    {
      "cell_type": "code",
      "source": [
        "precisions, recalls, thresholds = precision_recall_curve(y_train_5, y_scores)"
      ],
      "metadata": {
        "id": "0KdrLicnu0Uj"
      },
      "execution_count": 34,
      "outputs": []
    },
    {
      "cell_type": "markdown",
      "source": [
        "Finally, use Matplotlib to plot precision and recall as functions of the threshold value:"
      ],
      "metadata": {
        "id": "EOIq8AXdvKav"
      }
    },
    {
      "cell_type": "code",
      "source": [
        "def plot_precision_recall_vs_threshold(precisions, recalls, thresholds):\n",
        "  recall_80_precision = recalls[np.argmax(precisions >= 0.80)]\n",
        "  threshold_80_precision = thresholds[np.argmax(precisions >= 0.80)]\n",
        "\n",
        "  plt.plot(thresholds, precisions[:-1], \"b--\", label=\"Precision\", linewidth=2)\n",
        "  plt.plot(thresholds, recalls[:-1], \"g-\", label=\"Recall\", linewidth=2)\n",
        "  plt.xlabel(\"Threshold\", fontsize=16)\n",
        "  plt.legend(loc=\"upper left\", fontsize=16)\n",
        "  plt.axhline(recall_80_precision, c='r', ls=':')\n",
        "  plt.axvline(threshold_80_precision, c='r', ls=':')\n",
        "  plt.ylim([0, 1])\n",
        "\n",
        "plt.figure(figsize=(8, 4))\n",
        "plot_precision_recall_vs_threshold(precisions, recalls, thresholds)\n",
        "plt.xlim([-700000, 700000])\n",
        "plt.show()"
      ],
      "metadata": {
        "id": "lkkdedV6vLTm",
        "outputId": "9bbcc2d8-0c9d-4575-f9bf-8985ac5c6009",
        "colab": {
          "base_uri": "https://localhost:8080/",
          "height": 0
        }
      },
      "execution_count": 35,
      "outputs": [
        {
          "output_type": "display_data",
          "data": {
            "image/png": "[encoded data removed]",
            "text/plain": [
              "<Figure size 576x288 with 1 Axes>"
            ]
          },
          "metadata": {
            "needs_background": "light"
          }
        }
      ]
    },
    {
      "cell_type": "markdown",
      "source": [
        "Another way to select a good precision/recall trade-off is to plot precision directly against recall.\n",
        "\n",
        "Suppose you decide to aim for 90% precision. You look up the first plot and find that\n",
        "you need to use a threshold of about 8,000. To be more precise you can search for the\n",
        "lowest threshold that gives you at least 90% precision (`np.argmax()` will give you the\n",
        "first index of the maximum value, which in this case means the first True value):"
      ],
      "metadata": {
        "id": "KAj7K_ddxebV"
      }
    },
    {
      "cell_type": "code",
      "source": [
        "threshold_90_precision = thresholds[np.argmax(precisions >= 0.90)]  # ~29278\n",
        "threshold_90_precision"
      ],
      "metadata": {
        "id": "NNbFuAZux-9C",
        "outputId": "f65dd766-be78-4ef3-bf43-2b3c322bd060",
        "colab": {
          "base_uri": "https://localhost:8080/"
        }
      },
      "execution_count": 36,
      "outputs": [
        {
          "output_type": "execute_result",
          "data": {
            "text/plain": [
              "29278.01017140679"
            ]
          },
          "metadata": {},
          "execution_count": 36
        }
      ]
    },
    {
      "cell_type": "markdown",
      "source": [
        "To make predictions (on the training set for now), instead of calling the classifier’s `predict()` method, you can run this code:"
      ],
      "metadata": {
        "id": "JifpVMaJyUjf"
      }
    },
    {
      "cell_type": "code",
      "source": [
        "y_train_pred_90 = (y_scores >= threshold_90_precision)"
      ],
      "metadata": {
        "id": "Yax8JALryXSQ"
      },
      "execution_count": 37,
      "outputs": []
    },
    {
      "cell_type": "markdown",
      "source": [
        "Let’s check these predictions’ precision and recall:"
      ],
      "metadata": {
        "id": "-I7gBwlrygdj"
      }
    },
    {
      "cell_type": "code",
      "source": [
        "precision_score(y_train_5, y_train_pred_90)"
      ],
      "metadata": {
        "id": "MYkpf07Xyg4p",
        "outputId": "864b516a-f569-4b14-8206-ec81e0e7a054",
        "colab": {
          "base_uri": "https://localhost:8080/"
        }
      },
      "execution_count": 38,
      "outputs": [
        {
          "output_type": "execute_result",
          "data": {
            "text/plain": [
              "0.9000559910414334"
            ]
          },
          "metadata": {},
          "execution_count": 38
        }
      ]
    },
    {
      "cell_type": "code",
      "source": [
        "recall_score(y_train_5, y_train_pred_90)"
      ],
      "metadata": {
        "id": "R-7WGGNByoyr",
        "outputId": "531b1352-343c-4a9f-a06d-8ccaa16da6a0",
        "colab": {
          "base_uri": "https://localhost:8080/"
        }
      },
      "execution_count": 39,
      "outputs": [
        {
          "output_type": "execute_result",
          "data": {
            "text/plain": [
              "0.5930640103301974"
            ]
          },
          "metadata": {},
          "execution_count": 39
        }
      ]
    },
    {
      "cell_type": "markdown",
      "source": [
        "Great, you have a 90% precision classifier! \n",
        "\n",
        "As you can see, it is fairly easy to create a\n",
        "classifier with virtually any precision you want: just set a high enough threshold, and you’re done. \n",
        "\n",
        "But wait, not so fast. **A high-precision classifier is not very useful if its\n",
        "recall is too low!**\n",
        "\n",
        ">If someone says, “Let’s reach 99% precision,” you should ask, “At\n",
        "what recall?”"
      ],
      "metadata": {
        "id": "_TMiV9apz6wK"
      }
    },
    {
      "cell_type": "code",
      "source": [
        "def plot_precision_vs_recall(precisions, recalls):\n",
        "  recall_50_precision = recalls[np.argmax(precisions >= 0.50)]\n",
        "  threshold_90_precision = thresholds[np.argmax(precisions >= 0.90)]\n",
        "  plt.plot(recalls, precisions, \"b-\", linewidth=2)\n",
        "  plt.xlabel(\"Recall\", fontsize=16)\n",
        "  plt.ylabel(\"Precision\", fontsize=16)\n",
        "  plt.axvline(threshold_90_precision, c='r', ls=':')\n",
        "  plt.axhline(recall_50_precision, c='r', ls=':')\n",
        "  plt.axis([0, 1, 0, 1])\n",
        "\n",
        "plt.figure(figsize=(8, 6))\n",
        "plot_precision_vs_recall(precisions, recalls)\n",
        "plt.show()"
      ],
      "metadata": {
        "id": "p1MuhYpf0o0P",
        "outputId": "dc8219a6-7d2b-43b5-80ae-675bfcca5000",
        "colab": {
          "base_uri": "https://localhost:8080/",
          "height": 0
        }
      },
      "execution_count": 40,
      "outputs": [
        {
          "output_type": "display_data",
          "data": {
            "image/png": "[encoded data removed]",
            "text/plain": [
              "<Figure size 576x432 with 1 Axes>"
            ]
          },
          "metadata": {
            "needs_background": "light"
          }
        }
      ]
    },
    {
      "cell_type": "markdown",
      "source": [
        "You can see that precision really starts to fall sharply around 80% recall. You will\n",
        "probably want to select a precision/recall trade-off just before that drop—for example,\n",
        "at around 60% recall. But of course, the choice depends on your project."
      ],
      "metadata": {
        "id": "dY3PoIaz02Cd"
      }
    },
    {
      "cell_type": "markdown",
      "source": [
        "###The ROC Curve"
      ],
      "metadata": {
        "id": "Klc2s2SN035i"
      }
    },
    {
      "cell_type": "markdown",
      "source": [
        "The receiver operating characteristic (ROC) curve is another common tool used with\n",
        "binary classifiers. It is very similar to the precision/recall curve, but instead of plotting\n",
        "precision versus recall, the ROC curve plots the true positive rate (another name\n",
        "for recall) against the false positive rate (FPR).\n",
        "\n",
        "The FPR is the ratio of negative instances\n",
        "that are incorrectly classified as positive. It is equal to 1 – the true negative rate\n",
        "(TNR), which is the ratio of negative instances that are correctly classified as negative.\n",
        "The TNR is also called specificity. Hence, the ROC curve plots sensitivity (recall) versus\n",
        "1 – specificity.\n",
        "\n",
        "To plot the ROC curve, you first use the roc_curve() function to compute the TPR\n",
        "and FPR for various threshold values:"
      ],
      "metadata": {
        "id": "do2HECwB06r4"
      }
    },
    {
      "cell_type": "code",
      "source": [
        "fpr, tpr, thresholds = roc_curve(y_train_5, y_scores)"
      ],
      "metadata": {
        "id": "k43r_pjBcqhL"
      },
      "execution_count": 41,
      "outputs": []
    },
    {
      "cell_type": "markdown",
      "source": [
        "Then you can plot the FPR against the TPR using Matplotlib."
      ],
      "metadata": {
        "id": "Hmfh5rp9c45-"
      }
    },
    {
      "cell_type": "code",
      "source": [
        "def plot_roc_curve(fpr, tpr, label=None):\n",
        "    plt.plot(fpr, tpr, linewidth=2, label=label)\n",
        "    plt.plot([0, 1], [0, 1], 'k--')\n",
        "    plt.axis([0, 1, 0, 1])\n",
        "    plt.xlabel('False Positive Rate', fontsize=16)\n",
        "    plt.ylabel('True Positive Rate', fontsize=16)\n",
        "\n",
        "plt.figure(figsize=(8, 6))\n",
        "plot_roc_curve(fpr, tpr)\n",
        "plt.show()"
      ],
      "metadata": {
        "id": "u_Ry7tJEc23s",
        "outputId": "6fc707a5-9e51-4f87-ea00-b7415660ed24",
        "colab": {
          "base_uri": "https://localhost:8080/",
          "height": 401
        }
      },
      "execution_count": 42,
      "outputs": [
        {
          "output_type": "display_data",
          "data": {
            "image/png": "[encoded data removed]",
            "text/plain": [
              "<Figure size 576x432 with 1 Axes>"
            ]
          },
          "metadata": {
            "needs_background": "light"
          }
        }
      ]
    },
    {
      "cell_type": "markdown",
      "source": [
        "Once again there is a trade-off: the higher the recall (TPR), the more false positives\n",
        "(FPR) the classifier produces. The dotted line represents the ROC curve of a purely\n",
        "random classifier; a good classifier stays as far away from that line as possible (toward\n",
        "the top-left corner).\n",
        "\n",
        "One way to compare classifiers is to measure the area under the curve (AUC). A perfect\n",
        "classifier will have a ROC AUC equal to 1, whereas a purely random classifier will\n",
        "have a ROC AUC equal to 0.5."
      ],
      "metadata": {
        "id": "dUScpTFCeD0S"
      }
    },
    {
      "cell_type": "code",
      "source": [
        "roc_auc_score(y_train_5, y_scores)"
      ],
      "metadata": {
        "id": "ouz9PyMheVSN",
        "outputId": "e4ca4bfa-80a7-4f19-fd0d-8cbfc694b7dc",
        "colab": {
          "base_uri": "https://localhost:8080/"
        }
      },
      "execution_count": 43,
      "outputs": [
        {
          "output_type": "execute_result",
          "data": {
            "text/plain": [
              "0.9598058535696421"
            ]
          },
          "metadata": {},
          "execution_count": 43
        }
      ]
    },
    {
      "cell_type": "markdown",
      "source": [
        ">As a rule\n",
        "of thumb, you should prefer the PR curve whenever the positive\n",
        "class is rare or when you care more about the false positives than\n",
        "the false negatives. Otherwise, use the ROC curve.\n",
        "\n",
        "Let’s now train a RandomForestClassifier and compare its ROC curve and ROC\n",
        "AUC score to those of the SGDClassifier.\n",
        "\n"
      ],
      "metadata": {
        "id": "Ad5qWPsqelsa"
      }
    },
    {
      "cell_type": "code",
      "source": [
        "forest_clf = RandomForestClassifier(random_state=42)\n",
        "\n",
        "# predict_proba() method returns an array containing a row per instance and a column per class, \n",
        "# each containing the probability that the given instance belongs to the given class\n",
        "y_probs_forest = cross_val_predict(forest_clf, x_train, y_train_5, cv=3, method=\"predict_proba\")"
      ],
      "metadata": {
        "id": "VHug097IewZV"
      },
      "execution_count": 44,
      "outputs": []
    },
    {
      "cell_type": "markdown",
      "source": [
        "The `roc_curve()` function expects labels and scores, but instead of scores you can give it class probabilities. \n",
        "\n",
        "Let’s use the positive class’s probability as the score:"
      ],
      "metadata": {
        "id": "jCbuH0Tdfej4"
      }
    },
    {
      "cell_type": "code",
      "source": [
        "y_scores_forest = y_probs_forest[:, 1]  # score = probability of positive class\n",
        "fpr_forest, tpr_forest, thresholds_forest = roc_curve(y_train_5, y_scores_forest)"
      ],
      "metadata": {
        "id": "0RhVswP4fXvW"
      },
      "execution_count": 45,
      "outputs": []
    },
    {
      "cell_type": "markdown",
      "source": [
        "Now you are ready to plot the ROC curve. It is useful to plot the first ROC curve as\n",
        "well to see how they compare."
      ],
      "metadata": {
        "id": "903R8C_Gf4nC"
      }
    },
    {
      "cell_type": "code",
      "source": [
        "plt.figure(figsize=(8, 6))\n",
        "plt.plot(fpr, tpr, \"b:\", linewidth=2, label=\"SGD\")\n",
        "plot_roc_curve(fpr_forest, tpr_forest, \"Random Forest\")\n",
        "plt.legend(loc=\"lower right\", fontsize=16)\n",
        "plt.show()"
      ],
      "metadata": {
        "id": "3G205fyuf5Ry",
        "outputId": "84719ea0-a9ec-4c23-d066-c84f99b19273",
        "colab": {
          "base_uri": "https://localhost:8080/",
          "height": 401
        }
      },
      "execution_count": 46,
      "outputs": [
        {
          "output_type": "display_data",
          "data": {
            "image/png": "[encoded data removed]",
            "text/plain": [
              "<Figure size 576x432 with 1 Axes>"
            ]
          },
          "metadata": {
            "needs_background": "light"
          }
        }
      ]
    },
    {
      "cell_type": "markdown",
      "source": [
        "As you can see, the RandomForestClassifier’s ROC curve looks much\n",
        "better than the SGDClassifier’s: it comes much closer to the top-left corner. \n",
        "\n",
        "As a result, its ROC AUC score is also significantly better:"
      ],
      "metadata": {
        "id": "Pn3lNT6ogNBG"
      }
    },
    {
      "cell_type": "code",
      "source": [
        "roc_auc_score(y_train_5, y_scores_forest)"
      ],
      "metadata": {
        "id": "rZI7J9FkgRqP",
        "outputId": "f43d35f6-4922-4fa5-ef6e-035be6966be1",
        "colab": {
          "base_uri": "https://localhost:8080/"
        }
      },
      "execution_count": 47,
      "outputs": [
        {
          "output_type": "execute_result",
          "data": {
            "text/plain": [
              "0.9983631764491033"
            ]
          },
          "metadata": {},
          "execution_count": 47
        }
      ]
    },
    {
      "cell_type": "markdown",
      "source": [
        "Try measuring the precision and recall scores: you should find 99.0% precision and\n",
        "86.6% recall. Not too bad!"
      ],
      "metadata": {
        "id": "HxSfK_2YgkGA"
      }
    },
    {
      "cell_type": "code",
      "source": [
        "y_train_pred_forest = cross_val_predict(forest_clf, x_train, y_train_5, cv=3)\n",
        "precision_score(y_train_5, y_train_pred_forest)"
      ],
      "metadata": {
        "id": "V8W-HJwXgkN_",
        "outputId": "ae2141de-4339-456e-91d3-b7c1425764cf",
        "colab": {
          "base_uri": "https://localhost:8080/"
        }
      },
      "execution_count": 48,
      "outputs": [
        {
          "output_type": "execute_result",
          "data": {
            "text/plain": [
              "0.9890893831305078"
            ]
          },
          "metadata": {},
          "execution_count": 48
        }
      ]
    },
    {
      "cell_type": "code",
      "source": [
        "recall_score(y_train_5, y_train_pred_forest)"
      ],
      "metadata": {
        "id": "WORLnshYguVT",
        "outputId": "eca39542-1da2-4c7d-c8d3-ee2662708f27",
        "colab": {
          "base_uri": "https://localhost:8080/"
        }
      },
      "execution_count": 49,
      "outputs": [
        {
          "output_type": "execute_result",
          "data": {
            "text/plain": [
              "0.8695812580704667"
            ]
          },
          "metadata": {},
          "execution_count": 49
        }
      ]
    },
    {
      "cell_type": "markdown",
      "source": [
        "You now know how to train binary classifiers, choose the appropriate metric for your\n",
        "task, evaluate your classifiers using cross-validation, select the precision/recall tradeoff\n",
        "that fits your needs, and use ROC curves and ROC AUC scores to compare various\n",
        "models."
      ],
      "metadata": {
        "id": "zPX-1IWdg4bx"
      }
    },
    {
      "cell_type": "markdown",
      "source": [
        "##Multiclass Classificatio"
      ],
      "metadata": {
        "id": "VJnWbafRg7DP"
      }
    },
    {
      "cell_type": "markdown",
      "source": [
        ""
      ],
      "metadata": {
        "id": "43_MXPIxg7uj"
      }
    }
  ]
}