{
  "nbformat": 4,
  "nbformat_minor": 0,
  "metadata": {
    "colab": {
      "name": "building-complex-models-using-functional-api.ipynb",
      "provenance": [],
      "include_colab_link": true
    },
    "kernelspec": {
      "name": "python3",
      "display_name": "Python 3"
    }
  },
  "cells": [
    {
      "cell_type": "markdown",
      "metadata": {
        "id": "view-in-github",
        "colab_type": "text"
      },
      "source": [
        "<a href=\"https://colab.research.google.com/github/rahiakela/hands-on-machine-learning-with-scikit-learn-keras-and-tensorflow/blob/10-introduction-to-artificial-neural-networks-with-keras/building_complex_models_using_functional_api.ipynb\" target=\"_parent\"><img src=\"https://colab.research.google.com/assets/colab-badge.svg\" alt=\"Open In Colab\"/></a>"
      ]
    },
    {
      "cell_type": "markdown",
      "metadata": {
        "id": "8B_MGi1kU7s4",
        "colab_type": "text"
      },
      "source": [
        "# Building Complex Models Using the Functional API"
      ]
    },
    {
      "cell_type": "markdown",
      "metadata": {
        "id": "upV7lWJ-U9Dy",
        "colab_type": "text"
      },
      "source": [
        "One example of a nonsequential neural network is a Wide & Deep neural network. This neural network architecture was introduced in a 2016 paper by Heng-Tze Cheng et al. It connects all or part of the inputs directly to the output layer.\n",
        "\n",
        "This architecture makes it possible for the neural network to learn both deep patterns (using the deep path) and simple rules (through the short path). In contrast, a regular MLP forces all the data to flow through the full stack of layers; thus, simple patterns in the data may end up being distorted by this sequence of transformations.\n",
        "\n",
        "<img src='https://github.com/rahiakela/img-repo/blob/master/hands-on-machine-learning-keras-tensorflow/wide-deep-neural-network-1.JPG?raw=1' width='800'/>"
      ]
    },
    {
      "cell_type": "markdown",
      "metadata": {
        "id": "MFpJQAIzZRay",
        "colab_type": "text"
      },
      "source": [
        "## Setup"
      ]
    },
    {
      "cell_type": "code",
      "metadata": {
        "id": "b_d7Mu17ZS20",
        "colab_type": "code",
        "colab": {
          "base_uri": "https://localhost:8080/",
          "height": 52
        },
        "outputId": "1b55a2b7-cb41-4f53-8d29-269162da9554"
      },
      "source": [
        "from __future__ import absolute_import, division, print_function, unicode_literals\n",
        "\n",
        "# TensorFlow and tf.keras\n",
        "try:\n",
        "  %tensorflow_version 2.x\n",
        "except Exception:\n",
        "  pass\n",
        "import tensorflow as tf\n",
        "\n",
        "# Helper libraries\n",
        "import numpy as np\n",
        "import matplotlib.pyplot as plt\n",
        "\n",
        "print(tf.__version__)"
      ],
      "execution_count": 1,
      "outputs": [
        {
          "output_type": "stream",
          "text": [
            "TensorFlow 2.x selected.\n",
            "2.0.0\n"
          ],
          "name": "stdout"
        }
      ]
    },
    {
      "cell_type": "code",
      "metadata": {
        "id": "lK0B2ZSdZYlc",
        "colab_type": "code",
        "colab": {}
      },
      "source": [
        "from tensorflow import keras"
      ],
      "execution_count": 0,
      "outputs": []
    },
    {
      "cell_type": "markdown",
      "metadata": {
        "id": "OjHMj-3zZi4W",
        "colab_type": "text"
      },
      "source": [
        "## Load database"
      ]
    },
    {
      "cell_type": "markdown",
      "metadata": {
        "id": "O2-eC2YJZjns",
        "colab_type": "text"
      },
      "source": [
        "Let’s switch to the California housing problem and tackle it using a regression neural network. For simplicity, we will use Scikit-Learn’s fetch_california_housing() function to load the data.\n",
        "\n",
        "After loading the data, we split it into a training set, a validation set, and a test set, and we scale all the features:"
      ]
    },
    {
      "cell_type": "code",
      "metadata": {
        "id": "kRE4nwbDZiHW",
        "colab_type": "code",
        "colab": {
          "base_uri": "https://localhost:8080/",
          "height": 35
        },
        "outputId": "97ce71f4-2d80-445c-8f8d-46a12a1dbbf2"
      },
      "source": [
        "from sklearn.datasets import fetch_california_housing\n",
        "from sklearn.model_selection import train_test_split\n",
        "from sklearn.preprocessing import StandardScaler\n",
        "\n",
        "# load dataset\n",
        "housing = fetch_california_housing()\n",
        "\n",
        "# split dataset into traing and test set \n",
        "X_train_full, X_test, y_train_full, y_test = train_test_split(housing.data, housing.target, random_state=42)\n",
        "\n",
        "# prepare validation set\n",
        "X_train, X_valid, y_train, y_valid = train_test_split(X_train_full, y_train_full, random_state=42)\n",
        "\n",
        "# scale all the features\n",
        "scaler = StandardScaler()\n",
        "X_train = scaler.fit_transform(X_train)\n",
        "X_valid = scaler.transform(X_valid)\n",
        "X_test = scaler.transform(X_test)"
      ],
      "execution_count": 3,
      "outputs": [
        {
          "output_type": "stream",
          "text": [
            "Downloading Cal. housing from https://ndownloader.figshare.com/files/5976036 to /root/scikit_learn_data\n"
          ],
          "name": "stderr"
        }
      ]
    },
    {
      "cell_type": "markdown",
      "metadata": {
        "id": "G-GlMhkUZ2-o",
        "colab_type": "text"
      },
      "source": [
        "## Build, train and evaluate the model using Functional API"
      ]
    },
    {
      "cell_type": "markdown",
      "metadata": {
        "id": "c67ETTggj7YU",
        "colab_type": "text"
      },
      "source": [
        "### Simple model"
      ]
    },
    {
      "cell_type": "code",
      "metadata": {
        "id": "CmBFH9XqZom9",
        "colab_type": "code",
        "colab": {
          "base_uri": "https://localhost:8080/",
          "height": 355
        },
        "outputId": "882bae2a-8a9a-4e9e-9717-79bafb92480c"
      },
      "source": [
        "input_layer = keras.layers.Input(shape=X_train.shape[1:])\n",
        "\n",
        "hidden_layer_1 = keras.layers.Dense(30, activation='relu')(input_layer)\n",
        "hidden_layer_2 = keras.layers.Dense(30, activation='relu')(hidden_layer_1)\n",
        "\n",
        "# we create a Concatenate layer to concatenate the input and the output of the second hidden layer.\n",
        "concat_layer = keras.layers.Concatenate()([input_layer, hidden_layer_2])\n",
        "\n",
        "output_layer = keras.layers.Dense(1)(concat_layer)\n",
        "\n",
        "model_1 = keras.Model(inputs=[input_layer], outputs=[output_layer])\n",
        "\n",
        "model_1.summary()"
      ],
      "execution_count": 6,
      "outputs": [
        {
          "output_type": "stream",
          "text": [
            "Model: \"model_2\"\n",
            "__________________________________________________________________________________________________\n",
            "Layer (type)                    Output Shape         Param #     Connected to                     \n",
            "==================================================================================================\n",
            "input_2 (InputLayer)            [(None, 8)]          0                                            \n",
            "__________________________________________________________________________________________________\n",
            "dense_3 (Dense)                 (None, 30)           270         input_2[0][0]                    \n",
            "__________________________________________________________________________________________________\n",
            "dense_4 (Dense)                 (None, 30)           930         dense_3[0][0]                    \n",
            "__________________________________________________________________________________________________\n",
            "concatenate_1 (Concatenate)     (None, 38)           0           input_2[0][0]                    \n",
            "                                                                 dense_4[0][0]                    \n",
            "__________________________________________________________________________________________________\n",
            "dense_5 (Dense)                 (None, 1)            39          concatenate_1[0][0]              \n",
            "==================================================================================================\n",
            "Total params: 1,239\n",
            "Trainable params: 1,239\n",
            "Non-trainable params: 0\n",
            "__________________________________________________________________________________________________\n"
          ],
          "name": "stdout"
        }
      ]
    },
    {
      "cell_type": "markdown",
      "metadata": {
        "id": "y-BMEfdIc1w0",
        "colab_type": "text"
      },
      "source": [
        "You should name at least the most important layers, especially when the model gets a bit complex like this."
      ]
    },
    {
      "cell_type": "code",
      "metadata": {
        "id": "tjcVsv7jcRqu",
        "colab_type": "code",
        "colab": {
          "base_uri": "https://localhost:8080/",
          "height": 355
        },
        "outputId": "f64f6320-ed1e-48a7-c8bd-8d706ed27c2b"
      },
      "source": [
        "input_layer = keras.layers.Input(shape=X_train.shape[1:], name='input_layer')\n",
        "\n",
        "hidden_layer_1 = keras.layers.Dense(30, activation='relu', name='hidden_layer_1')(input_layer)\n",
        "hidden_layer_2 = keras.layers.Dense(30, activation='relu', name='hidden_layer_2')(hidden_layer_1)\n",
        "\n",
        "# we create a Concatenate layer to concatenate the input and the output of the second hidden layer.\n",
        "concat_layer = keras.layers.Concatenate(name='concat_layer')([input_layer, hidden_layer_2])\n",
        "\n",
        "output_layer = keras.layers.Dense(1, name='output_layer')(concat_layer)\n",
        "\n",
        "model_2 = keras.Model(inputs=[input_layer], outputs=[output_layer])\n",
        "\n",
        "model_2.summary()"
      ],
      "execution_count": 7,
      "outputs": [
        {
          "output_type": "stream",
          "text": [
            "Model: \"model_3\"\n",
            "__________________________________________________________________________________________________\n",
            "Layer (type)                    Output Shape         Param #     Connected to                     \n",
            "==================================================================================================\n",
            "input_layer (InputLayer)        [(None, 8)]          0                                            \n",
            "__________________________________________________________________________________________________\n",
            "hidden_layer_1 (Dense)          (None, 30)           270         input_layer[0][0]                \n",
            "__________________________________________________________________________________________________\n",
            "hidden_layer_2 (Dense)          (None, 30)           930         hidden_layer_1[0][0]             \n",
            "__________________________________________________________________________________________________\n",
            "concat_layer (Concatenate)      (None, 38)           0           input_layer[0][0]                \n",
            "                                                                 hidden_layer_2[0][0]             \n",
            "__________________________________________________________________________________________________\n",
            "output_layer (Dense)            (None, 1)            39          concat_layer[0][0]               \n",
            "==================================================================================================\n",
            "Total params: 1,239\n",
            "Trainable params: 1,239\n",
            "Non-trainable params: 0\n",
            "__________________________________________________________________________________________________\n"
          ],
          "name": "stdout"
        }
      ]
    },
    {
      "cell_type": "code",
      "metadata": {
        "id": "YQh4CxLOflc_",
        "colab_type": "code",
        "colab": {
          "base_uri": "https://localhost:8080/",
          "height": 746
        },
        "outputId": "b9d746d0-b133-41fc-ab86-b71eb0f35e2c"
      },
      "source": [
        "# compile the model\n",
        "model_2.compile(optimizer=keras.optimizers.SGD(learning_rate=1e-3), loss='mean_squared_error')\n",
        "\n",
        "# train the model\n",
        "history = model_2.fit(X_train, y_train, epochs=20, validation_data=(X_valid, y_valid))"
      ],
      "execution_count": 28,
      "outputs": [
        {
          "output_type": "stream",
          "text": [
            "Train on 11610 samples, validate on 3870 samples\n",
            "Epoch 1/20\n",
            "11610/11610 [==============================] - 1s 100us/sample - loss: 0.4208 - val_loss: 0.4428\n",
            "Epoch 2/20\n",
            "11610/11610 [==============================] - 1s 70us/sample - loss: 0.4177 - val_loss: 0.5485\n",
            "Epoch 3/20\n",
            "11610/11610 [==============================] - 1s 70us/sample - loss: 0.4154 - val_loss: 0.4682\n",
            "Epoch 4/20\n",
            "11610/11610 [==============================] - 1s 66us/sample - loss: 0.4128 - val_loss: 0.4544\n",
            "Epoch 5/20\n",
            "11610/11610 [==============================] - 1s 65us/sample - loss: 0.4103 - val_loss: 0.4214\n",
            "Epoch 6/20\n",
            "11610/11610 [==============================] - 1s 67us/sample - loss: 0.4077 - val_loss: 0.5123\n",
            "Epoch 7/20\n",
            "11610/11610 [==============================] - 1s 65us/sample - loss: 0.4060 - val_loss: 0.4735\n",
            "Epoch 8/20\n",
            "11610/11610 [==============================] - 1s 65us/sample - loss: 0.4037 - val_loss: 0.4967\n",
            "Epoch 9/20\n",
            "11610/11610 [==============================] - 1s 66us/sample - loss: 0.4020 - val_loss: 0.4078\n",
            "Epoch 10/20\n",
            "11610/11610 [==============================] - 1s 65us/sample - loss: 0.4000 - val_loss: 0.3909\n",
            "Epoch 11/20\n",
            "11610/11610 [==============================] - 1s 64us/sample - loss: 0.3981 - val_loss: 0.5489\n",
            "Epoch 12/20\n",
            "11610/11610 [==============================] - 1s 64us/sample - loss: 0.3967 - val_loss: 0.3739\n",
            "Epoch 13/20\n",
            "11610/11610 [==============================] - 1s 63us/sample - loss: 0.3945 - val_loss: 0.5807\n",
            "Epoch 14/20\n",
            "11610/11610 [==============================] - 1s 61us/sample - loss: 0.3933 - val_loss: 0.4717\n",
            "Epoch 15/20\n",
            "11610/11610 [==============================] - 1s 64us/sample - loss: 0.3916 - val_loss: 0.3901\n",
            "Epoch 16/20\n",
            "11610/11610 [==============================] - 1s 65us/sample - loss: 0.3894 - val_loss: 0.5025\n",
            "Epoch 17/20\n",
            "11610/11610 [==============================] - 1s 68us/sample - loss: 0.3884 - val_loss: 0.4827\n",
            "Epoch 18/20\n",
            "11610/11610 [==============================] - 1s 66us/sample - loss: 0.3867 - val_loss: 0.4682\n",
            "Epoch 19/20\n",
            "11610/11610 [==============================] - 1s 67us/sample - loss: 0.3851 - val_loss: 0.4974\n",
            "Epoch 20/20\n",
            "11610/11610 [==============================] - 1s 65us/sample - loss: 0.3838 - val_loss: 0.4191\n"
          ],
          "name": "stdout"
        }
      ]
    },
    {
      "cell_type": "code",
      "metadata": {
        "id": "0Vd45IQXp57M",
        "colab_type": "code",
        "colab": {}
      },
      "source": [
        "# evaluate the model\n",
        "mse_test = model_2.evaluate(X_test, y_test)"
      ],
      "execution_count": 0,
      "outputs": []
    },
    {
      "cell_type": "code",
      "metadata": {
        "id": "KK-OjOsnp8tt",
        "colab_type": "code",
        "colab": {}
      },
      "source": [
        "\n",
        "# make prediction\n",
        "X_new = X_test[:3]\n",
        "y_pred = model_2.predict(X_new)"
      ],
      "execution_count": 0,
      "outputs": []
    },
    {
      "cell_type": "code",
      "metadata": {
        "id": "b6dqPQslgIoK",
        "colab_type": "code",
        "colab": {
          "base_uri": "https://localhost:8080/",
          "height": 269
        },
        "outputId": "9d285f60-9a46-453a-a158-10171b47373c"
      },
      "source": [
        "import pandas as pd\n",
        "\n",
        "plt.plot(pd.DataFrame(history.history))\n",
        "plt.grid(True)\n",
        "plt.gca().set_ylim(0, 1)\n",
        "plt.show()"
      ],
      "execution_count": 10,
      "outputs": [
        {
          "output_type": "display_data",
          "data": {
            "image/png": "[encoded data removed]",
            "text/plain": [
              "<Figure size 432x288 with 1 Axes>"
            ]
          },
          "metadata": {
            "tags": []
          }
        }
      ]
    },
    {
      "cell_type": "code",
      "metadata": {
        "id": "CVwCiHIBgL3S",
        "colab_type": "code",
        "colab": {
          "base_uri": "https://localhost:8080/",
          "height": 70
        },
        "outputId": "13b72c14-4bca-4871-ce3c-32b176d80de2"
      },
      "source": [
        "y_pred"
      ],
      "execution_count": 11,
      "outputs": [
        {
          "output_type": "execute_result",
          "data": {
            "text/plain": [
              "array([[0.7036232],\n",
              "       [1.7173119],\n",
              "       [3.4689217]], dtype=float32)"
            ]
          },
          "metadata": {
            "tags": []
          },
          "execution_count": 11
        }
      ]
    },
    {
      "cell_type": "markdown",
      "metadata": {
        "id": "BbmkpeNcjzPW",
        "colab_type": "text"
      },
      "source": [
        "### Complex Model of different subsets of input features through the wide or deep paths"
      ]
    },
    {
      "cell_type": "markdown",
      "metadata": {
        "id": "ArJSj5LCd09Q",
        "colab_type": "text"
      },
      "source": [
        "But what if you want to send a subset of the features through the wide path and a different subset (possibly overlapping) through the deep path.\n",
        "\n",
        "In this case, one solution is to use multiple inputs. \n",
        "\n",
        "For example, suppose we want to send five features through the wide path (features 0 to 4), and six features through the deep path (features 2 to 7):\n",
        "\n",
        "<img src='https://github.com/rahiakela/img-repo/blob/master/hands-on-machine-learning-keras-tensorflow/wide-deep-neural-network-2.JPG?raw=1' width='800'/>"
      ]
    },
    {
      "cell_type": "code",
      "metadata": {
        "id": "14Z0cSdrdVBG",
        "colab_type": "code",
        "colab": {
          "base_uri": "https://localhost:8080/",
          "height": 390
        },
        "outputId": "2d527e25-e53f-4852-d757-4d7c31b086f9"
      },
      "source": [
        "wide_input_layer = keras.layers.Input(shape=[5], name='wide_input_layer')\n",
        "deep_input_layer = keras.layers.Input(shape=[6], name='deep_input_layer')\n",
        "\n",
        "hidden_layer_1 = keras.layers.Dense(30, activation='relu', name='hidden_layer_1')(deep_input_layer)\n",
        "hidden_layer_2 = keras.layers.Dense(30, activation='relu', name='hidden_layer_2')(hidden_layer_1)\n",
        "\n",
        "# we create a Concatenate layer to concatenate the input and the output of the second hidden layer.\n",
        "concat_layer = keras.layers.Concatenate(name='concat_layer')([wide_input_layer, hidden_layer_2])\n",
        "\n",
        "output_layer = keras.layers.Dense(1, name='output_layer')(concat_layer)\n",
        "\n",
        "model_3 = keras.Model(inputs=[wide_input_layer, deep_input_layer], outputs=[output_layer])\n",
        "\n",
        "model_3.summary()"
      ],
      "execution_count": 8,
      "outputs": [
        {
          "output_type": "stream",
          "text": [
            "Model: \"model_4\"\n",
            "__________________________________________________________________________________________________\n",
            "Layer (type)                    Output Shape         Param #     Connected to                     \n",
            "==================================================================================================\n",
            "deep_input_layer (InputLayer)   [(None, 6)]          0                                            \n",
            "__________________________________________________________________________________________________\n",
            "hidden_layer_1 (Dense)          (None, 30)           210         deep_input_layer[0][0]           \n",
            "__________________________________________________________________________________________________\n",
            "wide_input_layer (InputLayer)   [(None, 5)]          0                                            \n",
            "__________________________________________________________________________________________________\n",
            "hidden_layer_2 (Dense)          (None, 30)           930         hidden_layer_1[0][0]             \n",
            "__________________________________________________________________________________________________\n",
            "concat_layer (Concatenate)      (None, 35)           0           wide_input_layer[0][0]           \n",
            "                                                                 hidden_layer_2[0][0]             \n",
            "__________________________________________________________________________________________________\n",
            "output_layer (Dense)            (None, 1)            36          concat_layer[0][0]               \n",
            "==================================================================================================\n",
            "Total params: 1,176\n",
            "Trainable params: 1,176\n",
            "Non-trainable params: 0\n",
            "__________________________________________________________________________________________________\n"
          ],
          "name": "stdout"
        }
      ]
    },
    {
      "cell_type": "markdown",
      "metadata": {
        "id": "o0Ycbjf4gUYT",
        "colab_type": "text"
      },
      "source": [
        "Note that we specified inputs=[input_A, input_B] when creating the model. \n",
        "\n",
        "Now we can compile the model as usual, but when we call the fit() method, instead of passing a single input matrix X_train , we must pass a pair of matrices (X_train_A, X_train_B) : one per input. \n",
        "\n",
        "The same is true for X_valid , and also for X_test and X_new when you call evaluate() or predict()"
      ]
    },
    {
      "cell_type": "code",
      "metadata": {
        "id": "D7DnBkTyfCkJ",
        "colab_type": "code",
        "colab": {
          "base_uri": "https://localhost:8080/",
          "height": 746
        },
        "outputId": "86e50326-2cc7-4415-c88d-cc84b50a9724"
      },
      "source": [
        "# compile the model\n",
        "model_3.compile(optimizer=keras.optimizers.SGD(learning_rate=1e-3), loss='mse')\n",
        "\n",
        "X_train_A, X_train_B = X_train[:, :5], X_train[:, 2:]\n",
        "X_valid_A, X_valid_B = X_valid[:, :5], X_valid[:, 2:]\n",
        "\n",
        "X_test_A, X_test_B = X_test[:, :5], X_test[:, 2:]\n",
        "X_new_A, X_new_B = X_test_A[:3], X_test_B[:3]\n",
        "\n",
        "# train the model\n",
        "history_3 = model_3.fit((X_train_A, X_train_B), y_train, epochs=20, validation_data=((X_valid_A, X_valid_B), y_valid))"
      ],
      "execution_count": 24,
      "outputs": [
        {
          "output_type": "stream",
          "text": [
            "Train on 11610 samples, validate on 3870 samples\n",
            "Epoch 1/20\n",
            "11610/11610 [==============================] - 2s 150us/sample - loss: 0.3980 - val_loss: 0.3756\n",
            "Epoch 2/20\n",
            "11610/11610 [==============================] - 1s 71us/sample - loss: 0.3970 - val_loss: 0.3734\n",
            "Epoch 3/20\n",
            "11610/11610 [==============================] - 1s 68us/sample - loss: 0.3965 - val_loss: 0.3728\n",
            "Epoch 4/20\n",
            "11610/11610 [==============================] - 1s 68us/sample - loss: 0.3953 - val_loss: 0.3806\n",
            "Epoch 5/20\n",
            "11610/11610 [==============================] - 1s 65us/sample - loss: 0.3949 - val_loss: 0.3741\n",
            "Epoch 6/20\n",
            "11610/11610 [==============================] - 1s 66us/sample - loss: 0.3939 - val_loss: 0.3709\n",
            "Epoch 7/20\n",
            "11610/11610 [==============================] - 1s 64us/sample - loss: 0.3935 - val_loss: 0.3705\n",
            "Epoch 8/20\n",
            "11610/11610 [==============================] - 1s 69us/sample - loss: 0.3924 - val_loss: 0.3694\n",
            "Epoch 9/20\n",
            "11610/11610 [==============================] - 1s 68us/sample - loss: 0.3918 - val_loss: 0.3698\n",
            "Epoch 10/20\n",
            "11610/11610 [==============================] - 1s 70us/sample - loss: 0.3913 - val_loss: 0.3701\n",
            "Epoch 11/20\n",
            "11610/11610 [==============================] - 1s 70us/sample - loss: 0.3908 - val_loss: 0.3700\n",
            "Epoch 12/20\n",
            "11610/11610 [==============================] - 1s 68us/sample - loss: 0.3905 - val_loss: 0.3702\n",
            "Epoch 13/20\n",
            "11610/11610 [==============================] - 1s 66us/sample - loss: 0.3896 - val_loss: 0.3671\n",
            "Epoch 14/20\n",
            "11610/11610 [==============================] - 1s 67us/sample - loss: 0.3887 - val_loss: 0.3662\n",
            "Epoch 15/20\n",
            "11610/11610 [==============================] - 1s 67us/sample - loss: 0.3878 - val_loss: 0.3740\n",
            "Epoch 16/20\n",
            "11610/11610 [==============================] - 1s 68us/sample - loss: 0.3876 - val_loss: 0.3665\n",
            "Epoch 17/20\n",
            "11610/11610 [==============================] - 1s 70us/sample - loss: 0.3871 - val_loss: 0.3650\n",
            "Epoch 18/20\n",
            "11610/11610 [==============================] - 1s 68us/sample - loss: 0.3868 - val_loss: 0.3647\n",
            "Epoch 19/20\n",
            "11610/11610 [==============================] - 1s 67us/sample - loss: 0.3858 - val_loss: 0.3648\n",
            "Epoch 20/20\n",
            "11610/11610 [==============================] - 1s 65us/sample - loss: 0.3854 - val_loss: 0.3721\n"
          ],
          "name": "stdout"
        }
      ]
    },
    {
      "cell_type": "code",
      "metadata": {
        "id": "kGAaAyybpqij",
        "colab_type": "code",
        "colab": {}
      },
      "source": [
        "# evaluate the model\n",
        "mse_test_3 = model_3.evaluate((X_test_A, X_test_B), y_test)"
      ],
      "execution_count": 0,
      "outputs": []
    },
    {
      "cell_type": "code",
      "metadata": {
        "id": "EPcEocdLpuWg",
        "colab_type": "code",
        "colab": {}
      },
      "source": [
        "# make prediction\n",
        "y_pred_3 = model_3.predict((X_new_A, X_new_B))"
      ],
      "execution_count": 0,
      "outputs": []
    },
    {
      "cell_type": "code",
      "metadata": {
        "id": "3FTX5fYSiKv0",
        "colab_type": "code",
        "colab": {
          "base_uri": "https://localhost:8080/",
          "height": 269
        },
        "outputId": "8e66d47e-bd77-4a73-ba5d-3831e70aa105"
      },
      "source": [
        "import pandas as pd\n",
        "\n",
        "plt.plot(pd.DataFrame(history_3.history))\n",
        "plt.grid(True)\n",
        "plt.gca().set_ylim(0, 1)\n",
        "plt.show()"
      ],
      "execution_count": 14,
      "outputs": [
        {
          "output_type": "display_data",
          "data": {
            "image/png": "[encoded data removed]",
            "text/plain": [
              "<Figure size 432x288 with 1 Axes>"
            ]
          },
          "metadata": {
            "tags": []
          }
        }
      ]
    },
    {
      "cell_type": "code",
      "metadata": {
        "id": "pRFtBHFBjDtg",
        "colab_type": "code",
        "colab": {
          "base_uri": "https://localhost:8080/",
          "height": 70
        },
        "outputId": "ca11b934-86eb-4ac1-d36c-23d893c41354"
      },
      "source": [
        "y_pred_3"
      ],
      "execution_count": 15,
      "outputs": [
        {
          "output_type": "execute_result",
          "data": {
            "text/plain": [
              "array([[0.43577743],\n",
              "       [2.211489  ],\n",
              "       [3.3451598 ]], dtype=float32)"
            ]
          },
          "metadata": {
            "tags": []
          },
          "execution_count": 15
        }
      ]
    },
    {
      "cell_type": "markdown",
      "metadata": {
        "id": "bRMmszg9idOx",
        "colab_type": "text"
      },
      "source": [
        "There are many use cases in which you may want to have multiple outputs: \n",
        "* The task may demand it. For instance, you may want to locate and classify the main object in a picture. This is both a regression task (finding the coordinates of the object’s center, as well as its width and height) and a classification task. \n",
        "* Similarly, you may have multiple independent tasks based on the same data. Sure, you could train one neural network per task, but in many cases you will get better results on all tasks by training a single neural network with one output per task. This is because the neural network can learn features in the data that are useful across tasks. For example, you could perform multitask classification on pictures of faces, using one output to classify the person’s facial expression (smiling, surprised, etc.) and another output to identify whether they are wearing glasses or not."
      ]
    },
    {
      "cell_type": "markdown",
      "metadata": {
        "id": "YX0qCCntkLyw",
        "colab_type": "text"
      },
      "source": [
        "### Handling multiple outputs by adding an auxiliary output for regularization"
      ]
    },
    {
      "cell_type": "markdown",
      "metadata": {
        "id": "v9heD2_4kNRm",
        "colab_type": "text"
      },
      "source": [
        "Another use case is as a regularization technique (i.e., a training constraint whose objective is to reduce overfitting and thus improve the model’s ability to generalize). For example, you may want to add some auxiliary outputs in a neural network architecture to ensure that the underlying part of the network learns something useful on its own, without relying on the rest of the network.\n",
        "\n",
        "<img src='https://github.com/rahiakela/img-repo/blob/master/hands-on-machine-learning-keras-tensorflow/wide-deep-neural-network-3.JPG?raw=1' width='800'/>\n",
        "\n",
        "Adding extra outputs is quite easy: just connect them to the appropriate layers and add them to your model’s list of outputs."
      ]
    },
    {
      "cell_type": "code",
      "metadata": {
        "id": "CEy05XmrkuVD",
        "colab_type": "code",
        "colab": {
          "base_uri": "https://localhost:8080/",
          "height": 426
        },
        "outputId": "6c6f27ec-955b-453c-e2f3-ff97aebdb3c0"
      },
      "source": [
        "wide_input_layer = keras.layers.Input(shape=[5], name='wide_input_layer')\n",
        "deep_input_layer = keras.layers.Input(shape=[6], name='deep_input_layer')\n",
        "\n",
        "hidden_layer_1 = keras.layers.Dense(30, activation='relu', name='hidden_layer_1')(deep_input_layer)\n",
        "hidden_layer_2 = keras.layers.Dense(30, activation='relu', name='hidden_layer_2')(hidden_layer_1)\n",
        "\n",
        "# we create a Concatenate layer to concatenate the input and the output of the second hidden layer.\n",
        "concat_layer = keras.layers.Concatenate(name='concat_layer')([wide_input_layer, hidden_layer_2])\n",
        "\n",
        "main_output_layer = keras.layers.Dense(1, name='main_output_layer')(concat_layer)\n",
        "auxiliary_output_layer = keras.layers.Dense(1, name='auxiliary_output_layer')(hidden_layer_2)\n",
        "\n",
        "model_4 = keras.Model(inputs=[wide_input_layer, deep_input_layer], outputs=[main_output_layer, auxiliary_output_layer])\n",
        "\n",
        "model_4.summary()"
      ],
      "execution_count": 16,
      "outputs": [
        {
          "output_type": "stream",
          "text": [
            "Model: \"model_5\"\n",
            "__________________________________________________________________________________________________\n",
            "Layer (type)                    Output Shape         Param #     Connected to                     \n",
            "==================================================================================================\n",
            "deep_input_layer (InputLayer)   [(None, 6)]          0                                            \n",
            "__________________________________________________________________________________________________\n",
            "hidden_layer_1 (Dense)          (None, 30)           210         deep_input_layer[0][0]           \n",
            "__________________________________________________________________________________________________\n",
            "wide_input_layer (InputLayer)   [(None, 5)]          0                                            \n",
            "__________________________________________________________________________________________________\n",
            "hidden_layer_2 (Dense)          (None, 30)           930         hidden_layer_1[0][0]             \n",
            "__________________________________________________________________________________________________\n",
            "concat_layer (Concatenate)      (None, 35)           0           wide_input_layer[0][0]           \n",
            "                                                                 hidden_layer_2[0][0]             \n",
            "__________________________________________________________________________________________________\n",
            "main_output_layer (Dense)       (None, 1)            36          concat_layer[0][0]               \n",
            "__________________________________________________________________________________________________\n",
            "auxiliary_output_layer (Dense)  (None, 1)            31          hidden_layer_2[0][0]             \n",
            "==================================================================================================\n",
            "Total params: 1,207\n",
            "Trainable params: 1,207\n",
            "Non-trainable params: 0\n",
            "__________________________________________________________________________________________________\n"
          ],
          "name": "stdout"
        }
      ]
    },
    {
      "cell_type": "markdown",
      "metadata": {
        "id": "Jl_LiLHjl7Xd",
        "colab_type": "text"
      },
      "source": [
        "Each output will need its own loss function. Therefore, when we compile the model, we should pass a list of losses (if we pass a single loss, Keras will assume that the same loss must be used for all outputs). \n",
        "\n",
        "By default, Keras will compute all these losses and simply add them up to get the final loss used for training. We care much more about the main output than about the auxiliary output (as it is just used for regularization), so we want to give the main output’s loss a much greater weight. \n",
        "\n",
        "Fortunately, it is possible to set all the loss weights when compiling the model:"
      ]
    },
    {
      "cell_type": "code",
      "metadata": {
        "id": "_9U7DLjUlr-V",
        "colab_type": "code",
        "colab": {}
      },
      "source": [
        "model_4.compile(loss=['mse', 'mse'], loss_weights=[0.9, 0.1], optimizer='sgd')"
      ],
      "execution_count": 0,
      "outputs": []
    },
    {
      "cell_type": "markdown",
      "metadata": {
        "id": "vEhK3RMimSHL",
        "colab_type": "text"
      },
      "source": [
        "Now when we train the model, we need to provide labels for each output. In this example, the main output and the auxiliary output should try to predict the same thing, so they should use the same labels. \n",
        "\n",
        "So instead of passing y_train , we need to pass (y_train, y_train) (and the same goes for y_valid and y_test ):"
      ]
    },
    {
      "cell_type": "code",
      "metadata": {
        "id": "BX4llILzmodj",
        "colab_type": "code",
        "colab": {
          "base_uri": "https://localhost:8080/",
          "height": 766
        },
        "outputId": "d0464f27-7318-4f93-b3eb-a64ddc1c11b7"
      },
      "source": [
        "history_4 = model_4.fit([X_train_A, X_train_B], [y_train, y_train], epochs=20, validation_data=([X_valid_A, X_valid_B], [y_valid, y_valid]))"
      ],
      "execution_count": 18,
      "outputs": [
        {
          "output_type": "stream",
          "text": [
            "Train on 11610 samples, validate on 3870 samples\n",
            "Epoch 1/20\n",
            "11610/11610 [==============================] - 2s 135us/sample - loss: 1.1501 - main_output_layer_loss: 0.9745 - auxiliary_output_layer_loss: 2.7273 - val_loss: 0.9434 - val_main_output_layer_loss: 0.7758 - val_auxiliary_output_layer_loss: 2.4488\n",
            "Epoch 2/20\n",
            "11610/11610 [==============================] - 1s 78us/sample - loss: 0.5487 - main_output_layer_loss: 0.4837 - auxiliary_output_layer_loss: 1.1333 - val_loss: 0.8921 - val_main_output_layer_loss: 0.8022 - val_auxiliary_output_layer_loss: 1.6975\n",
            "Epoch 3/20\n",
            "11610/11610 [==============================] - 1s 75us/sample - loss: 0.4935 - main_output_layer_loss: 0.4440 - auxiliary_output_layer_loss: 0.9396 - val_loss: 0.9190 - val_main_output_layer_loss: 0.8958 - val_auxiliary_output_layer_loss: 1.1239\n",
            "Epoch 4/20\n",
            "11610/11610 [==============================] - 1s 74us/sample - loss: 0.4651 - main_output_layer_loss: 0.4274 - auxiliary_output_layer_loss: 0.8039 - val_loss: 1.1466 - val_main_output_layer_loss: 1.1781 - val_auxiliary_output_layer_loss: 0.8582\n",
            "Epoch 5/20\n",
            "11610/11610 [==============================] - 1s 75us/sample - loss: 0.4603 - main_output_layer_loss: 0.4304 - auxiliary_output_layer_loss: 0.7283 - val_loss: 0.5427 - val_main_output_layer_loss: 0.5276 - val_auxiliary_output_layer_loss: 0.6768\n",
            "Epoch 6/20\n",
            "11610/11610 [==============================] - 1s 72us/sample - loss: 0.4284 - main_output_layer_loss: 0.4020 - auxiliary_output_layer_loss: 0.6655 - val_loss: 0.5298 - val_main_output_layer_loss: 0.5183 - val_auxiliary_output_layer_loss: 0.6318\n",
            "Epoch 7/20\n",
            "11610/11610 [==============================] - 1s 76us/sample - loss: 0.4158 - main_output_layer_loss: 0.3917 - auxiliary_output_layer_loss: 0.6312 - val_loss: 0.3999 - val_main_output_layer_loss: 0.3763 - val_auxiliary_output_layer_loss: 0.6104\n",
            "Epoch 8/20\n",
            "11610/11610 [==============================] - 1s 75us/sample - loss: 0.4086 - main_output_layer_loss: 0.3862 - auxiliary_output_layer_loss: 0.6096 - val_loss: 0.3874 - val_main_output_layer_loss: 0.3647 - val_auxiliary_output_layer_loss: 0.5910\n",
            "Epoch 9/20\n",
            "11610/11610 [==============================] - 1s 71us/sample - loss: 0.4009 - main_output_layer_loss: 0.3793 - auxiliary_output_layer_loss: 0.5951 - val_loss: 0.4364 - val_main_output_layer_loss: 0.4132 - val_auxiliary_output_layer_loss: 0.6434\n",
            "Epoch 10/20\n",
            "11610/11610 [==============================] - 1s 71us/sample - loss: 0.3949 - main_output_layer_loss: 0.3737 - auxiliary_output_layer_loss: 0.5857 - val_loss: 0.3663 - val_main_output_layer_loss: 0.3432 - val_auxiliary_output_layer_loss: 0.5727\n",
            "Epoch 11/20\n",
            "11610/11610 [==============================] - 1s 73us/sample - loss: 0.3911 - main_output_layer_loss: 0.3706 - auxiliary_output_layer_loss: 0.5771 - val_loss: 0.4538 - val_main_output_layer_loss: 0.4312 - val_auxiliary_output_layer_loss: 0.6551\n",
            "Epoch 12/20\n",
            "11610/11610 [==============================] - 1s 72us/sample - loss: 0.3949 - main_output_layer_loss: 0.3753 - auxiliary_output_layer_loss: 0.5716 - val_loss: 0.3590 - val_main_output_layer_loss: 0.3357 - val_auxiliary_output_layer_loss: 0.5680\n",
            "Epoch 13/20\n",
            "11610/11610 [==============================] - 1s 73us/sample - loss: 0.3818 - main_output_layer_loss: 0.3620 - auxiliary_output_layer_loss: 0.5596 - val_loss: 0.3920 - val_main_output_layer_loss: 0.3670 - val_auxiliary_output_layer_loss: 0.6158\n",
            "Epoch 14/20\n",
            "11610/11610 [==============================] - 1s 76us/sample - loss: 0.3782 - main_output_layer_loss: 0.3590 - auxiliary_output_layer_loss: 0.5527 - val_loss: 0.4028 - val_main_output_layer_loss: 0.3876 - val_auxiliary_output_layer_loss: 0.5380\n",
            "Epoch 15/20\n",
            "11610/11610 [==============================] - 1s 72us/sample - loss: 0.3721 - main_output_layer_loss: 0.3530 - auxiliary_output_layer_loss: 0.5447 - val_loss: 0.4271 - val_main_output_layer_loss: 0.4160 - val_auxiliary_output_layer_loss: 0.5259\n",
            "Epoch 16/20\n",
            "11610/11610 [==============================] - 1s 75us/sample - loss: 0.3677 - main_output_layer_loss: 0.3491 - auxiliary_output_layer_loss: 0.5373 - val_loss: 0.3813 - val_main_output_layer_loss: 0.3622 - val_auxiliary_output_layer_loss: 0.5523\n",
            "Epoch 17/20\n",
            "11610/11610 [==============================] - 1s 74us/sample - loss: 0.3649 - main_output_layer_loss: 0.3466 - auxiliary_output_layer_loss: 0.5308 - val_loss: 0.3395 - val_main_output_layer_loss: 0.3201 - val_auxiliary_output_layer_loss: 0.5136\n",
            "Epoch 18/20\n",
            "11610/11610 [==============================] - 1s 74us/sample - loss: 0.3626 - main_output_layer_loss: 0.3447 - auxiliary_output_layer_loss: 0.5249 - val_loss: 0.3939 - val_main_output_layer_loss: 0.3739 - val_auxiliary_output_layer_loss: 0.5731\n",
            "Epoch 19/20\n",
            "11610/11610 [==============================] - 1s 74us/sample - loss: 0.3596 - main_output_layer_loss: 0.3421 - auxiliary_output_layer_loss: 0.5175 - val_loss: 0.3351 - val_main_output_layer_loss: 0.3162 - val_auxiliary_output_layer_loss: 0.5049\n",
            "Epoch 20/20\n",
            "11610/11610 [==============================] - 1s 74us/sample - loss: 0.3557 - main_output_layer_loss: 0.3385 - auxiliary_output_layer_loss: 0.5109 - val_loss: 0.3423 - val_main_output_layer_loss: 0.3228 - val_auxiliary_output_layer_loss: 0.5171\n"
          ],
          "name": "stdout"
        }
      ]
    },
    {
      "cell_type": "markdown",
      "metadata": {
        "id": "8tehEiSmnM2t",
        "colab_type": "text"
      },
      "source": [
        "When we evaluate the model, Keras will return the total loss, as well as all the individual losses:"
      ]
    },
    {
      "cell_type": "code",
      "metadata": {
        "id": "XWPIZEvSnYRa",
        "colab_type": "code",
        "colab": {}
      },
      "source": [
        "total_loss, main_loss, aux_loss = model_4.evaluate([X_test_A, X_test_B], [y_test, y_test])"
      ],
      "execution_count": 0,
      "outputs": []
    },
    {
      "cell_type": "markdown",
      "metadata": {
        "id": "OMkrZDKJnw0V",
        "colab_type": "text"
      },
      "source": [
        "Similarly, the predict() method will return predictions for each output:"
      ]
    },
    {
      "cell_type": "code",
      "metadata": {
        "id": "IXl3YQlansED",
        "colab_type": "code",
        "colab": {}
      },
      "source": [
        "y_pred_main, y_pred_aux = model_4.predict([X_new_A, X_new_B])"
      ],
      "execution_count": 0,
      "outputs": []
    },
    {
      "cell_type": "code",
      "metadata": {
        "id": "asHJ_QF_n83K",
        "colab_type": "code",
        "colab": {
          "base_uri": "https://localhost:8080/",
          "height": 269
        },
        "outputId": "dcc42bde-cf75-4b63-f4bc-60d00ad24c14"
      },
      "source": [
        "plt.plot(pd.DataFrame(history_4.history))\n",
        "plt.grid(True)\n",
        "plt.gca().set_ylim(0, 1)\n",
        "plt.show()"
      ],
      "execution_count": 21,
      "outputs": [
        {
          "output_type": "display_data",
          "data": {
            "image/png": "[encoded data removed]",
            "text/plain": [
              "<Figure size 432x288 with 1 Axes>"
            ]
          },
          "metadata": {
            "tags": []
          }
        }
      ]
    },
    {
      "cell_type": "code",
      "metadata": {
        "id": "30639rhfoGWd",
        "colab_type": "code",
        "colab": {
          "base_uri": "https://localhost:8080/",
          "height": 70
        },
        "outputId": "af3d3b39-36db-458e-8430-4364af67f745"
      },
      "source": [
        "y_pred_main"
      ],
      "execution_count": 22,
      "outputs": [
        {
          "output_type": "execute_result",
          "data": {
            "text/plain": [
              "array([[0.39339703],\n",
              "       [1.6305541 ],\n",
              "       [3.5864131 ]], dtype=float32)"
            ]
          },
          "metadata": {
            "tags": []
          },
          "execution_count": 22
        }
      ]
    },
    {
      "cell_type": "code",
      "metadata": {
        "id": "utZZSQ89oOGF",
        "colab_type": "code",
        "colab": {
          "base_uri": "https://localhost:8080/",
          "height": 70
        },
        "outputId": "59eced96-444e-413b-afd9-5e66141cee5a"
      },
      "source": [
        "y_pred_aux"
      ],
      "execution_count": 23,
      "outputs": [
        {
          "output_type": "execute_result",
          "data": {
            "text/plain": [
              "array([[0.78110915],\n",
              "       [1.9567468 ],\n",
              "       [3.0371788 ]], dtype=float32)"
            ]
          },
          "metadata": {
            "tags": []
          },
          "execution_count": 23
        }
      ]
    },
    {
      "cell_type": "code",
      "metadata": {
        "id": "QuBHFstmoPpZ",
        "colab_type": "code",
        "colab": {}
      },
      "source": [
        ""
      ],
      "execution_count": 0,
      "outputs": []
    }
  ]
}