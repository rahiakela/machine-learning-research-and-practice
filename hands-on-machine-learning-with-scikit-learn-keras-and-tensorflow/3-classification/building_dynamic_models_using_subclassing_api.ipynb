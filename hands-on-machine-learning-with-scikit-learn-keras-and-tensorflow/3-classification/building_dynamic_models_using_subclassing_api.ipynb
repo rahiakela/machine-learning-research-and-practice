{
  "nbformat": 4,
  "nbformat_minor": 0,
  "metadata": {
    "colab": {
      "name": "building-dynamic-models-using-subclassing-api.ipynb",
      "provenance": [],
      "include_colab_link": true
    },
    "kernelspec": {
      "name": "python3",
      "display_name": "Python 3"
    }
  },
  "cells": [
    {
      "cell_type": "markdown",
      "metadata": {
        "id": "view-in-github",
        "colab_type": "text"
      },
      "source": [
        "<a href=\"https://colab.research.google.com/github/rahiakela/hands-on-machine-learning-with-scikit-learn-keras-and-tensorflow/blob/10-introduction-to-artificial-neural-networks-with-keras/building_dynamic_models_using_subclassing_api.ipynb\" target=\"_parent\"><img src=\"https://colab.research.google.com/assets/colab-badge.svg\" alt=\"Open In Colab\"/></a>"
      ]
    },
    {
      "cell_type": "markdown",
      "metadata": {
        "id": "U6arFDNWBkvP",
        "colab_type": "text"
      },
      "source": [
        "# Using the Subclassing API to Build Dynamic Models"
      ]
    },
    {
      "cell_type": "markdown",
      "metadata": {
        "id": "0UG35GbhCTUo",
        "colab_type": "text"
      },
      "source": [
        "Both the Sequential API and the Functional API are declarative: you start by declaring which layers you want to use and how they should be connected, and only then can you start feeding the model some data for training or inference. \n",
        "\n",
        "This has many advantages: the model can easily be saved, cloned, and shared; its structure can be displayed and analyzed; the framework can infer shapes and check types, so errors can be caught early (i.e., before any data ever goes through the model). It’s also fairly easy to debug, since the whole model is a static graph of layers. \n",
        "\n",
        "But the flip side is just that: it’s static. Some models involve loops, varying shapes, conditional branching, and other dynamic behaviors. For such cases, or simply if you prefer a more imperative programming style, the Subclassing API is for you.\n",
        "\n",
        "Simply subclass the Model class, create the layers you need in the constructor, and use them to perform the computations you want in the call() method."
      ]
    },
    {
      "cell_type": "markdown",
      "metadata": {
        "id": "rxUU3ItXF-_Z",
        "colab_type": "text"
      },
      "source": [
        "## Setup"
      ]
    },
    {
      "cell_type": "code",
      "metadata": {
        "id": "v_HVzJsjF8Cy",
        "colab_type": "code",
        "colab": {
          "base_uri": "https://localhost:8080/",
          "height": 52
        },
        "outputId": "3c9ca578-f2fa-4a21-882c-7834f2339e29"
      },
      "source": [
        "from __future__ import absolute_import, division, print_function, unicode_literals\n",
        "\n",
        "# TensorFlow and tf.keras\n",
        "try:\n",
        "  %tensorflow_version 2.x\n",
        "except Exception:\n",
        "  pass\n",
        "import tensorflow as tf\n",
        "from tensorflow import keras\n",
        "\n",
        "# Helper libraries\n",
        "import numpy as np\n",
        "import matplotlib.pyplot as plt\n",
        "\n",
        "print(tf.__version__)"
      ],
      "execution_count": 1,
      "outputs": [
        {
          "output_type": "stream",
          "text": [
            "TensorFlow 2.x selected.\n",
            "2.0.0\n"
          ],
          "name": "stdout"
        }
      ]
    },
    {
      "cell_type": "markdown",
      "metadata": {
        "id": "dgzZ_g0MGJug",
        "colab_type": "text"
      },
      "source": [
        "## Load database"
      ]
    },
    {
      "cell_type": "markdown",
      "metadata": {
        "id": "fRrQ_ovZGLbO",
        "colab_type": "text"
      },
      "source": [
        "Let’s switch to the California housing problem and tackle it using a regression neural network. For simplicity, we will use Scikit-Learn’s fetch_california_housing() function to load the data.\n",
        "\n",
        "After loading the data, we split it into a training set, a validation set, and a test set, and we scale all the features:"
      ]
    },
    {
      "cell_type": "code",
      "metadata": {
        "id": "DqhrZpqjGNkS",
        "colab_type": "code",
        "colab": {
          "base_uri": "https://localhost:8080/",
          "height": 35
        },
        "outputId": "c30db1c1-0381-4a92-d2d3-02581ae60a06"
      },
      "source": [
        "from sklearn.datasets import fetch_california_housing\n",
        "from sklearn.model_selection import train_test_split\n",
        "from sklearn.preprocessing import StandardScaler\n",
        "\n",
        "# load dataset\n",
        "housing = fetch_california_housing()\n",
        "\n",
        "# split dataset into traing and test set \n",
        "X_train_full, X_test, y_train_full, y_test = train_test_split(housing.data, housing.target, random_state=42)\n",
        "\n",
        "# prepare validation set\n",
        "X_train, X_valid, y_train, y_valid = train_test_split(X_train_full, y_train_full, random_state=42)\n",
        "\n",
        "# scale all the features\n",
        "scaler = StandardScaler()\n",
        "X_train = scaler.fit_transform(X_train)\n",
        "X_valid = scaler.transform(X_valid)\n",
        "X_test = scaler.transform(X_test)"
      ],
      "execution_count": 2,
      "outputs": [
        {
          "output_type": "stream",
          "text": [
            "Downloading Cal. housing from https://ndownloader.figshare.com/files/5976036 to /root/scikit_learn_data\n"
          ],
          "name": "stderr"
        }
      ]
    },
    {
      "cell_type": "markdown",
      "metadata": {
        "id": "Jht8pNjaGUm2",
        "colab_type": "text"
      },
      "source": [
        "## Build, train and evaluate the model using Subclassing API"
      ]
    },
    {
      "cell_type": "markdown",
      "metadata": {
        "id": "Bt5p8bijJfCn",
        "colab_type": "text"
      },
      "source": [
        "### Handling multiple outputs by adding an auxiliary output for regularization"
      ]
    },
    {
      "cell_type": "markdown",
      "metadata": {
        "id": "aJBqF_Y2JhQ1",
        "colab_type": "text"
      },
      "source": [
        "Another use case is as a regularization technique (i.e., a training constraint whose objective is to reduce overfitting and thus improve the model’s ability to generalize). For example, you may want to add some auxiliary outputs in a neural network architecture to ensure that the underlying part of the network learns something useful on its own, without relying on the rest of the network.\n",
        "\n",
        "<img src='https://github.com/rahiakela/img-repo/blob/master/hands-on-machine-learning-keras-tensorflow/wide-deep-neural-network-3.JPG?raw=1' width='800'/>\n",
        "\n",
        "Adding extra outputs is quite easy: just connect them to the appropriate layers and add them to your model’s list of outputs."
      ]
    },
    {
      "cell_type": "code",
      "metadata": {
        "id": "K8IOyJvyGYQU",
        "colab_type": "code",
        "colab": {}
      },
      "source": [
        "class WideAndDeepModel(keras.models.Model):\n",
        "\n",
        "  def __init__(self, units=30, activation='relu', **kwargs):\n",
        "    super().__init__(**kwargs)\n",
        "    self.first_hidden_layer = keras.layers.Dense(units, activation=activation, name='first_hidden_layer')\n",
        "    self.second_hidden_layer = keras.layers.Dense(units, activation=activation, name='second_hidden_layer')\n",
        "    self.main_output_layer = keras.layers.Dense(1, name='main_output_layer')\n",
        "    self.auxiliary_output_layer = keras.layers.Dense(1, name='auxiliary_output_layer')\n",
        "\n",
        "  def call(self, inputs):\n",
        "    wide_input_layer, deep_input_layer = inputs\n",
        "    first_hidden_layer = self.first_hidden_layer(deep_input_layer)\n",
        "    second_hidden_layer = self.second_hidden_layer(first_hidden_layer)\n",
        "\n",
        "    concat_layer = keras.layers.concatenate([wide_input_layer, second_hidden_layer], name='concat_layer')\n",
        "\n",
        "    main_output_layer = self.main_output_layer(concat_layer)\n",
        "    auxiliary_output_layer = self.auxiliary_output_layer(second_hidden_layer)\n",
        "\n",
        "    return main_output_layer, auxiliary_output_layer\n",
        "\n",
        "model = WideAndDeepModel(30, activation='relu')"
      ],
      "execution_count": 0,
      "outputs": []
    },
    {
      "cell_type": "markdown",
      "metadata": {
        "id": "-4T97k_RKb8J",
        "colab_type": "text"
      },
      "source": [
        "This extra flexibility does come at a cost: your model’s architecture is hidden within the call() method, so Keras cannot easily inspect it; it cannot save or clone it; and when you call the summary() method, you only get a list of layers, without any information on how they are connected to each other. Moreover, Keras cannot check types and shapes ahead of time, and it is easier to make mistakes. So unless you really need that extra flexibility, you should probably stick to the Sequential API or the Functional API."
      ]
    },
    {
      "cell_type": "code",
      "metadata": {
        "id": "TGrQ_24BKAme",
        "colab_type": "code",
        "colab": {}
      },
      "source": [
        "# prepare data\n",
        "X_train_A, X_train_B = X_train[:, :5], X_train[:, 2:]\n",
        "X_valid_A, X_valid_B = X_valid[:, :5], X_valid[:, 2:]\n",
        "\n",
        "X_test_A, X_test_B = X_test[:, :5], X_test[:, 2:]\n",
        "X_new_A, X_new_B = X_test_A[:3], X_test_B[:3]"
      ],
      "execution_count": 0,
      "outputs": []
    },
    {
      "cell_type": "code",
      "metadata": {
        "id": "Sg-WNyQeKkuT",
        "colab_type": "code",
        "colab": {
          "base_uri": "https://localhost:8080/",
          "height": 675
        },
        "outputId": "d1450567-3433-46e9-82f7-026cf5c9f674"
      },
      "source": [
        "# compile the model\n",
        "model.compile(loss=\"mse\", loss_weights=[0.9, 0.1], optimizer=keras.optimizers.SGD(lr=1e-3))\n",
        "\n",
        "# train the model\n",
        "history = model.fit((X_train_A, X_train_B), (y_train, y_train), epochs=10,\n",
        "                    validation_data=((X_valid_A, X_valid_B), (y_valid, y_valid)))\n",
        "model.summary()"
      ],
      "execution_count": 10,
      "outputs": [
        {
          "output_type": "stream",
          "text": [
            "Train on 11610 samples, validate on 3870 samples\n",
            "Epoch 1/10\n",
            "11610/11610 [==============================] - 2s 175us/sample - loss: 2.4304 - output_1_loss: 2.2193 - output_2_loss: 4.3238 - val_loss: 9.8173 - val_output_1_loss: 10.3965 - val_output_2_loss: 4.5578\n",
            "Epoch 2/10\n",
            "11610/11610 [==============================] - 1s 68us/sample - loss: 1.0044 - output_1_loss: 0.7947 - output_2_loss: 2.8907 - val_loss: 0.9052 - val_output_1_loss: 0.6424 - val_output_2_loss: 3.2679\n",
            "Epoch 3/10\n",
            "11610/11610 [==============================] - 1s 67us/sample - loss: 0.7668 - output_1_loss: 0.6173 - output_2_loss: 2.1130 - val_loss: 0.8568 - val_output_1_loss: 0.5960 - val_output_2_loss: 3.2019\n",
            "Epoch 4/10\n",
            "11610/11610 [==============================] - 1s 66us/sample - loss: 0.6894 - output_1_loss: 0.5738 - output_2_loss: 1.7289 - val_loss: 0.8059 - val_output_1_loss: 0.5538 - val_output_2_loss: 3.0725\n",
            "Epoch 5/10\n",
            "11610/11610 [==============================] - 1s 65us/sample - loss: 0.6408 - output_1_loss: 0.5418 - output_2_loss: 1.5323 - val_loss: 0.7353 - val_output_1_loss: 0.5049 - val_output_2_loss: 2.8061\n",
            "Epoch 6/10\n",
            "11610/11610 [==============================] - 1s 68us/sample - loss: 0.6063 - output_1_loss: 0.5164 - output_2_loss: 1.4151 - val_loss: 0.6770 - val_output_1_loss: 0.4801 - val_output_2_loss: 2.4465\n",
            "Epoch 7/10\n",
            "11610/11610 [==============================] - 1s 70us/sample - loss: 0.5808 - output_1_loss: 0.4967 - output_2_loss: 1.3367 - val_loss: 0.6297 - val_output_1_loss: 0.4606 - val_output_2_loss: 2.1497\n",
            "Epoch 8/10\n",
            "11610/11610 [==============================] - 1s 66us/sample - loss: 0.5605 - output_1_loss: 0.4808 - output_2_loss: 1.2776 - val_loss: 0.5932 - val_output_1_loss: 0.4534 - val_output_2_loss: 1.8500\n",
            "Epoch 9/10\n",
            "11610/11610 [==============================] - 1s 66us/sample - loss: 0.5454 - output_1_loss: 0.4691 - output_2_loss: 1.2311 - val_loss: 0.5538 - val_output_1_loss: 0.4326 - val_output_2_loss: 1.6431\n",
            "Epoch 10/10\n",
            "11610/11610 [==============================] - 1s 67us/sample - loss: 0.5329 - output_1_loss: 0.4599 - output_2_loss: 1.1910 - val_loss: 0.5280 - val_output_1_loss: 0.4241 - val_output_2_loss: 1.4611\n",
            "Model: \"wide_and_deep_model_3\"\n",
            "_________________________________________________________________\n",
            "Layer (type)                 Output Shape              Param #   \n",
            "=================================================================\n",
            "first_hidden_layer (Dense)   multiple                  210       \n",
            "_________________________________________________________________\n",
            "second_hidden_layer (Dense)  multiple                  930       \n",
            "_________________________________________________________________\n",
            "main_output_layer (Dense)    multiple                  36        \n",
            "_________________________________________________________________\n",
            "auxiliary_output_layer (Dens multiple                  31        \n",
            "=================================================================\n",
            "Total params: 1,207\n",
            "Trainable params: 1,207\n",
            "Non-trainable params: 0\n",
            "_________________________________________________________________\n"
          ],
          "name": "stdout"
        }
      ]
    },
    {
      "cell_type": "code",
      "metadata": {
        "id": "xAv88iiALtgK",
        "colab_type": "code",
        "colab": {}
      },
      "source": [
        "# evaluate the model\n",
        "total_loss, main_loss, aux_loss = model.evaluate((X_test_A, X_test_B), (y_test, y_test), verbose=0)"
      ],
      "execution_count": 0,
      "outputs": []
    },
    {
      "cell_type": "code",
      "metadata": {
        "id": "BnRBPdz2L99X",
        "colab_type": "code",
        "colab": {}
      },
      "source": [
        "# make prediction\n",
        "y_pred_main, y_pred_aux = model.predict((X_new_A, X_new_B))"
      ],
      "execution_count": 0,
      "outputs": []
    },
    {
      "cell_type": "code",
      "metadata": {
        "id": "Sm211tXKMGHw",
        "colab_type": "code",
        "colab": {
          "base_uri": "https://localhost:8080/",
          "height": 269
        },
        "outputId": "9348c4a0-a271-4549-9450-71f6e56da3fb"
      },
      "source": [
        "import pandas as pd\n",
        "\n",
        "plt.plot(pd.DataFrame(history.history))\n",
        "plt.grid(True)\n",
        "plt.gca().set_ylim(0, 1)\n",
        "plt.show()"
      ],
      "execution_count": 14,
      "outputs": [
        {
          "output_type": "display_data",
          "data": {
            "image/png": "[encoded data removed]",
            "text/plain": [
              "<Figure size 432x288 with 1 Axes>"
            ]
          },
          "metadata": {
            "tags": []
          }
        }
      ]
    },
    {
      "cell_type": "code",
      "metadata": {
        "id": "SlAVAj9KMVUP",
        "colab_type": "code",
        "colab": {
          "base_uri": "https://localhost:8080/",
          "height": 70
        },
        "outputId": "7f5a1b9c-7e0f-46e3-dab4-f9ab436dbaff"
      },
      "source": [
        "y_pred_main"
      ],
      "execution_count": 15,
      "outputs": [
        {
          "output_type": "execute_result",
          "data": {
            "text/plain": [
              "array([[0.46119922],\n",
              "       [1.6560377 ],\n",
              "       [3.0100455 ]], dtype=float32)"
            ]
          },
          "metadata": {
            "tags": []
          },
          "execution_count": 15
        }
      ]
    },
    {
      "cell_type": "code",
      "metadata": {
        "id": "SakZIna1MoXC",
        "colab_type": "code",
        "colab": {
          "base_uri": "https://localhost:8080/",
          "height": 70
        },
        "outputId": "81f89c04-689b-462a-8478-38f66edd49fd"
      },
      "source": [
        "y_pred_aux"
      ],
      "execution_count": 16,
      "outputs": [
        {
          "output_type": "execute_result",
          "data": {
            "text/plain": [
              "array([[1.2026805],\n",
              "       [1.5415525],\n",
              "       [2.3475633]], dtype=float32)"
            ]
          },
          "metadata": {
            "tags": []
          },
          "execution_count": 16
        }
      ]
    },
    {
      "cell_type": "code",
      "metadata": {
        "id": "QBnzjl2QMxlb",
        "colab_type": "code",
        "colab": {}
      },
      "source": [
        ""
      ],
      "execution_count": 0,
      "outputs": []
    }
  ]
}