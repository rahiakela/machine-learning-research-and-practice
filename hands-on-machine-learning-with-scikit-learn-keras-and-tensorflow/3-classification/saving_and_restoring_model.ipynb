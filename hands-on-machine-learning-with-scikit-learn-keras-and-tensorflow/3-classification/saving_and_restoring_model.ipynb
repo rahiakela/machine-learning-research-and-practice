{
  "nbformat": 4,
  "nbformat_minor": 0,
  "metadata": {
    "colab": {
      "name": "saving-and-restoring-model.ipynb",
      "provenance": [],
      "toc_visible": true,
      "include_colab_link": true
    },
    "kernelspec": {
      "name": "python3",
      "display_name": "Python 3"
    }
  },
  "cells": [
    {
      "cell_type": "markdown",
      "metadata": {
        "id": "view-in-github",
        "colab_type": "text"
      },
      "source": [
        "<a href=\"https://colab.research.google.com/github/rahiakela/hands-on-machine-learning-with-scikit-learn-keras-and-tensorflow/blob/10-introduction-to-artificial-neural-networks-with-keras/saving_and_restoring_model.ipynb\" target=\"_parent\"><img src=\"https://colab.research.google.com/assets/colab-badge.svg\" alt=\"Open In Colab\"/></a>"
      ]
    },
    {
      "cell_type": "markdown",
      "metadata": {
        "id": "S2kIv_AuRFdn",
        "colab_type": "text"
      },
      "source": [
        "# Saving and Restoring a Model"
      ]
    },
    {
      "cell_type": "markdown",
      "metadata": {
        "id": "YhNEBAe2RJDb",
        "colab_type": "text"
      },
      "source": [
        "## Setup"
      ]
    },
    {
      "cell_type": "code",
      "metadata": {
        "id": "jmP50bWsRPfk",
        "colab_type": "code",
        "colab": {
          "base_uri": "https://localhost:8080/",
          "height": 52
        },
        "outputId": "b3d83d53-bc95-4c75-ba5c-26a6e7a10896"
      },
      "source": [
        "from __future__ import absolute_import, division, print_function, unicode_literals\n",
        "\n",
        "# TensorFlow and tf.keras\n",
        "try:\n",
        "  %tensorflow_version 2.x\n",
        "except Exception:\n",
        "  pass\n",
        "import tensorflow as tf\n",
        "from tensorflow import keras\n",
        "\n",
        "# Helper libraries\n",
        "import numpy as np\n",
        "import matplotlib.pyplot as plt\n",
        "\n",
        "print(tf.__version__)"
      ],
      "execution_count": 1,
      "outputs": [
        {
          "output_type": "stream",
          "text": [
            "TensorFlow 2.x selected.\n",
            "2.0.0\n"
          ],
          "name": "stdout"
        }
      ]
    },
    {
      "cell_type": "markdown",
      "metadata": {
        "id": "7egiXGFeRXgC",
        "colab_type": "text"
      },
      "source": [
        "## Load database"
      ]
    },
    {
      "cell_type": "markdown",
      "metadata": {
        "id": "3s8iglKpRYDy",
        "colab_type": "text"
      },
      "source": [
        "Let’s switch to the California housing problem and tackle it using a regression neural network. For simplicity, we will use Scikit-Learn’s fetch_california_housing() function to load the data.\n",
        "\n",
        "After loading the data, we split it into a training set, a validation set, and a test set, and we scale all the features:"
      ]
    },
    {
      "cell_type": "code",
      "metadata": {
        "id": "Gzul4AWkRfSr",
        "colab_type": "code",
        "colab": {
          "base_uri": "https://localhost:8080/",
          "height": 35
        },
        "outputId": "db5e27fe-23a3-4c5f-fd7d-4a2908a27530"
      },
      "source": [
        "from sklearn.datasets import fetch_california_housing\n",
        "from sklearn.model_selection import train_test_split\n",
        "from sklearn.preprocessing import StandardScaler\n",
        "\n",
        "# load dataset\n",
        "housing = fetch_california_housing()\n",
        "\n",
        "# split dataset into traing and test set \n",
        "X_train_full, X_test, y_train_full, y_test = train_test_split(housing.data, housing.target, random_state=42)\n",
        "\n",
        "# prepare validation set\n",
        "X_train, X_valid, y_train, y_valid = train_test_split(X_train_full, y_train_full, random_state=42)\n",
        "\n",
        "# scale all the features\n",
        "scaler = StandardScaler()\n",
        "X_train = scaler.fit_transform(X_train)\n",
        "X_valid = scaler.transform(X_valid)\n",
        "X_test = scaler.transform(X_test)"
      ],
      "execution_count": 2,
      "outputs": [
        {
          "output_type": "stream",
          "text": [
            "Downloading Cal. housing from https://ndownloader.figshare.com/files/5976036 to /root/scikit_learn_data\n"
          ],
          "name": "stderr"
        }
      ]
    },
    {
      "cell_type": "code",
      "metadata": {
        "id": "M4DHkrHkRh1d",
        "colab_type": "code",
        "colab": {}
      },
      "source": [
        "np.random.seed(42)\n",
        "tf.random.set_seed(42)"
      ],
      "execution_count": 0,
      "outputs": []
    },
    {
      "cell_type": "code",
      "metadata": {
        "id": "u3F4doEKRiS8",
        "colab_type": "code",
        "colab": {}
      },
      "source": [
        "model = keras.models.Sequential([\n",
        "    keras.layers.Dense(30, activation=\"relu\", input_shape=[8]),\n",
        "    keras.layers.Dense(30, activation=\"relu\"),\n",
        "    keras.layers.Dense(1)\n",
        "])"
      ],
      "execution_count": 0,
      "outputs": []
    },
    {
      "cell_type": "code",
      "metadata": {
        "id": "MQCrUPUmRwjx",
        "colab_type": "code",
        "colab": {
          "base_uri": "https://localhost:8080/",
          "height": 390
        },
        "outputId": "f8b6b7f6-bc6f-4528-c621-731894ede3b9"
      },
      "source": [
        "model.compile(loss=\"mse\", optimizer=keras.optimizers.SGD(lr=1e-3))\n",
        "history = model.fit(X_train, y_train, epochs=10, validation_data=(X_valid, y_valid))\n",
        "mse_test = model.evaluate(X_test, y_test, verbose=0)"
      ],
      "execution_count": 28,
      "outputs": [
        {
          "output_type": "stream",
          "text": [
            "Train on 11610 samples, validate on 3870 samples\n",
            "Epoch 1/10\n",
            "11610/11610 [==============================] - 1s 95us/sample - loss: 0.3222 - val_loss: 0.3255\n",
            "Epoch 2/10\n",
            "11610/11610 [==============================] - 1s 68us/sample - loss: 0.3223 - val_loss: 0.3073\n",
            "Epoch 3/10\n",
            "11610/11610 [==============================] - 1s 65us/sample - loss: 0.3218 - val_loss: 0.3158\n",
            "Epoch 4/10\n",
            "11610/11610 [==============================] - 1s 65us/sample - loss: 0.3215 - val_loss: 0.3076\n",
            "Epoch 5/10\n",
            "11610/11610 [==============================] - 1s 64us/sample - loss: 0.3212 - val_loss: 0.3088\n",
            "Epoch 6/10\n",
            "11610/11610 [==============================] - 1s 67us/sample - loss: 0.3210 - val_loss: 0.3380\n",
            "Epoch 7/10\n",
            "11610/11610 [==============================] - 1s 65us/sample - loss: 0.3206 - val_loss: 0.3251\n",
            "Epoch 8/10\n",
            "11610/11610 [==============================] - 1s 63us/sample - loss: 0.3207 - val_loss: 0.4134\n",
            "Epoch 9/10\n",
            "11610/11610 [==============================] - 1s 66us/sample - loss: 0.3206 - val_loss: 0.3126\n",
            "Epoch 10/10\n",
            "11610/11610 [==============================] - 1s 62us/sample - loss: 0.3198 - val_loss: 0.3240\n"
          ],
          "name": "stdout"
        }
      ]
    },
    {
      "cell_type": "markdown",
      "metadata": {
        "id": "lnsp0C6wR28i",
        "colab_type": "text"
      },
      "source": [
        "## Saving and Restoring a Model"
      ]
    },
    {
      "cell_type": "markdown",
      "metadata": {
        "id": "Buqtv4muR4JG",
        "colab_type": "text"
      },
      "source": [
        "When using the Sequential API or the Functional API, saving a trained Keras model is as simple as it gets.\n",
        "\n",
        "Keras will use the HDF5 format to save both the model’s architecture (including every layer’s hyperparameters) and the values of all the model parameters for every layer(connection weights and biases). It also saves the optimizer (including its hyperparameters and any state it may have)."
      ]
    },
    {
      "cell_type": "code",
      "metadata": {
        "id": "Oz1N673aV-0x",
        "colab_type": "code",
        "colab": {}
      },
      "source": [
        "model.save('my_keras_model.h5')"
      ],
      "execution_count": 0,
      "outputs": []
    },
    {
      "cell_type": "markdown",
      "metadata": {
        "id": "32BSy5QVXany",
        "colab_type": "text"
      },
      "source": [
        "You will typically have a script that trains a model and saves it, and one or more scripts (or web services) that load the model and use it to make predictions. Loading the model is just as easy:"
      ]
    },
    {
      "cell_type": "code",
      "metadata": {
        "id": "xledhPRfW-j8",
        "colab_type": "code",
        "colab": {}
      },
      "source": [
        "model_1 = keras.models.load_model('my_keras_model.h5')"
      ],
      "execution_count": 0,
      "outputs": []
    },
    {
      "cell_type": "code",
      "metadata": {
        "id": "RfJTseJLXjeQ",
        "colab_type": "code",
        "colab": {
          "base_uri": "https://localhost:8080/",
          "height": 70
        },
        "outputId": "895e75a3-fe17-4144-e47a-4bd6c3d0d6e2"
      },
      "source": [
        "# make prediction\n",
        "X_new = X_test[:3]\n",
        "model_1.predict(X_new)"
      ],
      "execution_count": 10,
      "outputs": [
        {
          "output_type": "execute_result",
          "data": {
            "text/plain": [
              "array([[0.5490972],\n",
              "       [1.6584849],\n",
              "       [3.0271606]], dtype=float32)"
            ]
          },
          "metadata": {
            "tags": []
          },
          "execution_count": 10
        }
      ]
    },
    {
      "cell_type": "markdown",
      "metadata": {
        "id": "917Rri4BeEFb",
        "colab_type": "text"
      },
      "source": [
        "This will work when using the Sequential API or the Functional API, but unfortunately not when using model subclassing. You can use save_weights() and load_weights() to at least save and restore the model parameters, but you will need to save and restore everything else yourself."
      ]
    },
    {
      "cell_type": "code",
      "metadata": {
        "id": "IEzZ88F-Xugq",
        "colab_type": "code",
        "colab": {}
      },
      "source": [
        "model_1.save_weights('my_keras_weights.ckpt')"
      ],
      "execution_count": 0,
      "outputs": []
    },
    {
      "cell_type": "code",
      "metadata": {
        "id": "hRe02eNeedho",
        "colab_type": "code",
        "colab": {
          "base_uri": "https://localhost:8080/",
          "height": 35
        },
        "outputId": "b764a804-122d-4f68-98ef-ab5320ee3d1a"
      },
      "source": [
        "model_1.load_weights('my_keras_weights.ckpt')"
      ],
      "execution_count": 12,
      "outputs": [
        {
          "output_type": "execute_result",
          "data": {
            "text/plain": [
              "<tensorflow.python.training.tracking.util.CheckpointLoadStatus at 0x7f1a882a99e8>"
            ]
          },
          "metadata": {
            "tags": []
          },
          "execution_count": 12
        }
      ]
    },
    {
      "cell_type": "markdown",
      "metadata": {
        "id": "y6xs5xc4fzOx",
        "colab_type": "text"
      },
      "source": [
        "But how can you tell the fit() method to save checkpoints? Use callbacks."
      ]
    },
    {
      "cell_type": "markdown",
      "metadata": {
        "id": "8tZ8noUCgEmE",
        "colab_type": "text"
      },
      "source": [
        "## Using Callbacks during Training"
      ]
    },
    {
      "cell_type": "markdown",
      "metadata": {
        "id": "jSCIWtA1gFo0",
        "colab_type": "text"
      },
      "source": [
        "The fit() method accepts a callbacks argument that lets you specify a list of objects that Keras will call at the start and end of training, at the start and end of each epoch, and even before and after processing each batch. \n",
        "\n",
        "For example, the ModelCheckpoint callback saves checkpoints of your model at regular intervals during training, by default at the end of each epoch:"
      ]
    },
    {
      "cell_type": "code",
      "metadata": {
        "id": "uFBrG3oUeeWc",
        "colab_type": "code",
        "colab": {}
      },
      "source": [
        "keras.backend.clear_session()\n",
        "np.random.seed(42)\n",
        "tf.random.set_seed(42)"
      ],
      "execution_count": 0,
      "outputs": []
    },
    {
      "cell_type": "code",
      "metadata": {
        "id": "sb2vV9mmgWD2",
        "colab_type": "code",
        "colab": {}
      },
      "source": [
        "\n",
        "model = keras.models.Sequential([\n",
        "    keras.layers.Dense(30, activation=\"relu\", input_shape=[8]),\n",
        "    keras.layers.Dense(30, activation=\"relu\"),\n",
        "    keras.layers.Dense(1)\n",
        "])"
      ],
      "execution_count": 0,
      "outputs": []
    },
    {
      "cell_type": "code",
      "metadata": {
        "id": "kfl2QHOygYNe",
        "colab_type": "code",
        "colab": {}
      },
      "source": [
        "model.compile(loss=\"mse\", optimizer=keras.optimizers.SGD(lr=1e-3))"
      ],
      "execution_count": 0,
      "outputs": []
    },
    {
      "cell_type": "code",
      "metadata": {
        "id": "5ERLOb8shzaZ",
        "colab_type": "code",
        "colab": {}
      },
      "source": [
        "checkpoint_cb = keras.callbacks.ModelCheckpoint('my_keras_model.h5', save_best_only=True)"
      ],
      "execution_count": 0,
      "outputs": []
    },
    {
      "cell_type": "markdown",
      "metadata": {
        "id": "zwyPOia6hzw8",
        "colab_type": "text"
      },
      "source": [
        "Moreover, if you use a validation set during training, you can set save_best_only=True when creating the ModelCheckpoint . In this case, it will only save your model when its performance on the validation set is the best so far. This way, you do not need to worry about training for too long and overfitting the training set: simply restore the last model saved after training, and this will be the best model on the validation set."
      ]
    },
    {
      "cell_type": "code",
      "metadata": {
        "id": "MGqm-6nZgcwD",
        "colab_type": "code",
        "colab": {
          "base_uri": "https://localhost:8080/",
          "height": 390
        },
        "outputId": "33326acb-45a1-43d1-dcd0-da341918ec27"
      },
      "source": [
        "history_1 = model.fit(X_train, y_train, epochs=10, validation_data=(X_valid,y_valid), callbacks=[checkpoint_cb])\n",
        "model = keras.models.load_model('my_keras_model.h5')  # rollback to best model\n",
        "mse_test = model.evaluate(X_test, y_test, verbose=0)"
      ],
      "execution_count": 21,
      "outputs": [
        {
          "output_type": "stream",
          "text": [
            "Train on 11610 samples, validate on 3870 samples\n",
            "Epoch 1/10\n",
            "11610/11610 [==============================] - 1s 66us/sample - loss: 0.3369 - val_loss: 0.3693\n",
            "Epoch 2/10\n",
            "11610/11610 [==============================] - 1s 65us/sample - loss: 0.3369 - val_loss: 0.3194\n",
            "Epoch 3/10\n",
            "11610/11610 [==============================] - 1s 65us/sample - loss: 0.3363 - val_loss: 0.3390\n",
            "Epoch 4/10\n",
            "11610/11610 [==============================] - 1s 68us/sample - loss: 0.3359 - val_loss: 0.3212\n",
            "Epoch 5/10\n",
            "11610/11610 [==============================] - 1s 64us/sample - loss: 0.3355 - val_loss: 0.3211\n",
            "Epoch 6/10\n",
            "11610/11610 [==============================] - 1s 66us/sample - loss: 0.3351 - val_loss: 0.3529\n",
            "Epoch 7/10\n",
            "11610/11610 [==============================] - 1s 64us/sample - loss: 0.3347 - val_loss: 0.3228\n",
            "Epoch 8/10\n",
            "11610/11610 [==============================] - 1s 66us/sample - loss: 0.3345 - val_loss: 0.4017\n",
            "Epoch 9/10\n",
            "11610/11610 [==============================] - 1s 66us/sample - loss: 0.3343 - val_loss: 0.3182\n",
            "Epoch 10/10\n",
            "11610/11610 [==============================] - 1s 63us/sample - loss: 0.3336 - val_loss: 0.3231\n"
          ],
          "name": "stdout"
        }
      ]
    },
    {
      "cell_type": "code",
      "metadata": {
        "id": "5lIK86Vijth-",
        "colab_type": "code",
        "colab": {
          "base_uri": "https://localhost:8080/",
          "height": 269
        },
        "outputId": "1941ec9f-a692-4b69-cd86-f1a74343ca74"
      },
      "source": [
        "import pandas as pd\n",
        "\n",
        "plt.plot(pd.DataFrame(history_1.history))\n",
        "plt.grid(True)\n",
        "plt.gca().set_ylim(0, 1)\n",
        "plt.show()"
      ],
      "execution_count": 22,
      "outputs": [
        {
          "output_type": "display_data",
          "data": {
            "image/png": "[encoded data removed]",
            "text/plain": [
              "<Figure size 432x288 with 1 Axes>"
            ]
          },
          "metadata": {
            "tags": []
          }
        }
      ]
    },
    {
      "cell_type": "markdown",
      "metadata": {
        "id": "hGA_lV6OhntM",
        "colab_type": "text"
      },
      "source": [
        "Another way to implement early stopping is to simply use the EarlyStopping callback. It will interrupt training when it measures no progress on the validation set for a number of epochs (defined by the patience argument), and it will optionally roll back to the best model. You can combine both callbacks to save checkpoints of your model (in case your computer crashes) and interrupt training early when there is no more progress (to avoid wasting time and resources):"
      ]
    },
    {
      "cell_type": "code",
      "metadata": {
        "id": "El475gOMhPxh",
        "colab_type": "code",
        "colab": {}
      },
      "source": [
        "model.compile(loss=\"mse\", optimizer=keras.optimizers.SGD(lr=1e-3))"
      ],
      "execution_count": 0,
      "outputs": []
    },
    {
      "cell_type": "code",
      "metadata": {
        "id": "p0ktq28zi8xt",
        "colab_type": "code",
        "colab": {
          "base_uri": "https://localhost:8080/",
          "height": 1000
        },
        "outputId": "47b0163f-929a-4ba3-9eee-c0317e4d654c"
      },
      "source": [
        "early_stopping_cb = keras.callbacks.EarlyStopping(patience=10, restore_best_weights=True)\n",
        "\n",
        "history_2 = model.fit(X_train, y_train, epochs=100, validation_data=(X_valid,y_valid), callbacks=[checkpoint_cb, early_stopping_cb])\n",
        "mse_test = model.evaluate(X_test, y_test, verbose=0)    "
      ],
      "execution_count": 23,
      "outputs": [
        {
          "output_type": "stream",
          "text": [
            "Train on 11610 samples, validate on 3870 samples\n",
            "Epoch 1/100\n",
            "11610/11610 [==============================] - 1s 77us/sample - loss: 0.3334 - val_loss: 0.3613\n",
            "Epoch 2/100\n",
            "11610/11610 [==============================] - 1s 65us/sample - loss: 0.3335 - val_loss: 0.3169\n",
            "Epoch 3/100\n",
            "11610/11610 [==============================] - 1s 67us/sample - loss: 0.3330 - val_loss: 0.3355\n",
            "Epoch 4/100\n",
            "11610/11610 [==============================] - 1s 65us/sample - loss: 0.3326 - val_loss: 0.3176\n",
            "Epoch 5/100\n",
            "11610/11610 [==============================] - 1s 63us/sample - loss: 0.3322 - val_loss: 0.3187\n",
            "Epoch 6/100\n",
            "11610/11610 [==============================] - 1s 68us/sample - loss: 0.3319 - val_loss: 0.3497\n",
            "Epoch 7/100\n",
            "11610/11610 [==============================] - 1s 65us/sample - loss: 0.3314 - val_loss: 0.3228\n",
            "Epoch 8/100\n",
            "11610/11610 [==============================] - 1s 64us/sample - loss: 0.3314 - val_loss: 0.4040\n",
            "Epoch 9/100\n",
            "11610/11610 [==============================] - 1s 63us/sample - loss: 0.3312 - val_loss: 0.3148\n",
            "Epoch 10/100\n",
            "11610/11610 [==============================] - 1s 65us/sample - loss: 0.3304 - val_loss: 0.3213\n",
            "Epoch 11/100\n",
            "11610/11610 [==============================] - 1s 64us/sample - loss: 0.3300 - val_loss: 0.3322\n",
            "Epoch 12/100\n",
            "11610/11610 [==============================] - 1s 65us/sample - loss: 0.3297 - val_loss: 0.3147\n",
            "Epoch 13/100\n",
            "11610/11610 [==============================] - 1s 64us/sample - loss: 0.3293 - val_loss: 0.3584\n",
            "Epoch 14/100\n",
            "11610/11610 [==============================] - 1s 67us/sample - loss: 0.3292 - val_loss: 0.3133\n",
            "Epoch 15/100\n",
            "11610/11610 [==============================] - 1s 66us/sample - loss: 0.3285 - val_loss: 0.3887\n",
            "Epoch 16/100\n",
            "11610/11610 [==============================] - 1s 64us/sample - loss: 0.3286 - val_loss: 0.3387\n",
            "Epoch 17/100\n",
            "11610/11610 [==============================] - 1s 64us/sample - loss: 0.3284 - val_loss: 0.4218\n",
            "Epoch 18/100\n",
            "11610/11610 [==============================] - 1s 64us/sample - loss: 0.3281 - val_loss: 0.3137\n",
            "Epoch 19/100\n",
            "11610/11610 [==============================] - 1s 64us/sample - loss: 0.3275 - val_loss: 0.3530\n",
            "Epoch 20/100\n",
            "11610/11610 [==============================] - 1s 70us/sample - loss: 0.3274 - val_loss: 0.3115\n",
            "Epoch 21/100\n",
            "11610/11610 [==============================] - 1s 66us/sample - loss: 0.3269 - val_loss: 0.3415\n",
            "Epoch 22/100\n",
            "11610/11610 [==============================] - 1s 64us/sample - loss: 0.3267 - val_loss: 0.3142\n",
            "Epoch 23/100\n",
            "11610/11610 [==============================] - 1s 66us/sample - loss: 0.3260 - val_loss: 0.3336\n",
            "Epoch 24/100\n",
            "11610/11610 [==============================] - 1s 68us/sample - loss: 0.3261 - val_loss: 0.3113\n",
            "Epoch 25/100\n",
            "11610/11610 [==============================] - 1s 62us/sample - loss: 0.3257 - val_loss: 0.3303\n",
            "Epoch 26/100\n",
            "11610/11610 [==============================] - 1s 65us/sample - loss: 0.3251 - val_loss: 0.3688\n",
            "Epoch 27/100\n",
            "11610/11610 [==============================] - 1s 64us/sample - loss: 0.3254 - val_loss: 0.3114\n",
            "Epoch 28/100\n",
            "11610/11610 [==============================] - 1s 64us/sample - loss: 0.3245 - val_loss: 0.3435\n",
            "Epoch 29/100\n",
            "11610/11610 [==============================] - 1s 63us/sample - loss: 0.3244 - val_loss: 0.3325\n",
            "Epoch 30/100\n",
            "11610/11610 [==============================] - 1s 66us/sample - loss: 0.3240 - val_loss: 0.3156\n",
            "Epoch 31/100\n",
            "11610/11610 [==============================] - 1s 68us/sample - loss: 0.3236 - val_loss: 0.3637\n",
            "Epoch 32/100\n",
            "11610/11610 [==============================] - 1s 67us/sample - loss: 0.3236 - val_loss: 0.3121\n",
            "Epoch 33/100\n",
            "11610/11610 [==============================] - 1s 66us/sample - loss: 0.3232 - val_loss: 0.3133\n",
            "Epoch 34/100\n",
            "11610/11610 [==============================] - 1s 66us/sample - loss: 0.3228 - val_loss: 0.3210\n"
          ],
          "name": "stdout"
        }
      ]
    },
    {
      "cell_type": "code",
      "metadata": {
        "id": "Q4Pv5exHjjrz",
        "colab_type": "code",
        "colab": {
          "base_uri": "https://localhost:8080/",
          "height": 269
        },
        "outputId": "103cdd77-a8bc-43f6-ee53-e3f72a6013ae"
      },
      "source": [
        "plt.plot(pd.DataFrame(history_2.history))\n",
        "plt.grid(True)\n",
        "plt.gca().set_ylim(0, 1)\n",
        "plt.show()"
      ],
      "execution_count": 24,
      "outputs": [
        {
          "output_type": "display_data",
          "data": {
            "image/png": "[encoded data removed]",
            "text/plain": [
              "<Figure size 432x288 with 1 Axes>"
            ]
          },
          "metadata": {
            "tags": []
          }
        }
      ]
    },
    {
      "cell_type": "markdown",
      "metadata": {
        "id": "ZgufXJS5kNmB",
        "colab_type": "text"
      },
      "source": [
        "If you need extra control, you can easily write your own custom callbacks. As an example of how to do that, the following custom callback will display the ratio between the validation loss and the training loss during training (e.g., to detect overfitting):"
      ]
    },
    {
      "cell_type": "code",
      "metadata": {
        "id": "A3H4-lRTkMIT",
        "colab_type": "code",
        "colab": {}
      },
      "source": [
        "class PrintValTrainRatioCallback(keras.callbacks.Callback):\n",
        "\n",
        "  def on_epoch_end(self, epoch, logs):\n",
        "    print(\"\\nval/train: {:.2f}\".format(logs[\"val_loss\"] / logs[\"loss\"]))"
      ],
      "execution_count": 0,
      "outputs": []
    },
    {
      "cell_type": "code",
      "metadata": {
        "id": "1u9rKrN_kl7G",
        "colab_type": "code",
        "colab": {
          "base_uri": "https://localhost:8080/",
          "height": 746
        },
        "outputId": "75858dd2-0ed3-46fe-a02a-c0d28e572dfc"
      },
      "source": [
        "val_train_ratio_cb = PrintValTrainRatioCallback()\n",
        "\n",
        "history_3 = model.fit(X_train, y_train, epochs=10, validation_data=(X_valid, y_valid), callbacks=[val_train_ratio_cb])"
      ],
      "execution_count": 27,
      "outputs": [
        {
          "output_type": "stream",
          "text": [
            "Train on 11610 samples, validate on 3870 samples\n",
            "Epoch 1/10\n",
            "11392/11610 [============================>.] - ETA: 0s - loss: 0.3242\n",
            "val/train: 0.98\n",
            "11610/11610 [==============================] - 1s 64us/sample - loss: 0.3255 - val_loss: 0.3175\n",
            "Epoch 2/10\n",
            "11232/11610 [============================>.] - ETA: 0s - loss: 0.3252\n",
            "val/train: 0.96\n",
            "11610/11610 [==============================] - 1s 65us/sample - loss: 0.3252 - val_loss: 0.3122\n",
            "Epoch 3/10\n",
            "10816/11610 [==========================>...] - ETA: 0s - loss: 0.3262\n",
            "val/train: 0.97\n",
            "11610/11610 [==============================] - 1s 66us/sample - loss: 0.3247 - val_loss: 0.3138\n",
            "Epoch 4/10\n",
            "11488/11610 [============================>.] - ETA: 0s - loss: 0.3254\n",
            "val/train: 0.96\n",
            "11610/11610 [==============================] - 1s 63us/sample - loss: 0.3244 - val_loss: 0.3124\n",
            "Epoch 5/10\n",
            "11200/11610 [===========================>..] - ETA: 0s - loss: 0.3260\n",
            "val/train: 0.96\n",
            "11610/11610 [==============================] - 1s 65us/sample - loss: 0.3241 - val_loss: 0.3097\n",
            "Epoch 6/10\n",
            "10656/11610 [==========================>...] - ETA: 0s - loss: 0.3243\n",
            "val/train: 1.07\n",
            "11610/11610 [==============================] - 1s 66us/sample - loss: 0.3239 - val_loss: 0.3480\n",
            "Epoch 7/10\n",
            "10880/11610 [===========================>..] - ETA: 0s - loss: 0.3257\n",
            "val/train: 1.01\n",
            "11610/11610 [==============================] - 1s 66us/sample - loss: 0.3235 - val_loss: 0.3272\n",
            "Epoch 8/10\n",
            "11392/11610 [============================>.] - ETA: 0s - loss: 0.3244\n",
            "val/train: 1.29\n",
            "11610/11610 [==============================] - 1s 64us/sample - loss: 0.3235 - val_loss: 0.4174\n",
            "Epoch 9/10\n",
            "10912/11610 [===========================>..] - ETA: 0s - loss: 0.3223\n",
            "val/train: 0.96\n",
            "11610/11610 [==============================] - 1s 66us/sample - loss: 0.3235 - val_loss: 0.3120\n",
            "Epoch 10/10\n",
            "10624/11610 [==========================>...] - ETA: 0s - loss: 0.3208\n",
            "val/train: 1.00\n",
            "11610/11610 [==============================] - 1s 63us/sample - loss: 0.3227 - val_loss: 0.3234\n"
          ],
          "name": "stdout"
        }
      ]
    },
    {
      "cell_type": "code",
      "metadata": {
        "id": "O1AFIZ5ek7fu",
        "colab_type": "code",
        "colab": {}
      },
      "source": [
        ""
      ],
      "execution_count": 0,
      "outputs": []
    }
  ]
}