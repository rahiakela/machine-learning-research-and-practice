{
  "nbformat": 4,
  "nbformat_minor": 0,
  "metadata": {
    "colab": {
      "name": "decision-trees-exercises.ipynb",
      "provenance": [],
      "toc_visible": true,
      "authorship_tag": "ABX9TyNUZmq6byF8SR9N+QRoMwbB",
      "include_colab_link": true
    },
    "kernelspec": {
      "name": "python3",
      "display_name": "Python 3"
    },
    "language_info": {
      "name": "python"
    }
  },
  "cells": [
    {
      "cell_type": "markdown",
      "metadata": {
        "id": "view-in-github",
        "colab_type": "text"
      },
      "source": [
        "<a href=\"https://colab.research.google.com/github/rahiakela/machine-learning-research-and-practice/blob/main/hands-on-machine-learning-with-scikit-learn-keras-and-tensorflow/6-decision-trees/decision_trees_exercises.ipynb\" target=\"_parent\"><img src=\"https://colab.research.google.com/assets/colab-badge.svg\" alt=\"Open In Colab\"/></a>"
      ]
    },
    {
      "cell_type": "markdown",
      "source": [
        "##Decision Trees Exercises"
      ],
      "metadata": {
        "id": "hGwZeZjukAa8"
      }
    },
    {
      "cell_type": "markdown",
      "source": [
        "Decision Trees are versatile Machine Learning algorithms that can perform\n",
        "both classification and regression tasks, and even multioutput tasks. They are\n",
        "powerful algorithms, capable of fitting complex datasets.\n",
        "\n",
        "Decision Trees are also the fundamental components of Random Forests, which are among the most powerful Machine Learning algorithms available today.\n",
        "\n"
      ],
      "metadata": {
        "id": "X0GZeYZakh4s"
      }
    },
    {
      "cell_type": "markdown",
      "source": [
        "##Setup"
      ],
      "metadata": {
        "id": "08SYhvKQks84"
      }
    },
    {
      "cell_type": "code",
      "source": [
        "# Python ≥3.5 is required\n",
        "import sys\n",
        "assert sys.version_info >= (3, 5)\n",
        "\n",
        "# Scikit-Learn ≥0.20 is required\n",
        "import sklearn\n",
        "assert sklearn.__version__ >= \"0.20\"\n",
        "\n",
        "# Common imports\n",
        "import numpy as np\n",
        "import os\n",
        "\n",
        "from sklearn.datasets import load_iris\n",
        "from sklearn.datasets import make_moons\n",
        "\n",
        "from sklearn.tree import DecisionTreeClassifier\n",
        "from sklearn.tree import DecisionTreeRegressor\n",
        "\n",
        "from sklearn.model_selection import train_test_split\n",
        "from sklearn.model_selection import GridSearchCV\n",
        "from sklearn.model_selection import ShuffleSplit\n",
        "\n",
        "from sklearn.base import clone\n",
        "from scipy.stats import mode\n",
        "\n",
        "from sklearn.metrics import accuracy_score\n",
        "\n",
        "from sklearn.tree import export_graphviz\n",
        "\n",
        "# to make this notebook's output stable across runs\n",
        "np.random.seed(42)\n",
        "\n",
        "# To plot pretty figures\n",
        "%matplotlib inline\n",
        "import matplotlib as mpl\n",
        "import matplotlib.pyplot as plt\n",
        "from graphviz import Source\n",
        "from matplotlib.colors import ListedColormap\n",
        "\n",
        "mpl.rc('axes', labelsize=14)\n",
        "mpl.rc('xtick', labelsize=12)\n",
        "mpl.rc('ytick', labelsize=12)"
      ],
      "metadata": {
        "id": "UemV2I_DkudS"
      },
      "execution_count": 17,
      "outputs": []
    },
    {
      "cell_type": "code",
      "source": [
        "# Where to save the figures\n",
        "PROJECT_ROOT_DIR = \".\"\n",
        "CHAPTER_ID = \"decision_trees\"\n",
        "IMAGES_PATH = os.path.join(PROJECT_ROOT_DIR, \"images\", CHAPTER_ID)\n",
        "os.makedirs(IMAGES_PATH, exist_ok=True)\n",
        "\n",
        "def save_fig(fig_id, tight_layout=True, fig_extension=\"png\", resolution=300):\n",
        "    path = os.path.join(IMAGES_PATH, fig_id + \".\" + fig_extension)\n",
        "    print(\"Saving figure\", fig_id)\n",
        "    if tight_layout:\n",
        "        plt.tight_layout()\n",
        "    plt.savefig(path, format=fig_extension, dpi=resolution)"
      ],
      "metadata": {
        "id": "-s4WQAbCk4P_"
      },
      "execution_count": null,
      "outputs": []
    },
    {
      "cell_type": "code",
      "source": [
        "def plot_regression_predictions(tree_reg, X, y, axes=[0, 1, -0.2, 1], ylabel=\"$y$\"):\n",
        "    x1 = np.linspace(axes[0], axes[1], 500).reshape(-1, 1)\n",
        "    y_pred = tree_reg.predict(x1)\n",
        "    plt.axis(axes)\n",
        "    plt.xlabel(\"$x_1$\", fontsize=18)\n",
        "    if ylabel:\n",
        "        plt.ylabel(ylabel, fontsize=18, rotation=0)\n",
        "    plt.plot(X, y, \"b.\")\n",
        "    plt.plot(x1, y_pred, \"r.-\", linewidth=2, label=r\"$\\hat{y}$\")"
      ],
      "metadata": {
        "id": "nI4sldXnSogj"
      },
      "execution_count": null,
      "outputs": []
    },
    {
      "cell_type": "markdown",
      "source": [
        "##Exercise-1: Train and fine-tune a Decision Tree"
      ],
      "metadata": {
        "id": "_EOoLe53k__H"
      }
    },
    {
      "cell_type": "markdown",
      "source": [
        "Train and fine-tune a Decision Tree for the moons dataset by following these\n",
        "steps:\n",
        "\n",
        "1. Use `make_moons(n_samples=10000, noise=0.4)` to generate a moons dataset.\n",
        "2. Use `train_test_split()` to split the dataset into a training set and a test set.\n",
        "3. Use grid search with `cross-validation` (with the help of the `GridSearchCV` class) to find good hyperparameter values for a `DecisionTreeClassifier`. Hint: try various values for `max_leaf_nodes`.\n",
        "4. Train it on the full training set using these hyperparameters, and measure\n",
        "your model’s performance on the test set. You should get roughly 85% to 87%\n",
        "accuracy.\n",
        "\n"
      ],
      "metadata": {
        "id": "WK_n8GYslAHA"
      }
    },
    {
      "cell_type": "markdown",
      "source": [
        "###Step-1: Generate a moons dataset "
      ],
      "metadata": {
        "id": "Wlt7tWhvmrE1"
      }
    },
    {
      "cell_type": "markdown",
      "source": [
        "Let's generate a moons dataset using `make_moons(n_samples=10000, noise=0.4)`.\n",
        "\n",
        "Adding `random_state=42` to make this notebook's output constant:"
      ],
      "metadata": {
        "id": "6iPxOS4imv58"
      }
    },
    {
      "cell_type": "code",
      "source": [
        "X, y = make_moons(n_samples=10000, noise=0.4, random_state=42)"
      ],
      "metadata": {
        "id": "dWfgtnASlEDt"
      },
      "execution_count": 2,
      "outputs": []
    },
    {
      "cell_type": "markdown",
      "source": [
        "###Step-2: Split dataset"
      ],
      "metadata": {
        "id": "uCieXMMgnOtP"
      }
    },
    {
      "cell_type": "markdown",
      "source": [
        "Let's split it into a training set and a test set using `train_test_split()`."
      ],
      "metadata": {
        "id": "P_0YJ1KMl0Zz"
      }
    },
    {
      "cell_type": "code",
      "source": [
        "x_train, x_test, y_train, y_test = train_test_split(X, y, test_size=0.2, random_state=42)"
      ],
      "metadata": {
        "id": "FuPlzH3kl3L0"
      },
      "execution_count": 4,
      "outputs": []
    },
    {
      "cell_type": "markdown",
      "source": [
        "###Step-3: Search hyperparameter using grid search"
      ],
      "metadata": {
        "id": "9Br-qBfcnvi3"
      }
    },
    {
      "cell_type": "markdown",
      "source": [
        "Let's use grid search with cross-validation (with the help of the `GridSearchCV` class) to find good hyperparameter values for a `DecisionTreeClassifier`. \n",
        "\n",
        "Hint: try various values for `max_leaf_nodes`."
      ],
      "metadata": {
        "id": "7nVoOxIam1aU"
      }
    },
    {
      "cell_type": "code",
      "source": [
        "params = {\"max_leaf_nodes\": list(range(2, 100)), \"min_samples_split\": [2, 3, 4]}\n",
        "\n",
        "grid_search_cv = GridSearchCV(DecisionTreeClassifier(random_state=42), params, n_jobs=-1, verbose=1, cv=3)\n",
        "grid_search_cv.fit(x_train, y_train)"
      ],
      "metadata": {
        "id": "aLWy_ZP3mirH",
        "outputId": "ab2e6a51-11fb-4ff1-a34f-2c32a558416d",
        "colab": {
          "base_uri": "https://localhost:8080/"
        }
      },
      "execution_count": 6,
      "outputs": [
        {
          "output_type": "stream",
          "name": "stdout",
          "text": [
            "Fitting 3 folds for each of 294 candidates, totalling 882 fits\n"
          ]
        },
        {
          "output_type": "execute_result",
          "data": {
            "text/plain": [
              "GridSearchCV(cv=3, estimator=DecisionTreeClassifier(random_state=42), n_jobs=-1,\n",
              "             param_grid={'max_leaf_nodes': [2, 3, 4, 5, 6, 7, 8, 9, 10, 11, 12,\n",
              "                                            13, 14, 15, 16, 17, 18, 19, 20, 21,\n",
              "                                            22, 23, 24, 25, 26, 27, 28, 29, 30,\n",
              "                                            31, ...],\n",
              "                         'min_samples_split': [2, 3, 4]},\n",
              "             verbose=1)"
            ]
          },
          "metadata": {},
          "execution_count": 6
        }
      ]
    },
    {
      "cell_type": "code",
      "source": [
        "grid_search_cv.best_estimator_"
      ],
      "metadata": {
        "colab": {
          "base_uri": "https://localhost:8080/"
        },
        "id": "Om-rfoIEolsg",
        "outputId": "ec1a61fc-64da-4a33-eeda-83b5545df853"
      },
      "execution_count": 7,
      "outputs": [
        {
          "output_type": "execute_result",
          "data": {
            "text/plain": [
              "DecisionTreeClassifier(max_leaf_nodes=17, random_state=42)"
            ]
          },
          "metadata": {},
          "execution_count": 7
        }
      ]
    },
    {
      "cell_type": "markdown",
      "source": [
        "###Step-4: Running full training using best hyperparameters"
      ],
      "metadata": {
        "id": "LjkeYndKoxJk"
      }
    },
    {
      "cell_type": "markdown",
      "source": [
        "Let's train it on the full training set using these hyperparameters, and measure your model's performance on the test set. \n",
        "\n",
        "You should get roughly 85% to 87% accuracy.\n",
        "\n",
        "By default, `GridSearchCV` trains the best model found on the whole training set (you can change this by setting `refit=False`), so we don't need to do it again. \n",
        "\n",
        "We can simply evaluate the model's accuracy:"
      ],
      "metadata": {
        "id": "hXni5RHmo26S"
      }
    },
    {
      "cell_type": "code",
      "source": [
        "y_pred = grid_search_cv.predict(x_test)\n",
        "accuracy_score(y_test, y_pred)"
      ],
      "metadata": {
        "colab": {
          "base_uri": "https://localhost:8080/"
        },
        "id": "ixSErJx1o7w1",
        "outputId": "d78711fc-f112-489d-c3ae-2b39178fc8ab"
      },
      "execution_count": 10,
      "outputs": [
        {
          "output_type": "execute_result",
          "data": {
            "text/plain": [
              "0.8695"
            ]
          },
          "metadata": {},
          "execution_count": 10
        }
      ]
    },
    {
      "cell_type": "markdown",
      "source": [
        "##Exercise-2: Implement Random forest fundamental"
      ],
      "metadata": {
        "id": "Om7TZr63m9Ys"
      }
    },
    {
      "cell_type": "markdown",
      "source": [
        "Let's grow a forest by following these steps:\n",
        "\n",
        "1. Generate 1,000 subsets of the training set,\n",
        "each containing 100 instances selected randomly. Hint: you can use Scikit-\n",
        "Learn’s `ShuffleSplit` class for this.\n",
        "2. Train one Decision Tree on each subset, using the best hyperparameter values\n",
        "found in the previous exercise. Evaluate these 1,000 Decision Trees on the test\n",
        "set. Since they were trained on smaller sets, these Decision Trees will likely\n",
        "perform worse than the first Decision Tree, achieving only about 80%\n",
        "accuracy.\n",
        "3. Now comes the magic. For each test set instance, generate the predictions of the 1,000 Decision Trees, and keep only the most frequent prediction (you can use SciPy’s `mode()` function for this). This approach gives you majority-vote predictions over the test set.\n",
        "4. Evaluate these predictions on the test set: you should obtain a slightly higher accuracy than your first model (about 0.5 to 1.5% higher). \n",
        "\n",
        "Congratulations, you have trained a Random Forest classifier!"
      ],
      "metadata": {
        "id": "PHOso1bMm-Vp"
      }
    },
    {
      "cell_type": "markdown",
      "source": [
        "###Step-1: Generate dataset"
      ],
      "metadata": {
        "id": "gOzo_gVIrjeg"
      }
    },
    {
      "cell_type": "markdown",
      "source": [
        "Let's generate 1,000 subsets of the training set, each containing 100 instances selected randomly. \n",
        "\n",
        "Hint: you can use Scikit-Learn's `ShuffleSplit` class for this."
      ],
      "metadata": {
        "id": "TwKLsNcNrqty"
      }
    },
    {
      "cell_type": "code",
      "source": [
        "n_trees = 1000\n",
        "n_instances = 100\n",
        "\n",
        "mini_sets = []\n",
        "\n",
        "rs = ShuffleSplit(n_splits=n_trees, test_size=len(x_train) - n_instances, random_state=42)\n",
        "\n",
        "for mini_train_index, mini_test_index in rs.split(x_train):\n",
        "  x_mini_train = x_train[mini_train_index]\n",
        "  y_mini_train = y_train[mini_train_index]\n",
        "  mini_sets.append((x_mini_train, y_mini_train))"
      ],
      "metadata": {
        "id": "CxQeDOo9p3nL"
      },
      "execution_count": 13,
      "outputs": []
    },
    {
      "cell_type": "markdown",
      "source": [
        "###Step-2: Train one Decision Tree"
      ],
      "metadata": {
        "id": "YAZw3z4ysjcd"
      }
    },
    {
      "cell_type": "markdown",
      "source": [
        "Let's train one Decision Tree on each subset, using the best hyperparameter values found above. Evaluate these 1,000 Decision Trees on the test set. \n",
        "\n",
        "Since they were trained on smaller sets, these Decision Trees will likely perform worse than the first Decision Tree, achieving only about 80% accuracy."
      ],
      "metadata": {
        "id": "YzZOoiivp-nV"
      }
    },
    {
      "cell_type": "code",
      "source": [
        "forest = [clone(grid_search_cv.best_estimator_) for _ in range(n_trees)]\n",
        "\n",
        "accuracy_scores = []\n",
        "\n",
        "for tree, (x_mini_train, y_mini_train) in zip(forest, mini_sets):\n",
        "  tree.fit(x_mini_train, y_mini_train)\n",
        "\n",
        "  y_pred = tree.predict(x_test)\n",
        "  accuracy_scores.append(accuracy_score(y_test, y_pred))\n",
        "\n",
        "np.mean(accuracy_scores)"
      ],
      "metadata": {
        "id": "wIDqSxjpqAaQ",
        "outputId": "0359e9b7-7d05-47ce-af44-2aafa9952bc3",
        "colab": {
          "base_uri": "https://localhost:8080/"
        }
      },
      "execution_count": 15,
      "outputs": [
        {
          "output_type": "execute_result",
          "data": {
            "text/plain": [
              "0.8054499999999999"
            ]
          },
          "metadata": {},
          "execution_count": 15
        }
      ]
    },
    {
      "cell_type": "markdown",
      "source": [
        "###Step-3: Make prediction on 1,000 Decision Trees"
      ],
      "metadata": {
        "id": "5zHHjXp1tsb_"
      }
    },
    {
      "cell_type": "markdown",
      "source": [
        "Now comes the magic. For each test set instance, generate the predictions of the 1,000 Decision Trees, and keep only the most frequent prediction (you can use SciPy's `mode()` function for this). \n",
        "\n",
        "This gives you `_majority-vote predictions_` over the test set."
      ],
      "metadata": {
        "id": "rGEnxocItvna"
      }
    },
    {
      "cell_type": "code",
      "source": [
        "y_pred = np.empty([n_trees, len(x_test)], dtype=np.uint8)\n",
        "\n",
        "for tree_index, tree in enumerate(forest):\n",
        "  y_pred[tree_index] = tree.predict(x_test)"
      ],
      "metadata": {
        "id": "rEiR4UENqIH5"
      },
      "execution_count": 16,
      "outputs": []
    },
    {
      "cell_type": "code",
      "source": [
        "y_pred_majority_votes, n_votes = mode(y_pred, axis=0)"
      ],
      "metadata": {
        "id": "CSr5rJgjqLvo"
      },
      "execution_count": 18,
      "outputs": []
    },
    {
      "cell_type": "markdown",
      "source": [
        "###Step-4: Evaluate these predictions"
      ],
      "metadata": {
        "id": "p_Wmj5z6qkz2"
      }
    },
    {
      "cell_type": "markdown",
      "source": [
        "Let's evaluate these predictions on the test set: you should obtain a slightly higher accuracy than your first model (about 0.5 to 1.5% higher)."
      ],
      "metadata": {
        "id": "pyL2kmnyqlim"
      }
    },
    {
      "cell_type": "code",
      "source": [
        "accuracy_score(y_test, y_pred_majority_votes.reshape([-1]))"
      ],
      "metadata": {
        "id": "TEkNzNDVrDAZ",
        "outputId": "41373e30-5da7-4ed0-cd41-c21c714db69e",
        "colab": {
          "base_uri": "https://localhost:8080/"
        }
      },
      "execution_count": 19,
      "outputs": [
        {
          "output_type": "execute_result",
          "data": {
            "text/plain": [
              "0.872"
            ]
          },
          "metadata": {},
          "execution_count": 19
        }
      ]
    },
    {
      "cell_type": "markdown",
      "source": [
        "Congratulations, you have trained a Random Forest classifier!"
      ],
      "metadata": {
        "id": "U7wy1NkzvClK"
      }
    }
  ]
}