{
  "nbformat": 4,
  "nbformat_minor": 0,
  "metadata": {
    "colab": {
      "name": "02-dimensionality-reduction-exercise.ipynb",
      "provenance": [],
      "toc_visible": true,
      "authorship_tag": "ABX9TyPcUQC8yt3XrsYx3BxE5VsD",
      "include_colab_link": true
    },
    "kernelspec": {
      "name": "python3",
      "display_name": "Python 3"
    },
    "language_info": {
      "name": "python"
    }
  },
  "cells": [
    {
      "cell_type": "markdown",
      "metadata": {
        "id": "view-in-github",
        "colab_type": "text"
      },
      "source": [
        "<a href=\"https://colab.research.google.com/github/rahiakela/machine-learning-research-and-practice/blob/main/hands-on-machine-learning-with-scikit-learn-keras-and-tensorflow/8-dimensionality-reduction/02_dimensionality_reduction_exercise.ipynb\" target=\"_parent\"><img src=\"https://colab.research.google.com/assets/colab-badge.svg\" alt=\"Open In Colab\"/></a>"
      ]
    },
    {
      "cell_type": "markdown",
      "source": [
        "##Dimensionality reduction based on projection"
      ],
      "metadata": {
        "id": "bg1B9IbnnPYY"
      }
    },
    {
      "cell_type": "markdown",
      "source": [
        "**Principal Component Analysis** (PCA) is by far the most popular dimensionality reduction\n",
        "algorithm. First it identifies the hyperplane that lies closest to the data, and then\n",
        "it projects the data onto it.\n",
        "\n",
        "<img src='https://github.com/rahiakela/machine-learning-research-and-practice/blob/main/hands-on-machine-learning-with-scikit-learn-keras-and-tensorflow/8-dimensionality-reduction/images/0.png?raw=1' width='600'/>\n",
        "\n",
        "**Preserving the Variance**\n",
        "\n",
        "Before you can project the training set onto a lower-dimensional hyperplane, you\n",
        "first need to choose the right hyperplane.\n",
        "\n",
        "For example, a simple 2D dataset is represented\n",
        "on the left in figure, along with three different axes (i.e., 1D hyperplanes).\n",
        "On the right is the result of the projection of the dataset onto each of these axes.\n",
        "\n",
        "<img src='https://github.com/rahiakela/machine-learning-research-and-practice/blob/main/hands-on-machine-learning-with-scikit-learn-keras-and-tensorflow/8-dimensionality-reduction/images/1.png?raw=1' width='600'/>\n",
        "\n",
        "As you can see, the projection onto the solid line preserves the maximum variance, while\n",
        "the projection onto the dotted line preserves very little variance and the projection\n",
        "onto the dashed line preserves an intermediate amount of variance.\n",
        "\n",
        "It seems reasonable to select the axis that preserves the maximum amount of variance,\n",
        "as it will most likely lose less information than the other projections. Another\n",
        "way to justify this choice is that it is the axis that minimizes the mean squared distance\n",
        "between the original dataset and its projection onto that axis. This is the rather\n",
        "simple idea behind [**PCA**](https://www.tandfonline.com/doi/pdf/10.1080/14786440109462720).\n",
        "\n",
        "\n",
        "\n",
        "\n",
        "\n",
        "\n",
        "\n",
        "\n",
        "\n",
        "\n",
        "\n"
      ],
      "metadata": {
        "id": "SDMdO_INpby-"
      }
    },
    {
      "cell_type": "markdown",
      "source": [
        "##Setup"
      ],
      "metadata": {
        "id": "Aq3w08Crud4o"
      }
    },
    {
      "cell_type": "code",
      "source": [
        "# Common imports\n",
        "import numpy as np\n",
        "import os\n",
        "import time\n",
        "\n",
        "from sklearn.decomposition import PCA\n",
        "\n",
        "from sklearn.manifold import TSNE\n",
        "from sklearn.manifold import LocallyLinearEmbedding\n",
        "from sklearn.manifold import MDS\n",
        "\n",
        "from sklearn.discriminant_analysis import LinearDiscriminantAnalysis\n",
        "\n",
        "from sklearn.ensemble import RandomForestClassifier\n",
        "from sklearn.preprocessing import MinMaxScaler\n",
        "\n",
        "from sklearn.linear_model import LogisticRegression\n",
        "from sklearn.pipeline import Pipeline\n",
        "from sklearn.metrics import mean_squared_error, accuracy_score\n",
        "\n",
        "from sklearn.datasets import make_swiss_roll\n",
        "from sklearn.datasets import fetch_openml\n",
        "\n",
        "from sklearn.model_selection import train_test_split\n",
        "\n",
        "# to make this notebook's output stable across runs\n",
        "np.random.seed(42)\n",
        "\n",
        "# To plot pretty figures\n",
        "%matplotlib inline\n",
        "import matplotlib as mpl\n",
        "import matplotlib.pyplot as plt\n",
        "from matplotlib.patches import FancyArrowPatch\n",
        "from matplotlib.offsetbox import AnnotationBbox, OffsetImage\n",
        "from mpl_toolkits.mplot3d import proj3d\n",
        "from mpl_toolkits.mplot3d import Axes3D\n",
        "\n",
        "mpl.rc('axes', labelsize=14)\n",
        "mpl.rc('xtick', labelsize=12)\n",
        "mpl.rc('ytick', labelsize=12)"
      ],
      "metadata": {
        "id": "B6iRs6x3ufPm"
      },
      "execution_count": null,
      "outputs": []
    },
    {
      "cell_type": "code",
      "source": [
        "def plot_digits(instances, images_per_row=5, **options):\n",
        "    size = 28\n",
        "    images_per_row = min(len(instances), images_per_row)\n",
        "    images = [instance.reshape(size,size) for instance in instances]\n",
        "    n_rows = (len(instances) - 1) // images_per_row + 1\n",
        "    row_images = []\n",
        "    n_empty = n_rows * images_per_row - len(instances)\n",
        "    images.append(np.zeros((size, size * n_empty)))\n",
        "    for row in range(n_rows):\n",
        "        rimages = images[row * images_per_row : (row + 1) * images_per_row]\n",
        "        row_images.append(np.concatenate(rimages, axis=1))\n",
        "    image = np.concatenate(row_images, axis=0)\n",
        "    plt.imshow(image, cmap = mpl.cm.binary, **options)\n",
        "    plt.axis(\"off\")"
      ],
      "metadata": {
        "id": "rbpXXc0AUsFw"
      },
      "execution_count": null,
      "outputs": []
    },
    {
      "cell_type": "markdown",
      "source": [
        "Let's load MNIST dataset."
      ],
      "metadata": {
        "id": "_sNDB7DRw3Cq"
      }
    },
    {
      "cell_type": "code",
      "source": [
        "mnist = fetch_openml('mnist_784', version=1, cache=True, as_frame=False)\n",
        "X_train, y = mnist[\"data\"], mnist[\"target\"]\n",
        "X_train.shape"
      ],
      "metadata": {
        "id": "BQdJ1CmiN2N_",
        "outputId": "42ffee7b-ac04-4afe-c931-b09f7d38ea92",
        "colab": {
          "base_uri": "https://localhost:8080/"
        }
      },
      "execution_count": null,
      "outputs": [
        {
          "output_type": "execute_result",
          "data": {
            "text/plain": [
              "(70000, 784)"
            ]
          },
          "metadata": {},
          "execution_count": 4
        }
      ]
    },
    {
      "cell_type": "code",
      "source": [
        "y.shape"
      ],
      "metadata": {
        "id": "0RymWSmMN_lB",
        "outputId": "e52dc9e4-86f9-4d72-f22e-e000d8f4cf1b",
        "colab": {
          "base_uri": "https://localhost:8080/"
        }
      },
      "execution_count": null,
      "outputs": [
        {
          "output_type": "execute_result",
          "data": {
            "text/plain": [
              "(70000,)"
            ]
          },
          "metadata": {},
          "execution_count": 5
        }
      ]
    },
    {
      "cell_type": "code",
      "source": [
        "X_train, X_test, y_train, y_test = train_test_split(X_train, y)"
      ],
      "metadata": {
        "id": "mnWNHUiWUZJT"
      },
      "execution_count": null,
      "outputs": []
    },
    {
      "cell_type": "markdown",
      "source": [
        "##Exercise-9"
      ],
      "metadata": {
        "id": "e3tO7AM5qIgx"
      }
    },
    {
      "cell_type": "markdown",
      "source": [
        ""
      ],
      "metadata": {
        "id": "ZfVEYFh4xbbq"
      }
    }
  ]
}