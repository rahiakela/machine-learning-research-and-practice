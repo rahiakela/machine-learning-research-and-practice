{
  "nbformat": 4,
  "nbformat_minor": 0,
  "metadata": {
    "colab": {
      "name": "4_understanding_lstm_and_gru_layers.ipynb",
      "provenance": [],
      "toc_visible": true,
      "include_colab_link": true
    },
    "kernelspec": {
      "name": "python3",
      "display_name": "Python 3"
    },
    "accelerator": "GPU"
  },
  "cells": [
    {
      "cell_type": "markdown",
      "metadata": {
        "id": "view-in-github",
        "colab_type": "text"
      },
      "source": [
        "<a href=\"https://colab.research.google.com/github/rahiakela/hands-on-machine-learning-with-scikit-learn-keras-and-tensorflow/blob/17-representation-learning-and-generative-learning-using-autoencoders-and-gans/4_understanding_lstm_and_gru_layers.ipynb\" target=\"_parent\"><img src=\"https://colab.research.google.com/assets/colab-badge.svg\" alt=\"Open In Colab\"/></a>"
      ]
    },
    {
      "cell_type": "markdown",
      "metadata": {
        "id": "xEmGMZ4jIJgm",
        "colab_type": "text"
      },
      "source": [
        "# Understanding the LSTM and GRU layers"
      ]
    },
    {
      "cell_type": "markdown",
      "metadata": {
        "id": "A_FHcZb4ILRf",
        "colab_type": "text"
      },
      "source": [
        "**A major characteristic of all neural networks you’ve seen so far, such as densely connected networks and convnets, is that they have no memory. Each input shown to them is processed independently, with no state kept in between inputs.**\n",
        "\n",
        "**With such networks, in order to process a sequence or a temporal series of data points, you have to show the entire sequence to the network at once: turn it into a single data point.**\n",
        "\n",
        "For instance, this is what you did in the IMDB example: an entire movie review was transformed into a single large vector(flatten) and processed in one go. Such networks are called **feedforward networks**.\n",
        "\n",
        "In contrast, as you’re reading the present sentence, you’re processing it word by word—or rather, eye saccade by eye saccade—while keeping memories of what came before; this gives you a fluid representation of the meaning conveyed by this sentence.\n",
        "\n",
        "**Biological intelligence processes information incrementally while maintaining an internal model of what it’s processing, built from past information and constantly updated as new information comes in**.\n",
        "\n",
        "A **recurrent neural network (RNN)** adopts the same principle, albeit in an extremely simplified version: **it processes sequences by iterating through the sequence elements and maintaining a state containing information relative to what it has seen so far. In effect, an RNN is a type of neural network that has an internal loop.**\n",
        "\n",
        "The state of the RNN is reset between processing two different,\n",
        "independent sequences (such as two different IMDB reviews), so you still consider one sequence a single data point: **a single input to the network. What changes is that this data point is no longer processed in a single step; rather, the network internally loops over sequence elements.**\n",
        "\n",
        "<img src='https://github.com/rahiakela/img-repo/blob/master/deep-learning-with-python/recurrent-neural-network.png?raw=1' width='800'/>"
      ]
    },
    {
      "cell_type": "markdown",
      "metadata": {
        "id": "I-cxGszvOwJe",
        "colab_type": "text"
      },
      "source": [
        "## Setup"
      ]
    },
    {
      "cell_type": "code",
      "metadata": {
        "id": "qIw5Nx0tOx6C",
        "colab_type": "code",
        "colab": {}
      },
      "source": [
        "from __future__ import absolute_import, division, print_function, unicode_literals\n",
        "\n",
        "try:\n",
        "  # %tensorflow_version only exists in Colab.\n",
        "  %tensorflow_version 2.x\n",
        "except Exception:\n",
        "  pass\n",
        "import tensorflow as tf\n",
        "from tensorflow import keras\n",
        "\n",
        "from tensorflow.keras.models import Sequential\n",
        "from tensorflow.keras.layers import Flatten, Dense, LSTM, SimpleRNN, Embedding\n",
        "\n",
        "from tensorflow.keras.datasets import imdb\n",
        "\n",
        "from tensorflow.keras.preprocessing.text import Tokenizer\n",
        "from tensorflow.keras.preprocessing.sequence import pad_sequences\n",
        "\n",
        "import numpy as np\n",
        "import pandas as pd\n",
        "\n",
        "import string\n",
        "import os\n",
        "\n",
        "import matplotlib.pyplot as plt\n",
        "%matplotlib inline"
      ],
      "execution_count": 0,
      "outputs": []
    },
    {
      "cell_type": "markdown",
      "metadata": {
        "id": "kv4KQLrDO-JQ",
        "colab_type": "text"
      },
      "source": [
        "## Understanding the LSTM and GRU layers"
      ]
    },
    {
      "cell_type": "markdown",
      "metadata": {
        "id": "2QAyWdz2O_Ov",
        "colab_type": "text"
      },
      "source": [
        "The process you just naively implemented in Numpy corresponds to an actual Keras layer—the SimpleRNN layer:\n",
        "\n",
        "```python\n",
        "from keras.layers import SimpleRNN\n",
        "```\n",
        "\n",
        "There is one minor difference: **SimpleRNN processes batches of sequences, like all other Keras layers, not a single sequence as in the Numpy example**. This means it takes inputs of shape (batch_size, timesteps, input_features), rather than (timesteps, input_features).\n",
        "\n",
        "**Like all recurrent layers in Keras, SimpleRNN can be run in two different modes**: it can return either the full sequences of successive outputs for each timestep (a 3D tensor of shape (batch_size, timesteps, output_features)) or only the last output for each input sequence (a 2D tensor of shape (batch_size, output_features)). **These two modes are controlled by the return_sequences constructor argument**. \n",
        "\n",
        "Let’s look at an example that uses SimpleRNN and returns only the output at the last timestep:\n"
      ]
    },
    {
      "cell_type": "code",
      "metadata": {
        "id": "XabYv-S9Pwgs",
        "colab_type": "code",
        "outputId": "cf66c4be-4898-4d9c-d540-ebcbaab945d0",
        "colab": {
          "base_uri": "https://localhost:8080/",
          "height": 217
        }
      },
      "source": [
        "model = Sequential()\n",
        "model.add(Embedding(10000, 32))\n",
        "model.add(SimpleRNN(32))\n",
        "model.summary()"
      ],
      "execution_count": 0,
      "outputs": [
        {
          "output_type": "stream",
          "text": [
            "Model: \"sequential\"\n",
            "_________________________________________________________________\n",
            "Layer (type)                 Output Shape              Param #   \n",
            "=================================================================\n",
            "embedding (Embedding)        (None, None, 32)          320000    \n",
            "_________________________________________________________________\n",
            "simple_rnn (SimpleRNN)       (None, 32)                2080      \n",
            "=================================================================\n",
            "Total params: 322,080\n",
            "Trainable params: 322,080\n",
            "Non-trainable params: 0\n",
            "_________________________________________________________________\n"
          ],
          "name": "stdout"
        }
      ]
    },
    {
      "cell_type": "markdown",
      "metadata": {
        "id": "VQ4A_GkxQYIz",
        "colab_type": "text"
      },
      "source": [
        "The following example returns the full state sequence:"
      ]
    },
    {
      "cell_type": "code",
      "metadata": {
        "id": "gjk_x4sVQrO2",
        "colab_type": "code",
        "outputId": "6044c544-7ec2-4ff9-e7d3-7a925b926be0",
        "colab": {
          "base_uri": "https://localhost:8080/",
          "height": 217
        }
      },
      "source": [
        "model = Sequential()\n",
        "model.add(Embedding(10000, 32))\n",
        "model.add(SimpleRNN(32, return_sequences=True))\n",
        "model.summary()"
      ],
      "execution_count": 0,
      "outputs": [
        {
          "output_type": "stream",
          "text": [
            "Model: \"sequential_1\"\n",
            "_________________________________________________________________\n",
            "Layer (type)                 Output Shape              Param #   \n",
            "=================================================================\n",
            "embedding_1 (Embedding)      (None, None, 32)          320000    \n",
            "_________________________________________________________________\n",
            "simple_rnn_1 (SimpleRNN)     (None, None, 32)          2080      \n",
            "=================================================================\n",
            "Total params: 322,080\n",
            "Trainable params: 322,080\n",
            "Non-trainable params: 0\n",
            "_________________________________________________________________\n"
          ],
          "name": "stdout"
        }
      ]
    },
    {
      "cell_type": "markdown",
      "metadata": {
        "id": "ECYyXabyRNWZ",
        "colab_type": "text"
      },
      "source": [
        "It’s sometimes useful to stack several recurrent layers one after the other in order to increase the representational power of a network. In such a setup, you have to get all of the intermediate layers to return full sequence of outputs:"
      ]
    },
    {
      "cell_type": "code",
      "metadata": {
        "id": "3NHd3WTqRPSI",
        "colab_type": "code",
        "outputId": "e09371dd-5d87-42bb-fd7e-e4969546fdc9",
        "colab": {
          "base_uri": "https://localhost:8080/",
          "height": 317
        }
      },
      "source": [
        "model = Sequential()\n",
        "model.add(Embedding(10000, 32))\n",
        "model.add(SimpleRNN(32, return_sequences=True))\n",
        "model.add(SimpleRNN(32, return_sequences=True))\n",
        "model.add(SimpleRNN(32, return_sequences=True))\n",
        "model.add(SimpleRNN(32))  # Last layer only returns the last output\n",
        "model.summary()"
      ],
      "execution_count": 0,
      "outputs": [
        {
          "output_type": "stream",
          "text": [
            "Model: \"sequential_2\"\n",
            "_________________________________________________________________\n",
            "Layer (type)                 Output Shape              Param #   \n",
            "=================================================================\n",
            "embedding_2 (Embedding)      (None, None, 32)          320000    \n",
            "_________________________________________________________________\n",
            "simple_rnn_2 (SimpleRNN)     (None, None, 32)          2080      \n",
            "_________________________________________________________________\n",
            "simple_rnn_3 (SimpleRNN)     (None, None, 32)          2080      \n",
            "_________________________________________________________________\n",
            "simple_rnn_4 (SimpleRNN)     (None, None, 32)          2080      \n",
            "_________________________________________________________________\n",
            "simple_rnn_5 (SimpleRNN)     (None, 32)                2080      \n",
            "=================================================================\n",
            "Total params: 328,320\n",
            "Trainable params: 328,320\n",
            "Non-trainable params: 0\n",
            "_________________________________________________________________\n"
          ],
          "name": "stdout"
        }
      ]
    },
    {
      "cell_type": "markdown",
      "metadata": {
        "id": "1B4gdzYAEveB",
        "colab_type": "text"
      },
      "source": [
        "Now, let’s use such a model on the IMDB movie-review-classification problem. First, preprocess the data."
      ]
    },
    {
      "cell_type": "code",
      "metadata": {
        "id": "56rN68v4VL0r",
        "colab_type": "code",
        "outputId": "7ee02aca-2c4f-4fac-d011-ec1ec0d2cf3d",
        "colab": {
          "base_uri": "https://localhost:8080/",
          "height": 150
        }
      },
      "source": [
        "maxlen = 500            # cut texts after this number of words (among top max_features most common words)\n",
        "batch_size = 32\n",
        "\n",
        "print('Loading data...')\n",
        "(input_train, y_train), (input_test, y_test) = imdb.load_data()\n",
        "print(len(input_train), ' train sequences')\n",
        "print(len(input_test), ' test sequences')\n",
        "\n",
        "print('Pad sequences (samples x time)')\n",
        "input_train = pad_sequences(input_train, maxlen=maxlen)\n",
        "input_test = pad_sequences(input_test, maxlen=maxlen)\n",
        "print('input_train shape:', input_train.shape)\n",
        "print('input_test shape:', input_test.shape)"
      ],
      "execution_count": 0,
      "outputs": [
        {
          "output_type": "stream",
          "text": [
            "Loading data...\n",
            "Downloading data from https://storage.googleapis.com/tensorflow/tf-keras-datasets/imdb.npz\n",
            "17465344/17464789 [==============================] - 0s 0us/step\n",
            "25000  train sequences\n",
            "25000  test sequences\n",
            "Pad sequences (samples x time)\n",
            "input_train shape: (25000, 500)\n",
            "input_test shape: (25000, 500)\n"
          ],
          "name": "stdout"
        }
      ]
    },
    {
      "cell_type": "markdown",
      "metadata": {
        "id": "ziyZbduDVif-",
        "colab_type": "text"
      },
      "source": [
        "Let's train a simple recurrent network using an Embedding layer and a SimpleRNN layer:"
      ]
    },
    {
      "cell_type": "code",
      "metadata": {
        "id": "pLUZ5nFKGXIE",
        "colab_type": "code",
        "outputId": "07c53a0f-ab6b-4fcd-9413-069a4df22957",
        "colab": {
          "base_uri": "https://localhost:8080/",
          "height": 367
        }
      },
      "source": [
        "# number of words to consider as features\n",
        "voc_size = (input_train.max()+1).astype('int64')\n",
        "print(voc_size)\n",
        "\n",
        "model = Sequential()\n",
        "model.add(Embedding(voc_size, 32))\n",
        "model.add(SimpleRNN(32))\n",
        "model.add(Dense(1, activation='sigmoid'))\n",
        "\n",
        "model.compile(loss='binary_crossentropy', optimizer='RMSprop', metrics=['accuracy'])\n",
        "history = model.fit(input_train, y_train, epochs=10, batch_size=128, validation_split=0.2)"
      ],
      "execution_count": 0,
      "outputs": [
        {
          "output_type": "stream",
          "text": [
            "88587\n",
            "Epoch 1/10\n",
            "157/157 [==============================] - 54s 341ms/step - loss: 0.6106 - accuracy: 0.6487 - val_loss: 0.4208 - val_accuracy: 0.8142\n",
            "Epoch 2/10\n",
            "157/157 [==============================] - 54s 341ms/step - loss: 0.3563 - accuracy: 0.8530 - val_loss: 0.4073 - val_accuracy: 0.8156\n",
            "Epoch 3/10\n",
            "157/157 [==============================] - 54s 341ms/step - loss: 0.2453 - accuracy: 0.9094 - val_loss: 0.3503 - val_accuracy: 0.8550\n",
            "Epoch 4/10\n",
            "157/157 [==============================] - 54s 342ms/step - loss: 0.1599 - accuracy: 0.9441 - val_loss: 0.3644 - val_accuracy: 0.8552\n",
            "Epoch 5/10\n",
            "157/157 [==============================] - 54s 345ms/step - loss: 0.1039 - accuracy: 0.9647 - val_loss: 0.5653 - val_accuracy: 0.7654\n",
            "Epoch 6/10\n",
            "157/157 [==============================] - 53s 340ms/step - loss: 0.0647 - accuracy: 0.9790 - val_loss: 0.6242 - val_accuracy: 0.7638\n",
            "Epoch 7/10\n",
            "157/157 [==============================] - 53s 340ms/step - loss: 0.0427 - accuracy: 0.9872 - val_loss: 0.4754 - val_accuracy: 0.8504\n",
            "Epoch 8/10\n",
            "157/157 [==============================] - 54s 346ms/step - loss: 0.0249 - accuracy: 0.9920 - val_loss: 0.6173 - val_accuracy: 0.8140\n",
            "Epoch 9/10\n",
            "157/157 [==============================] - 54s 342ms/step - loss: 0.0171 - accuracy: 0.9951 - val_loss: 0.7736 - val_accuracy: 0.7464\n",
            "Epoch 10/10\n",
            "157/157 [==============================] - 54s 346ms/step - loss: 0.0233 - accuracy: 0.9933 - val_loss: 0.6424 - val_accuracy: 0.8118\n"
          ],
          "name": "stdout"
        }
      ]
    },
    {
      "cell_type": "markdown",
      "metadata": {
        "id": "UCDA-v-sKsyD",
        "colab_type": "text"
      },
      "source": [
        "Let's display the training and validation loss and accuracy:"
      ]
    },
    {
      "cell_type": "code",
      "metadata": {
        "id": "aA7BC9XtKtbi",
        "colab_type": "code",
        "outputId": "c67a76e8-81ed-40a8-8e7a-e9b54172ac53",
        "colab": {
          "base_uri": "https://localhost:8080/",
          "height": 545
        }
      },
      "source": [
        "acc = history.history['accuracy']\n",
        "val_acc = history.history['val_accuracy']\n",
        "loss = history.history['loss']\n",
        "val_loss = history.history['val_loss']\n",
        "\n",
        "epochs = range(len(acc))\n",
        "\n",
        "plt.plot(epochs, acc, 'bo', label='Training accuracy')\n",
        "plt.plot(epochs, val_acc, 'b', label='Validation accuracy')\n",
        "plt.title('Training and validation accuracy')\n",
        "plt.legend()\n",
        "\n",
        "plt.figure()\n",
        "\n",
        "plt.plot(epochs, loss, 'bo', label='Training loss')\n",
        "plt.plot(epochs, val_loss, 'b', label='Validation loss')\n",
        "plt.title('Training and validation loss')\n",
        "plt.legend()\n",
        "\n",
        "plt.show()"
      ],
      "execution_count": 0,
      "outputs": [
        {
          "output_type": "display_data",
          "data": {
            "image/png": "[encoded data removed]",
            "text/plain": [
              "<Figure size 432x288 with 1 Axes>"
            ]
          },
          "metadata": {
            "tags": []
          }
        },
        {
          "output_type": "display_data",
          "data": {
            "image/png": "[encoded data removed]",
            "text/plain": [
              "<Figure size 432x288 with 1 Axes>"
            ]
          },
          "metadata": {
            "tags": []
          }
        }
      ]
    },
    {
      "cell_type": "markdown",
      "metadata": {
        "id": "nDgCqGi8J9pg",
        "colab_type": "text"
      },
      "source": [
        "As a reminder, our very first naive approach to this very dataset got us to 88% test accuracy. Unfortunately, our small recurrent network doesn't perform very well at all compared to this baseline (only up to 85% validation accuracy). \n",
        "\n",
        "Part of the problem is that our inputs only consider the first 500 words rather the full sequences -- hence our RNN has access to less information than our earlier baseline model. The remainder of the problem is simply that SimpleRNN isn't very good at processing long sequences, like text. \n",
        "\n",
        "Other types of recurrent layers perform much better. Let's take a look at some more advanced layers."
      ]
    }
  ]
}