{
  "nbformat": 4,
  "nbformat_minor": 0,
  "metadata": {
    "colab": {
      "name": "01-clustering-fundamental.ipynb",
      "provenance": [],
      "toc_visible": true,
      "authorship_tag": "ABX9TyNKMxVc+rrxH3uHQNK4nfrX",
      "include_colab_link": true
    },
    "kernelspec": {
      "name": "python3",
      "display_name": "Python 3"
    },
    "language_info": {
      "name": "python"
    }
  },
  "cells": [
    {
      "cell_type": "markdown",
      "metadata": {
        "id": "view-in-github",
        "colab_type": "text"
      },
      "source": [
        "<a href=\"https://colab.research.google.com/github/rahiakela/machine-learning-research-and-practice/blob/main/hands-on-machine-learning-with-scikit-learn-keras-and-tensorflow/9-unsupervised-learning-techniques/01_clustering_fundamental.ipynb\" target=\"_parent\"><img src=\"https://colab.research.google.com/assets/colab-badge.svg\" alt=\"Open In Colab\"/></a>"
      ]
    },
    {
      "cell_type": "markdown",
      "source": [
        "##Clustering Fundamental"
      ],
      "metadata": {
        "id": "xplr-58Sr8kP"
      }
    },
    {
      "cell_type": "markdown",
      "source": [
        "Although most of the applications of Machine Learning today are based on supervised learning (and as a result, this is where most of the investments go to), the vast majority of the available data is unlabeled: we have the input features $X$, but we do not have the labels $y$.\n",
        "\n",
        "In this notebook we will look at a few more unsupervised learning tasks\n",
        "and algorithms:\n",
        "\n",
        "* **Clustering**-The goal is to group similar instances together into clusters.\n",
        "* **Anomaly detection**-The objective is to learn what “normal” data looks like, and then use that to detect abnormal instances.\n",
        "* **Density estimation**-This is the task of estimating the probability density function (PDF) of the random process that generated the dataset.\n",
        "\n",
        "There is no universal definition of what a cluster is: it really depends on the context,\n",
        "and different algorithms will capture different kinds of clusters. \n",
        "\n",
        "Some algorithms look for instances centered around a particular point, called a centroid. \n",
        "\n",
        "Others look for continuous regions of densely packed instances: these clusters can take on any shape. \n",
        "\n",
        "Some algorithms are hierarchical, looking for clusters of clusters. And the list goes on.\n",
        "\n",
        "There are two popular clustering algorithms:\n",
        "\n",
        "* K-Means\n",
        "* DBSCAN\n",
        "\n",
        "And these are the some of their applications, such as nonlinear dimensionality\n",
        "reduction, semi-supervised learning, and anomaly detection."
      ],
      "metadata": {
        "id": "6YMFTbYSsJBK"
      }
    },
    {
      "cell_type": "markdown",
      "source": [
        "##Setup"
      ],
      "metadata": {
        "id": "zckJkGwQvrEI"
      }
    },
    {
      "cell_type": "code",
      "source": [
        "# Common imports\n",
        "import numpy as np\n",
        "import os\n",
        "from timeit import timeit\n",
        "\n",
        "from sklearn.mixture import GaussianMixture\n",
        "from sklearn.mixture import BayesianGaussianMixture\n",
        "from sklearn.cluster import KMeans\n",
        "from sklearn.cluster import MiniBatchKMeans\n",
        "from sklearn.cluster import DBSCAN\n",
        "from sklearn.cluster import SpectralClustering\n",
        "from sklearn.cluster import AgglomerativeClustering\n",
        "\n",
        "from sklearn.linear_model import LogisticRegression\n",
        "from sklearn.pipeline import Pipeline\n",
        "from sklearn.neighbors import KNeighborsClassifier\n",
        "\n",
        "from sklearn.metrics import silhouette_score\n",
        "from sklearn.metrics import silhouette_samples\n",
        "\n",
        "from sklearn.model_selection import train_test_split\n",
        "from sklearn.model_selection import GridSearchCV\n",
        "\n",
        "from sklearn.datasets import load_iris\n",
        "from sklearn.datasets import make_blobs\n",
        "from sklearn.datasets import load_digits\n",
        "from sklearn.datasets import make_moons\n",
        "\n",
        "from scipy.stats import norm\n",
        "\n",
        "# to make this notebook's output stable across runs\n",
        "np.random.seed(42)\n",
        "\n",
        "# To plot pretty figures\n",
        "%matplotlib inline\n",
        "import matplotlib as mpl\n",
        "import matplotlib.pyplot as plt\n",
        "from matplotlib.image import imread\n",
        "from matplotlib.ticker import FixedLocator, FixedFormatter\n",
        "from matplotlib.colors import LogNorm\n",
        "from matplotlib.patches import Polygon\n",
        "\n",
        "mpl.rc('axes', labelsize=14)\n",
        "mpl.rc('xtick', labelsize=12)\n",
        "mpl.rc('ytick', labelsize=12)"
      ],
      "metadata": {
        "id": "w8Ra6rVQvr_H"
      },
      "execution_count": 1,
      "outputs": []
    },
    {
      "cell_type": "markdown",
      "source": [
        "Let's load iris dataset."
      ],
      "metadata": {
        "id": "PWQoQXZZzCzN"
      }
    },
    {
      "cell_type": "code",
      "source": [
        "data = load_iris()\n",
        "X = data.data\n",
        "y = data.target\n",
        "data.target_names"
      ],
      "metadata": {
        "colab": {
          "base_uri": "https://localhost:8080/"
        },
        "id": "7aopZY_XxtPS",
        "outputId": "7a4542e2-042b-4ad8-fb6d-74b87863e8e6"
      },
      "execution_count": 2,
      "outputs": [
        {
          "output_type": "execute_result",
          "data": {
            "text/plain": [
              "array(['setosa', 'versicolor', 'virginica'], dtype='<U10')"
            ]
          },
          "metadata": {},
          "execution_count": 2
        }
      ]
    },
    {
      "cell_type": "markdown",
      "source": [
        "##Clustering"
      ],
      "metadata": {
        "id": "DJ1-WcOSvsTN"
      }
    },
    {
      "cell_type": "markdown",
      "source": [
        "The clustering is the task of identifying similar instances and assigning\n",
        "them to clusters, or groups of similar instances.\n",
        "\n",
        "Just like in classification, each instance gets assigned to a group. However, unlike classification,\n",
        "clustering is an unsupervised task.\n",
        "\n"
      ],
      "metadata": {
        "id": "h1vNpAcYvtPH"
      }
    },
    {
      "cell_type": "code",
      "source": [
        "plt.figure(figsize=(9, 3.5))\n",
        "\n",
        "plt.subplot(121)\n",
        "plt.plot(X[y==0, 2], X[y==0, 3], \"yo\", label=\"Iris-Setosa\")\n",
        "plt.plot(X[y==1, 2], X[y==1, 3], \"bs\", label=\"Iris-Versicolor\")\n",
        "plt.plot(X[y==2, 2], X[y==2, 3], \"g^\", label=\"Iris-Virginica\")\n",
        "plt.xlabel(\"Petal length\", fontsize=14)\n",
        "plt.ylabel(\"Petal width\", fontsize=14)\n",
        "plt.legend(fontsize=12)\n",
        "\n",
        "plt.subplot(122)\n",
        "plt.scatter(X[:, 2], X[:, 3], c=\"k\", marker=\".\")\n",
        "plt.xlabel(\"Petal length\", fontsize=14)\n",
        "plt.tick_params(labelleft=False)\n",
        "\n",
        "plt.show()"
      ],
      "metadata": {
        "colab": {
          "base_uri": "https://localhost:8080/",
          "height": 259
        },
        "id": "qjS2Llm5xxR_",
        "outputId": "ed17522f-bd7e-42c6-caff-9546aa1b8550"
      },
      "execution_count": 3,
      "outputs": [
        {
          "output_type": "display_data",
          "data": {
            "image/png": "[encoded data removed]",
            "text/plain": [
              "<Figure size 648x252 with 2 Axes>"
            ]
          },
          "metadata": {
            "needs_background": "light"
          }
        }
      ]
    },
    {
      "cell_type": "markdown",
      "source": [
        "On the right is the same dataset, but without the labels, so you cannot use a\n",
        "classification algorithm anymore. \n",
        "\n",
        "This is where clustering algorithms step in: many of\n",
        "them can easily detect the lower-left cluster. \n",
        "\n",
        "It is also quite easy to see with our own\n",
        "eyes, but it is not so obvious that the upper-right cluster is composed of two distinct sub-clusters.\n",
        "\n",
        "But the dataset has two additional features (sepal length and\n",
        "width), not represented here, and clustering algorithms can make good use of all features, so in fact they identify the three clusters fairly well.\n",
        "\n",
        "A Gaussian mixture model (explained below) can actually separate these clusters pretty well (using all 4 features: petal length & width, and sepal length & width).\n",
        "\n"
      ],
      "metadata": {
        "id": "l1kjGjKlzTE_"
      }
    },
    {
      "cell_type": "code",
      "source": [
        "y_pred= GaussianMixture(n_components=3, random_state=42).fit(X).predict(X)\n",
        "mapping = np.array([2, 0, 1])\n",
        "y_pred = np.array([mapping[cluster_id] for cluster_id in y_pred])"
      ],
      "metadata": {
        "id": "9t-HFcBH0V86"
      },
      "execution_count": 5,
      "outputs": []
    },
    {
      "cell_type": "code",
      "source": [
        "plt.plot(X[y_pred==0, 2], X[y_pred==0, 3], \"yo\", label=\"Cluster 1\")\n",
        "plt.plot(X[y_pred==1, 2], X[y_pred==1, 3], \"bs\", label=\"Cluster 2\")\n",
        "plt.plot(X[y_pred==2, 2], X[y_pred==2, 3], \"g^\", label=\"Cluster 3\")\n",
        "plt.xlabel(\"Petal length\", fontsize=14)\n",
        "plt.ylabel(\"Petal width\", fontsize=14)\n",
        "plt.legend(loc=\"upper left\", fontsize=12)\n",
        "plt.show()"
      ],
      "metadata": {
        "colab": {
          "base_uri": "https://localhost:8080/",
          "height": 286
        },
        "id": "52Uf3qXY097d",
        "outputId": "803d4e7a-4585-47f9-bf6e-637c0ce84cc3"
      },
      "execution_count": 6,
      "outputs": [
        {
          "output_type": "display_data",
          "data": {
            "image/png": "[encoded data removed]",
            "text/plain": [
              "<Figure size 432x288 with 1 Axes>"
            ]
          },
          "metadata": {
            "needs_background": "light"
          }
        }
      ]
    },
    {
      "cell_type": "markdown",
      "source": [
        "And using a Gaussian mixture model, only 5 instances out of 150 are assigned to the wrong cluster."
      ],
      "metadata": {
        "id": "X_t_YCQV1XxT"
      }
    },
    {
      "cell_type": "code",
      "source": [
        "np.sum(y_pred==y)"
      ],
      "metadata": {
        "colab": {
          "base_uri": "https://localhost:8080/"
        },
        "id": "o6mS-JFz1JFH",
        "outputId": "ff184888-ae8e-43f0-fa41-ec65cda327b2"
      },
      "execution_count": 7,
      "outputs": [
        {
          "output_type": "execute_result",
          "data": {
            "text/plain": [
              "145"
            ]
          },
          "metadata": {},
          "execution_count": 7
        }
      ]
    },
    {
      "cell_type": "code",
      "source": [
        "np.sum(y_pred==y) / len(y_pred)"
      ],
      "metadata": {
        "colab": {
          "base_uri": "https://localhost:8080/"
        },
        "id": "PN8azE6z1Om-",
        "outputId": "c64a651d-0561-4fef-c0b1-b2d2d9d2e621"
      },
      "execution_count": 8,
      "outputs": [
        {
          "output_type": "execute_result",
          "data": {
            "text/plain": [
              "0.9666666666666667"
            ]
          },
          "metadata": {},
          "execution_count": 8
        }
      ]
    },
    {
      "cell_type": "markdown",
      "source": [
        "##K-Means"
      ],
      "metadata": {
        "id": "E6Wu_9AF1ISu"
      }
    },
    {
      "cell_type": "markdown",
      "source": [
        ""
      ],
      "metadata": {
        "id": "6X2_tu_v1kN0"
      }
    }
  ]
}