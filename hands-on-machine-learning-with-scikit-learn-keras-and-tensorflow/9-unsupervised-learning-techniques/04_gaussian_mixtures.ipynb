{
  "nbformat": 4,
  "nbformat_minor": 0,
  "metadata": {
    "colab": {
      "name": "04-gaussian-mixtures.ipynb",
      "provenance": [],
      "toc_visible": true,
      "authorship_tag": "ABX9TyNIKUOVqJCD1bJ+gtM3TJb/",
      "include_colab_link": true
    },
    "kernelspec": {
      "name": "python3",
      "display_name": "Python 3"
    },
    "language_info": {
      "name": "python"
    }
  },
  "cells": [
    {
      "cell_type": "markdown",
      "metadata": {
        "id": "view-in-github",
        "colab_type": "text"
      },
      "source": [
        "<a href=\"https://colab.research.google.com/github/rahiakela/machine-learning-research-and-practice/blob/main/hands-on-machine-learning-with-scikit-learn-keras-and-tensorflow/9-unsupervised-learning-techniques/04_gaussian_mixtures.ipynb\" target=\"_parent\"><img src=\"https://colab.research.google.com/assets/colab-badge.svg\" alt=\"Open In Colab\"/></a>"
      ]
    },
    {
      "cell_type": "markdown",
      "source": [
        "##Gaussian Mixtures"
      ],
      "metadata": {
        "id": "xplr-58Sr8kP"
      }
    },
    {
      "cell_type": "markdown",
      "source": [
        "A Gaussian mixture model (GMM) is a probabilistic model that assumes that the\n",
        "instances were generated from a mixture of several Gaussian distributions whose parameters are unknown. All the instances generated from a single Gaussian distribution form a cluster that typically looks like an ellipsoid.\n",
        "\n",
        "When you observe an instance, you know it was generated from one of the Gaussian distributions, but you are not told which one, and you do not know what the parameters of these distributions are.\n",
        "\n",
        "There are several GMM variants. In the simplest variant, implemented in the `GaussianMixture` class, you must know in advance the number $k$ of Gaussian distributions.\n",
        "\n",
        "This generative process can be represented as a graphical model.\n",
        "\n",
        "<img src='https://github.com/rahiakela/machine-learning-research-and-practice/blob/main/hands-on-machine-learning-with-scikit-learn-keras-and-tensorflow/9-unsupervised-learning-techniques/images/1.png?raw=1' width='600'/>\n",
        "\n",
        "So, what can you do with such a model?\n",
        "\n",
        "Well, given the dataset $X$, you typically want\n",
        "to start by estimating the weights ϕ and all the distribution parameters $\\mu(1)$ to $\\mu(k)$ and\n",
        "Σ(1) to Σ(k). \n",
        "\n",
        "Scikit-Learn’s GaussianMixture class makes this super easy.\n",
        "\n",
        "\n",
        "\n"
      ],
      "metadata": {
        "id": "6YMFTbYSsJBK"
      }
    },
    {
      "cell_type": "markdown",
      "source": [
        "##Setup"
      ],
      "metadata": {
        "id": "zckJkGwQvrEI"
      }
    },
    {
      "cell_type": "code",
      "source": [
        "# Common imports\n",
        "import numpy as np\n",
        "import os\n",
        "from timeit import timeit\n",
        "\n",
        "from sklearn.mixture import GaussianMixture\n",
        "from sklearn.mixture import BayesianGaussianMixture\n",
        "\n",
        "from sklearn.model_selection import train_test_split\n",
        "\n",
        "from sklearn.datasets import load_iris\n",
        "from sklearn.datasets import make_blobs\n",
        "from sklearn.datasets import load_digits\n",
        "from sklearn.datasets import make_moons\n",
        "\n",
        "from scipy.stats import norm\n",
        "\n",
        "# to make this notebook's output stable across runs\n",
        "np.random.seed(42)\n",
        "\n",
        "# To plot pretty figures\n",
        "%matplotlib inline\n",
        "import matplotlib as mpl\n",
        "import matplotlib.pyplot as plt\n",
        "from matplotlib.image import imread\n",
        "from matplotlib.ticker import FixedLocator, FixedFormatter\n",
        "from matplotlib.colors import LogNorm\n",
        "from matplotlib.patches import Polygon\n",
        "\n",
        "mpl.rc('axes', labelsize=14)\n",
        "mpl.rc('xtick', labelsize=12)\n",
        "mpl.rc('ytick', labelsize=12)"
      ],
      "metadata": {
        "id": "w8Ra6rVQvr_H"
      },
      "execution_count": null,
      "outputs": []
    },
    {
      "cell_type": "markdown",
      "source": [
        "Let's define some ploting methods."
      ],
      "metadata": {
        "id": "o1VqR3yCwZJe"
      }
    },
    {
      "cell_type": "code",
      "source": [
        "def plot_data(X):\n",
        "    plt.plot(X[:, 0], X[:, 1], 'k.', markersize=2)\n",
        "\n",
        "def plot_centroids(centroids, weights=None, circle_color='w', cross_color='k'):\n",
        "    if weights is not None:\n",
        "        centroids = centroids[weights > weights.max() / 10]\n",
        "    plt.scatter(centroids[:, 0], centroids[:, 1],\n",
        "                marker='o', s=30, linewidths=8,\n",
        "                color=circle_color, zorder=10, alpha=0.9)\n",
        "    plt.scatter(centroids[:, 0], centroids[:, 1],\n",
        "                marker='x', s=50, linewidths=50,\n",
        "                color=cross_color, zorder=11, alpha=1)\n",
        "\n",
        "def plot_decision_boundaries(clusterer, X, resolution=1000, show_centroids=True,\n",
        "                             show_xlabels=True, show_ylabels=True):\n",
        "    mins = X.min(axis=0) - 0.1\n",
        "    maxs = X.max(axis=0) + 0.1\n",
        "    xx, yy = np.meshgrid(np.linspace(mins[0], maxs[0], resolution),\n",
        "                         np.linspace(mins[1], maxs[1], resolution))\n",
        "    Z = clusterer.predict(np.c_[xx.ravel(), yy.ravel()])\n",
        "    Z = Z.reshape(xx.shape)\n",
        "\n",
        "    plt.contourf(Z, extent=(mins[0], maxs[0], mins[1], maxs[1]),\n",
        "                cmap=\"Pastel2\")\n",
        "    plt.contour(Z, extent=(mins[0], maxs[0], mins[1], maxs[1]),\n",
        "                linewidths=1, colors='k')\n",
        "    plot_data(X)\n",
        "    if show_centroids:\n",
        "        plot_centroids(clusterer.cluster_centers_)\n",
        "\n",
        "    if show_xlabels:\n",
        "        plt.xlabel(\"$x_1$\", fontsize=14)\n",
        "    else:\n",
        "        plt.tick_params(labelbottom=False)\n",
        "    if show_ylabels:\n",
        "        plt.ylabel(\"$x_2$\", fontsize=14, rotation=0)\n",
        "    else:\n",
        "        plt.tick_params(labelleft=False)"
      ],
      "metadata": {
        "id": "wD3-DHVerNDk"
      },
      "execution_count": null,
      "outputs": []
    },
    {
      "cell_type": "code",
      "source": [
        "def plot_gaussian_mixture(clusterer, X, resolution=1000, show_ylabels=True):\n",
        "    mins = X.min(axis=0) - 0.1\n",
        "    maxs = X.max(axis=0) + 0.1\n",
        "    xx, yy = np.meshgrid(np.linspace(mins[0], maxs[0], resolution),\n",
        "                         np.linspace(mins[1], maxs[1], resolution))\n",
        "    Z = -clusterer.score_samples(np.c_[xx.ravel(), yy.ravel()])\n",
        "    Z = Z.reshape(xx.shape)\n",
        "\n",
        "    plt.contourf(xx, yy, Z,\n",
        "                 norm=LogNorm(vmin=1.0, vmax=30.0),\n",
        "                 levels=np.logspace(0, 2, 12))\n",
        "    plt.contour(xx, yy, Z,\n",
        "                norm=LogNorm(vmin=1.0, vmax=30.0),\n",
        "                levels=np.logspace(0, 2, 12),\n",
        "                linewidths=1, colors='k')\n",
        "\n",
        "    Z = clusterer.predict(np.c_[xx.ravel(), yy.ravel()])\n",
        "    Z = Z.reshape(xx.shape)\n",
        "    plt.contour(xx, yy, Z,\n",
        "                linewidths=2, colors='r', linestyles='dashed')\n",
        "    \n",
        "    plt.plot(X[:, 0], X[:, 1], 'k.', markersize=2)\n",
        "    plot_centroids(clusterer.means_, clusterer.weights_)\n",
        "\n",
        "    plt.xlabel(\"$x_1$\", fontsize=14)\n",
        "    if show_ylabels:\n",
        "        plt.ylabel(\"$x_2$\", fontsize=14, rotation=0)\n",
        "    else:\n",
        "        plt.tick_params(labelleft=False)"
      ],
      "metadata": {
        "id": "GwGdXYWJ6ZC3"
      },
      "execution_count": null,
      "outputs": []
    },
    {
      "cell_type": "code",
      "source": [
        "X1, y1 = make_blobs(n_samples=1000, centers=((4, -4), (0, 0)), random_state=42)\n",
        "X1 = X1.dot(np.array([[0.374, 0.95], [0.732, 0.598]]))\n",
        "X2, y2 = make_blobs(n_samples=250, centers=1, random_state=42)\n",
        "X2 = X2 + [6, -8]\n",
        "X = np.r_[X1, X2]\n",
        "y = np.r_[y1, y2]"
      ],
      "metadata": {
        "id": "Af2x6wc3FPlq"
      },
      "execution_count": null,
      "outputs": []
    },
    {
      "cell_type": "code",
      "source": [
        ""
      ],
      "metadata": {
        "id": "7gKlllbE6lHx"
      },
      "execution_count": null,
      "outputs": []
    },
    {
      "cell_type": "markdown",
      "source": [
        "##Gaussian mixture model"
      ],
      "metadata": {
        "id": "DJ1-WcOSvsTN"
      }
    },
    {
      "cell_type": "markdown",
      "source": [
        "Let’s take a look at DBSCAN,\n",
        "another popular clustering algorithm that illustrates a very different approach based\n",
        "on local density estimation. This approach allows the algorithm to identify clusters of\n",
        "arbitrary shapes.\n",
        "\n",
        "This algorithm defines clusters as continuous regions of high density. \n",
        "\n",
        "This algorithm works well if all the clusters are dense enough and if they are well separated\n",
        "by low-density regions.\n",
        "\n",
        "The DBSCAN class in Scikit-Learn is as simple to use as\n",
        "you might expect. \n",
        "\n",
        "Let’s test it on the moons dataset."
      ],
      "metadata": {
        "id": "h1vNpAcYvtPH"
      }
    },
    {
      "cell_type": "code",
      "source": [
        "X, y = make_moons(n_samples=1000, noise=0.05, random_state=42)"
      ],
      "metadata": {
        "id": "qjS2Llm5xxR_"
      },
      "execution_count": null,
      "outputs": []
    },
    {
      "cell_type": "code",
      "source": [
        "dbscan = DBSCAN(eps=0.05, min_samples=5)\n",
        "dbscan.fit(X, y)"
      ],
      "metadata": {
        "colab": {
          "base_uri": "https://localhost:8080/"
        },
        "id": "13mbiO7GDy2k",
        "outputId": "920d1707-c625-4613-f8b8-db90b37a2631"
      },
      "execution_count": null,
      "outputs": [
        {
          "output_type": "execute_result",
          "data": {
            "text/plain": [
              "DBSCAN(eps=0.05)"
            ]
          },
          "metadata": {},
          "execution_count": 5
        }
      ]
    },
    {
      "cell_type": "markdown",
      "source": [
        "The labels of all the instances are now available in the labels_ instance variable:"
      ],
      "metadata": {
        "id": "l1kjGjKlzTE_"
      }
    },
    {
      "cell_type": "code",
      "source": [
        "dbscan.labels_[:20]"
      ],
      "metadata": {
        "id": "9t-HFcBH0V86",
        "colab": {
          "base_uri": "https://localhost:8080/"
        },
        "outputId": "686f8a6e-b04b-4d13-f39e-3176ec5bb4c5"
      },
      "execution_count": null,
      "outputs": [
        {
          "output_type": "execute_result",
          "data": {
            "text/plain": [
              "array([ 0,  2, -1, -1,  1,  0,  0,  0,  2,  5,  2,  3,  0,  2,  2,  2,  4,\n",
              "        2,  2,  4])"
            ]
          },
          "metadata": {},
          "execution_count": 6
        }
      ]
    },
    {
      "cell_type": "markdown",
      "source": [
        "Notice that some instances have a cluster index equal to –1, which means that they\n",
        "are considered as anomalies by the algorithm. \n",
        "\n",
        "The indices of the core instances are\n",
        "available in the `core_sample_indices_` instance variable, and the core instances\n",
        "themselves are available in the `components_` instance variable:"
      ],
      "metadata": {
        "id": "7-Qc_C-xEZ0p"
      }
    },
    {
      "cell_type": "code",
      "source": [
        "len(dbscan.core_sample_indices_)"
      ],
      "metadata": {
        "colab": {
          "base_uri": "https://localhost:8080/"
        },
        "id": "52Uf3qXY097d",
        "outputId": "565a6f4b-42ef-4837-920b-a9e4cd3919f5"
      },
      "execution_count": null,
      "outputs": [
        {
          "output_type": "execute_result",
          "data": {
            "text/plain": [
              "808"
            ]
          },
          "metadata": {},
          "execution_count": 7
        }
      ]
    },
    {
      "cell_type": "code",
      "source": [
        "dbscan.core_sample_indices_[:20]"
      ],
      "metadata": {
        "colab": {
          "base_uri": "https://localhost:8080/"
        },
        "id": "ZNN2YJsEE0NV",
        "outputId": "104efdc7-4758-4232-ef2c-78d090ffa277"
      },
      "execution_count": null,
      "outputs": [
        {
          "output_type": "execute_result",
          "data": {
            "text/plain": [
              "array([ 0,  4,  5,  6,  7,  8, 10, 11, 12, 13, 14, 16, 17, 18, 19, 20, 21,\n",
              "       22, 23, 24])"
            ]
          },
          "metadata": {},
          "execution_count": 8
        }
      ]
    },
    {
      "cell_type": "code",
      "source": [
        "dbscan.components_[:5]"
      ],
      "metadata": {
        "colab": {
          "base_uri": "https://localhost:8080/"
        },
        "id": "s40eImVKElR2",
        "outputId": "51582f24-6cc4-461b-c92a-ec0d172118f0"
      },
      "execution_count": null,
      "outputs": [
        {
          "output_type": "execute_result",
          "data": {
            "text/plain": [
              "array([[-0.02137124,  0.40618608],\n",
              "       [-0.84192557,  0.53058695],\n",
              "       [ 0.58930337, -0.32137599],\n",
              "       [ 0.29248724, -0.20696309],\n",
              "       [-0.02637836,  0.44766267]])"
            ]
          },
          "metadata": {},
          "execution_count": 9
        }
      ]
    },
    {
      "cell_type": "code",
      "source": [
        "np.unique(dbscan.labels_)"
      ],
      "metadata": {
        "colab": {
          "base_uri": "https://localhost:8080/"
        },
        "id": "YWo8gh9wE8ZG",
        "outputId": "4066e045-3e9b-40be-fa86-99ec2237f3d8"
      },
      "execution_count": null,
      "outputs": [
        {
          "output_type": "execute_result",
          "data": {
            "text/plain": [
              "array([-1,  0,  1,  2,  3,  4,  5,  6])"
            ]
          },
          "metadata": {},
          "execution_count": 10
        }
      ]
    },
    {
      "cell_type": "code",
      "source": [
        "dbscan2 = DBSCAN(eps=0.2)\n",
        "dbscan2.fit(X)"
      ],
      "metadata": {
        "colab": {
          "base_uri": "https://localhost:8080/"
        },
        "id": "o6mS-JFz1JFH",
        "outputId": "264cb0ec-3939-491c-b24d-bb7b1d1a51bf"
      },
      "execution_count": null,
      "outputs": [
        {
          "output_type": "execute_result",
          "data": {
            "text/plain": [
              "DBSCAN(eps=0.2)"
            ]
          },
          "metadata": {},
          "execution_count": 11
        }
      ]
    },
    {
      "cell_type": "code",
      "source": [
        "plt.figure(figsize=(9, 3.2))\n",
        "\n",
        "plt.subplot(121)\n",
        "plot_dbscan(dbscan, X, size=100)\n",
        "\n",
        "plt.subplot(122)\n",
        "plot_dbscan(dbscan2, X, size=600, show_ylabels=False)\n",
        "\n",
        "plt.show()"
      ],
      "metadata": {
        "id": "locoSrG8pe0w",
        "colab": {
          "base_uri": "https://localhost:8080/",
          "height": 260
        },
        "outputId": "78a5db41-cfa6-46b1-e154-1c15785f243b"
      },
      "execution_count": null,
      "outputs": [
        {
          "output_type": "display_data",
          "data": {
            "text/plain": [
              "<Figure size 648x230.4 with 2 Axes>"
            ],
            "image/png": "[encoded data removed]"
          },
          "metadata": {
            "needs_background": "light"
          }
        }
      ]
    },
    {
      "cell_type": "markdown",
      "source": [
        "As you can see, it\n",
        "identified quite a lot of anomalies, plus seven different clusters. How disappointing!\n",
        "\n",
        "Fortunately, if we widen each instance’s neighborhood by increasing eps to 0.2, we get\n",
        "the clustering on the right, which looks perfect. \n",
        "\n",
        "Let’s continue with this model.\n",
        "\n"
      ],
      "metadata": {
        "id": "i2IWz2c1qGAr"
      }
    },
    {
      "cell_type": "code",
      "source": [
        "dbscan = dbscan2"
      ],
      "metadata": {
        "id": "2106hDgdI9gJ"
      },
      "execution_count": null,
      "outputs": []
    },
    {
      "cell_type": "markdown",
      "source": [
        "Somewhat surprisingly, the DBSCAN class does not have a `predict()` method, although it has a `fit_predict()` method. In other words, it cannot predict which cluster a new instance belongs to.\n",
        "\n",
        "This implementation decision was made because different classification\n",
        "algorithms can be better for different tasks, so the authors decided to let the user choose which one to use.Moreover, it’s not hard to implement. \n",
        "\n",
        "For example, let’s\n",
        "train a KNeighborsClassifier:"
      ],
      "metadata": {
        "id": "wM1MmfcVI-Cf"
      }
    },
    {
      "cell_type": "code",
      "source": [
        "knn = KNeighborsClassifier(n_neighbors=50)\n",
        "knn.fit(dbscan.components_, dbscan.labels_[dbscan.core_sample_indices_])"
      ],
      "metadata": {
        "colab": {
          "base_uri": "https://localhost:8080/"
        },
        "id": "7PwTBSBDqK2B",
        "outputId": "ed602a58-c224-4d21-a781-2104939b2f1c"
      },
      "execution_count": null,
      "outputs": [
        {
          "output_type": "execute_result",
          "data": {
            "text/plain": [
              "KNeighborsClassifier(n_neighbors=50)"
            ]
          },
          "metadata": {},
          "execution_count": 14
        }
      ]
    },
    {
      "cell_type": "markdown",
      "source": [
        "Now, given a few new instances, we can predict which cluster they most likely belong\n",
        "to and even estimate a probability for each cluster:"
      ],
      "metadata": {
        "id": "TMfnTj0iJZDR"
      }
    },
    {
      "cell_type": "code",
      "source": [
        "x_new = np.array([[-0.5, 0], [0, 0.5], [1, -0.1], [2, 1]])\n",
        "knn.predict(x_new)"
      ],
      "metadata": {
        "colab": {
          "base_uri": "https://localhost:8080/"
        },
        "id": "s0_Vl1GBqRdj",
        "outputId": "c6a656c4-9e6d-4c42-cfbe-a70a92325a19"
      },
      "execution_count": null,
      "outputs": [
        {
          "output_type": "execute_result",
          "data": {
            "text/plain": [
              "array([1, 0, 1, 0])"
            ]
          },
          "metadata": {},
          "execution_count": 15
        }
      ]
    },
    {
      "cell_type": "code",
      "source": [
        "knn.predict_proba(x_new)"
      ],
      "metadata": {
        "colab": {
          "base_uri": "https://localhost:8080/"
        },
        "id": "G8yxnR9iqcMv",
        "outputId": "4bcc00a7-b5b3-410d-b2da-cf979b014fd2"
      },
      "execution_count": null,
      "outputs": [
        {
          "output_type": "execute_result",
          "data": {
            "text/plain": [
              "array([[0.18, 0.82],\n",
              "       [1.  , 0.  ],\n",
              "       [0.12, 0.88],\n",
              "       [1.  , 0.  ]])"
            ]
          },
          "metadata": {},
          "execution_count": 16
        }
      ]
    },
    {
      "cell_type": "markdown",
      "source": [
        "Note that we only trained the classifier on the core instances, but we could also have\n",
        "chosen to train it on all the instances, or all but the anomalies: this choice depends on\n",
        "the final task."
      ],
      "metadata": {
        "id": "NhAWvJ2Uqj5p"
      }
    },
    {
      "cell_type": "code",
      "source": [
        "plt.figure(figsize=(6, 3))\n",
        "plot_decision_boundaries(knn, X, show_centroids=False)\n",
        "plt.scatter(x_new[:, 0], x_new[:, 1], c=\"b\", marker=\"+\", s=200, zorder=10)\n",
        "\n",
        "plt.show()"
      ],
      "metadata": {
        "colab": {
          "base_uri": "https://localhost:8080/",
          "height": 232
        },
        "id": "6lAZF9a7qkQT",
        "outputId": "9364972a-ce88-4c8c-9c11-ba69ff783cbe"
      },
      "execution_count": null,
      "outputs": [
        {
          "output_type": "display_data",
          "data": {
            "text/plain": [
              "<Figure size 432x216 with 1 Axes>"
            ],
            "image/png": "[encoded data removed]"
          },
          "metadata": {
            "needs_background": "light"
          }
        }
      ]
    },
    {
      "cell_type": "markdown",
      "source": [
        "Notice that since there is no anomaly in the training set, the classifier\n",
        "always chooses a cluster, even when that cluster is far away. It is fairly straightforward\n",
        "to introduce a maximum distance, in which case the two instances that are\n",
        "far away from both clusters are classified as anomalies.\n",
        "\n",
        "\n",
        "To do this, use the `kneighbors()` method of the `KNeighborsClassifier`. Given a set of instances, it returns the distances and the indices of the k nearest neighbors in the training set (two matrices,\n",
        "each with k columns):"
      ],
      "metadata": {
        "id": "3L23ixWdKIFg"
      }
    },
    {
      "cell_type": "code",
      "source": [
        "y_dist, y_pred_idx = knn.kneighbors(x_new, n_neighbors=1)\n",
        "\n",
        "y_pred = dbscan.labels_[dbscan.core_sample_indices_][y_pred_idx]\n",
        "y_pred[y_dist > 0.2] == -1\n",
        "y_pred.ravel()"
      ],
      "metadata": {
        "colab": {
          "base_uri": "https://localhost:8080/"
        },
        "id": "kGgmxtHkrCEP",
        "outputId": "85876c3c-b176-4843-d946-d58bab4a3d3a"
      },
      "execution_count": null,
      "outputs": [
        {
          "output_type": "execute_result",
          "data": {
            "text/plain": [
              "array([1, 0, 1, 0])"
            ]
          },
          "metadata": {},
          "execution_count": 18
        }
      ]
    },
    {
      "cell_type": "markdown",
      "source": [
        "In short, `DBSCAN` is a very simple yet powerful algorithm capable of identifying any\n",
        "number of clusters of any shape. It is robust to outliers, and it has just two hyperparameters\n",
        "(eps and `min_samples`).\n",
        "\n",
        "If the density varies significantly across the clusters,\n",
        "however, it can be impossible for it to capture all the clusters properly. Its computational\n",
        "complexity is roughly `O(m log m)`, making it pretty close to linear with regard\n",
        "to the number of instances, but Scikit-Learn’s implementation can require up to\n",
        "`O(m2)` memory if eps is large."
      ],
      "metadata": {
        "id": "MPSAXhUarW7K"
      }
    },
    {
      "cell_type": "markdown",
      "source": [
        "##Others Clustering Algorithms"
      ],
      "metadata": {
        "id": "cyKm5GRHLz1E"
      }
    },
    {
      "cell_type": "markdown",
      "source": [
        "Scikit-Learn implements several more clustering algorithms that you should take a look at."
      ],
      "metadata": {
        "id": "9A9F5wqL5bkg"
      }
    }
  ]
}