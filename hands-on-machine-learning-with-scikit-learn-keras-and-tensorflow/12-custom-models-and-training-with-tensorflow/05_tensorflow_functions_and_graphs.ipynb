{
  "nbformat": 4,
  "nbformat_minor": 0,
  "metadata": {
    "colab": {
      "name": "05-tensorflow-functions-and-graphs.ipynb",
      "provenance": [],
      "toc_visible": true,
      "authorship_tag": "ABX9TyPMy/gd7u/y1Bcq6NNlSsPD",
      "include_colab_link": true
    },
    "kernelspec": {
      "name": "python3",
      "display_name": "Python 3"
    },
    "language_info": {
      "name": "python"
    }
  },
  "cells": [
    {
      "cell_type": "markdown",
      "metadata": {
        "id": "view-in-github",
        "colab_type": "text"
      },
      "source": [
        "<a href=\"https://colab.research.google.com/github/rahiakela/machine-learning-research-and-practice/blob/main/hands-on-machine-learning-with-scikit-learn-keras-and-tensorflow/12-custom-models-and-training-with-tensorflow/05_tensorflow_functions_and_graphs.ipynb\" target=\"_parent\"><img src=\"https://colab.research.google.com/assets/colab-badge.svg\" alt=\"Open In Colab\"/></a>"
      ]
    },
    {
      "cell_type": "markdown",
      "source": [
        "## TensorFlow Functions and Graphs"
      ],
      "metadata": {
        "id": "3_-bfWpuJ6Bl"
      }
    },
    {
      "cell_type": "markdown",
      "source": [
        "In fact, 95% of the use cases you will encounter will not require anything other than `tf.keras` and `tf.data`.\n",
        "\n",
        "But now it’s time to dive deeper into TensorFlow\n",
        "and take a look at its lower-level Python API. This will be useful when you need extra\n",
        "control to write custom loss functions, custom metrics, layers, models, initializers,\n",
        "regularizers, weight constraints, and more. \n",
        "\n",
        "You may even need to fully control the\n",
        "training loop itself, for example to apply special transformations or constraints to the\n",
        "gradients (beyond just clipping them) or to use multiple optimizers for different parts\n",
        "of the network.\n",
        "\n",
        "TensorFlow’s API revolves around tensors, which flow from operation to operation—hence the name TensorFlow.\n",
        "\n",
        "A tensor is very similar to a NumPy ndarray: it is usually\n",
        "a multidimensional array, but it can also hold a scalar (a simple value, such as 42).\n",
        "These tensors will be important when we create custom cost functions, custom metrics,\n",
        "custom layers, and more, so let’s see how to create and manipulate them.\n",
        "\n"
      ],
      "metadata": {
        "id": "JWnEp7wGJ7QY"
      }
    },
    {
      "cell_type": "markdown",
      "source": [
        "##Setup"
      ],
      "metadata": {
        "id": "jGotmr4LK43k"
      }
    },
    {
      "cell_type": "code",
      "source": [
        "import sys\n",
        "import sklearn\n",
        "from sklearn.datasets import fetch_california_housing\n",
        "from sklearn.model_selection import train_test_split\n",
        "from sklearn.preprocessing import StandardScaler\n",
        "\n",
        "import tensorflow as tf\n",
        "from tensorflow import keras\n",
        "\n",
        "from tqdm.notebook import trange\n",
        "from collections import OrderedDict\n",
        "\n",
        "import numpy as np\n",
        "import os\n",
        "import time\n",
        "\n",
        "# to make this notebook's output stable across runs\n",
        "np.random.seed(42)\n",
        "tf.random.set_seed(42)\n",
        "\n",
        "# To plot pretty figures\n",
        "%matplotlib inline\n",
        "import matplotlib as mpl\n",
        "import matplotlib.pyplot as plt\n",
        "mpl.rc('axes', labelsize=14)\n",
        "mpl.rc('xtick', labelsize=12)\n",
        "mpl.rc('ytick', labelsize=12)"
      ],
      "metadata": {
        "id": "G0vsm-w4K5z-"
      },
      "execution_count": 1,
      "outputs": []
    },
    {
      "cell_type": "markdown",
      "source": [
        "## Loading Dataset"
      ],
      "metadata": {
        "id": "ty8i8qgFMpjy"
      }
    },
    {
      "cell_type": "markdown",
      "source": [
        "Let's start by loading and preparing the California housing dataset. "
      ],
      "metadata": {
        "id": "6CGg7E0PHCP8"
      }
    },
    {
      "cell_type": "code",
      "source": [
        "housing = fetch_california_housing()\n",
        "\n",
        "x_train_full, x_test, y_train_full, y_test = train_test_split(housing.data, housing.target.reshape(-1, 1), random_state=42)\n",
        "x_train, x_valid, y_train, y_valid = train_test_split(x_train_full, y_train_full, random_state=42)\n",
        "\n",
        "scaler = StandardScaler()\n",
        "x_train_scaled = scaler.fit_transform(x_train)\n",
        "x_valid_scaled = scaler.transform(x_valid)\n",
        "x_test_scaled = scaler.transform(x_test)"
      ],
      "metadata": {
        "id": "YJx_TeqwMqer"
      },
      "execution_count": 2,
      "outputs": []
    },
    {
      "cell_type": "markdown",
      "source": [
        "##TensorFlow Function"
      ],
      "metadata": {
        "id": "weXOA8tjZHwI"
      }
    },
    {
      "cell_type": "markdown",
      "source": [
        "Let’s start with a trivial function that computes the cube of its input."
      ],
      "metadata": {
        "id": "-Rj1dnaeZCYv"
      }
    },
    {
      "cell_type": "code",
      "source": [
        "def cube(x):\n",
        "  return x ** 3"
      ],
      "metadata": {
        "id": "8qeIH9nEaScU"
      },
      "execution_count": 3,
      "outputs": []
    },
    {
      "cell_type": "code",
      "source": [
        "cube(2)"
      ],
      "metadata": {
        "colab": {
          "base_uri": "https://localhost:8080/"
        },
        "id": "N9hH1awVc_3e",
        "outputId": "c3ad603f-0fd8-461e-e735-38258e6842fa"
      },
      "execution_count": 4,
      "outputs": [
        {
          "output_type": "execute_result",
          "data": {
            "text/plain": [
              "8"
            ]
          },
          "metadata": {},
          "execution_count": 4
        }
      ]
    },
    {
      "cell_type": "code",
      "source": [
        "cube(tf.constant(2.0))"
      ],
      "metadata": {
        "colab": {
          "base_uri": "https://localhost:8080/"
        },
        "id": "CbvJjopNdRcw",
        "outputId": "2ea68b52-fe60-48d4-a41c-0f802544cb9f"
      },
      "execution_count": 5,
      "outputs": [
        {
          "output_type": "execute_result",
          "data": {
            "text/plain": [
              "<tf.Tensor: shape=(), dtype=float32, numpy=8.0>"
            ]
          },
          "metadata": {},
          "execution_count": 5
        }
      ]
    },
    {
      "cell_type": "markdown",
      "source": [
        "Now, let’s use `tf.function()` to convert this Python function to a TensorFlow\n",
        "Function:"
      ],
      "metadata": {
        "id": "dYZC-k_KdqTF"
      }
    },
    {
      "cell_type": "code",
      "source": [
        "tf_cube = tf.function(cube)\n",
        "tf_cube"
      ],
      "metadata": {
        "id": "puBdBJ4ndrs4",
        "colab": {
          "base_uri": "https://localhost:8080/"
        },
        "outputId": "575b0656-7480-4ad3-a8eb-568f260cefbb"
      },
      "execution_count": 6,
      "outputs": [
        {
          "output_type": "execute_result",
          "data": {
            "text/plain": [
              "<tensorflow.python.eager.def_function.Function at 0x7fed1c843e10>"
            ]
          },
          "metadata": {},
          "execution_count": 6
        }
      ]
    },
    {
      "cell_type": "code",
      "source": [
        "tf_cube(2)"
      ],
      "metadata": {
        "colab": {
          "base_uri": "https://localhost:8080/"
        },
        "id": "k4dc4o1YdzAq",
        "outputId": "5b4cbdd9-1c9f-4836-bffa-43b275cb9e94"
      },
      "execution_count": 7,
      "outputs": [
        {
          "output_type": "execute_result",
          "data": {
            "text/plain": [
              "<tf.Tensor: shape=(), dtype=int32, numpy=8>"
            ]
          },
          "metadata": {},
          "execution_count": 7
        }
      ]
    },
    {
      "cell_type": "code",
      "source": [
        "tf_cube(tf.constant(2.0))"
      ],
      "metadata": {
        "colab": {
          "base_uri": "https://localhost:8080/"
        },
        "id": "nObVPoG3d6_j",
        "outputId": "2df3236a-ae19-4062-9931-2eab53f81aed"
      },
      "execution_count": 8,
      "outputs": [
        {
          "output_type": "execute_result",
          "data": {
            "text/plain": [
              "<tf.Tensor: shape=(), dtype=float32, numpy=8.0>"
            ]
          },
          "metadata": {},
          "execution_count": 8
        }
      ]
    },
    {
      "cell_type": "markdown",
      "source": [
        "Under the hood, `tf.function()` analyzed the computations performed by the `cube()` function and generated an equivalent computation graph!\n",
        "\n",
        "Alternatively, we could have used\n",
        "`tf.function` as a decorator; this is actually more common."
      ],
      "metadata": {
        "id": "YBuEBICkeLwz"
      }
    },
    {
      "cell_type": "code",
      "source": [
        "@tf.function\n",
        "def my_cube(x):\n",
        "  return x ** 3"
      ],
      "metadata": {
        "id": "e_OIM-oefsRO"
      },
      "execution_count": 9,
      "outputs": []
    },
    {
      "cell_type": "markdown",
      "source": [
        "The original Python function is still available via the TF Function’s `python_function` attribute, in case you ever need it:"
      ],
      "metadata": {
        "id": "nCMUsxr0gJeJ"
      }
    },
    {
      "cell_type": "code",
      "source": [
        "my_cube.python_function(2)"
      ],
      "metadata": {
        "colab": {
          "base_uri": "https://localhost:8080/"
        },
        "id": "z2ARUtcJgKEZ",
        "outputId": "d5cbd20a-377b-4109-cc64-0e251d1bd69d"
      },
      "execution_count": 10,
      "outputs": [
        {
          "output_type": "execute_result",
          "data": {
            "text/plain": [
              "8"
            ]
          },
          "metadata": {},
          "execution_count": 10
        }
      ]
    },
    {
      "cell_type": "markdown",
      "source": [
        "TensorFlow optimizes the computation graph, pruning unused nodes, simplifying\n",
        "expressions (e.g., 1 + 2 would get replaced with 3), and more. Once the optimized\n",
        "graph is ready, the TF Function efficiently executes the operations in the graph, in the\n",
        "appropriate order (and in parallel when it can).\n",
        "\n",
        "As a result, a TF Function will usually\n",
        "run much faster than the original Python function, especially if it performs complex\n",
        "computations.\n",
        "\n",
        "**Most of the time you will not really need to know more than that:\n",
        "when you want to boost a Python function, just transform it into a TF Function.**"
      ],
      "metadata": {
        "id": "9kbMuQq-gUIi"
      }
    },
    {
      "cell_type": "markdown",
      "source": [
        "##Concrete Functions"
      ],
      "metadata": {
        "id": "K6En9iEclfEd"
      }
    },
    {
      "cell_type": "markdown",
      "source": [
        "TF Functions are polymorphic, meaning they support inputs of different types.\n",
        "\n",
        "Every time you call a TF Function with a new combination of input types or shapes, it\n",
        "generates a new concrete function, with its own graph specialized for this particular\n",
        "combination. Such a combination of argument types and shapes is called an input signature."
      ],
      "metadata": {
        "id": "wiZ7uhDElfyZ"
      }
    },
    {
      "cell_type": "code",
      "source": [
        "concrete_function = my_cube.get_concrete_function(tf.constant(2.0))\n",
        "concrete_function.graph"
      ],
      "metadata": {
        "id": "5AfXatfElkVx",
        "outputId": "736a82a4-8eb5-46e1-c4e3-3d115ea574a3",
        "colab": {
          "base_uri": "https://localhost:8080/"
        }
      },
      "execution_count": 11,
      "outputs": [
        {
          "output_type": "execute_result",
          "data": {
            "text/plain": [
              "<tensorflow.python.framework.func_graph.FuncGraph at 0x7fed1ba7d490>"
            ]
          },
          "metadata": {},
          "execution_count": 11
        }
      ]
    },
    {
      "cell_type": "code",
      "source": [
        "concrete_function(tf.constant(2.0))"
      ],
      "metadata": {
        "id": "Vka9Tz5mmHKg",
        "outputId": "96da8ba4-36f3-4bdc-bc67-51c50c6d8ea4",
        "colab": {
          "base_uri": "https://localhost:8080/"
        }
      },
      "execution_count": 12,
      "outputs": [
        {
          "output_type": "execute_result",
          "data": {
            "text/plain": [
              "<tf.Tensor: shape=(), dtype=float32, numpy=8.0>"
            ]
          },
          "metadata": {},
          "execution_count": 12
        }
      ]
    },
    {
      "cell_type": "code",
      "source": [
        "concrete_function(tf.constant(5.0))"
      ],
      "metadata": {
        "id": "eBECqTQUmNXZ",
        "outputId": "eebf5b05-fec0-4cee-b59d-358ad369947e",
        "colab": {
          "base_uri": "https://localhost:8080/"
        }
      },
      "execution_count": 13,
      "outputs": [
        {
          "output_type": "execute_result",
          "data": {
            "text/plain": [
              "<tf.Tensor: shape=(), dtype=float32, numpy=125.0>"
            ]
          },
          "metadata": {},
          "execution_count": 13
        }
      ]
    },
    {
      "cell_type": "markdown",
      "source": [
        "##Function Definitions and Graphs"
      ],
      "metadata": {
        "id": "HS5rhQLsmcH5"
      }
    },
    {
      "cell_type": "markdown",
      "source": [
        "You can access a concrete function’s computation graph using the graph attribute."
      ],
      "metadata": {
        "id": "0jSSkwPjmc-5"
      }
    },
    {
      "cell_type": "code",
      "source": [
        "ops = concrete_function.graph.get_operations()\n",
        "ops"
      ],
      "metadata": {
        "id": "iZJX_4Z6mjh2",
        "outputId": "603b47a7-bf11-4cce-ae9e-6225dda49fab",
        "colab": {
          "base_uri": "https://localhost:8080/"
        }
      },
      "execution_count": 14,
      "outputs": [
        {
          "output_type": "execute_result",
          "data": {
            "text/plain": [
              "[<tf.Operation 'x' type=Placeholder>,\n",
              " <tf.Operation 'pow/y' type=Const>,\n",
              " <tf.Operation 'pow' type=Pow>,\n",
              " <tf.Operation 'Identity' type=Identity>]"
            ]
          },
          "metadata": {},
          "execution_count": 14
        }
      ]
    },
    {
      "cell_type": "markdown",
      "source": [
        "Let’s get the list of inputs and outputs of the power operation."
      ],
      "metadata": {
        "id": "d3ow6hrRm3hf"
      }
    },
    {
      "cell_type": "code",
      "source": [
        "pow_ops = ops[2]\n",
        "list(pow_ops.inputs)"
      ],
      "metadata": {
        "id": "iOQ363CZm5EE",
        "outputId": "5cf65ac2-2a91-4de9-c031-bec3993bc674",
        "colab": {
          "base_uri": "https://localhost:8080/"
        }
      },
      "execution_count": 15,
      "outputs": [
        {
          "output_type": "execute_result",
          "data": {
            "text/plain": [
              "[<tf.Tensor 'x:0' shape=() dtype=float32>,\n",
              " <tf.Tensor 'pow/y:0' shape=() dtype=float32>]"
            ]
          },
          "metadata": {},
          "execution_count": 15
        }
      ]
    },
    {
      "cell_type": "code",
      "source": [
        "pow_ops.outputs"
      ],
      "metadata": {
        "id": "UHRjyvECm-9y",
        "outputId": "e2ad1f39-35a4-46ea-8d1e-8e711d9fa054",
        "colab": {
          "base_uri": "https://localhost:8080/"
        }
      },
      "execution_count": 16,
      "outputs": [
        {
          "output_type": "execute_result",
          "data": {
            "text/plain": [
              "[<tf.Tensor 'pow:0' shape=() dtype=float32>]"
            ]
          },
          "metadata": {},
          "execution_count": 16
        }
      ]
    },
    {
      "cell_type": "markdown",
      "source": [
        "Note that each operation has a name."
      ],
      "metadata": {
        "id": "a2Z2Qe4NnXSF"
      }
    },
    {
      "cell_type": "code",
      "source": [
        "concrete_function.graph.get_operation_by_name(\"x\")"
      ],
      "metadata": {
        "id": "PW_F64adnXrI",
        "outputId": "b1d5da73-7375-4b30-c1f8-5773267b1524",
        "colab": {
          "base_uri": "https://localhost:8080/"
        }
      },
      "execution_count": 17,
      "outputs": [
        {
          "output_type": "execute_result",
          "data": {
            "text/plain": [
              "<tf.Operation 'x' type=Placeholder>"
            ]
          },
          "metadata": {},
          "execution_count": 17
        }
      ]
    },
    {
      "cell_type": "code",
      "source": [
        "concrete_function.graph.get_tensor_by_name(\"Identity:0\")"
      ],
      "metadata": {
        "id": "CkMJ899UnfC3",
        "outputId": "3a86256f-48e0-4c3a-f735-1a0f76294561",
        "colab": {
          "base_uri": "https://localhost:8080/"
        }
      },
      "execution_count": 18,
      "outputs": [
        {
          "output_type": "execute_result",
          "data": {
            "text/plain": [
              "<tf.Tensor 'Identity:0' shape=() dtype=float32>"
            ]
          },
          "metadata": {},
          "execution_count": 18
        }
      ]
    },
    {
      "cell_type": "markdown",
      "source": [
        "The concrete function also contains the function definition which includes the function’s signature."
      ],
      "metadata": {
        "id": "y3gEjoz4nwOb"
      }
    },
    {
      "cell_type": "code",
      "source": [
        "concrete_function.function_def.signature"
      ],
      "metadata": {
        "id": "FVZepLZ_nyjQ",
        "outputId": "a91ad664-cc8a-40e9-b2db-3696b779304f",
        "colab": {
          "base_uri": "https://localhost:8080/"
        }
      },
      "execution_count": 19,
      "outputs": [
        {
          "output_type": "execute_result",
          "data": {
            "text/plain": [
              "name: \"__inference_my_cube_25\"\n",
              "input_arg {\n",
              "  name: \"x\"\n",
              "  type: DT_FLOAT\n",
              "}\n",
              "output_arg {\n",
              "  name: \"identity\"\n",
              "  type: DT_FLOAT\n",
              "}"
            ]
          },
          "metadata": {},
          "execution_count": 19
        }
      ]
    },
    {
      "cell_type": "markdown",
      "source": [
        "##Function Tracing"
      ],
      "metadata": {
        "id": "dlG_Xs5woHs7"
      }
    },
    {
      "cell_type": "code",
      "source": [
        "@tf.function\n",
        "def tf_cube(x):\n",
        "  print(\"x: \", x)\n",
        "  return x ** 3"
      ],
      "metadata": {
        "id": "RpFMt3gSoTap"
      },
      "execution_count": 20,
      "outputs": []
    },
    {
      "cell_type": "code",
      "source": [
        "result = tf_cube(tf.constant(2.0))"
      ],
      "metadata": {
        "id": "se8u8dA0odYe",
        "outputId": "8fa50627-0916-45ee-f6b6-efaf580795bc",
        "colab": {
          "base_uri": "https://localhost:8080/"
        }
      },
      "execution_count": 21,
      "outputs": [
        {
          "output_type": "stream",
          "name": "stdout",
          "text": [
            "x:  Tensor(\"x:0\", shape=(), dtype=float32)\n"
          ]
        }
      ]
    },
    {
      "cell_type": "code",
      "source": [
        "result"
      ],
      "metadata": {
        "id": "ycJdb783olP4",
        "outputId": "51396e60-35c9-40be-88b3-8c0dc6096f24",
        "colab": {
          "base_uri": "https://localhost:8080/"
        }
      },
      "execution_count": 22,
      "outputs": [
        {
          "output_type": "execute_result",
          "data": {
            "text/plain": [
              "<tf.Tensor: shape=(), dtype=float32, numpy=8.0>"
            ]
          },
          "metadata": {},
          "execution_count": 22
        }
      ]
    },
    {
      "cell_type": "markdown",
      "source": [
        "It has a\n",
        "shape and a data type, but no value. Plus it has a name (\"x:0\"). This is because the\n",
        "`print()` function is not a TensorFlow operation, so it will only run when the Python\n",
        "function is traced, which happens in graph mode, with arguments replaced with symbolic\n",
        "tensors (same type and shape, but no value). \n",
        "\n",
        "Since the `print()` function was not\n",
        "captured into the graph, the next times we call `tf_cube()` with float32 scalar tensors,\n",
        "nothing is printed:"
      ],
      "metadata": {
        "id": "qBlOStE-o4Mh"
      }
    },
    {
      "cell_type": "code",
      "source": [
        "result = tf_cube(tf.constant(3.0))"
      ],
      "metadata": {
        "id": "di28UAHzo_wW"
      },
      "execution_count": 23,
      "outputs": []
    },
    {
      "cell_type": "code",
      "source": [
        "result = tf_cube(tf.constant(5.0))"
      ],
      "metadata": {
        "id": "Wz-bzY4FpIx1"
      },
      "execution_count": 24,
      "outputs": []
    },
    {
      "cell_type": "markdown",
      "source": [
        "But if we call `tf_cube()` with a tensor of a different type or shape, or with a new\n",
        "Python value, the function will be traced again."
      ],
      "metadata": {
        "id": "42T1esIUpOW1"
      }
    },
    {
      "cell_type": "code",
      "source": [
        "result = tf_cube(2)  # new Python value: trace!"
      ],
      "metadata": {
        "id": "U1kcoNhjpR9P",
        "outputId": "31210481-1d67-450f-ffb1-672b2542bd30",
        "colab": {
          "base_uri": "https://localhost:8080/"
        }
      },
      "execution_count": 25,
      "outputs": [
        {
          "output_type": "stream",
          "name": "stdout",
          "text": [
            "x:  2\n"
          ]
        }
      ]
    },
    {
      "cell_type": "code",
      "source": [
        "result = tf_cube(4)   # new Python value: trace!"
      ],
      "metadata": {
        "id": "DemehHQ5pWP5",
        "outputId": "8b40cc25-268d-46ec-d032-0de9e03e71b2",
        "colab": {
          "base_uri": "https://localhost:8080/"
        }
      },
      "execution_count": 26,
      "outputs": [
        {
          "output_type": "stream",
          "name": "stdout",
          "text": [
            "x:  4\n"
          ]
        }
      ]
    },
    {
      "cell_type": "code",
      "source": [
        "result = tf_cube(tf.constant([[1.0, 2.0]]))   # New shape: trace!"
      ],
      "metadata": {
        "id": "GFJz0s64paP8",
        "outputId": "84af36bb-abdc-4529-b811-224d9b4be804",
        "colab": {
          "base_uri": "https://localhost:8080/"
        }
      },
      "execution_count": 27,
      "outputs": [
        {
          "output_type": "stream",
          "name": "stdout",
          "text": [
            "x:  Tensor(\"x:0\", shape=(1, 2), dtype=float32)\n"
          ]
        }
      ]
    },
    {
      "cell_type": "code",
      "source": [
        "result = tf_cube(tf.constant([[3.0,4.0], [5.0, 6.0]]))   # New shape: trace!"
      ],
      "metadata": {
        "id": "fVl40jteprXu",
        "outputId": "4d82d731-a4f9-494a-ee3e-8b5cedff196e",
        "colab": {
          "base_uri": "https://localhost:8080/"
        }
      },
      "execution_count": 28,
      "outputs": [
        {
          "output_type": "stream",
          "name": "stdout",
          "text": [
            "x:  Tensor(\"x:0\", shape=(2, 2), dtype=float32)\n",
            "WARNING:tensorflow:5 out of the last 7 calls to <function tf_cube at 0x7fed1bb4de60> triggered tf.function retracing. Tracing is expensive and the excessive number of tracings could be due to (1) creating @tf.function repeatedly in a loop, (2) passing tensors with different shapes, (3) passing Python objects instead of tensors. For (1), please define your @tf.function outside of the loop. For (2), @tf.function has experimental_relax_shapes=True option that relaxes argument shapes that can avoid unnecessary retracing. For (3), please refer to https://www.tensorflow.org/guide/function#controlling_retracing and https://www.tensorflow.org/api_docs/python/tf/function for  more details.\n"
          ]
        }
      ]
    },
    {
      "cell_type": "code",
      "source": [
        "result = tf_cube(tf.constant([[7.0,8.0], [9.0, 10.0]]))   # Same shape: no trace!"
      ],
      "metadata": {
        "id": "WQHKj2hup-Of"
      },
      "execution_count": 29,
      "outputs": []
    },
    {
      "cell_type": "markdown",
      "source": [
        "In some cases, you may want to restrict a TF Function to a specific input signature.\n",
        "\n",
        "For example, suppose you know that you will only ever call a TF Function with\n",
        "batches of 28 × 28–pixel images, but the batches will have very different sizes. You\n",
        "may not want TensorFlow to generate a different concrete function for each batch\n",
        "size, or count on it to figure out on its own when to use None. \n",
        "\n",
        "In this case, you can\n",
        "specify the input signature like this:"
      ],
      "metadata": {
        "id": "iv1o_WE2rHJS"
      }
    },
    {
      "cell_type": "code",
      "source": [
        "@tf.function(input_signature=[tf.TensorSpec([None, 28, 28], tf.float32)])\n",
        "def shrink(images):\n",
        "  return images[:, ::2, ::2]  # drop half the rows and columns"
      ],
      "metadata": {
        "id": "VA5s2FOOrJmp"
      },
      "execution_count": 30,
      "outputs": []
    },
    {
      "cell_type": "markdown",
      "source": [
        "This TF Function will accept any float32 tensor of shape `[*, 28, 28]`, and it will reuse\n",
        "the same concrete function every time:"
      ],
      "metadata": {
        "id": "kgMAdPhYroxv"
      }
    },
    {
      "cell_type": "code",
      "source": [
        "img_batch_1 = tf.random.uniform(shape=[100, 28, 28])\n",
        "img_batch_2 = tf.random.uniform(shape=[50, 28, 28])\n",
        "\n",
        "preprocessed_images = shrink(img_batch_1)   # Works fine. Traces the function.\n",
        "preprocessed_images = shrink(img_batch_2)   # Reuses the same concrete function"
      ],
      "metadata": {
        "id": "qS4y-XPWrqm-"
      },
      "execution_count": 31,
      "outputs": []
    },
    {
      "cell_type": "markdown",
      "source": [
        "However, if you try to call this TF Function with a Python value, or a tensor of an\n",
        "unexpected data type or shape, you will get an exception:"
      ],
      "metadata": {
        "id": "rZuE_zQMsToq"
      }
    },
    {
      "cell_type": "code",
      "source": [
        "img_batch_3 = tf.random.uniform(shape=[2, 2, 2])\n",
        "try:\n",
        "  preprocessed_images = shrink(img_batch_3)  # rejects unexpected types or shapes\n",
        "except ValueError as ve:\n",
        "  print(ve)"
      ],
      "metadata": {
        "id": "JEXnXknIsVN1",
        "outputId": "fd801deb-7eb5-4877-fa26-29c33775f62d",
        "colab": {
          "base_uri": "https://localhost:8080/"
        }
      },
      "execution_count": 32,
      "outputs": [
        {
          "output_type": "stream",
          "name": "stdout",
          "text": [
            "Python inputs incompatible with input_signature:\n",
            "  inputs: (\n",
            "    tf.Tensor(\n",
            "[[[0.7413678  0.62854624]\n",
            "  [0.01738465 0.3431449 ]]\n",
            "\n",
            " [[0.51063764 0.3777541 ]\n",
            "  [0.07321596 0.02137029]]], shape=(2, 2, 2), dtype=float32))\n",
            "  input_signature: (\n",
            "    TensorSpec(shape=(None, 28, 28), dtype=tf.float32, name=None)).\n"
          ]
        }
      ]
    },
    {
      "cell_type": "markdown",
      "source": [
        "##AutoGraph Control Flow"
      ],
      "metadata": {
        "id": "JFHvKU5js_Mv"
      }
    },
    {
      "cell_type": "markdown",
      "source": [
        "If your function contains a simple for loop, what do you expect will happen?"
      ],
      "metadata": {
        "id": "ceAXdfuttAyX"
      }
    },
    {
      "cell_type": "code",
      "source": [
        "@tf.function\n",
        "def add_10(x):\n",
        "  for i in range(10):\n",
        "    x += 1\n",
        "  return x"
      ],
      "metadata": {
        "id": "kBBtySttHQdz"
      },
      "execution_count": 33,
      "outputs": []
    },
    {
      "cell_type": "markdown",
      "source": [
        "It works fine, but when we look at its graph, we find that it does not contain a loop: it just contains 10 addition operations!"
      ],
      "metadata": {
        "id": "ibkniPJ8HgAn"
      }
    },
    {
      "cell_type": "code",
      "source": [
        "add_10(tf.constant(0))"
      ],
      "metadata": {
        "id": "xjNqRtR2HhuC",
        "outputId": "6f9f60c6-cf99-490b-8f22-ed3ba4b1a418",
        "colab": {
          "base_uri": "https://localhost:8080/"
        }
      },
      "execution_count": 34,
      "outputs": [
        {
          "output_type": "execute_result",
          "data": {
            "text/plain": [
              "<tf.Tensor: shape=(), dtype=int32, numpy=10>"
            ]
          },
          "metadata": {},
          "execution_count": 34
        }
      ]
    },
    {
      "cell_type": "code",
      "source": [
        "add_10.get_concrete_function(tf.constant(0)).graph.get_operations()"
      ],
      "metadata": {
        "id": "UqFEd1XgHppJ",
        "outputId": "7a071e37-ed69-4b97-fd43-fc1b9d0b8c9f",
        "colab": {
          "base_uri": "https://localhost:8080/"
        }
      },
      "execution_count": 35,
      "outputs": [
        {
          "output_type": "execute_result",
          "data": {
            "text/plain": [
              "[<tf.Operation 'x' type=Placeholder>,\n",
              " <tf.Operation 'add/y' type=Const>,\n",
              " <tf.Operation 'add' type=AddV2>,\n",
              " <tf.Operation 'add_1/y' type=Const>,\n",
              " <tf.Operation 'add_1' type=AddV2>,\n",
              " <tf.Operation 'add_2/y' type=Const>,\n",
              " <tf.Operation 'add_2' type=AddV2>,\n",
              " <tf.Operation 'add_3/y' type=Const>,\n",
              " <tf.Operation 'add_3' type=AddV2>,\n",
              " <tf.Operation 'add_4/y' type=Const>,\n",
              " <tf.Operation 'add_4' type=AddV2>,\n",
              " <tf.Operation 'add_5/y' type=Const>,\n",
              " <tf.Operation 'add_5' type=AddV2>,\n",
              " <tf.Operation 'add_6/y' type=Const>,\n",
              " <tf.Operation 'add_6' type=AddV2>,\n",
              " <tf.Operation 'add_7/y' type=Const>,\n",
              " <tf.Operation 'add_7' type=AddV2>,\n",
              " <tf.Operation 'add_8/y' type=Const>,\n",
              " <tf.Operation 'add_8' type=AddV2>,\n",
              " <tf.Operation 'add_9/y' type=Const>,\n",
              " <tf.Operation 'add_9' type=AddV2>,\n",
              " <tf.Operation 'Identity' type=Identity>]"
            ]
          },
          "metadata": {},
          "execution_count": 35
        }
      ]
    },
    {
      "cell_type": "markdown",
      "source": [
        "If you want the graph to contain a “dynamic” loop instead (i.e., one that runs when the graph is executed), you can create one manually using the `tf.while_loop()` operation, but it is not very intuitive."
      ],
      "metadata": {
        "id": "1rxZCAnMIEHQ"
      }
    },
    {
      "cell_type": "code",
      "source": [
        "@tf.function\n",
        "def add_10(x):\n",
        "  condition = lambda i, x: tf.less(i, 10)\n",
        "  body = lambda i, x: (tf.add(i, 1), tf.add(x, 1))\n",
        "  final_i, final_x = tf.while_loop(condition, body, [tf.constant(0), x])\n",
        "  return final_x"
      ],
      "metadata": {
        "id": "9_B8R5MoIXdX"
      },
      "execution_count": 36,
      "outputs": []
    },
    {
      "cell_type": "code",
      "source": [
        "add_10(tf.constant(5))"
      ],
      "metadata": {
        "id": "lYsCBez7JSZv",
        "outputId": "5751a9df-d367-40d9-cadc-5ca208d269b0",
        "colab": {
          "base_uri": "https://localhost:8080/"
        }
      },
      "execution_count": 37,
      "outputs": [
        {
          "output_type": "execute_result",
          "data": {
            "text/plain": [
              "<tf.Tensor: shape=(), dtype=int32, numpy=15>"
            ]
          },
          "metadata": {},
          "execution_count": 37
        }
      ]
    },
    {
      "cell_type": "code",
      "source": [
        "add_10.get_concrete_function(tf.constant(5)).graph.get_operations()"
      ],
      "metadata": {
        "id": "Hlm23WjdJZ2w",
        "outputId": "2431cb9a-c3eb-4691-b5ef-b01d38f932db",
        "colab": {
          "base_uri": "https://localhost:8080/"
        }
      },
      "execution_count": 38,
      "outputs": [
        {
          "output_type": "execute_result",
          "data": {
            "text/plain": [
              "[<tf.Operation 'x' type=Placeholder>,\n",
              " <tf.Operation 'Const' type=Const>,\n",
              " <tf.Operation 'while/maximum_iterations' type=Const>,\n",
              " <tf.Operation 'while/loop_counter' type=Const>,\n",
              " <tf.Operation 'while' type=StatelessWhile>,\n",
              " <tf.Operation 'Identity' type=Identity>]"
            ]
          },
          "metadata": {},
          "execution_count": 38
        }
      ]
    },
    {
      "cell_type": "markdown",
      "source": [
        "Instead, it is much simpler to use TensorFlow’s `AutoGraph` feature.AutoGraph is actually activated by default (if you ever need to turn it off, you can pass `autograph=False` to `tf.function()`).\n",
        "\n",
        "Let’s look at the graph that gets generated if you just replace `range()` with `tf.range()`."
      ],
      "metadata": {
        "id": "8SJHsJeRIqRj"
      }
    },
    {
      "cell_type": "code",
      "source": [
        "@tf.function\n",
        "def add_10(x):\n",
        "  for i in tf.range(10):\n",
        "    x = x + 1\n",
        "  return x"
      ],
      "metadata": {
        "id": "9c1-NIfrJk4Y"
      },
      "execution_count": 39,
      "outputs": []
    },
    {
      "cell_type": "code",
      "source": [
        "add_10.get_concrete_function(tf.constant(0)).graph.get_operations()"
      ],
      "metadata": {
        "id": "d5Pr-BUnJvMk",
        "outputId": "2e6ffd8c-81a6-46ad-9f68-fba519b84e2f",
        "colab": {
          "base_uri": "https://localhost:8080/"
        }
      },
      "execution_count": 40,
      "outputs": [
        {
          "output_type": "execute_result",
          "data": {
            "text/plain": [
              "[<tf.Operation 'x' type=Placeholder>,\n",
              " <tf.Operation 'range/start' type=Const>,\n",
              " <tf.Operation 'range/limit' type=Const>,\n",
              " <tf.Operation 'range/delta' type=Const>,\n",
              " <tf.Operation 'range' type=Range>,\n",
              " <tf.Operation 'sub' type=Sub>,\n",
              " <tf.Operation 'floordiv' type=FloorDiv>,\n",
              " <tf.Operation 'mod' type=FloorMod>,\n",
              " <tf.Operation 'zeros_like' type=Const>,\n",
              " <tf.Operation 'NotEqual' type=NotEqual>,\n",
              " <tf.Operation 'Cast' type=Cast>,\n",
              " <tf.Operation 'add' type=AddV2>,\n",
              " <tf.Operation 'zeros_like_1' type=Const>,\n",
              " <tf.Operation 'Maximum' type=Maximum>,\n",
              " <tf.Operation 'while/maximum_iterations' type=Const>,\n",
              " <tf.Operation 'while/loop_counter' type=Const>,\n",
              " <tf.Operation 'while' type=StatelessWhile>,\n",
              " <tf.Operation 'Identity' type=Identity>]"
            ]
          },
          "metadata": {},
          "execution_count": 40
        }
      ]
    },
    {
      "cell_type": "markdown",
      "source": [
        "As you can see, the graph now contains a While loop operation, as if you had called\n",
        "the `tf.while_loop()` function."
      ],
      "metadata": {
        "id": "bUf954cHJ-uM"
      }
    },
    {
      "cell_type": "markdown",
      "source": [
        "##Variables and Resources in TF Functions"
      ],
      "metadata": {
        "id": "_wEL4MfYKAek"
      }
    },
    {
      "cell_type": "markdown",
      "source": [
        "In TensorFlow, variables and other stateful objects, such as queues or datasets, are\n",
        "called resources. TF Functions treat them with special care: any operation that reads\n",
        "or updates a resource is considered stateful, and TF Functions ensure that stateful\n",
        "operations are executed in the order they appear (as opposed to stateless operations,\n",
        "which may be run in parallel, so their order of execution is not guaranteed).\n",
        "\n",
        "Moreover, when you pass a resource as an argument to a TF Function, it gets passed by reference, so the function may modify it."
      ],
      "metadata": {
        "id": "E1DLlfk9KOJ8"
      }
    },
    {
      "cell_type": "code",
      "source": [
        "counter = tf.Variable(0)\n",
        "\n",
        "@tf.function\n",
        "def increment(counter, c=1):\n",
        "  return counter.assign_add(c)"
      ],
      "metadata": {
        "id": "ksB76Jw2K5eY"
      },
      "execution_count": 41,
      "outputs": []
    },
    {
      "cell_type": "code",
      "source": [
        "increment(counter)  # counter is now equal to 1"
      ],
      "metadata": {
        "id": "x13-9XvgLT9Y",
        "outputId": "8d043348-c0dd-4cfb-8026-847353a11e2b",
        "colab": {
          "base_uri": "https://localhost:8080/"
        }
      },
      "execution_count": 42,
      "outputs": [
        {
          "output_type": "execute_result",
          "data": {
            "text/plain": [
              "<tf.Tensor: shape=(), dtype=int32, numpy=1>"
            ]
          },
          "metadata": {},
          "execution_count": 42
        }
      ]
    },
    {
      "cell_type": "code",
      "source": [
        "increment(counter)  # counter is now equal to 2"
      ],
      "metadata": {
        "id": "VIJFE0pVLXTB",
        "outputId": "c2fedfe8-a50c-43ab-89c0-72f15531d544",
        "colab": {
          "base_uri": "https://localhost:8080/"
        }
      },
      "execution_count": 43,
      "outputs": [
        {
          "output_type": "execute_result",
          "data": {
            "text/plain": [
              "<tf.Tensor: shape=(), dtype=int32, numpy=2>"
            ]
          },
          "metadata": {},
          "execution_count": 43
        }
      ]
    },
    {
      "cell_type": "code",
      "source": [
        "print(counter)"
      ],
      "metadata": {
        "id": "XvVrORBDLbg2",
        "outputId": "3ceffe68-b942-4a49-f19d-b8c97c4d371b",
        "colab": {
          "base_uri": "https://localhost:8080/"
        }
      },
      "execution_count": 44,
      "outputs": [
        {
          "output_type": "stream",
          "name": "stdout",
          "text": [
            "<tf.Variable 'Variable:0' shape=() dtype=int32, numpy=2>\n"
          ]
        }
      ]
    },
    {
      "cell_type": "markdown",
      "source": [
        "If you peek at the function definition, the first argument is marked as a resource:"
      ],
      "metadata": {
        "id": "GDwtskTOLg0H"
      }
    },
    {
      "cell_type": "code",
      "source": [
        "function_def = increment.get_concrete_function(counter).function_def\n",
        "function_def.signature.input_arg[0]"
      ],
      "metadata": {
        "id": "GSlBSUV3LhaV",
        "outputId": "97ab862a-296f-48f7-9762-f854c3ab5fb0",
        "colab": {
          "base_uri": "https://localhost:8080/"
        }
      },
      "execution_count": 45,
      "outputs": [
        {
          "output_type": "execute_result",
          "data": {
            "text/plain": [
              "name: \"counter\"\n",
              "type: DT_RESOURCE"
            ]
          },
          "metadata": {},
          "execution_count": 45
        }
      ]
    },
    {
      "cell_type": "markdown",
      "source": [
        "It is also possible to use a `tf.Variable` defined outside of the function, without\n",
        "explicitly passing it as an argument:"
      ],
      "metadata": {
        "id": "uRPmWFu8L3bt"
      }
    },
    {
      "cell_type": "code",
      "source": [
        "counter = tf.Variable(0)\n",
        "\n",
        "@tf.function\n",
        "def increment(c=1):\n",
        "  return counter.assign_add(c)"
      ],
      "metadata": {
        "id": "8WRPQPJvL5hN"
      },
      "execution_count": 46,
      "outputs": []
    },
    {
      "cell_type": "code",
      "source": [
        "increment()"
      ],
      "metadata": {
        "id": "7l4i-_dZMAKI",
        "outputId": "241a3e57-4530-4848-e904-870ab9aa93ad",
        "colab": {
          "base_uri": "https://localhost:8080/"
        }
      },
      "execution_count": 47,
      "outputs": [
        {
          "output_type": "execute_result",
          "data": {
            "text/plain": [
              "<tf.Tensor: shape=(), dtype=int32, numpy=1>"
            ]
          },
          "metadata": {},
          "execution_count": 47
        }
      ]
    },
    {
      "cell_type": "code",
      "source": [
        "increment()"
      ],
      "metadata": {
        "id": "bpVKuM3aMCau",
        "outputId": "f9ca2343-bc51-4363-f0de-6bd14be5a3c0",
        "colab": {
          "base_uri": "https://localhost:8080/"
        }
      },
      "execution_count": 48,
      "outputs": [
        {
          "output_type": "execute_result",
          "data": {
            "text/plain": [
              "<tf.Tensor: shape=(), dtype=int32, numpy=2>"
            ]
          },
          "metadata": {},
          "execution_count": 48
        }
      ]
    },
    {
      "cell_type": "code",
      "source": [
        "function_def = increment.get_concrete_function(counter).function_def\n",
        "function_def.signature.input_arg[0]"
      ],
      "metadata": {
        "id": "QCxbltadMHpM",
        "outputId": "3ccf4614-0502-4e40-f3dd-cbe1b8e08756",
        "colab": {
          "base_uri": "https://localhost:8080/"
        }
      },
      "execution_count": 49,
      "outputs": [
        {
          "output_type": "execute_result",
          "data": {
            "text/plain": [
              "name: \"c\"\n",
              "type: DT_RESOURCE"
            ]
          },
          "metadata": {},
          "execution_count": 49
        }
      ]
    },
    {
      "cell_type": "markdown",
      "source": [
        "The TF Function will treat this as an implicit first argument, so it will actually end up\n",
        "with the same signature (except for the name of the argument).\n",
        "\n",
        "However, using global\n",
        "variables can quickly become messy, so you should generally wrap variables (and\n",
        "other resources) inside classes."
      ],
      "metadata": {
        "id": "uTj94CAGNbmb"
      }
    },
    {
      "cell_type": "code",
      "source": [
        "class Counter:\n",
        "  def __init__(self) -> None:\n",
        "    self.counter = tf.Variable(0)\n",
        "  \n",
        "  @tf.function\n",
        "  def increment(self, c=1):\n",
        "    return self.counter.assign_add(c)"
      ],
      "metadata": {
        "id": "NvoXtOQoNmEC"
      },
      "execution_count": 50,
      "outputs": []
    },
    {
      "cell_type": "code",
      "source": [
        "c = Counter()\n",
        "c.increment()"
      ],
      "metadata": {
        "id": "UH3gLyC_N-64",
        "outputId": "48f72981-ae9f-4c37-8a46-41ca78bd5c30",
        "colab": {
          "base_uri": "https://localhost:8080/"
        }
      },
      "execution_count": 51,
      "outputs": [
        {
          "output_type": "execute_result",
          "data": {
            "text/plain": [
              "<tf.Tensor: shape=(), dtype=int32, numpy=1>"
            ]
          },
          "metadata": {},
          "execution_count": 51
        }
      ]
    },
    {
      "cell_type": "code",
      "source": [
        "c.increment()"
      ],
      "metadata": {
        "id": "bS3GU4TGOExM",
        "outputId": "3e04c035-a06f-4142-8e97-4e494b8d846a",
        "colab": {
          "base_uri": "https://localhost:8080/"
        }
      },
      "execution_count": 52,
      "outputs": [
        {
          "output_type": "execute_result",
          "data": {
            "text/plain": [
              "<tf.Tensor: shape=(), dtype=int32, numpy=2>"
            ]
          },
          "metadata": {},
          "execution_count": 52
        }
      ]
    },
    {
      "cell_type": "code",
      "source": [
        "c.increment()"
      ],
      "metadata": {
        "id": "r8coPMEvOHSX",
        "outputId": "d364e299-b395-4970-f32d-efcb1bbf0371",
        "colab": {
          "base_uri": "https://localhost:8080/"
        }
      },
      "execution_count": 53,
      "outputs": [
        {
          "output_type": "execute_result",
          "data": {
            "text/plain": [
              "<tf.Tensor: shape=(), dtype=int32, numpy=3>"
            ]
          },
          "metadata": {},
          "execution_count": 53
        }
      ]
    },
    {
      "cell_type": "markdown",
      "source": [
        "Now, let's check generate code."
      ],
      "metadata": {
        "id": "6AIlsGMqOrf0"
      }
    },
    {
      "cell_type": "code",
      "source": [
        "@tf.function\n",
        "def add_10(x):\n",
        "  for i in tf.range(10):\n",
        "    x += 1\n",
        "  return x"
      ],
      "metadata": {
        "id": "wYXcbfYFOZgW"
      },
      "execution_count": 54,
      "outputs": []
    },
    {
      "cell_type": "code",
      "source": [
        "print(tf.autograph.to_code(add_10.python_function))"
      ],
      "metadata": {
        "id": "c2sLU4zhOxBA",
        "outputId": "34c2198f-23f2-4640-a75e-95ffe3d6169f",
        "colab": {
          "base_uri": "https://localhost:8080/"
        }
      },
      "execution_count": 55,
      "outputs": [
        {
          "output_type": "stream",
          "name": "stdout",
          "text": [
            "def tf__add(x):\n",
            "    with ag__.FunctionScope('add_10', 'fscope', ag__.ConversionOptions(recursive=True, user_requested=True, optional_features=(), internal_convert_user_code=True)) as fscope:\n",
            "        do_return = False\n",
            "        retval_ = ag__.UndefinedReturnValue()\n",
            "\n",
            "        def get_state():\n",
            "            return (x,)\n",
            "\n",
            "        def set_state(vars_):\n",
            "            nonlocal x\n",
            "            (x,) = vars_\n",
            "\n",
            "        def loop_body(itr):\n",
            "            nonlocal x\n",
            "            i = itr\n",
            "            x = ag__.ld(x)\n",
            "            x += 1\n",
            "        i = ag__.Undefined('i')\n",
            "        ag__.for_stmt(ag__.converted_call(ag__.ld(tf).range, (10,), None, fscope), None, loop_body, get_state, set_state, ('x',), {'iterate_names': 'i'})\n",
            "        try:\n",
            "            do_return = True\n",
            "            retval_ = ag__.ld(x)\n",
            "        except:\n",
            "            do_return = False\n",
            "            raise\n",
            "        return fscope.ret(retval_, do_return)\n",
            "\n"
          ]
        }
      ]
    },
    {
      "cell_type": "code",
      "source": [
        "def display_tf_code(func):\n",
        "  from IPython.display import display, Markdown\n",
        "  if hasattr(func, \"python_function\"):\n",
        "    func = func.python_function\n",
        "  code = tf.autograph.to_code(func)\n",
        "  display(Markdown('```python\\n{}\\n```'.format(code)))"
      ],
      "metadata": {
        "id": "CRQ7p_5CPAmY"
      },
      "execution_count": 56,
      "outputs": []
    },
    {
      "cell_type": "code",
      "source": [
        "display_tf_code(add_10)"
      ],
      "metadata": {
        "id": "OIe068Y4PcdW",
        "outputId": "36d9e6ad-e1f9-4ea6-f8d3-22f62bd63d04",
        "colab": {
          "base_uri": "https://localhost:8080/",
          "height": 488
        }
      },
      "execution_count": 57,
      "outputs": [
        {
          "output_type": "display_data",
          "data": {
            "text/plain": [
              "<IPython.core.display.Markdown object>"
            ],
            "text/markdown": "```python\ndef tf__add(x):\n    with ag__.FunctionScope('add_10', 'fscope', ag__.ConversionOptions(recursive=True, user_requested=True, optional_features=(), internal_convert_user_code=True)) as fscope:\n        do_return = False\n        retval_ = ag__.UndefinedReturnValue()\n\n        def get_state():\n            return (x,)\n\n        def set_state(vars_):\n            nonlocal x\n            (x,) = vars_\n\n        def loop_body(itr):\n            nonlocal x\n            i = itr\n            x = ag__.ld(x)\n            x += 1\n        i = ag__.Undefined('i')\n        ag__.for_stmt(ag__.converted_call(ag__.ld(tf).range, (10,), None, fscope), None, loop_body, get_state, set_state, ('x',), {'iterate_names': 'i'})\n        try:\n            do_return = True\n            retval_ = ag__.ld(x)\n        except:\n            do_return = False\n            raise\n        return fscope.ret(retval_, do_return)\n\n```"
          },
          "metadata": {}
        }
      ]
    },
    {
      "cell_type": "markdown",
      "source": [
        "##TF Functions with `tf.keras`"
      ],
      "metadata": {
        "id": "FXs9eH_yPoFE"
      }
    },
    {
      "cell_type": "markdown",
      "source": [
        ""
      ],
      "metadata": {
        "id": "IA30gp3uPpqb"
      }
    }
  ]
}