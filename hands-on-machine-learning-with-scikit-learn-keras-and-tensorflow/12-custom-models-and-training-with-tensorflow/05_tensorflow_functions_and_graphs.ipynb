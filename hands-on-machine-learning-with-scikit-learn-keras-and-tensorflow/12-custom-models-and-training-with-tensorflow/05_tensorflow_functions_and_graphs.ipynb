{
  "nbformat": 4,
  "nbformat_minor": 0,
  "metadata": {
    "colab": {
      "name": "05-tensorflow-functions-and-graphs.ipynb",
      "provenance": [],
      "toc_visible": true,
      "authorship_tag": "ABX9TyP9kIrIej1z4UGjuoq2eORe",
      "include_colab_link": true
    },
    "kernelspec": {
      "name": "python3",
      "display_name": "Python 3"
    },
    "language_info": {
      "name": "python"
    }
  },
  "cells": [
    {
      "cell_type": "markdown",
      "metadata": {
        "id": "view-in-github",
        "colab_type": "text"
      },
      "source": [
        "<a href=\"https://colab.research.google.com/github/rahiakela/machine-learning-research-and-practice/blob/main/hands-on-machine-learning-with-scikit-learn-keras-and-tensorflow/12-custom-models-and-training-with-tensorflow/05_tensorflow_functions_and_graphs.ipynb\" target=\"_parent\"><img src=\"https://colab.research.google.com/assets/colab-badge.svg\" alt=\"Open In Colab\"/></a>"
      ]
    },
    {
      "cell_type": "markdown",
      "source": [
        "## TensorFlow Functions and Graphs"
      ],
      "metadata": {
        "id": "3_-bfWpuJ6Bl"
      }
    },
    {
      "cell_type": "markdown",
      "source": [
        "In fact, 95% of the use cases you will encounter will not require anything other than `tf.keras` and `tf.data`.\n",
        "\n",
        "But now it’s time to dive deeper into TensorFlow\n",
        "and take a look at its lower-level Python API. This will be useful when you need extra\n",
        "control to write custom loss functions, custom metrics, layers, models, initializers,\n",
        "regularizers, weight constraints, and more. \n",
        "\n",
        "You may even need to fully control the\n",
        "training loop itself, for example to apply special transformations or constraints to the\n",
        "gradients (beyond just clipping them) or to use multiple optimizers for different parts\n",
        "of the network.\n",
        "\n",
        "TensorFlow’s API revolves around tensors, which flow from operation to operation—hence the name TensorFlow.\n",
        "\n",
        "A tensor is very similar to a NumPy ndarray: it is usually\n",
        "a multidimensional array, but it can also hold a scalar (a simple value, such as 42).\n",
        "These tensors will be important when we create custom cost functions, custom metrics,\n",
        "custom layers, and more, so let’s see how to create and manipulate them.\n",
        "\n"
      ],
      "metadata": {
        "id": "JWnEp7wGJ7QY"
      }
    },
    {
      "cell_type": "markdown",
      "source": [
        "##Setup"
      ],
      "metadata": {
        "id": "jGotmr4LK43k"
      }
    },
    {
      "cell_type": "code",
      "source": [
        "import sys\n",
        "import sklearn\n",
        "from sklearn.datasets import fetch_california_housing\n",
        "from sklearn.model_selection import train_test_split\n",
        "from sklearn.preprocessing import StandardScaler\n",
        "\n",
        "import tensorflow as tf\n",
        "from tensorflow import keras\n",
        "\n",
        "from tqdm.notebook import trange\n",
        "from collections import OrderedDict\n",
        "\n",
        "import numpy as np\n",
        "import os\n",
        "import time\n",
        "\n",
        "# to make this notebook's output stable across runs\n",
        "np.random.seed(42)\n",
        "tf.random.set_seed(42)\n",
        "\n",
        "# To plot pretty figures\n",
        "%matplotlib inline\n",
        "import matplotlib as mpl\n",
        "import matplotlib.pyplot as plt\n",
        "mpl.rc('axes', labelsize=14)\n",
        "mpl.rc('xtick', labelsize=12)\n",
        "mpl.rc('ytick', labelsize=12)"
      ],
      "metadata": {
        "id": "G0vsm-w4K5z-"
      },
      "execution_count": 1,
      "outputs": []
    },
    {
      "cell_type": "markdown",
      "source": [
        "## Loading Dataset"
      ],
      "metadata": {
        "id": "ty8i8qgFMpjy"
      }
    },
    {
      "cell_type": "markdown",
      "source": [
        "Let's start by loading and preparing the California housing dataset. "
      ],
      "metadata": {
        "id": "6CGg7E0PHCP8"
      }
    },
    {
      "cell_type": "code",
      "source": [
        "housing = fetch_california_housing()\n",
        "\n",
        "x_train_full, x_test, y_train_full, y_test = train_test_split(housing.data, housing.target.reshape(-1, 1), random_state=42)\n",
        "x_train, x_valid, y_train, y_valid = train_test_split(x_train_full, y_train_full, random_state=42)\n",
        "\n",
        "scaler = StandardScaler()\n",
        "x_train_scaled = scaler.fit_transform(x_train)\n",
        "x_valid_scaled = scaler.transform(x_valid)\n",
        "x_test_scaled = scaler.transform(x_test)"
      ],
      "metadata": {
        "id": "YJx_TeqwMqer"
      },
      "execution_count": 2,
      "outputs": []
    },
    {
      "cell_type": "markdown",
      "source": [
        "##TensorFlow Function"
      ],
      "metadata": {
        "id": "weXOA8tjZHwI"
      }
    },
    {
      "cell_type": "markdown",
      "source": [
        "Let’s start with a trivial function that computes the cube of its input."
      ],
      "metadata": {
        "id": "-Rj1dnaeZCYv"
      }
    },
    {
      "cell_type": "code",
      "source": [
        "def cube(x):\n",
        "  return x ** 3"
      ],
      "metadata": {
        "id": "8qeIH9nEaScU"
      },
      "execution_count": 3,
      "outputs": []
    },
    {
      "cell_type": "code",
      "source": [
        "cube(2)"
      ],
      "metadata": {
        "colab": {
          "base_uri": "https://localhost:8080/"
        },
        "id": "N9hH1awVc_3e",
        "outputId": "cbe191a9-004d-4aea-ce4a-e60afa9c4553"
      },
      "execution_count": 4,
      "outputs": [
        {
          "output_type": "execute_result",
          "data": {
            "text/plain": [
              "8"
            ]
          },
          "metadata": {},
          "execution_count": 4
        }
      ]
    },
    {
      "cell_type": "code",
      "source": [
        "cube(tf.constant(2.0))"
      ],
      "metadata": {
        "colab": {
          "base_uri": "https://localhost:8080/"
        },
        "id": "CbvJjopNdRcw",
        "outputId": "e873fa3c-cb24-4986-f1c7-2c946fb9399d"
      },
      "execution_count": 5,
      "outputs": [
        {
          "output_type": "execute_result",
          "data": {
            "text/plain": [
              "<tf.Tensor: shape=(), dtype=float32, numpy=8.0>"
            ]
          },
          "metadata": {},
          "execution_count": 5
        }
      ]
    },
    {
      "cell_type": "markdown",
      "source": [
        "Now, let’s use `tf.function()` to convert this Python function to a TensorFlow\n",
        "Function:"
      ],
      "metadata": {
        "id": "dYZC-k_KdqTF"
      }
    },
    {
      "cell_type": "code",
      "source": [
        "tf_cube = tf.function(cube)\n",
        "tf_cube"
      ],
      "metadata": {
        "id": "puBdBJ4ndrs4",
        "colab": {
          "base_uri": "https://localhost:8080/"
        },
        "outputId": "9f5c1ae7-bfde-4c56-a62e-ac9325d12f31"
      },
      "execution_count": 6,
      "outputs": [
        {
          "output_type": "execute_result",
          "data": {
            "text/plain": [
              "<tensorflow.python.eager.def_function.Function at 0x7fa2186c8750>"
            ]
          },
          "metadata": {},
          "execution_count": 6
        }
      ]
    },
    {
      "cell_type": "code",
      "source": [
        "tf_cube(2)"
      ],
      "metadata": {
        "colab": {
          "base_uri": "https://localhost:8080/"
        },
        "id": "k4dc4o1YdzAq",
        "outputId": "4c63e2dd-90fa-4dab-90df-156892c12f8c"
      },
      "execution_count": 7,
      "outputs": [
        {
          "output_type": "execute_result",
          "data": {
            "text/plain": [
              "<tf.Tensor: shape=(), dtype=int32, numpy=8>"
            ]
          },
          "metadata": {},
          "execution_count": 7
        }
      ]
    },
    {
      "cell_type": "code",
      "source": [
        "tf_cube(tf.constant(2.0))"
      ],
      "metadata": {
        "colab": {
          "base_uri": "https://localhost:8080/"
        },
        "id": "nObVPoG3d6_j",
        "outputId": "d3e767b1-9dee-452f-9fc4-908e7af819a0"
      },
      "execution_count": 8,
      "outputs": [
        {
          "output_type": "execute_result",
          "data": {
            "text/plain": [
              "<tf.Tensor: shape=(), dtype=float32, numpy=8.0>"
            ]
          },
          "metadata": {},
          "execution_count": 8
        }
      ]
    },
    {
      "cell_type": "markdown",
      "source": [
        "Under the hood, `tf.function()` analyzed the computations performed by the `cube()` function and generated an equivalent computation graph!\n",
        "\n",
        "Alternatively, we could have used\n",
        "`tf.function` as a decorator; this is actually more common."
      ],
      "metadata": {
        "id": "YBuEBICkeLwz"
      }
    },
    {
      "cell_type": "code",
      "source": [
        "@tf.function\n",
        "def my_cube(x):\n",
        "  return x ** 3"
      ],
      "metadata": {
        "id": "e_OIM-oefsRO"
      },
      "execution_count": 9,
      "outputs": []
    },
    {
      "cell_type": "markdown",
      "source": [
        "The original Python function is still available via the TF Function’s `python_function` attribute, in case you ever need it:"
      ],
      "metadata": {
        "id": "nCMUsxr0gJeJ"
      }
    },
    {
      "cell_type": "code",
      "source": [
        "my_cube.python_function(2)"
      ],
      "metadata": {
        "colab": {
          "base_uri": "https://localhost:8080/"
        },
        "id": "z2ARUtcJgKEZ",
        "outputId": "6064702e-d601-445a-f123-52039c5268c1"
      },
      "execution_count": 10,
      "outputs": [
        {
          "output_type": "execute_result",
          "data": {
            "text/plain": [
              "8"
            ]
          },
          "metadata": {},
          "execution_count": 10
        }
      ]
    },
    {
      "cell_type": "markdown",
      "source": [
        "TensorFlow optimizes the computation graph, pruning unused nodes, simplifying\n",
        "expressions (e.g., 1 + 2 would get replaced with 3), and more. Once the optimized\n",
        "graph is ready, the TF Function efficiently executes the operations in the graph, in the\n",
        "appropriate order (and in parallel when it can).\n",
        "\n",
        "As a result, a TF Function will usually\n",
        "run much faster than the original Python function, especially if it performs complex\n",
        "computations.\n",
        "\n",
        "**Most of the time you will not really need to know more than that:\n",
        "when you want to boost a Python function, just transform it into a TF Function.**"
      ],
      "metadata": {
        "id": "9kbMuQq-gUIi"
      }
    },
    {
      "cell_type": "markdown",
      "source": [
        "##Concrete Functions"
      ],
      "metadata": {
        "id": "K6En9iEclfEd"
      }
    },
    {
      "cell_type": "markdown",
      "source": [
        "TF Functions are polymorphic, meaning they support inputs of different types.\n",
        "\n",
        "Every time you call a TF Function with a new combination of input types or shapes, it\n",
        "generates a new concrete function, with its own graph specialized for this particular\n",
        "combination. Such a combination of argument types and shapes is called an input signature."
      ],
      "metadata": {
        "id": "wiZ7uhDElfyZ"
      }
    },
    {
      "cell_type": "code",
      "source": [
        "concrete_function = my_cube.get_concrete_function(tf.constant(2.0))\n",
        "concrete_function.graph"
      ],
      "metadata": {
        "id": "5AfXatfElkVx",
        "outputId": "71725a81-2291-4d0d-eb7a-9eef66dd79cb",
        "colab": {
          "base_uri": "https://localhost:8080/"
        }
      },
      "execution_count": 11,
      "outputs": [
        {
          "output_type": "execute_result",
          "data": {
            "text/plain": [
              "<tensorflow.python.framework.func_graph.FuncGraph at 0x7fa213b0bc90>"
            ]
          },
          "metadata": {},
          "execution_count": 11
        }
      ]
    },
    {
      "cell_type": "code",
      "source": [
        "concrete_function(tf.constant(2.0))"
      ],
      "metadata": {
        "id": "Vka9Tz5mmHKg",
        "outputId": "25ac1073-0ad5-47c0-f47b-d00e4af19258",
        "colab": {
          "base_uri": "https://localhost:8080/"
        }
      },
      "execution_count": 12,
      "outputs": [
        {
          "output_type": "execute_result",
          "data": {
            "text/plain": [
              "<tf.Tensor: shape=(), dtype=float32, numpy=8.0>"
            ]
          },
          "metadata": {},
          "execution_count": 12
        }
      ]
    },
    {
      "cell_type": "code",
      "source": [
        "concrete_function(tf.constant(5.0))"
      ],
      "metadata": {
        "id": "eBECqTQUmNXZ",
        "outputId": "4fff37fd-da6e-481e-9f4b-03b77bc52e1f",
        "colab": {
          "base_uri": "https://localhost:8080/"
        }
      },
      "execution_count": 13,
      "outputs": [
        {
          "output_type": "execute_result",
          "data": {
            "text/plain": [
              "<tf.Tensor: shape=(), dtype=float32, numpy=125.0>"
            ]
          },
          "metadata": {},
          "execution_count": 13
        }
      ]
    },
    {
      "cell_type": "markdown",
      "source": [
        "##Function Definitions and Graphs"
      ],
      "metadata": {
        "id": "HS5rhQLsmcH5"
      }
    },
    {
      "cell_type": "markdown",
      "source": [
        "You can access a concrete function’s computation graph using the graph attribute."
      ],
      "metadata": {
        "id": "0jSSkwPjmc-5"
      }
    },
    {
      "cell_type": "code",
      "source": [
        "ops = concrete_function.graph.get_operations()\n",
        "ops"
      ],
      "metadata": {
        "id": "iZJX_4Z6mjh2",
        "outputId": "f1819dee-378d-4292-bf2c-eb0299fe6c87",
        "colab": {
          "base_uri": "https://localhost:8080/"
        }
      },
      "execution_count": 14,
      "outputs": [
        {
          "output_type": "execute_result",
          "data": {
            "text/plain": [
              "[<tf.Operation 'x' type=Placeholder>,\n",
              " <tf.Operation 'pow/y' type=Const>,\n",
              " <tf.Operation 'pow' type=Pow>,\n",
              " <tf.Operation 'Identity' type=Identity>]"
            ]
          },
          "metadata": {},
          "execution_count": 14
        }
      ]
    },
    {
      "cell_type": "markdown",
      "source": [
        "Let’s get the list of inputs and outputs of the power operation."
      ],
      "metadata": {
        "id": "d3ow6hrRm3hf"
      }
    },
    {
      "cell_type": "code",
      "source": [
        "pow_ops = ops[2]\n",
        "list(pow_ops.inputs)"
      ],
      "metadata": {
        "id": "iOQ363CZm5EE",
        "outputId": "3bf47dff-6a2b-4742-f4ab-45b9bec920de",
        "colab": {
          "base_uri": "https://localhost:8080/"
        }
      },
      "execution_count": 16,
      "outputs": [
        {
          "output_type": "execute_result",
          "data": {
            "text/plain": [
              "[<tf.Tensor 'x:0' shape=() dtype=float32>,\n",
              " <tf.Tensor 'pow/y:0' shape=() dtype=float32>]"
            ]
          },
          "metadata": {},
          "execution_count": 16
        }
      ]
    },
    {
      "cell_type": "code",
      "source": [
        "pow_ops.outputs"
      ],
      "metadata": {
        "id": "UHRjyvECm-9y",
        "outputId": "1e315131-522b-43de-9e4b-f0bda531dcc5",
        "colab": {
          "base_uri": "https://localhost:8080/"
        }
      },
      "execution_count": 17,
      "outputs": [
        {
          "output_type": "execute_result",
          "data": {
            "text/plain": [
              "[<tf.Tensor 'pow:0' shape=() dtype=float32>]"
            ]
          },
          "metadata": {},
          "execution_count": 17
        }
      ]
    },
    {
      "cell_type": "markdown",
      "source": [
        "Note that each operation has a name."
      ],
      "metadata": {
        "id": "a2Z2Qe4NnXSF"
      }
    },
    {
      "cell_type": "code",
      "source": [
        "concrete_function.graph.get_operation_by_name(\"x\")"
      ],
      "metadata": {
        "id": "PW_F64adnXrI",
        "outputId": "749d5357-8e37-45a5-8ac0-27ef70fdbb5a",
        "colab": {
          "base_uri": "https://localhost:8080/"
        }
      },
      "execution_count": 18,
      "outputs": [
        {
          "output_type": "execute_result",
          "data": {
            "text/plain": [
              "<tf.Operation 'x' type=Placeholder>"
            ]
          },
          "metadata": {},
          "execution_count": 18
        }
      ]
    },
    {
      "cell_type": "code",
      "source": [
        "concrete_function.graph.get_tensor_by_name(\"Identity:0\")"
      ],
      "metadata": {
        "id": "CkMJ899UnfC3",
        "outputId": "051feb69-610c-400c-9f20-881a5754d4aa",
        "colab": {
          "base_uri": "https://localhost:8080/"
        }
      },
      "execution_count": 20,
      "outputs": [
        {
          "output_type": "execute_result",
          "data": {
            "text/plain": [
              "<tf.Tensor 'Identity:0' shape=() dtype=float32>"
            ]
          },
          "metadata": {},
          "execution_count": 20
        }
      ]
    },
    {
      "cell_type": "markdown",
      "source": [
        "The concrete function also contains the function definition which includes the function’s signature."
      ],
      "metadata": {
        "id": "y3gEjoz4nwOb"
      }
    },
    {
      "cell_type": "code",
      "source": [
        "concrete_function.function_def.signature"
      ],
      "metadata": {
        "id": "FVZepLZ_nyjQ",
        "outputId": "730ee89c-7eea-4734-e765-f990e5379895",
        "colab": {
          "base_uri": "https://localhost:8080/"
        }
      },
      "execution_count": 21,
      "outputs": [
        {
          "output_type": "execute_result",
          "data": {
            "text/plain": [
              "name: \"__inference_my_cube_25\"\n",
              "input_arg {\n",
              "  name: \"x\"\n",
              "  type: DT_FLOAT\n",
              "}\n",
              "output_arg {\n",
              "  name: \"identity\"\n",
              "  type: DT_FLOAT\n",
              "}"
            ]
          },
          "metadata": {},
          "execution_count": 21
        }
      ]
    },
    {
      "cell_type": "markdown",
      "source": [
        "##Function Tracing"
      ],
      "metadata": {
        "id": "dlG_Xs5woHs7"
      }
    },
    {
      "cell_type": "code",
      "source": [
        "@tf.function\n",
        "def tf_cube(x):\n",
        "  print(\"x: \", x)\n",
        "  return x ** 3"
      ],
      "metadata": {
        "id": "RpFMt3gSoTap"
      },
      "execution_count": 22,
      "outputs": []
    },
    {
      "cell_type": "code",
      "source": [
        "result = tf_cube(tf.constant(2.0))"
      ],
      "metadata": {
        "id": "se8u8dA0odYe",
        "outputId": "9f4a73fd-3781-45c2-c878-5c0cdcd3768b",
        "colab": {
          "base_uri": "https://localhost:8080/"
        }
      },
      "execution_count": 23,
      "outputs": [
        {
          "output_type": "stream",
          "name": "stdout",
          "text": [
            "x:  Tensor(\"x:0\", shape=(), dtype=float32)\n"
          ]
        }
      ]
    },
    {
      "cell_type": "code",
      "source": [
        "result"
      ],
      "metadata": {
        "id": "ycJdb783olP4",
        "outputId": "3dedce45-1bad-4256-a2af-6d438a6bd0ca",
        "colab": {
          "base_uri": "https://localhost:8080/"
        }
      },
      "execution_count": 24,
      "outputs": [
        {
          "output_type": "execute_result",
          "data": {
            "text/plain": [
              "<tf.Tensor: shape=(), dtype=float32, numpy=8.0>"
            ]
          },
          "metadata": {},
          "execution_count": 24
        }
      ]
    },
    {
      "cell_type": "markdown",
      "source": [
        "It has a\n",
        "shape and a data type, but no value. Plus it has a name (\"x:0\"). This is because the\n",
        "`print()` function is not a TensorFlow operation, so it will only run when the Python\n",
        "function is traced, which happens in graph mode, with arguments replaced with symbolic\n",
        "tensors (same type and shape, but no value). \n",
        "\n",
        "Since the `print()` function was not\n",
        "captured into the graph, the next times we call `tf_cube()` with float32 scalar tensors,\n",
        "nothing is printed:"
      ],
      "metadata": {
        "id": "qBlOStE-o4Mh"
      }
    },
    {
      "cell_type": "code",
      "source": [
        "result = tf_cube(tf.constant(3.0))"
      ],
      "metadata": {
        "id": "di28UAHzo_wW"
      },
      "execution_count": 25,
      "outputs": []
    },
    {
      "cell_type": "code",
      "source": [
        "result = tf_cube(tf.constant(5.0))"
      ],
      "metadata": {
        "id": "Wz-bzY4FpIx1"
      },
      "execution_count": 26,
      "outputs": []
    },
    {
      "cell_type": "markdown",
      "source": [
        "But if we call `tf_cube()` with a tensor of a different type or shape, or with a new\n",
        "Python value, the function will be traced again."
      ],
      "metadata": {
        "id": "42T1esIUpOW1"
      }
    },
    {
      "cell_type": "code",
      "source": [
        "result = tf_cube(2)  # new Python value: trace!"
      ],
      "metadata": {
        "id": "U1kcoNhjpR9P",
        "outputId": "2ae59412-7a85-4213-9f71-cd0ac93a1d3f",
        "colab": {
          "base_uri": "https://localhost:8080/"
        }
      },
      "execution_count": 27,
      "outputs": [
        {
          "output_type": "stream",
          "name": "stdout",
          "text": [
            "x:  2\n"
          ]
        }
      ]
    },
    {
      "cell_type": "code",
      "source": [
        "result = tf_cube(4)   # new Python value: trace!"
      ],
      "metadata": {
        "id": "DemehHQ5pWP5",
        "outputId": "217bfdbf-47a9-4718-a954-05ec3cbb9421",
        "colab": {
          "base_uri": "https://localhost:8080/"
        }
      },
      "execution_count": 28,
      "outputs": [
        {
          "output_type": "stream",
          "name": "stdout",
          "text": [
            "x:  4\n"
          ]
        }
      ]
    },
    {
      "cell_type": "code",
      "source": [
        "result = tf_cube(tf.constant([[1.0, 2.0]]))   # New shape: trace!"
      ],
      "metadata": {
        "id": "GFJz0s64paP8",
        "outputId": "9a924192-2630-4169-b05b-4260b413c2e1",
        "colab": {
          "base_uri": "https://localhost:8080/"
        }
      },
      "execution_count": 29,
      "outputs": [
        {
          "output_type": "stream",
          "name": "stdout",
          "text": [
            "x:  Tensor(\"x:0\", shape=(1, 2), dtype=float32)\n"
          ]
        }
      ]
    },
    {
      "cell_type": "code",
      "source": [
        "result = tf_cube(tf.constant([[3.0,4.0], [5.0, 6.0]]))   # New shape: trace!"
      ],
      "metadata": {
        "id": "fVl40jteprXu"
      },
      "execution_count": 31,
      "outputs": []
    },
    {
      "cell_type": "code",
      "source": [
        "result = tf_cube(tf.constant([[7.0,8.0], [9.0, 10.0]]))   # Same shape: no trace!"
      ],
      "metadata": {
        "id": "WQHKj2hup-Of"
      },
      "execution_count": 32,
      "outputs": []
    },
    {
      "cell_type": "markdown",
      "source": [
        "In some cases, you may want to restrict a TF Function to a specific input signature.\n",
        "\n",
        "For example, suppose you know that you will only ever call a TF Function with\n",
        "batches of 28 × 28–pixel images, but the batches will have very different sizes. You\n",
        "may not want TensorFlow to generate a different concrete function for each batch\n",
        "size, or count on it to figure out on its own when to use None. \n",
        "\n",
        "In this case, you can\n",
        "specify the input signature like this:"
      ],
      "metadata": {
        "id": "iv1o_WE2rHJS"
      }
    },
    {
      "cell_type": "code",
      "source": [
        "@tf.function(input_signature=[tf.TensorSpec([None, 28, 28], tf.float32)])\n",
        "def shrink(images):\n",
        "  return images[:, ::2, ::2]  # drop half the rows and columns"
      ],
      "metadata": {
        "id": "VA5s2FOOrJmp"
      },
      "execution_count": 33,
      "outputs": []
    },
    {
      "cell_type": "markdown",
      "source": [
        "This TF Function will accept any float32 tensor of shape `[*, 28, 28]`, and it will reuse\n",
        "the same concrete function every time:"
      ],
      "metadata": {
        "id": "kgMAdPhYroxv"
      }
    },
    {
      "cell_type": "code",
      "source": [
        "img_batch_1 = tf.random.uniform(shape=[100, 28, 28])\n",
        "img_batch_2 = tf.random.uniform(shape=[50, 28, 28])\n",
        "\n",
        "preprocessed_images = shrink(img_batch_1)   # Works fine. Traces the function.\n",
        "preprocessed_images = shrink(img_batch_2)   # Reuses the same concrete function"
      ],
      "metadata": {
        "id": "qS4y-XPWrqm-"
      },
      "execution_count": 34,
      "outputs": []
    },
    {
      "cell_type": "markdown",
      "source": [
        "However, if you try to call this TF Function with a Python value, or a tensor of an\n",
        "unexpected data type or shape, you will get an exception:"
      ],
      "metadata": {
        "id": "rZuE_zQMsToq"
      }
    },
    {
      "cell_type": "code",
      "source": [
        "img_batch_3 = tf.random.uniform(shape=[2, 2, 2])\n",
        "try:\n",
        "  preprocessed_images = shrink(img_batch_3)  # rejects unexpected types or shapes\n",
        "except ValueError as ve:\n",
        "  print(ve)"
      ],
      "metadata": {
        "id": "JEXnXknIsVN1",
        "outputId": "98c03ee3-a87c-4148-cea6-2942e3c6b42a",
        "colab": {
          "base_uri": "https://localhost:8080/"
        }
      },
      "execution_count": 36,
      "outputs": [
        {
          "output_type": "stream",
          "name": "stdout",
          "text": [
            "Python inputs incompatible with input_signature:\n",
            "  inputs: (\n",
            "    tf.Tensor(\n",
            "[[[0.7402308  0.33938193]\n",
            "  [0.5692506  0.44811392]]\n",
            "\n",
            " [[0.29285502 0.4260056 ]\n",
            "  [0.62890387 0.691061  ]]], shape=(2, 2, 2), dtype=float32))\n",
            "  input_signature: (\n",
            "    TensorSpec(shape=(None, 28, 28), dtype=tf.float32, name=None)).\n"
          ]
        }
      ]
    },
    {
      "cell_type": "markdown",
      "source": [
        "##AutoGraph Control Flow"
      ],
      "metadata": {
        "id": "JFHvKU5js_Mv"
      }
    },
    {
      "cell_type": "markdown",
      "source": [
        ""
      ],
      "metadata": {
        "id": "ceAXdfuttAyX"
      }
    }
  ]
}