{
  "nbformat": 4,
  "nbformat_minor": 0,
  "metadata": {
    "colab": {
      "name": "03-customizing-models-and-araining-algorithms.ipynb",
      "provenance": [],
      "toc_visible": true,
      "authorship_tag": "ABX9TyOz+k60+trhXUZ2LaSlCIhs",
      "include_colab_link": true
    },
    "kernelspec": {
      "name": "python3",
      "display_name": "Python 3"
    },
    "language_info": {
      "name": "python"
    }
  },
  "cells": [
    {
      "cell_type": "markdown",
      "metadata": {
        "id": "view-in-github",
        "colab_type": "text"
      },
      "source": [
        "<a href=\"https://colab.research.google.com/github/rahiakela/machine-learning-research-and-practice/blob/main/hands-on-machine-learning-with-scikit-learn-keras-and-tensorflow/12-custom-models-and-training-with-tensorflow/03_customizing_models_and_araining_algorithms.ipynb\" target=\"_parent\"><img src=\"https://colab.research.google.com/assets/colab-badge.svg\" alt=\"Open In Colab\"/></a>"
      ]
    },
    {
      "cell_type": "markdown",
      "source": [
        "## Customizing Models and Training Algorithms"
      ],
      "metadata": {
        "id": "3_-bfWpuJ6Bl"
      }
    },
    {
      "cell_type": "markdown",
      "source": [
        "In fact, 95% of the use cases you will encounter will not require anything other than `tf.keras` and `tf.data`.\n",
        "\n",
        "But now it’s time to dive deeper into TensorFlow\n",
        "and take a look at its lower-level Python API. This will be useful when you need extra\n",
        "control to write custom loss functions, custom metrics, layers, models, initializers,\n",
        "regularizers, weight constraints, and more. \n",
        "\n",
        "You may even need to fully control the\n",
        "training loop itself, for example to apply special transformations or constraints to the\n",
        "gradients (beyond just clipping them) or to use multiple optimizers for different parts\n",
        "of the network.\n",
        "\n",
        "TensorFlow’s API revolves around tensors, which flow from operation to operation—hence the name TensorFlow.\n",
        "\n",
        "A tensor is very similar to a NumPy ndarray: it is usually\n",
        "a multidimensional array, but it can also hold a scalar (a simple value, such as 42).\n",
        "These tensors will be important when we create custom cost functions, custom metrics,\n",
        "custom layers, and more, so let’s see how to create and manipulate them.\n",
        "\n"
      ],
      "metadata": {
        "id": "JWnEp7wGJ7QY"
      }
    },
    {
      "cell_type": "markdown",
      "source": [
        "##Setup"
      ],
      "metadata": {
        "id": "jGotmr4LK43k"
      }
    },
    {
      "cell_type": "code",
      "source": [
        "import sys\n",
        "import sklearn\n",
        "from sklearn.datasets import fetch_california_housing\n",
        "from sklearn.model_selection import train_test_split\n",
        "from sklearn.preprocessing import StandardScaler\n",
        "\n",
        "import tensorflow as tf\n",
        "from tensorflow import keras\n",
        "\n",
        "import numpy as np\n",
        "import os\n",
        "import time\n",
        "\n",
        "# to make this notebook's output stable across runs\n",
        "np.random.seed(42)\n",
        "tf.random.set_seed(42)\n",
        "\n",
        "# To plot pretty figures\n",
        "%matplotlib inline\n",
        "import matplotlib as mpl\n",
        "import matplotlib.pyplot as plt\n",
        "mpl.rc('axes', labelsize=14)\n",
        "mpl.rc('xtick', labelsize=12)\n",
        "mpl.rc('ytick', labelsize=12)"
      ],
      "metadata": {
        "id": "G0vsm-w4K5z-"
      },
      "execution_count": 1,
      "outputs": []
    },
    {
      "cell_type": "markdown",
      "source": [
        "## Custom Loss"
      ],
      "metadata": {
        "id": "ty8i8qgFMpjy"
      }
    },
    {
      "cell_type": "markdown",
      "source": [
        "Let's start by loading and preparing the California housing dataset. "
      ],
      "metadata": {
        "id": "6CGg7E0PHCP8"
      }
    },
    {
      "cell_type": "code",
      "source": [
        "housing = fetch_california_housing()\n",
        "\n",
        "x_train_full, x_test, y_train_full, y_test = train_test_split(housing.data, housing.target.reshape(-1, 1), random_state=42)\n",
        "x_train, x_valid, y_train, y_valid = train_test_split(x_train_full, y_train_full, random_state=42)\n",
        "\n",
        "scaler = StandardScaler()\n",
        "x_train_scaled = scaler.fit_transform(x_train)\n",
        "x_valid_scaled = scaler.transform(x_valid)\n",
        "x_test_scaled = scaler.transform(x_test)"
      ],
      "metadata": {
        "id": "YJx_TeqwMqer"
      },
      "execution_count": 2,
      "outputs": []
    },
    {
      "cell_type": "markdown",
      "source": [
        "Let's implement the Huber loss."
      ],
      "metadata": {
        "id": "l6tzmEhtHoxH"
      }
    },
    {
      "cell_type": "code",
      "source": [
        "def huber_fn(y_true, y_pred):\n",
        "  error = y_true - y_pred\n",
        "  is_small_error = tf.abs(error) < 1\n",
        "  squared_loss = tf.square(error) / 2\n",
        "  linear_loss  = tf.abs(error) - 0.5\n",
        "  return tf.where(is_small_error, squared_loss, linear_loss)"
      ],
      "metadata": {
        "id": "xxGN7XDYM_rm"
      },
      "execution_count": 3,
      "outputs": []
    },
    {
      "cell_type": "code",
      "source": [
        "plt.figure(figsize=(8, 3.5))\n",
        "z = np.linspace(-4, 4, 200)\n",
        "plt.plot(z, huber_fn(0, z), \"b-\", linewidth=2, label=\"huber($z$)\")\n",
        "plt.plot(z, z**2 / 2, \"b:\", linewidth=1, label=r\"$\\frac{1}{2}z^2$\")\n",
        "plt.plot([-1, -1], [0, huber_fn(0., -1.)], \"r--\")\n",
        "plt.plot([1, 1], [0, huber_fn(0., 1.)], \"r--\")\n",
        "plt.gca().axhline(y=0, color='k')\n",
        "plt.gca().axvline(x=0, color='k')\n",
        "plt.axis([-4, 4, 0, 4])\n",
        "plt.grid(True)\n",
        "plt.xlabel(\"$z$\")\n",
        "plt.legend(fontsize=14)\n",
        "plt.title(\"Huber loss\", fontsize=14)\n",
        "plt.show()"
      ],
      "metadata": {
        "colab": {
          "base_uri": "https://localhost:8080/",
          "height": 276
        },
        "id": "0A8Juuq8NK-v",
        "outputId": "d586d5b3-7c9e-4a60-bdc0-3d4fbb56b9cd"
      },
      "execution_count": 4,
      "outputs": [
        {
          "output_type": "display_data",
          "data": {
            "text/plain": [
              "<Figure size 576x252 with 1 Axes>"
            ],
            "image/png": "[encoded data removed]"
          },
          "metadata": {
            "needs_background": "light"
          }
        }
      ]
    },
    {
      "cell_type": "code",
      "source": [
        "input_shape = x_train.shape[1:]\n",
        "\n",
        "model = keras.models.Sequential([\n",
        "    keras.layers.Dense(30, activation=\"selu\", kernel_initializer=\"lecun_normal\", input_shape=input_shape),\n",
        "    keras.layers.Dense(1),\n",
        "])"
      ],
      "metadata": {
        "id": "jaUIqSISNU8y"
      },
      "execution_count": 5,
      "outputs": []
    },
    {
      "cell_type": "code",
      "source": [
        "model.compile(loss=huber_fn, optimizer=\"nadam\", metrics=[\"mae\"])"
      ],
      "metadata": {
        "id": "hG7FTUgzNbZO"
      },
      "execution_count": 6,
      "outputs": []
    },
    {
      "cell_type": "code",
      "source": [
        "model.fit(x_train_scaled, y_train, epochs=2, validation_data=(x_valid_scaled, y_valid))"
      ],
      "metadata": {
        "colab": {
          "base_uri": "https://localhost:8080/"
        },
        "id": "cM67pzS0NhYT",
        "outputId": "d7cdd444-1de2-44b8-d6ef-857b3442d866"
      },
      "execution_count": 7,
      "outputs": [
        {
          "output_type": "stream",
          "name": "stdout",
          "text": [
            "Epoch 1/2\n",
            "363/363 [==============================] - 4s 5ms/step - loss: 0.6235 - mae: 0.9953 - val_loss: 0.2862 - val_mae: 0.5866\n",
            "Epoch 2/2\n",
            "363/363 [==============================] - 1s 4ms/step - loss: 0.2197 - mae: 0.5177 - val_loss: 0.2382 - val_mae: 0.5281\n"
          ]
        },
        {
          "output_type": "execute_result",
          "data": {
            "text/plain": [
              "<keras.callbacks.History at 0x7f67241dc610>"
            ]
          },
          "metadata": {},
          "execution_count": 7
        }
      ]
    },
    {
      "cell_type": "markdown",
      "source": [
        "**Saving and loading models with custom components**"
      ],
      "metadata": {
        "id": "L26OoJuuKxSh"
      }
    },
    {
      "cell_type": "code",
      "source": [
        "model.save(\"my_model_with_a_custom_loss.h5\")"
      ],
      "metadata": {
        "id": "VKGGRfWaNtLu"
      },
      "execution_count": 8,
      "outputs": []
    },
    {
      "cell_type": "code",
      "source": [
        "# need to provide a dictionary that maps the function name to the actual function.\n",
        "model = keras.models.load_model(\"my_model_with_a_custom_loss.h5\", custom_objects={\"huber_fn\": huber_fn})"
      ],
      "metadata": {
        "id": "HmwufhgHNzPN"
      },
      "execution_count": 9,
      "outputs": []
    },
    {
      "cell_type": "code",
      "source": [
        "model.fit(x_train_scaled, y_train, epochs=2, validation_data=(x_valid_scaled, y_valid))"
      ],
      "metadata": {
        "colab": {
          "base_uri": "https://localhost:8080/"
        },
        "id": "oD5-cthaOHLL",
        "outputId": "5578c31d-d6a1-4196-a31a-170dffc28260"
      },
      "execution_count": 10,
      "outputs": [
        {
          "output_type": "stream",
          "name": "stdout",
          "text": [
            "Epoch 1/2\n",
            "363/363 [==============================] - 3s 5ms/step - loss: 0.2054 - mae: 0.4982 - val_loss: 0.2209 - val_mae: 0.5050\n",
            "Epoch 2/2\n",
            "363/363 [==============================] - 2s 5ms/step - loss: 0.1999 - mae: 0.4900 - val_loss: 0.2127 - val_mae: 0.4986\n"
          ]
        },
        {
          "output_type": "execute_result",
          "data": {
            "text/plain": [
              "<keras.callbacks.History at 0x7f671efbea10>"
            ]
          },
          "metadata": {},
          "execution_count": 10
        }
      ]
    },
    {
      "cell_type": "markdown",
      "source": [
        "But what if you want a different threshold? \n",
        "\n",
        "One solution is to create a function that\n",
        "creates a configured loss function:"
      ],
      "metadata": {
        "id": "C0hqEMysMBF5"
      }
    },
    {
      "cell_type": "code",
      "source": [
        "def create_huber(threshold=1.0):\n",
        "  def huber_fn(y_true, y_pred):\n",
        "    error = y_true - y_pred\n",
        "    is_small_error = tf.abs(error) < threshold\n",
        "    squared_loss = tf.square(error) / 2\n",
        "    linear_loss  = threshold * tf.abs(error) - threshold ** 2 / 2\n",
        "    return tf.where(is_small_error, squared_loss, linear_loss)\n",
        "  return huber_fn"
      ],
      "metadata": {
        "id": "RQQr9U8rOehx"
      },
      "execution_count": 11,
      "outputs": []
    },
    {
      "cell_type": "code",
      "source": [
        "model.compile(loss=create_huber(2.0), optimizer=\"nadam\", metrics=[\"mae\"])"
      ],
      "metadata": {
        "id": "Drr7xEVjOuFj"
      },
      "execution_count": 12,
      "outputs": []
    },
    {
      "cell_type": "code",
      "source": [
        "model.fit(x_train_scaled, y_train, epochs=2, validation_data=(x_valid_scaled, y_valid))"
      ],
      "metadata": {
        "colab": {
          "base_uri": "https://localhost:8080/"
        },
        "id": "7vhVECLEPCeT",
        "outputId": "6854210c-7803-4b94-80e5-c008979c5cd8"
      },
      "execution_count": 13,
      "outputs": [
        {
          "output_type": "stream",
          "name": "stdout",
          "text": [
            "Epoch 1/2\n",
            "363/363 [==============================] - 4s 5ms/step - loss: 0.2226 - mae: 0.4892 - val_loss: 0.2540 - val_mae: 0.4907\n",
            "Epoch 2/2\n",
            "363/363 [==============================] - 2s 6ms/step - loss: 0.2184 - mae: 0.4844 - val_loss: 0.2372 - val_mae: 0.4879\n"
          ]
        },
        {
          "output_type": "execute_result",
          "data": {
            "text/plain": [
              "<keras.callbacks.History at 0x7f672362d850>"
            ]
          },
          "metadata": {},
          "execution_count": 13
        }
      ]
    },
    {
      "cell_type": "code",
      "source": [
        "model.save(\"my_model_with_a_custom_loss_2.h5\")"
      ],
      "metadata": {
        "id": "Hqpkk_ptO2uE"
      },
      "execution_count": 14,
      "outputs": []
    },
    {
      "cell_type": "markdown",
      "source": [
        "Unfortunately, when you save the model, the threshold will not be saved.so need to specify the threshold value."
      ],
      "metadata": {
        "id": "OrIpM1ZeNONu"
      }
    },
    {
      "cell_type": "code",
      "source": [
        "model = keras.models.load_model(\"my_model_with_a_custom_loss_2.h5\", custom_objects={\"huber_fn\": create_huber(2.0)})"
      ],
      "metadata": {
        "id": "IIA4Do0xPHT-"
      },
      "execution_count": 15,
      "outputs": []
    },
    {
      "cell_type": "code",
      "source": [
        "model.fit(x_train_scaled, y_train, epochs=2, validation_data=(x_valid_scaled, y_valid))"
      ],
      "metadata": {
        "colab": {
          "base_uri": "https://localhost:8080/"
        },
        "id": "3NMZ2b2TPN-Q",
        "outputId": "999d7602-383e-4e01-a0ac-31fd32762905"
      },
      "execution_count": 16,
      "outputs": [
        {
          "output_type": "stream",
          "name": "stdout",
          "text": [
            "Epoch 1/2\n",
            "363/363 [==============================] - 3s 6ms/step - loss: 0.2147 - mae: 0.4800 - val_loss: 0.2133 - val_mae: 0.4654\n",
            "Epoch 2/2\n",
            "363/363 [==============================] - 2s 4ms/step - loss: 0.2119 - mae: 0.4762 - val_loss: 0.1992 - val_mae: 0.4643\n"
          ]
        },
        {
          "output_type": "execute_result",
          "data": {
            "text/plain": [
              "<keras.callbacks.History at 0x7f6723618550>"
            ]
          },
          "metadata": {},
          "execution_count": 16
        }
      ]
    },
    {
      "cell_type": "markdown",
      "source": [
        "You can solve this by creating a subclass of the keras.losses.Loss class, and then implementing its `get_config()` method:"
      ],
      "metadata": {
        "id": "w9U-TsHRNCOS"
      }
    },
    {
      "cell_type": "code",
      "source": [
        "class HuberLoss(keras.losses.Loss):\n",
        "  def __init__(self, threshold=1.0, **kwargs) -> None:\n",
        "    self.threshold = threshold\n",
        "    super().__init__(**kwargs)\n",
        "\n",
        "  def call(self, y_true, y_pred):\n",
        "    error = y_true - y_pred\n",
        "    is_small_error = tf.abs(error) < self.threshold\n",
        "    squared_loss = tf.square(error) / 2\n",
        "    linear_loss  = self.threshold * tf.abs(error) - self.threshold ** 2 / 2\n",
        "    return tf.where(is_small_error, squared_loss, linear_loss)\n",
        "\n",
        "  def get_config(self):\n",
        "    base_config = super().get_config()\n",
        "    return {**base_config, \"threshold\": self.threshold}"
      ],
      "metadata": {
        "id": "reI9tDGePbv3"
      },
      "execution_count": 17,
      "outputs": []
    },
    {
      "cell_type": "code",
      "source": [
        "model.compile(loss=HuberLoss(2.0), optimizer=\"nadam\", metrics=[\"mae\"])"
      ],
      "metadata": {
        "id": "4-7gE56vTdvi"
      },
      "execution_count": 18,
      "outputs": []
    },
    {
      "cell_type": "code",
      "source": [
        "model.fit(x_train_scaled, y_train, epochs=2, validation_data=(x_valid_scaled, y_valid))"
      ],
      "metadata": {
        "colab": {
          "base_uri": "https://localhost:8080/"
        },
        "id": "EVVc0VXBOYtA",
        "outputId": "2e8614aa-6437-44b8-f746-4f5279910a7a"
      },
      "execution_count": 19,
      "outputs": [
        {
          "output_type": "stream",
          "name": "stdout",
          "text": [
            "Epoch 1/2\n",
            "363/363 [==============================] - 2s 2ms/step - loss: 0.2094 - mae: 0.4729 - val_loss: 0.1980 - val_mae: 0.4537\n",
            "Epoch 2/2\n",
            "363/363 [==============================] - 1s 2ms/step - loss: 0.2068 - mae: 0.4692 - val_loss: 0.2031 - val_mae: 0.4621\n"
          ]
        },
        {
          "output_type": "execute_result",
          "data": {
            "text/plain": [
              "<keras.callbacks.History at 0x7f67234df110>"
            ]
          },
          "metadata": {},
          "execution_count": 19
        }
      ]
    },
    {
      "cell_type": "code",
      "source": [
        "model.save(\"my_model_with_a_custom_loss_class.h5\")"
      ],
      "metadata": {
        "id": "6BOLFO23OfSE"
      },
      "execution_count": 20,
      "outputs": []
    },
    {
      "cell_type": "code",
      "source": [
        "model = keras.models.load_model(\"my_model_with_a_custom_loss_class.h5\", custom_objects={\"HuberLoss\": HuberLoss(2.0)})"
      ],
      "metadata": {
        "id": "xk6t-VhlPxj5"
      },
      "execution_count": 21,
      "outputs": []
    },
    {
      "cell_type": "code",
      "source": [
        "model.fit(x_train_scaled, y_train, epochs=2, validation_data=(x_valid_scaled, y_valid))"
      ],
      "metadata": {
        "colab": {
          "base_uri": "https://localhost:8080/"
        },
        "id": "t2Q3tjFIP9Vi",
        "outputId": "1780f162-3369-4417-c093-fc7a826d3656"
      },
      "execution_count": 22,
      "outputs": [
        {
          "output_type": "stream",
          "name": "stdout",
          "text": [
            "Epoch 1/2\n",
            "363/363 [==============================] - 1s 3ms/step - loss: 0.2051 - mae: 0.4670 - val_loss: 0.1952 - val_mae: 0.4491\n",
            "Epoch 2/2\n",
            "363/363 [==============================] - 1s 2ms/step - loss: 0.2028 - mae: 0.4632 - val_loss: 0.2183 - val_mae: 0.4663\n"
          ]
        },
        {
          "output_type": "execute_result",
          "data": {
            "text/plain": [
              "<keras.callbacks.History at 0x7f67232d4a10>"
            ]
          },
          "metadata": {},
          "execution_count": 22
        }
      ]
    },
    {
      "cell_type": "code",
      "source": [
        "# let's check threshold value\n",
        "model.loss.threshold"
      ],
      "metadata": {
        "colab": {
          "base_uri": "https://localhost:8080/"
        },
        "id": "qsdJvR3KQGrU",
        "outputId": "f294bcf0-8a61-407d-dc6b-f3cb9a17fd98"
      },
      "execution_count": 23,
      "outputs": [
        {
          "output_type": "execute_result",
          "data": {
            "text/plain": [
              "2.0"
            ]
          },
          "metadata": {},
          "execution_count": 23
        }
      ]
    },
    {
      "cell_type": "markdown",
      "source": [
        "##Other Custom Functions"
      ],
      "metadata": {
        "id": "ARnib3EsR4ID"
      }
    },
    {
      "cell_type": "markdown",
      "source": [
        "Most Keras functionalities, such as losses, regularizers, constraints, initializers, metrics,\n",
        "activation functions, layers, and even full models, can be customized in very\n",
        "much the same way."
      ],
      "metadata": {
        "id": "vmZ6j8wpQd9i"
      }
    },
    {
      "cell_type": "code",
      "source": [
        "keras.backend.clear_session()\n",
        "np.random.seed(42)\n",
        "tf.random.set_seed(42)"
      ],
      "metadata": {
        "id": "8dyDGjfjUnYx"
      },
      "execution_count": 24,
      "outputs": []
    },
    {
      "cell_type": "code",
      "source": [
        "def my_softplus(z): # return value is just tf.nn.softplus(z)\n",
        "  return tf.math.log(tf.exp(z) + 1.0)\n",
        "\n",
        "def my_glorot_initializer(shape, dtype=tf.float32):\n",
        "  stddev = tf.sqrt(2. / (shape[0] + shape[1]))\n",
        "  return tf.random.normal(shape, stddev=stddev, dtype=dtype)\n",
        "\n",
        "def my_l1_regularizer(weights):\n",
        "  return tf.reduce_sum(tf.abs(0.01 * weights))\n",
        "\n",
        "def my_positive_weights(weights): # return value is just tf.nn.relu(weights)\n",
        "  return tf.where(weights < 0., tf.zeros_like(weights), weights)"
      ],
      "metadata": {
        "id": "WyPiOgOdUrKU"
      },
      "execution_count": 25,
      "outputs": []
    },
    {
      "cell_type": "markdown",
      "source": [
        "These custom\n",
        "functions can then be used normally;"
      ],
      "metadata": {
        "id": "FUx8z8foU4Uu"
      }
    },
    {
      "cell_type": "code",
      "source": [
        "layer = keras.layers.Dense(1, \n",
        "                           activation=my_softplus, \n",
        "                           kernel_initializer=my_glorot_initializer,\n",
        "                           kernel_regularizer=my_l1_regularizer,\n",
        "                           kernel_constraint=my_positive_weights)"
      ],
      "metadata": {
        "id": "RQTHAFsfU43n"
      },
      "execution_count": 26,
      "outputs": []
    },
    {
      "cell_type": "code",
      "source": [
        "keras.backend.clear_session()\n",
        "np.random.seed(42)\n",
        "tf.random.set_seed(42)"
      ],
      "metadata": {
        "id": "-8qbQdrkVX52"
      },
      "execution_count": 27,
      "outputs": []
    },
    {
      "cell_type": "code",
      "source": [
        "model = keras.models.Sequential([\n",
        "    keras.layers.Dense(30, \n",
        "                       activation=\"selu\", \n",
        "                       kernel_initializer=\"lecun_normal\", \n",
        "                       input_shape=input_shape),\n",
        "    keras.layers.Dense(1, \n",
        "                       activation=my_softplus, \n",
        "                       kernel_initializer=my_glorot_initializer,\n",
        "                       kernel_regularizer=my_l1_regularizer,\n",
        "                       kernel_constraint=my_positive_weights)\n",
        "])"
      ],
      "metadata": {
        "id": "wURopi8QVYaf"
      },
      "execution_count": 30,
      "outputs": []
    },
    {
      "cell_type": "code",
      "source": [
        "model.compile(loss=\"mse\", optimizer=\"nadam\", metrics=[\"mae\"])\n",
        "model.fit(x_train_scaled, y_train, epochs=2, validation_data=(x_valid_scaled, y_valid))"
      ],
      "metadata": {
        "id": "KpL_7vlbWwN-",
        "outputId": "3f40e908-f494-4f65-f3d6-05533d5280d2",
        "colab": {
          "base_uri": "https://localhost:8080/"
        }
      },
      "execution_count": 31,
      "outputs": [
        {
          "output_type": "stream",
          "name": "stdout",
          "text": [
            "Epoch 1/2\n",
            "363/363 [==============================] - 3s 6ms/step - loss: 2.3330 - mae: 0.9736 - val_loss: inf - val_mae: inf\n",
            "Epoch 2/2\n",
            "363/363 [==============================] - 1s 3ms/step - loss: 0.8556 - mae: 0.5399 - val_loss: inf - val_mae: inf\n"
          ]
        },
        {
          "output_type": "execute_result",
          "data": {
            "text/plain": [
              "<keras.callbacks.History at 0x7f67224dd950>"
            ]
          },
          "metadata": {},
          "execution_count": 31
        }
      ]
    },
    {
      "cell_type": "code",
      "source": [
        "model.save(\"my_model_with_many_custom_parts.h5\")\n",
        "model = keras.models.load_model(\"my_model_with_many_custom_parts.h5\", \n",
        "                                custom_objects={\n",
        "                                    \"my_l1_regularizer\": my_l1_regularizer,\n",
        "                                    \"my_positive_weights\": my_positive_weights,\n",
        "                                    \"my_glorot_initializer\": my_glorot_initializer,\n",
        "                                    \"my_softplus\": my_softplus\n",
        "                                    })\n",
        "model.fit(x_train_scaled, y_train, epochs=2, validation_data=(x_valid_scaled, y_valid))"
      ],
      "metadata": {
        "id": "f3Cnmq1kXGX3",
        "outputId": "319127c2-a32d-4d88-ce3a-6022d14583a7",
        "colab": {
          "base_uri": "https://localhost:8080/"
        }
      },
      "execution_count": 32,
      "outputs": [
        {
          "output_type": "stream",
          "name": "stdout",
          "text": [
            "Epoch 1/2\n",
            "363/363 [==============================] - 1s 2ms/step - loss: 0.6759 - mae: 0.5122 - val_loss: inf - val_mae: inf\n",
            "Epoch 2/2\n",
            "363/363 [==============================] - 1s 2ms/step - loss: 0.5879 - mae: 0.4980 - val_loss: inf - val_mae: inf\n"
          ]
        },
        {
          "output_type": "execute_result",
          "data": {
            "text/plain": [
              "<keras.callbacks.History at 0x7f6722303210>"
            ]
          },
          "metadata": {},
          "execution_count": 32
        }
      ]
    },
    {
      "cell_type": "markdown",
      "source": [
        "If a function has hyperparameters that need to be saved along with the model, then\n",
        "you will want to subclass the appropriate class."
      ],
      "metadata": {
        "id": "JCZK9A7ZXv1k"
      }
    },
    {
      "cell_type": "code",
      "source": [
        "keras.backend.clear_session()\n",
        "np.random.seed(42)\n",
        "tf.random.set_seed(42)"
      ],
      "metadata": {
        "id": "JwLGDJuCYYno"
      },
      "execution_count": 34,
      "outputs": []
    },
    {
      "cell_type": "code",
      "source": [
        "class MyL1Regularizer(keras.regularizers.Regularizer):\n",
        "  def __init__(self, factor) -> None:\n",
        "    self.factor = factor\n",
        "  def __call__(self, weights):\n",
        "    return tf.reduce_sum(tf.abs(self.factor * weights))\n",
        "  def get_config(self):\n",
        "    return {\"factor\": self.factor}"
      ],
      "metadata": {
        "id": "xYu0SozRXwdX"
      },
      "execution_count": 35,
      "outputs": []
    },
    {
      "cell_type": "code",
      "source": [
        "model = keras.models.Sequential([\n",
        "    keras.layers.Dense(30, \n",
        "                       activation=\"selu\", \n",
        "                       kernel_initializer=\"lecun_normal\", \n",
        "                       input_shape=input_shape),\n",
        "    keras.layers.Dense(1, \n",
        "                       activation=my_softplus, \n",
        "                       kernel_initializer=my_glorot_initializer,\n",
        "                       kernel_regularizer=MyL1Regularizer(0.01),\n",
        "                       kernel_constraint=my_positive_weights)\n",
        "])"
      ],
      "metadata": {
        "id": "04CFi59sYc5-"
      },
      "execution_count": 36,
      "outputs": []
    },
    {
      "cell_type": "code",
      "source": [
        "model.compile(loss=\"mse\", optimizer=\"nadam\", metrics=[\"mae\"])\n",
        "model.fit(x_train_scaled, y_train, epochs=2, validation_data=(x_valid_scaled, y_valid))"
      ],
      "metadata": {
        "id": "8rDRh4Z3YrLr",
        "outputId": "15f1d6dd-a9a8-451f-f0f2-7130edcf5e54",
        "colab": {
          "base_uri": "https://localhost:8080/"
        }
      },
      "execution_count": 37,
      "outputs": [
        {
          "output_type": "stream",
          "name": "stdout",
          "text": [
            "Epoch 1/2\n",
            "363/363 [==============================] - 2s 2ms/step - loss: 1.5542 - mae: 0.8962 - val_loss: 1.4154 - val_mae: 0.5607\n",
            "Epoch 2/2\n",
            "363/363 [==============================] - 1s 2ms/step - loss: 0.5943 - mae: 0.5256 - val_loss: 1.4399 - val_mae: 0.5137\n"
          ]
        },
        {
          "output_type": "execute_result",
          "data": {
            "text/plain": [
              "<keras.callbacks.History at 0x7f671fa67910>"
            ]
          },
          "metadata": {},
          "execution_count": 37
        }
      ]
    },
    {
      "cell_type": "code",
      "source": [
        "model.save(\"my_model_with_many_custom_parts.h5\")\n",
        "model = keras.models.load_model(\"my_model_with_many_custom_parts.h5\", \n",
        "                                custom_objects={\n",
        "                                    \"MyL1Regularizer\": MyL1Regularizer,\n",
        "                                    \"my_positive_weights\": my_positive_weights,\n",
        "                                    \"my_glorot_initializer\": my_glorot_initializer,\n",
        "                                    \"my_softplus\": my_softplus\n",
        "                                  })\n",
        "model.fit(x_train_scaled, y_train, epochs=2, validation_data=(x_valid_scaled, y_valid))"
      ],
      "metadata": {
        "id": "6t8qzunLY4UP",
        "outputId": "4eb0126b-a5d8-4d9d-9c8c-d1d7b7cfee88",
        "colab": {
          "base_uri": "https://localhost:8080/"
        }
      },
      "execution_count": 38,
      "outputs": [
        {
          "output_type": "stream",
          "name": "stdout",
          "text": [
            "Epoch 1/2\n",
            "363/363 [==============================] - 1s 2ms/step - loss: 0.5240 - mae: 0.4971 - val_loss: 0.9955 - val_mae: 0.4869\n",
            "Epoch 2/2\n",
            "363/363 [==============================] - 1s 2ms/step - loss: 0.5020 - mae: 0.4873 - val_loss: 0.9798 - val_mae: 0.4882\n"
          ]
        },
        {
          "output_type": "execute_result",
          "data": {
            "text/plain": [
              "<keras.callbacks.History at 0x7f6722d2c050>"
            ]
          },
          "metadata": {},
          "execution_count": 38
        }
      ]
    },
    {
      "cell_type": "markdown",
      "source": [
        "##Custom Metrics"
      ],
      "metadata": {
        "id": "weXOA8tjZHwI"
      }
    },
    {
      "cell_type": "markdown",
      "source": [
        ""
      ],
      "metadata": {
        "id": "pLEkcrbhZS6T"
      }
    }
  ]
}