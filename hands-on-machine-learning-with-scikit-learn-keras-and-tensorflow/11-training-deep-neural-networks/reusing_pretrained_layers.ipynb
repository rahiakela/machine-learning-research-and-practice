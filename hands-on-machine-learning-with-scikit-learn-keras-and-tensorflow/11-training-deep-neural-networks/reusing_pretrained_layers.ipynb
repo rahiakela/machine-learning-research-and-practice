{
  "nbformat": 4,
  "nbformat_minor": 0,
  "metadata": {
    "colab": {
      "name": "reusing-pretrained-layers.ipynb",
      "provenance": [],
      "toc_visible": true,
      "include_colab_link": true
    },
    "kernelspec": {
      "name": "python3",
      "display_name": "Python 3"
    }
  },
  "cells": [
    {
      "cell_type": "markdown",
      "metadata": {
        "id": "view-in-github",
        "colab_type": "text"
      },
      "source": [
        "<a href=\"https://colab.research.google.com/github/rahiakela/hands-on-machine-learning-with-scikit-learn-keras-and-tensorflow/blob/11-training-deep-neural-networks/reusing_pretrained_layers.ipynb\" target=\"_parent\"><img src=\"https://colab.research.google.com/assets/colab-badge.svg\" alt=\"Open In Colab\"/></a>"
      ]
    },
    {
      "cell_type": "markdown",
      "metadata": {
        "id": "S8XlPHGn4NxJ",
        "colab_type": "text"
      },
      "source": [
        "# Reusing Pretrained Layers"
      ]
    },
    {
      "cell_type": "markdown",
      "metadata": {
        "id": "ILnNGNxQ4OoP",
        "colab_type": "text"
      },
      "source": [
        "It is generally not a good idea to train a very large DNN from scratch: instead, you should always try to find an existing neural network that accomplishes a similar task to the one you are trying to tackle then just reuse the lower layers of this network: this is called transfer learning. It will\n",
        "not only speed up training considerably, but will also require much less training data.\n",
        "\n",
        "For example, suppose that you have access to a DNN that was trained to classify pictures into 100 different categories, including animals, plants, vehicles, and everyday objects. You now want to train a DNN to classify specific types of vehicles. These tasks are very similar, even partly overlapping, so you should try to reuse parts of the first network.\n",
        "\n",
        "<img src='https://github.com/rahiakela/img-repo/blob/master/hands-on-machine-learning-keras-tensorflow/reusing-pretrained-layers.PNG?raw=1' width='800'/>\n",
        "\n",
        "The output layer of the original model should usually be replaced since it is most likely not useful at all for the new task, and it may not even have the right number of outputs for the new task.\n",
        "\n",
        "Similarly, the upper hidden layers of the original model are less likely to be as useful as the lower layers, since the high-level features that are most useful for the new task may differ significantly from the ones that were most useful for the original task. You want to find the right number of layers to reuse.\n",
        "\n",
        "Try freezing all the reused layers first (i.e., make their weights non-trainable, so gradient descent won’t modify them), then train your model and see how it performs. Then try unfreezing one or two of the top hidden layers to let backpropagation tweak them and see if performance improves. The more training data you have, the more layers you can unfreeze. It is also useful to reduce the learning rate when you unfreeze\n",
        "reused layers: this will avoid wrecking their fine-tuned weights.\n",
        "\n",
        "If you still cannot get good performance, and you have little training data, try dropping the top hidden layer(s) and freeze all remaining hidden layers again. You can iterate until you find the right number of layers to reuse. If you have plenty of training data, you may try replacing the top hidden layers instead of dropping them, and even add more hidden layers."
      ]
    },
    {
      "cell_type": "markdown",
      "metadata": {
        "id": "7wy-eGmZ7J_0",
        "colab_type": "text"
      },
      "source": [
        "## Setup"
      ]
    },
    {
      "cell_type": "code",
      "metadata": {
        "id": "1qtaBBx97NQs",
        "colab_type": "code",
        "colab": {}
      },
      "source": [
        "import sys\n",
        "assert sys.version_info >= (3, 5)  # Python ≥3.5 is required\n",
        "\n",
        "import sklearn \n",
        "assert sklearn.__version__ >= \"0.20\"  # Scikit-Learn ≥0.20 is required\n",
        "\n",
        "# %tensorflow_version only exists in Colab.\n",
        "try:\n",
        "  %tensorflow_version 2.x\n",
        "except Exception:\n",
        "  pass\n",
        "\n",
        "# TensorFlow ≥2.0 is required\n",
        "import tensorflow as tf\n",
        "from tensorflow import keras\n",
        "assert tf.__version__ >= '2.0'\n",
        "\n",
        "# Common imports\n",
        "import numpy as np\n",
        "import os\n",
        "\n",
        "from tensorflow.keras.models import Sequential\n",
        "from tensorflow.keras.layers import Dense, Flatten\n",
        "from tensorflow.keras.optimizers import SGD\n",
        "import tensorflow.keras.backend as keras_backend\n",
        "\n",
        "# to make this notebook's output stable across runs\n",
        "np.random.seed(42)\n",
        "\n",
        "# To plot pretty figures\n",
        "%matplotlib inline\n",
        "import matplotlib as mpl\n",
        "import matplotlib.pyplot as plt\n",
        "mpl.rc('axes', labelsize=14)\n",
        "mpl.rc('xtick', labelsize=12)\n",
        "mpl.rc('ytick', labelsize=12)"
      ],
      "execution_count": 0,
      "outputs": []
    },
    {
      "cell_type": "code",
      "metadata": {
        "id": "fNEa-e2t9luX",
        "colab_type": "code",
        "colab": {}
      },
      "source": [
        "(X_train_full, y_train_full), (X_test, y_test) = keras.datasets.fashion_mnist.load_data()\n",
        "\n",
        "X_train_full = X_train_full / 255.\n",
        "X_test = X_test / 255.\n",
        "\n",
        "X_valid, X_train = X_train_full[:5000], X_train_full[5000:]\n",
        "y_valid, y_train = y_train_full[:5000], y_train_full[5000:]"
      ],
      "execution_count": 0,
      "outputs": []
    },
    {
      "cell_type": "markdown",
      "metadata": {
        "id": "KH6GYHZS7TZf",
        "colab_type": "text"
      },
      "source": [
        "## Transfer Learning With Keras"
      ]
    },
    {
      "cell_type": "markdown",
      "metadata": {
        "id": "2qeqdpYh7Uoh",
        "colab_type": "text"
      },
      "source": [
        "Let's split the fashion MNIST training set in two:\n",
        "* `X_train_A`: all images of all items except for sandals and shirts (classes 5 and 6).\n",
        "* `X_train_B`: a much smaller training set of just the first 200 images of sandals or shirts.\n",
        "\n",
        "The validation set and the test set are also split this way, but without restricting the number of images.\n",
        "\n",
        "We will train a model on set A (classification task with 8 classes), and try to reuse it to tackle set B (binary classification). We hope to transfer a little bit of knowledge from task A to task B, since classes in set A (sneakers, ankle boots, coats, t-shirts, etc.) are somewhat similar to classes in set B (sandals and shirts). However, since we are using `Dense` layers, only patterns that occur at the same location can be reused (in contrast, convolutional layers will transfer much better, since learned patterns can be detected anywhere on the image)."
      ]
    },
    {
      "cell_type": "code",
      "metadata": {
        "id": "tHHGB5Mp7Syh",
        "colab_type": "code",
        "colab": {}
      },
      "source": [
        "def split_dataset(X, y):\n",
        "  y_5_or_6 = (y==5) | (y==6)   # sandals or shirts\n",
        "  y_A = y[~y_5_or_6]\n",
        "  y_A[y_A > 6] -= 2    # class indices 7, 8, 9 should be moved to 5, 6, 7\n",
        "  y_B = (y[y_5_or_6] == 6).astype(np.float32)  # binary classification task: is it a shirt (class 6)?\n",
        "\n",
        "  return ((X[~y_5_or_6], y_A), (X[y_5_or_6], y_B))\n",
        "\n",
        "(X_train_A, y_train_A), (X_train_B, y_train_B) = split_dataset(X_train, y_train)\n",
        "(X_valid_A, y_valid_A), (X_valid_B, y_valid_B) = split_dataset(X_valid, y_valid)\n",
        "(X_test_A, y_test_A), (X_test_B, y_test_B) = split_dataset(X_test, y_test)\n",
        "\n",
        "X_train_B = X_train[:200]\n",
        "y_train_B = y_train[:200]"
      ],
      "execution_count": 0,
      "outputs": []
    },
    {
      "cell_type": "code",
      "metadata": {
        "id": "FPBXOs1U_JPP",
        "colab_type": "code",
        "colab": {
          "base_uri": "https://localhost:8080/",
          "height": 35
        },
        "outputId": "736a028c-9066-459e-cc5c-dedb6847c197"
      },
      "source": [
        "X_train_A.shape"
      ],
      "execution_count": 35,
      "outputs": [
        {
          "output_type": "execute_result",
          "data": {
            "text/plain": [
              "(43986, 28, 28)"
            ]
          },
          "metadata": {
            "tags": []
          },
          "execution_count": 35
        }
      ]
    },
    {
      "cell_type": "code",
      "metadata": {
        "id": "9fU17iEu_y3d",
        "colab_type": "code",
        "colab": {
          "base_uri": "https://localhost:8080/",
          "height": 35
        },
        "outputId": "81743d8e-fcd5-428b-ef64-36466f497996"
      },
      "source": [
        "X_train_B.shape"
      ],
      "execution_count": 36,
      "outputs": [
        {
          "output_type": "execute_result",
          "data": {
            "text/plain": [
              "(200, 28, 28)"
            ]
          },
          "metadata": {
            "tags": []
          },
          "execution_count": 36
        }
      ]
    },
    {
      "cell_type": "code",
      "metadata": {
        "id": "fWT3cKTz_2OJ",
        "colab_type": "code",
        "colab": {
          "base_uri": "https://localhost:8080/",
          "height": 52
        },
        "outputId": "e642c491-481f-46cc-d6f0-fe5ff20e1843"
      },
      "source": [
        "y_train_A[:30]"
      ],
      "execution_count": 37,
      "outputs": [
        {
          "output_type": "execute_result",
          "data": {
            "text/plain": [
              "array([4, 0, 5, 7, 7, 7, 4, 4, 3, 4, 0, 1, 6, 3, 4, 3, 2, 6, 5, 3, 4, 5,\n",
              "       1, 3, 4, 2, 0, 6, 7, 1], dtype=uint8)"
            ]
          },
          "metadata": {
            "tags": []
          },
          "execution_count": 37
        }
      ]
    },
    {
      "cell_type": "code",
      "metadata": {
        "id": "wX7XokOn_6Ut",
        "colab_type": "code",
        "colab": {
          "base_uri": "https://localhost:8080/",
          "height": 52
        },
        "outputId": "864fa877-50c4-4c29-8091-7449cf51e289"
      },
      "source": [
        "y_train_B[:30]"
      ],
      "execution_count": 38,
      "outputs": [
        {
          "output_type": "execute_result",
          "data": {
            "text/plain": [
              "array([4, 0, 7, 9, 9, 9, 4, 4, 3, 4, 0, 1, 8, 6, 3, 6, 4, 3, 2, 8, 7, 3,\n",
              "       4, 7, 1, 3, 4, 2, 0, 8], dtype=uint8)"
            ]
          },
          "metadata": {
            "tags": []
          },
          "execution_count": 38
        }
      ]
    },
    {
      "cell_type": "code",
      "metadata": {
        "id": "-CBMn4jt__4d",
        "colab_type": "code",
        "colab": {}
      },
      "source": [
        "tf.random.set_seed(42)\n",
        "np.random.seed(42)"
      ],
      "execution_count": 0,
      "outputs": []
    },
    {
      "cell_type": "code",
      "metadata": {
        "id": "zkObvFOQACVo",
        "colab_type": "code",
        "colab": {
          "base_uri": "https://localhost:8080/",
          "height": 746
        },
        "outputId": "9fc48d18-8a51-43c0-ad22-16be3c278fb8"
      },
      "source": [
        "model_A = Sequential()\n",
        "model_A.add(Flatten(input_shape=[28, 28]))\n",
        "for n_hidden in (300, 100, 50, 50, 50):\n",
        "  model_A.add(Dense(n_hidden, activation='selu'))\n",
        "model_A.add(Dense(8, activation='softmax'))\n",
        "\n",
        "model_A.compile(loss='sparse_categorical_crossentropy', optimizer=SGD(learning_rate=1e-3), metrics=['accuracy'])\n",
        "\n",
        "history = model_A.fit(X_train_A, y_train_A, epochs=20, validation_data=(X_valid_A, y_valid_A))"
      ],
      "execution_count": 40,
      "outputs": [
        {
          "output_type": "stream",
          "text": [
            "Train on 43986 samples, validate on 4014 samples\n",
            "Epoch 1/20\n",
            "43986/43986 [==============================] - 6s 146us/sample - loss: 0.5909 - accuracy: 0.8099 - val_loss: 0.3772 - val_accuracy: 0.8712\n",
            "Epoch 2/20\n",
            "43986/43986 [==============================] - 6s 129us/sample - loss: 0.3521 - accuracy: 0.8792 - val_loss: 0.3395 - val_accuracy: 0.8777\n",
            "Epoch 3/20\n",
            "43986/43986 [==============================] - 6s 132us/sample - loss: 0.3167 - accuracy: 0.8891 - val_loss: 0.3016 - val_accuracy: 0.8964\n",
            "Epoch 4/20\n",
            "43986/43986 [==============================] - 6s 131us/sample - loss: 0.2970 - accuracy: 0.8967 - val_loss: 0.2859 - val_accuracy: 0.9021\n",
            "Epoch 5/20\n",
            "43986/43986 [==============================] - 6s 131us/sample - loss: 0.2824 - accuracy: 0.9031 - val_loss: 0.2808 - val_accuracy: 0.9061\n",
            "Epoch 6/20\n",
            "43986/43986 [==============================] - 6s 131us/sample - loss: 0.2721 - accuracy: 0.9073 - val_loss: 0.2684 - val_accuracy: 0.9106\n",
            "Epoch 7/20\n",
            "43986/43986 [==============================] - 6s 131us/sample - loss: 0.2642 - accuracy: 0.9098 - val_loss: 0.2683 - val_accuracy: 0.9108\n",
            "Epoch 8/20\n",
            "43986/43986 [==============================] - 6s 140us/sample - loss: 0.2570 - accuracy: 0.9116 - val_loss: 0.2739 - val_accuracy: 0.9043\n",
            "Epoch 9/20\n",
            "43986/43986 [==============================] - 6s 133us/sample - loss: 0.2514 - accuracy: 0.9140 - val_loss: 0.2590 - val_accuracy: 0.9116\n",
            "Epoch 10/20\n",
            "43986/43986 [==============================] - 6s 135us/sample - loss: 0.2456 - accuracy: 0.9162 - val_loss: 0.2597 - val_accuracy: 0.9103\n",
            "Epoch 11/20\n",
            "43986/43986 [==============================] - 6s 134us/sample - loss: 0.2416 - accuracy: 0.9180 - val_loss: 0.2486 - val_accuracy: 0.9148\n",
            "Epoch 12/20\n",
            "43986/43986 [==============================] - 6s 133us/sample - loss: 0.2379 - accuracy: 0.9186 - val_loss: 0.2448 - val_accuracy: 0.9160\n",
            "Epoch 13/20\n",
            "43986/43986 [==============================] - 6s 134us/sample - loss: 0.2343 - accuracy: 0.9206 - val_loss: 0.2451 - val_accuracy: 0.9168\n",
            "Epoch 14/20\n",
            "43986/43986 [==============================] - 6s 133us/sample - loss: 0.2307 - accuracy: 0.9207 - val_loss: 0.2438 - val_accuracy: 0.9158\n",
            "Epoch 15/20\n",
            "43986/43986 [==============================] - 6s 138us/sample - loss: 0.2278 - accuracy: 0.9215 - val_loss: 0.2394 - val_accuracy: 0.9185\n",
            "Epoch 16/20\n",
            "43986/43986 [==============================] - 6s 137us/sample - loss: 0.2249 - accuracy: 0.9226 - val_loss: 0.2393 - val_accuracy: 0.9180\n",
            "Epoch 17/20\n",
            "43986/43986 [==============================] - 6s 131us/sample - loss: 0.2218 - accuracy: 0.9238 - val_loss: 0.2388 - val_accuracy: 0.9188\n",
            "Epoch 18/20\n",
            "43986/43986 [==============================] - 6s 131us/sample - loss: 0.2199 - accuracy: 0.9244 - val_loss: 0.2401 - val_accuracy: 0.9178\n",
            "Epoch 19/20\n",
            "43986/43986 [==============================] - 6s 132us/sample - loss: 0.2177 - accuracy: 0.9252 - val_loss: 0.2331 - val_accuracy: 0.9213\n",
            "Epoch 20/20\n",
            "43986/43986 [==============================] - 6s 134us/sample - loss: 0.2154 - accuracy: 0.9253 - val_loss: 0.2326 - val_accuracy: 0.9200\n"
          ],
          "name": "stdout"
        }
      ]
    },
    {
      "cell_type": "code",
      "metadata": {
        "id": "R_EUbqeDDSCk",
        "colab_type": "code",
        "colab": {
          "base_uri": "https://localhost:8080/",
          "height": 302
        },
        "outputId": "24537d06-22cf-4f1f-a81a-a1f14e18537d"
      },
      "source": [
        "# Plotting the training and validation loss\n",
        "loss = history.history['loss']\n",
        "val_loss = history.history['val_loss']\n",
        "\n",
        "epochs = range(1, len(loss) + 1)\n",
        "\n",
        "plt.plot(epochs, loss, 'bo-', label='Training loss')\n",
        "plt.plot(epochs, val_loss, 'b--', label='Validation loss')\n",
        "plt.title('Training and validation loss on Model A')\n",
        "plt.xlabel('Epochs')\n",
        "plt.ylabel('Loss')\n",
        "plt.legend()\n",
        "\n",
        "plt.show()"
      ],
      "execution_count": 41,
      "outputs": [
        {
          "output_type": "display_data",
          "data": {
            "image/png": "[encoded data removed]",
            "text/plain": [
              "<Figure size 432x288 with 1 Axes>"
            ]
          },
          "metadata": {
            "tags": []
          }
        }
      ]
    },
    {
      "cell_type": "code",
      "metadata": {
        "id": "hzpf0rDSB2yN",
        "colab_type": "code",
        "colab": {}
      },
      "source": [
        "# save model\n",
        "model_A.save('my_model_A.h5')"
      ],
      "execution_count": 0,
      "outputs": []
    },
    {
      "cell_type": "code",
      "metadata": {
        "id": "Vxn-8-ZLL_XU",
        "colab_type": "code",
        "colab": {}
      },
      "source": [
        "keras_backend.clear_session()\n",
        "tf.random.set_seed(42)\n",
        "np.random.seed(42)"
      ],
      "execution_count": 0,
      "outputs": []
    },
    {
      "cell_type": "code",
      "metadata": {
        "id": "i-YhLD_oCThZ",
        "colab_type": "code",
        "colab": {
          "base_uri": "https://localhost:8080/",
          "height": 746
        },
        "outputId": "3f95abbd-1231-4954-83ea-d0470c9948fb"
      },
      "source": [
        "model_B = keras.models.Sequential()\n",
        "model_B.add(keras.layers.Flatten(input_shape=[28, 28]))\n",
        "for n_hidden in (300, 100, 50, 50, 50):\n",
        "    model_B.add(keras.layers.Dense(n_hidden, activation=\"selu\"))\n",
        "model_B.add(keras.layers.Dense(1, activation=\"sigmoid\"))\n",
        "\n",
        "model_B.compile(loss=\"binary_crossentropy\",\n",
        "                optimizer=keras.optimizers.SGD(learning_rate=1e-6),\n",
        "                metrics=[\"accuracy\"])\n",
        "\n",
        "history_B = model_B.fit(X_train_B, y_train_B, epochs=20,\n",
        "                      validation_data=(X_valid_B, y_valid_B))"
      ],
      "execution_count": 85,
      "outputs": [
        {
          "output_type": "stream",
          "text": [
            "Train on 200 samples, validate on 986 samples\n",
            "Epoch 1/20\n",
            "200/200 [==============================] - 1s 4ms/sample - loss: -0.5607 - accuracy: 0.0200 - val_loss: 0.6258 - val_accuracy: 0.7120\n",
            "Epoch 2/20\n",
            "200/200 [==============================] - 0s 528us/sample - loss: -0.6383 - accuracy: 0.0200 - val_loss: 0.6262 - val_accuracy: 0.7089\n",
            "Epoch 3/20\n",
            "200/200 [==============================] - 0s 551us/sample - loss: -0.7207 - accuracy: 0.0200 - val_loss: 0.6265 - val_accuracy: 0.7099\n",
            "Epoch 4/20\n",
            "200/200 [==============================] - 0s 535us/sample - loss: -0.7970 - accuracy: 0.0200 - val_loss: 0.6270 - val_accuracy: 0.7099\n",
            "Epoch 5/20\n",
            "200/200 [==============================] - 0s 573us/sample - loss: -0.8760 - accuracy: 0.0200 - val_loss: 0.6275 - val_accuracy: 0.7079\n",
            "Epoch 6/20\n",
            "200/200 [==============================] - 0s 547us/sample - loss: -0.9525 - accuracy: 0.0250 - val_loss: 0.6281 - val_accuracy: 0.7079\n",
            "Epoch 7/20\n",
            "200/200 [==============================] - 0s 546us/sample - loss: -1.0276 - accuracy: 0.0250 - val_loss: 0.6288 - val_accuracy: 0.7039\n",
            "Epoch 8/20\n",
            "200/200 [==============================] - 0s 544us/sample - loss: -1.1043 - accuracy: 0.0250 - val_loss: 0.6294 - val_accuracy: 0.6978\n",
            "Epoch 9/20\n",
            "200/200 [==============================] - 0s 555us/sample - loss: -1.1795 - accuracy: 0.0250 - val_loss: 0.6302 - val_accuracy: 0.6968\n",
            "Epoch 10/20\n",
            "200/200 [==============================] - 0s 520us/sample - loss: -1.2547 - accuracy: 0.0250 - val_loss: 0.6310 - val_accuracy: 0.6968\n",
            "Epoch 11/20\n",
            "200/200 [==============================] - 0s 526us/sample - loss: -1.3338 - accuracy: 0.0250 - val_loss: 0.6319 - val_accuracy: 0.6927\n",
            "Epoch 12/20\n",
            "200/200 [==============================] - 0s 541us/sample - loss: -1.4084 - accuracy: 0.0250 - val_loss: 0.6328 - val_accuracy: 0.6947\n",
            "Epoch 13/20\n",
            "200/200 [==============================] - 0s 525us/sample - loss: -1.4791 - accuracy: 0.0250 - val_loss: 0.6338 - val_accuracy: 0.6927\n",
            "Epoch 14/20\n",
            "200/200 [==============================] - 0s 520us/sample - loss: -1.5506 - accuracy: 0.0250 - val_loss: 0.6349 - val_accuracy: 0.6886\n",
            "Epoch 15/20\n",
            "200/200 [==============================] - 0s 530us/sample - loss: -1.6225 - accuracy: 0.0300 - val_loss: 0.6361 - val_accuracy: 0.6815\n",
            "Epoch 16/20\n",
            "200/200 [==============================] - 0s 533us/sample - loss: -1.7016 - accuracy: 0.0300 - val_loss: 0.6374 - val_accuracy: 0.6785\n",
            "Epoch 17/20\n",
            "200/200 [==============================] - 0s 529us/sample - loss: -1.7774 - accuracy: 0.0300 - val_loss: 0.6388 - val_accuracy: 0.6744\n",
            "Epoch 18/20\n",
            "200/200 [==============================] - 0s 523us/sample - loss: -1.8532 - accuracy: 0.0300 - val_loss: 0.6400 - val_accuracy: 0.6714\n",
            "Epoch 19/20\n",
            "200/200 [==============================] - 0s 549us/sample - loss: -1.9260 - accuracy: 0.0300 - val_loss: 0.6414 - val_accuracy: 0.6694\n",
            "Epoch 20/20\n",
            "200/200 [==============================] - 0s 526us/sample - loss: -2.0012 - accuracy: 0.0350 - val_loss: 0.6430 - val_accuracy: 0.6673\n"
          ],
          "name": "stdout"
        }
      ]
    },
    {
      "cell_type": "code",
      "metadata": {
        "id": "SRORbycBDjJD",
        "colab_type": "code",
        "colab": {
          "base_uri": "https://localhost:8080/",
          "height": 302
        },
        "outputId": "44879b6c-59ab-4668-c869-9d0948d69f88"
      },
      "source": [
        "# Plotting the training and validation loss\n",
        "loss = history_B.history['loss']\n",
        "val_loss = history_B.history['val_loss']\n",
        "\n",
        "epochs = range(1, len(loss) + 1)\n",
        "\n",
        "plt.plot(epochs, loss, 'bo-', label='Training loss')\n",
        "plt.plot(epochs, val_loss, 'b--', label='Validation loss')\n",
        "plt.title('Training and validation loss on Model B')\n",
        "plt.xlabel('Epochs')\n",
        "plt.ylabel('Loss')\n",
        "plt.legend()\n",
        "\n",
        "plt.show()"
      ],
      "execution_count": 86,
      "outputs": [
        {
          "output_type": "display_data",
          "data": {
            "image/png": "[encoded data removed]",
            "text/plain": [
              "<Figure size 432x288 with 1 Axes>"
            ]
          },
          "metadata": {
            "tags": []
          }
        }
      ]
    },
    {
      "cell_type": "code",
      "metadata": {
        "id": "3fdMWwSXJ_mi",
        "colab_type": "code",
        "colab": {}
      },
      "source": [
        "keras_backend.clear_session()\n",
        "tf.random.set_seed(42)\n",
        "np.random.seed(42)"
      ],
      "execution_count": 0,
      "outputs": []
    },
    {
      "cell_type": "markdown",
      "metadata": {
        "id": "kK5Z3UKVEGB9",
        "colab_type": "text"
      },
      "source": [
        "First, you need to load model A, and create a new model based on the model A’s layers.\n",
        "Let’s reuse all layers except for the output layer:"
      ]
    },
    {
      "cell_type": "code",
      "metadata": {
        "id": "opJfoq2wDsJI",
        "colab_type": "code",
        "colab": {}
      },
      "source": [
        "model_A = keras.models.load_model('my_model_A.h5')\n",
        "model_B_on_A = Sequential(model_A.layers[:-1])\n",
        "model_B_on_A.add(Dense(1, activation='sigmoid'))"
      ],
      "execution_count": 0,
      "outputs": []
    },
    {
      "cell_type": "markdown",
      "metadata": {
        "id": "lLW-NmApFOJa",
        "colab_type": "text"
      },
      "source": [
        "Note that model_A and model_B_on_A now share some layers. When you train\n",
        "model_B_on_A, it will also affect model_A. If you want to avoid that, you need to clone model_A before you reuse its layers. To do this, you must clone model_A’s architecture, then copy its weights (since clone_model() does not clone the weights):"
      ]
    },
    {
      "cell_type": "code",
      "metadata": {
        "id": "HZHT9Tk5FSbV",
        "colab_type": "code",
        "colab": {}
      },
      "source": [
        "model_A_clone = keras.models.clone_model(model_A)\n",
        "model_A_clone.set_weights(model_A.get_weights())"
      ],
      "execution_count": 0,
      "outputs": []
    },
    {
      "cell_type": "markdown",
      "metadata": {
        "id": "kweuYeWDGl6J",
        "colab_type": "text"
      },
      "source": [
        "Now we could just train model_B_on_A for task B, but since the new output layer was initialized randomly, it will make large errors, at least during the first few epochs, so there will be large error gradients that may wreck the reused weights. \n",
        "\n",
        "To avoid this, one approach is to freeze the reused layers during the first few epochs, giving the new layer some time to learn reasonable weights. To do this, simply set every layer’s train able attribute to False and compile the model:"
      ]
    },
    {
      "cell_type": "code",
      "metadata": {
        "id": "Ej9LZHEWFeks",
        "colab_type": "code",
        "colab": {}
      },
      "source": [
        "for layer in model_B_on_A.layers[:-1]:\n",
        "  layer.trainable = False\n",
        "\n",
        "model_B_on_A.compile(loss='binary_crossentropy', optimizer='sgd', metrics=['accuracy'])"
      ],
      "execution_count": 0,
      "outputs": []
    },
    {
      "cell_type": "markdown",
      "metadata": {
        "id": "qMPkGtvQHThh",
        "colab_type": "text"
      },
      "source": [
        "Next, we can train the model for a few epochs, then unfreeze the reused layers (which requires compiling the model again) and continue training to fine-tune the reused layers for task B. After unfreezing the reused layers, it is usually a good idea to reduce the learning rate, once again to avoid damaging the reused weights:"
      ]
    },
    {
      "cell_type": "code",
      "metadata": {
        "id": "dEyeyYQ3HOxc",
        "colab_type": "code",
        "colab": {
          "base_uri": "https://localhost:8080/",
          "height": 764
        },
        "outputId": "3aec1769-41df-4b6b-8984-1c9884ee7cd6"
      },
      "source": [
        "history_B_on_A = model_B_on_A.fit(X_train_B, y_train_B, epochs=4, validation_data=(X_valid_B, y_valid_B))\n",
        "\n",
        "for layer in model_B_on_A.layers[:-1]:\n",
        "  layer.trainable = True\n",
        "\n",
        "model_B_on_A.compile(loss='binary_crossentropy', optimizer=SGD(learning_rate=1e-6), metrics=['accuracy'])\n",
        "\n",
        "history_B_on_A = model_B_on_A.fit(X_train_B, y_train_B, epochs=16, validation_data=(X_valid_B, y_valid_B))"
      ],
      "execution_count": 92,
      "outputs": [
        {
          "output_type": "stream",
          "text": [
            "Train on 200 samples, validate on 986 samples\n",
            "Epoch 1/4\n",
            "200/200 [==============================] - 0s 643us/sample - loss: nan - accuracy: 0.0950 - val_loss: nan - val_accuracy: 0.5000\n",
            "Epoch 2/4\n",
            "200/200 [==============================] - 0s 529us/sample - loss: nan - accuracy: 0.0950 - val_loss: nan - val_accuracy: 0.5000\n",
            "Epoch 3/4\n",
            "200/200 [==============================] - 0s 535us/sample - loss: nan - accuracy: 0.0950 - val_loss: nan - val_accuracy: 0.5000\n",
            "Epoch 4/4\n",
            "200/200 [==============================] - 0s 528us/sample - loss: nan - accuracy: 0.0950 - val_loss: nan - val_accuracy: 0.5000\n",
            "Train on 200 samples, validate on 986 samples\n",
            "Epoch 1/16\n",
            "200/200 [==============================] - 1s 4ms/sample - loss: nan - accuracy: 0.0950 - val_loss: nan - val_accuracy: 0.5000\n",
            "Epoch 2/16\n",
            "200/200 [==============================] - 0s 546us/sample - loss: nan - accuracy: 0.0950 - val_loss: nan - val_accuracy: 0.5000\n",
            "Epoch 3/16\n",
            "200/200 [==============================] - 0s 545us/sample - loss: nan - accuracy: 0.0950 - val_loss: nan - val_accuracy: 0.5000\n",
            "Epoch 4/16\n",
            "200/200 [==============================] - 0s 552us/sample - loss: nan - accuracy: 0.0950 - val_loss: nan - val_accuracy: 0.5000\n",
            "Epoch 5/16\n",
            "200/200 [==============================] - 0s 552us/sample - loss: nan - accuracy: 0.0950 - val_loss: nan - val_accuracy: 0.5000\n",
            "Epoch 6/16\n",
            "200/200 [==============================] - 0s 554us/sample - loss: nan - accuracy: 0.0950 - val_loss: nan - val_accuracy: 0.5000\n",
            "Epoch 7/16\n",
            "200/200 [==============================] - 0s 587us/sample - loss: nan - accuracy: 0.0950 - val_loss: nan - val_accuracy: 0.5000\n",
            "Epoch 8/16\n",
            "200/200 [==============================] - 0s 535us/sample - loss: nan - accuracy: 0.0950 - val_loss: nan - val_accuracy: 0.5000\n",
            "Epoch 9/16\n",
            "200/200 [==============================] - 0s 557us/sample - loss: nan - accuracy: 0.0950 - val_loss: nan - val_accuracy: 0.5000\n",
            "Epoch 10/16\n",
            "200/200 [==============================] - 0s 521us/sample - loss: nan - accuracy: 0.0950 - val_loss: nan - val_accuracy: 0.5000\n",
            "Epoch 11/16\n",
            "200/200 [==============================] - 0s 522us/sample - loss: nan - accuracy: 0.0950 - val_loss: nan - val_accuracy: 0.5000\n",
            "Epoch 12/16\n",
            "200/200 [==============================] - 0s 541us/sample - loss: nan - accuracy: 0.0950 - val_loss: nan - val_accuracy: 0.5000\n",
            "Epoch 13/16\n",
            "200/200 [==============================] - 0s 584us/sample - loss: nan - accuracy: 0.0950 - val_loss: nan - val_accuracy: 0.5000\n",
            "Epoch 14/16\n",
            "200/200 [==============================] - 0s 544us/sample - loss: nan - accuracy: 0.0950 - val_loss: nan - val_accuracy: 0.5000\n",
            "Epoch 15/16\n",
            "200/200 [==============================] - 0s 512us/sample - loss: nan - accuracy: 0.0950 - val_loss: nan - val_accuracy: 0.5000\n",
            "Epoch 16/16\n",
            "200/200 [==============================] - 0s 565us/sample - loss: nan - accuracy: 0.0950 - val_loss: nan - val_accuracy: 0.5000\n"
          ],
          "name": "stdout"
        }
      ]
    },
    {
      "cell_type": "code",
      "metadata": {
        "id": "c4yUawCPIvVR",
        "colab_type": "code",
        "colab": {
          "base_uri": "https://localhost:8080/",
          "height": 302
        },
        "outputId": "4e88d2f8-13d2-4b19-bf09-5e0b4ae1cd96"
      },
      "source": [
        "# Plotting the training and validation loss\n",
        "loss = history_B_on_A.history['loss']\n",
        "val_loss = history_B_on_A.history['val_loss']\n",
        "\n",
        "epochs = range(1, len(loss) + 1)\n",
        "\n",
        "plt.plot(epochs, loss, 'bo-', label='Training loss')\n",
        "plt.plot(epochs, val_loss, 'b--', label='Validation loss')\n",
        "plt.title('Training and validation loss on Model A on B')\n",
        "plt.xlabel('Epochs')\n",
        "plt.ylabel('Loss')\n",
        "plt.legend()\n",
        "\n",
        "plt.show()"
      ],
      "execution_count": 93,
      "outputs": [
        {
          "output_type": "display_data",
          "data": {
            "image/png": "[encoded data removed]",
            "text/plain": [
              "<Figure size 432x288 with 1 Axes>"
            ]
          },
          "metadata": {
            "tags": []
          }
        }
      ]
    },
    {
      "cell_type": "markdown",
      "metadata": {
        "id": "PuMQ-ZdaJMcj",
        "colab_type": "text"
      },
      "source": [
        "So, what’s the final verdict? Well this model’s test accuracy is 99.25%, which means that transfer learning reduced the error rate from 2.8% down to almost 0.7%! That’s a factor of 4!"
      ]
    },
    {
      "cell_type": "code",
      "metadata": {
        "id": "QHI63vqCI9lD",
        "colab_type": "code",
        "colab": {
          "base_uri": "https://localhost:8080/",
          "height": 35
        },
        "outputId": "821a201a-9531-4fbd-8456-de6e3f862e19"
      },
      "source": [
        "model_B_on_A.evaluate(X_test_B, y_test_B, verbose=0)"
      ],
      "execution_count": 51,
      "outputs": [
        {
          "output_type": "execute_result",
          "data": {
            "text/plain": [
              "[nan, 0.5]"
            ]
          },
          "metadata": {
            "tags": []
          },
          "execution_count": 51
        }
      ]
    },
    {
      "cell_type": "code",
      "metadata": {
        "id": "31nSVt7WQ6q_",
        "colab_type": "code",
        "colab": {
          "base_uri": "https://localhost:8080/",
          "height": 35
        },
        "outputId": "d2e3898d-b0a9-4126-adb7-2ab28824eb51"
      },
      "source": [
        "model_B_on_A.evaluate(X_test_B, y_test_B, verbose=0)"
      ],
      "execution_count": 95,
      "outputs": [
        {
          "output_type": "execute_result",
          "data": {
            "text/plain": [
              "[nan, 0.5]"
            ]
          },
          "metadata": {
            "tags": []
          },
          "execution_count": 95
        }
      ]
    },
    {
      "cell_type": "markdown",
      "metadata": {
        "id": "ZMCQrRyUQjGn",
        "colab_type": "text"
      },
      "source": [
        "Are you convinced? Well you shouldn’t be: I cheated! :) I tried many configurations until I found one that demonstrated a strong improvement. If you try to change the classes or the random seed, you will see that the improvement generally drops, or even vanishes or reverses. What I did is called “torturing the data until it confesses”.\n",
        "\n",
        "Well it turns out that transfer learning does not work very well\n",
        "with small dense networks: it works best with deep convolutional neural networks."
      ]
    }
  ]
}