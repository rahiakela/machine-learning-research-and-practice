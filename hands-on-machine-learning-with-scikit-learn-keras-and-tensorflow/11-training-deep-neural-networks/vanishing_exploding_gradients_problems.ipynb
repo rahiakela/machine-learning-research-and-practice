{
  "nbformat": 4,
  "nbformat_minor": 0,
  "metadata": {
    "colab": {
      "name": "vanishing-exploding-gradients-problems.ipynb",
      "provenance": [],
      "toc_visible": true,
      "include_colab_link": true
    },
    "kernelspec": {
      "name": "python3",
      "display_name": "Python 3"
    }
  },
  "cells": [
    {
      "cell_type": "markdown",
      "metadata": {
        "id": "view-in-github",
        "colab_type": "text"
      },
      "source": [
        "<a href=\"https://colab.research.google.com/github/rahiakela/hands-on-machine-learning-with-scikit-learn-keras-and-tensorflow/blob/11-training-deep-neural-networks/vanishing_exploding_gradients_problems.ipynb\" target=\"_parent\"><img src=\"https://colab.research.google.com/assets/colab-badge.svg\" alt=\"Open In Colab\"/></a>"
      ]
    },
    {
      "cell_type": "markdown",
      "metadata": {
        "id": "y8_A5Z6sAb41",
        "colab_type": "text"
      },
      "source": [
        "# Vanishing/Exploding Gradients Problems"
      ]
    },
    {
      "cell_type": "markdown",
      "metadata": {
        "id": "V2Wz6EiyA0VI",
        "colab_type": "text"
      },
      "source": [
        "You may need to train a much deeper DNN, perhaps with 10 layers or many more, each containing hundreds of neurons, linked by hundreds of thousands of connections. Training a deep DNN isn’t a walk in the park. Here are some of the problems you could run into:\n",
        "\n",
        "* You may be faced with the tricky vanishing gradients problem or the related exploding gradients problem. This is when the gradients grow smaller and smaller, or larger and larger, when flowing backward through the DNN during training. Both of these problems make lower layers very hard to train.\n",
        "* You might not have enough training data for such a large network, or it might be too costly to label.\n",
        "* Training may be extremely slow.\n",
        "* A model with millions of parameters would severely risk overfitting the training set, especially if there are not enough training instances or if they are too noisy."
      ]
    },
    {
      "cell_type": "markdown",
      "metadata": {
        "id": "F8pTUm7gBfsk",
        "colab_type": "text"
      },
      "source": [
        "## Setup"
      ]
    },
    {
      "cell_type": "code",
      "metadata": {
        "id": "ntT3XiNXBhBg",
        "colab_type": "code",
        "outputId": "ae59bb06-1c43-42d7-b857-fa4147cc410f",
        "colab": {
          "base_uri": "https://localhost:8080/",
          "height": 35
        }
      },
      "source": [
        "import sys\n",
        "assert sys.version_info >= (3, 5)  # Python ≥3.5 is required\n",
        "\n",
        "import sklearn \n",
        "assert sklearn.__version__ >= \"0.20\"  # Scikit-Learn ≥0.20 is required\n",
        "\n",
        "# %tensorflow_version only exists in Colab.\n",
        "try:\n",
        "  %tensorflow_version 2.x\n",
        "except Exception:\n",
        "  pass\n",
        "\n",
        "# TensorFlow ≥2.0 is required\n",
        "import tensorflow as tf\n",
        "from tensorflow import keras\n",
        "assert tf.__version__ >= '2.0'\n",
        "\n",
        "# Common imports\n",
        "import numpy as np\n",
        "import os\n",
        "\n",
        "# to make this notebook's output stable across runs\n",
        "np.random.seed(42)\n",
        "\n",
        "# To plot pretty figures\n",
        "%matplotlib inline\n",
        "import matplotlib as mpl\n",
        "import matplotlib.pyplot as plt\n",
        "mpl.rc('axes', labelsize=14)\n",
        "mpl.rc('xtick', labelsize=12)\n",
        "mpl.rc('ytick', labelsize=12)"
      ],
      "execution_count": 1,
      "outputs": [
        {
          "output_type": "stream",
          "text": [
            "TensorFlow 2.x selected.\n"
          ],
          "name": "stdout"
        }
      ]
    },
    {
      "cell_type": "markdown",
      "metadata": {
        "id": "85MFnW9KEBqm",
        "colab_type": "text"
      },
      "source": [
        "## Vanishing/Exploding Gradients Problem"
      ]
    },
    {
      "cell_type": "markdown",
      "metadata": {
        "id": "_DdCraTzECo_",
        "colab_type": "text"
      },
      "source": [
        "Unfortunately, gradients often get smaller and smaller as the algorithm progresses down to the lower layers. As a result, the Gradient Descent update leaves the lower layers’ connection weights virtually unchanged, and training never converges to a good solution. We call this the vanishing gradients problem. \n",
        "\n",
        "In some cases, the opposite can happen: the gradients can grow bigger and bigger until layers get insanely large weight updates and the algorithm diverges. This is the exploding gradients problem, which surfaces in recurrent neural networks.\n",
        "\n",
        "This unfortunate behavior was empirically observed long ago, and it was one of the reasons deep neural networks were mostly abandoned in the early 2000s. It wasn’t clear what caused the gradients to be so unstable when training a DNN, but some light was shed in a 2010 paper by Xavier Glorot and Yoshua Bengio. \n",
        "\n",
        "The authors found a few suspects, including the combination of the popular logistic sigmoid activation function and the weight initialization technique that was most popular at the time (i.e., a normal distribution with a mean of 0 and a standard deviation of 1). In short, they showed that with this activation function and this initialization scheme, the variance of the outputs of each layer is much greater than the variance of its inputs. \n",
        "\n",
        "Going forward in the network, the variance keeps increasing after each layer until the activation function saturates at the top layers. This saturation is actually made worse by the fact that the logistic function has a mean of 0.5, not 0 (the hyperbolic tangent function has a mean of 0 and behaves slightly better than the logistic function in deep networks)."
      ]
    },
    {
      "cell_type": "markdown",
      "metadata": {
        "id": "z3Fw_qRjJimI",
        "colab_type": "text"
      },
      "source": [
        "### Logistic activation function saturation"
      ]
    },
    {
      "cell_type": "markdown",
      "metadata": {
        "id": "8cTrLKr2Jj-e",
        "colab_type": "text"
      },
      "source": [
        "Looking at the logistic activation function, you can see that when inputs become large (negative or positive), the function saturates at 0 or 1, with a derivative extremely close to 0. Thus, when backpropagation kicks in it has virtually no gradient to propagate back through the network; and what little gradient exists keeps getting diluted as backpropagation progresses down through the top layers,so there is really nothing left for the lower layers."
      ]
    },
    {
      "cell_type": "code",
      "metadata": {
        "id": "sxxLy-tODG7s",
        "colab_type": "code",
        "colab": {}
      },
      "source": [
        "def sigmoid(z):\n",
        "  return 1 / (1 + np.exp(-z))"
      ],
      "execution_count": 0,
      "outputs": []
    },
    {
      "cell_type": "code",
      "metadata": {
        "id": "cUeWGnYmFxPR",
        "colab_type": "code",
        "outputId": "a7b2a47c-21f1-4407-9cbd-cf2745ab1af6",
        "colab": {
          "base_uri": "https://localhost:8080/",
          "height": 285
        }
      },
      "source": [
        "z = np.linspace(-5, 5, 200)\n",
        "\n",
        "plt.plot([-5, 5], [0, 0], 'k-')         # lower solid black line\n",
        "plt.plot([-5, 5], [1, 1], 'k--')        # upper dashed black line\n",
        "\n",
        "plt.plot([0, 0], [-0.2, 1.2], 'k-')     # zero divider black line\n",
        "plt.plot([-5, 5], [-3/4, 7/4], 'g--')   # green dashed line\n",
        "\n",
        "plt.plot(z, sigmoid(z), 'b-', linewidth=2)\n",
        "\n",
        "props = dict(facecolor='red', shrink=0.1)\n",
        "plt.annotate('Saturating', xytext=(3.5, 0.7), xy=(5, 1), arrowprops=props, fontsize=14, ha='center')\n",
        "plt.annotate('Saturating', xytext=(-3.5, 0.3), xy=(-5, 0), arrowprops=props, fontsize=14, ha='center')\n",
        "plt.annotate('Linear', xytext=(2, 0.2), xy=(0, 0.5), arrowprops=props, fontsize=14, ha='center')\n",
        "\n",
        "plt.grid(True)\n",
        "plt.title('Sigmoid activation function', fontsize=14)\n",
        "plt.axis([-5, 5, -0.2, 1.2])\n",
        "\n",
        "plt.show()"
      ],
      "execution_count": 3,
      "outputs": [
        {
          "output_type": "display_data",
          "data": {
            "image/png": "[encoded data removed]",
            "text/plain": [
              "<Figure size 432x288 with 1 Axes>"
            ]
          },
          "metadata": {
            "tags": []
          }
        }
      ]
    },
    {
      "cell_type": "markdown",
      "metadata": {
        "id": "Nnqc-WzhJ0zO",
        "colab_type": "text"
      },
      "source": [
        "### Glorot and He Initialization"
      ]
    },
    {
      "cell_type": "markdown",
      "metadata": {
        "id": "49D3a4f0J1zY",
        "colab_type": "text"
      },
      "source": [
        "Glorot and Bengio propose a way to significantly alleviate the unstable gradients problem. They point out that we need the signal to flow properly in both directions: in the forward direction when making predictions, and in the reverse direction when backpropagating gradients. We don’t want the signal to die out, nor do we want it to explode and saturate. \n",
        "\n",
        "For the signal to flow properly, the authors argue that we need the variance of the outputs of each layer to be equal to the variance of its inputs, 2 and we need the gradients to have equal variance before and after flowing through a layer in the reverse direction.\n",
        "\n",
        "is actually not possible to guarantee both unless the layer has an equal number of inputs and neurons (these numbers are called the fan-in and fan-out of the layer), but Glorot and Bengio proposed a good compromise that has proven to work very well in practice: the connection weights of each layer must be initialized randomly.\n",
        "\n",
        "This initialization strategy is called Xavier initialization or Glorot initialization , after the paper’s first author.\n",
        "\n",
        "By default, Keras uses Glorot initialization with a uniform distribution. When creating a layer, you can change this to He initialization by setting kernel_initializer=\"he_uniform\" or kernel_initializer=\"he_normal\" like this:"
      ]
    },
    {
      "cell_type": "code",
      "metadata": {
        "id": "Cdo25h7xIwFr",
        "colab_type": "code",
        "outputId": "9924428c-dc6e-4102-fd19-ce4cd811a074",
        "colab": {
          "base_uri": "https://localhost:8080/",
          "height": 479
        }
      },
      "source": [
        "[name for name in dir(keras.initializers) if not name.startswith('_')]"
      ],
      "execution_count": 4,
      "outputs": [
        {
          "output_type": "execute_result",
          "data": {
            "text/plain": [
              "['Constant',\n",
              " 'GlorotNormal',\n",
              " 'GlorotUniform',\n",
              " 'Identity',\n",
              " 'Initializer',\n",
              " 'Ones',\n",
              " 'Orthogonal',\n",
              " 'RandomNormal',\n",
              " 'RandomUniform',\n",
              " 'TruncatedNormal',\n",
              " 'VarianceScaling',\n",
              " 'Zeros',\n",
              " 'constant',\n",
              " 'deserialize',\n",
              " 'get',\n",
              " 'glorot_normal',\n",
              " 'glorot_uniform',\n",
              " 'he_normal',\n",
              " 'he_uniform',\n",
              " 'identity',\n",
              " 'lecun_normal',\n",
              " 'lecun_uniform',\n",
              " 'ones',\n",
              " 'orthogonal',\n",
              " 'serialize',\n",
              " 'zeros']"
            ]
          },
          "metadata": {
            "tags": []
          },
          "execution_count": 4
        }
      ]
    },
    {
      "cell_type": "code",
      "metadata": {
        "id": "brqYbWdbLfsO",
        "colab_type": "code",
        "outputId": "693e47c6-fc6e-4827-ce08-81c2cef122a9",
        "colab": {
          "base_uri": "https://localhost:8080/",
          "height": 35
        }
      },
      "source": [
        "keras.layers.Dense(10, activation='relu', kernel_initializer='he_normal')"
      ],
      "execution_count": 5,
      "outputs": [
        {
          "output_type": "execute_result",
          "data": {
            "text/plain": [
              "<tensorflow.python.keras.layers.core.Dense at 0x7f3a4430c320>"
            ]
          },
          "metadata": {
            "tags": []
          },
          "execution_count": 5
        }
      ]
    },
    {
      "cell_type": "markdown",
      "metadata": {
        "id": "_j0IMa2OL9EQ",
        "colab_type": "text"
      },
      "source": [
        "If you want He initialization with a uniform distribution but based on fan avg rather than fan in , you can use the VarianceScaling initializer like this:"
      ]
    },
    {
      "cell_type": "code",
      "metadata": {
        "id": "CZrUxC2HLzZg",
        "colab_type": "code",
        "outputId": "d2ea4240-027d-4431-ce73-4aee13120842",
        "colab": {
          "base_uri": "https://localhost:8080/",
          "height": 35
        }
      },
      "source": [
        "init = keras.initializers.VarianceScaling(scale=2., mode='fan_avg', distribution='uniform')\n",
        "keras.layers.Dense(10, activation='relu', kernel_initializer=init)"
      ],
      "execution_count": 6,
      "outputs": [
        {
          "output_type": "execute_result",
          "data": {
            "text/plain": [
              "<tensorflow.python.keras.layers.core.Dense at 0x7f3a0395f390>"
            ]
          },
          "metadata": {
            "tags": []
          },
          "execution_count": 6
        }
      ]
    },
    {
      "cell_type": "markdown",
      "metadata": {
        "id": "xgIN_OwiNDUl",
        "colab_type": "text"
      },
      "source": [
        "### Nonsaturating Activation Functions"
      ]
    },
    {
      "cell_type": "markdown",
      "metadata": {
        "id": "Z5sZo2MuNE1I",
        "colab_type": "text"
      },
      "source": [
        "One of the insights in the 2010 paper by Glorot and Bengio was that the problems with unstable gradients were in part due to a poor choice of activation function. Until then most people had assumed that if Mother Nature had chosen to use roughly sigmoid activation functions in biological neurons, they must be an excellent choice. But it turns out that other activation functions behave much better in deep neural networks—in particular, the ReLU activation function, mostly because it does not saturate for positive values (and because it is fast to compute).\n",
        "\n",
        "Unfortunately, the ReLU activation function is not perfect. It suffers from a problem known as the dying ReLUs : during training, some neurons effectively “die,” meaning they stop outputting anything other than 0. \n",
        "\n",
        "In some cases, you may find that half of your network’s neurons are dead, especially if you used a large learning rate. \n",
        "\n",
        "A neuron dies when its weights get tweaked in such a way that the weighted sum of its inputs are negative for all instances in the training set. When this happens, it just keeps outputting zeros, and Gradient Descent does not affect it anymore because the gradient of the ReLU function is zero when its input is negative."
      ]
    },
    {
      "cell_type": "markdown",
      "metadata": {
        "id": "V_1KOjfarr88",
        "colab_type": "text"
      },
      "source": [
        "#### LeakyReLU"
      ]
    },
    {
      "cell_type": "markdown",
      "metadata": {
        "id": "tq-igf9YrtkK",
        "colab_type": "text"
      },
      "source": [
        "To solve this problem, you may want to use a variant of the ReLU function, such as the leaky ReLU . This function is defined as LeakyReLU α(z) = max(αz,z). The hyperparameter α defines how much the function “leaks”: it is the slope of the function for z < 0 and is typically set to 0.01. This small slope ensures that leaky ReLUs never die; they can go into a long coma, but they have a chance to eventually wake up."
      ]
    },
    {
      "cell_type": "code",
      "metadata": {
        "id": "15w-1jfrMaiA",
        "colab_type": "code",
        "colab": {}
      },
      "source": [
        "def leaky_relu(z, alpha=0.01):\n",
        "  return np.maximum(alpha * z, z)"
      ],
      "execution_count": 0,
      "outputs": []
    },
    {
      "cell_type": "code",
      "metadata": {
        "id": "SpShzNTQPmEq",
        "colab_type": "code",
        "outputId": "95d173a5-1fe8-4a47-db2d-cb2a1bdb8c00",
        "colab": {
          "base_uri": "https://localhost:8080/",
          "height": 285
        }
      },
      "source": [
        "plt.plot(z, leaky_relu(z, 0.05), \"b-\", linewidth=2)\n",
        "\n",
        "plt.plot([-5, 5], [0, 0], 'k-')\n",
        "plt.plot([0, 0], [-0.5, 4.2], 'k-')\n",
        "plt.grid(True)\n",
        "\n",
        "props = dict(facecolor='black', shrink=0.1)\n",
        "plt.annotate('Leak', xytext=(-3.5, 0.5), xy=(-5, -0.2), arrowprops=props, fontsize=14, ha=\"center\")\n",
        "plt.title(\"Leaky ReLU activation function\", fontsize=14)\n",
        "plt.axis([-5, 5, -0.5, 4.2])\n",
        "\n",
        "plt.show()"
      ],
      "execution_count": 8,
      "outputs": [
        {
          "output_type": "display_data",
          "data": {
            "image/png": "[encoded data removed]",
            "text/plain": [
              "<Figure size 432x288 with 1 Axes>"
            ]
          },
          "metadata": {
            "tags": []
          }
        }
      ]
    },
    {
      "cell_type": "code",
      "metadata": {
        "id": "qVTY53LvQ8T_",
        "colab_type": "code",
        "outputId": "5ba33074-9a8c-4d9a-d41f-ba06ebc49a3b",
        "colab": {
          "base_uri": "https://localhost:8080/",
          "height": 266
        }
      },
      "source": [
        "[name for name in dir(keras.activations) if not name.startswith('_')]"
      ],
      "execution_count": 9,
      "outputs": [
        {
          "output_type": "execute_result",
          "data": {
            "text/plain": [
              "['deserialize',\n",
              " 'elu',\n",
              " 'exponential',\n",
              " 'get',\n",
              " 'hard_sigmoid',\n",
              " 'linear',\n",
              " 'relu',\n",
              " 'selu',\n",
              " 'serialize',\n",
              " 'sigmoid',\n",
              " 'softmax',\n",
              " 'softplus',\n",
              " 'softsign',\n",
              " 'tanh']"
            ]
          },
          "metadata": {
            "tags": []
          },
          "execution_count": 9
        }
      ]
    },
    {
      "cell_type": "code",
      "metadata": {
        "id": "qV1RNLjVRPdz",
        "colab_type": "code",
        "outputId": "efc22840-9676-4dc3-fc11-be9163c83bbc",
        "colab": {
          "base_uri": "https://localhost:8080/",
          "height": 35
        }
      },
      "source": [
        "[m for m in dir(keras.layers) if \"relu\" in m.lower()]"
      ],
      "execution_count": 10,
      "outputs": [
        {
          "output_type": "execute_result",
          "data": {
            "text/plain": [
              "['LeakyReLU', 'PReLU', 'ReLU', 'ThresholdedReLU']"
            ]
          },
          "metadata": {
            "tags": []
          },
          "execution_count": 10
        }
      ]
    },
    {
      "cell_type": "markdown",
      "metadata": {
        "id": "z2snY35nSKSQ",
        "colab_type": "text"
      },
      "source": [
        "Let's train a neural network on Fashion MNIST using the Leaky ReLU:"
      ]
    },
    {
      "cell_type": "code",
      "metadata": {
        "id": "e6jVpb8-R6Rr",
        "colab_type": "code",
        "colab": {
          "base_uri": "https://localhost:8080/",
          "height": 159
        },
        "outputId": "bae03826-4522-457e-b31d-8558fff899ab"
      },
      "source": [
        "(X_train_full, y_train_full), (X_test, y_test) = keras.datasets.fashion_mnist.load_data()\n",
        "\n",
        "X_train_full = X_train_full / 255.\n",
        "X_test = X_test / 255.\n",
        "\n",
        "X_valid, X_train = X_train_full[:5000], X_train_full[5000:]\n",
        "y_valid, y_train = y_train_full[:5000], y_train_full[5000:]"
      ],
      "execution_count": 11,
      "outputs": [
        {
          "output_type": "stream",
          "text": [
            "Downloading data from https://storage.googleapis.com/tensorflow/tf-keras-datasets/train-labels-idx1-ubyte.gz\n",
            "32768/29515 [=================================] - 0s 0us/step\n",
            "Downloading data from https://storage.googleapis.com/tensorflow/tf-keras-datasets/train-images-idx3-ubyte.gz\n",
            "26427392/26421880 [==============================] - 0s 0us/step\n",
            "Downloading data from https://storage.googleapis.com/tensorflow/tf-keras-datasets/t10k-labels-idx1-ubyte.gz\n",
            "8192/5148 [===============================================] - 0s 0us/step\n",
            "Downloading data from https://storage.googleapis.com/tensorflow/tf-keras-datasets/t10k-images-idx3-ubyte.gz\n",
            "4423680/4422102 [==============================] - 0s 0us/step\n"
          ],
          "name": "stdout"
        }
      ]
    },
    {
      "cell_type": "code",
      "metadata": {
        "id": "vxNBnZWckjPv",
        "colab_type": "code",
        "colab": {}
      },
      "source": [
        "tf.random.set_seed(42)\n",
        "np.random.seed(42)\n",
        "\n",
        "model = keras.Sequential([\n",
        "    keras.layers.Flatten(input_shape=[28, 28]),\n",
        "    keras.layers.Dense(300, kernel_initializer='he_normal'),\n",
        "    keras.layers.LeakyReLU(),\n",
        "    keras.layers.Dense(100, kernel_initializer='he_normal'),\n",
        "    keras.layers.LeakyReLU(),\n",
        "    keras.layers.Dense(10, activation='softmax')\n",
        "])"
      ],
      "execution_count": 0,
      "outputs": []
    },
    {
      "cell_type": "code",
      "metadata": {
        "id": "Liqm-zx3m4Zk",
        "colab_type": "code",
        "outputId": "3bacc907-80dc-48d7-8dee-2b7d87b2869b",
        "colab": {
          "base_uri": "https://localhost:8080/",
          "height": 390
        }
      },
      "source": [
        "model.compile(loss='sparse_categorical_crossentropy', optimizer=keras.optimizers.SGD(learning_rate=1e-3), metrics=['accuracy'])\n",
        "history = model.fit(X_train, y_train, epochs=10, validation_data=(X_valid, y_valid))"
      ],
      "execution_count": 13,
      "outputs": [
        {
          "output_type": "stream",
          "text": [
            "Train on 55000 samples, validate on 5000 samples\n",
            "Epoch 1/10\n",
            "55000/55000 [==============================] - 7s 125us/sample - loss: 1.2806 - accuracy: 0.6250 - val_loss: 0.8882 - val_accuracy: 0.7150\n",
            "Epoch 2/10\n",
            "55000/55000 [==============================] - 6s 110us/sample - loss: 0.7954 - accuracy: 0.7373 - val_loss: 0.7135 - val_accuracy: 0.7648\n",
            "Epoch 3/10\n",
            "55000/55000 [==============================] - 6s 117us/sample - loss: 0.6816 - accuracy: 0.7726 - val_loss: 0.6355 - val_accuracy: 0.7882\n",
            "Epoch 4/10\n",
            "55000/55000 [==============================] - 6s 114us/sample - loss: 0.6215 - accuracy: 0.7935 - val_loss: 0.5922 - val_accuracy: 0.8010\n",
            "Epoch 5/10\n",
            "55000/55000 [==============================] - 6s 113us/sample - loss: 0.5830 - accuracy: 0.8082 - val_loss: 0.5596 - val_accuracy: 0.8170\n",
            "Epoch 6/10\n",
            "55000/55000 [==============================] - 7s 127us/sample - loss: 0.5553 - accuracy: 0.8155 - val_loss: 0.5339 - val_accuracy: 0.8238\n",
            "Epoch 7/10\n",
            "55000/55000 [==============================] - 7s 123us/sample - loss: 0.5341 - accuracy: 0.8221 - val_loss: 0.5157 - val_accuracy: 0.8314\n",
            "Epoch 8/10\n",
            "55000/55000 [==============================] - 6s 115us/sample - loss: 0.5172 - accuracy: 0.8266 - val_loss: 0.5035 - val_accuracy: 0.8340\n",
            "Epoch 9/10\n",
            "55000/55000 [==============================] - 6s 117us/sample - loss: 0.5036 - accuracy: 0.8297 - val_loss: 0.4950 - val_accuracy: 0.8354\n",
            "Epoch 10/10\n",
            "55000/55000 [==============================] - 6s 117us/sample - loss: 0.4922 - accuracy: 0.8324 - val_loss: 0.4797 - val_accuracy: 0.8426\n"
          ],
          "name": "stdout"
        }
      ]
    },
    {
      "cell_type": "code",
      "metadata": {
        "id": "qR3sPhYep0Lm",
        "colab_type": "code",
        "outputId": "4aac53fa-8248-4fbc-dbda-443e4bcb2ecc",
        "colab": {
          "base_uri": "https://localhost:8080/",
          "height": 302
        }
      },
      "source": [
        "# Plotting the training and validation loss\n",
        "loss = history.history['loss']\n",
        "val_loss = history.history['val_loss']\n",
        "\n",
        "epochs = range(1, len(loss) + 1)\n",
        "\n",
        "plt.plot(epochs, loss, 'bo-', label='Training loss')\n",
        "plt.plot(epochs, val_loss, 'b--', label='Validation loss')\n",
        "plt.title('Training and validation loss on LeakyReLU')\n",
        "plt.xlabel('Epochs')\n",
        "plt.ylabel('Loss')\n",
        "plt.legend()\n",
        "\n",
        "plt.show()"
      ],
      "execution_count": 14,
      "outputs": [
        {
          "output_type": "display_data",
          "data": {
            "image/png": "[encoded data removed]",
            "text/plain": [
              "<Figure size 432x288 with 1 Axes>"
            ]
          },
          "metadata": {
            "tags": []
          }
        }
      ]
    },
    {
      "cell_type": "markdown",
      "metadata": {
        "id": "Km7ek0kvra3o",
        "colab_type": "text"
      },
      "source": [
        "#### PReLU"
      ]
    },
    {
      "cell_type": "markdown",
      "metadata": {
        "id": "asXvyEQBnoen",
        "colab_type": "text"
      },
      "source": [
        "Finally, the paper evaluated the parametric leaky ReLU (PReLU), where α is authorized to be learned during training (instead of being a hyperparameter, it becomes a parameter that can be modified by backpropagation like any other parameter). PReLU was reported to strongly outperform ReLU on large image datasets, but on smaller datasets it runs the risk of overfitting the training set.\n",
        "\n",
        "Now let's try PReLU:"
      ]
    },
    {
      "cell_type": "code",
      "metadata": {
        "id": "QylQ_sxwnYgj",
        "colab_type": "code",
        "outputId": "bce0fe4a-6568-4aea-e589-ad99e8374b43",
        "colab": {
          "base_uri": "https://localhost:8080/",
          "height": 390
        }
      },
      "source": [
        "tf.random.set_seed(42)\n",
        "np.random.seed(42)\n",
        "\n",
        "model = keras.Sequential([\n",
        "    keras.layers.Flatten(input_shape=[28, 28]),\n",
        "    keras.layers.Dense(300, kernel_initializer='he_normal'),\n",
        "    keras.layers.PReLU(),\n",
        "    keras.layers.Dense(100, kernel_initializer='he_normal'),\n",
        "    keras.layers.PReLU(),\n",
        "    keras.layers.Dense(10, activation='softmax')\n",
        "])\n",
        "\n",
        "model.compile(loss='sparse_categorical_crossentropy', optimizer=keras.optimizers.SGD(learning_rate=1e-3), metrics=['accuracy'])\n",
        "history_1 = model.fit(X_train, y_train, epochs=10, validation_data=(X_valid, y_valid))"
      ],
      "execution_count": 15,
      "outputs": [
        {
          "output_type": "stream",
          "text": [
            "Train on 55000 samples, validate on 5000 samples\n",
            "Epoch 1/10\n",
            "55000/55000 [==============================] - 8s 138us/sample - loss: 1.3470 - accuracy: 0.6225 - val_loss: 0.9268 - val_accuracy: 0.7200\n",
            "Epoch 2/10\n",
            "55000/55000 [==============================] - 7s 127us/sample - loss: 0.8208 - accuracy: 0.7357 - val_loss: 0.7322 - val_accuracy: 0.7640\n",
            "Epoch 3/10\n",
            "55000/55000 [==============================] - 7s 126us/sample - loss: 0.6972 - accuracy: 0.7697 - val_loss: 0.6494 - val_accuracy: 0.7868\n",
            "Epoch 4/10\n",
            "55000/55000 [==============================] - 7s 124us/sample - loss: 0.6332 - accuracy: 0.7904 - val_loss: 0.6027 - val_accuracy: 0.8024\n",
            "Epoch 5/10\n",
            "55000/55000 [==============================] - 7s 128us/sample - loss: 0.5918 - accuracy: 0.8051 - val_loss: 0.5675 - val_accuracy: 0.8140\n",
            "Epoch 6/10\n",
            "55000/55000 [==============================] - 7s 129us/sample - loss: 0.5619 - accuracy: 0.8140 - val_loss: 0.5393 - val_accuracy: 0.8252\n",
            "Epoch 7/10\n",
            "55000/55000 [==============================] - 7s 128us/sample - loss: 0.5391 - accuracy: 0.8215 - val_loss: 0.5203 - val_accuracy: 0.8304\n",
            "Epoch 8/10\n",
            "55000/55000 [==============================] - 7s 128us/sample - loss: 0.5212 - accuracy: 0.8251 - val_loss: 0.5070 - val_accuracy: 0.8332\n",
            "Epoch 9/10\n",
            "55000/55000 [==============================] - 7s 129us/sample - loss: 0.5067 - accuracy: 0.8288 - val_loss: 0.4971 - val_accuracy: 0.8336\n",
            "Epoch 10/10\n",
            "55000/55000 [==============================] - 7s 134us/sample - loss: 0.4944 - accuracy: 0.8320 - val_loss: 0.4811 - val_accuracy: 0.8418\n"
          ],
          "name": "stdout"
        }
      ]
    },
    {
      "cell_type": "code",
      "metadata": {
        "id": "oxniFb3YqRPp",
        "colab_type": "code",
        "outputId": "9c34cdae-e358-4d15-c1ac-f6f66774d7e5",
        "colab": {
          "base_uri": "https://localhost:8080/",
          "height": 302
        }
      },
      "source": [
        "# Plotting the training and validation loss\n",
        "loss = history_1.history['loss']\n",
        "val_loss = history_1.history['val_loss']\n",
        "\n",
        "epochs = range(1, len(loss) + 1)\n",
        "\n",
        "plt.plot(epochs, loss, 'bo-', label='Training loss')\n",
        "plt.plot(epochs, val_loss, 'b--', label='Validation loss')\n",
        "plt.title('Training and validation loss on PReLU')\n",
        "plt.xlabel('Epochs')\n",
        "plt.ylabel('Loss')\n",
        "plt.legend()\n",
        "\n",
        "plt.show()"
      ],
      "execution_count": 16,
      "outputs": [
        {
          "output_type": "display_data",
          "data": {
            "image/png": "[encoded data removed]",
            "text/plain": [
              "<Figure size 432x288 with 1 Axes>"
            ]
          },
          "metadata": {
            "tags": []
          }
        }
      ]
    },
    {
      "cell_type": "markdown",
      "metadata": {
        "id": "KnHV6XZ9rV-d",
        "colab_type": "text"
      },
      "source": [
        "#### SELU"
      ]
    },
    {
      "cell_type": "markdown",
      "metadata": {
        "id": "IysVB5hxrTE2",
        "colab_type": "text"
      },
      "source": [
        "New activation function called the exponential linear unit (ELU) that outperformed all the ReLU variants in the authors’ experiments: training time was reduced, and the neural network performed better on the test set."
      ]
    },
    {
      "cell_type": "code",
      "metadata": {
        "id": "f9fMH8v7qMDq",
        "colab_type": "code",
        "colab": {}
      },
      "source": [
        "def elu(z, alpha=1):\n",
        "  return np.where(z < 0, alpha * (np.exp(z) -1), z)"
      ],
      "execution_count": 0,
      "outputs": []
    },
    {
      "cell_type": "code",
      "metadata": {
        "id": "ddoUlr9usKc1",
        "colab_type": "code",
        "outputId": "5977ba6a-9469-4578-bccb-a2736bdeef59",
        "colab": {
          "base_uri": "https://localhost:8080/",
          "height": 287
        }
      },
      "source": [
        "plt.plot(z, elu(z), 'b-', linewidth=2)\n",
        "plt.plot([-5, 5], [0, 0], 'k-')\n",
        "plt.plot([-5, 5], [-1, -1], 'g--')\n",
        "plt.plot([0, 0], [-2.2, 3.2], 'k-')\n",
        "plt.grid(True)\n",
        "plt.title(r'ELU activation function ($\\alpha=1$)', fontsize=14)\n",
        "plt.axis([-5, 5, -2.2, 3.2])\n",
        "\n",
        "plt.show()"
      ],
      "execution_count": 18,
      "outputs": [
        {
          "output_type": "display_data",
          "data": {
            "image/png": "[encoded data removed]",
            "text/plain": [
              "<Figure size 432x288 with 1 Axes>"
            ]
          },
          "metadata": {
            "tags": []
          }
        }
      ]
    },
    {
      "cell_type": "markdown",
      "metadata": {
        "id": "jAH3AYXIttPd",
        "colab_type": "text"
      },
      "source": [
        "Implementing ELU in TensorFlow is trivial, just specify the activation function when building each layer:"
      ]
    },
    {
      "cell_type": "code",
      "metadata": {
        "id": "kqWTn4uRtU6a",
        "colab_type": "code",
        "outputId": "febfd587-b2a9-4b4c-832f-96e03a06e715",
        "colab": {
          "base_uri": "https://localhost:8080/",
          "height": 390
        }
      },
      "source": [
        "tf.random.set_seed(42)\n",
        "np.random.seed(42)\n",
        "\n",
        "model_2 = keras.Sequential([\n",
        "    keras.layers.Flatten(input_shape=[28, 28]),\n",
        "    keras.layers.Dense(300, activation='elu', kernel_initializer='he_normal'),\n",
        "    keras.layers.Dense(100, activation='elu', kernel_initializer='he_normal'),\n",
        "    keras.layers.Dense(10, activation='softmax')\n",
        "])\n",
        "\n",
        "model_2.compile(loss='sparse_categorical_crossentropy', optimizer=keras.optimizers.SGD(learning_rate=1e-3), metrics=['accuracy'])\n",
        "history_2 = model_2.fit(X_train, y_train, epochs=10, validation_data=(X_valid, y_valid))"
      ],
      "execution_count": 19,
      "outputs": [
        {
          "output_type": "stream",
          "text": [
            "Train on 55000 samples, validate on 5000 samples\n",
            "Epoch 1/10\n",
            "55000/55000 [==============================] - 7s 124us/sample - loss: 1.1190 - accuracy: 0.6485 - val_loss: 0.7916 - val_accuracy: 0.7386\n",
            "Epoch 2/10\n",
            "55000/55000 [==============================] - 7s 120us/sample - loss: 0.7224 - accuracy: 0.7569 - val_loss: 0.6573 - val_accuracy: 0.7834\n",
            "Epoch 3/10\n",
            "55000/55000 [==============================] - 6s 118us/sample - loss: 0.6315 - accuracy: 0.7886 - val_loss: 0.5937 - val_accuracy: 0.8044\n",
            "Epoch 4/10\n",
            "55000/55000 [==============================] - 6s 118us/sample - loss: 0.5822 - accuracy: 0.8054 - val_loss: 0.5583 - val_accuracy: 0.8152\n",
            "Epoch 5/10\n",
            "55000/55000 [==============================] - 7s 119us/sample - loss: 0.5507 - accuracy: 0.8139 - val_loss: 0.5311 - val_accuracy: 0.8262\n",
            "Epoch 6/10\n",
            "55000/55000 [==============================] - 6s 117us/sample - loss: 0.5281 - accuracy: 0.8205 - val_loss: 0.5103 - val_accuracy: 0.8300\n",
            "Epoch 7/10\n",
            "55000/55000 [==============================] - 6s 117us/sample - loss: 0.5110 - accuracy: 0.8253 - val_loss: 0.4954 - val_accuracy: 0.8348\n",
            "Epoch 8/10\n",
            "55000/55000 [==============================] - 6s 117us/sample - loss: 0.4974 - accuracy: 0.8291 - val_loss: 0.4864 - val_accuracy: 0.8352\n",
            "Epoch 9/10\n",
            "55000/55000 [==============================] - 6s 117us/sample - loss: 0.4864 - accuracy: 0.8318 - val_loss: 0.4785 - val_accuracy: 0.8374\n",
            "Epoch 10/10\n",
            "55000/55000 [==============================] - 6s 117us/sample - loss: 0.4769 - accuracy: 0.8356 - val_loss: 0.4666 - val_accuracy: 0.8434\n"
          ],
          "name": "stdout"
        }
      ]
    },
    {
      "cell_type": "code",
      "metadata": {
        "id": "w07tjygZt7nH",
        "colab_type": "code",
        "outputId": "310fb3b6-57cf-4b34-c4e0-91cb11ac3239",
        "colab": {
          "base_uri": "https://localhost:8080/",
          "height": 302
        }
      },
      "source": [
        "# Plotting the training and validation loss\n",
        "loss = history_2.history['loss']\n",
        "val_loss = history_2.history['val_loss']\n",
        "\n",
        "epochs = range(1, len(loss) + 1)\n",
        "\n",
        "plt.plot(epochs, loss, 'bo-', label='Training loss')\n",
        "plt.plot(epochs, val_loss, 'b--', label='Validation loss')\n",
        "plt.title('Training and validation loss on PReLU')\n",
        "plt.xlabel('Epochs')\n",
        "plt.ylabel('Loss')\n",
        "plt.legend()\n",
        "\n",
        "plt.show()"
      ],
      "execution_count": 20,
      "outputs": [
        {
          "output_type": "display_data",
          "data": {
            "image/png": "[encoded data removed]",
            "text/plain": [
              "<Figure size 432x288 with 1 Axes>"
            ]
          },
          "metadata": {
            "tags": []
          }
        }
      ]
    },
    {
      "cell_type": "markdown",
      "metadata": {
        "id": "b80ndqaYwtk7",
        "colab_type": "text"
      },
      "source": [
        "#### SELU"
      ]
    },
    {
      "cell_type": "markdown",
      "metadata": {
        "id": "pNYxT_S5wuw2",
        "colab_type": "text"
      },
      "source": [
        "Günter Klambauer et al. introduced the Scaled ELU (SELU) activation function: as its name suggests, it is a scaled variant of the ELU activation function.\n",
        "\n",
        "If you build a neural network composed exclusively of a stack of dense layers, and if all hidden layers use the SELU activation function, then the network will self-normalize : the output of each layer will tend to preserve a mean of 0 and standard deviation of 1 during training, which solves the vanishing/exploding gradients problem. \n",
        "\n",
        "As a result, the SELU activation function often significantly outperforms other activation functions for such neural nets (especially deep ones). There are, however, a few conditions for self-normalization to happen (see the paper for the mathematical justification):\n",
        "\n",
        "* The input features must be standardized (mean 0 and standard deviation 1).\n",
        "* Every hidden layer’s weights must be initialized with LeCun normal initialization. In Keras, this means setting kernel_initializer=\"lecun_normal\" .\n",
        "* The network’s architecture must be sequential. Unfortunately, if you try to use SELU in nonsequential architectures, such as recurrent networks or networks with skip connections (i.e., connections that skip layers, such as in Wide & Deep nets), self-normalization will not be guaranteed, so SELU will not necessarily outperform other activation functions.\n",
        "* The paper only guarantees self-normalization if all layers are dense, but some researchers have noted that the SELU activation function can improve performance in convolutional neural nets as well.\n",
        "\n"
      ]
    },
    {
      "cell_type": "code",
      "metadata": {
        "id": "0eLk0AKBwltg",
        "colab_type": "code",
        "colab": {}
      },
      "source": [
        "from scipy.special import erfc\n",
        "\n",
        "# alpha and scale to self normalize with mean 0 and standard deviation 1\n",
        "alpha_0_1 = -np.sqrt(2 / np.pi) / (erfc(1/np.sqrt(2)) * np.exp(1/2) - 1)\n",
        "scale_0_1 = (1 - erfc(1 / np.sqrt(2)) * np.sqrt(np.e)) * np.sqrt(2 * np.pi) * (2 * erfc(np.sqrt(2))*np.e**2 \n",
        "+ np.pi*erfc(1/np.sqrt(2))**2*np.e - 2*(2+np.pi)*erfc(1/np.sqrt(2))*np.sqrt(np.e)+np.pi+2)**(-1/2)"
      ],
      "execution_count": 0,
      "outputs": []
    },
    {
      "cell_type": "code",
      "metadata": {
        "id": "V22xSkbDFkPP",
        "colab_type": "code",
        "colab": {}
      },
      "source": [
        "def selu(z, scale=scale_0_1, alpha=alpha_0_1):\n",
        "  return scale * elu(z, alpha)"
      ],
      "execution_count": 0,
      "outputs": []
    },
    {
      "cell_type": "code",
      "metadata": {
        "id": "Kk5B_ZNiF1C2",
        "colab_type": "code",
        "outputId": "fb5042b7-0061-455b-dd12-620237788806",
        "colab": {
          "base_uri": "https://localhost:8080/",
          "height": 285
        }
      },
      "source": [
        "plt.plot(z, selu(z), \"b-\", linewidth=2)\n",
        "plt.plot([-5, 5], [0, 0], 'k-')\n",
        "plt.plot([-5, 5], [-1.758, -1.758], 'g--')\n",
        "plt.plot([0, 0], [-2.2, 3.2], 'k-')\n",
        "plt.grid(True)\n",
        "plt.title(\"SELU activation function\", fontsize=14)\n",
        "plt.axis([-5, 5, -2.2, 3.2])\n",
        "\n",
        "plt.show()"
      ],
      "execution_count": 23,
      "outputs": [
        {
          "output_type": "display_data",
          "data": {
            "image/png": "[encoded data removed]",
            "text/plain": [
              "<Figure size 432x288 with 1 Axes>"
            ]
          },
          "metadata": {
            "tags": []
          }
        }
      ]
    },
    {
      "cell_type": "markdown",
      "metadata": {
        "id": "K986VdlHGMz0",
        "colab_type": "text"
      },
      "source": [
        "By default, the SELU hyperparameters (scale and alpha) are tuned in such a way that the mean output of each neuron remains close to 0, and the standard deviation remains close to 1 (assuming the inputs are standardized with mean 0 and standard deviation 1 too). Using this activation function, even a 1,000 layer deep neural network preserves roughly mean 0 and standard deviation 1 across all layers, avoiding the exploding/vanishing gradients problem:"
      ]
    },
    {
      "cell_type": "code",
      "metadata": {
        "id": "MOsXF2UiF7xw",
        "colab_type": "code",
        "outputId": "55384e93-4323-46d3-f017-708fb53ece17",
        "colab": {
          "base_uri": "https://localhost:8080/",
          "height": 195
        }
      },
      "source": [
        "np.random.seed(42)\n",
        "\n",
        "Z = np.random.normal(size=(500, 100)) # standardized inputs\n",
        "for layer in range(1000):\n",
        "  W = np.random.normal(size=(100, 100), scale=np.sqrt(1 / 100))   # LeCun initialization\n",
        "  Z = selu(np.dot(Z, W))\n",
        "  means = np.mean(Z, axis=0).mean()\n",
        "  stds = np.std(Z, axis=0).mean()\n",
        "  if layer % 100 == 0:\n",
        "    print(f'Layer {str(layer)}: mean {str(means)}, std deviation {str(stds)}')"
      ],
      "execution_count": 24,
      "outputs": [
        {
          "output_type": "stream",
          "text": [
            "Layer 0: mean -0.0018323191229082008, std deviation 0.9993326848140984\n",
            "Layer 100: mean 0.022381401728658233, std deviation 0.9624307594850076\n",
            "Layer 200: mean 0.009595136169400253, std deviation 0.9044881262732791\n",
            "Layer 300: mean -0.01519457019455962, std deviation 0.9236924543338303\n",
            "Layer 400: mean 0.05413433801497661, std deviation 0.891602836975457\n",
            "Layer 500: mean 0.005853113037170003, std deviation 0.9286462935545744\n",
            "Layer 600: mean 0.022268621656531477, std deviation 0.9166416317851165\n",
            "Layer 700: mean -0.01825918849256755, std deviation 0.9033546354839294\n",
            "Layer 800: mean 0.05381074844549197, std deviation 0.8250118130851406\n",
            "Layer 900: mean 0.019907971909592856, std deviation 0.9955889510480945\n"
          ],
          "name": "stdout"
        }
      ]
    },
    {
      "cell_type": "markdown",
      "metadata": {
        "id": "JZICuN1sHhAH",
        "colab_type": "text"
      },
      "source": [
        "Let's create a neural net for Fashion MNIST with 100 hidden layers, using the SELU activation function:"
      ]
    },
    {
      "cell_type": "code",
      "metadata": {
        "id": "5_rWWO_2HIYP",
        "colab_type": "code",
        "colab": {}
      },
      "source": [
        "np.random.seed(42)\n",
        "tf.random.set_seed(42)\n",
        "\n",
        "model_3 = keras.Sequential()\n",
        "model_3.add(keras.layers.Flatten(input_shape=[28, 28]))\n",
        "model_3.add(keras.layers.Dense(300, activation='selu', kernel_initializer='lecun_normal'))\n",
        "\n",
        "for layer in range(99):\n",
        "  model_3.add(keras.layers.Dense(100, activation='selu', kernel_initializer='lecun_normal'))\n",
        "model_3.add(keras.layers.Dense(10, activation='softmax'))\n",
        "\n",
        "model_3.compile(loss='sparse_categorical_crossentropy', optimizer=keras.optimizers.SGD(learning_rate=1e-3), metrics=['accuracy'])"
      ],
      "execution_count": 0,
      "outputs": []
    },
    {
      "cell_type": "markdown",
      "metadata": {
        "id": "Umi8nIOYKNiD",
        "colab_type": "text"
      },
      "source": [
        "Now let's train it. Do not forget to scale the inputs to mean 0 and standard deviation 1:"
      ]
    },
    {
      "cell_type": "code",
      "metadata": {
        "id": "2vNISZmfKN4j",
        "colab_type": "code",
        "outputId": "02c23db9-61e7-4272-c166-edc446c122d7",
        "colab": {
          "base_uri": "https://localhost:8080/",
          "height": 212
        }
      },
      "source": [
        "pixel_means = X_train.mean(axis=0, keepdims=True)\n",
        "pixel_stds = X_train.std(axis=0, keepdims=True)\n",
        "X_train_scaled = (X_train - pixel_means) / pixel_stds\n",
        "X_valid_scaled = (X_valid - pixel_means) / pixel_stds\n",
        "X_test_scaled = (X_test - pixel_means) / pixel_stds\n",
        "\n",
        "history_3 = model_3.fit(X_train_scaled, y_train, epochs=5, validation_data=(X_valid_scaled, y_valid))"
      ],
      "execution_count": 26,
      "outputs": [
        {
          "output_type": "stream",
          "text": [
            "Train on 55000 samples, validate on 5000 samples\n",
            "Epoch 1/5\n",
            "55000/55000 [==============================] - 53s 956us/sample - loss: 1.0594 - accuracy: 0.5887 - val_loss: 0.7304 - val_accuracy: 0.7420\n",
            "Epoch 2/5\n",
            "55000/55000 [==============================] - 43s 790us/sample - loss: 0.6942 - accuracy: 0.7493 - val_loss: 0.6293 - val_accuracy: 0.7698\n",
            "Epoch 3/5\n",
            "55000/55000 [==============================] - 43s 778us/sample - loss: 0.5916 - accuracy: 0.7864 - val_loss: 0.6182 - val_accuracy: 0.7938\n",
            "Epoch 4/5\n",
            "55000/55000 [==============================] - 42s 769us/sample - loss: 0.5829 - accuracy: 0.7936 - val_loss: 0.5710 - val_accuracy: 0.8074\n",
            "Epoch 5/5\n",
            "55000/55000 [==============================] - 40s 724us/sample - loss: 0.5826 - accuracy: 0.7885 - val_loss: 0.5712 - val_accuracy: 0.7996\n"
          ],
          "name": "stdout"
        }
      ]
    },
    {
      "cell_type": "code",
      "metadata": {
        "id": "wanVWh79Hw6L",
        "colab_type": "code",
        "outputId": "3dba50da-67af-430b-9481-045dd2f7b992",
        "colab": {
          "base_uri": "https://localhost:8080/",
          "height": 302
        }
      },
      "source": [
        "# Plotting the training and validation loss\n",
        "loss = history_3.history['loss']\n",
        "val_loss = history_3.history['val_loss']\n",
        "\n",
        "epochs = range(1, len(loss) + 1)\n",
        "\n",
        "plt.plot(epochs, loss, 'bo-', label='Training loss')\n",
        "plt.plot(epochs, val_loss, 'b--', label='Validation loss')\n",
        "plt.title('Training and validation loss on SELU')\n",
        "plt.xlabel('Epochs')\n",
        "plt.ylabel('Loss')\n",
        "plt.legend()\n",
        "\n",
        "plt.show()"
      ],
      "execution_count": 27,
      "outputs": [
        {
          "output_type": "display_data",
          "data": {
            "image/png": "[encoded data removed]",
            "text/plain": [
              "<Figure size 432x288 with 1 Axes>"
            ]
          },
          "metadata": {
            "tags": []
          }
        }
      ]
    },
    {
      "cell_type": "markdown",
      "metadata": {
        "id": "YqpbqmpMLdGK",
        "colab_type": "text"
      },
      "source": [
        "Now look at what happens if we try to use the ReLU activation function instead:"
      ]
    },
    {
      "cell_type": "code",
      "metadata": {
        "id": "6axjggf5Ldmr",
        "colab_type": "code",
        "outputId": "d94e3ce4-e3dd-4cb7-8ce9-c70515f7306e",
        "colab": {
          "base_uri": "https://localhost:8080/",
          "height": 212
        }
      },
      "source": [
        "np.random.seed(42)\n",
        "tf.random.set_seed(42)\n",
        "\n",
        "model_4 = keras.Sequential()\n",
        "model_4.add(keras.layers.Flatten(input_shape=[28, 28]))\n",
        "model_4.add(keras.layers.Dense(300, activation='relu', kernel_initializer='he_normal'))\n",
        "\n",
        "for layer in range(99):\n",
        "  model_4.add(keras.layers.Dense(100, activation='relu', kernel_initializer='he_normal'))\n",
        "model_4.add(keras.layers.Dense(10, activation='softmax'))\n",
        "\n",
        "model_4.compile(loss='sparse_categorical_crossentropy', optimizer=keras.optimizers.SGD(learning_rate=1e-3), metrics=['accuracy'])\n",
        "history_4 = model_4.fit(X_train_scaled, y_train, epochs=5, validation_data=(X_valid_scaled, y_valid))"
      ],
      "execution_count": 28,
      "outputs": [
        {
          "output_type": "stream",
          "text": [
            "Train on 55000 samples, validate on 5000 samples\n",
            "Epoch 1/5\n",
            "55000/55000 [==============================] - 29s 523us/sample - loss: 1.7524 - accuracy: 0.2946 - val_loss: 1.1445 - val_accuracy: 0.5586\n",
            "Epoch 2/5\n",
            "55000/55000 [==============================] - 25s 454us/sample - loss: 1.0957 - accuracy: 0.5587 - val_loss: 0.9780 - val_accuracy: 0.5942\n",
            "Epoch 3/5\n",
            "55000/55000 [==============================] - 25s 460us/sample - loss: 1.0329 - accuracy: 0.5788 - val_loss: 0.8444 - val_accuracy: 0.6646\n",
            "Epoch 4/5\n",
            "55000/55000 [==============================] - 25s 452us/sample - loss: 0.8915 - accuracy: 0.6484 - val_loss: 0.8008 - val_accuracy: 0.6740\n",
            "Epoch 5/5\n",
            "55000/55000 [==============================] - 25s 459us/sample - loss: 0.7790 - accuracy: 0.7103 - val_loss: 0.7376 - val_accuracy: 0.7236\n"
          ],
          "name": "stdout"
        }
      ]
    },
    {
      "cell_type": "code",
      "metadata": {
        "id": "wmt4hXfXMfvX",
        "colab_type": "code",
        "outputId": "a40ffd10-2a67-4a28-c669-95b2ddaf469a",
        "colab": {
          "base_uri": "https://localhost:8080/",
          "height": 302
        }
      },
      "source": [
        "# Plotting the training and validation loss\n",
        "loss = history_4.history['loss']\n",
        "val_loss = history_4.history['val_loss']\n",
        "\n",
        "epochs = range(1, len(loss) + 1)\n",
        "\n",
        "plt.plot(epochs, loss, 'bo-', label='Training loss')\n",
        "plt.plot(epochs, val_loss, 'b--', label='Validation loss')\n",
        "plt.title('Training and validation loss on SELU')\n",
        "plt.xlabel('Epochs')\n",
        "plt.ylabel('Loss')\n",
        "plt.legend()\n",
        "\n",
        "plt.show()"
      ],
      "execution_count": 29,
      "outputs": [
        {
          "output_type": "display_data",
          "data": {
            "image/png": "[encoded data removed]",
            "text/plain": [
              "<Figure size 432x288 with 1 Axes>"
            ]
          },
          "metadata": {
            "tags": []
          }
        }
      ]
    },
    {
      "cell_type": "markdown",
      "metadata": {
        "id": "uyxO2NWGMujp",
        "colab_type": "text"
      },
      "source": [
        "Not great at all, we suffered from the vanishing/exploding gradients problem."
      ]
    },
    {
      "cell_type": "markdown",
      "metadata": {
        "id": "PgRVuJh7MvcA",
        "colab_type": "text"
      },
      "source": [
        "## Batch Normalization"
      ]
    },
    {
      "cell_type": "markdown",
      "metadata": {
        "id": "NfD3TeUlMx88",
        "colab_type": "text"
      },
      "source": [
        "Although using He initialization along with ELU (or any variant of ReLU) can significantly reduce the danger of the vanishing/exploding gradients problems at the beginning of training, it doesn’t guarantee that they won’t come back during training.\n",
        "\n",
        "technique called Batch Normalization (BN) that addresses these problems. The technique consists of adding an operation in the model just before or after the activation function of each hidden layer. This operation simply zero-centers and normalizes each input, then scales and shifts the result using two new parameter vectors per layer: one for scaling, the other for shifting. In other words, the operation lets the model learn the optimal scale and mean of each of the layer’s inputs. In many cases, if you add a BN layer as the very first layer of your neural network, you do not need to standardize your training set (e.g., using a StandardScaler ); the BN layer will do it for you (well, approximately, since it only looks at one batch at a time, and it can also rescale and shift each input feature).\n",
        "\n",
        "In order to zero-center and normalize the inputs, the algorithm needs to estimate each input’s mean and standard deviation. It does so by evaluating the mean and standard deviation of the input over the current mini-batch (hence the name “Batch Normalization”).\n",
        "\n",
        "As with most things with Keras, implementing Batch Normalization is simple and intuitive. Just add a BatchNormalization layer before or after each hidden layer’s activation function, and optionally add a BN layer as well as the first layer in your model."
      ]
    },
    {
      "cell_type": "code",
      "metadata": {
        "id": "y-hejYIyEBc-",
        "colab_type": "code",
        "colab": {
          "base_uri": "https://localhost:8080/",
          "height": 408
        },
        "outputId": "941b555d-9c30-4415-9c0b-c7fbde295490"
      },
      "source": [
        "from tensorflow.keras.models import Sequential\n",
        "from tensorflow.keras.layers import Dense, Flatten, BatchNormalization\n",
        "\n",
        "bn_model = Sequential([\n",
        "    Flatten(input_shape=[28, 28]),\n",
        "    BatchNormalization(),\n",
        "    Dense(300, activation='relu'),\n",
        "    BatchNormalization(),\n",
        "    Dense(100, activation='relu'),\n",
        "    BatchNormalization(),\n",
        "    Dense(10, activation='softmax')                   \n",
        "])\n",
        "bn_model.summary()"
      ],
      "execution_count": 31,
      "outputs": [
        {
          "output_type": "stream",
          "text": [
            "Model: \"sequential_6\"\n",
            "_________________________________________________________________\n",
            "Layer (type)                 Output Shape              Param #   \n",
            "=================================================================\n",
            "flatten_5 (Flatten)          (None, 784)               0         \n",
            "_________________________________________________________________\n",
            "batch_normalization (BatchNo (None, 784)               3136      \n",
            "_________________________________________________________________\n",
            "dense_213 (Dense)            (None, 300)               235500    \n",
            "_________________________________________________________________\n",
            "batch_normalization_1 (Batch (None, 300)               1200      \n",
            "_________________________________________________________________\n",
            "dense_214 (Dense)            (None, 100)               30100     \n",
            "_________________________________________________________________\n",
            "batch_normalization_2 (Batch (None, 100)               400       \n",
            "_________________________________________________________________\n",
            "dense_215 (Dense)            (None, 10)                1010      \n",
            "=================================================================\n",
            "Total params: 271,346\n",
            "Trainable params: 268,978\n",
            "Non-trainable params: 2,368\n",
            "_________________________________________________________________\n"
          ],
          "name": "stdout"
        }
      ]
    },
    {
      "cell_type": "markdown",
      "metadata": {
        "id": "OEG8l9ikFq12",
        "colab_type": "text"
      },
      "source": [
        "Lets look at the parameters of the first BN layer. Two are trainable (by backpropagation), and two are not:"
      ]
    },
    {
      "cell_type": "code",
      "metadata": {
        "id": "ViQT6gELEk0R",
        "colab_type": "code",
        "colab": {
          "base_uri": "https://localhost:8080/",
          "height": 88
        },
        "outputId": "453dbd64-71a8-42f6-da86-6073399bdbac"
      },
      "source": [
        "[(var.name, var.trainable) for var in bn_model.layers[1].variables]"
      ],
      "execution_count": 33,
      "outputs": [
        {
          "output_type": "execute_result",
          "data": {
            "text/plain": [
              "[('batch_normalization/gamma:0', True),\n",
              " ('batch_normalization/beta:0', True),\n",
              " ('batch_normalization/moving_mean:0', False),\n",
              " ('batch_normalization/moving_variance:0', False)]"
            ]
          },
          "metadata": {
            "tags": []
          },
          "execution_count": 33
        }
      ]
    },
    {
      "cell_type": "markdown",
      "metadata": {
        "id": "7aGbGe_CGrGP",
        "colab_type": "text"
      },
      "source": [
        "Now when you create a BN layer in Keras, it also creates two operations that will be called by Keras at each iteration during training. These operations will update the moving averages. Since we are using the TensorFlow backend, these operations are TensorFlow operations."
      ]
    },
    {
      "cell_type": "code",
      "metadata": {
        "id": "h4DTwfrBGt-W",
        "colab_type": "code",
        "colab": {
          "base_uri": "https://localhost:8080/",
          "height": 52
        },
        "outputId": "03eddbe1-b789-43d3-df16-0b6d7a57c632"
      },
      "source": [
        "bn_model.layers[1].updates"
      ],
      "execution_count": 34,
      "outputs": [
        {
          "output_type": "execute_result",
          "data": {
            "text/plain": [
              "[<tf.Operation 'cond/Identity' type=Identity>,\n",
              " <tf.Operation 'cond_1/Identity' type=Identity>]"
            ]
          },
          "metadata": {
            "tags": []
          },
          "execution_count": 34
        }
      ]
    },
    {
      "cell_type": "code",
      "metadata": {
        "id": "5AyAUqgMGHCZ",
        "colab_type": "code",
        "colab": {
          "base_uri": "https://localhost:8080/",
          "height": 390
        },
        "outputId": "cdc3ae7b-644a-4f2d-eb38-277dc252a648"
      },
      "source": [
        "bn_model.compile(loss='sparse_categorical_crossentropy', optimizer=keras.optimizers.SGD(lr=1e-3), metrics=['accuracy'])\n",
        "history = bn_model.fit(X_train, y_train, epochs=10, validation_data=(X_valid, y_valid))"
      ],
      "execution_count": 35,
      "outputs": [
        {
          "output_type": "stream",
          "text": [
            "Train on 55000 samples, validate on 5000 samples\n",
            "Epoch 1/10\n",
            "55000/55000 [==============================] - 12s 217us/sample - loss: 0.8767 - accuracy: 0.7137 - val_loss: 0.5531 - val_accuracy: 0.8208\n",
            "Epoch 2/10\n",
            "55000/55000 [==============================] - 11s 194us/sample - loss: 0.5755 - accuracy: 0.8017 - val_loss: 0.4758 - val_accuracy: 0.8456\n",
            "Epoch 3/10\n",
            "55000/55000 [==============================] - 11s 193us/sample - loss: 0.5154 - accuracy: 0.8211 - val_loss: 0.4396 - val_accuracy: 0.8540\n",
            "Epoch 4/10\n",
            "55000/55000 [==============================] - 10s 191us/sample - loss: 0.4842 - accuracy: 0.8313 - val_loss: 0.4161 - val_accuracy: 0.8594\n",
            "Epoch 5/10\n",
            "55000/55000 [==============================] - 10s 190us/sample - loss: 0.4560 - accuracy: 0.8425 - val_loss: 0.4003 - val_accuracy: 0.8644\n",
            "Epoch 6/10\n",
            "55000/55000 [==============================] - 10s 190us/sample - loss: 0.4400 - accuracy: 0.8468 - val_loss: 0.3884 - val_accuracy: 0.8700\n",
            "Epoch 7/10\n",
            "55000/55000 [==============================] - 11s 193us/sample - loss: 0.4245 - accuracy: 0.8511 - val_loss: 0.3796 - val_accuracy: 0.8724\n",
            "Epoch 8/10\n",
            "55000/55000 [==============================] - 10s 189us/sample - loss: 0.4115 - accuracy: 0.8563 - val_loss: 0.3736 - val_accuracy: 0.8726\n",
            "Epoch 9/10\n",
            "55000/55000 [==============================] - 10s 189us/sample - loss: 0.4030 - accuracy: 0.8586 - val_loss: 0.3665 - val_accuracy: 0.8764\n",
            "Epoch 10/10\n",
            "55000/55000 [==============================] - 10s 189us/sample - loss: 0.3956 - accuracy: 0.8602 - val_loss: 0.3595 - val_accuracy: 0.8764\n"
          ],
          "name": "stdout"
        }
      ]
    },
    {
      "cell_type": "code",
      "metadata": {
        "id": "XheYL4xvIEu2",
        "colab_type": "code",
        "colab": {
          "base_uri": "https://localhost:8080/",
          "height": 302
        },
        "outputId": "5d2d4e86-b22f-4c67-908b-2531b8a9b9e0"
      },
      "source": [
        "# Plotting the training and validation loss\n",
        "loss = history.history['loss']\n",
        "val_loss = history.history['val_loss']\n",
        "\n",
        "epochs = range(1, len(loss) + 1)\n",
        "\n",
        "plt.plot(epochs, loss, 'bo-', label='Training loss')\n",
        "plt.plot(epochs, val_loss, 'b--', label='Validation loss')\n",
        "plt.title('Training and validation loss on Batch Normalization')\n",
        "plt.xlabel('Epochs')\n",
        "plt.ylabel('Loss')\n",
        "plt.legend()\n",
        "\n",
        "plt.show()"
      ],
      "execution_count": 36,
      "outputs": [
        {
          "output_type": "display_data",
          "data": {
            "image/png": "[encoded data removed]",
            "text/plain": [
              "<Figure size 432x288 with 1 Axes>"
            ]
          },
          "metadata": {
            "tags": []
          }
        }
      ]
    },
    {
      "cell_type": "markdown",
      "metadata": {
        "id": "AxT0cfdCHcPi",
        "colab_type": "text"
      },
      "source": [
        "Sometimes applying BN before the activation function works better (there's a debate on this topic). Moreover, the layer before a `BatchNormalization` layer does not need to have bias terms, since the `BatchNormalization` layer some as well, it would be a waste of parameters, so you can set `use_bias=False` when creating those layers:"
      ]
    },
    {
      "cell_type": "code",
      "metadata": {
        "id": "ezz0kcWLHVtR",
        "colab_type": "code",
        "colab": {
          "base_uri": "https://localhost:8080/",
          "height": 479
        },
        "outputId": "16a58102-0aed-43a4-9a13-ee9ee940eb7a"
      },
      "source": [
        "from tensorflow.keras.layers import Activation\n",
        "\n",
        "bn_model2 = Sequential([\n",
        "    Flatten(input_shape=[28, 28]),\n",
        "    BatchNormalization(),\n",
        "\n",
        "    Dense(300, use_bias=True),\n",
        "    BatchNormalization(),\n",
        "    Activation('relu'),\n",
        "\n",
        "    Dense(100, use_bias=True),\n",
        "    Activation('relu'),\n",
        "    BatchNormalization(),\n",
        "\n",
        "    Dense(10, activation='softmax')                   \n",
        "])\n",
        "bn_model2.summary()"
      ],
      "execution_count": 37,
      "outputs": [
        {
          "output_type": "stream",
          "text": [
            "Model: \"sequential_7\"\n",
            "_________________________________________________________________\n",
            "Layer (type)                 Output Shape              Param #   \n",
            "=================================================================\n",
            "flatten_6 (Flatten)          (None, 784)               0         \n",
            "_________________________________________________________________\n",
            "batch_normalization_3 (Batch (None, 784)               3136      \n",
            "_________________________________________________________________\n",
            "dense_216 (Dense)            (None, 300)               235500    \n",
            "_________________________________________________________________\n",
            "batch_normalization_4 (Batch (None, 300)               1200      \n",
            "_________________________________________________________________\n",
            "activation (Activation)      (None, 300)               0         \n",
            "_________________________________________________________________\n",
            "dense_217 (Dense)            (None, 100)               30100     \n",
            "_________________________________________________________________\n",
            "activation_1 (Activation)    (None, 100)               0         \n",
            "_________________________________________________________________\n",
            "batch_normalization_5 (Batch (None, 100)               400       \n",
            "_________________________________________________________________\n",
            "dense_218 (Dense)            (None, 10)                1010      \n",
            "=================================================================\n",
            "Total params: 271,346\n",
            "Trainable params: 268,978\n",
            "Non-trainable params: 2,368\n",
            "_________________________________________________________________\n"
          ],
          "name": "stdout"
        }
      ]
    },
    {
      "cell_type": "code",
      "metadata": {
        "id": "20Qjm5N-JHCf",
        "colab_type": "code",
        "colab": {
          "base_uri": "https://localhost:8080/",
          "height": 390
        },
        "outputId": "06d11362-85d3-4d46-8df5-92a47022ed6f"
      },
      "source": [
        "bn_model2.compile(loss='sparse_categorical_crossentropy', optimizer=keras.optimizers.SGD(lr=1e-3), metrics=['accuracy'])\n",
        "history2 = bn_model2.fit(X_train, y_train, epochs=10, validation_data=(X_valid, y_valid))"
      ],
      "execution_count": 38,
      "outputs": [
        {
          "output_type": "stream",
          "text": [
            "Train on 55000 samples, validate on 5000 samples\n",
            "Epoch 1/10\n",
            "55000/55000 [==============================] - 13s 230us/sample - loss: 0.8630 - accuracy: 0.7102 - val_loss: 0.5630 - val_accuracy: 0.8108\n",
            "Epoch 2/10\n",
            "55000/55000 [==============================] - 12s 219us/sample - loss: 0.5794 - accuracy: 0.8017 - val_loss: 0.4840 - val_accuracy: 0.8382\n",
            "Epoch 3/10\n",
            "55000/55000 [==============================] - 12s 214us/sample - loss: 0.5187 - accuracy: 0.8218 - val_loss: 0.4472 - val_accuracy: 0.8482\n",
            "Epoch 4/10\n",
            "55000/55000 [==============================] - 12s 216us/sample - loss: 0.4831 - accuracy: 0.8308 - val_loss: 0.4250 - val_accuracy: 0.8566\n",
            "Epoch 5/10\n",
            "55000/55000 [==============================] - 12s 216us/sample - loss: 0.4588 - accuracy: 0.8396 - val_loss: 0.4093 - val_accuracy: 0.8594\n",
            "Epoch 6/10\n",
            "55000/55000 [==============================] - 12s 216us/sample - loss: 0.4398 - accuracy: 0.8476 - val_loss: 0.3984 - val_accuracy: 0.8626\n",
            "Epoch 7/10\n",
            "55000/55000 [==============================] - 12s 216us/sample - loss: 0.4248 - accuracy: 0.8509 - val_loss: 0.3897 - val_accuracy: 0.8682\n",
            "Epoch 8/10\n",
            "55000/55000 [==============================] - 12s 210us/sample - loss: 0.4133 - accuracy: 0.8547 - val_loss: 0.3836 - val_accuracy: 0.8694\n",
            "Epoch 9/10\n",
            "55000/55000 [==============================] - 12s 210us/sample - loss: 0.4029 - accuracy: 0.8576 - val_loss: 0.3742 - val_accuracy: 0.8698\n",
            "Epoch 10/10\n",
            "55000/55000 [==============================] - 12s 215us/sample - loss: 0.3951 - accuracy: 0.8608 - val_loss: 0.3707 - val_accuracy: 0.8714\n"
          ],
          "name": "stdout"
        }
      ]
    },
    {
      "cell_type": "code",
      "metadata": {
        "id": "rzJauT8nJPpo",
        "colab_type": "code",
        "colab": {
          "base_uri": "https://localhost:8080/",
          "height": 302
        },
        "outputId": "348ebdec-57a8-4180-e04b-615e33c2a8cf"
      },
      "source": [
        "# Plotting the training and validation loss\n",
        "loss = history2.history['loss']\n",
        "val_loss = history2.history['val_loss']\n",
        "\n",
        "epochs = range(1, len(loss) + 1)\n",
        "\n",
        "plt.plot(epochs, loss, 'bo-', label='Training loss')\n",
        "plt.plot(epochs, val_loss, 'b--', label='Validation loss')\n",
        "plt.title('Training and validation loss on Batch Normalization')\n",
        "plt.xlabel('Epochs')\n",
        "plt.ylabel('Loss')\n",
        "plt.legend()\n",
        "\n",
        "plt.show()"
      ],
      "execution_count": 39,
      "outputs": [
        {
          "output_type": "display_data",
          "data": {
            "image/png": "[encoded data removed]",
            "text/plain": [
              "<Figure size 432x288 with 1 Axes>"
            ]
          },
          "metadata": {
            "tags": []
          }
        }
      ]
    },
    {
      "cell_type": "markdown",
      "metadata": {
        "id": "Ftc1pm1IKzWf",
        "colab_type": "text"
      },
      "source": [
        "## Gradient Clipping"
      ]
    },
    {
      "cell_type": "markdown",
      "metadata": {
        "id": "OyEaFSPhKz4E",
        "colab_type": "text"
      },
      "source": [
        "Another popular technique to mitigate the exploding gradients problem is to clip the gradients during backpropagation so that they never exceed some threshold. This is called Gradient Clipping . 12 This technique is most often used in recurrent neural networks, as Batch Normalization is tricky to use in RNNs. For other types of networks, BN is usually sufficient."
      ]
    }
  ]
}