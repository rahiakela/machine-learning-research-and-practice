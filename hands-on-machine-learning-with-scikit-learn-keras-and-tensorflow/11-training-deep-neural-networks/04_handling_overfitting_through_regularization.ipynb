{
  "nbformat": 4,
  "nbformat_minor": 0,
  "metadata": {
    "colab": {
      "name": "04-handling-overfitting-through-regularization.ipynb",
      "provenance": [],
      "collapsed_sections": [],
      "toc_visible": true,
      "include_colab_link": true
    },
    "kernelspec": {
      "name": "python3",
      "display_name": "Python 3"
    }
  },
  "cells": [
    {
      "cell_type": "markdown",
      "metadata": {
        "id": "view-in-github",
        "colab_type": "text"
      },
      "source": [
        "<a href=\"https://colab.research.google.com/github/rahiakela/machine-learning-research-and-practice/blob/main/hands-on-machine-learning-with-scikit-learn-keras-and-tensorflow/11-training-deep-neural-networks/04_handling_overfitting_through_regularization.ipynb\" target=\"_parent\"><img src=\"https://colab.research.google.com/assets/colab-badge.svg\" alt=\"Open In Colab\"/></a>"
      ]
    },
    {
      "cell_type": "markdown",
      "metadata": {
        "id": "u92fYDQIUBPs"
      },
      "source": [
        "## Handling Overfitting Through Regularization"
      ]
    },
    {
      "cell_type": "markdown",
      "metadata": {
        "id": "e9Fs5bRhUP-K"
      },
      "source": [
        "With thousands of parameters you can fit the whole zoo. Deep neural networks typically have tens of thousands of parameters, sometimes even millions. With so many parameters, the network has an incredible amount of freedom and can fit a huge variety of complex datasets. But this great flexibility also means that it is prone to overfitting the training set. We need regularization.\n",
        "\n",
        "In this section we will present other popular regularization techniques for neural networks:\n",
        "* ℓ1 and ℓ2 regularization, \n",
        "* dropout and \n",
        "* max-norm regularization."
      ]
    },
    {
      "cell_type": "markdown",
      "metadata": {
        "id": "KJhXytPKU8Jd"
      },
      "source": [
        "## Setup"
      ]
    },
    {
      "cell_type": "code",
      "metadata": {
        "id": "xyxKt9pEU9uX"
      },
      "source": [
        "import sys\n",
        "import sklearn \n",
        "\n",
        "# TensorFlow ≥2.0 is required\n",
        "import tensorflow as tf\n",
        "from tensorflow import keras\n",
        "\n",
        "# Common imports\n",
        "import numpy as np\n",
        "from functools import partial\n",
        "import os\n",
        "\n",
        "from tensorflow.keras.models import Sequential\n",
        "from tensorflow.keras.layers import Dense, Flatten\n",
        "from tensorflow.keras.optimizers import SGD\n",
        "import tensorflow.keras.backend as keras_backend\n",
        "\n",
        "# to make this notebook's output stable across runs\n",
        "np.random.seed(42)\n",
        "\n",
        "# To plot pretty figures\n",
        "%matplotlib inline\n",
        "import matplotlib as mpl\n",
        "import matplotlib.pyplot as plt\n",
        "mpl.rc('axes', labelsize=14)\n",
        "mpl.rc('xtick', labelsize=12)\n",
        "mpl.rc('ytick', labelsize=12)"
      ],
      "execution_count": 1,
      "outputs": []
    },
    {
      "cell_type": "code",
      "metadata": {
        "id": "JjNlnMQyVPKQ"
      },
      "source": [
        "(X_train_full, y_train_full), (X_test, y_test) = keras.datasets.fashion_mnist.load_data()\n",
        "\n",
        "X_train_full = X_train_full / 255.\n",
        "X_test = X_test / 255.\n",
        "\n",
        "X_valid, X_train = X_train_full[:5000], X_train_full[5000:]\n",
        "y_valid, y_train = y_train_full[:5000], y_train_full[5000:]\n",
        "\n",
        "# Now let's train it. Do not forget to scale the inputs to mean 0 and standard deviation 1\n",
        "pixel_means = X_train.mean(axis=0, keepdims=True)\n",
        "pixel_stds = X_train.std(axis=0, keepdims=True)\n",
        "X_train_scaled = (X_train - pixel_means) / pixel_stds\n",
        "X_valid_scaled = (X_valid - pixel_means) / pixel_stds\n",
        "X_test_scaled = (X_test - pixel_means) / pixel_stds"
      ],
      "execution_count": null,
      "outputs": []
    },
    {
      "cell_type": "code",
      "metadata": {
        "id": "amSBcPE-jMN7"
      },
      "source": [
        "def plot_accuracy_and_loss(history, plot_title):\n",
        "    xs = range(len(history.history['accuracy']))\n",
        "\n",
        "    plt.figure(figsize=(10,3))\n",
        "    plt.subplot(1, 2, 1)\n",
        "    plt.plot(xs, history.history['accuracy'], label='train')\n",
        "    plt.plot(xs, history.history['val_accuracy'], label='test')\n",
        "    plt.legend(loc='lower left')\n",
        "    plt.xlabel('epochs')\n",
        "    plt.ylabel('accuracy')\n",
        "    plt.title(plot_title+', Accuracy')\n",
        "\n",
        "    plt.subplot(1, 2, 2)\n",
        "    plt.plot(xs, history.history['loss'], label='train')\n",
        "    plt.plot(xs, history.history['val_loss'], label='test')\n",
        "    plt.legend(loc='upper left')\n",
        "    plt.xlabel('epochs')\n",
        "    plt.ylabel('loss')\n",
        "    plt.title(plot_title+', Loss')\n",
        "\n",
        "    #plt.tight_layout()\n",
        "    plt.show()"
      ],
      "execution_count": 3,
      "outputs": []
    },
    {
      "cell_type": "markdown",
      "metadata": {
        "id": "_cR8J98TVXWk"
      },
      "source": [
        "## ℓ1 and ℓ2 Regularization"
      ]
    },
    {
      "cell_type": "markdown",
      "metadata": {
        "id": "QuFlfiHvVaBG"
      },
      "source": [
        "You can use $L_1$ and $L_2$ regularization to constrain a neural network’s connection weights (but typically not its biases) and/or $L_1$ regularization if you want a sparse model.\n",
        "\n",
        "Here is how to apply $L_2$ regularization to a Keras layer’s connection weights,\n",
        "using a regularization factor of 0.01:\n",
        "\n",
        "```python\n",
        "layer = keras.layers.Dense(100, activation=\"elu\",\n",
        "                              kernel_initializer=\"he_normal\",\n",
        "                              kernel_regularizer=keras.regularizers.l2(0.01))\n",
        "```\n",
        "\n",
        "The `l2()` function returns a regularizer that will be called to compute the regularization\n",
        "loss, at each step during training. This regularization loss is then added to the\n",
        "final loss.\n",
        "\n",
        "As you might expect, you can just use `keras.regularizers.l1()` if you want $L_1$ regularization, and if you want both $L_1$ and $L_2$ regularization, use `keras.regularizers.l1_l2()` (specifying both regularization factors)."
      ]
    },
    {
      "cell_type": "code",
      "metadata": {
        "id": "y0aHrHjrVP1Z"
      },
      "source": [
        "model = Sequential([\n",
        "    Flatten(input_shape=[28, 28]),\n",
        "    Dense(300, activation='selu', kernel_initializer='lecun_normal', kernel_regularizer=keras.regularizers.l2(0.01)),\n",
        "    Dense(100, activation='selu', kernel_initializer='lecun_normal', kernel_regularizer=keras.regularizers.l2(0.01)), \n",
        "    Dense(10, activation='softmax', kernel_regularizer=keras.regularizers.l2(0.01)),             \n",
        "])\n",
        "\n",
        "model.compile(loss='sparse_categorical_crossentropy', optimizer='nadam', metrics=['accuracy'])\n",
        "\n",
        "n_epochs = 2\n",
        "history = model.fit(X_train_scaled, y_train, epochs=n_epochs, validation_data=(X_valid_scaled, y_valid))"
      ],
      "execution_count": null,
      "outputs": []
    },
    {
      "cell_type": "code",
      "metadata": {
        "id": "XNlI0r-MXiWp",
        "outputId": "7e4b5ade-401e-43de-ca19-74afe42f2a6c",
        "colab": {
          "base_uri": "https://localhost:8080/",
          "height": 248
        }
      },
      "source": [
        "plot_accuracy_and_loss(history, 'L2 Regularization')"
      ],
      "execution_count": null,
      "outputs": [
        {
          "output_type": "display_data",
          "data": {
            "text/plain": [
              "<Figure size 720x216 with 2 Axes>"
            ],
            "image/png": "[encoded data removed]"
          },
          "metadata": {
            "needs_background": "light"
          }
        }
      ]
    },
    {
      "cell_type": "markdown",
      "metadata": {
        "id": "PB0rjezfkULQ"
      },
      "source": [
        "Since you will typically want to apply the same regularizer to all layers in your network,\n",
        "as well as the same activation function and the same initialization strategy in all\n",
        "hidden layers, you may find yourself repeating the same arguments over and over.\n",
        "This makes it ugly and error-prone. \n",
        "\n",
        "To avoid this, you can try refactoring your code\n",
        "to use loops. Another option is to use Python’s `functools.partial()` function: it lets\n",
        "you create a thin wrapper for any callable, with some default argument values."
      ]
    },
    {
      "cell_type": "code",
      "metadata": {
        "id": "dtZGLZvUjbBJ"
      },
      "source": [
        "RegularizedDense = partial(Dense, activation='elu', kernel_initializer='he_normal', kernel_regularizer=keras.regularizers.l2(0.01))\n",
        "\n",
        "model = Sequential([\n",
        "    Flatten(input_shape=[28, 28]),\n",
        "    RegularizedDense(300),\n",
        "    RegularizedDense(100), \n",
        "    Dense(10, activation='softmax', kernel_regularizer=keras.regularizers.l2(0.01)),             \n",
        "])\n",
        "\n",
        "model.compile(loss='sparse_categorical_crossentropy', optimizer='nadam', metrics=['accuracy'])\n",
        "\n",
        "n_epochs = 2\n",
        "history = model.fit(X_train_scaled, y_train, epochs=n_epochs, validation_data=(X_valid_scaled, y_valid))"
      ],
      "execution_count": null,
      "outputs": []
    },
    {
      "cell_type": "code",
      "metadata": {
        "id": "3Ii4YGH6kfaT",
        "colab": {
          "base_uri": "https://localhost:8080/",
          "height": 248
        },
        "outputId": "ea687fed-37f7-48dc-8a49-97050e1d311f"
      },
      "source": [
        "plot_accuracy_and_loss(history, 'L2 Regularization')"
      ],
      "execution_count": null,
      "outputs": [
        {
          "output_type": "display_data",
          "data": {
            "text/plain": [
              "<Figure size 720x216 with 2 Axes>"
            ],
            "image/png": "[encoded data removed]"
          },
          "metadata": {
            "needs_background": "light"
          }
        }
      ]
    },
    {
      "cell_type": "markdown",
      "metadata": {
        "id": "JRPamDkbmWai"
      },
      "source": [
        "## Dropout"
      ]
    },
    {
      "cell_type": "markdown",
      "metadata": {
        "id": "tql0JdyFmXpW"
      },
      "source": [
        "Dropout is one of the most popular regularization techniques for deep neural networks and it has proven to be highly successful: even the state-ofthe-art neural networks got a 1–2% accuracy boost simply by adding dropout. \n",
        "\n",
        "This may not sound like a lot, but when a model already has 95% accuracy, getting a 2% accuracy boost means dropping the error rate by almost 40% (going from 5% error to roughly 3%).\n",
        "\n",
        "It is a fairly simple algorithm: at every training step, every neuron (including the input neurons, but always excluding the output neurons) has a probability $p$ of being temporarily “dropped out,” meaning it will be entirely ignored during this training step, but it may be active during the next step The hyperparameter $p$ is called the dropout rate, and it is typically set to 50%. After training, neurons don’t get dropped anymore. And that’s all.\n",
        "\n",
        "<img src='https://github.com/rahiakela/img-repo/blob/master/hands-on-machine-learning-keras-tensorflow/dropout-regularization.PNG?raw=1' width='400'/>\n",
        "\n",
        "To implement dropout using Keras, you can use the keras.layers.Dropout layer.\n",
        "During training, it randomly drops some inputs (setting them to 0) and divides the\n",
        "remaining inputs by the keep probability. After training, it does nothing at all, it just\n",
        "passes the inputs to the next layer."
      ]
    },
    {
      "cell_type": "code",
      "metadata": {
        "id": "F_vblzKbqF60"
      },
      "source": [
        "keras_backend.clear_session()\n",
        "\n",
        "tf.random.set_seed(42)\n",
        "np.random.seed(42)"
      ],
      "execution_count": null,
      "outputs": []
    },
    {
      "cell_type": "code",
      "metadata": {
        "id": "sZj8_m6hmI68"
      },
      "source": [
        "model = Sequential([\n",
        "    Flatten(input_shape=[28, 28]),\n",
        "    keras.layers.Dropout(rate=0.2),\n",
        "    Dense(300, activation='elu', kernel_initializer='lecun_normal'),\n",
        "    keras.layers.Dropout(rate=0.2),\n",
        "    Dense(100, activation='elu', kernel_initializer='lecun_normal'), \n",
        "    keras.layers.Dropout(rate=0.2),\n",
        "    Dense(10, activation='softmax', kernel_regularizer=keras.regularizers.l2(0.01)),             \n",
        "])\n",
        "\n",
        "model.compile(loss='sparse_categorical_crossentropy', optimizer='nadam', metrics=['accuracy'])\n",
        "\n",
        "n_epochs = 2\n",
        "history = model.fit(X_train_scaled, y_train, epochs=n_epochs, validation_data=(X_valid_scaled, y_valid))"
      ],
      "execution_count": null,
      "outputs": []
    },
    {
      "cell_type": "code",
      "metadata": {
        "id": "9HiCQr1KqCVk",
        "colab": {
          "base_uri": "https://localhost:8080/",
          "height": 248
        },
        "outputId": "9252d686-1602-4dd6-f474-6a242f0f5a32"
      },
      "source": [
        "plot_accuracy_and_loss(history, 'Dropout Regularization')"
      ],
      "execution_count": null,
      "outputs": [
        {
          "output_type": "display_data",
          "data": {
            "text/plain": [
              "<Figure size 720x216 with 2 Axes>"
            ],
            "image/png": "[encoded data removed]"
          },
          "metadata": {
            "needs_background": "light"
          }
        }
      ]
    },
    {
      "cell_type": "markdown",
      "metadata": {
        "id": "uSkBgQj9q3C3"
      },
      "source": [
        "## Alpha Dropout"
      ]
    },
    {
      "cell_type": "code",
      "metadata": {
        "id": "CDSe5CRcqRwE"
      },
      "source": [
        "keras_backend.clear_session()\n",
        "\n",
        "tf.random.set_seed(42)\n",
        "np.random.seed(42)"
      ],
      "execution_count": null,
      "outputs": []
    },
    {
      "cell_type": "code",
      "metadata": {
        "id": "Yln_yQhmqbB4"
      },
      "source": [
        "model = Sequential([\n",
        "    Flatten(input_shape=[28, 28]),\n",
        "    keras.layers.AlphaDropout(rate=0.2),\n",
        "    Dense(300, activation='selu', kernel_initializer='lecun_normal'),\n",
        "    keras.layers.AlphaDropout(rate=0.2),\n",
        "    Dense(100, activation='selu', kernel_initializer='lecun_normal'), \n",
        "    keras.layers.AlphaDropout(rate=0.2),\n",
        "    Dense(10, activation='softmax', kernel_regularizer=keras.regularizers.l2(0.01)),             \n",
        "])\n",
        "\n",
        "optimizer = keras.optimizers.SGD(lr=0.01, momentum=0.9, nesterov=True)\n",
        "model.compile(loss='sparse_categorical_crossentropy', optimizer=optimizer, metrics=['accuracy'])\n",
        "\n",
        "n_epochs = 20\n",
        "history = model.fit(X_train_scaled, y_train, epochs=n_epochs, validation_data=(X_valid_scaled, y_valid))"
      ],
      "execution_count": null,
      "outputs": []
    },
    {
      "cell_type": "code",
      "source": [
        "model.evaluate(X_test_scaled, y_test)"
      ],
      "metadata": {
        "id": "ibtqzfLCzK0P",
        "outputId": "0676efc1-179f-4ebb-aa5b-83a092326b78",
        "colab": {
          "base_uri": "https://localhost:8080/"
        }
      },
      "execution_count": null,
      "outputs": [
        {
          "output_type": "stream",
          "name": "stdout",
          "text": [
            "313/313 [==============================] - 1s 2ms/step - loss: 0.5388 - accuracy: 0.8579\n"
          ]
        },
        {
          "output_type": "execute_result",
          "data": {
            "text/plain": [
              "[0.5387945771217346, 0.8579000234603882]"
            ]
          },
          "metadata": {},
          "execution_count": 15
        }
      ]
    },
    {
      "cell_type": "code",
      "source": [
        "model.evaluate(X_train_scaled, y_train)"
      ],
      "metadata": {
        "id": "_1FAUArJzO-0",
        "outputId": "3e3b9399-ab75-4430-a764-a047f3e46ae6",
        "colab": {
          "base_uri": "https://localhost:8080/"
        }
      },
      "execution_count": null,
      "outputs": [
        {
          "output_type": "stream",
          "name": "stdout",
          "text": [
            "1719/1719 [==============================] - 3s 2ms/step - loss: 0.4232 - accuracy: 0.8794\n"
          ]
        },
        {
          "output_type": "execute_result",
          "data": {
            "text/plain": [
              "[0.42316412925720215, 0.8794000148773193]"
            ]
          },
          "metadata": {},
          "execution_count": 16
        }
      ]
    },
    {
      "cell_type": "code",
      "metadata": {
        "id": "pRorY1HMrOeM",
        "colab": {
          "base_uri": "https://localhost:8080/",
          "height": 248
        },
        "outputId": "b3a75270-ff27-4f25-abc4-6fe6f7560eb8"
      },
      "source": [
        "plot_accuracy_and_loss(history, 'AlphaDropout Regularization')"
      ],
      "execution_count": null,
      "outputs": [
        {
          "output_type": "display_data",
          "data": {
            "text/plain": [
              "<Figure size 720x216 with 2 Axes>"
            ],
            "image/png": "[encoded data removed]"
          },
          "metadata": {
            "needs_background": "light"
          }
        }
      ]
    },
    {
      "cell_type": "markdown",
      "source": [
        "If you observe that the model is overfitting, you can increase the dropout rate. Conversely,\n",
        "you should try decreasing the dropout rate if the model underfits the training\n",
        "set. It can also help to increase the dropout rate for large layers, and reduce it for\n",
        "small ones. \n",
        "\n",
        "Moreover, many state-of-the-art architectures only use dropout after the\n",
        "last hidden layer, so you may want to try this if full dropout is too strong.\n",
        "\n",
        "Dropout does tend to significantly slow down convergence, but it usually results in a\n",
        "much better model when tuned properly. \n",
        "\n",
        "So, it is generally well worth the extra time\n",
        "and effort."
      ],
      "metadata": {
        "id": "G5jRc68tytlg"
      }
    },
    {
      "cell_type": "markdown",
      "source": [
        "##Monte Carlo (MC) Dropout"
      ],
      "metadata": {
        "id": "x9tH51ZMzUvZ"
      }
    },
    {
      "cell_type": "markdown",
      "source": [
        "In 2016, a [paper](https://arxiv.org/abs/1506.02142) by Yarin Gal and Zoubin Ghahramani added a few more good reasons to use dropout:\n",
        "\n",
        "* First, there is a profound connection between dropout networks\n",
        "(i.e., neural networks containing a Dropout layer before every weight layer) and approximate Bayesian inference, giving dropout a solid mathematical justification.\n",
        "* Second, the authors introduced a powerful technique called MC Dropout, which\n",
        "can boost the performance of any trained dropout model without having to\n",
        "retrain it or even modify it at all, provides a much better measure of the model’s uncertainty, and is also amazingly simple to implement.\n",
        "\n"
      ],
      "metadata": {
        "id": "IAjElxvZzXLR"
      }
    },
    {
      "cell_type": "code",
      "source": [
        "tf.random.set_seed(42)\n",
        "np.random.seed(42)"
      ],
      "metadata": {
        "id": "oPi3Omhi7vh9"
      },
      "execution_count": 4,
      "outputs": []
    },
    {
      "cell_type": "markdown",
      "source": [
        "It is the full implementation of MC Dropout, boosting the dropout model\n",
        "we trained earlier without retraining it:"
      ],
      "metadata": {
        "id": "dO27BAG974ih"
      }
    },
    {
      "cell_type": "code",
      "source": [
        "y_probas = np.stack([model(X_test_scaled, training=True) for sample in range(100)])\n",
        "y_proba = y_probas.mean(axis=0)\n",
        "y_std = y_probas.std(axis=0)"
      ],
      "metadata": {
        "id": "PO85Emmq7zOI"
      },
      "execution_count": 7,
      "outputs": []
    },
    {
      "cell_type": "markdown",
      "source": [
        "We just make 100 predictions over the test set, setting `training=True` to ensure that the Dropout layer is active, and stack the predictions. Since dropout is active, all the\n",
        "predictions will be different.\n",
        "\n",
        "Recall that `predict()` returns a matrix with one row per\n",
        "instance and one column per class. \n",
        "\n",
        "Because there are 10,000 instances in the test set and 10 classes, this is a matrix of shape `[10000, 10]`. We stack 100 such matrices, so\n",
        "y_probas is an array of shape `[100, 10000, 10]`.\n",
        "\n",
        "Once we average over the first dimension (axis=0), we get `y_proba`, an array of shape `[10000, 10]`, like we would get\n",
        "with a single prediction. That’s all!\n",
        "\n",
        "Averaging over multiple predictions with dropout\n",
        "on gives us a Monte Carlo estimate that is generally more reliable than the result of a\n",
        "single prediction with dropout off.\n",
        "\n",
        "For example, let’s look at the model’s prediction\n",
        "for the first instance in the Fashion MNIST test set, with dropout off:"
      ],
      "metadata": {
        "id": "OxNsN5YL8JN1"
      }
    },
    {
      "cell_type": "code",
      "source": [
        "np.round(model.predict(X_test_scaled[:1]), 2)"
      ],
      "metadata": {
        "colab": {
          "base_uri": "https://localhost:8080/"
        },
        "id": "vRXLF_gX8lD4",
        "outputId": "239f1a9a-c100-4f36-8617-0d1b1fb2d9d0"
      },
      "execution_count": 8,
      "outputs": [
        {
          "output_type": "execute_result",
          "data": {
            "text/plain": [
              "array([[0.  , 0.  , 0.  , 0.  , 0.  , 0.  , 0.  , 0.18, 0.  , 0.82]],\n",
              "      dtype=float32)"
            ]
          },
          "metadata": {},
          "execution_count": 8
        }
      ]
    },
    {
      "cell_type": "markdown",
      "source": [
        "The model seems almost certain that this image belongs to class 9 (ankle boot).\n",
        "\n",
        "Should you trust it? Is there really so little room for doubt? \n",
        "\n",
        "Compare this with the\n",
        "predictions made when dropout is activated:"
      ],
      "metadata": {
        "id": "YLqA-8B89Gqu"
      }
    },
    {
      "cell_type": "code",
      "source": [
        "np.round(y_probas[:, :1], 2)"
      ],
      "metadata": {
        "colab": {
          "base_uri": "https://localhost:8080/"
        },
        "id": "OlEuadMQ9Kzp",
        "outputId": "6e095daa-3523-49a9-ee3a-061e1277e0cf"
      },
      "execution_count": 9,
      "outputs": [
        {
          "output_type": "execute_result",
          "data": {
            "text/plain": [
              "array([[[0.  , 0.  , 0.  , 0.  , 0.  , 0.04, 0.  , 0.62, 0.  , 0.34]],\n",
              "\n",
              "       [[0.  , 0.  , 0.  , 0.  , 0.  , 0.01, 0.  , 0.79, 0.  , 0.21]],\n",
              "\n",
              "       [[0.  , 0.  , 0.  , 0.  , 0.  , 0.11, 0.  , 0.32, 0.  , 0.56]],\n",
              "\n",
              "       [[0.  , 0.  , 0.  , 0.  , 0.  , 0.02, 0.  , 0.49, 0.  , 0.49]],\n",
              "\n",
              "       [[0.  , 0.  , 0.  , 0.  , 0.01, 0.22, 0.01, 0.66, 0.  , 0.1 ]],\n",
              "\n",
              "       [[0.  , 0.  , 0.  , 0.  , 0.  , 0.  , 0.  , 0.11, 0.  , 0.88]],\n",
              "\n",
              "       [[0.02, 0.01, 0.  , 0.01, 0.01, 0.46, 0.13, 0.3 , 0.  , 0.05]],\n",
              "\n",
              "       [[0.  , 0.  , 0.  , 0.  , 0.  , 0.05, 0.  , 0.48, 0.  , 0.46]],\n",
              "\n",
              "       [[0.  , 0.  , 0.  , 0.  , 0.  , 0.03, 0.  , 0.19, 0.  , 0.77]],\n",
              "\n",
              "       [[0.  , 0.  , 0.  , 0.  , 0.  , 0.02, 0.  , 0.1 , 0.  , 0.87]],\n",
              "\n",
              "       [[0.  , 0.  , 0.  , 0.  , 0.  , 0.34, 0.  , 0.31, 0.  , 0.34]],\n",
              "\n",
              "       [[0.  , 0.  , 0.  , 0.  , 0.  , 0.01, 0.  , 0.02, 0.  , 0.97]],\n",
              "\n",
              "       [[0.  , 0.  , 0.  , 0.  , 0.  , 0.04, 0.  , 0.35, 0.  , 0.6 ]],\n",
              "\n",
              "       [[0.  , 0.  , 0.  , 0.  , 0.05, 0.17, 0.02, 0.44, 0.04, 0.29]],\n",
              "\n",
              "       [[0.  , 0.  , 0.  , 0.  , 0.  , 0.23, 0.  , 0.53, 0.  , 0.23]],\n",
              "\n",
              "       [[0.  , 0.  , 0.  , 0.  , 0.  , 0.67, 0.  , 0.05, 0.  , 0.28]],\n",
              "\n",
              "       [[0.  , 0.  , 0.  , 0.  , 0.  , 0.04, 0.  , 0.5 , 0.  , 0.45]],\n",
              "\n",
              "       [[0.  , 0.  , 0.  , 0.  , 0.  , 0.31, 0.  , 0.12, 0.01, 0.56]],\n",
              "\n",
              "       [[0.  , 0.  , 0.  , 0.  , 0.  , 0.07, 0.  , 0.8 , 0.  , 0.11]],\n",
              "\n",
              "       [[0.01, 0.  , 0.  , 0.  , 0.  , 0.08, 0.  , 0.75, 0.01, 0.14]],\n",
              "\n",
              "       [[0.  , 0.  , 0.  , 0.  , 0.  , 0.09, 0.01, 0.68, 0.  , 0.21]],\n",
              "\n",
              "       [[0.  , 0.  , 0.  , 0.  , 0.  , 0.  , 0.  , 0.07, 0.  , 0.93]],\n",
              "\n",
              "       [[0.  , 0.  , 0.  , 0.  , 0.  , 0.18, 0.  , 0.32, 0.  , 0.5 ]],\n",
              "\n",
              "       [[0.  , 0.  , 0.  , 0.  , 0.  , 0.01, 0.01, 0.1 , 0.  , 0.88]],\n",
              "\n",
              "       [[0.03, 0.  , 0.01, 0.01, 0.01, 0.03, 0.06, 0.22, 0.01, 0.63]],\n",
              "\n",
              "       [[0.  , 0.  , 0.  , 0.  , 0.01, 0.2 , 0.01, 0.41, 0.01, 0.36]],\n",
              "\n",
              "       [[0.  , 0.  , 0.  , 0.  , 0.  , 0.04, 0.  , 0.38, 0.01, 0.55]],\n",
              "\n",
              "       [[0.  , 0.  , 0.  , 0.  , 0.  , 0.02, 0.  , 0.8 , 0.02, 0.15]],\n",
              "\n",
              "       [[0.  , 0.  , 0.  , 0.  , 0.  , 0.16, 0.  , 0.61, 0.  , 0.23]],\n",
              "\n",
              "       [[0.01, 0.  , 0.  , 0.  , 0.  , 0.04, 0.  , 0.49, 0.  , 0.45]],\n",
              "\n",
              "       [[0.  , 0.  , 0.  , 0.  , 0.  , 0.21, 0.  , 0.31, 0.  , 0.47]],\n",
              "\n",
              "       [[0.  , 0.  , 0.  , 0.  , 0.  , 0.1 , 0.01, 0.4 , 0.01, 0.48]],\n",
              "\n",
              "       [[0.  , 0.  , 0.  , 0.  , 0.  , 0.04, 0.  , 0.71, 0.  , 0.26]],\n",
              "\n",
              "       [[0.  , 0.  , 0.  , 0.  , 0.  , 0.03, 0.  , 0.58, 0.01, 0.37]],\n",
              "\n",
              "       [[0.  , 0.  , 0.  , 0.  , 0.  , 0.02, 0.  , 0.68, 0.  , 0.3 ]],\n",
              "\n",
              "       [[0.  , 0.  , 0.  , 0.  , 0.  , 0.03, 0.  , 0.43, 0.  , 0.52]],\n",
              "\n",
              "       [[0.  , 0.  , 0.  , 0.  , 0.  , 0.08, 0.08, 0.21, 0.  , 0.62]],\n",
              "\n",
              "       [[0.  , 0.  , 0.  , 0.  , 0.  , 0.06, 0.  , 0.39, 0.01, 0.54]],\n",
              "\n",
              "       [[0.  , 0.  , 0.  , 0.  , 0.  , 0.03, 0.  , 0.25, 0.  , 0.72]],\n",
              "\n",
              "       [[0.  , 0.  , 0.  , 0.  , 0.  , 0.09, 0.01, 0.38, 0.  , 0.5 ]],\n",
              "\n",
              "       [[0.  , 0.  , 0.  , 0.  , 0.  , 0.37, 0.  , 0.38, 0.01, 0.24]],\n",
              "\n",
              "       [[0.  , 0.  , 0.  , 0.  , 0.  , 0.01, 0.  , 0.43, 0.  , 0.57]],\n",
              "\n",
              "       [[0.  , 0.  , 0.  , 0.  , 0.  , 0.02, 0.  , 0.11, 0.  , 0.86]],\n",
              "\n",
              "       [[0.  , 0.  , 0.  , 0.  , 0.  , 0.05, 0.  , 0.24, 0.01, 0.69]],\n",
              "\n",
              "       [[0.  , 0.  , 0.  , 0.  , 0.  , 0.2 , 0.  , 0.62, 0.  , 0.17]],\n",
              "\n",
              "       [[0.  , 0.  , 0.  , 0.  , 0.  , 0.07, 0.  , 0.37, 0.01, 0.55]],\n",
              "\n",
              "       [[0.  , 0.  , 0.  , 0.  , 0.  , 0.  , 0.  , 0.98, 0.01, 0.  ]],\n",
              "\n",
              "       [[0.  , 0.  , 0.  , 0.  , 0.  , 0.04, 0.  , 0.84, 0.01, 0.11]],\n",
              "\n",
              "       [[0.  , 0.  , 0.  , 0.  , 0.  , 0.02, 0.  , 0.04, 0.  , 0.93]],\n",
              "\n",
              "       [[0.  , 0.  , 0.  , 0.  , 0.01, 0.18, 0.06, 0.21, 0.  , 0.54]],\n",
              "\n",
              "       [[0.  , 0.  , 0.  , 0.  , 0.  , 0.07, 0.  , 0.61, 0.01, 0.31]],\n",
              "\n",
              "       [[0.  , 0.  , 0.  , 0.  , 0.  , 0.02, 0.  , 0.67, 0.  , 0.31]],\n",
              "\n",
              "       [[0.01, 0.  , 0.02, 0.  , 0.  , 0.06, 0.  , 0.31, 0.01, 0.58]],\n",
              "\n",
              "       [[0.01, 0.  , 0.  , 0.  , 0.  , 0.16, 0.  , 0.52, 0.  , 0.31]],\n",
              "\n",
              "       [[0.  , 0.  , 0.  , 0.  , 0.  , 0.04, 0.  , 0.33, 0.  , 0.62]],\n",
              "\n",
              "       [[0.  , 0.  , 0.  , 0.  , 0.  , 0.  , 0.  , 0.07, 0.  , 0.93]],\n",
              "\n",
              "       [[0.  , 0.  , 0.  , 0.  , 0.  , 0.04, 0.  , 0.16, 0.04, 0.77]],\n",
              "\n",
              "       [[0.  , 0.  , 0.  , 0.  , 0.  , 0.02, 0.  , 0.91, 0.  , 0.06]],\n",
              "\n",
              "       [[0.  , 0.  , 0.  , 0.  , 0.  , 0.01, 0.  , 0.32, 0.  , 0.67]],\n",
              "\n",
              "       [[0.  , 0.  , 0.  , 0.  , 0.  , 0.02, 0.  , 0.75, 0.  , 0.23]],\n",
              "\n",
              "       [[0.  , 0.  , 0.  , 0.  , 0.  , 0.06, 0.  , 0.64, 0.  , 0.29]],\n",
              "\n",
              "       [[0.  , 0.  , 0.  , 0.  , 0.  , 0.06, 0.  , 0.79, 0.09, 0.05]],\n",
              "\n",
              "       [[0.01, 0.  , 0.  , 0.  , 0.  , 0.23, 0.  , 0.4 , 0.  , 0.36]],\n",
              "\n",
              "       [[0.  , 0.  , 0.  , 0.  , 0.  , 0.25, 0.  , 0.43, 0.  , 0.32]],\n",
              "\n",
              "       [[0.  , 0.  , 0.  , 0.  , 0.  , 0.13, 0.  , 0.42, 0.  , 0.44]],\n",
              "\n",
              "       [[0.  , 0.  , 0.  , 0.  , 0.  , 0.02, 0.  , 0.77, 0.01, 0.2 ]],\n",
              "\n",
              "       [[0.  , 0.  , 0.  , 0.  , 0.  , 0.22, 0.  , 0.64, 0.  , 0.14]],\n",
              "\n",
              "       [[0.  , 0.  , 0.  , 0.  , 0.  , 0.04, 0.  , 0.37, 0.  , 0.58]],\n",
              "\n",
              "       [[0.  , 0.  , 0.  , 0.  , 0.  , 0.02, 0.  , 0.23, 0.  , 0.74]],\n",
              "\n",
              "       [[0.  , 0.  , 0.  , 0.  , 0.  , 0.08, 0.  , 0.53, 0.01, 0.37]],\n",
              "\n",
              "       [[0.  , 0.  , 0.  , 0.  , 0.01, 0.1 , 0.01, 0.06, 0.  , 0.81]],\n",
              "\n",
              "       [[0.  , 0.  , 0.  , 0.  , 0.  , 0.29, 0.  , 0.33, 0.18, 0.19]],\n",
              "\n",
              "       [[0.  , 0.  , 0.  , 0.  , 0.  , 0.62, 0.  , 0.03, 0.03, 0.32]],\n",
              "\n",
              "       [[0.  , 0.  , 0.  , 0.  , 0.  , 0.01, 0.  , 0.17, 0.01, 0.8 ]],\n",
              "\n",
              "       [[0.  , 0.  , 0.  , 0.  , 0.  , 0.11, 0.  , 0.5 , 0.  , 0.38]],\n",
              "\n",
              "       [[0.01, 0.  , 0.01, 0.  , 0.02, 0.13, 0.06, 0.38, 0.01, 0.38]],\n",
              "\n",
              "       [[0.  , 0.  , 0.  , 0.  , 0.  , 0.15, 0.  , 0.65, 0.  , 0.2 ]],\n",
              "\n",
              "       [[0.  , 0.  , 0.  , 0.  , 0.  , 0.05, 0.  , 0.6 , 0.  , 0.35]],\n",
              "\n",
              "       [[0.  , 0.  , 0.  , 0.  , 0.  , 0.01, 0.01, 0.38, 0.  , 0.6 ]],\n",
              "\n",
              "       [[0.  , 0.  , 0.  , 0.  , 0.  , 0.06, 0.  , 0.72, 0.  , 0.21]],\n",
              "\n",
              "       [[0.  , 0.  , 0.  , 0.  , 0.  , 0.01, 0.  , 0.74, 0.  , 0.25]],\n",
              "\n",
              "       [[0.  , 0.  , 0.  , 0.  , 0.  , 0.02, 0.  , 0.04, 0.  , 0.94]],\n",
              "\n",
              "       [[0.  , 0.  , 0.  , 0.  , 0.  , 0.01, 0.  , 0.28, 0.01, 0.7 ]],\n",
              "\n",
              "       [[0.  , 0.  , 0.  , 0.  , 0.  , 0.  , 0.  , 0.05, 0.  , 0.94]],\n",
              "\n",
              "       [[0.04, 0.  , 0.01, 0.  , 0.  , 0.54, 0.01, 0.16, 0.04, 0.19]],\n",
              "\n",
              "       [[0.  , 0.  , 0.  , 0.  , 0.  , 0.05, 0.  , 0.85, 0.  , 0.1 ]],\n",
              "\n",
              "       [[0.  , 0.  , 0.  , 0.  , 0.  , 0.75, 0.  , 0.15, 0.  , 0.1 ]],\n",
              "\n",
              "       [[0.  , 0.  , 0.  , 0.  , 0.  , 0.  , 0.  , 0.01, 0.  , 0.99]],\n",
              "\n",
              "       [[0.  , 0.  , 0.  , 0.  , 0.  , 0.01, 0.  , 0.93, 0.  , 0.07]],\n",
              "\n",
              "       [[0.  , 0.  , 0.  , 0.  , 0.  , 0.  , 0.  , 0.31, 0.  , 0.68]],\n",
              "\n",
              "       [[0.  , 0.  , 0.  , 0.  , 0.  , 0.28, 0.  , 0.08, 0.  , 0.64]],\n",
              "\n",
              "       [[0.  , 0.  , 0.  , 0.  , 0.01, 0.12, 0.  , 0.59, 0.02, 0.25]],\n",
              "\n",
              "       [[0.  , 0.  , 0.  , 0.  , 0.  , 0.06, 0.  , 0.1 , 0.  , 0.83]],\n",
              "\n",
              "       [[0.  , 0.  , 0.  , 0.  , 0.  , 0.35, 0.  , 0.38, 0.  , 0.26]],\n",
              "\n",
              "       [[0.  , 0.  , 0.  , 0.  , 0.  , 0.05, 0.  , 0.69, 0.  , 0.26]],\n",
              "\n",
              "       [[0.  , 0.  , 0.  , 0.  , 0.02, 0.14, 0.01, 0.54, 0.01, 0.27]],\n",
              "\n",
              "       [[0.  , 0.  , 0.  , 0.  , 0.  , 0.73, 0.01, 0.09, 0.01, 0.15]],\n",
              "\n",
              "       [[0.  , 0.  , 0.  , 0.  , 0.  , 0.05, 0.  , 0.11, 0.  , 0.84]],\n",
              "\n",
              "       [[0.  , 0.  , 0.  , 0.01, 0.  , 0.01, 0.  , 0.82, 0.  , 0.15]],\n",
              "\n",
              "       [[0.  , 0.  , 0.  , 0.01, 0.  , 0.06, 0.01, 0.61, 0.  , 0.3 ]]],\n",
              "      dtype=float32)"
            ]
          },
          "metadata": {},
          "execution_count": 9
        }
      ]
    },
    {
      "cell_type": "markdown",
      "source": [
        "This tells a very different story: apparently, when we activate dropout, the model is\n",
        "not sure anymore. \n",
        "\n",
        "It still seems to prefer class 9, but sometimes it hesitates with\n",
        "classes 5 (sandal) and 7 (sneaker), which makes sense given they’re all footwear. \n",
        "\n",
        "Once we average over the first dimension, we get the following MC Dropout predictions:"
      ],
      "metadata": {
        "id": "LRNmAI1h9caZ"
      }
    },
    {
      "cell_type": "code",
      "source": [
        "np.round(y_proba[:1], 2)"
      ],
      "metadata": {
        "colab": {
          "base_uri": "https://localhost:8080/"
        },
        "id": "-qUOmVab9hZ-",
        "outputId": "f304a1e5-db72-4b54-a1d0-9133ccbed91b"
      },
      "execution_count": 10,
      "outputs": [
        {
          "output_type": "execute_result",
          "data": {
            "text/plain": [
              "array([[0.  , 0.  , 0.  , 0.  , 0.  , 0.12, 0.01, 0.42, 0.01, 0.44]],\n",
              "      dtype=float32)"
            ]
          },
          "metadata": {},
          "execution_count": 10
        }
      ]
    },
    {
      "cell_type": "markdown",
      "source": [
        "The model still thinks this image belongs to class 9, but only with a 44% confidence,\n",
        "which seems much more reasonable than 99%. \n",
        "\n",
        "Plus it’s useful to know exactly which\n",
        "other classes it thinks are likely. \n",
        "\n",
        "And you can also take a look at the standard deviation\n",
        "of the probability estimates:"
      ],
      "metadata": {
        "id": "z6IlTa-B9x7s"
      }
    },
    {
      "cell_type": "code",
      "source": [
        "y_std = y_probas.std(axis=0)\n",
        "np.round(y_std[:1], 2)"
      ],
      "metadata": {
        "colab": {
          "base_uri": "https://localhost:8080/"
        },
        "id": "ZBBvsFke91pz",
        "outputId": "fb578c65-ca81-4e10-e7d8-21f0ce519aa6"
      },
      "execution_count": 11,
      "outputs": [
        {
          "output_type": "execute_result",
          "data": {
            "text/plain": [
              "array([[0.01, 0.  , 0.  , 0.  , 0.01, 0.16, 0.02, 0.25, 0.02, 0.26]],\n",
              "      dtype=float32)"
            ]
          },
          "metadata": {},
          "execution_count": 11
        }
      ]
    },
    {
      "cell_type": "markdown",
      "source": [
        "Apparently there’s quite a lot of variance in the probability estimates: **if you were building a risk-sensitive system (e.g., a medical or financial system), you should probably treat such an uncertain prediction with extreme caution**. You definitely would\n",
        "not treat it like a 99% confident prediction. \n",
        "\n",
        "Moreover, the model’s accuracy got a\n",
        "small boost from 86.8 to 86.9:"
      ],
      "metadata": {
        "id": "BghNCCNM_WYQ"
      }
    },
    {
      "cell_type": "code",
      "source": [
        "y_pred = np.argmax(y_proba, axis=1)\n",
        "accuracy = np.sum(y_pred == y_test) / len(y_test)\n",
        "accuracy"
      ],
      "metadata": {
        "colab": {
          "base_uri": "https://localhost:8080/"
        },
        "id": "kk05Q0No_fhl",
        "outputId": "3d954596-5916-424f-c070-3a5e62cd8c0f"
      },
      "execution_count": 13,
      "outputs": [
        {
          "output_type": "execute_result",
          "data": {
            "text/plain": [
              "0.8562"
            ]
          },
          "metadata": {},
          "execution_count": 13
        }
      ]
    },
    {
      "cell_type": "markdown",
      "source": [
        "If your model contains other layers that behave in a special way during training (such as `BatchNormalization` layers), then you should not force training mode like we just did. \n",
        "\n",
        "Instead, you should replace the Dropout layers with the following `MCDropout`\n",
        "class:"
      ],
      "metadata": {
        "id": "YtE1IWj5AVWL"
      }
    },
    {
      "cell_type": "code",
      "source": [
        "class MCDropout(keras.layers.Dropout):\n",
        "  def call(self, inputs):\n",
        "      return super().call(inputs, training=True)\n",
        "\n",
        "class MCAlphaDropout(keras.layers.AlphaDropout):\n",
        "  def call(self, inputs):\n",
        "      return super().call(inputs, training=True)"
      ],
      "metadata": {
        "id": "sWzx7LdkAazf"
      },
      "execution_count": 14,
      "outputs": []
    },
    {
      "cell_type": "markdown",
      "source": [
        "Here, we just subclass the Dropout layer and override the `call()` method to force its training argument to True.\n",
        "\n",
        "If you are creating a model from\n",
        "scratch, it’s just a matter of using MCDropout rather than Dropout.\n",
        "\n",
        "But if you have a\n",
        "model that was already trained using Dropout, you need to create a new model that’s\n",
        "identical to the existing model except that it replaces the Dropout layers with MCDrop\n",
        "out, then copy the existing model’s weights to your new model."
      ],
      "metadata": {
        "id": "UzPjEj5jAzCe"
      }
    },
    {
      "cell_type": "code",
      "source": [
        "tf.random.set_seed(42)\n",
        "np.random.seed(42)"
      ],
      "metadata": {
        "id": "2iJxLLjvBFGR"
      },
      "execution_count": 15,
      "outputs": []
    },
    {
      "cell_type": "code",
      "source": [
        "mc_model = keras.models.Sequential([\n",
        "    MCAlphaDropout(layer.rate) if isinstance(layer, keras.layers.AlphaDropout) else layer for layer in model.layers\n",
        "])"
      ],
      "metadata": {
        "id": "sX-pm8N9BJiw"
      },
      "execution_count": 16,
      "outputs": []
    },
    {
      "cell_type": "code",
      "source": [
        "mc_model.summary()"
      ],
      "metadata": {
        "colab": {
          "base_uri": "https://localhost:8080/"
        },
        "id": "7nCR_lyxBSGa",
        "outputId": "25cceba9-089b-4465-9bec-5fa732b10aff"
      },
      "execution_count": 17,
      "outputs": [
        {
          "output_type": "stream",
          "name": "stdout",
          "text": [
            "Model: \"sequential_1\"\n",
            "_________________________________________________________________\n",
            " Layer (type)                Output Shape              Param #   \n",
            "=================================================================\n",
            " flatten (Flatten)           (None, 784)               0         \n",
            "                                                                 \n",
            " mc_alpha_dropout (MCAlphaDr  (None, 784)              0         \n",
            " opout)                                                          \n",
            "                                                                 \n",
            " dense (Dense)               (None, 300)               235500    \n",
            "                                                                 \n",
            " mc_alpha_dropout_1 (MCAlpha  (None, 300)              0         \n",
            " Dropout)                                                        \n",
            "                                                                 \n",
            " dense_1 (Dense)             (None, 100)               30100     \n",
            "                                                                 \n",
            " mc_alpha_dropout_2 (MCAlpha  (None, 100)              0         \n",
            " Dropout)                                                        \n",
            "                                                                 \n",
            " dense_2 (Dense)             (None, 10)                1010      \n",
            "                                                                 \n",
            "=================================================================\n",
            "Total params: 266,610\n",
            "Trainable params: 266,610\n",
            "Non-trainable params: 0\n",
            "_________________________________________________________________\n"
          ]
        }
      ]
    },
    {
      "cell_type": "code",
      "source": [
        "optimizer = keras.optimizers.SGD(learning_rate=0.01, momentum=0.9, nesterov=True)\n",
        "mc_model.compile(loss=\"sparse_categorical_crossentropy\", optimizer=optimizer, metrics=[\"accuracy\"])"
      ],
      "metadata": {
        "id": "U5ePco_XBWwP"
      },
      "execution_count": 18,
      "outputs": []
    },
    {
      "cell_type": "code",
      "source": [
        "mc_model.set_weights(model.get_weights())"
      ],
      "metadata": {
        "id": "FgdLYWfhBZMR"
      },
      "execution_count": 19,
      "outputs": []
    },
    {
      "cell_type": "markdown",
      "source": [
        "Now we can use the model with MC Dropout:"
      ],
      "metadata": {
        "id": "USmkSl63Bcr6"
      }
    },
    {
      "cell_type": "code",
      "source": [
        "np.round(np.mean([mc_model.predict(X_test_scaled[:1]) for sample in range(100)], axis=0), 2)"
      ],
      "metadata": {
        "colab": {
          "base_uri": "https://localhost:8080/"
        },
        "id": "sapJd4w4BdJF",
        "outputId": "aadb77a4-2be5-4fbc-c1b6-ab96daad2d1a"
      },
      "execution_count": 20,
      "outputs": [
        {
          "output_type": "execute_result",
          "data": {
            "text/plain": [
              "array([[0.  , 0.  , 0.  , 0.  , 0.  , 0.11, 0.  , 0.4 , 0.01, 0.47]],\n",
              "      dtype=float32)"
            ]
          },
          "metadata": {},
          "execution_count": 20
        }
      ]
    },
    {
      "cell_type": "markdown",
      "source": [
        "In short, MC Dropout is a fantastic technique that boosts dropout models and provides\n",
        "better uncertainty estimates. \n",
        "\n",
        "And of course, since it is just regular dropout during\n",
        "training, it also acts like a regularizer."
      ],
      "metadata": {
        "id": "fXVXtiauBhIp"
      }
    },
    {
      "cell_type": "markdown",
      "metadata": {
        "id": "ScpS3asJsKER"
      },
      "source": [
        "## Max-Norm Regularization"
      ]
    },
    {
      "cell_type": "markdown",
      "metadata": {
        "id": "3eBWP69rsLIr"
      },
      "source": [
        "Another regularization technique that is quite popular for neural networks is called max-norm regularization: for each neuron, it constrains the weights $w$ of the incoming\n",
        "connections such that $|w|_2 ≤ r$, where $r$ is the max-norm hyperparameter\n",
        "and $|.|_2$ is the $L_2$ norm.\n",
        "\n",
        "Max-norm regularization does not add a regularization loss term to the overall loss\n",
        "function. Instead, it is typically implemented by computing $|w|_2$ after each training\n",
        "step and clipping $w$ if needed.\n",
        "\n",
        "Reducing $r$ increases the amount of regularization and helps reduce overfitting. Maxnorm\n",
        "regularization can also help alleviate the vanishing/exploding gradients problems\n",
        "(if you are not using Batch Normalization).\n",
        "\n",
        "To implement max-norm regularization in Keras, just set every hidden layer’s `kernel_constraint` argument to a `max_norm()` constraint, with the appropriate max value.\n",
        "\n",
        "```python\n",
        "keras.layers.Dense(100, activation=\"elu\", kernel_initializer=\"he_normal\",\n",
        "                    kernel_constraint=keras.constraints.max_norm(1.))\n",
        "```"
      ]
    },
    {
      "cell_type": "code",
      "metadata": {
        "id": "TBMIliHlsGhO"
      },
      "source": [
        "MaxNormDense = partial(keras.layers.Dense, \n",
        "                       activation='selu', \n",
        "                       kernel_initializer='lecun_normal',\n",
        "                       kernel_constraint=keras.constraints.max_norm(1.))\n",
        "\n",
        "model = Sequential([\n",
        "    Flatten(input_shape=[28, 28]),\n",
        "    MaxNormDense(300),\n",
        "    MaxNormDense(100),\n",
        "    Dense(10, activation='softmax', kernel_regularizer=keras.regularizers.l2(0.01)),             \n",
        "])\n",
        "\n",
        "model.compile(loss='sparse_categorical_crossentropy', optimizer='nadam', metrics=['accuracy'])\n",
        "\n",
        "n_epochs = 20\n",
        "history = model.fit(X_train_scaled, y_train, epochs=n_epochs, validation_data=(X_valid_scaled, y_valid))"
      ],
      "execution_count": null,
      "outputs": []
    },
    {
      "cell_type": "code",
      "metadata": {
        "id": "FCuFV676ttkx",
        "colab": {
          "base_uri": "https://localhost:8080/",
          "height": 248
        },
        "outputId": "5554be6c-facf-4efe-b128-0dee5ba976b2"
      },
      "source": [
        "plot_accuracy_and_loss(history, 'Max-norm Regularization')"
      ],
      "execution_count": 22,
      "outputs": [
        {
          "output_type": "display_data",
          "data": {
            "text/plain": [
              "<Figure size 720x216 with 2 Axes>"
            ],
            "image/png": "[encoded data removed]"
          },
          "metadata": {
            "needs_background": "light"
          }
        }
      ]
    },
    {
      "cell_type": "markdown",
      "metadata": {
        "id": "0_O8EcXjtD18"
      },
      "source": [
        "The `max_norm()` function has an axis argument that defaults to 0. A Dense layer usually\n",
        "has weights of shape `[number of inputs, number of neurons]`, so using axis=0\n",
        "means that the max norm constraint will apply independently to each neuron’s weight\n",
        "vector. If you want to use max-norm with convolutional layers make sure to set the max_norm() constraint’s axis argument appropriately (usually\n",
        "`axis=[0, 1, 2]`)."
      ]
    },
    {
      "cell_type": "markdown",
      "source": [
        "##Summary and Practical Guidelines"
      ],
      "metadata": {
        "id": "7XJ51e6sFHd-"
      }
    },
    {
      "cell_type": "markdown",
      "source": [
        "Don’t forget to normalize the input features! You should also try to reuse parts of a\n",
        "pretrained neural network if you can find one that solves a similar problem, or use\n",
        "unsupervised pretraining if you have a lot of unlabeled data, or use pretraining on an\n",
        "auxiliary task if you have a lot of labeled data for a similar task.\n",
        "\n",
        "While the guidelines should cover most cases, here are some exceptions:\n",
        "\n",
        "* If you need a sparse model, you can use $L_1$ regularization (and optionally zero out\n",
        "the tiny weights after training). If you need an even sparser model, you can use\n",
        "the TensorFlow Model Optimization Toolkit. This will break self-normalization,\n",
        "so you should use the default configuration in this case.\n",
        "\n",
        "* If you need a low-latency model (one that performs lightning-fast predictions),\n",
        "you may need to use fewer layers, fold the Batch Normalization layers into the\n",
        "previous layers, and possibly use a faster activation function such as leaky ReLU\n",
        "or just ReLU. Having a sparse model will also help. Finally, you may want to\n",
        "reduce the float precision from 32 bits to 16 or even 8 bits.\n",
        "\n",
        "* If you are building a risk-sensitive application, or inference latency is not very\n",
        "important in your application, you can use MC Dropout to boost performance\n",
        "and get more reliable probability estimates, along with uncertainty estimates.\n",
        "\n"
      ],
      "metadata": {
        "id": "I4r7HOAFFIMC"
      }
    }
  ]
}