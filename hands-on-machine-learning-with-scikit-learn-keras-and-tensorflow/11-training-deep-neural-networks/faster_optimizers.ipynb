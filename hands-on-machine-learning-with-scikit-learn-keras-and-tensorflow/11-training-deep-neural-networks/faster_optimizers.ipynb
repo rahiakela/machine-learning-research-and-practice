{
  "nbformat": 4,
  "nbformat_minor": 0,
  "metadata": {
    "colab": {
      "name": "faster-optimizers.ipynb",
      "provenance": [],
      "toc_visible": true,
      "include_colab_link": true
    },
    "kernelspec": {
      "name": "python3",
      "display_name": "Python 3"
    }
  },
  "cells": [
    {
      "cell_type": "markdown",
      "metadata": {
        "id": "view-in-github",
        "colab_type": "text"
      },
      "source": [
        "<a href=\"https://colab.research.google.com/github/rahiakela/hands-on-machine-learning-with-scikit-learn-keras-and-tensorflow/blob/11-training-deep-neural-networks/faster_optimizers.ipynb\" target=\"_parent\"><img src=\"https://colab.research.google.com/assets/colab-badge.svg\" alt=\"Open In Colab\"/></a>"
      ]
    },
    {
      "cell_type": "markdown",
      "metadata": {
        "id": "6Ko31BpKKyDt",
        "colab_type": "text"
      },
      "source": [
        "# Faster Optimizers"
      ]
    },
    {
      "cell_type": "markdown",
      "metadata": {
        "id": "NxEbaqdMKy_1",
        "colab_type": "text"
      },
      "source": [
        "Training a very large deep neural network can be painfully slow. So far we have seen four ways to speed up training (and reach a better solution): \n",
        "\n",
        "* applying a good initialization strategy for the connection weights, \n",
        "* using a good activation function, \n",
        "* using Batch Normalization, \n",
        "* and reusing parts of a pretrained network\n",
        "\n",
        "Another huge speed boost comes from using a faster optimizer than the regular Gradient Descent optimizer. Lets analyze these most popular ones: \n",
        "* Momentum optimization, \n",
        "* Nesterov Accelerated Gradient, \n",
        "* AdaGrad, \n",
        "* RMSProp, \n",
        "* and finally Adam and Nadam optimization."
      ]
    },
    {
      "cell_type": "markdown",
      "metadata": {
        "id": "TdI92unKWoyB",
        "colab_type": "text"
      },
      "source": [
        "## Setup"
      ]
    },
    {
      "cell_type": "code",
      "metadata": {
        "id": "aM46ucBbWraU",
        "colab_type": "code",
        "outputId": "590b4d12-45c0-4a12-a602-92add9fffe74",
        "colab": {
          "base_uri": "https://localhost:8080/"
        }
      },
      "source": [
        "import sys\n",
        "assert sys.version_info >= (3, 5)  # Python ≥3.5 is required\n",
        "\n",
        "import sklearn \n",
        "assert sklearn.__version__ >= \"0.20\"  # Scikit-Learn ≥0.20 is required\n",
        "\n",
        "# %tensorflow_version only exists in Colab.\n",
        "try:\n",
        "  %tensorflow_version 2.x\n",
        "except Exception:\n",
        "  pass\n",
        "\n",
        "# TensorFlow ≥2.0 is required\n",
        "import tensorflow as tf\n",
        "from tensorflow import keras\n",
        "assert tf.__version__ >= '2.0'\n",
        "\n",
        "# Common imports\n",
        "import numpy as np\n",
        "import os\n",
        "\n",
        "from tensorflow.keras.models import Sequential\n",
        "from tensorflow.keras.layers import Dense, Flatten\n",
        "from tensorflow.keras.optimizers import SGD\n",
        "import tensorflow.keras.backend as keras_backend\n",
        "\n",
        "# to make this notebook's output stable across runs\n",
        "np.random.seed(42)\n",
        "\n",
        "# To plot pretty figures\n",
        "%matplotlib inline\n",
        "import matplotlib as mpl\n",
        "import matplotlib.pyplot as plt\n",
        "mpl.rc('axes', labelsize=14)\n",
        "mpl.rc('xtick', labelsize=12)\n",
        "mpl.rc('ytick', labelsize=12)"
      ],
      "execution_count": 0,
      "outputs": [
        {
          "output_type": "stream",
          "text": [
            "TensorFlow 2.x selected.\n"
          ],
          "name": "stdout"
        }
      ]
    },
    {
      "cell_type": "code",
      "metadata": {
        "id": "zMLGgnfZW2TG",
        "colab_type": "code",
        "outputId": "139c44d4-4168-44a1-da39-59b1d1708f82",
        "colab": {
          "base_uri": "https://localhost:8080/"
        }
      },
      "source": [
        "(X_train_full, y_train_full), (X_test, y_test) = keras.datasets.fashion_mnist.load_data()\n",
        "\n",
        "X_train_full = X_train_full / 255.\n",
        "X_test = X_test / 255.\n",
        "\n",
        "X_valid, X_train = X_train_full[:5000], X_train_full[5000:]\n",
        "y_valid, y_train = y_train_full[:5000], y_train_full[5000:]"
      ],
      "execution_count": 0,
      "outputs": [
        {
          "output_type": "stream",
          "text": [
            "Downloading data from https://storage.googleapis.com/tensorflow/tf-keras-datasets/train-labels-idx1-ubyte.gz\n",
            "32768/29515 [=================================] - 0s 0us/step\n",
            "Downloading data from https://storage.googleapis.com/tensorflow/tf-keras-datasets/train-images-idx3-ubyte.gz\n",
            "26427392/26421880 [==============================] - 0s 0us/step\n",
            "Downloading data from https://storage.googleapis.com/tensorflow/tf-keras-datasets/t10k-labels-idx1-ubyte.gz\n",
            "8192/5148 [===============================================] - 0s 0us/step\n",
            "Downloading data from https://storage.googleapis.com/tensorflow/tf-keras-datasets/t10k-images-idx3-ubyte.gz\n",
            "4423680/4422102 [==============================] - 0s 0us/step\n"
          ],
          "name": "stdout"
        }
      ]
    },
    {
      "cell_type": "markdown",
      "metadata": {
        "id": "zoLwH7d5U2tr",
        "colab_type": "text"
      },
      "source": [
        "## Momentum optimization"
      ]
    },
    {
      "cell_type": "markdown",
      "metadata": {
        "id": "FZeu4RnEUxLm",
        "colab_type": "text"
      },
      "source": [
        "Recall that Gradient Descent simply updates the weights θ by directly subtracting the gradient of the cost function J(θ) with regards to the weights (∇θJ(θ)) multiplied by the learning rate η.\n",
        "\n",
        "<img src='https://github.com/rahiakela/img-repo/blob/master/hands-on-machine-learning-keras-tensorflow/gradient.PNG?raw=1' width='800'/>\n",
        "\n",
        "It does not care about what the earlier gradients were. If the local gradient is tiny, it goes very slowly.\n",
        "\n",
        "Momentum optimization cares a great deal about what previous gradients were: at\n",
        "each iteration, it subtracts the local gradient from the momentum vector m (multiplied by the learning rate η), and it updates the weights by simply adding this momentum vector.\n",
        "\n",
        "<img src='https://github.com/rahiakela/img-repo/blob/master/hands-on-machine-learning-keras-tensorflow/momentum-algo.PNG?raw=1' width='800'/>\n",
        "\n",
        "In other words, the gradient is used for acceleration,\n",
        "not for speed. To simulate some sort of friction mechanism and prevent the\n",
        "momentum from growing too large, the algorithm introduces a new hyperparameter\n",
        "β, simply called the momentum, which must be set between 0 (high friction) and 1\n",
        "(no friction). A typical momentum value is 0.9.\n",
        "\n",
        "Implementing Momentum optimization in Keras is a no-brainer: just use the SGD\n",
        "optimizer and set its momentum hyperparameter, then lie back and profit!\n",
        "\n",
        "```python\n",
        "optimizer = keras.optimizers.SGD(lr=0.001, momentum=0.9)\n",
        "```\n",
        "\n",
        "The one drawback of Momentum optimization is that it adds yet another hyperparameter to tune. However, the momentum value of 0.9 usually works well in practice and almost always goes faster than regular Gradient Descent."
      ]
    },
    {
      "cell_type": "markdown",
      "metadata": {
        "id": "JAP80sAfWiUJ",
        "colab_type": "text"
      },
      "source": [
        "## Nesterov Accelerated Gradient"
      ]
    },
    {
      "cell_type": "markdown",
      "metadata": {
        "id": "CFTrEPRHWjVg",
        "colab_type": "text"
      },
      "source": [
        "One small variant to Momentum optimization is almost always faster than vanilla Momentum optimization. The idea of Nesterov Momentum optimization, or Nesterov Accelerated Gradient (NAG), is to measure the gradient of the cost function not at the local position but slightly ahead in the direction of the momentum.\n",
        "\n",
        "<img src='https://github.com/rahiakela/img-repo/blob/master/hands-on-machine-learning-keras-tensorflow/nesterov-algo.PNG?raw=1' width='800'/>\n",
        "\n",
        "NAG will almost always speed up training compared to regular Momentum optimization. To use it, simply set nesterov=True when creating the SGD optimizer.\n",
        "\n",
        "```python\n",
        "optimizer = keras.optimizers.SGD(lr=0.001, momentum=0.9, nesterov=True)\n",
        "```\n",
        "This small tweak works because in general the momentum vector will be pointing in the right direction (i.e., toward the optimum), so it will be slightly more accurate to use the gradient measured a bit farther in that direction rather than using the gradient at the original position.\n",
        "\n",
        "<img src='https://github.com/rahiakela/img-repo/blob/master/hands-on-machine-learning-keras-tensorflow/nesterov-momentum-optimization.PNG?raw=1' width='800'/>"
      ]
    },
    {
      "cell_type": "markdown",
      "metadata": {
        "id": "1VM3RYo4c10K",
        "colab_type": "text"
      },
      "source": [
        "## AdaGrad"
      ]
    },
    {
      "cell_type": "markdown",
      "metadata": {
        "id": "oie1CEFpc2xN",
        "colab_type": "text"
      },
      "source": [
        "The AdaGrad algorithm achieves this by scaling down the gradient vector along the steepest dimensions.\n",
        "\n",
        "<img src='https://github.com/rahiakela/img-repo/blob/master/hands-on-machine-learning-keras-tensorflow/adagrad-algo.PNG?raw=1' width='800'/>\n",
        "\n",
        "* The first step accumulates the square of the gradients into the vector s (recall that the ⊗ symbol represents the element-wise multiplication).If the cost function is steep along the ith dimension, then si will get larger and larger at each iteration.\n",
        "* The second step is almost identical to Gradient Descent, but with one big difference: the gradient vector is scaled down by a factor of square root of s + epsilon(the ⊘ symbol represents the element-wise division, and ϵ is a smoothing term to avoid division by zero, typically set to 10–10).\n",
        "\n",
        "This algorithm decays the learning rate, but it does so faster for steep dimensions than for dimensions with gentler slopes. This is called an adaptive learning rate. It helps point the resulting updates more directly toward the global optimum.One additional benefit is that it requires much less tuning of the learning rate hyperparameter η.\n",
        "\n",
        "<img src='https://github.com/rahiakela/img-repo/blob/master/hands-on-machine-learning-keras-tensorflow/adagrad-versus-gradient-descent.PNG?raw=1' width='800'/>\n",
        "\n",
        "AdaGrad often performs well for simple quadratic problems, but unfortunately it\n",
        "often stops too early when training neural networks. The learning rate gets scaled\n",
        "down so much that the algorithm ends up stopping entirely before reaching the\n",
        "global optimum. So even though Keras has an Adagrad optimizer, you should not use\n",
        "it to train deep neural networks (it may be efficient for simpler tasks such as Linear\n",
        "Regression, though). However, understanding Adagrad is helpful to grasp the other\n",
        "adaptive learning rate optimizers.\n",
        "\n",
        "```python\n",
        "optimizer = keras.optimizers.Adagrad(lr=0.001)\n",
        "```"
      ]
    },
    {
      "cell_type": "markdown",
      "metadata": {
        "id": "F5VXLlPNedbE",
        "colab_type": "text"
      },
      "source": [
        "## RMSProp"
      ]
    },
    {
      "cell_type": "markdown",
      "metadata": {
        "id": "oMOibg79e4WP",
        "colab_type": "text"
      },
      "source": [
        "Although AdaGrad slows down a bit too fast and ends up never converging to the\n",
        "global optimum, the RMSProp algorithm15 fixes this by accumulating only the gradients from the most recent iterations (as opposed to all the gradients since the beginning of training). It does so by using exponential decay in the first step.\n",
        "\n",
        "<img src='https://github.com/rahiakela/img-repo/blob/master/hands-on-machine-learning-keras-tensorflow/rmsprop-algo.PNG?raw=1' width='800'/>\n",
        "\n",
        "The decay rate β is typically set to 0.9. Yes, it is once again a new hyperparameter, but\n",
        "this default value often works well, so you may not need to tune it at all.\n",
        "\n",
        "```python\n",
        "optimizer = keras.optimizers.RMSprop(lr=0.001, rho=0.9)\n",
        "```\n",
        "\n",
        "Except on very simple problems, this optimizer almost always performs much better than AdaGrad. In fact, it was the preferred optimization algorithm of many researchers until Adam optimization came around."
      ]
    },
    {
      "cell_type": "markdown",
      "metadata": {
        "id": "h-wePqoVhlW3",
        "colab_type": "text"
      },
      "source": [
        "## Adam and Nadam Optimization"
      ]
    },
    {
      "cell_type": "markdown",
      "metadata": {
        "id": "_kIOg6byhmmS",
        "colab_type": "text"
      },
      "source": [
        "Adam, which stands for adaptive moment estimation, combines the ideas of Momentum optimization and RMSProp: just like Momentum optimization it keeps track of an exponentially decaying average of past gradients, and just like RMSProp it keeps track of an exponentially decaying average of past squared gradients.\n",
        "\n",
        "<img src='https://github.com/rahiakela/img-repo/blob/master/hands-on-machine-learning-keras-tensorflow/adam-algo.PNG?raw=1' width='800'/>\n",
        "\n",
        "If you just look at steps 1, 2, and 5, you will notice Adam’s close similarity to both Momentum optimization and RMSProp. The only difference is that step 1 computes an exponentially decaying average rather than an exponentially decaying sum, but these are actually equivalent except for a constant factor (the decaying average is just 1 – β1 times the decaying sum).\n",
        "\n",
        "The momentum decay hyperparameter β1 is typically initialized to 0.9, while the scaling decay hyperparameter β2 is often initialized to 0.999. As earlier, the smoothing term ϵ is usually initialized to a tiny number such as 10–7.\n",
        "\n",
        "```python\n",
        "optimizer = keras.optimizers.Adam(lr=0.001, beta_1=0.9, beta_2=0.999)\n",
        "```\n",
        "\n",
        "Since Adam is an adaptive learning rate algorithm (like AdaGrad and RMSProp), it\n",
        "requires less tuning of the learning rate hyperparameter η. You can often use the default value η = 0.001, making Adam even easier to use than Gradient Descent.\n",
        "\n",
        "All the optimization techniques discussed so far only rely on the first-order partial derivatives (Jacobians). The optimization literature contains amazing algorithms based on the second-order partial derivatives (the Hessians, which are the partial derivatives of the Jacobians). Unfortunately, these algorithms are very hard to apply to deep neural networks because there are n2 Hessians per output (where n is the number of parameters), as opposed to just n Jacobians per output. \n",
        "\n",
        "Since DNNs typically have tens of thousands of parameters, the second-order optimization algorithms often don’t even fit in memory, and even when they do, computing the Hessians is just too slow.\n",
        "\n",
        "\n",
        "\n"
      ]
    },
    {
      "cell_type": "markdown",
      "metadata": {
        "id": "v4mjbdCglyIb",
        "colab_type": "text"
      },
      "source": [
        "## Learning Rate Scheduling"
      ]
    },
    {
      "cell_type": "markdown",
      "metadata": {
        "id": "DKsJjBiglzOY",
        "colab_type": "text"
      },
      "source": [
        "Finding a good learning rate can be tricky. If you set it way too high, training may actually diverge.If you set it too low, training will\n",
        "eventually converge to the optimum, but it will take a very long time. If you set it slightly too high, it will make progress very quickly at first, but it will end up dancing around the optimum, never really settling down. If you have a limited computing budget, you may have to interrupt training before it has converged properly, yielding a suboptimal solution.\n",
        "\n",
        "<img src='https://github.com/rahiakela/img-repo/blob/master/hands-on-machine-learning-keras-tensorflow/learning-curves.PNG?raw=1' width='800'/>\n",
        "\n",
        "However, you can do better than a constant learning rate: if you start with a high learning rate and then reduce it once it stops making fast progress, you can reach a good solution faster than with the optimal constant learning rate. There are many different strategies to reduce the learning rate during training. These strategies are called learning schedules, the most common\n",
        "of which are:\n",
        "\n",
        "* Power scheduling\n",
        "* Exponential scheduling\n",
        "* Piecewise constant scheduling\n",
        "* Performance scheduling\n",
        "\n"
      ]
    },
    {
      "cell_type": "markdown",
      "metadata": {
        "id": "WHiH0L5h9rsZ",
        "colab_type": "text"
      },
      "source": [
        "### Power Scheduling"
      ]
    },
    {
      "cell_type": "markdown",
      "metadata": {
        "id": "OM2nBg099s9m",
        "colab_type": "text"
      },
      "source": [
        "Set the learning rate to a function of the iteration number t: η(t) = η0 / (1 + t/k)c. The initial learning rate η0, the power c (typically set to 1) and the steps s are hyperparameters. The learning rate drops at each step, and after s steps it is down to η0 / 2. After s more steps, it is down to η0 / 3. Then down to η0 / 4, then η0 / 5, and so on. As you can see, this schedule first drops quickly, then more and more slowly. Of course, this requires tuning η0, s (and possibly c)."
      ]
    },
    {
      "cell_type": "code",
      "metadata": {
        "id": "vRP7w5dy-CL2",
        "colab_type": "code",
        "colab": {}
      },
      "source": [
        "# Now let's train it. Do not forget to scale the inputs to mean 0 and standard deviation 1\n",
        "pixel_means = X_train.mean(axis=0, keepdims=True)\n",
        "pixel_stds = X_train.std(axis=0, keepdims=True)\n",
        "X_train_scaled = (X_train - pixel_means) / pixel_stds\n",
        "X_valid_scaled = (X_valid - pixel_means) / pixel_stds\n",
        "X_test_scaled = (X_test - pixel_means) / pixel_stds\n",
        "\n",
        "model = Sequential([\n",
        "    Flatten(input_shape=[28, 28]),\n",
        "    Dense(300, activation='selu', kernel_initializer='lecun_normal'),\n",
        "    Dense(100, activation='selu', kernel_initializer='lecun_normal'), \n",
        "    Dense(10, activation='softmax'),             \n",
        "])\n",
        "\n",
        "model.compile(loss='sparse_categorical_crossentropy', optimizer=SGD(learning_rate=0.01, decay=1e-4), metrics=['accuracy'])"
      ],
      "execution_count": 0,
      "outputs": []
    },
    {
      "cell_type": "code",
      "metadata": {
        "id": "onQ0sJC0_EGQ",
        "colab_type": "code",
        "outputId": "da00226e-ae12-4896-a1c2-1ed88de275fc",
        "colab": {
          "base_uri": "https://localhost:8080/"
        }
      },
      "source": [
        "history = model.fit(X_train_scaled, y_train, epochs=25, validation_data=(X_valid_scaled, y_valid))"
      ],
      "execution_count": 0,
      "outputs": [
        {
          "output_type": "stream",
          "text": [
            "Train on 55000 samples, validate on 5000 samples\n",
            "Epoch 1/25\n",
            "55000/55000 [==============================] - 7s 119us/sample - loss: 0.4866 - accuracy: 0.8302 - val_loss: 0.4120 - val_accuracy: 0.8542\n",
            "Epoch 2/25\n",
            "55000/55000 [==============================] - 6s 106us/sample - loss: 0.3794 - accuracy: 0.8656 - val_loss: 0.3880 - val_accuracy: 0.8650\n",
            "Epoch 3/25\n",
            "55000/55000 [==============================] - 6s 108us/sample - loss: 0.3477 - accuracy: 0.8765 - val_loss: 0.3676 - val_accuracy: 0.8754\n",
            "Epoch 4/25\n",
            "55000/55000 [==============================] - 6s 105us/sample - loss: 0.3271 - accuracy: 0.8832 - val_loss: 0.3587 - val_accuracy: 0.8752\n",
            "Epoch 5/25\n",
            "55000/55000 [==============================] - 6s 111us/sample - loss: 0.3112 - accuracy: 0.8892 - val_loss: 0.3452 - val_accuracy: 0.8808\n",
            "Epoch 6/25\n",
            "55000/55000 [==============================] - 6s 105us/sample - loss: 0.2986 - accuracy: 0.8930 - val_loss: 0.3435 - val_accuracy: 0.8820\n",
            "Epoch 7/25\n",
            "55000/55000 [==============================] - 6s 109us/sample - loss: 0.2880 - accuracy: 0.8969 - val_loss: 0.3396 - val_accuracy: 0.8818\n",
            "Epoch 8/25\n",
            "55000/55000 [==============================] - 6s 111us/sample - loss: 0.2784 - accuracy: 0.9008 - val_loss: 0.3384 - val_accuracy: 0.8814\n",
            "Epoch 9/25\n",
            "55000/55000 [==============================] - 6s 111us/sample - loss: 0.2722 - accuracy: 0.9031 - val_loss: 0.3386 - val_accuracy: 0.8846\n",
            "Epoch 10/25\n",
            "55000/55000 [==============================] - 6s 111us/sample - loss: 0.2646 - accuracy: 0.9059 - val_loss: 0.3419 - val_accuracy: 0.8808\n",
            "Epoch 11/25\n",
            "55000/55000 [==============================] - 6s 111us/sample - loss: 0.2585 - accuracy: 0.9086 - val_loss: 0.3372 - val_accuracy: 0.8824\n",
            "Epoch 12/25\n",
            "55000/55000 [==============================] - 6s 109us/sample - loss: 0.2527 - accuracy: 0.9113 - val_loss: 0.3317 - val_accuracy: 0.8856\n",
            "Epoch 13/25\n",
            "55000/55000 [==============================] - 6s 109us/sample - loss: 0.2475 - accuracy: 0.9117 - val_loss: 0.3300 - val_accuracy: 0.8834\n",
            "Epoch 14/25\n",
            "55000/55000 [==============================] - 6s 104us/sample - loss: 0.2432 - accuracy: 0.9141 - val_loss: 0.3288 - val_accuracy: 0.8864\n",
            "Epoch 15/25\n",
            "55000/55000 [==============================] - 6s 104us/sample - loss: 0.2386 - accuracy: 0.9161 - val_loss: 0.3268 - val_accuracy: 0.8876\n",
            "Epoch 16/25\n",
            "55000/55000 [==============================] - 6s 106us/sample - loss: 0.2344 - accuracy: 0.9170 - val_loss: 0.3254 - val_accuracy: 0.8870\n",
            "Epoch 17/25\n",
            "55000/55000 [==============================] - 6s 107us/sample - loss: 0.2307 - accuracy: 0.9189 - val_loss: 0.3248 - val_accuracy: 0.8884\n",
            "Epoch 18/25\n",
            "55000/55000 [==============================] - 6s 106us/sample - loss: 0.2268 - accuracy: 0.9202 - val_loss: 0.3254 - val_accuracy: 0.8874\n",
            "Epoch 19/25\n",
            "55000/55000 [==============================] - 6s 104us/sample - loss: 0.2237 - accuracy: 0.9211 - val_loss: 0.3234 - val_accuracy: 0.8888\n",
            "Epoch 20/25\n",
            "55000/55000 [==============================] - 6s 107us/sample - loss: 0.2201 - accuracy: 0.9236 - val_loss: 0.3235 - val_accuracy: 0.8890\n",
            "Epoch 21/25\n",
            "55000/55000 [==============================] - 6s 111us/sample - loss: 0.2176 - accuracy: 0.9237 - val_loss: 0.3325 - val_accuracy: 0.8850\n",
            "Epoch 22/25\n",
            "55000/55000 [==============================] - 6s 107us/sample - loss: 0.2148 - accuracy: 0.9245 - val_loss: 0.3261 - val_accuracy: 0.8888\n",
            "Epoch 23/25\n",
            "55000/55000 [==============================] - 6s 111us/sample - loss: 0.2119 - accuracy: 0.9269 - val_loss: 0.3238 - val_accuracy: 0.8898\n",
            "Epoch 24/25\n",
            "55000/55000 [==============================] - 6s 115us/sample - loss: 0.2099 - accuracy: 0.9279 - val_loss: 0.3248 - val_accuracy: 0.8908\n",
            "Epoch 25/25\n",
            "55000/55000 [==============================] - 7s 119us/sample - loss: 0.2071 - accuracy: 0.9282 - val_loss: 0.3221 - val_accuracy: 0.8878\n"
          ],
          "name": "stdout"
        }
      ]
    },
    {
      "cell_type": "code",
      "metadata": {
        "id": "OaXXx-sx_0cL",
        "colab_type": "code",
        "outputId": "8e11d4a4-4522-491b-c707-fe47f6a6d547",
        "colab": {
          "base_uri": "https://localhost:8080/"
        }
      },
      "source": [
        "learning_rate = 0.01\n",
        "decay = 1e-4\n",
        "batch_size = 32\n",
        "n_steps_per_epoch = len(X_train) // batch_size\n",
        "epochs = np.arange(25)\n",
        "lrs = learning_rate / (1 + decay * epochs * n_steps_per_epoch)\n",
        "\n",
        "plt.plot(epochs, lrs,  \"o-\")\n",
        "plt.axis([0, 25 - 1, 0, 0.01])\n",
        "plt.xlabel(\"Epoch\")\n",
        "plt.ylabel(\"Learning Rate\")\n",
        "plt.title(\"Power Scheduling\", fontsize=14)\n",
        "plt.grid(True)\n",
        "plt.show()"
      ],
      "execution_count": 0,
      "outputs": [
        {
          "output_type": "display_data",
          "data": {
            "image/png": "[encoded data removed]",
            "text/plain": [
              "<Figure size 432x288 with 1 Axes>"
            ]
          },
          "metadata": {
            "tags": []
          }
        }
      ]
    },
    {
      "cell_type": "markdown",
      "metadata": {
        "id": "KTG4nE7bBC-C",
        "colab_type": "text"
      },
      "source": [
        "### Exponential Scheduling"
      ]
    },
    {
      "cell_type": "markdown",
      "metadata": {
        "id": "_3gLkl5JBF0-",
        "colab_type": "text"
      },
      "source": [
        "Set the learning rate to: η(t) = η0 0.1t/s. The learning rate will gradually drop by a factor of 10 every s steps. While power scheduling reduces the learning rate more and more slowly, exponential scheduling keeps slashing it by a factor of 10 every s steps."
      ]
    },
    {
      "cell_type": "code",
      "metadata": {
        "id": "SAUmhoxIA6GM",
        "colab_type": "code",
        "colab": {}
      },
      "source": [
        "def exponential_decay_fn(epoch):\n",
        "  return 0.01 * 0.1 ** (epoch / 20)"
      ],
      "execution_count": 0,
      "outputs": []
    },
    {
      "cell_type": "code",
      "metadata": {
        "id": "WojLdWDpBpMp",
        "colab_type": "code",
        "colab": {}
      },
      "source": [
        "def exponential_decay(lr0, s):\n",
        "\n",
        "  def exponential_decay_fn(epoch):\n",
        "    return lr0 * 0.1 ** (epoch / s)\n",
        "  \n",
        "  return exponential_decay_fn\n",
        "\n",
        "exponential_decay_fn = exponential_decay(lr0=0.01, s=20) "
      ],
      "execution_count": 0,
      "outputs": []
    },
    {
      "cell_type": "code",
      "metadata": {
        "id": "VUaCCeQVCEhW",
        "colab_type": "code",
        "colab": {}
      },
      "source": [
        "model = Sequential([\n",
        "    Flatten(input_shape=[28, 28]),\n",
        "    Dense(300, activation='selu', kernel_initializer='lecun_normal'),\n",
        "    Dense(100, activation='selu', kernel_initializer='lecun_normal'), \n",
        "    Dense(10, activation='softmax'),             \n",
        "])\n",
        "\n",
        "model.compile(loss='sparse_categorical_crossentropy', optimizer=SGD(learning_rate=0.01, decay=1e-4), metrics=['accuracy'])"
      ],
      "execution_count": 0,
      "outputs": []
    },
    {
      "cell_type": "code",
      "metadata": {
        "id": "suPEBpQ0CROI",
        "colab_type": "code",
        "outputId": "7bf5b1da-f4c5-4edb-f05f-e870482bea51",
        "colab": {
          "base_uri": "https://localhost:8080/",
          "height": 924
        }
      },
      "source": [
        "n_epochs = 25\n",
        "lr_scheduler = tf.keras.callbacks.LearningRateScheduler(exponential_decay_fn)\n",
        "\n",
        "history = model.fit(X_train_scaled, y_train, epochs=n_epochs, validation_data=(X_valid_scaled, y_valid), callbacks=[lr_scheduler])"
      ],
      "execution_count": 0,
      "outputs": [
        {
          "output_type": "stream",
          "text": [
            "Train on 55000 samples, validate on 5000 samples\n",
            "Epoch 1/25\n",
            "55000/55000 [==============================] - 6s 117us/sample - loss: 0.4903 - accuracy: 0.8270 - val_loss: 0.4127 - val_accuracy: 0.8578\n",
            "Epoch 2/25\n",
            "55000/55000 [==============================] - 6s 109us/sample - loss: 0.3816 - accuracy: 0.8655 - val_loss: 0.3835 - val_accuracy: 0.8652\n",
            "Epoch 3/25\n",
            "55000/55000 [==============================] - 6s 107us/sample - loss: 0.3496 - accuracy: 0.8773 - val_loss: 0.3741 - val_accuracy: 0.8664\n",
            "Epoch 4/25\n",
            "55000/55000 [==============================] - 6s 109us/sample - loss: 0.3298 - accuracy: 0.8835 - val_loss: 0.3553 - val_accuracy: 0.8750\n",
            "Epoch 5/25\n",
            "55000/55000 [==============================] - 6s 109us/sample - loss: 0.3158 - accuracy: 0.8881 - val_loss: 0.3550 - val_accuracy: 0.8760\n",
            "Epoch 6/25\n",
            "55000/55000 [==============================] - 6s 108us/sample - loss: 0.3057 - accuracy: 0.8918 - val_loss: 0.3506 - val_accuracy: 0.8770\n",
            "Epoch 7/25\n",
            "55000/55000 [==============================] - 6s 107us/sample - loss: 0.2980 - accuracy: 0.8958 - val_loss: 0.3474 - val_accuracy: 0.8794\n",
            "Epoch 8/25\n",
            "55000/55000 [==============================] - 6s 107us/sample - loss: 0.2916 - accuracy: 0.8984 - val_loss: 0.3440 - val_accuracy: 0.8796\n",
            "Epoch 9/25\n",
            "55000/55000 [==============================] - 6s 110us/sample - loss: 0.2868 - accuracy: 0.8997 - val_loss: 0.3421 - val_accuracy: 0.8786\n",
            "Epoch 10/25\n",
            "55000/55000 [==============================] - 6s 109us/sample - loss: 0.2825 - accuracy: 0.9007 - val_loss: 0.3402 - val_accuracy: 0.8812\n",
            "Epoch 11/25\n",
            "55000/55000 [==============================] - 6s 109us/sample - loss: 0.2795 - accuracy: 0.9022 - val_loss: 0.3409 - val_accuracy: 0.8822\n",
            "Epoch 12/25\n",
            "55000/55000 [==============================] - 6s 104us/sample - loss: 0.2766 - accuracy: 0.9035 - val_loss: 0.3410 - val_accuracy: 0.8804\n",
            "Epoch 13/25\n",
            "55000/55000 [==============================] - 6s 105us/sample - loss: 0.2742 - accuracy: 0.9038 - val_loss: 0.3386 - val_accuracy: 0.8808\n",
            "Epoch 14/25\n",
            "55000/55000 [==============================] - 6s 108us/sample - loss: 0.2726 - accuracy: 0.9039 - val_loss: 0.3369 - val_accuracy: 0.8838\n",
            "Epoch 15/25\n",
            "55000/55000 [==============================] - 6s 110us/sample - loss: 0.2709 - accuracy: 0.9052 - val_loss: 0.3370 - val_accuracy: 0.8804\n",
            "Epoch 16/25\n",
            "55000/55000 [==============================] - 6s 107us/sample - loss: 0.2696 - accuracy: 0.9057 - val_loss: 0.3365 - val_accuracy: 0.8828\n",
            "Epoch 17/25\n",
            "55000/55000 [==============================] - 6s 110us/sample - loss: 0.2683 - accuracy: 0.9062 - val_loss: 0.3365 - val_accuracy: 0.8828\n",
            "Epoch 18/25\n",
            "55000/55000 [==============================] - 6s 109us/sample - loss: 0.2673 - accuracy: 0.9063 - val_loss: 0.3364 - val_accuracy: 0.8824\n",
            "Epoch 19/25\n",
            "55000/55000 [==============================] - 6s 110us/sample - loss: 0.2665 - accuracy: 0.9066 - val_loss: 0.3365 - val_accuracy: 0.8804\n",
            "Epoch 20/25\n",
            "55000/55000 [==============================] - 6s 108us/sample - loss: 0.2659 - accuracy: 0.9073 - val_loss: 0.3357 - val_accuracy: 0.8838\n",
            "Epoch 21/25\n",
            "55000/55000 [==============================] - 6s 111us/sample - loss: 0.2652 - accuracy: 0.9074 - val_loss: 0.3354 - val_accuracy: 0.8828\n",
            "Epoch 22/25\n",
            "55000/55000 [==============================] - 6s 110us/sample - loss: 0.2647 - accuracy: 0.9081 - val_loss: 0.3355 - val_accuracy: 0.8830\n",
            "Epoch 23/25\n",
            "55000/55000 [==============================] - 6s 108us/sample - loss: 0.2643 - accuracy: 0.9080 - val_loss: 0.3351 - val_accuracy: 0.8836\n",
            "Epoch 24/25\n",
            "55000/55000 [==============================] - 6s 108us/sample - loss: 0.2639 - accuracy: 0.9082 - val_loss: 0.3351 - val_accuracy: 0.8826\n",
            "Epoch 25/25\n",
            "55000/55000 [==============================] - 6s 105us/sample - loss: 0.2636 - accuracy: 0.9085 - val_loss: 0.3352 - val_accuracy: 0.8826\n"
          ],
          "name": "stdout"
        }
      ]
    },
    {
      "cell_type": "code",
      "metadata": {
        "id": "GB1YWdq4C2QW",
        "colab_type": "code",
        "outputId": "4d2ff216-f0f5-4866-f2d3-1d6883c18c70",
        "colab": {
          "base_uri": "https://localhost:8080/",
          "height": 303
        }
      },
      "source": [
        "plt.plot(history.epoch, history.history[\"lr\"], \"o-\")\n",
        "plt.axis([0, n_epochs - 1, 0, 0.011])\n",
        "plt.xlabel(\"Epoch\")\n",
        "plt.ylabel(\"Learning Rate\")\n",
        "plt.title(\"Exponential Scheduling\", fontsize=14)\n",
        "plt.grid(True)\n",
        "plt.show()"
      ],
      "execution_count": 0,
      "outputs": [
        {
          "output_type": "display_data",
          "data": {
            "image/png": "[encoded data removed]",
            "text/plain": [
              "<Figure size 432x288 with 1 Axes>"
            ]
          },
          "metadata": {
            "tags": []
          }
        }
      ]
    },
    {
      "cell_type": "markdown",
      "metadata": {
        "id": "FijcwcQIJ6eh",
        "colab_type": "text"
      },
      "source": [
        "The schedule function can take the current learning rate as a second argument:"
      ]
    },
    {
      "cell_type": "code",
      "metadata": {
        "id": "knKVwWC6DjMY",
        "colab_type": "code",
        "colab": {}
      },
      "source": [
        "def exponential_decay_fn(epoch, lr):\n",
        "  return lr * 0.1 ** (1 / 20)"
      ],
      "execution_count": 0,
      "outputs": []
    },
    {
      "cell_type": "markdown",
      "metadata": {
        "id": "L_KldGPRKaPu",
        "colab_type": "text"
      },
      "source": [
        "If you want to update the learning rate at each iteration rather than at each epoch, you must write your own callback class:"
      ]
    },
    {
      "cell_type": "code",
      "metadata": {
        "id": "vz8QKHn_KdZq",
        "colab_type": "code",
        "outputId": "8c281a36-2112-431b-ce52-13f660a8c6e4",
        "colab": {
          "base_uri": "https://localhost:8080/",
          "height": 924
        }
      },
      "source": [
        "K = keras.backend\n",
        "\n",
        "class ExponentialDecay(keras.callbacks.Callback):\n",
        "\n",
        "  def __init__(self, s=40000):\n",
        "    super().__init__()\n",
        "    self.s = s\n",
        "\n",
        "  def on_batch_begin(self, batch, logs=None):\n",
        "    # Note: the `batch` argument is reset at each epoch\n",
        "    lr = K.get_value(self.model.optimizer.lr)\n",
        "    K.set_value(self.model.optimizer.lr, lr * 0.1 ** (1 / s))\n",
        "\n",
        "  def on_epoch_end(self, epoch, logs=None):\n",
        "    logs = logs or {}\n",
        "    logs['lr'] = K.get_value(self.model.optimizer.lr)\n",
        "\n",
        "\n",
        "model = Sequential([\n",
        "    Flatten(input_shape=[28, 28]),\n",
        "    Dense(300, activation='selu', kernel_initializer='lecun_normal'),\n",
        "    Dense(100, activation='selu', kernel_initializer='lecun_normal'), \n",
        "    Dense(10, activation='softmax'),             \n",
        "])\n",
        "\n",
        "model.compile(loss='sparse_categorical_crossentropy', optimizer=SGD(learning_rate=0.01, decay=1e-4), metrics=['accuracy'])\n",
        "\n",
        "lr0 = 0.01\n",
        "optimizer = keras.optimizers.Nadam(lr=lr0)\n",
        "model.compile(loss='sparse_categorical_crossentropy', optimizer=optimizer, metrics=['accuracy'])\n",
        "n_epochs = 25\n",
        "\n",
        "s = 20 * len(X_train) // 32    # number of steps in 20 epochs (batch size = 32)\n",
        "exp_decay = ExponentialDecay(s)\n",
        "history = model.fit(X_train_scaled, y_train, epochs=n_epochs, validation_data=(X_valid_scaled, y_valid), callbacks=[exp_decay])"
      ],
      "execution_count": 0,
      "outputs": [
        {
          "output_type": "stream",
          "text": [
            "Train on 55000 samples, validate on 5000 samples\n",
            "Epoch 1/25\n",
            "55000/55000 [==============================] - 12s 221us/sample - loss: 0.8097 - accuracy: 0.7640 - val_loss: 0.8222 - val_accuracy: 0.7734\n",
            "Epoch 2/25\n",
            "55000/55000 [==============================] - 12s 210us/sample - loss: 0.6975 - accuracy: 0.7875 - val_loss: 0.6211 - val_accuracy: 0.8198\n",
            "Epoch 3/25\n",
            "55000/55000 [==============================] - 11s 209us/sample - loss: 0.5780 - accuracy: 0.8228 - val_loss: 0.7126 - val_accuracy: 0.7770\n",
            "Epoch 4/25\n",
            "55000/55000 [==============================] - 11s 209us/sample - loss: 0.5228 - accuracy: 0.8396 - val_loss: 0.6283 - val_accuracy: 0.8454\n",
            "Epoch 5/25\n",
            "55000/55000 [==============================] - 11s 205us/sample - loss: 0.4646 - accuracy: 0.8533 - val_loss: 0.7261 - val_accuracy: 0.7948\n",
            "Epoch 6/25\n",
            "55000/55000 [==============================] - 11s 207us/sample - loss: 0.4356 - accuracy: 0.8601 - val_loss: 0.5047 - val_accuracy: 0.8240\n",
            "Epoch 7/25\n",
            "55000/55000 [==============================] - 11s 205us/sample - loss: 0.3934 - accuracy: 0.8717 - val_loss: 0.4863 - val_accuracy: 0.8496\n",
            "Epoch 8/25\n",
            "55000/55000 [==============================] - 11s 203us/sample - loss: 0.3597 - accuracy: 0.8795 - val_loss: 0.4368 - val_accuracy: 0.8674\n",
            "Epoch 9/25\n",
            "55000/55000 [==============================] - 11s 202us/sample - loss: 0.3400 - accuracy: 0.8863 - val_loss: 0.4474 - val_accuracy: 0.8690\n",
            "Epoch 10/25\n",
            "55000/55000 [==============================] - 11s 204us/sample - loss: 0.3049 - accuracy: 0.8964 - val_loss: 0.4754 - val_accuracy: 0.8748\n",
            "Epoch 11/25\n",
            "55000/55000 [==============================] - 11s 204us/sample - loss: 0.2945 - accuracy: 0.8987 - val_loss: 0.4621 - val_accuracy: 0.8812\n",
            "Epoch 12/25\n",
            "55000/55000 [==============================] - 11s 203us/sample - loss: 0.2702 - accuracy: 0.9075 - val_loss: 0.4493 - val_accuracy: 0.8824\n",
            "Epoch 13/25\n",
            "55000/55000 [==============================] - 11s 203us/sample - loss: 0.2494 - accuracy: 0.9141 - val_loss: 0.4813 - val_accuracy: 0.8832\n",
            "Epoch 14/25\n",
            "55000/55000 [==============================] - 12s 219us/sample - loss: 0.2281 - accuracy: 0.9208 - val_loss: 0.4204 - val_accuracy: 0.8866\n",
            "Epoch 15/25\n",
            "55000/55000 [==============================] - 12s 211us/sample - loss: 0.2118 - accuracy: 0.9250 - val_loss: 0.4333 - val_accuracy: 0.8892\n",
            "Epoch 16/25\n",
            "55000/55000 [==============================] - 11s 204us/sample - loss: 0.2003 - accuracy: 0.9289 - val_loss: 0.4239 - val_accuracy: 0.8844\n",
            "Epoch 17/25\n",
            "55000/55000 [==============================] - 11s 205us/sample - loss: 0.1838 - accuracy: 0.9362 - val_loss: 0.4432 - val_accuracy: 0.8872\n",
            "Epoch 18/25\n",
            "55000/55000 [==============================] - 11s 202us/sample - loss: 0.1728 - accuracy: 0.9404 - val_loss: 0.4688 - val_accuracy: 0.8922\n",
            "Epoch 19/25\n",
            "55000/55000 [==============================] - 11s 201us/sample - loss: 0.1574 - accuracy: 0.9447 - val_loss: 0.4813 - val_accuracy: 0.8902\n",
            "Epoch 20/25\n",
            "55000/55000 [==============================] - 11s 201us/sample - loss: 0.1482 - accuracy: 0.9483 - val_loss: 0.4692 - val_accuracy: 0.8910\n",
            "Epoch 21/25\n",
            "55000/55000 [==============================] - 11s 202us/sample - loss: 0.1363 - accuracy: 0.9528 - val_loss: 0.5207 - val_accuracy: 0.8898\n",
            "Epoch 22/25\n",
            "55000/55000 [==============================] - 11s 203us/sample - loss: 0.1286 - accuracy: 0.9561 - val_loss: 0.5169 - val_accuracy: 0.8970\n",
            "Epoch 23/25\n",
            "55000/55000 [==============================] - 11s 202us/sample - loss: 0.1201 - accuracy: 0.9596 - val_loss: 0.5593 - val_accuracy: 0.8894\n",
            "Epoch 24/25\n",
            "55000/55000 [==============================] - 11s 203us/sample - loss: 0.1135 - accuracy: 0.9618 - val_loss: 0.5595 - val_accuracy: 0.8900\n",
            "Epoch 25/25\n",
            "55000/55000 [==============================] - 11s 202us/sample - loss: 0.1058 - accuracy: 0.9655 - val_loss: 0.5872 - val_accuracy: 0.8918\n"
          ],
          "name": "stdout"
        }
      ]
    },
    {
      "cell_type": "code",
      "metadata": {
        "id": "7M1NmwPNNsOG",
        "colab_type": "code",
        "outputId": "7bcd6a88-7424-47e0-c3d5-224ac12d106f",
        "colab": {
          "base_uri": "https://localhost:8080/",
          "height": 303
        }
      },
      "source": [
        "n_steps = n_epochs * len(X_train) // 32\n",
        "steps = np.arange(n_steps)\n",
        "lrs = lr0 * 0.1 ** (steps / s)\n",
        "\n",
        "plt.plot(steps, lrs, \"-\", linewidth=2)\n",
        "plt.axis([0, n_steps - 1, 0, lr0 * 1.1])\n",
        "plt.xlabel(\"Batch\")\n",
        "plt.ylabel(\"Learning Rate\")\n",
        "plt.title(\"Exponential Scheduling (per batch)\", fontsize=14)\n",
        "plt.grid(True)\n",
        "plt.show()"
      ],
      "execution_count": 0,
      "outputs": [
        {
          "output_type": "display_data",
          "data": {
            "image/png": "[encoded data removed]",
            "text/plain": [
              "<Figure size 432x288 with 1 Axes>"
            ]
          },
          "metadata": {
            "tags": []
          }
        }
      ]
    },
    {
      "cell_type": "markdown",
      "metadata": {
        "id": "cLysEkE1OghD",
        "colab_type": "text"
      },
      "source": [
        "### Piecewise constant scheduling"
      ]
    },
    {
      "cell_type": "markdown",
      "metadata": {
        "id": "ruCFOFxJOhqM",
        "colab_type": "text"
      },
      "source": [
        "Use a constant learning rate for a number of epochs (e.g., η0 = 0.1 for 5 epochs), then a smaller learning rate for another number of epochs (e.g., η1 = 0.001 for 50 epochs), and so on. Although this solution can work very well, it requires fiddling around to figure out the right sequence of learning rates, and how long to use each of them."
      ]
    },
    {
      "cell_type": "code",
      "metadata": {
        "id": "0uN56OFtO86O",
        "colab_type": "code",
        "colab": {}
      },
      "source": [
        "def piecewise_constant_fn(epoch):\n",
        "  if epoch < 5:\n",
        "    return 0.01\n",
        "  elif epoch < 15:\n",
        "    return 0.005\n",
        "  else:\n",
        "    return 0.001"
      ],
      "execution_count": 0,
      "outputs": []
    },
    {
      "cell_type": "code",
      "metadata": {
        "id": "hAwN9ciFN-eo",
        "colab_type": "code",
        "colab": {}
      },
      "source": [
        "def piecewise_constant(boundaries, values):\n",
        "  boundaries = np.array([0] + boundaries)\n",
        "  values = np.array(values)\n",
        "  def piecewise_constant_fn(epoch):\n",
        "    return values[np.argmax(boundaries > epoch) -1]\n",
        "  return piecewise_constant_fn\n",
        "\n",
        "piecewise_constant_fn = piecewise_constant([5, 15], [0.01, 0.005, 0.001])"
      ],
      "execution_count": 0,
      "outputs": []
    },
    {
      "cell_type": "code",
      "metadata": {
        "id": "oMtqqWzPPw5b",
        "colab_type": "code",
        "outputId": "41c1d4a5-d4c8-482c-e8d8-df077304bc3b",
        "colab": {
          "base_uri": "https://localhost:8080/",
          "height": 924
        }
      },
      "source": [
        "lr_scheduler = keras.callbacks.LearningRateScheduler(piecewise_constant_fn)\n",
        "\n",
        "model = Sequential([\n",
        "    Flatten(input_shape=[28, 28]),\n",
        "    Dense(300, activation='selu', kernel_initializer='lecun_normal'),\n",
        "    Dense(100, activation='selu', kernel_initializer='lecun_normal'), \n",
        "    Dense(10, activation='softmax'),             \n",
        "])\n",
        "\n",
        "model.compile(loss='sparse_categorical_crossentropy', optimizer='nadam', metrics=['accuracy'])\n",
        "n_epochs = 25\n",
        "history = model.fit(X_train_scaled, y_train, epochs=n_epochs, validation_data=(X_valid_scaled, y_valid), callbacks=[lr_scheduler])"
      ],
      "execution_count": 0,
      "outputs": [
        {
          "output_type": "stream",
          "text": [
            "Train on 55000 samples, validate on 5000 samples\n",
            "Epoch 1/25\n",
            "55000/55000 [==============================] - 11s 200us/sample - loss: 0.8458 - accuracy: 0.7570 - val_loss: 0.6469 - val_accuracy: 0.8130\n",
            "Epoch 2/25\n",
            "55000/55000 [==============================] - 10s 190us/sample - loss: 0.7803 - accuracy: 0.7767 - val_loss: 1.0966 - val_accuracy: 0.7494\n",
            "Epoch 3/25\n",
            "55000/55000 [==============================] - 10s 190us/sample - loss: 1.0527 - accuracy: 0.6789 - val_loss: 0.9513 - val_accuracy: 0.6916\n",
            "Epoch 4/25\n",
            "55000/55000 [==============================] - 11s 191us/sample - loss: 1.0335 - accuracy: 0.6585 - val_loss: 1.0425 - val_accuracy: 0.6346\n",
            "Epoch 5/25\n",
            "55000/55000 [==============================] - 11s 192us/sample - loss: 1.1292 - accuracy: 0.6256 - val_loss: 1.0930 - val_accuracy: 0.6226\n",
            "Epoch 6/25\n",
            "55000/55000 [==============================] - 11s 193us/sample - loss: 0.8718 - accuracy: 0.6555 - val_loss: 0.9329 - val_accuracy: 0.6390\n",
            "Epoch 7/25\n",
            "55000/55000 [==============================] - 10s 190us/sample - loss: 0.8299 - accuracy: 0.6699 - val_loss: 0.9571 - val_accuracy: 0.6426\n",
            "Epoch 8/25\n",
            "55000/55000 [==============================] - 10s 189us/sample - loss: 0.8125 - accuracy: 0.6812 - val_loss: 0.9071 - val_accuracy: 0.6732\n",
            "Epoch 9/25\n",
            "55000/55000 [==============================] - 11s 192us/sample - loss: 0.7136 - accuracy: 0.7454 - val_loss: 0.8842 - val_accuracy: 0.7462\n",
            "Epoch 10/25\n",
            "55000/55000 [==============================] - 10s 190us/sample - loss: 0.6471 - accuracy: 0.7624 - val_loss: 0.8093 - val_accuracy: 0.7272\n",
            "Epoch 11/25\n",
            "55000/55000 [==============================] - 11s 192us/sample - loss: 0.6461 - accuracy: 0.7687 - val_loss: 0.6662 - val_accuracy: 0.7744\n",
            "Epoch 12/25\n",
            "55000/55000 [==============================] - 11s 194us/sample - loss: 0.6443 - accuracy: 0.7691 - val_loss: 0.8511 - val_accuracy: 0.7590\n",
            "Epoch 13/25\n",
            "55000/55000 [==============================] - 11s 193us/sample - loss: 0.6123 - accuracy: 0.7728 - val_loss: 0.8088 - val_accuracy: 0.7692\n",
            "Epoch 14/25\n",
            "55000/55000 [==============================] - 11s 192us/sample - loss: 0.6264 - accuracy: 0.7755 - val_loss: 0.9393 - val_accuracy: 0.7624\n",
            "Epoch 15/25\n",
            "55000/55000 [==============================] - 11s 191us/sample - loss: 0.5958 - accuracy: 0.7805 - val_loss: 0.8518 - val_accuracy: 0.7668\n",
            "Epoch 16/25\n",
            "55000/55000 [==============================] - 10s 190us/sample - loss: 0.4789 - accuracy: 0.8067 - val_loss: 0.6280 - val_accuracy: 0.7948\n",
            "Epoch 17/25\n",
            "55000/55000 [==============================] - 10s 190us/sample - loss: 0.4225 - accuracy: 0.8491 - val_loss: 0.5136 - val_accuracy: 0.8606\n",
            "Epoch 18/25\n",
            "55000/55000 [==============================] - 10s 190us/sample - loss: 0.3608 - accuracy: 0.8888 - val_loss: 0.5508 - val_accuracy: 0.8598\n",
            "Epoch 19/25\n",
            "55000/55000 [==============================] - 10s 188us/sample - loss: 0.3382 - accuracy: 0.8961 - val_loss: 0.5067 - val_accuracy: 0.8676\n",
            "Epoch 20/25\n",
            "55000/55000 [==============================] - 10s 189us/sample - loss: 0.3225 - accuracy: 0.9007 - val_loss: 0.5091 - val_accuracy: 0.8722\n",
            "Epoch 21/25\n",
            "55000/55000 [==============================] - 10s 187us/sample - loss: 0.3108 - accuracy: 0.9039 - val_loss: 0.5490 - val_accuracy: 0.8630\n",
            "Epoch 22/25\n",
            "55000/55000 [==============================] - 10s 190us/sample - loss: 0.2990 - accuracy: 0.9075 - val_loss: 0.5182 - val_accuracy: 0.8684\n",
            "Epoch 23/25\n",
            "55000/55000 [==============================] - 11s 200us/sample - loss: 0.2888 - accuracy: 0.9100 - val_loss: 0.5199 - val_accuracy: 0.8700\n",
            "Epoch 24/25\n",
            "55000/55000 [==============================] - 11s 203us/sample - loss: 0.2823 - accuracy: 0.9118 - val_loss: 0.5443 - val_accuracy: 0.8712\n",
            "Epoch 25/25\n",
            "55000/55000 [==============================] - 10s 188us/sample - loss: 0.2710 - accuracy: 0.9147 - val_loss: 0.5738 - val_accuracy: 0.8718\n"
          ],
          "name": "stdout"
        }
      ]
    },
    {
      "cell_type": "code",
      "metadata": {
        "id": "4huJ4W22QdSv",
        "colab_type": "code",
        "outputId": "3f85cb3e-9276-452b-8398-6130f9550029",
        "colab": {
          "base_uri": "https://localhost:8080/",
          "height": 303
        }
      },
      "source": [
        "plt.plot(history.epoch, [piecewise_constant_fn(epoch) for epoch in history.epoch], \"o-\")\n",
        "plt.axis([0, n_epochs - 1, 0, 0.011])\n",
        "plt.xlabel(\"Epoch\")\n",
        "plt.ylabel(\"Learning Rate\")\n",
        "plt.title(\"Piecewise Constant Scheduling\", fontsize=14)\n",
        "plt.grid(True)\n",
        "plt.show()"
      ],
      "execution_count": 0,
      "outputs": [
        {
          "output_type": "display_data",
          "data": {
            "image/png": "[encoded data removed]",
            "text/plain": [
              "<Figure size 432x288 with 1 Axes>"
            ]
          },
          "metadata": {
            "tags": []
          }
        }
      ]
    },
    {
      "cell_type": "markdown",
      "metadata": {
        "id": "Z83IMWqbQpyq",
        "colab_type": "text"
      },
      "source": [
        "### Performance scheduling"
      ]
    },
    {
      "cell_type": "markdown",
      "metadata": {
        "id": "2euGXP66QqzJ",
        "colab_type": "text"
      },
      "source": [
        "Measure the validation error every N steps (just like for early stopping) and\n",
        "reduce the learning rate by a factor of λ when the error stops dropping."
      ]
    },
    {
      "cell_type": "code",
      "metadata": {
        "id": "v6Hot3QpQvq4",
        "colab_type": "code",
        "colab": {}
      },
      "source": [
        "tf.random.set_seed(42)\n",
        "np.random.seed(42)"
      ],
      "execution_count": 0,
      "outputs": []
    },
    {
      "cell_type": "code",
      "metadata": {
        "id": "sxLZ8WoDQ0_Z",
        "colab_type": "code",
        "outputId": "41420e52-579d-422e-993e-33b576886233",
        "colab": {
          "base_uri": "https://localhost:8080/",
          "height": 924
        }
      },
      "source": [
        "lr_scheduler = keras.callbacks.ReduceLROnPlateau(factor=0.5, patience=5)\n",
        "\n",
        "model = Sequential([\n",
        "    Flatten(input_shape=[28, 28]),\n",
        "    Dense(300, activation='selu', kernel_initializer='lecun_normal'),\n",
        "    Dense(100, activation='selu', kernel_initializer='lecun_normal'), \n",
        "    Dense(10, activation='softmax'),             \n",
        "])\n",
        "\n",
        "optimizer = keras.optimizers.SGD(lr=0.02, momentum=0.9)\n",
        "model.compile(loss='sparse_categorical_crossentropy', optimizer=optimizer, metrics=['accuracy'])\n",
        "n_epochs = 25\n",
        "history = model.fit(X_train_scaled, y_train, epochs=n_epochs, validation_data=(X_valid_scaled, y_valid), callbacks=[lr_scheduler])"
      ],
      "execution_count": 0,
      "outputs": [
        {
          "output_type": "stream",
          "text": [
            "Train on 55000 samples, validate on 5000 samples\n",
            "Epoch 1/25\n",
            "55000/55000 [==============================] - 6s 113us/sample - loss: 0.5923 - accuracy: 0.8069 - val_loss: 0.4857 - val_accuracy: 0.8432\n",
            "Epoch 2/25\n",
            "55000/55000 [==============================] - 6s 106us/sample - loss: 0.5126 - accuracy: 0.8359 - val_loss: 0.4738 - val_accuracy: 0.8550\n",
            "Epoch 3/25\n",
            "55000/55000 [==============================] - 6s 107us/sample - loss: 0.4916 - accuracy: 0.8475 - val_loss: 0.5031 - val_accuracy: 0.8406\n",
            "Epoch 4/25\n",
            "55000/55000 [==============================] - 6s 107us/sample - loss: 0.5159 - accuracy: 0.8481 - val_loss: 0.6906 - val_accuracy: 0.8442\n",
            "Epoch 5/25\n",
            "55000/55000 [==============================] - 6s 109us/sample - loss: 0.5221 - accuracy: 0.8495 - val_loss: 0.6630 - val_accuracy: 0.8424\n",
            "Epoch 6/25\n",
            "55000/55000 [==============================] - 6s 107us/sample - loss: 0.5166 - accuracy: 0.8504 - val_loss: 0.6392 - val_accuracy: 0.8398\n",
            "Epoch 7/25\n",
            "55000/55000 [==============================] - 6s 106us/sample - loss: 0.5259 - accuracy: 0.8539 - val_loss: 0.7228 - val_accuracy: 0.8412\n",
            "Epoch 8/25\n",
            "55000/55000 [==============================] - 6s 107us/sample - loss: 0.3006 - accuracy: 0.8957 - val_loss: 0.4115 - val_accuracy: 0.8748\n",
            "Epoch 9/25\n",
            "55000/55000 [==============================] - 6s 107us/sample - loss: 0.2490 - accuracy: 0.9085 - val_loss: 0.4098 - val_accuracy: 0.8766\n",
            "Epoch 10/25\n",
            "55000/55000 [==============================] - 6s 108us/sample - loss: 0.2275 - accuracy: 0.9165 - val_loss: 0.3967 - val_accuracy: 0.8884\n",
            "Epoch 11/25\n",
            "55000/55000 [==============================] - 6s 107us/sample - loss: 0.2187 - accuracy: 0.9206 - val_loss: 0.3990 - val_accuracy: 0.8870\n",
            "Epoch 12/25\n",
            "55000/55000 [==============================] - 6s 108us/sample - loss: 0.2063 - accuracy: 0.9244 - val_loss: 0.4162 - val_accuracy: 0.8906\n",
            "Epoch 13/25\n",
            "55000/55000 [==============================] - 6s 106us/sample - loss: 0.1962 - accuracy: 0.9277 - val_loss: 0.4734 - val_accuracy: 0.8818\n",
            "Epoch 14/25\n",
            "55000/55000 [==============================] - 6s 107us/sample - loss: 0.1865 - accuracy: 0.9308 - val_loss: 0.4452 - val_accuracy: 0.8848\n",
            "Epoch 15/25\n",
            "55000/55000 [==============================] - 6s 108us/sample - loss: 0.1819 - accuracy: 0.9310 - val_loss: 0.5162 - val_accuracy: 0.8814\n",
            "Epoch 16/25\n",
            "55000/55000 [==============================] - 6s 107us/sample - loss: 0.1228 - accuracy: 0.9516 - val_loss: 0.4521 - val_accuracy: 0.8920\n",
            "Epoch 17/25\n",
            "55000/55000 [==============================] - 6s 108us/sample - loss: 0.1076 - accuracy: 0.9592 - val_loss: 0.4428 - val_accuracy: 0.8906\n",
            "Epoch 18/25\n",
            "55000/55000 [==============================] - 6s 106us/sample - loss: 0.0990 - accuracy: 0.9622 - val_loss: 0.4589 - val_accuracy: 0.8940\n",
            "Epoch 19/25\n",
            "55000/55000 [==============================] - 6s 107us/sample - loss: 0.0940 - accuracy: 0.9638 - val_loss: 0.4934 - val_accuracy: 0.8892\n",
            "Epoch 20/25\n",
            "55000/55000 [==============================] - 6s 107us/sample - loss: 0.0873 - accuracy: 0.9663 - val_loss: 0.5015 - val_accuracy: 0.8920\n",
            "Epoch 21/25\n",
            "55000/55000 [==============================] - 6s 108us/sample - loss: 0.0678 - accuracy: 0.9743 - val_loss: 0.5067 - val_accuracy: 0.8928\n",
            "Epoch 22/25\n",
            "55000/55000 [==============================] - 6s 107us/sample - loss: 0.0616 - accuracy: 0.9775 - val_loss: 0.5255 - val_accuracy: 0.8924\n",
            "Epoch 23/25\n",
            "55000/55000 [==============================] - 6s 107us/sample - loss: 0.0585 - accuracy: 0.9788 - val_loss: 0.5348 - val_accuracy: 0.8914\n",
            "Epoch 24/25\n",
            "55000/55000 [==============================] - 6s 107us/sample - loss: 0.0546 - accuracy: 0.9802 - val_loss: 0.5634 - val_accuracy: 0.8884\n",
            "Epoch 25/25\n",
            "55000/55000 [==============================] - 6s 107us/sample - loss: 0.0518 - accuracy: 0.9812 - val_loss: 0.5695 - val_accuracy: 0.8922\n"
          ],
          "name": "stdout"
        }
      ]
    },
    {
      "cell_type": "code",
      "metadata": {
        "id": "PGANXY5iRZjV",
        "colab_type": "code",
        "outputId": "fe76a680-703a-4b15-bc18-b79ed5dfbcc0",
        "colab": {
          "base_uri": "https://localhost:8080/",
          "height": 303
        }
      },
      "source": [
        "plt.plot(history.epoch, history.history[\"lr\"], \"bo-\")\n",
        "plt.xlabel(\"Epoch\")\n",
        "plt.ylabel(\"Learning Rate\", color='b')\n",
        "plt.tick_params('y', colors='b')\n",
        "plt.gca().set_xlim(0, n_epochs - 1)\n",
        "plt.grid(True)\n",
        "\n",
        "ax2 = plt.gca().twinx()\n",
        "ax2.plot(history.epoch, history.history[\"val_loss\"], \"r^-\")\n",
        "ax2.set_ylabel('Validation Loss', color='r')\n",
        "ax2.tick_params('y', colors='r')\n",
        "\n",
        "plt.title(\"Reduce LR on Plateau\", fontsize=14)\n",
        "plt.show()"
      ],
      "execution_count": 0,
      "outputs": [
        {
          "output_type": "display_data",
          "data": {
            "image/png": "[encoded data removed]",
            "text/plain": [
              "<Figure size 432x288 with 2 Axes>"
            ]
          },
          "metadata": {
            "tags": []
          }
        }
      ]
    },
    {
      "cell_type": "markdown",
      "metadata": {
        "id": "txswvVLUSYI2",
        "colab_type": "text"
      },
      "source": [
        "### tf.keras schedulers"
      ]
    },
    {
      "cell_type": "markdown",
      "metadata": {
        "id": "cidEvdxMSYbL",
        "colab_type": "text"
      },
      "source": [
        "Lastly, tf.keras offers an alternative way to implement learning rate scheduling: just define the learning rate using one of the schedules available in keras.optimizers.schedules, then pass this learning rate to any optimizer. This approach updates the learning rate at each step rather than at each epoch.\n",
        "\n",
        "```python\n",
        "s = 20 * len(X_train) // 32 # number of steps in 20 epochs (batch size = 32)\n",
        "learning_rate = keras.optimizers.schedules.ExponentialDecay(0.01, s, 0.1)\n",
        "optimizer = keras.optimizers.SGD(learning_rate)\n",
        "```\n",
        "This is nice and simple, plus when you save the model, the learning rate and its\n",
        "schedule (including its state) get saved as well. However, this approach is not part of the Keras API, it is specific to tf.keras."
      ]
    },
    {
      "cell_type": "code",
      "metadata": {
        "id": "mfr9rkZpTQvO",
        "colab_type": "code",
        "outputId": "2817d40f-3575-45dd-d34d-4aa3c69a16b9",
        "colab": {
          "base_uri": "https://localhost:8080/",
          "height": 924
        }
      },
      "source": [
        "model = Sequential([\n",
        "    Flatten(input_shape=[28, 28]),\n",
        "    Dense(300, activation='selu', kernel_initializer='lecun_normal'),\n",
        "    Dense(100, activation='selu', kernel_initializer='lecun_normal'), \n",
        "    Dense(10, activation='softmax'),             \n",
        "])\n",
        "\n",
        "s = 20 * len(X_train) // 32 # number of steps in 20 epochs (batch size = 32)\n",
        "learning_rate = keras.optimizers.schedules.ExponentialDecay(0.01, s, 0.1)\n",
        "optimizer = keras.optimizers.SGD(learning_rate)\n",
        "model.compile(loss='sparse_categorical_crossentropy', optimizer=optimizer, metrics=['accuracy'])\n",
        "n_epochs = 25\n",
        "history = model.fit(X_train_scaled, y_train, epochs=n_epochs, validation_data=(X_valid_scaled, y_valid))"
      ],
      "execution_count": 0,
      "outputs": [
        {
          "output_type": "stream",
          "text": [
            "Train on 55000 samples, validate on 5000 samples\n",
            "Epoch 1/25\n",
            "55000/55000 [==============================] - 6s 110us/sample - loss: 0.4872 - accuracy: 0.8296 - val_loss: 0.4140 - val_accuracy: 0.8558\n",
            "Epoch 2/25\n",
            "55000/55000 [==============================] - 6s 105us/sample - loss: 0.3828 - accuracy: 0.8645 - val_loss: 0.3774 - val_accuracy: 0.8702\n",
            "Epoch 3/25\n",
            "55000/55000 [==============================] - 6s 105us/sample - loss: 0.3495 - accuracy: 0.8765 - val_loss: 0.3696 - val_accuracy: 0.8730\n",
            "Epoch 4/25\n",
            "55000/55000 [==============================] - 6s 105us/sample - loss: 0.3274 - accuracy: 0.8833 - val_loss: 0.3541 - val_accuracy: 0.8756\n",
            "Epoch 5/25\n",
            "55000/55000 [==============================] - 6s 104us/sample - loss: 0.3102 - accuracy: 0.8899 - val_loss: 0.3457 - val_accuracy: 0.8784\n",
            "Epoch 6/25\n",
            "55000/55000 [==============================] - 6s 104us/sample - loss: 0.2971 - accuracy: 0.8945 - val_loss: 0.3413 - val_accuracy: 0.8800\n",
            "Epoch 7/25\n",
            "55000/55000 [==============================] - 6s 106us/sample - loss: 0.2859 - accuracy: 0.8984 - val_loss: 0.3352 - val_accuracy: 0.8834\n",
            "Epoch 8/25\n",
            "55000/55000 [==============================] - 6s 104us/sample - loss: 0.2767 - accuracy: 0.9017 - val_loss: 0.3319 - val_accuracy: 0.8848\n",
            "Epoch 9/25\n",
            "55000/55000 [==============================] - 6s 105us/sample - loss: 0.2686 - accuracy: 0.9044 - val_loss: 0.3281 - val_accuracy: 0.8856\n",
            "Epoch 10/25\n",
            "55000/55000 [==============================] - 6s 104us/sample - loss: 0.2613 - accuracy: 0.9071 - val_loss: 0.3305 - val_accuracy: 0.8842\n",
            "Epoch 11/25\n",
            "55000/55000 [==============================] - 6s 105us/sample - loss: 0.2555 - accuracy: 0.9096 - val_loss: 0.3260 - val_accuracy: 0.8874\n",
            "Epoch 12/25\n",
            "55000/55000 [==============================] - 6s 106us/sample - loss: 0.2503 - accuracy: 0.9113 - val_loss: 0.3245 - val_accuracy: 0.8878\n",
            "Epoch 13/25\n",
            "55000/55000 [==============================] - 6s 104us/sample - loss: 0.2457 - accuracy: 0.9134 - val_loss: 0.3241 - val_accuracy: 0.8872\n",
            "Epoch 14/25\n",
            "55000/55000 [==============================] - 6s 105us/sample - loss: 0.2417 - accuracy: 0.9144 - val_loss: 0.3236 - val_accuracy: 0.8868\n",
            "Epoch 15/25\n",
            "55000/55000 [==============================] - 6s 105us/sample - loss: 0.2381 - accuracy: 0.9167 - val_loss: 0.3195 - val_accuracy: 0.8882\n",
            "Epoch 16/25\n",
            "55000/55000 [==============================] - 6s 105us/sample - loss: 0.2347 - accuracy: 0.9173 - val_loss: 0.3206 - val_accuracy: 0.8864\n",
            "Epoch 17/25\n",
            "55000/55000 [==============================] - 6s 105us/sample - loss: 0.2322 - accuracy: 0.9186 - val_loss: 0.3181 - val_accuracy: 0.8880\n",
            "Epoch 18/25\n",
            "55000/55000 [==============================] - 6s 105us/sample - loss: 0.2292 - accuracy: 0.9193 - val_loss: 0.3206 - val_accuracy: 0.8890\n",
            "Epoch 19/25\n",
            "55000/55000 [==============================] - 6s 105us/sample - loss: 0.2272 - accuracy: 0.9202 - val_loss: 0.3194 - val_accuracy: 0.8876\n",
            "Epoch 20/25\n",
            "55000/55000 [==============================] - 6s 105us/sample - loss: 0.2252 - accuracy: 0.9214 - val_loss: 0.3178 - val_accuracy: 0.8880\n",
            "Epoch 21/25\n",
            "55000/55000 [==============================] - 6s 104us/sample - loss: 0.2235 - accuracy: 0.9214 - val_loss: 0.3170 - val_accuracy: 0.8900\n",
            "Epoch 22/25\n",
            "55000/55000 [==============================] - 6s 105us/sample - loss: 0.2218 - accuracy: 0.9227 - val_loss: 0.3171 - val_accuracy: 0.8880\n",
            "Epoch 23/25\n",
            "55000/55000 [==============================] - 6s 104us/sample - loss: 0.2205 - accuracy: 0.9227 - val_loss: 0.3167 - val_accuracy: 0.8884\n",
            "Epoch 24/25\n",
            "55000/55000 [==============================] - 6s 104us/sample - loss: 0.2192 - accuracy: 0.9240 - val_loss: 0.3173 - val_accuracy: 0.8894\n",
            "Epoch 25/25\n",
            "55000/55000 [==============================] - 6s 104us/sample - loss: 0.2183 - accuracy: 0.9238 - val_loss: 0.3166 - val_accuracy: 0.8900\n"
          ],
          "name": "stdout"
        }
      ]
    }
  ]
}